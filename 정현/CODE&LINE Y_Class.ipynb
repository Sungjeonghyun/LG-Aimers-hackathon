{
 "cells": [
  {
   "cell_type": "code",
   "execution_count": 123,
   "id": "1a09a960",
   "metadata": {},
   "outputs": [],
   "source": [
    "import warnings\n",
    "warnings.filterwarnings('ignore')\n",
    "from IPython.display import clear_output\n",
    "\n",
    "import random\n",
    "random.seed(56)\n",
    "\n",
    "import pandas as pd\n",
    "import numpy as np\n",
    "import matplotlib.pyplot as plt\n",
    "from pylab import rcParams\n",
    "plt.style.use('fivethirtyeight')\n",
    "plt.rc(\"font\", family=\"Malgun Gothic\")\n",
    "plt.rcParams['axes.unicode_minus'] = False\n",
    "%matplotlib inline\n",
    "from datetime import datetime as dt\n",
    "from sklearn.model_selection import StratifiedKFold\n",
    "\n",
    "import lightgbm\n",
    "import optuna\n",
    "from sklearn.metrics import f1_score\n",
    "from sklearn.preprocessing import LabelEncoder\n",
    "from sklearn.decomposition import PCA"
   ]
  },
  {
   "cell_type": "markdown",
   "id": "067dbea3",
   "metadata": {},
   "source": [
    "## Dataset"
   ]
  },
  {
   "cell_type": "code",
   "execution_count": 185,
   "id": "dbaff255",
   "metadata": {},
   "outputs": [
    {
     "data": {
      "text/html": [
       "<div>\n",
       "<style scoped>\n",
       "    .dataframe tbody tr th:only-of-type {\n",
       "        vertical-align: middle;\n",
       "    }\n",
       "\n",
       "    .dataframe tbody tr th {\n",
       "        vertical-align: top;\n",
       "    }\n",
       "\n",
       "    .dataframe thead th {\n",
       "        text-align: right;\n",
       "    }\n",
       "</style>\n",
       "<table border=\"1\" class=\"dataframe\">\n",
       "  <thead>\n",
       "    <tr style=\"text-align: right;\">\n",
       "      <th></th>\n",
       "      <th>PRODUCT_ID</th>\n",
       "      <th>Y_Class</th>\n",
       "      <th>Y_Quality</th>\n",
       "      <th>TIMESTAMP</th>\n",
       "      <th>LINE</th>\n",
       "      <th>PRODUCT_CODE</th>\n",
       "      <th>X_1</th>\n",
       "      <th>X_2</th>\n",
       "      <th>X_3</th>\n",
       "      <th>X_4</th>\n",
       "      <th>...</th>\n",
       "      <th>X_2866</th>\n",
       "      <th>X_2867</th>\n",
       "      <th>X_2868</th>\n",
       "      <th>X_2869</th>\n",
       "      <th>X_2870</th>\n",
       "      <th>X_2871</th>\n",
       "      <th>X_2872</th>\n",
       "      <th>X_2873</th>\n",
       "      <th>X_2874</th>\n",
       "      <th>X_2875</th>\n",
       "    </tr>\n",
       "  </thead>\n",
       "  <tbody>\n",
       "    <tr>\n",
       "      <th>0</th>\n",
       "      <td>TRAIN_000</td>\n",
       "      <td>1</td>\n",
       "      <td>0.533433</td>\n",
       "      <td>2022-06-13 5:14</td>\n",
       "      <td>T050304</td>\n",
       "      <td>A_31</td>\n",
       "      <td>NaN</td>\n",
       "      <td>NaN</td>\n",
       "      <td>NaN</td>\n",
       "      <td>NaN</td>\n",
       "      <td>...</td>\n",
       "      <td>39.34</td>\n",
       "      <td>40.89</td>\n",
       "      <td>32.56</td>\n",
       "      <td>34.09</td>\n",
       "      <td>77.77</td>\n",
       "      <td>NaN</td>\n",
       "      <td>NaN</td>\n",
       "      <td>NaN</td>\n",
       "      <td>NaN</td>\n",
       "      <td>NaN</td>\n",
       "    </tr>\n",
       "    <tr>\n",
       "      <th>1</th>\n",
       "      <td>TRAIN_001</td>\n",
       "      <td>2</td>\n",
       "      <td>0.541819</td>\n",
       "      <td>2022-06-13 5:22</td>\n",
       "      <td>T050307</td>\n",
       "      <td>A_31</td>\n",
       "      <td>NaN</td>\n",
       "      <td>NaN</td>\n",
       "      <td>NaN</td>\n",
       "      <td>NaN</td>\n",
       "      <td>...</td>\n",
       "      <td>38.89</td>\n",
       "      <td>42.82</td>\n",
       "      <td>43.92</td>\n",
       "      <td>35.34</td>\n",
       "      <td>72.55</td>\n",
       "      <td>NaN</td>\n",
       "      <td>NaN</td>\n",
       "      <td>NaN</td>\n",
       "      <td>NaN</td>\n",
       "      <td>NaN</td>\n",
       "    </tr>\n",
       "    <tr>\n",
       "      <th>2</th>\n",
       "      <td>TRAIN_002</td>\n",
       "      <td>1</td>\n",
       "      <td>0.531267</td>\n",
       "      <td>2022-06-13 5:30</td>\n",
       "      <td>T050304</td>\n",
       "      <td>A_31</td>\n",
       "      <td>NaN</td>\n",
       "      <td>NaN</td>\n",
       "      <td>NaN</td>\n",
       "      <td>NaN</td>\n",
       "      <td>...</td>\n",
       "      <td>39.19</td>\n",
       "      <td>36.65</td>\n",
       "      <td>42.47</td>\n",
       "      <td>36.53</td>\n",
       "      <td>78.35</td>\n",
       "      <td>NaN</td>\n",
       "      <td>NaN</td>\n",
       "      <td>NaN</td>\n",
       "      <td>NaN</td>\n",
       "      <td>NaN</td>\n",
       "    </tr>\n",
       "    <tr>\n",
       "      <th>3</th>\n",
       "      <td>TRAIN_003</td>\n",
       "      <td>2</td>\n",
       "      <td>0.537325</td>\n",
       "      <td>2022-06-13 5:39</td>\n",
       "      <td>T050307</td>\n",
       "      <td>A_31</td>\n",
       "      <td>NaN</td>\n",
       "      <td>NaN</td>\n",
       "      <td>NaN</td>\n",
       "      <td>NaN</td>\n",
       "      <td>...</td>\n",
       "      <td>37.74</td>\n",
       "      <td>39.17</td>\n",
       "      <td>52.17</td>\n",
       "      <td>30.58</td>\n",
       "      <td>71.78</td>\n",
       "      <td>NaN</td>\n",
       "      <td>NaN</td>\n",
       "      <td>NaN</td>\n",
       "      <td>NaN</td>\n",
       "      <td>NaN</td>\n",
       "    </tr>\n",
       "    <tr>\n",
       "      <th>4</th>\n",
       "      <td>TRAIN_004</td>\n",
       "      <td>1</td>\n",
       "      <td>0.531590</td>\n",
       "      <td>2022-06-13 5:47</td>\n",
       "      <td>T050304</td>\n",
       "      <td>A_31</td>\n",
       "      <td>NaN</td>\n",
       "      <td>NaN</td>\n",
       "      <td>NaN</td>\n",
       "      <td>NaN</td>\n",
       "      <td>...</td>\n",
       "      <td>38.70</td>\n",
       "      <td>41.89</td>\n",
       "      <td>46.93</td>\n",
       "      <td>33.09</td>\n",
       "      <td>76.97</td>\n",
       "      <td>NaN</td>\n",
       "      <td>NaN</td>\n",
       "      <td>NaN</td>\n",
       "      <td>NaN</td>\n",
       "      <td>NaN</td>\n",
       "    </tr>\n",
       "    <tr>\n",
       "      <th>...</th>\n",
       "      <td>...</td>\n",
       "      <td>...</td>\n",
       "      <td>...</td>\n",
       "      <td>...</td>\n",
       "      <td>...</td>\n",
       "      <td>...</td>\n",
       "      <td>...</td>\n",
       "      <td>...</td>\n",
       "      <td>...</td>\n",
       "      <td>...</td>\n",
       "      <td>...</td>\n",
       "      <td>...</td>\n",
       "      <td>...</td>\n",
       "      <td>...</td>\n",
       "      <td>...</td>\n",
       "      <td>...</td>\n",
       "      <td>...</td>\n",
       "      <td>...</td>\n",
       "      <td>...</td>\n",
       "      <td>...</td>\n",
       "      <td>...</td>\n",
       "    </tr>\n",
       "    <tr>\n",
       "      <th>593</th>\n",
       "      <td>TRAIN_593</td>\n",
       "      <td>1</td>\n",
       "      <td>0.526546</td>\n",
       "      <td>2022-09-08 14:30</td>\n",
       "      <td>T100306</td>\n",
       "      <td>T_31</td>\n",
       "      <td>2.0</td>\n",
       "      <td>95.0</td>\n",
       "      <td>0.0</td>\n",
       "      <td>45.0</td>\n",
       "      <td>...</td>\n",
       "      <td>NaN</td>\n",
       "      <td>NaN</td>\n",
       "      <td>NaN</td>\n",
       "      <td>NaN</td>\n",
       "      <td>NaN</td>\n",
       "      <td>NaN</td>\n",
       "      <td>NaN</td>\n",
       "      <td>NaN</td>\n",
       "      <td>NaN</td>\n",
       "      <td>NaN</td>\n",
       "    </tr>\n",
       "    <tr>\n",
       "      <th>594</th>\n",
       "      <td>TRAIN_594</td>\n",
       "      <td>0</td>\n",
       "      <td>0.524022</td>\n",
       "      <td>2022-09-08 22:38</td>\n",
       "      <td>T050304</td>\n",
       "      <td>A_31</td>\n",
       "      <td>NaN</td>\n",
       "      <td>NaN</td>\n",
       "      <td>NaN</td>\n",
       "      <td>NaN</td>\n",
       "      <td>...</td>\n",
       "      <td>49.47</td>\n",
       "      <td>53.07</td>\n",
       "      <td>50.89</td>\n",
       "      <td>55.10</td>\n",
       "      <td>66.49</td>\n",
       "      <td>1.0</td>\n",
       "      <td>NaN</td>\n",
       "      <td>NaN</td>\n",
       "      <td>NaN</td>\n",
       "      <td>NaN</td>\n",
       "    </tr>\n",
       "    <tr>\n",
       "      <th>595</th>\n",
       "      <td>TRAIN_595</td>\n",
       "      <td>0</td>\n",
       "      <td>0.521289</td>\n",
       "      <td>2022-09-08 22:47</td>\n",
       "      <td>T050304</td>\n",
       "      <td>A_31</td>\n",
       "      <td>NaN</td>\n",
       "      <td>NaN</td>\n",
       "      <td>NaN</td>\n",
       "      <td>NaN</td>\n",
       "      <td>...</td>\n",
       "      <td>NaN</td>\n",
       "      <td>NaN</td>\n",
       "      <td>NaN</td>\n",
       "      <td>NaN</td>\n",
       "      <td>NaN</td>\n",
       "      <td>1.0</td>\n",
       "      <td>NaN</td>\n",
       "      <td>NaN</td>\n",
       "      <td>NaN</td>\n",
       "      <td>NaN</td>\n",
       "    </tr>\n",
       "    <tr>\n",
       "      <th>596</th>\n",
       "      <td>TRAIN_596</td>\n",
       "      <td>1</td>\n",
       "      <td>0.531375</td>\n",
       "      <td>2022-09-08 14:38</td>\n",
       "      <td>T100304</td>\n",
       "      <td>O_31</td>\n",
       "      <td>40.0</td>\n",
       "      <td>94.0</td>\n",
       "      <td>0.0</td>\n",
       "      <td>45.0</td>\n",
       "      <td>...</td>\n",
       "      <td>NaN</td>\n",
       "      <td>NaN</td>\n",
       "      <td>NaN</td>\n",
       "      <td>NaN</td>\n",
       "      <td>NaN</td>\n",
       "      <td>NaN</td>\n",
       "      <td>NaN</td>\n",
       "      <td>NaN</td>\n",
       "      <td>NaN</td>\n",
       "      <td>NaN</td>\n",
       "    </tr>\n",
       "    <tr>\n",
       "      <th>597</th>\n",
       "      <td>TRAIN_597</td>\n",
       "      <td>1</td>\n",
       "      <td>0.533702</td>\n",
       "      <td>2022-09-08 14:46</td>\n",
       "      <td>T100306</td>\n",
       "      <td>O_31</td>\n",
       "      <td>21.0</td>\n",
       "      <td>87.0</td>\n",
       "      <td>0.0</td>\n",
       "      <td>45.0</td>\n",
       "      <td>...</td>\n",
       "      <td>NaN</td>\n",
       "      <td>NaN</td>\n",
       "      <td>NaN</td>\n",
       "      <td>NaN</td>\n",
       "      <td>NaN</td>\n",
       "      <td>NaN</td>\n",
       "      <td>NaN</td>\n",
       "      <td>NaN</td>\n",
       "      <td>NaN</td>\n",
       "      <td>NaN</td>\n",
       "    </tr>\n",
       "  </tbody>\n",
       "</table>\n",
       "<p>598 rows × 2881 columns</p>\n",
       "</div>"
      ],
      "text/plain": [
       "    PRODUCT_ID  Y_Class  Y_Quality         TIMESTAMP     LINE PRODUCT_CODE  \\\n",
       "0    TRAIN_000        1   0.533433   2022-06-13 5:14  T050304         A_31   \n",
       "1    TRAIN_001        2   0.541819   2022-06-13 5:22  T050307         A_31   \n",
       "2    TRAIN_002        1   0.531267   2022-06-13 5:30  T050304         A_31   \n",
       "3    TRAIN_003        2   0.537325   2022-06-13 5:39  T050307         A_31   \n",
       "4    TRAIN_004        1   0.531590   2022-06-13 5:47  T050304         A_31   \n",
       "..         ...      ...        ...               ...      ...          ...   \n",
       "593  TRAIN_593        1   0.526546  2022-09-08 14:30  T100306         T_31   \n",
       "594  TRAIN_594        0   0.524022  2022-09-08 22:38  T050304         A_31   \n",
       "595  TRAIN_595        0   0.521289  2022-09-08 22:47  T050304         A_31   \n",
       "596  TRAIN_596        1   0.531375  2022-09-08 14:38  T100304         O_31   \n",
       "597  TRAIN_597        1   0.533702  2022-09-08 14:46  T100306         O_31   \n",
       "\n",
       "      X_1   X_2  X_3   X_4  ...  X_2866  X_2867  X_2868  X_2869  X_2870  \\\n",
       "0     NaN   NaN  NaN   NaN  ...   39.34   40.89   32.56   34.09   77.77   \n",
       "1     NaN   NaN  NaN   NaN  ...   38.89   42.82   43.92   35.34   72.55   \n",
       "2     NaN   NaN  NaN   NaN  ...   39.19   36.65   42.47   36.53   78.35   \n",
       "3     NaN   NaN  NaN   NaN  ...   37.74   39.17   52.17   30.58   71.78   \n",
       "4     NaN   NaN  NaN   NaN  ...   38.70   41.89   46.93   33.09   76.97   \n",
       "..    ...   ...  ...   ...  ...     ...     ...     ...     ...     ...   \n",
       "593   2.0  95.0  0.0  45.0  ...     NaN     NaN     NaN     NaN     NaN   \n",
       "594   NaN   NaN  NaN   NaN  ...   49.47   53.07   50.89   55.10   66.49   \n",
       "595   NaN   NaN  NaN   NaN  ...     NaN     NaN     NaN     NaN     NaN   \n",
       "596  40.0  94.0  0.0  45.0  ...     NaN     NaN     NaN     NaN     NaN   \n",
       "597  21.0  87.0  0.0  45.0  ...     NaN     NaN     NaN     NaN     NaN   \n",
       "\n",
       "     X_2871  X_2872  X_2873  X_2874  X_2875  \n",
       "0       NaN     NaN     NaN     NaN     NaN  \n",
       "1       NaN     NaN     NaN     NaN     NaN  \n",
       "2       NaN     NaN     NaN     NaN     NaN  \n",
       "3       NaN     NaN     NaN     NaN     NaN  \n",
       "4       NaN     NaN     NaN     NaN     NaN  \n",
       "..      ...     ...     ...     ...     ...  \n",
       "593     NaN     NaN     NaN     NaN     NaN  \n",
       "594     1.0     NaN     NaN     NaN     NaN  \n",
       "595     1.0     NaN     NaN     NaN     NaN  \n",
       "596     NaN     NaN     NaN     NaN     NaN  \n",
       "597     NaN     NaN     NaN     NaN     NaN  \n",
       "\n",
       "[598 rows x 2881 columns]"
      ]
     },
     "execution_count": 185,
     "metadata": {},
     "output_type": "execute_result"
    }
   ],
   "source": [
    "# 학습 데이터\n",
    "train = pd.read_csv('./train.csv')\n",
    "train"
   ]
  },
  {
   "cell_type": "markdown",
   "id": "ddd414cd",
   "metadata": {},
   "source": [
    "* PRODUCT_ID : 제품의 고유 ID\n",
    "* Y_Class : 제품 품질 상태(Target) (0 : 기준 미달, 1 : 적합, 2 : 기준 초과)\n",
    "* Y_Quality : 제품 품질 수치\n",
    "* TIMESTAMP : 제품이 공정에 들어간 시각\n",
    "* LINE : 제품이 들어간 공정 LINE 종류 ('T050304', 'T050307', 'T100304', 'T100306', 'T010306', 'T010305' 존재)\n",
    "* PRODUCT_CODE : 제품의 CODE 번호 ('A_31', 'T_31', 'O_31' 존재)\n",
    "* X_1 ~ X_2875 : 공정 과정에서 추출되어 비식별화된 변수"
   ]
  },
  {
   "cell_type": "code",
   "execution_count": 211,
   "id": "67e06c29",
   "metadata": {},
   "outputs": [
    {
     "data": {
      "text/html": [
       "<div>\n",
       "<style scoped>\n",
       "    .dataframe tbody tr th:only-of-type {\n",
       "        vertical-align: middle;\n",
       "    }\n",
       "\n",
       "    .dataframe tbody tr th {\n",
       "        vertical-align: top;\n",
       "    }\n",
       "\n",
       "    .dataframe thead th {\n",
       "        text-align: right;\n",
       "    }\n",
       "</style>\n",
       "<table border=\"1\" class=\"dataframe\">\n",
       "  <thead>\n",
       "    <tr style=\"text-align: right;\">\n",
       "      <th></th>\n",
       "      <th>PRODUCT_ID</th>\n",
       "      <th>TIMESTAMP</th>\n",
       "      <th>LINE</th>\n",
       "      <th>PRODUCT_CODE</th>\n",
       "      <th>X_1</th>\n",
       "      <th>X_2</th>\n",
       "      <th>X_3</th>\n",
       "      <th>X_4</th>\n",
       "      <th>X_5</th>\n",
       "      <th>X_6</th>\n",
       "      <th>...</th>\n",
       "      <th>X_2866</th>\n",
       "      <th>X_2867</th>\n",
       "      <th>X_2868</th>\n",
       "      <th>X_2869</th>\n",
       "      <th>X_2870</th>\n",
       "      <th>X_2871</th>\n",
       "      <th>X_2872</th>\n",
       "      <th>X_2873</th>\n",
       "      <th>X_2874</th>\n",
       "      <th>X_2875</th>\n",
       "    </tr>\n",
       "  </thead>\n",
       "  <tbody>\n",
       "    <tr>\n",
       "      <th>0</th>\n",
       "      <td>TEST_000</td>\n",
       "      <td>2022-09-09 2:01</td>\n",
       "      <td>T100306</td>\n",
       "      <td>T_31</td>\n",
       "      <td>2.0</td>\n",
       "      <td>94.0</td>\n",
       "      <td>0.0</td>\n",
       "      <td>45.0</td>\n",
       "      <td>10.0</td>\n",
       "      <td>0.0</td>\n",
       "      <td>...</td>\n",
       "      <td>NaN</td>\n",
       "      <td>NaN</td>\n",
       "      <td>NaN</td>\n",
       "      <td>NaN</td>\n",
       "      <td>NaN</td>\n",
       "      <td>NaN</td>\n",
       "      <td>NaN</td>\n",
       "      <td>NaN</td>\n",
       "      <td>NaN</td>\n",
       "      <td>NaN</td>\n",
       "    </tr>\n",
       "    <tr>\n",
       "      <th>1</th>\n",
       "      <td>TEST_001</td>\n",
       "      <td>2022-09-09 2:09</td>\n",
       "      <td>T100304</td>\n",
       "      <td>T_31</td>\n",
       "      <td>2.0</td>\n",
       "      <td>93.0</td>\n",
       "      <td>0.0</td>\n",
       "      <td>45.0</td>\n",
       "      <td>11.0</td>\n",
       "      <td>0.0</td>\n",
       "      <td>...</td>\n",
       "      <td>NaN</td>\n",
       "      <td>NaN</td>\n",
       "      <td>NaN</td>\n",
       "      <td>NaN</td>\n",
       "      <td>NaN</td>\n",
       "      <td>NaN</td>\n",
       "      <td>NaN</td>\n",
       "      <td>NaN</td>\n",
       "      <td>NaN</td>\n",
       "      <td>NaN</td>\n",
       "    </tr>\n",
       "    <tr>\n",
       "      <th>2</th>\n",
       "      <td>TEST_002</td>\n",
       "      <td>2022-09-09 8:42</td>\n",
       "      <td>T100304</td>\n",
       "      <td>T_31</td>\n",
       "      <td>2.0</td>\n",
       "      <td>95.0</td>\n",
       "      <td>0.0</td>\n",
       "      <td>45.0</td>\n",
       "      <td>11.0</td>\n",
       "      <td>0.0</td>\n",
       "      <td>...</td>\n",
       "      <td>NaN</td>\n",
       "      <td>NaN</td>\n",
       "      <td>NaN</td>\n",
       "      <td>NaN</td>\n",
       "      <td>NaN</td>\n",
       "      <td>NaN</td>\n",
       "      <td>NaN</td>\n",
       "      <td>NaN</td>\n",
       "      <td>NaN</td>\n",
       "      <td>NaN</td>\n",
       "    </tr>\n",
       "    <tr>\n",
       "      <th>3</th>\n",
       "      <td>TEST_003</td>\n",
       "      <td>2022-09-09 10:56</td>\n",
       "      <td>T010305</td>\n",
       "      <td>A_31</td>\n",
       "      <td>NaN</td>\n",
       "      <td>NaN</td>\n",
       "      <td>NaN</td>\n",
       "      <td>NaN</td>\n",
       "      <td>NaN</td>\n",
       "      <td>NaN</td>\n",
       "      <td>...</td>\n",
       "      <td>NaN</td>\n",
       "      <td>NaN</td>\n",
       "      <td>NaN</td>\n",
       "      <td>NaN</td>\n",
       "      <td>NaN</td>\n",
       "      <td>NaN</td>\n",
       "      <td>NaN</td>\n",
       "      <td>NaN</td>\n",
       "      <td>NaN</td>\n",
       "      <td>NaN</td>\n",
       "    </tr>\n",
       "    <tr>\n",
       "      <th>4</th>\n",
       "      <td>TEST_004</td>\n",
       "      <td>2022-09-09 11:04</td>\n",
       "      <td>T010306</td>\n",
       "      <td>A_31</td>\n",
       "      <td>NaN</td>\n",
       "      <td>NaN</td>\n",
       "      <td>NaN</td>\n",
       "      <td>NaN</td>\n",
       "      <td>NaN</td>\n",
       "      <td>NaN</td>\n",
       "      <td>...</td>\n",
       "      <td>NaN</td>\n",
       "      <td>NaN</td>\n",
       "      <td>NaN</td>\n",
       "      <td>NaN</td>\n",
       "      <td>NaN</td>\n",
       "      <td>NaN</td>\n",
       "      <td>NaN</td>\n",
       "      <td>NaN</td>\n",
       "      <td>NaN</td>\n",
       "      <td>NaN</td>\n",
       "    </tr>\n",
       "  </tbody>\n",
       "</table>\n",
       "<p>5 rows × 2879 columns</p>\n",
       "</div>"
      ],
      "text/plain": [
       "  PRODUCT_ID         TIMESTAMP     LINE PRODUCT_CODE  X_1   X_2  X_3   X_4  \\\n",
       "0   TEST_000   2022-09-09 2:01  T100306         T_31  2.0  94.0  0.0  45.0   \n",
       "1   TEST_001   2022-09-09 2:09  T100304         T_31  2.0  93.0  0.0  45.0   \n",
       "2   TEST_002   2022-09-09 8:42  T100304         T_31  2.0  95.0  0.0  45.0   \n",
       "3   TEST_003  2022-09-09 10:56  T010305         A_31  NaN   NaN  NaN   NaN   \n",
       "4   TEST_004  2022-09-09 11:04  T010306         A_31  NaN   NaN  NaN   NaN   \n",
       "\n",
       "    X_5  X_6  ...  X_2866  X_2867  X_2868  X_2869  X_2870  X_2871  X_2872  \\\n",
       "0  10.0  0.0  ...     NaN     NaN     NaN     NaN     NaN     NaN     NaN   \n",
       "1  11.0  0.0  ...     NaN     NaN     NaN     NaN     NaN     NaN     NaN   \n",
       "2  11.0  0.0  ...     NaN     NaN     NaN     NaN     NaN     NaN     NaN   \n",
       "3   NaN  NaN  ...     NaN     NaN     NaN     NaN     NaN     NaN     NaN   \n",
       "4   NaN  NaN  ...     NaN     NaN     NaN     NaN     NaN     NaN     NaN   \n",
       "\n",
       "   X_2873  X_2874  X_2875  \n",
       "0     NaN     NaN     NaN  \n",
       "1     NaN     NaN     NaN  \n",
       "2     NaN     NaN     NaN  \n",
       "3     NaN     NaN     NaN  \n",
       "4     NaN     NaN     NaN  \n",
       "\n",
       "[5 rows x 2879 columns]"
      ]
     },
     "execution_count": 211,
     "metadata": {},
     "output_type": "execute_result"
    }
   ],
   "source": [
    "# 검증 데이터\n",
    "test = pd.read_csv('./test.csv')\n",
    "test.head()"
   ]
  },
  {
   "cell_type": "markdown",
   "id": "699e445d",
   "metadata": {},
   "source": [
    "* PRODUCT_ID : 제품의 고유 ID\n",
    "* TIMESTAMP : 제품이 공정에 들어간 시각\n",
    "* LINE : 제품이 들어간 공정 LINE 종류 ('T050304', 'T050307', 'T100304', 'T100306', 'T010306', 'T010305' 존재)\n",
    "* PRODUCT_CODE : 제품의 CODE 번호 ('A_31', 'T_31', 'O_31' 존재)\n",
    "* X_1 ~ X_2875 : 공정 과정에서 추출되어 비식별화된 변수"
   ]
  },
  {
   "cell_type": "code",
   "execution_count": 187,
   "id": "c4c5d197",
   "metadata": {},
   "outputs": [
    {
     "data": {
      "text/html": [
       "<div>\n",
       "<style scoped>\n",
       "    .dataframe tbody tr th:only-of-type {\n",
       "        vertical-align: middle;\n",
       "    }\n",
       "\n",
       "    .dataframe tbody tr th {\n",
       "        vertical-align: top;\n",
       "    }\n",
       "\n",
       "    .dataframe thead th {\n",
       "        text-align: right;\n",
       "    }\n",
       "</style>\n",
       "<table border=\"1\" class=\"dataframe\">\n",
       "  <thead>\n",
       "    <tr style=\"text-align: right;\">\n",
       "      <th></th>\n",
       "      <th>PRODUCT_ID</th>\n",
       "      <th>Y_Class</th>\n",
       "    </tr>\n",
       "  </thead>\n",
       "  <tbody>\n",
       "    <tr>\n",
       "      <th>0</th>\n",
       "      <td>TEST_000</td>\n",
       "      <td>0</td>\n",
       "    </tr>\n",
       "    <tr>\n",
       "      <th>1</th>\n",
       "      <td>TEST_001</td>\n",
       "      <td>0</td>\n",
       "    </tr>\n",
       "    <tr>\n",
       "      <th>2</th>\n",
       "      <td>TEST_002</td>\n",
       "      <td>0</td>\n",
       "    </tr>\n",
       "    <tr>\n",
       "      <th>3</th>\n",
       "      <td>TEST_003</td>\n",
       "      <td>0</td>\n",
       "    </tr>\n",
       "    <tr>\n",
       "      <th>4</th>\n",
       "      <td>TEST_004</td>\n",
       "      <td>0</td>\n",
       "    </tr>\n",
       "  </tbody>\n",
       "</table>\n",
       "</div>"
      ],
      "text/plain": [
       "  PRODUCT_ID  Y_Class\n",
       "0   TEST_000        0\n",
       "1   TEST_001        0\n",
       "2   TEST_002        0\n",
       "3   TEST_003        0\n",
       "4   TEST_004        0"
      ]
     },
     "execution_count": 187,
     "metadata": {},
     "output_type": "execute_result"
    }
   ],
   "source": [
    "# 제출 양식\n",
    "subm = pd.read_csv('./sample_submission.csv')\n",
    "subm.head()"
   ]
  },
  {
   "cell_type": "markdown",
   "id": "f2f95b4b",
   "metadata": {},
   "source": [
    "* PRODUCT_ID : 제품의 고유 ID\n",
    "* Y_Class : 예측한 제품 품질 상태 (0 : 기준 미달, 1 : 적합, 2 : 기준 초과)"
   ]
  },
  {
   "cell_type": "markdown",
   "id": "8587ffdc",
   "metadata": {},
   "source": [
    "### astype"
   ]
  },
  {
   "cell_type": "code",
   "execution_count": 188,
   "id": "70c2531b",
   "metadata": {},
   "outputs": [
    {
     "data": {
      "text/plain": [
       "PRODUCT_ID     object\n",
       "Y_Class         int64\n",
       "Y_Quality     float64\n",
       "TIMESTAMP      object\n",
       "LINE           object\n",
       "               ...   \n",
       "X_2871        float64\n",
       "X_2872        float64\n",
       "X_2873        float64\n",
       "X_2874        float64\n",
       "X_2875        float64\n",
       "Length: 2881, dtype: object"
      ]
     },
     "execution_count": 188,
     "metadata": {},
     "output_type": "execute_result"
    }
   ],
   "source": [
    "train.dtypes"
   ]
  },
  {
   "cell_type": "code",
   "execution_count": 189,
   "id": "31ec8b13",
   "metadata": {},
   "outputs": [],
   "source": [
    "train['LINE'] = train['LINE'].astype('category')\n",
    "train['PRODUCT_CODE'] = train['PRODUCT_CODE'].astype('category')"
   ]
  },
  {
   "cell_type": "markdown",
   "id": "ab3eff39",
   "metadata": {},
   "source": [
    "### Y Class & Y Quality"
   ]
  },
  {
   "cell_type": "code",
   "execution_count": 190,
   "id": "7da007fb",
   "metadata": {},
   "outputs": [
    {
     "data": {
      "image/png": "[encoded data removed]",
      "text/plain": [
       "<Figure size 1080x504 with 1 Axes>"
      ]
     },
     "metadata": {
      "needs_background": "light"
     },
     "output_type": "display_data"
    }
   ],
   "source": [
    "rcParams['figure.figsize'] = 15, 7\n",
    "\n",
    "fig, ax = plt.subplots()\n",
    "\n",
    "ax.boxplot([train[train['Y_Class']==0].Y_Quality, train[train['Y_Class']==1].Y_Quality, train[train['Y_Class']==2].Y_Quality])\n",
    "ax.set_ylim(0.5, 0.6)\n",
    "ax.set_xlabel('Y_Class')\n",
    "ax.set_ylabel('Y_Quality')\n",
    "plt.show()"
   ]
  },
  {
   "cell_type": "code",
   "execution_count": 191,
   "id": "e1f819b9",
   "metadata": {},
   "outputs": [
    {
     "name": "stdout",
     "output_type": "stream",
     "text": [
      "Class : 0, Quality range : 0.500855556 ~ 0.525066667\n",
      "Class : 1, Quality range : 0.525085714 ~ 0.534842857\n",
      "Class : 2, Quality range : 0.534950794 ~ 0.57884127\n"
     ]
    }
   ],
   "source": [
    "# Class는 Quality를 3등분한 결과\n",
    "for i in range(3):\n",
    "    tmp = train[train['Y_Class']==i].Y_Quality\n",
    "    print(f'Class : {i}, Quality range : {min(tmp)} ~ {max(tmp)}')"
   ]
  },
  {
   "cell_type": "code",
   "execution_count": 192,
   "id": "17d28aea",
   "metadata": {},
   "outputs": [
    {
     "data": {
      "text/plain": [
       "1    407\n",
       "2    103\n",
       "0     88\n",
       "Name: Y_Class, dtype: int64"
      ]
     },
     "execution_count": 192,
     "metadata": {},
     "output_type": "execute_result"
    }
   ],
   "source": [
    "train.Y_Class.value_counts()"
   ]
  },
  {
   "cell_type": "markdown",
   "id": "df797904",
   "metadata": {},
   "source": [
    "### Product Code value counts"
   ]
  },
  {
   "cell_type": "code",
   "execution_count": 193,
   "id": "1689a206",
   "metadata": {},
   "outputs": [
    {
     "data": {
      "text/plain": [
       "T_31    343\n",
       "A_31    249\n",
       "O_31      6\n",
       "Name: PRODUCT_CODE, dtype: int64"
      ]
     },
     "execution_count": 193,
     "metadata": {},
     "output_type": "execute_result"
    }
   ],
   "source": [
    "# Product Code는 3가지로 이루어져 있다.\n",
    "train['PRODUCT_CODE'].value_counts()"
   ]
  },
  {
   "cell_type": "markdown",
   "id": "b5b16d45",
   "metadata": {},
   "source": [
    "### Line value counts"
   ]
  },
  {
   "cell_type": "code",
   "execution_count": 194,
   "id": "0032acf1",
   "metadata": {},
   "outputs": [
    {
     "data": {
      "text/plain": [
       "T100304    175\n",
       "T100306    174\n",
       "T050304     78\n",
       "T010306     70\n",
       "T010305     59\n",
       "T050307     42\n",
       "Name: LINE, dtype: int64"
      ]
     },
     "execution_count": 194,
     "metadata": {},
     "output_type": "execute_result"
    }
   ],
   "source": [
    "# Line은 6가지\n",
    "train['LINE'].value_counts()"
   ]
  },
  {
   "cell_type": "markdown",
   "id": "e075e254",
   "metadata": {},
   "source": [
    "### TimeStamp"
   ]
  },
  {
   "cell_type": "markdown",
   "id": "0012e18f",
   "metadata": {},
   "source": [
    "* 일, 시, 분 단위 모두 연속적이지 않으므로 활용할 수 없다. interpolate(보간)을 하기에도 너무 공백이 많다.\n",
    "* 단 월 단위는 quality의 감소세가 확인된다."
   ]
  },
  {
   "cell_type": "code",
   "execution_count": 195,
   "id": "1fa83cd9",
   "metadata": {},
   "outputs": [
    {
     "data": {
      "image/png": "[encoded data removed]",
      "text/plain": [
       "<Figure size 1080x1080 with 6 Axes>"
      ]
     },
     "metadata": {
      "needs_background": "light"
     },
     "output_type": "display_data"
    }
   ],
   "source": [
    "rcParams['figure.figsize'] = 15, 15\n",
    "\n",
    "for i, l in enumerate(train.LINE.unique()):\n",
    "    plt.subplot(len(train.LINE.unique()), 1, i+1)\n",
    "    tmp = train[train['LINE']==l]\n",
    "    tmp['TIMESTAMP'] = pd.to_datetime(tmp['TIMESTAMP']).dt.strftime('%m')\n",
    "    tmp = tmp.groupby('TIMESTAMP').mean()\n",
    "    plt.plot(tmp.index, tmp['Y_Quality'])\n",
    "    plt.title(l)\n",
    "plt.show()"
   ]
  },
  {
   "cell_type": "code",
   "execution_count": 196,
   "id": "981b887e",
   "metadata": {},
   "outputs": [
    {
     "data": {
      "image/png": "[encoded data removed]",
      "text/plain": [
       "<Figure size 1080x1080 with 3 Axes>"
      ]
     },
     "metadata": {
      "needs_background": "light"
     },
     "output_type": "display_data"
    }
   ],
   "source": [
    "rcParams['figure.figsize'] = 15, 15\n",
    "\n",
    "for i, l in enumerate(train['PRODUCT_CODE'].unique()):\n",
    "    plt.subplot(len(train.LINE.unique()), 1, i+1)\n",
    "    tmp = train[train['PRODUCT_CODE']==l]\n",
    "    tmp['TIMESTAMP'] = pd.to_datetime(tmp['TIMESTAMP']).dt.strftime('%m')\n",
    "    tmp = tmp.groupby('TIMESTAMP').mean()\n",
    "    plt.plot(tmp.index, tmp['Y_Quality'])\n",
    "    plt.title(l)\n",
    "plt.show()"
   ]
  },
  {
   "cell_type": "code",
   "execution_count": 197,
   "id": "a39dab1a",
   "metadata": {
    "scrolled": false
   },
   "outputs": [
    {
     "data": {
      "image/png": "[encoded data removed]",
      "text/plain": [
       "<Figure size 1080x1080 with 1 Axes>"
      ]
     },
     "metadata": {
      "needs_background": "light"
     },
     "output_type": "display_data"
    },
    {
     "data": {
      "image/png": "[encoded data removed]",
      "text/plain": [
       "<Figure size 1080x1080 with 1 Axes>"
      ]
     },
     "metadata": {
      "needs_background": "light"
     },
     "output_type": "display_data"
    },
    {
     "data": {
      "image/png": "[encoded data removed]",
      "text/plain": [
       "<Figure size 1080x1080 with 1 Axes>"
      ]
     },
     "metadata": {
      "needs_background": "light"
     },
     "output_type": "display_data"
    },
    {
     "data": {
      "image/png": "[encoded data removed]",
      "text/plain": [
       "<Figure size 1080x1080 with 1 Axes>"
      ]
     },
     "metadata": {
      "needs_background": "light"
     },
     "output_type": "display_data"
    },
    {
     "data": {
      "image/png": "[encoded data removed]",
      "text/plain": [
       "<Figure size 1080x1080 with 1 Axes>"
      ]
     },
     "metadata": {
      "needs_background": "light"
     },
     "output_type": "display_data"
    },
    {
     "data": {
      "image/png": "[encoded data removed]",
      "text/plain": [
       "<Figure size 1080x1080 with 1 Axes>"
      ]
     },
     "metadata": {
      "needs_background": "light"
     },
     "output_type": "display_data"
    }
   ],
   "source": [
    "rcParams['figure.figsize'] = 15, 15\n",
    "\n",
    "for i, l in enumerate(train.LINE.unique()):\n",
    "    for i, c in enumerate(['A_31', 'T_31']): # O_31은 표본이 너무 적어 제외\n",
    "        tmp = train[(train['PRODUCT_CODE']==c)&(train['LINE']==l)]\n",
    "        if len(tmp) == 0: continue\n",
    "        plt.subplot(len(train.LINE.unique())*len(train.PRODUCT_CODE.unique()), 1, i+1)\n",
    "        tmp['TIMESTAMP'] = pd.to_datetime(tmp['TIMESTAMP']).dt.strftime('%m')\n",
    "        tmp = tmp.groupby('TIMESTAMP').mean()\n",
    "        plt.plot(tmp.index, tmp['Y_Quality'])\n",
    "        plt.title(f'{l} & {c}')\n",
    "    plt.show()"
   ]
  },
  {
   "cell_type": "code",
   "execution_count": 198,
   "id": "83c5c4ba",
   "metadata": {},
   "outputs": [
    {
     "data": {
      "text/html": [
       "<div>\n",
       "<style scoped>\n",
       "    .dataframe tbody tr th:only-of-type {\n",
       "        vertical-align: middle;\n",
       "    }\n",
       "\n",
       "    .dataframe tbody tr th {\n",
       "        vertical-align: top;\n",
       "    }\n",
       "\n",
       "    .dataframe thead th {\n",
       "        text-align: right;\n",
       "    }\n",
       "</style>\n",
       "<table border=\"1\" class=\"dataframe\">\n",
       "  <thead>\n",
       "    <tr style=\"text-align: right;\">\n",
       "      <th></th>\n",
       "      <th>PRODUCT_ID</th>\n",
       "      <th>Y_Class</th>\n",
       "      <th>Y_Quality</th>\n",
       "      <th>TIMESTAMP</th>\n",
       "      <th>LINE</th>\n",
       "      <th>PRODUCT_CODE</th>\n",
       "      <th>X_1</th>\n",
       "      <th>X_2</th>\n",
       "      <th>X_3</th>\n",
       "      <th>X_4</th>\n",
       "      <th>...</th>\n",
       "      <th>X_2866</th>\n",
       "      <th>X_2867</th>\n",
       "      <th>X_2868</th>\n",
       "      <th>X_2869</th>\n",
       "      <th>X_2870</th>\n",
       "      <th>X_2871</th>\n",
       "      <th>X_2872</th>\n",
       "      <th>X_2873</th>\n",
       "      <th>X_2874</th>\n",
       "      <th>X_2875</th>\n",
       "    </tr>\n",
       "  </thead>\n",
       "  <tbody>\n",
       "    <tr>\n",
       "      <th>0</th>\n",
       "      <td>TRAIN_000</td>\n",
       "      <td>1</td>\n",
       "      <td>0.533433</td>\n",
       "      <td>6</td>\n",
       "      <td>T050304</td>\n",
       "      <td>A_31</td>\n",
       "      <td>NaN</td>\n",
       "      <td>NaN</td>\n",
       "      <td>NaN</td>\n",
       "      <td>NaN</td>\n",
       "      <td>...</td>\n",
       "      <td>39.34</td>\n",
       "      <td>40.89</td>\n",
       "      <td>32.56</td>\n",
       "      <td>34.09</td>\n",
       "      <td>77.77</td>\n",
       "      <td>NaN</td>\n",
       "      <td>NaN</td>\n",
       "      <td>NaN</td>\n",
       "      <td>NaN</td>\n",
       "      <td>NaN</td>\n",
       "    </tr>\n",
       "    <tr>\n",
       "      <th>1</th>\n",
       "      <td>TRAIN_001</td>\n",
       "      <td>2</td>\n",
       "      <td>0.541819</td>\n",
       "      <td>6</td>\n",
       "      <td>T050307</td>\n",
       "      <td>A_31</td>\n",
       "      <td>NaN</td>\n",
       "      <td>NaN</td>\n",
       "      <td>NaN</td>\n",
       "      <td>NaN</td>\n",
       "      <td>...</td>\n",
       "      <td>38.89</td>\n",
       "      <td>42.82</td>\n",
       "      <td>43.92</td>\n",
       "      <td>35.34</td>\n",
       "      <td>72.55</td>\n",
       "      <td>NaN</td>\n",
       "      <td>NaN</td>\n",
       "      <td>NaN</td>\n",
       "      <td>NaN</td>\n",
       "      <td>NaN</td>\n",
       "    </tr>\n",
       "    <tr>\n",
       "      <th>2</th>\n",
       "      <td>TRAIN_002</td>\n",
       "      <td>1</td>\n",
       "      <td>0.531267</td>\n",
       "      <td>6</td>\n",
       "      <td>T050304</td>\n",
       "      <td>A_31</td>\n",
       "      <td>NaN</td>\n",
       "      <td>NaN</td>\n",
       "      <td>NaN</td>\n",
       "      <td>NaN</td>\n",
       "      <td>...</td>\n",
       "      <td>39.19</td>\n",
       "      <td>36.65</td>\n",
       "      <td>42.47</td>\n",
       "      <td>36.53</td>\n",
       "      <td>78.35</td>\n",
       "      <td>NaN</td>\n",
       "      <td>NaN</td>\n",
       "      <td>NaN</td>\n",
       "      <td>NaN</td>\n",
       "      <td>NaN</td>\n",
       "    </tr>\n",
       "    <tr>\n",
       "      <th>3</th>\n",
       "      <td>TRAIN_003</td>\n",
       "      <td>2</td>\n",
       "      <td>0.537325</td>\n",
       "      <td>6</td>\n",
       "      <td>T050307</td>\n",
       "      <td>A_31</td>\n",
       "      <td>NaN</td>\n",
       "      <td>NaN</td>\n",
       "      <td>NaN</td>\n",
       "      <td>NaN</td>\n",
       "      <td>...</td>\n",
       "      <td>37.74</td>\n",
       "      <td>39.17</td>\n",
       "      <td>52.17</td>\n",
       "      <td>30.58</td>\n",
       "      <td>71.78</td>\n",
       "      <td>NaN</td>\n",
       "      <td>NaN</td>\n",
       "      <td>NaN</td>\n",
       "      <td>NaN</td>\n",
       "      <td>NaN</td>\n",
       "    </tr>\n",
       "    <tr>\n",
       "      <th>4</th>\n",
       "      <td>TRAIN_004</td>\n",
       "      <td>1</td>\n",
       "      <td>0.531590</td>\n",
       "      <td>6</td>\n",
       "      <td>T050304</td>\n",
       "      <td>A_31</td>\n",
       "      <td>NaN</td>\n",
       "      <td>NaN</td>\n",
       "      <td>NaN</td>\n",
       "      <td>NaN</td>\n",
       "      <td>...</td>\n",
       "      <td>38.70</td>\n",
       "      <td>41.89</td>\n",
       "      <td>46.93</td>\n",
       "      <td>33.09</td>\n",
       "      <td>76.97</td>\n",
       "      <td>NaN</td>\n",
       "      <td>NaN</td>\n",
       "      <td>NaN</td>\n",
       "      <td>NaN</td>\n",
       "      <td>NaN</td>\n",
       "    </tr>\n",
       "  </tbody>\n",
       "</table>\n",
       "<p>5 rows × 2881 columns</p>\n",
       "</div>"
      ],
      "text/plain": [
       "  PRODUCT_ID  Y_Class  Y_Quality  TIMESTAMP     LINE PRODUCT_CODE  X_1  X_2  \\\n",
       "0  TRAIN_000        1   0.533433          6  T050304         A_31  NaN  NaN   \n",
       "1  TRAIN_001        2   0.541819          6  T050307         A_31  NaN  NaN   \n",
       "2  TRAIN_002        1   0.531267          6  T050304         A_31  NaN  NaN   \n",
       "3  TRAIN_003        2   0.537325          6  T050307         A_31  NaN  NaN   \n",
       "4  TRAIN_004        1   0.531590          6  T050304         A_31  NaN  NaN   \n",
       "\n",
       "   X_3  X_4  ...  X_2866  X_2867  X_2868  X_2869  X_2870  X_2871  X_2872  \\\n",
       "0  NaN  NaN  ...   39.34   40.89   32.56   34.09   77.77     NaN     NaN   \n",
       "1  NaN  NaN  ...   38.89   42.82   43.92   35.34   72.55     NaN     NaN   \n",
       "2  NaN  NaN  ...   39.19   36.65   42.47   36.53   78.35     NaN     NaN   \n",
       "3  NaN  NaN  ...   37.74   39.17   52.17   30.58   71.78     NaN     NaN   \n",
       "4  NaN  NaN  ...   38.70   41.89   46.93   33.09   76.97     NaN     NaN   \n",
       "\n",
       "   X_2873  X_2874  X_2875  \n",
       "0     NaN     NaN     NaN  \n",
       "1     NaN     NaN     NaN  \n",
       "2     NaN     NaN     NaN  \n",
       "3     NaN     NaN     NaN  \n",
       "4     NaN     NaN     NaN  \n",
       "\n",
       "[5 rows x 2881 columns]"
      ]
     },
     "execution_count": 198,
     "metadata": {},
     "output_type": "execute_result"
    }
   ],
   "source": [
    "# 월별 영향력이 있어보인다.\n",
    "train['TIMESTAMP'] = pd.to_datetime(train['TIMESTAMP']).dt.strftime('%m')\n",
    "train['TIMESTAMP'] = train['TIMESTAMP'].astype('int64')\n",
    "train.head()"
   ]
  },
  {
   "cell_type": "markdown",
   "id": "30c99f51",
   "metadata": {},
   "source": [
    "### X_1 ~ X_2875"
   ]
  },
  {
   "cell_type": "code",
   "execution_count": 199,
   "id": "6b7ce630",
   "metadata": {},
   "outputs": [
    {
     "data": {
      "text/plain": [
       "2881"
      ]
     },
     "execution_count": 199,
     "metadata": {},
     "output_type": "execute_result"
    }
   ],
   "source": [
    "len(train.columns)"
   ]
  },
  {
   "cell_type": "markdown",
   "id": "e779a2c0",
   "metadata": {},
   "source": [
    "#### Product Code & Line에 따라 분류했을 경우"
   ]
  },
  {
   "cell_type": "code",
   "execution_count": 200,
   "id": "e5029418",
   "metadata": {},
   "outputs": [],
   "source": [
    "train_A1 = train[(train['PRODUCT_CODE'] == 'A_31') & (train['LINE'] == 'T050304')]\n",
    "train_A2 = train[(train['PRODUCT_CODE'] == 'A_31') & (train['LINE'] == 'T050307')]\n",
    "train_A3 = train[(train['PRODUCT_CODE'] == 'A_31') & (train['LINE'] == 'T010306')]\n",
    "train_A4 = train[(train['PRODUCT_CODE'] == 'A_31') & (train['LINE'] == 'T010305')]\n",
    "train_T1 = train[(train['PRODUCT_CODE'] == 'T_31') & (train['LINE'] == 'T100304')]\n",
    "train_T2 = train[(train['PRODUCT_CODE'] == 'T_31') & (train['LINE'] == 'T100306')]\n",
    "train_O1 = train[train['PRODUCT_CODE'] == 'O_31']"
   ]
  },
  {
   "cell_type": "code",
   "execution_count": 201,
   "id": "9b082adb",
   "metadata": {},
   "outputs": [
    {
     "name": "stdout",
     "output_type": "stream",
     "text": [
      "78\n",
      "42\n",
      "70\n",
      "59\n",
      "172\n",
      "171\n",
      "6\n"
     ]
    }
   ],
   "source": [
    "print(len(train_A1))\n",
    "print(len(train_A2))\n",
    "print(len(train_A3))\n",
    "print(len(train_A4))\n",
    "print(len(train_T1))\n",
    "print(len(train_T2))\n",
    "print(len(train_O1))"
   ]
  },
  {
   "cell_type": "code",
   "execution_count": 202,
   "id": "8bffc5e9",
   "metadata": {},
   "outputs": [],
   "source": [
    "def remove_col(df):\n",
    "    for x in df.columns[6:]:\n",
    "        if len(df[df[x].isnull()]) > len(df)*0.1:\n",
    "            df.drop(columns=[x], inplace=True)\n",
    "    return df"
   ]
  },
  {
   "cell_type": "code",
   "execution_count": 203,
   "id": "339f8527",
   "metadata": {},
   "outputs": [],
   "source": [
    "train_A1 = remove_col(train_A1)\n",
    "train_A2 = remove_col(train_A2)\n",
    "train_A3 = remove_col(train_A3)\n",
    "train_A4 = remove_col(train_A4)\n",
    "train_T1 = remove_col(train_T1)\n",
    "train_T2 = remove_col(train_T2)\n",
    "train_O1 = remove_col(train_O1)"
   ]
  },
  {
   "cell_type": "code",
   "execution_count": 204,
   "id": "f44c61b9",
   "metadata": {},
   "outputs": [
    {
     "name": "stdout",
     "output_type": "stream",
     "text": [
      "1449\n",
      "1461\n",
      "877\n",
      "877\n",
      "662\n",
      "662\n",
      "656\n"
     ]
    }
   ],
   "source": [
    "print(len(train_A1.columns))\n",
    "print(len(train_A2.columns))\n",
    "print(len(train_A3.columns))\n",
    "print(len(train_A4.columns))\n",
    "print(len(train_T1.columns))\n",
    "print(len(train_T2.columns))\n",
    "print(len(train_O1.columns))"
   ]
  },
  {
   "cell_type": "code",
   "execution_count": 205,
   "id": "f9fc2204",
   "metadata": {},
   "outputs": [],
   "source": [
    "# 결측값 대체\n",
    "def nan_replace(df):\n",
    "    for x in df.columns[6:]:\n",
    "        for i in df[df[x].isnull()].index:\n",
    "            m = np.mean(df[(df['Y_Class']==df['Y_Class'][i]) & (df['LINE']==df['LINE'][i]) & (df['TIMESTAMP']==df['TIMESTAMP'][i])][x])\n",
    "            if str(m) != 'nan':\n",
    "                df[x][i] = m\n",
    "                continue\n",
    "            m = np.mean(df[(df['Y_Class']==df['Y_Class'][i]) & (df['LINE']==df['LINE'][i]) & (df['TIMESTAMP']==(df['TIMESTAMP'][i]-1))][x])\n",
    "            if str(m) != 'nan':\n",
    "                df[x][i] = m\n",
    "                continue\n",
    "            m = np.mean(df[(df['Y_Class']==df['Y_Class'][i]) & (df['LINE']==df['LINE'][i]) & (df['TIMESTAMP']==(df['TIMESTAMP'][i]+1))][x])\n",
    "            if str(m) != 'nan':\n",
    "                df[x][i] = m\n",
    "                continue\n",
    "            m = np.mean(df[(df['Y_Class']==df['Y_Class'][i]) & (df['LINE']==df['LINE'][i])][x])\n",
    "            if str(m) != 'nan':\n",
    "                df[x][i] = m\n",
    "                continue\n",
    "\n",
    "            df[x][i] = np.mean(df[df['Y_Class']==df['Y_Class'][i]][x])\n",
    "    return df"
   ]
  },
  {
   "cell_type": "code",
   "execution_count": 206,
   "id": "9a69c7e3",
   "metadata": {},
   "outputs": [],
   "source": [
    "train_A1 = nan_replace(train_A1)\n",
    "train_A2 = nan_replace(train_A2)\n",
    "train_A3 = nan_replace(train_A3)\n",
    "train_A4 = nan_replace(train_A4)\n",
    "train_T1 = nan_replace(train_T1)\n",
    "train_T2 = nan_replace(train_T2)\n",
    "train_O1 = nan_replace(train_O1)"
   ]
  },
  {
   "cell_type": "code",
   "execution_count": 207,
   "id": "09c4a772",
   "metadata": {},
   "outputs": [],
   "source": [
    "train_A1.reset_index(drop=True, inplace=True)\n",
    "train_A2.reset_index(drop=True, inplace=True)\n",
    "train_A3.reset_index(drop=True, inplace=True)\n",
    "train_A4.reset_index(drop=True, inplace=True)\n",
    "train_T1.reset_index(drop=True, inplace=True)\n",
    "train_T2.reset_index(drop=True, inplace=True)\n",
    "train_O1.reset_index(drop=True, inplace=True)"
   ]
  },
  {
   "cell_type": "markdown",
   "id": "245ebb62",
   "metadata": {},
   "source": [
    "### data split & astype"
   ]
  },
  {
   "cell_type": "code",
   "execution_count": 208,
   "id": "8c0cd242",
   "metadata": {
    "scrolled": true
   },
   "outputs": [],
   "source": [
    "train_A1.drop(columns=['PRODUCT_ID', 'Y_Quality'], inplace=True)\n",
    "train_A2.drop(columns=['PRODUCT_ID', 'Y_Quality'], inplace=True)\n",
    "train_A3.drop(columns=['PRODUCT_ID', 'Y_Quality'], inplace=True)\n",
    "train_A4.drop(columns=['PRODUCT_ID', 'Y_Quality'], inplace=True)\n",
    "train_T1.drop(columns=['PRODUCT_ID', 'Y_Quality'], inplace=True)\n",
    "train_T2.drop(columns=['PRODUCT_ID', 'Y_Quality'], inplace=True)\n",
    "train_O1.drop(columns=['PRODUCT_ID', 'Y_Quality'], inplace=True)"
   ]
  },
  {
   "cell_type": "code",
   "execution_count": 212,
   "id": "ef4349ab",
   "metadata": {},
   "outputs": [
    {
     "data": {
      "text/html": [
       "<div>\n",
       "<style scoped>\n",
       "    .dataframe tbody tr th:only-of-type {\n",
       "        vertical-align: middle;\n",
       "    }\n",
       "\n",
       "    .dataframe tbody tr th {\n",
       "        vertical-align: top;\n",
       "    }\n",
       "\n",
       "    .dataframe thead th {\n",
       "        text-align: right;\n",
       "    }\n",
       "</style>\n",
       "<table border=\"1\" class=\"dataframe\">\n",
       "  <thead>\n",
       "    <tr style=\"text-align: right;\">\n",
       "      <th></th>\n",
       "      <th>TIMESTAMP</th>\n",
       "      <th>LINE</th>\n",
       "      <th>PRODUCT_CODE</th>\n",
       "      <th>X_1</th>\n",
       "      <th>X_2</th>\n",
       "      <th>X_3</th>\n",
       "      <th>X_4</th>\n",
       "      <th>X_5</th>\n",
       "      <th>X_6</th>\n",
       "      <th>X_7</th>\n",
       "      <th>...</th>\n",
       "      <th>X_2866</th>\n",
       "      <th>X_2867</th>\n",
       "      <th>X_2868</th>\n",
       "      <th>X_2869</th>\n",
       "      <th>X_2870</th>\n",
       "      <th>X_2871</th>\n",
       "      <th>X_2872</th>\n",
       "      <th>X_2873</th>\n",
       "      <th>X_2874</th>\n",
       "      <th>X_2875</th>\n",
       "    </tr>\n",
       "  </thead>\n",
       "  <tbody>\n",
       "    <tr>\n",
       "      <th>0</th>\n",
       "      <td>9</td>\n",
       "      <td>T100306</td>\n",
       "      <td>T_31</td>\n",
       "      <td>2.0</td>\n",
       "      <td>94.0</td>\n",
       "      <td>0.0</td>\n",
       "      <td>45.0</td>\n",
       "      <td>10.0</td>\n",
       "      <td>0.0</td>\n",
       "      <td>51.0</td>\n",
       "      <td>...</td>\n",
       "      <td>NaN</td>\n",
       "      <td>NaN</td>\n",
       "      <td>NaN</td>\n",
       "      <td>NaN</td>\n",
       "      <td>NaN</td>\n",
       "      <td>NaN</td>\n",
       "      <td>NaN</td>\n",
       "      <td>NaN</td>\n",
       "      <td>NaN</td>\n",
       "      <td>NaN</td>\n",
       "    </tr>\n",
       "    <tr>\n",
       "      <th>1</th>\n",
       "      <td>9</td>\n",
       "      <td>T100304</td>\n",
       "      <td>T_31</td>\n",
       "      <td>2.0</td>\n",
       "      <td>93.0</td>\n",
       "      <td>0.0</td>\n",
       "      <td>45.0</td>\n",
       "      <td>11.0</td>\n",
       "      <td>0.0</td>\n",
       "      <td>45.0</td>\n",
       "      <td>...</td>\n",
       "      <td>NaN</td>\n",
       "      <td>NaN</td>\n",
       "      <td>NaN</td>\n",
       "      <td>NaN</td>\n",
       "      <td>NaN</td>\n",
       "      <td>NaN</td>\n",
       "      <td>NaN</td>\n",
       "      <td>NaN</td>\n",
       "      <td>NaN</td>\n",
       "      <td>NaN</td>\n",
       "    </tr>\n",
       "    <tr>\n",
       "      <th>2</th>\n",
       "      <td>9</td>\n",
       "      <td>T100304</td>\n",
       "      <td>T_31</td>\n",
       "      <td>2.0</td>\n",
       "      <td>95.0</td>\n",
       "      <td>0.0</td>\n",
       "      <td>45.0</td>\n",
       "      <td>11.0</td>\n",
       "      <td>0.0</td>\n",
       "      <td>45.0</td>\n",
       "      <td>...</td>\n",
       "      <td>NaN</td>\n",
       "      <td>NaN</td>\n",
       "      <td>NaN</td>\n",
       "      <td>NaN</td>\n",
       "      <td>NaN</td>\n",
       "      <td>NaN</td>\n",
       "      <td>NaN</td>\n",
       "      <td>NaN</td>\n",
       "      <td>NaN</td>\n",
       "      <td>NaN</td>\n",
       "    </tr>\n",
       "    <tr>\n",
       "      <th>3</th>\n",
       "      <td>9</td>\n",
       "      <td>T010305</td>\n",
       "      <td>A_31</td>\n",
       "      <td>NaN</td>\n",
       "      <td>NaN</td>\n",
       "      <td>NaN</td>\n",
       "      <td>NaN</td>\n",
       "      <td>NaN</td>\n",
       "      <td>NaN</td>\n",
       "      <td>NaN</td>\n",
       "      <td>...</td>\n",
       "      <td>NaN</td>\n",
       "      <td>NaN</td>\n",
       "      <td>NaN</td>\n",
       "      <td>NaN</td>\n",
       "      <td>NaN</td>\n",
       "      <td>NaN</td>\n",
       "      <td>NaN</td>\n",
       "      <td>NaN</td>\n",
       "      <td>NaN</td>\n",
       "      <td>NaN</td>\n",
       "    </tr>\n",
       "    <tr>\n",
       "      <th>4</th>\n",
       "      <td>9</td>\n",
       "      <td>T010306</td>\n",
       "      <td>A_31</td>\n",
       "      <td>NaN</td>\n",
       "      <td>NaN</td>\n",
       "      <td>NaN</td>\n",
       "      <td>NaN</td>\n",
       "      <td>NaN</td>\n",
       "      <td>NaN</td>\n",
       "      <td>NaN</td>\n",
       "      <td>...</td>\n",
       "      <td>NaN</td>\n",
       "      <td>NaN</td>\n",
       "      <td>NaN</td>\n",
       "      <td>NaN</td>\n",
       "      <td>NaN</td>\n",
       "      <td>NaN</td>\n",
       "      <td>NaN</td>\n",
       "      <td>NaN</td>\n",
       "      <td>NaN</td>\n",
       "      <td>NaN</td>\n",
       "    </tr>\n",
       "  </tbody>\n",
       "</table>\n",
       "<p>5 rows × 2878 columns</p>\n",
       "</div>"
      ],
      "text/plain": [
       "   TIMESTAMP     LINE PRODUCT_CODE  X_1   X_2  X_3   X_4   X_5  X_6   X_7  \\\n",
       "0          9  T100306         T_31  2.0  94.0  0.0  45.0  10.0  0.0  51.0   \n",
       "1          9  T100304         T_31  2.0  93.0  0.0  45.0  11.0  0.0  45.0   \n",
       "2          9  T100304         T_31  2.0  95.0  0.0  45.0  11.0  0.0  45.0   \n",
       "3          9  T010305         A_31  NaN   NaN  NaN   NaN   NaN  NaN   NaN   \n",
       "4          9  T010306         A_31  NaN   NaN  NaN   NaN   NaN  NaN   NaN   \n",
       "\n",
       "   ...  X_2866  X_2867  X_2868  X_2869  X_2870  X_2871  X_2872  X_2873  \\\n",
       "0  ...     NaN     NaN     NaN     NaN     NaN     NaN     NaN     NaN   \n",
       "1  ...     NaN     NaN     NaN     NaN     NaN     NaN     NaN     NaN   \n",
       "2  ...     NaN     NaN     NaN     NaN     NaN     NaN     NaN     NaN   \n",
       "3  ...     NaN     NaN     NaN     NaN     NaN     NaN     NaN     NaN   \n",
       "4  ...     NaN     NaN     NaN     NaN     NaN     NaN     NaN     NaN   \n",
       "\n",
       "   X_2874  X_2875  \n",
       "0     NaN     NaN  \n",
       "1     NaN     NaN  \n",
       "2     NaN     NaN  \n",
       "3     NaN     NaN  \n",
       "4     NaN     NaN  \n",
       "\n",
       "[5 rows x 2878 columns]"
      ]
     },
     "execution_count": 212,
     "metadata": {},
     "output_type": "execute_result"
    }
   ],
   "source": [
    "test = test[test.columns[1:]]\n",
    "\n",
    "test['TIMESTAMP'] = pd.to_datetime(test['TIMESTAMP']).dt.strftime('%m').astype('int64')\n",
    "test['LINE'] = test['LINE'].astype('category')\n",
    "test['PRODUCT_CODE'] = test['PRODUCT_CODE'].astype('category')\n",
    "\n",
    "test.head()"
   ]
  },
  {
   "cell_type": "markdown",
   "id": "0927289e",
   "metadata": {},
   "source": [
    "### Optuna"
   ]
  },
  {
   "cell_type": "code",
   "execution_count": 225,
   "id": "84f13c23",
   "metadata": {},
   "outputs": [],
   "source": [
    "kfold = StratifiedKFold(n_splits=5, shuffle=True)\n",
    "\n",
    "def lgbm_objective(trial):\n",
    "\n",
    "    params = {\n",
    "            \"objective\": \"classifier\",\n",
    "            \"n_jobs\": 4,\n",
    "            \"max_depth\": trial.suggest_int(\"max_depth\", 4, 512),\n",
    "            'num_leaves': trial.suggest_int('num_leaves', 2, 1024, step=1, log=True), \n",
    "            \"learning_rate\": trial.suggest_uniform('learning_rate', 0.0001, 0.99),\n",
    "            'n_estimators': trial.suggest_int(\"n_estimators\", 100, 3000, step=100),\n",
    "            \"colsample_bytree\": trial.suggest_float(\"colsample_bytree\", 0.5, 1.0),\n",
    "            \"colsample_bynode\": trial.suggest_float(\"colsample_bynode\", 0.5, 1.0),\n",
    "            \"reg_lambda\": trial.suggest_loguniform(\"reg_lambda\", 1e-2, 1),\n",
    "            \"reg_alpha\": trial.suggest_loguniform(\"reg_alpha\", 1e-2, 1), \n",
    "            'min_child_weight': trial.suggest_int('min_child_weight', 2, 15),\n",
    "            'min_child_samples': trial.suggest_int('min_child_samples', 5, 100),\n",
    "        }\n",
    "\n",
    "    clf = lightgbm.LGBMClassifier(**params)\n",
    "    \n",
    "    f1_list = []\n",
    "    for fold, (train_index, val_index) in enumerate(kfold.split(x_train, y_train)):\n",
    "        x_trn, x_val, y_trn, y_val = x_train.loc[train_index], x_train.loc[val_index], y_train.loc[train_index], y_train.loc[val_index]\n",
    "        clf.fit(x_trn, y_trn)\n",
    "        f1_list.append(f1_score(clf.predict(x_val), y_val, average='micro'))    \n",
    "    \n",
    "    return np.mean(f1_list)"
   ]
  },
  {
   "cell_type": "markdown",
   "id": "43621154",
   "metadata": {},
   "source": [
    "### PCA"
   ]
  },
  {
   "cell_type": "code",
   "execution_count": 226,
   "id": "7db9c3c7",
   "metadata": {},
   "outputs": [],
   "source": [
    "# n_list = []\n",
    "# for train_df in [train_A1, train_A2, train_A3, train_A4, train_T1, train_T2, train_O1]:\n",
    "#     pca = PCA()\n",
    "#     pca.fit(train_df[train_df.columns[6:]])\n",
    "#     ratio = pca.explained_variance_ratio_\n",
    "\n",
    "#     df_v = pd.DataFrame(ratio[:5], index=[f'pc{i+1}' for i in range(5)], columns=['pc_ratio'])\n",
    "    \n",
    "#     for i in range(5):\n",
    "#         if sum(df_v['pc_ratio'][:i+1]) > 0.9:\n",
    "#             n_list.append(i+1)"
   ]
  },
  {
   "cell_type": "code",
   "execution_count": 227,
   "id": "e752884f",
   "metadata": {
    "scrolled": true
   },
   "outputs": [
    {
     "name": "stderr",
     "output_type": "stream",
     "text": [
      "\u001b[32m[I 2023-02-04 06:05:54,800]\u001b[0m A new study created in memory with name: no-name-801f2612-7d8d-4b6e-9388-3efb6fe03874\u001b[0m\n"
     ]
    },
    {
     "data": {
      "application/json": {
       "ascii": false,
       "bar_format": null,
       "colour": null,
       "elapsed": 0.012003183364868164,
       "initial": 0,
       "n": 0,
       "ncols": null,
       "nrows": null,
       "postfix": null,
       "prefix": "",
       "rate": null,
       "total": 200,
       "unit": "it",
       "unit_divisor": 1000,
       "unit_scale": false
      },
      "application/vnd.jupyter.widget-view+json": {
       "model_id": "e7f6d0148e6d4b06a6cd468d3d2f7b25",
       "version_major": 2,
       "version_minor": 0
      },
      "text/plain": [
       "  0%|          | 0/200 [00:00<?, ?it/s]"
      ]
     },
     "metadata": {},
     "output_type": "display_data"
    },
    {
     "name": "stdout",
     "output_type": "stream",
     "text": [
      "\u001b[32m[I 2023-02-04 06:05:54,960]\u001b[0m Trial 0 finished with value: 0.8421848739495799 and parameters: {'max_depth': 23, 'num_leaves': 20, 'learning_rate': 0.39294371674300654, 'n_estimators': 1100, 'colsample_bytree': 0.5464951742219284, 'colsample_bynode': 0.8641600657891908, 'reg_lambda': 0.04343547066295661, 'reg_alpha': 0.16020954148161481, 'min_child_weight': 2, 'min_child_samples': 81}. Best is trial 0 with value: 0.8421848739495799.\u001b[0m\n",
      "\u001b[32m[I 2023-02-04 06:05:56,988]\u001b[0m Trial 1 finished with value: 0.8363025210084034 and parameters: {'max_depth': 148, 'num_leaves': 2, 'learning_rate': 0.028831094171312997, 'n_estimators': 2000, 'colsample_bytree': 0.9997269864211282, 'colsample_bynode': 0.8471807696635321, 'reg_lambda': 0.030955751861826808, 'reg_alpha': 0.028682572909251195, 'min_child_weight': 4, 'min_child_samples': 14}. Best is trial 0 with value: 0.8421848739495799.\u001b[0m\n",
      "\u001b[32m[I 2023-02-04 06:05:58,090]\u001b[0m Trial 2 finished with value: 0.8421848739495799 and parameters: {'max_depth': 423, 'num_leaves': 8, 'learning_rate': 0.34281307082163165, 'n_estimators': 1400, 'colsample_bytree': 0.6801083010294966, 'colsample_bynode': 0.8769318248226448, 'reg_lambda': 0.05122767707740287, 'reg_alpha': 0.0778142734456197, 'min_child_weight': 9, 'min_child_samples': 33}. Best is trial 0 with value: 0.8421848739495799.\u001b[0m\n",
      "\u001b[32m[I 2023-02-04 06:05:58,274]\u001b[0m Trial 3 finished with value: 0.8421848739495799 and parameters: {'max_depth': 208, 'num_leaves': 394, 'learning_rate': 0.34496022638231616, 'n_estimators': 1900, 'colsample_bytree': 0.8086688349856186, 'colsample_bynode': 0.745412919823907, 'reg_lambda': 0.6258960577502561, 'reg_alpha': 0.17668339738000216, 'min_child_weight': 4, 'min_child_samples': 82}. Best is trial 0 with value: 0.8421848739495799.\u001b[0m\n",
      "\u001b[32m[I 2023-02-04 06:05:58,442]\u001b[0m Trial 4 finished with value: 0.8421848739495799 and parameters: {'max_depth': 94, 'num_leaves': 51, 'learning_rate': 0.17408603520699997, 'n_estimators': 1600, 'colsample_bytree': 0.8937470400092469, 'colsample_bynode': 0.8340729167158915, 'reg_lambda': 0.02480242917550689, 'reg_alpha': 0.6661752910156147, 'min_child_weight': 5, 'min_child_samples': 70}. Best is trial 0 with value: 0.8421848739495799.\u001b[0m\n",
      "\u001b[32m[I 2023-02-04 06:05:58,679]\u001b[0m Trial 5 finished with value: 0.8421848739495799 and parameters: {'max_depth': 422, 'num_leaves': 40, 'learning_rate': 0.20287493404978796, 'n_estimators': 3000, 'colsample_bytree': 0.7148221123283658, 'colsample_bynode': 0.5512480778649074, 'reg_lambda': 0.08791704863904691, 'reg_alpha': 0.02740522205213918, 'min_child_weight': 6, 'min_child_samples': 78}. Best is trial 0 with value: 0.8421848739495799.\u001b[0m\n",
      "\u001b[32m[I 2023-02-04 06:05:58,819]\u001b[0m Trial 6 finished with value: 0.8421848739495799 and parameters: {'max_depth': 125, 'num_leaves': 174, 'learning_rate': 0.6370064469987394, 'n_estimators': 1200, 'colsample_bytree': 0.8352998769324063, 'colsample_bynode': 0.9034093100594064, 'reg_lambda': 0.13257361530306605, 'reg_alpha': 0.647408463756137, 'min_child_weight': 4, 'min_child_samples': 73}. Best is trial 0 with value: 0.8421848739495799.\u001b[0m\n",
      "\u001b[32m[I 2023-02-04 06:05:58,935]\u001b[0m Trial 7 finished with value: 0.8421848739495799 and parameters: {'max_depth': 293, 'num_leaves': 12, 'learning_rate': 0.8052668321753872, 'n_estimators': 600, 'colsample_bytree': 0.6228637393074614, 'colsample_bynode': 0.7518113261417729, 'reg_lambda': 0.10675481705557832, 'reg_alpha': 0.29904763329301626, 'min_child_weight': 10, 'min_child_samples': 84}. Best is trial 0 with value: 0.8421848739495799.\u001b[0m\n",
      "\u001b[32m[I 2023-02-04 06:06:00,459]\u001b[0m Trial 8 finished with value: 0.8010084033613445 and parameters: {'max_depth': 139, 'num_leaves': 24, 'learning_rate': 0.5934601195503035, 'n_estimators': 2500, 'colsample_bytree': 0.9973221747385743, 'colsample_bynode': 0.9091271225290629, 'reg_lambda': 0.016742604939234455, 'reg_alpha': 0.2742723950759324, 'min_child_weight': 6, 'min_child_samples': 61}. Best is trial 0 with value: 0.8421848739495799.\u001b[0m\n",
      "\u001b[32m[I 2023-02-04 06:06:01,995]\u001b[0m Trial 9 finished with value: 0.8421848739495799 and parameters: {'max_depth': 180, 'num_leaves': 10, 'learning_rate': 0.8804431563827936, 'n_estimators': 1900, 'colsample_bytree': 0.948453392287195, 'colsample_bynode': 0.6542958139964721, 'reg_lambda': 0.5477334521468211, 'reg_alpha': 0.07905933677561919, 'min_child_weight': 9, 'min_child_samples': 38}. Best is trial 0 with value: 0.8421848739495799.\u001b[0m\n",
      "\u001b[32m[I 2023-02-04 06:06:02,091]\u001b[0m Trial 10 finished with value: 0.8421848739495799 and parameters: {'max_depth': 12, 'num_leaves': 2, 'learning_rate': 0.4412687282363901, 'n_estimators': 200, 'colsample_bytree': 0.5050972023697989, 'colsample_bynode': 0.9909130115910874, 'reg_lambda': 0.010700040153557043, 'reg_alpha': 0.011412416023383517, 'min_child_weight': 14, 'min_child_samples': 97}. Best is trial 0 with value: 0.8421848739495799.\u001b[0m\n",
      "\u001b[32m[I 2023-02-04 06:06:02,857]\u001b[0m Trial 11 finished with value: 0.8421848739495799 and parameters: {'max_depth': 464, 'num_leaves': 7, 'learning_rate': 0.3379580165110879, 'n_estimators': 1000, 'colsample_bytree': 0.5862954990829121, 'colsample_bynode': 0.9805216281529296, 'reg_lambda': 0.05463322079846973, 'reg_alpha': 0.07041366273042066, 'min_child_weight': 12, 'min_child_samples': 39}. Best is trial 0 with value: 0.8421848739495799.\u001b[0m\n",
      "\u001b[32m[I 2023-02-04 06:06:03,878]\u001b[0m Trial 12 finished with value: 0.830420168067227 and parameters: {'max_depth': 332, 'num_leaves': 5, 'learning_rate': 0.4955329025372427, 'n_estimators': 1100, 'colsample_bytree': 0.692043278623751, 'colsample_bynode': 0.7770403070648566, 'reg_lambda': 0.24253597855314754, 'reg_alpha': 0.13285236773694362, 'min_child_weight': 2, 'min_child_samples': 15}. Best is trial 0 with value: 0.8421848739495799.\u001b[0m\n",
      "\u001b[32m[I 2023-02-04 06:06:04,475]\u001b[0m Trial 13 finished with value: 0.7721008403361344 and parameters: {'max_depth': 378, 'num_leaves': 89, 'learning_rate': 0.26414183498793126, 'n_estimators': 600, 'colsample_bytree': 0.5046550425159303, 'colsample_bynode': 0.9030325972768151, 'reg_lambda': 0.04933447376825587, 'reg_alpha': 0.04457356051184738, 'min_child_weight': 8, 'min_child_samples': 46}. Best is trial 0 with value: 0.8421848739495799.\u001b[0m\n",
      "\u001b[32m[I 2023-02-04 06:06:05,545]\u001b[0m Trial 14 finished with value: 0.8421848739495799 and parameters: {'max_depth': 10, 'num_leaves': 18, 'learning_rate': 0.04950837777872569, 'n_estimators': 1300, 'colsample_bytree': 0.6264718433037333, 'colsample_bynode': 0.8250291444029787, 'reg_lambda': 0.043541711847175806, 'reg_alpha': 0.2591351004123383, 'min_child_weight': 11, 'min_child_samples': 32}. Best is trial 0 with value: 0.8421848739495799.\u001b[0m\n",
      "\u001b[32m[I 2023-02-04 06:06:06,090]\u001b[0m Trial 15 finished with value: 0.7369747899159664 and parameters: {'max_depth': 482, 'num_leaves': 3, 'learning_rate': 0.7118071127896364, 'n_estimators': 800, 'colsample_bytree': 0.577556082196668, 'colsample_bynode': 0.6689955645238138, 'reg_lambda': 0.2510079184443042, 'reg_alpha': 0.10172911252560982, 'min_child_weight': 8, 'min_child_samples': 56}. Best is trial 0 with value: 0.8421848739495799.\u001b[0m\n",
      "\u001b[32m[I 2023-02-04 06:06:06,181]\u001b[0m Trial 16 finished with value: 0.8421848739495799 and parameters: {'max_depth': 252, 'num_leaves': 794, 'learning_rate': 0.4757346741169065, 'n_estimators': 100, 'colsample_bytree': 0.7687515766247905, 'colsample_bynode': 0.9392404437082302, 'reg_lambda': 0.0731130837916875, 'reg_alpha': 0.048554971298033024, 'min_child_weight': 2, 'min_child_samples': 100}. Best is trial 0 with value: 0.8421848739495799.\u001b[0m\n",
      "\u001b[32m[I 2023-02-04 06:06:07,411]\u001b[0m Trial 17 finished with value: 0.8421848739495799 and parameters: {'max_depth': 20, 'num_leaves': 17, 'learning_rate': 0.025849555825701646, 'n_estimators': 1600, 'colsample_bytree': 0.6111218580631437, 'colsample_bynode': 0.8048746366442802, 'reg_lambda': 0.032996331654363456, 'reg_alpha': 0.3581241316110951, 'min_child_weight': 15, 'min_child_samples': 32}. Best is trial 0 with value: 0.8421848739495799.\u001b[0m\n",
      "\u001b[32m[I 2023-02-04 06:06:09,319]\u001b[0m Trial 18 finished with value: 0.8421848739495799 and parameters: {'max_depth': 69, 'num_leaves': 151, 'learning_rate': 0.13628254198795292, 'n_estimators': 2200, 'colsample_bytree': 0.5535241930373391, 'colsample_bynode': 0.7072514915534933, 'reg_lambda': 0.18530520966584155, 'reg_alpha': 0.9185264551908784, 'min_child_weight': 12, 'min_child_samples': 24}. Best is trial 0 with value: 0.8421848739495799.\u001b[0m\n",
      "\u001b[32m[I 2023-02-04 06:06:09,416]\u001b[0m Trial 19 finished with value: 0.8421848739495799 and parameters: {'max_depth': 237, 'num_leaves': 1001, 'learning_rate': 0.5367756569919294, 'n_estimators': 100, 'colsample_bytree': 0.7782374548729531, 'colsample_bynode': 0.9547474006756993, 'reg_lambda': 0.07803208746753304, 'reg_alpha': 0.012441842018362138, 'min_child_weight': 2, 'min_child_samples': 99}. Best is trial 0 with value: 0.8421848739495799.\u001b[0m\n"
     ]
    },
    {
     "name": "stdout",
     "output_type": "stream",
     "text": [
      "\u001b[32m[I 2023-02-04 06:06:10,376]\u001b[0m Trial 20 finished with value: 0.8421848739495799 and parameters: {'max_depth': 59, 'num_leaves': 25, 'learning_rate': 0.9452713519958463, 'n_estimators': 1600, 'colsample_bytree': 0.6328958596877707, 'colsample_bynode': 0.5162293821675141, 'reg_lambda': 0.023639828989557053, 'reg_alpha': 0.4559259883715292, 'min_child_weight': 15, 'min_child_samples': 64}. Best is trial 0 with value: 0.8421848739495799.\u001b[0m\n",
      "\u001b[32m[I 2023-02-04 06:06:12,698]\u001b[0m Trial 21 finished with value: 0.8421848739495799 and parameters: {'max_depth': 77, 'num_leaves': 125, 'learning_rate': 0.1445195831037855, 'n_estimators': 2400, 'colsample_bytree': 0.5460608421163445, 'colsample_bynode': 0.7058843115244112, 'reg_lambda': 0.28301263257311926, 'reg_alpha': 0.8877316486886037, 'min_child_weight': 13, 'min_child_samples': 18}. Best is trial 0 with value: 0.8421848739495799.\u001b[0m\n",
      "\u001b[32m[I 2023-02-04 06:06:12,929]\u001b[0m Trial 22 finished with value: 0.8421848739495799 and parameters: {'max_depth': 225, 'num_leaves': 272, 'learning_rate': 0.5784663470150301, 'n_estimators': 2400, 'colsample_bytree': 0.757153219700567, 'colsample_bynode': 0.9519085866174113, 'reg_lambda': 0.16226552316102957, 'reg_alpha': 0.021578388580848335, 'min_child_weight': 2, 'min_child_samples': 90}. Best is trial 0 with value: 0.8421848739495799.\u001b[0m\n",
      "\u001b[32m[I 2023-02-04 06:06:13,304]\u001b[0m Trial 23 finished with value: 0.8070588235294117 and parameters: {'max_depth': 54, 'num_leaves': 62, 'learning_rate': 0.9432800408809168, 'n_estimators': 500, 'colsample_bytree': 0.6653194479606832, 'colsample_bynode': 0.6237793686784644, 'reg_lambda': 0.019402902872906854, 'reg_alpha': 0.01042932740815058, 'min_child_weight': 3, 'min_child_samples': 65}. Best is trial 0 with value: 0.8421848739495799.\u001b[0m\n",
      "\u001b[32m[I 2023-02-04 06:06:16,295]\u001b[0m Trial 24 finished with value: 0.8421848739495799 and parameters: {'max_depth': 84, 'num_leaves': 31, 'learning_rate': 0.717016700414894, 'n_estimators': 3000, 'colsample_bytree': 0.5340499697034613, 'colsample_bynode': 0.5096222846671942, 'reg_lambda': 0.967661699371326, 'reg_alpha': 0.4818535444199632, 'min_child_weight': 14, 'min_child_samples': 7}. Best is trial 0 with value: 0.8421848739495799.\u001b[0m\n",
      "\u001b[32m[I 2023-02-04 06:06:16,529]\u001b[0m Trial 25 finished with value: 0.8421848739495799 and parameters: {'max_depth': 303, 'num_leaves': 248, 'learning_rate': 0.4204127871407287, 'n_estimators': 2600, 'colsample_bytree': 0.7448503258293477, 'colsample_bynode': 0.60396064888225, 'reg_lambda': 0.3673816876013983, 'reg_alpha': 0.01795057850300456, 'min_child_weight': 6, 'min_child_samples': 87}. Best is trial 0 with value: 0.8421848739495799.\u001b[0m\n",
      "\u001b[32m[I 2023-02-04 06:06:16,767]\u001b[0m Trial 26 finished with value: 0.8421848739495799 and parameters: {'max_depth': 178, 'num_leaves': 97, 'learning_rate': 0.23977498779496775, 'n_estimators': 2600, 'colsample_bytree': 0.8691643766592505, 'colsample_bynode': 0.7139136386833119, 'reg_lambda': 0.15805119284973085, 'reg_alpha': 0.17907228328976957, 'min_child_weight': 7, 'min_child_samples': 89}. Best is trial 0 with value: 0.8421848739495799.\u001b[0m\n",
      "\u001b[32m[I 2023-02-04 06:06:19,478]\u001b[0m Trial 27 finished with value: 0.8186554621848738 and parameters: {'max_depth': 110, 'num_leaves': 423, 'learning_rate': 0.718673842912491, 'n_estimators': 2900, 'colsample_bytree': 0.7327622217964134, 'colsample_bynode': 0.8644517857958157, 'reg_lambda': 0.8125869352492355, 'reg_alpha': 0.1642859321509612, 'min_child_weight': 5, 'min_child_samples': 6}. Best is trial 0 with value: 0.8421848739495799.\u001b[0m\n",
      "\u001b[32m[I 2023-02-04 06:06:19,613]\u001b[0m Trial 28 finished with value: 0.8421848739495799 and parameters: {'max_depth': 37, 'num_leaves': 757, 'learning_rate': 0.8320507396270536, 'n_estimators': 900, 'colsample_bytree': 0.7954865515760683, 'colsample_bynode': 0.9534395409488013, 'reg_lambda': 0.012793893441482934, 'reg_alpha': 0.39995643165773104, 'min_child_weight': 3, 'min_child_samples': 75}. Best is trial 0 with value: 0.8421848739495799.\u001b[0m\n",
      "\u001b[32m[I 2023-02-04 06:06:19,864]\u001b[0m Trial 29 finished with value: 0.8421848739495799 and parameters: {'max_depth': 180, 'num_leaves': 78, 'learning_rate': 0.4060335649292788, 'n_estimators': 2600, 'colsample_bytree': 0.9114818005848383, 'colsample_bynode': 0.5888730307447452, 'reg_lambda': 0.3124994996918704, 'reg_alpha': 0.0477679833210486, 'min_child_weight': 7, 'min_child_samples': 92}. Best is trial 0 with value: 0.8421848739495799.\u001b[0m\n",
      "\u001b[32m[I 2023-02-04 06:06:20,112]\u001b[0m Trial 30 finished with value: 0.8421848739495799 and parameters: {'max_depth': 297, 'num_leaves': 245, 'learning_rate': 0.2706290985674315, 'n_estimators': 2800, 'colsample_bytree': 0.8496597671843947, 'colsample_bynode': 0.5918231793757847, 'reg_lambda': 0.4260861208693954, 'reg_alpha': 0.20830914725731178, 'min_child_weight': 7, 'min_child_samples': 88}. Best is trial 0 with value: 0.8421848739495799.\u001b[0m\n",
      "\u001b[32m[I 2023-02-04 06:06:20,255]\u001b[0m Trial 31 finished with value: 0.8421848739495799 and parameters: {'max_depth': 283, 'num_leaves': 497, 'learning_rate': 0.40088382795188177, 'n_estimators': 900, 'colsample_bytree': 0.8756055399548754, 'colsample_bynode': 0.7719850025646908, 'reg_lambda': 0.012729481093933783, 'reg_alpha': 0.12063495177963554, 'min_child_weight': 3, 'min_child_samples': 77}. Best is trial 0 with value: 0.8421848739495799.\u001b[0m\n",
      "\u001b[32m[I 2023-02-04 06:06:20,471]\u001b[0m Trial 32 finished with value: 0.8421848739495799 and parameters: {'max_depth': 177, 'num_leaves': 84, 'learning_rate': 0.26961261601425734, 'n_estimators': 2200, 'colsample_bytree': 0.9208481915637432, 'colsample_bynode': 0.707385816446398, 'reg_lambda': 0.12436000602060263, 'reg_alpha': 0.04739800278368353, 'min_child_weight': 7, 'min_child_samples': 92}. Best is trial 0 with value: 0.8421848739495799.\u001b[0m\n",
      "\u001b[32m[I 2023-02-04 06:06:20,642]\u001b[0m Trial 33 finished with value: 0.8421848739495799 and parameters: {'max_depth': 345, 'num_leaves': 654, 'learning_rate': 0.34562373950579495, 'n_estimators': 1400, 'colsample_bytree': 0.8322806598118958, 'colsample_bynode': 0.5608813484841441, 'reg_lambda': 0.44731659477340935, 'reg_alpha': 0.20793538121684102, 'min_child_weight': 3, 'min_child_samples': 79}. Best is trial 0 with value: 0.8421848739495799.\u001b[0m\n",
      "\u001b[32m[I 2023-02-04 06:06:20,886]\u001b[0m Trial 34 finished with value: 0.8421848739495799 and parameters: {'max_depth': 303, 'num_leaves': 421, 'learning_rate': 0.4102943689562817, 'n_estimators': 2700, 'colsample_bytree': 0.8606426730328504, 'colsample_bynode': 0.6034973435442057, 'reg_lambda': 0.38636221957768907, 'reg_alpha': 0.10203601210902752, 'min_child_weight': 5, 'min_child_samples': 82}. Best is trial 0 with value: 0.8421848739495799.\u001b[0m\n",
      "\u001b[32m[I 2023-02-04 06:06:21,100]\u001b[0m Trial 35 finished with value: 0.8421848739495799 and parameters: {'max_depth': 259, 'num_leaves': 295, 'learning_rate': 0.2971416600449115, 'n_estimators': 2100, 'colsample_bytree': 0.9532891743507301, 'colsample_bynode': 0.780665177544207, 'reg_lambda': 0.03167118155651834, 'reg_alpha': 0.13476113240286766, 'min_child_weight': 4, 'min_child_samples': 70}. Best is trial 0 with value: 0.8421848739495799.\u001b[0m\n",
      "\u001b[32m[I 2023-02-04 06:06:21,297]\u001b[0m Trial 36 finished with value: 0.8421848739495799 and parameters: {'max_depth': 365, 'num_leaves': 580, 'learning_rate': 0.35425739014216123, 'n_estimators': 1800, 'colsample_bytree': 0.8279505365844448, 'colsample_bynode': 0.857652563457106, 'reg_lambda': 0.1103888880874085, 'reg_alpha': 0.06923465184408666, 'min_child_weight': 3, 'min_child_samples': 79}. Best is trial 0 with value: 0.8421848739495799.\u001b[0m\n",
      "\u001b[32m[I 2023-02-04 06:06:22,648]\u001b[0m Trial 37 finished with value: 0.8421848739495799 and parameters: {'max_depth': 60, 'num_leaves': 41, 'learning_rate': 0.0751755946484356, 'n_estimators': 1700, 'colsample_bytree': 0.6453544022839318, 'colsample_bynode': 0.5021996264331808, 'reg_lambda': 0.07254527874648552, 'reg_alpha': 0.8535226150584878, 'min_child_weight': 15, 'min_child_samples': 51}. Best is trial 0 with value: 0.8421848739495799.\u001b[0m\n",
      "\u001b[32m[I 2023-02-04 06:06:24,115]\u001b[0m Trial 38 finished with value: 0.8421848739495799 and parameters: {'max_depth': 103, 'num_leaves': 31, 'learning_rate': 0.12800049026518773, 'n_estimators': 2400, 'colsample_bytree': 0.5399356641853059, 'colsample_bynode': 0.9248960586679755, 'reg_lambda': 0.02497982526992838, 'reg_alpha': 0.646017818437677, 'min_child_weight': 13, 'min_child_samples': 61}. Best is trial 0 with value: 0.8421848739495799.\u001b[0m\n"
     ]
    },
    {
     "name": "stdout",
     "output_type": "stream",
     "text": [
      "\u001b[32m[I 2023-02-04 06:06:24,351]\u001b[0m Trial 39 finished with value: 0.8421848739495799 and parameters: {'max_depth': 136, 'num_leaves': 124, 'learning_rate': 0.6095116336733635, 'n_estimators': 2400, 'colsample_bytree': 0.6012188147426326, 'colsample_bynode': 0.8803363206423702, 'reg_lambda': 0.19141053412762435, 'reg_alpha': 0.5376085568441245, 'min_child_weight': 10, 'min_child_samples': 70}. Best is trial 0 with value: 0.8421848739495799.\u001b[0m\n",
      "\u001b[32m[I 2023-02-04 06:06:27,152]\u001b[0m Trial 40 finished with value: 0.8421848739495799 and parameters: {'max_depth': 90, 'num_leaves': 187, 'learning_rate': 0.6770097074148544, 'n_estimators': 2800, 'colsample_bytree': 0.5655838936123043, 'colsample_bynode': 0.8192996694518486, 'reg_lambda': 0.8320760968016202, 'reg_alpha': 0.030360055903546273, 'min_child_weight': 14, 'min_child_samples': 5}. Best is trial 0 with value: 0.8421848739495799.\u001b[0m\n",
      "\u001b[32m[I 2023-02-04 06:06:30,020]\u001b[0m Trial 41 finished with value: 0.8421848739495799 and parameters: {'max_depth': 209, 'num_leaves': 257, 'learning_rate': 0.5517120845749399, 'n_estimators': 3000, 'colsample_bytree': 0.5300442446240653, 'colsample_bynode': 0.548260889063059, 'reg_lambda': 0.6027342503547252, 'reg_alpha': 0.016015663641415108, 'min_child_weight': 13, 'min_child_samples': 18}. Best is trial 0 with value: 0.8421848739495799.\u001b[0m\n",
      "\u001b[32m[I 2023-02-04 06:06:30,265]\u001b[0m Trial 42 finished with value: 0.8421848739495799 and parameters: {'max_depth': 157, 'num_leaves': 53, 'learning_rate': 0.7529564355043503, 'n_estimators': 2600, 'colsample_bytree': 0.7044556679275651, 'colsample_bynode': 0.6642361905717096, 'reg_lambda': 0.15007836372339295, 'reg_alpha': 0.02099932125159491, 'min_child_weight': 6, 'min_child_samples': 87}. Best is trial 0 with value: 0.8421848739495799.\u001b[0m\n",
      "\u001b[32m[I 2023-02-04 06:06:30,574]\u001b[0m Trial 43 finished with value: 0.8421848739495799 and parameters: {'max_depth': 211, 'num_leaves': 18, 'learning_rate': 0.20231603439616105, 'n_estimators': 3000, 'colsample_bytree': 0.7522265098223263, 'colsample_bynode': 0.6278406398873835, 'reg_lambda': 0.1658646198574946, 'reg_alpha': 0.026765784296317974, 'min_child_weight': 6, 'min_child_samples': 94}. Best is trial 0 with value: 0.8421848739495799.\u001b[0m\n",
      "\u001b[32m[I 2023-02-04 06:06:30,768]\u001b[0m Trial 44 finished with value: 0.8421848739495799 and parameters: {'max_depth': 38, 'num_leaves': 38, 'learning_rate': 0.8649216461457802, 'n_estimators': 1400, 'colsample_bytree': 0.8044531936436051, 'colsample_bynode': 0.5408706116206196, 'reg_lambda': 0.686430723730813, 'reg_alpha': 0.34638107620475467, 'min_child_weight': 5, 'min_child_samples': 84}. Best is trial 0 with value: 0.8421848739495799.\u001b[0m\n",
      "\u001b[32m[I 2023-02-04 06:06:30,922]\u001b[0m Trial 45 finished with value: 0.8421848739495799 and parameters: {'max_depth': 33, 'num_leaves': 12, 'learning_rate': 0.8064690270695978, 'n_estimators': 800, 'colsample_bytree': 0.7947723994275294, 'colsample_bynode': 0.6865987302699326, 'reg_lambda': 0.9971135321817042, 'reg_alpha': 0.4650523518638676, 'min_child_weight': 9, 'min_child_samples': 74}. Best is trial 0 with value: 0.8421848739495799.\u001b[0m\n",
      "\u001b[32m[I 2023-02-04 06:06:31,092]\u001b[0m Trial 46 finished with value: 0.8421848739495799 and parameters: {'max_depth': 169, 'num_leaves': 76, 'learning_rate': 0.4814104651990135, 'n_estimators': 1100, 'colsample_bytree': 0.9060496793270926, 'colsample_bynode': 0.7372280971646292, 'reg_lambda': 0.3237160338051698, 'reg_alpha': 0.03789634847315411, 'min_child_weight': 7, 'min_child_samples': 93}. Best is trial 0 with value: 0.8421848739495799.\u001b[0m\n",
      "\u001b[32m[I 2023-02-04 06:06:31,240]\u001b[0m Trial 47 finished with value: 0.8421848739495799 and parameters: {'max_depth': 193, 'num_leaves': 108, 'learning_rate': 0.40026306973463005, 'n_estimators': 500, 'colsample_bytree': 0.9828055066234159, 'colsample_bynode': 0.584847254953066, 'reg_lambda': 0.21961367735591233, 'reg_alpha': 0.07996426984676593, 'min_child_weight': 4, 'min_child_samples': 88}. Best is trial 0 with value: 0.8421848739495799.\u001b[0m\n",
      "\u001b[32m[I 2023-02-04 06:06:31,488]\u001b[0m Trial 48 finished with value: 0.8421848739495799 and parameters: {'max_depth': 422, 'num_leaves': 198, 'learning_rate': 0.2271898257047139, 'n_estimators': 2000, 'colsample_bytree': 0.9332875849539761, 'colsample_bynode': 0.6418674007133744, 'reg_lambda': 0.3174812749799712, 'reg_alpha': 0.059189241505384974, 'min_child_weight': 8, 'min_child_samples': 96}. Best is trial 0 with value: 0.8421848739495799.\u001b[0m\n",
      "\u001b[32m[I 2023-02-04 06:06:31,751]\u001b[0m Trial 49 finished with value: 0.8421848739495799 and parameters: {'max_depth': 275, 'num_leaves': 69, 'learning_rate': 0.3257632693509347, 'n_estimators': 2800, 'colsample_bytree': 0.8723649375232009, 'colsample_bynode': 0.8848002669753274, 'reg_lambda': 0.014915594205987698, 'reg_alpha': 0.21132454608983103, 'min_child_weight': 7, 'min_child_samples': 85}. Best is trial 0 with value: 0.8421848739495799.\u001b[0m\n",
      "\u001b[32m[I 2023-02-04 06:06:31,909]\u001b[0m Trial 50 finished with value: 0.8421848739495799 and parameters: {'max_depth': 113, 'num_leaves': 7, 'learning_rate': 0.248920407182481, 'n_estimators': 1200, 'colsample_bytree': 0.8513220149200299, 'colsample_bynode': 0.9780886199438252, 'reg_lambda': 0.04031872489530866, 'reg_alpha': 0.16276360758189598, 'min_child_weight': 9, 'min_child_samples': 74}. Best is trial 0 with value: 0.8421848739495799.\u001b[0m\n",
      "\u001b[32m[I 2023-02-04 06:06:32,055]\u001b[0m Trial 51 finished with value: 0.8421848739495799 and parameters: {'max_depth': 320, 'num_leaves': 512, 'learning_rate': 0.2918767518373707, 'n_estimators': 800, 'colsample_bytree': 0.8989181147709888, 'colsample_bynode': 0.7816368329471421, 'reg_lambda': 0.01847967588248608, 'reg_alpha': 0.12186795998287366, 'min_child_weight': 3, 'min_child_samples': 92}. Best is trial 0 with value: 0.8421848739495799.\u001b[0m\n",
      "\u001b[32m[I 2023-02-04 06:06:32,202]\u001b[0m Trial 52 finished with value: 0.8421848739495799 and parameters: {'max_depth': 279, 'num_leaves': 928, 'learning_rate': 0.4451773042978038, 'n_estimators': 900, 'colsample_bytree': 0.9230680756381857, 'colsample_bynode': 0.8388771373054141, 'reg_lambda': 0.012646539471381736, 'reg_alpha': 0.24584820254241735, 'min_child_weight': 4, 'min_child_samples': 80}. Best is trial 0 with value: 0.8421848739495799.\u001b[0m\n",
      "\u001b[32m[I 2023-02-04 06:06:32,380]\u001b[0m Trial 53 finished with value: 0.8421848739495799 and parameters: {'max_depth': 356, 'num_leaves': 599, 'learning_rate': 0.3873289384293678, 'n_estimators': 1400, 'colsample_bytree': 0.8303918459019015, 'colsample_bynode': 0.5816635884830298, 'reg_lambda': 0.4641906664032629, 'reg_alpha': 0.2113714045094663, 'min_child_weight': 10, 'min_child_samples': 77}. Best is trial 0 with value: 0.8421848739495799.\u001b[0m\n",
      "\u001b[32m[I 2023-02-04 06:06:32,558]\u001b[0m Trial 54 finished with value: 0.8421848739495799 and parameters: {'max_depth': 399, 'num_leaves': 335, 'learning_rate': 0.3602454228766447, 'n_estimators': 1500, 'colsample_bytree': 0.8864240238384289, 'colsample_bynode': 0.7513107641285575, 'reg_lambda': 0.5174160438777294, 'reg_alpha': 0.08827630011690771, 'min_child_weight': 7, 'min_child_samples': 82}. Best is trial 0 with value: 0.8421848739495799.\u001b[0m\n",
      "\u001b[32m[I 2023-02-04 06:06:32,773]\u001b[0m Trial 55 finished with value: 0.8421848739495799 and parameters: {'max_depth': 242, 'num_leaves': 170, 'learning_rate': 0.298556984513812, 'n_estimators': 2200, 'colsample_bytree': 0.977982508421692, 'colsample_bynode': 0.5656736481846847, 'reg_lambda': 0.45974568307991487, 'reg_alpha': 0.05551184623665101, 'min_child_weight': 2, 'min_child_samples': 96}. Best is trial 0 with value: 0.8421848739495799.\u001b[0m\n",
      "\u001b[32m[I 2023-02-04 06:06:32,936]\u001b[0m Trial 56 finished with value: 0.8421848739495799 and parameters: {'max_depth': 333, 'num_leaves': 466, 'learning_rate': 0.5072699844749291, 'n_estimators': 1300, 'colsample_bytree': 0.8476709126632632, 'colsample_bynode': 0.5388555605455505, 'reg_lambda': 0.412973147648286, 'reg_alpha': 0.1059510142375964, 'min_child_weight': 5, 'min_child_samples': 82}. Best is trial 0 with value: 0.8421848739495799.\u001b[0m\n",
      "\u001b[32m[I 2023-02-04 06:06:34,464]\u001b[0m Trial 57 finished with value: 0.7894117647058824 and parameters: {'max_depth': 300, 'num_leaves': 380, 'learning_rate': 0.4436081078722655, 'n_estimators': 2800, 'colsample_bytree': 0.8759663312278348, 'colsample_bynode': 0.6070599842268158, 'reg_lambda': 0.057128931118684036, 'reg_alpha': 0.11604905041351446, 'min_child_weight': 3, 'min_child_samples': 68}. Best is trial 0 with value: 0.8421848739495799.\u001b[0m\n",
      "\u001b[32m[I 2023-02-04 06:06:34,667]\u001b[0m Trial 58 finished with value: 0.8421848739495799 and parameters: {'max_depth': 264, 'num_leaves': 732, 'learning_rate': 0.3161733552434614, 'n_estimators': 2100, 'colsample_bytree': 0.9614202551485376, 'colsample_bynode': 0.7712148353919223, 'reg_lambda': 0.034439523979989305, 'reg_alpha': 0.09276653260052982, 'min_child_weight': 4, 'min_child_samples': 70}. Best is trial 0 with value: 0.8421848739495799.\u001b[0m\n"
     ]
    },
    {
     "name": "stdout",
     "output_type": "stream",
     "text": [
      "\u001b[32m[I 2023-02-04 06:06:34,857]\u001b[0m Trial 59 finished with value: 0.8421848739495799 and parameters: {'max_depth': 360, 'num_leaves': 315, 'learning_rate': 0.36514204679250895, 'n_estimators': 1800, 'colsample_bytree': 0.8290456388409201, 'colsample_bynode': 0.7990106329027362, 'reg_lambda': 0.1039374066712332, 'reg_alpha': 0.06683329079702209, 'min_child_weight': 4, 'min_child_samples': 79}. Best is trial 0 with value: 0.8421848739495799.\u001b[0m\n",
      "\u001b[32m[I 2023-02-04 06:06:35,918]\u001b[0m Trial 60 finished with value: 0.8245378151260505 and parameters: {'max_depth': 337, 'num_leaves': 700, 'learning_rate': 0.17599382621876536, 'n_estimators': 1100, 'colsample_bytree': 0.9426684661741539, 'colsample_bynode': 0.7225917069332533, 'reg_lambda': 0.028982124220227494, 'reg_alpha': 0.1504408279627113, 'min_child_weight': 5, 'min_child_samples': 55}. Best is trial 0 with value: 0.8421848739495799.\u001b[0m\n",
      "\u001b[32m[I 2023-02-04 06:06:37,575]\u001b[0m Trial 61 finished with value: 0.8184873949579832 and parameters: {'max_depth': 384, 'num_leaves': 43, 'learning_rate': 0.08382367881601585, 'n_estimators': 1800, 'colsample_bytree': 0.6703259287818805, 'colsample_bynode': 0.5608107985502188, 'reg_lambda': 0.06255658641681734, 'reg_alpha': 0.1419617562377458, 'min_child_weight': 3, 'min_child_samples': 48}. Best is trial 0 with value: 0.8421848739495799.\u001b[0m\n",
      "\u001b[32m[I 2023-02-04 06:06:38,511]\u001b[0m Trial 62 finished with value: 0.8421848739495799 and parameters: {'max_depth': 458, 'num_leaves': 28, 'learning_rate': 0.06444441881637589, 'n_estimators': 1700, 'colsample_bytree': 0.6385642095613876, 'colsample_bynode': 0.9059693584938051, 'reg_lambda': 0.02673126235883828, 'reg_alpha': 0.7303036756091117, 'min_child_weight': 15, 'min_child_samples': 62}. Best is trial 0 with value: 0.8421848739495799.\u001b[0m\n",
      "\u001b[32m[I 2023-02-04 06:06:40,312]\u001b[0m Trial 63 finished with value: 0.8247058823529411 and parameters: {'max_depth': 312, 'num_leaves': 11, 'learning_rate': 0.12949041189125257, 'n_estimators': 2000, 'colsample_bytree': 0.6508266268423063, 'colsample_bynode': 0.9223896950779242, 'reg_lambda': 0.0860446393858811, 'reg_alpha': 0.6981977440286737, 'min_child_weight': 2, 'min_child_samples': 58}. Best is trial 0 with value: 0.8421848739495799.\u001b[0m\n",
      "\u001b[32m[I 2023-02-04 06:06:41,867]\u001b[0m Trial 64 finished with value: 0.8248739495798318 and parameters: {'max_depth': 348, 'num_leaves': 574, 'learning_rate': 0.35003237496210116, 'n_estimators': 1700, 'colsample_bytree': 0.9595811315137602, 'colsample_bynode': 0.8575547398240888, 'reg_lambda': 0.04575967771563362, 'reg_alpha': 0.06504739291406694, 'min_child_weight': 2, 'min_child_samples': 49}. Best is trial 0 with value: 0.8421848739495799.\u001b[0m\n",
      "\u001b[32m[I 2023-02-04 06:06:42,943]\u001b[0m Trial 65 finished with value: 0.8421848739495799 and parameters: {'max_depth': 8, 'num_leaves': 3, 'learning_rate': 0.02671045131986255, 'n_estimators': 1500, 'colsample_bytree': 0.5888460792925787, 'colsample_bynode': 0.5232563951605348, 'reg_lambda': 0.06802646096376752, 'reg_alpha': 0.3168805591251069, 'min_child_weight': 13, 'min_child_samples': 43}. Best is trial 0 with value: 0.8421848739495799.\u001b[0m\n",
      "\u001b[32m[I 2023-02-04 06:06:44,303]\u001b[0m Trial 66 finished with value: 0.8421848739495799 and parameters: {'max_depth': 374, 'num_leaves': 17, 'learning_rate': 0.10144667936887006, 'n_estimators': 2300, 'colsample_bytree': 0.5216766306298735, 'colsample_bynode': 0.5075244749062039, 'reg_lambda': 0.023614795847391387, 'reg_alpha': 0.5853319337154863, 'min_child_weight': 11, 'min_child_samples': 53}. Best is trial 0 with value: 0.8421848739495799.\u001b[0m\n",
      "\u001b[32m[I 2023-02-04 06:06:45,570]\u001b[0m Trial 67 finished with value: 0.8421848739495799 and parameters: {'max_depth': 9, 'num_leaves': 4, 'learning_rate': 0.01333515915118108, 'n_estimators': 1900, 'colsample_bytree': 0.5871383683194122, 'colsample_bynode': 0.518693961200408, 'reg_lambda': 0.03905557337937182, 'reg_alpha': 0.8836429257510616, 'min_child_weight': 13, 'min_child_samples': 43}. Best is trial 0 with value: 0.8421848739495799.\u001b[0m\n",
      "\u001b[32m[I 2023-02-04 06:06:46,444]\u001b[0m Trial 68 finished with value: 0.8421848739495799 and parameters: {'max_depth': 376, 'num_leaves': 21, 'learning_rate': 0.10532440540033182, 'n_estimators': 2200, 'colsample_bytree': 0.5194462146901996, 'colsample_bynode': 0.5010704886954293, 'reg_lambda': 0.022449092789841245, 'reg_alpha': 0.5826944937919203, 'min_child_weight': 11, 'min_child_samples': 67}. Best is trial 0 with value: 0.8421848739495799.\u001b[0m\n",
      "\u001b[32m[I 2023-02-04 06:06:47,934]\u001b[0m Trial 69 finished with value: 0.8421848739495799 and parameters: {'max_depth': 140, 'num_leaves': 5, 'learning_rate': 0.6227747553790857, 'n_estimators': 1900, 'colsample_bytree': 0.6015183055061243, 'colsample_bynode': 0.8818209234350631, 'reg_lambda': 0.03741125816673248, 'reg_alpha': 0.985972517413452, 'min_child_weight': 12, 'min_child_samples': 37}. Best is trial 0 with value: 0.8421848739495799.\u001b[0m\n",
      "\u001b[32m[I 2023-02-04 06:06:48,819]\u001b[0m Trial 70 finished with value: 0.8421848739495799 and parameters: {'max_depth': 64, 'num_leaves': 22, 'learning_rate': 0.16480639966738003, 'n_estimators': 2400, 'colsample_bytree': 0.5578036804967991, 'colsample_bynode': 0.9318047182689021, 'reg_lambda': 0.087484738776713, 'reg_alpha': 0.5681409454717072, 'min_child_weight': 10, 'min_child_samples': 67}. Best is trial 0 with value: 0.8421848739495799.\u001b[0m\n",
      "\u001b[32m[I 2023-02-04 06:06:51,222]\u001b[0m Trial 71 finished with value: 0.8421848739495799 and parameters: {'max_depth': 140, 'num_leaves': 196, 'learning_rate': 0.6472167239001018, 'n_estimators': 2900, 'colsample_bytree': 0.5633569814860468, 'colsample_bynode': 0.8792919424797169, 'reg_lambda': 0.12000613163319762, 'reg_alpha': 0.014394921999961612, 'min_child_weight': 14, 'min_child_samples': 26}. Best is trial 0 with value: 0.8421848739495799.\u001b[0m\n",
      "\u001b[32m[I 2023-02-04 06:06:53,478]\u001b[0m Trial 72 finished with value: 0.8421848739495799 and parameters: {'max_depth': 97, 'num_leaves': 15, 'learning_rate': 0.5714696458778131, 'n_estimators': 2400, 'colsample_bytree': 0.5667919211577381, 'colsample_bynode': 0.8271006506499025, 'reg_lambda': 0.08897405373641776, 'reg_alpha': 0.03471907494389725, 'min_child_weight': 14, 'min_child_samples': 12}. Best is trial 0 with value: 0.8421848739495799.\u001b[0m\n",
      "\u001b[32m[I 2023-02-04 06:06:55,552]\u001b[0m Trial 73 finished with value: 0.8421848739495799 and parameters: {'max_depth': 159, 'num_leaves': 55, 'learning_rate': 0.668395297377251, 'n_estimators': 2500, 'colsample_bytree': 0.6894610931481421, 'colsample_bynode': 0.8675599363576781, 'reg_lambda': 0.12752254584856046, 'reg_alpha': 0.013525864172921558, 'min_child_weight': 14, 'min_child_samples': 23}. Best is trial 0 with value: 0.8421848739495799.\u001b[0m\n",
      "\u001b[32m[I 2023-02-04 06:06:58,110]\u001b[0m Trial 74 finished with value: 0.8421848739495799 and parameters: {'max_depth': 94, 'num_leaves': 34, 'learning_rate': 0.5559462728501667, 'n_estimators': 2700, 'colsample_bytree': 0.5400165972929966, 'colsample_bynode': 0.8179574781018861, 'reg_lambda': 0.6278380879599023, 'reg_alpha': 0.03183695909147872, 'min_child_weight': 15, 'min_child_samples': 9}. Best is trial 0 with value: 0.8421848739495799.\u001b[0m\n",
      "\u001b[32m[I 2023-02-04 06:07:00,454]\u001b[0m Trial 75 finished with value: 0.8421848739495799 and parameters: {'max_depth': 216, 'num_leaves': 48, 'learning_rate': 0.7495400101324927, 'n_estimators': 2900, 'colsample_bytree': 0.7122706300893251, 'colsample_bynode': 0.8995858632090564, 'reg_lambda': 0.158492934789818, 'reg_alpha': 0.021412230767561095, 'min_child_weight': 12, 'min_child_samples': 26}. Best is trial 0 with value: 0.8421848739495799.\u001b[0m\n",
      "\u001b[32m[I 2023-02-04 06:07:00,583]\u001b[0m Trial 76 finished with value: 0.8421848739495799 and parameters: {'max_depth': 117, 'num_leaves': 8, 'learning_rate': 0.23220827011471976, 'n_estimators': 500, 'colsample_bytree': 0.910960016550824, 'colsample_bynode': 0.6808094571570203, 'reg_lambda': 0.01772059240914034, 'reg_alpha': 0.03931507597200473, 'min_child_weight': 9, 'min_child_samples': 98}. Best is trial 0 with value: 0.8421848739495799.\u001b[0m\n",
      "\u001b[32m[I 2023-02-04 06:07:00,703]\u001b[0m Trial 77 finished with value: 0.8421848739495799 and parameters: {'max_depth': 272, 'num_leaves': 66, 'learning_rate': 0.458063864193181, 'n_estimators': 600, 'colsample_bytree': 0.9998362140432389, 'colsample_bynode': 0.8358179620666142, 'reg_lambda': 0.014943840703262585, 'reg_alpha': 0.23656293848218363, 'min_child_weight': 8, 'min_child_samples': 92}. Best is trial 0 with value: 0.8421848739495799.\u001b[0m\n",
      "\u001b[32m[I 2023-02-04 06:07:00,858]\u001b[0m Trial 78 finished with value: 0.8421848739495799 and parameters: {'max_depth': 232, 'num_leaves': 926, 'learning_rate': 0.5027568664632199, 'n_estimators': 1100, 'colsample_bytree': 0.9005181049999561, 'colsample_bynode': 0.9968661095871508, 'reg_lambda': 0.010076138506388034, 'reg_alpha': 0.07891027579129051, 'min_child_weight': 8, 'min_child_samples': 85}. Best is trial 0 with value: 0.8421848739495799.\u001b[0m\n"
     ]
    },
    {
     "name": "stdout",
     "output_type": "stream",
     "text": [
      "\u001b[32m[I 2023-02-04 06:07:00,964]\u001b[0m Trial 79 finished with value: 0.8421848739495799 and parameters: {'max_depth': 416, 'num_leaves': 992, 'learning_rate': 0.3906193376742815, 'n_estimators': 300, 'colsample_bytree': 0.9758059932559606, 'colsample_bynode': 0.9674998331465264, 'reg_lambda': 0.01310761639106309, 'reg_alpha': 0.18865946922854077, 'min_child_weight': 10, 'min_child_samples': 90}. Best is trial 0 with value: 0.8421848739495799.\u001b[0m\n",
      "\u001b[32m[I 2023-02-04 06:07:01,117]\u001b[0m Trial 80 finished with value: 0.8421848739495799 and parameters: {'max_depth': 314, 'num_leaves': 131, 'learning_rate': 0.22025743832707162, 'n_estimators': 1200, 'colsample_bytree': 0.9282648949169371, 'colsample_bynode': 0.6448288802768658, 'reg_lambda': 0.2200709552555057, 'reg_alpha': 0.25951091243369934, 'min_child_weight': 10, 'min_child_samples': 76}. Best is trial 0 with value: 0.8421848739495799.\u001b[0m\n",
      "\u001b[32m[I 2023-02-04 06:07:01,250]\u001b[0m Trial 81 finished with value: 0.8421848739495799 and parameters: {'max_depth': 403, 'num_leaves': 364, 'learning_rate': 0.32088868747713, 'n_estimators': 800, 'colsample_bytree': 0.89056087265298, 'colsample_bynode': 0.7553399646888236, 'reg_lambda': 0.02080219330693873, 'reg_alpha': 0.08863933433637929, 'min_child_weight': 8, 'min_child_samples': 81}. Best is trial 0 with value: 0.8421848739495799.\u001b[0m\n",
      "\u001b[32m[I 2023-02-04 06:07:01,375]\u001b[0m Trial 82 finished with value: 0.8421848739495799 and parameters: {'max_depth': 449, 'num_leaves': 219, 'learning_rate': 0.3736535499977265, 'n_estimators': 700, 'colsample_bytree': 0.8867690299450594, 'colsample_bynode': 0.7931911402333751, 'reg_lambda': 0.5047634395058903, 'reg_alpha': 0.16152490868473354, 'min_child_weight': 9, 'min_child_samples': 87}. Best is trial 0 with value: 0.8421848739495799.\u001b[0m\n",
      "\u001b[32m[I 2023-02-04 06:07:01,525]\u001b[0m Trial 83 finished with value: 0.8421848739495799 and parameters: {'max_depth': 244, 'num_leaves': 153, 'learning_rate': 0.2808800517320555, 'n_estimators': 1000, 'colsample_bytree': 0.935273141102976, 'colsample_bynode': 0.8476081869633112, 'reg_lambda': 0.015843480296896795, 'reg_alpha': 0.21195339310429295, 'min_child_weight': 2, 'min_child_samples': 96}. Best is trial 0 with value: 0.8421848739495799.\u001b[0m\n",
      "\u001b[32m[I 2023-02-04 06:07:01,699]\u001b[0m Trial 84 finished with value: 0.8421848739495799 and parameters: {'max_depth': 322, 'num_leaves': 497, 'learning_rate': 0.30245790576030873, 'n_estimators': 1500, 'colsample_bytree': 0.8460004078271474, 'colsample_bynode': 0.7593161181447754, 'reg_lambda': 0.5029523958548703, 'reg_alpha': 0.10805925190658686, 'min_child_weight': 4, 'min_child_samples': 73}. Best is trial 0 with value: 0.8421848739495799.\u001b[0m\n",
      "\u001b[32m[I 2023-02-04 06:07:01,868]\u001b[0m Trial 85 finished with value: 0.8421848739495799 and parameters: {'max_depth': 348, 'num_leaves': 304, 'learning_rate': 0.37119219868427294, 'n_estimators': 1300, 'colsample_bytree': 0.9645711192024211, 'colsample_bynode': 0.7971365494923864, 'reg_lambda': 0.3919488530153284, 'reg_alpha': 0.08814584970526612, 'min_child_weight': 4, 'min_child_samples': 81}. Best is trial 0 with value: 0.8421848739495799.\u001b[0m\n",
      "\u001b[32m[I 2023-02-04 06:07:02,009]\u001b[0m Trial 86 finished with value: 0.8421848739495799 and parameters: {'max_depth': 360, 'num_leaves': 834, 'learning_rate': 0.5075803493193227, 'n_estimators': 1000, 'colsample_bytree': 0.811054778872195, 'colsample_bynode': 0.768310233363479, 'reg_lambda': 0.011368554414329943, 'reg_alpha': 0.05637507619441659, 'min_child_weight': 5, 'min_child_samples': 78}. Best is trial 0 with value: 0.8421848739495799.\u001b[0m\n",
      "\u001b[32m[I 2023-02-04 06:07:02,189]\u001b[0m Trial 87 finished with value: 0.8421848739495799 and parameters: {'max_depth': 511, 'num_leaves': 641, 'learning_rate': 0.43451759790716443, 'n_estimators': 1600, 'colsample_bytree': 0.820129300542505, 'colsample_bynode': 0.732675594992355, 'reg_lambda': 0.026517984241910313, 'reg_alpha': 0.09194009542863472, 'min_child_weight': 4, 'min_child_samples': 82}. Best is trial 0 with value: 0.8421848739495799.\u001b[0m\n",
      "\u001b[32m[I 2023-02-04 06:07:02,351]\u001b[0m Trial 88 finished with value: 0.8421848739495799 and parameters: {'max_depth': 448, 'num_leaves': 355, 'learning_rate': 0.5255340587125975, 'n_estimators': 1300, 'colsample_bytree': 0.9725984720740123, 'colsample_bynode': 0.5755495415599134, 'reg_lambda': 0.0346653091764119, 'reg_alpha': 0.061083653735961904, 'min_child_weight': 6, 'min_child_samples': 72}. Best is trial 0 with value: 0.8421848739495799.\u001b[0m\n",
      "\u001b[32m[I 2023-02-04 06:07:03,597]\u001b[0m Trial 89 finished with value: 0.8304201680672267 and parameters: {'max_depth': 408, 'num_leaves': 3, 'learning_rate': 0.029319996975379257, 'n_estimators': 1500, 'colsample_bytree': 0.7326006832546547, 'colsample_bynode': 0.5355434718841474, 'reg_lambda': 0.04873568331086249, 'reg_alpha': 0.30862337748317015, 'min_child_weight': 2, 'min_child_samples': 64}. Best is trial 0 with value: 0.8421848739495799.\u001b[0m\n",
      "\u001b[32m[I 2023-02-04 06:07:05,108]\u001b[0m Trial 90 finished with value: 0.8478991596638655 and parameters: {'max_depth': 394, 'num_leaves': 470, 'learning_rate': 0.04546500581743822, 'n_estimators': 1500, 'colsample_bytree': 0.8398777665746964, 'colsample_bynode': 0.5223733858725536, 'reg_lambda': 0.06239176246601872, 'reg_alpha': 0.0736256530653832, 'min_child_weight': 5, 'min_child_samples': 61}. Best is trial 90 with value: 0.8478991596638655.\u001b[0m\n",
      "\u001b[32m[I 2023-02-04 06:07:06,095]\u001b[0m Trial 91 finished with value: 0.8421848739495799 and parameters: {'max_depth': 391, 'num_leaves': 2, 'learning_rate': 0.05320048656690352, 'n_estimators': 1700, 'colsample_bytree': 0.7758486451570508, 'colsample_bynode': 0.5326011977202787, 'reg_lambda': 0.4649408109530066, 'reg_alpha': 0.05089337122601931, 'min_child_weight': 11, 'min_child_samples': 60}. Best is trial 90 with value: 0.8478991596638655.\u001b[0m\n",
      "\u001b[32m[I 2023-02-04 06:07:08,312]\u001b[0m Trial 92 finished with value: 0.8361344537815126 and parameters: {'max_depth': 468, 'num_leaves': 14, 'learning_rate': 0.051218976104994825, 'n_estimators': 2300, 'colsample_bytree': 0.5161504328474792, 'colsample_bynode': 0.5183582123522766, 'reg_lambda': 0.06681734388588707, 'reg_alpha': 0.06843568473330029, 'min_child_weight': 5, 'min_child_samples': 54}. Best is trial 90 with value: 0.8478991596638655.\u001b[0m\n",
      "\u001b[32m[I 2023-02-04 06:07:10,131]\u001b[0m Trial 93 finished with value: 0.830420168067227 and parameters: {'max_depth': 436, 'num_leaves': 26, 'learning_rate': 0.004350387002240483, 'n_estimators': 2100, 'colsample_bytree': 0.5790688084983839, 'colsample_bynode': 0.5261928862462896, 'reg_lambda': 0.02867946328029616, 'reg_alpha': 0.0536806249838162, 'min_child_weight': 6, 'min_child_samples': 58}. Best is trial 90 with value: 0.8478991596638655.\u001b[0m\n",
      "\u001b[32m[I 2023-02-04 06:07:11,349]\u001b[0m Trial 94 finished with value: 0.8421848739495799 and parameters: {'max_depth': 28, 'num_leaves': 3, 'learning_rate': 0.0051121337556607055, 'n_estimators': 1800, 'colsample_bytree': 0.5875630615348728, 'colsample_bynode': 0.547452977010399, 'reg_lambda': 0.05564876847005942, 'reg_alpha': 0.8590827621742145, 'min_child_weight': 13, 'min_child_samples': 45}. Best is trial 90 with value: 0.8478991596638655.\u001b[0m\n",
      "\u001b[32m[I 2023-02-04 06:07:12,747]\u001b[0m Trial 95 finished with value: 0.8421848739495799 and parameters: {'max_depth': 9, 'num_leaves': 28, 'learning_rate': 0.10433993411992888, 'n_estimators': 2000, 'colsample_bytree': 0.6281340921413383, 'colsample_bynode': 0.5602577950112866, 'reg_lambda': 0.04158949603861718, 'reg_alpha': 0.735518188514735, 'min_child_weight': 15, 'min_child_samples': 42}. Best is trial 90 with value: 0.8478991596638655.\u001b[0m\n",
      "\u001b[32m[I 2023-02-04 06:07:14,465]\u001b[0m Trial 96 finished with value: 0.8421848739495799 and parameters: {'max_depth': 43, 'num_leaves': 5, 'learning_rate': 0.08172506486636974, 'n_estimators': 2100, 'colsample_bytree': 0.9873615332498638, 'colsample_bynode': 0.523214495808958, 'reg_lambda': 0.03378379607392584, 'reg_alpha': 0.764834841068753, 'min_child_weight': 11, 'min_child_samples': 35}. Best is trial 90 with value: 0.8478991596638655.\u001b[0m\n",
      "\u001b[32m[I 2023-02-04 06:07:15,272]\u001b[0m Trial 97 finished with value: 0.8421848739495799 and parameters: {'max_depth': 374, 'num_leaves': 19, 'learning_rate': 0.10938698711533656, 'n_estimators': 1700, 'colsample_bytree': 0.5084092440783248, 'colsample_bynode': 0.5035290643264385, 'reg_lambda': 0.021692586754927697, 'reg_alpha': 0.5726675991614696, 'min_child_weight': 11, 'min_child_samples': 63}. Best is trial 90 with value: 0.8478991596638655.\u001b[0m\n"
     ]
    },
    {
     "name": "stdout",
     "output_type": "stream",
     "text": [
      "\u001b[32m[I 2023-02-04 06:07:16,444]\u001b[0m Trial 98 finished with value: 0.8421848739495799 and parameters: {'max_depth': 14, 'num_leaves': 5, 'learning_rate': 0.03363214192461134, 'n_estimators': 1900, 'colsample_bytree': 0.6125451114702293, 'colsample_bynode': 0.5150157847156849, 'reg_lambda': 0.03734638353137421, 'reg_alpha': 0.9936217816016231, 'min_child_weight': 12, 'min_child_samples': 52}. Best is trial 90 with value: 0.8478991596638655.\u001b[0m\n",
      "\u001b[32m[I 2023-02-04 06:07:17,847]\u001b[0m Trial 99 finished with value: 0.8421848739495799 and parameters: {'max_depth': 25, 'num_leaves': 4, 'learning_rate': 0.0625251906985361, 'n_estimators': 1900, 'colsample_bytree': 0.5937290113128678, 'colsample_bynode': 0.8921338462085913, 'reg_lambda': 0.026033179808624785, 'reg_alpha': 0.42147580224376846, 'min_child_weight': 12, 'min_child_samples': 36}. Best is trial 90 with value: 0.8478991596638655.\u001b[0m\n",
      "\u001b[32m[I 2023-02-04 06:07:18,778]\u001b[0m Trial 100 finished with value: 0.8421848739495799 and parameters: {'max_depth': 500, 'num_leaves': 22, 'learning_rate': 0.1748276970793887, 'n_estimators': 2300, 'colsample_bytree': 0.5193595430791583, 'colsample_bynode': 0.916969770531421, 'reg_lambda': 0.09389272930315615, 'reg_alpha': 0.6053710541416495, 'min_child_weight': 12, 'min_child_samples': 67}. Best is trial 90 with value: 0.8478991596638655.\u001b[0m\n",
      "\u001b[32m[I 2023-02-04 06:07:20,564]\u001b[0m Trial 101 finished with value: 0.8421848739495799 and parameters: {'max_depth': 73, 'num_leaves': 22, 'learning_rate': 0.14847517920224565, 'n_estimators': 2300, 'colsample_bytree': 0.5560227749541237, 'colsample_bynode': 0.9393809084258264, 'reg_lambda': 0.1091144746842893, 'reg_alpha': 0.7917569078700043, 'min_child_weight': 13, 'min_child_samples': 29}. Best is trial 90 with value: 0.8478991596638655.\u001b[0m\n",
      "\u001b[32m[I 2023-02-04 06:07:22,276]\u001b[0m Trial 102 finished with value: 0.8421848739495799 and parameters: {'max_depth': 49, 'num_leaves': 15, 'learning_rate': 0.10217468581661011, 'n_estimators': 2500, 'colsample_bytree': 0.5632730813286775, 'colsample_bynode': 0.9358362773850584, 'reg_lambda': 0.07834604043772916, 'reg_alpha': 0.5335352757330133, 'min_child_weight': 14, 'min_child_samples': 40}. Best is trial 90 with value: 0.8478991596638655.\u001b[0m\n",
      "\u001b[32m[I 2023-02-04 06:07:23,679]\u001b[0m Trial 103 finished with value: 0.8421848739495799 and parameters: {'max_depth': 5, 'num_leaves': 9, 'learning_rate': 0.6330427610823884, 'n_estimators': 2200, 'colsample_bytree': 0.5720759961550552, 'colsample_bynode': 0.8728438517377465, 'reg_lambda': 0.06280625334366585, 'reg_alpha': 0.983185253064318, 'min_child_weight': 13, 'min_child_samples': 44}. Best is trial 90 with value: 0.8478991596638655.\u001b[0m\n",
      "\u001b[32m[I 2023-02-04 06:07:25,981]\u001b[0m Trial 104 finished with value: 0.8421848739495799 and parameters: {'max_depth': 141, 'num_leaves': 4, 'learning_rate': 0.6677055603521994, 'n_estimators': 2500, 'colsample_bytree': 0.5535919972793968, 'colsample_bynode': 0.8694614440345101, 'reg_lambda': 0.13539033841399198, 'reg_alpha': 0.014723262877727645, 'min_child_weight': 14, 'min_child_samples': 13}. Best is trial 90 with value: 0.8478991596638655.\u001b[0m\n",
      "\u001b[32m[I 2023-02-04 06:07:28,373]\u001b[0m Trial 105 finished with value: 0.8421848739495799 and parameters: {'max_depth': 97, 'num_leaves': 6, 'learning_rate': 0.5781671519140632, 'n_estimators': 2500, 'colsample_bytree': 0.5311266778347719, 'colsample_bynode': 0.820545621085009, 'reg_lambda': 0.11786956106963997, 'reg_alpha': 0.012348670882664035, 'min_child_weight': 14, 'min_child_samples': 10}. Best is trial 90 with value: 0.8478991596638655.\u001b[0m\n",
      "\u001b[32m[I 2023-02-04 06:07:30,685]\u001b[0m Trial 106 finished with value: 0.8421848739495799 and parameters: {'max_depth': 162, 'num_leaves': 39, 'learning_rate': 0.7481709204854775, 'n_estimators': 2900, 'colsample_bytree': 0.7003095446314007, 'colsample_bynode': 0.8863072985195785, 'reg_lambda': 0.08737849407012507, 'reg_alpha': 0.021621576534582264, 'min_child_weight': 14, 'min_child_samples': 23}. Best is trial 90 with value: 0.8478991596638655.\u001b[0m\n",
      "\u001b[32m[I 2023-02-04 06:07:32,831]\u001b[0m Trial 107 finished with value: 0.8421848739495799 and parameters: {'max_depth': 65, 'num_leaves': 56, 'learning_rate': 0.6824615228353006, 'n_estimators': 2700, 'colsample_bytree': 0.5411426029724354, 'colsample_bynode': 0.8917825776522812, 'reg_lambda': 0.12901078285401327, 'reg_alpha': 0.031825514927089744, 'min_child_weight': 15, 'min_child_samples': 25}. Best is trial 90 with value: 0.8478991596638655.\u001b[0m\n",
      "\u001b[32m[I 2023-02-04 06:07:34,958]\u001b[0m Trial 108 finished with value: 0.8421848739495799 and parameters: {'max_depth': 122, 'num_leaves': 32, 'learning_rate': 0.619000746236758, 'n_estimators': 2700, 'colsample_bytree': 0.7234716144616995, 'colsample_bynode': 0.810380167828104, 'reg_lambda': 0.07891630122554182, 'reg_alpha': 0.04066042881138517, 'min_child_weight': 10, 'min_child_samples': 19}. Best is trial 90 with value: 0.8478991596638655.\u001b[0m\n",
      "\u001b[32m[I 2023-02-04 06:07:35,369]\u001b[0m Trial 109 finished with value: 0.8421848739495799 and parameters: {'max_depth': 83, 'num_leaves': 34, 'learning_rate': 0.5973224036328635, 'n_estimators': 400, 'colsample_bytree': 0.6891268396198377, 'colsample_bynode': 0.8336279845346323, 'reg_lambda': 0.14867524869784393, 'reg_alpha': 0.025607541377045722, 'min_child_weight': 14, 'min_child_samples': 27}. Best is trial 90 with value: 0.8478991596638655.\u001b[0m\n",
      "\u001b[32m[I 2023-02-04 06:07:35,619]\u001b[0m Trial 110 finished with value: 0.8421848739495799 and parameters: {'max_depth': 196, 'num_leaves': 48, 'learning_rate': 0.5343486015697448, 'n_estimators': 2900, 'colsample_bytree': 0.7620987363071599, 'colsample_bynode': 0.9993907035720427, 'reg_lambda': 0.011010102577040545, 'reg_alpha': 0.035020154260854135, 'min_child_weight': 8, 'min_child_samples': 100}. Best is trial 90 with value: 0.8478991596638655.\u001b[0m\n",
      "\u001b[32m[I 2023-02-04 06:07:35,990]\u001b[0m Trial 111 finished with value: 0.8421848739495799 and parameters: {'max_depth': 227, 'num_leaves': 61, 'learning_rate': 0.4671573636106992, 'n_estimators': 300, 'colsample_bytree': 0.9996412761387609, 'colsample_bynode': 0.9652398757396047, 'reg_lambda': 0.01451425509009994, 'reg_alpha': 0.0183223275878124, 'min_child_weight': 9, 'min_child_samples': 9}. Best is trial 90 with value: 0.8478991596638655.\u001b[0m\n",
      "\u001b[32m[I 2023-02-04 06:07:36,089]\u001b[0m Trial 112 finished with value: 0.8421848739495799 and parameters: {'max_depth': 130, 'num_leaves': 994, 'learning_rate': 0.5780177117137804, 'n_estimators': 200, 'colsample_bytree': 0.9159672554230697, 'colsample_bynode': 0.8478352109857797, 'reg_lambda': 0.184768449463075, 'reg_alpha': 0.1885439731708144, 'min_child_weight': 8, 'min_child_samples': 90}. Best is trial 90 with value: 0.8478991596638655.\u001b[0m\n",
      "\u001b[32m[I 2023-02-04 06:07:36,618]\u001b[0m Trial 113 finished with value: 0.8421848739495799 and parameters: {'max_depth': 154, 'num_leaves': 102, 'learning_rate': 0.6611848584428818, 'n_estimators': 500, 'colsample_bytree': 0.9277279919185741, 'colsample_bynode': 0.9834094103864663, 'reg_lambda': 0.010256517899147553, 'reg_alpha': 0.2635396418376167, 'min_child_weight': 9, 'min_child_samples': 21}. Best is trial 90 with value: 0.8478991596638655.\u001b[0m\n",
      "\u001b[32m[I 2023-02-04 06:07:37,236]\u001b[0m Trial 114 finished with value: 0.713781512605042 and parameters: {'max_depth': 406, 'num_leaves': 45, 'learning_rate': 0.4643431831746154, 'n_estimators': 600, 'colsample_bytree': 0.9065010609440994, 'colsample_bynode': 0.6950193667014454, 'reg_lambda': 0.017845643955529577, 'reg_alpha': 0.024265183667585337, 'min_child_weight': 8, 'min_child_samples': 14}. Best is trial 90 with value: 0.8478991596638655.\u001b[0m\n",
      "\u001b[32m[I 2023-02-04 06:07:37,344]\u001b[0m Trial 115 finished with value: 0.8421848739495799 and parameters: {'max_depth': 112, 'num_leaves': 864, 'learning_rate': 0.5489709062384587, 'n_estimators': 300, 'colsample_bytree': 0.991351022264987, 'colsample_bynode': 0.9621101035445089, 'reg_lambda': 0.013349219661623375, 'reg_alpha': 0.015929549336776167, 'min_child_weight': 15, 'min_child_samples': 98}. Best is trial 90 with value: 0.8478991596638655.\u001b[0m\n",
      "\u001b[32m[I 2023-02-04 06:07:37,474]\u001b[0m Trial 116 finished with value: 0.8421848739495799 and parameters: {'max_depth': 226, 'num_leaves': 121, 'learning_rate': 0.42849454820373983, 'n_estimators': 700, 'colsample_bytree': 0.8908745323914861, 'colsample_bynode': 0.8115776358780756, 'reg_lambda': 0.7023254708898, 'reg_alpha': 0.2332734618844436, 'min_child_weight': 9, 'min_child_samples': 90}. Best is trial 90 with value: 0.8478991596638655.\u001b[0m\n",
      "\u001b[32m[I 2023-02-04 06:07:37,597]\u001b[0m Trial 117 finished with value: 0.8421848739495799 and parameters: {'max_depth': 287, 'num_leaves': 243, 'learning_rate': 0.2166743484186751, 'n_estimators': 700, 'colsample_bytree': 0.943666165839353, 'colsample_bynode': 0.7869491807826329, 'reg_lambda': 0.2356000883775321, 'reg_alpha': 0.07946853438339184, 'min_child_weight': 9, 'min_child_samples': 85}. Best is trial 90 with value: 0.8478991596638655.\u001b[0m\n"
     ]
    },
    {
     "name": "stdout",
     "output_type": "stream",
     "text": [
      "\u001b[32m[I 2023-02-04 06:07:37,746]\u001b[0m Trial 118 finished with value: 0.8421848739495799 and parameters: {'max_depth': 253, 'num_leaves': 153, 'learning_rate': 0.27542482506443366, 'n_estimators': 1000, 'colsample_bytree': 0.884310910714054, 'colsample_bynode': 0.8408936442290307, 'reg_lambda': 0.015919298305793233, 'reg_alpha': 0.23290948951763019, 'min_child_weight': 10, 'min_child_samples': 85}. Best is trial 90 with value: 0.8478991596638655.\u001b[0m\n",
      "\u001b[32m[I 2023-02-04 06:07:37,901]\u001b[0m Trial 119 finished with value: 0.8421848739495799 and parameters: {'max_depth': 435, 'num_leaves': 215, 'learning_rate': 0.324687713991598, 'n_estimators': 1200, 'colsample_bytree': 0.9324001032915376, 'colsample_bynode': 0.7589082627605537, 'reg_lambda': 0.012160101043833506, 'reg_alpha': 0.16763540534281446, 'min_child_weight': 8, 'min_child_samples': 94}. Best is trial 90 with value: 0.8478991596638655.\u001b[0m\n",
      "\u001b[32m[I 2023-02-04 06:07:38,047]\u001b[0m Trial 120 finished with value: 0.8421848739495799 and parameters: {'max_depth': 316, 'num_leaves': 480, 'learning_rate': 0.3841837571374615, 'n_estimators': 1100, 'colsample_bytree': 0.9677250413658224, 'colsample_bynode': 0.7876861278527639, 'reg_lambda': 0.01909453580688243, 'reg_alpha': 0.11192516172399965, 'min_child_weight': 8, 'min_child_samples': 87}. Best is trial 90 with value: 0.8478991596638655.\u001b[0m\n",
      "\u001b[32m[I 2023-02-04 06:07:38,187]\u001b[0m Trial 121 finished with value: 0.8421848739495799 and parameters: {'max_depth': 422, 'num_leaves': 802, 'learning_rate': 0.37483135922307903, 'n_estimators': 1000, 'colsample_bytree': 0.8993460171848302, 'colsample_bynode': 0.7626767318020296, 'reg_lambda': 0.01167756650769806, 'reg_alpha': 0.1503001881268135, 'min_child_weight': 3, 'min_child_samples': 76}. Best is trial 90 with value: 0.8478991596638655.\u001b[0m\n",
      "\u001b[32m[I 2023-02-04 06:07:38,327]\u001b[0m Trial 122 finished with value: 0.8421848739495799 and parameters: {'max_depth': 328, 'num_leaves': 408, 'learning_rate': 0.5049145595283172, 'n_estimators': 900, 'colsample_bytree': 0.8199611524174412, 'colsample_bynode': 0.7400164818209656, 'reg_lambda': 0.020755102400409026, 'reg_alpha': 0.09258610058421478, 'min_child_weight': 4, 'min_child_samples': 81}. Best is trial 90 with value: 0.8478991596638655.\u001b[0m\n",
      "\u001b[32m[I 2023-02-04 06:07:38,454]\u001b[0m Trial 123 finished with value: 0.8421848739495799 and parameters: {'max_depth': 499, 'num_leaves': 851, 'learning_rate': 0.3085537503950324, 'n_estimators': 700, 'colsample_bytree': 0.843303652938927, 'colsample_bynode': 0.7974777940134552, 'reg_lambda': 0.014053928426264307, 'reg_alpha': 0.07708005931023339, 'min_child_weight': 10, 'min_child_samples': 83}. Best is trial 90 with value: 0.8478991596638655.\u001b[0m\n",
      "\u001b[32m[I 2023-02-04 06:07:38,616]\u001b[0m Trial 124 finished with value: 0.8421848739495799 and parameters: {'max_depth': 389, 'num_leaves': 665, 'learning_rate': 0.25764077431260496, 'n_estimators': 1300, 'colsample_bytree': 0.8170841810549873, 'colsample_bynode': 0.7268675229154157, 'reg_lambda': 0.016069757305338495, 'reg_alpha': 0.13113608828839013, 'min_child_weight': 4, 'min_child_samples': 77}. Best is trial 90 with value: 0.8478991596638655.\u001b[0m\n",
      "\u001b[32m[I 2023-02-04 06:07:38,770]\u001b[0m Trial 125 finished with value: 0.8421848739495799 and parameters: {'max_depth': 453, 'num_leaves': 370, 'learning_rate': 0.489365232959261, 'n_estimators': 1200, 'colsample_bytree': 0.8565165939586481, 'colsample_bynode': 0.767504764380465, 'reg_lambda': 0.3425769686737479, 'reg_alpha': 0.19155933039909334, 'min_child_weight': 5, 'min_child_samples': 71}. Best is trial 90 with value: 0.8478991596638655.\u001b[0m\n",
      "\u001b[32m[I 2023-02-04 06:07:38,937]\u001b[0m Trial 126 finished with value: 0.8421848739495799 and parameters: {'max_depth': 476, 'num_leaves': 572, 'learning_rate': 0.5229292768340649, 'n_estimators': 1300, 'colsample_bytree': 0.9712348955229153, 'colsample_bynode': 0.7477267756355584, 'reg_lambda': 0.5255919951743048, 'reg_alpha': 0.061345655208081974, 'min_child_weight': 5, 'min_child_samples': 78}. Best is trial 90 with value: 0.8478991596638655.\u001b[0m\n",
      "\u001b[32m[I 2023-02-04 06:07:39,107]\u001b[0m Trial 127 finished with value: 0.8421848739495799 and parameters: {'max_depth': 391, 'num_leaves': 286, 'learning_rate': 0.4083448005728981, 'n_estimators': 1500, 'colsample_bytree': 0.7788842505184169, 'colsample_bynode': 0.6406379154577896, 'reg_lambda': 0.26618144292239587, 'reg_alpha': 0.0869152714613925, 'min_child_weight': 5, 'min_child_samples': 72}. Best is trial 90 with value: 0.8478991596638655.\u001b[0m\n",
      "\u001b[32m[I 2023-02-04 06:07:39,288]\u001b[0m Trial 128 finished with value: 0.8421848739495799 and parameters: {'max_depth': 443, 'num_leaves': 348, 'learning_rate': 0.34521708153808356, 'n_estimators': 1600, 'colsample_bytree': 0.7947927774377467, 'colsample_bynode': 0.7937474976198051, 'reg_lambda': 0.49947656359498455, 'reg_alpha': 0.051520501965985566, 'min_child_weight': 6, 'min_child_samples': 74}. Best is trial 90 with value: 0.8478991596638655.\u001b[0m\n",
      "\u001b[32m[I 2023-02-04 06:07:40,303]\u001b[0m Trial 129 finished with value: 0.8363025210084034 and parameters: {'max_depth': 356, 'num_leaves': 2, 'learning_rate': 0.4240231527370255, 'n_estimators': 1600, 'colsample_bytree': 0.8654956043781828, 'colsample_bynode': 0.574514967179034, 'reg_lambda': 0.3871920625709716, 'reg_alpha': 0.10253632361739683, 'min_child_weight': 3, 'min_child_samples': 59}. Best is trial 90 with value: 0.8478991596638655.\u001b[0m\n",
      "\u001b[32m[I 2023-02-04 06:07:40,777]\u001b[0m Trial 130 finished with value: 0.7307563025210084 and parameters: {'max_depth': 194, 'num_leaves': 37, 'learning_rate': 0.747021016853431, 'n_estimators': 400, 'colsample_bytree': 0.9486958084389788, 'colsample_bynode': 0.6714271451174398, 'reg_lambda': 0.09769700382950972, 'reg_alpha': 0.013800024410218135, 'min_child_weight': 7, 'min_child_samples': 16}. Best is trial 90 with value: 0.8478991596638655.\u001b[0m\n",
      "\u001b[32m[I 2023-02-04 06:07:42,127]\u001b[0m Trial 131 finished with value: 0.7774789915966387 and parameters: {'max_depth': 490, 'num_leaves': 439, 'learning_rate': 0.08043309772353958, 'n_estimators': 1400, 'colsample_bytree': 0.804895822452179, 'colsample_bynode': 0.5500989214782239, 'reg_lambda': 0.044789149841327314, 'reg_alpha': 0.07285268287915583, 'min_child_weight': 6, 'min_child_samples': 46}. Best is trial 90 with value: 0.8478991596638655.\u001b[0m\n",
      "\u001b[32m[I 2023-02-04 06:07:43,686]\u001b[0m Trial 132 finished with value: 0.853781512605042 and parameters: {'max_depth': 32, 'num_leaves': 514, 'learning_rate': 0.04559213901548294, 'n_estimators': 1000, 'colsample_bytree': 0.7832812714894112, 'colsample_bynode': 0.5283267247926804, 'reg_lambda': 0.03070425981546774, 'reg_alpha': 0.045548787727696084, 'min_child_weight': 4, 'min_child_samples': 35}. Best is trial 132 with value: 0.853781512605042.\u001b[0m\n",
      "\u001b[32m[I 2023-02-04 06:07:44,522]\u001b[0m Trial 133 finished with value: 0.8363025210084034 and parameters: {'max_depth': 46, 'num_leaves': 2, 'learning_rate': 0.04392912446931433, 'n_estimators': 800, 'colsample_bytree': 0.7811602147503225, 'colsample_bynode': 0.5332646699712557, 'reg_lambda': 0.05465307542797937, 'reg_alpha': 0.06447691282050581, 'min_child_weight': 4, 'min_child_samples': 39}. Best is trial 132 with value: 0.853781512605042.\u001b[0m\n",
      "\u001b[32m[I 2023-02-04 06:07:44,663]\u001b[0m Trial 134 finished with value: 0.8421848739495799 and parameters: {'max_depth': 23, 'num_leaves': 520, 'learning_rate': 0.01745311504002899, 'n_estimators': 1000, 'colsample_bytree': 0.8096839762736125, 'colsample_bynode': 0.5638775665003182, 'reg_lambda': 0.031529191696727916, 'reg_alpha': 0.043945568789236375, 'min_child_weight': 4, 'min_child_samples': 80}. Best is trial 132 with value: 0.853781512605042.\u001b[0m\n",
      "\u001b[32m[I 2023-02-04 06:07:47,946]\u001b[0m Trial 135 finished with value: 0.8421848739495799 and parameters: {'max_depth': 35, 'num_leaves': 328, 'learning_rate': 0.002039859089608269, 'n_estimators': 1400, 'colsample_bytree': 0.9872181781342598, 'colsample_bynode': 0.571269992484139, 'reg_lambda': 0.03541258570825176, 'reg_alpha': 0.05789187332046757, 'min_child_weight': 5, 'min_child_samples': 31}. Best is trial 132 with value: 0.853781512605042.\u001b[0m\n",
      "\u001b[32m[I 2023-02-04 06:07:50,722]\u001b[0m Trial 136 finished with value: 0.8305882352941177 and parameters: {'max_depth': 511, 'num_leaves': 653, 'learning_rate': 0.05857799925202159, 'n_estimators': 1800, 'colsample_bytree': 0.7902930839879884, 'colsample_bynode': 0.5472502898664764, 'reg_lambda': 0.05055477287460732, 'reg_alpha': 0.8129188293429238, 'min_child_weight': 4, 'min_child_samples': 34}. Best is trial 132 with value: 0.853781512605042.\u001b[0m\n"
     ]
    },
    {
     "name": "stdout",
     "output_type": "stream",
     "text": [
      "\u001b[32m[I 2023-02-04 06:07:52,648]\u001b[0m Trial 137 finished with value: 0.8480672268907563 and parameters: {'max_depth': 348, 'num_leaves': 548, 'learning_rate': 0.07837527813905015, 'n_estimators': 2000, 'colsample_bytree': 0.8344706993552641, 'colsample_bynode': 0.5553266508121382, 'reg_lambda': 0.041525530706585344, 'reg_alpha': 0.04893409812220599, 'min_child_weight': 3, 'min_child_samples': 41}. Best is trial 132 with value: 0.853781512605042.\u001b[0m\n",
      "\u001b[32m[I 2023-02-04 06:07:54,016]\u001b[0m Trial 138 finished with value: 0.830420168067227 and parameters: {'max_depth': 373, 'num_leaves': 3, 'learning_rate': 0.1003979195438798, 'n_estimators': 1700, 'colsample_bytree': 0.7719755898250782, 'colsample_bynode': 0.529710878519854, 'reg_lambda': 0.028695679876130052, 'reg_alpha': 0.04525100619265084, 'min_child_weight': 3, 'min_child_samples': 42}. Best is trial 132 with value: 0.853781512605042.\u001b[0m\n",
      "\u001b[32m[I 2023-02-04 06:07:55,889]\u001b[0m Trial 139 finished with value: 0.830420168067227 and parameters: {'max_depth': 369, 'num_leaves': 524, 'learning_rate': 0.12602133401660312, 'n_estimators': 2000, 'colsample_bytree': 0.7436644551617007, 'colsample_bynode': 0.5556553876349285, 'reg_lambda': 0.04230698404199331, 'reg_alpha': 0.05173451117595029, 'min_child_weight': 4, 'min_child_samples': 35}. Best is trial 132 with value: 0.853781512605042.\u001b[0m\n",
      "\u001b[32m[I 2023-02-04 06:07:57,396]\u001b[0m Trial 140 finished with value: 0.8421848739495799 and parameters: {'max_depth': 356, 'num_leaves': 449, 'learning_rate': 0.080628196330078, 'n_estimators': 1700, 'colsample_bytree': 0.83942321751358, 'colsample_bynode': 0.5434722083115628, 'reg_lambda': 0.03956617197512944, 'reg_alpha': 0.7093681784360679, 'min_child_weight': 11, 'min_child_samples': 41}. Best is trial 132 with value: 0.853781512605042.\u001b[0m\n",
      "\u001b[32m[I 2023-02-04 06:07:58,601]\u001b[0m Trial 141 finished with value: 0.8421848739495799 and parameters: {'max_depth': 348, 'num_leaves': 604, 'learning_rate': 0.04182844316484831, 'n_estimators': 1800, 'colsample_bytree': 0.8190990375530226, 'colsample_bynode': 0.5080167931982462, 'reg_lambda': 0.03504179065939175, 'reg_alpha': 0.04961053034449067, 'min_child_weight': 11, 'min_child_samples': 63}. Best is trial 132 with value: 0.853781512605042.\u001b[0m\n",
      "\u001b[32m[I 2023-02-04 06:07:59,973]\u001b[0m Trial 142 finished with value: 0.8189915966386556 and parameters: {'max_depth': 27, 'num_leaves': 744, 'learning_rate': 0.1520320620019944, 'n_estimators': 1600, 'colsample_bytree': 0.9568789300624221, 'colsample_bynode': 0.5283013043826074, 'reg_lambda': 0.04574510849360269, 'reg_alpha': 0.05734512732084537, 'min_child_weight': 2, 'min_child_samples': 60}. Best is trial 132 with value: 0.853781512605042.\u001b[0m\n",
      "\u001b[32m[I 2023-02-04 06:08:01,231]\u001b[0m Trial 143 finished with value: 0.8421848739495799 and parameters: {'max_depth': 42, 'num_leaves': 6, 'learning_rate': 0.03415914431351867, 'n_estimators': 1900, 'colsample_bytree': 0.6248919759687751, 'colsample_bynode': 0.5166788038208148, 'reg_lambda': 0.03816417794222894, 'reg_alpha': 0.7845591298093549, 'min_child_weight': 12, 'min_child_samples': 49}. Best is trial 132 with value: 0.853781512605042.\u001b[0m\n",
      "\u001b[32m[I 2023-02-04 06:08:02,687]\u001b[0m Trial 144 finished with value: 0.8421848739495799 and parameters: {'max_depth': 12, 'num_leaves': 4, 'learning_rate': 0.06231162615030793, 'n_estimators': 2000, 'colsample_bytree': 0.612277507163756, 'colsample_bynode': 0.510609949504226, 'reg_lambda': 0.03312798835917199, 'reg_alpha': 0.6488052106510176, 'min_child_weight': 12, 'min_child_samples': 37}. Best is trial 132 with value: 0.853781512605042.\u001b[0m\n",
      "\u001b[32m[I 2023-02-04 06:08:03,841]\u001b[0m Trial 145 finished with value: 0.8421848739495799 and parameters: {'max_depth': 18, 'num_leaves': 19, 'learning_rate': 0.11563839392002573, 'n_estimators': 2100, 'colsample_bytree': 0.5023499500732284, 'colsample_bynode': 0.5007236639818962, 'reg_lambda': 0.031069929026414946, 'reg_alpha': 0.9264776967241966, 'min_child_weight': 11, 'min_child_samples': 57}. Best is trial 132 with value: 0.853781512605042.\u001b[0m\n",
      "\u001b[32m[I 2023-02-04 06:08:05,120]\u001b[0m Trial 146 finished with value: 0.8421848739495799 and parameters: {'max_depth': 28, 'num_leaves': 7, 'learning_rate': 0.08493127798819172, 'n_estimators': 1900, 'colsample_bytree': 0.5980413806414445, 'colsample_bynode': 0.5968213023889726, 'reg_lambda': 0.027460270467032734, 'reg_alpha': 0.4952416027170933, 'min_child_weight': 11, 'min_child_samples': 45}. Best is trial 132 with value: 0.853781512605042.\u001b[0m\n",
      "\u001b[32m[I 2023-02-04 06:08:06,239]\u001b[0m Trial 147 finished with value: 0.8421848739495799 and parameters: {'max_depth': 506, 'num_leaves': 4, 'learning_rate': 0.1805476758699704, 'n_estimators': 1800, 'colsample_bytree': 0.6131235288389493, 'colsample_bynode': 0.5553019656839331, 'reg_lambda': 0.02493195625959082, 'reg_alpha': 0.42179194096597744, 'min_child_weight': 12, 'min_child_samples': 52}. Best is trial 132 with value: 0.853781512605042.\u001b[0m\n",
      "\u001b[32m[I 2023-02-04 06:08:07,931]\u001b[0m Trial 148 finished with value: 0.8421848739495799 and parameters: {'max_depth': 51, 'num_leaves': 23, 'learning_rate': 0.14315549967382163, 'n_estimators': 2300, 'colsample_bytree': 0.5477834913486237, 'colsample_bynode': 0.5386056315231312, 'reg_lambda': 0.058306267180009655, 'reg_alpha': 0.7384492777217044, 'min_child_weight': 13, 'min_child_samples': 30}. Best is trial 132 with value: 0.853781512605042.\u001b[0m\n",
      "\u001b[32m[I 2023-02-04 06:08:09,307]\u001b[0m Trial 149 finished with value: 0.8421848739495799 and parameters: {'max_depth': 16, 'num_leaves': 20, 'learning_rate': 0.06714875913876535, 'n_estimators': 2000, 'colsample_bytree': 0.5124834269486, 'colsample_bynode': 0.9256945952421328, 'reg_lambda': 0.02601644416817419, 'reg_alpha': 0.8609180231075559, 'min_child_weight': 12, 'min_child_samples': 36}. Best is trial 132 with value: 0.853781512605042.\u001b[0m\n",
      "\u001b[32m[I 2023-02-04 06:08:10,632]\u001b[0m Trial 150 finished with value: 0.8421848739495799 and parameters: {'max_depth': 75, 'num_leaves': 15, 'learning_rate': 0.10421504693284754, 'n_estimators': 1900, 'colsample_bytree': 0.5270703649337372, 'colsample_bynode': 0.9134042853236458, 'reg_lambda': 0.04957302078791473, 'reg_alpha': 0.6231483618116495, 'min_child_weight': 13, 'min_child_samples': 40}. Best is trial 132 with value: 0.853781512605042.\u001b[0m\n",
      "\u001b[32m[I 2023-02-04 06:08:11,539]\u001b[0m Trial 151 finished with value: 0.8421848739495799 and parameters: {'max_depth': 7, 'num_leaves': 9, 'learning_rate': 0.09674841162802238, 'n_estimators': 2100, 'colsample_bytree': 0.5710423955793135, 'colsample_bynode': 0.9413928406952842, 'reg_lambda': 0.062343378900434156, 'reg_alpha': 0.5419814225161349, 'min_child_weight': 13, 'min_child_samples': 65}. Best is trial 132 with value: 0.853781512605042.\u001b[0m\n",
      "\u001b[32m[I 2023-02-04 06:08:13,095]\u001b[0m Trial 152 finished with value: 0.8421848739495799 and parameters: {'max_depth': 57, 'num_leaves': 26, 'learning_rate': 0.04941406825826422, 'n_estimators': 2300, 'colsample_bytree': 0.5495164578275471, 'colsample_bynode': 0.9426822592633253, 'reg_lambda': 0.0756880223320521, 'reg_alpha': 0.9701075073262144, 'min_child_weight': 12, 'min_child_samples': 38}. Best is trial 132 with value: 0.853781512605042.\u001b[0m\n",
      "\u001b[32m[I 2023-02-04 06:08:14,505]\u001b[0m Trial 153 finished with value: 0.8421848739495799 and parameters: {'max_depth': 4, 'num_leaves': 5, 'learning_rate': 0.12557272047025458, 'n_estimators': 2200, 'colsample_bytree': 0.5790902978478742, 'colsample_bynode': 0.8945079942292038, 'reg_lambda': 0.10164604385025099, 'reg_alpha': 0.8220896449861502, 'min_child_weight': 13, 'min_child_samples': 44}. Best is trial 132 with value: 0.853781512605042.\u001b[0m\n",
      "\u001b[32m[I 2023-02-04 06:08:16,306]\u001b[0m Trial 154 finished with value: 0.8421848739495799 and parameters: {'max_depth': 43, 'num_leaves': 6, 'learning_rate': 0.16000943173124577, 'n_estimators': 2500, 'colsample_bytree': 0.5572682236307244, 'colsample_bynode': 0.8613006138711551, 'reg_lambda': 0.11400933845114489, 'reg_alpha': 0.6712660645090834, 'min_child_weight': 14, 'min_child_samples': 47}. Best is trial 132 with value: 0.853781512605042.\u001b[0m\n",
      "\u001b[32m[I 2023-02-04 06:08:18,452]\u001b[0m Trial 155 finished with value: 0.8421848739495799 and parameters: {'max_depth': 69, 'num_leaves': 6, 'learning_rate': 0.8004753359564715, 'n_estimators': 2500, 'colsample_bytree': 0.5301433966416177, 'colsample_bynode': 0.8695803793913985, 'reg_lambda': 0.08118296080247024, 'reg_alpha': 0.0103126474257434, 'min_child_weight': 14, 'min_child_samples': 28}. Best is trial 132 with value: 0.853781512605042.\u001b[0m\n"
     ]
    },
    {
     "name": "stdout",
     "output_type": "stream",
     "text": [
      "\u001b[32m[I 2023-02-04 06:08:20,392]\u001b[0m Trial 156 finished with value: 0.8421848739495799 and parameters: {'max_depth': 59, 'num_leaves': 4, 'learning_rate': 0.6985214770918364, 'n_estimators': 2600, 'colsample_bytree': 0.538625149430208, 'colsample_bynode': 0.5182890268327819, 'reg_lambda': 0.06584775993311184, 'reg_alpha': 0.7489906988875858, 'min_child_weight': 15, 'min_child_samples': 33}. Best is trial 132 with value: 0.853781512605042.\u001b[0m\n",
      "\u001b[32m[I 2023-02-04 06:08:21,893]\u001b[0m Trial 157 finished with value: 0.8421848739495799 and parameters: {'max_depth': 27, 'num_leaves': 10, 'learning_rate': 0.6877789969669389, 'n_estimators': 2200, 'colsample_bytree': 0.5966197336446474, 'colsample_bynode': 0.8998054704978, 'reg_lambda': 0.1402787223829151, 'reg_alpha': 0.8867478885183188, 'min_child_weight': 15, 'min_child_samples': 41}. Best is trial 132 with value: 0.853781512605042.\u001b[0m\n",
      "\u001b[32m[I 2023-02-04 06:08:24,146]\u001b[0m Trial 158 finished with value: 0.8421848739495799 and parameters: {'max_depth': 119, 'num_leaves': 32, 'learning_rate': 0.6292988601214756, 'n_estimators': 2700, 'colsample_bytree': 0.7103539023515121, 'colsample_bynode': 0.8865994808629777, 'reg_lambda': 0.08843429827609717, 'reg_alpha': 0.041038888579715035, 'min_child_weight': 14, 'min_child_samples': 20}. Best is trial 132 with value: 0.853781512605042.\u001b[0m\n",
      "\u001b[32m[I 2023-02-04 06:08:25,955]\u001b[0m Trial 159 finished with value: 0.8421848739495799 and parameters: {'max_depth': 87, 'num_leaves': 13, 'learning_rate': 0.6577775585399714, 'n_estimators': 2200, 'colsample_bytree': 0.539519379099152, 'colsample_bynode': 0.8727817420469967, 'reg_lambda': 0.09463577468890608, 'reg_alpha': 0.012472505174205456, 'min_child_weight': 12, 'min_child_samples': 25}. Best is trial 132 with value: 0.853781512605042.\u001b[0m\n",
      "\u001b[32m[I 2023-02-04 06:08:28,148]\u001b[0m Trial 160 finished with value: 0.8421848739495799 and parameters: {'max_depth': 79, 'num_leaves': 52, 'learning_rate': 0.6071408001667445, 'n_estimators': 2700, 'colsample_bytree': 0.6929520503694457, 'colsample_bynode': 0.9178258209254737, 'reg_lambda': 0.13965788992189665, 'reg_alpha': 0.0340533923481129, 'min_child_weight': 14, 'min_child_samples': 28}. Best is trial 132 with value: 0.853781512605042.\u001b[0m\n",
      "\u001b[32m[I 2023-02-04 06:08:30,478]\u001b[0m Trial 161 finished with value: 0.8421848739495799 and parameters: {'max_depth': 105, 'num_leaves': 17, 'learning_rate': 0.5680623730499604, 'n_estimators': 2900, 'colsample_bytree': 0.7238619233414605, 'colsample_bynode': 0.9089122230296979, 'reg_lambda': 0.1229366807368951, 'reg_alpha': 0.027461266449197254, 'min_child_weight': 14, 'min_child_samples': 22}. Best is trial 132 with value: 0.853781512605042.\u001b[0m\n",
      "\u001b[32m[I 2023-02-04 06:08:32,617]\u001b[0m Trial 162 finished with value: 0.8421848739495799 and parameters: {'max_depth': 148, 'num_leaves': 39, 'learning_rate': 0.7227999886966753, 'n_estimators': 2500, 'colsample_bytree': 0.7601041472347305, 'colsample_bynode': 0.8921874594343966, 'reg_lambda': 0.11446259997717521, 'reg_alpha': 0.018955860347415004, 'min_child_weight': 14, 'min_child_samples': 11}. Best is trial 132 with value: 0.853781512605042.\u001b[0m\n",
      "\u001b[32m[I 2023-02-04 06:08:32,830]\u001b[0m Trial 163 finished with value: 0.8421848739495799 and parameters: {'max_depth': 132, 'num_leaves': 60, 'learning_rate': 0.5910659801234823, 'n_estimators': 100, 'colsample_bytree': 0.6998533123545188, 'colsample_bynode': 0.9508665444895925, 'reg_lambda': 0.0739064939560999, 'reg_alpha': 0.024251133530930565, 'min_child_weight': 13, 'min_child_samples': 17}. Best is trial 132 with value: 0.853781512605042.\u001b[0m\n",
      "\u001b[32m[I 2023-02-04 06:08:33,130]\u001b[0m Trial 164 finished with value: 0.8421848739495799 and parameters: {'max_depth': 126, 'num_leaves': 30, 'learning_rate': 0.6031323559256655, 'n_estimators': 200, 'colsample_bytree': 0.5576831818479281, 'colsample_bynode': 0.9677767528112907, 'reg_lambda': 0.18302449830883777, 'reg_alpha': 0.030822193568081677, 'min_child_weight': 9, 'min_child_samples': 20}. Best is trial 132 with value: 0.853781512605042.\u001b[0m\n",
      "\u001b[32m[I 2023-02-04 06:08:33,437]\u001b[0m Trial 165 finished with value: 0.8421848739495799 and parameters: {'max_depth': 196, 'num_leaves': 81, 'learning_rate': 0.6452943756908152, 'n_estimators': 200, 'colsample_bytree': 0.742456180230799, 'colsample_bynode': 0.9825022524341671, 'reg_lambda': 0.1743980214053464, 'reg_alpha': 0.015496514370383739, 'min_child_weight': 15, 'min_child_samples': 10}. Best is trial 132 with value: 0.853781512605042.\u001b[0m\n",
      "\u001b[32m[I 2023-02-04 06:08:34,012]\u001b[0m Trial 166 finished with value: 0.8421848739495799 and parameters: {'max_depth': 158, 'num_leaves': 1019, 'learning_rate': 0.5817587132898434, 'n_estimators': 300, 'colsample_bytree': 0.6749793928290251, 'colsample_bynode': 0.8495738646371563, 'reg_lambda': 0.20146179287596896, 'reg_alpha': 0.01752142580189495, 'min_child_weight': 14, 'min_child_samples': 6}. Best is trial 132 with value: 0.853781512605042.\u001b[0m\n",
      "\u001b[32m[I 2023-02-04 06:08:34,129]\u001b[0m Trial 167 finished with value: 0.8421848739495799 and parameters: {'max_depth': 174, 'num_leaves': 58, 'learning_rate': 0.5443810858356808, 'n_estimators': 400, 'colsample_bytree': 0.6564091015048024, 'colsample_bynode': 0.9890201950976175, 'reg_lambda': 0.010918226189700309, 'reg_alpha': 0.019347845588496716, 'min_child_weight': 15, 'min_child_samples': 98}. Best is trial 132 with value: 0.853781512605042.\u001b[0m\n",
      "\u001b[32m[I 2023-02-04 06:08:34,597]\u001b[0m Trial 168 finished with value: 0.8421848739495799 and parameters: {'max_depth': 166, 'num_leaves': 95, 'learning_rate': 0.5605607330419201, 'n_estimators': 400, 'colsample_bytree': 0.9180066060086092, 'colsample_bynode': 0.8136491847851557, 'reg_lambda': 0.15537388381284536, 'reg_alpha': 0.024982464528480654, 'min_child_weight': 9, 'min_child_samples': 13}. Best is trial 132 with value: 0.853781512605042.\u001b[0m\n",
      "\u001b[32m[I 2023-02-04 06:08:34,702]\u001b[0m Trial 169 finished with value: 0.8421848739495799 and parameters: {'max_depth': 224, 'num_leaves': 44, 'learning_rate': 0.6692941601693556, 'n_estimators': 300, 'colsample_bytree': 0.9395702116953859, 'colsample_bynode': 0.8102192875369202, 'reg_lambda': 0.1307696404817662, 'reg_alpha': 0.037109436543149944, 'min_child_weight': 9, 'min_child_samples': 100}. Best is trial 132 with value: 0.853781512605042.\u001b[0m\n",
      "\u001b[32m[I 2023-02-04 06:08:37,339]\u001b[0m Trial 170 finished with value: 0.8421848739495799 and parameters: {'max_depth': 256, 'num_leaves': 119, 'learning_rate': 0.5390415466102916, 'n_estimators': 3000, 'colsample_bytree': 0.9179415682537387, 'colsample_bynode': 0.8296246322515393, 'reg_lambda': 0.014204908647414173, 'reg_alpha': 0.2794751609018487, 'min_child_weight': 9, 'min_child_samples': 20}. Best is trial 132 with value: 0.853781512605042.\u001b[0m\n",
      "\u001b[32m[I 2023-02-04 06:08:37,455]\u001b[0m Trial 171 finished with value: 0.8421848739495799 and parameters: {'max_depth': 247, 'num_leaves': 152, 'learning_rate': 0.46189643592391566, 'n_estimators': 400, 'colsample_bytree': 0.9261169870516456, 'colsample_bynode': 0.8482942996733016, 'reg_lambda': 0.010020999300539297, 'reg_alpha': 0.24062715492761094, 'min_child_weight': 8, 'min_child_samples': 94}. Best is trial 132 with value: 0.853781512605042.\u001b[0m\n",
      "\u001b[32m[I 2023-02-04 06:08:37,608]\u001b[0m Trial 172 finished with value: 0.8421848739495799 and parameters: {'max_depth': 100, 'num_leaves': 216, 'learning_rate': 0.5215596556365008, 'n_estimators': 1100, 'colsample_bytree': 0.9932437032522875, 'colsample_bynode': 0.7851506419605121, 'reg_lambda': 0.01233717032382709, 'reg_alpha': 0.17857413523298798, 'min_child_weight': 8, 'min_child_samples': 90}. Best is trial 132 with value: 0.853781512605042.\u001b[0m\n",
      "\u001b[32m[I 2023-02-04 06:08:37,846]\u001b[0m Trial 173 finished with value: 0.8421848739495799 and parameters: {'max_depth': 284, 'num_leaves': 70, 'learning_rate': 0.3297084166978544, 'n_estimators': 2800, 'colsample_bytree': 0.8782120399242882, 'colsample_bynode': 0.8204181338989811, 'reg_lambda': 0.013104023087536495, 'reg_alpha': 0.011474322331709893, 'min_child_weight': 8, 'min_child_samples': 94}. Best is trial 132 with value: 0.853781512605042.\u001b[0m\n",
      "\u001b[32m[I 2023-02-04 06:08:37,997]\u001b[0m Trial 174 finished with value: 0.8421848739495799 and parameters: {'max_depth': 432, 'num_leaves': 163, 'learning_rate': 0.3899604065004204, 'n_estimators': 900, 'colsample_bytree': 0.8928391485001427, 'colsample_bynode': 0.8345417743121427, 'reg_lambda': 0.011455630417420079, 'reg_alpha': 0.21952379376965628, 'min_child_weight': 10, 'min_child_samples': 86}. Best is trial 132 with value: 0.853781512605042.\u001b[0m\n"
     ]
    },
    {
     "name": "stdout",
     "output_type": "stream",
     "text": [
      "\u001b[32m[I 2023-02-04 06:08:38,144]\u001b[0m Trial 175 finished with value: 0.8421848739495799 and parameters: {'max_depth': 289, 'num_leaves': 245, 'learning_rate': 0.6224867242500202, 'n_estimators': 1000, 'colsample_bytree': 0.9460397162395723, 'colsample_bynode': 0.9963996415457823, 'reg_lambda': 0.019990258659869538, 'reg_alpha': 0.16377300033419737, 'min_child_weight': 3, 'min_child_samples': 85}. Best is trial 132 with value: 0.853781512605042.\u001b[0m\n",
      "\u001b[32m[I 2023-02-04 06:08:38,270]\u001b[0m Trial 176 finished with value: 0.8421848739495799 and parameters: {'max_depth': 234, 'num_leaves': 830, 'learning_rate': 0.4811997997263896, 'n_estimators': 700, 'colsample_bytree': 0.840368226021386, 'colsample_bynode': 0.9617297484575662, 'reg_lambda': 0.014461980534419789, 'reg_alpha': 0.11833698987425344, 'min_child_weight': 10, 'min_child_samples': 88}. Best is trial 132 with value: 0.853781512605042.\u001b[0m\n",
      "\u001b[32m[I 2023-02-04 06:08:38,413]\u001b[0m Trial 177 finished with value: 0.8421848739495799 and parameters: {'max_depth': 221, 'num_leaves': 848, 'learning_rate': 0.4209026743354554, 'n_estimators': 900, 'colsample_bytree': 0.8691452101058583, 'colsample_bynode': 0.8024988578892823, 'reg_lambda': 0.01677599078078098, 'reg_alpha': 0.1522780278913141, 'min_child_weight': 8, 'min_child_samples': 83}. Best is trial 132 with value: 0.853781512605042.\u001b[0m\n",
      "\u001b[32m[I 2023-02-04 06:08:38,543]\u001b[0m Trial 178 finished with value: 0.8421848739495799 and parameters: {'max_depth': 327, 'num_leaves': 716, 'learning_rate': 0.2616478057780411, 'n_estimators': 700, 'colsample_bytree': 0.8196579415659235, 'colsample_bynode': 0.7391529115266404, 'reg_lambda': 0.011620195615024092, 'reg_alpha': 0.13161819880106174, 'min_child_weight': 9, 'min_child_samples': 96}. Best is trial 132 with value: 0.853781512605042.\u001b[0m\n",
      "\u001b[32m[I 2023-02-04 06:08:38,694]\u001b[0m Trial 179 finished with value: 0.8421848739495799 and parameters: {'max_depth': 307, 'num_leaves': 855, 'learning_rate': 0.5012172768468042, 'n_estimators': 1000, 'colsample_bytree': 0.8535812339665869, 'colsample_bynode': 0.7846991162477763, 'reg_lambda': 0.015303264521180769, 'reg_alpha': 0.07596235115460344, 'min_child_weight': 3, 'min_child_samples': 84}. Best is trial 132 with value: 0.853781512605042.\u001b[0m\n",
      "\u001b[32m[I 2023-02-04 06:08:38,855]\u001b[0m Trial 180 finished with value: 0.8421848739495799 and parameters: {'max_depth': 419, 'num_leaves': 389, 'learning_rate': 0.28280398275854235, 'n_estimators': 1200, 'colsample_bytree': 0.8559042372869884, 'colsample_bynode': 0.7248788097063653, 'reg_lambda': 0.013670958835614604, 'reg_alpha': 0.137857837039723, 'min_child_weight': 9, 'min_child_samples': 90}. Best is trial 132 with value: 0.853781512605042.\u001b[0m\n",
      "\u001b[32m[I 2023-02-04 06:08:39,024]\u001b[0m Trial 181 finished with value: 0.8421848739495799 and parameters: {'max_depth': 458, 'num_leaves': 282, 'learning_rate': 0.521835164423027, 'n_estimators': 1300, 'colsample_bytree': 0.8346725173030842, 'colsample_bynode': 0.7475307916781095, 'reg_lambda': 0.26920677050212627, 'reg_alpha': 0.08353016514632727, 'min_child_weight': 5, 'min_child_samples': 72}. Best is trial 132 with value: 0.853781512605042.\u001b[0m\n",
      "\u001b[32m[I 2023-02-04 06:08:39,181]\u001b[0m Trial 182 finished with value: 0.8421848739495799 and parameters: {'max_depth': 474, 'num_leaves': 136, 'learning_rate': 0.4802874259752523, 'n_estimators': 1200, 'colsample_bytree': 0.9069660643903701, 'colsample_bynode': 0.7717785112135264, 'reg_lambda': 0.34826377643413314, 'reg_alpha': 0.18959192420975596, 'min_child_weight': 5, 'min_child_samples': 76}. Best is trial 132 with value: 0.853781512605042.\u001b[0m\n",
      "\u001b[32m[I 2023-02-04 06:08:39,328]\u001b[0m Trial 183 finished with value: 0.8421848739495799 and parameters: {'max_depth': 436, 'num_leaves': 381, 'learning_rate': 0.34362494499118007, 'n_estimators': 1100, 'colsample_bytree': 0.7865997567233697, 'colsample_bynode': 0.759926991055465, 'reg_lambda': 0.7907080010294658, 'reg_alpha': 0.1934903202806769, 'min_child_weight': 6, 'min_child_samples': 78}. Best is trial 132 with value: 0.853781512605042.\u001b[0m\n",
      "\u001b[32m[I 2023-02-04 06:08:39,476]\u001b[0m Trial 184 finished with value: 0.8421848739495799 and parameters: {'max_depth': 448, 'num_leaves': 531, 'learning_rate': 0.31095644827012614, 'n_estimators': 1000, 'colsample_bytree': 0.8006158670908721, 'colsample_bynode': 0.7908668500288725, 'reg_lambda': 0.5619305096880612, 'reg_alpha': 0.09434554206047262, 'min_child_weight': 5, 'min_child_samples': 75}. Best is trial 132 with value: 0.853781512605042.\u001b[0m\n",
      "\u001b[32m[I 2023-02-04 06:08:39,619]\u001b[0m Trial 185 finished with value: 0.8421848739495799 and parameters: {'max_depth': 490, 'num_leaves': 555, 'learning_rate': 0.37586399574582136, 'n_estimators': 900, 'colsample_bytree': 0.9663039255080195, 'colsample_bynode': 0.7658976121145236, 'reg_lambda': 0.01654498773876362, 'reg_alpha': 0.11201111968954182, 'min_child_weight': 4, 'min_child_samples': 79}. Best is trial 132 with value: 0.853781512605042.\u001b[0m\n",
      "\u001b[32m[I 2023-02-04 06:08:39,768]\u001b[0m Trial 186 finished with value: 0.8421848739495799 and parameters: {'max_depth': 399, 'num_leaves': 458, 'learning_rate': 0.4014720067462266, 'n_estimators': 1100, 'colsample_bytree': 0.9312483148345732, 'colsample_bynode': 0.7768089009218875, 'reg_lambda': 0.2575532171335615, 'reg_alpha': 0.12864781766557018, 'min_child_weight': 5, 'min_child_samples': 70}. Best is trial 132 with value: 0.853781512605042.\u001b[0m\n",
      "\u001b[32m[I 2023-02-04 06:08:39,941]\u001b[0m Trial 187 finished with value: 0.8421848739495799 and parameters: {'max_depth': 428, 'num_leaves': 303, 'learning_rate': 0.35298314033271644, 'n_estimators': 1300, 'colsample_bytree': 0.815686445616549, 'colsample_bynode': 0.742277109325003, 'reg_lambda': 0.6850289308636555, 'reg_alpha': 0.06208702711470808, 'min_child_weight': 5, 'min_child_samples': 72}. Best is trial 132 with value: 0.853781512605042.\u001b[0m\n",
      "\u001b[32m[I 2023-02-04 06:08:40,105]\u001b[0m Trial 188 finished with value: 0.8421848739495799 and parameters: {'max_depth': 268, 'num_leaves': 444, 'learning_rate': 0.20475233141445248, 'n_estimators': 1400, 'colsample_bytree': 0.8283028917546816, 'colsample_bynode': 0.7536493409839892, 'reg_lambda': 0.018620921050064486, 'reg_alpha': 0.04455089930740706, 'min_child_weight': 4, 'min_child_samples': 80}. Best is trial 132 with value: 0.853781512605042.\u001b[0m\n",
      "\u001b[32m[I 2023-02-04 06:08:40,275]\u001b[0m Trial 189 finished with value: 0.8421848739495799 and parameters: {'max_depth': 332, 'num_leaves': 628, 'learning_rate': 0.028382286783375878, 'n_estimators': 1500, 'colsample_bytree': 0.8099201648006499, 'colsample_bynode': 0.7287356502525864, 'reg_lambda': 0.2915007611679803, 'reg_alpha': 0.04962533222768195, 'min_child_weight': 5, 'min_child_samples': 75}. Best is trial 132 with value: 0.853781512605042.\u001b[0m\n",
      "\u001b[32m[I 2023-02-04 06:08:40,430]\u001b[0m Trial 190 finished with value: 0.8421848739495799 and parameters: {'max_depth': 387, 'num_leaves': 351, 'learning_rate': 0.2468693080385831, 'n_estimators': 1200, 'colsample_bytree': 0.844937412966573, 'colsample_bynode': 0.7612890051967861, 'reg_lambda': 0.03521068606889972, 'reg_alpha': 0.08107643694908395, 'min_child_weight': 5, 'min_child_samples': 81}. Best is trial 132 with value: 0.853781512605042.\u001b[0m\n",
      "\u001b[32m[I 2023-02-04 06:08:40,577]\u001b[0m Trial 191 finished with value: 0.8421848739495799 and parameters: {'max_depth': 340, 'num_leaves': 491, 'learning_rate': 0.002254652418474839, 'n_estimators': 1000, 'colsample_bytree': 0.8231913444946363, 'colsample_bynode': 0.717688073966821, 'reg_lambda': 0.0388065381225021, 'reg_alpha': 0.07356287913235052, 'min_child_weight': 4, 'min_child_samples': 77}. Best is trial 132 with value: 0.853781512605042.\u001b[0m\n",
      "\u001b[32m[I 2023-02-04 06:08:42,425]\u001b[0m Trial 192 finished with value: 0.8421848739495799 and parameters: {'max_depth': 349, 'num_leaves': 409, 'learning_rate': 0.022580019628292345, 'n_estimators': 1400, 'colsample_bytree': 0.797632347884038, 'colsample_bynode': 0.6176270885086996, 'reg_lambda': 0.030199007549522098, 'reg_alpha': 0.04539095564717565, 'min_child_weight': 6, 'min_child_samples': 50}. Best is trial 132 with value: 0.853781512605042.\u001b[0m\n",
      "\u001b[32m[I 2023-02-04 06:08:42,565]\u001b[0m Trial 193 finished with value: 0.8421848739495799 and parameters: {'max_depth': 387, 'num_leaves': 269, 'learning_rate': 0.0435611330493266, 'n_estimators': 900, 'colsample_bytree': 0.8392722464832205, 'colsample_bynode': 0.5725641593946955, 'reg_lambda': 0.03196587003208151, 'reg_alpha': 0.05306656021035913, 'min_child_weight': 11, 'min_child_samples': 69}. Best is trial 132 with value: 0.853781512605042.\u001b[0m\n"
     ]
    },
    {
     "name": "stdout",
     "output_type": "stream",
     "text": [
      "\u001b[32m[I 2023-02-04 06:08:43,562]\u001b[0m Trial 194 finished with value: 0.8421848739495799 and parameters: {'max_depth': 480, 'num_leaves': 550, 'learning_rate': 0.025121723936427406, 'n_estimators': 1300, 'colsample_bytree': 0.8313249156090513, 'colsample_bynode': 0.5141551010634764, 'reg_lambda': 0.03148907178803555, 'reg_alpha': 0.0588771950299003, 'min_child_weight': 11, 'min_child_samples': 57}. Best is trial 132 with value: 0.853781512605042.\u001b[0m\n",
      "\u001b[32m[I 2023-02-04 06:08:45,383]\u001b[0m Trial 195 finished with value: 0.8421848739495799 and parameters: {'max_depth': 34, 'num_leaves': 605, 'learning_rate': 0.07843653742198133, 'n_estimators': 1900, 'colsample_bytree': 0.808153137393926, 'colsample_bynode': 0.5013010867210073, 'reg_lambda': 0.03621265923692489, 'reg_alpha': 0.09700542208576833, 'min_child_weight': 11, 'min_child_samples': 31}. Best is trial 132 with value: 0.853781512605042.\u001b[0m\n",
      "\u001b[32m[I 2023-02-04 06:08:45,556]\u001b[0m Trial 196 finished with value: 0.8421848739495799 and parameters: {'max_depth': 19, 'num_leaves': 335, 'learning_rate': 0.04450944000548269, 'n_estimators': 1500, 'colsample_bytree': 0.7848871713190902, 'colsample_bynode': 0.5089706649964222, 'reg_lambda': 0.03948630293786716, 'reg_alpha': 0.04091096899868547, 'min_child_weight': 4, 'min_child_samples': 74}. Best is trial 132 with value: 0.853781512605042.\u001b[0m\n",
      "\u001b[32m[I 2023-02-04 06:08:47,447]\u001b[0m Trial 197 finished with value: 0.8363025210084032 and parameters: {'max_depth': 459, 'num_leaves': 679, 'learning_rate': 0.01643345841225762, 'n_estimators': 1400, 'colsample_bytree': 0.82310633083489, 'colsample_bynode': 0.5380457006916279, 'reg_lambda': 0.03409889869924054, 'reg_alpha': 0.06734865164203954, 'min_child_weight': 3, 'min_child_samples': 55}. Best is trial 132 with value: 0.853781512605042.\u001b[0m\n",
      "\u001b[32m[I 2023-02-04 06:08:48,625]\u001b[0m Trial 198 finished with value: 0.8421848739495799 and parameters: {'max_depth': 36, 'num_leaves': 413, 'learning_rate': 0.07500920595448121, 'n_estimators': 1600, 'colsample_bytree': 0.7687505939399203, 'colsample_bynode': 0.6022320583772657, 'reg_lambda': 0.03118545730423315, 'reg_alpha': 0.04899181470874308, 'min_child_weight': 11, 'min_child_samples': 62}. Best is trial 132 with value: 0.853781512605042.\u001b[0m\n",
      "\u001b[32m[I 2023-02-04 06:08:49,897]\u001b[0m Trial 199 finished with value: 0.8421848739495799 and parameters: {'max_depth': 495, 'num_leaves': 7, 'learning_rate': 0.9861408165503067, 'n_estimators': 2000, 'colsample_bytree': 0.6153166138546898, 'colsample_bynode': 0.5642363372910626, 'reg_lambda': 0.024444625595586984, 'reg_alpha': 0.34993605372360753, 'min_child_weight': 12, 'min_child_samples': 52}. Best is trial 132 with value: 0.853781512605042.\u001b[0m\n"
     ]
    }
   ],
   "source": [
    "study_list = []\n",
    "code_line = [['A_31', 'T100304'], ['A_31', 'T050307'], ['A_31', 'T010306'], ['A_31', 'T010305'], ['T_31', 'T100304'], ['T_31', 'T100306']]\n",
    "\n",
    "for cl, train_df, n in zip(code_line, [train_A1, train_A2, train_A3, train_A4, train_T1, train_T2], n_list[:-1]):\n",
    "    # split\n",
    "    x_train = train_df.drop(columns=['Y_Class'])\n",
    "    y_train = train_df['Y_Class']\n",
    "    \n",
    "    # pca\n",
    "#     pca = PCA(n_components=n)\n",
    "#     pc = pca.fit_transform(x_train[x_train.columns[3:]])\n",
    "#     xtrain_pca = pd.DataFrame(pc, columns = [f'pc{i+1}' for i in range(n)])\n",
    "    \n",
    "#     x_train = pd.concat([x_train[x_train.columns[:3]], xtrain_pca], axis=1)\n",
    "    \n",
    "    # optuna\n",
    "    study = optuna.create_study(direction='maximize')\n",
    "    study.optimize(lgbm_objective, n_trials=200, show_progress_bar=True)\n",
    "\n",
    "    clear_output(wait=True)\n",
    "    study_list.append(study)"
   ]
  },
  {
   "cell_type": "code",
   "execution_count": 228,
   "id": "bcb3813d",
   "metadata": {
    "scrolled": true
   },
   "outputs": [
    {
     "name": "stderr",
     "output_type": "stream",
     "text": [
      "\u001b[32m[I 2023-02-04 06:08:49,912]\u001b[0m A new study created in memory with name: no-name-c3cd8564-8570-4e6c-9b3b-d9c51c2815d6\u001b[0m\n"
     ]
    },
    {
     "data": {
      "application/json": {
       "ascii": false,
       "bar_format": null,
       "colour": null,
       "elapsed": 0.013794660568237305,
       "initial": 0,
       "n": 0,
       "ncols": null,
       "nrows": null,
       "postfix": null,
       "prefix": "",
       "rate": null,
       "total": 50,
       "unit": "it",
       "unit_divisor": 1000,
       "unit_scale": false
      },
      "application/vnd.jupyter.widget-view+json": {
       "model_id": "82b93f35a5c84217b7193b479a743009",
       "version_major": 2,
       "version_minor": 0
      },
      "text/plain": [
       "  0%|          | 0/50 [00:00<?, ?it/s]"
      ]
     },
     "metadata": {},
     "output_type": "display_data"
    },
    {
     "name": "stdout",
     "output_type": "stream",
     "text": [
      "\u001b[32m[I 2023-02-04 06:08:49,949]\u001b[0m Trial 0 finished with value: 0.6666666666666666 and parameters: {'max_depth': 470, 'num_leaves': 9, 'learning_rate': 0.9169346613230496, 'n_estimators': 600, 'colsample_bytree': 0.6086505810248655, 'colsample_bynode': 0.9115809396441878, 'reg_lambda': 0.08296143664674777, 'reg_alpha': 0.046944050135319305, 'min_child_weight': 15, 'min_child_samples': 9}. Best is trial 0 with value: 0.6666666666666666.\u001b[0m\n",
      "\u001b[32m[I 2023-02-04 06:08:49,983]\u001b[0m Trial 1 finished with value: 0.6666666666666666 and parameters: {'max_depth': 512, 'num_leaves': 5, 'learning_rate': 0.18236302576928767, 'n_estimators': 2100, 'colsample_bytree': 0.6777614071869819, 'colsample_bynode': 0.8048611587081638, 'reg_lambda': 0.045191852082745725, 'reg_alpha': 0.40126292388420043, 'min_child_weight': 14, 'min_child_samples': 68}. Best is trial 0 with value: 0.6666666666666666.\u001b[0m\n",
      "\u001b[32m[I 2023-02-04 06:08:50,021]\u001b[0m Trial 2 finished with value: 0.6666666666666666 and parameters: {'max_depth': 232, 'num_leaves': 20, 'learning_rate': 0.8655749527824468, 'n_estimators': 2500, 'colsample_bytree': 0.6747239051027201, 'colsample_bynode': 0.8639542489267695, 'reg_lambda': 0.022246236092358134, 'reg_alpha': 0.41359613364260983, 'min_child_weight': 6, 'min_child_samples': 73}. Best is trial 0 with value: 0.6666666666666666.\u001b[0m\n",
      "\u001b[32m[I 2023-02-04 06:08:50,054]\u001b[0m Trial 3 finished with value: 0.6666666666666666 and parameters: {'max_depth': 321, 'num_leaves': 34, 'learning_rate': 0.35952793019324547, 'n_estimators': 1900, 'colsample_bytree': 0.5199851149546288, 'colsample_bynode': 0.6498388461105853, 'reg_lambda': 0.11697090510188472, 'reg_alpha': 0.16037378716262202, 'min_child_weight': 9, 'min_child_samples': 72}. Best is trial 0 with value: 0.6666666666666666.\u001b[0m\n",
      "\u001b[32m[I 2023-02-04 06:08:50,083]\u001b[0m Trial 4 finished with value: 0.6666666666666666 and parameters: {'max_depth': 438, 'num_leaves': 2, 'learning_rate': 0.8056312269988457, 'n_estimators': 1700, 'colsample_bytree': 0.8625092684697211, 'colsample_bynode': 0.6809923028528796, 'reg_lambda': 0.11869139674699761, 'reg_alpha': 0.016251279296401168, 'min_child_weight': 9, 'min_child_samples': 82}. Best is trial 0 with value: 0.6666666666666666.\u001b[0m\n",
      "\u001b[32m[I 2023-02-04 06:08:50,118]\u001b[0m Trial 5 finished with value: 0.6666666666666666 and parameters: {'max_depth': 512, 'num_leaves': 531, 'learning_rate': 0.02115941238044703, 'n_estimators': 1200, 'colsample_bytree': 0.5265354375488549, 'colsample_bynode': 0.5288353236789414, 'reg_lambda': 0.0748578511529864, 'reg_alpha': 0.05052527576650384, 'min_child_weight': 3, 'min_child_samples': 7}. Best is trial 0 with value: 0.6666666666666666.\u001b[0m\n",
      "\u001b[32m[I 2023-02-04 06:08:50,138]\u001b[0m Trial 6 finished with value: 0.6666666666666666 and parameters: {'max_depth': 9, 'num_leaves': 10, 'learning_rate': 0.586567147560596, 'n_estimators': 800, 'colsample_bytree': 0.823374124241598, 'colsample_bynode': 0.9188351800198542, 'reg_lambda': 0.8875083138883665, 'reg_alpha': 0.013496934770232373, 'min_child_weight': 8, 'min_child_samples': 91}. Best is trial 0 with value: 0.6666666666666666.\u001b[0m\n",
      "\u001b[32m[I 2023-02-04 06:08:50,181]\u001b[0m Trial 7 finished with value: 0.6666666666666666 and parameters: {'max_depth': 382, 'num_leaves': 279, 'learning_rate': 0.6439062197087874, 'n_estimators': 2400, 'colsample_bytree': 0.6244986251260445, 'colsample_bynode': 0.6555771288434886, 'reg_lambda': 0.3473710587256727, 'reg_alpha': 0.16996513026063548, 'min_child_weight': 10, 'min_child_samples': 71}. Best is trial 0 with value: 0.6666666666666666.\u001b[0m\n",
      "\u001b[32m[I 2023-02-04 06:08:50,231]\u001b[0m Trial 8 finished with value: 0.6666666666666666 and parameters: {'max_depth': 407, 'num_leaves': 207, 'learning_rate': 0.2534240178661732, 'n_estimators': 2500, 'colsample_bytree': 0.8329834217527987, 'colsample_bynode': 0.5205245651415874, 'reg_lambda': 0.13466108317638045, 'reg_alpha': 0.2873256710394809, 'min_child_weight': 10, 'min_child_samples': 82}. Best is trial 0 with value: 0.6666666666666666.\u001b[0m\n",
      "\u001b[32m[I 2023-02-04 06:08:50,261]\u001b[0m Trial 9 finished with value: 0.6666666666666666 and parameters: {'max_depth': 354, 'num_leaves': 3, 'learning_rate': 0.5890302392822757, 'n_estimators': 1600, 'colsample_bytree': 0.8490806640505365, 'colsample_bynode': 0.7218382178840386, 'reg_lambda': 0.061453644828774696, 'reg_alpha': 0.7063155421004578, 'min_child_weight': 4, 'min_child_samples': 61}. Best is trial 0 with value: 0.6666666666666666.\u001b[0m\n",
      "\u001b[32m[I 2023-02-04 06:08:50,284]\u001b[0m Trial 10 finished with value: 0.6666666666666666 and parameters: {'max_depth': 209, 'num_leaves': 104, 'learning_rate': 0.9336957361908877, 'n_estimators': 200, 'colsample_bytree': 0.996263587876931, 'colsample_bynode': 0.9829124634026045, 'reg_lambda': 0.010332571126641958, 'reg_alpha': 0.04928761530570208, 'min_child_weight': 15, 'min_child_samples': 26}. Best is trial 0 with value: 0.6666666666666666.\u001b[0m\n",
      "\u001b[32m[I 2023-02-04 06:08:50,309]\u001b[0m Trial 11 finished with value: 0.6666666666666666 and parameters: {'max_depth': 501, 'num_leaves': 6, 'learning_rate': 0.025899496896038543, 'n_estimators': 100, 'colsample_bytree': 0.6712335188998486, 'colsample_bynode': 0.82101299008107, 'reg_lambda': 0.035837259313092604, 'reg_alpha': 0.05775439825556928, 'min_child_weight': 15, 'min_child_samples': 42}. Best is trial 0 with value: 0.6666666666666666.\u001b[0m\n",
      "\u001b[32m[I 2023-02-04 06:08:50,336]\u001b[0m Trial 12 finished with value: 0.6666666666666666 and parameters: {'max_depth': 133, 'num_leaves': 9, 'learning_rate': 0.2961259545952514, 'n_estimators': 700, 'colsample_bytree': 0.6134118117210896, 'colsample_bynode': 0.7949822152240658, 'reg_lambda': 0.2747428124401496, 'reg_alpha': 0.8129620319903357, 'min_child_weight': 13, 'min_child_samples': 44}. Best is trial 0 with value: 0.6666666666666666.\u001b[0m\n",
      "\u001b[32m[I 2023-02-04 06:08:50,384]\u001b[0m Trial 13 finished with value: 0.6666666666666666 and parameters: {'max_depth': 461, 'num_leaves': 4, 'learning_rate': 0.43433073722956295, 'n_estimators': 2900, 'colsample_bytree': 0.7500424693030531, 'colsample_bynode': 0.9139567673263087, 'reg_lambda': 0.030619161869950992, 'reg_alpha': 0.025965250415380822, 'min_child_weight': 13, 'min_child_samples': 5}. Best is trial 0 with value: 0.6666666666666666.\u001b[0m\n",
      "\u001b[32m[I 2023-02-04 06:08:50,416]\u001b[0m Trial 14 finished with value: 0.6666666666666666 and parameters: {'max_depth': 292, 'num_leaves': 17, 'learning_rate': 0.15898858447883063, 'n_estimators': 1100, 'colsample_bytree': 0.7285260457379057, 'colsample_bynode': 0.9723568811804704, 'reg_lambda': 0.014551597722168704, 'reg_alpha': 0.10531091173377306, 'min_child_weight': 12, 'min_child_samples': 26}. Best is trial 0 with value: 0.6666666666666666.\u001b[0m\n",
      "\u001b[32m[I 2023-02-04 06:08:50,462]\u001b[0m Trial 15 finished with value: 0.6666666666666666 and parameters: {'max_depth': 436, 'num_leaves': 45, 'learning_rate': 0.6985104197981237, 'n_estimators': 2100, 'colsample_bytree': 0.5806555301889823, 'colsample_bynode': 0.7843977691268276, 'reg_lambda': 0.050049142132767954, 'reg_alpha': 0.3842515532410091, 'min_child_weight': 15, 'min_child_samples': 49}. Best is trial 0 with value: 0.6666666666666666.\u001b[0m\n",
      "\u001b[32m[I 2023-02-04 06:08:50,494]\u001b[0m Trial 16 finished with value: 0.6666666666666666 and parameters: {'max_depth': 149, 'num_leaves': 2, 'learning_rate': 0.9801926652044576, 'n_estimators': 1300, 'colsample_bytree': 0.7082343597594317, 'colsample_bynode': 0.8670849901789468, 'reg_lambda': 0.30886111493604806, 'reg_alpha': 0.024653207376901798, 'min_child_weight': 12, 'min_child_samples': 28}. Best is trial 0 with value: 0.6666666666666666.\u001b[0m\n",
      "\u001b[32m[I 2023-02-04 06:08:50,523]\u001b[0m Trial 17 finished with value: 0.6666666666666666 and parameters: {'max_depth': 315, 'num_leaves': 18, 'learning_rate': 0.45803257788934265, 'n_estimators': 600, 'colsample_bytree': 0.7339709486685104, 'colsample_bynode': 0.9920902265588919, 'reg_lambda': 0.01088696824761247, 'reg_alpha': 0.09782136572641294, 'min_child_weight': 12, 'min_child_samples': 20}. Best is trial 0 with value: 0.6666666666666666.\u001b[0m\n",
      "\u001b[32m[I 2023-02-04 06:08:50,578]\u001b[0m Trial 18 finished with value: 0.6666666666666666 and parameters: {'max_depth': 424, 'num_leaves': 68, 'learning_rate': 0.7491508786850912, 'n_estimators': 3000, 'colsample_bytree': 0.5880726776662399, 'colsample_bynode': 0.7484394323067134, 'reg_lambda': 0.18081837412460708, 'reg_alpha': 0.21954332278546043, 'min_child_weight': 15, 'min_child_samples': 51}. Best is trial 0 with value: 0.6666666666666666.\u001b[0m\n",
      "\u001b[32m[I 2023-02-04 06:08:50,609]\u001b[0m Trial 19 finished with value: 0.6666666666666666 and parameters: {'max_depth': 126, 'num_leaves': 2, 'learning_rate': 0.9706766022334028, 'n_estimators': 1100, 'colsample_bytree': 0.7790030287492885, 'colsample_bynode': 0.8790577761902906, 'reg_lambda': 0.6211704783349211, 'reg_alpha': 0.027446588981872463, 'min_child_weight': 11, 'min_child_samples': 17}. Best is trial 0 with value: 0.6666666666666666.\u001b[0m\n"
     ]
    },
    {
     "name": "stdout",
     "output_type": "stream",
     "text": [
      "\u001b[32m[I 2023-02-04 06:08:50,635]\u001b[0m Trial 20 finished with value: 0.6666666666666666 and parameters: {'max_depth': 282, 'num_leaves': 19, 'learning_rate': 0.508998026690054, 'n_estimators': 500, 'colsample_bytree': 0.8851558177211604, 'colsample_bynode': 0.9931441880056042, 'reg_lambda': 0.020571318162150774, 'reg_alpha': 0.08315079137826546, 'min_child_weight': 7, 'min_child_samples': 15}. Best is trial 0 with value: 0.6666666666666666.\u001b[0m\n",
      "\u001b[32m[I 2023-02-04 06:08:50,664]\u001b[0m Trial 21 finished with value: 0.6666666666666666 and parameters: {'max_depth': 353, 'num_leaves': 82, 'learning_rate': 0.7012780966107534, 'n_estimators': 500, 'colsample_bytree': 0.5826009205698831, 'colsample_bynode': 0.732283687371208, 'reg_lambda': 0.18923391180426138, 'reg_alpha': 0.22444310764244588, 'min_child_weight': 14, 'min_child_samples': 31}. Best is trial 0 with value: 0.6666666666666666.\u001b[0m\n",
      "\u001b[32m[I 2023-02-04 06:08:50,695]\u001b[0m Trial 22 finished with value: 0.6666666666666666 and parameters: {'max_depth': 29, 'num_leaves': 57, 'learning_rate': 0.8091940491957188, 'n_estimators': 1000, 'colsample_bytree': 0.7642150049584533, 'colsample_bynode': 0.915580708836668, 'reg_lambda': 0.7566921332011493, 'reg_alpha': 0.02693385627938668, 'min_child_weight': 11, 'min_child_samples': 38}. Best is trial 0 with value: 0.6666666666666666.\u001b[0m\n",
      "\u001b[32m[I 2023-02-04 06:08:50,720]\u001b[0m Trial 23 finished with value: 0.6666666666666666 and parameters: {'max_depth': 72, 'num_leaves': 9, 'learning_rate': 0.9089830697194969, 'n_estimators': 400, 'colsample_bytree': 0.9209126278904824, 'colsample_bynode': 0.9439091316311493, 'reg_lambda': 0.4940864828695088, 'reg_alpha': 0.07505725647797684, 'min_child_weight': 7, 'min_child_samples': 15}. Best is trial 0 with value: 0.6666666666666666.\u001b[0m\n",
      "\u001b[32m[I 2023-02-04 06:08:50,745]\u001b[0m Trial 24 finished with value: 0.6666666666666666 and parameters: {'max_depth': 260, 'num_leaves': 124, 'learning_rate': 0.5732899354375, 'n_estimators': 400, 'colsample_bytree': 0.930114654199446, 'colsample_bynode': 0.5910871460252236, 'reg_lambda': 0.17623120077285723, 'reg_alpha': 0.12078756732480606, 'min_child_weight': 5, 'min_child_samples': 32}. Best is trial 0 with value: 0.6666666666666666.\u001b[0m\n",
      "\u001b[32m[I 2023-02-04 06:08:50,777]\u001b[0m Trial 25 finished with value: 0.6666666666666666 and parameters: {'max_depth': 370, 'num_leaves': 40, 'learning_rate': 0.8161243759936105, 'n_estimators': 900, 'colsample_bytree': 0.5522049203972594, 'colsample_bynode': 0.8379301828451485, 'reg_lambda': 0.0820068667829014, 'reg_alpha': 0.01832550995859512, 'min_child_weight': 13, 'min_child_samples': 37}. Best is trial 0 with value: 0.6666666666666666.\u001b[0m\n",
      "\u001b[32m[I 2023-02-04 06:08:50,806]\u001b[0m Trial 26 finished with value: 0.6666666666666666 and parameters: {'max_depth': 52, 'num_leaves': 11, 'learning_rate': 0.8845488487582502, 'n_estimators': 900, 'colsample_bytree': 0.988932922557099, 'colsample_bynode': 0.9259045942483343, 'reg_lambda': 0.571550701188863, 'reg_alpha': 0.03929240896706674, 'min_child_weight': 7, 'min_child_samples': 9}. Best is trial 0 with value: 0.6666666666666666.\u001b[0m\n",
      "\u001b[32m[I 2023-02-04 06:08:50,834]\u001b[0m Trial 27 finished with value: 0.6666666666666666 and parameters: {'max_depth': 181, 'num_leaves': 909, 'learning_rate': 0.8746724187684425, 'n_estimators': 300, 'colsample_bytree': 0.9293816291479703, 'colsample_bynode': 0.5874640347170828, 'reg_lambda': 0.435943923036008, 'reg_alpha': 0.0663006207948992, 'min_child_weight': 5, 'min_child_samples': 15}. Best is trial 0 with value: 0.6666666666666666.\u001b[0m\n",
      "\u001b[32m[I 2023-02-04 06:08:50,871]\u001b[0m Trial 28 finished with value: 0.6666666666666666 and parameters: {'max_depth': 245, 'num_leaves': 147, 'learning_rate': 0.8071272488417065, 'n_estimators': 1300, 'colsample_bytree': 0.5333882952477935, 'colsample_bynode': 0.5683213318197397, 'reg_lambda': 0.07965865183043051, 'reg_alpha': 0.010758123332455244, 'min_child_weight': 3, 'min_child_samples': 33}. Best is trial 0 with value: 0.6666666666666666.\u001b[0m\n",
      "\u001b[32m[I 2023-02-04 06:08:50,904]\u001b[0m Trial 29 finished with value: 0.6666666666666666 and parameters: {'max_depth': 84, 'num_leaves': 31, 'learning_rate': 0.743666994728789, 'n_estimators': 900, 'colsample_bytree': 0.6336788918592986, 'colsample_bynode': 0.8130539154219727, 'reg_lambda': 0.08708310733239975, 'reg_alpha': 0.039971753704779865, 'min_child_weight': 14, 'min_child_samples': 61}. Best is trial 0 with value: 0.6666666666666666.\u001b[0m\n",
      "\u001b[32m[I 2023-02-04 06:08:50,929]\u001b[0m Trial 30 finished with value: 0.6666666666666666 and parameters: {'max_depth': 175, 'num_leaves': 926, 'learning_rate': 0.8787489840878515, 'n_estimators': 200, 'colsample_bytree': 0.9821881388251379, 'colsample_bynode': 0.62010994418298, 'reg_lambda': 0.4720291211087019, 'reg_alpha': 0.034597306864841845, 'min_child_weight': 5, 'min_child_samples': 9}. Best is trial 0 with value: 0.6666666666666666.\u001b[0m\n",
      "\u001b[32m[I 2023-02-04 06:08:50,978]\u001b[0m Trial 31 finished with value: 0.6666666666666666 and parameters: {'max_depth': 194, 'num_leaves': 989, 'learning_rate': 0.8964285735660209, 'n_estimators': 1400, 'colsample_bytree': 0.9462222598917949, 'colsample_bynode': 0.5546399401230061, 'reg_lambda': 0.9745186406988836, 'reg_alpha': 0.011313285240177207, 'min_child_weight': 2, 'min_child_samples': 21}. Best is trial 0 with value: 0.6666666666666666.\u001b[0m\n",
      "\u001b[32m[I 2023-02-04 06:08:51,008]\u001b[0m Trial 32 finished with value: 0.6666666666666666 and parameters: {'max_depth': 235, 'num_leaves': 219, 'learning_rate': 0.747135788716153, 'n_estimators': 700, 'colsample_bytree': 0.6488066091840436, 'colsample_bynode': 0.7014417341508017, 'reg_lambda': 0.08979296993080797, 'reg_alpha': 0.07042961760389117, 'min_child_weight': 2, 'min_child_samples': 62}. Best is trial 0 with value: 0.6666666666666666.\u001b[0m\n",
      "\u001b[32m[I 2023-02-04 06:08:51,053]\u001b[0m Trial 33 finished with value: 0.6666666666666666 and parameters: {'max_depth': 101, 'num_leaves': 424, 'learning_rate': 0.8264527420159831, 'n_estimators': 1400, 'colsample_bytree': 0.5468756644250119, 'colsample_bynode': 0.6091776419270989, 'reg_lambda': 0.05469047344480964, 'reg_alpha': 0.04148567131889628, 'min_child_weight': 4, 'min_child_samples': 54}. Best is trial 0 with value: 0.6666666666666666.\u001b[0m\n",
      "\u001b[32m[I 2023-02-04 06:08:51,106]\u001b[0m Trial 34 finished with value: 0.6666666666666666 and parameters: {'max_depth': 186, 'num_leaves': 849, 'learning_rate': 0.9244620093169907, 'n_estimators': 1800, 'colsample_bytree': 0.9618247103146552, 'colsample_bynode': 0.5484557362643108, 'reg_lambda': 0.9254456587719566, 'reg_alpha': 0.03393223556578766, 'min_child_weight': 5, 'min_child_samples': 22}. Best is trial 0 with value: 0.6666666666666666.\u001b[0m\n",
      "\u001b[32m[I 2023-02-04 06:08:51,133]\u001b[0m Trial 35 finished with value: 0.6666666666666666 and parameters: {'max_depth': 278, 'num_leaves': 6, 'learning_rate': 0.518518675173368, 'n_estimators': 500, 'colsample_bytree': 0.8857788771592361, 'colsample_bynode': 0.8885117856958042, 'reg_lambda': 0.2173646455902632, 'reg_alpha': 0.14143426708195078, 'min_child_weight': 14, 'min_child_samples': 15}. Best is trial 0 with value: 0.6666666666666666.\u001b[0m\n",
      "\u001b[32m[I 2023-02-04 06:08:51,160]\u001b[0m Trial 36 finished with value: 0.6666666666666666 and parameters: {'max_depth': 334, 'num_leaves': 64, 'learning_rate': 0.6712639945695094, 'n_estimators': 500, 'colsample_bytree': 0.7963492054509483, 'colsample_bynode': 0.7710215564579281, 'reg_lambda': 0.02089760148069444, 'reg_alpha': 0.08755720952040588, 'min_child_weight': 8, 'min_child_samples': 40}. Best is trial 0 with value: 0.6666666666666666.\u001b[0m\n",
      "\u001b[32m[I 2023-02-04 06:08:51,194]\u001b[0m Trial 37 finished with value: 0.6666666666666666 and parameters: {'max_depth': 397, 'num_leaves': 27, 'learning_rate': 0.6245287058812177, 'n_estimators': 1000, 'colsample_bytree': 0.701674892656782, 'colsample_bynode': 0.9478473150952433, 'reg_lambda': 0.022428120273049308, 'reg_alpha': 0.01805344476671816, 'min_child_weight': 10, 'min_child_samples': 32}. Best is trial 0 with value: 0.6666666666666666.\u001b[0m\n",
      "\u001b[32m[I 2023-02-04 06:08:51,223]\u001b[0m Trial 38 finished with value: 0.6666666666666666 and parameters: {'max_depth': 4, 'num_leaves': 68, 'learning_rate': 0.7112415189198052, 'n_estimators': 700, 'colsample_bytree': 0.5881419755076088, 'colsample_bynode': 0.8449384224300246, 'reg_lambda': 0.6821560792895941, 'reg_alpha': 0.57863081859702, 'min_child_weight': 14, 'min_child_samples': 11}. Best is trial 0 with value: 0.6666666666666666.\u001b[0m\n"
     ]
    },
    {
     "name": "stdout",
     "output_type": "stream",
     "text": [
      "\u001b[32m[I 2023-02-04 06:08:51,248]\u001b[0m Trial 39 finished with value: 0.6666666666666666 and parameters: {'max_depth': 39, 'num_leaves': 12, 'learning_rate': 0.793694268020499, 'n_estimators': 300, 'colsample_bytree': 0.6574004721012877, 'colsample_bynode': 0.9386903918673154, 'reg_lambda': 0.13144114860923567, 'reg_alpha': 0.2239134616718806, 'min_child_weight': 9, 'min_child_samples': 35}. Best is trial 0 with value: 0.6666666666666666.\u001b[0m\n",
      "\u001b[32m[I 2023-02-04 06:08:51,273]\u001b[0m Trial 40 finished with value: 0.6666666666666666 and parameters: {'max_depth': 63, 'num_leaves': 108, 'learning_rate': 0.9481401948895155, 'n_estimators': 300, 'colsample_bytree': 0.8002581077678962, 'colsample_bynode': 0.8984806595586625, 'reg_lambda': 0.4089873284401526, 'reg_alpha': 0.12800837679186197, 'min_child_weight': 6, 'min_child_samples': 25}. Best is trial 0 with value: 0.6666666666666666.\u001b[0m\n",
      "\u001b[32m[I 2023-02-04 06:08:51,306]\u001b[0m Trial 41 finished with value: 0.6666666666666666 and parameters: {'max_depth': 483, 'num_leaves': 42, 'learning_rate': 0.8223015579577178, 'n_estimators': 900, 'colsample_bytree': 0.8946052048415654, 'colsample_bynode': 0.8441497637583253, 'reg_lambda': 0.1109463575083006, 'reg_alpha': 0.02044676794691166, 'min_child_weight': 13, 'min_child_samples': 46}. Best is trial 0 with value: 0.6666666666666666.\u001b[0m\n",
      "\u001b[32m[I 2023-02-04 06:08:51,331]\u001b[0m Trial 42 finished with value: 0.6666666666666666 and parameters: {'max_depth': 364, 'num_leaves': 12, 'learning_rate': 0.8613930871219962, 'n_estimators': 400, 'colsample_bytree': 0.5055693475674408, 'colsample_bynode': 0.9555651512978522, 'reg_lambda': 0.06772808342578154, 'reg_alpha': 0.014245401095006983, 'min_child_weight': 7, 'min_child_samples': 11}. Best is trial 0 with value: 0.6666666666666666.\u001b[0m\n",
      "\u001b[32m[I 2023-02-04 06:08:51,361]\u001b[0m Trial 43 finished with value: 0.6666666666666666 and parameters: {'max_depth': 465, 'num_leaves': 4, 'learning_rate': 0.9174409675749887, 'n_estimators': 800, 'colsample_bytree': 0.9262242985913783, 'colsample_bynode': 0.8439726411440485, 'reg_lambda': 0.15963516258822136, 'reg_alpha': 0.05580489331460647, 'min_child_weight': 6, 'min_child_samples': 5}. Best is trial 0 with value: 0.6666666666666666.\u001b[0m\n",
      "\u001b[32m[I 2023-02-04 06:08:51,386]\u001b[0m Trial 44 finished with value: 0.6666666666666666 and parameters: {'max_depth': 214, 'num_leaves': 434, 'learning_rate': 0.8543988847395838, 'n_estimators': 100, 'colsample_bytree': 0.9780814725472607, 'colsample_bynode': 0.6633780073480589, 'reg_lambda': 0.24075688589609415, 'reg_alpha': 0.0637239254710596, 'min_child_weight': 5, 'min_child_samples': 100}. Best is trial 0 with value: 0.6666666666666666.\u001b[0m\n",
      "\u001b[32m[I 2023-02-04 06:08:51,417]\u001b[0m Trial 45 finished with value: 0.6666666666666666 and parameters: {'max_depth': 159, 'num_leaves': 25, 'learning_rate': 0.5920421694319211, 'n_estimators': 800, 'colsample_bytree': 0.926144052697319, 'colsample_bynode': 0.6065166282906526, 'reg_lambda': 0.36465688557698034, 'reg_alpha': 0.04742097961522286, 'min_child_weight': 4, 'min_child_samples': 11}. Best is trial 0 with value: 0.6666666666666666.\u001b[0m\n",
      "\u001b[32m[I 2023-02-04 06:08:51,457]\u001b[0m Trial 46 finished with value: 0.6666666666666666 and parameters: {'max_depth': 246, 'num_leaves': 135, 'learning_rate': 0.7545168202350558, 'n_estimators': 1600, 'colsample_bytree': 0.551512446917069, 'colsample_bynode': 0.5030571064061193, 'reg_lambda': 0.07167446465854263, 'reg_alpha': 0.010118106562979666, 'min_child_weight': 3, 'min_child_samples': 19}. Best is trial 0 with value: 0.6666666666666666.\u001b[0m\n",
      "\u001b[32m[I 2023-02-04 06:08:51,498]\u001b[0m Trial 47 finished with value: 0.6666666666666666 and parameters: {'max_depth': 313, 'num_leaves': 171, 'learning_rate': 0.7809505745356804, 'n_estimators': 1200, 'colsample_bytree': 0.5433482093378559, 'colsample_bynode': 0.5830664489252636, 'reg_lambda': 0.04387135210421807, 'reg_alpha': 0.013837215243240721, 'min_child_weight': 3, 'min_child_samples': 36}. Best is trial 0 with value: 0.6666666666666666.\u001b[0m\n",
      "\u001b[32m[I 2023-02-04 06:08:51,545]\u001b[0m Trial 48 finished with value: 0.6666666666666666 and parameters: {'max_depth': 88, 'num_leaves': 627, 'learning_rate': 0.9893364038798581, 'n_estimators': 1400, 'colsample_bytree': 0.6158984260225532, 'colsample_bynode': 0.8096917100737482, 'reg_lambda': 0.09895169651021081, 'reg_alpha': 0.0387857941282605, 'min_child_weight': 3, 'min_child_samples': 58}. Best is trial 0 with value: 0.6666666666666666.\u001b[0m\n",
      "\u001b[32m[I 2023-02-04 06:08:51,580]\u001b[0m Trial 49 finished with value: 0.6666666666666666 and parameters: {'max_depth': 124, 'num_leaves': 13, 'learning_rate': 0.8633738646915455, 'n_estimators': 1100, 'colsample_bytree': 0.5241652875743131, 'colsample_bynode': 0.6402295877864926, 'reg_lambda': 0.03972783889052589, 'reg_alpha': 0.030801510421422863, 'min_child_weight': 4, 'min_child_samples': 67}. Best is trial 0 with value: 0.6666666666666666.\u001b[0m\n"
     ]
    }
   ],
   "source": [
    "def lgbm_objective_O_31(trial):\n",
    "\n",
    "    params = {\n",
    "            #\"objective\": \"classifier\",\n",
    "            \"n_jobs\": 4,\n",
    "            \"max_depth\": trial.suggest_int(\"max_depth\", 4, 512),\n",
    "            'num_leaves': trial.suggest_int('num_leaves', 2, 1024, step=1, log=True), \n",
    "            \"learning_rate\": trial.suggest_uniform('learning_rate', 0.0001, 0.99),\n",
    "            'n_estimators': trial.suggest_int(\"n_estimators\", 100, 3000, step=100),\n",
    "            \"colsample_bytree\": trial.suggest_float(\"colsample_bytree\", 0.5, 1.0),\n",
    "            \"colsample_bynode\": trial.suggest_float(\"colsample_bynode\", 0.5, 1.0),\n",
    "            \"reg_lambda\": trial.suggest_loguniform(\"reg_lambda\", 1e-2, 1),\n",
    "            \"reg_alpha\": trial.suggest_loguniform(\"reg_alpha\", 1e-2, 1), \n",
    "            'min_child_weight': trial.suggest_int('min_child_weight', 2, 15),\n",
    "            'min_child_samples': trial.suggest_int('min_child_samples', 5, 100),\n",
    "        }\n",
    "\n",
    "    clf = lightgbm.LGBMClassifier(**params)\n",
    "    clf.fit(x_train, y_train)\n",
    "\n",
    "    return f1_score(clf.predict(x_train), y_train, average='micro')\n",
    "\n",
    "x_train = train_O1.drop(columns=['Y_Class'])\n",
    "y_train = train_O1['Y_Class']\n",
    "\n",
    "study = optuna.create_study(direction='maximize')\n",
    "study.optimize(lgbm_objective_O_31, n_trials=50, show_progress_bar=True)\n",
    "\n",
    "clear_output(wait=True)\n",
    "study_list.append(study)"
   ]
  },
  {
   "cell_type": "code",
   "execution_count": 229,
   "id": "7ad57801",
   "metadata": {},
   "outputs": [
    {
     "name": "stdout",
     "output_type": "stream",
     "text": [
      "\n",
      "  f1_score : 0.7175\n",
      "  f1_score : 0.9055555555555556\n",
      "  f1_score : 0.7142857142857143\n",
      "  f1_score : 0.593939393939394\n",
      "  f1_score : 0.8490756302521009\n",
      "  f1_score : 0.853781512605042\n",
      "  f1_score : 0.6666666666666666\n",
      "\n",
      "mean_f1 : 0.7572577819006392\n"
     ]
    }
   ],
   "source": [
    "print()\n",
    "f1_list = []\n",
    "\n",
    "for study in study_list:\n",
    "    trial = study.best_trial\n",
    "\n",
    "    print(\"  f1_score : {}\".format(trial.value))\n",
    "    f1_list.append(trial.value)\n",
    "#    print(\"  Best hyperparameters: \")\n",
    "#    for key, value in trial.params.items():\n",
    "#        print(\"    {}: {}\".format(key, value))\n",
    "print()\n",
    "print(f'mean_f1 : {np.mean(f1_list)}')"
   ]
  },
  {
   "cell_type": "code",
   "execution_count": 230,
   "id": "2e90d963",
   "metadata": {},
   "outputs": [
    {
     "name": "stdout",
     "output_type": "stream",
     "text": [
      "{'max_depth': 318, 'num_leaves': 472, 'learning_rate': 0.22503906024751974, 'n_estimators': 1100, 'colsample_bytree': 0.5181754671967488, 'colsample_bynode': 0.8545408777260162, 'reg_lambda': 0.06203722457064303, 'reg_alpha': 0.012356450863621379, 'min_child_weight': 9, 'min_child_samples': 7}\n",
      "\n",
      "{'max_depth': 404, 'num_leaves': 27, 'learning_rate': 0.49323896299493764, 'n_estimators': 400, 'colsample_bytree': 0.6499440185491085, 'colsample_bynode': 0.8735629402938402, 'reg_lambda': 0.07515955278747456, 'reg_alpha': 0.4147367034267318, 'min_child_weight': 2, 'min_child_samples': 5}\n",
      "\n",
      "{'max_depth': 243, 'num_leaves': 304, 'learning_rate': 0.1960332778793628, 'n_estimators': 2900, 'colsample_bytree': 0.9634115627069231, 'colsample_bynode': 0.5300959211368912, 'reg_lambda': 0.07402450271884667, 'reg_alpha': 0.020928462889057666, 'min_child_weight': 3, 'min_child_samples': 9}\n",
      "\n",
      "{'max_depth': 31, 'num_leaves': 194, 'learning_rate': 0.3838378970003029, 'n_estimators': 1400, 'colsample_bytree': 0.7015642632695978, 'colsample_bynode': 0.5562655714115209, 'reg_lambda': 0.11063720599654786, 'reg_alpha': 0.422546001750922, 'min_child_weight': 14, 'min_child_samples': 70}\n",
      "\n",
      "{'max_depth': 445, 'num_leaves': 25, 'learning_rate': 0.20163335820326067, 'n_estimators': 2300, 'colsample_bytree': 0.636598287363256, 'colsample_bynode': 0.6262149518261363, 'reg_lambda': 0.03446699194918807, 'reg_alpha': 0.572241005500278, 'min_child_weight': 4, 'min_child_samples': 5}\n",
      "\n",
      "{'max_depth': 32, 'num_leaves': 514, 'learning_rate': 0.04559213901548294, 'n_estimators': 1000, 'colsample_bytree': 0.7832812714894112, 'colsample_bynode': 0.5283267247926804, 'reg_lambda': 0.03070425981546774, 'reg_alpha': 0.045548787727696084, 'min_child_weight': 4, 'min_child_samples': 35}\n",
      "\n",
      "{'max_depth': 470, 'num_leaves': 9, 'learning_rate': 0.9169346613230496, 'n_estimators': 600, 'colsample_bytree': 0.6086505810248655, 'colsample_bynode': 0.9115809396441878, 'reg_lambda': 0.08296143664674777, 'reg_alpha': 0.046944050135319305, 'min_child_weight': 15, 'min_child_samples': 9}\n",
      "\n"
     ]
    }
   ],
   "source": [
    "for study in study_list:\n",
    "    print(study.best_params)\n",
    "    print()"
   ]
  },
  {
   "cell_type": "code",
   "execution_count": 231,
   "id": "649065b5",
   "metadata": {},
   "outputs": [],
   "source": [
    "code_line.append(['O_31'])\n",
    "for cl, train_df, study in zip(code_line, [train_A1, train_A2, train_A3, train_A4, train_T1, train_T2, train_O1], study_list):\n",
    "\n",
    "    x_train = train_df.drop(columns=['Y_Class'])\n",
    "    y_train = train_df['Y_Class']\n",
    "    \n",
    "    if cl[0] == 'O_31':\n",
    "        test_cl = test[test['PRODUCT_CODE'] == cl[0]]\n",
    "    else:\n",
    "        test_cl = test[(test['PRODUCT_CODE'] == cl[0]) & (test['LINE'] == cl[1])]\n",
    "    \n",
    "    if len(test_cl) == 0:\n",
    "        continue\n",
    "    test_cl = test_cl[x_train.columns]\n",
    "\n",
    "    # pca\n",
    "#     pca = PCA(n_components=n)\n",
    "#     pc = pca.fit_transform(x_train[x_train.columns[3:]])\n",
    "#     xtrain_pca = pd.DataFrame(pc, columns = [f'pc{i+1}' for i in range(n)])\n",
    "    \n",
    "#     pc = pca.transform(test_cl[test_cl.columns[3:]])\n",
    "#     test_pca = pd.DataFrame(pc, columns = [f'pc{i+1}' for i in range(n)])\n",
    "#     test_pca.head()\n",
    "    \n",
    "#     x_train = pd.concat([x_train[x_train.columns[:3]], xtrain_pca], axis=1)\n",
    "#     test_cl = pd.concat([test_cl[test_cl.columns[:3]], test_pca], axis=1)    \n",
    "    \n",
    "    # lightgbm\n",
    "    clf = lightgbm.LGBMClassifier(**study.best_params)\n",
    "    clf.fit(x_train, y_train, verbose=0)\n",
    "    pred = clf.predict(test_cl)\n",
    "    for i, idx in enumerate(test_cl.index):\n",
    "        subm['Y_Class'][idx] = pred[i]"
   ]
  },
  {
   "cell_type": "code",
   "execution_count": 232,
   "id": "7e6713bb",
   "metadata": {
    "scrolled": true
   },
   "outputs": [
    {
     "data": {
      "text/plain": [
       "1    270\n",
       "0     33\n",
       "2      7\n",
       "Name: Y_Class, dtype: int64"
      ]
     },
     "execution_count": 232,
     "metadata": {},
     "output_type": "execute_result"
    }
   ],
   "source": [
    "subm.Y_Class.value_counts()"
   ]
  },
  {
   "cell_type": "code",
   "execution_count": null,
   "id": "1a4f6a32",
   "metadata": {},
   "outputs": [],
   "source": [
    "###Y_Quality를 예측->proba로 이용해보자"
   ]
  },
  {
   "cell_type": "code",
   "execution_count": 233,
   "id": "d5413dd2",
   "metadata": {},
   "outputs": [],
   "source": [
    "subm.to_csv('submission/submission12.csv', index=False) # optuna200_lgbm_micro_cl_devision_yclass"
   ]
  },
  {
   "cell_type": "code",
   "execution_count": null,
   "id": "26591881",
   "metadata": {},
   "outputs": [],
   "source": []
  }
 ],
 "metadata": {
  "kernelspec": {
   "display_name": "Python 3 (ipykernel)",
   "language": "python",
   "name": "python3"
  },
  "language_info": {
   "codemirror_mode": {
    "name": "ipython",
    "version": 3
   },
   "file_extension": ".py",
   "mimetype": "text/x-python",
   "name": "python",
   "nbconvert_exporter": "python",
   "pygments_lexer": "ipython3",
   "version": "3.9.12"
  }
 },
 "nbformat": 4,
 "nbformat_minor": 5
}
