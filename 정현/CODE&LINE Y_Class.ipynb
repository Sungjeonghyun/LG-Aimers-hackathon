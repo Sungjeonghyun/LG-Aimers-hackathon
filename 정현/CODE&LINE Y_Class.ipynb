{
 "cells": [
  {
   "cell_type": "code",
   "execution_count": 32,
   "id": "1a09a960",
   "metadata": {},
   "outputs": [],
   "source": [
    "import warnings\n",
    "warnings.filterwarnings('ignore')\n",
    "from IPython.display import clear_output\n",
    "\n",
    "import random\n",
    "random.seed(56)\n",
    "\n",
    "import pandas as pd\n",
    "import numpy as np\n",
    "import matplotlib.pyplot as plt\n",
    "from pylab import rcParams\n",
    "plt.style.use('fivethirtyeight')\n",
    "plt.rc(\"font\", family=\"Malgun Gothic\")\n",
    "plt.rcParams['axes.unicode_minus'] = False\n",
    "%matplotlib inline\n",
    "from datetime import datetime as dt\n",
    "from sklearn.model_selection import StratifiedKFold\n",
    "from tqdm import tqdm \n",
    "import lightgbm\n",
    "import optuna\n",
    "from sklearn.metrics import f1_score\n",
    "from sklearn.preprocessing import LabelEncoder\n",
    "from sklearn.decomposition import PCA\n",
    "\n",
    "from imblearn.over_sampling import BorderlineSMOTE\n",
    "from imblearn.over_sampling import ADASYN"
   ]
  },
  {
   "cell_type": "markdown",
   "id": "067dbea3",
   "metadata": {},
   "source": [
    "## Dataset"
   ]
  },
  {
   "cell_type": "code",
   "execution_count": 43,
   "id": "dbaff255",
   "metadata": {},
   "outputs": [
    {
     "data": {
      "text/html": [
       "<div>\n",
       "<style scoped>\n",
       "    .dataframe tbody tr th:only-of-type {\n",
       "        vertical-align: middle;\n",
       "    }\n",
       "\n",
       "    .dataframe tbody tr th {\n",
       "        vertical-align: top;\n",
       "    }\n",
       "\n",
       "    .dataframe thead th {\n",
       "        text-align: right;\n",
       "    }\n",
       "</style>\n",
       "<table border=\"1\" class=\"dataframe\">\n",
       "  <thead>\n",
       "    <tr style=\"text-align: right;\">\n",
       "      <th></th>\n",
       "      <th>PRODUCT_ID</th>\n",
       "      <th>Y_Class</th>\n",
       "      <th>Y_Quality</th>\n",
       "      <th>TIMESTAMP</th>\n",
       "      <th>LINE</th>\n",
       "      <th>PRODUCT_CODE</th>\n",
       "      <th>X_1</th>\n",
       "      <th>X_2</th>\n",
       "      <th>X_3</th>\n",
       "      <th>X_4</th>\n",
       "      <th>...</th>\n",
       "      <th>X_2866</th>\n",
       "      <th>X_2867</th>\n",
       "      <th>X_2868</th>\n",
       "      <th>X_2869</th>\n",
       "      <th>X_2870</th>\n",
       "      <th>X_2871</th>\n",
       "      <th>X_2872</th>\n",
       "      <th>X_2873</th>\n",
       "      <th>X_2874</th>\n",
       "      <th>X_2875</th>\n",
       "    </tr>\n",
       "  </thead>\n",
       "  <tbody>\n",
       "    <tr>\n",
       "      <th>0</th>\n",
       "      <td>TRAIN_000</td>\n",
       "      <td>1</td>\n",
       "      <td>0.533433</td>\n",
       "      <td>2022-06-13 5:14</td>\n",
       "      <td>T050304</td>\n",
       "      <td>A_31</td>\n",
       "      <td>NaN</td>\n",
       "      <td>NaN</td>\n",
       "      <td>NaN</td>\n",
       "      <td>NaN</td>\n",
       "      <td>...</td>\n",
       "      <td>39.34</td>\n",
       "      <td>40.89</td>\n",
       "      <td>32.56</td>\n",
       "      <td>34.09</td>\n",
       "      <td>77.77</td>\n",
       "      <td>NaN</td>\n",
       "      <td>NaN</td>\n",
       "      <td>NaN</td>\n",
       "      <td>NaN</td>\n",
       "      <td>NaN</td>\n",
       "    </tr>\n",
       "    <tr>\n",
       "      <th>1</th>\n",
       "      <td>TRAIN_001</td>\n",
       "      <td>2</td>\n",
       "      <td>0.541819</td>\n",
       "      <td>2022-06-13 5:22</td>\n",
       "      <td>T050307</td>\n",
       "      <td>A_31</td>\n",
       "      <td>NaN</td>\n",
       "      <td>NaN</td>\n",
       "      <td>NaN</td>\n",
       "      <td>NaN</td>\n",
       "      <td>...</td>\n",
       "      <td>38.89</td>\n",
       "      <td>42.82</td>\n",
       "      <td>43.92</td>\n",
       "      <td>35.34</td>\n",
       "      <td>72.55</td>\n",
       "      <td>NaN</td>\n",
       "      <td>NaN</td>\n",
       "      <td>NaN</td>\n",
       "      <td>NaN</td>\n",
       "      <td>NaN</td>\n",
       "    </tr>\n",
       "    <tr>\n",
       "      <th>2</th>\n",
       "      <td>TRAIN_002</td>\n",
       "      <td>1</td>\n",
       "      <td>0.531267</td>\n",
       "      <td>2022-06-13 5:30</td>\n",
       "      <td>T050304</td>\n",
       "      <td>A_31</td>\n",
       "      <td>NaN</td>\n",
       "      <td>NaN</td>\n",
       "      <td>NaN</td>\n",
       "      <td>NaN</td>\n",
       "      <td>...</td>\n",
       "      <td>39.19</td>\n",
       "      <td>36.65</td>\n",
       "      <td>42.47</td>\n",
       "      <td>36.53</td>\n",
       "      <td>78.35</td>\n",
       "      <td>NaN</td>\n",
       "      <td>NaN</td>\n",
       "      <td>NaN</td>\n",
       "      <td>NaN</td>\n",
       "      <td>NaN</td>\n",
       "    </tr>\n",
       "    <tr>\n",
       "      <th>3</th>\n",
       "      <td>TRAIN_003</td>\n",
       "      <td>2</td>\n",
       "      <td>0.537325</td>\n",
       "      <td>2022-06-13 5:39</td>\n",
       "      <td>T050307</td>\n",
       "      <td>A_31</td>\n",
       "      <td>NaN</td>\n",
       "      <td>NaN</td>\n",
       "      <td>NaN</td>\n",
       "      <td>NaN</td>\n",
       "      <td>...</td>\n",
       "      <td>37.74</td>\n",
       "      <td>39.17</td>\n",
       "      <td>52.17</td>\n",
       "      <td>30.58</td>\n",
       "      <td>71.78</td>\n",
       "      <td>NaN</td>\n",
       "      <td>NaN</td>\n",
       "      <td>NaN</td>\n",
       "      <td>NaN</td>\n",
       "      <td>NaN</td>\n",
       "    </tr>\n",
       "    <tr>\n",
       "      <th>4</th>\n",
       "      <td>TRAIN_004</td>\n",
       "      <td>1</td>\n",
       "      <td>0.531590</td>\n",
       "      <td>2022-06-13 5:47</td>\n",
       "      <td>T050304</td>\n",
       "      <td>A_31</td>\n",
       "      <td>NaN</td>\n",
       "      <td>NaN</td>\n",
       "      <td>NaN</td>\n",
       "      <td>NaN</td>\n",
       "      <td>...</td>\n",
       "      <td>38.70</td>\n",
       "      <td>41.89</td>\n",
       "      <td>46.93</td>\n",
       "      <td>33.09</td>\n",
       "      <td>76.97</td>\n",
       "      <td>NaN</td>\n",
       "      <td>NaN</td>\n",
       "      <td>NaN</td>\n",
       "      <td>NaN</td>\n",
       "      <td>NaN</td>\n",
       "    </tr>\n",
       "    <tr>\n",
       "      <th>...</th>\n",
       "      <td>...</td>\n",
       "      <td>...</td>\n",
       "      <td>...</td>\n",
       "      <td>...</td>\n",
       "      <td>...</td>\n",
       "      <td>...</td>\n",
       "      <td>...</td>\n",
       "      <td>...</td>\n",
       "      <td>...</td>\n",
       "      <td>...</td>\n",
       "      <td>...</td>\n",
       "      <td>...</td>\n",
       "      <td>...</td>\n",
       "      <td>...</td>\n",
       "      <td>...</td>\n",
       "      <td>...</td>\n",
       "      <td>...</td>\n",
       "      <td>...</td>\n",
       "      <td>...</td>\n",
       "      <td>...</td>\n",
       "      <td>...</td>\n",
       "    </tr>\n",
       "    <tr>\n",
       "      <th>593</th>\n",
       "      <td>TRAIN_593</td>\n",
       "      <td>1</td>\n",
       "      <td>0.526546</td>\n",
       "      <td>2022-09-08 14:30</td>\n",
       "      <td>T100306</td>\n",
       "      <td>T_31</td>\n",
       "      <td>2.0</td>\n",
       "      <td>95.0</td>\n",
       "      <td>0.0</td>\n",
       "      <td>45.0</td>\n",
       "      <td>...</td>\n",
       "      <td>NaN</td>\n",
       "      <td>NaN</td>\n",
       "      <td>NaN</td>\n",
       "      <td>NaN</td>\n",
       "      <td>NaN</td>\n",
       "      <td>NaN</td>\n",
       "      <td>NaN</td>\n",
       "      <td>NaN</td>\n",
       "      <td>NaN</td>\n",
       "      <td>NaN</td>\n",
       "    </tr>\n",
       "    <tr>\n",
       "      <th>594</th>\n",
       "      <td>TRAIN_594</td>\n",
       "      <td>0</td>\n",
       "      <td>0.524022</td>\n",
       "      <td>2022-09-08 22:38</td>\n",
       "      <td>T050304</td>\n",
       "      <td>A_31</td>\n",
       "      <td>NaN</td>\n",
       "      <td>NaN</td>\n",
       "      <td>NaN</td>\n",
       "      <td>NaN</td>\n",
       "      <td>...</td>\n",
       "      <td>49.47</td>\n",
       "      <td>53.07</td>\n",
       "      <td>50.89</td>\n",
       "      <td>55.10</td>\n",
       "      <td>66.49</td>\n",
       "      <td>1.0</td>\n",
       "      <td>NaN</td>\n",
       "      <td>NaN</td>\n",
       "      <td>NaN</td>\n",
       "      <td>NaN</td>\n",
       "    </tr>\n",
       "    <tr>\n",
       "      <th>595</th>\n",
       "      <td>TRAIN_595</td>\n",
       "      <td>0</td>\n",
       "      <td>0.521289</td>\n",
       "      <td>2022-09-08 22:47</td>\n",
       "      <td>T050304</td>\n",
       "      <td>A_31</td>\n",
       "      <td>NaN</td>\n",
       "      <td>NaN</td>\n",
       "      <td>NaN</td>\n",
       "      <td>NaN</td>\n",
       "      <td>...</td>\n",
       "      <td>NaN</td>\n",
       "      <td>NaN</td>\n",
       "      <td>NaN</td>\n",
       "      <td>NaN</td>\n",
       "      <td>NaN</td>\n",
       "      <td>1.0</td>\n",
       "      <td>NaN</td>\n",
       "      <td>NaN</td>\n",
       "      <td>NaN</td>\n",
       "      <td>NaN</td>\n",
       "    </tr>\n",
       "    <tr>\n",
       "      <th>596</th>\n",
       "      <td>TRAIN_596</td>\n",
       "      <td>1</td>\n",
       "      <td>0.531375</td>\n",
       "      <td>2022-09-08 14:38</td>\n",
       "      <td>T100304</td>\n",
       "      <td>O_31</td>\n",
       "      <td>40.0</td>\n",
       "      <td>94.0</td>\n",
       "      <td>0.0</td>\n",
       "      <td>45.0</td>\n",
       "      <td>...</td>\n",
       "      <td>NaN</td>\n",
       "      <td>NaN</td>\n",
       "      <td>NaN</td>\n",
       "      <td>NaN</td>\n",
       "      <td>NaN</td>\n",
       "      <td>NaN</td>\n",
       "      <td>NaN</td>\n",
       "      <td>NaN</td>\n",
       "      <td>NaN</td>\n",
       "      <td>NaN</td>\n",
       "    </tr>\n",
       "    <tr>\n",
       "      <th>597</th>\n",
       "      <td>TRAIN_597</td>\n",
       "      <td>1</td>\n",
       "      <td>0.533702</td>\n",
       "      <td>2022-09-08 14:46</td>\n",
       "      <td>T100306</td>\n",
       "      <td>O_31</td>\n",
       "      <td>21.0</td>\n",
       "      <td>87.0</td>\n",
       "      <td>0.0</td>\n",
       "      <td>45.0</td>\n",
       "      <td>...</td>\n",
       "      <td>NaN</td>\n",
       "      <td>NaN</td>\n",
       "      <td>NaN</td>\n",
       "      <td>NaN</td>\n",
       "      <td>NaN</td>\n",
       "      <td>NaN</td>\n",
       "      <td>NaN</td>\n",
       "      <td>NaN</td>\n",
       "      <td>NaN</td>\n",
       "      <td>NaN</td>\n",
       "    </tr>\n",
       "  </tbody>\n",
       "</table>\n",
       "<p>598 rows × 2881 columns</p>\n",
       "</div>"
      ],
      "text/plain": [
       "    PRODUCT_ID  Y_Class  Y_Quality         TIMESTAMP     LINE PRODUCT_CODE  \\\n",
       "0    TRAIN_000        1   0.533433   2022-06-13 5:14  T050304         A_31   \n",
       "1    TRAIN_001        2   0.541819   2022-06-13 5:22  T050307         A_31   \n",
       "2    TRAIN_002        1   0.531267   2022-06-13 5:30  T050304         A_31   \n",
       "3    TRAIN_003        2   0.537325   2022-06-13 5:39  T050307         A_31   \n",
       "4    TRAIN_004        1   0.531590   2022-06-13 5:47  T050304         A_31   \n",
       "..         ...      ...        ...               ...      ...          ...   \n",
       "593  TRAIN_593        1   0.526546  2022-09-08 14:30  T100306         T_31   \n",
       "594  TRAIN_594        0   0.524022  2022-09-08 22:38  T050304         A_31   \n",
       "595  TRAIN_595        0   0.521289  2022-09-08 22:47  T050304         A_31   \n",
       "596  TRAIN_596        1   0.531375  2022-09-08 14:38  T100304         O_31   \n",
       "597  TRAIN_597        1   0.533702  2022-09-08 14:46  T100306         O_31   \n",
       "\n",
       "      X_1   X_2  X_3   X_4  ...  X_2866  X_2867  X_2868  X_2869  X_2870  \\\n",
       "0     NaN   NaN  NaN   NaN  ...   39.34   40.89   32.56   34.09   77.77   \n",
       "1     NaN   NaN  NaN   NaN  ...   38.89   42.82   43.92   35.34   72.55   \n",
       "2     NaN   NaN  NaN   NaN  ...   39.19   36.65   42.47   36.53   78.35   \n",
       "3     NaN   NaN  NaN   NaN  ...   37.74   39.17   52.17   30.58   71.78   \n",
       "4     NaN   NaN  NaN   NaN  ...   38.70   41.89   46.93   33.09   76.97   \n",
       "..    ...   ...  ...   ...  ...     ...     ...     ...     ...     ...   \n",
       "593   2.0  95.0  0.0  45.0  ...     NaN     NaN     NaN     NaN     NaN   \n",
       "594   NaN   NaN  NaN   NaN  ...   49.47   53.07   50.89   55.10   66.49   \n",
       "595   NaN   NaN  NaN   NaN  ...     NaN     NaN     NaN     NaN     NaN   \n",
       "596  40.0  94.0  0.0  45.0  ...     NaN     NaN     NaN     NaN     NaN   \n",
       "597  21.0  87.0  0.0  45.0  ...     NaN     NaN     NaN     NaN     NaN   \n",
       "\n",
       "     X_2871  X_2872  X_2873  X_2874  X_2875  \n",
       "0       NaN     NaN     NaN     NaN     NaN  \n",
       "1       NaN     NaN     NaN     NaN     NaN  \n",
       "2       NaN     NaN     NaN     NaN     NaN  \n",
       "3       NaN     NaN     NaN     NaN     NaN  \n",
       "4       NaN     NaN     NaN     NaN     NaN  \n",
       "..      ...     ...     ...     ...     ...  \n",
       "593     NaN     NaN     NaN     NaN     NaN  \n",
       "594     1.0     NaN     NaN     NaN     NaN  \n",
       "595     1.0     NaN     NaN     NaN     NaN  \n",
       "596     NaN     NaN     NaN     NaN     NaN  \n",
       "597     NaN     NaN     NaN     NaN     NaN  \n",
       "\n",
       "[598 rows x 2881 columns]"
      ]
     },
     "execution_count": 43,
     "metadata": {},
     "output_type": "execute_result"
    }
   ],
   "source": [
    "# 학습 데이터\n",
    "train = pd.read_csv('./train.csv')\n",
    "train"
   ]
  },
  {
   "cell_type": "markdown",
   "id": "ddd414cd",
   "metadata": {},
   "source": [
    "* PRODUCT_ID : 제품의 고유 ID\n",
    "* Y_Class : 제품 품질 상태(Target) (0 : 기준 미달, 1 : 적합, 2 : 기준 초과)\n",
    "* Y_Quality : 제품 품질 수치\n",
    "* TIMESTAMP : 제품이 공정에 들어간 시각\n",
    "* LINE : 제품이 들어간 공정 LINE 종류 ('T050304', 'T050307', 'T100304', 'T100306', 'T010306', 'T010305' 존재)\n",
    "* PRODUCT_CODE : 제품의 CODE 번호 ('A_31', 'T_31', 'O_31' 존재)\n",
    "* X_1 ~ X_2875 : 공정 과정에서 추출되어 비식별화된 변수"
   ]
  },
  {
   "cell_type": "code",
   "execution_count": 44,
   "id": "67e06c29",
   "metadata": {},
   "outputs": [
    {
     "data": {
      "text/html": [
       "<div>\n",
       "<style scoped>\n",
       "    .dataframe tbody tr th:only-of-type {\n",
       "        vertical-align: middle;\n",
       "    }\n",
       "\n",
       "    .dataframe tbody tr th {\n",
       "        vertical-align: top;\n",
       "    }\n",
       "\n",
       "    .dataframe thead th {\n",
       "        text-align: right;\n",
       "    }\n",
       "</style>\n",
       "<table border=\"1\" class=\"dataframe\">\n",
       "  <thead>\n",
       "    <tr style=\"text-align: right;\">\n",
       "      <th></th>\n",
       "      <th>PRODUCT_ID</th>\n",
       "      <th>TIMESTAMP</th>\n",
       "      <th>LINE</th>\n",
       "      <th>PRODUCT_CODE</th>\n",
       "      <th>X_1</th>\n",
       "      <th>X_2</th>\n",
       "      <th>X_3</th>\n",
       "      <th>X_4</th>\n",
       "      <th>X_5</th>\n",
       "      <th>X_6</th>\n",
       "      <th>...</th>\n",
       "      <th>X_2866</th>\n",
       "      <th>X_2867</th>\n",
       "      <th>X_2868</th>\n",
       "      <th>X_2869</th>\n",
       "      <th>X_2870</th>\n",
       "      <th>X_2871</th>\n",
       "      <th>X_2872</th>\n",
       "      <th>X_2873</th>\n",
       "      <th>X_2874</th>\n",
       "      <th>X_2875</th>\n",
       "    </tr>\n",
       "  </thead>\n",
       "  <tbody>\n",
       "    <tr>\n",
       "      <th>0</th>\n",
       "      <td>TEST_000</td>\n",
       "      <td>2022-09-09 2:01</td>\n",
       "      <td>T100306</td>\n",
       "      <td>T_31</td>\n",
       "      <td>2.0</td>\n",
       "      <td>94.0</td>\n",
       "      <td>0.0</td>\n",
       "      <td>45.0</td>\n",
       "      <td>10.0</td>\n",
       "      <td>0.0</td>\n",
       "      <td>...</td>\n",
       "      <td>NaN</td>\n",
       "      <td>NaN</td>\n",
       "      <td>NaN</td>\n",
       "      <td>NaN</td>\n",
       "      <td>NaN</td>\n",
       "      <td>NaN</td>\n",
       "      <td>NaN</td>\n",
       "      <td>NaN</td>\n",
       "      <td>NaN</td>\n",
       "      <td>NaN</td>\n",
       "    </tr>\n",
       "    <tr>\n",
       "      <th>1</th>\n",
       "      <td>TEST_001</td>\n",
       "      <td>2022-09-09 2:09</td>\n",
       "      <td>T100304</td>\n",
       "      <td>T_31</td>\n",
       "      <td>2.0</td>\n",
       "      <td>93.0</td>\n",
       "      <td>0.0</td>\n",
       "      <td>45.0</td>\n",
       "      <td>11.0</td>\n",
       "      <td>0.0</td>\n",
       "      <td>...</td>\n",
       "      <td>NaN</td>\n",
       "      <td>NaN</td>\n",
       "      <td>NaN</td>\n",
       "      <td>NaN</td>\n",
       "      <td>NaN</td>\n",
       "      <td>NaN</td>\n",
       "      <td>NaN</td>\n",
       "      <td>NaN</td>\n",
       "      <td>NaN</td>\n",
       "      <td>NaN</td>\n",
       "    </tr>\n",
       "    <tr>\n",
       "      <th>2</th>\n",
       "      <td>TEST_002</td>\n",
       "      <td>2022-09-09 8:42</td>\n",
       "      <td>T100304</td>\n",
       "      <td>T_31</td>\n",
       "      <td>2.0</td>\n",
       "      <td>95.0</td>\n",
       "      <td>0.0</td>\n",
       "      <td>45.0</td>\n",
       "      <td>11.0</td>\n",
       "      <td>0.0</td>\n",
       "      <td>...</td>\n",
       "      <td>NaN</td>\n",
       "      <td>NaN</td>\n",
       "      <td>NaN</td>\n",
       "      <td>NaN</td>\n",
       "      <td>NaN</td>\n",
       "      <td>NaN</td>\n",
       "      <td>NaN</td>\n",
       "      <td>NaN</td>\n",
       "      <td>NaN</td>\n",
       "      <td>NaN</td>\n",
       "    </tr>\n",
       "    <tr>\n",
       "      <th>3</th>\n",
       "      <td>TEST_003</td>\n",
       "      <td>2022-09-09 10:56</td>\n",
       "      <td>T010305</td>\n",
       "      <td>A_31</td>\n",
       "      <td>NaN</td>\n",
       "      <td>NaN</td>\n",
       "      <td>NaN</td>\n",
       "      <td>NaN</td>\n",
       "      <td>NaN</td>\n",
       "      <td>NaN</td>\n",
       "      <td>...</td>\n",
       "      <td>NaN</td>\n",
       "      <td>NaN</td>\n",
       "      <td>NaN</td>\n",
       "      <td>NaN</td>\n",
       "      <td>NaN</td>\n",
       "      <td>NaN</td>\n",
       "      <td>NaN</td>\n",
       "      <td>NaN</td>\n",
       "      <td>NaN</td>\n",
       "      <td>NaN</td>\n",
       "    </tr>\n",
       "    <tr>\n",
       "      <th>4</th>\n",
       "      <td>TEST_004</td>\n",
       "      <td>2022-09-09 11:04</td>\n",
       "      <td>T010306</td>\n",
       "      <td>A_31</td>\n",
       "      <td>NaN</td>\n",
       "      <td>NaN</td>\n",
       "      <td>NaN</td>\n",
       "      <td>NaN</td>\n",
       "      <td>NaN</td>\n",
       "      <td>NaN</td>\n",
       "      <td>...</td>\n",
       "      <td>NaN</td>\n",
       "      <td>NaN</td>\n",
       "      <td>NaN</td>\n",
       "      <td>NaN</td>\n",
       "      <td>NaN</td>\n",
       "      <td>NaN</td>\n",
       "      <td>NaN</td>\n",
       "      <td>NaN</td>\n",
       "      <td>NaN</td>\n",
       "      <td>NaN</td>\n",
       "    </tr>\n",
       "  </tbody>\n",
       "</table>\n",
       "<p>5 rows × 2879 columns</p>\n",
       "</div>"
      ],
      "text/plain": [
       "  PRODUCT_ID         TIMESTAMP     LINE PRODUCT_CODE  X_1   X_2  X_3   X_4  \\\n",
       "0   TEST_000   2022-09-09 2:01  T100306         T_31  2.0  94.0  0.0  45.0   \n",
       "1   TEST_001   2022-09-09 2:09  T100304         T_31  2.0  93.0  0.0  45.0   \n",
       "2   TEST_002   2022-09-09 8:42  T100304         T_31  2.0  95.0  0.0  45.0   \n",
       "3   TEST_003  2022-09-09 10:56  T010305         A_31  NaN   NaN  NaN   NaN   \n",
       "4   TEST_004  2022-09-09 11:04  T010306         A_31  NaN   NaN  NaN   NaN   \n",
       "\n",
       "    X_5  X_6  ...  X_2866  X_2867  X_2868  X_2869  X_2870  X_2871  X_2872  \\\n",
       "0  10.0  0.0  ...     NaN     NaN     NaN     NaN     NaN     NaN     NaN   \n",
       "1  11.0  0.0  ...     NaN     NaN     NaN     NaN     NaN     NaN     NaN   \n",
       "2  11.0  0.0  ...     NaN     NaN     NaN     NaN     NaN     NaN     NaN   \n",
       "3   NaN  NaN  ...     NaN     NaN     NaN     NaN     NaN     NaN     NaN   \n",
       "4   NaN  NaN  ...     NaN     NaN     NaN     NaN     NaN     NaN     NaN   \n",
       "\n",
       "   X_2873  X_2874  X_2875  \n",
       "0     NaN     NaN     NaN  \n",
       "1     NaN     NaN     NaN  \n",
       "2     NaN     NaN     NaN  \n",
       "3     NaN     NaN     NaN  \n",
       "4     NaN     NaN     NaN  \n",
       "\n",
       "[5 rows x 2879 columns]"
      ]
     },
     "execution_count": 44,
     "metadata": {},
     "output_type": "execute_result"
    }
   ],
   "source": [
    "# 검증 데이터\n",
    "test = pd.read_csv('./test.csv')\n",
    "test.head()"
   ]
  },
  {
   "cell_type": "markdown",
   "id": "699e445d",
   "metadata": {},
   "source": [
    "* PRODUCT_ID : 제품의 고유 ID\n",
    "* TIMESTAMP : 제품이 공정에 들어간 시각\n",
    "* LINE : 제품이 들어간 공정 LINE 종류 ('T050304', 'T050307', 'T100304', 'T100306', 'T010306', 'T010305' 존재)\n",
    "* PRODUCT_CODE : 제품의 CODE 번호 ('A_31', 'T_31', 'O_31' 존재)\n",
    "* X_1 ~ X_2875 : 공정 과정에서 추출되어 비식별화된 변수"
   ]
  },
  {
   "cell_type": "code",
   "execution_count": 45,
   "id": "c4c5d197",
   "metadata": {},
   "outputs": [
    {
     "data": {
      "text/html": [
       "<div>\n",
       "<style scoped>\n",
       "    .dataframe tbody tr th:only-of-type {\n",
       "        vertical-align: middle;\n",
       "    }\n",
       "\n",
       "    .dataframe tbody tr th {\n",
       "        vertical-align: top;\n",
       "    }\n",
       "\n",
       "    .dataframe thead th {\n",
       "        text-align: right;\n",
       "    }\n",
       "</style>\n",
       "<table border=\"1\" class=\"dataframe\">\n",
       "  <thead>\n",
       "    <tr style=\"text-align: right;\">\n",
       "      <th></th>\n",
       "      <th>PRODUCT_ID</th>\n",
       "      <th>Y_Class</th>\n",
       "    </tr>\n",
       "  </thead>\n",
       "  <tbody>\n",
       "    <tr>\n",
       "      <th>0</th>\n",
       "      <td>TEST_000</td>\n",
       "      <td>0</td>\n",
       "    </tr>\n",
       "    <tr>\n",
       "      <th>1</th>\n",
       "      <td>TEST_001</td>\n",
       "      <td>0</td>\n",
       "    </tr>\n",
       "    <tr>\n",
       "      <th>2</th>\n",
       "      <td>TEST_002</td>\n",
       "      <td>0</td>\n",
       "    </tr>\n",
       "    <tr>\n",
       "      <th>3</th>\n",
       "      <td>TEST_003</td>\n",
       "      <td>0</td>\n",
       "    </tr>\n",
       "    <tr>\n",
       "      <th>4</th>\n",
       "      <td>TEST_004</td>\n",
       "      <td>0</td>\n",
       "    </tr>\n",
       "  </tbody>\n",
       "</table>\n",
       "</div>"
      ],
      "text/plain": [
       "  PRODUCT_ID  Y_Class\n",
       "0   TEST_000        0\n",
       "1   TEST_001        0\n",
       "2   TEST_002        0\n",
       "3   TEST_003        0\n",
       "4   TEST_004        0"
      ]
     },
     "execution_count": 45,
     "metadata": {},
     "output_type": "execute_result"
    }
   ],
   "source": [
    "# 제출 양식\n",
    "subm = pd.read_csv('./sample_submission.csv')\n",
    "subm.head()"
   ]
  },
  {
   "cell_type": "markdown",
   "id": "f2f95b4b",
   "metadata": {},
   "source": [
    "* PRODUCT_ID : 제품의 고유 ID\n",
    "* Y_Class : 예측한 제품 품질 상태 (0 : 기준 미달, 1 : 적합, 2 : 기준 초과)"
   ]
  },
  {
   "cell_type": "markdown",
   "id": "8587ffdc",
   "metadata": {},
   "source": [
    "### dtypes"
   ]
  },
  {
   "cell_type": "code",
   "execution_count": 46,
   "id": "70c2531b",
   "metadata": {},
   "outputs": [
    {
     "data": {
      "text/plain": [
       "PRODUCT_ID     object\n",
       "Y_Class         int64\n",
       "Y_Quality     float64\n",
       "TIMESTAMP      object\n",
       "LINE           object\n",
       "               ...   \n",
       "X_2871        float64\n",
       "X_2872        float64\n",
       "X_2873        float64\n",
       "X_2874        float64\n",
       "X_2875        float64\n",
       "Length: 2881, dtype: object"
      ]
     },
     "execution_count": 46,
     "metadata": {},
     "output_type": "execute_result"
    }
   ],
   "source": [
    "train.dtypes"
   ]
  },
  {
   "cell_type": "code",
   "execution_count": 47,
   "id": "31ec8b13",
   "metadata": {},
   "outputs": [],
   "source": [
    "train['LINE'] = train['LINE'].astype('category')\n",
    "train['PRODUCT_CODE'] = train['PRODUCT_CODE'].astype('category')"
   ]
  },
  {
   "cell_type": "markdown",
   "id": "ab3eff39",
   "metadata": {},
   "source": [
    "### Y Class & Y Quality"
   ]
  },
  {
   "cell_type": "code",
   "execution_count": 48,
   "id": "7da007fb",
   "metadata": {},
   "outputs": [
    {
     "data": {
      "image/png": "[encoded data removed]",
      "text/plain": [
       "<Figure size 1080x504 with 1 Axes>"
      ]
     },
     "metadata": {
      "needs_background": "light"
     },
     "output_type": "display_data"
    }
   ],
   "source": [
    "rcParams['figure.figsize'] = 15, 7\n",
    "\n",
    "fig, ax = plt.subplots()\n",
    "\n",
    "ax.boxplot([train[train['Y_Class']==0].Y_Quality, train[train['Y_Class']==1].Y_Quality, train[train['Y_Class']==2].Y_Quality])\n",
    "ax.set_ylim(0.5, 0.6)\n",
    "ax.set_xlabel('Y_Class')\n",
    "ax.set_ylabel('Y_Quality')\n",
    "plt.show()"
   ]
  },
  {
   "cell_type": "code",
   "execution_count": 49,
   "id": "e1f819b9",
   "metadata": {},
   "outputs": [
    {
     "name": "stdout",
     "output_type": "stream",
     "text": [
      "Class : 0, Quality range : 0.500855556 ~ 0.525066667\n",
      "Class : 1, Quality range : 0.525085714 ~ 0.534842857\n",
      "Class : 2, Quality range : 0.534950794 ~ 0.57884127\n"
     ]
    }
   ],
   "source": [
    "# Class는 Quality를 3등분한 결과\n",
    "for i in range(3):\n",
    "    tmp = train[train['Y_Class']==i].Y_Quality\n",
    "    print(f'Class : {i}, Quality range : {min(tmp)} ~ {max(tmp)}')"
   ]
  },
  {
   "cell_type": "code",
   "execution_count": 50,
   "id": "17d28aea",
   "metadata": {},
   "outputs": [
    {
     "data": {
      "text/plain": [
       "1    407\n",
       "2    103\n",
       "0     88\n",
       "Name: Y_Class, dtype: int64"
      ]
     },
     "execution_count": 50,
     "metadata": {},
     "output_type": "execute_result"
    }
   ],
   "source": [
    "train.Y_Class.value_counts()"
   ]
  },
  {
   "cell_type": "markdown",
   "id": "df797904",
   "metadata": {},
   "source": [
    "### Product Code"
   ]
  },
  {
   "cell_type": "code",
   "execution_count": 51,
   "id": "1689a206",
   "metadata": {},
   "outputs": [
    {
     "data": {
      "text/plain": [
       "T_31    343\n",
       "A_31    249\n",
       "O_31      6\n",
       "Name: PRODUCT_CODE, dtype: int64"
      ]
     },
     "execution_count": 51,
     "metadata": {},
     "output_type": "execute_result"
    }
   ],
   "source": [
    "# Product Code는 3가지로 이루어져 있다.\n",
    "train['PRODUCT_CODE'].value_counts()"
   ]
  },
  {
   "cell_type": "markdown",
   "id": "b5b16d45",
   "metadata": {},
   "source": [
    "### Line"
   ]
  },
  {
   "cell_type": "code",
   "execution_count": 52,
   "id": "0032acf1",
   "metadata": {},
   "outputs": [
    {
     "data": {
      "text/plain": [
       "T100304    175\n",
       "T100306    174\n",
       "T050304     78\n",
       "T010306     70\n",
       "T010305     59\n",
       "T050307     42\n",
       "Name: LINE, dtype: int64"
      ]
     },
     "execution_count": 52,
     "metadata": {},
     "output_type": "execute_result"
    }
   ],
   "source": [
    "# Line은 6가지\n",
    "train['LINE'].value_counts()"
   ]
  },
  {
   "cell_type": "markdown",
   "id": "e075e254",
   "metadata": {},
   "source": [
    "### TimeStamp"
   ]
  },
  {
   "cell_type": "markdown",
   "id": "0012e18f",
   "metadata": {},
   "source": [
    "* 일, 시, 분 단위 모두 연속적이지 않으므로 활용할 수 없다. interpolate(보간)을 하기에도 너무 공백이 많다.\n",
    "* 단 월 단위는 quality의 감소세가 확인된다."
   ]
  },
  {
   "cell_type": "code",
   "execution_count": 53,
   "id": "1fa83cd9",
   "metadata": {},
   "outputs": [
    {
     "data": {
      "image/png": "[encoded data removed]",
      "text/plain": [
       "<Figure size 1080x1080 with 6 Axes>"
      ]
     },
     "metadata": {
      "needs_background": "light"
     },
     "output_type": "display_data"
    }
   ],
   "source": [
    "# LINE\n",
    "rcParams['figure.figsize'] = 15, 15\n",
    "\n",
    "for i, l in enumerate(train.LINE.unique()):\n",
    "    plt.subplot(len(train.LINE.unique()), 1, i+1)\n",
    "    tmp = train[train['LINE']==l]\n",
    "    tmp['TIMESTAMP'] = pd.to_datetime(tmp['TIMESTAMP']).dt.strftime('%m')\n",
    "    tmp = tmp.groupby('TIMESTAMP').mean()\n",
    "    plt.plot(tmp.index, tmp['Y_Quality'])\n",
    "    plt.title(l)\n",
    "plt.show()"
   ]
  },
  {
   "cell_type": "code",
   "execution_count": 54,
   "id": "981b887e",
   "metadata": {},
   "outputs": [
    {
     "data": {
      "image/png": "[encoded data removed]",
      "text/plain": [
       "<Figure size 1080x1080 with 3 Axes>"
      ]
     },
     "metadata": {
      "needs_background": "light"
     },
     "output_type": "display_data"
    }
   ],
   "source": [
    "# PRODUCT_CODE\n",
    "rcParams['figure.figsize'] = 15, 15\n",
    "\n",
    "for i, l in enumerate(train['PRODUCT_CODE'].unique()):\n",
    "    plt.subplot(len(train.LINE.unique()), 1, i+1)\n",
    "    tmp = train[train['PRODUCT_CODE']==l]\n",
    "    tmp['TIMESTAMP'] = pd.to_datetime(tmp['TIMESTAMP']).dt.strftime('%m')\n",
    "    tmp = tmp.groupby('TIMESTAMP').mean()\n",
    "    plt.plot(tmp.index, tmp['Y_Quality'])\n",
    "    plt.title(l)\n",
    "plt.show()"
   ]
  },
  {
   "cell_type": "code",
   "execution_count": 55,
   "id": "a39dab1a",
   "metadata": {
    "scrolled": false
   },
   "outputs": [
    {
     "data": {
      "image/png": "[encoded data removed]",
      "text/plain": [
       "<Figure size 1080x1080 with 1 Axes>"
      ]
     },
     "metadata": {
      "needs_background": "light"
     },
     "output_type": "display_data"
    },
    {
     "data": {
      "image/png": "[encoded data removed]",
      "text/plain": [
       "<Figure size 1080x1080 with 1 Axes>"
      ]
     },
     "metadata": {
      "needs_background": "light"
     },
     "output_type": "display_data"
    },
    {
     "data": {
      "image/png": "[encoded data removed]",
      "text/plain": [
       "<Figure size 1080x1080 with 1 Axes>"
      ]
     },
     "metadata": {
      "needs_background": "light"
     },
     "output_type": "display_data"
    },
    {
     "data": {
      "image/png": "[encoded data removed]",
      "text/plain": [
       "<Figure size 1080x1080 with 1 Axes>"
      ]
     },
     "metadata": {
      "needs_background": "light"
     },
     "output_type": "display_data"
    },
    {
     "data": {
      "image/png": "[encoded data removed]",
      "text/plain": [
       "<Figure size 1080x1080 with 1 Axes>"
      ]
     },
     "metadata": {
      "needs_background": "light"
     },
     "output_type": "display_data"
    },
    {
     "data": {
      "image/png": "[encoded data removed]",
      "text/plain": [
       "<Figure size 1080x1080 with 1 Axes>"
      ]
     },
     "metadata": {
      "needs_background": "light"
     },
     "output_type": "display_data"
    }
   ],
   "source": [
    "# LINE & PRODUCT_CODE\n",
    "rcParams['figure.figsize'] = 15, 15\n",
    "\n",
    "for i, l in enumerate(train.LINE.unique()):\n",
    "    for i, c in enumerate(['A_31', 'T_31']): # O_31은 표본이 너무 적어 제외\n",
    "        tmp = train[(train['PRODUCT_CODE']==c)&(train['LINE']==l)]\n",
    "        if len(tmp) == 0: continue\n",
    "        plt.subplot(len(train.LINE.unique())*len(train.PRODUCT_CODE.unique()), 1, i+1)\n",
    "        tmp['TIMESTAMP'] = pd.to_datetime(tmp['TIMESTAMP']).dt.strftime('%m')\n",
    "        tmp = tmp.groupby('TIMESTAMP').mean()\n",
    "        plt.plot(tmp.index, tmp['Y_Quality'])\n",
    "        plt.title(f'{l} & {c}')\n",
    "    plt.show()"
   ]
  },
  {
   "cell_type": "code",
   "execution_count": 56,
   "id": "83c5c4ba",
   "metadata": {},
   "outputs": [
    {
     "data": {
      "text/html": [
       "<div>\n",
       "<style scoped>\n",
       "    .dataframe tbody tr th:only-of-type {\n",
       "        vertical-align: middle;\n",
       "    }\n",
       "\n",
       "    .dataframe tbody tr th {\n",
       "        vertical-align: top;\n",
       "    }\n",
       "\n",
       "    .dataframe thead th {\n",
       "        text-align: right;\n",
       "    }\n",
       "</style>\n",
       "<table border=\"1\" class=\"dataframe\">\n",
       "  <thead>\n",
       "    <tr style=\"text-align: right;\">\n",
       "      <th></th>\n",
       "      <th>PRODUCT_ID</th>\n",
       "      <th>Y_Class</th>\n",
       "      <th>Y_Quality</th>\n",
       "      <th>TIMESTAMP</th>\n",
       "      <th>LINE</th>\n",
       "      <th>PRODUCT_CODE</th>\n",
       "      <th>X_1</th>\n",
       "      <th>X_2</th>\n",
       "      <th>X_3</th>\n",
       "      <th>X_4</th>\n",
       "      <th>...</th>\n",
       "      <th>X_2866</th>\n",
       "      <th>X_2867</th>\n",
       "      <th>X_2868</th>\n",
       "      <th>X_2869</th>\n",
       "      <th>X_2870</th>\n",
       "      <th>X_2871</th>\n",
       "      <th>X_2872</th>\n",
       "      <th>X_2873</th>\n",
       "      <th>X_2874</th>\n",
       "      <th>X_2875</th>\n",
       "    </tr>\n",
       "  </thead>\n",
       "  <tbody>\n",
       "    <tr>\n",
       "      <th>0</th>\n",
       "      <td>TRAIN_000</td>\n",
       "      <td>1</td>\n",
       "      <td>0.533433</td>\n",
       "      <td>6</td>\n",
       "      <td>T050304</td>\n",
       "      <td>A_31</td>\n",
       "      <td>NaN</td>\n",
       "      <td>NaN</td>\n",
       "      <td>NaN</td>\n",
       "      <td>NaN</td>\n",
       "      <td>...</td>\n",
       "      <td>39.34</td>\n",
       "      <td>40.89</td>\n",
       "      <td>32.56</td>\n",
       "      <td>34.09</td>\n",
       "      <td>77.77</td>\n",
       "      <td>NaN</td>\n",
       "      <td>NaN</td>\n",
       "      <td>NaN</td>\n",
       "      <td>NaN</td>\n",
       "      <td>NaN</td>\n",
       "    </tr>\n",
       "    <tr>\n",
       "      <th>1</th>\n",
       "      <td>TRAIN_001</td>\n",
       "      <td>2</td>\n",
       "      <td>0.541819</td>\n",
       "      <td>6</td>\n",
       "      <td>T050307</td>\n",
       "      <td>A_31</td>\n",
       "      <td>NaN</td>\n",
       "      <td>NaN</td>\n",
       "      <td>NaN</td>\n",
       "      <td>NaN</td>\n",
       "      <td>...</td>\n",
       "      <td>38.89</td>\n",
       "      <td>42.82</td>\n",
       "      <td>43.92</td>\n",
       "      <td>35.34</td>\n",
       "      <td>72.55</td>\n",
       "      <td>NaN</td>\n",
       "      <td>NaN</td>\n",
       "      <td>NaN</td>\n",
       "      <td>NaN</td>\n",
       "      <td>NaN</td>\n",
       "    </tr>\n",
       "    <tr>\n",
       "      <th>2</th>\n",
       "      <td>TRAIN_002</td>\n",
       "      <td>1</td>\n",
       "      <td>0.531267</td>\n",
       "      <td>6</td>\n",
       "      <td>T050304</td>\n",
       "      <td>A_31</td>\n",
       "      <td>NaN</td>\n",
       "      <td>NaN</td>\n",
       "      <td>NaN</td>\n",
       "      <td>NaN</td>\n",
       "      <td>...</td>\n",
       "      <td>39.19</td>\n",
       "      <td>36.65</td>\n",
       "      <td>42.47</td>\n",
       "      <td>36.53</td>\n",
       "      <td>78.35</td>\n",
       "      <td>NaN</td>\n",
       "      <td>NaN</td>\n",
       "      <td>NaN</td>\n",
       "      <td>NaN</td>\n",
       "      <td>NaN</td>\n",
       "    </tr>\n",
       "    <tr>\n",
       "      <th>3</th>\n",
       "      <td>TRAIN_003</td>\n",
       "      <td>2</td>\n",
       "      <td>0.537325</td>\n",
       "      <td>6</td>\n",
       "      <td>T050307</td>\n",
       "      <td>A_31</td>\n",
       "      <td>NaN</td>\n",
       "      <td>NaN</td>\n",
       "      <td>NaN</td>\n",
       "      <td>NaN</td>\n",
       "      <td>...</td>\n",
       "      <td>37.74</td>\n",
       "      <td>39.17</td>\n",
       "      <td>52.17</td>\n",
       "      <td>30.58</td>\n",
       "      <td>71.78</td>\n",
       "      <td>NaN</td>\n",
       "      <td>NaN</td>\n",
       "      <td>NaN</td>\n",
       "      <td>NaN</td>\n",
       "      <td>NaN</td>\n",
       "    </tr>\n",
       "    <tr>\n",
       "      <th>4</th>\n",
       "      <td>TRAIN_004</td>\n",
       "      <td>1</td>\n",
       "      <td>0.531590</td>\n",
       "      <td>6</td>\n",
       "      <td>T050304</td>\n",
       "      <td>A_31</td>\n",
       "      <td>NaN</td>\n",
       "      <td>NaN</td>\n",
       "      <td>NaN</td>\n",
       "      <td>NaN</td>\n",
       "      <td>...</td>\n",
       "      <td>38.70</td>\n",
       "      <td>41.89</td>\n",
       "      <td>46.93</td>\n",
       "      <td>33.09</td>\n",
       "      <td>76.97</td>\n",
       "      <td>NaN</td>\n",
       "      <td>NaN</td>\n",
       "      <td>NaN</td>\n",
       "      <td>NaN</td>\n",
       "      <td>NaN</td>\n",
       "    </tr>\n",
       "  </tbody>\n",
       "</table>\n",
       "<p>5 rows × 2881 columns</p>\n",
       "</div>"
      ],
      "text/plain": [
       "  PRODUCT_ID  Y_Class  Y_Quality  TIMESTAMP     LINE PRODUCT_CODE  X_1  X_2  \\\n",
       "0  TRAIN_000        1   0.533433          6  T050304         A_31  NaN  NaN   \n",
       "1  TRAIN_001        2   0.541819          6  T050307         A_31  NaN  NaN   \n",
       "2  TRAIN_002        1   0.531267          6  T050304         A_31  NaN  NaN   \n",
       "3  TRAIN_003        2   0.537325          6  T050307         A_31  NaN  NaN   \n",
       "4  TRAIN_004        1   0.531590          6  T050304         A_31  NaN  NaN   \n",
       "\n",
       "   X_3  X_4  ...  X_2866  X_2867  X_2868  X_2869  X_2870  X_2871  X_2872  \\\n",
       "0  NaN  NaN  ...   39.34   40.89   32.56   34.09   77.77     NaN     NaN   \n",
       "1  NaN  NaN  ...   38.89   42.82   43.92   35.34   72.55     NaN     NaN   \n",
       "2  NaN  NaN  ...   39.19   36.65   42.47   36.53   78.35     NaN     NaN   \n",
       "3  NaN  NaN  ...   37.74   39.17   52.17   30.58   71.78     NaN     NaN   \n",
       "4  NaN  NaN  ...   38.70   41.89   46.93   33.09   76.97     NaN     NaN   \n",
       "\n",
       "   X_2873  X_2874  X_2875  \n",
       "0     NaN     NaN     NaN  \n",
       "1     NaN     NaN     NaN  \n",
       "2     NaN     NaN     NaN  \n",
       "3     NaN     NaN     NaN  \n",
       "4     NaN     NaN     NaN  \n",
       "\n",
       "[5 rows x 2881 columns]"
      ]
     },
     "execution_count": 56,
     "metadata": {},
     "output_type": "execute_result"
    }
   ],
   "source": [
    "# 월별 영향력이 있어보인다.\n",
    "train['TIMESTAMP'] = pd.to_datetime(train['TIMESTAMP']).dt.strftime('%m')\n",
    "train['TIMESTAMP'] = train['TIMESTAMP'].astype('int64')\n",
    "train.head()"
   ]
  },
  {
   "cell_type": "markdown",
   "id": "30c99f51",
   "metadata": {},
   "source": [
    "### X_1 ~ X_2875"
   ]
  },
  {
   "cell_type": "code",
   "execution_count": 57,
   "id": "6b7ce630",
   "metadata": {},
   "outputs": [
    {
     "data": {
      "text/plain": [
       "2881"
      ]
     },
     "execution_count": 57,
     "metadata": {},
     "output_type": "execute_result"
    }
   ],
   "source": [
    "len(train.columns)"
   ]
  },
  {
   "cell_type": "markdown",
   "id": "e779a2c0",
   "metadata": {},
   "source": [
    "#### Product Code & Line에 따라 분류했을 경우"
   ]
  },
  {
   "cell_type": "code",
   "execution_count": 58,
   "id": "e5029418",
   "metadata": {},
   "outputs": [],
   "source": [
    "train_A1 = train[(train['PRODUCT_CODE'] == 'A_31') & (train['LINE'] == 'T050304')]\n",
    "train_A2 = train[(train['PRODUCT_CODE'] == 'A_31') & (train['LINE'] == 'T050307')]\n",
    "train_A3 = train[(train['PRODUCT_CODE'] == 'A_31') & (train['LINE'] == 'T010306')]\n",
    "train_A4 = train[(train['PRODUCT_CODE'] == 'A_31') & (train['LINE'] == 'T010305')]\n",
    "train_T1 = train[(train['PRODUCT_CODE'] == 'T_31') & (train['LINE'] == 'T100304')]\n",
    "train_T2 = train[(train['PRODUCT_CODE'] == 'T_31') & (train['LINE'] == 'T100306')]\n",
    "train_O1 = train[train['PRODUCT_CODE'] == 'O_31']"
   ]
  },
  {
   "cell_type": "code",
   "execution_count": 59,
   "id": "9b082adb",
   "metadata": {},
   "outputs": [
    {
     "name": "stdout",
     "output_type": "stream",
     "text": [
      "78\n",
      "42\n",
      "70\n",
      "59\n",
      "172\n",
      "171\n",
      "6\n"
     ]
    }
   ],
   "source": [
    "print(len(train_A1))\n",
    "print(len(train_A2))\n",
    "print(len(train_A3))\n",
    "print(len(train_A4))\n",
    "print(len(train_T1))\n",
    "print(len(train_T2))\n",
    "print(len(train_O1))"
   ]
  },
  {
   "cell_type": "code",
   "execution_count": null,
   "id": "b1fb2611",
   "metadata": {},
   "outputs": [],
   "source": []
  },
  {
   "cell_type": "code",
   "execution_count": 60,
   "id": "8bffc5e9",
   "metadata": {},
   "outputs": [],
   "source": [
    "# 결측치가 5% 이상이면 제거\n",
    "def remove_col(df):\n",
    "    for x in df.columns[6:]:\n",
    "        if len(df[df[x].isnull()]) > len(df)*0.05:\n",
    "            df.drop(columns=[x], inplace=True)\n",
    "    return df"
   ]
  },
  {
   "cell_type": "code",
   "execution_count": 61,
   "id": "339f8527",
   "metadata": {},
   "outputs": [],
   "source": [
    "train_A1 = remove_col(train_A1)\n",
    "train_A2 = remove_col(train_A2)\n",
    "train_A3 = remove_col(train_A3)\n",
    "train_A4 = remove_col(train_A4)\n",
    "train_T1 = remove_col(train_T1)\n",
    "train_T2 = remove_col(train_T2)\n",
    "train_O1 = remove_col(train_O1)"
   ]
  },
  {
   "cell_type": "code",
   "execution_count": 62,
   "id": "f44c61b9",
   "metadata": {},
   "outputs": [
    {
     "name": "stdout",
     "output_type": "stream",
     "text": [
      "1446\n",
      "1457\n",
      "877\n",
      "877\n",
      "662\n",
      "662\n",
      "656\n"
     ]
    }
   ],
   "source": [
    "print(len(train_A1.columns))\n",
    "print(len(train_A2.columns))\n",
    "print(len(train_A3.columns))\n",
    "print(len(train_A4.columns))\n",
    "print(len(train_T1.columns))\n",
    "print(len(train_T2.columns))\n",
    "print(len(train_O1.columns))"
   ]
  },
  {
   "cell_type": "code",
   "execution_count": null,
   "id": "a6471637",
   "metadata": {},
   "outputs": [],
   "source": []
  },
  {
   "cell_type": "code",
   "execution_count": 63,
   "id": "f9fc2204",
   "metadata": {},
   "outputs": [],
   "source": [
    "# 결측값 대체\n",
    "def nan_replace(df):\n",
    "    for x in df.columns[6:]:\n",
    "        for i in df[df[x].isnull()].index:\n",
    "            m = np.mean(df[(df['Y_Class']==df['Y_Class'][i]) & (df['LINE']==df['LINE'][i]) & (df['TIMESTAMP']==df['TIMESTAMP'][i])][x])\n",
    "            if str(m) != 'nan':\n",
    "                df[x][i] = m\n",
    "                continue\n",
    "            m = np.mean(df[(df['Y_Class']==df['Y_Class'][i]) & (df['LINE']==df['LINE'][i]) & (df['TIMESTAMP']==(df['TIMESTAMP'][i]-1))][x])\n",
    "            if str(m) != 'nan':\n",
    "                df[x][i] = m\n",
    "                continue\n",
    "            m = np.mean(df[(df['Y_Class']==df['Y_Class'][i]) & (df['LINE']==df['LINE'][i]) & (df['TIMESTAMP']==(df['TIMESTAMP'][i]+1))][x])\n",
    "            if str(m) != 'nan':\n",
    "                df[x][i] = m\n",
    "                continue\n",
    "            m = np.mean(df[(df['Y_Class']==df['Y_Class'][i]) & (df['LINE']==df['LINE'][i])][x])\n",
    "            if str(m) != 'nan':\n",
    "                df[x][i] = m\n",
    "                continue\n",
    "\n",
    "            df[x][i] = np.mean(df[df['Y_Class']==df['Y_Class'][i]][x])\n",
    "    return df"
   ]
  },
  {
   "cell_type": "code",
   "execution_count": 64,
   "id": "9a69c7e3",
   "metadata": {},
   "outputs": [],
   "source": [
    "train_A1 = nan_replace(train_A1)\n",
    "train_A2 = nan_replace(train_A2)\n",
    "train_A3 = nan_replace(train_A3)\n",
    "train_A4 = nan_replace(train_A4)\n",
    "train_T1 = nan_replace(train_T1)\n",
    "train_T2 = nan_replace(train_T2)\n",
    "train_O1 = nan_replace(train_O1)"
   ]
  },
  {
   "cell_type": "code",
   "execution_count": 65,
   "id": "09c4a772",
   "metadata": {},
   "outputs": [],
   "source": [
    "train_A1.reset_index(drop=True, inplace=True)\n",
    "train_A2.reset_index(drop=True, inplace=True)\n",
    "train_A3.reset_index(drop=True, inplace=True)\n",
    "train_A4.reset_index(drop=True, inplace=True)\n",
    "train_T1.reset_index(drop=True, inplace=True)\n",
    "train_T2.reset_index(drop=True, inplace=True)\n",
    "train_O1.reset_index(drop=True, inplace=True)"
   ]
  },
  {
   "cell_type": "code",
   "execution_count": null,
   "id": "2e90132c",
   "metadata": {},
   "outputs": [],
   "source": []
  },
  {
   "cell_type": "code",
   "execution_count": 66,
   "id": "6e4027ae",
   "metadata": {},
   "outputs": [],
   "source": [
    "# 상관계수 0.95 이상이면 제거\n",
    "def corr_drop(train_df):\n",
    "    tmp = train_df[train_df.columns[2:]].corr()\n",
    "    for e, c in enumerate(tmp.columns):\n",
    "        for i in range(e+1, len(tmp.columns)):\n",
    "            if abs(tmp[c][i]) >= 0.9 and tmp.columns[i] in train_df.columns:\n",
    "                train_df.drop(columns=[tmp.columns[i]], inplace=True)\n",
    "    return train_df"
   ]
  },
  {
   "cell_type": "code",
   "execution_count": 67,
   "id": "89efbada",
   "metadata": {},
   "outputs": [],
   "source": [
    "train_A1 = corr_drop(train_A1)\n",
    "train_A2 = corr_drop(train_A2)\n",
    "train_A3 = corr_drop(train_A3)\n",
    "train_A4 = corr_drop(train_A4)\n",
    "train_T1 = corr_drop(train_T1)\n",
    "train_T2 = corr_drop(train_T2)\n",
    "train_O1 = corr_drop(train_O1)"
   ]
  },
  {
   "cell_type": "code",
   "execution_count": 68,
   "id": "aaf956fe",
   "metadata": {},
   "outputs": [
    {
     "name": "stdout",
     "output_type": "stream",
     "text": [
      "832\n",
      "809\n",
      "539\n",
      "520\n",
      "442\n",
      "442\n",
      "219\n"
     ]
    }
   ],
   "source": [
    "print(len(train_A1.columns))\n",
    "print(len(train_A2.columns))\n",
    "print(len(train_A3.columns))\n",
    "print(len(train_A4.columns))\n",
    "print(len(train_T1.columns))\n",
    "print(len(train_T2.columns))\n",
    "print(len(train_O1.columns))"
   ]
  },
  {
   "cell_type": "code",
   "execution_count": null,
   "id": "34300e55",
   "metadata": {},
   "outputs": [],
   "source": []
  },
  {
   "cell_type": "code",
   "execution_count": 69,
   "id": "237ee365",
   "metadata": {},
   "outputs": [],
   "source": [
    "# nunique == 1 인 column 제거. ex) LINE, PRODUCT_CODE, x_??\n",
    "def del_same_value(train_df):\n",
    "    for c in train_df.columns:\n",
    "        if train_df[c].nunique() == 1:\n",
    "            train_df.drop(columns=[c], inplace=True)\n",
    "    return train_df"
   ]
  },
  {
   "cell_type": "code",
   "execution_count": 70,
   "id": "900b2584",
   "metadata": {},
   "outputs": [],
   "source": [
    "train_A1 = del_same_value(train_A1)\n",
    "train_A2 = del_same_value(train_A2)\n",
    "train_A3 = del_same_value(train_A3)\n",
    "train_A4 = del_same_value(train_A4)\n",
    "train_T1 = del_same_value(train_T1)\n",
    "train_T2 = del_same_value(train_T2)\n",
    "train_O1 = del_same_value(train_O1)"
   ]
  },
  {
   "cell_type": "code",
   "execution_count": null,
   "id": "7360e99a",
   "metadata": {},
   "outputs": [],
   "source": []
  },
  {
   "cell_type": "markdown",
   "id": "dbb60525",
   "metadata": {},
   "source": [
    "### Over Sampling"
   ]
  },
  {
   "cell_type": "markdown",
   "id": "5f8ee891",
   "metadata": {},
   "source": [
    "#### oversampling 이전, 전처리"
   ]
  },
  {
   "cell_type": "code",
   "execution_count": 71,
   "id": "9e889645",
   "metadata": {},
   "outputs": [],
   "source": [
    "train_A1.drop(columns=['PRODUCT_ID', 'Y_Quality'], inplace=True)\n",
    "train_A2.drop(columns=['PRODUCT_ID', 'Y_Quality'], inplace=True)\n",
    "train_A3.drop(columns=['PRODUCT_ID', 'Y_Quality'], inplace=True)\n",
    "train_A4.drop(columns=['PRODUCT_ID', 'Y_Quality'], inplace=True)\n",
    "train_T1.drop(columns=['PRODUCT_ID', 'Y_Quality'], inplace=True)\n",
    "train_T2.drop(columns=['PRODUCT_ID', 'Y_Quality'], inplace=True)\n",
    "train_O1.drop(columns=['LINE', 'PRODUCT_ID', 'Y_Quality'], inplace=True)"
   ]
  },
  {
   "cell_type": "code",
   "execution_count": null,
   "id": "cf0017d3",
   "metadata": {},
   "outputs": [],
   "source": []
  },
  {
   "cell_type": "code",
   "execution_count": 72,
   "id": "9d3424b1",
   "metadata": {},
   "outputs": [],
   "source": [
    "def Borderline_SMOTE(train_df):\n",
    "    B_SMOTE = BorderlineSMOTE(random_state=0)\n",
    "    x_b_smote, y_b_smote = B_SMOTE.fit_resample(train_df[train_df.columns[1:]], train_df['Y_Class'])\n",
    "    train_df = x_b_smote\n",
    "    train_df['Y_Class'] = y_b_smote\n",
    "    \n",
    "    return train_df"
   ]
  },
  {
   "cell_type": "code",
   "execution_count": 75,
   "id": "b3b7f24e",
   "metadata": {},
   "outputs": [],
   "source": [
    "train_A1 = Borderline_SMOTE(train_A1)\n",
    "train_A2 = Borderline_SMOTE(train_A2)\n",
    "train_A3 = Borderline_SMOTE(train_A3)\n",
    "train_A4 = Borderline_SMOTE(train_A4)\n",
    "train_T1 = Borderline_SMOTE(train_T1)\n",
    "train_T2 = Borderline_SMOTE(train_T2)\n",
    "# train_O1 = Borderline_SMOTE(train_O1) # train_O1은 표본이 6개로 너무 적어서 smote를 이용할 수 없음"
   ]
  },
  {
   "cell_type": "code",
   "execution_count": null,
   "id": "f91e753a",
   "metadata": {},
   "outputs": [],
   "source": []
  },
  {
   "cell_type": "code",
   "execution_count": null,
   "id": "12c9c6ec",
   "metadata": {},
   "outputs": [],
   "source": [
    "# def ADASYN_(train_df):\n",
    "#     adasyn = ADASYN(random_state=0)\n",
    "#     x_adasyn, y_adasyn = adasyn.fit_resample(train_df[train_df.columns[3:]], train_df['Y_Class'])\n",
    "\n",
    "#     train_df = x_adasyn\n",
    "#     train_df['Y_Class'] = y_adasyn\n",
    "#     return train_df"
   ]
  },
  {
   "cell_type": "code",
   "execution_count": null,
   "id": "a0b19f96",
   "metadata": {},
   "outputs": [],
   "source": []
  },
  {
   "cell_type": "markdown",
   "id": "245ebb62",
   "metadata": {},
   "source": [
    "### test data"
   ]
  },
  {
   "cell_type": "code",
   "execution_count": 85,
   "id": "ef4349ab",
   "metadata": {},
   "outputs": [
    {
     "data": {
      "text/html": [
       "<div>\n",
       "<style scoped>\n",
       "    .dataframe tbody tr th:only-of-type {\n",
       "        vertical-align: middle;\n",
       "    }\n",
       "\n",
       "    .dataframe tbody tr th {\n",
       "        vertical-align: top;\n",
       "    }\n",
       "\n",
       "    .dataframe thead th {\n",
       "        text-align: right;\n",
       "    }\n",
       "</style>\n",
       "<table border=\"1\" class=\"dataframe\">\n",
       "  <thead>\n",
       "    <tr style=\"text-align: right;\">\n",
       "      <th></th>\n",
       "      <th>TIMESTAMP</th>\n",
       "      <th>LINE</th>\n",
       "      <th>PRODUCT_CODE</th>\n",
       "      <th>X_1</th>\n",
       "      <th>X_2</th>\n",
       "      <th>X_3</th>\n",
       "      <th>X_4</th>\n",
       "      <th>X_5</th>\n",
       "      <th>X_6</th>\n",
       "      <th>X_7</th>\n",
       "      <th>...</th>\n",
       "      <th>X_2866</th>\n",
       "      <th>X_2867</th>\n",
       "      <th>X_2868</th>\n",
       "      <th>X_2869</th>\n",
       "      <th>X_2870</th>\n",
       "      <th>X_2871</th>\n",
       "      <th>X_2872</th>\n",
       "      <th>X_2873</th>\n",
       "      <th>X_2874</th>\n",
       "      <th>X_2875</th>\n",
       "    </tr>\n",
       "  </thead>\n",
       "  <tbody>\n",
       "    <tr>\n",
       "      <th>0</th>\n",
       "      <td>9</td>\n",
       "      <td>T100306</td>\n",
       "      <td>T_31</td>\n",
       "      <td>2.0</td>\n",
       "      <td>94.0</td>\n",
       "      <td>0.0</td>\n",
       "      <td>45.0</td>\n",
       "      <td>10.0</td>\n",
       "      <td>0.0</td>\n",
       "      <td>51.0</td>\n",
       "      <td>...</td>\n",
       "      <td>NaN</td>\n",
       "      <td>NaN</td>\n",
       "      <td>NaN</td>\n",
       "      <td>NaN</td>\n",
       "      <td>NaN</td>\n",
       "      <td>NaN</td>\n",
       "      <td>NaN</td>\n",
       "      <td>NaN</td>\n",
       "      <td>NaN</td>\n",
       "      <td>NaN</td>\n",
       "    </tr>\n",
       "    <tr>\n",
       "      <th>1</th>\n",
       "      <td>9</td>\n",
       "      <td>T100304</td>\n",
       "      <td>T_31</td>\n",
       "      <td>2.0</td>\n",
       "      <td>93.0</td>\n",
       "      <td>0.0</td>\n",
       "      <td>45.0</td>\n",
       "      <td>11.0</td>\n",
       "      <td>0.0</td>\n",
       "      <td>45.0</td>\n",
       "      <td>...</td>\n",
       "      <td>NaN</td>\n",
       "      <td>NaN</td>\n",
       "      <td>NaN</td>\n",
       "      <td>NaN</td>\n",
       "      <td>NaN</td>\n",
       "      <td>NaN</td>\n",
       "      <td>NaN</td>\n",
       "      <td>NaN</td>\n",
       "      <td>NaN</td>\n",
       "      <td>NaN</td>\n",
       "    </tr>\n",
       "    <tr>\n",
       "      <th>2</th>\n",
       "      <td>9</td>\n",
       "      <td>T100304</td>\n",
       "      <td>T_31</td>\n",
       "      <td>2.0</td>\n",
       "      <td>95.0</td>\n",
       "      <td>0.0</td>\n",
       "      <td>45.0</td>\n",
       "      <td>11.0</td>\n",
       "      <td>0.0</td>\n",
       "      <td>45.0</td>\n",
       "      <td>...</td>\n",
       "      <td>NaN</td>\n",
       "      <td>NaN</td>\n",
       "      <td>NaN</td>\n",
       "      <td>NaN</td>\n",
       "      <td>NaN</td>\n",
       "      <td>NaN</td>\n",
       "      <td>NaN</td>\n",
       "      <td>NaN</td>\n",
       "      <td>NaN</td>\n",
       "      <td>NaN</td>\n",
       "    </tr>\n",
       "    <tr>\n",
       "      <th>3</th>\n",
       "      <td>9</td>\n",
       "      <td>T010305</td>\n",
       "      <td>A_31</td>\n",
       "      <td>NaN</td>\n",
       "      <td>NaN</td>\n",
       "      <td>NaN</td>\n",
       "      <td>NaN</td>\n",
       "      <td>NaN</td>\n",
       "      <td>NaN</td>\n",
       "      <td>NaN</td>\n",
       "      <td>...</td>\n",
       "      <td>NaN</td>\n",
       "      <td>NaN</td>\n",
       "      <td>NaN</td>\n",
       "      <td>NaN</td>\n",
       "      <td>NaN</td>\n",
       "      <td>NaN</td>\n",
       "      <td>NaN</td>\n",
       "      <td>NaN</td>\n",
       "      <td>NaN</td>\n",
       "      <td>NaN</td>\n",
       "    </tr>\n",
       "    <tr>\n",
       "      <th>4</th>\n",
       "      <td>9</td>\n",
       "      <td>T010306</td>\n",
       "      <td>A_31</td>\n",
       "      <td>NaN</td>\n",
       "      <td>NaN</td>\n",
       "      <td>NaN</td>\n",
       "      <td>NaN</td>\n",
       "      <td>NaN</td>\n",
       "      <td>NaN</td>\n",
       "      <td>NaN</td>\n",
       "      <td>...</td>\n",
       "      <td>NaN</td>\n",
       "      <td>NaN</td>\n",
       "      <td>NaN</td>\n",
       "      <td>NaN</td>\n",
       "      <td>NaN</td>\n",
       "      <td>NaN</td>\n",
       "      <td>NaN</td>\n",
       "      <td>NaN</td>\n",
       "      <td>NaN</td>\n",
       "      <td>NaN</td>\n",
       "    </tr>\n",
       "  </tbody>\n",
       "</table>\n",
       "<p>5 rows × 2878 columns</p>\n",
       "</div>"
      ],
      "text/plain": [
       "   TIMESTAMP     LINE PRODUCT_CODE  X_1   X_2  X_3   X_4   X_5  X_6   X_7  \\\n",
       "0          9  T100306         T_31  2.0  94.0  0.0  45.0  10.0  0.0  51.0   \n",
       "1          9  T100304         T_31  2.0  93.0  0.0  45.0  11.0  0.0  45.0   \n",
       "2          9  T100304         T_31  2.0  95.0  0.0  45.0  11.0  0.0  45.0   \n",
       "3          9  T010305         A_31  NaN   NaN  NaN   NaN   NaN  NaN   NaN   \n",
       "4          9  T010306         A_31  NaN   NaN  NaN   NaN   NaN  NaN   NaN   \n",
       "\n",
       "   ...  X_2866  X_2867  X_2868  X_2869  X_2870  X_2871  X_2872  X_2873  \\\n",
       "0  ...     NaN     NaN     NaN     NaN     NaN     NaN     NaN     NaN   \n",
       "1  ...     NaN     NaN     NaN     NaN     NaN     NaN     NaN     NaN   \n",
       "2  ...     NaN     NaN     NaN     NaN     NaN     NaN     NaN     NaN   \n",
       "3  ...     NaN     NaN     NaN     NaN     NaN     NaN     NaN     NaN   \n",
       "4  ...     NaN     NaN     NaN     NaN     NaN     NaN     NaN     NaN   \n",
       "\n",
       "   X_2874  X_2875  \n",
       "0     NaN     NaN  \n",
       "1     NaN     NaN  \n",
       "2     NaN     NaN  \n",
       "3     NaN     NaN  \n",
       "4     NaN     NaN  \n",
       "\n",
       "[5 rows x 2878 columns]"
      ]
     },
     "execution_count": 85,
     "metadata": {},
     "output_type": "execute_result"
    }
   ],
   "source": [
    "test = test[test.columns[1:]]\n",
    "\n",
    "test['TIMESTAMP'] = pd.to_datetime(test['TIMESTAMP']).dt.strftime('%m').astype('int64')\n",
    "test['LINE'] = test['LINE'].astype('category')\n",
    "test['PRODUCT_CODE'] = test['PRODUCT_CODE'].astype('category')\n",
    "\n",
    "test.head()"
   ]
  },
  {
   "cell_type": "code",
   "execution_count": null,
   "id": "1854f2ac",
   "metadata": {},
   "outputs": [],
   "source": []
  },
  {
   "cell_type": "markdown",
   "id": "0927289e",
   "metadata": {},
   "source": [
    "### Optuna"
   ]
  },
  {
   "cell_type": "code",
   "execution_count": 97,
   "id": "84f13c23",
   "metadata": {},
   "outputs": [],
   "source": [
    "kfold = StratifiedKFold(n_splits=5, shuffle=True)\n",
    "\n",
    "def lgbm_objective(trial):\n",
    "\n",
    "    params = {\n",
    "            \"objective\": \"classifier\",\n",
    "            \"n_jobs\": 4,\n",
    "            \"max_depth\": trial.suggest_int(\"max_depth\", 4, 512),\n",
    "            'num_leaves': trial.suggest_int('num_leaves', 2, 1024, step=1, log=True), \n",
    "            \"learning_rate\": trial.suggest_uniform('learning_rate', 0.0001, 0.99),\n",
    "            'n_estimators': trial.suggest_int(\"n_estimators\", 100, 3000, step=100),\n",
    "            \"colsample_bytree\": trial.suggest_float(\"colsample_bytree\", 0.5, 1.0),\n",
    "            \"colsample_bynode\": trial.suggest_float(\"colsample_bynode\", 0.5, 1.0),\n",
    "            \"reg_lambda\": trial.suggest_loguniform(\"reg_lambda\", 1e-2, 1),\n",
    "            \"reg_alpha\": trial.suggest_loguniform(\"reg_alpha\", 1e-2, 1), \n",
    "            'min_child_weight': trial.suggest_int('min_child_weight', 2, 15),\n",
    "            'min_child_samples': trial.suggest_int('min_child_samples', 5, 100),\n",
    "            'boost_from_average' : True\n",
    "        }\n",
    "\n",
    "    clf = lightgbm.LGBMClassifier(**params)\n",
    "    \n",
    "    f1_list = []\n",
    "    for fold, (train_index, val_index) in enumerate(kfold.split(x_train, y_train)):\n",
    "        x_trn, x_val, y_trn, y_val = x_train.loc[train_index], x_train.loc[val_index], y_train.loc[train_index], y_train.loc[val_index]\n",
    "        clf.fit(x_trn, y_trn)\n",
    "        f1_list.append(f1_score(clf.predict(x_val), y_val, average='macro'))    \n",
    "    \n",
    "    return np.mean(f1_list)"
   ]
  },
  {
   "cell_type": "code",
   "execution_count": 98,
   "id": "e752884f",
   "metadata": {
    "scrolled": true
   },
   "outputs": [
    {
     "name": "stderr",
     "output_type": "stream",
     "text": [
      "\u001b[32m[I 2023-02-07 02:43:04,452]\u001b[0m A new study created in memory with name: no-name-3309bf00-2281-404b-87c4-e9d7bde8909d\u001b[0m\n"
     ]
    },
    {
     "data": {
      "application/json": {
       "ascii": false,
       "bar_format": null,
       "colour": null,
       "elapsed": 0.011002063751220703,
       "initial": 0,
       "n": 0,
       "ncols": null,
       "nrows": null,
       "postfix": null,
       "prefix": "",
       "rate": null,
       "total": 200,
       "unit": "it",
       "unit_divisor": 1000,
       "unit_scale": false
      },
      "application/vnd.jupyter.widget-view+json": {
       "model_id": "3a85ce3dc94d4270834ff3253099bc56",
       "version_major": 2,
       "version_minor": 0
      },
      "text/plain": [
       "  0%|          | 0/200 [00:00<?, ?it/s]"
      ]
     },
     "metadata": {},
     "output_type": "display_data"
    },
    {
     "name": "stdout",
     "output_type": "stream",
     "text": [
      "\u001b[32m[I 2023-02-07 02:43:05,126]\u001b[0m Trial 0 finished with value: 0.9279689058996631 and parameters: {'max_depth': 410, 'num_leaves': 40, 'learning_rate': 0.8572558714371492, 'n_estimators': 600, 'colsample_bytree': 0.589076506529217, 'colsample_bynode': 0.6924166841709076, 'reg_lambda': 0.01004031480401374, 'reg_alpha': 0.40341964876561787, 'min_child_weight': 15, 'min_child_samples': 58}. Best is trial 0 with value: 0.9279689058996631.\u001b[0m\n",
      "\u001b[32m[I 2023-02-07 02:43:05,455]\u001b[0m Trial 1 finished with value: 0.9444555895362576 and parameters: {'max_depth': 456, 'num_leaves': 544, 'learning_rate': 0.8160463213362679, 'n_estimators': 100, 'colsample_bytree': 0.9643051527955568, 'colsample_bynode': 0.8416941307304717, 'reg_lambda': 0.04109258927287876, 'reg_alpha': 0.5302210185383578, 'min_child_weight': 10, 'min_child_samples': 67}. Best is trial 1 with value: 0.9444555895362576.\u001b[0m\n",
      "\u001b[32m[I 2023-02-07 02:43:08,001]\u001b[0m Trial 2 finished with value: 0.9511281597894838 and parameters: {'max_depth': 204, 'num_leaves': 16, 'learning_rate': 0.9192897343294447, 'n_estimators': 2300, 'colsample_bytree': 0.8007621428882303, 'colsample_bynode': 0.5898104960618145, 'reg_lambda': 0.015169917922888026, 'reg_alpha': 0.056085454322965765, 'min_child_weight': 15, 'min_child_samples': 5}. Best is trial 2 with value: 0.9511281597894838.\u001b[0m\n",
      "\u001b[32m[I 2023-02-07 02:43:08,855]\u001b[0m Trial 3 finished with value: 0.9540540123084085 and parameters: {'max_depth': 170, 'num_leaves': 4, 'learning_rate': 0.41791867863938403, 'n_estimators': 700, 'colsample_bytree': 0.7874043847952489, 'colsample_bynode': 0.5125587785552332, 'reg_lambda': 0.15667586629514912, 'reg_alpha': 0.16679532894675334, 'min_child_weight': 9, 'min_child_samples': 88}. Best is trial 3 with value: 0.9540540123084085.\u001b[0m\n",
      "\u001b[32m[I 2023-02-07 02:43:09,323]\u001b[0m Trial 4 finished with value: 0.9559113375114286 and parameters: {'max_depth': 409, 'num_leaves': 36, 'learning_rate': 0.4065025583715306, 'n_estimators': 300, 'colsample_bytree': 0.9578077523772464, 'colsample_bynode': 0.6309766693764809, 'reg_lambda': 0.038947894368658774, 'reg_alpha': 0.4714183519340788, 'min_child_weight': 14, 'min_child_samples': 71}. Best is trial 4 with value: 0.9559113375114286.\u001b[0m\n",
      "\u001b[32m[I 2023-02-07 02:43:10,854]\u001b[0m Trial 5 finished with value: 0.9605054734055211 and parameters: {'max_depth': 99, 'num_leaves': 3, 'learning_rate': 0.403329768346447, 'n_estimators': 1500, 'colsample_bytree': 0.8734345756418521, 'colsample_bynode': 0.993856768638186, 'reg_lambda': 0.18122141418589308, 'reg_alpha': 0.127216778698113, 'min_child_weight': 8, 'min_child_samples': 67}. Best is trial 5 with value: 0.9605054734055211.\u001b[0m\n",
      "\u001b[32m[I 2023-02-07 02:43:12,132]\u001b[0m Trial 6 finished with value: 0.9793374577545115 and parameters: {'max_depth': 97, 'num_leaves': 288, 'learning_rate': 0.07949631043099811, 'n_estimators': 800, 'colsample_bytree': 0.7001159915243029, 'colsample_bynode': 0.7452716612356236, 'reg_lambda': 0.016925319896581303, 'reg_alpha': 0.015459534164447087, 'min_child_weight': 3, 'min_child_samples': 83}. Best is trial 6 with value: 0.9793374577545115.\u001b[0m\n",
      "\u001b[32m[I 2023-02-07 02:43:15,622]\u001b[0m Trial 7 finished with value: 0.9655580238436571 and parameters: {'max_depth': 464, 'num_leaves': 127, 'learning_rate': 0.12996566262363715, 'n_estimators': 2900, 'colsample_bytree': 0.5182415989872247, 'colsample_bynode': 0.7689814893501985, 'reg_lambda': 0.1992886967606715, 'reg_alpha': 0.26451037608765426, 'min_child_weight': 15, 'min_child_samples': 17}. Best is trial 6 with value: 0.9793374577545115.\u001b[0m\n",
      "\u001b[32m[I 2023-02-07 02:43:16,881]\u001b[0m Trial 8 finished with value: 0.9628407615571171 and parameters: {'max_depth': 164, 'num_leaves': 23, 'learning_rate': 0.49940151957673146, 'n_estimators': 1200, 'colsample_bytree': 0.7997750993725923, 'colsample_bynode': 0.7878403418718506, 'reg_lambda': 0.04066633258164086, 'reg_alpha': 0.20899438750770985, 'min_child_weight': 5, 'min_child_samples': 59}. Best is trial 6 with value: 0.9793374577545115.\u001b[0m\n",
      "\u001b[32m[I 2023-02-07 02:43:18,050]\u001b[0m Trial 9 finished with value: 0.949267740575071 and parameters: {'max_depth': 495, 'num_leaves': 7, 'learning_rate': 0.6337237716516524, 'n_estimators': 1100, 'colsample_bytree': 0.8855542115794468, 'colsample_bynode': 0.6415974308129637, 'reg_lambda': 0.2623001498464294, 'reg_alpha': 0.022605429065404945, 'min_child_weight': 10, 'min_child_samples': 79}. Best is trial 6 with value: 0.9793374577545115.\u001b[0m\n",
      "\u001b[32m[I 2023-02-07 02:43:21,318]\u001b[0m Trial 10 finished with value: 0.9676846265283313 and parameters: {'max_depth': 33, 'num_leaves': 430, 'learning_rate': 0.031245505444210474, 'n_estimators': 1900, 'colsample_bytree': 0.6830523262264133, 'colsample_bynode': 0.898758741463323, 'reg_lambda': 0.7761813049585525, 'reg_alpha': 0.010169596992236981, 'min_child_weight': 2, 'min_child_samples': 100}. Best is trial 6 with value: 0.9793374577545115.\u001b[0m\n",
      "\u001b[32m[I 2023-02-07 02:43:28,330]\u001b[0m Trial 11 finished with value: 0.8434275375575189 and parameters: {'max_depth': 12, 'num_leaves': 977, 'learning_rate': 0.00027148953851816385, 'n_estimators': 2100, 'colsample_bytree': 0.6657644404147337, 'colsample_bynode': 0.9070801970682268, 'reg_lambda': 0.7736687734188203, 'reg_alpha': 0.01179613870067143, 'min_child_weight': 2, 'min_child_samples': 93}. Best is trial 6 with value: 0.9793374577545115.\u001b[0m\n",
      "\u001b[32m[I 2023-02-07 02:43:30,396]\u001b[0m Trial 12 finished with value: 0.9681097402045952 and parameters: {'max_depth': 8, 'num_leaves': 199, 'learning_rate': 0.18757236190077217, 'n_estimators': 2000, 'colsample_bytree': 0.6844516817235566, 'colsample_bynode': 0.896835617563241, 'reg_lambda': 0.950564282163814, 'reg_alpha': 0.010439032012915874, 'min_child_weight': 2, 'min_child_samples': 99}. Best is trial 6 with value: 0.9793374577545115.\u001b[0m\n",
      "\u001b[32m[I 2023-02-07 02:43:33,380]\u001b[0m Trial 13 finished with value: 0.9749975547526996 and parameters: {'max_depth': 311, 'num_leaves': 137, 'learning_rate': 0.23100928860360703, 'n_estimators': 2800, 'colsample_bytree': 0.6933687632286542, 'colsample_bynode': 0.9837579438103894, 'reg_lambda': 0.07024674961346322, 'reg_alpha': 0.038296406576262446, 'min_child_weight': 5, 'min_child_samples': 42}. Best is trial 6 with value: 0.9793374577545115.\u001b[0m\n",
      "\u001b[32m[I 2023-02-07 02:43:36,498]\u001b[0m Trial 14 finished with value: 0.9677912638126733 and parameters: {'max_depth': 306, 'num_leaves': 116, 'learning_rate': 0.23904740592468227, 'n_estimators': 2900, 'colsample_bytree': 0.6078606631680668, 'colsample_bynode': 0.7104393077358773, 'reg_lambda': 0.08036449787072247, 'reg_alpha': 0.05036325377921941, 'min_child_weight': 5, 'min_child_samples': 36}. Best is trial 6 with value: 0.9793374577545115.\u001b[0m\n",
      "\u001b[32m[I 2023-02-07 02:43:39,178]\u001b[0m Trial 15 finished with value: 0.9700471756978161 and parameters: {'max_depth': 346, 'num_leaves': 75, 'learning_rate': 0.28035614182733287, 'n_estimators': 2500, 'colsample_bytree': 0.7230575959638895, 'colsample_bynode': 0.9805877413657403, 'reg_lambda': 0.01973576873917145, 'reg_alpha': 0.034843125188387836, 'min_child_weight': 5, 'min_child_samples': 40}. Best is trial 6 with value: 0.9793374577545115.\u001b[0m\n",
      "\u001b[32m[I 2023-02-07 02:43:40,579]\u001b[0m Trial 16 finished with value: 0.9744468773371538 and parameters: {'max_depth': 252, 'num_leaves': 267, 'learning_rate': 0.13751737828498223, 'n_estimators': 1000, 'colsample_bytree': 0.6047734020473671, 'colsample_bynode': 0.8210006569365057, 'reg_lambda': 0.07992043734532206, 'reg_alpha': 0.020962936861580416, 'min_child_weight': 4, 'min_child_samples': 40}. Best is trial 6 with value: 0.9793374577545115.\u001b[0m\n",
      "\u001b[32m[I 2023-02-07 02:43:43,291]\u001b[0m Trial 17 finished with value: 0.9768620414634641 and parameters: {'max_depth': 88, 'num_leaves': 1004, 'learning_rate': 0.3010576372061202, 'n_estimators': 1500, 'colsample_bytree': 0.7489002727618677, 'colsample_bynode': 0.7011157501960623, 'reg_lambda': 0.020139694873738956, 'reg_alpha': 0.9798494580712929, 'min_child_weight': 7, 'min_child_samples': 30}. Best is trial 6 with value: 0.9793374577545115.\u001b[0m\n",
      "\u001b[32m[I 2023-02-07 02:43:45,455]\u001b[0m Trial 18 finished with value: 0.969847374044981 and parameters: {'max_depth': 93, 'num_leaves': 939, 'learning_rate': 0.5990408151540487, 'n_estimators': 1400, 'colsample_bytree': 0.7546338299661506, 'colsample_bynode': 0.7173733680336505, 'reg_lambda': 0.02422182792600823, 'reg_alpha': 0.9890866806114338, 'min_child_weight': 7, 'min_child_samples': 20}. Best is trial 6 with value: 0.9793374577545115.\u001b[0m\n"
     ]
    },
    {
     "name": "stdout",
     "output_type": "stream",
     "text": [
      "\u001b[32m[I 2023-02-07 02:43:46,482]\u001b[0m Trial 19 finished with value: 0.9747116358958813 and parameters: {'max_depth': 94, 'num_leaves': 399, 'learning_rate': 0.3017570279358279, 'n_estimators': 700, 'colsample_bytree': 0.5053279002375521, 'colsample_bynode': 0.5640369526770761, 'reg_lambda': 0.012260248585189782, 'reg_alpha': 0.08535208983706132, 'min_child_weight': 7, 'min_child_samples': 28}. Best is trial 6 with value: 0.9793374577545115.\u001b[0m\n",
      "\u001b[32m[I 2023-02-07 02:43:48,898]\u001b[0m Trial 20 finished with value: 0.9676554223368854 and parameters: {'max_depth': 63, 'num_leaves': 672, 'learning_rate': 0.08904918092755111, 'n_estimators': 1700, 'colsample_bytree': 0.848086425260539, 'colsample_bynode': 0.6710739125564307, 'reg_lambda': 0.024162229770260543, 'reg_alpha': 0.950480362985604, 'min_child_weight': 12, 'min_child_samples': 79}. Best is trial 6 with value: 0.9793374577545115.\u001b[0m\n",
      "\u001b[32m[I 2023-02-07 02:43:51,775]\u001b[0m Trial 21 finished with value: 0.9630077043377975 and parameters: {'max_depth': 256, 'num_leaves': 230, 'learning_rate': 0.3123263872454084, 'n_estimators': 2600, 'colsample_bytree': 0.7261006289422138, 'colsample_bynode': 0.7433463860682126, 'reg_lambda': 0.032139888855522394, 'reg_alpha': 0.020066347634157895, 'min_child_weight': 4, 'min_child_samples': 49}. Best is trial 6 with value: 0.9793374577545115.\u001b[0m\n",
      "\u001b[32m[I 2023-02-07 02:43:53,657]\u001b[0m Trial 22 finished with value: 0.9837751299595711 and parameters: {'max_depth': 145, 'num_leaves': 94, 'learning_rate': 0.17961440900257386, 'n_estimators': 1700, 'colsample_bytree': 0.6498969688666205, 'colsample_bynode': 0.8321628418496361, 'reg_lambda': 0.06373981111546373, 'reg_alpha': 0.034425215589808246, 'min_child_weight': 7, 'min_child_samples': 46}. Best is trial 22 with value: 0.9837751299595711.\u001b[0m\n",
      "\u001b[32m[I 2023-02-07 02:43:55,693]\u001b[0m Trial 23 finished with value: 0.9767632113597846 and parameters: {'max_depth': 163, 'num_leaves': 54, 'learning_rate': 0.0808041269174557, 'n_estimators': 1700, 'colsample_bytree': 0.6231986258321884, 'colsample_bynode': 0.8370901387832004, 'reg_lambda': 0.018693487695016348, 'reg_alpha': 0.0832433020997731, 'min_child_weight': 7, 'min_child_samples': 51}. Best is trial 22 with value: 0.9837751299595711.\u001b[0m\n",
      "\u001b[32m[I 2023-02-07 02:43:57,012]\u001b[0m Trial 24 finished with value: 0.9678271532838538 and parameters: {'max_depth': 143, 'num_leaves': 366, 'learning_rate': 0.18199226973807603, 'n_estimators': 900, 'colsample_bytree': 0.6428726921421252, 'colsample_bynode': 0.7879427389216507, 'reg_lambda': 0.05539168928911268, 'reg_alpha': 0.02973080047582508, 'min_child_weight': 11, 'min_child_samples': 28}. Best is trial 22 with value: 0.9837751299595711.\u001b[0m\n",
      "\u001b[32m[I 2023-02-07 02:43:58,540]\u001b[0m Trial 25 finished with value: 0.956212735996641 and parameters: {'max_depth': 119, 'num_leaves': 81, 'learning_rate': 0.3484918827372432, 'n_estimators': 1300, 'colsample_bytree': 0.549275298000441, 'colsample_bynode': 0.7408502014473425, 'reg_lambda': 0.10617416311164254, 'reg_alpha': 0.014884562085549342, 'min_child_weight': 8, 'min_child_samples': 31}. Best is trial 22 with value: 0.9837751299595711.\u001b[0m\n",
      "\u001b[32m[I 2023-02-07 02:44:00,773]\u001b[0m Trial 26 finished with value: 0.9768070331683486 and parameters: {'max_depth': 216, 'num_leaves': 272, 'learning_rate': 0.20046566094544377, 'n_estimators': 1800, 'colsample_bytree': 0.7659195793980698, 'colsample_bynode': 0.8657496011406656, 'reg_lambda': 0.48325104471603825, 'reg_alpha': 0.05646426646087008, 'min_child_weight': 6, 'min_child_samples': 20}. Best is trial 22 with value: 0.9837751299595711.\u001b[0m\n",
      "\u001b[32m[I 2023-02-07 02:44:01,657]\u001b[0m Trial 27 finished with value: 0.972264768326782 and parameters: {'max_depth': 46, 'num_leaves': 683, 'learning_rate': 0.48498697045177647, 'n_estimators': 500, 'colsample_bytree': 0.72248448608465, 'colsample_bynode': 0.6588875103132543, 'reg_lambda': 0.026294448467843064, 'reg_alpha': 0.016040018709015707, 'min_child_weight': 3, 'min_child_samples': 46}. Best is trial 22 with value: 0.9837751299595711.\u001b[0m\n",
      "\u001b[32m[I 2023-02-07 02:44:04,294]\u001b[0m Trial 28 finished with value: 0.9745368828265872 and parameters: {'max_depth': 201, 'num_leaves': 160, 'learning_rate': 0.04686366337443294, 'n_estimators': 2200, 'colsample_bytree': 0.5745401820192572, 'colsample_bynode': 0.7976708348518053, 'reg_lambda': 0.014381322257455635, 'reg_alpha': 0.028625000034773754, 'min_child_weight': 9, 'min_child_samples': 57}. Best is trial 22 with value: 0.9837751299595711.\u001b[0m\n",
      "\u001b[32m[I 2023-02-07 02:44:06,210]\u001b[0m Trial 29 finished with value: 0.9745281823177478 and parameters: {'max_depth': 67, 'num_leaves': 35, 'learning_rate': 0.1283292935358195, 'n_estimators': 1500, 'colsample_bytree': 0.8334098986425497, 'colsample_bynode': 0.6791416778655368, 'reg_lambda': 0.055216044187563346, 'reg_alpha': 0.12268382426266602, 'min_child_weight': 6, 'min_child_samples': 10}. Best is trial 22 with value: 0.9837751299595711.\u001b[0m\n",
      "\u001b[32m[I 2023-02-07 02:44:07,167]\u001b[0m Trial 30 finished with value: 0.9536403979081998 and parameters: {'max_depth': 121, 'num_leaves': 14, 'learning_rate': 0.3594974477415589, 'n_estimators': 900, 'colsample_bytree': 0.6409664439625301, 'colsample_bynode': 0.9410677303810091, 'reg_lambda': 0.011027227245846545, 'reg_alpha': 0.35017005704700604, 'min_child_weight': 12, 'min_child_samples': 58}. Best is trial 22 with value: 0.9837751299595711.\u001b[0m\n",
      "\u001b[32m[I 2023-02-07 02:44:09,199]\u001b[0m Trial 31 finished with value: 0.9815133364999555 and parameters: {'max_depth': 209, 'num_leaves': 278, 'learning_rate': 0.1841556351163902, 'n_estimators': 1700, 'colsample_bytree': 0.758794111221638, 'colsample_bynode': 0.8629876085920193, 'reg_lambda': 0.38381712706983273, 'reg_alpha': 0.057218656447373256, 'min_child_weight': 6, 'min_child_samples': 22}. Best is trial 22 with value: 0.9837751299595711.\u001b[0m\n",
      "\u001b[32m[I 2023-02-07 02:44:11,284]\u001b[0m Trial 32 finished with value: 0.9746707663395251 and parameters: {'max_depth': 224, 'num_leaves': 546, 'learning_rate': 0.15321588940144837, 'n_estimators': 1600, 'colsample_bytree': 0.7194325175460766, 'colsample_bynode': 0.8633852783888679, 'reg_lambda': 0.34437296627284786, 'reg_alpha': 0.06701806388356638, 'min_child_weight': 6, 'min_child_samples': 35}. Best is trial 22 with value: 0.9837751299595711.\u001b[0m\n",
      "\u001b[32m[I 2023-02-07 02:44:12,907]\u001b[0m Trial 33 finished with value: 0.9769118006271098 and parameters: {'max_depth': 137, 'num_leaves': 90, 'learning_rate': 0.2345201006980322, 'n_estimators': 1300, 'colsample_bytree': 0.763853954323998, 'colsample_bynode': 0.7119314285650662, 'reg_lambda': 0.5289023051406282, 'reg_alpha': 0.04318422497819079, 'min_child_weight': 4, 'min_child_samples': 26}. Best is trial 22 with value: 0.9837751299595711.\u001b[0m\n",
      "\u001b[32m[I 2023-02-07 02:44:14,307]\u001b[0m Trial 34 finished with value: 0.9698951423686111 and parameters: {'max_depth': 184, 'num_leaves': 82, 'learning_rate': 0.7461523593276118, 'n_estimators': 1200, 'colsample_bytree': 0.8298531745000832, 'colsample_bynode': 0.8207743602634076, 'reg_lambda': 0.5138366336777249, 'reg_alpha': 0.04143906404171928, 'min_child_weight': 3, 'min_child_samples': 13}. Best is trial 22 with value: 0.9837751299595711.\u001b[0m\n",
      "\u001b[32m[I 2023-02-07 02:44:15,079]\u001b[0m Trial 35 finished with value: 0.9723655225475136 and parameters: {'max_depth': 136, 'num_leaves': 89, 'learning_rate': 0.2477878588563236, 'n_estimators': 500, 'colsample_bytree': 0.7765915347166502, 'colsample_bynode': 0.605343786024832, 'reg_lambda': 0.4483974983725481, 'reg_alpha': 0.0476641036706609, 'min_child_weight': 4, 'min_child_samples': 22}. Best is trial 22 with value: 0.9837751299595711.\u001b[0m\n",
      "\u001b[32m[I 2023-02-07 02:44:16,226]\u001b[0m Trial 36 finished with value: 0.9816002281885577 and parameters: {'max_depth': 234, 'num_leaves': 49, 'learning_rate': 0.07893240704208959, 'n_estimators': 700, 'colsample_bytree': 0.6566469865045662, 'colsample_bynode': 0.756284367528375, 'reg_lambda': 0.11796004569607885, 'reg_alpha': 0.02772015534043964, 'min_child_weight': 3, 'min_child_samples': 67}. Best is trial 22 with value: 0.9837751299595711.\u001b[0m\n",
      "\u001b[32m[I 2023-02-07 02:44:16,657]\u001b[0m Trial 37 finished with value: 0.861537641763862 and parameters: {'max_depth': 292, 'num_leaves': 56, 'learning_rate': 0.001915247440310519, 'n_estimators': 100, 'colsample_bytree': 0.5635782829003566, 'colsample_bynode': 0.7608363949692042, 'reg_lambda': 0.1276896746306198, 'reg_alpha': 0.027357837029720784, 'min_child_weight': 3, 'min_child_samples': 72}. Best is trial 22 with value: 0.9837751299595711.\u001b[0m\n"
     ]
    },
    {
     "name": "stdout",
     "output_type": "stream",
     "text": [
      "\u001b[32m[I 2023-02-07 02:44:17,430]\u001b[0m Trial 38 finished with value: 0.9814401308870533 and parameters: {'max_depth': 360, 'num_leaves': 26, 'learning_rate': 0.0754828663528265, 'n_estimators': 300, 'colsample_bytree': 0.6699707487325688, 'colsample_bynode': 0.8659018818323967, 'reg_lambda': 0.25224586331470517, 'reg_alpha': 0.014900685636727112, 'min_child_weight': 3, 'min_child_samples': 65}. Best is trial 22 with value: 0.9837751299595711.\u001b[0m\n",
      "\u001b[32m[I 2023-02-07 02:44:17,718]\u001b[0m Trial 39 finished with value: 0.9367775269808453 and parameters: {'max_depth': 377, 'num_leaves': 23, 'learning_rate': 0.9091813685244333, 'n_estimators': 200, 'colsample_bytree': 0.6527627827396587, 'colsample_bynode': 0.9387098375809803, 'reg_lambda': 0.22833327702945003, 'reg_alpha': 0.06516690983510343, 'min_child_weight': 6, 'min_child_samples': 64}. Best is trial 22 with value: 0.9837751299595711.\u001b[0m\n",
      "\u001b[32m[I 2023-02-07 02:44:18,389]\u001b[0m Trial 40 finished with value: 0.9653809101681998 and parameters: {'max_depth': 413, 'num_leaves': 13, 'learning_rate': 0.09349040025637345, 'n_estimators': 300, 'colsample_bytree': 0.931252509203823, 'colsample_bynode': 0.8619888021611694, 'reg_lambda': 0.14519902194126666, 'reg_alpha': 0.018468731510355912, 'min_child_weight': 8, 'min_child_samples': 73}. Best is trial 22 with value: 0.9837751299595711.\u001b[0m\n",
      "\u001b[32m[I 2023-02-07 02:44:19,270]\u001b[0m Trial 41 finished with value: 0.976787899383796 and parameters: {'max_depth': 234, 'num_leaves': 27, 'learning_rate': 0.06621853291555874, 'n_estimators': 400, 'colsample_bytree': 0.6827543100770141, 'colsample_bynode': 0.8127339373880068, 'reg_lambda': 0.28947705795722006, 'reg_alpha': 0.014066290304565937, 'min_child_weight': 3, 'min_child_samples': 79}. Best is trial 22 with value: 0.9837751299595711.\u001b[0m\n",
      "\u001b[32m[I 2023-02-07 02:44:20,379]\u001b[0m Trial 42 finished with value: 0.9653684477536839 and parameters: {'max_depth': 284, 'num_leaves': 50, 'learning_rate': 0.11499445296218086, 'n_estimators': 700, 'colsample_bytree': 0.7041539542839248, 'colsample_bynode': 0.8434281298919074, 'reg_lambda': 0.35419984057229803, 'reg_alpha': 0.024437156636705024, 'min_child_weight': 2, 'min_child_samples': 64}. Best is trial 22 with value: 0.9837751299595711.\u001b[0m\n",
      "\u001b[32m[I 2023-02-07 02:44:21,808]\u001b[0m Trial 43 finished with value: 0.9698937147930037 and parameters: {'max_depth': 184, 'num_leaves': 9, 'learning_rate': 0.042676252282005486, 'n_estimators': 800, 'colsample_bytree': 0.6677141195715295, 'colsample_bynode': 0.7808118000922333, 'reg_lambda': 0.18377909388704813, 'reg_alpha': 0.012785358277082534, 'min_child_weight': 3, 'min_child_samples': 88}. Best is trial 22 with value: 0.9837751299595711.\u001b[0m\n",
      "\u001b[32m[I 2023-02-07 02:44:22,548]\u001b[0m Trial 44 finished with value: 0.9700846269163238 and parameters: {'max_depth': 365, 'num_leaves': 182, 'learning_rate': 0.1687375032054238, 'n_estimators': 500, 'colsample_bytree': 0.6300116025567059, 'colsample_bynode': 0.8849367408824178, 'reg_lambda': 0.11422751673050391, 'reg_alpha': 0.01764717526407163, 'min_child_weight': 4, 'min_child_samples': 86}. Best is trial 22 with value: 0.9837751299595711.\u001b[0m\n",
      "\u001b[32m[I 2023-02-07 02:44:26,858]\u001b[0m Trial 45 finished with value: 0.9770117115943904 and parameters: {'max_depth': 330, 'num_leaves': 34, 'learning_rate': 0.015491406862423118, 'n_estimators': 1900, 'colsample_bytree': 0.5982404341044789, 'colsample_bynode': 0.9184388950072538, 'reg_lambda': 0.1612973373878997, 'reg_alpha': 0.031104256437968596, 'min_child_weight': 2, 'min_child_samples': 68}. Best is trial 22 with value: 0.9837751299595711.\u001b[0m\n",
      "\u001b[32m[I 2023-02-07 02:44:28,117]\u001b[0m Trial 46 finished with value: 0.9744733687369059 and parameters: {'max_depth': 270, 'num_leaves': 125, 'learning_rate': 0.44333332649157514, 'n_estimators': 1100, 'colsample_bytree': 0.7009946913149537, 'colsample_bynode': 0.7399437437993238, 'reg_lambda': 0.051485476152728936, 'reg_alpha': 0.037401167443154026, 'min_child_weight': 5, 'min_child_samples': 55}. Best is trial 22 with value: 0.9837751299595711.\u001b[0m\n",
      "\u001b[32m[I 2023-02-07 02:44:28,652]\u001b[0m Trial 47 finished with value: 0.9630343533633905 and parameters: {'max_depth': 429, 'num_leaves': 312, 'learning_rate': 0.2088223506729133, 'n_estimators': 300, 'colsample_bytree': 0.660014479172071, 'colsample_bynode': 0.8393723970091531, 'reg_lambda': 0.21585350543214868, 'reg_alpha': 0.024396482285163088, 'min_child_weight': 9, 'min_child_samples': 76}. Best is trial 22 with value: 0.9837751299595711.\u001b[0m\n",
      "\u001b[32m[I 2023-02-07 02:44:28,933]\u001b[0m Trial 48 finished with value: 0.9699674720963488 and parameters: {'max_depth': 196, 'num_leaves': 2, 'learning_rate': 0.11899562698730538, 'n_estimators': 100, 'colsample_bytree': 0.7424819594348825, 'colsample_bynode': 0.8077079096002503, 'reg_lambda': 0.09064327007910485, 'reg_alpha': 0.011580438636973452, 'min_child_weight': 3, 'min_child_samples': 63}. Best is trial 22 with value: 0.9837751299595711.\u001b[0m\n",
      "\u001b[32m[I 2023-02-07 02:44:29,594]\u001b[0m Trial 49 finished with value: 0.9585292036813862 and parameters: {'max_depth': 161, 'num_leaves': 7, 'learning_rate': 0.5915796565561455, 'n_estimators': 600, 'colsample_bytree': 0.6215330446176027, 'colsample_bynode': 0.7690192722205742, 'reg_lambda': 0.6089244525798543, 'reg_alpha': 0.11213385593986909, 'min_child_weight': 5, 'min_child_samples': 85}. Best is trial 22 with value: 0.9837751299595711.\u001b[0m\n",
      "\u001b[32m[I 2023-02-07 02:44:32,631]\u001b[0m Trial 50 finished with value: 0.9769343433417275 and parameters: {'max_depth': 251, 'num_leaves': 18, 'learning_rate': 0.057956720875733, 'n_estimators': 2400, 'colsample_bytree': 0.7946945997005417, 'colsample_bynode': 0.879166354755608, 'reg_lambda': 0.30938706374688657, 'reg_alpha': 0.020159902431772823, 'min_child_weight': 2, 'min_child_samples': 46}. Best is trial 22 with value: 0.9837751299595711.\u001b[0m\n",
      "\u001b[32m[I 2023-02-07 02:44:38,672]\u001b[0m Trial 51 finished with value: 0.9329508793759693 and parameters: {'max_depth': 317, 'num_leaves': 40, 'learning_rate': 0.0007265392766806766, 'n_estimators': 1800, 'colsample_bytree': 0.5955302991451036, 'colsample_bynode': 0.9348560771097357, 'reg_lambda': 0.1628891515926088, 'reg_alpha': 0.0310693015297594, 'min_child_weight': 2, 'min_child_samples': 70}. Best is trial 22 with value: 0.9837751299595711.\u001b[0m\n",
      "\u001b[32m[I 2023-02-07 02:44:40,489]\u001b[0m Trial 52 finished with value: 0.9747207927601353 and parameters: {'max_depth': 333, 'num_leaves': 30, 'learning_rate': 0.1624374959650701, 'n_estimators': 2000, 'colsample_bytree': 0.5309847334957423, 'colsample_bynode': 0.9026879251285612, 'reg_lambda': 0.24165215554443076, 'reg_alpha': 0.035021573805604334, 'min_child_weight': 4, 'min_child_samples': 95}. Best is trial 22 with value: 0.9837751299595711.\u001b[0m\n",
      "\u001b[32m[I 2023-02-07 02:44:43,898]\u001b[0m Trial 53 finished with value: 0.9769738674854083 and parameters: {'max_depth': 233, 'num_leaves': 20, 'learning_rate': 0.032916122468224285, 'n_estimators': 2000, 'colsample_bytree': 0.9971437432359814, 'colsample_bynode': 0.9241301015165279, 'reg_lambda': 0.4004637719094799, 'reg_alpha': 0.02420107091586696, 'min_child_weight': 2, 'min_child_samples': 67}. Best is trial 22 with value: 0.9837751299595711.\u001b[0m\n",
      "\u001b[32m[I 2023-02-07 02:44:46,194]\u001b[0m Trial 54 finished with value: 0.958012965511541 and parameters: {'max_depth': 367, 'num_leaves': 65, 'learning_rate': 0.09575073163952053, 'n_estimators': 2200, 'colsample_bytree': 0.6751178090717476, 'colsample_bynode': 0.95839016492971, 'reg_lambda': 0.12331462917930344, 'reg_alpha': 0.1499347891714258, 'min_child_weight': 10, 'min_child_samples': 82}. Best is trial 22 with value: 0.9837751299595711.\u001b[0m\n",
      "\u001b[32m[I 2023-02-07 02:44:47,924]\u001b[0m Trial 55 finished with value: 0.9791816869272344 and parameters: {'max_depth': 391, 'num_leaves': 110, 'learning_rate': 0.2729792158327272, 'n_estimators': 1600, 'colsample_bytree': 0.5729236854191117, 'colsample_bynode': 0.9642822724076618, 'reg_lambda': 0.1458394924415668, 'reg_alpha': 0.05260410366735413, 'min_child_weight': 3, 'min_child_samples': 60}. Best is trial 22 with value: 0.9837751299595711.\u001b[0m\n",
      "\u001b[32m[I 2023-02-07 02:44:49,684]\u001b[0m Trial 56 finished with value: 0.9652108494931507 and parameters: {'max_depth': 451, 'num_leaves': 209, 'learning_rate': 0.2749320856785832, 'n_estimators': 1600, 'colsample_bytree': 0.5783470949040675, 'colsample_bynode': 0.9552794782293181, 'reg_lambda': 0.06785266012399294, 'reg_alpha': 0.08358341790087832, 'min_child_weight': 5, 'min_child_samples': 54}. Best is trial 22 with value: 0.9837751299595711.\u001b[0m\n"
     ]
    },
    {
     "name": "stdout",
     "output_type": "stream",
     "text": [
      "\u001b[32m[I 2023-02-07 02:44:51,447]\u001b[0m Trial 57 finished with value: 0.9745944496155812 and parameters: {'max_depth': 389, 'num_leaves': 467, 'learning_rate': 0.20243606593479563, 'n_estimators': 1400, 'colsample_bytree': 0.7366072029494184, 'colsample_bynode': 0.7325855481766999, 'reg_lambda': 0.03750713067114625, 'reg_alpha': 0.05817345980480479, 'min_child_weight': 4, 'min_child_samples': 61}. Best is trial 22 with value: 0.9837751299595711.\u001b[0m\n",
      "\u001b[32m[I 2023-02-07 02:44:53,299]\u001b[0m Trial 58 finished with value: 0.9608319125769864 and parameters: {'max_depth': 481, 'num_leaves': 104, 'learning_rate': 0.359111283384545, 'n_estimators': 1700, 'colsample_bytree': 0.7013818354537787, 'colsample_bynode': 0.9997212731711964, 'reg_lambda': 0.09390069366868381, 'reg_alpha': 0.07181801827154312, 'min_child_weight': 3, 'min_child_samples': 75}. Best is trial 22 with value: 0.9837751299595711.\u001b[0m\n",
      "\u001b[32m[I 2023-02-07 02:44:54,865]\u001b[0m Trial 59 finished with value: 0.9745596997920247 and parameters: {'max_depth': 108, 'num_leaves': 45, 'learning_rate': 0.13892492869142553, 'n_estimators': 1100, 'colsample_bytree': 0.5483023385697353, 'colsample_bynode': 0.8507816121998825, 'reg_lambda': 0.1375698254090832, 'reg_alpha': 0.04621384246191975, 'min_child_weight': 7, 'min_child_samples': 7}. Best is trial 22 with value: 0.9837751299595711.\u001b[0m\n",
      "\u001b[32m[I 2023-02-07 02:44:56,343]\u001b[0m Trial 60 finished with value: 0.9512347633553043 and parameters: {'max_depth': 504, 'num_leaves': 174, 'learning_rate': 0.26147161585066336, 'n_estimators': 1400, 'colsample_bytree': 0.6166867100990143, 'colsample_bynode': 0.9684509633598757, 'reg_lambda': 0.27374928214846506, 'reg_alpha': 0.05136709932330297, 'min_child_weight': 6, 'min_child_samples': 93}. Best is trial 22 with value: 0.9837751299595711.\u001b[0m\n",
      "\u001b[32m[I 2023-02-07 02:44:58,479]\u001b[0m Trial 61 finished with value: 0.9746664970761788 and parameters: {'max_depth': 339, 'num_leaves': 65, 'learning_rate': 0.07553526600019395, 'n_estimators': 1800, 'colsample_bytree': 0.5948602944228053, 'colsample_bynode': 0.88349098517797, 'reg_lambda': 0.17277098750757217, 'reg_alpha': 0.010378615214890512, 'min_child_weight': 2, 'min_child_samples': 67}. Best is trial 22 with value: 0.9837751299595711.\u001b[0m\n",
      "\u001b[32m[I 2023-02-07 02:45:00,655]\u001b[0m Trial 62 finished with value: 0.9791434069295584 and parameters: {'max_depth': 414, 'num_leaves': 147, 'learning_rate': 0.1110112470717918, 'n_estimators': 1900, 'colsample_bytree': 0.6416103593103738, 'colsample_bynode': 0.9070502101592214, 'reg_lambda': 0.18462362604309698, 'reg_alpha': 0.031065610667298755, 'min_child_weight': 3, 'min_child_samples': 68}. Best is trial 22 with value: 0.9837751299595711.\u001b[0m\n",
      "\u001b[32m[I 2023-02-07 02:45:02,942]\u001b[0m Trial 63 finished with value: 0.977278490145796 and parameters: {'max_depth': 443, 'num_leaves': 245, 'learning_rate': 0.16513805561808242, 'n_estimators': 1900, 'colsample_bytree': 0.6347179134630262, 'colsample_bynode': 0.9135262871528671, 'reg_lambda': 0.19245851295863145, 'reg_alpha': 0.01634326969547451, 'min_child_weight': 3, 'min_child_samples': 50}. Best is trial 22 with value: 0.9837751299595711.\u001b[0m\n",
      "\u001b[32m[I 2023-02-07 02:45:05,192]\u001b[0m Trial 64 finished with value: 0.9724675480032458 and parameters: {'max_depth': 397, 'num_leaves': 135, 'learning_rate': 0.21489693438899915, 'n_estimators': 2100, 'colsample_bytree': 0.657281879296104, 'colsample_bynode': 0.8322148000273241, 'reg_lambda': 0.06759796690288229, 'reg_alpha': 0.03561834359719949, 'min_child_weight': 4, 'min_child_samples': 60}. Best is trial 22 with value: 0.9837751299595711.\u001b[0m\n",
      "\u001b[32m[I 2023-02-07 02:45:07,277]\u001b[0m Trial 65 finished with value: 0.9746974619332927 and parameters: {'max_depth': 419, 'num_leaves': 327, 'learning_rate': 0.12397534907743533, 'n_estimators': 1600, 'colsample_bytree': 0.6831986655147444, 'colsample_bynode': 0.5120576322962147, 'reg_lambda': 0.10483981228485889, 'reg_alpha': 0.0995828663530433, 'min_child_weight': 5, 'min_child_samples': 46}. Best is trial 22 with value: 0.9837751299595711.\u001b[0m\n",
      "\u001b[32m[I 2023-02-07 02:45:08,565]\u001b[0m Trial 66 finished with value: 0.9768747723802221 and parameters: {'max_depth': 70, 'num_leaves': 151, 'learning_rate': 0.0982260787910426, 'n_estimators': 900, 'colsample_bytree': 0.7113887261914272, 'colsample_bynode': 0.8912763038976755, 'reg_lambda': 0.6589994902733346, 'reg_alpha': 0.021569607679135808, 'min_child_weight': 3, 'min_child_samples': 70}. Best is trial 22 with value: 0.9837751299595711.\u001b[0m\n",
      "\u001b[32m[I 2023-02-07 02:45:10,212]\u001b[0m Trial 67 finished with value: 0.9655336248987239 and parameters: {'max_depth': 463, 'num_leaves': 69, 'learning_rate': 0.18010355680052142, 'n_estimators': 1500, 'colsample_bytree': 0.6414620268510792, 'colsample_bynode': 0.7955250399127455, 'reg_lambda': 0.21133909581634538, 'reg_alpha': 0.013475025932253507, 'min_child_weight': 15, 'min_child_samples': 57}. Best is trial 22 with value: 0.9837751299595711.\u001b[0m\n",
      "\u001b[32m[I 2023-02-07 02:45:12,346]\u001b[0m Trial 68 finished with value: 0.9703080286937279 and parameters: {'max_depth': 148, 'num_leaves': 107, 'learning_rate': 0.06694634036618202, 'n_estimators': 1700, 'colsample_bytree': 0.6727836878348723, 'colsample_bynode': 0.866034280127769, 'reg_lambda': 0.0824658062877776, 'reg_alpha': 0.02617768810993557, 'min_child_weight': 7, 'min_child_samples': 35}. Best is trial 22 with value: 0.9837751299595711.\u001b[0m\n",
      "\u001b[32m[I 2023-02-07 02:45:13,803]\u001b[0m Trial 69 finished with value: 0.9607632680077739 and parameters: {'max_depth': 354, 'num_leaves': 206, 'learning_rate': 0.3190744303757338, 'n_estimators': 1300, 'colsample_bytree': 0.8098598437848739, 'colsample_bynode': 0.9824297659448111, 'reg_lambda': 0.24719389960551258, 'reg_alpha': 0.040988489846238194, 'min_child_weight': 14, 'min_child_samples': 77}. Best is trial 22 with value: 0.9837751299595711.\u001b[0m\n",
      "\u001b[32m[I 2023-02-07 02:45:15,807]\u001b[0m Trial 70 finished with value: 0.9558891450506082 and parameters: {'max_depth': 212, 'num_leaves': 101, 'learning_rate': 0.7761079673632307, 'n_estimators': 1900, 'colsample_bytree': 0.6150465215868202, 'colsample_bynode': 0.6939944611486515, 'reg_lambda': 0.3287366597299108, 'reg_alpha': 0.017913543744721403, 'min_child_weight': 8, 'min_child_samples': 42}. Best is trial 22 with value: 0.9837751299595711.\u001b[0m\n",
      "\u001b[32m[I 2023-02-07 02:45:18,158]\u001b[0m Trial 71 finished with value: 0.9749889168221013 and parameters: {'max_depth': 395, 'num_leaves': 256, 'learning_rate': 0.1586918498629447, 'n_estimators': 2100, 'colsample_bytree': 0.638548292626458, 'colsample_bynode': 0.9097511576483945, 'reg_lambda': 0.19288816610383336, 'reg_alpha': 0.015798671264241657, 'min_child_weight': 3, 'min_child_samples': 52}. Best is trial 22 with value: 0.9837751299595711.\u001b[0m\n",
      "\u001b[32m[I 2023-02-07 02:45:21,447]\u001b[0m Trial 72 finished with value: 0.9745834438033523 and parameters: {'max_depth': 446, 'num_leaves': 248, 'learning_rate': 0.18644836880528437, 'n_estimators': 1900, 'colsample_bytree': 0.690496457979298, 'colsample_bynode': 0.5428302790890729, 'reg_lambda': 0.14527740063369357, 'reg_alpha': 0.7032446002060361, 'min_child_weight': 3, 'min_child_samples': 50}. Best is trial 22 with value: 0.9837751299595711.\u001b[0m\n",
      "\u001b[32m[I 2023-02-07 02:45:23,539]\u001b[0m Trial 73 finished with value: 0.9792172934505826 and parameters: {'max_depth': 428, 'num_leaves': 544, 'learning_rate': 0.1515883305889284, 'n_estimators': 1700, 'colsample_bytree': 0.649665324852749, 'colsample_bynode': 0.9445924358513753, 'reg_lambda': 0.3831418441394242, 'reg_alpha': 0.030347447077418013, 'min_child_weight': 4, 'min_child_samples': 64}. Best is trial 22 with value: 0.9837751299595711.\u001b[0m\n",
      "\u001b[32m[I 2023-02-07 02:45:25,984]\u001b[0m Trial 74 finished with value: 0.9722549091989652 and parameters: {'max_depth': 424, 'num_leaves': 752, 'learning_rate': 0.13964333471180002, 'n_estimators': 1800, 'colsample_bytree': 0.6555784455006805, 'colsample_bynode': 0.9474727167534294, 'reg_lambda': 0.360197878579133, 'reg_alpha': 0.03185076301968285, 'min_child_weight': 4, 'min_child_samples': 64}. Best is trial 22 with value: 0.9837751299595711.\u001b[0m\n",
      "\u001b[32m[I 2023-02-07 02:45:28,110]\u001b[0m Trial 75 finished with value: 0.9722378906549445 and parameters: {'max_depth': 483, 'num_leaves': 346, 'learning_rate': 0.23356639179003022, 'n_estimators': 1700, 'colsample_bytree': 0.7334402153496243, 'colsample_bynode': 0.8738402793065547, 'reg_lambda': 0.01579362202165955, 'reg_alpha': 0.05303414569060108, 'min_child_weight': 4, 'min_child_samples': 62}. Best is trial 22 with value: 0.9837751299595711.\u001b[0m\n"
     ]
    },
    {
     "name": "stdout",
     "output_type": "stream",
     "text": [
      "\u001b[32m[I 2023-02-07 02:45:29,770]\u001b[0m Trial 76 finished with value: 0.9512945656918095 and parameters: {'max_depth': 433, 'num_leaves': 151, 'learning_rate': 0.1054918750136993, 'n_estimators': 1400, 'colsample_bytree': 0.7160779777662793, 'colsample_bynode': 0.7560556743071647, 'reg_lambda': 0.3866174250317017, 'reg_alpha': 0.022097083471988743, 'min_child_weight': 6, 'min_child_samples': 82}. Best is trial 22 with value: 0.9837751299595711.\u001b[0m\n",
      "\u001b[32m[I 2023-02-07 02:45:31,046]\u001b[0m Trial 77 finished with value: 0.970093805524917 and parameters: {'max_depth': 186, 'num_leaves': 788, 'learning_rate': 0.06578130717222874, 'n_estimators': 600, 'colsample_bytree': 0.5818837333046829, 'colsample_bynode': 0.7218635677109677, 'reg_lambda': 0.029103541339954995, 'reg_alpha': 0.02712599870366195, 'min_child_weight': 5, 'min_child_samples': 67}. Best is trial 22 with value: 0.9837751299595711.\u001b[0m\n",
      "\u001b[32m[I 2023-02-07 02:45:32,203]\u001b[0m Trial 78 finished with value: 0.9650020069351101 and parameters: {'max_depth': 40, 'num_leaves': 474, 'learning_rate': 0.28890951749751315, 'n_estimators': 800, 'colsample_bytree': 0.7748070548251078, 'colsample_bynode': 0.9258577272294111, 'reg_lambda': 0.295755304318133, 'reg_alpha': 0.04359224211137955, 'min_child_weight': 2, 'min_child_samples': 73}. Best is trial 22 with value: 0.9837751299595711.\u001b[0m\n",
      "\u001b[32m[I 2023-02-07 02:45:34,743]\u001b[0m Trial 79 finished with value: 0.9768674795218214 and parameters: {'max_depth': 410, 'num_leaves': 581, 'learning_rate': 0.04062125665373405, 'n_estimators': 1600, 'colsample_bytree': 0.5020140025982767, 'colsample_bynode': 0.9672967483985704, 'reg_lambda': 0.8805858533709001, 'reg_alpha': 0.059118577117145986, 'min_child_weight': 4, 'min_child_samples': 57}. Best is trial 22 with value: 0.9837751299595711.\u001b[0m\n",
      "\u001b[32m[I 2023-02-07 02:45:35,207]\u001b[0m Trial 80 finished with value: 0.9722269362015279 and parameters: {'max_depth': 273, 'num_leaves': 373, 'learning_rate': 0.3350387251046981, 'n_estimators': 200, 'colsample_bytree': 0.6516781396845086, 'colsample_bynode': 0.8546464393270246, 'reg_lambda': 0.43294255563997214, 'reg_alpha': 0.038631351308176104, 'min_child_weight': 3, 'min_child_samples': 59}. Best is trial 22 with value: 0.9837751299595711.\u001b[0m\n",
      "\u001b[32m[I 2023-02-07 02:45:37,426]\u001b[0m Trial 81 finished with value: 0.9815459507301043 and parameters: {'max_depth': 437, 'num_leaves': 294, 'learning_rate': 0.15132303872742656, 'n_estimators': 1900, 'colsample_bytree': 0.6093117739614611, 'colsample_bynode': 0.914272236608076, 'reg_lambda': 0.1935619498831678, 'reg_alpha': 0.01611117398049381, 'min_child_weight': 3, 'min_child_samples': 48}. Best is trial 22 with value: 0.9837751299595711.\u001b[0m\n",
      "\u001b[32m[I 2023-02-07 02:45:39,973]\u001b[0m Trial 82 finished with value: 0.9791725539059211 and parameters: {'max_depth': 377, 'num_leaves': 281, 'learning_rate': 0.14077340379777428, 'n_estimators': 2200, 'colsample_bytree': 0.6103416082740194, 'colsample_bynode': 0.9320400845942434, 'reg_lambda': 0.1274141145700271, 'reg_alpha': 0.012444409923134338, 'min_child_weight': 3, 'min_child_samples': 43}. Best is trial 22 with value: 0.9837751299595711.\u001b[0m\n",
      "\u001b[32m[I 2023-02-07 02:45:42,495]\u001b[0m Trial 83 finished with value: 0.9747120740257926 and parameters: {'max_depth': 371, 'num_leaves': 295, 'learning_rate': 0.1444061675412171, 'n_estimators': 2200, 'colsample_bytree': 0.565539788596048, 'colsample_bynode': 0.9298588937368261, 'reg_lambda': 0.13099418744622998, 'reg_alpha': 0.01108940479417092, 'min_child_weight': 2, 'min_child_samples': 43}. Best is trial 22 with value: 0.9837751299595711.\u001b[0m\n",
      "\u001b[32m[I 2023-02-07 02:45:45,405]\u001b[0m Trial 84 finished with value: 0.981390295820351 and parameters: {'max_depth': 301, 'num_leaves': 420, 'learning_rate': 0.21687627059541337, 'n_estimators': 2400, 'colsample_bytree': 0.6035959005867496, 'colsample_bynode': 0.7733909772173954, 'reg_lambda': 0.048252908031294256, 'reg_alpha': 0.012265047999298534, 'min_child_weight': 4, 'min_child_samples': 37}. Best is trial 22 with value: 0.9837751299595711.\u001b[0m\n",
      "\u001b[32m[I 2023-02-07 02:45:48,370]\u001b[0m Trial 85 finished with value: 0.9792488552964416 and parameters: {'max_depth': 243, 'num_leaves': 421, 'learning_rate': 0.2563676626834773, 'n_estimators': 2700, 'colsample_bytree': 0.5382355173633251, 'colsample_bynode': 0.7718699417450757, 'reg_lambda': 0.048293145397080406, 'reg_alpha': 0.0149340099022928, 'min_child_weight': 4, 'min_child_samples': 37}. Best is trial 22 with value: 0.9837751299595711.\u001b[0m\n",
      "\u001b[32m[I 2023-02-07 02:45:51,539]\u001b[0m Trial 86 finished with value: 0.9767675110521197 and parameters: {'max_depth': 299, 'num_leaves': 689, 'learning_rate': 0.21019377085867727, 'n_estimators': 2700, 'colsample_bytree': 0.5289048004313096, 'colsample_bynode': 0.7768020920219655, 'reg_lambda': 0.049301092077591535, 'reg_alpha': 0.014302146519755544, 'min_child_weight': 5, 'min_child_samples': 38}. Best is trial 22 with value: 0.9837751299595711.\u001b[0m\n",
      "\u001b[32m[I 2023-02-07 02:45:54,573]\u001b[0m Trial 87 finished with value: 0.9700454406792138 and parameters: {'max_depth': 230, 'num_leaves': 433, 'learning_rate': 0.23811083491219387, 'n_estimators': 2500, 'colsample_bytree': 0.5450869707267659, 'colsample_bynode': 0.8217822315811076, 'reg_lambda': 0.032085454059413765, 'reg_alpha': 0.019909130801203084, 'min_child_weight': 4, 'min_child_samples': 23}. Best is trial 22 with value: 0.9837751299595711.\u001b[0m\n",
      "\u001b[32m[I 2023-02-07 02:45:57,997]\u001b[0m Trial 88 finished with value: 0.9770359414229521 and parameters: {'max_depth': 265, 'num_leaves': 542, 'learning_rate': 0.17613701305512539, 'n_estimators': 2800, 'colsample_bytree': 0.6273673974568791, 'colsample_bynode': 0.7518035898870098, 'reg_lambda': 0.0463508607505508, 'reg_alpha': 0.017109117677375513, 'min_child_weight': 4, 'min_child_samples': 33}. Best is trial 22 with value: 0.9837751299595711.\u001b[0m\n",
      "\u001b[32m[I 2023-02-07 02:46:03,433]\u001b[0m Trial 89 finished with value: 0.9746009302188288 and parameters: {'max_depth': 317, 'num_leaves': 933, 'learning_rate': 0.027319147684518326, 'n_estimators': 3000, 'colsample_bytree': 0.6053479457047617, 'colsample_bynode': 0.7633533565903902, 'reg_lambda': 0.03831761337787893, 'reg_alpha': 0.012094645198624734, 'min_child_weight': 5, 'min_child_samples': 16}. Best is trial 22 with value: 0.9837751299595711.\u001b[0m\n",
      "\u001b[32m[I 2023-02-07 02:46:06,372]\u001b[0m Trial 90 finished with value: 0.9654477829311465 and parameters: {'max_depth': 247, 'num_leaves': 595, 'learning_rate': 0.3914666376345099, 'n_estimators': 2600, 'colsample_bytree': 0.6919496528896257, 'colsample_bynode': 0.7285135481520635, 'reg_lambda': 0.0592319642649579, 'reg_alpha': 0.014878438276401897, 'min_child_weight': 7, 'min_child_samples': 47}. Best is trial 22 with value: 0.9837751299595711.\u001b[0m\n",
      "\u001b[32m[I 2023-02-07 02:46:08,946]\u001b[0m Trial 91 finished with value: 0.9655139374413938 and parameters: {'max_depth': 85, 'num_leaves': 415, 'learning_rate': 0.25932526500658204, 'n_estimators': 2300, 'colsample_bytree': 0.5643593715443628, 'colsample_bynode': 0.7970049130230055, 'reg_lambda': 0.11097824065660544, 'reg_alpha': 0.013653378554213632, 'min_child_weight': 3, 'min_child_samples': 40}. Best is trial 22 with value: 0.9837751299595711.\u001b[0m\n",
      "\u001b[32m[I 2023-02-07 02:46:10,804]\u001b[0m Trial 92 finished with value: 0.9724617309228026 and parameters: {'max_depth': 245, 'num_leaves': 510, 'learning_rate': 0.19492097979376255, 'n_estimators': 1500, 'colsample_bytree': 0.5886855722321163, 'colsample_bynode': 0.776406212899512, 'reg_lambda': 0.0768247367873568, 'reg_alpha': 0.01851459023746239, 'min_child_weight': 4, 'min_child_samples': 54}. Best is trial 22 with value: 0.9837751299595711.\u001b[0m\n",
      "\u001b[32m[I 2023-02-07 02:46:11,486]\u001b[0m Trial 93 finished with value: 0.974693630628295 and parameters: {'max_depth': 353, 'num_leaves': 28, 'learning_rate': 0.2156901818681724, 'n_estimators': 400, 'colsample_bytree': 0.6666939010660237, 'colsample_bynode': 0.8271240950205466, 'reg_lambda': 0.0611745785798082, 'reg_alpha': 0.024285880153152428, 'min_child_weight': 2, 'min_child_samples': 30}. Best is trial 22 with value: 0.9837751299595711.\u001b[0m\n",
      "\u001b[32m[I 2023-02-07 02:46:12,987]\u001b[0m Trial 94 finished with value: 0.974653082416471 and parameters: {'max_depth': 220, 'num_leaves': 46, 'learning_rate': 0.0861880275934083, 'n_estimators': 1200, 'colsample_bytree': 0.5197423733832284, 'colsample_bynode': 0.8072559914591232, 'reg_lambda': 0.04240570072762305, 'reg_alpha': 0.011206422222036829, 'min_child_weight': 4, 'min_child_samples': 48}. Best is trial 22 with value: 0.9837751299595711.\u001b[0m\n"
     ]
    },
    {
     "name": "stdout",
     "output_type": "stream",
     "text": [
      "\u001b[32m[I 2023-02-07 02:46:15,634]\u001b[0m Trial 95 finished with value: 0.9769507641961728 and parameters: {'max_depth': 128, 'num_leaves': 378, 'learning_rate': 0.27342424542897587, 'n_estimators': 2400, 'colsample_bytree': 0.5535027623598042, 'colsample_bynode': 0.8983832812878596, 'reg_lambda': 0.023359510932385228, 'reg_alpha': 0.2264852436294979, 'min_child_weight': 6, 'min_child_samples': 38}. Best is trial 22 with value: 0.9837751299595711.\u001b[0m\n",
      "\u001b[32m[I 2023-02-07 02:46:18,738]\u001b[0m Trial 96 finished with value: 0.976760403834445 and parameters: {'max_depth': 282, 'num_leaves': 222, 'learning_rate': 0.5167124083052448, 'n_estimators': 2800, 'colsample_bytree': 0.7544178157026408, 'colsample_bynode': 0.7868026854335176, 'reg_lambda': 0.5784681345095731, 'reg_alpha': 0.019305407826943965, 'min_child_weight': 3, 'min_child_samples': 26}. Best is trial 22 with value: 0.9837751299595711.\u001b[0m\n",
      "\u001b[32m[I 2023-02-07 02:46:20,810]\u001b[0m Trial 97 finished with value: 0.9792939977061297 and parameters: {'max_depth': 176, 'num_leaves': 188, 'learning_rate': 0.12512970181734243, 'n_estimators': 1700, 'colsample_bytree': 0.6251054845983177, 'colsample_bynode': 0.704319463235198, 'reg_lambda': 0.2653816887873773, 'reg_alpha': 0.016210322225450113, 'min_child_weight': 4, 'min_child_samples': 65}. Best is trial 22 with value: 0.9837751299595711.\u001b[0m\n",
      "\u001b[32m[I 2023-02-07 02:46:22,848]\u001b[0m Trial 98 finished with value: 0.9699699299610094 and parameters: {'max_depth': 151, 'num_leaves': 330, 'learning_rate': 0.11738487076884391, 'n_estimators': 1700, 'colsample_bytree': 0.6489004751634139, 'colsample_bynode': 0.6806114833319707, 'reg_lambda': 0.2625350600060622, 'reg_alpha': 0.01614350563892923, 'min_child_weight': 5, 'min_child_samples': 65}. Best is trial 22 with value: 0.9837751299595711.\u001b[0m\n",
      "\u001b[32m[I 2023-02-07 02:46:24,038]\u001b[0m Trial 99 finished with value: 0.9702943166111699 and parameters: {'max_depth': 167, 'num_leaves': 179, 'learning_rate': 0.05031276892389338, 'n_estimators': 400, 'colsample_bytree': 0.6243147420224642, 'colsample_bynode': 0.7112375465067221, 'reg_lambda': 0.4762156366585416, 'reg_alpha': 0.013043031907712244, 'min_child_weight': 4, 'min_child_samples': 37}. Best is trial 22 with value: 0.9837751299595711.\u001b[0m\n",
      "\u001b[32m[I 2023-02-07 02:46:27,604]\u001b[0m Trial 100 finished with value: 0.974704020262676 and parameters: {'max_depth': 181, 'num_leaves': 427, 'learning_rate': 0.019830611449083824, 'n_estimators': 2000, 'colsample_bytree': 0.678009946962488, 'colsample_bynode': 0.6652250900772729, 'reg_lambda': 0.31919800702760154, 'reg_alpha': 0.022185192346607208, 'min_child_weight': 8, 'min_child_samples': 55}. Best is trial 22 with value: 0.9837751299595711.\u001b[0m\n",
      "\u001b[32m[I 2023-02-07 02:46:29,465]\u001b[0m Trial 101 finished with value: 0.9771037005857106 and parameters: {'max_depth': 204, 'num_leaves': 125, 'learning_rate': 0.16111324368940044, 'n_estimators': 1600, 'colsample_bytree': 0.5981405762580768, 'colsample_bynode': 0.7457064886602571, 'reg_lambda': 0.22139849889578905, 'reg_alpha': 0.015476105520835854, 'min_child_weight': 3, 'min_child_samples': 45}. Best is trial 22 with value: 0.9837751299595711.\u001b[0m\n",
      "\u001b[32m[I 2023-02-07 02:46:31,574]\u001b[0m Trial 102 finished with value: 0.9792939977061298 and parameters: {'max_depth': 403, 'num_leaves': 198, 'learning_rate': 0.0855878239855108, 'n_estimators': 1800, 'colsample_bytree': 0.5831207651097574, 'colsample_bynode': 0.6961889919314677, 'reg_lambda': 0.09390381379106735, 'reg_alpha': 0.0331258002338626, 'min_child_weight': 4, 'min_child_samples': 71}. Best is trial 22 with value: 0.9837751299595711.\u001b[0m\n",
      "\u001b[32m[I 2023-02-07 02:46:33,717]\u001b[0m Trial 103 finished with value: 0.9725689074006055 and parameters: {'max_depth': 107, 'num_leaves': 193, 'learning_rate': 0.0750351197703856, 'n_estimators': 1800, 'colsample_bytree': 0.5844683729333653, 'colsample_bynode': 0.6219066983794859, 'reg_lambda': 0.08975336142725085, 'reg_alpha': 0.028050134524460677, 'min_child_weight': 5, 'min_child_samples': 70}. Best is trial 22 with value: 0.9837751299595711.\u001b[0m\n",
      "\u001b[32m[I 2023-02-07 02:46:35,740]\u001b[0m Trial 104 finished with value: 0.9580856456332303 and parameters: {'max_depth': 206, 'num_leaves': 228, 'learning_rate': 0.9703462618339127, 'n_estimators': 1800, 'colsample_bytree': 0.6627693372887216, 'colsample_bynode': 0.6982813217361512, 'reg_lambda': 0.01012749833476059, 'reg_alpha': 0.010465240859946233, 'min_child_weight': 4, 'min_child_samples': 33}. Best is trial 22 with value: 0.9837751299595711.\u001b[0m\n",
      "\u001b[32m[I 2023-02-07 02:46:37,104]\u001b[0m Trial 105 finished with value: 0.9627724447457748 and parameters: {'max_depth': 196, 'num_leaves': 277, 'learning_rate': 0.09534530215092563, 'n_estimators': 1000, 'colsample_bytree': 0.6087300805001529, 'colsample_bynode': 0.6426026341525619, 'reg_lambda': 0.07236201871597493, 'reg_alpha': 0.0330111912454632, 'min_child_weight': 6, 'min_child_samples': 74}. Best is trial 22 with value: 0.9837751299595711.\u001b[0m\n",
      "\u001b[32m[I 2023-02-07 02:46:40,243]\u001b[0m Trial 106 finished with value: 0.9769921221060907 and parameters: {'max_depth': 240, 'num_leaves': 294, 'learning_rate': 0.12902955425963625, 'n_estimators': 2900, 'colsample_bytree': 0.6485531593960466, 'colsample_bynode': 0.6813437733966016, 'reg_lambda': 0.095746337208419, 'reg_alpha': 0.016962177136937335, 'min_child_weight': 4, 'min_child_samples': 79}. Best is trial 22 with value: 0.9837751299595711.\u001b[0m\n",
      "\u001b[32m[I 2023-02-07 02:46:42,326]\u001b[0m Trial 107 finished with value: 0.9632042173964939 and parameters: {'max_depth': 460, 'num_leaves': 24, 'learning_rate': 0.6649602334887681, 'n_estimators': 2000, 'colsample_bytree': 0.6302888924780319, 'colsample_bynode': 0.7074131121393423, 'reg_lambda': 0.06295526777817273, 'reg_alpha': 0.02485265372746012, 'min_child_weight': 5, 'min_child_samples': 52}. Best is trial 22 with value: 0.9837751299595711.\u001b[0m\n",
      "\u001b[32m[I 2023-02-07 02:46:44,114]\u001b[0m Trial 108 finished with value: 0.979351470366564 and parameters: {'max_depth': 175, 'num_leaves': 15, 'learning_rate': 0.18596772390991992, 'n_estimators': 1700, 'colsample_bytree': 0.7004706170257787, 'colsample_bynode': 0.7357308369785955, 'reg_lambda': 0.24250849834375457, 'reg_alpha': 0.02068730923351692, 'min_child_weight': 4, 'min_child_samples': 77}. Best is trial 22 with value: 0.9837751299595711.\u001b[0m\n",
      "\u001b[32m[I 2023-02-07 02:46:45,741]\u001b[0m Trial 109 finished with value: 0.9698283769747056 and parameters: {'max_depth': 158, 'num_leaves': 15, 'learning_rate': 0.18886894498142476, 'n_estimators': 1500, 'colsample_bytree': 0.7286866473134822, 'colsample_bynode': 0.7360637672242869, 'reg_lambda': 0.23909719608824967, 'reg_alpha': 0.020979620655019026, 'min_child_weight': 3, 'min_child_samples': 77}. Best is trial 22 with value: 0.9837751299595711.\u001b[0m\n",
      "\u001b[32m[I 2023-02-07 02:46:46,170]\u001b[0m Trial 110 finished with value: 0.9746547970498565 and parameters: {'max_depth': 175, 'num_leaves': 11, 'learning_rate': 0.22464881145448545, 'n_estimators': 200, 'colsample_bytree': 0.7141568649290485, 'colsample_bynode': 0.769488360030945, 'reg_lambda': 0.05509496961213747, 'reg_alpha': 0.0186435243086683, 'min_child_weight': 2, 'min_child_samples': 84}. Best is trial 22 with value: 0.9837751299595711.\u001b[0m\n",
      "\u001b[32m[I 2023-02-07 02:46:48,022]\u001b[0m Trial 111 finished with value: 0.9723496478530771 and parameters: {'max_depth': 474, 'num_leaves': 4, 'learning_rate': 0.14836093767983505, 'n_estimators': 1700, 'colsample_bytree': 0.6694108256813647, 'colsample_bynode': 0.755636062489614, 'reg_lambda': 0.2742094498555058, 'reg_alpha': 0.029329249265445993, 'min_child_weight': 4, 'min_child_samples': 65}. Best is trial 22 with value: 0.9837751299595711.\u001b[0m\n",
      "\u001b[32m[I 2023-02-07 02:46:50,117]\u001b[0m Trial 112 finished with value: 0.969923075581201 and parameters: {'max_depth': 258, 'num_leaves': 12, 'learning_rate': 0.1193323472001594, 'n_estimators': 1800, 'colsample_bytree': 0.7036610661718794, 'colsample_bynode': 0.6894206900420129, 'reg_lambda': 0.39260061813934527, 'reg_alpha': 0.013866396551916441, 'min_child_weight': 3, 'min_child_samples': 89}. Best is trial 22 with value: 0.9837751299595711.\u001b[0m\n",
      "\u001b[32m[I 2023-02-07 02:46:52,122]\u001b[0m Trial 113 finished with value: 0.9745988337673618 and parameters: {'max_depth': 193, 'num_leaves': 21, 'learning_rate': 0.08525087303814265, 'n_estimators': 1700, 'colsample_bytree': 0.7425909128843904, 'colsample_bynode': 0.7178752256742948, 'reg_lambda': 0.16777819922466677, 'reg_alpha': 0.02294044038556518, 'min_child_weight': 4, 'min_child_samples': 80}. Best is trial 22 with value: 0.9837751299595711.\u001b[0m\n"
     ]
    },
    {
     "name": "stdout",
     "output_type": "stream",
     "text": [
      "\u001b[32m[I 2023-02-07 02:46:54,120]\u001b[0m Trial 114 finished with value: 0.972364384050984 and parameters: {'max_depth': 435, 'num_leaves': 366, 'learning_rate': 0.17254381756948575, 'n_estimators': 1600, 'colsample_bytree': 0.6895972646834482, 'colsample_bynode': 0.7284694728458402, 'reg_lambda': 0.03429185414044576, 'reg_alpha': 0.014961407362111066, 'min_child_weight': 5, 'min_child_samples': 71}. Best is trial 22 with value: 0.9837751299595711.\u001b[0m\n",
      "\u001b[32m[I 2023-02-07 02:46:55,220]\u001b[0m Trial 115 finished with value: 0.9770403409654078 and parameters: {'max_depth': 403, 'num_leaves': 10, 'learning_rate': 0.057832270091043095, 'n_estimators': 600, 'colsample_bytree': 0.6349949698641215, 'colsample_bynode': 0.7450417420486019, 'reg_lambda': 0.35618134617547637, 'reg_alpha': 0.026217140309005908, 'min_child_weight': 4, 'min_child_samples': 69}. Best is trial 22 with value: 0.9837751299595711.\u001b[0m\n",
      "\u001b[32m[I 2023-02-07 02:46:58,411]\u001b[0m Trial 116 finished with value: 0.9701011854326322 and parameters: {'max_depth': 18, 'num_leaves': 478, 'learning_rate': 0.10958280455157003, 'n_estimators': 2700, 'colsample_bytree': 0.6200215637871608, 'colsample_bynode': 0.8517446433745604, 'reg_lambda': 0.013091931155902264, 'reg_alpha': 0.012283298203581398, 'min_child_weight': 3, 'min_child_samples': 72}. Best is trial 22 with value: 0.9837751299595711.\u001b[0m\n",
      "\u001b[32m[I 2023-02-07 02:47:00,363]\u001b[0m Trial 117 finished with value: 0.9745408399947143 and parameters: {'max_depth': 216, 'num_leaves': 34, 'learning_rate': 0.196530327069051, 'n_estimators': 1900, 'colsample_bytree': 0.5988104554456313, 'colsample_bynode': 0.8735483758958973, 'reg_lambda': 0.20334835071015972, 'reg_alpha': 0.019942021625811043, 'min_child_weight': 4, 'min_child_samples': 75}. Best is trial 22 with value: 0.9837751299595711.\u001b[0m\n",
      "\u001b[32m[I 2023-02-07 02:47:02,101]\u001b[0m Trial 118 finished with value: 0.979214485925243 and parameters: {'max_depth': 384, 'num_leaves': 8, 'learning_rate': 0.15423236141623192, 'n_estimators': 1400, 'colsample_bytree': 0.6793740262102563, 'colsample_bynode': 0.7229315641453493, 'reg_lambda': 0.0459762547169527, 'reg_alpha': 0.03485468099113929, 'min_child_weight': 5, 'min_child_samples': 17}. Best is trial 22 with value: 0.9837751299595711.\u001b[0m\n",
      "\u001b[32m[I 2023-02-07 02:47:04,023]\u001b[0m Trial 119 finished with value: 0.9814784033388111 and parameters: {'max_depth': 228, 'num_leaves': 59, 'learning_rate': 0.1374822967076892, 'n_estimators': 1700, 'colsample_bytree': 0.6598459739627407, 'colsample_bynode': 0.807402472892837, 'reg_lambda': 0.3096527801072016, 'reg_alpha': 0.017220485413019133, 'min_child_weight': 3, 'min_child_samples': 61}. Best is trial 22 with value: 0.9837751299595711.\u001b[0m\n",
      "\u001b[32m[I 2023-02-07 02:47:04,930]\u001b[0m Trial 120 finished with value: 0.9838238934566107 and parameters: {'max_depth': 234, 'num_leaves': 78, 'learning_rate': 0.2487326210059823, 'n_estimators': 700, 'colsample_bytree': 0.6625735645665969, 'colsample_bynode': 0.8126464394225618, 'reg_lambda': 0.29327898188647017, 'reg_alpha': 0.016567954589647247, 'min_child_weight': 2, 'min_child_samples': 61}. Best is trial 120 with value: 0.9838238934566107.\u001b[0m\n",
      "\u001b[32m[I 2023-02-07 02:47:05,911]\u001b[0m Trial 121 finished with value: 0.9768362753757568 and parameters: {'max_depth': 212, 'num_leaves': 55, 'learning_rate': 0.258089220415297, 'n_estimators': 800, 'colsample_bytree': 0.6601930341673765, 'colsample_bynode': 0.8100576118542941, 'reg_lambda': 0.2554196812886551, 'reg_alpha': 0.018067198167489706, 'min_child_weight': 2, 'min_child_samples': 60}. Best is trial 120 with value: 0.9838238934566107.\u001b[0m\n",
      "\u001b[32m[I 2023-02-07 02:47:06,784]\u001b[0m Trial 122 finished with value: 0.9768165804313742 and parameters: {'max_depth': 231, 'num_leaves': 78, 'learning_rate': 0.2352692461097725, 'n_estimators': 700, 'colsample_bytree': 0.6163833879549147, 'colsample_bynode': 0.815712997368161, 'reg_lambda': 0.2872403056077732, 'reg_alpha': 0.016688892301285663, 'min_child_weight': 2, 'min_child_samples': 62}. Best is trial 120 with value: 0.9838238934566107.\u001b[0m\n",
      "\u001b[32m[I 2023-02-07 02:47:07,599]\u001b[0m Trial 123 finished with value: 0.9769341515211469 and parameters: {'max_depth': 227, 'num_leaves': 60, 'learning_rate': 0.13000755079036866, 'n_estimators': 500, 'colsample_bytree': 0.6998101035491009, 'colsample_bynode': 0.8413159060427879, 'reg_lambda': 0.3227098405118183, 'reg_alpha': 0.01485175598167017, 'min_child_weight': 3, 'min_child_samples': 67}. Best is trial 120 with value: 0.9838238934566107.\u001b[0m\n",
      "\u001b[32m[I 2023-02-07 02:47:08,453]\u001b[0m Trial 124 finished with value: 0.9677010020086296 and parameters: {'max_depth': 240, 'num_leaves': 70, 'learning_rate': 0.29165953309520815, 'n_estimators': 700, 'colsample_bytree': 0.536714899380189, 'colsample_bynode': 0.79418780580332, 'reg_lambda': 0.22117447573500715, 'reg_alpha': 0.013230013617972053, 'min_child_weight': 3, 'min_child_samples': 56}. Best is trial 120 with value: 0.9838238934566107.\u001b[0m\n",
      "\u001b[32m[I 2023-02-07 02:47:09,986]\u001b[0m Trial 125 finished with value: 0.9723684059759099 and parameters: {'max_depth': 172, 'num_leaves': 92, 'learning_rate': 0.10004305536993974, 'n_estimators': 900, 'colsample_bytree': 0.7679609851629753, 'colsample_bynode': 0.8338271599228126, 'reg_lambda': 0.11730713502143994, 'reg_alpha': 0.010024025652273057, 'min_child_weight': 2, 'min_child_samples': 13}. Best is trial 120 with value: 0.9838238934566107.\u001b[0m\n",
      "\u001b[32m[I 2023-02-07 02:47:11,866]\u001b[0m Trial 126 finished with value: 0.9768629927584884 and parameters: {'max_depth': 262, 'num_leaves': 40, 'learning_rate': 0.20144719101951536, 'n_estimators': 1800, 'colsample_bytree': 0.6751071145863758, 'colsample_bynode': 0.7848249018978186, 'reg_lambda': 0.30031931096777215, 'reg_alpha': 0.01186005122409995, 'min_child_weight': 9, 'min_child_samples': 66}. Best is trial 120 with value: 0.9838238934566107.\u001b[0m\n",
      "\u001b[32m[I 2023-02-07 02:47:14,177]\u001b[0m Trial 127 finished with value: 0.9815975622601482 and parameters: {'max_depth': 138, 'num_leaves': 86, 'learning_rate': 0.17973827479422524, 'n_estimators': 2000, 'colsample_bytree': 0.7874331660269053, 'colsample_bynode': 0.8040892266886036, 'reg_lambda': 0.08607644007412812, 'reg_alpha': 0.02093345089613695, 'min_child_weight': 3, 'min_child_samples': 58}. Best is trial 120 with value: 0.9838238934566107.\u001b[0m\n",
      "\u001b[32m[I 2023-02-07 02:47:16,345]\u001b[0m Trial 128 finished with value: 0.9768660250080983 and parameters: {'max_depth': 145, 'num_leaves': 90, 'learning_rate': 0.17813519304961548, 'n_estimators': 1900, 'colsample_bytree': 0.7889076988274647, 'colsample_bynode': 0.8033429798837701, 'reg_lambda': 0.017399219624126168, 'reg_alpha': 0.022873910867780643, 'min_child_weight': 2, 'min_child_samples': 58}. Best is trial 120 with value: 0.9838238934566107.\u001b[0m\n",
      "\u001b[32m[I 2023-02-07 02:47:18,901]\u001b[0m Trial 129 finished with value: 0.972502011833037 and parameters: {'max_depth': 124, 'num_leaves': 17, 'learning_rate': 0.07918301867315924, 'n_estimators': 2100, 'colsample_bytree': 0.8094232335797533, 'colsample_bynode': 0.8261731198290702, 'reg_lambda': 0.09851667475322326, 'reg_alpha': 0.020980606274217953, 'min_child_weight': 3, 'min_child_samples': 62}. Best is trial 120 with value: 0.9838238934566107.\u001b[0m\n",
      "\u001b[32m[I 2023-02-07 02:47:20,931]\u001b[0m Trial 130 finished with value: 0.9769950055344869 and parameters: {'max_depth': 138, 'num_leaves': 164, 'learning_rate': 0.13667979610588357, 'n_estimators': 1500, 'colsample_bytree': 0.9129837307805486, 'colsample_bynode': 0.7635450703822996, 'reg_lambda': 0.08285099681076155, 'reg_alpha': 0.01877961769663577, 'min_child_weight': 3, 'min_child_samples': 60}. Best is trial 120 with value: 0.9838238934566107.\u001b[0m\n",
      "\u001b[32m[I 2023-02-07 02:47:23,408]\u001b[0m Trial 131 finished with value: 0.9792596065194423 and parameters: {'max_depth': 187, 'num_leaves': 43, 'learning_rate': 0.22294414374010044, 'n_estimators': 2300, 'colsample_bytree': 0.6413424590999701, 'colsample_bynode': 0.7755801469618391, 'reg_lambda': 0.43931100154636304, 'reg_alpha': 0.0167181242385932, 'min_child_weight': 2, 'min_child_samples': 49}. Best is trial 120 with value: 0.9838238934566107.\u001b[0m\n",
      "\u001b[32m[I 2023-02-07 02:47:26,099]\u001b[0m Trial 132 finished with value: 0.9654940315953568 and parameters: {'max_depth': 187, 'num_leaves': 50, 'learning_rate': 0.16965200374637537, 'n_estimators': 2400, 'colsample_bytree': 0.6427946089016889, 'colsample_bynode': 0.7888098778861746, 'reg_lambda': 0.5163635474867674, 'reg_alpha': 0.016737966814957355, 'min_child_weight': 2, 'min_child_samples': 49}. Best is trial 120 with value: 0.9838238934566107.\u001b[0m\n"
     ]
    },
    {
     "name": "stdout",
     "output_type": "stream",
     "text": [
      "\u001b[32m[I 2023-02-07 02:47:28,622]\u001b[0m Trial 133 finished with value: 0.979312567386558 and parameters: {'max_depth': 161, 'num_leaves': 51, 'learning_rate': 0.22094783704633558, 'n_estimators': 2300, 'colsample_bytree': 0.6324220919579153, 'colsample_bynode': 0.84668000218608, 'reg_lambda': 0.3392432882838545, 'reg_alpha': 0.02064560445290869, 'min_child_weight': 2, 'min_child_samples': 54}. Best is trial 120 with value: 0.9838238934566107.\u001b[0m\n",
      "\u001b[32m[I 2023-02-07 02:47:31,251]\u001b[0m Trial 134 finished with value: 0.9746856043257545 and parameters: {'max_depth': 157, 'num_leaves': 64, 'learning_rate': 0.048564037952432054, 'n_estimators': 2000, 'colsample_bytree': 0.6288325031386857, 'colsample_bynode': 0.852686311415336, 'reg_lambda': 0.34186499676907206, 'reg_alpha': 0.07416408507504046, 'min_child_weight': 3, 'min_child_samples': 53}. Best is trial 120 with value: 0.9838238934566107.\u001b[0m\n",
      "\u001b[32m[I 2023-02-07 02:47:33,119]\u001b[0m Trial 135 finished with value: 0.9793081141627278 and parameters: {'max_depth': 113, 'num_leaves': 36, 'learning_rate': 0.19748521582400466, 'n_estimators': 1600, 'colsample_bytree': 0.8314894263442655, 'colsample_bynode': 0.8631922030994295, 'reg_lambda': 0.08619452242129196, 'reg_alpha': 0.023498546462217676, 'min_child_weight': 2, 'min_child_samples': 57}. Best is trial 120 with value: 0.9838238934566107.\u001b[0m\n",
      "\u001b[32m[I 2023-02-07 02:47:34,209]\u001b[0m Trial 136 finished with value: 0.972463686367426 and parameters: {'max_depth': 107, 'num_leaves': 32, 'learning_rate': 0.20251115445030143, 'n_estimators': 800, 'colsample_bytree': 0.8695310525110894, 'colsample_bynode': 0.8611558167431008, 'reg_lambda': 0.08083177640244801, 'reg_alpha': 0.02579315283150298, 'min_child_weight': 2, 'min_child_samples': 58}. Best is trial 120 with value: 0.9838238934566107.\u001b[0m\n",
      "\u001b[32m[I 2023-02-07 02:47:36,558]\u001b[0m Trial 137 finished with value: 0.9769327772991273 and parameters: {'max_depth': 89, 'num_leaves': 37, 'learning_rate': 0.18389024977010116, 'n_estimators': 2100, 'colsample_bytree': 0.8227560634395839, 'colsample_bynode': 0.8385906414102283, 'reg_lambda': 0.1055318085678172, 'reg_alpha': 0.020446891930086926, 'min_child_weight': 2, 'min_child_samples': 55}. Best is trial 120 with value: 0.9838238934566107.\u001b[0m\n",
      "\u001b[32m[I 2023-02-07 02:47:39,175]\u001b[0m Trial 138 finished with value: 0.9583838010981264 and parameters: {'max_depth': 115, 'num_leaves': 49, 'learning_rate': 0.21412526263093745, 'n_estimators': 2500, 'colsample_bytree': 0.843470460407358, 'colsample_bynode': 0.8730216069478058, 'reg_lambda': 0.08485189315614242, 'reg_alpha': 0.0383861969116752, 'min_child_weight': 11, 'min_child_samples': 52}. Best is trial 120 with value: 0.9838238934566107.\u001b[0m\n",
      "\u001b[32m[I 2023-02-07 02:47:40,970]\u001b[0m Trial 139 finished with value: 0.9723549154131454 and parameters: {'max_depth': 100, 'num_leaves': 56, 'learning_rate': 0.24346972414528462, 'n_estimators': 1600, 'colsample_bytree': 0.7493684714932698, 'colsample_bynode': 0.818151513735179, 'reg_lambda': 0.07317710179891057, 'reg_alpha': 0.023690383963756834, 'min_child_weight': 2, 'min_child_samples': 63}. Best is trial 120 with value: 0.9838238934566107.\u001b[0m\n",
      "\u001b[32m[I 2023-02-07 02:47:43,105]\u001b[0m Trial 140 finished with value: 0.9747352601257674 and parameters: {'max_depth': 138, 'num_leaves': 79, 'learning_rate': 0.1607259019428045, 'n_estimators': 1800, 'colsample_bytree': 0.8009887105120038, 'colsample_bynode': 0.8045000865733584, 'reg_lambda': 0.1537866773563759, 'reg_alpha': 0.021865235628196072, 'min_child_weight': 3, 'min_child_samples': 44}. Best is trial 120 with value: 0.9838238934566107.\u001b[0m\n",
      "\u001b[32m[I 2023-02-07 02:47:45,293]\u001b[0m Trial 141 finished with value: 0.9766854119091452 and parameters: {'max_depth': 127, 'num_leaves': 123, 'learning_rate': 0.11821600061749285, 'n_estimators': 1700, 'colsample_bytree': 0.8641939568663544, 'colsample_bynode': 0.8414741468396293, 'reg_lambda': 0.27016141704870394, 'reg_alpha': 0.027526684160702877, 'min_child_weight': 3, 'min_child_samples': 60}. Best is trial 120 with value: 0.9838238934566107.\u001b[0m\n",
      "\u001b[32m[I 2023-02-07 02:47:47,200]\u001b[0m Trial 142 finished with value: 0.9768412068550492 and parameters: {'max_depth': 153, 'num_leaves': 25, 'learning_rate': 0.14022153941682414, 'n_estimators': 1600, 'colsample_bytree': 0.781736508802878, 'colsample_bynode': 0.8870424044867972, 'reg_lambda': 0.24023300552332433, 'reg_alpha': 0.01855748207927808, 'min_child_weight': 2, 'min_child_samples': 57}. Best is trial 120 with value: 0.9838238934566107.\u001b[0m\n",
      "\u001b[32m[I 2023-02-07 02:47:49,358]\u001b[0m Trial 143 finished with value: 0.977003286513576 and parameters: {'max_depth': 174, 'num_leaves': 72, 'learning_rate': 0.10237559216739661, 'n_estimators': 1900, 'colsample_bytree': 0.658531127614472, 'colsample_bynode': 0.7040609182693494, 'reg_lambda': 0.06676232118070888, 'reg_alpha': 0.014973625359280249, 'min_child_weight': 3, 'min_child_samples': 69}. Best is trial 120 with value: 0.9838238934566107.\u001b[0m\n",
      "\u001b[32m[I 2023-02-07 02:47:52,016]\u001b[0m Trial 144 finished with value: 0.9769857630511906 and parameters: {'max_depth': 55, 'num_leaves': 28, 'learning_rate': 0.03175073798942435, 'n_estimators': 1800, 'colsample_bytree': 0.607945200705016, 'colsample_bynode': 0.8272898211736408, 'reg_lambda': 0.364939629928811, 'reg_alpha': 0.013426876892056454, 'min_child_weight': 3, 'min_child_samples': 65}. Best is trial 120 with value: 0.9838238934566107.\u001b[0m\n",
      "\u001b[32m[I 2023-02-07 02:47:54,062]\u001b[0m Trial 145 finished with value: 0.9700547735987154 and parameters: {'max_depth': 169, 'num_leaves': 98, 'learning_rate': 0.18790263417002925, 'n_estimators': 1700, 'colsample_bytree': 0.7603120168907418, 'colsample_bynode': 0.865576750564881, 'reg_lambda': 0.30354505094496403, 'reg_alpha': 0.017414861642364415, 'min_child_weight': 2, 'min_child_samples': 62}. Best is trial 120 with value: 0.9838238934566107.\u001b[0m\n",
      "\u001b[32m[I 2023-02-07 02:47:56,168]\u001b[0m Trial 146 finished with value: 0.9768977425820449 and parameters: {'max_depth': 79, 'num_leaves': 42, 'learning_rate': 0.07632411673441199, 'n_estimators': 1700, 'colsample_bytree': 0.5729445554828781, 'colsample_bynode': 0.8467223301765635, 'reg_lambda': 0.0904378374437364, 'reg_alpha': 0.01575930406069341, 'min_child_weight': 3, 'min_child_samples': 54}. Best is trial 120 with value: 0.9838238934566107.\u001b[0m\n",
      "\u001b[32m[I 2023-02-07 02:47:56,725]\u001b[0m Trial 147 finished with value: 0.9768219212643834 and parameters: {'max_depth': 132, 'num_leaves': 257, 'learning_rate': 0.314690410929994, 'n_estimators': 300, 'colsample_bytree': 0.667672306873221, 'colsample_bynode': 0.8588508665894197, 'reg_lambda': 0.2570181931346305, 'reg_alpha': 0.020226049628685395, 'min_child_weight': 4, 'min_child_samples': 51}. Best is trial 120 with value: 0.9838238934566107.\u001b[0m\n",
      "\u001b[32m[I 2023-02-07 02:47:58,061]\u001b[0m Trial 148 finished with value: 0.9791759389010307 and parameters: {'max_depth': 118, 'num_leaves': 194, 'learning_rate': 0.15817860277224027, 'n_estimators': 1000, 'colsample_bytree': 0.6247027257723472, 'colsample_bynode': 0.7356218086710725, 'reg_lambda': 0.20366997831969935, 'reg_alpha': 0.029445950189823728, 'min_child_weight': 2, 'min_child_samples': 41}. Best is trial 120 with value: 0.9838238934566107.\u001b[0m\n",
      "\u001b[32m[I 2023-02-07 02:48:00,233]\u001b[0m Trial 149 finished with value: 0.9769178352075396 and parameters: {'max_depth': 202, 'num_leaves': 318, 'learning_rate': 0.225190589265218, 'n_estimators': 1300, 'colsample_bytree': 0.685612569809639, 'colsample_bynode': 0.7512471199176423, 'reg_lambda': 0.22586179332451584, 'reg_alpha': 0.40643713420311817, 'min_child_weight': 3, 'min_child_samples': 82}. Best is trial 120 with value: 0.9838238934566107.\u001b[0m\n",
      "\u001b[32m[I 2023-02-07 02:48:01,910]\u001b[0m Trial 150 finished with value: 0.9725025468582637 and parameters: {'max_depth': 160, 'num_leaves': 58, 'learning_rate': 0.12592068518292254, 'n_estimators': 1500, 'colsample_bytree': 0.656315688384707, 'colsample_bynode': 0.6893874858362328, 'reg_lambda': 0.4065596300897245, 'reg_alpha': 0.03285335450880931, 'min_child_weight': 7, 'min_child_samples': 72}. Best is trial 120 with value: 0.9838238934566107.\u001b[0m\n",
      "\u001b[32m[I 2023-02-07 02:48:04,324]\u001b[0m Trial 151 finished with value: 0.9746713628615977 and parameters: {'max_depth': 199, 'num_leaves': 44, 'learning_rate': 0.21865128886382101, 'n_estimators': 2300, 'colsample_bytree': 0.6351207805877457, 'colsample_bynode': 0.777932254798033, 'reg_lambda': 0.4374697376882191, 'reg_alpha': 0.017471136212826522, 'min_child_weight': 2, 'min_child_samples': 49}. Best is trial 120 with value: 0.9838238934566107.\u001b[0m\n"
     ]
    },
    {
     "name": "stdout",
     "output_type": "stream",
     "text": [
      "\u001b[32m[I 2023-02-07 02:48:07,007]\u001b[0m Trial 152 finished with value: 0.9792933897161648 and parameters: {'max_depth': 183, 'num_leaves': 31, 'learning_rate': 0.24990516718223388, 'n_estimators': 2500, 'colsample_bytree': 0.6449996461955309, 'colsample_bynode': 0.7619653726091546, 'reg_lambda': 0.4516463991789552, 'reg_alpha': 0.023248489388008962, 'min_child_weight': 2, 'min_child_samples': 47}. Best is trial 120 with value: 0.9838238934566107.\u001b[0m\n",
      "\u001b[32m[I 2023-02-07 02:48:10,017]\u001b[0m Trial 153 finished with value: 0.9700398913224081 and parameters: {'max_depth': 219, 'num_leaves': 38, 'learning_rate': 0.24576975749064853, 'n_estimators': 2500, 'colsample_bytree': 0.8953403924768373, 'colsample_bynode': 0.8920705721165239, 'reg_lambda': 0.31412089775939983, 'reg_alpha': 0.024736763834065745, 'min_child_weight': 3, 'min_child_samples': 5}. Best is trial 120 with value: 0.9838238934566107.\u001b[0m\n",
      "\u001b[32m[I 2023-02-07 02:48:12,508]\u001b[0m Trial 154 finished with value: 0.9677832924466466 and parameters: {'max_depth': 143, 'num_leaves': 31, 'learning_rate': 0.2760017473940245, 'n_estimators': 2400, 'colsample_bytree': 0.6481795996008545, 'colsample_bynode': 0.7616085042483807, 'reg_lambda': 0.28030438420300535, 'reg_alpha': 0.04686675456412055, 'min_child_weight': 2, 'min_child_samples': 56}. Best is trial 120 with value: 0.9838238934566107.\u001b[0m\n",
      "\u001b[32m[I 2023-02-07 02:48:14,709]\u001b[0m Trial 155 finished with value: 0.9815153872141169 and parameters: {'max_depth': 178, 'num_leaves': 22, 'learning_rate': 0.17372700286624526, 'n_estimators': 2000, 'colsample_bytree': 0.5933388763385349, 'colsample_bynode': 0.7979759370541428, 'reg_lambda': 0.33516370281791474, 'reg_alpha': 0.022005887056409143, 'min_child_weight': 2, 'min_child_samples': 47}. Best is trial 120 with value: 0.9838238934566107.\u001b[0m\n",
      "\u001b[32m[I 2023-02-07 02:48:16,834]\u001b[0m Trial 156 finished with value: 0.9747553640690827 and parameters: {'max_depth': 278, 'num_leaves': 18, 'learning_rate': 0.18335939011732935, 'n_estimators': 2000, 'colsample_bytree': 0.5874780689385415, 'colsample_bynode': 0.8003408784570305, 'reg_lambda': 0.34358648818137677, 'reg_alpha': 0.01928590543085128, 'min_child_weight': 4, 'min_child_samples': 59}. Best is trial 120 with value: 0.9838238934566107.\u001b[0m\n",
      "\u001b[32m[I 2023-02-07 02:48:18,843]\u001b[0m Trial 157 finished with value: 0.9770668510573358 and parameters: {'max_depth': 164, 'num_leaves': 225, 'learning_rate': 0.1471431533896093, 'n_estimators': 1800, 'colsample_bytree': 0.6113057291811668, 'colsample_bynode': 0.7917063882825691, 'reg_lambda': 0.11481624744024667, 'reg_alpha': 0.021753254028501288, 'min_child_weight': 3, 'min_child_samples': 88}. Best is trial 120 with value: 0.9838238934566107.\u001b[0m\n",
      "\u001b[32m[I 2023-02-07 02:48:20,846]\u001b[0m Trial 158 finished with value: 0.9793145650575802 and parameters: {'max_depth': 224, 'num_leaves': 21, 'learning_rate': 0.16997971520885075, 'n_estimators': 1900, 'colsample_bytree': 0.5958898114401092, 'colsample_bynode': 0.8106594272265539, 'reg_lambda': 0.021222373136284032, 'reg_alpha': 0.01564977400877125, 'min_child_weight': 2, 'min_child_samples': 77}. Best is trial 120 with value: 0.9838238934566107.\u001b[0m\n",
      "\u001b[32m[I 2023-02-07 02:48:22,964]\u001b[0m Trial 159 finished with value: 0.9628769859579789 and parameters: {'max_depth': 224, 'num_leaves': 21, 'learning_rate': 0.20507836870213375, 'n_estimators': 2100, 'colsample_bytree': 0.59947129967293, 'colsample_bynode': 0.8154014363641898, 'reg_lambda': 0.01573083614442289, 'reg_alpha': 0.014278105976074294, 'min_child_weight': 2, 'min_child_samples': 77}. Best is trial 120 with value: 0.9838238934566107.\u001b[0m\n",
      "\u001b[32m[I 2023-02-07 02:48:25,059]\u001b[0m Trial 160 finished with value: 0.9861958053840303 and parameters: {'max_depth': 254, 'num_leaves': 15, 'learning_rate': 0.16934150350782518, 'n_estimators': 1900, 'colsample_bytree': 0.5625147088997342, 'colsample_bynode': 0.83092459002635, 'reg_lambda': 0.02167827656022025, 'reg_alpha': 0.012339112128046587, 'min_child_weight': 2, 'min_child_samples': 51}. Best is trial 160 with value: 0.9861958053840303.\u001b[0m\n",
      "\u001b[32m[I 2023-02-07 02:48:27,073]\u001b[0m Trial 161 finished with value: 0.9723008741468547 and parameters: {'max_depth': 253, 'num_leaves': 13, 'learning_rate': 0.17011207474134415, 'n_estimators': 1900, 'colsample_bytree': 0.5745034562368531, 'colsample_bynode': 0.8279535962815235, 'reg_lambda': 0.018457934243932668, 'reg_alpha': 0.011252443479441085, 'min_child_weight': 2, 'min_child_samples': 81}. Best is trial 160 with value: 0.9861958053840303.\u001b[0m\n",
      "\u001b[32m[I 2023-02-07 02:48:29,202]\u001b[0m Trial 162 finished with value: 0.976854072086397 and parameters: {'max_depth': 238, 'num_leaves': 16, 'learning_rate': 0.18888706161328478, 'n_estimators': 2000, 'colsample_bytree': 0.5860696570149565, 'colsample_bynode': 0.8104665013481928, 'reg_lambda': 0.17898943496156597, 'reg_alpha': 0.01239024941623729, 'min_child_weight': 2, 'min_child_samples': 53}. Best is trial 160 with value: 0.9861958053840303.\u001b[0m\n",
      "\u001b[32m[I 2023-02-07 02:48:31,221]\u001b[0m Trial 163 finished with value: 0.9698944394533813 and parameters: {'max_depth': 252, 'num_leaves': 18, 'learning_rate': 0.16321890404791045, 'n_estimators': 1900, 'colsample_bytree': 0.5669636955303685, 'colsample_bynode': 0.8182403926626156, 'reg_lambda': 0.027642479856462506, 'reg_alpha': 0.013674155381271884, 'min_child_weight': 2, 'min_child_samples': 75}. Best is trial 160 with value: 0.9861958053840303.\u001b[0m\n",
      "\u001b[32m[I 2023-02-07 02:48:33,477]\u001b[0m Trial 164 finished with value: 0.9723545060925781 and parameters: {'max_depth': 213, 'num_leaves': 24, 'learning_rate': 0.10445463274343933, 'n_estimators': 2200, 'colsample_bytree': 0.5968640138589073, 'colsample_bynode': 0.8470696406101772, 'reg_lambda': 0.018212065366835065, 'reg_alpha': 0.027045677955916152, 'min_child_weight': 2, 'min_child_samples': 84}. Best is trial 160 with value: 0.9861958053840303.\u001b[0m\n",
      "\u001b[32m[I 2023-02-07 02:48:35,623]\u001b[0m Trial 165 finished with value: 0.9723358203101462 and parameters: {'max_depth': 301, 'num_leaves': 14, 'learning_rate': 0.1438109011322615, 'n_estimators': 2000, 'colsample_bytree': 0.5588436413989551, 'colsample_bynode': 0.7984898407044095, 'reg_lambda': 0.02066106840204129, 'reg_alpha': 0.01557839063132492, 'min_child_weight': 3, 'min_child_samples': 45}. Best is trial 160 with value: 0.9861958053840303.\u001b[0m\n",
      "\u001b[32m[I 2023-02-07 02:48:37,937]\u001b[0m Trial 166 finished with value: 0.9746578722988332 and parameters: {'max_depth': 226, 'num_leaves': 20, 'learning_rate': 0.0619511874417942, 'n_estimators': 1800, 'colsample_bytree': 0.5796620471206243, 'colsample_bynode': 0.8323280659700413, 'reg_lambda': 0.022173101624091474, 'reg_alpha': 0.019544453536189787, 'min_child_weight': 3, 'min_child_samples': 50}. Best is trial 160 with value: 0.9861958053840303.\u001b[0m\n",
      "\u001b[32m[I 2023-02-07 02:48:39,923]\u001b[0m Trial 167 finished with value: 0.9792671533893152 and parameters: {'max_depth': 268, 'num_leaves': 26, 'learning_rate': 0.20207383617243857, 'n_estimators': 1900, 'colsample_bytree': 0.6966491713234104, 'colsample_bynode': 0.8347617152074008, 'reg_lambda': 0.021558046725681932, 'reg_alpha': 0.017940154811153207, 'min_child_weight': 2, 'min_child_samples': 78}. Best is trial 160 with value: 0.9861958053840303.\u001b[0m\n",
      "\u001b[32m[I 2023-02-07 02:48:42,000]\u001b[0m Trial 168 finished with value: 0.9699383565088449 and parameters: {'max_depth': 235, 'num_leaves': 50, 'learning_rate': 0.1685339088413775, 'n_estimators': 1800, 'colsample_bytree': 0.6149238935671442, 'colsample_bynode': 0.7844005613185673, 'reg_lambda': 0.024978389578839612, 'reg_alpha': 0.09158748106229263, 'min_child_weight': 2, 'min_child_samples': 56}. Best is trial 160 with value: 0.9861958053840303.\u001b[0m\n",
      "\u001b[32m[I 2023-02-07 02:48:43,732]\u001b[0m Trial 169 finished with value: 0.9676892865916319 and parameters: {'max_depth': 344, 'num_leaves': 15, 'learning_rate': 0.8611185888972142, 'n_estimators': 1700, 'colsample_bytree': 0.590133830226118, 'colsample_bynode': 0.8730861590821796, 'reg_lambda': 0.32832218215953823, 'reg_alpha': 0.012887455238282709, 'min_child_weight': 3, 'min_child_samples': 47}. Best is trial 160 with value: 0.9861958053840303.\u001b[0m\n",
      "\u001b[32m[I 2023-02-07 02:48:44,034]\u001b[0m Trial 170 finished with value: 0.9699854712379349 and parameters: {'max_depth': 329, 'num_leaves': 22, 'learning_rate': 0.2227813660065329, 'n_estimators': 100, 'colsample_bytree': 0.6687049169539003, 'colsample_bynode': 0.8220149463854936, 'reg_lambda': 0.01718613458024586, 'reg_alpha': 0.1701423077600197, 'min_child_weight': 8, 'min_child_samples': 51}. Best is trial 160 with value: 0.9861958053840303.\u001b[0m\n"
     ]
    },
    {
     "name": "stdout",
     "output_type": "stream",
     "text": [
      "\u001b[32m[I 2023-02-07 02:48:45,903]\u001b[0m Trial 171 finished with value: 0.9747206899446791 and parameters: {'max_depth': 99, 'num_leaves': 85, 'learning_rate': 0.11735598592479178, 'n_estimators': 1600, 'colsample_bytree': 0.6252350947997238, 'colsample_bynode': 0.8094134357846599, 'reg_lambda': 0.01255034979175376, 'reg_alpha': 0.01413376534071233, 'min_child_weight': 4, 'min_child_samples': 64}. Best is trial 160 with value: 0.9861958053840303.\u001b[0m\n",
      "\u001b[32m[I 2023-02-07 02:48:47,778]\u001b[0m Trial 172 finished with value: 0.9768417477270204 and parameters: {'max_depth': 292, 'num_leaves': 75, 'learning_rate': 0.13499552463151387, 'n_estimators': 1700, 'colsample_bytree': 0.6034863810931049, 'colsample_bynode': 0.8543638400177092, 'reg_lambda': 0.10309705163648662, 'reg_alpha': 0.021355241758899867, 'min_child_weight': 3, 'min_child_samples': 69}. Best is trial 160 with value: 0.9861958053840303.\u001b[0m\n",
      "\u001b[32m[I 2023-02-07 02:48:49,987]\u001b[0m Trial 173 finished with value: 0.9744047728252404 and parameters: {'max_depth': 206, 'num_leaves': 63, 'learning_rate': 0.09127395537864198, 'n_estimators': 1900, 'colsample_bytree': 0.7262556083617626, 'colsample_bynode': 0.7430981425639616, 'reg_lambda': 0.014877999913394778, 'reg_alpha': 0.01661335404121029, 'min_child_weight': 3, 'min_child_samples': 86}. Best is trial 160 with value: 0.9861958053840303.\u001b[0m\n",
      "\u001b[32m[I 2023-02-07 02:48:50,895]\u001b[0m Trial 174 finished with value: 0.9792385723860588 and parameters: {'max_depth': 193, 'num_leaves': 263, 'learning_rate': 0.1805199653347227, 'n_estimators': 600, 'colsample_bytree': 0.8262282924352177, 'colsample_bynode': 0.8013538214150142, 'reg_lambda': 0.28946867773666396, 'reg_alpha': 0.01571215946526758, 'min_child_weight': 6, 'min_child_samples': 61}. Best is trial 160 with value: 0.9861958053840303.\u001b[0m\n",
      "\u001b[32m[I 2023-02-07 02:48:52,728]\u001b[0m Trial 175 finished with value: 0.9677335119607096 and parameters: {'max_depth': 178, 'num_leaves': 143, 'learning_rate': 0.20046101120235854, 'n_estimators': 1600, 'colsample_bytree': 0.6373723081280609, 'colsample_bynode': 0.8801315214613835, 'reg_lambda': 0.25008565263354654, 'reg_alpha': 0.018034281432581727, 'min_child_weight': 2, 'min_child_samples': 66}. Best is trial 160 with value: 0.9861958053840303.\u001b[0m\n",
      "\u001b[32m[I 2023-02-07 02:48:55,347]\u001b[0m Trial 176 finished with value: 0.9816285847948152 and parameters: {'max_depth': 156, 'num_leaves': 36, 'learning_rate': 0.1487842121093702, 'n_estimators': 2100, 'colsample_bytree': 0.6825292878694305, 'colsample_bynode': 0.7171451967482171, 'reg_lambda': 0.07381719577800336, 'reg_alpha': 0.011400998397652294, 'min_child_weight': 4, 'min_child_samples': 20}. Best is trial 160 with value: 0.9861958053840303.\u001b[0m\n",
      "\u001b[32m[I 2023-02-07 02:48:57,913]\u001b[0m Trial 177 finished with value: 0.9790725945550254 and parameters: {'max_depth': 151, 'num_leaves': 37, 'learning_rate': 0.14151020275243298, 'n_estimators': 2100, 'colsample_bytree': 0.6762511858346689, 'colsample_bynode': 0.7231965214829408, 'reg_lambda': 0.0746499042699306, 'reg_alpha': 0.01165101686544187, 'min_child_weight': 2, 'min_child_samples': 21}. Best is trial 160 with value: 0.9861958053840303.\u001b[0m\n",
      "\u001b[32m[I 2023-02-07 02:49:00,250]\u001b[0m Trial 178 finished with value: 0.9653160733073266 and parameters: {'max_depth': 245, 'num_leaves': 28, 'learning_rate': 0.4681094069548897, 'n_estimators': 2100, 'colsample_bytree': 0.7076381224751488, 'colsample_bynode': 0.8391051336451214, 'reg_lambda': 0.08653073102232808, 'reg_alpha': 0.010772362479247555, 'min_child_weight': 3, 'min_child_samples': 23}. Best is trial 160 with value: 0.9861958053840303.\u001b[0m\n",
      "\u001b[32m[I 2023-02-07 02:49:02,803]\u001b[0m Trial 179 finished with value: 0.9746799107087531 and parameters: {'max_depth': 143, 'num_leaves': 54, 'learning_rate': 0.15368525137637234, 'n_estimators': 2200, 'colsample_bytree': 0.6821065309110584, 'colsample_bynode': 0.736587230642154, 'reg_lambda': 0.059685526350076304, 'reg_alpha': 0.012759705465995955, 'min_child_weight': 4, 'min_child_samples': 24}. Best is trial 160 with value: 0.9861958053840303.\u001b[0m\n",
      "\u001b[32m[I 2023-02-07 02:49:05,229]\u001b[0m Trial 180 finished with value: 0.9816372853036546 and parameters: {'max_depth': 131, 'num_leaves': 32, 'learning_rate': 0.177463479836325, 'n_estimators': 2000, 'colsample_bytree': 0.6937374132183772, 'colsample_bynode': 0.7160384170978312, 'reg_lambda': 0.06633673830941245, 'reg_alpha': 0.025036317562693314, 'min_child_weight': 2, 'min_child_samples': 12}. Best is trial 160 with value: 0.9861958053840303.\u001b[0m\n",
      "\u001b[32m[I 2023-02-07 02:49:07,638]\u001b[0m Trial 181 finished with value: 0.9817026794507381 and parameters: {'max_depth': 117, 'num_leaves': 34, 'learning_rate': 0.17264042191248521, 'n_estimators': 2000, 'colsample_bytree': 0.6956652339423646, 'colsample_bynode': 0.7202751456163636, 'reg_lambda': 0.06728738314735956, 'reg_alpha': 0.024748237687848604, 'min_child_weight': 2, 'min_child_samples': 14}. Best is trial 160 with value: 0.9861958053840303.\u001b[0m\n",
      "\u001b[32m[I 2023-02-07 02:49:10,006]\u001b[0m Trial 182 finished with value: 0.976830867615881 and parameters: {'max_depth': 114, 'num_leaves': 35, 'learning_rate': 0.18066877466510944, 'n_estimators': 2000, 'colsample_bytree': 0.6960989457290032, 'colsample_bynode': 0.7267408459938298, 'reg_lambda': 0.05501554850096774, 'reg_alpha': 0.024565532136938722, 'min_child_weight': 2, 'min_child_samples': 13}. Best is trial 160 with value: 0.9861958053840303.\u001b[0m\n",
      "\u001b[32m[I 2023-02-07 02:49:12,636]\u001b[0m Trial 183 finished with value: 0.976830498309781 and parameters: {'max_depth': 133, 'num_leaves': 32, 'learning_rate': 0.20379429422677245, 'n_estimators': 2300, 'colsample_bytree': 0.6902905302945643, 'colsample_bynode': 0.7516149991118335, 'reg_lambda': 0.37775217836562625, 'reg_alpha': 0.02292530376727072, 'min_child_weight': 2, 'min_child_samples': 18}. Best is trial 160 with value: 0.9861958053840303.\u001b[0m\n",
      "\u001b[32m[I 2023-02-07 02:49:15,058]\u001b[0m Trial 184 finished with value: 0.9792220176390714 and parameters: {'max_depth': 128, 'num_leaves': 42, 'learning_rate': 0.16864609602065453, 'n_estimators': 2000, 'colsample_bytree': 0.7209917885277646, 'colsample_bynode': 0.7192458082431815, 'reg_lambda': 0.07073142704584325, 'reg_alpha': 0.02758696569779465, 'min_child_weight': 2, 'min_child_samples': 14}. Best is trial 160 with value: 0.9861958053840303.\u001b[0m\n",
      "\u001b[32m[I 2023-02-07 02:49:17,591]\u001b[0m Trial 185 finished with value: 0.9722795665183016 and parameters: {'max_depth': 110, 'num_leaves': 27, 'learning_rate': 0.19229450689996958, 'n_estimators': 2100, 'colsample_bytree': 0.70653143618588, 'colsample_bynode': 0.7347677625136321, 'reg_lambda': 0.06688690307788994, 'reg_alpha': 0.02053280155205259, 'min_child_weight': 2, 'min_child_samples': 9}. Best is trial 160 with value: 0.9861958053840303.\u001b[0m\n",
      "\u001b[32m[I 2023-02-07 02:49:20,165]\u001b[0m Trial 186 finished with value: 0.9769558218021721 and parameters: {'max_depth': 120, 'num_leaves': 20, 'learning_rate': 0.23298934834035823, 'n_estimators': 2200, 'colsample_bytree': 0.662227230867528, 'colsample_bynode': 0.7710548934364893, 'reg_lambda': 0.06336169150857568, 'reg_alpha': 0.024698298189129372, 'min_child_weight': 2, 'min_child_samples': 11}. Best is trial 160 with value: 0.9861958053840303.\u001b[0m\n",
      "\u001b[32m[I 2023-02-07 02:49:22,464]\u001b[0m Trial 187 finished with value: 0.9723871067428238 and parameters: {'max_depth': 77, 'num_leaves': 47, 'learning_rate': 0.15716288586837396, 'n_estimators': 1900, 'colsample_bytree': 0.677293176423667, 'colsample_bynode': 0.7093735043270066, 'reg_lambda': 0.08006747726810619, 'reg_alpha': 0.01458011448978739, 'min_child_weight': 3, 'min_child_samples': 16}. Best is trial 160 with value: 0.9861958053840303.\u001b[0m\n",
      "\u001b[32m[I 2023-02-07 02:49:24,907]\u001b[0m Trial 188 finished with value: 0.9792132700953848 and parameters: {'max_depth': 94, 'num_leaves': 24, 'learning_rate': 0.21907552088608276, 'n_estimators': 2000, 'colsample_bytree': 0.6868855391854104, 'colsample_bynode': 0.8220487305352924, 'reg_lambda': 0.05580679617848308, 'reg_alpha': 0.01943149664060445, 'min_child_weight': 2, 'min_child_samples': 9}. Best is trial 160 with value: 0.9861958053840303.\u001b[0m\n",
      "\u001b[32m[I 2023-02-07 02:49:25,749]\u001b[0m Trial 189 finished with value: 0.9768622044158353 and parameters: {'max_depth': 163, 'num_leaves': 36, 'learning_rate': 0.17575503590189234, 'n_estimators': 500, 'colsample_bytree': 0.7391316845417703, 'colsample_bynode': 0.7897618564392571, 'reg_lambda': 0.07519348719803054, 'reg_alpha': 0.029396930548970395, 'min_child_weight': 3, 'min_child_samples': 19}. Best is trial 160 with value: 0.9861958053840303.\u001b[0m\n"
     ]
    },
    {
     "name": "stdout",
     "output_type": "stream",
     "text": [
      "\u001b[32m[I 2023-02-07 02:49:28,440]\u001b[0m Trial 190 finished with value: 0.983891213631931 and parameters: {'max_depth': 137, 'num_leaves': 18, 'learning_rate': 0.12270272569827909, 'n_estimators': 2100, 'colsample_bytree': 0.6546609735555776, 'colsample_bynode': 0.8598372331075215, 'reg_lambda': 0.04228842146240562, 'reg_alpha': 0.021982185459046896, 'min_child_weight': 2, 'min_child_samples': 26}. Best is trial 160 with value: 0.9861958053840303.\u001b[0m\n",
      "\u001b[32m[I 2023-02-07 02:49:31,105]\u001b[0m Trial 191 finished with value: 0.9746229229503083 and parameters: {'max_depth': 148, 'num_leaves': 18, 'learning_rate': 0.12156008119939875, 'n_estimators': 2100, 'colsample_bytree': 0.6523555484555019, 'colsample_bynode': 0.8477070712893915, 'reg_lambda': 0.06478210007250679, 'reg_alpha': 0.023452003850334448, 'min_child_weight': 2, 'min_child_samples': 14}. Best is trial 160 with value: 0.9861958053840303.\u001b[0m\n",
      "\u001b[32m[I 2023-02-07 02:49:33,570]\u001b[0m Trial 192 finished with value: 0.9838553253118452 and parameters: {'max_depth': 130, 'num_leaves': 11, 'learning_rate': 0.14684816645224263, 'n_estimators': 2000, 'colsample_bytree': 0.6683362468916892, 'colsample_bynode': 0.862678364323108, 'reg_lambda': 0.04272400090292425, 'reg_alpha': 0.021431122094972308, 'min_child_weight': 2, 'min_child_samples': 27}. Best is trial 160 with value: 0.9861958053840303.\u001b[0m\n",
      "\u001b[32m[I 2023-02-07 02:49:35,986]\u001b[0m Trial 193 finished with value: 0.9676763428859771 and parameters: {'max_depth': 138, 'num_leaves': 8, 'learning_rate': 0.1446039611177392, 'n_estimators': 2000, 'colsample_bytree': 0.6700639945548809, 'colsample_bynode': 0.8590384947223244, 'reg_lambda': 0.04295573836451644, 'reg_alpha': 0.02188347753455214, 'min_child_weight': 2, 'min_child_samples': 26}. Best is trial 160 with value: 0.9861958053840303.\u001b[0m\n",
      "\u001b[32m[I 2023-02-07 02:49:38,413]\u001b[0m Trial 194 finished with value: 0.979338434728942 and parameters: {'max_depth': 156, 'num_leaves': 11, 'learning_rate': 0.11834260988657508, 'n_estimators': 2000, 'colsample_bytree': 0.6589302445260478, 'colsample_bynode': 0.8679477536578397, 'reg_lambda': 0.03598247465643472, 'reg_alpha': 0.018624830485674312, 'min_child_weight': 2, 'min_child_samples': 28}. Best is trial 160 with value: 0.9861958053840303.\u001b[0m\n",
      "\u001b[32m[I 2023-02-07 02:49:40,806]\u001b[0m Trial 195 finished with value: 0.9815418444191291 and parameters: {'max_depth': 125, 'num_leaves': 11, 'learning_rate': 0.10737170352494019, 'n_estimators': 2000, 'colsample_bytree': 0.6614564271814335, 'colsample_bynode': 0.8798985113972986, 'reg_lambda': 0.037342694252293675, 'reg_alpha': 0.018621790729352612, 'min_child_weight': 3, 'min_child_samples': 33}. Best is trial 160 with value: 0.9861958053840303.\u001b[0m\n",
      "\u001b[32m[I 2023-02-07 02:49:43,353]\u001b[0m Trial 196 finished with value: 0.9815053484307127 and parameters: {'max_depth': 125, 'num_leaves': 11, 'learning_rate': 0.10488792048789462, 'n_estimators': 2100, 'colsample_bytree': 0.6666678953771421, 'colsample_bynode': 0.9024087753482012, 'reg_lambda': 0.03447682537299316, 'reg_alpha': 0.01790413515203496, 'min_child_weight': 3, 'min_child_samples': 31}. Best is trial 160 with value: 0.9861958053840303.\u001b[0m\n",
      "\u001b[32m[I 2023-02-07 02:49:45,819]\u001b[0m Trial 197 finished with value: 0.9838538822660142 and parameters: {'max_depth': 127, 'num_leaves': 10, 'learning_rate': 0.10052423137531255, 'n_estimators': 2100, 'colsample_bytree': 0.6588870780726863, 'colsample_bynode': 0.9012541589242111, 'reg_lambda': 0.03543662097452778, 'reg_alpha': 0.0185656125092365, 'min_child_weight': 3, 'min_child_samples': 32}. Best is trial 160 with value: 0.9861958053840303.\u001b[0m\n",
      "\u001b[32m[I 2023-02-07 02:49:48,413]\u001b[0m Trial 198 finished with value: 0.9768390829010964 and parameters: {'max_depth': 128, 'num_leaves': 9, 'learning_rate': 0.09584724500784915, 'n_estimators': 2200, 'colsample_bytree': 0.6664660513348822, 'colsample_bynode': 0.8943142301244441, 'reg_lambda': 0.032368774212879495, 'reg_alpha': 0.02543083306335921, 'min_child_weight': 3, 'min_child_samples': 32}. Best is trial 160 with value: 0.9861958053840303.\u001b[0m\n",
      "\u001b[32m[I 2023-02-07 02:49:50,949]\u001b[0m Trial 199 finished with value: 0.9792931623286293 and parameters: {'max_depth': 511, 'num_leaves': 12, 'learning_rate': 0.10688978257085936, 'n_estimators': 2100, 'colsample_bytree': 0.6738291971981565, 'colsample_bynode': 0.8809661627151049, 'reg_lambda': 0.03957675787623189, 'reg_alpha': 0.019487621467950855, 'min_child_weight': 3, 'min_child_samples': 30}. Best is trial 160 with value: 0.9861958053840303.\u001b[0m\n"
     ]
    }
   ],
   "source": [
    "study_list = []\n",
    "code_line = [['A_31', 'T100304'], ['A_31', 'T050307'], ['A_31', 'T010306'], ['A_31', 'T010305'], ['T_31', 'T100304'], ['T_31', 'T100306']]\n",
    "\n",
    "for cl, train_df in zip(code_line, [train_A1, train_A2, train_A3, train_A4, train_T1, train_T2]):\n",
    "    \n",
    "    # split\n",
    "    x_train = train_df.drop(columns=['Y_Class'])\n",
    "    y_train = train_df['Y_Class']\n",
    "    \n",
    "    # optuna\n",
    "    study = optuna.create_study(direction='maximize')\n",
    "    study.optimize(lgbm_objective, n_trials=200, show_progress_bar=True)\n",
    "\n",
    "    clear_output(wait=True)\n",
    "    study_list.append(study)"
   ]
  },
  {
   "cell_type": "code",
   "execution_count": 99,
   "id": "bcb3813d",
   "metadata": {
    "scrolled": true
   },
   "outputs": [
    {
     "name": "stderr",
     "output_type": "stream",
     "text": [
      "\u001b[32m[I 2023-02-07 02:49:50,977]\u001b[0m A new study created in memory with name: no-name-1c9ca1e1-353e-4ebe-b673-975f0ec3f2ba\u001b[0m\n"
     ]
    },
    {
     "data": {
      "application/json": {
       "ascii": false,
       "bar_format": null,
       "colour": null,
       "elapsed": 0.012002944946289062,
       "initial": 0,
       "n": 0,
       "ncols": null,
       "nrows": null,
       "postfix": null,
       "prefix": "",
       "rate": null,
       "total": 50,
       "unit": "it",
       "unit_divisor": 1000,
       "unit_scale": false
      },
      "application/vnd.jupyter.widget-view+json": {
       "model_id": "4cac7eea5b384c8d9651834142f8e30b",
       "version_major": 2,
       "version_minor": 0
      },
      "text/plain": [
       "  0%|          | 0/50 [00:00<?, ?it/s]"
      ]
     },
     "metadata": {},
     "output_type": "display_data"
    },
    {
     "name": "stdout",
     "output_type": "stream",
     "text": [
      "\u001b[32m[I 2023-02-07 02:49:51,004]\u001b[0m Trial 0 finished with value: 0.6666666666666666 and parameters: {'max_depth': 455, 'num_leaves': 5, 'learning_rate': 0.7097650351550419, 'n_estimators': 600, 'colsample_bytree': 0.7395563797038298, 'colsample_bynode': 0.7636928861945536, 'reg_lambda': 0.04591308559983554, 'reg_alpha': 0.527715967902021, 'min_child_weight': 10, 'min_child_samples': 47}. Best is trial 0 with value: 0.6666666666666666.\u001b[0m\n",
      "\u001b[32m[I 2023-02-07 02:49:51,018]\u001b[0m Trial 1 finished with value: 0.6666666666666666 and parameters: {'max_depth': 259, 'num_leaves': 436, 'learning_rate': 0.7150620262557469, 'n_estimators': 1000, 'colsample_bytree': 0.8591199088433066, 'colsample_bynode': 0.9857367945531872, 'reg_lambda': 0.11387343582561871, 'reg_alpha': 0.013176675118624671, 'min_child_weight': 8, 'min_child_samples': 70}. Best is trial 0 with value: 0.6666666666666666.\u001b[0m\n",
      "\u001b[32m[I 2023-02-07 02:49:51,025]\u001b[0m Trial 2 finished with value: 0.6666666666666666 and parameters: {'max_depth': 495, 'num_leaves': 56, 'learning_rate': 0.1716632308354641, 'n_estimators': 100, 'colsample_bytree': 0.7622991108857367, 'colsample_bynode': 0.670566217659672, 'reg_lambda': 0.16282933277983827, 'reg_alpha': 0.05692714485479189, 'min_child_weight': 15, 'min_child_samples': 31}. Best is trial 0 with value: 0.6666666666666666.\u001b[0m\n",
      "\u001b[32m[I 2023-02-07 02:49:51,039]\u001b[0m Trial 3 finished with value: 0.6666666666666666 and parameters: {'max_depth': 255, 'num_leaves': 8, 'learning_rate': 0.7747934560182828, 'n_estimators': 800, 'colsample_bytree': 0.8804464135002119, 'colsample_bynode': 0.7891874173893954, 'reg_lambda': 0.7480383903777421, 'reg_alpha': 0.08249023559293439, 'min_child_weight': 11, 'min_child_samples': 55}. Best is trial 0 with value: 0.6666666666666666.\u001b[0m\n",
      "\u001b[32m[I 2023-02-07 02:49:51,049]\u001b[0m Trial 4 finished with value: 0.6666666666666666 and parameters: {'max_depth': 507, 'num_leaves': 354, 'learning_rate': 0.9388755642523553, 'n_estimators': 300, 'colsample_bytree': 0.7658509618672582, 'colsample_bynode': 0.6326738122536739, 'reg_lambda': 0.03491008973864545, 'reg_alpha': 0.014060473300909062, 'min_child_weight': 5, 'min_child_samples': 56}. Best is trial 0 with value: 0.6666666666666666.\u001b[0m\n",
      "\u001b[32m[I 2023-02-07 02:49:51,055]\u001b[0m Trial 5 finished with value: 0.6666666666666666 and parameters: {'max_depth': 494, 'num_leaves': 19, 'learning_rate': 0.0924256282351804, 'n_estimators': 100, 'colsample_bytree': 0.5783194023692368, 'colsample_bynode': 0.5625852337640027, 'reg_lambda': 0.3822058170565152, 'reg_alpha': 0.015543747954807875, 'min_child_weight': 13, 'min_child_samples': 38}. Best is trial 0 with value: 0.6666666666666666.\u001b[0m\n",
      "\u001b[32m[I 2023-02-07 02:49:51,081]\u001b[0m Trial 6 finished with value: 0.6666666666666666 and parameters: {'max_depth': 186, 'num_leaves': 509, 'learning_rate': 0.03810262180102112, 'n_estimators': 2700, 'colsample_bytree': 0.8544164809096392, 'colsample_bynode': 0.5911194201670052, 'reg_lambda': 0.18367130820577574, 'reg_alpha': 0.08201351633915926, 'min_child_weight': 15, 'min_child_samples': 63}. Best is trial 0 with value: 0.6666666666666666.\u001b[0m\n",
      "\u001b[32m[I 2023-02-07 02:49:51,108]\u001b[0m Trial 7 finished with value: 0.6666666666666666 and parameters: {'max_depth': 270, 'num_leaves': 1015, 'learning_rate': 0.2723954004805174, 'n_estimators': 2000, 'colsample_bytree': 0.5769927599204328, 'colsample_bynode': 0.7252495154397037, 'reg_lambda': 0.03907677638715374, 'reg_alpha': 0.13468464952692044, 'min_child_weight': 11, 'min_child_samples': 20}. Best is trial 0 with value: 0.6666666666666666.\u001b[0m\n",
      "\u001b[32m[I 2023-02-07 02:49:51,116]\u001b[0m Trial 8 finished with value: 0.6666666666666666 and parameters: {'max_depth': 49, 'num_leaves': 23, 'learning_rate': 0.1367786968535065, 'n_estimators': 300, 'colsample_bytree': 0.5610758106469731, 'colsample_bynode': 0.7104171603104805, 'reg_lambda': 0.09733029480849714, 'reg_alpha': 0.20087099346402115, 'min_child_weight': 13, 'min_child_samples': 70}. Best is trial 0 with value: 0.6666666666666666.\u001b[0m\n",
      "\u001b[32m[I 2023-02-07 02:49:51,123]\u001b[0m Trial 9 finished with value: 0.6666666666666666 and parameters: {'max_depth': 48, 'num_leaves': 134, 'learning_rate': 0.6795781954338153, 'n_estimators': 200, 'colsample_bytree': 0.8448017071893721, 'colsample_bynode': 0.5184556692290654, 'reg_lambda': 0.04271213240763583, 'reg_alpha': 0.12475773168829722, 'min_child_weight': 14, 'min_child_samples': 10}. Best is trial 0 with value: 0.6666666666666666.\u001b[0m\n",
      "\u001b[32m[I 2023-02-07 02:49:51,148]\u001b[0m Trial 10 finished with value: 0.6666666666666666 and parameters: {'max_depth': 377, 'num_leaves': 2, 'learning_rate': 0.475238880424389, 'n_estimators': 1600, 'colsample_bytree': 0.9993900407720098, 'colsample_bynode': 0.840444585840417, 'reg_lambda': 0.011365530050091879, 'reg_alpha': 0.7999335771125333, 'min_child_weight': 3, 'min_child_samples': 93}. Best is trial 0 with value: 0.6666666666666666.\u001b[0m\n",
      "\u001b[32m[I 2023-02-07 02:49:51,171]\u001b[0m Trial 11 finished with value: 0.6666666666666666 and parameters: {'max_depth': 354, 'num_leaves': 2, 'learning_rate': 0.6239648928876347, 'n_estimators': 1000, 'colsample_bytree': 0.6665267978089576, 'colsample_bynode': 0.9902998772685578, 'reg_lambda': 0.07869121539299569, 'reg_alpha': 0.8281238973836735, 'min_child_weight': 7, 'min_child_samples': 82}. Best is trial 0 with value: 0.6666666666666666.\u001b[0m\n",
      "\u001b[32m[I 2023-02-07 02:49:51,194]\u001b[0m Trial 12 finished with value: 0.6666666666666666 and parameters: {'max_depth': 393, 'num_leaves': 7, 'learning_rate': 0.9218308909384929, 'n_estimators': 1000, 'colsample_bytree': 0.6849733904715357, 'colsample_bynode': 0.9996455232947439, 'reg_lambda': 0.014570940646940377, 'reg_alpha': 0.31329953820159706, 'min_child_weight': 8, 'min_child_samples': 36}. Best is trial 0 with value: 0.6666666666666666.\u001b[0m\n",
      "\u001b[32m[I 2023-02-07 02:49:51,220]\u001b[0m Trial 13 finished with value: 0.6666666666666666 and parameters: {'max_depth': 152, 'num_leaves': 111, 'learning_rate': 0.47719160436385294, 'n_estimators': 1400, 'colsample_bytree': 0.941334824402932, 'colsample_bynode': 0.867258240839959, 'reg_lambda': 0.21560579125307242, 'reg_alpha': 0.031518110166414495, 'min_child_weight': 10, 'min_child_samples': 76}. Best is trial 0 with value: 0.6666666666666666.\u001b[0m\n",
      "\u001b[32m[I 2023-02-07 02:49:51,241]\u001b[0m Trial 14 finished with value: 0.6666666666666666 and parameters: {'max_depth': 299, 'num_leaves': 5, 'learning_rate': 0.7775866203682268, 'n_estimators': 700, 'colsample_bytree': 0.693184130182212, 'colsample_bynode': 0.9276226174466677, 'reg_lambda': 0.055505862304599425, 'reg_alpha': 0.3851841704608237, 'min_child_weight': 6, 'min_child_samples': 45}. Best is trial 0 with value: 0.6666666666666666.\u001b[0m\n",
      "\u001b[32m[I 2023-02-07 02:49:51,269]\u001b[0m Trial 15 finished with value: 0.6666666666666666 and parameters: {'max_depth': 425, 'num_leaves': 175, 'learning_rate': 0.5924168237784316, 'n_estimators': 1500, 'colsample_bytree': 0.8046350380281839, 'colsample_bynode': 0.7979802831252315, 'reg_lambda': 0.023756834253954102, 'reg_alpha': 0.03232730279581438, 'min_child_weight': 9, 'min_child_samples': 94}. Best is trial 0 with value: 0.6666666666666666.\u001b[0m\n",
      "\u001b[32m[I 2023-02-07 02:49:51,297]\u001b[0m Trial 16 finished with value: 0.6666666666666666 and parameters: {'max_depth': 179, 'num_leaves': 49, 'learning_rate': 0.34601007311644666, 'n_estimators': 2100, 'colsample_bytree': 0.913780353368115, 'colsample_bynode': 0.9158338360715196, 'reg_lambda': 0.09116403130723194, 'reg_alpha': 0.010875995414991655, 'min_child_weight': 2, 'min_child_samples': 66}. Best is trial 0 with value: 0.6666666666666666.\u001b[0m\n",
      "\u001b[32m[I 2023-02-07 02:49:51,316]\u001b[0m Trial 17 finished with value: 0.6666666666666666 and parameters: {'max_depth': 311, 'num_leaves': 5, 'learning_rate': 0.8489738677722243, 'n_estimators': 600, 'colsample_bytree': 0.679730669453315, 'colsample_bynode': 0.914809796446027, 'reg_lambda': 0.02304377132451014, 'reg_alpha': 0.46532822516747535, 'min_child_weight': 6, 'min_child_samples': 47}. Best is trial 0 with value: 0.6666666666666666.\u001b[0m\n",
      "\u001b[32m[I 2023-02-07 02:49:51,340]\u001b[0m Trial 18 finished with value: 0.6666666666666666 and parameters: {'max_depth': 430, 'num_leaves': 148, 'learning_rate': 0.6292061809981649, 'n_estimators': 1500, 'colsample_bytree': 0.8107616492795159, 'colsample_bynode': 0.7864261629598037, 'reg_lambda': 0.02621577276905875, 'reg_alpha': 0.03754287343299332, 'min_child_weight': 10, 'min_child_samples': 100}. Best is trial 0 with value: 0.6666666666666666.\u001b[0m\n",
      "\u001b[32m[I 2023-02-07 02:49:51,372]\u001b[0m Trial 19 finished with value: 0.6666666666666666 and parameters: {'max_depth': 131, 'num_leaves': 40, 'learning_rate': 0.3425922473236336, 'n_estimators': 2500, 'colsample_bytree': 0.9248573382893401, 'colsample_bynode': 0.9144599330441499, 'reg_lambda': 0.31024815543767637, 'reg_alpha': 0.17989151655227506, 'min_child_weight': 3, 'min_child_samples': 23}. Best is trial 0 with value: 0.6666666666666666.\u001b[0m\n"
     ]
    },
    {
     "name": "stdout",
     "output_type": "stream",
     "text": [
      "\u001b[32m[I 2023-02-07 02:49:51,392]\u001b[0m Trial 20 finished with value: 0.6666666666666666 and parameters: {'max_depth': 340, 'num_leaves': 4, 'learning_rate': 0.8351519850925698, 'n_estimators': 600, 'colsample_bytree': 0.6316131726101574, 'colsample_bynode': 0.8412275582789662, 'reg_lambda': 0.012759786102423022, 'reg_alpha': 0.4437984712120507, 'min_child_weight': 5, 'min_child_samples': 47}. Best is trial 0 with value: 0.6666666666666666.\u001b[0m\n",
      "\u001b[32m[I 2023-02-07 02:49:51,415]\u001b[0m Trial 21 finished with value: 0.6666666666666666 and parameters: {'max_depth': 444, 'num_leaves': 13, 'learning_rate': 0.5614406296823735, 'n_estimators': 1300, 'colsample_bytree': 0.7269282219688723, 'colsample_bynode': 0.7699035164341864, 'reg_lambda': 0.0220346232808397, 'reg_alpha': 0.5720877339600058, 'min_child_weight': 10, 'min_child_samples': 47}. Best is trial 0 with value: 0.6666666666666666.\u001b[0m\n",
      "\u001b[32m[I 2023-02-07 02:49:51,451]\u001b[0m Trial 22 finished with value: 0.6666666666666666 and parameters: {'max_depth': 102, 'num_leaves': 74, 'learning_rate': 0.36331571601296286, 'n_estimators': 2900, 'colsample_bytree': 0.8023730805278829, 'colsample_bynode': 0.7129505311930453, 'reg_lambda': 0.8824543515407242, 'reg_alpha': 0.24431885753543942, 'min_child_weight': 12, 'min_child_samples': 20}. Best is trial 0 with value: 0.6666666666666666.\u001b[0m\n",
      "\u001b[32m[I 2023-02-07 02:49:51,481]\u001b[0m Trial 23 finished with value: 0.6666666666666666 and parameters: {'max_depth': 10, 'num_leaves': 29, 'learning_rate': 0.8324898188839951, 'n_estimators': 2200, 'colsample_bytree': 0.6230836566344023, 'colsample_bynode': 0.8511142972044403, 'reg_lambda': 0.47330078137101733, 'reg_alpha': 0.1938577956649085, 'min_child_weight': 4, 'min_child_samples': 25}. Best is trial 0 with value: 0.6666666666666666.\u001b[0m\n",
      "\u001b[32m[I 2023-02-07 02:49:51,509]\u001b[0m Trial 24 finished with value: 0.6666666666666666 and parameters: {'max_depth': 449, 'num_leaves': 12, 'learning_rate': 0.49249877249287727, 'n_estimators': 1300, 'colsample_bytree': 0.5231235722281959, 'colsample_bynode': 0.7617114065718328, 'reg_lambda': 0.015843590098162122, 'reg_alpha': 0.5475860806288672, 'min_child_weight': 9, 'min_child_samples': 46}. Best is trial 0 with value: 0.6666666666666666.\u001b[0m\n",
      "\u001b[32m[I 2023-02-07 02:49:51,546]\u001b[0m Trial 25 finished with value: 0.6666666666666666 and parameters: {'max_depth': 96, 'num_leaves': 14, 'learning_rate': 0.39320999343814345, 'n_estimators': 3000, 'colsample_bytree': 0.7243044193886008, 'colsample_bynode': 0.7060245711984182, 'reg_lambda': 0.8894939689475392, 'reg_alpha': 0.2703074757033666, 'min_child_weight': 12, 'min_child_samples': 6}. Best is trial 0 with value: 0.6666666666666666.\u001b[0m\n",
      "\u001b[32m[I 2023-02-07 02:49:51,575]\u001b[0m Trial 26 finished with value: 0.6666666666666666 and parameters: {'max_depth': 4, 'num_leaves': 82, 'learning_rate': 0.9686805153377733, 'n_estimators': 2100, 'colsample_bytree': 0.6199108395469963, 'colsample_bynode': 0.6593265626616023, 'reg_lambda': 0.5536210685165954, 'reg_alpha': 0.2780377530722558, 'min_child_weight': 13, 'min_child_samples': 18}. Best is trial 0 with value: 0.6666666666666666.\u001b[0m\n",
      "\u001b[32m[I 2023-02-07 02:49:51,602]\u001b[0m Trial 27 finished with value: 0.6666666666666666 and parameters: {'max_depth': 462, 'num_leaves': 27, 'learning_rate': 0.7200712067737653, 'n_estimators': 1800, 'colsample_bytree': 0.5005961070536011, 'colsample_bynode': 0.8284187351697988, 'reg_lambda': 0.05872519164747468, 'reg_alpha': 0.9845458729778268, 'min_child_weight': 9, 'min_child_samples': 29}. Best is trial 0 with value: 0.6666666666666666.\u001b[0m\n",
      "\u001b[32m[I 2023-02-07 02:49:51,625]\u001b[0m Trial 28 finished with value: 0.6666666666666666 and parameters: {'max_depth': 224, 'num_leaves': 12, 'learning_rate': 0.40948572655246784, 'n_estimators': 1200, 'colsample_bytree': 0.5133749081169352, 'colsample_bynode': 0.7380446806715022, 'reg_lambda': 0.019209519921375297, 'reg_alpha': 0.6312201124381265, 'min_child_weight': 11, 'min_child_samples': 11}. Best is trial 0 with value: 0.6666666666666666.\u001b[0m\n",
      "\u001b[32m[I 2023-02-07 02:49:51,662]\u001b[0m Trial 29 finished with value: 0.6666666666666666 and parameters: {'max_depth': 86, 'num_leaves': 3, 'learning_rate': 0.254346827993328, 'n_estimators': 2400, 'colsample_bytree': 0.7237777209138261, 'colsample_bynode': 0.6709048076021399, 'reg_lambda': 0.6024468091889905, 'reg_alpha': 0.31054626369211363, 'min_child_weight': 13, 'min_child_samples': 5}. Best is trial 0 with value: 0.6666666666666666.\u001b[0m\n",
      "\u001b[32m[I 2023-02-07 02:49:51,693]\u001b[0m Trial 30 finished with value: 0.6666666666666666 and parameters: {'max_depth': 475, 'num_leaves': 257, 'learning_rate': 0.9810973858614294, 'n_estimators': 1900, 'colsample_bytree': 0.620138942841568, 'colsample_bynode': 0.6594335841752982, 'reg_lambda': 0.0670253012363993, 'reg_alpha': 0.8653219206522219, 'min_child_weight': 8, 'min_child_samples': 33}. Best is trial 0 with value: 0.6666666666666666.\u001b[0m\n",
      "\u001b[32m[I 2023-02-07 02:49:51,721]\u001b[0m Trial 31 finished with value: 0.6666666666666666 and parameters: {'max_depth': 245, 'num_leaves': 76, 'learning_rate': 0.7333172244588778, 'n_estimators': 1700, 'colsample_bytree': 0.5181873340656484, 'colsample_bynode': 0.8158320509487523, 'reg_lambda': 0.13468159398500665, 'reg_alpha': 0.6690019100812303, 'min_child_weight': 11, 'min_child_samples': 14}. Best is trial 0 with value: 0.6666666666666666.\u001b[0m\n",
      "\u001b[32m[I 2023-02-07 02:49:51,757]\u001b[0m Trial 32 finished with value: 0.6666666666666666 and parameters: {'max_depth': 414, 'num_leaves': 3, 'learning_rate': 0.2028875274050689, 'n_estimators': 2500, 'colsample_bytree': 0.5044354113551013, 'colsample_bynode': 0.7405579840415959, 'reg_lambda': 0.06113126544980194, 'reg_alpha': 0.9971480560715346, 'min_child_weight': 12, 'min_child_samples': 6}. Best is trial 0 with value: 0.6666666666666666.\u001b[0m\n",
      "\u001b[32m[I 2023-02-07 02:49:51,790]\u001b[0m Trial 33 finished with value: 0.6666666666666666 and parameters: {'max_depth': 205, 'num_leaves': 8, 'learning_rate': 0.25131018414175055, 'n_estimators': 2400, 'colsample_bytree': 0.6453665427317246, 'colsample_bynode': 0.6364220471291205, 'reg_lambda': 0.24228987591882825, 'reg_alpha': 0.6732891496494904, 'min_child_weight': 7, 'min_child_samples': 34}. Best is trial 0 with value: 0.6666666666666666.\u001b[0m\n",
      "\u001b[32m[I 2023-02-07 02:49:51,818]\u001b[0m Trial 34 finished with value: 0.6666666666666666 and parameters: {'max_depth': 488, 'num_leaves': 253, 'learning_rate': 0.7004945156137868, 'n_estimators': 1800, 'colsample_bytree': 0.5473667062650768, 'colsample_bynode': 0.6764088484518146, 'reg_lambda': 0.14065513981319736, 'reg_alpha': 0.3956954727286593, 'min_child_weight': 8, 'min_child_samples': 15}. Best is trial 0 with value: 0.6666666666666666.\u001b[0m\n",
      "\u001b[32m[I 2023-02-07 02:49:51,838]\u001b[0m Trial 35 finished with value: 0.6666666666666666 and parameters: {'max_depth': 341, 'num_leaves': 4, 'learning_rate': 0.5614843653849145, 'n_estimators': 500, 'colsample_bytree': 0.7459862142369835, 'colsample_bynode': 0.8853844252774705, 'reg_lambda': 0.010316256509965557, 'reg_alpha': 0.15188072014881668, 'min_child_weight': 2, 'min_child_samples': 59}. Best is trial 0 with value: 0.6666666666666666.\u001b[0m\n",
      "\u001b[32m[I 2023-02-07 02:49:51,858]\u001b[0m Trial 36 finished with value: 0.6666666666666666 and parameters: {'max_depth': 375, 'num_leaves': 16, 'learning_rate': 0.8645828220351144, 'n_estimators': 900, 'colsample_bytree': 0.7943304883716048, 'colsample_bynode': 0.7726938940601136, 'reg_lambda': 0.02761328656082527, 'reg_alpha': 0.4822081975171844, 'min_child_weight': 10, 'min_child_samples': 52}. Best is trial 0 with value: 0.6666666666666666.\u001b[0m\n",
      "\u001b[32m[I 2023-02-07 02:49:51,878]\u001b[0m Trial 37 finished with value: 0.6666666666666666 and parameters: {'max_depth': 509, 'num_leaves': 9, 'learning_rate': 0.5386334289613248, 'n_estimators': 400, 'colsample_bytree': 0.7768903205425718, 'colsample_bynode': 0.6975112695129067, 'reg_lambda': 0.033099213270260046, 'reg_alpha': 0.2373274565652732, 'min_child_weight': 12, 'min_child_samples': 51}. Best is trial 0 with value: 0.6666666666666666.\u001b[0m\n",
      "\u001b[32m[I 2023-02-07 02:49:51,916]\u001b[0m Trial 38 finished with value: 0.6666666666666666 and parameters: {'max_depth': 21, 'num_leaves': 31, 'learning_rate': 0.7702662017672285, 'n_estimators': 3000, 'colsample_bytree': 0.7229443239047038, 'colsample_bynode': 0.605092632490335, 'reg_lambda': 0.4123359863492659, 'reg_alpha': 0.0912009173599329, 'min_child_weight': 10, 'min_child_samples': 25}. Best is trial 0 with value: 0.6666666666666666.\u001b[0m\n",
      "\u001b[32m[I 2023-02-07 02:49:51,955]\u001b[0m Trial 39 finished with value: 0.6666666666666666 and parameters: {'max_depth': 83, 'num_leaves': 62, 'learning_rate': 0.6493586108846205, 'n_estimators': 2800, 'colsample_bytree': 0.8232158730424872, 'colsample_bynode': 0.8662876997351651, 'reg_lambda': 0.9708800963629526, 'reg_alpha': 0.2093051821484447, 'min_child_weight': 15, 'min_child_samples': 26}. Best is trial 0 with value: 0.6666666666666666.\u001b[0m\n",
      "\u001b[32m[I 2023-02-07 02:49:51,990]\u001b[0m Trial 40 finished with value: 0.6666666666666666 and parameters: {'max_depth': 52, 'num_leaves': 30, 'learning_rate': 0.4301515102295933, 'n_estimators': 2200, 'colsample_bytree': 0.5900440721271283, 'colsample_bynode': 0.9553411067674638, 'reg_lambda': 0.6228503534379737, 'reg_alpha': 0.06866051453315457, 'min_child_weight': 4, 'min_child_samples': 41}. Best is trial 0 with value: 0.6666666666666666.\u001b[0m\n",
      "\u001b[32m[I 2023-02-07 02:49:52,030]\u001b[0m Trial 41 finished with value: 0.6666666666666666 and parameters: {'max_depth': 109, 'num_leaves': 19, 'learning_rate': 0.35882439807669103, 'n_estimators': 3000, 'colsample_bytree': 0.7581920824251529, 'colsample_bynode': 0.7126602927800145, 'reg_lambda': 0.9989451665823476, 'reg_alpha': 0.25633805972810797, 'min_child_weight': 12, 'min_child_samples': 20}. Best is trial 0 with value: 0.6666666666666666.\u001b[0m\n"
     ]
    },
    {
     "name": "stdout",
     "output_type": "stream",
     "text": [
      "\u001b[32m[I 2023-02-07 02:49:52,071]\u001b[0m Trial 42 finished with value: 0.6666666666666666 and parameters: {'max_depth': 5, 'num_leaves': 12, 'learning_rate': 0.924658617313715, 'n_estimators': 2700, 'colsample_bytree': 0.541877573301502, 'colsample_bynode': 0.7545358997906093, 'reg_lambda': 0.5130280618117474, 'reg_alpha': 0.2828176090909442, 'min_child_weight': 14, 'min_child_samples': 41}. Best is trial 0 with value: 0.6666666666666666.\u001b[0m\n",
      "\u001b[32m[I 2023-02-07 02:49:52,101]\u001b[0m Trial 43 finished with value: 0.6666666666666666 and parameters: {'max_depth': 29, 'num_leaves': 42, 'learning_rate': 0.9863631517180691, 'n_estimators': 2100, 'colsample_bytree': 0.60814897497253, 'colsample_bynode': 0.6379491012833738, 'reg_lambda': 0.3589000907226952, 'reg_alpha': 0.3372522036261411, 'min_child_weight': 14, 'min_child_samples': 17}. Best is trial 0 with value: 0.6666666666666666.\u001b[0m\n",
      "\u001b[32m[I 2023-02-07 02:49:52,127]\u001b[0m Trial 44 finished with value: 0.6666666666666666 and parameters: {'max_depth': 460, 'num_leaves': 18, 'learning_rate': 0.5042926472126098, 'n_estimators': 1200, 'colsample_bytree': 0.5314333875824795, 'colsample_bynode': 0.5810104966295697, 'reg_lambda': 0.046933181247750665, 'reg_alpha': 0.5437748114812375, 'min_child_weight': 9, 'min_child_samples': 31}. Best is trial 0 with value: 0.6666666666666666.\u001b[0m\n",
      "\u001b[32m[I 2023-02-07 02:49:52,154]\u001b[0m Trial 45 finished with value: 0.6666666666666666 and parameters: {'max_depth': 459, 'num_leaves': 25, 'learning_rate': 0.4176789568296917, 'n_estimators': 1800, 'colsample_bytree': 0.56509692206914, 'colsample_bynode': 0.8184828823839391, 'reg_lambda': 0.7752595812614611, 'reg_alpha': 0.1134356391076259, 'min_child_weight': 9, 'min_child_samples': 28}. Best is trial 0 with value: 0.6666666666666666.\u001b[0m\n",
      "\u001b[32m[I 2023-02-07 02:49:52,176]\u001b[0m Trial 46 finished with value: 0.6666666666666666 and parameters: {'max_depth': 228, 'num_leaves': 10, 'learning_rate': 0.40139996040796144, 'n_estimators': 1100, 'colsample_bytree': 0.5003349611853936, 'colsample_bynode': 0.684375794909416, 'reg_lambda': 0.017996174979774446, 'reg_alpha': 0.6887856932610175, 'min_child_weight': 11, 'min_child_samples': 10}. Best is trial 0 with value: 0.6666666666666666.\u001b[0m\n",
      "\u001b[32m[I 2023-02-07 02:49:52,204]\u001b[0m Trial 47 finished with value: 0.6666666666666666 and parameters: {'max_depth': 171, 'num_leaves': 15, 'learning_rate': 0.8876480867395824, 'n_estimators': 1900, 'colsample_bytree': 0.6586228935160199, 'colsample_bynode': 0.7448238083560292, 'reg_lambda': 0.11085150191296993, 'reg_alpha': 0.978602067829238, 'min_child_weight': 13, 'min_child_samples': 11}. Best is trial 0 with value: 0.6666666666666666.\u001b[0m\n",
      "\u001b[32m[I 2023-02-07 02:49:52,238]\u001b[0m Trial 48 finished with value: 0.6666666666666666 and parameters: {'max_depth': 286, 'num_leaves': 3, 'learning_rate': 0.27243194618885697, 'n_estimators': 2300, 'colsample_bytree': 0.5863101885826352, 'colsample_bynode': 0.6132573904163229, 'reg_lambda': 0.07520004762849765, 'reg_alpha': 0.32923286591573164, 'min_child_weight': 13, 'min_child_samples': 12}. Best is trial 0 with value: 0.6666666666666666.\u001b[0m\n",
      "\u001b[32m[I 2023-02-07 02:49:52,254]\u001b[0m Trial 49 finished with value: 0.6666666666666666 and parameters: {'max_depth': 66, 'num_leaves': 6, 'learning_rate': 0.06450729414944831, 'n_estimators': 100, 'colsample_bytree': 0.8777071343657596, 'colsample_bynode': 0.5268241388829293, 'reg_lambda': 0.048396117334749245, 'reg_alpha': 0.7541944340857016, 'min_child_weight': 11, 'min_child_samples': 5}. Best is trial 0 with value: 0.6666666666666666.\u001b[0m\n"
     ]
    }
   ],
   "source": [
    "def lgbm_objective_O_31(trial):\n",
    "\n",
    "    params = {\n",
    "            #\"objective\": \"classifier\",\n",
    "            \"n_jobs\": 4,\n",
    "            \"max_depth\": trial.suggest_int(\"max_depth\", 4, 512),\n",
    "            'num_leaves': trial.suggest_int('num_leaves', 2, 1024, step=1, log=True), \n",
    "            \"learning_rate\": trial.suggest_uniform('learning_rate', 0.0001, 0.99),\n",
    "            'n_estimators': trial.suggest_int(\"n_estimators\", 100, 3000, step=100),\n",
    "            \"colsample_bytree\": trial.suggest_float(\"colsample_bytree\", 0.5, 1.0),\n",
    "            \"colsample_bynode\": trial.suggest_float(\"colsample_bynode\", 0.5, 1.0),\n",
    "            \"reg_lambda\": trial.suggest_loguniform(\"reg_lambda\", 1e-2, 1),\n",
    "            \"reg_alpha\": trial.suggest_loguniform(\"reg_alpha\", 1e-2, 1), \n",
    "            'min_child_weight': trial.suggest_int('min_child_weight', 2, 15),\n",
    "            'min_child_samples': trial.suggest_int('min_child_samples', 5, 100),\n",
    "        }\n",
    "\n",
    "    clf = lightgbm.LGBMClassifier(**params)\n",
    "    clf.fit(x_train, y_train)\n",
    "\n",
    "    return f1_score(clf.predict(x_train), y_train, average='micro')\n",
    "\n",
    "x_train = train_O1.drop(columns=['Y_Class'])\n",
    "y_train = train_O1['Y_Class']\n",
    "\n",
    "study = optuna.create_study(direction='maximize')\n",
    "study.optimize(lgbm_objective_O_31, n_trials=50, show_progress_bar=True)\n",
    "\n",
    "clear_output(wait=True)\n",
    "study_list.append(study)"
   ]
  },
  {
   "cell_type": "code",
   "execution_count": 100,
   "id": "cc877804",
   "metadata": {},
   "outputs": [
    {
     "name": "stdout",
     "output_type": "stream",
     "text": [
      "\n",
      "  f1_score : 0.8765883789413202\n",
      "  f1_score : 0.9865319865319865\n",
      "  f1_score : 0.8446459096459096\n",
      "  f1_score : 0.846092796092796\n",
      "  f1_score : 0.9695624949340023\n",
      "  f1_score : 0.9861958053840303\n",
      "  f1_score : 0.6666666666666666\n",
      "\n",
      "mean_f1 : 0.8823262911709587\n"
     ]
    }
   ],
   "source": [
    "print()\n",
    "f1_list = []\n",
    "\n",
    "for study in study_list:\n",
    "    trial = study.best_trial\n",
    "\n",
    "    print(\"  f1_score : {}\".format(trial.value))\n",
    "    f1_list.append(trial.value)\n",
    "#    print(\"  Best hyperparameters: \")\n",
    "#    for key, value in trial.params.items():\n",
    "#        print(\"    {}: {}\".format(key, value))\n",
    "print()\n",
    "print(f'mean_f1 : {np.mean(f1_list)}')"
   ]
  },
  {
   "cell_type": "code",
   "execution_count": 106,
   "id": "86538645",
   "metadata": {},
   "outputs": [
    {
     "name": "stdout",
     "output_type": "stream",
     "text": [
      "1.0\n",
      "1.0\n",
      "0.9818518518518519\n",
      "1.0\n",
      "1.0\n",
      "1.0\n",
      "0.4\n",
      "\n",
      "0.9116931216931218\n"
     ]
    }
   ],
   "source": [
    "f1_list = []\n",
    "for train_df, study in zip([train_A1, train_A2, train_A3, train_A4, train_T1, train_T2, train_O1], study_list):\n",
    "    x_train = train_df.drop(columns=['Y_Class'])\n",
    "    y_train = train_df['Y_Class']\n",
    "    \n",
    "    clf = lightgbm.LGBMClassifier(**study.best_params)\n",
    "    clf.fit(x_train, y_train, verbose=0)\n",
    "    f1 = f1_score(clf.predict(x_train), y_train, average='macro')\n",
    "    f1_list.append(f1)\n",
    "    print(f1)\n",
    "print()\n",
    "print(np.mean(f1_list))"
   ]
  },
  {
   "cell_type": "code",
   "execution_count": 101,
   "id": "2e90d963",
   "metadata": {},
   "outputs": [
    {
     "name": "stdout",
     "output_type": "stream",
     "text": [
      "{'max_depth': 45, 'num_leaves': 204, 'learning_rate': 0.2860813359539121, 'n_estimators': 600, 'colsample_bytree': 0.6498514134137433, 'colsample_bynode': 0.9787668366220176, 'reg_lambda': 0.020673981172778015, 'reg_alpha': 0.03991796078216946, 'min_child_weight': 3, 'min_child_samples': 10}\n",
      "\n",
      "{'max_depth': 361, 'num_leaves': 16, 'learning_rate': 0.1480858780696379, 'n_estimators': 400, 'colsample_bytree': 0.8236855462610295, 'colsample_bynode': 0.585393900958277, 'reg_lambda': 0.02954263422649153, 'reg_alpha': 0.135208407834378, 'min_child_weight': 3, 'min_child_samples': 15}\n",
      "\n",
      "{'max_depth': 28, 'num_leaves': 236, 'learning_rate': 0.05092409006522597, 'n_estimators': 1900, 'colsample_bytree': 0.6472610798612553, 'colsample_bynode': 0.567668628635469, 'reg_lambda': 0.04453322574780922, 'reg_alpha': 0.028006169244883836, 'min_child_weight': 9, 'min_child_samples': 41}\n",
      "\n",
      "{'max_depth': 193, 'num_leaves': 33, 'learning_rate': 0.6378988494778889, 'n_estimators': 2900, 'colsample_bytree': 0.5429123693902502, 'colsample_bynode': 0.6062256872162561, 'reg_lambda': 0.016066683107757523, 'reg_alpha': 0.10864971122254373, 'min_child_weight': 2, 'min_child_samples': 14}\n",
      "\n",
      "{'max_depth': 144, 'num_leaves': 370, 'learning_rate': 0.15259922905335613, 'n_estimators': 2800, 'colsample_bytree': 0.5833820089404643, 'colsample_bynode': 0.7763656267587514, 'reg_lambda': 0.03762184331411259, 'reg_alpha': 0.02374292696335919, 'min_child_weight': 2, 'min_child_samples': 5}\n",
      "\n",
      "{'max_depth': 254, 'num_leaves': 15, 'learning_rate': 0.16934150350782518, 'n_estimators': 1900, 'colsample_bytree': 0.5625147088997342, 'colsample_bynode': 0.83092459002635, 'reg_lambda': 0.02167827656022025, 'reg_alpha': 0.012339112128046587, 'min_child_weight': 2, 'min_child_samples': 51}\n",
      "\n",
      "{'max_depth': 455, 'num_leaves': 5, 'learning_rate': 0.7097650351550419, 'n_estimators': 600, 'colsample_bytree': 0.7395563797038298, 'colsample_bynode': 0.7636928861945536, 'reg_lambda': 0.04591308559983554, 'reg_alpha': 0.527715967902021, 'min_child_weight': 10, 'min_child_samples': 47}\n",
      "\n"
     ]
    }
   ],
   "source": [
    "for study in study_list:\n",
    "    print(study.best_params)\n",
    "    print()\n",
    "    \n",
    "param_list = []\n",
    "for cl, train_df, study in zip(code_line, [train_A1, train_A2, train_A3, train_A4, train_T1, train_T2, train_O1], study_list):\n",
    "\n",
    "    x_train = train_df.drop(columns=['Y_Class'])\n",
    "    y_train = train_df['Y_Class']\n",
    "    \n",
    "    if cl[0] == 'O_31':\n",
    "        test_cl = test[test['PRODUCT_CODE'] == cl[0]]\n",
    "    else:\n",
    "        test_cl = test[(test['PRODUCT_CODE'] == cl[0]) & (test['LINE'] == cl[1])]\n",
    "    \n",
    "    if len(test_cl) == 0:\n",
    "        continue\n",
    "    test_cl = test_cl[x_train.columns]\n",
    "    \n",
    "    # lightgbm\n",
    "    clf = lightgbm.LGBMClassifier(**study.best_params)\n",
    "    clf.fit(x_train, y_train, verbose=0)\n",
    "    pred = clf.predict(test_cl)\n",
    "    for i, idx in enumerate(test_cl.index):\n",
    "        subm['Y_Class'][idx] = pred[i]"
   ]
  },
  {
   "cell_type": "code",
   "execution_count": 102,
   "id": "649065b5",
   "metadata": {},
   "outputs": [],
   "source": [
    "code_line = [['A_31', 'T100304'], ['A_31', 'T050307'], ['A_31', 'T010306'], ['A_31', 'T010305'], ['T_31', 'T100304'], ['T_31', 'T100306'], ['O_31']]\n",
    "for cl, train_df, study in zip(code_line, [train_A1, train_A2, train_A3, train_A4, train_T1, train_T2, train_O1], study_list):\n",
    "\n",
    "    x_train = train_df.drop(columns=['Y_Class'])\n",
    "    y_train = train_df['Y_Class']\n",
    "    \n",
    "    if cl[0] == 'O_31':\n",
    "        test_cl = test[test['PRODUCT_CODE'] == cl[0]]\n",
    "    else:\n",
    "        test_cl = test[(test['PRODUCT_CODE'] == cl[0]) & (test['LINE'] == cl[1])]\n",
    "    \n",
    "    if len(test_cl) == 0:\n",
    "        continue\n",
    "    test_cl = test_cl[x_train.columns]\n",
    "    \n",
    "    # lightgbm\n",
    "    clf = lightgbm.LGBMClassifier(**study.best_params)\n",
    "    clf.fit(x_train, y_train, verbose=0)\n",
    "    pred = clf.predict(test_cl)\n",
    "    for i, idx in enumerate(test_cl.index):\n",
    "        subm['Y_Class'][idx] = pred[i]"
   ]
  },
  {
   "cell_type": "code",
   "execution_count": 103,
   "id": "463068e7",
   "metadata": {},
   "outputs": [
    {
     "data": {
      "text/plain": [
       "1    251\n",
       "0     38\n",
       "2     21\n",
       "Name: Y_Class, dtype: int64"
      ]
     },
     "execution_count": 103,
     "metadata": {},
     "output_type": "execute_result"
    }
   ],
   "source": [
    "subm.Y_Class.value_counts()"
   ]
  },
  {
   "cell_type": "code",
   "execution_count": 104,
   "id": "d5413dd2",
   "metadata": {},
   "outputs": [],
   "source": [
    "subm.to_csv('submission/submission19.csv', index=False) # optuna_Yclass_blsmote_code_line_macro"
   ]
  },
  {
   "cell_type": "code",
   "execution_count": null,
   "id": "73e5df55",
   "metadata": {},
   "outputs": [],
   "source": []
  }
 ],
 "metadata": {
  "kernelspec": {
   "display_name": "Python 3 (ipykernel)",
   "language": "python",
   "name": "python3"
  },
  "language_info": {
   "codemirror_mode": {
    "name": "ipython",
    "version": 3
   },
   "file_extension": ".py",
   "mimetype": "text/x-python",
   "name": "python",
   "nbconvert_exporter": "python",
   "pygments_lexer": "ipython3",
   "version": "3.9.12"
  }
 },
 "nbformat": 4,
 "nbformat_minor": 5
}
