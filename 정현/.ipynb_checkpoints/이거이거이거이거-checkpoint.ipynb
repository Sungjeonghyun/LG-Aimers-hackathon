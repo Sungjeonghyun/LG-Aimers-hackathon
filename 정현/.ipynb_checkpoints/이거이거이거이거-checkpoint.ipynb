{
 "cells": [
  {
   "cell_type": "markdown",
   "id": "ca5fe9b3",
   "metadata": {},
   "source": [
    "* 환경 : Windows 10 이상, python 3.9 ( 아마 python 3.7 이상이면 동작할 거에요. ) \n",
    "* PC에 엔비디아 그래픽카드가 없다면 Catboost 실행이 안될 거에요. 그땐, Catboost 파라미터 중 task_tpye='GPU'를 지워주시면 돼요.\n",
    "* GPU를 사용하지 않으면, PC의 CPU 자원을 모두 활용하기 때문에, PC가 멈출 수 있어요(렉이 심해지거나).\n",
    "* 그럴 때는 thread_count=(모델이 활용하길 바라는 CPU 개수) ex) thread_count=5 (기본값은 thread_count=-1 로, -1은 모두 사용이란 의미입니다.)\n"
   ]
  },
  {
   "cell_type": "code",
   "execution_count": null,
   "id": "7f839ec0",
   "metadata": {},
   "outputs": [],
   "source": [
    "# # 라이브러리 설치이니 아래 코드들을 주석을 지운 뒤 실행시켜 주시면 돼요. (기존에 설치되어 있는 패키지는 스킵하고 설치됩니다.)\n",
    "# # 주석을 한번에 지우는 방법 ----> 지우고 싶은 줄들을 드래그 하고, ctrl + '/' 를 누르면 한번에 지워져요.\n",
    "\n",
    "# !pip install pandas\n",
    "# !pip install numpy\n",
    "# !pip install scikit-learn\n",
    "# !pip install imblearn\n",
    "# !pip install eli5\n",
    "# !pip install matplotlib\n",
    "# !pip install seaborn\n",
    "# !pip install missingno\n",
    "# !pip install catboost\n",
    "# !pip install optuna"
   ]
  },
  {
   "cell_type": "code",
   "execution_count": 1,
   "id": "fa7efeb5",
   "metadata": {},
   "outputs": [],
   "source": [
    "# Ignore Warning message\n",
    "import warnings\n",
    "warnings.filterwarnings('ignore')\n",
    "\n",
    "# Random seed fix\n",
    "import os\n",
    "import random\n",
    "\n",
    "# progress bar in repeated code\n",
    "from tqdm import tqdm\n",
    "import pandas as pd\n",
    "import numpy as np\n",
    "\n",
    "# Imputer\n",
    "from sklearn.experimental import enable_iterative_imputer\n",
    "from sklearn.impute import IterativeImputer\n",
    "\n",
    "# Data Scaling\n",
    "from imblearn.over_sampling import BorderlineSMOTE, ADASYN, RandomOverSampler\n",
    "from imblearn.combine import SMOTEENN, SMOTETomek\n",
    "\n",
    "# Permutation Importance\n",
    "import eli5\n",
    "from eli5.sklearn import PermutationImportance\n",
    "\n",
    "# Visualization\n",
    "import matplotlib.pyplot as plt\n",
    "from pylab import rcParams\n",
    "plt.style.use('fivethirtyeight')\n",
    "plt.rc(\"font\", family=\"Malgun Gothic\")\n",
    "plt.rcParams['axes.unicode_minus'] = False\n",
    "%matplotlib inline\n",
    "\n",
    "import seaborn as sns\n",
    "import missingno as msno\n",
    "\n",
    "# Validation\n",
    "from sklearn.model_selection import RepeatedStratifiedKFold\n",
    "from sklearn.model_selection import train_test_split\n",
    "\n",
    "# Scoring\n",
    "from sklearn.metrics import f1_score\n",
    "\n",
    "# Model & AutoML\n",
    "import catboost\n",
    "import optuna"
   ]
  },
  {
   "cell_type": "code",
   "execution_count": 2,
   "id": "7ee207fa",
   "metadata": {},
   "outputs": [],
   "source": [
    "def seed_everything(seed):\n",
    "    random.seed(seed)\n",
    "    os.environ['PYTHONHASHSEED'] = str(seed)\n",
    "    np.random.seed(seed)\n",
    "seed_everything(37) # Seed 고정"
   ]
  },
  {
   "cell_type": "code",
   "execution_count": 3,
   "id": "f2bb4982",
   "metadata": {},
   "outputs": [],
   "source": [
    "train = pd.read_csv('./train.csv')\n",
    "test = pd.read_csv('./test.csv')\n",
    "subm = pd.read_csv('./sample_submission.csv')"
   ]
  },
  {
   "cell_type": "code",
   "execution_count": 4,
   "id": "87a392cc",
   "metadata": {},
   "outputs": [
    {
     "data": {
      "text/html": [
       "<div>\n",
       "<style scoped>\n",
       "    .dataframe tbody tr th:only-of-type {\n",
       "        vertical-align: middle;\n",
       "    }\n",
       "\n",
       "    .dataframe tbody tr th {\n",
       "        vertical-align: top;\n",
       "    }\n",
       "\n",
       "    .dataframe thead th {\n",
       "        text-align: right;\n",
       "    }\n",
       "</style>\n",
       "<table border=\"1\" class=\"dataframe\">\n",
       "  <thead>\n",
       "    <tr style=\"text-align: right;\">\n",
       "      <th></th>\n",
       "      <th>PRODUCT_ID</th>\n",
       "      <th>Y_Class</th>\n",
       "      <th>Y_Quality</th>\n",
       "      <th>TIMESTAMP</th>\n",
       "      <th>LINE</th>\n",
       "      <th>PRODUCT_CODE</th>\n",
       "      <th>X_1</th>\n",
       "      <th>X_2</th>\n",
       "      <th>X_3</th>\n",
       "      <th>X_4</th>\n",
       "      <th>...</th>\n",
       "      <th>X_2866</th>\n",
       "      <th>X_2867</th>\n",
       "      <th>X_2868</th>\n",
       "      <th>X_2869</th>\n",
       "      <th>X_2870</th>\n",
       "      <th>X_2871</th>\n",
       "      <th>X_2872</th>\n",
       "      <th>X_2873</th>\n",
       "      <th>X_2874</th>\n",
       "      <th>X_2875</th>\n",
       "    </tr>\n",
       "  </thead>\n",
       "  <tbody>\n",
       "    <tr>\n",
       "      <th>0</th>\n",
       "      <td>TRAIN_000</td>\n",
       "      <td>1</td>\n",
       "      <td>0.533433</td>\n",
       "      <td>2022-06-13 5:14</td>\n",
       "      <td>T050304</td>\n",
       "      <td>A_31</td>\n",
       "      <td>NaN</td>\n",
       "      <td>NaN</td>\n",
       "      <td>NaN</td>\n",
       "      <td>NaN</td>\n",
       "      <td>...</td>\n",
       "      <td>39.34</td>\n",
       "      <td>40.89</td>\n",
       "      <td>32.56</td>\n",
       "      <td>34.09</td>\n",
       "      <td>77.77</td>\n",
       "      <td>NaN</td>\n",
       "      <td>NaN</td>\n",
       "      <td>NaN</td>\n",
       "      <td>NaN</td>\n",
       "      <td>NaN</td>\n",
       "    </tr>\n",
       "    <tr>\n",
       "      <th>1</th>\n",
       "      <td>TRAIN_001</td>\n",
       "      <td>2</td>\n",
       "      <td>0.541819</td>\n",
       "      <td>2022-06-13 5:22</td>\n",
       "      <td>T050307</td>\n",
       "      <td>A_31</td>\n",
       "      <td>NaN</td>\n",
       "      <td>NaN</td>\n",
       "      <td>NaN</td>\n",
       "      <td>NaN</td>\n",
       "      <td>...</td>\n",
       "      <td>38.89</td>\n",
       "      <td>42.82</td>\n",
       "      <td>43.92</td>\n",
       "      <td>35.34</td>\n",
       "      <td>72.55</td>\n",
       "      <td>NaN</td>\n",
       "      <td>NaN</td>\n",
       "      <td>NaN</td>\n",
       "      <td>NaN</td>\n",
       "      <td>NaN</td>\n",
       "    </tr>\n",
       "    <tr>\n",
       "      <th>2</th>\n",
       "      <td>TRAIN_002</td>\n",
       "      <td>1</td>\n",
       "      <td>0.531267</td>\n",
       "      <td>2022-06-13 5:30</td>\n",
       "      <td>T050304</td>\n",
       "      <td>A_31</td>\n",
       "      <td>NaN</td>\n",
       "      <td>NaN</td>\n",
       "      <td>NaN</td>\n",
       "      <td>NaN</td>\n",
       "      <td>...</td>\n",
       "      <td>39.19</td>\n",
       "      <td>36.65</td>\n",
       "      <td>42.47</td>\n",
       "      <td>36.53</td>\n",
       "      <td>78.35</td>\n",
       "      <td>NaN</td>\n",
       "      <td>NaN</td>\n",
       "      <td>NaN</td>\n",
       "      <td>NaN</td>\n",
       "      <td>NaN</td>\n",
       "    </tr>\n",
       "    <tr>\n",
       "      <th>3</th>\n",
       "      <td>TRAIN_003</td>\n",
       "      <td>2</td>\n",
       "      <td>0.537325</td>\n",
       "      <td>2022-06-13 5:39</td>\n",
       "      <td>T050307</td>\n",
       "      <td>A_31</td>\n",
       "      <td>NaN</td>\n",
       "      <td>NaN</td>\n",
       "      <td>NaN</td>\n",
       "      <td>NaN</td>\n",
       "      <td>...</td>\n",
       "      <td>37.74</td>\n",
       "      <td>39.17</td>\n",
       "      <td>52.17</td>\n",
       "      <td>30.58</td>\n",
       "      <td>71.78</td>\n",
       "      <td>NaN</td>\n",
       "      <td>NaN</td>\n",
       "      <td>NaN</td>\n",
       "      <td>NaN</td>\n",
       "      <td>NaN</td>\n",
       "    </tr>\n",
       "    <tr>\n",
       "      <th>4</th>\n",
       "      <td>TRAIN_004</td>\n",
       "      <td>1</td>\n",
       "      <td>0.531590</td>\n",
       "      <td>2022-06-13 5:47</td>\n",
       "      <td>T050304</td>\n",
       "      <td>A_31</td>\n",
       "      <td>NaN</td>\n",
       "      <td>NaN</td>\n",
       "      <td>NaN</td>\n",
       "      <td>NaN</td>\n",
       "      <td>...</td>\n",
       "      <td>38.70</td>\n",
       "      <td>41.89</td>\n",
       "      <td>46.93</td>\n",
       "      <td>33.09</td>\n",
       "      <td>76.97</td>\n",
       "      <td>NaN</td>\n",
       "      <td>NaN</td>\n",
       "      <td>NaN</td>\n",
       "      <td>NaN</td>\n",
       "      <td>NaN</td>\n",
       "    </tr>\n",
       "  </tbody>\n",
       "</table>\n",
       "<p>5 rows × 2881 columns</p>\n",
       "</div>"
      ],
      "text/plain": [
       "  PRODUCT_ID  Y_Class  Y_Quality        TIMESTAMP     LINE PRODUCT_CODE  X_1  \\\n",
       "0  TRAIN_000        1   0.533433  2022-06-13 5:14  T050304         A_31  NaN   \n",
       "1  TRAIN_001        2   0.541819  2022-06-13 5:22  T050307         A_31  NaN   \n",
       "2  TRAIN_002        1   0.531267  2022-06-13 5:30  T050304         A_31  NaN   \n",
       "3  TRAIN_003        2   0.537325  2022-06-13 5:39  T050307         A_31  NaN   \n",
       "4  TRAIN_004        1   0.531590  2022-06-13 5:47  T050304         A_31  NaN   \n",
       "\n",
       "   X_2  X_3  X_4  ...  X_2866  X_2867  X_2868  X_2869  X_2870  X_2871  X_2872  \\\n",
       "0  NaN  NaN  NaN  ...   39.34   40.89   32.56   34.09   77.77     NaN     NaN   \n",
       "1  NaN  NaN  NaN  ...   38.89   42.82   43.92   35.34   72.55     NaN     NaN   \n",
       "2  NaN  NaN  NaN  ...   39.19   36.65   42.47   36.53   78.35     NaN     NaN   \n",
       "3  NaN  NaN  NaN  ...   37.74   39.17   52.17   30.58   71.78     NaN     NaN   \n",
       "4  NaN  NaN  NaN  ...   38.70   41.89   46.93   33.09   76.97     NaN     NaN   \n",
       "\n",
       "   X_2873  X_2874  X_2875  \n",
       "0     NaN     NaN     NaN  \n",
       "1     NaN     NaN     NaN  \n",
       "2     NaN     NaN     NaN  \n",
       "3     NaN     NaN     NaN  \n",
       "4     NaN     NaN     NaN  \n",
       "\n",
       "[5 rows x 2881 columns]"
      ]
     },
     "execution_count": 4,
     "metadata": {},
     "output_type": "execute_result"
    }
   ],
   "source": [
    "train.head()"
   ]
  },
  {
   "cell_type": "code",
   "execution_count": 5,
   "id": "a79dca04",
   "metadata": {},
   "outputs": [],
   "source": [
    "train['PRODUCT_CODE'] = train['PRODUCT_CODE'].astype('category')\n",
    "train['LINE'] = train['LINE'].astype('category')\n",
    "\n",
    "test['PRODUCT_CODE'] = test['PRODUCT_CODE'].astype('category')\n",
    "test['LINE'] = test['LINE'].astype('category')"
   ]
  },
  {
   "cell_type": "code",
   "execution_count": 6,
   "id": "0a8bfe74",
   "metadata": {},
   "outputs": [],
   "source": [
    "# train에서 열의 유일한 값이 nan이거나 모두 같은 값인 경우 해당 열을 제외\n",
    "def remove_col(train_df):\n",
    "    for x in train_df.columns[6:]:\n",
    "        if train_df[x].nunique()==0 or len(train_df[x].unique())==1: # nan 이거나 모두 같은 값인 경우\n",
    "            train_df.drop(columns=[x], inplace=True)\n",
    "    return train_df\n",
    "\n",
    "train = remove_col(train)"
   ]
  },
  {
   "cell_type": "code",
   "execution_count": 7,
   "id": "9b596197",
   "metadata": {},
   "outputs": [],
   "source": [
    "train_x, train_y = train.drop(columns=['Y_Class', 'PRODUCT_ID', 'TIMESTAMP', 'Y_Quality']), train['Y_Class']\n",
    "test = test[train_x.columns]"
   ]
  },
  {
   "cell_type": "code",
   "execution_count": 8,
   "id": "6689b7bd",
   "metadata": {},
   "outputs": [
    {
     "data": {
      "text/html": [
       "<div>\n",
       "<style scoped>\n",
       "    .dataframe tbody tr th:only-of-type {\n",
       "        vertical-align: middle;\n",
       "    }\n",
       "\n",
       "    .dataframe tbody tr th {\n",
       "        vertical-align: top;\n",
       "    }\n",
       "\n",
       "    .dataframe thead th {\n",
       "        text-align: right;\n",
       "    }\n",
       "</style>\n",
       "<table border=\"1\" class=\"dataframe\">\n",
       "  <thead>\n",
       "    <tr style=\"text-align: right;\">\n",
       "      <th></th>\n",
       "      <th>LINE</th>\n",
       "      <th>PRODUCT_CODE</th>\n",
       "      <th>X_1</th>\n",
       "      <th>X_2</th>\n",
       "      <th>X_3</th>\n",
       "      <th>X_4</th>\n",
       "      <th>X_5</th>\n",
       "      <th>X_6</th>\n",
       "      <th>X_7</th>\n",
       "      <th>X_8</th>\n",
       "      <th>...</th>\n",
       "      <th>X_2862</th>\n",
       "      <th>X_2863</th>\n",
       "      <th>X_2864</th>\n",
       "      <th>X_2865</th>\n",
       "      <th>X_2866</th>\n",
       "      <th>X_2867</th>\n",
       "      <th>X_2868</th>\n",
       "      <th>X_2869</th>\n",
       "      <th>X_2870</th>\n",
       "      <th>X_2871</th>\n",
       "    </tr>\n",
       "  </thead>\n",
       "  <tbody>\n",
       "    <tr>\n",
       "      <th>0</th>\n",
       "      <td>T050304</td>\n",
       "      <td>A_31</td>\n",
       "      <td>NaN</td>\n",
       "      <td>NaN</td>\n",
       "      <td>NaN</td>\n",
       "      <td>NaN</td>\n",
       "      <td>NaN</td>\n",
       "      <td>NaN</td>\n",
       "      <td>NaN</td>\n",
       "      <td>NaN</td>\n",
       "      <td>...</td>\n",
       "      <td>189.0</td>\n",
       "      <td>383.0</td>\n",
       "      <td>368.296296</td>\n",
       "      <td>353.0</td>\n",
       "      <td>39.34</td>\n",
       "      <td>40.89</td>\n",
       "      <td>32.56</td>\n",
       "      <td>34.09</td>\n",
       "      <td>77.77</td>\n",
       "      <td>NaN</td>\n",
       "    </tr>\n",
       "    <tr>\n",
       "      <th>1</th>\n",
       "      <td>T050307</td>\n",
       "      <td>A_31</td>\n",
       "      <td>NaN</td>\n",
       "      <td>NaN</td>\n",
       "      <td>NaN</td>\n",
       "      <td>NaN</td>\n",
       "      <td>NaN</td>\n",
       "      <td>NaN</td>\n",
       "      <td>NaN</td>\n",
       "      <td>NaN</td>\n",
       "      <td>...</td>\n",
       "      <td>185.6</td>\n",
       "      <td>383.0</td>\n",
       "      <td>367.735849</td>\n",
       "      <td>353.0</td>\n",
       "      <td>38.89</td>\n",
       "      <td>42.82</td>\n",
       "      <td>43.92</td>\n",
       "      <td>35.34</td>\n",
       "      <td>72.55</td>\n",
       "      <td>NaN</td>\n",
       "    </tr>\n",
       "    <tr>\n",
       "      <th>2</th>\n",
       "      <td>T050304</td>\n",
       "      <td>A_31</td>\n",
       "      <td>NaN</td>\n",
       "      <td>NaN</td>\n",
       "      <td>NaN</td>\n",
       "      <td>NaN</td>\n",
       "      <td>NaN</td>\n",
       "      <td>NaN</td>\n",
       "      <td>NaN</td>\n",
       "      <td>NaN</td>\n",
       "      <td>...</td>\n",
       "      <td>165.5</td>\n",
       "      <td>383.0</td>\n",
       "      <td>367.320755</td>\n",
       "      <td>353.0</td>\n",
       "      <td>39.19</td>\n",
       "      <td>36.65</td>\n",
       "      <td>42.47</td>\n",
       "      <td>36.53</td>\n",
       "      <td>78.35</td>\n",
       "      <td>NaN</td>\n",
       "    </tr>\n",
       "    <tr>\n",
       "      <th>3</th>\n",
       "      <td>T050307</td>\n",
       "      <td>A_31</td>\n",
       "      <td>NaN</td>\n",
       "      <td>NaN</td>\n",
       "      <td>NaN</td>\n",
       "      <td>NaN</td>\n",
       "      <td>NaN</td>\n",
       "      <td>NaN</td>\n",
       "      <td>NaN</td>\n",
       "      <td>NaN</td>\n",
       "      <td>...</td>\n",
       "      <td>165.8</td>\n",
       "      <td>384.0</td>\n",
       "      <td>369.188679</td>\n",
       "      <td>353.0</td>\n",
       "      <td>37.74</td>\n",
       "      <td>39.17</td>\n",
       "      <td>52.17</td>\n",
       "      <td>30.58</td>\n",
       "      <td>71.78</td>\n",
       "      <td>NaN</td>\n",
       "    </tr>\n",
       "    <tr>\n",
       "      <th>4</th>\n",
       "      <td>T050304</td>\n",
       "      <td>A_31</td>\n",
       "      <td>NaN</td>\n",
       "      <td>NaN</td>\n",
       "      <td>NaN</td>\n",
       "      <td>NaN</td>\n",
       "      <td>NaN</td>\n",
       "      <td>NaN</td>\n",
       "      <td>NaN</td>\n",
       "      <td>NaN</td>\n",
       "      <td>...</td>\n",
       "      <td>182.6</td>\n",
       "      <td>383.0</td>\n",
       "      <td>367.351852</td>\n",
       "      <td>352.0</td>\n",
       "      <td>38.70</td>\n",
       "      <td>41.89</td>\n",
       "      <td>46.93</td>\n",
       "      <td>33.09</td>\n",
       "      <td>76.97</td>\n",
       "      <td>NaN</td>\n",
       "    </tr>\n",
       "  </tbody>\n",
       "</table>\n",
       "<p>5 rows × 2795 columns</p>\n",
       "</div>"
      ],
      "text/plain": [
       "      LINE PRODUCT_CODE  X_1  X_2  X_3  X_4  X_5  X_6  X_7  X_8  ...  X_2862  \\\n",
       "0  T050304         A_31  NaN  NaN  NaN  NaN  NaN  NaN  NaN  NaN  ...   189.0   \n",
       "1  T050307         A_31  NaN  NaN  NaN  NaN  NaN  NaN  NaN  NaN  ...   185.6   \n",
       "2  T050304         A_31  NaN  NaN  NaN  NaN  NaN  NaN  NaN  NaN  ...   165.5   \n",
       "3  T050307         A_31  NaN  NaN  NaN  NaN  NaN  NaN  NaN  NaN  ...   165.8   \n",
       "4  T050304         A_31  NaN  NaN  NaN  NaN  NaN  NaN  NaN  NaN  ...   182.6   \n",
       "\n",
       "   X_2863      X_2864  X_2865  X_2866  X_2867  X_2868  X_2869  X_2870  X_2871  \n",
       "0   383.0  368.296296   353.0   39.34   40.89   32.56   34.09   77.77     NaN  \n",
       "1   383.0  367.735849   353.0   38.89   42.82   43.92   35.34   72.55     NaN  \n",
       "2   383.0  367.320755   353.0   39.19   36.65   42.47   36.53   78.35     NaN  \n",
       "3   384.0  369.188679   353.0   37.74   39.17   52.17   30.58   71.78     NaN  \n",
       "4   383.0  367.351852   352.0   38.70   41.89   46.93   33.09   76.97     NaN  \n",
       "\n",
       "[5 rows x 2795 columns]"
      ]
     },
     "execution_count": 8,
     "metadata": {},
     "output_type": "execute_result"
    }
   ],
   "source": [
    "train_x.head()"
   ]
  },
  {
   "cell_type": "markdown",
   "id": "39b2555d",
   "metadata": {},
   "source": [
    "### catboost cv"
   ]
  },
  {
   "cell_type": "code",
   "execution_count": 9,
   "id": "1a908d32",
   "metadata": {},
   "outputs": [
    {
     "data": {
      "text/plain": [
       "1    407\n",
       "2    103\n",
       "0     88\n",
       "Name: Y_Class, dtype: int64"
      ]
     },
     "execution_count": 9,
     "metadata": {},
     "output_type": "execute_result"
    }
   ],
   "source": [
    "train_y.value_counts()"
   ]
  },
  {
   "cell_type": "markdown",
   "id": "513a719e",
   "metadata": {},
   "source": [
    "* RepeatedStratifiedKFold를 활용하면 추후 test set의 결과를 추정할 수 있다.\n",
    "* rskfold를 활용한 결과를 개선해나가는 것이 목표"
   ]
  },
  {
   "cell_type": "code",
   "execution_count": 11,
   "id": "5b9c4025",
   "metadata": {
    "scrolled": true
   },
   "outputs": [
    {
     "name": "stderr",
     "output_type": "stream",
     "text": [
      "14it [05:13, 22.41s/it]"
     ]
    },
    {
     "name": "stdout",
     "output_type": "stream",
     "text": [
      "0.5092731829573934 ~ 0.7709365721997301\n",
      "mean : 0.6723316586148718\n"
     ]
    },
    {
     "name": "stderr",
     "output_type": "stream",
     "text": [
      "\n"
     ]
    }
   ],
   "source": [
    "rskfold = RepeatedStratifiedKFold(n_splits=7, n_repeats=2)\n",
    "\n",
    "f1_list = []\n",
    "for fold, (train_index, val_index) in enumerate(tqdm(rskfold.split(train_x, train_y))):\n",
    "    x_trn, x_val, y_trn, y_val = train_x.loc[train_index], train_x.loc[val_index], train_y.loc[train_index], train_y.loc[val_index]\n",
    "\n",
    "    clf = catboost.CatBoostClassifier(verbose=0, task_type='GPU') # cpu -> thread_count=5\n",
    "    clf.fit(x_trn, y_trn, early_stopping_rounds=100, cat_features=['PRODUCT_CODE', 'LINE'])\n",
    "    f1_list.append(f1_score(clf.predict(x_val), y_val, average='macro'))\n",
    "    \n",
    "print(f'{min(f1_list)} ~ {max(f1_list)}')\n",
    "print('mean :', np.mean(f1_list))"
   ]
  },
  {
   "cell_type": "markdown",
   "id": "6f6de3cb",
   "metadata": {},
   "source": [
    "### Feature importance"
   ]
  },
  {
   "cell_type": "markdown",
   "id": "56cca278",
   "metadata": {},
   "source": [
    "* Feature Importance는 학습된 모델에서 주로 사용된 컬럼들을 나타내기 때문에, 학습에 도움이 되지 않은 컬럼을 지워준다고 해도 \n",
    "test predict에 영향력이 적다. 또한, 줄어든 컬럼으로 학습 방식이 바뀌고, overfit을 완화하여 더 나은 결과를 유도할 수 있다.\n",
    "\n",
    "* Permutation Importance는 train_x에서 분할된 validation_set을 학습한 모델에서의 영향력을 보여주는 지표이다.\n",
    " validation set은 train으로부터 분리된 영역이므로 train에서의 영향력을 나타내는 지표이다.\n",
    " train에서는 여러 값이 존재하는 컬럼이 test에서는 nan만 존재하는 컬럼일 수 있다. 따라서 test set에서의 영향력을 판단하기 어렵다.\n",
    " 그래서 permutation importance는 활용하지 않기로 한다.\n",
    "\n"
   ]
  },
  {
   "cell_type": "code",
   "execution_count": 23,
   "id": "8c06f211",
   "metadata": {
    "scrolled": true
   },
   "outputs": [
    {
     "data": {
      "image/png": "[encoded data removed]",
      "text/plain": [
       "<Figure size 720x1080 with 1 Axes>"
      ]
     },
     "metadata": {
      "needs_background": "light"
     },
     "output_type": "display_data"
    }
   ],
   "source": [
    "# 10번의 학습을 진행하고, 이 경우 영향력이 있는 모든 컬럼을 조사한다.\n",
    "feat_list = []\n",
    "for _ in tqdm(range(10)):\n",
    "    clf = catboost.CatBoostClassifier(verbose=0, task_type='GPU')\n",
    "    clf.fit(train_x, train_y, early_stopping_rounds=100, cat_features=['PRODUCT_CODE', 'LINE'])\n",
    "\n",
    "    feat_list.append(clf.feature_importances_)\n",
    "\n",
    "feat_list = np.array(feat_list)\n",
    "feat_max = np.array([max(feat_list[:, i]) for i in range(len(feat_list[0]))])\n",
    "feature_imp = pd.Series(feat_max, index=train_x.columns).sort_values(ascending=False)[:20].sort_values()\n",
    "train_x = train_x[train_x.columns[feat_max>0]]\n",
    "test = test[train_x.columns]\n",
    "\n",
    "# Visualization\n",
    "plt.rcParams[\"figure.figsize\"] = (10, 15)\n",
    "\n",
    "plt.barh(feature_imp.index, feature_imp)\n",
    "plt.title('Feature_importance')\n",
    "plt.show()"
   ]
  },
  {
   "cell_type": "code",
   "execution_count": 105,
   "id": "f653a792",
   "metadata": {
    "scrolled": true
   },
   "outputs": [
    {
     "name": "stdout",
     "output_type": "stream",
     "text": [
      "\"X_1\", \"X_2\", \"X_7\", \"X_8\", \"X_11\", \"X_12\", \"X_13\", \"X_17\", \"X_18\", \"X_20\", \"X_21\", \"X_22\", \"X_24\", \"X_38\", \"X_40\", \"X_41\", \"X_42\", \"X_43\", \"X_44\", \"X_45\", \"X_48\", \"X_49\", \"X_51\", \"X_53\", \"X_56\", \"X_58\", \"X_60\", \"X_61\", \"X_62\", \"X_63\", \"X_65\", \"X_73\", \"X_90\", \"X_97\", \"X_98\", \"X_99\", \"X_101\", \"X_102\", \"X_103\", \"X_105\", \"X_106\", \"X_107\", \"X_109\", \"X_110\", \"X_111\", \"X_113\", \"X_114\", \"X_117\", \"X_118\", \"X_119\", \"X_120\", \"X_121\", \"X_123\", \"X_124\", \"X_125\", \"X_126\", \"X_127\", \"X_128\", \"X_129\", \"X_130\", \"X_131\", \"X_134\", \"X_136\", \"X_137\", \"X_138\", \"X_139\", \"X_140\", \"X_141\", \"X_146\", \"X_148\", \"X_149\", \"X_150\", \"X_152\", \"X_156\", \"X_157\", \"X_176\", \"X_179\", \"X_183\", \"X_189\", \"X_197\", \"X_211\", \"X_214\", \"X_217\", \"X_218\", \"X_223\", \"X_228\", \"X_240\", \"X_242\", \"X_243\", \"X_247\", \"X_248\", \"X_251\", \"X_256\", \"X_257\", \"X_258\", \"X_261\", \"X_262\", \"X_263\", \"X_265\", \"X_266\", \"X_267\", \"X_270\", \"X_283\", \"X_285\", \"X_286\", \"X_287\", \"X_288\", \"X_289\", \"X_290\", \"X_291\", \"X_292\", \"X_293\", \"X_294\", \"X_295\", \"X_300\", \"X_301\", \"X_303\", \"X_304\", \"X_305\", \"X_306\", \"X_307\", \"X_308\", \"X_309\", \"X_310\", \"X_318\", \"X_335\", \"X_337\", \"X_338\", \"X_339\", \"X_344\", \"X_345\", \"X_346\", \"X_348\", \"X_349\", \"X_350\", \"X_352\", \"X_353\", \"X_354\", \"X_356\", \"X_358\", \"X_364\", \"X_365\", \"X_366\", \"X_367\", \"X_368\", \"X_370\", \"X_371\", \"X_372\", \"X_373\", \"X_374\", \"X_379\", \"X_380\", \"X_384\", \"X_385\", \"X_386\", \"X_387\", \"X_388\", \"X_389\", \"X_394\", \"X_395\", \"X_396\", \"X_397\", \"X_398\", \"X_399\", \"X_400\", \"X_401\", \"X_402\", \"X_403\", \"X_404\", \"X_405\", \"X_406\", \"X_407\", \"X_408\", \"X_412\", \"X_413\", \"X_414\", \"X_415\", \"X_416\", \"X_417\", \"X_418\", \"X_419\", \"X_420\", \"X_421\", \"X_422\", \"X_423\", \"X_428\", \"X_435\", \"X_436\", \"X_437\", \"X_438\", \"X_439\", \"X_440\", \"X_441\", \"X_442\", \"X_443\", \"X_444\", \"X_445\", \"X_446\", \"X_447\", \"X_448\", \"X_449\", \"X_450\", \"X_451\", \"X_452\", \"X_453\", \"X_454\", \"X_455\", \"X_456\", \"X_457\", \"X_458\", \"X_459\", \"X_460\", \"X_461\", \"X_462\", \"X_463\", \"X_464\", \"X_465\", \"X_468\", \"X_469\", \"X_470\", \"X_471\", \"X_472\", \"X_473\", \"X_474\", \"X_475\", \"X_476\", \"X_477\", \"X_478\", \"X_481\", \"X_482\", \"X_483\", \"X_484\", \"X_485\", \"X_486\", \"X_489\", \"X_490\", \"X_491\", \"X_492\", \"X_493\", \"X_494\", \"X_495\", \"X_496\", \"X_497\", \"X_498\", \"X_499\", \"X_500\", \"X_501\", \"X_502\", \"X_506\", \"X_507\", \"X_510\", \"X_511\", \"X_513\", \"X_514\", \"X_515\", \"X_516\", \"X_517\", \"X_518\", \"X_520\", \"X_521\", \"X_523\", \"X_524\", \"X_525\", \"X_526\", \"X_527\", \"X_528\", \"X_529\", \"X_530\", \"X_531\", \"X_532\", \"X_533\", \"X_534\", \"X_535\", \"X_536\", \"X_537\", \"X_538\", \"X_539\", \"X_540\", \"X_541\", \"X_543\", \"X_544\", \"X_545\", \"X_546\", \"X_547\", \"X_548\", \"X_549\", \"X_550\", \"X_552\", \"X_553\", \"X_554\", \"X_555\", \"X_556\", \"X_557\", \"X_559\", \"X_560\", \"X_562\", \"X_563\", \"X_564\", \"X_565\", \"X_566\", \"X_568\", \"X_569\", \"X_570\", \"X_571\", \"X_572\", \"X_573\", \"X_574\", \"X_576\", \"X_577\", \"X_578\", \"X_580\", \"X_581\", \"X_582\", \"X_584\", \"X_585\", \"X_586\", \"X_587\", \"X_588\", \"X_589\", \"X_590\", \"X_591\", \"X_592\", \"X_593\", \"X_594\", \"X_595\", \"X_596\", \"X_597\", \"X_598\", \"X_599\", \"X_601\", \"X_603\", \"X_604\", \"X_605\", \"X_606\", \"X_607\", \"X_608\", \"X_609\", \"X_610\", \"X_611\", \"X_613\", \"X_614\", \"X_615\", \"X_616\", \"X_618\", \"X_619\", \"X_621\", \"X_622\", \"X_623\", \"X_624\", \"X_627\", \"X_628\", \"X_632\", \"X_635\", \"X_637\", \"X_643\", \"X_644\", \"X_645\", \"X_646\", \"X_647\", \"X_648\", \"X_649\", \"X_651\", \"X_652\", \"X_653\", \"X_654\", \"X_655\", \"X_656\", \"X_657\", \"X_658\", \"X_659\", \"X_660\", \"X_661\", \"X_662\", \"X_663\", \"X_664\", \"X_665\", \"X_667\", \"X_668\", \"X_669\", \"X_670\", \"X_671\", \"X_674\", \"X_675\", \"X_677\", \"X_678\", \"X_679\", \"X_680\", \"X_681\", \"X_682\", \"X_683\", \"X_684\", \"X_686\", \"X_687\", \"X_688\", \"X_690\", \"X_693\", \"X_694\", \"X_696\", \"X_697\", \"X_698\", \"X_700\", \"X_701\", \"X_702\", \"X_703\", \"X_704\", \"X_705\", \"X_706\", \"X_707\", \"X_708\", \"X_709\", \"X_710\", \"X_711\", \"X_712\", \"X_713\", \"X_714\", \"X_716\", \"X_717\", \"X_718\", \"X_719\", \"X_720\", \"X_722\", \"X_723\", \"X_724\", \"X_725\", \"X_726\", \"X_727\", \"X_728\", \"X_731\", \"X_733\", \"X_734\", \"X_735\", \"X_736\", \"X_737\", \"X_739\", \"X_741\", \"X_742\", \"X_744\", \"X_745\", \"X_747\", \"X_748\", \"X_751\", \"X_752\", \"X_753\", \"X_754\", \"X_755\", \"X_756\", \"X_757\", \"X_758\", \"X_762\", \"X_763\", \"X_765\", \"X_766\", \"X_767\", \"X_769\", \"X_771\", \"X_772\", \"X_773\", \"X_774\", \"X_775\", \"X_780\", \"X_781\", \"X_783\", \"X_784\", \"X_785\", \"X_786\", \"X_788\", \"X_789\", \"X_790\", \"X_791\", \"X_792\", \"X_793\", \"X_794\", \"X_795\", \"X_796\", \"X_798\", \"X_800\", \"X_802\", \"X_803\", \"X_804\", \"X_807\", \"X_808\", \"X_810\", \"X_811\", \"X_813\", \"X_814\", \"X_815\", \"X_816\", \"X_817\", \"X_818\", \"X_819\", \"X_820\", \"X_821\", \"X_822\", \"X_823\", \"X_824\", \"X_825\", \"X_827\", \"X_828\", \"X_830\", \"X_831\", \"X_833\", \"X_834\", \"X_835\", \"X_837\", \"X_838\", \"X_840\", \"X_841\", \"X_842\", \"X_845\", \"X_846\", \"X_848\", \"X_850\", \"X_852\", \"X_853\", \"X_854\", \"X_855\", \"X_856\", \"X_861\", \"X_863\", \"X_864\", \"X_865\", \"X_866\", \"X_867\", \"X_870\", \"X_871\", \"X_875\", \"X_876\", \"X_877\", \"X_878\", \"X_882\", \"X_883\", \"X_884\", \"X_885\", \"X_890\", \"X_891\", \"X_892\", \"X_893\", \"X_894\", \"X_895\", \"X_896\", \"X_897\", \"X_898\", \"X_899\", \"X_901\", \"X_905\", \"X_907\", \"X_908\", \"X_909\", \"X_911\", \"X_913\", \"X_914\", \"X_915\", \"X_916\", \"X_917\", \"X_918\", \"X_919\", \"X_921\", \"X_922\", \"X_923\", \"X_924\", \"X_925\", \"X_926\", \"X_927\", \"X_928\", \"X_929\", \"X_931\", \"X_932\", \"X_938\", \"X_939\", \"X_940\", \"X_941\", \"X_942\", \"X_943\", \"X_944\", \"X_945\", \"X_947\", \"X_948\", \"X_949\", \"X_953\", \"X_954\", \"X_955\", \"X_956\", \"X_957\", \"X_958\", \"X_959\", \"X_960\", \"X_961\", \"X_963\", \"X_964\", \"X_965\", \"X_966\", \"X_967\", \"X_968\", \"X_972\", \"X_973\", \"X_974\", \"X_975\", \"X_976\", \"X_977\", \"X_978\", \"X_979\", \"X_980\", \"X_981\", \"X_982\", \"X_983\", \"X_984\", \"X_985\", \"X_986\", \"X_991\", \"X_993\", \"X_994\", \"X_995\", \"X_996\", \"X_997\", \"X_998\", \"X_999\", \"X_1000\", \"X_1001\", \"X_1002\", \"X_1010\", \"X_1012\", \"X_1013\", \"X_1014\", \"X_1015\", \"X_1016\", \"X_1017\", \"X_1018\", \"X_1019\", \"X_1026\", \"X_1027\", \"X_1029\", \"X_1030\", \"X_1031\", \"X_1033\", \"X_1034\", \"X_1035\", \"X_1036\", \"X_1037\", \"X_1038\", \"X_1040\", \"X_1041\", \"X_1042\", \"X_1043\", \"X_1044\", \"X_1045\", \"X_1046\", \"X_1047\", \"X_1048\", \"X_1049\", \"X_1050\", \"X_1051\", \"X_1052\", \"X_1053\", \"X_1054\", \"X_1055\", \"X_1056\", \"X_1057\", \"X_1058\", \"X_1059\", \"X_1060\", \"X_1062\", \"X_1063\", \"X_1064\", \"X_1065\", \"X_1067\", \"X_1069\", \"X_1071\", \"X_1072\", \"X_1073\", \"X_1074\", \"X_1075\", \"X_1076\", \"X_1077\", \"X_1078\", \"X_1079\", \"X_1080\", \"X_1081\", \"X_1082\", \"X_1083\", \"X_1084\", \"X_1086\", \"X_1088\", \"X_1089\", \"X_1090\", \"X_1091\", \"X_1094\", \"X_1096\", \"X_1097\", \"X_1098\", \"X_1099\", \"X_1100\", \"X_1101\", \"X_1102\", \"X_1104\", \"X_1105\", \"X_1106\", \"X_1107\", \"X_1108\", \"X_1109\", \"X_1110\", \"X_1111\", \"X_1112\", \"X_1113\", \"X_1114\", \"X_1115\", \"X_1116\", \"X_1117\", \"X_1118\", \"X_1120\", \"X_1121\", \"X_1122\", \"X_1123\", \"X_1124\", \"X_1125\", \"X_1126\", \"X_1127\", \"X_1128\", \"X_1129\", \"X_1131\", \"X_1132\", \"X_1133\", \"X_1134\", \"X_1135\", \"X_1136\", \"X_1138\", \"X_1140\", \"X_1142\", \"X_1143\", \"X_1145\", \"X_1147\", \"X_1148\", \"X_1149\", \"X_1151\", \"X_1152\", \"X_1153\", \"X_1154\", \"X_1155\", \"X_1156\", \"X_1158\", \"X_1159\", \"X_1160\", \"X_1161\", \"X_1162\", \"X_1163\", \"X_1164\", \"X_1165\", \"X_1166\", \"X_1168\", \"X_1170\", \"X_1171\", \"X_1172\", \"X_1173\", \"X_1175\", \"X_1176\", \"X_1177\", \"X_1178\", \"X_1179\", \"X_1180\", \"X_1181\", \"X_1182\", \"X_1183\", \"X_1184\", \"X_1185\", \"X_1187\", \"X_1188\", \"X_1189\", \"X_1190\", \"X_1191\", \"X_1192\", \"X_1194\", \"X_1195\", \"X_1196\", \"X_1197\", \"X_1198\", \"X_1199\", \"X_1202\", \"X_1203\", \"X_1204\", \"X_1205\", \"X_1207\", \"X_1208\", \"X_1209\", \"X_1210\", \"X_1211\", \"X_1212\", \"X_1213\", \"X_1214\", \"X_1215\", \"X_1217\", \"X_1218\", \"X_1220\", \"X_1221\", \"X_1222\", \"X_1223\", \"X_1224\", \"X_1225\", \"X_1226\", \"X_1227\", \"X_1228\", \"X_1229\", \"X_1230\", \"X_1231\", \"X_1232\", \"X_1233\", \"X_1235\", \"X_1236\", \"X_1237\", \"X_1238\", \"X_1239\", \"X_1240\", \"X_1243\", \"X_1244\", \"X_1245\", \"X_1246\", \"X_1256\", \"X_1257\", \"X_1258\", \"X_1260\", \"X_1261\", \"X_1262\", \"X_1263\", \"X_1264\", \"X_1265\", \"X_1266\", \"X_1267\", \"X_1270\", \"X_1271\", \"X_1272\", \"X_1273\", \"X_1274\", \"X_1275\", \"X_1276\", \"X_1277\", \"X_1278\", \"X_1279\", \"X_1280\", \"X_1281\", \"X_1282\", \"X_1283\", \"X_1285\", \"X_1286\", \"X_1287\", \"X_1288\", \"X_1289\", \"X_1291\", \"X_1292\", \"X_1294\", \"X_1295\", \"X_1297\", \"X_1300\", \"X_1301\", \"X_1303\", \"X_1304\", \"X_1305\", \"X_1306\", \"X_1310\", \"X_1313\", \"X_1315\", \"X_1321\", \"X_1322\", \"X_1323\", \"X_1324\", \"X_1325\", \"X_1326\", \"X_1327\", \"X_1329\", \"X_1330\", \"X_1331\", \"X_1332\", \"X_1333\", \"X_1335\", \"X_1336\", \"X_1337\", \"X_1338\", \"X_1339\", \"X_1340\", \"X_1341\", \"X_1342\", \"X_1343\", \"X_1344\", \"X_1345\", \"X_1346\", \"X_1347\", \"X_1348\", \"X_1349\", \"X_1350\", \"X_1351\", \"X_1352\", \"X_1353\", \"X_1354\", \"X_1355\", \"X_1356\", \"X_1357\", \"X_1358\", \"X_1359\", \"X_1365\", \"X_1366\", \"X_1368\", \"X_1369\", \"X_1370\", \"X_1371\", \"X_1372\", \"X_1373\", \"X_1374\", \"X_1375\", \"X_1376\", \"X_1378\", \"X_1379\", \"X_1380\", \"X_1381\", \"X_1382\", \"X_1383\", \"X_1384\", \"X_1385\", \"X_1386\", \"X_1387\", \"X_1388\", \"X_1389\", \"X_1390\", \"X_1391\", \"X_1398\", \"X_1400\", \"X_1401\", \"X_1402\", \"X_1403\", \"X_1404\", \"X_1405\", \"X_1406\", \"X_1408\", \"X_1409\", \"X_1410\", \"X_1411\", \"X_1412\", \"X_1413\", \"X_1414\", \"X_1415\", \"X_1416\", \"X_1417\", \"X_1418\", \"X_1419\", \"X_1420\", \"X_1421\", \"X_1422\", \"X_1423\", \"X_1424\", \"X_1425\", \"X_1427\", \"X_1428\", \"X_1429\", \"X_1430\", \"X_1433\", \"X_1434\", \"X_1435\", \"X_1436\", \"X_1437\", \"X_1439\", \"X_1440\", \"X_1441\", \"X_1442\", \"X_1443\", \"X_1444\", \"X_1445\", \"X_1447\", \"X_1448\", \"X_1449\", \"X_1450\", \"X_1453\", \"X_1454\", \"X_1456\", \"X_1459\", \"X_1460\", \"X_1461\", \"X_1463\", \"X_1464\", \"X_1465\", \"X_1466\", \"X_1467\", \"X_1469\", \"X_1471\", \"X_1472\", \"X_1473\", \"X_1476\", \"X_1477\", \"X_1479\", \"X_1480\", \"X_1482\", \"X_1485\", \"X_1486\", \"X_1489\", \"X_1492\", \"X_1493\", \"X_1494\", \"X_1495\", \"X_1496\", \"X_1497\", \"X_1498\", \"X_1499\", \"X_1500\", \"X_1501\", \"X_1505\", \"X_1506\", \"X_1507\", \"X_1508\", \"X_1510\", \"X_1512\", \"X_1515\", \"X_1517\", \"X_1518\", \"X_1520\", \"X_1521\", \"X_1526\", \"X_1527\", \"X_1528\", \"X_1530\", \"X_1532\", \"X_1533\", \"X_1534\", \"X_1535\", \"X_1536\", \"X_1538\", \"X_1539\", \"X_1542\", \"X_1543\", \"X_1544\", \"X_1545\", \"X_1546\", \"X_1547\", \"X_1548\", \"X_1549\", \"X_1550\", \"X_1551\", \"X_1552\", \"X_1553\", \"X_1554\", \"X_1556\", \"X_1557\", \"X_1558\", \"X_1560\", \"X_1561\", \"X_1562\", \"X_1563\", \"X_1564\", \"X_1565\", \"X_1566\", \"X_1567\", \"X_1568\", \"X_1569\", \"X_1570\", \"X_1584\", \"X_1586\", \"X_1587\", \"X_1588\", \"X_1589\", \"X_1590\", \"X_1591\", \"X_1593\", \"X_1598\", \"X_1601\", \"X_1603\", \"X_1604\", \"X_1607\", \"X_1608\", \"X_1609\", \"X_1610\", \"X_1611\", \"X_1612\", \"X_1613\", \"X_1614\", \"X_1615\", \"X_1616\", \"X_1617\", \"X_1618\", \"X_1619\", \"X_1620\", \"X_1621\", \"X_1622\", \"X_1623\", \"X_1625\", \"X_1626\", \"X_1629\", \"X_1630\", \"X_1632\", \"X_1633\", \"X_1634\", \"X_1635\", \"X_1636\", \"X_1637\", \"X_1638\", \"X_1639\", \"X_1640\", \"X_1641\", \"X_1642\", \"X_1643\", \"X_1646\", \"X_1647\", \"X_1649\", \"X_1651\", \"X_1652\", \"X_1653\", \"X_1654\", \"X_1655\", \"X_1657\", \"X_1658\", \"X_1659\", \"X_1660\", \"X_1663\", \"X_1664\", \"X_1665\", \"X_1666\", \"X_1667\", \"X_1668\", \"X_1669\", \"X_1670\", \"X_1671\", \"X_1672\", \"X_1678\", \"X_1679\", \"X_1686\", \"X_1690\", \"X_1694\", \"X_1696\", \"X_1697\", \"X_1704\", \"X_1705\", \"X_1706\", \"X_1708\", \"X_1710\", \"X_1712\", \"X_1713\", \"X_1714\", \"X_1715\", \"X_1716\", \"X_1718\", \"X_1720\", \"X_1725\", \"X_1726\", \"X_1732\", \"X_1734\", \"X_1735\", \"X_1736\", \"X_1737\", \"X_1738\", \"X_1739\", \"X_1740\", \"X_1743\", \"X_1744\", \"X_1746\", \"X_1747\", \"X_1748\", \"X_1750\", \"X_1751\", \"X_1752\", \"X_1756\", \"X_1757\", \"X_1758\", \"X_1762\", \"X_1763\", \"X_1764\", \"X_1768\", \"X_1769\", \"X_1770\", \"X_1774\", \"X_1775\", \"X_1776\", \"X_1780\", \"X_1781\", \"X_1782\", \"X_1786\", \"X_1787\", \"X_1788\", \"X_1792\", \"X_1793\", \"X_1794\", \"X_1798\", \"X_1799\", \"X_1800\", \"X_1804\", \"X_1805\", \"X_1806\", \"X_1809\", \"X_1810\", \"X_1812\", \"X_1813\", \"X_1814\", \"X_1816\", \"X_1817\", \"X_1818\", \"X_1820\", \"X_1821\", \"X_1822\", \"X_1824\", \"X_1826\", \"X_1829\", \"X_1830\", \"X_1832\", \"X_1833\", \"X_1834\", \"X_1843\", \"X_1849\", \"X_1850\", \"X_1853\", \"X_1854\", \"X_1856\", \"X_1858\", \"X_1859\", \"X_1860\", \"X_1862\", \"X_1864\", \"X_1866\", \"X_1874\", \"X_1875\", \"X_1877\", \"X_1880\", \"X_1884\", \"X_1885\", \"X_1886\", \"X_1888\", \"X_1892\", \"X_1894\", \"X_1906\", \"X_1908\", \"X_1910\", \"X_1916\", \"X_1918\", \"X_1919\", \"X_1921\", \"X_1923\", \"X_1924\", \"X_1926\", \"X_1928\", \"X_1930\", \"X_1931\", \"X_1932\", \"X_1933\", \"X_1934\", \"X_1936\", \"X_1938\", \"X_1940\", \"X_1942\", \"X_1945\", \"X_1947\", \"X_1948\", \"X_1949\", \"X_1950\", \"X_1951\", \"X_1952\", \"X_1953\", \"X_1954\", \"X_1955\", \"X_1956\", \"X_1957\", \"X_1958\", \"X_1959\", \"X_1961\", \"X_1963\", \"X_1964\", \"X_1965\", \"X_1966\", \"X_1967\", \"X_1968\", \"X_1974\", \"X_1986\", \"X_1990\", \"X_1992\", \"X_1998\", \"X_2011\", \"X_2012\", \"X_2016\", \"X_2017\", \"X_2018\", \"X_2019\", \"X_2020\", \"X_2021\", \"X_2022\", \"X_2024\", \"X_2025\", \"X_2026\", \"X_2027\", \"X_2028\", \"X_2034\", \"X_2040\", \"X_2041\", \"X_2044\", \"X_2045\", \"X_2047\", \"X_2048\", \"X_2049\", \"X_2050\", \"X_2051\", \"X_2056\", \"X_2057\", \"X_2058\", \"X_2062\", \"X_2063\", \"X_2064\", \"X_2065\", \"X_2066\", \"X_2067\", \"X_2068\", \"X_2069\", \"X_2070\", \"X_2071\", \"X_2072\", \"X_2073\", \"X_2075\", \"X_2077\", \"X_2078\", \"X_2079\", \"X_2080\", \"X_2081\", \"X_2082\", \"X_2083\", \"X_2084\", \"X_2085\", \"X_2086\", \"X_2087\", \"X_2088\", \"X_2089\", \"X_2090\", \"X_2092\", \"X_2093\", \"X_2094\", \"X_2095\", \"X_2096\", \"X_2097\", \"X_2098\", \"X_2099\", \"X_2100\", \"X_2101\", \"X_2102\", \"X_2103\", \"X_2104\", \"X_2105\", \"X_2106\", \"X_2107\", \"X_2109\", \"X_2110\", \"X_2111\", \"X_2114\", \"X_2117\", \"X_2122\", \"X_2123\", \"X_2124\", \"X_2125\", \"X_2131\", \"X_2141\", \"X_2156\", \"X_2162\", \"X_2164\", \"X_2187\", \"X_2190\", \"X_2191\", \"X_2196\", \"X_2198\", \"X_2202\", \"X_2203\", \"X_2204\", \"X_2205\", \"X_2210\", \"X_2212\", \"X_2213\", \"X_2242\", \"X_2243\", \"X_2257\", \"X_2277\", \"X_2298\", \"X_2306\", \"X_2315\", \"X_2317\", \"X_2319\", \"X_2346\", \"X_2386\", \"X_2388\", \"X_2408\", \"X_2409\", \"X_2411\", \"X_2412\", \"X_2413\", \"X_2415\", \"X_2418\", \"X_2421\", \"X_2422\", \"X_2423\", \"X_2426\", \"X_2428\", \"X_2429\", \"X_2430\", \"X_2431\", \"X_2434\", \"X_2437\", \"X_2440\", \"X_2446\", \"X_2447\", \"X_2449\", \"X_2452\", \"X_2455\", \"X_2458\", \"X_2466\", \"X_2467\", \"X_2470\", \"X_2471\", \"X_2472\", \"X_2473\", \"X_2481\", \"X_2486\", \"X_2512\", \"X_2514\", \"X_2521\", \"X_2527\", \"X_2540\", \"X_2541\", \"X_2547\", \"X_2551\", \"X_2552\", \"X_2553\", \"X_2554\", \"X_2555\", \"X_2567\", \"X_2577\", \"X_2700\", \"X_2701\", \"X_2702\", \"X_2703\", \"X_2704\", \"X_2705\", \"X_2706\", \"X_2707\", \"X_2708\", \"X_2709\", \"X_2710\", \"X_2711\", \"X_2713\", \"X_2714\", \"X_2715\", \"X_2716\", \"X_2717\", \"X_2718\", \"X_2719\", \"X_2721\", \"X_2722\", \"X_2724\", \"X_2725\", \"X_2728\", \"X_2731\", \"X_2734\", \"X_2735\", \"X_2736\", \"X_2739\", \"X_2741\", \"X_2742\", \"X_2743\", \"X_2744\", \"X_2745\", \"X_2747\", \"X_2750\", \"X_2753\", \"X_2757\", \"X_2759\", \"X_2762\", \"X_2768\", \"X_2771\", \"X_2779\", \"X_2780\", \"X_2781\", \"X_2782\", \"X_2785\", \"X_2787\", \"X_2788\", \"X_2790\", \"X_2791\", \"X_2792\", \"X_2793\", \"X_2794\", \"X_2796\", \"X_2797\", \"X_2798\", \"X_2800\", \"X_2801\", \"X_2803\", \"X_2804\", \"X_2810\", \"X_2816\", \"X_2839\", \"X_2840\", \"X_2841\", \"X_2842\", \"X_2843\", \"X_2846\", \"X_2848\", \"X_2849\", \"X_2850\", \"X_2851\", \"X_2852\", \"X_2853\", \"X_2854\", \"X_2855\", \"X_2856\", \"X_2857\", \"X_2859\", \"X_2860\", \"X_2861\", \"X_2862\", \"X_2863\", \"X_2864\", \"X_2865\", \"X_2866\", \"X_2867\", \"X_2870\", "
     ]
    }
   ],
   "source": [
    "# # 영향력이 있는 모든 컬럼\n",
    "# for c in train_x.columns[feat_max>0]:\n",
    "#     print(f'\"{c}\"', end=', ')"
   ]
  },
  {
   "cell_type": "code",
   "execution_count": 9,
   "id": "241225aa",
   "metadata": {},
   "outputs": [],
   "source": [
    "# 시도할 때마다 컬럼 수의 차이가 있다. 따라서 이 곳에 저장한 컬럼을 활용한다.\n",
    "feat_max = [\"X_1\", \"X_2\", \"X_7\", \"X_8\", \"X_11\", \"X_12\", \"X_13\", \"X_17\", \"X_18\", \"X_20\", \"X_21\", \"X_22\", \"X_24\", \"X_38\", \"X_40\", \"X_41\", \"X_42\", \"X_43\", \"X_44\", \"X_45\", \"X_48\", \"X_49\", \"X_51\", \"X_53\", \"X_56\", \"X_58\", \"X_60\", \"X_61\", \"X_62\", \"X_63\", \"X_65\", \"X_73\", \"X_90\", \"X_97\", \"X_98\", \"X_99\", \"X_101\", \"X_102\", \"X_103\", \"X_105\", \"X_106\", \"X_107\", \"X_109\", \"X_110\", \"X_111\", \"X_113\", \"X_114\", \"X_117\", \"X_118\", \"X_119\", \"X_120\", \"X_121\", \"X_123\", \"X_124\", \"X_125\", \"X_126\", \"X_127\", \"X_128\", \"X_129\", \"X_130\", \"X_131\", \"X_134\", \"X_136\", \"X_137\", \"X_138\", \"X_139\", \"X_140\", \"X_141\", \"X_146\", \"X_148\", \"X_149\", \"X_150\", \"X_152\", \"X_156\", \"X_157\", \"X_176\", \"X_179\", \"X_183\", \"X_189\", \"X_197\", \"X_211\", \"X_214\", \"X_217\", \"X_218\", \"X_223\", \"X_228\", \"X_240\", \"X_242\", \"X_243\", \"X_247\", \"X_248\", \"X_251\", \"X_256\", \"X_257\", \"X_258\", \"X_261\", \"X_262\", \"X_263\", \"X_265\", \"X_266\", \"X_267\", \"X_270\", \"X_283\", \"X_285\", \"X_286\", \"X_287\", \"X_288\", \"X_289\", \"X_290\", \"X_291\", \"X_292\", \"X_293\", \"X_294\", \"X_295\", \"X_300\", \"X_301\", \"X_303\", \"X_304\", \"X_305\", \"X_306\", \"X_307\", \"X_308\", \"X_309\", \"X_310\", \"X_318\", \"X_335\", \"X_337\", \"X_338\", \"X_339\", \"X_344\", \"X_345\", \"X_346\", \"X_348\", \"X_349\", \"X_350\", \"X_352\", \"X_353\", \"X_354\", \"X_356\", \"X_358\", \"X_364\", \"X_365\", \"X_366\", \"X_367\", \"X_368\", \"X_370\", \"X_371\", \"X_372\", \"X_373\", \"X_374\", \"X_379\", \"X_380\", \"X_384\", \"X_385\", \"X_386\", \"X_387\", \"X_388\", \"X_389\", \"X_394\", \"X_395\", \"X_396\", \"X_397\", \"X_398\", \"X_399\", \"X_400\", \"X_401\", \"X_402\", \"X_403\", \"X_404\", \"X_405\", \"X_406\", \"X_407\", \"X_408\", \"X_412\", \"X_413\", \"X_414\", \"X_415\", \"X_416\", \"X_417\", \"X_418\", \"X_419\", \"X_420\", \"X_421\", \"X_422\", \"X_423\", \"X_428\", \"X_435\", \"X_436\", \"X_437\", \"X_438\", \"X_439\", \"X_440\", \"X_441\", \"X_442\", \"X_443\", \"X_444\", \"X_445\", \"X_446\", \"X_447\", \"X_448\", \"X_449\", \"X_450\", \"X_451\", \"X_452\", \"X_453\", \"X_454\", \"X_455\", \"X_456\", \"X_457\", \"X_458\", \"X_459\", \"X_460\", \"X_461\", \"X_462\", \"X_463\", \"X_464\", \"X_465\", \"X_468\", \"X_469\", \"X_470\", \"X_471\", \"X_472\", \"X_473\", \"X_474\", \"X_475\", \"X_476\", \"X_477\", \"X_478\", \"X_481\", \"X_482\", \"X_483\", \"X_484\", \"X_485\", \"X_486\", \"X_489\", \"X_490\", \"X_491\", \"X_492\", \"X_493\", \"X_494\", \"X_495\", \"X_496\", \"X_497\", \"X_498\", \"X_499\", \"X_500\", \"X_501\", \"X_502\", \"X_506\", \"X_507\", \"X_510\", \"X_511\", \"X_513\", \"X_514\", \"X_515\", \"X_516\", \"X_517\", \"X_518\", \"X_520\", \"X_521\", \"X_523\", \"X_524\", \"X_525\", \"X_526\", \"X_527\", \"X_528\", \"X_529\", \"X_530\", \"X_531\", \"X_532\", \"X_533\", \"X_534\", \"X_535\", \"X_536\", \"X_537\", \"X_538\", \"X_539\", \"X_540\", \"X_541\", \"X_543\", \"X_544\", \"X_545\", \"X_546\", \"X_547\", \"X_548\", \"X_549\", \"X_550\", \"X_552\", \"X_553\", \"X_554\", \"X_555\", \"X_556\", \"X_557\", \"X_559\", \"X_560\", \"X_562\", \"X_563\", \"X_564\", \"X_565\", \"X_566\", \"X_568\", \"X_569\", \"X_570\", \"X_571\", \"X_572\", \"X_573\", \"X_574\", \"X_576\", \"X_577\", \"X_578\", \"X_580\", \"X_581\", \"X_582\", \"X_584\", \"X_585\", \"X_586\", \"X_587\", \"X_588\", \"X_589\", \"X_590\", \"X_591\", \"X_592\", \"X_593\", \"X_594\", \"X_595\", \"X_596\", \"X_597\", \"X_598\", \"X_599\", \"X_601\", \"X_603\", \"X_604\", \"X_605\", \"X_606\", \"X_607\", \"X_608\", \"X_609\", \"X_610\", \"X_611\", \"X_613\", \"X_614\", \"X_615\", \"X_616\", \"X_618\", \"X_619\", \"X_621\", \"X_622\", \"X_623\", \"X_624\", \"X_627\", \"X_628\", \"X_632\", \"X_635\", \"X_637\", \"X_643\", \"X_644\", \"X_645\", \"X_646\", \"X_647\", \"X_648\", \"X_649\", \"X_651\", \"X_652\", \"X_653\", \"X_654\", \"X_655\", \"X_656\", \"X_657\", \"X_658\", \"X_659\", \"X_660\", \"X_661\", \"X_662\", \"X_663\", \"X_664\", \"X_665\", \"X_667\", \"X_668\", \"X_669\", \"X_670\", \"X_671\", \"X_674\", \"X_675\", \"X_677\", \"X_678\", \"X_679\", \"X_680\", \"X_681\", \"X_682\", \"X_683\", \"X_684\", \"X_686\", \"X_687\", \"X_688\", \"X_690\", \"X_693\", \"X_694\", \"X_696\", \"X_697\", \"X_698\", \"X_700\", \"X_701\", \"X_702\", \"X_703\", \"X_704\", \"X_705\", \"X_706\", \"X_707\", \"X_708\", \"X_709\", \"X_710\", \"X_711\", \"X_712\", \"X_713\", \"X_714\", \"X_716\", \"X_717\", \"X_718\", \"X_719\", \"X_720\", \"X_722\", \"X_723\", \"X_724\", \"X_725\", \"X_726\", \"X_727\", \"X_728\", \"X_731\", \"X_733\", \"X_734\", \"X_735\", \"X_736\", \"X_737\", \"X_739\", \"X_741\", \"X_742\", \"X_744\", \"X_745\", \"X_747\", \"X_748\", \"X_751\", \"X_752\", \"X_753\", \"X_754\", \"X_755\", \"X_756\", \"X_757\", \"X_758\", \"X_762\", \"X_763\", \"X_765\", \"X_766\", \"X_767\", \"X_769\", \"X_771\", \"X_772\", \"X_773\", \"X_774\", \"X_775\", \"X_780\", \"X_781\", \"X_783\", \"X_784\", \"X_785\", \"X_786\", \"X_788\", \"X_789\", \"X_790\", \"X_791\", \"X_792\", \"X_793\", \"X_794\", \"X_795\", \"X_796\", \"X_798\", \"X_800\", \"X_802\", \"X_803\", \"X_804\", \"X_807\", \"X_808\", \"X_810\", \"X_811\", \"X_813\", \"X_814\", \"X_815\", \"X_816\", \"X_817\", \"X_818\", \"X_819\", \"X_820\", \"X_821\", \"X_822\", \"X_823\", \"X_824\", \"X_825\", \"X_827\", \"X_828\", \"X_830\", \"X_831\", \"X_833\", \"X_834\", \"X_835\", \"X_837\", \"X_838\", \"X_840\", \"X_841\", \"X_842\", \"X_845\", \"X_846\", \"X_848\", \"X_850\", \"X_852\", \"X_853\", \"X_854\", \"X_855\", \"X_856\", \"X_861\", \"X_863\", \"X_864\", \"X_865\", \"X_866\", \"X_867\", \"X_870\", \"X_871\", \"X_875\", \"X_876\", \"X_877\", \"X_878\", \"X_882\", \"X_883\", \"X_884\", \"X_885\", \"X_890\", \"X_891\", \"X_892\", \"X_893\", \"X_894\", \"X_895\", \"X_896\", \"X_897\", \"X_898\", \"X_899\", \"X_901\", \"X_905\", \"X_907\", \"X_908\", \"X_909\", \"X_911\", \"X_913\", \"X_914\", \"X_915\", \"X_916\", \"X_917\", \"X_918\", \"X_919\", \"X_921\", \"X_922\", \"X_923\", \"X_924\", \"X_925\", \"X_926\", \"X_927\", \"X_928\", \"X_929\", \"X_931\", \"X_932\", \"X_938\", \"X_939\", \"X_940\", \"X_941\", \"X_942\", \"X_943\", \"X_944\", \"X_945\", \"X_947\", \"X_948\", \"X_949\", \"X_953\", \"X_954\", \"X_955\", \"X_956\", \"X_957\", \"X_958\", \"X_959\", \"X_960\", \"X_961\", \"X_963\", \"X_964\", \"X_965\", \"X_966\", \"X_967\", \"X_968\", \"X_972\", \"X_973\", \"X_974\", \"X_975\", \"X_976\", \"X_977\", \"X_978\", \"X_979\", \"X_980\", \"X_981\", \"X_982\", \"X_983\", \"X_984\", \"X_985\", \"X_986\", \"X_991\", \"X_993\", \"X_994\", \"X_995\", \"X_996\", \"X_997\", \"X_998\", \"X_999\", \"X_1000\", \"X_1001\", \"X_1002\", \"X_1010\", \"X_1012\", \"X_1013\", \"X_1014\", \"X_1015\", \"X_1016\", \"X_1017\", \"X_1018\", \"X_1019\", \"X_1026\", \"X_1027\", \"X_1029\", \"X_1030\", \"X_1031\", \"X_1033\", \"X_1034\", \"X_1035\", \"X_1036\", \"X_1037\", \"X_1038\", \"X_1040\", \"X_1041\", \"X_1042\", \"X_1043\", \"X_1044\", \"X_1045\", \"X_1046\", \"X_1047\", \"X_1048\", \"X_1049\", \"X_1050\", \"X_1051\", \"X_1052\", \"X_1053\", \"X_1054\", \"X_1055\", \"X_1056\", \"X_1057\", \"X_1058\", \"X_1059\", \"X_1060\", \"X_1062\", \"X_1063\", \"X_1064\", \"X_1065\", \"X_1067\", \"X_1069\", \"X_1071\", \"X_1072\", \"X_1073\", \"X_1074\", \"X_1075\", \"X_1076\", \"X_1077\", \"X_1078\", \"X_1079\", \"X_1080\", \"X_1081\", \"X_1082\", \"X_1083\", \"X_1084\", \"X_1086\", \"X_1088\", \"X_1089\", \"X_1090\", \"X_1091\", \"X_1094\", \"X_1096\", \"X_1097\", \"X_1098\", \"X_1099\", \"X_1100\", \"X_1101\", \"X_1102\", \"X_1104\", \"X_1105\", \"X_1106\", \"X_1107\", \"X_1108\", \"X_1109\", \"X_1110\", \"X_1111\", \"X_1112\", \"X_1113\", \"X_1114\", \"X_1115\", \"X_1116\", \"X_1117\", \"X_1118\", \"X_1120\", \"X_1121\", \"X_1122\", \"X_1123\", \"X_1124\", \"X_1125\", \"X_1126\", \"X_1127\", \"X_1128\", \"X_1129\", \"X_1131\", \"X_1132\", \"X_1133\", \"X_1134\", \"X_1135\", \"X_1136\", \"X_1138\", \"X_1140\", \"X_1142\", \"X_1143\", \"X_1145\", \"X_1147\", \"X_1148\", \"X_1149\", \"X_1151\", \"X_1152\", \"X_1153\", \"X_1154\", \"X_1155\", \"X_1156\", \"X_1158\", \"X_1159\", \"X_1160\", \"X_1161\", \"X_1162\", \"X_1163\", \"X_1164\", \"X_1165\", \"X_1166\", \"X_1168\", \"X_1170\", \"X_1171\", \"X_1172\", \"X_1173\", \"X_1175\", \"X_1176\", \"X_1177\", \"X_1178\", \"X_1179\", \"X_1180\", \"X_1181\", \"X_1182\", \"X_1183\", \"X_1184\", \"X_1185\", \"X_1187\", \"X_1188\", \"X_1189\", \"X_1190\", \"X_1191\", \"X_1192\", \"X_1194\", \"X_1195\", \"X_1196\", \"X_1197\", \"X_1198\", \"X_1199\", \"X_1202\", \"X_1203\", \"X_1204\", \"X_1205\", \"X_1207\", \"X_1208\", \"X_1209\", \"X_1210\", \"X_1211\", \"X_1212\", \"X_1213\", \"X_1214\", \"X_1215\", \"X_1217\", \"X_1218\", \"X_1220\", \"X_1221\", \"X_1222\", \"X_1223\", \"X_1224\", \"X_1225\", \"X_1226\", \"X_1227\", \"X_1228\", \"X_1229\", \"X_1230\", \"X_1231\", \"X_1232\", \"X_1233\", \"X_1235\", \"X_1236\", \"X_1237\", \"X_1238\", \"X_1239\", \"X_1240\", \"X_1243\", \"X_1244\", \"X_1245\", \"X_1246\", \"X_1256\", \"X_1257\", \"X_1258\", \"X_1260\", \"X_1261\", \"X_1262\", \"X_1263\", \"X_1264\", \"X_1265\", \"X_1266\", \"X_1267\", \"X_1270\", \"X_1271\", \"X_1272\", \"X_1273\", \"X_1274\", \"X_1275\", \"X_1276\", \"X_1277\", \"X_1278\", \"X_1279\", \"X_1280\", \"X_1281\", \"X_1282\", \"X_1283\", \"X_1285\", \"X_1286\", \"X_1287\", \"X_1288\", \"X_1289\", \"X_1291\", \"X_1292\", \"X_1294\", \"X_1295\", \"X_1297\", \"X_1300\", \"X_1301\", \"X_1303\", \"X_1304\", \"X_1305\", \"X_1306\", \"X_1310\", \"X_1313\", \"X_1315\", \"X_1321\", \"X_1322\", \"X_1323\", \"X_1324\", \"X_1325\", \"X_1326\", \"X_1327\", \"X_1329\", \"X_1330\", \"X_1331\", \"X_1332\", \"X_1333\", \"X_1335\", \"X_1336\", \"X_1337\", \"X_1338\", \"X_1339\", \"X_1340\", \"X_1341\", \"X_1342\", \"X_1343\", \"X_1344\", \"X_1345\", \"X_1346\", \"X_1347\", \"X_1348\", \"X_1349\", \"X_1350\", \"X_1351\", \"X_1352\", \"X_1353\", \"X_1354\", \"X_1355\", \"X_1356\", \"X_1357\", \"X_1358\", \"X_1359\", \"X_1365\", \"X_1366\", \"X_1368\", \"X_1369\", \"X_1370\", \"X_1371\", \"X_1372\", \"X_1373\", \"X_1374\", \"X_1375\", \"X_1376\", \"X_1378\", \"X_1379\", \"X_1380\", \"X_1381\", \"X_1382\", \"X_1383\", \"X_1384\", \"X_1385\", \"X_1386\", \"X_1387\", \"X_1388\", \"X_1389\", \"X_1390\", \"X_1391\", \"X_1398\", \"X_1400\", \"X_1401\", \"X_1402\", \"X_1403\", \"X_1404\", \"X_1405\", \"X_1406\", \"X_1408\", \"X_1409\", \"X_1410\", \"X_1411\", \"X_1412\", \"X_1413\", \"X_1414\", \"X_1415\", \"X_1416\", \"X_1417\", \"X_1418\", \"X_1419\", \"X_1420\", \"X_1421\", \"X_1422\", \"X_1423\", \"X_1424\", \"X_1425\", \"X_1427\", \"X_1428\", \"X_1429\", \"X_1430\", \"X_1433\", \"X_1434\", \"X_1435\", \"X_1436\", \"X_1437\", \"X_1439\", \"X_1440\", \"X_1441\", \"X_1442\", \"X_1443\", \"X_1444\", \"X_1445\", \"X_1447\", \"X_1448\", \"X_1449\", \"X_1450\", \"X_1453\", \"X_1454\", \"X_1456\", \"X_1459\", \"X_1460\", \"X_1461\", \"X_1463\", \"X_1464\", \"X_1465\", \"X_1466\", \"X_1467\", \"X_1469\", \"X_1471\", \"X_1472\", \"X_1473\", \"X_1476\", \"X_1477\", \"X_1479\", \"X_1480\", \"X_1482\", \"X_1485\", \"X_1486\", \"X_1489\", \"X_1492\", \"X_1493\", \"X_1494\", \"X_1495\", \"X_1496\", \"X_1497\", \"X_1498\", \"X_1499\", \"X_1500\", \"X_1501\", \"X_1505\", \"X_1506\", \"X_1507\", \"X_1508\", \"X_1510\", \"X_1512\", \"X_1515\", \"X_1517\", \"X_1518\", \"X_1520\", \"X_1521\", \"X_1526\", \"X_1527\", \"X_1528\", \"X_1530\", \"X_1532\", \"X_1533\", \"X_1534\", \"X_1535\", \"X_1536\", \"X_1538\", \"X_1539\", \"X_1542\", \"X_1543\", \"X_1544\", \"X_1545\", \"X_1546\", \"X_1547\", \"X_1548\", \"X_1549\", \"X_1550\", \"X_1551\", \"X_1552\", \"X_1553\", \"X_1554\", \"X_1556\", \"X_1557\", \"X_1558\", \"X_1560\", \"X_1561\", \"X_1562\", \"X_1563\", \"X_1564\", \"X_1565\", \"X_1566\", \"X_1567\", \"X_1568\", \"X_1569\", \"X_1570\", \"X_1584\", \"X_1586\", \"X_1587\", \"X_1588\", \"X_1589\", \"X_1590\", \"X_1591\", \"X_1593\", \"X_1598\", \"X_1601\", \"X_1603\", \"X_1604\", \"X_1607\", \"X_1608\", \"X_1609\", \"X_1610\", \"X_1611\", \"X_1612\", \"X_1613\", \"X_1614\", \"X_1615\", \"X_1616\", \"X_1617\", \"X_1618\", \"X_1619\", \"X_1620\", \"X_1621\", \"X_1622\", \"X_1623\", \"X_1625\", \"X_1626\", \"X_1629\", \"X_1630\", \"X_1632\", \"X_1633\", \"X_1634\", \"X_1635\", \"X_1636\", \"X_1637\", \"X_1638\", \"X_1639\", \"X_1640\", \"X_1641\", \"X_1642\", \"X_1643\", \"X_1646\", \"X_1647\", \"X_1649\", \"X_1651\", \"X_1652\", \"X_1653\", \"X_1654\", \"X_1655\", \"X_1657\", \"X_1658\", \"X_1659\", \"X_1660\", \"X_1663\", \"X_1664\", \"X_1665\", \"X_1666\", \"X_1667\", \"X_1668\", \"X_1669\", \"X_1670\", \"X_1671\", \"X_1672\", \"X_1678\", \"X_1679\", \"X_1686\", \"X_1690\", \"X_1694\", \"X_1696\", \"X_1697\", \"X_1704\", \"X_1705\", \"X_1706\", \"X_1708\", \"X_1710\", \"X_1712\", \"X_1713\", \"X_1714\", \"X_1715\", \"X_1716\", \"X_1718\", \"X_1720\", \"X_1725\", \"X_1726\", \"X_1732\", \"X_1734\", \"X_1735\", \"X_1736\", \"X_1737\", \"X_1738\", \"X_1739\", \"X_1740\", \"X_1743\", \"X_1744\", \"X_1746\", \"X_1747\", \"X_1748\", \"X_1750\", \"X_1751\", \"X_1752\", \"X_1756\", \"X_1757\", \"X_1758\", \"X_1762\", \"X_1763\", \"X_1764\", \"X_1768\", \"X_1769\", \"X_1770\", \"X_1774\", \"X_1775\", \"X_1776\", \"X_1780\", \"X_1781\", \"X_1782\", \"X_1786\", \"X_1787\", \"X_1788\", \"X_1792\", \"X_1793\", \"X_1794\", \"X_1798\", \"X_1799\", \"X_1800\", \"X_1804\", \"X_1805\", \"X_1806\", \"X_1809\", \"X_1810\", \"X_1812\", \"X_1813\", \"X_1814\", \"X_1816\", \"X_1817\", \"X_1818\", \"X_1820\", \"X_1821\", \"X_1822\", \"X_1824\", \"X_1826\", \"X_1829\", \"X_1830\", \"X_1832\", \"X_1833\", \"X_1834\", \"X_1843\", \"X_1849\", \"X_1850\", \"X_1853\", \"X_1854\", \"X_1856\", \"X_1858\", \"X_1859\", \"X_1860\", \"X_1862\", \"X_1864\", \"X_1866\", \"X_1874\", \"X_1875\", \"X_1877\", \"X_1880\", \"X_1884\", \"X_1885\", \"X_1886\", \"X_1888\", \"X_1892\", \"X_1894\", \"X_1906\", \"X_1908\", \"X_1910\", \"X_1916\", \"X_1918\", \"X_1919\", \"X_1921\", \"X_1923\", \"X_1924\", \"X_1926\", \"X_1928\", \"X_1930\", \"X_1931\", \"X_1932\", \"X_1933\", \"X_1934\", \"X_1936\", \"X_1938\", \"X_1940\", \"X_1942\", \"X_1945\", \"X_1947\", \"X_1948\", \"X_1949\", \"X_1950\", \"X_1951\", \"X_1952\", \"X_1953\", \"X_1954\", \"X_1955\", \"X_1956\", \"X_1957\", \"X_1958\", \"X_1959\", \"X_1961\", \"X_1963\", \"X_1964\", \"X_1965\", \"X_1966\", \"X_1967\", \"X_1968\", \"X_1974\", \"X_1986\", \"X_1990\", \"X_1992\", \"X_1998\", \"X_2011\", \"X_2012\", \"X_2016\", \"X_2017\", \"X_2018\", \"X_2019\", \"X_2020\", \"X_2021\", \"X_2022\", \"X_2024\", \"X_2025\", \"X_2026\", \"X_2027\", \"X_2028\", \"X_2034\", \"X_2040\", \"X_2041\", \"X_2044\", \"X_2045\", \"X_2047\", \"X_2048\", \"X_2049\", \"X_2050\", \"X_2051\", \"X_2056\", \"X_2057\", \"X_2058\", \"X_2062\", \"X_2063\", \"X_2064\", \"X_2065\", \"X_2066\", \"X_2067\", \"X_2068\", \"X_2069\", \"X_2070\", \"X_2071\", \"X_2072\", \"X_2073\", \"X_2075\", \"X_2077\", \"X_2078\", \"X_2079\", \"X_2080\", \"X_2081\", \"X_2082\", \"X_2083\", \"X_2084\", \"X_2085\", \"X_2086\", \"X_2087\", \"X_2088\", \"X_2089\", \"X_2090\", \"X_2092\", \"X_2093\", \"X_2094\", \"X_2095\", \"X_2096\", \"X_2097\", \"X_2098\", \"X_2099\", \"X_2100\", \"X_2101\", \"X_2102\", \"X_2103\", \"X_2104\", \"X_2105\", \"X_2106\", \"X_2107\", \"X_2109\", \"X_2110\", \"X_2111\", \"X_2114\", \"X_2117\", \"X_2122\", \"X_2123\", \"X_2124\", \"X_2125\", \"X_2131\", \"X_2141\", \"X_2156\", \"X_2162\", \"X_2164\", \"X_2187\", \"X_2190\", \"X_2191\", \"X_2196\", \"X_2198\", \"X_2202\", \"X_2203\", \"X_2204\", \"X_2205\", \"X_2210\", \"X_2212\", \"X_2213\", \"X_2242\", \"X_2243\", \"X_2257\", \"X_2277\", \"X_2298\", \"X_2306\", \"X_2315\", \"X_2317\", \"X_2319\", \"X_2346\", \"X_2386\", \"X_2388\", \"X_2408\", \"X_2409\", \"X_2411\", \"X_2412\", \"X_2413\", \"X_2415\", \"X_2418\", \"X_2421\", \"X_2422\", \"X_2423\", \"X_2426\", \"X_2428\", \"X_2429\", \"X_2430\", \"X_2431\", \"X_2434\", \"X_2437\", \"X_2440\", \"X_2446\", \"X_2447\", \"X_2449\", \"X_2452\", \"X_2455\", \"X_2458\", \"X_2466\", \"X_2467\", \"X_2470\", \"X_2471\", \"X_2472\", \"X_2473\", \"X_2481\", \"X_2486\", \"X_2512\", \"X_2514\", \"X_2521\", \"X_2527\", \"X_2540\", \"X_2541\", \"X_2547\", \"X_2551\", \"X_2552\", \"X_2553\", \"X_2554\", \"X_2555\", \"X_2567\", \"X_2577\", \"X_2700\", \"X_2701\", \"X_2702\", \"X_2703\", \"X_2704\", \"X_2705\", \"X_2706\", \"X_2707\", \"X_2708\", \"X_2709\", \"X_2710\", \"X_2711\", \"X_2713\", \"X_2714\", \"X_2715\", \"X_2716\", \"X_2717\", \"X_2718\", \"X_2719\", \"X_2721\", \"X_2722\", \"X_2724\", \"X_2725\", \"X_2728\", \"X_2731\", \"X_2734\", \"X_2735\", \"X_2736\", \"X_2739\", \"X_2741\", \"X_2742\", \"X_2743\", \"X_2744\", \"X_2745\", \"X_2747\", \"X_2750\", \"X_2753\", \"X_2757\", \"X_2759\", \"X_2762\", \"X_2768\", \"X_2771\", \"X_2779\", \"X_2780\", \"X_2781\", \"X_2782\", \"X_2785\", \"X_2787\", \"X_2788\", \"X_2790\", \"X_2791\", \"X_2792\", \"X_2793\", \"X_2794\", \"X_2796\", \"X_2797\", \"X_2798\", \"X_2800\", \"X_2801\", \"X_2803\", \"X_2804\", \"X_2810\", \"X_2816\", \"X_2839\", \"X_2840\", \"X_2841\", \"X_2842\", \"X_2843\", \"X_2846\", \"X_2848\", \"X_2849\", \"X_2850\", \"X_2851\", \"X_2852\", \"X_2853\", \"X_2854\", \"X_2855\", \"X_2856\", \"X_2857\", \"X_2859\", \"X_2860\", \"X_2861\", \"X_2862\", \"X_2863\", \"X_2864\", \"X_2865\", \"X_2866\", \"X_2867\", \"X_2870\", ]\n",
    "train_x = train_x[feat_max]\n",
    "test = test[feat_max]"
   ]
  },
  {
   "cell_type": "markdown",
   "id": "da1d3c2e",
   "metadata": {
    "scrolled": false
   },
   "source": [
    "#### Permutation Importance"
   ]
  },
  {
   "cell_type": "code",
   "execution_count": 14,
   "id": "9a7982b9",
   "metadata": {},
   "outputs": [
    {
     "name": "stderr",
     "output_type": "stream",
     "text": [
      "5it [2:25:04, 1740.98s/it]\n"
     ]
    }
   ],
   "source": [
    "# rskfold = RepeatedStratifiedKFold(n_splits=5, n_repeats=1)\n",
    "\n",
    "# clf = catboost.CatBoostClassifier(verbose=0, task_type='GPU') # cpu -> thread_count=5\n",
    "\n",
    "# perm_list = []\n",
    "# for fold, (train_index, val_index) in enumerate(tqdm(rskfold.split(train_x, train_y))):\n",
    "#     x_trn, x_val, y_trn, y_val = train_x.loc[train_index], train_x.loc[val_index], train_y.loc[train_index], train_y.loc[val_index]\n",
    "#     clf.fit(x_trn, y_trn, early_stopping_rounds=100, cat_features=['PRODUCT_CODE', 'LINE'])\n",
    "\n",
    "#     perm = PermutationImportance(clf).fit(x_val, y_val)\n",
    "#     perm_list.append(perm.feature_importances_)"
   ]
  },
  {
   "cell_type": "code",
   "execution_count": 16,
   "id": "637aab3f",
   "metadata": {},
   "outputs": [
    {
     "data": {
      "text/html": [
       "\n",
       "    <style>\n",
       "    table.eli5-weights tr:hover {\n",
       "        filter: brightness(85%);\n",
       "    }\n",
       "</style>\n",
       "\n",
       "\n",
       "\n",
       "    \n",
       "\n",
       "    \n",
       "\n",
       "    \n",
       "\n",
       "    \n",
       "\n",
       "    \n",
       "\n",
       "    \n",
       "\n",
       "\n",
       "    \n",
       "\n",
       "    \n",
       "\n",
       "    \n",
       "\n",
       "    \n",
       "\n",
       "    \n",
       "\n",
       "    \n",
       "\n",
       "\n",
       "    \n",
       "\n",
       "    \n",
       "\n",
       "    \n",
       "\n",
       "    \n",
       "\n",
       "    \n",
       "        <table class=\"eli5-weights eli5-feature-importances\" style=\"border-collapse: collapse; border: none; margin-top: 0em; table-layout: auto;\">\n",
       "    <thead>\n",
       "    <tr style=\"border: none;\">\n",
       "        <th style=\"padding: 0 1em 0 0.5em; text-align: right; border: none;\">Weight</th>\n",
       "        <th style=\"padding: 0 0.5em 0 0.5em; text-align: left; border: none;\">Feature</th>\n",
       "    </tr>\n",
       "    </thead>\n",
       "    <tbody>\n",
       "    \n",
       "        <tr style=\"background-color: hsl(120, 100.00%, 80.00%); border: none;\">\n",
       "            <td style=\"padding: 0 1em 0 0.5em; text-align: right; border: none;\">\n",
       "                0.0218\n",
       "                \n",
       "                    &plusmn; 0.0082\n",
       "                \n",
       "            </td>\n",
       "            <td style=\"padding: 0 0.5em 0 0.5em; text-align: left; border: none;\">\n",
       "                X_318\n",
       "            </td>\n",
       "        </tr>\n",
       "    \n",
       "        <tr style=\"background-color: hsl(120, 100.00%, 85.76%); border: none;\">\n",
       "            <td style=\"padding: 0 1em 0 0.5em; text-align: right; border: none;\">\n",
       "                0.0134\n",
       "                \n",
       "                    &plusmn; 0.0082\n",
       "                \n",
       "            </td>\n",
       "            <td style=\"padding: 0 0.5em 0 0.5em; text-align: left; border: none;\">\n",
       "                X_718\n",
       "            </td>\n",
       "        </tr>\n",
       "    \n",
       "        <tr style=\"background-color: hsl(120, 100.00%, 88.36%); border: none;\">\n",
       "            <td style=\"padding: 0 1em 0 0.5em; text-align: right; border: none;\">\n",
       "                0.0101\n",
       "                \n",
       "                    &plusmn; 0.0067\n",
       "                \n",
       "            </td>\n",
       "            <td style=\"padding: 0 0.5em 0 0.5em; text-align: left; border: none;\">\n",
       "                X_660\n",
       "            </td>\n",
       "        </tr>\n",
       "    \n",
       "        <tr style=\"background-color: hsl(120, 100.00%, 88.36%); border: none;\">\n",
       "            <td style=\"padding: 0 1em 0 0.5em; text-align: right; border: none;\">\n",
       "                0.0101\n",
       "                \n",
       "                    &plusmn; 0.0067\n",
       "                \n",
       "            </td>\n",
       "            <td style=\"padding: 0 0.5em 0 0.5em; text-align: left; border: none;\">\n",
       "                X_373\n",
       "            </td>\n",
       "        </tr>\n",
       "    \n",
       "        <tr style=\"background-color: hsl(120, 100.00%, 88.36%); border: none;\">\n",
       "            <td style=\"padding: 0 1em 0 0.5em; text-align: right; border: none;\">\n",
       "                0.0101\n",
       "                \n",
       "                    &plusmn; 0.0067\n",
       "                \n",
       "            </td>\n",
       "            <td style=\"padding: 0 0.5em 0 0.5em; text-align: left; border: none;\">\n",
       "                X_248\n",
       "            </td>\n",
       "        </tr>\n",
       "    \n",
       "        <tr style=\"background-color: hsl(120, 100.00%, 89.75%); border: none;\">\n",
       "            <td style=\"padding: 0 1em 0 0.5em; text-align: right; border: none;\">\n",
       "                0.0084\n",
       "                \n",
       "                    &plusmn; 0.0000\n",
       "                \n",
       "            </td>\n",
       "            <td style=\"padding: 0 0.5em 0 0.5em; text-align: left; border: none;\">\n",
       "                X_1569\n",
       "            </td>\n",
       "        </tr>\n",
       "    \n",
       "        <tr style=\"background-color: hsl(120, 100.00%, 89.75%); border: none;\">\n",
       "            <td style=\"padding: 0 1em 0 0.5em; text-align: right; border: none;\">\n",
       "                0.0084\n",
       "                \n",
       "                    &plusmn; 0.0000\n",
       "                \n",
       "            </td>\n",
       "            <td style=\"padding: 0 0.5em 0 0.5em; text-align: left; border: none;\">\n",
       "                X_789\n",
       "            </td>\n",
       "        </tr>\n",
       "    \n",
       "        <tr style=\"background-color: hsl(120, 100.00%, 89.75%); border: none;\">\n",
       "            <td style=\"padding: 0 1em 0 0.5em; text-align: right; border: none;\">\n",
       "                0.0084\n",
       "                \n",
       "                    &plusmn; 0.0000\n",
       "                \n",
       "            </td>\n",
       "            <td style=\"padding: 0 0.5em 0 0.5em; text-align: left; border: none;\">\n",
       "                X_256\n",
       "            </td>\n",
       "        </tr>\n",
       "    \n",
       "        <tr style=\"background-color: hsl(120, 100.00%, 89.75%); border: none;\">\n",
       "            <td style=\"padding: 0 1em 0 0.5em; text-align: right; border: none;\">\n",
       "                0.0084\n",
       "                \n",
       "                    &plusmn; 0.0000\n",
       "                \n",
       "            </td>\n",
       "            <td style=\"padding: 0 0.5em 0 0.5em; text-align: left; border: none;\">\n",
       "                X_514\n",
       "            </td>\n",
       "        </tr>\n",
       "    \n",
       "        <tr style=\"background-color: hsl(120, 100.00%, 89.75%); border: none;\">\n",
       "            <td style=\"padding: 0 1em 0 0.5em; text-align: right; border: none;\">\n",
       "                0.0084\n",
       "                \n",
       "                    &plusmn; 0.0000\n",
       "                \n",
       "            </td>\n",
       "            <td style=\"padding: 0 0.5em 0 0.5em; text-align: left; border: none;\">\n",
       "                X_792\n",
       "            </td>\n",
       "        </tr>\n",
       "    \n",
       "        <tr style=\"background-color: hsl(120, 100.00%, 89.75%); border: none;\">\n",
       "            <td style=\"padding: 0 1em 0 0.5em; text-align: right; border: none;\">\n",
       "                0.0084\n",
       "                \n",
       "                    &plusmn; 0.0000\n",
       "                \n",
       "            </td>\n",
       "            <td style=\"padding: 0 0.5em 0 0.5em; text-align: left; border: none;\">\n",
       "                X_105\n",
       "            </td>\n",
       "        </tr>\n",
       "    \n",
       "        <tr style=\"background-color: hsl(120, 100.00%, 89.75%); border: none;\">\n",
       "            <td style=\"padding: 0 1em 0 0.5em; text-align: right; border: none;\">\n",
       "                0.0084\n",
       "                \n",
       "                    &plusmn; 0.0000\n",
       "                \n",
       "            </td>\n",
       "            <td style=\"padding: 0 0.5em 0 0.5em; text-align: left; border: none;\">\n",
       "                X_64\n",
       "            </td>\n",
       "        </tr>\n",
       "    \n",
       "        <tr style=\"background-color: hsl(120, 100.00%, 89.75%); border: none;\">\n",
       "            <td style=\"padding: 0 1em 0 0.5em; text-align: right; border: none;\">\n",
       "                0.0084\n",
       "                \n",
       "                    &plusmn; 0.0000\n",
       "                \n",
       "            </td>\n",
       "            <td style=\"padding: 0 0.5em 0 0.5em; text-align: left; border: none;\">\n",
       "                X_897\n",
       "            </td>\n",
       "        </tr>\n",
       "    \n",
       "        <tr style=\"background-color: hsl(120, 100.00%, 89.75%); border: none;\">\n",
       "            <td style=\"padding: 0 1em 0 0.5em; text-align: right; border: none;\">\n",
       "                0.0084\n",
       "                \n",
       "                    &plusmn; 0.0000\n",
       "                \n",
       "            </td>\n",
       "            <td style=\"padding: 0 0.5em 0 0.5em; text-align: left; border: none;\">\n",
       "                X_919\n",
       "            </td>\n",
       "        </tr>\n",
       "    \n",
       "        <tr style=\"background-color: hsl(120, 100.00%, 89.75%); border: none;\">\n",
       "            <td style=\"padding: 0 1em 0 0.5em; text-align: right; border: none;\">\n",
       "                0.0084\n",
       "                \n",
       "                    &plusmn; 0.0000\n",
       "                \n",
       "            </td>\n",
       "            <td style=\"padding: 0 0.5em 0 0.5em; text-align: left; border: none;\">\n",
       "                X_1774\n",
       "            </td>\n",
       "        </tr>\n",
       "    \n",
       "        <tr style=\"background-color: hsl(120, 100.00%, 89.75%); border: none;\">\n",
       "            <td style=\"padding: 0 1em 0 0.5em; text-align: right; border: none;\">\n",
       "                0.0084\n",
       "                \n",
       "                    &plusmn; 0.0000\n",
       "                \n",
       "            </td>\n",
       "            <td style=\"padding: 0 0.5em 0 0.5em; text-align: left; border: none;\">\n",
       "                X_380\n",
       "            </td>\n",
       "        </tr>\n",
       "    \n",
       "        <tr style=\"background-color: hsl(120, 100.00%, 89.75%); border: none;\">\n",
       "            <td style=\"padding: 0 1em 0 0.5em; text-align: right; border: none;\">\n",
       "                0.0084\n",
       "                \n",
       "                    &plusmn; 0.0000\n",
       "                \n",
       "            </td>\n",
       "            <td style=\"padding: 0 0.5em 0 0.5em; text-align: left; border: none;\">\n",
       "                X_490\n",
       "            </td>\n",
       "        </tr>\n",
       "    \n",
       "        <tr style=\"background-color: hsl(120, 100.00%, 91.24%); border: none;\">\n",
       "            <td style=\"padding: 0 1em 0 0.5em; text-align: right; border: none;\">\n",
       "                0.0067\n",
       "                \n",
       "                    &plusmn; 0.0067\n",
       "                \n",
       "            </td>\n",
       "            <td style=\"padding: 0 0.5em 0 0.5em; text-align: left; border: none;\">\n",
       "                X_817\n",
       "            </td>\n",
       "        </tr>\n",
       "    \n",
       "        <tr style=\"background-color: hsl(120, 100.00%, 91.24%); border: none;\">\n",
       "            <td style=\"padding: 0 1em 0 0.5em; text-align: right; border: none;\">\n",
       "                0.0067\n",
       "                \n",
       "                    &plusmn; 0.0067\n",
       "                \n",
       "            </td>\n",
       "            <td style=\"padding: 0 0.5em 0 0.5em; text-align: left; border: none;\">\n",
       "                X_694\n",
       "            </td>\n",
       "        </tr>\n",
       "    \n",
       "        <tr style=\"background-color: hsl(120, 100.00%, 91.24%); border: none;\">\n",
       "            <td style=\"padding: 0 1em 0 0.5em; text-align: right; border: none;\">\n",
       "                0.0067\n",
       "                \n",
       "                    &plusmn; 0.0067\n",
       "                \n",
       "            </td>\n",
       "            <td style=\"padding: 0 0.5em 0 0.5em; text-align: left; border: none;\">\n",
       "                X_399\n",
       "            </td>\n",
       "        </tr>\n",
       "    \n",
       "    \n",
       "        \n",
       "            <tr style=\"background-color: hsl(120, 100.00%, 91.24%); border: none;\">\n",
       "                <td colspan=\"2\" style=\"padding: 0 0.5em 0 0.5em; text-align: center; border: none; white-space: nowrap;\">\n",
       "                    <i>&hellip; 2775 more &hellip;</i>\n",
       "                </td>\n",
       "            </tr>\n",
       "        \n",
       "    \n",
       "    </tbody>\n",
       "</table>\n",
       "    \n",
       "\n",
       "    \n",
       "\n",
       "\n",
       "    \n",
       "\n",
       "    \n",
       "\n",
       "    \n",
       "\n",
       "    \n",
       "\n",
       "    \n",
       "\n",
       "    \n",
       "\n",
       "\n",
       "\n"
      ],
      "text/plain": [
       "<IPython.core.display.HTML object>"
      ]
     },
     "execution_count": 16,
     "metadata": {},
     "output_type": "execute_result"
    }
   ],
   "source": [
    "# eli5.show_weights(perm, feature_names = train_x.columns.tolist(), top=20)"
   ]
  },
  {
   "cell_type": "code",
   "execution_count": 184,
   "id": "92111543",
   "metadata": {},
   "outputs": [
    {
     "name": "stdout",
     "output_type": "stream",
     "text": [
      "\"X_64\", \"X_73\", \"X_103\", \"X_105\", \"X_110\", \"X_121\", \"X_126\", \"X_127\", \"X_132\", \"X_137\", \"X_189\", \"X_240\", \"X_248\", \"X_256\", \"X_257\", \"X_258\", \"X_301\", \"X_309\", \"X_318\", \"X_339\", \"X_367\", \"X_368\", \"X_373\", \"X_380\", \"X_387\", \"X_395\", \"X_396\", \"X_399\", \"X_400\", \"X_407\", \"X_412\", \"X_417\", \"X_420\", \"X_436\", \"X_437\", \"X_445\", \"X_447\", \"X_454\", \"X_455\", \"X_456\", \"X_459\", \"X_462\", \"X_465\", \"X_484\", \"X_489\", \"X_490\", \"X_492\", \"X_497\", \"X_501\", \"X_514\", \"X_517\", \"X_520\", \"X_523\", \"X_524\", \"X_527\", \"X_535\", \"X_536\", \"X_539\", \"X_547\", \"X_553\", \"X_555\", \"X_556\", \"X_572\", \"X_613\", \"X_643\", \"X_644\", \"X_648\", \"X_657\", \"X_658\", \"X_660\", \"X_661\", \"X_662\", \"X_665\", \"X_678\", \"X_687\", \"X_694\", \"X_698\", \"X_706\", \"X_709\", \"X_710\", \"X_713\", \"X_718\", \"X_720\", \"X_725\", \"X_751\", \"X_789\", \"X_792\", \"X_793\", \"X_795\", \"X_814\", \"X_817\", \"X_820\", \"X_835\", \"X_848\", \"X_856\", \"X_875\", \"X_890\", \"X_897\", \"X_907\", \"X_917\", \"X_919\", \"X_924\", \"X_927\", \"X_932\", \"X_947\", \"X_948\", \"X_956\", \"X_960\", \"X_985\", \"X_1002\", \"X_1010\", \"X_1012\", \"X_1016\", \"X_1027\", \"X_1046\", \"X_1048\", \"X_1049\", \"X_1058\", \"X_1081\", \"X_1083\", \"X_1089\", \"X_1093\", \"X_1106\", \"X_1108\", \"X_1116\", \"X_1154\", \"X_1176\", \"X_1194\", \"X_1198\", \"X_1213\", \"X_1214\", \"X_1217\", \"X_1275\", \"X_1280\", \"X_1286\", \"X_1288\", \"X_1323\", \"X_1326\", \"X_1329\", \"X_1330\", \"X_1333\", \"X_1339\", \"X_1341\", \"X_1343\", \"X_1350\", \"X_1352\", \"X_1358\", \"X_1371\", \"X_1376\", \"X_1381\", \"X_1382\", \"X_1401\", \"X_1403\", \"X_1430\", \"X_1448\", \"X_1456\", \"X_1461\", \"X_1474\", \"X_1477\", \"X_1482\", \"X_1483\", \"X_1485\", \"X_1500\", \"X_1512\", \"X_1541\", \"X_1557\", \"X_1560\", \"X_1569\", \"X_1601\", \"X_1615\", \"X_1617\", \"X_1655\", \"X_1665\", \"X_1667\", \"X_1703\", \"X_1743\", \"X_1744\", \"X_1747\", \"X_1774\", \"X_1776\", \"X_1793\", \"X_1812\", \"X_1849\", \"X_1850\", \"X_1854\", \"X_1864\", \"X_1866\", \"X_1953\", \"X_2019\", \"X_2022\", \"X_2044\", \"X_2058\", \"X_2096\", \"X_2105\", \"X_2113\", \"X_2203\", \"X_2219\", \"X_2467\", \"X_2702\", \"X_2719\", \"X_2736\", \"X_2741\", \"X_2742\", \"X_2759\", \"X_2787\", \"X_2791\", \"X_2853\", "
     ]
    }
   ],
   "source": [
    "# for c in train_x.columns[perm_max>0]:\n",
    "#     print(f'\"{c}\"', end=', ')"
   ]
  },
  {
   "cell_type": "code",
   "execution_count": null,
   "id": "920b7f04",
   "metadata": {},
   "outputs": [],
   "source": [
    "# perm_max = [\"X_64\", \"X_73\", \"X_103\", \"X_105\", \"X_110\", \"X_121\", \"X_126\", \"X_127\", \"X_132\", \"X_137\", \"X_189\", \"X_240\", \"X_248\", \"X_256\", \"X_257\", \"X_258\", \"X_301\", \"X_309\", \"X_318\", \"X_339\", \"X_367\", \"X_368\", \"X_373\", \"X_380\", \"X_387\", \"X_395\", \"X_396\", \"X_399\", \"X_400\", \"X_407\", \"X_412\", \"X_417\", \"X_420\", \"X_436\", \"X_437\", \"X_445\", \"X_447\", \"X_454\", \"X_455\", \"X_456\", \"X_459\", \"X_462\", \"X_465\", \"X_484\", \"X_489\", \"X_490\", \"X_492\", \"X_497\", \"X_501\", \"X_514\", \"X_517\", \"X_520\", \"X_523\", \"X_524\", \"X_527\", \"X_535\", \"X_536\", \"X_539\", \"X_547\", \"X_553\", \"X_555\", \"X_556\", \"X_572\", \"X_613\", \"X_643\", \"X_644\", \"X_648\", \"X_657\", \"X_658\", \"X_660\", \"X_661\", \"X_662\", \"X_665\", \"X_678\", \"X_687\", \"X_694\", \"X_698\", \"X_706\", \"X_709\", \"X_710\", \"X_713\", \"X_718\", \"X_720\", \"X_725\", \"X_751\", \"X_789\", \"X_792\", \"X_793\", \"X_795\", \"X_814\", \"X_817\", \"X_820\", \"X_835\", \"X_848\", \"X_856\", \"X_875\", \"X_890\", \"X_897\", \"X_907\", \"X_917\", \"X_919\", \"X_924\", \"X_927\", \"X_932\", \"X_947\", \"X_948\", \"X_956\", \"X_960\", \"X_985\", \"X_1002\", \"X_1010\", \"X_1012\", \"X_1016\", \"X_1027\", \"X_1046\", \"X_1048\", \"X_1049\", \"X_1058\", \"X_1081\", \"X_1083\", \"X_1089\", \"X_1093\", \"X_1106\", \"X_1108\", \"X_1116\", \"X_1154\", \"X_1176\", \"X_1194\", \"X_1198\", \"X_1213\", \"X_1214\", \"X_1217\", \"X_1275\", \"X_1280\", \"X_1286\", \"X_1288\", \"X_1323\", \"X_1326\", \"X_1329\", \"X_1330\", \"X_1333\", \"X_1339\", \"X_1341\", \"X_1343\", \"X_1350\", \"X_1352\", \"X_1358\", \"X_1371\", \"X_1376\", \"X_1381\", \"X_1382\", \"X_1401\", \"X_1403\", \"X_1430\", \"X_1448\", \"X_1456\", \"X_1461\", \"X_1474\", \"X_1477\", \"X_1482\", \"X_1483\", \"X_1485\", \"X_1500\", \"X_1512\", \"X_1541\", \"X_1557\", \"X_1560\", \"X_1569\", \"X_1601\", \"X_1615\", \"X_1617\", \"X_1655\", \"X_1665\", \"X_1667\", \"X_1703\", \"X_1743\", \"X_1744\", \"X_1747\", \"X_1774\", \"X_1776\", \"X_1793\", \"X_1812\", \"X_1849\", \"X_1850\", \"X_1854\", \"X_1864\", \"X_1866\", \"X_1953\", \"X_2019\", \"X_2022\", \"X_2044\", \"X_2058\", \"X_2096\", \"X_2105\", \"X_2113\", \"X_2203\", \"X_2219\", \"X_2467\", \"X_2702\", \"X_2719\", \"X_2736\", \"X_2741\", \"X_2742\", \"X_2759\", \"X_2787\", \"X_2791\", \"X_2853\", ]"
   ]
  },
  {
   "cell_type": "code",
   "execution_count": 13,
   "id": "d1da4d5e",
   "metadata": {},
   "outputs": [
    {
     "name": "stderr",
     "output_type": "stream",
     "text": [
      "15it [04:21, 17.42s/it]"
     ]
    },
    {
     "name": "stdout",
     "output_type": "stream",
     "text": [
      "0.6206816059757235 ~ 0.7572256175197353\n",
      "mean : 0.6933260144200019\n"
     ]
    },
    {
     "name": "stderr",
     "output_type": "stream",
     "text": [
      "\n"
     ]
    }
   ],
   "source": [
    "# rskfold = RepeatedStratifiedKFold(n_splits=5, n_repeats=3)\n",
    "\n",
    "# f1_list = []\n",
    "# for fold, (train_index, val_index) in enumerate(tqdm(rskfold.split(train_x, train_y))):\n",
    "#     x_trn, x_val, y_trn, y_val = train_x.loc[train_index], train_x.loc[val_index], train_y.loc[train_index], train_y.loc[val_index]\n",
    "\n",
    "#     clf = catboost.CatBoostClassifier(verbose=0, task_type=\"GPU\") # cpu -> thread_count=5, gpu -> task_type=\"GPU\"\n",
    "#     clf.fit(x_trn, y_trn, early_stopping_rounds=100)\n",
    "#     f1_list.append(f1_score(clf.predict(x_val), y_val, average='macro'))\n",
    "    \n",
    "# print(f'{min(f1_list)} ~ {max(f1_list)}')\n",
    "# print('mean :', np.mean(f1_list))"
   ]
  },
  {
   "cell_type": "markdown",
   "id": "92008858",
   "metadata": {},
   "source": [
    "### 결측치 대체"
   ]
  },
  {
   "cell_type": "markdown",
   "id": "d2682dc5",
   "metadata": {},
   "source": [
    "#### Missingno"
   ]
  },
  {
   "cell_type": "code",
   "execution_count": 11,
   "id": "4231d6bb",
   "metadata": {},
   "outputs": [
    {
     "data": {
      "text/plain": [
       "<AxesSubplot:>"
      ]
     },
     "execution_count": 11,
     "metadata": {},
     "output_type": "execute_result"
    },
    {
     "data": {
      "image/png": "[encoded data removed]",
      "text/plain": [
       "<Figure size 1800x720 with 2 Axes>"
      ]
     },
     "metadata": {
      "needs_background": "light"
     },
     "output_type": "display_data"
    }
   ],
   "source": [
    "# 20개의 열만 뽑아 확인해 보았는데도 결측치가 굉장히 많다.\n",
    "msno.matrix(train_x[train_x.columns[130:150]])"
   ]
  },
  {
   "cell_type": "markdown",
   "id": "abad362d",
   "metadata": {},
   "source": [
    "#### fillna(0)"
   ]
  },
  {
   "cell_type": "markdown",
   "id": "6c206ad4",
   "metadata": {},
   "source": [
    "* Catboost는 nan을 'string' 타입으로 치환하여 학습을 진행할 수 있다. 따라서 fillna(0)와 유사한 성능이 나타난다.\n",
    "* MiceImputer, SimpleImputer 등 다양한 방법들을 활용해 보았지만, 성능향상에 도움이 되지 않았다."
   ]
  },
  {
   "cell_type": "code",
   "execution_count": 10,
   "id": "10d54956",
   "metadata": {
    "scrolled": true
   },
   "outputs": [],
   "source": [
    "train_x.fillna(0, inplace=True)\n",
    "test.fillna(0, inplace=True)"
   ]
  },
  {
   "cell_type": "code",
   "execution_count": 13,
   "id": "df292fbf",
   "metadata": {},
   "outputs": [
    {
     "name": "stderr",
     "output_type": "stream",
     "text": [
      "14it [04:09, 17.82s/it]"
     ]
    },
    {
     "name": "stdout",
     "output_type": "stream",
     "text": [
      "0.5748214014287886 ~ 0.7859434237386993\n",
      "mean : 0.6886913726753748\n"
     ]
    },
    {
     "name": "stderr",
     "output_type": "stream",
     "text": [
      "\n"
     ]
    }
   ],
   "source": [
    "rskfold = RepeatedStratifiedKFold(n_splits=7, n_repeats=2)\n",
    "clf = catboost.CatBoostClassifier(verbose=0, task_type=\"GPU\") # cpu -> thread_count=5\n",
    "\n",
    "f1_list = []\n",
    "for fold, (train_index, val_index) in enumerate(tqdm(rskfold.split(train_x, train_y))):\n",
    "    x_trn, x_val, y_trn, y_val = train_x.loc[train_index], train_x.loc[val_index], train_y.loc[train_index], train_y.loc[val_index]\n",
    "\n",
    "    clf.fit(x_trn, y_trn, early_stopping_rounds=100)\n",
    "    f1_list.append(f1_score(clf.predict(x_val), y_val, average='macro'))\n",
    "    \n",
    "print(f'{min(f1_list)} ~ {max(f1_list)}')\n",
    "print('mean :', np.mean(f1_list))"
   ]
  },
  {
   "cell_type": "markdown",
   "id": "0a75c296",
   "metadata": {},
   "source": [
    "### Data Scaling"
   ]
  },
  {
   "cell_type": "markdown",
   "id": "b1ca322f",
   "metadata": {},
   "source": [
    "* 데이터의 적은 수를 극복하고자 오버샘플링을 통한 성능향상을 기대했지만 오히려 성능이 나빠졌다.\n",
    "* 이는 컬럼 수가 너무 많고, 결측치를 0으로 바꾸었기 때문.\n",
    "* 가중치에만 영향을 주는 랜덤오버샘플링도 성능이 향상되진 않았다."
   ]
  },
  {
   "cell_type": "code",
   "execution_count": 11,
   "id": "6d8790e2",
   "metadata": {},
   "outputs": [],
   "source": [
    "def Randomoversampler(train_x_df, train_y_df):\n",
    "    x_ros, y_ros = RandomOverSampler().fit_resample(train_x_df, train_y_df)\n",
    "    return x_ros, y_ros"
   ]
  },
  {
   "cell_type": "code",
   "execution_count": 12,
   "id": "720865d5",
   "metadata": {},
   "outputs": [],
   "source": [
    "def SMOTE_Tomek(train_x_df, train_y_df):\n",
    "    x_smoteenn, y_smoteenn = SMOTETomek().fit_resample(train_x_df, train_y_df)\n",
    "    return x_smoteenn, y_smoteenn"
   ]
  },
  {
   "cell_type": "code",
   "execution_count": 13,
   "id": "c3fd930e",
   "metadata": {},
   "outputs": [],
   "source": [
    "def SMOTE_ENN(train_x_df, train_y_df):\n",
    "    x_smoteenn, y_smoteenn = SMOTEENN().fit_resample(train_x_df, train_y_df)\n",
    "    return x_smoteenn, y_smoteenn"
   ]
  },
  {
   "cell_type": "code",
   "execution_count": 14,
   "id": "7bed1a8f",
   "metadata": {},
   "outputs": [],
   "source": [
    "def ADASYN_(train_x_df, train_y_df):\n",
    "    x_adasyn, y_adasyn = ADASYN(sampling_strategy='minority').fit_resample(train_x_df, train_y_df)\n",
    "    return x_adasyn, y_adasyn"
   ]
  },
  {
   "cell_type": "code",
   "execution_count": 15,
   "id": "cecbf559",
   "metadata": {},
   "outputs": [],
   "source": [
    "def Borderline_SMOTE(train_x_df, train_y_df):\n",
    "    x_b_smote, y_b_smote = BorderlineSMOTE().fit_resample(train_x_df, train_y_df)\n",
    "    return x_b_smote, y_b_smote"
   ]
  },
  {
   "cell_type": "markdown",
   "id": "70ed6e18",
   "metadata": {},
   "source": [
    "#### RandomOverSampling"
   ]
  },
  {
   "cell_type": "code",
   "execution_count": 60,
   "id": "1cb776b3",
   "metadata": {},
   "outputs": [
    {
     "name": "stderr",
     "output_type": "stream",
     "text": [
      "15it [04:41, 18.77s/it]"
     ]
    },
    {
     "name": "stdout",
     "output_type": "stream",
     "text": [
      "0.5266250371691941 ~ 0.7372155879895818\n",
      "mean : 0.6562504125125549\n"
     ]
    },
    {
     "name": "stderr",
     "output_type": "stream",
     "text": [
      "\n"
     ]
    }
   ],
   "source": [
    "rskfold = RepeatedStratifiedKFold(n_splits=5, n_repeats=3)\n",
    "\n",
    "f1_list = []\n",
    "for fold, (train_index, val_index) in enumerate(tqdm(rskfold.split(train_x, train_y))):\n",
    "    x_trn, x_val, y_trn, y_val = train_x.loc[train_index], train_x.loc[val_index], train_y.loc[train_index], train_y.loc[val_index]\n",
    "    x_trn, y_trn = Randomoversampler(x_trn, y_trn)\n",
    "    \n",
    "    clf = catboost.CatBoostClassifier(verbose=0, task_type=\"GPU\") # cpu -> thread_count=5\n",
    "    clf.fit(x_trn, y_trn, early_stopping_rounds=100)\n",
    "    f1_list.append(f1_score(clf.predict(x_val), y_val, average='macro'))\n",
    "    \n",
    "print(f'{min(f1_list)} ~ {max(f1_list)}')\n",
    "print('mean :', np.mean(f1_list))"
   ]
  },
  {
   "cell_type": "markdown",
   "id": "9e71820a",
   "metadata": {},
   "source": [
    "* RandomOverSampler : 0.6562504125125549\n",
    "* ADASYN : 0.6567547918667186\n",
    "* Borderline SMOTE : 0.6503469645781274\n",
    "* SMOTE Tomek : 0.6469095545039376\n",
    "* SMOTE ENN : 0.5796845844715077"
   ]
  },
  {
   "cell_type": "markdown",
   "id": "13c639bb",
   "metadata": {},
   "source": [
    "### OPTUNA"
   ]
  },
  {
   "cell_type": "markdown",
   "id": "c56244dd",
   "metadata": {},
   "source": [
    "#### OPTUNA"
   ]
  },
  {
   "cell_type": "code",
   "execution_count": 16,
   "id": "d1e1d39b",
   "metadata": {},
   "outputs": [],
   "source": [
    "train_X, test_X, train_Y, test_Y = train_test_split(train_x, train_y, test_size=0.1, shuffle=True)\n",
    "train_X.reset_index(drop=True, inplace=True)\n",
    "train_Y.reset_index(drop=True, inplace=True)\n",
    "test_X.reset_index(drop=True, inplace=True)\n",
    "test_Y.reset_index(drop=True, inplace=True)\n",
    "\n",
    "rskfold = RepeatedStratifiedKFold(n_splits=7, n_repeats=2)"
   ]
  },
  {
   "cell_type": "code",
   "execution_count": 17,
   "id": "bf03c628",
   "metadata": {
    "scrolled": true
   },
   "outputs": [
    {
     "name": "stderr",
     "output_type": "stream",
     "text": [
      "14it [04:25, 18.96s/it]"
     ]
    },
    {
     "name": "stdout",
     "output_type": "stream",
     "text": [
      "\n",
      "default:    0.43750000000000006 ~ 0.5610766045548654 mean : 0.4988484824208606      -> 0.5057347670250897\n",
      "threshold:  0.42078096195743253 ~ 0.5696629213483145 mean : 0.5023909566583585      -> 0.500962000962001\n",
      "adasyn:     0.4541118473702744 ~ 0.5557041991824601 mean : 0.5008416974572233      -> 0.47615456438985854\n",
      "adasyn & threshold:  0.4541118473702744 ~ 0.5553475935828877 mean : 0.5083706962540668      -> 0.5142731249803292\n"
     ]
    },
    {
     "name": "stderr",
     "output_type": "stream",
     "text": [
      "\n"
     ]
    }
   ],
   "source": [
    "clf = catboost.CatBoostClassifier(verbose=0, task_type='GPU')\n",
    "\n",
    "f1_list, f1_adasyn_list, f1_threshold_list, f1_threshold_adasyn_list = [], [], [], []\n",
    "pred_list, threshold_list = [], []\n",
    "pred_adasyn_list, threshold_adasyn_list = [], []\n",
    "\n",
    "for fold, (train_index, val_index) in enumerate(tqdm(rskfold.split(train_X, train_Y))):\n",
    "    x_trn, x_val, y_trn, y_val = train_X.loc[train_index], train_X.loc[val_index], train_Y.loc[train_index], train_Y.loc[val_index]\n",
    "    clf.fit(x_trn, y_trn, eval_set=(x_val, y_val), early_stopping_rounds=100)\n",
    "\n",
    "    # default\n",
    "    pred = []\n",
    "    for p in clf.predict_proba(test_X):\n",
    "        if list(p).index(max(p)) == 1 and max(p) <= 0.55: pred.append(list(p).index(max(p[0], p[2])))\n",
    "        else: pred.append(list(p).index(max(p)))\n",
    "\n",
    "    pred_list.append(clf.predict(test_X))\n",
    "    threshold_list.append(pred)\n",
    "    f1_list.append(f1_score(clf.predict(test_X), test_Y, average='macro'))\n",
    "    f1_threshold_list.append(f1_score(pred, test_Y, average='macro'))\n",
    "\n",
    "    # Adasyn\n",
    "    x_trn, y_trn = ADASYN_(x_trn, y_trn)\n",
    "    clf.fit(x_trn, y_trn, eval_set=(x_val, y_val), early_stopping_rounds=100)\n",
    "\n",
    "    pred = []\n",
    "    for p in clf.predict_proba(test_X):\n",
    "        if list(p).index(max(p)) == 1 and max(p) <= 0.5: pred.append(list(p).index(max(p[0], p[2])))\n",
    "        else: pred.append(list(p).index(max(p)))\n",
    "\n",
    "    pred_adasyn_list.append(clf.predict(test_X))\n",
    "    threshold_adasyn_list.append(pred)\n",
    "    f1_adasyn_list.append(f1_score(clf.predict(test_X), test_Y, average='macro'))\n",
    "    f1_threshold_adasyn_list.append(f1_score(pred, test_Y, average='macro'))\n",
    "\n",
    "result = []\n",
    "pred_list = np.array(pred_list)\n",
    "for i in range(len(pred_list[0])):\n",
    "    pred = [list(pred_list[:, i]).count(j) for j in range(3)]\n",
    "    result.append(pred.index(max(pred))) # 최다 투표 받은 Class를 선택\n",
    "print('\\ndefault:   ', min(f1_list), '~', max(f1_list), 'mean :', np.mean(f1_list), '     ->', f1_score(result, test_Y, average='macro'))\n",
    "\n",
    "result = []\n",
    "threshold_list = np.array(threshold_list)\n",
    "for i in range(len(threshold_list[0])):\n",
    "    pred = [list(threshold_list[:, i]).count(j) for j in range(3)]\n",
    "    result.append(pred.index(max(pred))) # 최다 투표 받은 Class를 선택\n",
    "print('threshold: ', min(f1_threshold_list), '~', max(f1_threshold_list), 'mean :', np.mean(f1_threshold_list), '     ->', f1_score(result, test_Y, average='macro'))\n",
    "\n",
    "result = []\n",
    "pred_adasyn_list = np.array(pred_adasyn_list)\n",
    "for i in range(len(pred_adasyn_list[0])):\n",
    "    pred = [list(pred_adasyn_list[:, i]).count(j) for j in range(3)]\n",
    "    result.append(pred.index(max(pred))) # 최다 투표 받은 Class를 선택 \n",
    "print('adasyn:    ', min(f1_adasyn_list), '~', max(f1_adasyn_list), 'mean :', np.mean(f1_adasyn_list), '     ->', f1_score(result, test_Y, average='macro'))\n",
    "\n",
    "result = []\n",
    "threshold_adasyn_list = np.array(threshold_adasyn_list)\n",
    "for i in range(len(threshold_adasyn_list[0])):\n",
    "    pred = [list(threshold_adasyn_list[:, i]).count(j) for j in range(3)]\n",
    "    result.append(pred.index(max(pred))) # 최다 투표 받은 Class를 선택\n",
    "print('adasyn & threshold: ', min(f1_threshold_adasyn_list), '~', max(f1_threshold_adasyn_list), 'mean :', np.mean(f1_threshold_adasyn_list), '     ->', f1_score(result, test_Y, average='macro'))"
   ]
  },
  {
   "cell_type": "markdown",
   "id": "3b1be5cc",
   "metadata": {},
   "source": [
    "* 3개의 split set의 평균은 0.655"
   ]
  },
  {
   "cell_type": "code",
   "execution_count": 257,
   "id": "badcdbb7",
   "metadata": {},
   "outputs": [],
   "source": [
    "def cb_objective(trial):\n",
    "\n",
    "    params = {\n",
    "            'bootstrap_type':trial.suggest_categorical('bootstrap_type', ['Bayesian', 'Bernoulli']),\n",
    "            'od_wait':trial.suggest_int('od_wait', 500, 1000),\n",
    "            'learning_rate' : trial.suggest_uniform('learning_rate',0.01,0.1),\n",
    "            'reg_lambda': trial.suggest_uniform('reg_lambda',1e-5,100),\n",
    "            'random_strength': trial.suggest_uniform('random_strength',1e-8,10),\n",
    "            'depth': trial.suggest_int('depth',3,10),\n",
    "            'min_data_in_leaf': trial.suggest_int('min_data_in_leaf',1,20),\n",
    "            'leaf_estimation_iterations': trial.suggest_int('leaf_estimation_iterations',1,15),\n",
    "            'verbose': False,\n",
    "            \"eval_metric\": 'TotalF1',\n",
    "            \"one_hot_max_size\": trial.suggest_int(\"one_hot_max_size\",1,3),\n",
    "            'task_type': 'GPU',\n",
    "        }\n",
    "\n",
    "    if params['bootstrap_type'] == 'Bayesian':\n",
    "        params['bagging_temperature'] = trial.suggest_float('bagging_temperature',0,10)\n",
    "    elif params['bootstrap_type'] == 'Bernoulli':\n",
    "        params['subsample'] = trial.suggest_float('subsample',0.1,1)\n",
    "    \n",
    "    \n",
    "    clf = catboost.CatBoostClassifier(**params)\n",
    "    threshold = trial.suggest_float('threshold',0.33,0.6)\n",
    "    pred_list = []\n",
    "    for fold, (train_index, val_index) in enumerate(rskfold.split(train_X, train_Y)):\n",
    "        x_trn, x_val, y_trn, y_val = train_X.loc[train_index], train_X.loc[val_index], train_Y.loc[train_index], train_Y.loc[val_index]\n",
    "        x_trn, y_trn = ADASYN_(x_trn, y_trn)\n",
    "        clf.fit(x_trn, y_trn, eval_set=(x_val, y_val), early_stopping_rounds=100)\n",
    "\n",
    "    pred = []\n",
    "    for p in clf.predict_proba(test_X):\n",
    "        if list(p).index(max(p)) == 1 and max(p) <= threshold: pred.append(list(p).index(max(p[0], p[2])))\n",
    "        else: pred.append(list(p).index(max(p)))\n",
    "\n",
    "        pred_list.append(pred)\n",
    "        \n",
    "    pred_list = np.array(pred_list)\n",
    "\n",
    "    result = []\n",
    "    for i in range(len(pred_list[0])):\n",
    "        pred = [list(pred_list[:, i]).count(j) for j in range(3)]\n",
    "        result.append(pred.index(max(pred))) # 최다 투표 받은 Class를 선택\n",
    "\n",
    "    return f1_score(result, test_Y, average='macro')"
   ]
  },
  {
   "cell_type": "code",
   "execution_count": 258,
   "id": "35d785ac",
   "metadata": {},
   "outputs": [
    {
     "name": "stderr",
     "output_type": "stream",
     "text": [
      "\u001b[32m[I 2023-02-26 22:06:06,721]\u001b[0m A new study created in memory with name: no-name-a3143d82-6d4a-4346-91e9-efb6d734f728\u001b[0m\n"
     ]
    },
    {
     "data": {
      "application/json": {
       "ascii": false,
       "bar_format": null,
       "colour": null,
       "elapsed": 0.012234926223754883,
       "initial": 0,
       "n": 0,
       "ncols": null,
       "nrows": null,
       "postfix": null,
       "prefix": "",
       "rate": null,
       "total": 200,
       "unit": "it",
       "unit_divisor": 1000,
       "unit_scale": false
      },
      "application/vnd.jupyter.widget-view+json": {
       "model_id": "e7b509a2291b411dbc73d4cac4ab1199",
       "version_major": 2,
       "version_minor": 0
      },
      "text/plain": [
       "  0%|          | 0/200 [00:00<?, ?it/s]"
      ]
     },
     "metadata": {},
     "output_type": "display_data"
    },
    {
     "name": "stdout",
     "output_type": "stream",
     "text": [
      "\u001b[32m[I 2023-02-26 22:15:26,092]\u001b[0m Trial 0 finished with value: 0.5504298712375973 and parameters: {'bootstrap_type': 'Bernoulli', 'od_wait': 682, 'learning_rate': 0.04079768394826774, 'reg_lambda': 51.10509160965447, 'random_strength': 0.14385819353873208, 'depth': 9, 'min_data_in_leaf': 17, 'leaf_estimation_iterations': 13, 'one_hot_max_size': 2, 'subsample': 0.8077050043274063}. Best is trial 0 with value: 0.5504298712375973.\u001b[0m\n",
      "\u001b[32m[I 2023-02-26 22:19:50,735]\u001b[0m Trial 1 finished with value: 0.4870792808677284 and parameters: {'bootstrap_type': 'Bernoulli', 'od_wait': 683, 'learning_rate': 0.06396030287974057, 'reg_lambda': 44.654855745694945, 'random_strength': 5.129364650485848, 'depth': 6, 'min_data_in_leaf': 18, 'leaf_estimation_iterations': 4, 'one_hot_max_size': 2, 'subsample': 0.1779696549137898}. Best is trial 0 with value: 0.5504298712375973.\u001b[0m\n",
      "\u001b[32m[I 2023-02-26 22:26:24,172]\u001b[0m Trial 2 finished with value: 0.49610947298617547 and parameters: {'bootstrap_type': 'Bernoulli', 'od_wait': 815, 'learning_rate': 0.037952669093558836, 'reg_lambda': 6.702459795055533, 'random_strength': 5.565321495542204, 'depth': 7, 'min_data_in_leaf': 18, 'leaf_estimation_iterations': 12, 'one_hot_max_size': 1, 'subsample': 0.39770800640448467}. Best is trial 0 with value: 0.5504298712375973.\u001b[0m\n",
      "\u001b[32m[I 2023-02-26 22:30:16,364]\u001b[0m Trial 3 finished with value: 0.5926789868109856 and parameters: {'bootstrap_type': 'Bernoulli', 'od_wait': 761, 'learning_rate': 0.06123274239476086, 'reg_lambda': 11.746146618705742, 'random_strength': 4.55214747772391, 'depth': 4, 'min_data_in_leaf': 10, 'leaf_estimation_iterations': 8, 'one_hot_max_size': 1, 'subsample': 0.40602919570885854}. Best is trial 3 with value: 0.5926789868109856.\u001b[0m\n",
      "\u001b[32m[I 2023-02-26 22:36:40,375]\u001b[0m Trial 4 finished with value: 0.5062346257090083 and parameters: {'bootstrap_type': 'Bernoulli', 'od_wait': 983, 'learning_rate': 0.02085492552746679, 'reg_lambda': 85.62302970746559, 'random_strength': 2.2188664047998774, 'depth': 8, 'min_data_in_leaf': 19, 'leaf_estimation_iterations': 11, 'one_hot_max_size': 3, 'subsample': 0.4423784779891323}. Best is trial 3 with value: 0.5926789868109856.\u001b[0m\n",
      "\u001b[32m[I 2023-02-26 22:40:33,437]\u001b[0m Trial 5 finished with value: 0.4859464572352847 and parameters: {'bootstrap_type': 'Bayesian', 'od_wait': 807, 'learning_rate': 0.07190343253821112, 'reg_lambda': 52.11910523178105, 'random_strength': 0.6219523480361249, 'depth': 6, 'min_data_in_leaf': 13, 'leaf_estimation_iterations': 9, 'one_hot_max_size': 2, 'bagging_temperature': 5.040389649917493}. Best is trial 3 with value: 0.5926789868109856.\u001b[0m\n",
      "\u001b[32m[I 2023-02-26 22:48:01,457]\u001b[0m Trial 6 finished with value: 0.5068221895890809 and parameters: {'bootstrap_type': 'Bayesian', 'od_wait': 719, 'learning_rate': 0.09686775976034973, 'reg_lambda': 40.03789327527503, 'random_strength': 6.489041862879473, 'depth': 8, 'min_data_in_leaf': 5, 'leaf_estimation_iterations': 12, 'one_hot_max_size': 2, 'bagging_temperature': 6.305739027909414}. Best is trial 3 with value: 0.5926789868109856.\u001b[0m\n",
      "\u001b[32m[I 2023-02-26 22:51:22,911]\u001b[0m Trial 7 finished with value: 0.47040721092445237 and parameters: {'bootstrap_type': 'Bayesian', 'od_wait': 504, 'learning_rate': 0.09161950702870945, 'reg_lambda': 40.60944950770438, 'random_strength': 8.198540193622339, 'depth': 3, 'min_data_in_leaf': 3, 'leaf_estimation_iterations': 9, 'one_hot_max_size': 1, 'bagging_temperature': 6.225740551657507}. Best is trial 3 with value: 0.5926789868109856.\u001b[0m\n",
      "\u001b[32m[I 2023-02-26 22:54:29,105]\u001b[0m Trial 8 finished with value: 0.4418873044702735 and parameters: {'bootstrap_type': 'Bernoulli', 'od_wait': 634, 'learning_rate': 0.02730357032874932, 'reg_lambda': 70.69872834996096, 'random_strength': 4.741126357141652, 'depth': 5, 'min_data_in_leaf': 3, 'leaf_estimation_iterations': 6, 'one_hot_max_size': 1, 'subsample': 0.3914422347135359}. Best is trial 3 with value: 0.5926789868109856.\u001b[0m\n",
      "\u001b[32m[I 2023-02-26 23:08:51,390]\u001b[0m Trial 9 finished with value: 0.44172431608830315 and parameters: {'bootstrap_type': 'Bernoulli', 'od_wait': 711, 'learning_rate': 0.027011736220211857, 'reg_lambda': 92.85101978292437, 'random_strength': 4.129791502075621, 'depth': 10, 'min_data_in_leaf': 7, 'leaf_estimation_iterations': 6, 'one_hot_max_size': 1, 'subsample': 0.19087270244875507}. Best is trial 3 with value: 0.5926789868109856.\u001b[0m\n",
      "\u001b[32m[I 2023-02-26 23:10:54,719]\u001b[0m Trial 10 finished with value: 0.5761350966331809 and parameters: {'bootstrap_type': 'Bayesian', 'od_wait': 911, 'learning_rate': 0.07783376502216051, 'reg_lambda': 0.05584333914124606, 'random_strength': 8.696145030774442, 'depth': 3, 'min_data_in_leaf': 10, 'leaf_estimation_iterations': 1, 'one_hot_max_size': 3, 'bagging_temperature': 0.7151784439282691}. Best is trial 3 with value: 0.5926789868109856.\u001b[0m\n",
      "\u001b[32m[I 2023-02-26 23:13:06,496]\u001b[0m Trial 11 finished with value: 0.5434216496262376 and parameters: {'bootstrap_type': 'Bayesian', 'od_wait': 945, 'learning_rate': 0.07624622387236178, 'reg_lambda': 5.550444209143706, 'random_strength': 9.41642386395123, 'depth': 3, 'min_data_in_leaf': 10, 'leaf_estimation_iterations': 1, 'one_hot_max_size': 3, 'bagging_temperature': 0.4080948985765991}. Best is trial 3 with value: 0.5926789868109856.\u001b[0m\n",
      "\u001b[32m[I 2023-02-26 23:17:45,676]\u001b[0m Trial 12 finished with value: 0.5183022278500947 and parameters: {'bootstrap_type': 'Bayesian', 'od_wait': 874, 'learning_rate': 0.05433245819004894, 'reg_lambda': 23.063540790002534, 'random_strength': 7.232520621182931, 'depth': 4, 'min_data_in_leaf': 12, 'leaf_estimation_iterations': 15, 'one_hot_max_size': 3, 'bagging_temperature': 0.653859254147918}. Best is trial 3 with value: 0.5926789868109856.\u001b[0m\n",
      "\u001b[32m[I 2023-02-26 23:19:44,253]\u001b[0m Trial 13 finished with value: 0.4833382204643382 and parameters: {'bootstrap_type': 'Bayesian', 'od_wait': 903, 'learning_rate': 0.08563818421472513, 'reg_lambda': 22.354350617710416, 'random_strength': 2.68459574085397, 'depth': 4, 'min_data_in_leaf': 10, 'leaf_estimation_iterations': 1, 'one_hot_max_size': 3, 'bagging_temperature': 2.71193075510363}. Best is trial 3 with value: 0.5926789868109856.\u001b[0m\n",
      "\u001b[32m[I 2023-02-26 23:22:36,105]\u001b[0m Trial 14 finished with value: 0.4644731469870848 and parameters: {'bootstrap_type': 'Bayesian', 'od_wait': 807, 'learning_rate': 0.058918374444924065, 'reg_lambda': 0.08337248473088497, 'random_strength': 9.925800248521753, 'depth': 4, 'min_data_in_leaf': 8, 'leaf_estimation_iterations': 4, 'one_hot_max_size': 2, 'bagging_temperature': 8.570242761469354}. Best is trial 3 with value: 0.5926789868109856.\u001b[0m\n",
      "\u001b[32m[I 2023-02-26 23:26:00,292]\u001b[0m Trial 15 finished with value: 0.5760141954965025 and parameters: {'bootstrap_type': 'Bernoulli', 'od_wait': 601, 'learning_rate': 0.07748267938222349, 'reg_lambda': 23.971112204809987, 'random_strength': 3.1899901692890156, 'depth': 5, 'min_data_in_leaf': 14, 'leaf_estimation_iterations': 4, 'one_hot_max_size': 3, 'subsample': 0.7572530566253488}. Best is trial 3 with value: 0.5926789868109856.\u001b[0m\n",
      "\u001b[32m[I 2023-02-26 23:28:57,275]\u001b[0m Trial 16 finished with value: 0.5149766589227748 and parameters: {'bootstrap_type': 'Bernoulli', 'od_wait': 864, 'learning_rate': 0.04738534389777563, 'reg_lambda': 15.224668961826069, 'random_strength': 8.027809839919053, 'depth': 3, 'min_data_in_leaf': 15, 'leaf_estimation_iterations': 7, 'one_hot_max_size': 1, 'subsample': 0.6418645222135926}. Best is trial 3 with value: 0.5926789868109856.\u001b[0m\n",
      "\u001b[32m[I 2023-02-26 23:30:50,994]\u001b[0m Trial 17 finished with value: 0.34721230307329415 and parameters: {'bootstrap_type': 'Bayesian', 'od_wait': 779, 'learning_rate': 0.010330519937624245, 'reg_lambda': 30.457434298476546, 'random_strength': 6.39656666602873, 'depth': 5, 'min_data_in_leaf': 7, 'leaf_estimation_iterations': 3, 'one_hot_max_size': 2, 'bagging_temperature': 3.1924001131555086}. Best is trial 3 with value: 0.5926789868109856.\u001b[0m\n",
      "\u001b[32m[I 2023-02-26 23:35:49,712]\u001b[0m Trial 18 finished with value: 0.6294443392124075 and parameters: {'bootstrap_type': 'Bernoulli', 'od_wait': 935, 'learning_rate': 0.06599429772750094, 'reg_lambda': 10.306556569997433, 'random_strength': 3.840910125839488, 'depth': 4, 'min_data_in_leaf': 11, 'leaf_estimation_iterations': 15, 'one_hot_max_size': 1, 'subsample': 0.953293232100032}. Best is trial 18 with value: 0.6294443392124075.\u001b[0m\n"
     ]
    },
    {
     "name": "stdout",
     "output_type": "stream",
     "text": [
      "\u001b[32m[I 2023-02-26 23:43:11,238]\u001b[0m Trial 19 finished with value: 0.5702166280668696 and parameters: {'bootstrap_type': 'Bernoulli', 'od_wait': 998, 'learning_rate': 0.06613802846574128, 'reg_lambda': 14.0735129960887, 'random_strength': 3.779496690167775, 'depth': 7, 'min_data_in_leaf': 1, 'leaf_estimation_iterations': 15, 'one_hot_max_size': 1, 'subsample': 0.9957302492145698}. Best is trial 18 with value: 0.6294443392124075.\u001b[0m\n",
      "\u001b[32m[I 2023-02-26 23:46:26,180]\u001b[0m Trial 20 finished with value: 0.5211984710925562 and parameters: {'bootstrap_type': 'Bernoulli', 'od_wait': 558, 'learning_rate': 0.05239080611299954, 'reg_lambda': 60.56286360356791, 'random_strength': 1.448424146000849, 'depth': 5, 'min_data_in_leaf': 15, 'leaf_estimation_iterations': 10, 'one_hot_max_size': 1, 'subsample': 0.9605010375452282}. Best is trial 18 with value: 0.6294443392124075.\u001b[0m\n",
      "\u001b[32m[I 2023-02-26 23:50:18,512]\u001b[0m Trial 21 finished with value: 0.6017892711959929 and parameters: {'bootstrap_type': 'Bernoulli', 'od_wait': 918, 'learning_rate': 0.08289598671054205, 'reg_lambda': 12.079802104868678, 'random_strength': 5.781221034836426, 'depth': 4, 'min_data_in_leaf': 11, 'leaf_estimation_iterations': 8, 'one_hot_max_size': 1, 'subsample': 0.549250399524778}. Best is trial 18 with value: 0.6294443392124075.\u001b[0m\n",
      "\u001b[32m[I 2023-02-26 23:53:54,778]\u001b[0m Trial 22 finished with value: 0.5802889612594789 and parameters: {'bootstrap_type': 'Bernoulli', 'od_wait': 944, 'learning_rate': 0.08548379934196454, 'reg_lambda': 13.664074156746898, 'random_strength': 5.726125748257494, 'depth': 4, 'min_data_in_leaf': 11, 'leaf_estimation_iterations': 8, 'one_hot_max_size': 1, 'subsample': 0.5603276889114795}. Best is trial 18 with value: 0.6294443392124075.\u001b[0m\n",
      "\u001b[32m[I 2023-02-26 23:57:15,313]\u001b[0m Trial 23 finished with value: 0.5530203760470042 and parameters: {'bootstrap_type': 'Bernoulli', 'od_wait': 861, 'learning_rate': 0.06624285990554583, 'reg_lambda': 28.01824261467845, 'random_strength': 4.285469971458466, 'depth': 4, 'min_data_in_leaf': 8, 'leaf_estimation_iterations': 7, 'one_hot_max_size': 1, 'subsample': 0.5344770327448712}. Best is trial 18 with value: 0.6294443392124075.\u001b[0m\n",
      "\u001b[32m[I 2023-02-27 00:01:58,632]\u001b[0m Trial 24 finished with value: 0.6081734461856452 and parameters: {'bootstrap_type': 'Bernoulli', 'od_wait': 950, 'learning_rate': 0.08423968101369725, 'reg_lambda': 12.32597788378742, 'random_strength': 3.3843813831727343, 'depth': 6, 'min_data_in_leaf': 12, 'leaf_estimation_iterations': 10, 'one_hot_max_size': 1, 'subsample': 0.32093474260765753}. Best is trial 18 with value: 0.6294443392124075.\u001b[0m\n",
      "\u001b[32m[I 2023-02-27 00:07:27,131]\u001b[0m Trial 25 finished with value: 0.5759628445198214 and parameters: {'bootstrap_type': 'Bernoulli', 'od_wait': 955, 'learning_rate': 0.08728152183769583, 'reg_lambda': 34.32089925205514, 'random_strength': 3.434028600369688, 'depth': 6, 'min_data_in_leaf': 13, 'leaf_estimation_iterations': 14, 'one_hot_max_size': 1, 'subsample': 0.2864364636398852}. Best is trial 18 with value: 0.6294443392124075.\u001b[0m\n",
      "\u001b[32m[I 2023-02-27 00:11:35,109]\u001b[0m Trial 26 finished with value: 0.57387791117631 and parameters: {'bootstrap_type': 'Bernoulli', 'od_wait': 911, 'learning_rate': 0.09762178508498977, 'reg_lambda': 21.33319653102896, 'random_strength': 2.913093653128971, 'depth': 5, 'min_data_in_leaf': 16, 'leaf_estimation_iterations': 11, 'one_hot_max_size': 1, 'subsample': 0.7231051149701233}. Best is trial 18 with value: 0.6294443392124075.\u001b[0m\n",
      "\u001b[32m[I 2023-02-27 00:17:29,246]\u001b[0m Trial 27 finished with value: 0.6099947058868556 and parameters: {'bootstrap_type': 'Bernoulli', 'od_wait': 841, 'learning_rate': 0.07122576301470007, 'reg_lambda': 5.766576506171617, 'random_strength': 1.2619578295294667, 'depth': 7, 'min_data_in_leaf': 12, 'leaf_estimation_iterations': 13, 'one_hot_max_size': 2, 'subsample': 0.8837203609427644}. Best is trial 18 with value: 0.6294443392124075.\u001b[0m\n",
      "\u001b[32m[I 2023-02-27 00:25:09,411]\u001b[0m Trial 28 finished with value: 0.5310263516501595 and parameters: {'bootstrap_type': 'Bernoulli', 'od_wait': 842, 'learning_rate': 0.06812553370540933, 'reg_lambda': 72.59280474434496, 'random_strength': 1.6601970607247911, 'depth': 8, 'min_data_in_leaf': 13, 'leaf_estimation_iterations': 13, 'one_hot_max_size': 2, 'subsample': 0.881315936030608}. Best is trial 18 with value: 0.6294443392124075.\u001b[0m\n",
      "\u001b[32m[I 2023-02-27 00:34:58,051]\u001b[0m Trial 29 finished with value: 0.6084007246383578 and parameters: {'bootstrap_type': 'Bernoulli', 'od_wait': 956, 'learning_rate': 0.044587215453943514, 'reg_lambda': 5.109549823155672, 'random_strength': 0.09116566732884657, 'depth': 9, 'min_data_in_leaf': 12, 'leaf_estimation_iterations': 13, 'one_hot_max_size': 2, 'subsample': 0.8791263990967407}. Best is trial 18 with value: 0.6294443392124075.\u001b[0m\n",
      "\u001b[32m[I 2023-02-27 00:51:22,055]\u001b[0m Trial 30 finished with value: 0.6212928240980536 and parameters: {'bootstrap_type': 'Bernoulli', 'od_wait': 977, 'learning_rate': 0.042988372032400524, 'reg_lambda': 4.7717501486138065, 'random_strength': 0.12567688202130967, 'depth': 10, 'min_data_in_leaf': 16, 'leaf_estimation_iterations': 14, 'one_hot_max_size': 2, 'subsample': 0.8929214765840339}. Best is trial 18 with value: 0.6294443392124075.\u001b[0m\n",
      "\u001b[32m[I 2023-02-27 01:06:43,396]\u001b[0m Trial 31 finished with value: 0.6057665834308062 and parameters: {'bootstrap_type': 'Bernoulli', 'od_wait': 974, 'learning_rate': 0.041826741444373094, 'reg_lambda': 6.370863897092214, 'random_strength': 0.3288268364627201, 'depth': 10, 'min_data_in_leaf': 20, 'leaf_estimation_iterations': 14, 'one_hot_max_size': 2, 'subsample': 0.8869106883945056}. Best is trial 18 with value: 0.6294443392124075.\u001b[0m\n",
      "\u001b[32m[I 2023-02-27 01:16:33,472]\u001b[0m Trial 32 finished with value: 0.6022646440947095 and parameters: {'bootstrap_type': 'Bernoulli', 'od_wait': 888, 'learning_rate': 0.04604777135670576, 'reg_lambda': 0.15200184522235105, 'random_strength': 0.08461468221785552, 'depth': 9, 'min_data_in_leaf': 17, 'leaf_estimation_iterations': 13, 'one_hot_max_size': 2, 'subsample': 0.8830063764178763}. Best is trial 18 with value: 0.6294443392124075.\u001b[0m\n",
      "\u001b[32m[I 2023-02-27 01:26:44,478]\u001b[0m Trial 33 finished with value: 0.5491631764633458 and parameters: {'bootstrap_type': 'Bernoulli', 'od_wait': 932, 'learning_rate': 0.04787759322131261, 'reg_lambda': 5.91043339739508, 'random_strength': 0.8348238689036775, 'depth': 9, 'min_data_in_leaf': 15, 'leaf_estimation_iterations': 14, 'one_hot_max_size': 2, 'subsample': 0.8258878480587779}. Best is trial 18 with value: 0.6294443392124075.\u001b[0m\n",
      "\u001b[32m[I 2023-02-27 01:41:09,064]\u001b[0m Trial 34 finished with value: 0.5306709172864331 and parameters: {'bootstrap_type': 'Bernoulli', 'od_wait': 974, 'learning_rate': 0.03537645870416148, 'reg_lambda': 18.768908680766994, 'random_strength': 1.4010577741854306, 'depth': 10, 'min_data_in_leaf': 17, 'leaf_estimation_iterations': 12, 'one_hot_max_size': 2, 'subsample': 0.9414803707591682}. Best is trial 18 with value: 0.6294443392124075.\u001b[0m\n",
      "\u001b[32m[I 2023-02-27 01:53:07,408]\u001b[0m Trial 35 finished with value: 0.5666584291506861 and parameters: {'bootstrap_type': 'Bernoulli', 'od_wait': 836, 'learning_rate': 0.059849991312733095, 'reg_lambda': 8.167883095814412, 'random_strength': 2.161973323542151, 'depth': 9, 'min_data_in_leaf': 9, 'leaf_estimation_iterations': 15, 'one_hot_max_size': 2, 'subsample': 0.7216659885693968}. Best is trial 18 with value: 0.6294443392124075.\u001b[0m\n",
      "\u001b[32m[I 2023-02-27 01:57:32,387]\u001b[0m Trial 36 finished with value: 0.5372578932965407 and parameters: {'bootstrap_type': 'Bernoulli', 'od_wait': 1000, 'learning_rate': 0.03547536426020064, 'reg_lambda': 50.816341776805764, 'random_strength': 0.8769385501395149, 'depth': 7, 'min_data_in_leaf': 12, 'leaf_estimation_iterations': 12, 'one_hot_max_size': 2, 'subsample': 0.9226690790138996}. Best is trial 18 with value: 0.6294443392124075.\u001b[0m\n",
      "\u001b[32m[I 2023-02-27 02:04:18,192]\u001b[0m Trial 37 finished with value: 0.5578231286487189 and parameters: {'bootstrap_type': 'Bernoulli', 'od_wait': 966, 'learning_rate': 0.05181249922356875, 'reg_lambda': 17.91946219749967, 'random_strength': 2.0677434042735374, 'depth': 8, 'min_data_in_leaf': 14, 'leaf_estimation_iterations': 14, 'one_hot_max_size': 2, 'subsample': 0.7852195236831148}. Best is trial 18 with value: 0.6294443392124075.\u001b[0m\n"
     ]
    },
    {
     "name": "stdout",
     "output_type": "stream",
     "text": [
      "\u001b[32m[I 2023-02-27 02:19:26,316]\u001b[0m Trial 38 finished with value: 0.5769346456733468 and parameters: {'bootstrap_type': 'Bernoulli', 'od_wait': 762, 'learning_rate': 0.07209947164985954, 'reg_lambda': 33.841718385702066, 'random_strength': 0.8909268260276242, 'depth': 10, 'min_data_in_leaf': 19, 'leaf_estimation_iterations': 13, 'one_hot_max_size': 2, 'subsample': 0.6644663158985703}. Best is trial 18 with value: 0.6294443392124075.\u001b[0m\n",
      "\u001b[32m[I 2023-02-27 02:28:21,139]\u001b[0m Trial 39 finished with value: 0.5777312765863544 and parameters: {'bootstrap_type': 'Bernoulli', 'od_wait': 889, 'learning_rate': 0.03182330905437904, 'reg_lambda': 7.63057339260114, 'random_strength': 0.0692796827745287, 'depth': 9, 'min_data_in_leaf': 16, 'leaf_estimation_iterations': 11, 'one_hot_max_size': 2, 'subsample': 0.812134594938728}. Best is trial 18 with value: 0.6294443392124075.\u001b[0m\n",
      "\u001b[32m[I 2023-02-27 02:34:53,873]\u001b[0m Trial 40 finished with value: 0.5699577046932965 and parameters: {'bootstrap_type': 'Bernoulli', 'od_wait': 822, 'learning_rate': 0.04049119595899726, 'reg_lambda': 27.346993626859753, 'random_strength': 1.2957827373624287, 'depth': 8, 'min_data_in_leaf': 9, 'leaf_estimation_iterations': 13, 'one_hot_max_size': 2, 'subsample': 0.8565110705258402}. Best is trial 18 with value: 0.6294443392124075.\u001b[0m\n",
      "\u001b[32m[I 2023-02-27 02:39:18,599]\u001b[0m Trial 41 finished with value: 0.6027433755765669 and parameters: {'bootstrap_type': 'Bernoulli', 'od_wait': 932, 'learning_rate': 0.07083764163012052, 'reg_lambda': 9.148789662896512, 'random_strength': 2.634136836154229, 'depth': 6, 'min_data_in_leaf': 12, 'leaf_estimation_iterations': 10, 'one_hot_max_size': 1, 'subsample': 0.9795108920237232}. Best is trial 18 with value: 0.6294443392124075.\u001b[0m\n",
      "\u001b[32m[I 2023-02-27 02:43:51,079]\u001b[0m Trial 42 finished with value: 0.5583978656753792 and parameters: {'bootstrap_type': 'Bernoulli', 'od_wait': 959, 'learning_rate': 0.09242198886566177, 'reg_lambda': 4.420514974588851, 'random_strength': 0.47716447760693165, 'depth': 6, 'min_data_in_leaf': 12, 'leaf_estimation_iterations': 15, 'one_hot_max_size': 2, 'subsample': 0.1128489303383658}. Best is trial 18 with value: 0.6294443392124075.\u001b[0m\n",
      "\u001b[32m[I 2023-02-27 02:48:45,934]\u001b[0m Trial 43 finished with value: 0.5744379971433111 and parameters: {'bootstrap_type': 'Bernoulli', 'od_wait': 985, 'learning_rate': 0.06260919645584606, 'reg_lambda': 16.21348226202953, 'random_strength': 1.7919808387471423, 'depth': 7, 'min_data_in_leaf': 14, 'leaf_estimation_iterations': 12, 'one_hot_max_size': 1, 'subsample': 0.9207166932347728}. Best is trial 18 with value: 0.6294443392124075.\u001b[0m\n",
      "\u001b[32m[I 2023-02-27 03:06:07,611]\u001b[0m Trial 44 finished with value: 0.5498451126044804 and parameters: {'bootstrap_type': 'Bernoulli', 'od_wait': 928, 'learning_rate': 0.058099269676403054, 'reg_lambda': 11.87736528180436, 'random_strength': 4.746511059028071, 'depth': 10, 'min_data_in_leaf': 11, 'leaf_estimation_iterations': 11, 'one_hot_max_size': 3, 'subsample': 0.8488052633731358}. Best is trial 18 with value: 0.6294443392124075.\u001b[0m\n",
      "\u001b[32m[I 2023-02-27 03:11:48,612]\u001b[0m Trial 45 finished with value: 0.5948921721369279 and parameters: {'bootstrap_type': 'Bernoulli', 'od_wait': 883, 'learning_rate': 0.08096057943850447, 'reg_lambda': 2.6493492878447302, 'random_strength': 3.6012618290410185, 'depth': 7, 'min_data_in_leaf': 13, 'leaf_estimation_iterations': 14, 'one_hot_max_size': 1, 'subsample': 0.9981283380625015}. Best is trial 18 with value: 0.6294443392124075.\u001b[0m\n",
      "\u001b[32m[I 2023-02-27 03:22:00,555]\u001b[0m Trial 46 finished with value: 0.6124279249265437 and parameters: {'bootstrap_type': 'Bernoulli', 'od_wait': 791, 'learning_rate': 0.07422549611341, 'reg_lambda': 10.986562805815623, 'random_strength': 2.5011302599524243, 'depth': 9, 'min_data_in_leaf': 6, 'leaf_estimation_iterations': 10, 'one_hot_max_size': 2, 'subsample': 0.3112556439108161}. Best is trial 18 with value: 0.6294443392124075.\u001b[0m\n",
      "\u001b[32m[I 2023-02-27 03:31:41,617]\u001b[0m Trial 47 finished with value: 0.533825533186147 and parameters: {'bootstrap_type': 'Bernoulli', 'od_wait': 788, 'learning_rate': 0.07412901209415881, 'reg_lambda': 44.68405181413501, 'random_strength': 1.1106329603061345, 'depth': 9, 'min_data_in_leaf': 5, 'leaf_estimation_iterations': 15, 'one_hot_max_size': 2, 'subsample': 0.9186712145108987}. Best is trial 18 with value: 0.6294443392124075.\u001b[0m\n"
     ]
    },
    {
     "ename": "KeyboardInterrupt",
     "evalue": "",
     "output_type": "error",
     "traceback": [
      "\u001b[1;31m---------------------------------------------------------------------------\u001b[0m",
      "\u001b[1;31mKeyboardInterrupt\u001b[0m                         Traceback (most recent call last)",
      "Input \u001b[1;32mIn [258]\u001b[0m, in \u001b[0;36m<cell line: 2>\u001b[1;34m()\u001b[0m\n\u001b[0;32m      1\u001b[0m study \u001b[38;5;241m=\u001b[39m optuna\u001b[38;5;241m.\u001b[39mcreate_study(direction\u001b[38;5;241m=\u001b[39m\u001b[38;5;124m'\u001b[39m\u001b[38;5;124mmaximize\u001b[39m\u001b[38;5;124m'\u001b[39m)\n\u001b[1;32m----> 2\u001b[0m \u001b[43mstudy\u001b[49m\u001b[38;5;241;43m.\u001b[39;49m\u001b[43moptimize\u001b[49m\u001b[43m(\u001b[49m\u001b[43mcb_objective\u001b[49m\u001b[43m,\u001b[49m\u001b[43m \u001b[49m\u001b[43mn_trials\u001b[49m\u001b[38;5;241;43m=\u001b[39;49m\u001b[38;5;241;43m200\u001b[39;49m\u001b[43m,\u001b[49m\u001b[43m \u001b[49m\u001b[43mshow_progress_bar\u001b[49m\u001b[38;5;241;43m=\u001b[39;49m\u001b[38;5;28;43;01mTrue\u001b[39;49;00m\u001b[43m)\u001b[49m\n",
      "File \u001b[1;32m~\\anaconda3\\envs\\py39\\lib\\site-packages\\optuna\\study\\study.py:400\u001b[0m, in \u001b[0;36mStudy.optimize\u001b[1;34m(self, func, n_trials, timeout, n_jobs, catch, callbacks, gc_after_trial, show_progress_bar)\u001b[0m\n\u001b[0;32m    392\u001b[0m \u001b[38;5;28;01mif\u001b[39;00m n_jobs \u001b[38;5;241m!=\u001b[39m \u001b[38;5;241m1\u001b[39m:\n\u001b[0;32m    393\u001b[0m     warnings\u001b[38;5;241m.\u001b[39mwarn(\n\u001b[0;32m    394\u001b[0m         \u001b[38;5;124m\"\u001b[39m\u001b[38;5;124m`n_jobs` argument has been deprecated in v2.7.0. \u001b[39m\u001b[38;5;124m\"\u001b[39m\n\u001b[0;32m    395\u001b[0m         \u001b[38;5;124m\"\u001b[39m\u001b[38;5;124mThis feature will be removed in v4.0.0. \u001b[39m\u001b[38;5;124m\"\u001b[39m\n\u001b[0;32m    396\u001b[0m         \u001b[38;5;124m\"\u001b[39m\u001b[38;5;124mSee https://github.com/optuna/optuna/releases/tag/v2.7.0.\u001b[39m\u001b[38;5;124m\"\u001b[39m,\n\u001b[0;32m    397\u001b[0m         \u001b[38;5;167;01mFutureWarning\u001b[39;00m,\n\u001b[0;32m    398\u001b[0m     )\n\u001b[1;32m--> 400\u001b[0m \u001b[43m_optimize\u001b[49m\u001b[43m(\u001b[49m\n\u001b[0;32m    401\u001b[0m \u001b[43m    \u001b[49m\u001b[43mstudy\u001b[49m\u001b[38;5;241;43m=\u001b[39;49m\u001b[38;5;28;43mself\u001b[39;49m\u001b[43m,\u001b[49m\n\u001b[0;32m    402\u001b[0m \u001b[43m    \u001b[49m\u001b[43mfunc\u001b[49m\u001b[38;5;241;43m=\u001b[39;49m\u001b[43mfunc\u001b[49m\u001b[43m,\u001b[49m\n\u001b[0;32m    403\u001b[0m \u001b[43m    \u001b[49m\u001b[43mn_trials\u001b[49m\u001b[38;5;241;43m=\u001b[39;49m\u001b[43mn_trials\u001b[49m\u001b[43m,\u001b[49m\n\u001b[0;32m    404\u001b[0m \u001b[43m    \u001b[49m\u001b[43mtimeout\u001b[49m\u001b[38;5;241;43m=\u001b[39;49m\u001b[43mtimeout\u001b[49m\u001b[43m,\u001b[49m\n\u001b[0;32m    405\u001b[0m \u001b[43m    \u001b[49m\u001b[43mn_jobs\u001b[49m\u001b[38;5;241;43m=\u001b[39;49m\u001b[43mn_jobs\u001b[49m\u001b[43m,\u001b[49m\n\u001b[0;32m    406\u001b[0m \u001b[43m    \u001b[49m\u001b[43mcatch\u001b[49m\u001b[38;5;241;43m=\u001b[39;49m\u001b[43mcatch\u001b[49m\u001b[43m,\u001b[49m\n\u001b[0;32m    407\u001b[0m \u001b[43m    \u001b[49m\u001b[43mcallbacks\u001b[49m\u001b[38;5;241;43m=\u001b[39;49m\u001b[43mcallbacks\u001b[49m\u001b[43m,\u001b[49m\n\u001b[0;32m    408\u001b[0m \u001b[43m    \u001b[49m\u001b[43mgc_after_trial\u001b[49m\u001b[38;5;241;43m=\u001b[39;49m\u001b[43mgc_after_trial\u001b[49m\u001b[43m,\u001b[49m\n\u001b[0;32m    409\u001b[0m \u001b[43m    \u001b[49m\u001b[43mshow_progress_bar\u001b[49m\u001b[38;5;241;43m=\u001b[39;49m\u001b[43mshow_progress_bar\u001b[49m\u001b[43m,\u001b[49m\n\u001b[0;32m    410\u001b[0m \u001b[43m\u001b[49m\u001b[43m)\u001b[49m\n",
      "File \u001b[1;32m~\\anaconda3\\envs\\py39\\lib\\site-packages\\optuna\\study\\_optimize.py:66\u001b[0m, in \u001b[0;36m_optimize\u001b[1;34m(study, func, n_trials, timeout, n_jobs, catch, callbacks, gc_after_trial, show_progress_bar)\u001b[0m\n\u001b[0;32m     64\u001b[0m \u001b[38;5;28;01mtry\u001b[39;00m:\n\u001b[0;32m     65\u001b[0m     \u001b[38;5;28;01mif\u001b[39;00m n_jobs \u001b[38;5;241m==\u001b[39m \u001b[38;5;241m1\u001b[39m:\n\u001b[1;32m---> 66\u001b[0m         \u001b[43m_optimize_sequential\u001b[49m\u001b[43m(\u001b[49m\n\u001b[0;32m     67\u001b[0m \u001b[43m            \u001b[49m\u001b[43mstudy\u001b[49m\u001b[43m,\u001b[49m\n\u001b[0;32m     68\u001b[0m \u001b[43m            \u001b[49m\u001b[43mfunc\u001b[49m\u001b[43m,\u001b[49m\n\u001b[0;32m     69\u001b[0m \u001b[43m            \u001b[49m\u001b[43mn_trials\u001b[49m\u001b[43m,\u001b[49m\n\u001b[0;32m     70\u001b[0m \u001b[43m            \u001b[49m\u001b[43mtimeout\u001b[49m\u001b[43m,\u001b[49m\n\u001b[0;32m     71\u001b[0m \u001b[43m            \u001b[49m\u001b[43mcatch\u001b[49m\u001b[43m,\u001b[49m\n\u001b[0;32m     72\u001b[0m \u001b[43m            \u001b[49m\u001b[43mcallbacks\u001b[49m\u001b[43m,\u001b[49m\n\u001b[0;32m     73\u001b[0m \u001b[43m            \u001b[49m\u001b[43mgc_after_trial\u001b[49m\u001b[43m,\u001b[49m\n\u001b[0;32m     74\u001b[0m \u001b[43m            \u001b[49m\u001b[43mreseed_sampler_rng\u001b[49m\u001b[38;5;241;43m=\u001b[39;49m\u001b[38;5;28;43;01mFalse\u001b[39;49;00m\u001b[43m,\u001b[49m\n\u001b[0;32m     75\u001b[0m \u001b[43m            \u001b[49m\u001b[43mtime_start\u001b[49m\u001b[38;5;241;43m=\u001b[39;49m\u001b[38;5;28;43;01mNone\u001b[39;49;00m\u001b[43m,\u001b[49m\n\u001b[0;32m     76\u001b[0m \u001b[43m            \u001b[49m\u001b[43mprogress_bar\u001b[49m\u001b[38;5;241;43m=\u001b[39;49m\u001b[43mprogress_bar\u001b[49m\u001b[43m,\u001b[49m\n\u001b[0;32m     77\u001b[0m \u001b[43m        \u001b[49m\u001b[43m)\u001b[49m\n\u001b[0;32m     78\u001b[0m     \u001b[38;5;28;01melse\u001b[39;00m:\n\u001b[0;32m     79\u001b[0m         \u001b[38;5;28;01mif\u001b[39;00m show_progress_bar:\n",
      "File \u001b[1;32m~\\anaconda3\\envs\\py39\\lib\\site-packages\\optuna\\study\\_optimize.py:163\u001b[0m, in \u001b[0;36m_optimize_sequential\u001b[1;34m(study, func, n_trials, timeout, catch, callbacks, gc_after_trial, reseed_sampler_rng, time_start, progress_bar)\u001b[0m\n\u001b[0;32m    160\u001b[0m         \u001b[38;5;28;01mbreak\u001b[39;00m\n\u001b[0;32m    162\u001b[0m \u001b[38;5;28;01mtry\u001b[39;00m:\n\u001b[1;32m--> 163\u001b[0m     trial \u001b[38;5;241m=\u001b[39m \u001b[43m_run_trial\u001b[49m\u001b[43m(\u001b[49m\u001b[43mstudy\u001b[49m\u001b[43m,\u001b[49m\u001b[43m \u001b[49m\u001b[43mfunc\u001b[49m\u001b[43m,\u001b[49m\u001b[43m \u001b[49m\u001b[43mcatch\u001b[49m\u001b[43m)\u001b[49m\n\u001b[0;32m    164\u001b[0m \u001b[38;5;28;01mexcept\u001b[39;00m \u001b[38;5;167;01mException\u001b[39;00m:\n\u001b[0;32m    165\u001b[0m     \u001b[38;5;28;01mraise\u001b[39;00m\n",
      "File \u001b[1;32m~\\anaconda3\\envs\\py39\\lib\\site-packages\\optuna\\study\\_optimize.py:213\u001b[0m, in \u001b[0;36m_run_trial\u001b[1;34m(study, func, catch)\u001b[0m\n\u001b[0;32m    210\u001b[0m     thread\u001b[38;5;241m.\u001b[39mstart()\n\u001b[0;32m    212\u001b[0m \u001b[38;5;28;01mtry\u001b[39;00m:\n\u001b[1;32m--> 213\u001b[0m     value_or_values \u001b[38;5;241m=\u001b[39m \u001b[43mfunc\u001b[49m\u001b[43m(\u001b[49m\u001b[43mtrial\u001b[49m\u001b[43m)\u001b[49m\n\u001b[0;32m    214\u001b[0m \u001b[38;5;28;01mexcept\u001b[39;00m exceptions\u001b[38;5;241m.\u001b[39mTrialPruned \u001b[38;5;28;01mas\u001b[39;00m e:\n\u001b[0;32m    215\u001b[0m     \u001b[38;5;66;03m# TODO(mamu): Handle multi-objective cases.\u001b[39;00m\n\u001b[0;32m    216\u001b[0m     state \u001b[38;5;241m=\u001b[39m TrialState\u001b[38;5;241m.\u001b[39mPRUNED\n",
      "Input \u001b[1;32mIn [257]\u001b[0m, in \u001b[0;36mcb_objective\u001b[1;34m(trial)\u001b[0m\n\u001b[0;32m     32\u001b[0m \u001b[38;5;28;01mfor\u001b[39;00m fold, (train_index, val_index) \u001b[38;5;129;01min\u001b[39;00m \u001b[38;5;28menumerate\u001b[39m(rskfold\u001b[38;5;241m.\u001b[39msplit(train_X, train_Y)):\n\u001b[0;32m     33\u001b[0m     x_trn, x_val, y_trn, y_val \u001b[38;5;241m=\u001b[39m train_X\u001b[38;5;241m.\u001b[39mloc[train_index], train_X\u001b[38;5;241m.\u001b[39mloc[val_index], train_Y\u001b[38;5;241m.\u001b[39mloc[train_index], train_Y\u001b[38;5;241m.\u001b[39mloc[val_index]\n\u001b[1;32m---> 35\u001b[0m     \u001b[43mclf\u001b[49m\u001b[38;5;241;43m.\u001b[39;49m\u001b[43mfit\u001b[49m\u001b[43m(\u001b[49m\u001b[43mx_trn\u001b[49m\u001b[43m,\u001b[49m\u001b[43m \u001b[49m\u001b[43my_trn\u001b[49m\u001b[43m,\u001b[49m\u001b[43m \u001b[49m\u001b[43meval_set\u001b[49m\u001b[38;5;241;43m=\u001b[39;49m\u001b[43m(\u001b[49m\u001b[43mx_val\u001b[49m\u001b[43m,\u001b[49m\u001b[43m \u001b[49m\u001b[43my_val\u001b[49m\u001b[43m)\u001b[49m\u001b[43m,\u001b[49m\u001b[43m \u001b[49m\u001b[43mearly_stopping_rounds\u001b[49m\u001b[38;5;241;43m=\u001b[39;49m\u001b[38;5;241;43m100\u001b[39;49m\u001b[43m)\u001b[49m\n\u001b[0;32m     37\u001b[0m     pred_list\u001b[38;5;241m.\u001b[39mappend(clf\u001b[38;5;241m.\u001b[39mpredict(test_X))\n\u001b[0;32m     38\u001b[0m     proba_list\u001b[38;5;241m.\u001b[39mappend(clf\u001b[38;5;241m.\u001b[39mpredict_proba(test_X))\n",
      "File \u001b[1;32m~\\anaconda3\\envs\\py39\\lib\\site-packages\\catboost\\core.py:5007\u001b[0m, in \u001b[0;36mCatBoostClassifier.fit\u001b[1;34m(self, X, y, cat_features, text_features, embedding_features, sample_weight, baseline, use_best_model, eval_set, verbose, logging_level, plot, column_description, verbose_eval, metric_period, silent, early_stopping_rounds, save_snapshot, snapshot_file, snapshot_interval, init_model, callbacks, log_cout, log_cerr)\u001b[0m\n\u001b[0;32m   5004\u001b[0m \u001b[38;5;28;01mif\u001b[39;00m \u001b[38;5;124m'\u001b[39m\u001b[38;5;124mloss_function\u001b[39m\u001b[38;5;124m'\u001b[39m \u001b[38;5;129;01min\u001b[39;00m params:\n\u001b[0;32m   5005\u001b[0m     CatBoostClassifier\u001b[38;5;241m.\u001b[39m_check_is_compatible_loss(params[\u001b[38;5;124m'\u001b[39m\u001b[38;5;124mloss_function\u001b[39m\u001b[38;5;124m'\u001b[39m])\n\u001b[1;32m-> 5007\u001b[0m \u001b[38;5;28;43mself\u001b[39;49m\u001b[38;5;241;43m.\u001b[39;49m\u001b[43m_fit\u001b[49m\u001b[43m(\u001b[49m\u001b[43mX\u001b[49m\u001b[43m,\u001b[49m\u001b[43m \u001b[49m\u001b[43my\u001b[49m\u001b[43m,\u001b[49m\u001b[43m \u001b[49m\u001b[43mcat_features\u001b[49m\u001b[43m,\u001b[49m\u001b[43m \u001b[49m\u001b[43mtext_features\u001b[49m\u001b[43m,\u001b[49m\u001b[43m \u001b[49m\u001b[43membedding_features\u001b[49m\u001b[43m,\u001b[49m\u001b[43m \u001b[49m\u001b[38;5;28;43;01mNone\u001b[39;49;00m\u001b[43m,\u001b[49m\u001b[43m \u001b[49m\u001b[43msample_weight\u001b[49m\u001b[43m,\u001b[49m\u001b[43m \u001b[49m\u001b[38;5;28;43;01mNone\u001b[39;49;00m\u001b[43m,\u001b[49m\u001b[43m \u001b[49m\u001b[38;5;28;43;01mNone\u001b[39;49;00m\u001b[43m,\u001b[49m\u001b[43m \u001b[49m\u001b[38;5;28;43;01mNone\u001b[39;49;00m\u001b[43m,\u001b[49m\u001b[43m \u001b[49m\u001b[38;5;28;43;01mNone\u001b[39;49;00m\u001b[43m,\u001b[49m\u001b[43m \u001b[49m\u001b[43mbaseline\u001b[49m\u001b[43m,\u001b[49m\u001b[43m \u001b[49m\u001b[43muse_best_model\u001b[49m\u001b[43m,\u001b[49m\n\u001b[0;32m   5008\u001b[0m \u001b[43m          \u001b[49m\u001b[43meval_set\u001b[49m\u001b[43m,\u001b[49m\u001b[43m \u001b[49m\u001b[43mverbose\u001b[49m\u001b[43m,\u001b[49m\u001b[43m \u001b[49m\u001b[43mlogging_level\u001b[49m\u001b[43m,\u001b[49m\u001b[43m \u001b[49m\u001b[43mplot\u001b[49m\u001b[43m,\u001b[49m\u001b[43m \u001b[49m\u001b[43mcolumn_description\u001b[49m\u001b[43m,\u001b[49m\u001b[43m \u001b[49m\u001b[43mverbose_eval\u001b[49m\u001b[43m,\u001b[49m\u001b[43m \u001b[49m\u001b[43mmetric_period\u001b[49m\u001b[43m,\u001b[49m\n\u001b[0;32m   5009\u001b[0m \u001b[43m          \u001b[49m\u001b[43msilent\u001b[49m\u001b[43m,\u001b[49m\u001b[43m \u001b[49m\u001b[43mearly_stopping_rounds\u001b[49m\u001b[43m,\u001b[49m\u001b[43m \u001b[49m\u001b[43msave_snapshot\u001b[49m\u001b[43m,\u001b[49m\u001b[43m \u001b[49m\u001b[43msnapshot_file\u001b[49m\u001b[43m,\u001b[49m\u001b[43m \u001b[49m\u001b[43msnapshot_interval\u001b[49m\u001b[43m,\u001b[49m\u001b[43m \u001b[49m\u001b[43minit_model\u001b[49m\u001b[43m,\u001b[49m\u001b[43m \u001b[49m\u001b[43mcallbacks\u001b[49m\u001b[43m,\u001b[49m\u001b[43m \u001b[49m\u001b[43mlog_cout\u001b[49m\u001b[43m,\u001b[49m\u001b[43m \u001b[49m\u001b[43mlog_cerr\u001b[49m\u001b[43m)\u001b[49m\n\u001b[0;32m   5010\u001b[0m \u001b[38;5;28;01mreturn\u001b[39;00m \u001b[38;5;28mself\u001b[39m\n",
      "File \u001b[1;32m~\\anaconda3\\envs\\py39\\lib\\site-packages\\catboost\\core.py:2278\u001b[0m, in \u001b[0;36mCatBoost._fit\u001b[1;34m(self, X, y, cat_features, text_features, embedding_features, pairs, sample_weight, group_id, group_weight, subgroup_id, pairs_weight, baseline, use_best_model, eval_set, verbose, logging_level, plot, column_description, verbose_eval, metric_period, silent, early_stopping_rounds, save_snapshot, snapshot_file, snapshot_interval, init_model, callbacks, log_cout, log_cerr)\u001b[0m\n\u001b[0;32m   2274\u001b[0m allow_clear_pool \u001b[38;5;241m=\u001b[39m train_params[\u001b[38;5;124m\"\u001b[39m\u001b[38;5;124mallow_clear_pool\u001b[39m\u001b[38;5;124m\"\u001b[39m]\n\u001b[0;32m   2276\u001b[0m \u001b[38;5;28;01mwith\u001b[39;00m log_fixup(log_cout, log_cerr), \\\n\u001b[0;32m   2277\u001b[0m     plot_wrapper(plot, [_get_train_dir(\u001b[38;5;28mself\u001b[39m\u001b[38;5;241m.\u001b[39mget_params())]):\n\u001b[1;32m-> 2278\u001b[0m     \u001b[38;5;28;43mself\u001b[39;49m\u001b[38;5;241;43m.\u001b[39;49m\u001b[43m_train\u001b[49m\u001b[43m(\u001b[49m\n\u001b[0;32m   2279\u001b[0m \u001b[43m        \u001b[49m\u001b[43mtrain_pool\u001b[49m\u001b[43m,\u001b[49m\n\u001b[0;32m   2280\u001b[0m \u001b[43m        \u001b[49m\u001b[43mtrain_params\u001b[49m\u001b[43m[\u001b[49m\u001b[38;5;124;43m\"\u001b[39;49m\u001b[38;5;124;43meval_sets\u001b[39;49m\u001b[38;5;124;43m\"\u001b[39;49m\u001b[43m]\u001b[49m\u001b[43m,\u001b[49m\n\u001b[0;32m   2281\u001b[0m \u001b[43m        \u001b[49m\u001b[43mparams\u001b[49m\u001b[43m,\u001b[49m\n\u001b[0;32m   2282\u001b[0m \u001b[43m        \u001b[49m\u001b[43mallow_clear_pool\u001b[49m\u001b[43m,\u001b[49m\n\u001b[0;32m   2283\u001b[0m \u001b[43m        \u001b[49m\u001b[43mtrain_params\u001b[49m\u001b[43m[\u001b[49m\u001b[38;5;124;43m\"\u001b[39;49m\u001b[38;5;124;43minit_model\u001b[39;49m\u001b[38;5;124;43m\"\u001b[39;49m\u001b[43m]\u001b[49m\n\u001b[0;32m   2284\u001b[0m \u001b[43m    \u001b[49m\u001b[43m)\u001b[49m\n\u001b[0;32m   2286\u001b[0m \u001b[38;5;66;03m# Have property feature_importance possibly set\u001b[39;00m\n\u001b[0;32m   2287\u001b[0m loss \u001b[38;5;241m=\u001b[39m \u001b[38;5;28mself\u001b[39m\u001b[38;5;241m.\u001b[39m_object\u001b[38;5;241m.\u001b[39m_get_loss_function_name()\n",
      "File \u001b[1;32m~\\anaconda3\\envs\\py39\\lib\\site-packages\\catboost\\core.py:1705\u001b[0m, in \u001b[0;36m_CatBoostBase._train\u001b[1;34m(self, train_pool, test_pool, params, allow_clear_pool, init_model)\u001b[0m\n\u001b[0;32m   1704\u001b[0m \u001b[38;5;28;01mdef\u001b[39;00m \u001b[38;5;21m_train\u001b[39m(\u001b[38;5;28mself\u001b[39m, train_pool, test_pool, params, allow_clear_pool, init_model):\n\u001b[1;32m-> 1705\u001b[0m     \u001b[38;5;28;43mself\u001b[39;49m\u001b[38;5;241;43m.\u001b[39;49m\u001b[43m_object\u001b[49m\u001b[38;5;241;43m.\u001b[39;49m\u001b[43m_train\u001b[49m\u001b[43m(\u001b[49m\u001b[43mtrain_pool\u001b[49m\u001b[43m,\u001b[49m\u001b[43m \u001b[49m\u001b[43mtest_pool\u001b[49m\u001b[43m,\u001b[49m\u001b[43m \u001b[49m\u001b[43mparams\u001b[49m\u001b[43m,\u001b[49m\u001b[43m \u001b[49m\u001b[43mallow_clear_pool\u001b[49m\u001b[43m,\u001b[49m\u001b[43m \u001b[49m\u001b[43minit_model\u001b[49m\u001b[38;5;241;43m.\u001b[39;49m\u001b[43m_object\u001b[49m\u001b[43m \u001b[49m\u001b[38;5;28;43;01mif\u001b[39;49;00m\u001b[43m \u001b[49m\u001b[43minit_model\u001b[49m\u001b[43m \u001b[49m\u001b[38;5;28;43;01melse\u001b[39;49;00m\u001b[43m \u001b[49m\u001b[38;5;28;43;01mNone\u001b[39;49;00m\u001b[43m)\u001b[49m\n\u001b[0;32m   1706\u001b[0m     \u001b[38;5;28mself\u001b[39m\u001b[38;5;241m.\u001b[39m_set_trained_model_attributes()\n",
      "File \u001b[1;32m_catboost.pyx:4585\u001b[0m, in \u001b[0;36m_catboost._CatBoost._train\u001b[1;34m()\u001b[0m\n",
      "File \u001b[1;32m_catboost.pyx:4634\u001b[0m, in \u001b[0;36m_catboost._CatBoost._train\u001b[1;34m()\u001b[0m\n",
      "\u001b[1;31mKeyboardInterrupt\u001b[0m: "
     ]
    }
   ],
   "source": [
    "study = optuna.create_study(direction='maximize')\n",
    "study.optimize(cb_objective, n_trials=200, show_progress_bar=True)"
   ]
  },
  {
   "cell_type": "code",
   "execution_count": 259,
   "id": "8b6d6d63",
   "metadata": {
    "scrolled": false
   },
   "outputs": [
    {
     "data": {
      "application/vnd.plotly.v1+json": {
       "config": {
        "plotlyServerURL": "https://plot.ly"
       },
       "data": [
        {
         "mode": "markers",
         "name": "Objective Value",
         "type": "scatter",
         "x": [
          0,
          1,
          2,
          3,
          4,
          5,
          6,
          7,
          8,
          9,
          10,
          11,
          12,
          13,
          14,
          15,
          16,
          17,
          18,
          19,
          20,
          21,
          22,
          23,
          24,
          25,
          26,
          27,
          28,
          29,
          30,
          31,
          32,
          33,
          34,
          35,
          36,
          37,
          38,
          39,
          40,
          41,
          42,
          43,
          44,
          45,
          46,
          47
         ],
         "y": [
          0.5504298712375973,
          0.4870792808677284,
          0.49610947298617547,
          0.5926789868109856,
          0.5062346257090083,
          0.4859464572352847,
          0.5068221895890809,
          0.47040721092445237,
          0.4418873044702735,
          0.44172431608830315,
          0.5761350966331809,
          0.5434216496262376,
          0.5183022278500947,
          0.4833382204643382,
          0.4644731469870848,
          0.5760141954965025,
          0.5149766589227748,
          0.34721230307329415,
          0.6294443392124075,
          0.5702166280668696,
          0.5211984710925562,
          0.6017892711959929,
          0.5802889612594789,
          0.5530203760470042,
          0.6081734461856452,
          0.5759628445198214,
          0.57387791117631,
          0.6099947058868556,
          0.5310263516501595,
          0.6084007246383578,
          0.6212928240980536,
          0.6057665834308062,
          0.6022646440947095,
          0.5491631764633458,
          0.5306709172864331,
          0.5666584291506861,
          0.5372578932965407,
          0.5578231286487189,
          0.5769346456733468,
          0.5777312765863544,
          0.5699577046932965,
          0.6027433755765669,
          0.5583978656753792,
          0.5744379971433111,
          0.5498451126044804,
          0.5948921721369279,
          0.6124279249265437,
          0.533825533186147
         ]
        },
        {
         "name": "Best Value",
         "type": "scatter",
         "x": [
          0,
          1,
          2,
          3,
          4,
          5,
          6,
          7,
          8,
          9,
          10,
          11,
          12,
          13,
          14,
          15,
          16,
          17,
          18,
          19,
          20,
          21,
          22,
          23,
          24,
          25,
          26,
          27,
          28,
          29,
          30,
          31,
          32,
          33,
          34,
          35,
          36,
          37,
          38,
          39,
          40,
          41,
          42,
          43,
          44,
          45,
          46,
          47
         ],
         "y": [
          0.5504298712375973,
          0.5504298712375973,
          0.5504298712375973,
          0.5926789868109856,
          0.5926789868109856,
          0.5926789868109856,
          0.5926789868109856,
          0.5926789868109856,
          0.5926789868109856,
          0.5926789868109856,
          0.5926789868109856,
          0.5926789868109856,
          0.5926789868109856,
          0.5926789868109856,
          0.5926789868109856,
          0.5926789868109856,
          0.5926789868109856,
          0.5926789868109856,
          0.6294443392124075,
          0.6294443392124075,
          0.6294443392124075,
          0.6294443392124075,
          0.6294443392124075,
          0.6294443392124075,
          0.6294443392124075,
          0.6294443392124075,
          0.6294443392124075,
          0.6294443392124075,
          0.6294443392124075,
          0.6294443392124075,
          0.6294443392124075,
          0.6294443392124075,
          0.6294443392124075,
          0.6294443392124075,
          0.6294443392124075,
          0.6294443392124075,
          0.6294443392124075,
          0.6294443392124075,
          0.6294443392124075,
          0.6294443392124075,
          0.6294443392124075,
          0.6294443392124075,
          0.6294443392124075,
          0.6294443392124075,
          0.6294443392124075,
          0.6294443392124075,
          0.6294443392124075,
          0.6294443392124075
         ]
        }
       ],
       "layout": {
        "template": {
         "data": {
          "bar": [
           {
            "error_x": {
             "color": "#2a3f5f"
            },
            "error_y": {
             "color": "#2a3f5f"
            },
            "marker": {
             "line": {
              "color": "#E5ECF6",
              "width": 0.5
             },
             "pattern": {
              "fillmode": "overlay",
              "size": 10,
              "solidity": 0.2
             }
            },
            "type": "bar"
           }
          ],
          "barpolar": [
           {
            "marker": {
             "line": {
              "color": "#E5ECF6",
              "width": 0.5
             },
             "pattern": {
              "fillmode": "overlay",
              "size": 10,
              "solidity": 0.2
             }
            },
            "type": "barpolar"
           }
          ],
          "carpet": [
           {
            "aaxis": {
             "endlinecolor": "#2a3f5f",
             "gridcolor": "white",
             "linecolor": "white",
             "minorgridcolor": "white",
             "startlinecolor": "#2a3f5f"
            },
            "baxis": {
             "endlinecolor": "#2a3f5f",
             "gridcolor": "white",
             "linecolor": "white",
             "minorgridcolor": "white",
             "startlinecolor": "#2a3f5f"
            },
            "type": "carpet"
           }
          ],
          "choropleth": [
           {
            "colorbar": {
             "outlinewidth": 0,
             "ticks": ""
            },
            "type": "choropleth"
           }
          ],
          "contour": [
           {
            "colorbar": {
             "outlinewidth": 0,
             "ticks": ""
            },
            "colorscale": [
             [
              0,
              "#0d0887"
             ],
             [
              0.1111111111111111,
              "#46039f"
             ],
             [
              0.2222222222222222,
              "#7201a8"
             ],
             [
              0.3333333333333333,
              "#9c179e"
             ],
             [
              0.4444444444444444,
              "#bd3786"
             ],
             [
              0.5555555555555556,
              "#d8576b"
             ],
             [
              0.6666666666666666,
              "#ed7953"
             ],
             [
              0.7777777777777778,
              "#fb9f3a"
             ],
             [
              0.8888888888888888,
              "#fdca26"
             ],
             [
              1,
              "#f0f921"
             ]
            ],
            "type": "contour"
           }
          ],
          "contourcarpet": [
           {
            "colorbar": {
             "outlinewidth": 0,
             "ticks": ""
            },
            "type": "contourcarpet"
           }
          ],
          "heatmap": [
           {
            "colorbar": {
             "outlinewidth": 0,
             "ticks": ""
            },
            "colorscale": [
             [
              0,
              "#0d0887"
             ],
             [
              0.1111111111111111,
              "#46039f"
             ],
             [
              0.2222222222222222,
              "#7201a8"
             ],
             [
              0.3333333333333333,
              "#9c179e"
             ],
             [
              0.4444444444444444,
              "#bd3786"
             ],
             [
              0.5555555555555556,
              "#d8576b"
             ],
             [
              0.6666666666666666,
              "#ed7953"
             ],
             [
              0.7777777777777778,
              "#fb9f3a"
             ],
             [
              0.8888888888888888,
              "#fdca26"
             ],
             [
              1,
              "#f0f921"
             ]
            ],
            "type": "heatmap"
           }
          ],
          "heatmapgl": [
           {
            "colorbar": {
             "outlinewidth": 0,
             "ticks": ""
            },
            "colorscale": [
             [
              0,
              "#0d0887"
             ],
             [
              0.1111111111111111,
              "#46039f"
             ],
             [
              0.2222222222222222,
              "#7201a8"
             ],
             [
              0.3333333333333333,
              "#9c179e"
             ],
             [
              0.4444444444444444,
              "#bd3786"
             ],
             [
              0.5555555555555556,
              "#d8576b"
             ],
             [
              0.6666666666666666,
              "#ed7953"
             ],
             [
              0.7777777777777778,
              "#fb9f3a"
             ],
             [
              0.8888888888888888,
              "#fdca26"
             ],
             [
              1,
              "#f0f921"
             ]
            ],
            "type": "heatmapgl"
           }
          ],
          "histogram": [
           {
            "marker": {
             "pattern": {
              "fillmode": "overlay",
              "size": 10,
              "solidity": 0.2
             }
            },
            "type": "histogram"
           }
          ],
          "histogram2d": [
           {
            "colorbar": {
             "outlinewidth": 0,
             "ticks": ""
            },
            "colorscale": [
             [
              0,
              "#0d0887"
             ],
             [
              0.1111111111111111,
              "#46039f"
             ],
             [
              0.2222222222222222,
              "#7201a8"
             ],
             [
              0.3333333333333333,
              "#9c179e"
             ],
             [
              0.4444444444444444,
              "#bd3786"
             ],
             [
              0.5555555555555556,
              "#d8576b"
             ],
             [
              0.6666666666666666,
              "#ed7953"
             ],
             [
              0.7777777777777778,
              "#fb9f3a"
             ],
             [
              0.8888888888888888,
              "#fdca26"
             ],
             [
              1,
              "#f0f921"
             ]
            ],
            "type": "histogram2d"
           }
          ],
          "histogram2dcontour": [
           {
            "colorbar": {
             "outlinewidth": 0,
             "ticks": ""
            },
            "colorscale": [
             [
              0,
              "#0d0887"
             ],
             [
              0.1111111111111111,
              "#46039f"
             ],
             [
              0.2222222222222222,
              "#7201a8"
             ],
             [
              0.3333333333333333,
              "#9c179e"
             ],
             [
              0.4444444444444444,
              "#bd3786"
             ],
             [
              0.5555555555555556,
              "#d8576b"
             ],
             [
              0.6666666666666666,
              "#ed7953"
             ],
             [
              0.7777777777777778,
              "#fb9f3a"
             ],
             [
              0.8888888888888888,
              "#fdca26"
             ],
             [
              1,
              "#f0f921"
             ]
            ],
            "type": "histogram2dcontour"
           }
          ],
          "mesh3d": [
           {
            "colorbar": {
             "outlinewidth": 0,
             "ticks": ""
            },
            "type": "mesh3d"
           }
          ],
          "parcoords": [
           {
            "line": {
             "colorbar": {
              "outlinewidth": 0,
              "ticks": ""
             }
            },
            "type": "parcoords"
           }
          ],
          "pie": [
           {
            "automargin": true,
            "type": "pie"
           }
          ],
          "scatter": [
           {
            "fillpattern": {
             "fillmode": "overlay",
             "size": 10,
             "solidity": 0.2
            },
            "type": "scatter"
           }
          ],
          "scatter3d": [
           {
            "line": {
             "colorbar": {
              "outlinewidth": 0,
              "ticks": ""
             }
            },
            "marker": {
             "colorbar": {
              "outlinewidth": 0,
              "ticks": ""
             }
            },
            "type": "scatter3d"
           }
          ],
          "scattercarpet": [
           {
            "marker": {
             "colorbar": {
              "outlinewidth": 0,
              "ticks": ""
             }
            },
            "type": "scattercarpet"
           }
          ],
          "scattergeo": [
           {
            "marker": {
             "colorbar": {
              "outlinewidth": 0,
              "ticks": ""
             }
            },
            "type": "scattergeo"
           }
          ],
          "scattergl": [
           {
            "marker": {
             "colorbar": {
              "outlinewidth": 0,
              "ticks": ""
             }
            },
            "type": "scattergl"
           }
          ],
          "scattermapbox": [
           {
            "marker": {
             "colorbar": {
              "outlinewidth": 0,
              "ticks": ""
             }
            },
            "type": "scattermapbox"
           }
          ],
          "scatterpolar": [
           {
            "marker": {
             "colorbar": {
              "outlinewidth": 0,
              "ticks": ""
             }
            },
            "type": "scatterpolar"
           }
          ],
          "scatterpolargl": [
           {
            "marker": {
             "colorbar": {
              "outlinewidth": 0,
              "ticks": ""
             }
            },
            "type": "scatterpolargl"
           }
          ],
          "scatterternary": [
           {
            "marker": {
             "colorbar": {
              "outlinewidth": 0,
              "ticks": ""
             }
            },
            "type": "scatterternary"
           }
          ],
          "surface": [
           {
            "colorbar": {
             "outlinewidth": 0,
             "ticks": ""
            },
            "colorscale": [
             [
              0,
              "#0d0887"
             ],
             [
              0.1111111111111111,
              "#46039f"
             ],
             [
              0.2222222222222222,
              "#7201a8"
             ],
             [
              0.3333333333333333,
              "#9c179e"
             ],
             [
              0.4444444444444444,
              "#bd3786"
             ],
             [
              0.5555555555555556,
              "#d8576b"
             ],
             [
              0.6666666666666666,
              "#ed7953"
             ],
             [
              0.7777777777777778,
              "#fb9f3a"
             ],
             [
              0.8888888888888888,
              "#fdca26"
             ],
             [
              1,
              "#f0f921"
             ]
            ],
            "type": "surface"
           }
          ],
          "table": [
           {
            "cells": {
             "fill": {
              "color": "#EBF0F8"
             },
             "line": {
              "color": "white"
             }
            },
            "header": {
             "fill": {
              "color": "#C8D4E3"
             },
             "line": {
              "color": "white"
             }
            },
            "type": "table"
           }
          ]
         },
         "layout": {
          "annotationdefaults": {
           "arrowcolor": "#2a3f5f",
           "arrowhead": 0,
           "arrowwidth": 1
          },
          "autotypenumbers": "strict",
          "coloraxis": {
           "colorbar": {
            "outlinewidth": 0,
            "ticks": ""
           }
          },
          "colorscale": {
           "diverging": [
            [
             0,
             "#8e0152"
            ],
            [
             0.1,
             "#c51b7d"
            ],
            [
             0.2,
             "#de77ae"
            ],
            [
             0.3,
             "#f1b6da"
            ],
            [
             0.4,
             "#fde0ef"
            ],
            [
             0.5,
             "#f7f7f7"
            ],
            [
             0.6,
             "#e6f5d0"
            ],
            [
             0.7,
             "#b8e186"
            ],
            [
             0.8,
             "#7fbc41"
            ],
            [
             0.9,
             "#4d9221"
            ],
            [
             1,
             "#276419"
            ]
           ],
           "sequential": [
            [
             0,
             "#0d0887"
            ],
            [
             0.1111111111111111,
             "#46039f"
            ],
            [
             0.2222222222222222,
             "#7201a8"
            ],
            [
             0.3333333333333333,
             "#9c179e"
            ],
            [
             0.4444444444444444,
             "#bd3786"
            ],
            [
             0.5555555555555556,
             "#d8576b"
            ],
            [
             0.6666666666666666,
             "#ed7953"
            ],
            [
             0.7777777777777778,
             "#fb9f3a"
            ],
            [
             0.8888888888888888,
             "#fdca26"
            ],
            [
             1,
             "#f0f921"
            ]
           ],
           "sequentialminus": [
            [
             0,
             "#0d0887"
            ],
            [
             0.1111111111111111,
             "#46039f"
            ],
            [
             0.2222222222222222,
             "#7201a8"
            ],
            [
             0.3333333333333333,
             "#9c179e"
            ],
            [
             0.4444444444444444,
             "#bd3786"
            ],
            [
             0.5555555555555556,
             "#d8576b"
            ],
            [
             0.6666666666666666,
             "#ed7953"
            ],
            [
             0.7777777777777778,
             "#fb9f3a"
            ],
            [
             0.8888888888888888,
             "#fdca26"
            ],
            [
             1,
             "#f0f921"
            ]
           ]
          },
          "colorway": [
           "#636efa",
           "#EF553B",
           "#00cc96",
           "#ab63fa",
           "#FFA15A",
           "#19d3f3",
           "#FF6692",
           "#B6E880",
           "#FF97FF",
           "#FECB52"
          ],
          "font": {
           "color": "#2a3f5f"
          },
          "geo": {
           "bgcolor": "white",
           "lakecolor": "white",
           "landcolor": "#E5ECF6",
           "showlakes": true,
           "showland": true,
           "subunitcolor": "white"
          },
          "hoverlabel": {
           "align": "left"
          },
          "hovermode": "closest",
          "mapbox": {
           "style": "light"
          },
          "paper_bgcolor": "white",
          "plot_bgcolor": "#E5ECF6",
          "polar": {
           "angularaxis": {
            "gridcolor": "white",
            "linecolor": "white",
            "ticks": ""
           },
           "bgcolor": "#E5ECF6",
           "radialaxis": {
            "gridcolor": "white",
            "linecolor": "white",
            "ticks": ""
           }
          },
          "scene": {
           "xaxis": {
            "backgroundcolor": "#E5ECF6",
            "gridcolor": "white",
            "gridwidth": 2,
            "linecolor": "white",
            "showbackground": true,
            "ticks": "",
            "zerolinecolor": "white"
           },
           "yaxis": {
            "backgroundcolor": "#E5ECF6",
            "gridcolor": "white",
            "gridwidth": 2,
            "linecolor": "white",
            "showbackground": true,
            "ticks": "",
            "zerolinecolor": "white"
           },
           "zaxis": {
            "backgroundcolor": "#E5ECF6",
            "gridcolor": "white",
            "gridwidth": 2,
            "linecolor": "white",
            "showbackground": true,
            "ticks": "",
            "zerolinecolor": "white"
           }
          },
          "shapedefaults": {
           "line": {
            "color": "#2a3f5f"
           }
          },
          "ternary": {
           "aaxis": {
            "gridcolor": "white",
            "linecolor": "white",
            "ticks": ""
           },
           "baxis": {
            "gridcolor": "white",
            "linecolor": "white",
            "ticks": ""
           },
           "bgcolor": "#E5ECF6",
           "caxis": {
            "gridcolor": "white",
            "linecolor": "white",
            "ticks": ""
           }
          },
          "title": {
           "x": 0.05
          },
          "xaxis": {
           "automargin": true,
           "gridcolor": "white",
           "linecolor": "white",
           "ticks": "",
           "title": {
            "standoff": 15
           },
           "zerolinecolor": "white",
           "zerolinewidth": 2
          },
          "yaxis": {
           "automargin": true,
           "gridcolor": "white",
           "linecolor": "white",
           "ticks": "",
           "title": {
            "standoff": 15
           },
           "zerolinecolor": "white",
           "zerolinewidth": 2
          }
         }
        },
        "title": {
         "text": "Optimization History Plot"
        },
        "xaxis": {
         "title": {
          "text": "#Trials"
         }
        },
        "yaxis": {
         "title": {
          "text": "Objective Value"
         }
        }
       }
      },
      "text/html": [
       "<div>                            <div id=\"53dbabb9-ceb5-45cb-b902-0a6b1b6a3c7e\" class=\"plotly-graph-div\" style=\"height:525px; width:100%;\"></div>            <script type=\"text/javascript\">                require([\"plotly\"], function(Plotly) {                    window.PLOTLYENV=window.PLOTLYENV || {};                                    if (document.getElementById(\"53dbabb9-ceb5-45cb-b902-0a6b1b6a3c7e\")) {                    Plotly.newPlot(                        \"53dbabb9-ceb5-45cb-b902-0a6b1b6a3c7e\",                        [{\"mode\":\"markers\",\"name\":\"Objective Value\",\"x\":[0,1,2,3,4,5,6,7,8,9,10,11,12,13,14,15,16,17,18,19,20,21,22,23,24,25,26,27,28,29,30,31,32,33,34,35,36,37,38,39,40,41,42,43,44,45,46,47],\"y\":[0.5504298712375973,0.4870792808677284,0.49610947298617547,0.5926789868109856,0.5062346257090083,0.4859464572352847,0.5068221895890809,0.47040721092445237,0.4418873044702735,0.44172431608830315,0.5761350966331809,0.5434216496262376,0.5183022278500947,0.4833382204643382,0.4644731469870848,0.5760141954965025,0.5149766589227748,0.34721230307329415,0.6294443392124075,0.5702166280668696,0.5211984710925562,0.6017892711959929,0.5802889612594789,0.5530203760470042,0.6081734461856452,0.5759628445198214,0.57387791117631,0.6099947058868556,0.5310263516501595,0.6084007246383578,0.6212928240980536,0.6057665834308062,0.6022646440947095,0.5491631764633458,0.5306709172864331,0.5666584291506861,0.5372578932965407,0.5578231286487189,0.5769346456733468,0.5777312765863544,0.5699577046932965,0.6027433755765669,0.5583978656753792,0.5744379971433111,0.5498451126044804,0.5948921721369279,0.6124279249265437,0.533825533186147],\"type\":\"scatter\"},{\"name\":\"Best Value\",\"x\":[0,1,2,3,4,5,6,7,8,9,10,11,12,13,14,15,16,17,18,19,20,21,22,23,24,25,26,27,28,29,30,31,32,33,34,35,36,37,38,39,40,41,42,43,44,45,46,47],\"y\":[0.5504298712375973,0.5504298712375973,0.5504298712375973,0.5926789868109856,0.5926789868109856,0.5926789868109856,0.5926789868109856,0.5926789868109856,0.5926789868109856,0.5926789868109856,0.5926789868109856,0.5926789868109856,0.5926789868109856,0.5926789868109856,0.5926789868109856,0.5926789868109856,0.5926789868109856,0.5926789868109856,0.6294443392124075,0.6294443392124075,0.6294443392124075,0.6294443392124075,0.6294443392124075,0.6294443392124075,0.6294443392124075,0.6294443392124075,0.6294443392124075,0.6294443392124075,0.6294443392124075,0.6294443392124075,0.6294443392124075,0.6294443392124075,0.6294443392124075,0.6294443392124075,0.6294443392124075,0.6294443392124075,0.6294443392124075,0.6294443392124075,0.6294443392124075,0.6294443392124075,0.6294443392124075,0.6294443392124075,0.6294443392124075,0.6294443392124075,0.6294443392124075,0.6294443392124075,0.6294443392124075,0.6294443392124075],\"type\":\"scatter\"}],                        {\"title\":{\"text\":\"Optimization History Plot\"},\"xaxis\":{\"title\":{\"text\":\"#Trials\"}},\"yaxis\":{\"title\":{\"text\":\"Objective Value\"}},\"template\":{\"data\":{\"histogram2dcontour\":[{\"type\":\"histogram2dcontour\",\"colorbar\":{\"outlinewidth\":0,\"ticks\":\"\"},\"colorscale\":[[0.0,\"#0d0887\"],[0.1111111111111111,\"#46039f\"],[0.2222222222222222,\"#7201a8\"],[0.3333333333333333,\"#9c179e\"],[0.4444444444444444,\"#bd3786\"],[0.5555555555555556,\"#d8576b\"],[0.6666666666666666,\"#ed7953\"],[0.7777777777777778,\"#fb9f3a\"],[0.8888888888888888,\"#fdca26\"],[1.0,\"#f0f921\"]]}],\"choropleth\":[{\"type\":\"choropleth\",\"colorbar\":{\"outlinewidth\":0,\"ticks\":\"\"}}],\"histogram2d\":[{\"type\":\"histogram2d\",\"colorbar\":{\"outlinewidth\":0,\"ticks\":\"\"},\"colorscale\":[[0.0,\"#0d0887\"],[0.1111111111111111,\"#46039f\"],[0.2222222222222222,\"#7201a8\"],[0.3333333333333333,\"#9c179e\"],[0.4444444444444444,\"#bd3786\"],[0.5555555555555556,\"#d8576b\"],[0.6666666666666666,\"#ed7953\"],[0.7777777777777778,\"#fb9f3a\"],[0.8888888888888888,\"#fdca26\"],[1.0,\"#f0f921\"]]}],\"heatmap\":[{\"type\":\"heatmap\",\"colorbar\":{\"outlinewidth\":0,\"ticks\":\"\"},\"colorscale\":[[0.0,\"#0d0887\"],[0.1111111111111111,\"#46039f\"],[0.2222222222222222,\"#7201a8\"],[0.3333333333333333,\"#9c179e\"],[0.4444444444444444,\"#bd3786\"],[0.5555555555555556,\"#d8576b\"],[0.6666666666666666,\"#ed7953\"],[0.7777777777777778,\"#fb9f3a\"],[0.8888888888888888,\"#fdca26\"],[1.0,\"#f0f921\"]]}],\"heatmapgl\":[{\"type\":\"heatmapgl\",\"colorbar\":{\"outlinewidth\":0,\"ticks\":\"\"},\"colorscale\":[[0.0,\"#0d0887\"],[0.1111111111111111,\"#46039f\"],[0.2222222222222222,\"#7201a8\"],[0.3333333333333333,\"#9c179e\"],[0.4444444444444444,\"#bd3786\"],[0.5555555555555556,\"#d8576b\"],[0.6666666666666666,\"#ed7953\"],[0.7777777777777778,\"#fb9f3a\"],[0.8888888888888888,\"#fdca26\"],[1.0,\"#f0f921\"]]}],\"contourcarpet\":[{\"type\":\"contourcarpet\",\"colorbar\":{\"outlinewidth\":0,\"ticks\":\"\"}}],\"contour\":[{\"type\":\"contour\",\"colorbar\":{\"outlinewidth\":0,\"ticks\":\"\"},\"colorscale\":[[0.0,\"#0d0887\"],[0.1111111111111111,\"#46039f\"],[0.2222222222222222,\"#7201a8\"],[0.3333333333333333,\"#9c179e\"],[0.4444444444444444,\"#bd3786\"],[0.5555555555555556,\"#d8576b\"],[0.6666666666666666,\"#ed7953\"],[0.7777777777777778,\"#fb9f3a\"],[0.8888888888888888,\"#fdca26\"],[1.0,\"#f0f921\"]]}],\"surface\":[{\"type\":\"surface\",\"colorbar\":{\"outlinewidth\":0,\"ticks\":\"\"},\"colorscale\":[[0.0,\"#0d0887\"],[0.1111111111111111,\"#46039f\"],[0.2222222222222222,\"#7201a8\"],[0.3333333333333333,\"#9c179e\"],[0.4444444444444444,\"#bd3786\"],[0.5555555555555556,\"#d8576b\"],[0.6666666666666666,\"#ed7953\"],[0.7777777777777778,\"#fb9f3a\"],[0.8888888888888888,\"#fdca26\"],[1.0,\"#f0f921\"]]}],\"mesh3d\":[{\"type\":\"mesh3d\",\"colorbar\":{\"outlinewidth\":0,\"ticks\":\"\"}}],\"scatter\":[{\"fillpattern\":{\"fillmode\":\"overlay\",\"size\":10,\"solidity\":0.2},\"type\":\"scatter\"}],\"parcoords\":[{\"type\":\"parcoords\",\"line\":{\"colorbar\":{\"outlinewidth\":0,\"ticks\":\"\"}}}],\"scatterpolargl\":[{\"type\":\"scatterpolargl\",\"marker\":{\"colorbar\":{\"outlinewidth\":0,\"ticks\":\"\"}}}],\"bar\":[{\"error_x\":{\"color\":\"#2a3f5f\"},\"error_y\":{\"color\":\"#2a3f5f\"},\"marker\":{\"line\":{\"color\":\"#E5ECF6\",\"width\":0.5},\"pattern\":{\"fillmode\":\"overlay\",\"size\":10,\"solidity\":0.2}},\"type\":\"bar\"}],\"scattergeo\":[{\"type\":\"scattergeo\",\"marker\":{\"colorbar\":{\"outlinewidth\":0,\"ticks\":\"\"}}}],\"scatterpolar\":[{\"type\":\"scatterpolar\",\"marker\":{\"colorbar\":{\"outlinewidth\":0,\"ticks\":\"\"}}}],\"histogram\":[{\"marker\":{\"pattern\":{\"fillmode\":\"overlay\",\"size\":10,\"solidity\":0.2}},\"type\":\"histogram\"}],\"scattergl\":[{\"type\":\"scattergl\",\"marker\":{\"colorbar\":{\"outlinewidth\":0,\"ticks\":\"\"}}}],\"scatter3d\":[{\"type\":\"scatter3d\",\"line\":{\"colorbar\":{\"outlinewidth\":0,\"ticks\":\"\"}},\"marker\":{\"colorbar\":{\"outlinewidth\":0,\"ticks\":\"\"}}}],\"scattermapbox\":[{\"type\":\"scattermapbox\",\"marker\":{\"colorbar\":{\"outlinewidth\":0,\"ticks\":\"\"}}}],\"scatterternary\":[{\"type\":\"scatterternary\",\"marker\":{\"colorbar\":{\"outlinewidth\":0,\"ticks\":\"\"}}}],\"scattercarpet\":[{\"type\":\"scattercarpet\",\"marker\":{\"colorbar\":{\"outlinewidth\":0,\"ticks\":\"\"}}}],\"carpet\":[{\"aaxis\":{\"endlinecolor\":\"#2a3f5f\",\"gridcolor\":\"white\",\"linecolor\":\"white\",\"minorgridcolor\":\"white\",\"startlinecolor\":\"#2a3f5f\"},\"baxis\":{\"endlinecolor\":\"#2a3f5f\",\"gridcolor\":\"white\",\"linecolor\":\"white\",\"minorgridcolor\":\"white\",\"startlinecolor\":\"#2a3f5f\"},\"type\":\"carpet\"}],\"table\":[{\"cells\":{\"fill\":{\"color\":\"#EBF0F8\"},\"line\":{\"color\":\"white\"}},\"header\":{\"fill\":{\"color\":\"#C8D4E3\"},\"line\":{\"color\":\"white\"}},\"type\":\"table\"}],\"barpolar\":[{\"marker\":{\"line\":{\"color\":\"#E5ECF6\",\"width\":0.5},\"pattern\":{\"fillmode\":\"overlay\",\"size\":10,\"solidity\":0.2}},\"type\":\"barpolar\"}],\"pie\":[{\"automargin\":true,\"type\":\"pie\"}]},\"layout\":{\"autotypenumbers\":\"strict\",\"colorway\":[\"#636efa\",\"#EF553B\",\"#00cc96\",\"#ab63fa\",\"#FFA15A\",\"#19d3f3\",\"#FF6692\",\"#B6E880\",\"#FF97FF\",\"#FECB52\"],\"font\":{\"color\":\"#2a3f5f\"},\"hovermode\":\"closest\",\"hoverlabel\":{\"align\":\"left\"},\"paper_bgcolor\":\"white\",\"plot_bgcolor\":\"#E5ECF6\",\"polar\":{\"bgcolor\":\"#E5ECF6\",\"angularaxis\":{\"gridcolor\":\"white\",\"linecolor\":\"white\",\"ticks\":\"\"},\"radialaxis\":{\"gridcolor\":\"white\",\"linecolor\":\"white\",\"ticks\":\"\"}},\"ternary\":{\"bgcolor\":\"#E5ECF6\",\"aaxis\":{\"gridcolor\":\"white\",\"linecolor\":\"white\",\"ticks\":\"\"},\"baxis\":{\"gridcolor\":\"white\",\"linecolor\":\"white\",\"ticks\":\"\"},\"caxis\":{\"gridcolor\":\"white\",\"linecolor\":\"white\",\"ticks\":\"\"}},\"coloraxis\":{\"colorbar\":{\"outlinewidth\":0,\"ticks\":\"\"}},\"colorscale\":{\"sequential\":[[0.0,\"#0d0887\"],[0.1111111111111111,\"#46039f\"],[0.2222222222222222,\"#7201a8\"],[0.3333333333333333,\"#9c179e\"],[0.4444444444444444,\"#bd3786\"],[0.5555555555555556,\"#d8576b\"],[0.6666666666666666,\"#ed7953\"],[0.7777777777777778,\"#fb9f3a\"],[0.8888888888888888,\"#fdca26\"],[1.0,\"#f0f921\"]],\"sequentialminus\":[[0.0,\"#0d0887\"],[0.1111111111111111,\"#46039f\"],[0.2222222222222222,\"#7201a8\"],[0.3333333333333333,\"#9c179e\"],[0.4444444444444444,\"#bd3786\"],[0.5555555555555556,\"#d8576b\"],[0.6666666666666666,\"#ed7953\"],[0.7777777777777778,\"#fb9f3a\"],[0.8888888888888888,\"#fdca26\"],[1.0,\"#f0f921\"]],\"diverging\":[[0,\"#8e0152\"],[0.1,\"#c51b7d\"],[0.2,\"#de77ae\"],[0.3,\"#f1b6da\"],[0.4,\"#fde0ef\"],[0.5,\"#f7f7f7\"],[0.6,\"#e6f5d0\"],[0.7,\"#b8e186\"],[0.8,\"#7fbc41\"],[0.9,\"#4d9221\"],[1,\"#276419\"]]},\"xaxis\":{\"gridcolor\":\"white\",\"linecolor\":\"white\",\"ticks\":\"\",\"title\":{\"standoff\":15},\"zerolinecolor\":\"white\",\"automargin\":true,\"zerolinewidth\":2},\"yaxis\":{\"gridcolor\":\"white\",\"linecolor\":\"white\",\"ticks\":\"\",\"title\":{\"standoff\":15},\"zerolinecolor\":\"white\",\"automargin\":true,\"zerolinewidth\":2},\"scene\":{\"xaxis\":{\"backgroundcolor\":\"#E5ECF6\",\"gridcolor\":\"white\",\"linecolor\":\"white\",\"showbackground\":true,\"ticks\":\"\",\"zerolinecolor\":\"white\",\"gridwidth\":2},\"yaxis\":{\"backgroundcolor\":\"#E5ECF6\",\"gridcolor\":\"white\",\"linecolor\":\"white\",\"showbackground\":true,\"ticks\":\"\",\"zerolinecolor\":\"white\",\"gridwidth\":2},\"zaxis\":{\"backgroundcolor\":\"#E5ECF6\",\"gridcolor\":\"white\",\"linecolor\":\"white\",\"showbackground\":true,\"ticks\":\"\",\"zerolinecolor\":\"white\",\"gridwidth\":2}},\"shapedefaults\":{\"line\":{\"color\":\"#2a3f5f\"}},\"annotationdefaults\":{\"arrowcolor\":\"#2a3f5f\",\"arrowhead\":0,\"arrowwidth\":1},\"geo\":{\"bgcolor\":\"white\",\"landcolor\":\"#E5ECF6\",\"subunitcolor\":\"white\",\"showland\":true,\"showlakes\":true,\"lakecolor\":\"white\"},\"title\":{\"x\":0.05},\"mapbox\":{\"style\":\"light\"}}}},                        {\"responsive\": true}                    ).then(function(){\n",
       "                            \n",
       "var gd = document.getElementById('53dbabb9-ceb5-45cb-b902-0a6b1b6a3c7e');\n",
       "var x = new MutationObserver(function (mutations, observer) {{\n",
       "        var display = window.getComputedStyle(gd).display;\n",
       "        if (!display || display === 'none') {{\n",
       "            console.log([gd, 'removed!']);\n",
       "            Plotly.purge(gd);\n",
       "            observer.disconnect();\n",
       "        }}\n",
       "}});\n",
       "\n",
       "// Listen for the removal of the full notebook cells\n",
       "var notebookContainer = gd.closest('#notebook-container');\n",
       "if (notebookContainer) {{\n",
       "    x.observe(notebookContainer, {childList: true});\n",
       "}}\n",
       "\n",
       "// Listen for the clearing of the current output cell\n",
       "var outputEl = gd.closest('.output');\n",
       "if (outputEl) {{\n",
       "    x.observe(outputEl, {childList: true});\n",
       "}}\n",
       "\n",
       "                        })                };                });            </script>        </div>"
      ]
     },
     "metadata": {},
     "output_type": "display_data"
    }
   ],
   "source": [
    "# 결과값 비교\n",
    "fig = optuna.visualization.plot_optimization_history(study)\n",
    "fig.show()"
   ]
  },
  {
   "cell_type": "code",
   "execution_count": 260,
   "id": "b4896978",
   "metadata": {},
   "outputs": [
    {
     "data": {
      "application/vnd.plotly.v1+json": {
       "config": {
        "plotlyServerURL": "https://plot.ly"
       },
       "data": [
        {
         "dimensions": [
          {
           "label": "Objective Value",
           "range": [
            0.34721230307329415,
            0.6294443392124075
           ],
           "values": [
            0.5504298712375973,
            0.4870792808677284,
            0.49610947298617547,
            0.5926789868109856,
            0.5062346257090083,
            0.4859464572352847,
            0.5068221895890809,
            0.47040721092445237,
            0.4418873044702735,
            0.44172431608830315,
            0.5761350966331809,
            0.5434216496262376,
            0.5183022278500947,
            0.4833382204643382,
            0.4644731469870848,
            0.5760141954965025,
            0.5149766589227748,
            0.34721230307329415,
            0.6294443392124075,
            0.5702166280668696,
            0.5211984710925562,
            0.6017892711959929,
            0.5802889612594789,
            0.5530203760470042,
            0.6081734461856452,
            0.5759628445198214,
            0.57387791117631,
            0.6099947058868556,
            0.5310263516501595,
            0.6084007246383578,
            0.6212928240980536,
            0.6057665834308062,
            0.6022646440947095,
            0.5491631764633458,
            0.5306709172864331,
            0.5666584291506861,
            0.5372578932965407,
            0.5578231286487189,
            0.5769346456733468,
            0.5777312765863544,
            0.5699577046932965,
            0.6027433755765669,
            0.5583978656753792,
            0.5744379971433111,
            0.5498451126044804,
            0.5948921721369279,
            0.6124279249265437,
            0.533825533186147
           ]
          },
          {
           "label": "bagging_temperature",
           "range": [
            0.4080948985765991,
            8.570242761469354
           ],
           "values": [
            5.040389649917493,
            6.305739027909414,
            6.225740551657507,
            0.7151784439282691,
            0.4080948985765991,
            0.653859254147918,
            2.71193075510363,
            8.570242761469354,
            3.1924001131555086
           ]
          },
          {
           "label": "bootstrap_type",
           "range": [
            0,
            1
           ],
           "ticktext": [
            "Bernoulli",
            "Bayesian"
           ],
           "tickvals": [
            0,
            1
           ],
           "values": [
            0,
            0,
            0,
            0,
            0,
            1,
            1,
            1,
            0,
            0,
            1,
            1,
            1,
            1,
            1,
            0,
            0,
            1,
            0,
            0,
            0,
            0,
            0,
            0,
            0,
            0,
            0,
            0,
            0,
            0,
            0,
            0,
            0,
            0,
            0,
            0,
            0,
            0,
            0,
            0,
            0,
            0,
            0,
            0,
            0,
            0,
            0,
            0
           ]
          },
          {
           "label": "depth",
           "range": [
            3,
            10
           ],
           "values": [
            9,
            6,
            7,
            4,
            8,
            6,
            8,
            3,
            5,
            10,
            3,
            3,
            4,
            4,
            4,
            5,
            3,
            5,
            4,
            7,
            5,
            4,
            4,
            4,
            6,
            6,
            5,
            7,
            8,
            9,
            10,
            10,
            9,
            9,
            10,
            9,
            7,
            8,
            10,
            9,
            8,
            6,
            6,
            7,
            10,
            7,
            9,
            9
           ]
          },
          {
           "label": "leaf_estimation_i...",
           "range": [
            1,
            15
           ],
           "values": [
            13,
            4,
            12,
            8,
            11,
            9,
            12,
            9,
            6,
            6,
            1,
            1,
            15,
            1,
            4,
            4,
            7,
            3,
            15,
            15,
            10,
            8,
            8,
            7,
            10,
            14,
            11,
            13,
            13,
            13,
            14,
            14,
            13,
            14,
            12,
            15,
            12,
            14,
            13,
            11,
            13,
            10,
            15,
            12,
            11,
            14,
            10,
            15
           ]
          },
          {
           "label": "learning_rate",
           "range": [
            0.010330519937624245,
            0.09762178508498977
           ],
           "values": [
            0.04079768394826774,
            0.06396030287974057,
            0.037952669093558836,
            0.06123274239476086,
            0.02085492552746679,
            0.07190343253821112,
            0.09686775976034973,
            0.09161950702870945,
            0.02730357032874932,
            0.027011736220211857,
            0.07783376502216051,
            0.07624622387236178,
            0.05433245819004894,
            0.08563818421472513,
            0.058918374444924065,
            0.07748267938222349,
            0.04738534389777563,
            0.010330519937624245,
            0.06599429772750094,
            0.06613802846574128,
            0.05239080611299954,
            0.08289598671054205,
            0.08548379934196454,
            0.06624285990554583,
            0.08423968101369725,
            0.08728152183769583,
            0.09762178508498977,
            0.07122576301470007,
            0.06812553370540933,
            0.044587215453943514,
            0.042988372032400524,
            0.041826741444373094,
            0.04604777135670576,
            0.04787759322131261,
            0.03537645870416148,
            0.059849991312733095,
            0.03547536426020064,
            0.05181249922356875,
            0.07209947164985954,
            0.03182330905437904,
            0.04049119595899726,
            0.07083764163012052,
            0.09242198886566177,
            0.06260919645584606,
            0.058099269676403054,
            0.08096057943850447,
            0.07422549611341,
            0.07412901209415881
           ]
          },
          {
           "label": "min_data_in_leaf",
           "range": [
            1,
            20
           ],
           "values": [
            17,
            18,
            18,
            10,
            19,
            13,
            5,
            3,
            3,
            7,
            10,
            10,
            12,
            10,
            8,
            14,
            15,
            7,
            11,
            1,
            15,
            11,
            11,
            8,
            12,
            13,
            16,
            12,
            13,
            12,
            16,
            20,
            17,
            15,
            17,
            9,
            12,
            14,
            19,
            16,
            9,
            12,
            12,
            14,
            11,
            13,
            6,
            5
           ]
          },
          {
           "label": "od_wait",
           "range": [
            504,
            1000
           ],
           "values": [
            682,
            683,
            815,
            761,
            983,
            807,
            719,
            504,
            634,
            711,
            911,
            945,
            874,
            903,
            807,
            601,
            864,
            779,
            935,
            998,
            558,
            918,
            944,
            861,
            950,
            955,
            911,
            841,
            842,
            956,
            977,
            974,
            888,
            932,
            974,
            836,
            1000,
            966,
            762,
            889,
            822,
            932,
            959,
            985,
            928,
            883,
            791,
            788
           ]
          },
          {
           "label": "one_hot_max_size",
           "range": [
            1,
            3
           ],
           "values": [
            2,
            2,
            1,
            1,
            3,
            2,
            2,
            1,
            1,
            1,
            3,
            3,
            3,
            3,
            2,
            3,
            1,
            2,
            1,
            1,
            1,
            1,
            1,
            1,
            1,
            1,
            1,
            2,
            2,
            2,
            2,
            2,
            2,
            2,
            2,
            2,
            2,
            2,
            2,
            2,
            2,
            1,
            2,
            1,
            3,
            1,
            2,
            2
           ]
          },
          {
           "label": "random_strength",
           "range": [
            0.0692796827745287,
            9.925800248521753
           ],
           "values": [
            0.14385819353873208,
            5.129364650485848,
            5.565321495542204,
            4.55214747772391,
            2.2188664047998774,
            0.6219523480361249,
            6.489041862879473,
            8.198540193622339,
            4.741126357141652,
            4.129791502075621,
            8.696145030774442,
            9.41642386395123,
            7.232520621182931,
            2.68459574085397,
            9.925800248521753,
            3.1899901692890156,
            8.027809839919053,
            6.39656666602873,
            3.840910125839488,
            3.779496690167775,
            1.448424146000849,
            5.781221034836426,
            5.726125748257494,
            4.285469971458466,
            3.3843813831727343,
            3.434028600369688,
            2.913093653128971,
            1.2619578295294667,
            1.6601970607247911,
            0.09116566732884657,
            0.12567688202130967,
            0.3288268364627201,
            0.08461468221785552,
            0.8348238689036775,
            1.4010577741854306,
            2.161973323542151,
            0.8769385501395149,
            2.0677434042735374,
            0.8909268260276242,
            0.0692796827745287,
            1.2957827373624287,
            2.634136836154229,
            0.47716447760693165,
            1.7919808387471423,
            4.746511059028071,
            3.6012618290410185,
            2.5011302599524243,
            1.1106329603061345
           ]
          },
          {
           "label": "reg_lambda",
           "range": [
            0.05584333914124606,
            92.85101978292437
           ],
           "values": [
            51.10509160965447,
            44.654855745694945,
            6.702459795055533,
            11.746146618705742,
            85.62302970746559,
            52.11910523178105,
            40.03789327527503,
            40.60944950770438,
            70.69872834996096,
            92.85101978292437,
            0.05584333914124606,
            5.550444209143706,
            23.063540790002534,
            22.354350617710416,
            0.08337248473088497,
            23.971112204809987,
            15.224668961826069,
            30.457434298476546,
            10.306556569997433,
            14.0735129960887,
            60.56286360356791,
            12.079802104868678,
            13.664074156746898,
            28.01824261467845,
            12.32597788378742,
            34.32089925205514,
            21.33319653102896,
            5.766576506171617,
            72.59280474434496,
            5.109549823155672,
            4.7717501486138065,
            6.370863897092214,
            0.15200184522235105,
            5.91043339739508,
            18.768908680766994,
            8.167883095814412,
            50.816341776805764,
            17.91946219749967,
            33.841718385702066,
            7.63057339260114,
            27.346993626859753,
            9.148789662896512,
            4.420514974588851,
            16.21348226202953,
            11.87736528180436,
            2.6493492878447302,
            10.986562805815623,
            44.68405181413501
           ]
          },
          {
           "label": "subsample",
           "range": [
            0.1128489303383658,
            0.9981283380625015
           ],
           "values": [
            0.8077050043274063,
            0.1779696549137898,
            0.39770800640448467,
            0.40602919570885854,
            0.4423784779891323,
            0.3914422347135359,
            0.19087270244875507,
            0.7572530566253488,
            0.6418645222135926,
            0.953293232100032,
            0.9957302492145698,
            0.9605010375452282,
            0.549250399524778,
            0.5603276889114795,
            0.5344770327448712,
            0.32093474260765753,
            0.2864364636398852,
            0.7231051149701233,
            0.8837203609427644,
            0.881315936030608,
            0.8791263990967407,
            0.8929214765840339,
            0.8869106883945056,
            0.8830063764178763,
            0.8258878480587779,
            0.9414803707591682,
            0.7216659885693968,
            0.9226690790138996,
            0.7852195236831148,
            0.6644663158985703,
            0.812134594938728,
            0.8565110705258402,
            0.9795108920237232,
            0.1128489303383658,
            0.9207166932347728,
            0.8488052633731358,
            0.9981283380625015,
            0.3112556439108161,
            0.9186712145108987
           ]
          }
         ],
         "labelangle": 30,
         "labelside": "bottom",
         "line": {
          "color": [
           0.5504298712375973,
           0.4870792808677284,
           0.49610947298617547,
           0.5926789868109856,
           0.5062346257090083,
           0.4859464572352847,
           0.5068221895890809,
           0.47040721092445237,
           0.4418873044702735,
           0.44172431608830315,
           0.5761350966331809,
           0.5434216496262376,
           0.5183022278500947,
           0.4833382204643382,
           0.4644731469870848,
           0.5760141954965025,
           0.5149766589227748,
           0.34721230307329415,
           0.6294443392124075,
           0.5702166280668696,
           0.5211984710925562,
           0.6017892711959929,
           0.5802889612594789,
           0.5530203760470042,
           0.6081734461856452,
           0.5759628445198214,
           0.57387791117631,
           0.6099947058868556,
           0.5310263516501595,
           0.6084007246383578,
           0.6212928240980536,
           0.6057665834308062,
           0.6022646440947095,
           0.5491631764633458,
           0.5306709172864331,
           0.5666584291506861,
           0.5372578932965407,
           0.5578231286487189,
           0.5769346456733468,
           0.5777312765863544,
           0.5699577046932965,
           0.6027433755765669,
           0.5583978656753792,
           0.5744379971433111,
           0.5498451126044804,
           0.5948921721369279,
           0.6124279249265437,
           0.533825533186147
          ],
          "colorbar": {
           "title": {
            "text": "Objective Value"
           }
          },
          "colorscale": [
           [
            0,
            "rgb(247,251,255)"
           ],
           [
            0.125,
            "rgb(222,235,247)"
           ],
           [
            0.25,
            "rgb(198,219,239)"
           ],
           [
            0.375,
            "rgb(158,202,225)"
           ],
           [
            0.5,
            "rgb(107,174,214)"
           ],
           [
            0.625,
            "rgb(66,146,198)"
           ],
           [
            0.75,
            "rgb(33,113,181)"
           ],
           [
            0.875,
            "rgb(8,81,156)"
           ],
           [
            1,
            "rgb(8,48,107)"
           ]
          ],
          "reversescale": false,
          "showscale": true
         },
         "type": "parcoords"
        }
       ],
       "layout": {
        "template": {
         "data": {
          "bar": [
           {
            "error_x": {
             "color": "#2a3f5f"
            },
            "error_y": {
             "color": "#2a3f5f"
            },
            "marker": {
             "line": {
              "color": "#E5ECF6",
              "width": 0.5
             },
             "pattern": {
              "fillmode": "overlay",
              "size": 10,
              "solidity": 0.2
             }
            },
            "type": "bar"
           }
          ],
          "barpolar": [
           {
            "marker": {
             "line": {
              "color": "#E5ECF6",
              "width": 0.5
             },
             "pattern": {
              "fillmode": "overlay",
              "size": 10,
              "solidity": 0.2
             }
            },
            "type": "barpolar"
           }
          ],
          "carpet": [
           {
            "aaxis": {
             "endlinecolor": "#2a3f5f",
             "gridcolor": "white",
             "linecolor": "white",
             "minorgridcolor": "white",
             "startlinecolor": "#2a3f5f"
            },
            "baxis": {
             "endlinecolor": "#2a3f5f",
             "gridcolor": "white",
             "linecolor": "white",
             "minorgridcolor": "white",
             "startlinecolor": "#2a3f5f"
            },
            "type": "carpet"
           }
          ],
          "choropleth": [
           {
            "colorbar": {
             "outlinewidth": 0,
             "ticks": ""
            },
            "type": "choropleth"
           }
          ],
          "contour": [
           {
            "colorbar": {
             "outlinewidth": 0,
             "ticks": ""
            },
            "colorscale": [
             [
              0,
              "#0d0887"
             ],
             [
              0.1111111111111111,
              "#46039f"
             ],
             [
              0.2222222222222222,
              "#7201a8"
             ],
             [
              0.3333333333333333,
              "#9c179e"
             ],
             [
              0.4444444444444444,
              "#bd3786"
             ],
             [
              0.5555555555555556,
              "#d8576b"
             ],
             [
              0.6666666666666666,
              "#ed7953"
             ],
             [
              0.7777777777777778,
              "#fb9f3a"
             ],
             [
              0.8888888888888888,
              "#fdca26"
             ],
             [
              1,
              "#f0f921"
             ]
            ],
            "type": "contour"
           }
          ],
          "contourcarpet": [
           {
            "colorbar": {
             "outlinewidth": 0,
             "ticks": ""
            },
            "type": "contourcarpet"
           }
          ],
          "heatmap": [
           {
            "colorbar": {
             "outlinewidth": 0,
             "ticks": ""
            },
            "colorscale": [
             [
              0,
              "#0d0887"
             ],
             [
              0.1111111111111111,
              "#46039f"
             ],
             [
              0.2222222222222222,
              "#7201a8"
             ],
             [
              0.3333333333333333,
              "#9c179e"
             ],
             [
              0.4444444444444444,
              "#bd3786"
             ],
             [
              0.5555555555555556,
              "#d8576b"
             ],
             [
              0.6666666666666666,
              "#ed7953"
             ],
             [
              0.7777777777777778,
              "#fb9f3a"
             ],
             [
              0.8888888888888888,
              "#fdca26"
             ],
             [
              1,
              "#f0f921"
             ]
            ],
            "type": "heatmap"
           }
          ],
          "heatmapgl": [
           {
            "colorbar": {
             "outlinewidth": 0,
             "ticks": ""
            },
            "colorscale": [
             [
              0,
              "#0d0887"
             ],
             [
              0.1111111111111111,
              "#46039f"
             ],
             [
              0.2222222222222222,
              "#7201a8"
             ],
             [
              0.3333333333333333,
              "#9c179e"
             ],
             [
              0.4444444444444444,
              "#bd3786"
             ],
             [
              0.5555555555555556,
              "#d8576b"
             ],
             [
              0.6666666666666666,
              "#ed7953"
             ],
             [
              0.7777777777777778,
              "#fb9f3a"
             ],
             [
              0.8888888888888888,
              "#fdca26"
             ],
             [
              1,
              "#f0f921"
             ]
            ],
            "type": "heatmapgl"
           }
          ],
          "histogram": [
           {
            "marker": {
             "pattern": {
              "fillmode": "overlay",
              "size": 10,
              "solidity": 0.2
             }
            },
            "type": "histogram"
           }
          ],
          "histogram2d": [
           {
            "colorbar": {
             "outlinewidth": 0,
             "ticks": ""
            },
            "colorscale": [
             [
              0,
              "#0d0887"
             ],
             [
              0.1111111111111111,
              "#46039f"
             ],
             [
              0.2222222222222222,
              "#7201a8"
             ],
             [
              0.3333333333333333,
              "#9c179e"
             ],
             [
              0.4444444444444444,
              "#bd3786"
             ],
             [
              0.5555555555555556,
              "#d8576b"
             ],
             [
              0.6666666666666666,
              "#ed7953"
             ],
             [
              0.7777777777777778,
              "#fb9f3a"
             ],
             [
              0.8888888888888888,
              "#fdca26"
             ],
             [
              1,
              "#f0f921"
             ]
            ],
            "type": "histogram2d"
           }
          ],
          "histogram2dcontour": [
           {
            "colorbar": {
             "outlinewidth": 0,
             "ticks": ""
            },
            "colorscale": [
             [
              0,
              "#0d0887"
             ],
             [
              0.1111111111111111,
              "#46039f"
             ],
             [
              0.2222222222222222,
              "#7201a8"
             ],
             [
              0.3333333333333333,
              "#9c179e"
             ],
             [
              0.4444444444444444,
              "#bd3786"
             ],
             [
              0.5555555555555556,
              "#d8576b"
             ],
             [
              0.6666666666666666,
              "#ed7953"
             ],
             [
              0.7777777777777778,
              "#fb9f3a"
             ],
             [
              0.8888888888888888,
              "#fdca26"
             ],
             [
              1,
              "#f0f921"
             ]
            ],
            "type": "histogram2dcontour"
           }
          ],
          "mesh3d": [
           {
            "colorbar": {
             "outlinewidth": 0,
             "ticks": ""
            },
            "type": "mesh3d"
           }
          ],
          "parcoords": [
           {
            "line": {
             "colorbar": {
              "outlinewidth": 0,
              "ticks": ""
             }
            },
            "type": "parcoords"
           }
          ],
          "pie": [
           {
            "automargin": true,
            "type": "pie"
           }
          ],
          "scatter": [
           {
            "fillpattern": {
             "fillmode": "overlay",
             "size": 10,
             "solidity": 0.2
            },
            "type": "scatter"
           }
          ],
          "scatter3d": [
           {
            "line": {
             "colorbar": {
              "outlinewidth": 0,
              "ticks": ""
             }
            },
            "marker": {
             "colorbar": {
              "outlinewidth": 0,
              "ticks": ""
             }
            },
            "type": "scatter3d"
           }
          ],
          "scattercarpet": [
           {
            "marker": {
             "colorbar": {
              "outlinewidth": 0,
              "ticks": ""
             }
            },
            "type": "scattercarpet"
           }
          ],
          "scattergeo": [
           {
            "marker": {
             "colorbar": {
              "outlinewidth": 0,
              "ticks": ""
             }
            },
            "type": "scattergeo"
           }
          ],
          "scattergl": [
           {
            "marker": {
             "colorbar": {
              "outlinewidth": 0,
              "ticks": ""
             }
            },
            "type": "scattergl"
           }
          ],
          "scattermapbox": [
           {
            "marker": {
             "colorbar": {
              "outlinewidth": 0,
              "ticks": ""
             }
            },
            "type": "scattermapbox"
           }
          ],
          "scatterpolar": [
           {
            "marker": {
             "colorbar": {
              "outlinewidth": 0,
              "ticks": ""
             }
            },
            "type": "scatterpolar"
           }
          ],
          "scatterpolargl": [
           {
            "marker": {
             "colorbar": {
              "outlinewidth": 0,
              "ticks": ""
             }
            },
            "type": "scatterpolargl"
           }
          ],
          "scatterternary": [
           {
            "marker": {
             "colorbar": {
              "outlinewidth": 0,
              "ticks": ""
             }
            },
            "type": "scatterternary"
           }
          ],
          "surface": [
           {
            "colorbar": {
             "outlinewidth": 0,
             "ticks": ""
            },
            "colorscale": [
             [
              0,
              "#0d0887"
             ],
             [
              0.1111111111111111,
              "#46039f"
             ],
             [
              0.2222222222222222,
              "#7201a8"
             ],
             [
              0.3333333333333333,
              "#9c179e"
             ],
             [
              0.4444444444444444,
              "#bd3786"
             ],
             [
              0.5555555555555556,
              "#d8576b"
             ],
             [
              0.6666666666666666,
              "#ed7953"
             ],
             [
              0.7777777777777778,
              "#fb9f3a"
             ],
             [
              0.8888888888888888,
              "#fdca26"
             ],
             [
              1,
              "#f0f921"
             ]
            ],
            "type": "surface"
           }
          ],
          "table": [
           {
            "cells": {
             "fill": {
              "color": "#EBF0F8"
             },
             "line": {
              "color": "white"
             }
            },
            "header": {
             "fill": {
              "color": "#C8D4E3"
             },
             "line": {
              "color": "white"
             }
            },
            "type": "table"
           }
          ]
         },
         "layout": {
          "annotationdefaults": {
           "arrowcolor": "#2a3f5f",
           "arrowhead": 0,
           "arrowwidth": 1
          },
          "autotypenumbers": "strict",
          "coloraxis": {
           "colorbar": {
            "outlinewidth": 0,
            "ticks": ""
           }
          },
          "colorscale": {
           "diverging": [
            [
             0,
             "#8e0152"
            ],
            [
             0.1,
             "#c51b7d"
            ],
            [
             0.2,
             "#de77ae"
            ],
            [
             0.3,
             "#f1b6da"
            ],
            [
             0.4,
             "#fde0ef"
            ],
            [
             0.5,
             "#f7f7f7"
            ],
            [
             0.6,
             "#e6f5d0"
            ],
            [
             0.7,
             "#b8e186"
            ],
            [
             0.8,
             "#7fbc41"
            ],
            [
             0.9,
             "#4d9221"
            ],
            [
             1,
             "#276419"
            ]
           ],
           "sequential": [
            [
             0,
             "#0d0887"
            ],
            [
             0.1111111111111111,
             "#46039f"
            ],
            [
             0.2222222222222222,
             "#7201a8"
            ],
            [
             0.3333333333333333,
             "#9c179e"
            ],
            [
             0.4444444444444444,
             "#bd3786"
            ],
            [
             0.5555555555555556,
             "#d8576b"
            ],
            [
             0.6666666666666666,
             "#ed7953"
            ],
            [
             0.7777777777777778,
             "#fb9f3a"
            ],
            [
             0.8888888888888888,
             "#fdca26"
            ],
            [
             1,
             "#f0f921"
            ]
           ],
           "sequentialminus": [
            [
             0,
             "#0d0887"
            ],
            [
             0.1111111111111111,
             "#46039f"
            ],
            [
             0.2222222222222222,
             "#7201a8"
            ],
            [
             0.3333333333333333,
             "#9c179e"
            ],
            [
             0.4444444444444444,
             "#bd3786"
            ],
            [
             0.5555555555555556,
             "#d8576b"
            ],
            [
             0.6666666666666666,
             "#ed7953"
            ],
            [
             0.7777777777777778,
             "#fb9f3a"
            ],
            [
             0.8888888888888888,
             "#fdca26"
            ],
            [
             1,
             "#f0f921"
            ]
           ]
          },
          "colorway": [
           "#636efa",
           "#EF553B",
           "#00cc96",
           "#ab63fa",
           "#FFA15A",
           "#19d3f3",
           "#FF6692",
           "#B6E880",
           "#FF97FF",
           "#FECB52"
          ],
          "font": {
           "color": "#2a3f5f"
          },
          "geo": {
           "bgcolor": "white",
           "lakecolor": "white",
           "landcolor": "#E5ECF6",
           "showlakes": true,
           "showland": true,
           "subunitcolor": "white"
          },
          "hoverlabel": {
           "align": "left"
          },
          "hovermode": "closest",
          "mapbox": {
           "style": "light"
          },
          "paper_bgcolor": "white",
          "plot_bgcolor": "#E5ECF6",
          "polar": {
           "angularaxis": {
            "gridcolor": "white",
            "linecolor": "white",
            "ticks": ""
           },
           "bgcolor": "#E5ECF6",
           "radialaxis": {
            "gridcolor": "white",
            "linecolor": "white",
            "ticks": ""
           }
          },
          "scene": {
           "xaxis": {
            "backgroundcolor": "#E5ECF6",
            "gridcolor": "white",
            "gridwidth": 2,
            "linecolor": "white",
            "showbackground": true,
            "ticks": "",
            "zerolinecolor": "white"
           },
           "yaxis": {
            "backgroundcolor": "#E5ECF6",
            "gridcolor": "white",
            "gridwidth": 2,
            "linecolor": "white",
            "showbackground": true,
            "ticks": "",
            "zerolinecolor": "white"
           },
           "zaxis": {
            "backgroundcolor": "#E5ECF6",
            "gridcolor": "white",
            "gridwidth": 2,
            "linecolor": "white",
            "showbackground": true,
            "ticks": "",
            "zerolinecolor": "white"
           }
          },
          "shapedefaults": {
           "line": {
            "color": "#2a3f5f"
           }
          },
          "ternary": {
           "aaxis": {
            "gridcolor": "white",
            "linecolor": "white",
            "ticks": ""
           },
           "baxis": {
            "gridcolor": "white",
            "linecolor": "white",
            "ticks": ""
           },
           "bgcolor": "#E5ECF6",
           "caxis": {
            "gridcolor": "white",
            "linecolor": "white",
            "ticks": ""
           }
          },
          "title": {
           "x": 0.05
          },
          "xaxis": {
           "automargin": true,
           "gridcolor": "white",
           "linecolor": "white",
           "ticks": "",
           "title": {
            "standoff": 15
           },
           "zerolinecolor": "white",
           "zerolinewidth": 2
          },
          "yaxis": {
           "automargin": true,
           "gridcolor": "white",
           "linecolor": "white",
           "ticks": "",
           "title": {
            "standoff": 15
           },
           "zerolinecolor": "white",
           "zerolinewidth": 2
          }
         }
        },
        "title": {
         "text": "Parallel Coordinate Plot"
        }
       }
      },
      "text/html": [
       "<div>                            <div id=\"6637a044-2966-48e9-8472-18f479a80c7b\" class=\"plotly-graph-div\" style=\"height:525px; width:100%;\"></div>            <script type=\"text/javascript\">                require([\"plotly\"], function(Plotly) {                    window.PLOTLYENV=window.PLOTLYENV || {};                                    if (document.getElementById(\"6637a044-2966-48e9-8472-18f479a80c7b\")) {                    Plotly.newPlot(                        \"6637a044-2966-48e9-8472-18f479a80c7b\",                        [{\"dimensions\":[{\"label\":\"Objective Value\",\"range\":[0.34721230307329415,0.6294443392124075],\"values\":[0.5504298712375973,0.4870792808677284,0.49610947298617547,0.5926789868109856,0.5062346257090083,0.4859464572352847,0.5068221895890809,0.47040721092445237,0.4418873044702735,0.44172431608830315,0.5761350966331809,0.5434216496262376,0.5183022278500947,0.4833382204643382,0.4644731469870848,0.5760141954965025,0.5149766589227748,0.34721230307329415,0.6294443392124075,0.5702166280668696,0.5211984710925562,0.6017892711959929,0.5802889612594789,0.5530203760470042,0.6081734461856452,0.5759628445198214,0.57387791117631,0.6099947058868556,0.5310263516501595,0.6084007246383578,0.6212928240980536,0.6057665834308062,0.6022646440947095,0.5491631764633458,0.5306709172864331,0.5666584291506861,0.5372578932965407,0.5578231286487189,0.5769346456733468,0.5777312765863544,0.5699577046932965,0.6027433755765669,0.5583978656753792,0.5744379971433111,0.5498451126044804,0.5948921721369279,0.6124279249265437,0.533825533186147]},{\"label\":\"bagging_temperature\",\"range\":[0.4080948985765991,8.570242761469354],\"values\":[5.040389649917493,6.305739027909414,6.225740551657507,0.7151784439282691,0.4080948985765991,0.653859254147918,2.71193075510363,8.570242761469354,3.1924001131555086]},{\"label\":\"bootstrap_type\",\"range\":[0,1],\"ticktext\":[\"Bernoulli\",\"Bayesian\"],\"tickvals\":[0,1],\"values\":[0,0,0,0,0,1,1,1,0,0,1,1,1,1,1,0,0,1,0,0,0,0,0,0,0,0,0,0,0,0,0,0,0,0,0,0,0,0,0,0,0,0,0,0,0,0,0,0]},{\"label\":\"depth\",\"range\":[3,10],\"values\":[9,6,7,4,8,6,8,3,5,10,3,3,4,4,4,5,3,5,4,7,5,4,4,4,6,6,5,7,8,9,10,10,9,9,10,9,7,8,10,9,8,6,6,7,10,7,9,9]},{\"label\":\"leaf_estimation_i...\",\"range\":[1,15],\"values\":[13,4,12,8,11,9,12,9,6,6,1,1,15,1,4,4,7,3,15,15,10,8,8,7,10,14,11,13,13,13,14,14,13,14,12,15,12,14,13,11,13,10,15,12,11,14,10,15]},{\"label\":\"learning_rate\",\"range\":[0.010330519937624245,0.09762178508498977],\"values\":[0.04079768394826774,0.06396030287974057,0.037952669093558836,0.06123274239476086,0.02085492552746679,0.07190343253821112,0.09686775976034973,0.09161950702870945,0.02730357032874932,0.027011736220211857,0.07783376502216051,0.07624622387236178,0.05433245819004894,0.08563818421472513,0.058918374444924065,0.07748267938222349,0.04738534389777563,0.010330519937624245,0.06599429772750094,0.06613802846574128,0.05239080611299954,0.08289598671054205,0.08548379934196454,0.06624285990554583,0.08423968101369725,0.08728152183769583,0.09762178508498977,0.07122576301470007,0.06812553370540933,0.044587215453943514,0.042988372032400524,0.041826741444373094,0.04604777135670576,0.04787759322131261,0.03537645870416148,0.059849991312733095,0.03547536426020064,0.05181249922356875,0.07209947164985954,0.03182330905437904,0.04049119595899726,0.07083764163012052,0.09242198886566177,0.06260919645584606,0.058099269676403054,0.08096057943850447,0.07422549611341,0.07412901209415881]},{\"label\":\"min_data_in_leaf\",\"range\":[1,20],\"values\":[17,18,18,10,19,13,5,3,3,7,10,10,12,10,8,14,15,7,11,1,15,11,11,8,12,13,16,12,13,12,16,20,17,15,17,9,12,14,19,16,9,12,12,14,11,13,6,5]},{\"label\":\"od_wait\",\"range\":[504,1000],\"values\":[682,683,815,761,983,807,719,504,634,711,911,945,874,903,807,601,864,779,935,998,558,918,944,861,950,955,911,841,842,956,977,974,888,932,974,836,1000,966,762,889,822,932,959,985,928,883,791,788]},{\"label\":\"one_hot_max_size\",\"range\":[1,3],\"values\":[2,2,1,1,3,2,2,1,1,1,3,3,3,3,2,3,1,2,1,1,1,1,1,1,1,1,1,2,2,2,2,2,2,2,2,2,2,2,2,2,2,1,2,1,3,1,2,2]},{\"label\":\"random_strength\",\"range\":[0.0692796827745287,9.925800248521753],\"values\":[0.14385819353873208,5.129364650485848,5.565321495542204,4.55214747772391,2.2188664047998774,0.6219523480361249,6.489041862879473,8.198540193622339,4.741126357141652,4.129791502075621,8.696145030774442,9.41642386395123,7.232520621182931,2.68459574085397,9.925800248521753,3.1899901692890156,8.027809839919053,6.39656666602873,3.840910125839488,3.779496690167775,1.448424146000849,5.781221034836426,5.726125748257494,4.285469971458466,3.3843813831727343,3.434028600369688,2.913093653128971,1.2619578295294667,1.6601970607247911,0.09116566732884657,0.12567688202130967,0.3288268364627201,0.08461468221785552,0.8348238689036775,1.4010577741854306,2.161973323542151,0.8769385501395149,2.0677434042735374,0.8909268260276242,0.0692796827745287,1.2957827373624287,2.634136836154229,0.47716447760693165,1.7919808387471423,4.746511059028071,3.6012618290410185,2.5011302599524243,1.1106329603061345]},{\"label\":\"reg_lambda\",\"range\":[0.05584333914124606,92.85101978292437],\"values\":[51.10509160965447,44.654855745694945,6.702459795055533,11.746146618705742,85.62302970746559,52.11910523178105,40.03789327527503,40.60944950770438,70.69872834996096,92.85101978292437,0.05584333914124606,5.550444209143706,23.063540790002534,22.354350617710416,0.08337248473088497,23.971112204809987,15.224668961826069,30.457434298476546,10.306556569997433,14.0735129960887,60.56286360356791,12.079802104868678,13.664074156746898,28.01824261467845,12.32597788378742,34.32089925205514,21.33319653102896,5.766576506171617,72.59280474434496,5.109549823155672,4.7717501486138065,6.370863897092214,0.15200184522235105,5.91043339739508,18.768908680766994,8.167883095814412,50.816341776805764,17.91946219749967,33.841718385702066,7.63057339260114,27.346993626859753,9.148789662896512,4.420514974588851,16.21348226202953,11.87736528180436,2.6493492878447302,10.986562805815623,44.68405181413501]},{\"label\":\"subsample\",\"range\":[0.1128489303383658,0.9981283380625015],\"values\":[0.8077050043274063,0.1779696549137898,0.39770800640448467,0.40602919570885854,0.4423784779891323,0.3914422347135359,0.19087270244875507,0.7572530566253488,0.6418645222135926,0.953293232100032,0.9957302492145698,0.9605010375452282,0.549250399524778,0.5603276889114795,0.5344770327448712,0.32093474260765753,0.2864364636398852,0.7231051149701233,0.8837203609427644,0.881315936030608,0.8791263990967407,0.8929214765840339,0.8869106883945056,0.8830063764178763,0.8258878480587779,0.9414803707591682,0.7216659885693968,0.9226690790138996,0.7852195236831148,0.6644663158985703,0.812134594938728,0.8565110705258402,0.9795108920237232,0.1128489303383658,0.9207166932347728,0.8488052633731358,0.9981283380625015,0.3112556439108161,0.9186712145108987]}],\"labelangle\":30,\"labelside\":\"bottom\",\"line\":{\"color\":[0.5504298712375973,0.4870792808677284,0.49610947298617547,0.5926789868109856,0.5062346257090083,0.4859464572352847,0.5068221895890809,0.47040721092445237,0.4418873044702735,0.44172431608830315,0.5761350966331809,0.5434216496262376,0.5183022278500947,0.4833382204643382,0.4644731469870848,0.5760141954965025,0.5149766589227748,0.34721230307329415,0.6294443392124075,0.5702166280668696,0.5211984710925562,0.6017892711959929,0.5802889612594789,0.5530203760470042,0.6081734461856452,0.5759628445198214,0.57387791117631,0.6099947058868556,0.5310263516501595,0.6084007246383578,0.6212928240980536,0.6057665834308062,0.6022646440947095,0.5491631764633458,0.5306709172864331,0.5666584291506861,0.5372578932965407,0.5578231286487189,0.5769346456733468,0.5777312765863544,0.5699577046932965,0.6027433755765669,0.5583978656753792,0.5744379971433111,0.5498451126044804,0.5948921721369279,0.6124279249265437,0.533825533186147],\"colorbar\":{\"title\":{\"text\":\"Objective Value\"}},\"colorscale\":[[0.0,\"rgb(247,251,255)\"],[0.125,\"rgb(222,235,247)\"],[0.25,\"rgb(198,219,239)\"],[0.375,\"rgb(158,202,225)\"],[0.5,\"rgb(107,174,214)\"],[0.625,\"rgb(66,146,198)\"],[0.75,\"rgb(33,113,181)\"],[0.875,\"rgb(8,81,156)\"],[1.0,\"rgb(8,48,107)\"]],\"reversescale\":false,\"showscale\":true},\"type\":\"parcoords\"}],                        {\"title\":{\"text\":\"Parallel Coordinate Plot\"},\"template\":{\"data\":{\"histogram2dcontour\":[{\"type\":\"histogram2dcontour\",\"colorbar\":{\"outlinewidth\":0,\"ticks\":\"\"},\"colorscale\":[[0.0,\"#0d0887\"],[0.1111111111111111,\"#46039f\"],[0.2222222222222222,\"#7201a8\"],[0.3333333333333333,\"#9c179e\"],[0.4444444444444444,\"#bd3786\"],[0.5555555555555556,\"#d8576b\"],[0.6666666666666666,\"#ed7953\"],[0.7777777777777778,\"#fb9f3a\"],[0.8888888888888888,\"#fdca26\"],[1.0,\"#f0f921\"]]}],\"choropleth\":[{\"type\":\"choropleth\",\"colorbar\":{\"outlinewidth\":0,\"ticks\":\"\"}}],\"histogram2d\":[{\"type\":\"histogram2d\",\"colorbar\":{\"outlinewidth\":0,\"ticks\":\"\"},\"colorscale\":[[0.0,\"#0d0887\"],[0.1111111111111111,\"#46039f\"],[0.2222222222222222,\"#7201a8\"],[0.3333333333333333,\"#9c179e\"],[0.4444444444444444,\"#bd3786\"],[0.5555555555555556,\"#d8576b\"],[0.6666666666666666,\"#ed7953\"],[0.7777777777777778,\"#fb9f3a\"],[0.8888888888888888,\"#fdca26\"],[1.0,\"#f0f921\"]]}],\"heatmap\":[{\"type\":\"heatmap\",\"colorbar\":{\"outlinewidth\":0,\"ticks\":\"\"},\"colorscale\":[[0.0,\"#0d0887\"],[0.1111111111111111,\"#46039f\"],[0.2222222222222222,\"#7201a8\"],[0.3333333333333333,\"#9c179e\"],[0.4444444444444444,\"#bd3786\"],[0.5555555555555556,\"#d8576b\"],[0.6666666666666666,\"#ed7953\"],[0.7777777777777778,\"#fb9f3a\"],[0.8888888888888888,\"#fdca26\"],[1.0,\"#f0f921\"]]}],\"heatmapgl\":[{\"type\":\"heatmapgl\",\"colorbar\":{\"outlinewidth\":0,\"ticks\":\"\"},\"colorscale\":[[0.0,\"#0d0887\"],[0.1111111111111111,\"#46039f\"],[0.2222222222222222,\"#7201a8\"],[0.3333333333333333,\"#9c179e\"],[0.4444444444444444,\"#bd3786\"],[0.5555555555555556,\"#d8576b\"],[0.6666666666666666,\"#ed7953\"],[0.7777777777777778,\"#fb9f3a\"],[0.8888888888888888,\"#fdca26\"],[1.0,\"#f0f921\"]]}],\"contourcarpet\":[{\"type\":\"contourcarpet\",\"colorbar\":{\"outlinewidth\":0,\"ticks\":\"\"}}],\"contour\":[{\"type\":\"contour\",\"colorbar\":{\"outlinewidth\":0,\"ticks\":\"\"},\"colorscale\":[[0.0,\"#0d0887\"],[0.1111111111111111,\"#46039f\"],[0.2222222222222222,\"#7201a8\"],[0.3333333333333333,\"#9c179e\"],[0.4444444444444444,\"#bd3786\"],[0.5555555555555556,\"#d8576b\"],[0.6666666666666666,\"#ed7953\"],[0.7777777777777778,\"#fb9f3a\"],[0.8888888888888888,\"#fdca26\"],[1.0,\"#f0f921\"]]}],\"surface\":[{\"type\":\"surface\",\"colorbar\":{\"outlinewidth\":0,\"ticks\":\"\"},\"colorscale\":[[0.0,\"#0d0887\"],[0.1111111111111111,\"#46039f\"],[0.2222222222222222,\"#7201a8\"],[0.3333333333333333,\"#9c179e\"],[0.4444444444444444,\"#bd3786\"],[0.5555555555555556,\"#d8576b\"],[0.6666666666666666,\"#ed7953\"],[0.7777777777777778,\"#fb9f3a\"],[0.8888888888888888,\"#fdca26\"],[1.0,\"#f0f921\"]]}],\"mesh3d\":[{\"type\":\"mesh3d\",\"colorbar\":{\"outlinewidth\":0,\"ticks\":\"\"}}],\"scatter\":[{\"fillpattern\":{\"fillmode\":\"overlay\",\"size\":10,\"solidity\":0.2},\"type\":\"scatter\"}],\"parcoords\":[{\"type\":\"parcoords\",\"line\":{\"colorbar\":{\"outlinewidth\":0,\"ticks\":\"\"}}}],\"scatterpolargl\":[{\"type\":\"scatterpolargl\",\"marker\":{\"colorbar\":{\"outlinewidth\":0,\"ticks\":\"\"}}}],\"bar\":[{\"error_x\":{\"color\":\"#2a3f5f\"},\"error_y\":{\"color\":\"#2a3f5f\"},\"marker\":{\"line\":{\"color\":\"#E5ECF6\",\"width\":0.5},\"pattern\":{\"fillmode\":\"overlay\",\"size\":10,\"solidity\":0.2}},\"type\":\"bar\"}],\"scattergeo\":[{\"type\":\"scattergeo\",\"marker\":{\"colorbar\":{\"outlinewidth\":0,\"ticks\":\"\"}}}],\"scatterpolar\":[{\"type\":\"scatterpolar\",\"marker\":{\"colorbar\":{\"outlinewidth\":0,\"ticks\":\"\"}}}],\"histogram\":[{\"marker\":{\"pattern\":{\"fillmode\":\"overlay\",\"size\":10,\"solidity\":0.2}},\"type\":\"histogram\"}],\"scattergl\":[{\"type\":\"scattergl\",\"marker\":{\"colorbar\":{\"outlinewidth\":0,\"ticks\":\"\"}}}],\"scatter3d\":[{\"type\":\"scatter3d\",\"line\":{\"colorbar\":{\"outlinewidth\":0,\"ticks\":\"\"}},\"marker\":{\"colorbar\":{\"outlinewidth\":0,\"ticks\":\"\"}}}],\"scattermapbox\":[{\"type\":\"scattermapbox\",\"marker\":{\"colorbar\":{\"outlinewidth\":0,\"ticks\":\"\"}}}],\"scatterternary\":[{\"type\":\"scatterternary\",\"marker\":{\"colorbar\":{\"outlinewidth\":0,\"ticks\":\"\"}}}],\"scattercarpet\":[{\"type\":\"scattercarpet\",\"marker\":{\"colorbar\":{\"outlinewidth\":0,\"ticks\":\"\"}}}],\"carpet\":[{\"aaxis\":{\"endlinecolor\":\"#2a3f5f\",\"gridcolor\":\"white\",\"linecolor\":\"white\",\"minorgridcolor\":\"white\",\"startlinecolor\":\"#2a3f5f\"},\"baxis\":{\"endlinecolor\":\"#2a3f5f\",\"gridcolor\":\"white\",\"linecolor\":\"white\",\"minorgridcolor\":\"white\",\"startlinecolor\":\"#2a3f5f\"},\"type\":\"carpet\"}],\"table\":[{\"cells\":{\"fill\":{\"color\":\"#EBF0F8\"},\"line\":{\"color\":\"white\"}},\"header\":{\"fill\":{\"color\":\"#C8D4E3\"},\"line\":{\"color\":\"white\"}},\"type\":\"table\"}],\"barpolar\":[{\"marker\":{\"line\":{\"color\":\"#E5ECF6\",\"width\":0.5},\"pattern\":{\"fillmode\":\"overlay\",\"size\":10,\"solidity\":0.2}},\"type\":\"barpolar\"}],\"pie\":[{\"automargin\":true,\"type\":\"pie\"}]},\"layout\":{\"autotypenumbers\":\"strict\",\"colorway\":[\"#636efa\",\"#EF553B\",\"#00cc96\",\"#ab63fa\",\"#FFA15A\",\"#19d3f3\",\"#FF6692\",\"#B6E880\",\"#FF97FF\",\"#FECB52\"],\"font\":{\"color\":\"#2a3f5f\"},\"hovermode\":\"closest\",\"hoverlabel\":{\"align\":\"left\"},\"paper_bgcolor\":\"white\",\"plot_bgcolor\":\"#E5ECF6\",\"polar\":{\"bgcolor\":\"#E5ECF6\",\"angularaxis\":{\"gridcolor\":\"white\",\"linecolor\":\"white\",\"ticks\":\"\"},\"radialaxis\":{\"gridcolor\":\"white\",\"linecolor\":\"white\",\"ticks\":\"\"}},\"ternary\":{\"bgcolor\":\"#E5ECF6\",\"aaxis\":{\"gridcolor\":\"white\",\"linecolor\":\"white\",\"ticks\":\"\"},\"baxis\":{\"gridcolor\":\"white\",\"linecolor\":\"white\",\"ticks\":\"\"},\"caxis\":{\"gridcolor\":\"white\",\"linecolor\":\"white\",\"ticks\":\"\"}},\"coloraxis\":{\"colorbar\":{\"outlinewidth\":0,\"ticks\":\"\"}},\"colorscale\":{\"sequential\":[[0.0,\"#0d0887\"],[0.1111111111111111,\"#46039f\"],[0.2222222222222222,\"#7201a8\"],[0.3333333333333333,\"#9c179e\"],[0.4444444444444444,\"#bd3786\"],[0.5555555555555556,\"#d8576b\"],[0.6666666666666666,\"#ed7953\"],[0.7777777777777778,\"#fb9f3a\"],[0.8888888888888888,\"#fdca26\"],[1.0,\"#f0f921\"]],\"sequentialminus\":[[0.0,\"#0d0887\"],[0.1111111111111111,\"#46039f\"],[0.2222222222222222,\"#7201a8\"],[0.3333333333333333,\"#9c179e\"],[0.4444444444444444,\"#bd3786\"],[0.5555555555555556,\"#d8576b\"],[0.6666666666666666,\"#ed7953\"],[0.7777777777777778,\"#fb9f3a\"],[0.8888888888888888,\"#fdca26\"],[1.0,\"#f0f921\"]],\"diverging\":[[0,\"#8e0152\"],[0.1,\"#c51b7d\"],[0.2,\"#de77ae\"],[0.3,\"#f1b6da\"],[0.4,\"#fde0ef\"],[0.5,\"#f7f7f7\"],[0.6,\"#e6f5d0\"],[0.7,\"#b8e186\"],[0.8,\"#7fbc41\"],[0.9,\"#4d9221\"],[1,\"#276419\"]]},\"xaxis\":{\"gridcolor\":\"white\",\"linecolor\":\"white\",\"ticks\":\"\",\"title\":{\"standoff\":15},\"zerolinecolor\":\"white\",\"automargin\":true,\"zerolinewidth\":2},\"yaxis\":{\"gridcolor\":\"white\",\"linecolor\":\"white\",\"ticks\":\"\",\"title\":{\"standoff\":15},\"zerolinecolor\":\"white\",\"automargin\":true,\"zerolinewidth\":2},\"scene\":{\"xaxis\":{\"backgroundcolor\":\"#E5ECF6\",\"gridcolor\":\"white\",\"linecolor\":\"white\",\"showbackground\":true,\"ticks\":\"\",\"zerolinecolor\":\"white\",\"gridwidth\":2},\"yaxis\":{\"backgroundcolor\":\"#E5ECF6\",\"gridcolor\":\"white\",\"linecolor\":\"white\",\"showbackground\":true,\"ticks\":\"\",\"zerolinecolor\":\"white\",\"gridwidth\":2},\"zaxis\":{\"backgroundcolor\":\"#E5ECF6\",\"gridcolor\":\"white\",\"linecolor\":\"white\",\"showbackground\":true,\"ticks\":\"\",\"zerolinecolor\":\"white\",\"gridwidth\":2}},\"shapedefaults\":{\"line\":{\"color\":\"#2a3f5f\"}},\"annotationdefaults\":{\"arrowcolor\":\"#2a3f5f\",\"arrowhead\":0,\"arrowwidth\":1},\"geo\":{\"bgcolor\":\"white\",\"landcolor\":\"#E5ECF6\",\"subunitcolor\":\"white\",\"showland\":true,\"showlakes\":true,\"lakecolor\":\"white\"},\"title\":{\"x\":0.05},\"mapbox\":{\"style\":\"light\"}}}},                        {\"responsive\": true}                    ).then(function(){\n",
       "                            \n",
       "var gd = document.getElementById('6637a044-2966-48e9-8472-18f479a80c7b');\n",
       "var x = new MutationObserver(function (mutations, observer) {{\n",
       "        var display = window.getComputedStyle(gd).display;\n",
       "        if (!display || display === 'none') {{\n",
       "            console.log([gd, 'removed!']);\n",
       "            Plotly.purge(gd);\n",
       "            observer.disconnect();\n",
       "        }}\n",
       "}});\n",
       "\n",
       "// Listen for the removal of the full notebook cells\n",
       "var notebookContainer = gd.closest('#notebook-container');\n",
       "if (notebookContainer) {{\n",
       "    x.observe(notebookContainer, {childList: true});\n",
       "}}\n",
       "\n",
       "// Listen for the clearing of the current output cell\n",
       "var outputEl = gd.closest('.output');\n",
       "if (outputEl) {{\n",
       "    x.observe(outputEl, {childList: true});\n",
       "}}\n",
       "\n",
       "                        })                };                });            </script>        </div>"
      ]
     },
     "metadata": {},
     "output_type": "display_data"
    }
   ],
   "source": [
    "# 선택된 파라미터 조합 비교\n",
    "fig = optuna.visualization.plot_parallel_coordinate(study)\n",
    "fig.show()"
   ]
  },
  {
   "cell_type": "code",
   "execution_count": 261,
   "id": "33931e05",
   "metadata": {},
   "outputs": [
    {
     "data": {
      "application/vnd.plotly.v1+json": {
       "config": {
        "plotlyServerURL": "https://plot.ly"
       },
       "data": [
        {
         "cliponaxis": false,
         "hovertemplate": [
          "one_hot_max_size (IntUniformDistribution): 0.005598156225045666<extra></extra>",
          "depth (IntUniformDistribution): 0.008298995180418422<extra></extra>",
          "bootstrap_type (CategoricalDistribution): 0.05939387136111864<extra></extra>",
          "od_wait (IntUniformDistribution): 0.06660391385020226<extra></extra>",
          "random_strength (UniformDistribution): 0.07388019859781852<extra></extra>",
          "min_data_in_leaf (IntUniformDistribution): 0.08481840830805973<extra></extra>",
          "leaf_estimation_iterations (IntUniformDistribution): 0.13181073168843177<extra></extra>",
          "reg_lambda (UniformDistribution): 0.27902983963128414<extra></extra>",
          "learning_rate (UniformDistribution): 0.29056588515762094<extra></extra>"
         ],
         "marker": {
          "color": "rgb(66,146,198)"
         },
         "orientation": "h",
         "text": [
          "0.005598156225045666",
          "0.008298995180418422",
          "0.05939387136111864",
          "0.06660391385020226",
          "0.07388019859781852",
          "0.08481840830805973",
          "0.13181073168843177",
          "0.27902983963128414",
          "0.29056588515762094"
         ],
         "textposition": "outside",
         "texttemplate": "%{text:.2f}",
         "type": "bar",
         "x": [
          0.005598156225045666,
          0.008298995180418422,
          0.05939387136111864,
          0.06660391385020226,
          0.07388019859781852,
          0.08481840830805973,
          0.13181073168843177,
          0.27902983963128414,
          0.29056588515762094
         ],
         "y": [
          "one_hot_max_size",
          "depth",
          "bootstrap_type",
          "od_wait",
          "random_strength",
          "min_data_in_leaf",
          "leaf_estimation_iterations",
          "reg_lambda",
          "learning_rate"
         ]
        }
       ],
       "layout": {
        "showlegend": false,
        "template": {
         "data": {
          "bar": [
           {
            "error_x": {
             "color": "#2a3f5f"
            },
            "error_y": {
             "color": "#2a3f5f"
            },
            "marker": {
             "line": {
              "color": "#E5ECF6",
              "width": 0.5
             },
             "pattern": {
              "fillmode": "overlay",
              "size": 10,
              "solidity": 0.2
             }
            },
            "type": "bar"
           }
          ],
          "barpolar": [
           {
            "marker": {
             "line": {
              "color": "#E5ECF6",
              "width": 0.5
             },
             "pattern": {
              "fillmode": "overlay",
              "size": 10,
              "solidity": 0.2
             }
            },
            "type": "barpolar"
           }
          ],
          "carpet": [
           {
            "aaxis": {
             "endlinecolor": "#2a3f5f",
             "gridcolor": "white",
             "linecolor": "white",
             "minorgridcolor": "white",
             "startlinecolor": "#2a3f5f"
            },
            "baxis": {
             "endlinecolor": "#2a3f5f",
             "gridcolor": "white",
             "linecolor": "white",
             "minorgridcolor": "white",
             "startlinecolor": "#2a3f5f"
            },
            "type": "carpet"
           }
          ],
          "choropleth": [
           {
            "colorbar": {
             "outlinewidth": 0,
             "ticks": ""
            },
            "type": "choropleth"
           }
          ],
          "contour": [
           {
            "colorbar": {
             "outlinewidth": 0,
             "ticks": ""
            },
            "colorscale": [
             [
              0,
              "#0d0887"
             ],
             [
              0.1111111111111111,
              "#46039f"
             ],
             [
              0.2222222222222222,
              "#7201a8"
             ],
             [
              0.3333333333333333,
              "#9c179e"
             ],
             [
              0.4444444444444444,
              "#bd3786"
             ],
             [
              0.5555555555555556,
              "#d8576b"
             ],
             [
              0.6666666666666666,
              "#ed7953"
             ],
             [
              0.7777777777777778,
              "#fb9f3a"
             ],
             [
              0.8888888888888888,
              "#fdca26"
             ],
             [
              1,
              "#f0f921"
             ]
            ],
            "type": "contour"
           }
          ],
          "contourcarpet": [
           {
            "colorbar": {
             "outlinewidth": 0,
             "ticks": ""
            },
            "type": "contourcarpet"
           }
          ],
          "heatmap": [
           {
            "colorbar": {
             "outlinewidth": 0,
             "ticks": ""
            },
            "colorscale": [
             [
              0,
              "#0d0887"
             ],
             [
              0.1111111111111111,
              "#46039f"
             ],
             [
              0.2222222222222222,
              "#7201a8"
             ],
             [
              0.3333333333333333,
              "#9c179e"
             ],
             [
              0.4444444444444444,
              "#bd3786"
             ],
             [
              0.5555555555555556,
              "#d8576b"
             ],
             [
              0.6666666666666666,
              "#ed7953"
             ],
             [
              0.7777777777777778,
              "#fb9f3a"
             ],
             [
              0.8888888888888888,
              "#fdca26"
             ],
             [
              1,
              "#f0f921"
             ]
            ],
            "type": "heatmap"
           }
          ],
          "heatmapgl": [
           {
            "colorbar": {
             "outlinewidth": 0,
             "ticks": ""
            },
            "colorscale": [
             [
              0,
              "#0d0887"
             ],
             [
              0.1111111111111111,
              "#46039f"
             ],
             [
              0.2222222222222222,
              "#7201a8"
             ],
             [
              0.3333333333333333,
              "#9c179e"
             ],
             [
              0.4444444444444444,
              "#bd3786"
             ],
             [
              0.5555555555555556,
              "#d8576b"
             ],
             [
              0.6666666666666666,
              "#ed7953"
             ],
             [
              0.7777777777777778,
              "#fb9f3a"
             ],
             [
              0.8888888888888888,
              "#fdca26"
             ],
             [
              1,
              "#f0f921"
             ]
            ],
            "type": "heatmapgl"
           }
          ],
          "histogram": [
           {
            "marker": {
             "pattern": {
              "fillmode": "overlay",
              "size": 10,
              "solidity": 0.2
             }
            },
            "type": "histogram"
           }
          ],
          "histogram2d": [
           {
            "colorbar": {
             "outlinewidth": 0,
             "ticks": ""
            },
            "colorscale": [
             [
              0,
              "#0d0887"
             ],
             [
              0.1111111111111111,
              "#46039f"
             ],
             [
              0.2222222222222222,
              "#7201a8"
             ],
             [
              0.3333333333333333,
              "#9c179e"
             ],
             [
              0.4444444444444444,
              "#bd3786"
             ],
             [
              0.5555555555555556,
              "#d8576b"
             ],
             [
              0.6666666666666666,
              "#ed7953"
             ],
             [
              0.7777777777777778,
              "#fb9f3a"
             ],
             [
              0.8888888888888888,
              "#fdca26"
             ],
             [
              1,
              "#f0f921"
             ]
            ],
            "type": "histogram2d"
           }
          ],
          "histogram2dcontour": [
           {
            "colorbar": {
             "outlinewidth": 0,
             "ticks": ""
            },
            "colorscale": [
             [
              0,
              "#0d0887"
             ],
             [
              0.1111111111111111,
              "#46039f"
             ],
             [
              0.2222222222222222,
              "#7201a8"
             ],
             [
              0.3333333333333333,
              "#9c179e"
             ],
             [
              0.4444444444444444,
              "#bd3786"
             ],
             [
              0.5555555555555556,
              "#d8576b"
             ],
             [
              0.6666666666666666,
              "#ed7953"
             ],
             [
              0.7777777777777778,
              "#fb9f3a"
             ],
             [
              0.8888888888888888,
              "#fdca26"
             ],
             [
              1,
              "#f0f921"
             ]
            ],
            "type": "histogram2dcontour"
           }
          ],
          "mesh3d": [
           {
            "colorbar": {
             "outlinewidth": 0,
             "ticks": ""
            },
            "type": "mesh3d"
           }
          ],
          "parcoords": [
           {
            "line": {
             "colorbar": {
              "outlinewidth": 0,
              "ticks": ""
             }
            },
            "type": "parcoords"
           }
          ],
          "pie": [
           {
            "automargin": true,
            "type": "pie"
           }
          ],
          "scatter": [
           {
            "fillpattern": {
             "fillmode": "overlay",
             "size": 10,
             "solidity": 0.2
            },
            "type": "scatter"
           }
          ],
          "scatter3d": [
           {
            "line": {
             "colorbar": {
              "outlinewidth": 0,
              "ticks": ""
             }
            },
            "marker": {
             "colorbar": {
              "outlinewidth": 0,
              "ticks": ""
             }
            },
            "type": "scatter3d"
           }
          ],
          "scattercarpet": [
           {
            "marker": {
             "colorbar": {
              "outlinewidth": 0,
              "ticks": ""
             }
            },
            "type": "scattercarpet"
           }
          ],
          "scattergeo": [
           {
            "marker": {
             "colorbar": {
              "outlinewidth": 0,
              "ticks": ""
             }
            },
            "type": "scattergeo"
           }
          ],
          "scattergl": [
           {
            "marker": {
             "colorbar": {
              "outlinewidth": 0,
              "ticks": ""
             }
            },
            "type": "scattergl"
           }
          ],
          "scattermapbox": [
           {
            "marker": {
             "colorbar": {
              "outlinewidth": 0,
              "ticks": ""
             }
            },
            "type": "scattermapbox"
           }
          ],
          "scatterpolar": [
           {
            "marker": {
             "colorbar": {
              "outlinewidth": 0,
              "ticks": ""
             }
            },
            "type": "scatterpolar"
           }
          ],
          "scatterpolargl": [
           {
            "marker": {
             "colorbar": {
              "outlinewidth": 0,
              "ticks": ""
             }
            },
            "type": "scatterpolargl"
           }
          ],
          "scatterternary": [
           {
            "marker": {
             "colorbar": {
              "outlinewidth": 0,
              "ticks": ""
             }
            },
            "type": "scatterternary"
           }
          ],
          "surface": [
           {
            "colorbar": {
             "outlinewidth": 0,
             "ticks": ""
            },
            "colorscale": [
             [
              0,
              "#0d0887"
             ],
             [
              0.1111111111111111,
              "#46039f"
             ],
             [
              0.2222222222222222,
              "#7201a8"
             ],
             [
              0.3333333333333333,
              "#9c179e"
             ],
             [
              0.4444444444444444,
              "#bd3786"
             ],
             [
              0.5555555555555556,
              "#d8576b"
             ],
             [
              0.6666666666666666,
              "#ed7953"
             ],
             [
              0.7777777777777778,
              "#fb9f3a"
             ],
             [
              0.8888888888888888,
              "#fdca26"
             ],
             [
              1,
              "#f0f921"
             ]
            ],
            "type": "surface"
           }
          ],
          "table": [
           {
            "cells": {
             "fill": {
              "color": "#EBF0F8"
             },
             "line": {
              "color": "white"
             }
            },
            "header": {
             "fill": {
              "color": "#C8D4E3"
             },
             "line": {
              "color": "white"
             }
            },
            "type": "table"
           }
          ]
         },
         "layout": {
          "annotationdefaults": {
           "arrowcolor": "#2a3f5f",
           "arrowhead": 0,
           "arrowwidth": 1
          },
          "autotypenumbers": "strict",
          "coloraxis": {
           "colorbar": {
            "outlinewidth": 0,
            "ticks": ""
           }
          },
          "colorscale": {
           "diverging": [
            [
             0,
             "#8e0152"
            ],
            [
             0.1,
             "#c51b7d"
            ],
            [
             0.2,
             "#de77ae"
            ],
            [
             0.3,
             "#f1b6da"
            ],
            [
             0.4,
             "#fde0ef"
            ],
            [
             0.5,
             "#f7f7f7"
            ],
            [
             0.6,
             "#e6f5d0"
            ],
            [
             0.7,
             "#b8e186"
            ],
            [
             0.8,
             "#7fbc41"
            ],
            [
             0.9,
             "#4d9221"
            ],
            [
             1,
             "#276419"
            ]
           ],
           "sequential": [
            [
             0,
             "#0d0887"
            ],
            [
             0.1111111111111111,
             "#46039f"
            ],
            [
             0.2222222222222222,
             "#7201a8"
            ],
            [
             0.3333333333333333,
             "#9c179e"
            ],
            [
             0.4444444444444444,
             "#bd3786"
            ],
            [
             0.5555555555555556,
             "#d8576b"
            ],
            [
             0.6666666666666666,
             "#ed7953"
            ],
            [
             0.7777777777777778,
             "#fb9f3a"
            ],
            [
             0.8888888888888888,
             "#fdca26"
            ],
            [
             1,
             "#f0f921"
            ]
           ],
           "sequentialminus": [
            [
             0,
             "#0d0887"
            ],
            [
             0.1111111111111111,
             "#46039f"
            ],
            [
             0.2222222222222222,
             "#7201a8"
            ],
            [
             0.3333333333333333,
             "#9c179e"
            ],
            [
             0.4444444444444444,
             "#bd3786"
            ],
            [
             0.5555555555555556,
             "#d8576b"
            ],
            [
             0.6666666666666666,
             "#ed7953"
            ],
            [
             0.7777777777777778,
             "#fb9f3a"
            ],
            [
             0.8888888888888888,
             "#fdca26"
            ],
            [
             1,
             "#f0f921"
            ]
           ]
          },
          "colorway": [
           "#636efa",
           "#EF553B",
           "#00cc96",
           "#ab63fa",
           "#FFA15A",
           "#19d3f3",
           "#FF6692",
           "#B6E880",
           "#FF97FF",
           "#FECB52"
          ],
          "font": {
           "color": "#2a3f5f"
          },
          "geo": {
           "bgcolor": "white",
           "lakecolor": "white",
           "landcolor": "#E5ECF6",
           "showlakes": true,
           "showland": true,
           "subunitcolor": "white"
          },
          "hoverlabel": {
           "align": "left"
          },
          "hovermode": "closest",
          "mapbox": {
           "style": "light"
          },
          "paper_bgcolor": "white",
          "plot_bgcolor": "#E5ECF6",
          "polar": {
           "angularaxis": {
            "gridcolor": "white",
            "linecolor": "white",
            "ticks": ""
           },
           "bgcolor": "#E5ECF6",
           "radialaxis": {
            "gridcolor": "white",
            "linecolor": "white",
            "ticks": ""
           }
          },
          "scene": {
           "xaxis": {
            "backgroundcolor": "#E5ECF6",
            "gridcolor": "white",
            "gridwidth": 2,
            "linecolor": "white",
            "showbackground": true,
            "ticks": "",
            "zerolinecolor": "white"
           },
           "yaxis": {
            "backgroundcolor": "#E5ECF6",
            "gridcolor": "white",
            "gridwidth": 2,
            "linecolor": "white",
            "showbackground": true,
            "ticks": "",
            "zerolinecolor": "white"
           },
           "zaxis": {
            "backgroundcolor": "#E5ECF6",
            "gridcolor": "white",
            "gridwidth": 2,
            "linecolor": "white",
            "showbackground": true,
            "ticks": "",
            "zerolinecolor": "white"
           }
          },
          "shapedefaults": {
           "line": {
            "color": "#2a3f5f"
           }
          },
          "ternary": {
           "aaxis": {
            "gridcolor": "white",
            "linecolor": "white",
            "ticks": ""
           },
           "baxis": {
            "gridcolor": "white",
            "linecolor": "white",
            "ticks": ""
           },
           "bgcolor": "#E5ECF6",
           "caxis": {
            "gridcolor": "white",
            "linecolor": "white",
            "ticks": ""
           }
          },
          "title": {
           "x": 0.05
          },
          "xaxis": {
           "automargin": true,
           "gridcolor": "white",
           "linecolor": "white",
           "ticks": "",
           "title": {
            "standoff": 15
           },
           "zerolinecolor": "white",
           "zerolinewidth": 2
          },
          "yaxis": {
           "automargin": true,
           "gridcolor": "white",
           "linecolor": "white",
           "ticks": "",
           "title": {
            "standoff": 15
           },
           "zerolinecolor": "white",
           "zerolinewidth": 2
          }
         }
        },
        "title": {
         "text": "Hyperparameter Importances"
        },
        "xaxis": {
         "title": {
          "text": "Importance for Objective Value"
         }
        },
        "yaxis": {
         "title": {
          "text": "Hyperparameter"
         }
        }
       }
      },
      "text/html": [
       "<div>                            <div id=\"764cdc65-cc32-44bf-8a94-691e4b0c7742\" class=\"plotly-graph-div\" style=\"height:525px; width:100%;\"></div>            <script type=\"text/javascript\">                require([\"plotly\"], function(Plotly) {                    window.PLOTLYENV=window.PLOTLYENV || {};                                    if (document.getElementById(\"764cdc65-cc32-44bf-8a94-691e4b0c7742\")) {                    Plotly.newPlot(                        \"764cdc65-cc32-44bf-8a94-691e4b0c7742\",                        [{\"cliponaxis\":false,\"hovertemplate\":[\"one_hot_max_size (IntUniformDistribution): 0.005598156225045666<extra></extra>\",\"depth (IntUniformDistribution): 0.008298995180418422<extra></extra>\",\"bootstrap_type (CategoricalDistribution): 0.05939387136111864<extra></extra>\",\"od_wait (IntUniformDistribution): 0.06660391385020226<extra></extra>\",\"random_strength (UniformDistribution): 0.07388019859781852<extra></extra>\",\"min_data_in_leaf (IntUniformDistribution): 0.08481840830805973<extra></extra>\",\"leaf_estimation_iterations (IntUniformDistribution): 0.13181073168843177<extra></extra>\",\"reg_lambda (UniformDistribution): 0.27902983963128414<extra></extra>\",\"learning_rate (UniformDistribution): 0.29056588515762094<extra></extra>\"],\"marker\":{\"color\":\"rgb(66,146,198)\"},\"orientation\":\"h\",\"text\":[\"0.005598156225045666\",\"0.008298995180418422\",\"0.05939387136111864\",\"0.06660391385020226\",\"0.07388019859781852\",\"0.08481840830805973\",\"0.13181073168843177\",\"0.27902983963128414\",\"0.29056588515762094\"],\"textposition\":\"outside\",\"texttemplate\":\"%{text:.2f}\",\"x\":[0.005598156225045666,0.008298995180418422,0.05939387136111864,0.06660391385020226,0.07388019859781852,0.08481840830805973,0.13181073168843177,0.27902983963128414,0.29056588515762094],\"y\":[\"one_hot_max_size\",\"depth\",\"bootstrap_type\",\"od_wait\",\"random_strength\",\"min_data_in_leaf\",\"leaf_estimation_iterations\",\"reg_lambda\",\"learning_rate\"],\"type\":\"bar\"}],                        {\"showlegend\":false,\"title\":{\"text\":\"Hyperparameter Importances\"},\"xaxis\":{\"title\":{\"text\":\"Importance for Objective Value\"}},\"yaxis\":{\"title\":{\"text\":\"Hyperparameter\"}},\"template\":{\"data\":{\"histogram2dcontour\":[{\"type\":\"histogram2dcontour\",\"colorbar\":{\"outlinewidth\":0,\"ticks\":\"\"},\"colorscale\":[[0.0,\"#0d0887\"],[0.1111111111111111,\"#46039f\"],[0.2222222222222222,\"#7201a8\"],[0.3333333333333333,\"#9c179e\"],[0.4444444444444444,\"#bd3786\"],[0.5555555555555556,\"#d8576b\"],[0.6666666666666666,\"#ed7953\"],[0.7777777777777778,\"#fb9f3a\"],[0.8888888888888888,\"#fdca26\"],[1.0,\"#f0f921\"]]}],\"choropleth\":[{\"type\":\"choropleth\",\"colorbar\":{\"outlinewidth\":0,\"ticks\":\"\"}}],\"histogram2d\":[{\"type\":\"histogram2d\",\"colorbar\":{\"outlinewidth\":0,\"ticks\":\"\"},\"colorscale\":[[0.0,\"#0d0887\"],[0.1111111111111111,\"#46039f\"],[0.2222222222222222,\"#7201a8\"],[0.3333333333333333,\"#9c179e\"],[0.4444444444444444,\"#bd3786\"],[0.5555555555555556,\"#d8576b\"],[0.6666666666666666,\"#ed7953\"],[0.7777777777777778,\"#fb9f3a\"],[0.8888888888888888,\"#fdca26\"],[1.0,\"#f0f921\"]]}],\"heatmap\":[{\"type\":\"heatmap\",\"colorbar\":{\"outlinewidth\":0,\"ticks\":\"\"},\"colorscale\":[[0.0,\"#0d0887\"],[0.1111111111111111,\"#46039f\"],[0.2222222222222222,\"#7201a8\"],[0.3333333333333333,\"#9c179e\"],[0.4444444444444444,\"#bd3786\"],[0.5555555555555556,\"#d8576b\"],[0.6666666666666666,\"#ed7953\"],[0.7777777777777778,\"#fb9f3a\"],[0.8888888888888888,\"#fdca26\"],[1.0,\"#f0f921\"]]}],\"heatmapgl\":[{\"type\":\"heatmapgl\",\"colorbar\":{\"outlinewidth\":0,\"ticks\":\"\"},\"colorscale\":[[0.0,\"#0d0887\"],[0.1111111111111111,\"#46039f\"],[0.2222222222222222,\"#7201a8\"],[0.3333333333333333,\"#9c179e\"],[0.4444444444444444,\"#bd3786\"],[0.5555555555555556,\"#d8576b\"],[0.6666666666666666,\"#ed7953\"],[0.7777777777777778,\"#fb9f3a\"],[0.8888888888888888,\"#fdca26\"],[1.0,\"#f0f921\"]]}],\"contourcarpet\":[{\"type\":\"contourcarpet\",\"colorbar\":{\"outlinewidth\":0,\"ticks\":\"\"}}],\"contour\":[{\"type\":\"contour\",\"colorbar\":{\"outlinewidth\":0,\"ticks\":\"\"},\"colorscale\":[[0.0,\"#0d0887\"],[0.1111111111111111,\"#46039f\"],[0.2222222222222222,\"#7201a8\"],[0.3333333333333333,\"#9c179e\"],[0.4444444444444444,\"#bd3786\"],[0.5555555555555556,\"#d8576b\"],[0.6666666666666666,\"#ed7953\"],[0.7777777777777778,\"#fb9f3a\"],[0.8888888888888888,\"#fdca26\"],[1.0,\"#f0f921\"]]}],\"surface\":[{\"type\":\"surface\",\"colorbar\":{\"outlinewidth\":0,\"ticks\":\"\"},\"colorscale\":[[0.0,\"#0d0887\"],[0.1111111111111111,\"#46039f\"],[0.2222222222222222,\"#7201a8\"],[0.3333333333333333,\"#9c179e\"],[0.4444444444444444,\"#bd3786\"],[0.5555555555555556,\"#d8576b\"],[0.6666666666666666,\"#ed7953\"],[0.7777777777777778,\"#fb9f3a\"],[0.8888888888888888,\"#fdca26\"],[1.0,\"#f0f921\"]]}],\"mesh3d\":[{\"type\":\"mesh3d\",\"colorbar\":{\"outlinewidth\":0,\"ticks\":\"\"}}],\"scatter\":[{\"fillpattern\":{\"fillmode\":\"overlay\",\"size\":10,\"solidity\":0.2},\"type\":\"scatter\"}],\"parcoords\":[{\"type\":\"parcoords\",\"line\":{\"colorbar\":{\"outlinewidth\":0,\"ticks\":\"\"}}}],\"scatterpolargl\":[{\"type\":\"scatterpolargl\",\"marker\":{\"colorbar\":{\"outlinewidth\":0,\"ticks\":\"\"}}}],\"bar\":[{\"error_x\":{\"color\":\"#2a3f5f\"},\"error_y\":{\"color\":\"#2a3f5f\"},\"marker\":{\"line\":{\"color\":\"#E5ECF6\",\"width\":0.5},\"pattern\":{\"fillmode\":\"overlay\",\"size\":10,\"solidity\":0.2}},\"type\":\"bar\"}],\"scattergeo\":[{\"type\":\"scattergeo\",\"marker\":{\"colorbar\":{\"outlinewidth\":0,\"ticks\":\"\"}}}],\"scatterpolar\":[{\"type\":\"scatterpolar\",\"marker\":{\"colorbar\":{\"outlinewidth\":0,\"ticks\":\"\"}}}],\"histogram\":[{\"marker\":{\"pattern\":{\"fillmode\":\"overlay\",\"size\":10,\"solidity\":0.2}},\"type\":\"histogram\"}],\"scattergl\":[{\"type\":\"scattergl\",\"marker\":{\"colorbar\":{\"outlinewidth\":0,\"ticks\":\"\"}}}],\"scatter3d\":[{\"type\":\"scatter3d\",\"line\":{\"colorbar\":{\"outlinewidth\":0,\"ticks\":\"\"}},\"marker\":{\"colorbar\":{\"outlinewidth\":0,\"ticks\":\"\"}}}],\"scattermapbox\":[{\"type\":\"scattermapbox\",\"marker\":{\"colorbar\":{\"outlinewidth\":0,\"ticks\":\"\"}}}],\"scatterternary\":[{\"type\":\"scatterternary\",\"marker\":{\"colorbar\":{\"outlinewidth\":0,\"ticks\":\"\"}}}],\"scattercarpet\":[{\"type\":\"scattercarpet\",\"marker\":{\"colorbar\":{\"outlinewidth\":0,\"ticks\":\"\"}}}],\"carpet\":[{\"aaxis\":{\"endlinecolor\":\"#2a3f5f\",\"gridcolor\":\"white\",\"linecolor\":\"white\",\"minorgridcolor\":\"white\",\"startlinecolor\":\"#2a3f5f\"},\"baxis\":{\"endlinecolor\":\"#2a3f5f\",\"gridcolor\":\"white\",\"linecolor\":\"white\",\"minorgridcolor\":\"white\",\"startlinecolor\":\"#2a3f5f\"},\"type\":\"carpet\"}],\"table\":[{\"cells\":{\"fill\":{\"color\":\"#EBF0F8\"},\"line\":{\"color\":\"white\"}},\"header\":{\"fill\":{\"color\":\"#C8D4E3\"},\"line\":{\"color\":\"white\"}},\"type\":\"table\"}],\"barpolar\":[{\"marker\":{\"line\":{\"color\":\"#E5ECF6\",\"width\":0.5},\"pattern\":{\"fillmode\":\"overlay\",\"size\":10,\"solidity\":0.2}},\"type\":\"barpolar\"}],\"pie\":[{\"automargin\":true,\"type\":\"pie\"}]},\"layout\":{\"autotypenumbers\":\"strict\",\"colorway\":[\"#636efa\",\"#EF553B\",\"#00cc96\",\"#ab63fa\",\"#FFA15A\",\"#19d3f3\",\"#FF6692\",\"#B6E880\",\"#FF97FF\",\"#FECB52\"],\"font\":{\"color\":\"#2a3f5f\"},\"hovermode\":\"closest\",\"hoverlabel\":{\"align\":\"left\"},\"paper_bgcolor\":\"white\",\"plot_bgcolor\":\"#E5ECF6\",\"polar\":{\"bgcolor\":\"#E5ECF6\",\"angularaxis\":{\"gridcolor\":\"white\",\"linecolor\":\"white\",\"ticks\":\"\"},\"radialaxis\":{\"gridcolor\":\"white\",\"linecolor\":\"white\",\"ticks\":\"\"}},\"ternary\":{\"bgcolor\":\"#E5ECF6\",\"aaxis\":{\"gridcolor\":\"white\",\"linecolor\":\"white\",\"ticks\":\"\"},\"baxis\":{\"gridcolor\":\"white\",\"linecolor\":\"white\",\"ticks\":\"\"},\"caxis\":{\"gridcolor\":\"white\",\"linecolor\":\"white\",\"ticks\":\"\"}},\"coloraxis\":{\"colorbar\":{\"outlinewidth\":0,\"ticks\":\"\"}},\"colorscale\":{\"sequential\":[[0.0,\"#0d0887\"],[0.1111111111111111,\"#46039f\"],[0.2222222222222222,\"#7201a8\"],[0.3333333333333333,\"#9c179e\"],[0.4444444444444444,\"#bd3786\"],[0.5555555555555556,\"#d8576b\"],[0.6666666666666666,\"#ed7953\"],[0.7777777777777778,\"#fb9f3a\"],[0.8888888888888888,\"#fdca26\"],[1.0,\"#f0f921\"]],\"sequentialminus\":[[0.0,\"#0d0887\"],[0.1111111111111111,\"#46039f\"],[0.2222222222222222,\"#7201a8\"],[0.3333333333333333,\"#9c179e\"],[0.4444444444444444,\"#bd3786\"],[0.5555555555555556,\"#d8576b\"],[0.6666666666666666,\"#ed7953\"],[0.7777777777777778,\"#fb9f3a\"],[0.8888888888888888,\"#fdca26\"],[1.0,\"#f0f921\"]],\"diverging\":[[0,\"#8e0152\"],[0.1,\"#c51b7d\"],[0.2,\"#de77ae\"],[0.3,\"#f1b6da\"],[0.4,\"#fde0ef\"],[0.5,\"#f7f7f7\"],[0.6,\"#e6f5d0\"],[0.7,\"#b8e186\"],[0.8,\"#7fbc41\"],[0.9,\"#4d9221\"],[1,\"#276419\"]]},\"xaxis\":{\"gridcolor\":\"white\",\"linecolor\":\"white\",\"ticks\":\"\",\"title\":{\"standoff\":15},\"zerolinecolor\":\"white\",\"automargin\":true,\"zerolinewidth\":2},\"yaxis\":{\"gridcolor\":\"white\",\"linecolor\":\"white\",\"ticks\":\"\",\"title\":{\"standoff\":15},\"zerolinecolor\":\"white\",\"automargin\":true,\"zerolinewidth\":2},\"scene\":{\"xaxis\":{\"backgroundcolor\":\"#E5ECF6\",\"gridcolor\":\"white\",\"linecolor\":\"white\",\"showbackground\":true,\"ticks\":\"\",\"zerolinecolor\":\"white\",\"gridwidth\":2},\"yaxis\":{\"backgroundcolor\":\"#E5ECF6\",\"gridcolor\":\"white\",\"linecolor\":\"white\",\"showbackground\":true,\"ticks\":\"\",\"zerolinecolor\":\"white\",\"gridwidth\":2},\"zaxis\":{\"backgroundcolor\":\"#E5ECF6\",\"gridcolor\":\"white\",\"linecolor\":\"white\",\"showbackground\":true,\"ticks\":\"\",\"zerolinecolor\":\"white\",\"gridwidth\":2}},\"shapedefaults\":{\"line\":{\"color\":\"#2a3f5f\"}},\"annotationdefaults\":{\"arrowcolor\":\"#2a3f5f\",\"arrowhead\":0,\"arrowwidth\":1},\"geo\":{\"bgcolor\":\"white\",\"landcolor\":\"#E5ECF6\",\"subunitcolor\":\"white\",\"showland\":true,\"showlakes\":true,\"lakecolor\":\"white\"},\"title\":{\"x\":0.05},\"mapbox\":{\"style\":\"light\"}}}},                        {\"responsive\": true}                    ).then(function(){\n",
       "                            \n",
       "var gd = document.getElementById('764cdc65-cc32-44bf-8a94-691e4b0c7742');\n",
       "var x = new MutationObserver(function (mutations, observer) {{\n",
       "        var display = window.getComputedStyle(gd).display;\n",
       "        if (!display || display === 'none') {{\n",
       "            console.log([gd, 'removed!']);\n",
       "            Plotly.purge(gd);\n",
       "            observer.disconnect();\n",
       "        }}\n",
       "}});\n",
       "\n",
       "// Listen for the removal of the full notebook cells\n",
       "var notebookContainer = gd.closest('#notebook-container');\n",
       "if (notebookContainer) {{\n",
       "    x.observe(notebookContainer, {childList: true});\n",
       "}}\n",
       "\n",
       "// Listen for the clearing of the current output cell\n",
       "var outputEl = gd.closest('.output');\n",
       "if (outputEl) {{\n",
       "    x.observe(outputEl, {childList: true});\n",
       "}}\n",
       "\n",
       "                        })                };                });            </script>        </div>"
      ]
     },
     "metadata": {},
     "output_type": "display_data"
    }
   ],
   "source": [
    "# 가장 영향력이 큰 파라미터\n",
    "fig = optuna.visualization.plot_param_importances(study)\n",
    "fig.show()"
   ]
  },
  {
   "cell_type": "code",
   "execution_count": 262,
   "id": "69fdc5eb",
   "metadata": {},
   "outputs": [
    {
     "name": "stdout",
     "output_type": "stream",
     "text": [
      "0.6294443392124075\n",
      "\n",
      "{'bootstrap_type': 'Bernoulli', 'od_wait': 935, 'learning_rate': 0.06599429772750094, 'reg_lambda': 10.306556569997433, 'random_strength': 3.840910125839488, 'depth': 4, 'min_data_in_leaf': 11, 'leaf_estimation_iterations': 15, 'one_hot_max_size': 1, 'subsample': 0.953293232100032}\n"
     ]
    }
   ],
   "source": [
    "print(study.best_trial.value, end='\\n\\n')\n",
    "print(study.best_params)"
   ]
  },
  {
   "cell_type": "code",
   "execution_count": 18,
   "id": "0ea63eb2",
   "metadata": {},
   "outputs": [],
   "source": [
    "best_params = {'bootstrap_type': 'Bernoulli', 'od_wait': 641, 'learning_rate': 0.0859157207792153, 'reg_lambda': 3.639541707774443, 'random_strength': 0.25068833946418934, 'depth': 10, 'min_data_in_leaf': 6, 'leaf_estimation_iterations': 4, 'one_hot_max_size': 2, 'subsample': 0.9755806824769498}\n",
    "threshold = 0.344548073486503"
   ]
  },
  {
   "cell_type": "code",
   "execution_count": 19,
   "id": "db046293",
   "metadata": {},
   "outputs": [
    {
     "name": "stderr",
     "output_type": "stream",
     "text": [
      "14it [24:50, 106.46s/it]"
     ]
    },
    {
     "name": "stdout",
     "output_type": "stream",
     "text": [
      "\n",
      "default:    0.4132049983113813 ~ 0.5851851851851851 mean : 0.49737173828624853      -> 0.49033816425120774\n",
      "threshold:  0.4132049983113813 ~ 0.5851851851851851 mean : 0.49737173828624853      -> 0.49033816425120774\n",
      "adasyn:     0.4541118473702744 ~ 0.5610766045548655 mean : 0.5055169366224972      -> 0.5057347670250897\n",
      "adasyn & threshold:  0.4541118473702744 ~ 0.5610766045548655 mean : 0.5055169366224972      -> 0.5057347670250897\n"
     ]
    },
    {
     "name": "stderr",
     "output_type": "stream",
     "text": [
      "\n"
     ]
    }
   ],
   "source": [
    "clf = catboost.CatBoostClassifier(**best_params, verbose=0, task_type='GPU')\n",
    "\n",
    "f1_list, f1_adasyn_list, f1_threshold_list, f1_threshold_adasyn_list = [], [], [], []\n",
    "pred_list, threshold_list = [], []\n",
    "pred_adasyn_list, threshold_adasyn_list = [], []\n",
    "\n",
    "for fold, (train_index, val_index) in enumerate(tqdm(rskfold.split(train_X, train_Y))):\n",
    "    x_trn, x_val, y_trn, y_val = train_X.loc[train_index], train_X.loc[val_index], train_Y.loc[train_index], train_Y.loc[val_index]\n",
    "    clf.fit(x_trn, y_trn, eval_set=(x_val, y_val), early_stopping_rounds=100)\n",
    "\n",
    "    # default\n",
    "    pred = []\n",
    "    for p in clf.predict_proba(test_X):\n",
    "        if list(p).index(max(p)) == 1 and max(p) <= threshold: pred.append(list(p).index(max(p[0], p[2])))\n",
    "        else: pred.append(list(p).index(max(p)))\n",
    "\n",
    "    pred_list.append(clf.predict(test_X))\n",
    "    threshold_list.append(pred)\n",
    "    f1_list.append(f1_score(clf.predict(test_X), test_Y, average='macro'))\n",
    "    f1_threshold_list.append(f1_score(pred, test_Y, average='macro'))\n",
    "\n",
    "    # Adasyn\n",
    "    x_trn, y_trn = ADASYN_(x_trn, y_trn)\n",
    "    clf.fit(x_trn, y_trn, eval_set=(x_val, y_val), early_stopping_rounds=100)\n",
    "\n",
    "    pred = []\n",
    "    for p in clf.predict_proba(test_X):\n",
    "        if list(p).index(max(p)) == 1 and max(p) <= threshold: pred.append(list(p).index(max(p[0], p[2])))\n",
    "        else: pred.append(list(p).index(max(p)))\n",
    "\n",
    "    pred_adasyn_list.append(clf.predict(test_X))\n",
    "    threshold_adasyn_list.append(pred)\n",
    "    f1_adasyn_list.append(f1_score(clf.predict(test_X), test_Y, average='macro'))\n",
    "    f1_threshold_adasyn_list.append(f1_score(pred, test_Y, average='macro'))\n",
    "\n",
    "result = []\n",
    "pred_list = np.array(pred_list)\n",
    "for i in range(len(pred_list[0])):\n",
    "    pred = [list(pred_list[:, i]).count(j) for j in range(3)]\n",
    "    result.append(pred.index(max(pred))) # 최다 투표 받은 Class를 선택\n",
    "print('\\ndefault:   ', min(f1_list), '~', max(f1_list), 'mean :', np.mean(f1_list), '     ->', f1_score(result, test_Y, average='macro'))\n",
    "\n",
    "result = []\n",
    "threshold_list = np.array(threshold_list)\n",
    "for i in range(len(threshold_list[0])):\n",
    "    pred = [list(threshold_list[:, i]).count(j) for j in range(3)]\n",
    "    result.append(pred.index(max(pred))) # 최다 투표 받은 Class를 선택\n",
    "print('threshold: ', min(f1_threshold_list), '~', max(f1_threshold_list), 'mean :', np.mean(f1_threshold_list), '     ->', f1_score(result, test_Y, average='macro'))\n",
    "\n",
    "result = []\n",
    "pred_adasyn_list = np.array(pred_adasyn_list)\n",
    "for i in range(len(pred_adasyn_list[0])):\n",
    "    pred = [list(pred_adasyn_list[:, i]).count(j) for j in range(3)]\n",
    "    result.append(pred.index(max(pred))) # 최다 투표 받은 Class를 선택 \n",
    "print('adasyn:    ', min(f1_adasyn_list), '~', max(f1_adasyn_list), 'mean :', np.mean(f1_adasyn_list), '     ->', f1_score(result, test_Y, average='macro'))\n",
    "\n",
    "result = []\n",
    "threshold_adasyn_list = np.array(threshold_adasyn_list)\n",
    "for i in range(len(threshold_adasyn_list[0])):\n",
    "    pred = [list(threshold_adasyn_list[:, i]).count(j) for j in range(3)]\n",
    "    result.append(pred.index(max(pred))) # 최다 투표 받은 Class를 선택\n",
    "print('adasyn & threshold: ', min(f1_threshold_adasyn_list), '~', max(f1_threshold_adasyn_list), 'mean :', np.mean(f1_threshold_adasyn_list), '     ->', f1_score(result, test_Y, average='macro'))"
   ]
  },
  {
   "cell_type": "code",
   "execution_count": 22,
   "id": "b8bcf000",
   "metadata": {},
   "outputs": [
    {
     "name": "stderr",
     "output_type": "stream",
     "text": [
      "14it [06:20, 27.17s/it]\n"
     ]
    }
   ],
   "source": [
    "clf = catboost.CatBoostClassifier(**best_params, verbose=0, task_type=\"GPU\")\n",
    "\n",
    "pred_list, proba_list = [], []\n",
    "rskfold = RepeatedStratifiedKFold(n_splits=7, n_repeats=2)\n",
    "for fold, (train_index, val_index) in enumerate(tqdm(rskfold.split(train_x, train_y))):\n",
    "    x_trn, x_val, y_trn, y_val = train_x.loc[train_index], train_x.loc[val_index], train_y.loc[train_index], train_y.loc[val_index]\n",
    "\n",
    "    clf.fit(x_trn, y_trn, eval_set=(x_val, y_val), early_stopping_rounds=100)\n",
    "    \n",
    "    pred = []\n",
    "    for p in clf.predict_proba(test):\n",
    "        if list(p).index(max(p)) == 1 and max(p) <= threshold: pred.append(list(p).index(max(p[0], p[2])))\n",
    "        else: pred.append(list(p).index(max(p)))\n",
    "    \n",
    "    pred_list.append(pred)"
   ]
  },
  {
   "cell_type": "code",
   "execution_count": 23,
   "id": "b4bd3120",
   "metadata": {},
   "outputs": [],
   "source": [
    "result = []\n",
    "pred_list = np.array(pred_list)\n",
    "\n",
    "for i in range(len(pred_list[0])):\n",
    "    pred = [list(pred_list[:, i]).count(j) for j in range(3)]\n",
    "    result.append(pred.index(max(pred))) # 최다 투표 받은 Class를 선택\n",
    "        \n",
    "subm['Y_Class'] = result"
   ]
  },
  {
   "cell_type": "code",
   "execution_count": 30,
   "id": "9ff93cd7",
   "metadata": {},
   "outputs": [
    {
     "name": "stdout",
     "output_type": "stream",
     "text": [
      "36 2 0\n",
      "39 1 0\n",
      "40 1 0\n",
      "61 0 1\n",
      "129 1 0\n",
      "132 1 0\n",
      "151 1 2\n",
      "163 1 2\n",
      "283 0 1\n",
      "286 2 1\n",
      "292 2 0\n"
     ]
    }
   ],
   "source": [
    "for i, (a, b) in enumerate(zip(result, pd.read_csv('submission_36_feat_del.csv').Y_Class)):\n",
    "    if a != b:\n",
    "        print(i, a, b)"
   ]
  },
  {
   "cell_type": "code",
   "execution_count": 25,
   "id": "a96785b2",
   "metadata": {},
   "outputs": [
    {
     "data": {
      "text/plain": [
       "1    267\n",
       "0     35\n",
       "2      8\n",
       "Name: Y_Class, dtype: int64"
      ]
     },
     "execution_count": 25,
     "metadata": {},
     "output_type": "execute_result"
    }
   ],
   "source": [
    "subm.Y_Class.value_counts()"
   ]
  },
  {
   "cell_type": "code",
   "execution_count": 31,
   "id": "680aa72d",
   "metadata": {},
   "outputs": [],
   "source": [
    "subm.to_csv('./submission_58.csv', index=False)"
   ]
  },
  {
   "cell_type": "code",
   "execution_count": null,
   "id": "e062073b",
   "metadata": {},
   "outputs": [],
   "source": []
  },
  {
   "cell_type": "code",
   "execution_count": null,
   "id": "7a9ea110",
   "metadata": {},
   "outputs": [],
   "source": []
  },
  {
   "cell_type": "code",
   "execution_count": null,
   "id": "3854edc6",
   "metadata": {},
   "outputs": [],
   "source": []
  },
  {
   "cell_type": "code",
   "execution_count": null,
   "id": "78c7a43a",
   "metadata": {},
   "outputs": [],
   "source": []
  },
  {
   "cell_type": "code",
   "execution_count": null,
   "id": "e6496c76",
   "metadata": {},
   "outputs": [],
   "source": []
  },
  {
   "cell_type": "code",
   "execution_count": null,
   "id": "7f4d21be",
   "metadata": {},
   "outputs": [],
   "source": []
  },
  {
   "cell_type": "code",
   "execution_count": null,
   "id": "b2b42330",
   "metadata": {},
   "outputs": [],
   "source": []
  },
  {
   "cell_type": "code",
   "execution_count": null,
   "id": "45000efc",
   "metadata": {},
   "outputs": [],
   "source": []
  },
  {
   "cell_type": "code",
   "execution_count": null,
   "id": "a040dd8d",
   "metadata": {},
   "outputs": [],
   "source": []
  },
  {
   "cell_type": "code",
   "execution_count": null,
   "id": "99bcabe7",
   "metadata": {},
   "outputs": [],
   "source": []
  },
  {
   "cell_type": "code",
   "execution_count": null,
   "id": "4700470c",
   "metadata": {},
   "outputs": [],
   "source": []
  },
  {
   "cell_type": "code",
   "execution_count": null,
   "id": "9d6facd5",
   "metadata": {},
   "outputs": [],
   "source": []
  },
  {
   "cell_type": "code",
   "execution_count": null,
   "id": "ff811bbf",
   "metadata": {},
   "outputs": [],
   "source": []
  },
  {
   "cell_type": "code",
   "execution_count": null,
   "id": "e923d4c8",
   "metadata": {},
   "outputs": [],
   "source": []
  },
  {
   "cell_type": "code",
   "execution_count": null,
   "id": "59d37b25",
   "metadata": {},
   "outputs": [],
   "source": [
    "train_X, test_X, train_Y, test_Y = train_test_split(train_x, train_y, test_size=0.15)\n",
    "train_X.reset_index(drop=True, inplace=True)\n",
    "train_Y.reset_index(drop=True, inplace=True)\n",
    "test_X.reset_index(drop=True, inplace=True)\n",
    "test_Y.reset_index(drop=True, inplace=True)\n",
    "\n",
    "rskfold = RepeatedStratifiedKFold(n_splits=7, n_repeats=2)\n",
    "clf = catboost.CatBoostClassifier(verbose=0, task_type=\"GPU\")\n",
    "\n",
    "f1_list = []\n",
    "for fold, (train_index, val_index) in enumerate(tqdm(rskfold.split(train_X, train_Y))):\n",
    "    x_trn, x_val, y_trn, y_val = train_X.loc[train_index], train_X.loc[val_index], train_Y.loc[train_index], train_Y.loc[val_index]\n",
    "\n",
    "    clf.fit(x_trn, y_trn, eval_set=(x_val, y_val))\n",
    "    f1_list.append(f1_score(clf.predict(test_X), test_Y, average='macro'))\n",
    "    \n",
    "print(f'{min(f1_list)} ~ {max(f1_list)}')\n",
    "print('mean :', np.mean(f1_list))"
   ]
  },
  {
   "cell_type": "code",
   "execution_count": 93,
   "id": "d10ab193",
   "metadata": {},
   "outputs": [
    {
     "name": "stderr",
     "output_type": "stream",
     "text": [
      "21it [06:21, 18.18s/it]"
     ]
    },
    {
     "name": "stdout",
     "output_type": "stream",
     "text": [
      "0.513655462184874 ~ 0.6405800611546729\n",
      "mean : 0.5777792587441427\n"
     ]
    },
    {
     "name": "stderr",
     "output_type": "stream",
     "text": [
      "\n"
     ]
    }
   ],
   "source": [
    "clf = catboost.CatBoostClassifier(verbose=0, task_type=\"GPU\")\n",
    "\n",
    "f1_list = []\n",
    "for fold, (train_index, val_index) in enumerate(tqdm(rskfold.split(train_X, train_Y))):\n",
    "    x_trn, x_val, y_trn, y_val = train_X.loc[train_index], train_X.loc[val_index], train_Y.loc[train_index], train_Y.loc[val_index]\n",
    "\n",
    "    clf.fit(x_trn, y_trn, eval_set=(x_val, y_val))\n",
    "    f1_list.append(f1_score(clf.predict(test_X), test_Y, average='macro'))\n",
    "    \n",
    "print(f'{min(f1_list)} ~ {max(f1_list)}')\n",
    "print('mean :', np.mean(f1_list))"
   ]
  },
  {
   "cell_type": "code",
   "execution_count": null,
   "id": "a3515bdd",
   "metadata": {},
   "outputs": [],
   "source": []
  },
  {
   "cell_type": "code",
   "execution_count": null,
   "id": "e542547c",
   "metadata": {},
   "outputs": [],
   "source": [
    "# model = CatBoostClassifier()      # parameters not required.\n",
    "# model.load_model('catb_1.cbm', format='cbm')"
   ]
  },
  {
   "cell_type": "code",
   "execution_count": 88,
   "id": "29b918d3",
   "metadata": {},
   "outputs": [
    {
     "name": "stderr",
     "output_type": "stream",
     "text": [
      "21it [06:41, 19.10s/it]\n"
     ]
    }
   ],
   "source": [
    "rskfold = RepeatedStratifiedKFold(n_splits=7, n_repeats=3)\n",
    "\n",
    "pred_list, proba_list = [], []\n",
    "for fold, (train_index, val_index) in enumerate(tqdm(rskfold.split(train_x, train_y))):\n",
    "    x_trn, x_val, y_trn, y_val = train_x.loc[train_index], train_x.loc[val_index], train_y.loc[train_index], train_y.loc[val_index]\n",
    "\n",
    "    clf.fit(x_trn, y_trn, eval_set=(x_val, y_val))\n",
    "    clf.save_model('catb_'+str(fold)+'.cbm', format='cbm')\n",
    "    pred_list.append(clf.predict(test))\n",
    "    proba_list.append(clf.predict_proba(test))"
   ]
  },
  {
   "cell_type": "code",
   "execution_count": 89,
   "id": "83b6d29f",
   "metadata": {},
   "outputs": [],
   "source": [
    "proba_list = np.array(proba_list)\n",
    "pred_list = np.array(pred_list)\n",
    "\n",
    "result = []\n",
    "\n",
    "for i in range(len(pred_list[0])):\n",
    "    proba = np.array([(list(proba).index(max(proba)), max(proba)) for proba in proba_list[:, i]])\n",
    "    pred = [list(pred_list[:, i]).count(j) for j in range(3)]\n",
    "\n",
    "    maxidx = pred.index(max(pred)) # 최다 투표 받은 Class\n",
    "    if (maxidx==0 and abs(pred[0]-max(pred[1], pred[2]))<3) or (maxidx==1 and abs(pred[1]-max(pred[0], pred[2]))<3) or (maxidx==2 and abs(pred[2]-max(pred[0], pred[1]))<3): # 최다 투표수(1순위)가 2순위와 3개미만 차이일 때,\n",
    "        tmp = np.array([p for p in proba if p[0]==1 or p[0]==2])\n",
    "        result.append(int(tmp[list(tmp[:, 1]).index(max(tmp[:, 1])), 0])) # 높은 득표를 받은 두 Class 중 가장 높은 확률을 보인 Class를 선택\n",
    "    else:\n",
    "        result.append(pred.index(max(pred))) # 최다 투표 받은 Class를 선택"
   ]
  },
  {
   "cell_type": "code",
   "execution_count": 43,
   "id": "2c014fda",
   "metadata": {
    "scrolled": true
   },
   "outputs": [
    {
     "name": "stdout",
     "output_type": "stream",
     "text": [
      "7 0 0.8303698032907039\n",
      "\n",
      "8 0 0.777869499688066\n",
      "\n",
      "39 0 0.8741632077370453\n",
      "\n",
      "42 0 0.8084629537977241\n",
      "\n",
      "52 0 0.794117938571142\n",
      "\n",
      "53 0 0.6236945639684288\n",
      "\n",
      "88 0 0.9797343651896133\n",
      "\n",
      "109 2 0.7003404368060292\n",
      "\n",
      "129 0 0.6470798134208753\n",
      "\n",
      "130 0 0.7821121560771398\n",
      "\n",
      "254 0 0.5715191303414694\n",
      "\n",
      "255 2 0.5561715834702224\n",
      "\n",
      "280 0 0.6856698369717686\n",
      "\n",
      "281 2 0.526115258246921\n",
      "\n",
      "283 1 0.5328785159771803\n",
      "\n",
      "284 0 0.6726347817291203\n",
      "\n",
      "286 1 0.5559003166660638\n",
      "\n",
      "292 2 0.4772029299670563\n",
      "\n"
     ]
    }
   ],
   "source": [
    "proba_list = np.array(proba_list)\n",
    "pred_list = np.array(pred_list)\n",
    "\n",
    "pred = []\n",
    "for i in range(len(pred_list[0])):\n",
    "    proba = np.array([(list(proba).index(max(proba)), max(proba)) for proba in proba_list[:, i]])\n",
    "    p = [list(pred_list[:, i]).count(j) for j in range(3)]\n",
    "    \n",
    "    if len(np.unique(proba[:, 0])) != 1:\n",
    "        if abs(p[0]-p[1])<4 or abs(p[0]-p[1])<4 or abs(p[1]-p[2])<4:\n",
    "            pred.append(int(proba[list(proba[:, 1]).index(max(proba[:, 1])), 0]))\n",
    "            print(i, int(proba[list(proba[:, 1]).index(max(proba[:, 1])), 0]), max(proba[:, 1]), end='\\n\\n')\n",
    "        else:\n",
    "            pred.append(p.index(max(p)))\n",
    "            #print(i, p, end='\\n\\n')\n",
    "\n",
    "    else:\n",
    "        pred.append(int(proba[0, 0]))"
   ]
  },
  {
   "cell_type": "code",
   "execution_count": 45,
   "id": "dbd8197e",
   "metadata": {},
   "outputs": [
    {
     "data": {
      "text/plain": [
       "1    265\n",
       "0     33\n",
       "2     12\n",
       "Name: Y_Class, dtype: int64"
      ]
     },
     "execution_count": 45,
     "metadata": {},
     "output_type": "execute_result"
    }
   ],
   "source": [
    "subm['Y_Class'] = pred\n",
    "subm['Y_Class'].value_countscounts()"
   ]
  },
  {
   "cell_type": "code",
   "execution_count": 46,
   "id": "36e47639",
   "metadata": {},
   "outputs": [],
   "source": [
    "subm.to_csv('./submission_54.csv', index=False)"
   ]
  },
  {
   "cell_type": "code",
   "execution_count": null,
   "id": "11b253a2",
   "metadata": {},
   "outputs": [],
   "source": []
  },
  {
   "cell_type": "code",
   "execution_count": 91,
   "id": "d3d01341",
   "metadata": {},
   "outputs": [
    {
     "name": "stdout",
     "output_type": "stream",
     "text": [
      "36 2 0\n",
      "54 1 0\n",
      "129 1 0\n",
      "132 1 0\n",
      "151 1 2\n",
      "255 1 0\n",
      "282 1 0\n",
      "283 2 1\n",
      "292 1 0\n"
     ]
    }
   ],
   "source": [
    "for i, (a, b) in enumerate(zip(result, pd.read_csv('submission_36_feat_del.csv').Y_Class)):\n",
    "    if a != b:\n",
    "        print(i, a, b)"
   ]
  },
  {
   "cell_type": "code",
   "execution_count": null,
   "id": "6644f1e8",
   "metadata": {},
   "outputs": [],
   "source": []
  }
 ],
 "metadata": {
  "kernelspec": {
   "display_name": "Python 3 (ipykernel)",
   "language": "python",
   "name": "python3"
  },
  "language_info": {
   "codemirror_mode": {
    "name": "ipython",
    "version": 3
   },
   "file_extension": ".py",
   "mimetype": "text/x-python",
   "name": "python",
   "nbconvert_exporter": "python",
   "pygments_lexer": "ipython3",
   "version": "3.9.12"
  }
 },
 "nbformat": 4,
 "nbformat_minor": 5
}
