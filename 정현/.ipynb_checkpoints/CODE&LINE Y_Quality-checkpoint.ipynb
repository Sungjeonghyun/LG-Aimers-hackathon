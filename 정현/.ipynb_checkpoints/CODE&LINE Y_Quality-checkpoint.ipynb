{
 "cells": [
  {
   "cell_type": "code",
   "execution_count": 90,
   "id": "1a09a960",
   "metadata": {},
   "outputs": [],
   "source": [
    "import warnings\n",
    "warnings.filterwarnings('ignore')\n",
    "from IPython.display import clear_output\n",
    "\n",
    "import random\n",
    "random.seed(56)\n",
    "\n",
    "import pandas as pd\n",
    "import numpy as np\n",
    "import matplotlib.pyplot as plt\n",
    "from pylab import rcParams\n",
    "plt.style.use('fivethirtyeight')\n",
    "plt.rc(\"font\", family=\"Malgun Gothic\")\n",
    "plt.rcParams['axes.unicode_minus'] = False\n",
    "%matplotlib inline\n",
    "from datetime import datetime as dt\n",
    "from sklearn.model_selection import StratifiedKFold\n",
    "\n",
    "import lightgbm\n",
    "import optuna\n",
    "from sklearn.metrics import f1_score\n",
    "from sklearn.preprocessing import StandardScaler"
   ]
  },
  {
   "cell_type": "markdown",
   "id": "067dbea3",
   "metadata": {},
   "source": [
    "## Dataset"
   ]
  },
  {
   "cell_type": "code",
   "execution_count": 65,
   "id": "dbaff255",
   "metadata": {},
   "outputs": [
    {
     "data": {
      "text/html": [
       "<div>\n",
       "<style scoped>\n",
       "    .dataframe tbody tr th:only-of-type {\n",
       "        vertical-align: middle;\n",
       "    }\n",
       "\n",
       "    .dataframe tbody tr th {\n",
       "        vertical-align: top;\n",
       "    }\n",
       "\n",
       "    .dataframe thead th {\n",
       "        text-align: right;\n",
       "    }\n",
       "</style>\n",
       "<table border=\"1\" class=\"dataframe\">\n",
       "  <thead>\n",
       "    <tr style=\"text-align: right;\">\n",
       "      <th></th>\n",
       "      <th>PRODUCT_ID</th>\n",
       "      <th>Y_Class</th>\n",
       "      <th>Y_Quality</th>\n",
       "      <th>TIMESTAMP</th>\n",
       "      <th>LINE</th>\n",
       "      <th>PRODUCT_CODE</th>\n",
       "      <th>X_1</th>\n",
       "      <th>X_2</th>\n",
       "      <th>X_3</th>\n",
       "      <th>X_4</th>\n",
       "      <th>...</th>\n",
       "      <th>X_2866</th>\n",
       "      <th>X_2867</th>\n",
       "      <th>X_2868</th>\n",
       "      <th>X_2869</th>\n",
       "      <th>X_2870</th>\n",
       "      <th>X_2871</th>\n",
       "      <th>X_2872</th>\n",
       "      <th>X_2873</th>\n",
       "      <th>X_2874</th>\n",
       "      <th>X_2875</th>\n",
       "    </tr>\n",
       "  </thead>\n",
       "  <tbody>\n",
       "    <tr>\n",
       "      <th>0</th>\n",
       "      <td>TRAIN_000</td>\n",
       "      <td>1</td>\n",
       "      <td>0.533433</td>\n",
       "      <td>2022-06-13 5:14</td>\n",
       "      <td>T050304</td>\n",
       "      <td>A_31</td>\n",
       "      <td>NaN</td>\n",
       "      <td>NaN</td>\n",
       "      <td>NaN</td>\n",
       "      <td>NaN</td>\n",
       "      <td>...</td>\n",
       "      <td>39.34</td>\n",
       "      <td>40.89</td>\n",
       "      <td>32.56</td>\n",
       "      <td>34.09</td>\n",
       "      <td>77.77</td>\n",
       "      <td>NaN</td>\n",
       "      <td>NaN</td>\n",
       "      <td>NaN</td>\n",
       "      <td>NaN</td>\n",
       "      <td>NaN</td>\n",
       "    </tr>\n",
       "    <tr>\n",
       "      <th>1</th>\n",
       "      <td>TRAIN_001</td>\n",
       "      <td>2</td>\n",
       "      <td>0.541819</td>\n",
       "      <td>2022-06-13 5:22</td>\n",
       "      <td>T050307</td>\n",
       "      <td>A_31</td>\n",
       "      <td>NaN</td>\n",
       "      <td>NaN</td>\n",
       "      <td>NaN</td>\n",
       "      <td>NaN</td>\n",
       "      <td>...</td>\n",
       "      <td>38.89</td>\n",
       "      <td>42.82</td>\n",
       "      <td>43.92</td>\n",
       "      <td>35.34</td>\n",
       "      <td>72.55</td>\n",
       "      <td>NaN</td>\n",
       "      <td>NaN</td>\n",
       "      <td>NaN</td>\n",
       "      <td>NaN</td>\n",
       "      <td>NaN</td>\n",
       "    </tr>\n",
       "    <tr>\n",
       "      <th>2</th>\n",
       "      <td>TRAIN_002</td>\n",
       "      <td>1</td>\n",
       "      <td>0.531267</td>\n",
       "      <td>2022-06-13 5:30</td>\n",
       "      <td>T050304</td>\n",
       "      <td>A_31</td>\n",
       "      <td>NaN</td>\n",
       "      <td>NaN</td>\n",
       "      <td>NaN</td>\n",
       "      <td>NaN</td>\n",
       "      <td>...</td>\n",
       "      <td>39.19</td>\n",
       "      <td>36.65</td>\n",
       "      <td>42.47</td>\n",
       "      <td>36.53</td>\n",
       "      <td>78.35</td>\n",
       "      <td>NaN</td>\n",
       "      <td>NaN</td>\n",
       "      <td>NaN</td>\n",
       "      <td>NaN</td>\n",
       "      <td>NaN</td>\n",
       "    </tr>\n",
       "    <tr>\n",
       "      <th>3</th>\n",
       "      <td>TRAIN_003</td>\n",
       "      <td>2</td>\n",
       "      <td>0.537325</td>\n",
       "      <td>2022-06-13 5:39</td>\n",
       "      <td>T050307</td>\n",
       "      <td>A_31</td>\n",
       "      <td>NaN</td>\n",
       "      <td>NaN</td>\n",
       "      <td>NaN</td>\n",
       "      <td>NaN</td>\n",
       "      <td>...</td>\n",
       "      <td>37.74</td>\n",
       "      <td>39.17</td>\n",
       "      <td>52.17</td>\n",
       "      <td>30.58</td>\n",
       "      <td>71.78</td>\n",
       "      <td>NaN</td>\n",
       "      <td>NaN</td>\n",
       "      <td>NaN</td>\n",
       "      <td>NaN</td>\n",
       "      <td>NaN</td>\n",
       "    </tr>\n",
       "    <tr>\n",
       "      <th>4</th>\n",
       "      <td>TRAIN_004</td>\n",
       "      <td>1</td>\n",
       "      <td>0.531590</td>\n",
       "      <td>2022-06-13 5:47</td>\n",
       "      <td>T050304</td>\n",
       "      <td>A_31</td>\n",
       "      <td>NaN</td>\n",
       "      <td>NaN</td>\n",
       "      <td>NaN</td>\n",
       "      <td>NaN</td>\n",
       "      <td>...</td>\n",
       "      <td>38.70</td>\n",
       "      <td>41.89</td>\n",
       "      <td>46.93</td>\n",
       "      <td>33.09</td>\n",
       "      <td>76.97</td>\n",
       "      <td>NaN</td>\n",
       "      <td>NaN</td>\n",
       "      <td>NaN</td>\n",
       "      <td>NaN</td>\n",
       "      <td>NaN</td>\n",
       "    </tr>\n",
       "    <tr>\n",
       "      <th>...</th>\n",
       "      <td>...</td>\n",
       "      <td>...</td>\n",
       "      <td>...</td>\n",
       "      <td>...</td>\n",
       "      <td>...</td>\n",
       "      <td>...</td>\n",
       "      <td>...</td>\n",
       "      <td>...</td>\n",
       "      <td>...</td>\n",
       "      <td>...</td>\n",
       "      <td>...</td>\n",
       "      <td>...</td>\n",
       "      <td>...</td>\n",
       "      <td>...</td>\n",
       "      <td>...</td>\n",
       "      <td>...</td>\n",
       "      <td>...</td>\n",
       "      <td>...</td>\n",
       "      <td>...</td>\n",
       "      <td>...</td>\n",
       "      <td>...</td>\n",
       "    </tr>\n",
       "    <tr>\n",
       "      <th>593</th>\n",
       "      <td>TRAIN_593</td>\n",
       "      <td>1</td>\n",
       "      <td>0.526546</td>\n",
       "      <td>2022-09-08 14:30</td>\n",
       "      <td>T100306</td>\n",
       "      <td>T_31</td>\n",
       "      <td>2.0</td>\n",
       "      <td>95.0</td>\n",
       "      <td>0.0</td>\n",
       "      <td>45.0</td>\n",
       "      <td>...</td>\n",
       "      <td>NaN</td>\n",
       "      <td>NaN</td>\n",
       "      <td>NaN</td>\n",
       "      <td>NaN</td>\n",
       "      <td>NaN</td>\n",
       "      <td>NaN</td>\n",
       "      <td>NaN</td>\n",
       "      <td>NaN</td>\n",
       "      <td>NaN</td>\n",
       "      <td>NaN</td>\n",
       "    </tr>\n",
       "    <tr>\n",
       "      <th>594</th>\n",
       "      <td>TRAIN_594</td>\n",
       "      <td>0</td>\n",
       "      <td>0.524022</td>\n",
       "      <td>2022-09-08 22:38</td>\n",
       "      <td>T050304</td>\n",
       "      <td>A_31</td>\n",
       "      <td>NaN</td>\n",
       "      <td>NaN</td>\n",
       "      <td>NaN</td>\n",
       "      <td>NaN</td>\n",
       "      <td>...</td>\n",
       "      <td>49.47</td>\n",
       "      <td>53.07</td>\n",
       "      <td>50.89</td>\n",
       "      <td>55.10</td>\n",
       "      <td>66.49</td>\n",
       "      <td>1.0</td>\n",
       "      <td>NaN</td>\n",
       "      <td>NaN</td>\n",
       "      <td>NaN</td>\n",
       "      <td>NaN</td>\n",
       "    </tr>\n",
       "    <tr>\n",
       "      <th>595</th>\n",
       "      <td>TRAIN_595</td>\n",
       "      <td>0</td>\n",
       "      <td>0.521289</td>\n",
       "      <td>2022-09-08 22:47</td>\n",
       "      <td>T050304</td>\n",
       "      <td>A_31</td>\n",
       "      <td>NaN</td>\n",
       "      <td>NaN</td>\n",
       "      <td>NaN</td>\n",
       "      <td>NaN</td>\n",
       "      <td>...</td>\n",
       "      <td>NaN</td>\n",
       "      <td>NaN</td>\n",
       "      <td>NaN</td>\n",
       "      <td>NaN</td>\n",
       "      <td>NaN</td>\n",
       "      <td>1.0</td>\n",
       "      <td>NaN</td>\n",
       "      <td>NaN</td>\n",
       "      <td>NaN</td>\n",
       "      <td>NaN</td>\n",
       "    </tr>\n",
       "    <tr>\n",
       "      <th>596</th>\n",
       "      <td>TRAIN_596</td>\n",
       "      <td>1</td>\n",
       "      <td>0.531375</td>\n",
       "      <td>2022-09-08 14:38</td>\n",
       "      <td>T100304</td>\n",
       "      <td>O_31</td>\n",
       "      <td>40.0</td>\n",
       "      <td>94.0</td>\n",
       "      <td>0.0</td>\n",
       "      <td>45.0</td>\n",
       "      <td>...</td>\n",
       "      <td>NaN</td>\n",
       "      <td>NaN</td>\n",
       "      <td>NaN</td>\n",
       "      <td>NaN</td>\n",
       "      <td>NaN</td>\n",
       "      <td>NaN</td>\n",
       "      <td>NaN</td>\n",
       "      <td>NaN</td>\n",
       "      <td>NaN</td>\n",
       "      <td>NaN</td>\n",
       "    </tr>\n",
       "    <tr>\n",
       "      <th>597</th>\n",
       "      <td>TRAIN_597</td>\n",
       "      <td>1</td>\n",
       "      <td>0.533702</td>\n",
       "      <td>2022-09-08 14:46</td>\n",
       "      <td>T100306</td>\n",
       "      <td>O_31</td>\n",
       "      <td>21.0</td>\n",
       "      <td>87.0</td>\n",
       "      <td>0.0</td>\n",
       "      <td>45.0</td>\n",
       "      <td>...</td>\n",
       "      <td>NaN</td>\n",
       "      <td>NaN</td>\n",
       "      <td>NaN</td>\n",
       "      <td>NaN</td>\n",
       "      <td>NaN</td>\n",
       "      <td>NaN</td>\n",
       "      <td>NaN</td>\n",
       "      <td>NaN</td>\n",
       "      <td>NaN</td>\n",
       "      <td>NaN</td>\n",
       "    </tr>\n",
       "  </tbody>\n",
       "</table>\n",
       "<p>598 rows × 2881 columns</p>\n",
       "</div>"
      ],
      "text/plain": [
       "    PRODUCT_ID  Y_Class  Y_Quality         TIMESTAMP     LINE PRODUCT_CODE  \\\n",
       "0    TRAIN_000        1   0.533433   2022-06-13 5:14  T050304         A_31   \n",
       "1    TRAIN_001        2   0.541819   2022-06-13 5:22  T050307         A_31   \n",
       "2    TRAIN_002        1   0.531267   2022-06-13 5:30  T050304         A_31   \n",
       "3    TRAIN_003        2   0.537325   2022-06-13 5:39  T050307         A_31   \n",
       "4    TRAIN_004        1   0.531590   2022-06-13 5:47  T050304         A_31   \n",
       "..         ...      ...        ...               ...      ...          ...   \n",
       "593  TRAIN_593        1   0.526546  2022-09-08 14:30  T100306         T_31   \n",
       "594  TRAIN_594        0   0.524022  2022-09-08 22:38  T050304         A_31   \n",
       "595  TRAIN_595        0   0.521289  2022-09-08 22:47  T050304         A_31   \n",
       "596  TRAIN_596        1   0.531375  2022-09-08 14:38  T100304         O_31   \n",
       "597  TRAIN_597        1   0.533702  2022-09-08 14:46  T100306         O_31   \n",
       "\n",
       "      X_1   X_2  X_3   X_4  ...  X_2866  X_2867  X_2868  X_2869  X_2870  \\\n",
       "0     NaN   NaN  NaN   NaN  ...   39.34   40.89   32.56   34.09   77.77   \n",
       "1     NaN   NaN  NaN   NaN  ...   38.89   42.82   43.92   35.34   72.55   \n",
       "2     NaN   NaN  NaN   NaN  ...   39.19   36.65   42.47   36.53   78.35   \n",
       "3     NaN   NaN  NaN   NaN  ...   37.74   39.17   52.17   30.58   71.78   \n",
       "4     NaN   NaN  NaN   NaN  ...   38.70   41.89   46.93   33.09   76.97   \n",
       "..    ...   ...  ...   ...  ...     ...     ...     ...     ...     ...   \n",
       "593   2.0  95.0  0.0  45.0  ...     NaN     NaN     NaN     NaN     NaN   \n",
       "594   NaN   NaN  NaN   NaN  ...   49.47   53.07   50.89   55.10   66.49   \n",
       "595   NaN   NaN  NaN   NaN  ...     NaN     NaN     NaN     NaN     NaN   \n",
       "596  40.0  94.0  0.0  45.0  ...     NaN     NaN     NaN     NaN     NaN   \n",
       "597  21.0  87.0  0.0  45.0  ...     NaN     NaN     NaN     NaN     NaN   \n",
       "\n",
       "     X_2871  X_2872  X_2873  X_2874  X_2875  \n",
       "0       NaN     NaN     NaN     NaN     NaN  \n",
       "1       NaN     NaN     NaN     NaN     NaN  \n",
       "2       NaN     NaN     NaN     NaN     NaN  \n",
       "3       NaN     NaN     NaN     NaN     NaN  \n",
       "4       NaN     NaN     NaN     NaN     NaN  \n",
       "..      ...     ...     ...     ...     ...  \n",
       "593     NaN     NaN     NaN     NaN     NaN  \n",
       "594     1.0     NaN     NaN     NaN     NaN  \n",
       "595     1.0     NaN     NaN     NaN     NaN  \n",
       "596     NaN     NaN     NaN     NaN     NaN  \n",
       "597     NaN     NaN     NaN     NaN     NaN  \n",
       "\n",
       "[598 rows x 2881 columns]"
      ]
     },
     "execution_count": 65,
     "metadata": {},
     "output_type": "execute_result"
    }
   ],
   "source": [
    "# 학습 데이터\n",
    "train = pd.read_csv('./train.csv')\n",
    "train"
   ]
  },
  {
   "cell_type": "markdown",
   "id": "ddd414cd",
   "metadata": {},
   "source": [
    "* PRODUCT_ID : 제품의 고유 ID\n",
    "* Y_Class : 제품 품질 상태(Target) (0 : 기준 미달, 1 : 적합, 2 : 기준 초과)\n",
    "* Y_Quality : 제품 품질 수치\n",
    "* TIMESTAMP : 제품이 공정에 들어간 시각\n",
    "* LINE : 제품이 들어간 공정 LINE 종류 ('T050304', 'T050307', 'T100304', 'T100306', 'T010306', 'T010305' 존재)\n",
    "* PRODUCT_CODE : 제품의 CODE 번호 ('A_31', 'T_31', 'O_31' 존재)\n",
    "* X_1 ~ X_2875 : 공정 과정에서 추출되어 비식별화된 변수"
   ]
  },
  {
   "cell_type": "code",
   "execution_count": 66,
   "id": "67e06c29",
   "metadata": {},
   "outputs": [
    {
     "data": {
      "text/html": [
       "<div>\n",
       "<style scoped>\n",
       "    .dataframe tbody tr th:only-of-type {\n",
       "        vertical-align: middle;\n",
       "    }\n",
       "\n",
       "    .dataframe tbody tr th {\n",
       "        vertical-align: top;\n",
       "    }\n",
       "\n",
       "    .dataframe thead th {\n",
       "        text-align: right;\n",
       "    }\n",
       "</style>\n",
       "<table border=\"1\" class=\"dataframe\">\n",
       "  <thead>\n",
       "    <tr style=\"text-align: right;\">\n",
       "      <th></th>\n",
       "      <th>PRODUCT_ID</th>\n",
       "      <th>TIMESTAMP</th>\n",
       "      <th>LINE</th>\n",
       "      <th>PRODUCT_CODE</th>\n",
       "      <th>X_1</th>\n",
       "      <th>X_2</th>\n",
       "      <th>X_3</th>\n",
       "      <th>X_4</th>\n",
       "      <th>X_5</th>\n",
       "      <th>X_6</th>\n",
       "      <th>...</th>\n",
       "      <th>X_2866</th>\n",
       "      <th>X_2867</th>\n",
       "      <th>X_2868</th>\n",
       "      <th>X_2869</th>\n",
       "      <th>X_2870</th>\n",
       "      <th>X_2871</th>\n",
       "      <th>X_2872</th>\n",
       "      <th>X_2873</th>\n",
       "      <th>X_2874</th>\n",
       "      <th>X_2875</th>\n",
       "    </tr>\n",
       "  </thead>\n",
       "  <tbody>\n",
       "    <tr>\n",
       "      <th>0</th>\n",
       "      <td>TEST_000</td>\n",
       "      <td>2022-09-09 2:01</td>\n",
       "      <td>T100306</td>\n",
       "      <td>T_31</td>\n",
       "      <td>2.0</td>\n",
       "      <td>94.0</td>\n",
       "      <td>0.0</td>\n",
       "      <td>45.0</td>\n",
       "      <td>10.0</td>\n",
       "      <td>0.0</td>\n",
       "      <td>...</td>\n",
       "      <td>NaN</td>\n",
       "      <td>NaN</td>\n",
       "      <td>NaN</td>\n",
       "      <td>NaN</td>\n",
       "      <td>NaN</td>\n",
       "      <td>NaN</td>\n",
       "      <td>NaN</td>\n",
       "      <td>NaN</td>\n",
       "      <td>NaN</td>\n",
       "      <td>NaN</td>\n",
       "    </tr>\n",
       "    <tr>\n",
       "      <th>1</th>\n",
       "      <td>TEST_001</td>\n",
       "      <td>2022-09-09 2:09</td>\n",
       "      <td>T100304</td>\n",
       "      <td>T_31</td>\n",
       "      <td>2.0</td>\n",
       "      <td>93.0</td>\n",
       "      <td>0.0</td>\n",
       "      <td>45.0</td>\n",
       "      <td>11.0</td>\n",
       "      <td>0.0</td>\n",
       "      <td>...</td>\n",
       "      <td>NaN</td>\n",
       "      <td>NaN</td>\n",
       "      <td>NaN</td>\n",
       "      <td>NaN</td>\n",
       "      <td>NaN</td>\n",
       "      <td>NaN</td>\n",
       "      <td>NaN</td>\n",
       "      <td>NaN</td>\n",
       "      <td>NaN</td>\n",
       "      <td>NaN</td>\n",
       "    </tr>\n",
       "    <tr>\n",
       "      <th>2</th>\n",
       "      <td>TEST_002</td>\n",
       "      <td>2022-09-09 8:42</td>\n",
       "      <td>T100304</td>\n",
       "      <td>T_31</td>\n",
       "      <td>2.0</td>\n",
       "      <td>95.0</td>\n",
       "      <td>0.0</td>\n",
       "      <td>45.0</td>\n",
       "      <td>11.0</td>\n",
       "      <td>0.0</td>\n",
       "      <td>...</td>\n",
       "      <td>NaN</td>\n",
       "      <td>NaN</td>\n",
       "      <td>NaN</td>\n",
       "      <td>NaN</td>\n",
       "      <td>NaN</td>\n",
       "      <td>NaN</td>\n",
       "      <td>NaN</td>\n",
       "      <td>NaN</td>\n",
       "      <td>NaN</td>\n",
       "      <td>NaN</td>\n",
       "    </tr>\n",
       "    <tr>\n",
       "      <th>3</th>\n",
       "      <td>TEST_003</td>\n",
       "      <td>2022-09-09 10:56</td>\n",
       "      <td>T010305</td>\n",
       "      <td>A_31</td>\n",
       "      <td>NaN</td>\n",
       "      <td>NaN</td>\n",
       "      <td>NaN</td>\n",
       "      <td>NaN</td>\n",
       "      <td>NaN</td>\n",
       "      <td>NaN</td>\n",
       "      <td>...</td>\n",
       "      <td>NaN</td>\n",
       "      <td>NaN</td>\n",
       "      <td>NaN</td>\n",
       "      <td>NaN</td>\n",
       "      <td>NaN</td>\n",
       "      <td>NaN</td>\n",
       "      <td>NaN</td>\n",
       "      <td>NaN</td>\n",
       "      <td>NaN</td>\n",
       "      <td>NaN</td>\n",
       "    </tr>\n",
       "    <tr>\n",
       "      <th>4</th>\n",
       "      <td>TEST_004</td>\n",
       "      <td>2022-09-09 11:04</td>\n",
       "      <td>T010306</td>\n",
       "      <td>A_31</td>\n",
       "      <td>NaN</td>\n",
       "      <td>NaN</td>\n",
       "      <td>NaN</td>\n",
       "      <td>NaN</td>\n",
       "      <td>NaN</td>\n",
       "      <td>NaN</td>\n",
       "      <td>...</td>\n",
       "      <td>NaN</td>\n",
       "      <td>NaN</td>\n",
       "      <td>NaN</td>\n",
       "      <td>NaN</td>\n",
       "      <td>NaN</td>\n",
       "      <td>NaN</td>\n",
       "      <td>NaN</td>\n",
       "      <td>NaN</td>\n",
       "      <td>NaN</td>\n",
       "      <td>NaN</td>\n",
       "    </tr>\n",
       "  </tbody>\n",
       "</table>\n",
       "<p>5 rows × 2879 columns</p>\n",
       "</div>"
      ],
      "text/plain": [
       "  PRODUCT_ID         TIMESTAMP     LINE PRODUCT_CODE  X_1   X_2  X_3   X_4  \\\n",
       "0   TEST_000   2022-09-09 2:01  T100306         T_31  2.0  94.0  0.0  45.0   \n",
       "1   TEST_001   2022-09-09 2:09  T100304         T_31  2.0  93.0  0.0  45.0   \n",
       "2   TEST_002   2022-09-09 8:42  T100304         T_31  2.0  95.0  0.0  45.0   \n",
       "3   TEST_003  2022-09-09 10:56  T010305         A_31  NaN   NaN  NaN   NaN   \n",
       "4   TEST_004  2022-09-09 11:04  T010306         A_31  NaN   NaN  NaN   NaN   \n",
       "\n",
       "    X_5  X_6  ...  X_2866  X_2867  X_2868  X_2869  X_2870  X_2871  X_2872  \\\n",
       "0  10.0  0.0  ...     NaN     NaN     NaN     NaN     NaN     NaN     NaN   \n",
       "1  11.0  0.0  ...     NaN     NaN     NaN     NaN     NaN     NaN     NaN   \n",
       "2  11.0  0.0  ...     NaN     NaN     NaN     NaN     NaN     NaN     NaN   \n",
       "3   NaN  NaN  ...     NaN     NaN     NaN     NaN     NaN     NaN     NaN   \n",
       "4   NaN  NaN  ...     NaN     NaN     NaN     NaN     NaN     NaN     NaN   \n",
       "\n",
       "   X_2873  X_2874  X_2875  \n",
       "0     NaN     NaN     NaN  \n",
       "1     NaN     NaN     NaN  \n",
       "2     NaN     NaN     NaN  \n",
       "3     NaN     NaN     NaN  \n",
       "4     NaN     NaN     NaN  \n",
       "\n",
       "[5 rows x 2879 columns]"
      ]
     },
     "execution_count": 66,
     "metadata": {},
     "output_type": "execute_result"
    }
   ],
   "source": [
    "# 검증 데이터\n",
    "test = pd.read_csv('./test.csv')\n",
    "test.head()"
   ]
  },
  {
   "cell_type": "markdown",
   "id": "699e445d",
   "metadata": {},
   "source": [
    "* PRODUCT_ID : 제품의 고유 ID\n",
    "* TIMESTAMP : 제품이 공정에 들어간 시각\n",
    "* LINE : 제품이 들어간 공정 LINE 종류 ('T050304', 'T050307', 'T100304', 'T100306', 'T010306', 'T010305' 존재)\n",
    "* PRODUCT_CODE : 제품의 CODE 번호 ('A_31', 'T_31', 'O_31' 존재)\n",
    "* X_1 ~ X_2875 : 공정 과정에서 추출되어 비식별화된 변수"
   ]
  },
  {
   "cell_type": "code",
   "execution_count": 67,
   "id": "c4c5d197",
   "metadata": {},
   "outputs": [
    {
     "data": {
      "text/html": [
       "<div>\n",
       "<style scoped>\n",
       "    .dataframe tbody tr th:only-of-type {\n",
       "        vertical-align: middle;\n",
       "    }\n",
       "\n",
       "    .dataframe tbody tr th {\n",
       "        vertical-align: top;\n",
       "    }\n",
       "\n",
       "    .dataframe thead th {\n",
       "        text-align: right;\n",
       "    }\n",
       "</style>\n",
       "<table border=\"1\" class=\"dataframe\">\n",
       "  <thead>\n",
       "    <tr style=\"text-align: right;\">\n",
       "      <th></th>\n",
       "      <th>PRODUCT_ID</th>\n",
       "      <th>Y_Class</th>\n",
       "    </tr>\n",
       "  </thead>\n",
       "  <tbody>\n",
       "    <tr>\n",
       "      <th>0</th>\n",
       "      <td>TEST_000</td>\n",
       "      <td>0</td>\n",
       "    </tr>\n",
       "    <tr>\n",
       "      <th>1</th>\n",
       "      <td>TEST_001</td>\n",
       "      <td>0</td>\n",
       "    </tr>\n",
       "    <tr>\n",
       "      <th>2</th>\n",
       "      <td>TEST_002</td>\n",
       "      <td>0</td>\n",
       "    </tr>\n",
       "    <tr>\n",
       "      <th>3</th>\n",
       "      <td>TEST_003</td>\n",
       "      <td>0</td>\n",
       "    </tr>\n",
       "    <tr>\n",
       "      <th>4</th>\n",
       "      <td>TEST_004</td>\n",
       "      <td>0</td>\n",
       "    </tr>\n",
       "  </tbody>\n",
       "</table>\n",
       "</div>"
      ],
      "text/plain": [
       "  PRODUCT_ID  Y_Class\n",
       "0   TEST_000        0\n",
       "1   TEST_001        0\n",
       "2   TEST_002        0\n",
       "3   TEST_003        0\n",
       "4   TEST_004        0"
      ]
     },
     "execution_count": 67,
     "metadata": {},
     "output_type": "execute_result"
    }
   ],
   "source": [
    "# 제출 양식\n",
    "subm = pd.read_csv('./sample_submission.csv')\n",
    "subm.head()"
   ]
  },
  {
   "cell_type": "markdown",
   "id": "f2f95b4b",
   "metadata": {},
   "source": [
    "* PRODUCT_ID : 제품의 고유 ID\n",
    "* Y_Class : 예측한 제품 품질 상태 (0 : 기준 미달, 1 : 적합, 2 : 기준 초과)"
   ]
  },
  {
   "cell_type": "markdown",
   "id": "8587ffdc",
   "metadata": {},
   "source": [
    "### dtypes"
   ]
  },
  {
   "cell_type": "code",
   "execution_count": 68,
   "id": "70c2531b",
   "metadata": {},
   "outputs": [
    {
     "data": {
      "text/plain": [
       "PRODUCT_ID     object\n",
       "Y_Class         int64\n",
       "Y_Quality     float64\n",
       "TIMESTAMP      object\n",
       "LINE           object\n",
       "               ...   \n",
       "X_2871        float64\n",
       "X_2872        float64\n",
       "X_2873        float64\n",
       "X_2874        float64\n",
       "X_2875        float64\n",
       "Length: 2881, dtype: object"
      ]
     },
     "execution_count": 68,
     "metadata": {},
     "output_type": "execute_result"
    }
   ],
   "source": [
    "train.dtypes"
   ]
  },
  {
   "cell_type": "code",
   "execution_count": 69,
   "id": "31ec8b13",
   "metadata": {},
   "outputs": [],
   "source": [
    "train['LINE'] = train['LINE'].astype('category')\n",
    "train['PRODUCT_CODE'] = train['PRODUCT_CODE'].astype('category')"
   ]
  },
  {
   "cell_type": "markdown",
   "id": "ab3eff39",
   "metadata": {},
   "source": [
    "### Y Class & Y Quality"
   ]
  },
  {
   "cell_type": "code",
   "execution_count": 70,
   "id": "7da007fb",
   "metadata": {},
   "outputs": [
    {
     "data": {
      "image/png": "[encoded data removed]",
      "text/plain": [
       "<Figure size 1080x504 with 1 Axes>"
      ]
     },
     "metadata": {
      "needs_background": "light"
     },
     "output_type": "display_data"
    }
   ],
   "source": [
    "rcParams['figure.figsize'] = 15, 7\n",
    "\n",
    "fig, ax = plt.subplots()\n",
    "\n",
    "ax.boxplot([train[train['Y_Class']==0].Y_Quality, train[train['Y_Class']==1].Y_Quality, train[train['Y_Class']==2].Y_Quality])\n",
    "ax.set_ylim(0.5, 0.6)\n",
    "ax.set_xlabel('Y_Class')\n",
    "ax.set_ylabel('Y_Quality')\n",
    "plt.show()"
   ]
  },
  {
   "cell_type": "code",
   "execution_count": 71,
   "id": "e1f819b9",
   "metadata": {},
   "outputs": [
    {
     "name": "stdout",
     "output_type": "stream",
     "text": [
      "Class : 0, Quality range : 0.500855556 ~ 0.525066667\n",
      "Class : 1, Quality range : 0.525085714 ~ 0.534842857\n",
      "Class : 2, Quality range : 0.534950794 ~ 0.57884127\n"
     ]
    }
   ],
   "source": [
    "# Class는 Quality를 3등분한 결과\n",
    "for i in range(3):\n",
    "    tmp = train[train['Y_Class']==i].Y_Quality\n",
    "    print(f'Class : {i}, Quality range : {min(tmp)} ~ {max(tmp)}')"
   ]
  },
  {
   "cell_type": "code",
   "execution_count": 72,
   "id": "17d28aea",
   "metadata": {},
   "outputs": [
    {
     "data": {
      "text/plain": [
       "1    407\n",
       "2    103\n",
       "0     88\n",
       "Name: Y_Class, dtype: int64"
      ]
     },
     "execution_count": 72,
     "metadata": {},
     "output_type": "execute_result"
    }
   ],
   "source": [
    "train.Y_Class.value_counts()"
   ]
  },
  {
   "cell_type": "markdown",
   "id": "df797904",
   "metadata": {},
   "source": [
    "### Product Code"
   ]
  },
  {
   "cell_type": "code",
   "execution_count": 73,
   "id": "1689a206",
   "metadata": {},
   "outputs": [
    {
     "data": {
      "text/plain": [
       "T_31    343\n",
       "A_31    249\n",
       "O_31      6\n",
       "Name: PRODUCT_CODE, dtype: int64"
      ]
     },
     "execution_count": 73,
     "metadata": {},
     "output_type": "execute_result"
    }
   ],
   "source": [
    "# Product Code는 3가지로 이루어져 있다.\n",
    "train['PRODUCT_CODE'].value_counts()"
   ]
  },
  {
   "cell_type": "markdown",
   "id": "b5b16d45",
   "metadata": {},
   "source": [
    "### Line"
   ]
  },
  {
   "cell_type": "code",
   "execution_count": 74,
   "id": "0032acf1",
   "metadata": {},
   "outputs": [
    {
     "data": {
      "text/plain": [
       "T100304    175\n",
       "T100306    174\n",
       "T050304     78\n",
       "T010306     70\n",
       "T010305     59\n",
       "T050307     42\n",
       "Name: LINE, dtype: int64"
      ]
     },
     "execution_count": 74,
     "metadata": {},
     "output_type": "execute_result"
    }
   ],
   "source": [
    "# Line은 6가지\n",
    "train['LINE'].value_counts()"
   ]
  },
  {
   "cell_type": "markdown",
   "id": "e075e254",
   "metadata": {},
   "source": [
    "### TimeStamp"
   ]
  },
  {
   "cell_type": "markdown",
   "id": "0012e18f",
   "metadata": {},
   "source": [
    "* 일, 시, 분 단위 모두 연속적이지 않으므로 활용할 수 없다. interpolate(보간)을 하기에도 너무 공백이 많다.\n",
    "* 단 월 단위는 quality의 감소세가 확인된다."
   ]
  },
  {
   "cell_type": "code",
   "execution_count": 75,
   "id": "1fa83cd9",
   "metadata": {},
   "outputs": [
    {
     "data": {
      "image/png": "[encoded data removed]",
      "text/plain": [
       "<Figure size 1080x1080 with 6 Axes>"
      ]
     },
     "metadata": {
      "needs_background": "light"
     },
     "output_type": "display_data"
    }
   ],
   "source": [
    "# LINE\n",
    "rcParams['figure.figsize'] = 15, 15\n",
    "\n",
    "for i, l in enumerate(train.LINE.unique()):\n",
    "    plt.subplot(len(train.LINE.unique()), 1, i+1)\n",
    "    tmp = train[train['LINE']==l]\n",
    "    tmp['TIMESTAMP'] = pd.to_datetime(tmp['TIMESTAMP']).dt.strftime('%m')\n",
    "    tmp = tmp.groupby('TIMESTAMP').mean()\n",
    "    plt.plot(tmp.index, tmp['Y_Quality'])\n",
    "    plt.title(l)\n",
    "plt.show()"
   ]
  },
  {
   "cell_type": "code",
   "execution_count": 76,
   "id": "981b887e",
   "metadata": {},
   "outputs": [
    {
     "data": {
      "image/png": "[encoded data removed]",
      "text/plain": [
       "<Figure size 1080x1080 with 3 Axes>"
      ]
     },
     "metadata": {
      "needs_background": "light"
     },
     "output_type": "display_data"
    }
   ],
   "source": [
    "# PRODUCT_CODE\n",
    "rcParams['figure.figsize'] = 15, 15\n",
    "\n",
    "for i, l in enumerate(train['PRODUCT_CODE'].unique()):\n",
    "    plt.subplot(len(train.LINE.unique()), 1, i+1)\n",
    "    tmp = train[train['PRODUCT_CODE']==l]\n",
    "    tmp['TIMESTAMP'] = pd.to_datetime(tmp['TIMESTAMP']).dt.strftime('%m')\n",
    "    tmp = tmp.groupby('TIMESTAMP').mean()\n",
    "    plt.plot(tmp.index, tmp['Y_Quality'])\n",
    "    plt.title(l)\n",
    "plt.show()"
   ]
  },
  {
   "cell_type": "code",
   "execution_count": 77,
   "id": "a39dab1a",
   "metadata": {
    "scrolled": false
   },
   "outputs": [
    {
     "data": {
      "image/png": "[encoded data removed]",
      "text/plain": [
       "<Figure size 1080x1080 with 1 Axes>"
      ]
     },
     "metadata": {
      "needs_background": "light"
     },
     "output_type": "display_data"
    },
    {
     "data": {
      "image/png": "[encoded data removed]",
      "text/plain": [
       "<Figure size 1080x1080 with 1 Axes>"
      ]
     },
     "metadata": {
      "needs_background": "light"
     },
     "output_type": "display_data"
    },
    {
     "data": {
      "image/png": "[encoded data removed]",
      "text/plain": [
       "<Figure size 1080x1080 with 1 Axes>"
      ]
     },
     "metadata": {
      "needs_background": "light"
     },
     "output_type": "display_data"
    },
    {
     "data": {
      "image/png": "[encoded data removed]",
      "text/plain": [
       "<Figure size 1080x1080 with 1 Axes>"
      ]
     },
     "metadata": {
      "needs_background": "light"
     },
     "output_type": "display_data"
    },
    {
     "data": {
      "image/png": "[encoded data removed]",
      "text/plain": [
       "<Figure size 1080x1080 with 1 Axes>"
      ]
     },
     "metadata": {
      "needs_background": "light"
     },
     "output_type": "display_data"
    },
    {
     "data": {
      "image/png": "[encoded data removed]",
      "text/plain": [
       "<Figure size 1080x1080 with 1 Axes>"
      ]
     },
     "metadata": {
      "needs_background": "light"
     },
     "output_type": "display_data"
    }
   ],
   "source": [
    "# LINE & PRODUCT_CODE\n",
    "rcParams['figure.figsize'] = 15, 15\n",
    "\n",
    "for i, l in enumerate(train.LINE.unique()):\n",
    "    for i, c in enumerate(['A_31', 'T_31']): # O_31은 표본이 너무 적어 제외\n",
    "        tmp = train[(train['PRODUCT_CODE']==c)&(train['LINE']==l)]\n",
    "        if len(tmp) == 0: continue\n",
    "        plt.subplot(len(train.LINE.unique())*len(train.PRODUCT_CODE.unique()), 1, i+1)\n",
    "        tmp['TIMESTAMP'] = pd.to_datetime(tmp['TIMESTAMP']).dt.strftime('%m')\n",
    "        tmp = tmp.groupby('TIMESTAMP').mean()\n",
    "        plt.plot(tmp.index, tmp['Y_Quality'])\n",
    "        plt.title(f'{l} & {c}')\n",
    "    plt.show()"
   ]
  },
  {
   "cell_type": "code",
   "execution_count": 78,
   "id": "83c5c4ba",
   "metadata": {},
   "outputs": [
    {
     "data": {
      "text/html": [
       "<div>\n",
       "<style scoped>\n",
       "    .dataframe tbody tr th:only-of-type {\n",
       "        vertical-align: middle;\n",
       "    }\n",
       "\n",
       "    .dataframe tbody tr th {\n",
       "        vertical-align: top;\n",
       "    }\n",
       "\n",
       "    .dataframe thead th {\n",
       "        text-align: right;\n",
       "    }\n",
       "</style>\n",
       "<table border=\"1\" class=\"dataframe\">\n",
       "  <thead>\n",
       "    <tr style=\"text-align: right;\">\n",
       "      <th></th>\n",
       "      <th>PRODUCT_ID</th>\n",
       "      <th>Y_Class</th>\n",
       "      <th>Y_Quality</th>\n",
       "      <th>TIMESTAMP</th>\n",
       "      <th>LINE</th>\n",
       "      <th>PRODUCT_CODE</th>\n",
       "      <th>X_1</th>\n",
       "      <th>X_2</th>\n",
       "      <th>X_3</th>\n",
       "      <th>X_4</th>\n",
       "      <th>...</th>\n",
       "      <th>X_2866</th>\n",
       "      <th>X_2867</th>\n",
       "      <th>X_2868</th>\n",
       "      <th>X_2869</th>\n",
       "      <th>X_2870</th>\n",
       "      <th>X_2871</th>\n",
       "      <th>X_2872</th>\n",
       "      <th>X_2873</th>\n",
       "      <th>X_2874</th>\n",
       "      <th>X_2875</th>\n",
       "    </tr>\n",
       "  </thead>\n",
       "  <tbody>\n",
       "    <tr>\n",
       "      <th>0</th>\n",
       "      <td>TRAIN_000</td>\n",
       "      <td>1</td>\n",
       "      <td>0.533433</td>\n",
       "      <td>6</td>\n",
       "      <td>T050304</td>\n",
       "      <td>A_31</td>\n",
       "      <td>NaN</td>\n",
       "      <td>NaN</td>\n",
       "      <td>NaN</td>\n",
       "      <td>NaN</td>\n",
       "      <td>...</td>\n",
       "      <td>39.34</td>\n",
       "      <td>40.89</td>\n",
       "      <td>32.56</td>\n",
       "      <td>34.09</td>\n",
       "      <td>77.77</td>\n",
       "      <td>NaN</td>\n",
       "      <td>NaN</td>\n",
       "      <td>NaN</td>\n",
       "      <td>NaN</td>\n",
       "      <td>NaN</td>\n",
       "    </tr>\n",
       "    <tr>\n",
       "      <th>1</th>\n",
       "      <td>TRAIN_001</td>\n",
       "      <td>2</td>\n",
       "      <td>0.541819</td>\n",
       "      <td>6</td>\n",
       "      <td>T050307</td>\n",
       "      <td>A_31</td>\n",
       "      <td>NaN</td>\n",
       "      <td>NaN</td>\n",
       "      <td>NaN</td>\n",
       "      <td>NaN</td>\n",
       "      <td>...</td>\n",
       "      <td>38.89</td>\n",
       "      <td>42.82</td>\n",
       "      <td>43.92</td>\n",
       "      <td>35.34</td>\n",
       "      <td>72.55</td>\n",
       "      <td>NaN</td>\n",
       "      <td>NaN</td>\n",
       "      <td>NaN</td>\n",
       "      <td>NaN</td>\n",
       "      <td>NaN</td>\n",
       "    </tr>\n",
       "    <tr>\n",
       "      <th>2</th>\n",
       "      <td>TRAIN_002</td>\n",
       "      <td>1</td>\n",
       "      <td>0.531267</td>\n",
       "      <td>6</td>\n",
       "      <td>T050304</td>\n",
       "      <td>A_31</td>\n",
       "      <td>NaN</td>\n",
       "      <td>NaN</td>\n",
       "      <td>NaN</td>\n",
       "      <td>NaN</td>\n",
       "      <td>...</td>\n",
       "      <td>39.19</td>\n",
       "      <td>36.65</td>\n",
       "      <td>42.47</td>\n",
       "      <td>36.53</td>\n",
       "      <td>78.35</td>\n",
       "      <td>NaN</td>\n",
       "      <td>NaN</td>\n",
       "      <td>NaN</td>\n",
       "      <td>NaN</td>\n",
       "      <td>NaN</td>\n",
       "    </tr>\n",
       "    <tr>\n",
       "      <th>3</th>\n",
       "      <td>TRAIN_003</td>\n",
       "      <td>2</td>\n",
       "      <td>0.537325</td>\n",
       "      <td>6</td>\n",
       "      <td>T050307</td>\n",
       "      <td>A_31</td>\n",
       "      <td>NaN</td>\n",
       "      <td>NaN</td>\n",
       "      <td>NaN</td>\n",
       "      <td>NaN</td>\n",
       "      <td>...</td>\n",
       "      <td>37.74</td>\n",
       "      <td>39.17</td>\n",
       "      <td>52.17</td>\n",
       "      <td>30.58</td>\n",
       "      <td>71.78</td>\n",
       "      <td>NaN</td>\n",
       "      <td>NaN</td>\n",
       "      <td>NaN</td>\n",
       "      <td>NaN</td>\n",
       "      <td>NaN</td>\n",
       "    </tr>\n",
       "    <tr>\n",
       "      <th>4</th>\n",
       "      <td>TRAIN_004</td>\n",
       "      <td>1</td>\n",
       "      <td>0.531590</td>\n",
       "      <td>6</td>\n",
       "      <td>T050304</td>\n",
       "      <td>A_31</td>\n",
       "      <td>NaN</td>\n",
       "      <td>NaN</td>\n",
       "      <td>NaN</td>\n",
       "      <td>NaN</td>\n",
       "      <td>...</td>\n",
       "      <td>38.70</td>\n",
       "      <td>41.89</td>\n",
       "      <td>46.93</td>\n",
       "      <td>33.09</td>\n",
       "      <td>76.97</td>\n",
       "      <td>NaN</td>\n",
       "      <td>NaN</td>\n",
       "      <td>NaN</td>\n",
       "      <td>NaN</td>\n",
       "      <td>NaN</td>\n",
       "    </tr>\n",
       "  </tbody>\n",
       "</table>\n",
       "<p>5 rows × 2881 columns</p>\n",
       "</div>"
      ],
      "text/plain": [
       "  PRODUCT_ID  Y_Class  Y_Quality  TIMESTAMP     LINE PRODUCT_CODE  X_1  X_2  \\\n",
       "0  TRAIN_000        1   0.533433          6  T050304         A_31  NaN  NaN   \n",
       "1  TRAIN_001        2   0.541819          6  T050307         A_31  NaN  NaN   \n",
       "2  TRAIN_002        1   0.531267          6  T050304         A_31  NaN  NaN   \n",
       "3  TRAIN_003        2   0.537325          6  T050307         A_31  NaN  NaN   \n",
       "4  TRAIN_004        1   0.531590          6  T050304         A_31  NaN  NaN   \n",
       "\n",
       "   X_3  X_4  ...  X_2866  X_2867  X_2868  X_2869  X_2870  X_2871  X_2872  \\\n",
       "0  NaN  NaN  ...   39.34   40.89   32.56   34.09   77.77     NaN     NaN   \n",
       "1  NaN  NaN  ...   38.89   42.82   43.92   35.34   72.55     NaN     NaN   \n",
       "2  NaN  NaN  ...   39.19   36.65   42.47   36.53   78.35     NaN     NaN   \n",
       "3  NaN  NaN  ...   37.74   39.17   52.17   30.58   71.78     NaN     NaN   \n",
       "4  NaN  NaN  ...   38.70   41.89   46.93   33.09   76.97     NaN     NaN   \n",
       "\n",
       "   X_2873  X_2874  X_2875  \n",
       "0     NaN     NaN     NaN  \n",
       "1     NaN     NaN     NaN  \n",
       "2     NaN     NaN     NaN  \n",
       "3     NaN     NaN     NaN  \n",
       "4     NaN     NaN     NaN  \n",
       "\n",
       "[5 rows x 2881 columns]"
      ]
     },
     "execution_count": 78,
     "metadata": {},
     "output_type": "execute_result"
    }
   ],
   "source": [
    "# 월별 영향력이 있어보인다.\n",
    "train['TIMESTAMP'] = pd.to_datetime(train['TIMESTAMP']).dt.strftime('%m')\n",
    "train['TIMESTAMP'] = train['TIMESTAMP'].astype('int64')\n",
    "train.head()"
   ]
  },
  {
   "cell_type": "markdown",
   "id": "30c99f51",
   "metadata": {},
   "source": [
    "### X_1 ~ X_2875"
   ]
  },
  {
   "cell_type": "code",
   "execution_count": 79,
   "id": "6b7ce630",
   "metadata": {},
   "outputs": [
    {
     "data": {
      "text/plain": [
       "2881"
      ]
     },
     "execution_count": 79,
     "metadata": {},
     "output_type": "execute_result"
    }
   ],
   "source": [
    "len(train.columns)"
   ]
  },
  {
   "cell_type": "markdown",
   "id": "e779a2c0",
   "metadata": {},
   "source": [
    "#### Product Code & Line에 따라 분류했을 경우"
   ]
  },
  {
   "cell_type": "code",
   "execution_count": 80,
   "id": "e5029418",
   "metadata": {},
   "outputs": [],
   "source": [
    "train_A1 = train[(train['PRODUCT_CODE'] == 'A_31') & (train['LINE'] == 'T050304')]\n",
    "train_A2 = train[(train['PRODUCT_CODE'] == 'A_31') & (train['LINE'] == 'T050307')]\n",
    "train_A3 = train[(train['PRODUCT_CODE'] == 'A_31') & (train['LINE'] == 'T010306')]\n",
    "train_A4 = train[(train['PRODUCT_CODE'] == 'A_31') & (train['LINE'] == 'T010305')]\n",
    "train_T1 = train[(train['PRODUCT_CODE'] == 'T_31') & (train['LINE'] == 'T100304')]\n",
    "train_T2 = train[(train['PRODUCT_CODE'] == 'T_31') & (train['LINE'] == 'T100306')]\n",
    "train_O1 = train[train['PRODUCT_CODE'] == 'O_31']"
   ]
  },
  {
   "cell_type": "code",
   "execution_count": 81,
   "id": "9b082adb",
   "metadata": {},
   "outputs": [
    {
     "name": "stdout",
     "output_type": "stream",
     "text": [
      "78\n",
      "42\n",
      "70\n",
      "59\n",
      "172\n",
      "171\n",
      "6\n"
     ]
    }
   ],
   "source": [
    "print(len(train_A1))\n",
    "print(len(train_A2))\n",
    "print(len(train_A3))\n",
    "print(len(train_A4))\n",
    "print(len(train_T1))\n",
    "print(len(train_T2))\n",
    "print(len(train_O1))"
   ]
  },
  {
   "cell_type": "code",
   "execution_count": 82,
   "id": "8bffc5e9",
   "metadata": {},
   "outputs": [],
   "source": [
    "def remove_col(df):\n",
    "    for x in df.columns[6:]:\n",
    "        if len(df[df[x].isnull()]) > len(df)*0.1:\n",
    "            df.drop(columns=[x], inplace=True)\n",
    "    return df"
   ]
  },
  {
   "cell_type": "code",
   "execution_count": 83,
   "id": "339f8527",
   "metadata": {},
   "outputs": [],
   "source": [
    "train_A1 = remove_col(train_A1)\n",
    "train_A2 = remove_col(train_A2)\n",
    "train_A3 = remove_col(train_A3)\n",
    "train_A4 = remove_col(train_A4)\n",
    "train_T1 = remove_col(train_T1)\n",
    "train_T2 = remove_col(train_T2)\n",
    "train_O1 = remove_col(train_O1)"
   ]
  },
  {
   "cell_type": "code",
   "execution_count": 84,
   "id": "f44c61b9",
   "metadata": {},
   "outputs": [
    {
     "name": "stdout",
     "output_type": "stream",
     "text": [
      "1449\n",
      "1461\n",
      "877\n",
      "877\n",
      "662\n",
      "662\n",
      "656\n"
     ]
    }
   ],
   "source": [
    "print(len(train_A1.columns))\n",
    "print(len(train_A2.columns))\n",
    "print(len(train_A3.columns))\n",
    "print(len(train_A4.columns))\n",
    "print(len(train_T1.columns))\n",
    "print(len(train_T2.columns))\n",
    "print(len(train_O1.columns))"
   ]
  },
  {
   "cell_type": "code",
   "execution_count": 85,
   "id": "f9fc2204",
   "metadata": {},
   "outputs": [],
   "source": [
    "# 결측값 대체\n",
    "def nan_replace(df):\n",
    "    for x in df.columns[6:]:\n",
    "        for i in df[df[x].isnull()].index:\n",
    "            m = np.mean(df[(df['Y_Class']==df['Y_Class'][i]) & (df['LINE']==df['LINE'][i]) & (df['TIMESTAMP']==df['TIMESTAMP'][i])][x])\n",
    "            if str(m) != 'nan':\n",
    "                df[x][i] = m\n",
    "                continue\n",
    "            m = np.mean(df[(df['Y_Class']==df['Y_Class'][i]) & (df['LINE']==df['LINE'][i]) & (df['TIMESTAMP']==(df['TIMESTAMP'][i]-1))][x])\n",
    "            if str(m) != 'nan':\n",
    "                df[x][i] = m\n",
    "                continue\n",
    "            m = np.mean(df[(df['Y_Class']==df['Y_Class'][i]) & (df['LINE']==df['LINE'][i]) & (df['TIMESTAMP']==(df['TIMESTAMP'][i]+1))][x])\n",
    "            if str(m) != 'nan':\n",
    "                df[x][i] = m\n",
    "                continue\n",
    "            m = np.mean(df[(df['Y_Class']==df['Y_Class'][i]) & (df['LINE']==df['LINE'][i])][x])\n",
    "            if str(m) != 'nan':\n",
    "                df[x][i] = m\n",
    "                continue\n",
    "\n",
    "            df[x][i] = np.mean(df[df['Y_Class']==df['Y_Class'][i]][x])\n",
    "    return df"
   ]
  },
  {
   "cell_type": "code",
   "execution_count": 86,
   "id": "9a69c7e3",
   "metadata": {},
   "outputs": [],
   "source": [
    "train_A1 = nan_replace(train_A1)\n",
    "train_A2 = nan_replace(train_A2)\n",
    "train_A3 = nan_replace(train_A3)\n",
    "train_A4 = nan_replace(train_A4)\n",
    "train_T1 = nan_replace(train_T1)\n",
    "train_T2 = nan_replace(train_T2)\n",
    "train_O1 = nan_replace(train_O1)"
   ]
  },
  {
   "cell_type": "code",
   "execution_count": 87,
   "id": "09c4a772",
   "metadata": {},
   "outputs": [],
   "source": [
    "train_A1.reset_index(drop=True, inplace=True)\n",
    "train_A2.reset_index(drop=True, inplace=True)\n",
    "train_A3.reset_index(drop=True, inplace=True)\n",
    "train_A4.reset_index(drop=True, inplace=True)\n",
    "train_T1.reset_index(drop=True, inplace=True)\n",
    "train_T2.reset_index(drop=True, inplace=True)\n",
    "train_O1.reset_index(drop=True, inplace=True)"
   ]
  },
  {
   "cell_type": "markdown",
   "id": "245ebb62",
   "metadata": {},
   "source": [
    "### data split & astype"
   ]
  },
  {
   "cell_type": "code",
   "execution_count": 88,
   "id": "8c0cd242",
   "metadata": {
    "scrolled": true
   },
   "outputs": [],
   "source": [
    "train_A1.drop(columns=['PRODUCT_ID'], inplace=True)\n",
    "train_A2.drop(columns=['PRODUCT_ID'], inplace=True)\n",
    "train_A3.drop(columns=['PRODUCT_ID'], inplace=True)\n",
    "train_A4.drop(columns=['PRODUCT_ID'], inplace=True)\n",
    "train_T1.drop(columns=['PRODUCT_ID'], inplace=True)\n",
    "train_T2.drop(columns=['PRODUCT_ID'], inplace=True)\n",
    "train_O1.drop(columns=['PRODUCT_ID'], inplace=True)"
   ]
  },
  {
   "cell_type": "code",
   "execution_count": 89,
   "id": "ef4349ab",
   "metadata": {},
   "outputs": [
    {
     "data": {
      "text/html": [
       "<div>\n",
       "<style scoped>\n",
       "    .dataframe tbody tr th:only-of-type {\n",
       "        vertical-align: middle;\n",
       "    }\n",
       "\n",
       "    .dataframe tbody tr th {\n",
       "        vertical-align: top;\n",
       "    }\n",
       "\n",
       "    .dataframe thead th {\n",
       "        text-align: right;\n",
       "    }\n",
       "</style>\n",
       "<table border=\"1\" class=\"dataframe\">\n",
       "  <thead>\n",
       "    <tr style=\"text-align: right;\">\n",
       "      <th></th>\n",
       "      <th>TIMESTAMP</th>\n",
       "      <th>LINE</th>\n",
       "      <th>PRODUCT_CODE</th>\n",
       "      <th>X_1</th>\n",
       "      <th>X_2</th>\n",
       "      <th>X_3</th>\n",
       "      <th>X_4</th>\n",
       "      <th>X_5</th>\n",
       "      <th>X_6</th>\n",
       "      <th>X_7</th>\n",
       "      <th>...</th>\n",
       "      <th>X_2866</th>\n",
       "      <th>X_2867</th>\n",
       "      <th>X_2868</th>\n",
       "      <th>X_2869</th>\n",
       "      <th>X_2870</th>\n",
       "      <th>X_2871</th>\n",
       "      <th>X_2872</th>\n",
       "      <th>X_2873</th>\n",
       "      <th>X_2874</th>\n",
       "      <th>X_2875</th>\n",
       "    </tr>\n",
       "  </thead>\n",
       "  <tbody>\n",
       "    <tr>\n",
       "      <th>0</th>\n",
       "      <td>9</td>\n",
       "      <td>T100306</td>\n",
       "      <td>T_31</td>\n",
       "      <td>2.0</td>\n",
       "      <td>94.0</td>\n",
       "      <td>0.0</td>\n",
       "      <td>45.0</td>\n",
       "      <td>10.0</td>\n",
       "      <td>0.0</td>\n",
       "      <td>51.0</td>\n",
       "      <td>...</td>\n",
       "      <td>NaN</td>\n",
       "      <td>NaN</td>\n",
       "      <td>NaN</td>\n",
       "      <td>NaN</td>\n",
       "      <td>NaN</td>\n",
       "      <td>NaN</td>\n",
       "      <td>NaN</td>\n",
       "      <td>NaN</td>\n",
       "      <td>NaN</td>\n",
       "      <td>NaN</td>\n",
       "    </tr>\n",
       "    <tr>\n",
       "      <th>1</th>\n",
       "      <td>9</td>\n",
       "      <td>T100304</td>\n",
       "      <td>T_31</td>\n",
       "      <td>2.0</td>\n",
       "      <td>93.0</td>\n",
       "      <td>0.0</td>\n",
       "      <td>45.0</td>\n",
       "      <td>11.0</td>\n",
       "      <td>0.0</td>\n",
       "      <td>45.0</td>\n",
       "      <td>...</td>\n",
       "      <td>NaN</td>\n",
       "      <td>NaN</td>\n",
       "      <td>NaN</td>\n",
       "      <td>NaN</td>\n",
       "      <td>NaN</td>\n",
       "      <td>NaN</td>\n",
       "      <td>NaN</td>\n",
       "      <td>NaN</td>\n",
       "      <td>NaN</td>\n",
       "      <td>NaN</td>\n",
       "    </tr>\n",
       "    <tr>\n",
       "      <th>2</th>\n",
       "      <td>9</td>\n",
       "      <td>T100304</td>\n",
       "      <td>T_31</td>\n",
       "      <td>2.0</td>\n",
       "      <td>95.0</td>\n",
       "      <td>0.0</td>\n",
       "      <td>45.0</td>\n",
       "      <td>11.0</td>\n",
       "      <td>0.0</td>\n",
       "      <td>45.0</td>\n",
       "      <td>...</td>\n",
       "      <td>NaN</td>\n",
       "      <td>NaN</td>\n",
       "      <td>NaN</td>\n",
       "      <td>NaN</td>\n",
       "      <td>NaN</td>\n",
       "      <td>NaN</td>\n",
       "      <td>NaN</td>\n",
       "      <td>NaN</td>\n",
       "      <td>NaN</td>\n",
       "      <td>NaN</td>\n",
       "    </tr>\n",
       "    <tr>\n",
       "      <th>3</th>\n",
       "      <td>9</td>\n",
       "      <td>T010305</td>\n",
       "      <td>A_31</td>\n",
       "      <td>NaN</td>\n",
       "      <td>NaN</td>\n",
       "      <td>NaN</td>\n",
       "      <td>NaN</td>\n",
       "      <td>NaN</td>\n",
       "      <td>NaN</td>\n",
       "      <td>NaN</td>\n",
       "      <td>...</td>\n",
       "      <td>NaN</td>\n",
       "      <td>NaN</td>\n",
       "      <td>NaN</td>\n",
       "      <td>NaN</td>\n",
       "      <td>NaN</td>\n",
       "      <td>NaN</td>\n",
       "      <td>NaN</td>\n",
       "      <td>NaN</td>\n",
       "      <td>NaN</td>\n",
       "      <td>NaN</td>\n",
       "    </tr>\n",
       "    <tr>\n",
       "      <th>4</th>\n",
       "      <td>9</td>\n",
       "      <td>T010306</td>\n",
       "      <td>A_31</td>\n",
       "      <td>NaN</td>\n",
       "      <td>NaN</td>\n",
       "      <td>NaN</td>\n",
       "      <td>NaN</td>\n",
       "      <td>NaN</td>\n",
       "      <td>NaN</td>\n",
       "      <td>NaN</td>\n",
       "      <td>...</td>\n",
       "      <td>NaN</td>\n",
       "      <td>NaN</td>\n",
       "      <td>NaN</td>\n",
       "      <td>NaN</td>\n",
       "      <td>NaN</td>\n",
       "      <td>NaN</td>\n",
       "      <td>NaN</td>\n",
       "      <td>NaN</td>\n",
       "      <td>NaN</td>\n",
       "      <td>NaN</td>\n",
       "    </tr>\n",
       "  </tbody>\n",
       "</table>\n",
       "<p>5 rows × 2878 columns</p>\n",
       "</div>"
      ],
      "text/plain": [
       "   TIMESTAMP     LINE PRODUCT_CODE  X_1   X_2  X_3   X_4   X_5  X_6   X_7  \\\n",
       "0          9  T100306         T_31  2.0  94.0  0.0  45.0  10.0  0.0  51.0   \n",
       "1          9  T100304         T_31  2.0  93.0  0.0  45.0  11.0  0.0  45.0   \n",
       "2          9  T100304         T_31  2.0  95.0  0.0  45.0  11.0  0.0  45.0   \n",
       "3          9  T010305         A_31  NaN   NaN  NaN   NaN   NaN  NaN   NaN   \n",
       "4          9  T010306         A_31  NaN   NaN  NaN   NaN   NaN  NaN   NaN   \n",
       "\n",
       "   ...  X_2866  X_2867  X_2868  X_2869  X_2870  X_2871  X_2872  X_2873  \\\n",
       "0  ...     NaN     NaN     NaN     NaN     NaN     NaN     NaN     NaN   \n",
       "1  ...     NaN     NaN     NaN     NaN     NaN     NaN     NaN     NaN   \n",
       "2  ...     NaN     NaN     NaN     NaN     NaN     NaN     NaN     NaN   \n",
       "3  ...     NaN     NaN     NaN     NaN     NaN     NaN     NaN     NaN   \n",
       "4  ...     NaN     NaN     NaN     NaN     NaN     NaN     NaN     NaN   \n",
       "\n",
       "   X_2874  X_2875  \n",
       "0     NaN     NaN  \n",
       "1     NaN     NaN  \n",
       "2     NaN     NaN  \n",
       "3     NaN     NaN  \n",
       "4     NaN     NaN  \n",
       "\n",
       "[5 rows x 2878 columns]"
      ]
     },
     "execution_count": 89,
     "metadata": {},
     "output_type": "execute_result"
    }
   ],
   "source": [
    "test = test[test.columns[1:]]\n",
    "\n",
    "test['TIMESTAMP'] = pd.to_datetime(test['TIMESTAMP']).dt.strftime('%m').astype('int64')\n",
    "test['LINE'] = test['LINE'].astype('category')\n",
    "test['PRODUCT_CODE'] = test['PRODUCT_CODE'].astype('category')\n",
    "\n",
    "test.head()"
   ]
  },
  {
   "cell_type": "markdown",
   "id": "0927289e",
   "metadata": {},
   "source": [
    "### Optuna"
   ]
  },
  {
   "cell_type": "code",
   "execution_count": 92,
   "id": "84f13c23",
   "metadata": {},
   "outputs": [],
   "source": [
    "kfold = StratifiedKFold(n_splits=5, shuffle=True)\n",
    "\n",
    "def lgbm_objective(trial):\n",
    "\n",
    "    params = {\n",
    "            \"objective\": \"regression\",\n",
    "            \"n_jobs\": 4,\n",
    "            \"max_depth\": trial.suggest_int(\"max_depth\", 4, 512),\n",
    "            'num_leaves': trial.suggest_int('num_leaves', 2, 1024, step=1, log=True), \n",
    "            \"learning_rate\": trial.suggest_uniform('learning_rate', 0.0001, 0.99),\n",
    "            'n_estimators': trial.suggest_int(\"n_estimators\", 100, 3000, step=100),\n",
    "            \"colsample_bytree\": trial.suggest_float(\"colsample_bytree\", 0.5, 1.0),\n",
    "            \"colsample_bynode\": trial.suggest_float(\"colsample_bynode\", 0.5, 1.0),\n",
    "            \"reg_lambda\": trial.suggest_loguniform(\"reg_lambda\", 1e-2, 1),\n",
    "            \"reg_alpha\": trial.suggest_loguniform(\"reg_alpha\", 1e-2, 1), \n",
    "            'min_child_weight': trial.suggest_int('min_child_weight', 2, 15),\n",
    "            'min_child_samples': trial.suggest_int('min_child_samples', 5, 100),\n",
    "        }\n",
    "\n",
    "    reg = lightgbm.LGBMRegressor(**params)\n",
    "    \n",
    "    f1_list = []\n",
    "    for fold, (train_index, val_index) in enumerate(kfold.split(x_train, y_class)):\n",
    "        x_trn, x_val, y_trn, y_val = x_train.loc[train_index], x_train.loc[val_index], y_quality.loc[train_index], y_quality.loc[val_index]\n",
    "        y_cls_val = y_class.loc[val_index]\n",
    "        reg.fit(x_trn, y_trn)\n",
    "        pred_quality = reg.predict(x_val)\n",
    "        \n",
    "        pred_class = []\n",
    "        for q in pred_quality:\n",
    "            if q >= 0.5349: pred_class.append(2)\n",
    "            elif q <= 0.525075: pred_class.append(0)\n",
    "            else: pred_class.append(1)\n",
    "\n",
    "        f1_list.append(f1_score(pred_class, y_cls_val, average='micro'))    \n",
    "    \n",
    "    return np.mean(f1_list)"
   ]
  },
  {
   "cell_type": "code",
   "execution_count": 93,
   "id": "e752884f",
   "metadata": {
    "scrolled": true
   },
   "outputs": [
    {
     "name": "stderr",
     "output_type": "stream",
     "text": [
      "\u001b[32m[I 2023-02-04 22:38:17,627]\u001b[0m A new study created in memory with name: no-name-0575126c-6433-443d-b853-92d618fe98a3\u001b[0m\n"
     ]
    },
    {
     "data": {
      "application/json": {
       "ascii": false,
       "bar_format": null,
       "colour": null,
       "elapsed": 0.012003421783447266,
       "initial": 0,
       "n": 0,
       "ncols": null,
       "nrows": null,
       "postfix": null,
       "prefix": "",
       "rate": null,
       "total": 200,
       "unit": "it",
       "unit_divisor": 1000,
       "unit_scale": false
      },
      "application/vnd.jupyter.widget-view+json": {
       "model_id": "2e840b7a89954df29fba05a564ff23cb",
       "version_major": 2,
       "version_minor": 0
      },
      "text/plain": [
       "  0%|          | 0/200 [00:00<?, ?it/s]"
      ]
     },
     "metadata": {},
     "output_type": "display_data"
    },
    {
     "name": "stdout",
     "output_type": "stream",
     "text": [
      "\u001b[32m[I 2023-02-04 22:38:17,792]\u001b[0m Trial 0 finished with value: 0.8421848739495799 and parameters: {'max_depth': 504, 'num_leaves': 16, 'learning_rate': 0.576778281282827, 'n_estimators': 2100, 'colsample_bytree': 0.6553098090617446, 'colsample_bynode': 0.9885479826752132, 'reg_lambda': 0.948164454823287, 'reg_alpha': 0.08005304654619509, 'min_child_weight': 15, 'min_child_samples': 85}. Best is trial 0 with value: 0.8421848739495799.\u001b[0m\n",
      "\u001b[32m[I 2023-02-04 22:38:17,942]\u001b[0m Trial 1 finished with value: 0.8421848739495799 and parameters: {'max_depth': 441, 'num_leaves': 43, 'learning_rate': 0.7915573289436528, 'n_estimators': 2000, 'colsample_bytree': 0.7214754139812605, 'colsample_bynode': 0.5107524164905449, 'reg_lambda': 0.5875642110900025, 'reg_alpha': 0.033709068744678404, 'min_child_weight': 6, 'min_child_samples': 76}. Best is trial 0 with value: 0.8421848739495799.\u001b[0m\n",
      "\u001b[32m[I 2023-02-04 22:38:18,294]\u001b[0m Trial 2 finished with value: 0.8421848739495799 and parameters: {'max_depth': 486, 'num_leaves': 357, 'learning_rate': 0.805866620879124, 'n_estimators': 600, 'colsample_bytree': 0.9892617562284898, 'colsample_bynode': 0.8946894508845062, 'reg_lambda': 0.016914734741976217, 'reg_alpha': 0.062461587447588916, 'min_child_weight': 12, 'min_child_samples': 58}. Best is trial 0 with value: 0.8421848739495799.\u001b[0m\n",
      "\u001b[32m[I 2023-02-04 22:38:19,740]\u001b[0m Trial 3 finished with value: 0.8421848739495799 and parameters: {'max_depth': 34, 'num_leaves': 69, 'learning_rate': 0.8617819396622197, 'n_estimators': 2900, 'colsample_bytree': 0.9223685036433795, 'colsample_bynode': 0.5436053905172895, 'reg_lambda': 0.07357590559886479, 'reg_alpha': 0.546601847884356, 'min_child_weight': 13, 'min_child_samples': 10}. Best is trial 0 with value: 0.8421848739495799.\u001b[0m\n",
      "\u001b[32m[I 2023-02-04 22:38:20,410]\u001b[0m Trial 4 finished with value: 0.7658823529411765 and parameters: {'max_depth': 127, 'num_leaves': 34, 'learning_rate': 0.9008685550918687, 'n_estimators': 1200, 'colsample_bytree': 0.9881790353058939, 'colsample_bynode': 0.6649303413573074, 'reg_lambda': 0.17551497003214334, 'reg_alpha': 0.01451209463803034, 'min_child_weight': 6, 'min_child_samples': 8}. Best is trial 0 with value: 0.8421848739495799.\u001b[0m\n",
      "\u001b[32m[I 2023-02-04 22:38:20,700]\u001b[0m Trial 5 finished with value: 0.7895798319327731 and parameters: {'max_depth': 471, 'num_leaves': 273, 'learning_rate': 0.5453631222326986, 'n_estimators': 500, 'colsample_bytree': 0.7753404440953325, 'colsample_bynode': 0.9314680081888078, 'reg_lambda': 0.31417209327402457, 'reg_alpha': 0.013220875490327279, 'min_child_weight': 6, 'min_child_samples': 64}. Best is trial 0 with value: 0.8421848739495799.\u001b[0m\n",
      "\u001b[32m[I 2023-02-04 22:38:21,100]\u001b[0m Trial 6 finished with value: 0.8421848739495799 and parameters: {'max_depth': 92, 'num_leaves': 7, 'learning_rate': 0.5106996621497683, 'n_estimators': 1300, 'colsample_bytree': 0.6931240680900301, 'colsample_bynode': 0.5882479707488433, 'reg_lambda': 0.020699106498190106, 'reg_alpha': 0.359226540912758, 'min_child_weight': 3, 'min_child_samples': 61}. Best is trial 0 with value: 0.8421848739495799.\u001b[0m\n",
      "\u001b[32m[I 2023-02-04 22:38:21,191]\u001b[0m Trial 7 finished with value: 0.8421848739495799 and parameters: {'max_depth': 485, 'num_leaves': 575, 'learning_rate': 0.7958235186881363, 'n_estimators': 200, 'colsample_bytree': 0.5363134332367081, 'colsample_bynode': 0.7601687452232226, 'reg_lambda': 0.010790528041856514, 'reg_alpha': 0.0829881015612243, 'min_child_weight': 13, 'min_child_samples': 80}. Best is trial 0 with value: 0.8421848739495799.\u001b[0m\n",
      "\u001b[32m[I 2023-02-04 22:38:22,015]\u001b[0m Trial 8 finished with value: 0.8421848739495799 and parameters: {'max_depth': 403, 'num_leaves': 180, 'learning_rate': 0.3954642673214271, 'n_estimators': 1900, 'colsample_bytree': 0.9805819524573522, 'colsample_bynode': 0.8152428318879279, 'reg_lambda': 0.2019405097464891, 'reg_alpha': 0.23960904198947847, 'min_child_weight': 7, 'min_child_samples': 39}. Best is trial 0 with value: 0.8421848739495799.\u001b[0m\n",
      "\u001b[32m[I 2023-02-04 22:38:22,194]\u001b[0m Trial 9 finished with value: 0.8421848739495799 and parameters: {'max_depth': 463, 'num_leaves': 2, 'learning_rate': 0.8566001776081236, 'n_estimators': 2900, 'colsample_bytree': 0.7112598759854618, 'colsample_bynode': 0.9108718975052703, 'reg_lambda': 0.7542248016965017, 'reg_alpha': 0.014510110381982383, 'min_child_weight': 8, 'min_child_samples': 78}. Best is trial 0 with value: 0.8421848739495799.\u001b[0m\n",
      "\u001b[32m[I 2023-02-04 22:38:22,360]\u001b[0m Trial 10 finished with value: 0.8421848739495799 and parameters: {'max_depth': 302, 'num_leaves': 10, 'learning_rate': 0.006080654162136989, 'n_estimators': 2300, 'colsample_bytree': 0.5470918296046601, 'colsample_bynode': 0.8238671665764928, 'reg_lambda': 0.045958948427845266, 'reg_alpha': 0.16201413785146335, 'min_child_weight': 15, 'min_child_samples': 98}. Best is trial 0 with value: 0.8421848739495799.\u001b[0m\n",
      "\u001b[32m[I 2023-02-04 22:38:22,527]\u001b[0m Trial 11 finished with value: 0.8421848739495799 and parameters: {'max_depth': 336, 'num_leaves': 25, 'learning_rate': 0.6069547491174779, 'n_estimators': 2100, 'colsample_bytree': 0.630517562282579, 'colsample_bynode': 0.6593749884153852, 'reg_lambda': 0.8600924896804193, 'reg_alpha': 0.03851229580354374, 'min_child_weight': 2, 'min_child_samples': 88}. Best is trial 0 with value: 0.8421848739495799.\u001b[0m\n",
      "\u001b[32m[I 2023-02-04 22:38:23,273]\u001b[0m Trial 12 finished with value: 0.8421848739495799 and parameters: {'max_depth': 240, 'num_leaves': 91, 'learning_rate': 0.2837228160868009, 'n_estimators': 1700, 'colsample_bytree': 0.8232670576790148, 'colsample_bynode': 0.971352769425049, 'reg_lambda': 0.42008623513807186, 'reg_alpha': 0.03980610693659691, 'min_child_weight': 10, 'min_child_samples': 38}. Best is trial 0 with value: 0.8421848739495799.\u001b[0m\n",
      "\u001b[32m[I 2023-02-04 22:38:23,432]\u001b[0m Trial 13 finished with value: 0.8421848739495799 and parameters: {'max_depth': 382, 'num_leaves': 14, 'learning_rate': 0.6574441468268781, 'n_estimators': 2300, 'colsample_bytree': 0.6319431493415271, 'colsample_bynode': 0.516060572503382, 'reg_lambda': 0.9377914182706617, 'reg_alpha': 0.03139244036997507, 'min_child_weight': 4, 'min_child_samples': 74}. Best is trial 0 with value: 0.8421848739495799.\u001b[0m\n",
      "\u001b[32m[I 2023-02-04 22:38:23,603]\u001b[0m Trial 14 finished with value: 0.8421848739495799 and parameters: {'max_depth': 211, 'num_leaves': 3, 'learning_rate': 0.7156570708850056, 'n_estimators': 2400, 'colsample_bytree': 0.8114098931575319, 'colsample_bynode': 0.6753354697097583, 'reg_lambda': 0.46894732315036847, 'reg_alpha': 0.1408884132981898, 'min_child_weight': 10, 'min_child_samples': 97}. Best is trial 0 with value: 0.8421848739495799.\u001b[0m\n",
      "\u001b[32m[I 2023-02-04 22:38:24,036]\u001b[0m Trial 15 finished with value: 0.8421848739495799 and parameters: {'max_depth': 423, 'num_leaves': 5, 'learning_rate': 0.2826497217165703, 'n_estimators': 1200, 'colsample_bytree': 0.6242167818391138, 'colsample_bynode': 0.9921428005537873, 'reg_lambda': 0.14502940249253968, 'reg_alpha': 0.9557282637309888, 'min_child_weight': 15, 'min_child_samples': 46}. Best is trial 0 with value: 0.8421848739495799.\u001b[0m\n",
      "\u001b[32m[I 2023-02-04 22:38:24,203]\u001b[0m Trial 16 finished with value: 0.8421848739495799 and parameters: {'max_depth': 512, 'num_leaves': 20, 'learning_rate': 0.9553433727772851, 'n_estimators': 2600, 'colsample_bytree': 0.8637721699064133, 'colsample_bynode': 0.5937526295611415, 'reg_lambda': 0.2955733983823283, 'reg_alpha': 0.0245534167626963, 'min_child_weight': 5, 'min_child_samples': 70}. Best is trial 0 with value: 0.8421848739495799.\u001b[0m\n",
      "\u001b[32m[I 2023-02-04 22:38:24,371]\u001b[0m Trial 17 finished with value: 0.8421848739495799 and parameters: {'max_depth': 208, 'num_leaves': 2, 'learning_rate': 0.7210304280147766, 'n_estimators': 2400, 'colsample_bytree': 0.7895865509867253, 'colsample_bynode': 0.7041518767366692, 'reg_lambda': 0.5069876757970555, 'reg_alpha': 0.13984809543858379, 'min_child_weight': 10, 'min_child_samples': 100}. Best is trial 0 with value: 0.8421848739495799.\u001b[0m\n",
      "\u001b[32m[I 2023-02-04 22:38:24,772]\u001b[0m Trial 18 finished with value: 0.8421848739495799 and parameters: {'max_depth': 380, 'num_leaves': 6, 'learning_rate': 0.21498602788308702, 'n_estimators': 1000, 'colsample_bytree': 0.6246200798441995, 'colsample_bynode': 0.9967923988907529, 'reg_lambda': 0.09298589520868236, 'reg_alpha': 0.9683409038838392, 'min_child_weight': 14, 'min_child_samples': 44}. Best is trial 0 with value: 0.8421848739495799.\u001b[0m\n"
     ]
    },
    {
     "name": "stdout",
     "output_type": "stream",
     "text": [
      "\u001b[32m[I 2023-02-04 22:38:25,941]\u001b[0m Trial 19 finished with value: 0.7892436974789916 and parameters: {'max_depth': 508, 'num_leaves': 17, 'learning_rate': 0.9468334785454181, 'n_estimators': 2700, 'colsample_bytree': 0.8833852666710584, 'colsample_bynode': 0.8395076815236691, 'reg_lambda': 0.3076694653731815, 'reg_alpha': 0.023408037085115397, 'min_child_weight': 4, 'min_child_samples': 28}. Best is trial 0 with value: 0.8421848739495799.\u001b[0m\n",
      "\u001b[32m[I 2023-02-04 22:38:26,081]\u001b[0m Trial 20 finished with value: 0.8421848739495799 and parameters: {'max_depth': 175, 'num_leaves': 2, 'learning_rate': 0.7032769867279728, 'n_estimators': 1700, 'colsample_bytree': 0.7606913522047037, 'colsample_bynode': 0.7341596372040377, 'reg_lambda': 0.5798520916525757, 'reg_alpha': 0.06629363506162048, 'min_child_weight': 11, 'min_child_samples': 88}. Best is trial 0 with value: 0.8421848739495799.\u001b[0m\n",
      "\u001b[32m[I 2023-02-04 22:38:26,198]\u001b[0m Trial 21 finished with value: 0.8421848739495799 and parameters: {'max_depth': 325, 'num_leaves': 3, 'learning_rate': 0.07515936959346833, 'n_estimators': 900, 'colsample_bytree': 0.5842400587232262, 'colsample_bynode': 0.9980877484601233, 'reg_lambda': 0.07392475142959457, 'reg_alpha': 0.8308110918145853, 'min_child_weight': 14, 'min_child_samples': 88}. Best is trial 0 with value: 0.8421848739495799.\u001b[0m\n",
      "\u001b[32m[I 2023-02-04 22:38:26,842]\u001b[0m Trial 22 finished with value: 0.8421848739495799 and parameters: {'max_depth': 284, 'num_leaves': 5, 'learning_rate': 0.3770336778595613, 'n_estimators': 1500, 'colsample_bytree': 0.6716181785158616, 'colsample_bynode': 0.7417811627985037, 'reg_lambda': 0.03832618742302088, 'reg_alpha': 0.26688417567020867, 'min_child_weight': 13, 'min_child_samples': 27}. Best is trial 0 with value: 0.8421848739495799.\u001b[0m\n",
      "\u001b[32m[I 2023-02-04 22:38:27,258]\u001b[0m Trial 23 finished with value: 0.8421848739495799 and parameters: {'max_depth': 173, 'num_leaves': 8, 'learning_rate': 0.1594269654583618, 'n_estimators': 900, 'colsample_bytree': 0.7525024470154767, 'colsample_bynode': 0.8640822412972787, 'reg_lambda': 0.1095473195021625, 'reg_alpha': 0.062127488414787206, 'min_child_weight': 11, 'min_child_samples': 49}. Best is trial 0 with value: 0.8421848739495799.\u001b[0m\n",
      "\u001b[32m[I 2023-02-04 22:38:27,397]\u001b[0m Trial 24 finished with value: 0.8421848739495799 and parameters: {'max_depth': 339, 'num_leaves': 3, 'learning_rate': 0.02548628047951461, 'n_estimators': 1600, 'colsample_bytree': 0.5831369101868026, 'colsample_bynode': 0.9469577537823686, 'reg_lambda': 0.05153810602606455, 'reg_alpha': 0.0795817720672232, 'min_child_weight': 15, 'min_child_samples': 85}. Best is trial 0 with value: 0.8421848739495799.\u001b[0m\n",
      "\u001b[32m[I 2023-02-04 22:38:27,946]\u001b[0m Trial 25 finished with value: 0.8421848739495799 and parameters: {'max_depth': 264, 'num_leaves': 4, 'learning_rate': 0.39363295609578036, 'n_estimators': 1400, 'colsample_bytree': 0.6755670072272681, 'colsample_bynode': 0.7701858641157294, 'reg_lambda': 0.033833287330830415, 'reg_alpha': 0.506202015682132, 'min_child_weight': 13, 'min_child_samples': 33}. Best is trial 0 with value: 0.8421848739495799.\u001b[0m\n",
      "\u001b[32m[I 2023-02-04 22:38:28,341]\u001b[0m Trial 26 finished with value: 0.8421848739495799 and parameters: {'max_depth': 148, 'num_leaves': 10, 'learning_rate': 0.4162158048533993, 'n_estimators': 800, 'colsample_bytree': 0.6751571502350481, 'colsample_bynode': 0.864496882058125, 'reg_lambda': 0.027492513720656055, 'reg_alpha': 0.2692986265363273, 'min_child_weight': 12, 'min_child_samples': 21}. Best is trial 0 with value: 0.8421848739495799.\u001b[0m\n",
      "\u001b[32m[I 2023-02-04 22:38:28,486]\u001b[0m Trial 27 finished with value: 0.8421848739495799 and parameters: {'max_depth': 53, 'num_leaves': 9, 'learning_rate': 0.16230282850695912, 'n_estimators': 1800, 'colsample_bytree': 0.5818990280058332, 'colsample_bynode': 0.9495409291698393, 'reg_lambda': 0.06373110818640337, 'reg_alpha': 0.05626727215590119, 'min_child_weight': 15, 'min_child_samples': 69}. Best is trial 0 with value: 0.8421848739495799.\u001b[0m\n",
      "\u001b[32m[I 2023-02-04 22:38:28,618]\u001b[0m Trial 28 finished with value: 0.8421848739495799 and parameters: {'max_depth': 358, 'num_leaves': 4, 'learning_rate': 0.47142845452948356, 'n_estimators': 1500, 'colsample_bytree': 0.5181571348227407, 'colsample_bynode': 0.7743602700379549, 'reg_lambda': 0.041575129234079015, 'reg_alpha': 0.09133512643364018, 'min_child_weight': 14, 'min_child_samples': 84}. Best is trial 0 with value: 0.8421848739495799.\u001b[0m\n",
      "\u001b[32m[I 2023-02-04 22:38:28,950]\u001b[0m Trial 29 finished with value: 0.8421848739495799 and parameters: {'max_depth': 114, 'num_leaves': 61, 'learning_rate': 0.38035807133828714, 'n_estimators': 600, 'colsample_bytree': 0.6713976138669681, 'colsample_bynode': 0.8834721068194415, 'reg_lambda': 0.02529842378955351, 'reg_alpha': 0.49695763511008595, 'min_child_weight': 12, 'min_child_samples': 19}. Best is trial 0 with value: 0.8421848739495799.\u001b[0m\n",
      "\u001b[32m[I 2023-02-04 22:38:29,368]\u001b[0m Trial 30 finished with value: 0.8421848739495799 and parameters: {'max_depth': 29, 'num_leaves': 12, 'learning_rate': 0.14701882434022437, 'n_estimators': 2000, 'colsample_bytree': 0.5967691181330526, 'colsample_bynode': 0.9502706405368755, 'reg_lambda': 0.013227396898749263, 'reg_alpha': 0.18060238894516698, 'min_child_weight': 15, 'min_child_samples': 67}. Best is trial 0 with value: 0.8421848739495799.\u001b[0m\n",
      "\u001b[32m[I 2023-02-04 22:38:29,889]\u001b[0m Trial 31 finished with value: 0.8421848739495799 and parameters: {'max_depth': 79, 'num_leaves': 34, 'learning_rate': 0.4513758472243203, 'n_estimators': 1800, 'colsample_bytree': 0.5064733939087346, 'colsample_bynode': 0.8578644248437443, 'reg_lambda': 0.02818039970110796, 'reg_alpha': 0.10698051918866817, 'min_child_weight': 14, 'min_child_samples': 55}. Best is trial 0 with value: 0.8421848739495799.\u001b[0m\n",
      "\u001b[32m[I 2023-02-04 22:38:29,982]\u001b[0m Trial 32 finished with value: 0.8421848739495799 and parameters: {'max_depth': 8, 'num_leaves': 49, 'learning_rate': 0.5767919155785016, 'n_estimators': 200, 'colsample_bytree': 0.5389440483515369, 'colsample_bynode': 0.9033522182703168, 'reg_lambda': 0.05738393857098798, 'reg_alpha': 0.04861451523748552, 'min_child_weight': 14, 'min_child_samples': 75}. Best is trial 0 with value: 0.8421848739495799.\u001b[0m\n",
      "\u001b[32m[I 2023-02-04 22:38:30,469]\u001b[0m Trial 33 finished with value: 0.8421848739495799 and parameters: {'max_depth': 100, 'num_leaves': 114, 'learning_rate': 0.31685761169072746, 'n_estimators': 2100, 'colsample_bytree': 0.5070030122634157, 'colsample_bynode': 0.8976639297946167, 'reg_lambda': 0.010908425981809302, 'reg_alpha': 0.10445021837237876, 'min_child_weight': 12, 'min_child_samples': 65}. Best is trial 0 with value: 0.8421848739495799.\u001b[0m\n",
      "\u001b[32m[I 2023-02-04 22:38:31,091]\u001b[0m Trial 34 finished with value: 0.8421848739495799 and parameters: {'max_depth': 69, 'num_leaves': 34, 'learning_rate': 0.47078291366504726, 'n_estimators': 2000, 'colsample_bytree': 0.7213215980875455, 'colsample_bynode': 0.8727029046398065, 'reg_lambda': 0.01561916797784922, 'reg_alpha': 0.1676959845373167, 'min_child_weight': 12, 'min_child_samples': 55}. Best is trial 0 with value: 0.8421848739495799.\u001b[0m\n",
      "\u001b[32m[I 2023-02-04 22:38:31,668]\u001b[0m Trial 35 finished with value: 0.8421848739495799 and parameters: {'max_depth': 12, 'num_leaves': 49, 'learning_rate': 0.5643003617180633, 'n_estimators': 1900, 'colsample_bytree': 0.5654939453209076, 'colsample_bynode': 0.9219029086031427, 'reg_lambda': 0.016090988190526876, 'reg_alpha': 0.04411713546167232, 'min_child_weight': 14, 'min_child_samples': 57}. Best is trial 0 with value: 0.8421848739495799.\u001b[0m\n",
      "\u001b[32m[I 2023-02-04 22:38:31,788]\u001b[0m Trial 36 finished with value: 0.8421848739495799 and parameters: {'max_depth': 284, 'num_leaves': 2, 'learning_rate': 0.6489129362166584, 'n_estimators': 1100, 'colsample_bytree': 0.7515435151675354, 'colsample_bynode': 0.7286014903179698, 'reg_lambda': 0.628378627183272, 'reg_alpha': 0.6306364036403102, 'min_child_weight': 11, 'min_child_samples': 89}. Best is trial 0 with value: 0.8421848739495799.\u001b[0m\n",
      "\u001b[32m[I 2023-02-04 22:38:32,119]\u001b[0m Trial 37 finished with value: 0.8421848739495799 and parameters: {'max_depth': 169, 'num_leaves': 8, 'learning_rate': 0.0871317925853266, 'n_estimators': 800, 'colsample_bytree': 0.6581604876641877, 'colsample_bynode': 0.7973368258868156, 'reg_lambda': 0.08738930895504081, 'reg_alpha': 0.31289096524936305, 'min_child_weight': 13, 'min_child_samples': 49}. Best is trial 0 with value: 0.8421848739495799.\u001b[0m\n"
     ]
    },
    {
     "name": "stdout",
     "output_type": "stream",
     "text": [
      "\u001b[32m[I 2023-02-04 22:38:32,601]\u001b[0m Trial 38 finished with value: 0.8421848739495799 and parameters: {'max_depth': 307, 'num_leaves': 3, 'learning_rate': 0.10125094966194144, 'n_estimators': 900, 'colsample_bytree': 0.704090105143435, 'colsample_bynode': 0.9732802881905774, 'reg_lambda': 0.11966662438559758, 'reg_alpha': 0.40722477971632665, 'min_child_weight': 9, 'min_child_samples': 14}. Best is trial 0 with value: 0.8421848739495799.\u001b[0m\n",
      "\u001b[32m[I 2023-02-04 22:38:32,854]\u001b[0m Trial 39 finished with value: 0.8421848739495799 and parameters: {'max_depth': 230, 'num_leaves': 5, 'learning_rate': 0.22282037152918124, 'n_estimators': 400, 'colsample_bytree': 0.7321006454891067, 'colsample_bynode': 0.8040242541390056, 'reg_lambda': 0.2352791821563148, 'reg_alpha': 0.7078813943831049, 'min_child_weight': 11, 'min_child_samples': 28}. Best is trial 0 with value: 0.8421848739495799.\u001b[0m\n",
      "\u001b[32m[I 2023-02-04 22:38:33,895]\u001b[0m Trial 40 finished with value: 0.8421848739495799 and parameters: {'max_depth': 446, 'num_leaves': 999, 'learning_rate': 0.04467153092806203, 'n_estimators': 1500, 'colsample_bytree': 0.6021096433802859, 'colsample_bynode': 0.9412135410388188, 'reg_lambda': 0.04218488720633221, 'reg_alpha': 0.06624861871952728, 'min_child_weight': 13, 'min_child_samples': 6}. Best is trial 0 with value: 0.8421848739495799.\u001b[0m\n",
      "\u001b[32m[I 2023-02-04 22:38:34,437]\u001b[0m Trial 41 finished with value: 0.8421848739495799 and parameters: {'max_depth': 275, 'num_leaves': 6, 'learning_rate': 0.33215030839974324, 'n_estimators': 1400, 'colsample_bytree': 0.6516334840323584, 'colsample_bynode': 0.7679264429789385, 'reg_lambda': 0.033649711181797756, 'reg_alpha': 0.22876272511307533, 'min_child_weight': 13, 'min_child_samples': 31}. Best is trial 0 with value: 0.8421848739495799.\u001b[0m\n",
      "\u001b[32m[I 2023-02-04 22:38:34,801]\u001b[0m Trial 42 finished with value: 0.8421848739495799 and parameters: {'max_depth': 155, 'num_leaves': 12, 'learning_rate': 0.5239377960876476, 'n_estimators': 700, 'colsample_bytree': 0.6891788154678217, 'colsample_bynode': 0.8538435807381398, 'reg_lambda': 0.023984952862425135, 'reg_alpha': 0.07668788376790282, 'min_child_weight': 12, 'min_child_samples': 22}. Best is trial 0 with value: 0.8421848739495799.\u001b[0m\n",
      "\u001b[32m[I 2023-02-04 22:38:35,040]\u001b[0m Trial 43 finished with value: 0.8421848739495799 and parameters: {'max_depth': 189, 'num_leaves': 23, 'learning_rate': 0.011200118279201282, 'n_estimators': 400, 'colsample_bytree': 0.6869589344489961, 'colsample_bynode': 0.9620551771255097, 'reg_lambda': 0.05528674909371049, 'reg_alpha': 0.1253477798873359, 'min_child_weight': 15, 'min_child_samples': 36}. Best is trial 0 with value: 0.8421848739495799.\u001b[0m\n",
      "\u001b[32m[I 2023-02-04 22:38:35,178]\u001b[0m Trial 44 finished with value: 0.8421848739495799 and parameters: {'max_depth': 50, 'num_leaves': 4, 'learning_rate': 0.41236694307826194, 'n_estimators': 1700, 'colsample_bytree': 0.5698775753555151, 'colsample_bynode': 0.9282876004729922, 'reg_lambda': 0.05404312379476918, 'reg_alpha': 0.3898675594443005, 'min_child_weight': 15, 'min_child_samples': 94}. Best is trial 0 with value: 0.8421848739495799.\u001b[0m\n",
      "\u001b[32m[I 2023-02-04 22:38:35,307]\u001b[0m Trial 45 finished with value: 0.8421848739495799 and parameters: {'max_depth': 253, 'num_leaves': 8, 'learning_rate': 0.2172080042020585, 'n_estimators': 1300, 'colsample_bytree': 0.6053003318200342, 'colsample_bynode': 0.9417931706864457, 'reg_lambda': 0.02030191169683602, 'reg_alpha': 0.010427799562675083, 'min_child_weight': 15, 'min_child_samples': 82}. Best is trial 0 with value: 0.8421848739495799.\u001b[0m\n",
      "\u001b[32m[I 2023-02-04 22:38:35,464]\u001b[0m Trial 46 finished with value: 0.8421848739495799 and parameters: {'max_depth': 138, 'num_leaves': 10, 'learning_rate': 0.44113400842497774, 'n_estimators': 2200, 'colsample_bytree': 0.5281072685239524, 'colsample_bynode': 0.7726091411664849, 'reg_lambda': 0.032241895397015746, 'reg_alpha': 0.04994585770655467, 'min_child_weight': 14, 'min_child_samples': 71}. Best is trial 0 with value: 0.8421848739495799.\u001b[0m\n",
      "\u001b[32m[I 2023-02-04 22:38:36,136]\u001b[0m Trial 47 finished with value: 0.8421848739495799 and parameters: {'max_depth': 379, 'num_leaves': 16, 'learning_rate': 0.5000814423429002, 'n_estimators': 1300, 'colsample_bytree': 0.6397338797089476, 'colsample_bynode': 0.7881321591884372, 'reg_lambda': 0.06845124427532022, 'reg_alpha': 0.47338338489332166, 'min_child_weight': 14, 'min_child_samples': 13}. Best is trial 0 with value: 0.8421848739495799.\u001b[0m\n",
      "\u001b[32m[I 2023-02-04 22:38:36,464]\u001b[0m Trial 48 finished with value: 0.8421848739495799 and parameters: {'max_depth': 113, 'num_leaves': 86, 'learning_rate': 0.3292056956816511, 'n_estimators': 600, 'colsample_bytree': 0.5255987394079836, 'colsample_bynode': 0.8777596057676471, 'reg_lambda': 0.023316825183563275, 'reg_alpha': 0.2042420229704129, 'min_child_weight': 12, 'min_child_samples': 19}. Best is trial 0 with value: 0.8421848739495799.\u001b[0m\n",
      "\u001b[32m[I 2023-02-04 22:38:36,559]\u001b[0m Trial 49 finished with value: 0.8421848739495799 and parameters: {'max_depth': 133, 'num_leaves': 25, 'learning_rate': 0.6018214238499499, 'n_estimators': 400, 'colsample_bytree': 0.5551933509197691, 'colsample_bynode': 0.822640509754326, 'reg_lambda': 0.01941896424897462, 'reg_alpha': 0.08963303651547852, 'min_child_weight': 8, 'min_child_samples': 93}. Best is trial 0 with value: 0.8421848739495799.\u001b[0m\n",
      "\u001b[32m[I 2023-02-04 22:38:37,234]\u001b[0m Trial 50 finished with value: 0.8421848739495799 and parameters: {'max_depth': 49, 'num_leaves': 160, 'learning_rate': 0.14101170490719367, 'n_estimators': 1900, 'colsample_bytree': 0.6053441684344327, 'colsample_bynode': 0.968744166900091, 'reg_lambda': 0.012919112885782165, 'reg_alpha': 0.031707792284543714, 'min_child_weight': 15, 'min_child_samples': 63}. Best is trial 0 with value: 0.8421848739495799.\u001b[0m\n",
      "\u001b[32m[I 2023-02-04 22:38:37,538]\u001b[0m Trial 51 finished with value: 0.8421848739495799 and parameters: {'max_depth': 76, 'num_leaves': 31, 'learning_rate': 0.4580399916437367, 'n_estimators': 1800, 'colsample_bytree': 0.5041172530864312, 'colsample_bynode': 0.8953582039569551, 'reg_lambda': 0.02596412836138267, 'reg_alpha': 0.10598308315049162, 'min_child_weight': 14, 'min_child_samples': 68}. Best is trial 0 with value: 0.8421848739495799.\u001b[0m\n",
      "\u001b[32m[I 2023-02-04 22:38:37,627]\u001b[0m Trial 52 finished with value: 0.8421848739495799 and parameters: {'max_depth': 24, 'num_leaves': 57, 'learning_rate': 0.5486002662458495, 'n_estimators': 200, 'colsample_bytree': 0.5379403830598075, 'colsample_bynode': 0.9130013541774262, 'reg_lambda': 0.040745987999601566, 'reg_alpha': 0.1774715857901005, 'min_child_weight': 14, 'min_child_samples': 75}. Best is trial 0 with value: 0.8421848739495799.\u001b[0m\n",
      "\u001b[32m[I 2023-02-04 22:38:37,716]\u001b[0m Trial 53 finished with value: 0.8421848739495799 and parameters: {'max_depth': 7, 'num_leaves': 39, 'learning_rate': 0.5787853846068962, 'n_estimators': 200, 'colsample_bytree': 0.5151842197582437, 'colsample_bynode': 0.8422067852513146, 'reg_lambda': 0.013698821648436381, 'reg_alpha': 0.11313066549122613, 'min_child_weight': 14, 'min_child_samples': 76}. Best is trial 0 with value: 0.8421848739495799.\u001b[0m\n",
      "\u001b[32m[I 2023-02-04 22:38:38,272]\u001b[0m Trial 54 finished with value: 0.8421848739495799 and parameters: {'max_depth': 100, 'num_leaves': 118, 'learning_rate': 0.3490355903228359, 'n_estimators': 2100, 'colsample_bytree': 0.5014047494024801, 'colsample_bynode': 0.9175222108887113, 'reg_lambda': 0.011086502918714748, 'reg_alpha': 0.12784005717915597, 'min_child_weight': 13, 'min_child_samples': 60}. Best is trial 0 with value: 0.8421848739495799.\u001b[0m\n",
      "\u001b[32m[I 2023-02-04 22:38:39,075]\u001b[0m Trial 55 finished with value: 0.8421848739495799 and parameters: {'max_depth': 84, 'num_leaves': 305, 'learning_rate': 0.2908883254235261, 'n_estimators': 2600, 'colsample_bytree': 0.5480478180857914, 'colsample_bynode': 0.8960820040993611, 'reg_lambda': 0.010107463141703858, 'reg_alpha': 0.023764545347951506, 'min_child_weight': 12, 'min_child_samples': 66}. Best is trial 0 with value: 0.8421848739495799.\u001b[0m\n",
      "\u001b[32m[I 2023-02-04 22:38:39,808]\u001b[0m Trial 56 finished with value: 0.8421848739495799 and parameters: {'max_depth': 73, 'num_leaves': 80, 'learning_rate': 0.6464092714892797, 'n_estimators': 2200, 'colsample_bytree': 0.7275696349882855, 'colsample_bynode': 0.9014900934096489, 'reg_lambda': 0.015961417812478704, 'reg_alpha': 0.16535951337930976, 'min_child_weight': 9, 'min_child_samples': 55}. Best is trial 0 with value: 0.8421848739495799.\u001b[0m\n"
     ]
    },
    {
     "name": "stdout",
     "output_type": "stream",
     "text": [
      "\u001b[32m[I 2023-02-04 22:38:40,415]\u001b[0m Trial 57 finished with value: 0.8421848739495799 and parameters: {'max_depth': 31, 'num_leaves': 34, 'learning_rate': 0.7571049070088058, 'n_estimators': 2000, 'colsample_bytree': 0.5556598955555061, 'colsample_bynode': 0.8784223863271733, 'reg_lambda': 0.012853479238191181, 'reg_alpha': 0.18338553047338663, 'min_child_weight': 7, 'min_child_samples': 52}. Best is trial 0 with value: 0.8421848739495799.\u001b[0m\n",
      "\u001b[32m[I 2023-02-04 22:38:41,004]\u001b[0m Trial 58 finished with value: 0.8421848739495799 and parameters: {'max_depth': 62, 'num_leaves': 43, 'learning_rate': 0.5413573453974395, 'n_estimators': 1900, 'colsample_bytree': 0.5618755684328388, 'colsample_bynode': 0.9243581247710139, 'reg_lambda': 0.016015131889263953, 'reg_alpha': 0.048068719785377745, 'min_child_weight': 14, 'min_child_samples': 57}. Best is trial 0 with value: 0.8421848739495799.\u001b[0m\n",
      "\u001b[32m[I 2023-02-04 22:38:41,782]\u001b[0m Trial 59 finished with value: 0.8421848739495799 and parameters: {'max_depth': 5, 'num_leaves': 54, 'learning_rate': 0.5642749366313964, 'n_estimators': 2400, 'colsample_bytree': 0.5357647979174761, 'colsample_bynode': 0.837494563216921, 'reg_lambda': 0.01632490291514158, 'reg_alpha': 0.040523650958299844, 'min_child_weight': 10, 'min_child_samples': 42}. Best is trial 0 with value: 0.8421848739495799.\u001b[0m\n",
      "\u001b[32m[I 2023-02-04 22:38:41,906]\u001b[0m Trial 60 finished with value: 0.8421848739495799 and parameters: {'max_depth': 418, 'num_leaves': 122, 'learning_rate': 0.6625482044690116, 'n_estimators': 1100, 'colsample_bytree': 0.7895648405360028, 'colsample_bynode': 0.6985764881257656, 'reg_lambda': 0.37845534500808187, 'reg_alpha': 0.01804469832681572, 'min_child_weight': 11, 'min_child_samples': 79}. Best is trial 0 with value: 0.8421848739495799.\u001b[0m\n",
      "\u001b[32m[I 2023-02-04 22:38:42,046]\u001b[0m Trial 61 finished with value: 0.8421848739495799 and parameters: {'max_depth': 100, 'num_leaves': 48, 'learning_rate': 0.6361214386773734, 'n_estimators': 100, 'colsample_bytree': 0.7436203264517829, 'colsample_bynode': 0.7241608987299281, 'reg_lambda': 0.6326366620572146, 'reg_alpha': 0.2948789030996379, 'min_child_weight': 13, 'min_child_samples': 49}. Best is trial 0 with value: 0.8421848739495799.\u001b[0m\n",
      "\u001b[32m[I 2023-02-04 22:38:42,368]\u001b[0m Trial 62 finished with value: 0.8421848739495799 and parameters: {'max_depth': 309, 'num_leaves': 2, 'learning_rate': 0.09794988041276426, 'n_estimators': 1000, 'colsample_bytree': 0.7084603231187125, 'colsample_bynode': 0.642557396252076, 'reg_lambda': 0.9728756138704641, 'reg_alpha': 0.6952583159779638, 'min_child_weight': 9, 'min_child_samples': 62}. Best is trial 0 with value: 0.8421848739495799.\u001b[0m\n",
      "\u001b[32m[I 2023-02-04 22:38:42,685]\u001b[0m Trial 63 finished with value: 0.8421848739495799 and parameters: {'max_depth': 293, 'num_leaves': 3, 'learning_rate': 0.8142229486159259, 'n_estimators': 800, 'colsample_bytree': 0.7075505128406363, 'colsample_bynode': 0.9717072179674767, 'reg_lambda': 0.7919091318920114, 'reg_alpha': 0.3495497830794803, 'min_child_weight': 11, 'min_child_samples': 51}. Best is trial 0 with value: 0.8421848739495799.\u001b[0m\n",
      "\u001b[32m[I 2023-02-04 22:38:43,236]\u001b[0m Trial 64 finished with value: 0.8421848739495799 and parameters: {'max_depth': 228, 'num_leaves': 5, 'learning_rate': 0.20406837876675268, 'n_estimators': 1100, 'colsample_bytree': 0.7310002822465893, 'colsample_bynode': 0.7485848302511138, 'reg_lambda': 0.1669373377085043, 'reg_alpha': 0.5930356226898701, 'min_child_weight': 11, 'min_child_samples': 16}. Best is trial 0 with value: 0.8421848739495799.\u001b[0m\n",
      "\u001b[32m[I 2023-02-04 22:38:43,498]\u001b[0m Trial 65 finished with value: 0.8421848739495799 and parameters: {'max_depth': 217, 'num_leaves': 20, 'learning_rate': 0.6939496623312251, 'n_estimators': 400, 'colsample_bytree': 0.6547763326595782, 'colsample_bynode': 0.8114635738412908, 'reg_lambda': 0.20712561358712825, 'reg_alpha': 0.4400250237022994, 'min_child_weight': 11, 'min_child_samples': 10}. Best is trial 0 with value: 0.8421848739495799.\u001b[0m\n",
      "\u001b[32m[I 2023-02-04 22:38:43,975]\u001b[0m Trial 66 finished with value: 0.8421848739495799 and parameters: {'max_depth': 479, 'num_leaves': 6, 'learning_rate': 0.05585096856339901, 'n_estimators': 900, 'colsample_bytree': 0.77156957524749, 'colsample_bynode': 0.9825451383733197, 'reg_lambda': 0.11505837010711052, 'reg_alpha': 0.6671570642411453, 'min_child_weight': 10, 'min_child_samples': 6}. Best is trial 0 with value: 0.8421848739495799.\u001b[0m\n",
      "\u001b[32m[I 2023-02-04 22:38:44,410]\u001b[0m Trial 67 finished with value: 0.8421848739495799 and parameters: {'max_depth': 450, 'num_leaves': 728, 'learning_rate': 0.10617352742896685, 'n_estimators': 500, 'colsample_bytree': 0.6177845275071557, 'colsample_bynode': 0.7888899083159547, 'reg_lambda': 0.671417786026574, 'reg_alpha': 0.7059746944754914, 'min_child_weight': 9, 'min_child_samples': 9}. Best is trial 0 with value: 0.8421848739495799.\u001b[0m\n",
      "\u001b[32m[I 2023-02-04 22:38:45,040]\u001b[0m Trial 68 finished with value: 0.8421848739495799 and parameters: {'max_depth': 265, 'num_leaves': 6, 'learning_rate': 0.2475895230914797, 'n_estimators': 1500, 'colsample_bytree': 0.6489209797818007, 'colsample_bynode': 0.8020872680922816, 'reg_lambda': 0.08950548544478729, 'reg_alpha': 0.32452413829374693, 'min_child_weight': 13, 'min_child_samples': 27}. Best is trial 0 with value: 0.8421848739495799.\u001b[0m\n",
      "\u001b[32m[I 2023-02-04 22:38:45,593]\u001b[0m Trial 69 finished with value: 0.8421848739495799 and parameters: {'max_depth': 496, 'num_leaves': 4, 'learning_rate': 0.11449044237475862, 'n_estimators': 1200, 'colsample_bytree': 0.7013946728725684, 'colsample_bynode': 0.7117986486116784, 'reg_lambda': 0.24135368724487535, 'reg_alpha': 0.23182925546517202, 'min_child_weight': 8, 'min_child_samples': 12}. Best is trial 0 with value: 0.8421848739495799.\u001b[0m\n",
      "\u001b[32m[I 2023-02-04 22:38:45,984]\u001b[0m Trial 70 finished with value: 0.8421848739495799 and parameters: {'max_depth': 162, 'num_leaves': 13, 'learning_rate': 0.061268245556397566, 'n_estimators': 700, 'colsample_bytree': 0.6589993405146343, 'colsample_bynode': 0.9849597957996828, 'reg_lambda': 0.12655403430245435, 'reg_alpha': 0.07287780251643165, 'min_child_weight': 13, 'min_child_samples': 31}. Best is trial 0 with value: 0.8421848739495799.\u001b[0m\n",
      "\u001b[32m[I 2023-02-04 22:38:46,148]\u001b[0m Trial 71 finished with value: 0.8421848739495799 and parameters: {'max_depth': 136, 'num_leaves': 17, 'learning_rate': 0.4956672333335007, 'n_estimators': 2200, 'colsample_bytree': 0.5275870461096407, 'colsample_bynode': 0.7864367784007553, 'reg_lambda': 0.020963077488099485, 'reg_alpha': 0.02791951791342824, 'min_child_weight': 15, 'min_child_samples': 82}. Best is trial 0 with value: 0.8421848739495799.\u001b[0m\n",
      "\u001b[32m[I 2023-02-04 22:38:46,239]\u001b[0m Trial 72 finished with value: 0.8421848739495799 and parameters: {'max_depth': 120, 'num_leaves': 209, 'learning_rate': 0.43279659414536076, 'n_estimators': 100, 'colsample_bytree': 0.5258444470629717, 'colsample_bynode': 0.8199845493895084, 'reg_lambda': 0.019614963146818244, 'reg_alpha': 0.08856781036933929, 'min_child_weight': 7, 'min_child_samples': 73}. Best is trial 0 with value: 0.8421848739495799.\u001b[0m\n",
      "\u001b[32m[I 2023-02-04 22:38:46,335]\u001b[0m Trial 73 finished with value: 0.8421848739495799 and parameters: {'max_depth': 47, 'num_leaves': 27, 'learning_rate': 0.6137066139391558, 'n_estimators': 300, 'colsample_bytree': 0.579126244800755, 'colsample_bynode': 0.8280195001180412, 'reg_lambda': 0.03264248095349971, 'reg_alpha': 0.05508199236019141, 'min_child_weight': 14, 'min_child_samples': 93}. Best is trial 0 with value: 0.8421848739495799.\u001b[0m\n",
      "\u001b[32m[I 2023-02-04 22:38:46,436]\u001b[0m Trial 74 finished with value: 0.8421848739495799 and parameters: {'max_depth': 19, 'num_leaves': 69, 'learning_rate': 0.5941322543117756, 'n_estimators': 300, 'colsample_bytree': 0.5477468663666542, 'colsample_bynode': 0.8870323480601487, 'reg_lambda': 0.013513826001230016, 'reg_alpha': 0.2036673976949517, 'min_child_weight': 8, 'min_child_samples': 73}. Best is trial 0 with value: 0.8421848739495799.\u001b[0m\n",
      "\u001b[32m[I 2023-02-04 22:38:46,529]\u001b[0m Trial 75 finished with value: 0.8421848739495799 and parameters: {'max_depth': 40, 'num_leaves': 196, 'learning_rate': 0.5302584419502178, 'n_estimators': 200, 'colsample_bytree': 0.50944715539251, 'colsample_bynode': 0.8479265696805464, 'reg_lambda': 0.023410026130233696, 'reg_alpha': 0.11414203512218668, 'min_child_weight': 14, 'min_child_samples': 76}. Best is trial 0 with value: 0.8421848739495799.\u001b[0m\n"
     ]
    },
    {
     "name": "stdout",
     "output_type": "stream",
     "text": [
      "\u001b[32m[I 2023-02-04 22:38:47,127]\u001b[0m Trial 76 finished with value: 0.8421848739495799 and parameters: {'max_depth': 95, 'num_leaves': 144, 'learning_rate': 0.34292028484074377, 'n_estimators': 1800, 'colsample_bytree': 0.5149717250818318, 'colsample_bynode': 0.9127127417269465, 'reg_lambda': 0.011590759267530601, 'reg_alpha': 0.13710977789991122, 'min_child_weight': 15, 'min_child_samples': 60}. Best is trial 0 with value: 0.8421848739495799.\u001b[0m\n",
      "\u001b[32m[I 2023-02-04 22:38:47,348]\u001b[0m Trial 77 finished with value: 0.8421848739495799 and parameters: {'max_depth': 58, 'num_leaves': 98, 'learning_rate': 0.4723712324269823, 'n_estimators': 500, 'colsample_bytree': 0.5451700323182564, 'colsample_bynode': 0.9542325044717859, 'reg_lambda': 0.018592375351398717, 'reg_alpha': 0.14412918995310597, 'min_child_weight': 15, 'min_child_samples': 63}. Best is trial 0 with value: 0.8421848739495799.\u001b[0m\n",
      "\u001b[32m[I 2023-02-04 22:38:47,539]\u001b[0m Trial 78 finished with value: 0.8421848739495799 and parameters: {'max_depth': 83, 'num_leaves': 343, 'learning_rate': 0.28052409843770415, 'n_estimators': 2700, 'colsample_bytree': 0.5057614616718626, 'colsample_bynode': 0.9162189460554712, 'reg_lambda': 0.010077308109510217, 'reg_alpha': 0.021060620031284085, 'min_child_weight': 7, 'min_child_samples': 69}. Best is trial 0 with value: 0.8421848739495799.\u001b[0m\n",
      "\u001b[32m[I 2023-02-04 22:38:48,102]\u001b[0m Trial 79 finished with value: 0.8421848739495799 and parameters: {'max_depth': 69, 'num_leaves': 281, 'learning_rate': 0.6783649330103638, 'n_estimators': 2400, 'colsample_bytree': 0.6106907263924812, 'colsample_bynode': 0.896885039901317, 'reg_lambda': 0.014442502149156681, 'reg_alpha': 0.03248004137440229, 'min_child_weight': 14, 'min_child_samples': 67}. Best is trial 0 with value: 0.8421848739495799.\u001b[0m\n",
      "\u001b[32m[I 2023-02-04 22:38:48,281]\u001b[0m Trial 80 finished with value: 0.8421848739495799 and parameters: {'max_depth': 31, 'num_leaves': 33, 'learning_rate': 0.7330644325230343, 'n_estimators': 2600, 'colsample_bytree': 0.8326608264650677, 'colsample_bynode': 0.9027636642306546, 'reg_lambda': 0.011866143259906637, 'reg_alpha': 0.16294208378107694, 'min_child_weight': 6, 'min_child_samples': 78}. Best is trial 0 with value: 0.8421848739495799.\u001b[0m\n",
      "\u001b[32m[I 2023-02-04 22:38:48,887]\u001b[0m Trial 81 finished with value: 0.8421848739495799 and parameters: {'max_depth': 25, 'num_leaves': 68, 'learning_rate': 0.560254277943134, 'n_estimators': 2100, 'colsample_bytree': 0.5613369027276, 'colsample_bynode': 0.9300596686921032, 'reg_lambda': 0.014273061688758942, 'reg_alpha': 0.1201251085200138, 'min_child_weight': 13, 'min_child_samples': 59}. Best is trial 0 with value: 0.8421848739495799.\u001b[0m\n",
      "\u001b[32m[I 2023-02-04 22:38:49,657]\u001b[0m Trial 82 finished with value: 0.8421848739495799 and parameters: {'max_depth': 11, 'num_leaves': 41, 'learning_rate': 0.5517100523027954, 'n_estimators': 2500, 'colsample_bytree': 0.5346969080037777, 'colsample_bynode': 0.8713564021793885, 'reg_lambda': 0.01698690730174921, 'reg_alpha': 0.037200983835450535, 'min_child_weight': 5, 'min_child_samples': 43}. Best is trial 0 with value: 0.8421848739495799.\u001b[0m\n",
      "\u001b[32m[I 2023-02-04 22:38:50,326]\u001b[0m Trial 83 finished with value: 0.8421848739495799 and parameters: {'max_depth': 60, 'num_leaves': 83, 'learning_rate': 0.6233178339944934, 'n_estimators': 2300, 'colsample_bytree': 0.5508815862335457, 'colsample_bynode': 0.8490179174536574, 'reg_lambda': 0.010052087453078706, 'reg_alpha': 0.1986539018710604, 'min_child_weight': 9, 'min_child_samples': 56}. Best is trial 0 with value: 0.8421848739495799.\u001b[0m\n",
      "\u001b[32m[I 2023-02-04 22:38:51,449]\u001b[0m Trial 84 finished with value: 0.8127731092436976 and parameters: {'max_depth': 5, 'num_leaves': 113, 'learning_rate': 0.7547094979586405, 'n_estimators': 3000, 'colsample_bytree': 0.8005226430345254, 'colsample_bynode': 0.8835829355959104, 'reg_lambda': 0.012046488098297618, 'reg_alpha': 0.01919021157518212, 'min_child_weight': 10, 'min_child_samples': 41}. Best is trial 0 with value: 0.8421848739495799.\u001b[0m\n",
      "\u001b[32m[I 2023-02-04 22:38:52,268]\u001b[0m Trial 85 finished with value: 0.8245378151260503 and parameters: {'max_depth': 42, 'num_leaves': 40, 'learning_rate': 0.6623607912399715, 'n_estimators': 2200, 'colsample_bytree': 0.8416693904037427, 'colsample_bynode': 0.8369027964348505, 'reg_lambda': 0.41424837506057455, 'reg_alpha': 0.017310646343192553, 'min_child_weight': 10, 'min_child_samples': 53}. Best is trial 0 with value: 0.8421848739495799.\u001b[0m\n",
      "\u001b[32m[I 2023-02-04 22:38:53,109]\u001b[0m Trial 86 finished with value: 0.7776470588235295 and parameters: {'max_depth': 404, 'num_leaves': 51, 'learning_rate': 0.7635182346386026, 'n_estimators': 2100, 'colsample_bytree': 0.7741325971027371, 'colsample_bynode': 0.6877944021099711, 'reg_lambda': 0.38620073244582215, 'reg_alpha': 0.012841269254450872, 'min_child_weight': 12, 'min_child_samples': 47}. Best is trial 0 with value: 0.8421848739495799.\u001b[0m\n",
      "\u001b[32m[I 2023-02-04 22:38:54,099]\u001b[0m Trial 87 finished with value: 0.8247058823529411 and parameters: {'max_depth': 110, 'num_leaves': 144, 'learning_rate': 0.6297907349909767, 'n_estimators': 2500, 'colsample_bytree': 0.9747361671999119, 'colsample_bynode': 0.6459222272868627, 'reg_lambda': 0.5149229821580853, 'reg_alpha': 0.025781460167372337, 'min_child_weight': 12, 'min_child_samples': 52}. Best is trial 0 with value: 0.8421848739495799.\u001b[0m\n",
      "\u001b[32m[I 2023-02-04 22:38:54,978]\u001b[0m Trial 88 finished with value: 0.7838655462184874 and parameters: {'max_depth': 89, 'num_leaves': 112, 'learning_rate': 0.8453863567845039, 'n_estimators': 2300, 'colsample_bytree': 0.7875819644934994, 'colsample_bynode': 0.7129791088277405, 'reg_lambda': 0.8557734172223351, 'reg_alpha': 0.01551477013394454, 'min_child_weight': 10, 'min_child_samples': 45}. Best is trial 0 with value: 0.8421848739495799.\u001b[0m\n",
      "\u001b[32m[I 2023-02-04 22:38:55,576]\u001b[0m Trial 89 finished with value: 0.8421848739495799 and parameters: {'max_depth': 415, 'num_leaves': 230, 'learning_rate': 0.6668779445532388, 'n_estimators': 2000, 'colsample_bytree': 0.5950089234728398, 'colsample_bynode': 0.7257263200866289, 'reg_lambda': 0.35944995244625794, 'reg_alpha': 0.2779633453423851, 'min_child_weight': 13, 'min_child_samples': 58}. Best is trial 0 with value: 0.8421848739495799.\u001b[0m\n",
      "\u001b[32m[I 2023-02-04 22:38:56,565]\u001b[0m Trial 90 finished with value: 0.8421848739495799 and parameters: {'max_depth': 69, 'num_leaves': 516, 'learning_rate': 0.7044161413433312, 'n_estimators': 2800, 'colsample_bytree': 0.572474861498188, 'colsample_bynode': 0.6706587222195648, 'reg_lambda': 0.01649809609040571, 'reg_alpha': 0.038103288647347314, 'min_child_weight': 11, 'min_child_samples': 49}. Best is trial 0 with value: 0.8421848739495799.\u001b[0m\n",
      "\u001b[32m[I 2023-02-04 22:38:56,715]\u001b[0m Trial 91 finished with value: 0.8421848739495799 and parameters: {'max_depth': 432, 'num_leaves': 46, 'learning_rate': 0.5897793209202999, 'n_estimators': 1900, 'colsample_bytree': 0.8173805664029167, 'colsample_bynode': 0.8620374287356929, 'reg_lambda': 0.6911779982832337, 'reg_alpha': 0.1462642654243414, 'min_child_weight': 12, 'min_child_samples': 79}. Best is trial 0 with value: 0.8421848739495799.\u001b[0m\n",
      "\u001b[32m[I 2023-02-04 22:38:57,113]\u001b[0m Trial 92 finished with value: 0.8421848739495799 and parameters: {'max_depth': 327, 'num_leaves': 57, 'learning_rate': 0.9160839648017187, 'n_estimators': 1000, 'colsample_bytree': 0.7377809590248724, 'colsample_bynode': 0.6562083614602259, 'reg_lambda': 0.9778211259398486, 'reg_alpha': 0.042600763060664404, 'min_child_weight': 9, 'min_child_samples': 53}. Best is trial 0 with value: 0.8421848739495799.\u001b[0m\n",
      "\u001b[32m[I 2023-02-04 22:38:57,567]\u001b[0m Trial 93 finished with value: 0.8421848739495799 and parameters: {'max_depth': 369, 'num_leaves': 77, 'learning_rate': 0.8000818069327263, 'n_estimators': 1100, 'colsample_bytree': 0.7356684337654529, 'colsample_bynode': 0.7511794374874746, 'reg_lambda': 0.8205627427712118, 'reg_alpha': 0.5693663815523617, 'min_child_weight': 9, 'min_child_samples': 48}. Best is trial 0 with value: 0.8421848739495799.\u001b[0m\n",
      "\u001b[32m[I 2023-02-04 22:38:58,029]\u001b[0m Trial 94 finished with value: 0.8421848739495799 and parameters: {'max_depth': 465, 'num_leaves': 3, 'learning_rate': 0.7785893866705688, 'n_estimators': 1100, 'colsample_bytree': 0.7243806222424847, 'colsample_bynode': 0.6183902342735186, 'reg_lambda': 0.7754838667687397, 'reg_alpha': 0.34029210247358294, 'min_child_weight': 11, 'min_child_samples': 51}. Best is trial 0 with value: 0.8421848739495799.\u001b[0m\n"
     ]
    },
    {
     "name": "stdout",
     "output_type": "stream",
     "text": [
      "\u001b[32m[I 2023-02-04 22:38:58,399]\u001b[0m Trial 95 finished with value: 0.8421848739495799 and parameters: {'max_depth': 227, 'num_leaves': 20, 'learning_rate': 0.8240683993752774, 'n_estimators': 800, 'colsample_bytree': 0.7605613179526163, 'colsample_bynode': 0.5540902862164846, 'reg_lambda': 0.1616452232499436, 'reg_alpha': 0.8183796323323124, 'min_child_weight': 11, 'min_child_samples': 40}. Best is trial 0 with value: 0.8421848739495799.\u001b[0m\n",
      "\u001b[32m[I 2023-02-04 22:38:58,842]\u001b[0m Trial 96 finished with value: 0.8421848739495799 and parameters: {'max_depth': 303, 'num_leaves': 20, 'learning_rate': 0.690345100895733, 'n_estimators': 1000, 'colsample_bytree': 0.7016158854971959, 'colsample_bynode': 0.6873600937867811, 'reg_lambda': 0.5244707390686345, 'reg_alpha': 0.415410879481381, 'min_child_weight': 11, 'min_child_samples': 37}. Best is trial 0 with value: 0.8421848739495799.\u001b[0m\n",
      "\u001b[32m[I 2023-02-04 22:38:59,213]\u001b[0m Trial 97 finished with value: 0.8421848739495799 and parameters: {'max_depth': 481, 'num_leaves': 2, 'learning_rate': 0.0229715025496655, 'n_estimators': 700, 'colsample_bytree': 0.7718825924343201, 'colsample_bynode': 0.9823467744511563, 'reg_lambda': 0.18448170345203002, 'reg_alpha': 0.5478135095962066, 'min_child_weight': 10, 'min_child_samples': 11}. Best is trial 0 with value: 0.8421848739495799.\u001b[0m\n",
      "\u001b[32m[I 2023-02-04 22:38:59,663]\u001b[0m Trial 98 finished with value: 0.8421848739495799 and parameters: {'max_depth': 203, 'num_leaves': 6, 'learning_rate': 0.8842549438976126, 'n_estimators': 900, 'colsample_bytree': 0.681826763636005, 'colsample_bynode': 0.7493052200336117, 'reg_lambda': 0.23470079383472345, 'reg_alpha': 0.45421841520153483, 'min_child_weight': 10, 'min_child_samples': 6}. Best is trial 0 with value: 0.8421848739495799.\u001b[0m\n",
      "\u001b[32m[I 2023-02-04 22:39:00,070]\u001b[0m Trial 99 finished with value: 0.8421848739495799 and parameters: {'max_depth': 452, 'num_leaves': 479, 'learning_rate': 0.18350887149750733, 'n_estimators': 500, 'colsample_bytree': 0.7134258081660284, 'colsample_bynode': 0.6102733016932511, 'reg_lambda': 0.6699988478180269, 'reg_alpha': 0.6447668367705337, 'min_child_weight': 10, 'min_child_samples': 8}. Best is trial 0 with value: 0.8421848739495799.\u001b[0m\n",
      "\u001b[32m[I 2023-02-04 22:39:00,658]\u001b[0m Trial 100 finished with value: 0.8421848739495799 and parameters: {'max_depth': 290, 'num_leaves': 5, 'learning_rate': 0.11133089582104429, 'n_estimators': 1200, 'colsample_bytree': 0.6333497875057582, 'colsample_bynode': 0.7566163401834027, 'reg_lambda': 0.0875983679744335, 'reg_alpha': 0.8258526998087586, 'min_child_weight': 11, 'min_child_samples': 16}. Best is trial 0 with value: 0.8421848739495799.\u001b[0m\n",
      "\u001b[32m[I 2023-02-04 22:39:01,054]\u001b[0m Trial 101 finished with value: 0.8421848739495799 and parameters: {'max_depth': 488, 'num_leaves': 4, 'learning_rate': 0.06191270706176146, 'n_estimators': 700, 'colsample_bytree': 0.659732479849616, 'colsample_bynode': 0.9860098595062101, 'reg_lambda': 0.13014904255182513, 'reg_alpha': 0.7488011668303238, 'min_child_weight': 8, 'min_child_samples': 10}. Best is trial 0 with value: 0.8421848739495799.\u001b[0m\n",
      "\u001b[32m[I 2023-02-04 22:39:01,399]\u001b[0m Trial 102 finished with value: 0.8421848739495799 and parameters: {'max_depth': 502, 'num_leaves': 14, 'learning_rate': 0.11453396736769138, 'n_estimators': 600, 'colsample_bytree': 0.6483790598773853, 'colsample_bynode': 0.7985414188339727, 'reg_lambda': 0.10620053237402297, 'reg_alpha': 0.370966011188975, 'min_child_weight': 9, 'min_child_samples': 22}. Best is trial 0 with value: 0.8421848739495799.\u001b[0m\n",
      "\u001b[32m[I 2023-02-04 22:39:02,018]\u001b[0m Trial 103 finished with value: 0.8421848739495799 and parameters: {'max_depth': 256, 'num_leaves': 12, 'learning_rate': 0.04905172094040054, 'n_estimators': 1400, 'colsample_bytree': 0.6995569600503435, 'colsample_bynode': 0.7785818448240831, 'reg_lambda': 0.14543973936159074, 'reg_alpha': 0.6199572053393898, 'min_child_weight': 8, 'min_child_samples': 25}. Best is trial 0 with value: 0.8421848739495799.\u001b[0m\n",
      "\u001b[32m[I 2023-02-04 22:39:02,434]\u001b[0m Trial 104 finished with value: 0.8421848739495799 and parameters: {'max_depth': 495, 'num_leaves': 7, 'learning_rate': 0.1825622654965573, 'n_estimators': 800, 'colsample_bytree': 0.6625942118174205, 'colsample_bynode': 0.8094377803147997, 'reg_lambda': 0.22275825886953, 'reg_alpha': 0.9672527818605141, 'min_child_weight': 9, 'min_child_samples': 16}. Best is trial 0 with value: 0.8421848739495799.\u001b[0m\n",
      "\u001b[32m[I 2023-02-04 22:39:03,147]\u001b[0m Trial 105 finished with value: 0.8421848739495799 and parameters: {'max_depth': 157, 'num_leaves': 719, 'learning_rate': 0.9788955609427497, 'n_estimators': 1200, 'colsample_bytree': 0.6209729967847172, 'colsample_bynode': 0.7850013360067505, 'reg_lambda': 0.2897863947782114, 'reg_alpha': 0.07060264601283052, 'min_child_weight': 7, 'min_child_samples': 12}. Best is trial 0 with value: 0.8421848739495799.\u001b[0m\n",
      "\u001b[32m[I 2023-02-04 22:39:03,311]\u001b[0m Trial 106 finished with value: 0.8421848739495799 and parameters: {'max_depth': 475, 'num_leaves': 14, 'learning_rate': 0.12963783845214716, 'n_estimators': 100, 'colsample_bytree': 0.6448001255312968, 'colsample_bynode': 0.9972450539179228, 'reg_lambda': 0.12105592290315235, 'reg_alpha': 0.09472798515934588, 'min_child_weight': 8, 'min_child_samples': 8}. Best is trial 0 with value: 0.8421848739495799.\u001b[0m\n",
      "\u001b[32m[I 2023-02-04 22:39:03,406]\u001b[0m Trial 107 finished with value: 0.8421848739495799 and parameters: {'max_depth': 181, 'num_leaves': 29, 'learning_rate': 0.07395481400269646, 'n_estimators': 300, 'colsample_bytree': 0.669113111824944, 'colsample_bynode': 0.816204130270746, 'reg_lambda': 0.2691460787082056, 'reg_alpha': 0.06049311084746474, 'min_child_weight': 6, 'min_child_samples': 93}. Best is trial 0 with value: 0.8421848739495799.\u001b[0m\n",
      "\u001b[32m[I 2023-02-04 22:39:03,499]\u001b[0m Trial 108 finished with value: 0.8421848739495799 and parameters: {'max_depth': 452, 'num_leaves': 17, 'learning_rate': 0.23642431824241, 'n_estimators': 300, 'colsample_bytree': 0.5919187750962304, 'colsample_bynode': 0.8223834935011924, 'reg_lambda': 0.07498390782828904, 'reg_alpha': 0.08494888844826033, 'min_child_weight': 7, 'min_child_samples': 86}. Best is trial 0 with value: 0.8421848739495799.\u001b[0m\n",
      "\u001b[32m[I 2023-02-04 22:39:03,595]\u001b[0m Trial 109 finished with value: 0.8421848739495799 and parameters: {'max_depth': 510, 'num_leaves': 200, 'learning_rate': 0.6056285155564766, 'n_estimators': 300, 'colsample_bytree': 0.5761739888521671, 'colsample_bynode': 0.8299149845264883, 'reg_lambda': 0.022223789671758185, 'reg_alpha': 0.23939096975924623, 'min_child_weight': 6, 'min_child_samples': 73}. Best is trial 0 with value: 0.8421848739495799.\u001b[0m\n",
      "\u001b[32m[I 2023-02-04 22:39:03,686]\u001b[0m Trial 110 finished with value: 0.8421848739495799 and parameters: {'max_depth': 493, 'num_leaves': 26, 'learning_rate': 0.525937400093255, 'n_estimators': 200, 'colsample_bytree': 0.6184017651128586, 'colsample_bynode': 0.7853247772397788, 'reg_lambda': 0.046007304508828194, 'reg_alpha': 0.054630585107081645, 'min_child_weight': 8, 'min_child_samples': 96}. Best is trial 0 with value: 0.8421848739495799.\u001b[0m\n",
      "\u001b[32m[I 2023-02-04 22:39:03,788]\u001b[0m Trial 111 finished with value: 0.8421848739495799 and parameters: {'max_depth': 41, 'num_leaves': 220, 'learning_rate': 0.49224042972083476, 'n_estimators': 500, 'colsample_bytree': 0.5202959690057818, 'colsample_bynode': 0.9517841067341274, 'reg_lambda': 0.026925121499756646, 'reg_alpha': 0.1387602960677939, 'min_child_weight': 15, 'min_child_samples': 82}. Best is trial 0 with value: 0.8421848739495799.\u001b[0m\n",
      "\u001b[32m[I 2023-02-04 22:39:03,928]\u001b[0m Trial 112 finished with value: 0.8421848739495799 and parameters: {'max_depth': 138, 'num_leaves': 178, 'learning_rate': 0.4402178759301585, 'n_estimators': 1600, 'colsample_bytree': 0.5128623861936247, 'colsample_bynode': 0.796397083094855, 'reg_lambda': 0.018771566166821425, 'reg_alpha': 0.07760157418162184, 'min_child_weight': 15, 'min_child_samples': 91}. Best is trial 0 with value: 0.8421848739495799.\u001b[0m\n",
      "\u001b[32m[I 2023-02-04 22:39:04,020]\u001b[0m Trial 113 finished with value: 0.8421848739495799 and parameters: {'max_depth': 123, 'num_leaves': 355, 'learning_rate': 0.3590452867944147, 'n_estimators': 100, 'colsample_bytree': 0.5429100430736072, 'colsample_bynode': 0.95376261422714, 'reg_lambda': 0.03170435973112536, 'reg_alpha': 0.027617390703171305, 'min_child_weight': 15, 'min_child_samples': 71}. Best is trial 0 with value: 0.8421848739495799.\u001b[0m\n",
      "\u001b[32m[I 2023-02-04 22:39:04,119]\u001b[0m Trial 114 finished with value: 0.8421848739495799 and parameters: {'max_depth': 123, 'num_leaves': 100, 'learning_rate': 0.2556615455427889, 'n_estimators': 300, 'colsample_bytree': 0.5270689008721847, 'colsample_bynode': 0.9635960724876953, 'reg_lambda': 0.01803906425215063, 'reg_alpha': 0.21503170895535365, 'min_child_weight': 15, 'min_child_samples': 73}. Best is trial 0 with value: 0.8421848739495799.\u001b[0m\n"
     ]
    },
    {
     "name": "stdout",
     "output_type": "stream",
     "text": [
      "\u001b[32m[I 2023-02-04 22:39:04,315]\u001b[0m Trial 115 finished with value: 0.8421848739495796 and parameters: {'max_depth': 62, 'num_leaves': 295, 'learning_rate': 0.41751316631958435, 'n_estimators': 200, 'colsample_bytree': 0.5130329574629774, 'colsample_bynode': 0.9142610185393629, 'reg_lambda': 0.0212410939903795, 'reg_alpha': 0.02105162152520063, 'min_child_weight': 14, 'min_child_samples': 66}. Best is trial 0 with value: 0.8421848739495799.\u001b[0m\n",
      "\u001b[32m[I 2023-02-04 22:39:04,498]\u001b[0m Trial 116 finished with value: 0.8421848739495799 and parameters: {'max_depth': 38, 'num_leaves': 137, 'learning_rate': 0.4832327270808296, 'n_estimators': 2600, 'colsample_bytree': 0.8917787675786402, 'colsample_bynode': 0.9364596686218348, 'reg_lambda': 0.012107469654999486, 'reg_alpha': 0.09660978756163659, 'min_child_weight': 6, 'min_child_samples': 77}. Best is trial 0 with value: 0.8421848739495799.\u001b[0m\n",
      "\u001b[32m[I 2023-02-04 22:39:05,234]\u001b[0m Trial 117 finished with value: 0.8421848739495799 and parameters: {'max_depth': 30, 'num_leaves': 68, 'learning_rate': 0.514539029367913, 'n_estimators': 2700, 'colsample_bytree': 0.559443665187757, 'colsample_bynode': 0.8863080856171401, 'reg_lambda': 0.014979394439077346, 'reg_alpha': 0.15935112379725086, 'min_child_weight': 7, 'min_child_samples': 60}. Best is trial 0 with value: 0.8421848739495799.\u001b[0m\n",
      "\u001b[32m[I 2023-02-04 22:39:05,401]\u001b[0m Trial 118 finished with value: 0.8421848739495799 and parameters: {'max_depth': 79, 'num_leaves': 258, 'learning_rate': 0.7293753546146795, 'n_estimators': 2400, 'colsample_bytree': 0.5017994988082041, 'colsample_bynode': 0.9050713323180177, 'reg_lambda': 0.014355705684851788, 'reg_alpha': 0.11828304904153478, 'min_child_weight': 5, 'min_child_samples': 81}. Best is trial 0 with value: 0.8421848739495799.\u001b[0m\n",
      "\u001b[32m[I 2023-02-04 22:39:05,998]\u001b[0m Trial 119 finished with value: 0.8421848739495799 and parameters: {'max_depth': 21, 'num_leaves': 97, 'learning_rate': 0.2977808872652087, 'n_estimators': 2500, 'colsample_bytree': 0.5323509196607672, 'colsample_bynode': 0.9261803014202048, 'reg_lambda': 0.011637715073057922, 'reg_alpha': 0.1291519520179757, 'min_child_weight': 15, 'min_child_samples': 64}. Best is trial 0 with value: 0.8421848739495799.\u001b[0m\n",
      "\u001b[32m[I 2023-02-04 22:39:06,480]\u001b[0m Trial 120 finished with value: 0.8421848739495799 and parameters: {'max_depth': 15, 'num_leaves': 167, 'learning_rate': 0.5964415342086763, 'n_estimators': 2800, 'colsample_bytree': 0.5456271194651131, 'colsample_bynode': 0.8716025938071044, 'reg_lambda': 0.017943530605846556, 'reg_alpha': 0.148634977045803, 'min_child_weight': 5, 'min_child_samples': 68}. Best is trial 0 with value: 0.8421848739495799.\u001b[0m\n",
      "\u001b[32m[I 2023-02-04 22:39:06,641]\u001b[0m Trial 121 finished with value: 0.8421848739495799 and parameters: {'max_depth': 59, 'num_leaves': 68, 'learning_rate': 0.6217120380864986, 'n_estimators': 2300, 'colsample_bytree': 0.5517110695564107, 'colsample_bynode': 0.8894697024569653, 'reg_lambda': 0.01388988145298394, 'reg_alpha': 0.18598156061403412, 'min_child_weight': 5, 'min_child_samples': 70}. Best is trial 0 with value: 0.8421848739495799.\u001b[0m\n",
      "\u001b[32m[I 2023-02-04 22:39:07,370]\u001b[0m Trial 122 finished with value: 0.8421848739495799 and parameters: {'max_depth': 52, 'num_leaves': 249, 'learning_rate': 0.6742430804407693, 'n_estimators': 2500, 'colsample_bytree': 0.5783076685166303, 'colsample_bynode': 0.9059894611986253, 'reg_lambda': 0.012478312780370955, 'reg_alpha': 0.19384746178314502, 'min_child_weight': 4, 'min_child_samples': 59}. Best is trial 0 with value: 0.8421848739495799.\u001b[0m\n",
      "\u001b[32m[I 2023-02-04 22:39:07,999]\u001b[0m Trial 123 finished with value: 0.8421848739495799 and parameters: {'max_depth': 18, 'num_leaves': 336, 'learning_rate': 0.5631256612060519, 'n_estimators': 2100, 'colsample_bytree': 0.5660657416330401, 'colsample_bynode': 0.8492501787460252, 'reg_lambda': 0.010019452879386902, 'reg_alpha': 0.28859661779886436, 'min_child_weight': 14, 'min_child_samples': 62}. Best is trial 0 with value: 0.8421848739495799.\u001b[0m\n",
      "\u001b[32m[I 2023-02-04 22:39:08,895]\u001b[0m Trial 124 finished with value: 0.8480672268907563 and parameters: {'max_depth': 32, 'num_leaves': 441, 'learning_rate': 0.7299619664716664, 'n_estimators': 2800, 'colsample_bytree': 0.5916105347874138, 'colsample_bynode': 0.9308776347674532, 'reg_lambda': 0.010944829583768995, 'reg_alpha': 0.03245523412314612, 'min_child_weight': 13, 'min_child_samples': 56}. Best is trial 124 with value: 0.8480672268907563.\u001b[0m\n",
      "\u001b[32m[I 2023-02-04 22:39:09,920]\u001b[0m Trial 125 finished with value: 0.8363025210084032 and parameters: {'max_depth': 62, 'num_leaves': 485, 'learning_rate': 0.7305978931331288, 'n_estimators': 2800, 'colsample_bytree': 0.8232917076334814, 'colsample_bynode': 0.8661450038625919, 'reg_lambda': 0.011159385317926089, 'reg_alpha': 0.03461904346893996, 'min_child_weight': 13, 'min_child_samples': 56}. Best is trial 124 with value: 0.8480672268907563.\u001b[0m\n",
      "\u001b[32m[I 2023-02-04 22:39:10,880]\u001b[0m Trial 126 finished with value: 0.8421848739495799 and parameters: {'max_depth': 436, 'num_leaves': 413, 'learning_rate': 0.6831589119995576, 'n_estimators': 2700, 'colsample_bytree': 0.5904291273127399, 'colsample_bynode': 0.6659863485433944, 'reg_lambda': 0.9739007956711434, 'reg_alpha': 0.033826366292455806, 'min_child_weight': 13, 'min_child_samples': 53}. Best is trial 124 with value: 0.8480672268907563.\u001b[0m\n",
      "\u001b[32m[I 2023-02-04 22:39:11,869]\u001b[0m Trial 127 finished with value: 0.8421848739495799 and parameters: {'max_depth': 401, 'num_leaves': 410, 'learning_rate': 0.7132503385483095, 'n_estimators': 2900, 'colsample_bytree': 0.8419838099544402, 'colsample_bynode': 0.9342397825815252, 'reg_lambda': 0.01012229637989934, 'reg_alpha': 0.03769750829150519, 'min_child_weight': 4, 'min_child_samples': 58}. Best is trial 124 with value: 0.8480672268907563.\u001b[0m\n",
      "\u001b[32m[I 2023-02-04 22:39:12,882]\u001b[0m Trial 128 finished with value: 0.8363025210084034 and parameters: {'max_depth': 70, 'num_leaves': 605, 'learning_rate': 0.6531495684482207, 'n_estimators': 2700, 'colsample_bytree': 0.6049161645811731, 'colsample_bynode': 0.9264121973219578, 'reg_lambda': 0.016955339461134512, 'reg_alpha': 0.03840245397305071, 'min_child_weight': 6, 'min_child_samples': 44}. Best is trial 124 with value: 0.8480672268907563.\u001b[0m\n",
      "\u001b[32m[I 2023-02-04 22:39:13,842]\u001b[0m Trial 129 finished with value: 0.8421848739495799 and parameters: {'max_depth': 356, 'num_leaves': 42, 'learning_rate': 0.7097052484927462, 'n_estimators': 2800, 'colsample_bytree': 0.8328752774329002, 'colsample_bynode': 0.6433384235064139, 'reg_lambda': 0.8447965160016834, 'reg_alpha': 0.045950433438585514, 'min_child_weight': 12, 'min_child_samples': 48}. Best is trial 124 with value: 0.8480672268907563.\u001b[0m\n",
      "\u001b[32m[I 2023-02-04 22:39:14,755]\u001b[0m Trial 130 finished with value: 0.8421848739495799 and parameters: {'max_depth': 431, 'num_leaves': 80, 'learning_rate': 0.7788420109699078, 'n_estimators': 2400, 'colsample_bytree': 0.8720650774666954, 'colsample_bynode': 0.6282711209128519, 'reg_lambda': 0.7245454420095272, 'reg_alpha': 0.031683332964650014, 'min_child_weight': 3, 'min_child_samples': 50}. Best is trial 124 with value: 0.8480672268907563.\u001b[0m\n",
      "\u001b[32m[I 2023-02-04 22:39:15,520]\u001b[0m Trial 131 finished with value: 0.8421848739495799 and parameters: {'max_depth': 360, 'num_leaves': 58, 'learning_rate': 0.898533796625712, 'n_estimators': 2600, 'colsample_bytree': 0.5723128259473782, 'colsample_bynode': 0.6618615413070978, 'reg_lambda': 0.8981307858714455, 'reg_alpha': 0.1539302071143943, 'min_child_weight': 9, 'min_child_samples': 56}. Best is trial 124 with value: 0.8480672268907563.\u001b[0m\n",
      "\u001b[32m[I 2023-02-04 22:39:16,239]\u001b[0m Trial 132 finished with value: 0.8421848739495799 and parameters: {'max_depth': 465, 'num_leaves': 37, 'learning_rate': 0.8033540286602702, 'n_estimators': 2000, 'colsample_bytree': 0.7213861967897207, 'colsample_bynode': 0.6002009751142081, 'reg_lambda': 0.7629103876418278, 'reg_alpha': 0.04328908065333137, 'min_child_weight': 12, 'min_child_samples': 43}. Best is trial 124 with value: 0.8480672268907563.\u001b[0m\n",
      "\u001b[32m[I 2023-02-04 22:39:17,101]\u001b[0m Trial 133 finished with value: 0.807563025210084 and parameters: {'max_depth': 424, 'num_leaves': 22, 'learning_rate': 0.8192959822399891, 'n_estimators': 2300, 'colsample_bytree': 0.7499890187699686, 'colsample_bynode': 0.5701311119978961, 'reg_lambda': 0.5887665253983047, 'reg_alpha': 0.029328803214046253, 'min_child_weight': 13, 'min_child_samples': 39}. Best is trial 124 with value: 0.8480672268907563.\u001b[0m\n"
     ]
    },
    {
     "name": "stdout",
     "output_type": "stream",
     "text": [
      "\u001b[32m[I 2023-02-04 22:39:18,152]\u001b[0m Trial 134 finished with value: 0.8421848739495799 and parameters: {'max_depth': 332, 'num_leaves': 33, 'learning_rate': 0.8553329701518331, 'n_estimators': 2900, 'colsample_bytree': 0.729608146931821, 'colsample_bynode': 0.5161701112336763, 'reg_lambda': 0.4737675282142672, 'reg_alpha': 0.5220188553403169, 'min_child_weight': 11, 'min_child_samples': 38}. Best is trial 124 with value: 0.8480672268907563.\u001b[0m\n",
      "\u001b[32m[I 2023-02-04 22:39:18,814]\u001b[0m Trial 135 finished with value: 0.8421848739495799 and parameters: {'max_depth': 317, 'num_leaves': 1021, 'learning_rate': 0.9363742582192364, 'n_estimators': 1000, 'colsample_bytree': 0.7382742438003633, 'colsample_bynode': 0.6829460809700654, 'reg_lambda': 0.18322810477832932, 'reg_alpha': 0.265327684543934, 'min_child_weight': 11, 'min_child_samples': 35}. Best is trial 124 with value: 0.8480672268907563.\u001b[0m\n",
      "\u001b[32m[I 2023-02-04 22:39:19,256]\u001b[0m Trial 136 finished with value: 0.8421848739495799 and parameters: {'max_depth': 395, 'num_leaves': 74, 'learning_rate': 0.782045665858729, 'n_estimators': 1000, 'colsample_bytree': 0.8063614462649445, 'colsample_bynode': 0.5749065318232357, 'reg_lambda': 0.5252348461622673, 'reg_alpha': 0.4233433016389133, 'min_child_weight': 11, 'min_child_samples': 47}. Best is trial 124 with value: 0.8480672268907563.\u001b[0m\n",
      "\u001b[32m[I 2023-02-04 22:39:19,742]\u001b[0m Trial 137 finished with value: 0.8421848739495799 and parameters: {'max_depth': 465, 'num_leaves': 59, 'learning_rate': 0.5844562045055186, 'n_estimators': 1100, 'colsample_bytree': 0.7627034976029677, 'colsample_bynode': 0.6269448052189098, 'reg_lambda': 0.8114309712716546, 'reg_alpha': 0.32452748968842804, 'min_child_weight': 10, 'min_child_samples': 41}. Best is trial 124 with value: 0.8480672268907563.\u001b[0m\n",
      "\u001b[32m[I 2023-02-04 22:39:20,087]\u001b[0m Trial 138 finished with value: 0.8421848739495799 and parameters: {'max_depth': 239, 'num_leaves': 10, 'learning_rate': 0.8838405027988513, 'n_estimators': 900, 'colsample_bytree': 0.6862640091334066, 'colsample_bynode': 0.6750207867016186, 'reg_lambda': 0.715097190490153, 'reg_alpha': 0.5633589888602013, 'min_child_weight': 9, 'min_child_samples': 54}. Best is trial 124 with value: 0.8480672268907563.\u001b[0m\n",
      "\u001b[32m[I 2023-02-04 22:39:20,651]\u001b[0m Trial 139 finished with value: 0.8421848739495799 and parameters: {'max_depth': 482, 'num_leaves': 535, 'learning_rate': 0.8270041104508034, 'n_estimators': 900, 'colsample_bytree': 0.715828990707816, 'colsample_bynode': 0.7369042087424803, 'reg_lambda': 0.3433000220949465, 'reg_alpha': 0.8030014869387831, 'min_child_weight': 10, 'min_child_samples': 5}. Best is trial 124 with value: 0.8480672268907563.\u001b[0m\n",
      "\u001b[32m[I 2023-02-04 22:39:21,112]\u001b[0m Trial 140 finished with value: 0.8421848739495799 and parameters: {'max_depth': 449, 'num_leaves': 849, 'learning_rate': 0.8766735499883525, 'n_estimators': 700, 'colsample_bytree': 0.7600510285198858, 'colsample_bynode': 0.6057802130946786, 'reg_lambda': 0.6684197484164482, 'reg_alpha': 0.46223148552131404, 'min_child_weight': 10, 'min_child_samples': 51}. Best is trial 124 with value: 0.8480672268907563.\u001b[0m\n",
      "\u001b[32m[I 2023-02-04 22:39:21,650]\u001b[0m Trial 141 finished with value: 0.8421848739495799 and parameters: {'max_depth': 300, 'num_leaves': 20, 'learning_rate': 0.9380790523741078, 'n_estimators': 1000, 'colsample_bytree': 0.6839860321670859, 'colsample_bynode': 0.7555416741696612, 'reg_lambda': 0.5537912030450819, 'reg_alpha': 0.7910283632708691, 'min_child_weight': 11, 'min_child_samples': 7}. Best is trial 124 with value: 0.8480672268907563.\u001b[0m\n",
      "\u001b[32m[I 2023-02-04 22:39:22,167]\u001b[0m Trial 142 finished with value: 0.8421848739495799 and parameters: {'max_depth': 287, 'num_leaves': 4, 'learning_rate': 0.0201638231834032, 'n_estimators': 1100, 'colsample_bytree': 0.6940352853247116, 'colsample_bynode': 0.9828921490893426, 'reg_lambda': 0.9003605539194695, 'reg_alpha': 0.8680116352979148, 'min_child_weight': 11, 'min_child_samples': 10}. Best is trial 124 with value: 0.8480672268907563.\u001b[0m\n",
      "\u001b[32m[I 2023-02-04 22:39:22,509]\u001b[0m Trial 143 finished with value: 0.8421848739495799 and parameters: {'max_depth': 487, 'num_leaves': 5, 'learning_rate': 0.005665399147933764, 'n_estimators': 600, 'colsample_bytree': 0.6331149030749479, 'colsample_bynode': 0.7623955497852137, 'reg_lambda': 0.10475723260010994, 'reg_alpha': 0.885644206599617, 'min_child_weight': 10, 'min_child_samples': 15}. Best is trial 124 with value: 0.8480672268907563.\u001b[0m\n",
      "\u001b[32m[I 2023-02-04 22:39:22,930]\u001b[0m Trial 144 finished with value: 0.8421848739495799 and parameters: {'max_depth': 503, 'num_leaves': 3, 'learning_rate': 0.843595833365848, 'n_estimators': 800, 'colsample_bytree': 0.7451193627386392, 'colsample_bynode': 0.5469418382384406, 'reg_lambda': 0.15806031563857978, 'reg_alpha': 0.3680886932386779, 'min_child_weight': 9, 'min_child_samples': 20}. Best is trial 124 with value: 0.8480672268907563.\u001b[0m\n",
      "\u001b[32m[I 2023-02-04 22:39:23,506]\u001b[0m Trial 145 finished with value: 0.8421848739495799 and parameters: {'max_depth': 271, 'num_leaves': 8, 'learning_rate': 0.03845143210840759, 'n_estimators': 1200, 'colsample_bytree': 0.6961096658211058, 'colsample_bynode': 0.6188436724189844, 'reg_lambda': 0.13574792560544738, 'reg_alpha': 0.6353429938344571, 'min_child_weight': 8, 'min_child_samples': 12}. Best is trial 124 with value: 0.8480672268907563.\u001b[0m\n",
      "\u001b[32m[I 2023-02-04 22:39:24,129]\u001b[0m Trial 146 finished with value: 0.8421848739495799 and parameters: {'max_depth': 254, 'num_leaves': 13, 'learning_rate': 0.1759394384487448, 'n_estimators': 1300, 'colsample_bytree': 0.6681215541505722, 'colsample_bynode': 0.7457926821182173, 'reg_lambda': 0.22674781009398223, 'reg_alpha': 0.9821250374777617, 'min_child_weight': 9, 'min_child_samples': 18}. Best is trial 124 with value: 0.8480672268907563.\u001b[0m\n",
      "\u001b[32m[I 2023-02-04 22:39:24,492]\u001b[0m Trial 147 finished with value: 0.8421848739495799 and parameters: {'max_depth': 209, 'num_leaves': 7, 'learning_rate': 0.9784955739902745, 'n_estimators': 700, 'colsample_bytree': 0.6338664667788405, 'colsample_bynode': 0.7671217465634834, 'reg_lambda': 0.19454990286651214, 'reg_alpha': 0.7527299880750189, 'min_child_weight': 10, 'min_child_samples': 25}. Best is trial 124 with value: 0.8480672268907563.\u001b[0m\n",
      "\u001b[32m[I 2023-02-04 22:39:24,893]\u001b[0m Trial 148 finished with value: 0.8421848739495799 and parameters: {'max_depth': 499, 'num_leaves': 11, 'learning_rate': 0.07059988857414862, 'n_estimators': 800, 'colsample_bytree': 0.6618208943644267, 'colsample_bynode': 0.7767424088724292, 'reg_lambda': 0.14965968457226306, 'reg_alpha': 0.5955166819483771, 'min_child_weight': 8, 'min_child_samples': 17}. Best is trial 124 with value: 0.8480672268907563.\u001b[0m\n",
      "\u001b[32m[I 2023-02-04 22:39:25,444]\u001b[0m Trial 149 finished with value: 0.8421848739495799 and parameters: {'max_depth': 512, 'num_leaves': 15, 'learning_rate': 0.12439849133566878, 'n_estimators': 1200, 'colsample_bytree': 0.6448413448041721, 'colsample_bynode': 0.9934216564236222, 'reg_lambda': 0.0998342668070965, 'reg_alpha': 0.7083031964380654, 'min_child_weight': 8, 'min_child_samples': 23}. Best is trial 124 with value: 0.8480672268907563.\u001b[0m\n",
      "\u001b[32m[I 2023-02-04 22:39:25,808]\u001b[0m Trial 150 finished with value: 0.8421848739495799 and parameters: {'max_depth': 197, 'num_leaves': 19, 'learning_rate': 0.18724267935850222, 'n_estimators': 600, 'colsample_bytree': 0.6801716147872942, 'colsample_bynode': 0.8083353081191619, 'reg_lambda': 0.264106014441482, 'reg_alpha': 0.06692431879844567, 'min_child_weight': 7, 'min_child_samples': 8}. Best is trial 124 with value: 0.8480672268907563.\u001b[0m\n",
      "\u001b[32m[I 2023-02-04 22:39:26,477]\u001b[0m Trial 151 finished with value: 0.8421848739495799 and parameters: {'max_depth': 196, 'num_leaves': 17, 'learning_rate': 0.08077182393848499, 'n_estimators': 1400, 'colsample_bytree': 0.6241355371562427, 'colsample_bynode': 0.9999356531037706, 'reg_lambda': 0.0804083724787672, 'reg_alpha': 0.9061209860660591, 'min_child_weight': 7, 'min_child_samples': 13}. Best is trial 124 with value: 0.8480672268907563.\u001b[0m\n",
      "\u001b[32m[I 2023-02-04 22:39:26,887]\u001b[0m Trial 152 finished with value: 0.8421848739495799 and parameters: {'max_depth': 474, 'num_leaves': 15, 'learning_rate': 0.1308478047899504, 'n_estimators': 700, 'colsample_bytree': 0.6690174762150389, 'colsample_bynode': 0.9798630445555319, 'reg_lambda': 0.2869037689813586, 'reg_alpha': 0.08499355676228619, 'min_child_weight': 8, 'min_child_samples': 10}. Best is trial 124 with value: 0.8480672268907563.\u001b[0m\n"
     ]
    },
    {
     "name": "stdout",
     "output_type": "stream",
     "text": [
      "\u001b[32m[I 2023-02-04 22:39:27,129]\u001b[0m Trial 153 finished with value: 0.8421848739495799 and parameters: {'max_depth': 486, 'num_leaves': 13, 'learning_rate': 0.15089174185136034, 'n_estimators': 300, 'colsample_bytree': 0.6450966166075228, 'colsample_bynode': 0.7779794653453196, 'reg_lambda': 0.1265650690505421, 'reg_alpha': 0.07056193704757455, 'min_child_weight': 6, 'min_child_samples': 12}. Best is trial 124 with value: 0.8480672268907563.\u001b[0m\n",
      "\u001b[32m[I 2023-02-04 22:39:27,235]\u001b[0m Trial 154 finished with value: 0.8421848739495799 and parameters: {'max_depth': 493, 'num_leaves': 26, 'learning_rate': 0.03993051584712631, 'n_estimators': 400, 'colsample_bytree': 0.616509386064971, 'colsample_bynode': 0.816630305333227, 'reg_lambda': 0.06945738802174142, 'reg_alpha': 0.06079586413227159, 'min_child_weight': 7, 'min_child_samples': 100}. Best is trial 124 with value: 0.8480672268907563.\u001b[0m\n",
      "\u001b[32m[I 2023-02-04 22:39:27,340]\u001b[0m Trial 155 finished with value: 0.8421848739495799 and parameters: {'max_depth': 181, 'num_leaves': 685, 'learning_rate': 0.10621829287397265, 'n_estimators': 500, 'colsample_bytree': 0.6272959130378024, 'colsample_bynode': 0.8279594956968648, 'reg_lambda': 0.04796636574797101, 'reg_alpha': 0.053299106478204024, 'min_child_weight': 8, 'min_child_samples': 86}. Best is trial 124 with value: 0.8480672268907563.\u001b[0m\n",
      "\u001b[32m[I 2023-02-04 22:39:27,447]\u001b[0m Trial 156 finished with value: 0.8421848739495799 and parameters: {'max_depth': 506, 'num_leaves': 9, 'learning_rate': 0.1686335250080917, 'n_estimators': 500, 'colsample_bytree': 0.6587917571721141, 'colsample_bynode': 0.7925204489593656, 'reg_lambda': 0.06146992001817077, 'reg_alpha': 0.059531046579863224, 'min_child_weight': 6, 'min_child_samples': 95}. Best is trial 124 with value: 0.8480672268907563.\u001b[0m\n",
      "\u001b[32m[I 2023-02-04 22:39:27,588]\u001b[0m Trial 157 finished with value: 0.8421848739495799 and parameters: {'max_depth': 453, 'num_leaves': 28, 'learning_rate': 0.08767468640754132, 'n_estimators': 1600, 'colsample_bytree': 0.6388694913070083, 'colsample_bynode': 0.8005282644225837, 'reg_lambda': 0.08313562631157907, 'reg_alpha': 0.07706374531394396, 'min_child_weight': 7, 'min_child_samples': 91}. Best is trial 124 with value: 0.8480672268907563.\u001b[0m\n",
      "\u001b[32m[I 2023-02-04 22:39:27,681]\u001b[0m Trial 158 finished with value: 0.8421848739495799 and parameters: {'max_depth': 493, 'num_leaves': 386, 'learning_rate': 0.14061468211321346, 'n_estimators': 100, 'colsample_bytree': 0.615692390519491, 'colsample_bynode': 0.9565576146778638, 'reg_lambda': 0.02812427170268526, 'reg_alpha': 0.09995264186634326, 'min_child_weight': 8, 'min_child_samples': 89}. Best is trial 124 with value: 0.8480672268907563.\u001b[0m\n",
      "\u001b[32m[I 2023-02-04 22:39:27,777]\u001b[0m Trial 159 finished with value: 0.8421848739495799 and parameters: {'max_depth': 158, 'num_leaves': 201, 'learning_rate': 0.2576941142374492, 'n_estimators': 300, 'colsample_bytree': 0.5203699597033068, 'colsample_bynode': 0.9688240432321051, 'reg_lambda': 0.031075049116012533, 'reg_alpha': 0.08033106026483945, 'min_child_weight': 15, 'min_child_samples': 84}. Best is trial 124 with value: 0.8480672268907563.\u001b[0m\n",
      "\u001b[32m[I 2023-02-04 22:39:27,876]\u001b[0m Trial 160 finished with value: 0.8421848739495799 and parameters: {'max_depth': 125, 'num_leaves': 23, 'learning_rate': 0.3731420511419617, 'n_estimators': 300, 'colsample_bytree': 0.5902676183022629, 'colsample_bynode': 0.961523105851078, 'reg_lambda': 0.09800627624268572, 'reg_alpha': 0.0921055751742776, 'min_child_weight': 15, 'min_child_samples': 96}. Best is trial 124 with value: 0.8480672268907563.\u001b[0m\n",
      "\u001b[32m[I 2023-02-04 22:39:27,967]\u001b[0m Trial 161 finished with value: 0.8421848739495799 and parameters: {'max_depth': 151, 'num_leaves': 144, 'learning_rate': 0.4818671220159857, 'n_estimators': 100, 'colsample_bytree': 0.6696024937522713, 'colsample_bynode': 0.9441587610554223, 'reg_lambda': 0.03618495510220149, 'reg_alpha': 0.10488724824911656, 'min_child_weight': 6, 'min_child_samples': 84}. Best is trial 124 with value: 0.8480672268907563.\u001b[0m\n",
      "\u001b[32m[I 2023-02-04 22:39:28,064]\u001b[0m Trial 162 finished with value: 0.8421848739495799 and parameters: {'max_depth': 144, 'num_leaves': 128, 'learning_rate': 0.5006246652873076, 'n_estimators': 200, 'colsample_bytree': 0.9436721693864929, 'colsample_bynode': 0.7836984298895194, 'reg_lambda': 0.11337875332691164, 'reg_alpha': 0.09269700559536308, 'min_child_weight': 7, 'min_child_samples': 91}. Best is trial 124 with value: 0.8480672268907563.\u001b[0m\n",
      "\u001b[32m[I 2023-02-04 22:39:28,161]\u001b[0m Trial 163 finished with value: 0.8421848739495799 and parameters: {'max_depth': 110, 'num_leaves': 253, 'learning_rate': 0.5078022432547546, 'n_estimators': 100, 'colsample_bytree': 0.5014358411723155, 'colsample_bynode': 0.9394516262858696, 'reg_lambda': 0.015328082743567752, 'reg_alpha': 0.09778107136738223, 'min_child_weight': 6, 'min_child_samples': 82}. Best is trial 124 with value: 0.8480672268907563.\u001b[0m\n",
      "\u001b[32m[I 2023-02-04 22:39:28,263]\u001b[0m Trial 164 finished with value: 0.8421848739495799 and parameters: {'max_depth': 39, 'num_leaves': 166, 'learning_rate': 0.23304789246030522, 'n_estimators': 200, 'colsample_bytree': 0.6003478976706023, 'colsample_bynode': 0.8111900184742397, 'reg_lambda': 0.022343707985648845, 'reg_alpha': 0.11472918630794941, 'min_child_weight': 5, 'min_child_samples': 86}. Best is trial 124 with value: 0.8480672268907563.\u001b[0m\n",
      "\u001b[32m[I 2023-02-04 22:39:28,457]\u001b[0m Trial 165 finished with value: 0.8421848739495799 and parameters: {'max_depth': 28, 'num_leaves': 91, 'learning_rate': 0.29922357519874093, 'n_estimators': 2800, 'colsample_bytree': 0.5415587783195156, 'colsample_bynode': 0.8340901895819101, 'reg_lambda': 0.01823579800702794, 'reg_alpha': 0.12833527563540226, 'min_child_weight': 5, 'min_child_samples': 76}. Best is trial 124 with value: 0.8480672268907563.\u001b[0m\n",
      "\u001b[32m[I 2023-02-04 22:39:28,645]\u001b[0m Trial 166 finished with value: 0.8421848739495799 and parameters: {'max_depth': 36, 'num_leaves': 104, 'learning_rate': 0.5276244626659207, 'n_estimators': 2700, 'colsample_bytree': 0.5546803082991372, 'colsample_bynode': 0.8886075623579843, 'reg_lambda': 0.01434023641512775, 'reg_alpha': 0.1313089123642508, 'min_child_weight': 5, 'min_child_samples': 71}. Best is trial 124 with value: 0.8480672268907563.\u001b[0m\n",
      "\u001b[32m[I 2023-02-04 22:39:28,821]\u001b[0m Trial 167 finished with value: 0.8421848739495799 and parameters: {'max_depth': 131, 'num_leaves': 179, 'learning_rate': 0.4365489260485671, 'n_estimators': 2500, 'colsample_bytree': 0.5199007729999056, 'colsample_bynode': 0.9519427475588345, 'reg_lambda': 0.025395370014217225, 'reg_alpha': 0.17055514182141168, 'min_child_weight': 5, 'min_child_samples': 71}. Best is trial 124 with value: 0.8480672268907563.\u001b[0m\n",
      "\u001b[32m[I 2023-02-04 22:39:28,996]\u001b[0m Trial 168 finished with value: 0.8421848739495799 and parameters: {'max_depth': 19, 'num_leaves': 232, 'learning_rate': 0.6043243995181541, 'n_estimators': 2600, 'colsample_bytree': 0.580186258931781, 'colsample_bynode': 0.9063657427011836, 'reg_lambda': 0.012498802459910967, 'reg_alpha': 0.152697127778363, 'min_child_weight': 4, 'min_child_samples': 81}. Best is trial 124 with value: 0.8480672268907563.\u001b[0m\n",
      "\u001b[32m[I 2023-02-04 22:39:29,627]\u001b[0m Trial 169 finished with value: 0.8421848739495799 and parameters: {'max_depth': 51, 'num_leaves': 258, 'learning_rate': 0.4573395378494354, 'n_estimators': 2500, 'colsample_bytree': 0.5601762463620903, 'colsample_bynode': 0.9213124026515548, 'reg_lambda': 0.012660359889664297, 'reg_alpha': 0.17999652998082147, 'min_child_weight': 4, 'min_child_samples': 64}. Best is trial 124 with value: 0.8480672268907563.\u001b[0m\n",
      "\u001b[32m[I 2023-02-04 22:39:29,790]\u001b[0m Trial 170 finished with value: 0.8421848739495799 and parameters: {'max_depth': 47, 'num_leaves': 344, 'learning_rate': 0.5643145717840752, 'n_estimators': 100, 'colsample_bytree': 0.5662615281415689, 'colsample_bynode': 0.8759306385716024, 'reg_lambda': 0.01519487500579577, 'reg_alpha': 0.1978747898348731, 'min_child_weight': 3, 'min_child_samples': 62}. Best is trial 124 with value: 0.8480672268907563.\u001b[0m\n",
      "\u001b[32m[I 2023-02-04 22:39:29,965]\u001b[0m Trial 171 finished with value: 0.8421848739495799 and parameters: {'max_depth': 16, 'num_leaves': 232, 'learning_rate': 0.5264074156307847, 'n_estimators': 2600, 'colsample_bytree': 0.5348760504382558, 'colsample_bynode': 0.8487896773278428, 'reg_lambda': 0.017863999587111774, 'reg_alpha': 0.2288799746065862, 'min_child_weight': 15, 'min_child_samples': 73}. Best is trial 124 with value: 0.8480672268907563.\u001b[0m\n",
      "\u001b[32m[I 2023-02-04 22:39:30,139]\u001b[0m Trial 172 finished with value: 0.8421848739495799 and parameters: {'max_depth': 30, 'num_leaves': 412, 'learning_rate': 0.6351338815372032, 'n_estimators': 2500, 'colsample_bytree': 0.5867367529949504, 'colsample_bynode': 0.935611271945034, 'reg_lambda': 0.011227606428956928, 'reg_alpha': 0.24843247210643207, 'min_child_weight': 15, 'min_child_samples': 69}. Best is trial 124 with value: 0.8480672268907563.\u001b[0m\n"
     ]
    },
    {
     "name": "stdout",
     "output_type": "stream",
     "text": [
      "\u001b[32m[I 2023-02-04 22:39:30,908]\u001b[0m Trial 173 finished with value: 0.8421848739495799 and parameters: {'max_depth': 21, 'num_leaves': 308, 'learning_rate': 0.5423533667496975, 'n_estimators': 2700, 'colsample_bytree': 0.573441271882383, 'colsample_bynode': 0.8587247921081121, 'reg_lambda': 0.014105482822593867, 'reg_alpha': 0.20956499366196504, 'min_child_weight': 15, 'min_child_samples': 61}. Best is trial 124 with value: 0.8480672268907563.\u001b[0m\n",
      "\u001b[32m[I 2023-02-04 22:39:31,114]\u001b[0m Trial 174 finished with value: 0.8421848739495799 and parameters: {'max_depth': 44, 'num_leaves': 175, 'learning_rate': 0.6777036319300997, 'n_estimators': 2900, 'colsample_bytree': 0.9240052042250704, 'colsample_bynode': 0.9326423918410656, 'reg_lambda': 0.010513833128606213, 'reg_alpha': 0.02837414428907175, 'min_child_weight': 4, 'min_child_samples': 78}. Best is trial 124 with value: 0.8480672268907563.\u001b[0m\n",
      "\u001b[32m[I 2023-02-04 22:39:32,153]\u001b[0m Trial 175 finished with value: 0.8363025210084034 and parameters: {'max_depth': 34, 'num_leaves': 424, 'learning_rate': 0.7372821977729807, 'n_estimators': 3000, 'colsample_bytree': 0.8915496604395682, 'colsample_bynode': 0.8903292340327639, 'reg_lambda': 0.011686785383642163, 'reg_alpha': 0.03506206897989477, 'min_child_weight': 15, 'min_child_samples': 58}. Best is trial 124 with value: 0.8480672268907563.\u001b[0m\n",
      "\u001b[32m[I 2023-02-04 22:39:32,252]\u001b[0m Trial 176 finished with value: 0.8421848739495799 and parameters: {'max_depth': 170, 'num_leaves': 135, 'learning_rate': 0.25319788067485416, 'n_estimators': 300, 'colsample_bytree': 0.5437880028080989, 'colsample_bynode': 0.7939478107172504, 'reg_lambda': 0.21426738959948058, 'reg_alpha': 0.07192214976842039, 'min_child_weight': 6, 'min_child_samples': 88}. Best is trial 124 with value: 0.8480672268907563.\u001b[0m\n",
      "\u001b[32m[I 2023-02-04 22:39:32,846]\u001b[0m Trial 177 finished with value: 0.8421848739495799 and parameters: {'max_depth': 361, 'num_leaves': 69, 'learning_rate': 0.7081135593811781, 'n_estimators': 2400, 'colsample_bytree': 0.8708464856636794, 'colsample_bynode': 0.6479861981815872, 'reg_lambda': 0.9698177332471684, 'reg_alpha': 0.025860965791700417, 'min_child_weight': 3, 'min_child_samples': 66}. Best is trial 124 with value: 0.8480672268907563.\u001b[0m\n",
      "\u001b[32m[I 2023-02-04 22:39:33,739]\u001b[0m Trial 178 finished with value: 0.8421848739495799 and parameters: {'max_depth': 402, 'num_leaves': 339, 'learning_rate': 0.7487346692258348, 'n_estimators': 2800, 'colsample_bytree': 0.8533797475217458, 'colsample_bynode': 0.6350813955743494, 'reg_lambda': 0.013041773800128817, 'reg_alpha': 0.13980967575322054, 'min_child_weight': 4, 'min_child_samples': 61}. Best is trial 124 with value: 0.8480672268907563.\u001b[0m\n",
      "\u001b[32m[I 2023-02-04 22:39:34,387]\u001b[0m Trial 179 finished with value: 0.8421848739495799 and parameters: {'max_depth': 4, 'num_leaves': 87, 'learning_rate': 0.6931716259786784, 'n_estimators': 2400, 'colsample_bytree': 0.9016595469433807, 'colsample_bynode': 0.9072534247782382, 'reg_lambda': 0.010013870467698168, 'reg_alpha': 0.15467073222406827, 'min_child_weight': 3, 'min_child_samples': 64}. Best is trial 124 with value: 0.8480672268907563.\u001b[0m\n",
      "\u001b[32m[I 2023-02-04 22:39:35,406]\u001b[0m Trial 180 finished with value: 0.8421848739495799 and parameters: {'max_depth': 435, 'num_leaves': 428, 'learning_rate': 0.7748246808261736, 'n_estimators': 2800, 'colsample_bytree': 0.8734946934482255, 'colsample_bynode': 0.6516842487219494, 'reg_lambda': 0.9985723082435278, 'reg_alpha': 0.0299770198762242, 'min_child_weight': 2, 'min_child_samples': 58}. Best is trial 124 with value: 0.8480672268907563.\u001b[0m\n",
      "\u001b[32m[I 2023-02-04 22:39:36,278]\u001b[0m Trial 181 finished with value: 0.8421848739495799 and parameters: {'max_depth': 387, 'num_leaves': 61, 'learning_rate': 0.713926345612542, 'n_estimators': 2600, 'colsample_bytree': 0.5331989998877469, 'colsample_bynode': 0.9256885162309365, 'reg_lambda': 0.8465487897476521, 'reg_alpha': 0.04534078995642468, 'min_child_weight': 5, 'min_child_samples': 56}. Best is trial 124 with value: 0.8480672268907563.\u001b[0m\n",
      "\u001b[32m[I 2023-02-04 22:39:36,721]\u001b[0m Trial 182 finished with value: 0.8421848739495799 and parameters: {'max_depth': 339, 'num_leaves': 38, 'learning_rate': 0.7161163893902683, 'n_estimators': 2900, 'colsample_bytree': 0.5648882264066432, 'colsample_bynode': 0.6585732920236881, 'reg_lambda': 0.8693492970313427, 'reg_alpha': 0.031710125638460186, 'min_child_weight': 3, 'min_child_samples': 68}. Best is trial 124 with value: 0.8480672268907563.\u001b[0m\n",
      "\u001b[32m[I 2023-02-04 22:39:37,612]\u001b[0m Trial 183 finished with value: 0.8421848739495799 and parameters: {'max_depth': 351, 'num_leaves': 99, 'learning_rate': 0.7924000926708347, 'n_estimators': 2900, 'colsample_bytree': 0.8467747721106108, 'colsample_bynode': 0.5053648553039913, 'reg_lambda': 0.01187357707885728, 'reg_alpha': 0.04014915805044769, 'min_child_weight': 5, 'min_child_samples': 60}. Best is trial 124 with value: 0.8480672268907563.\u001b[0m\n",
      "\u001b[32m[I 2023-02-04 22:39:38,757]\u001b[0m Trial 184 finished with value: 0.8421848739495799 and parameters: {'max_depth': 349, 'num_leaves': 64, 'learning_rate': 0.903219384138924, 'n_estimators': 2700, 'colsample_bytree': 0.9035189078768264, 'colsample_bynode': 0.6679704957617878, 'reg_lambda': 0.4639800978867673, 'reg_alpha': 0.19532724112807404, 'min_child_weight': 12, 'min_child_samples': 36}. Best is trial 124 with value: 0.8480672268907563.\u001b[0m\n",
      "\u001b[32m[I 2023-02-04 22:39:39,707]\u001b[0m Trial 185 finished with value: 0.8421848739495799 and parameters: {'max_depth': 391, 'num_leaves': 75, 'learning_rate': 0.7762911295500805, 'n_estimators': 2300, 'colsample_bytree': 0.8269205572927754, 'colsample_bynode': 0.5189675144506559, 'reg_lambda': 0.6229696835975779, 'reg_alpha': 0.2961940997143524, 'min_child_weight': 4, 'min_child_samples': 33}. Best is trial 124 with value: 0.8480672268907563.\u001b[0m\n",
      "\u001b[32m[I 2023-02-04 22:39:40,836]\u001b[0m Trial 186 finished with value: 0.8421848739495799 and parameters: {'max_depth': 370, 'num_leaves': 53, 'learning_rate': 0.9199569738837323, 'n_estimators': 3000, 'colsample_bytree': 0.8538333693394213, 'colsample_bynode': 0.6051448520254532, 'reg_lambda': 0.7862500876378707, 'reg_alpha': 0.16152468279679955, 'min_child_weight': 12, 'min_child_samples': 47}. Best is trial 124 with value: 0.8480672268907563.\u001b[0m\n",
      "\u001b[32m[I 2023-02-04 22:39:41,694]\u001b[0m Trial 187 finished with value: 0.8421848739495799 and parameters: {'max_depth': 462, 'num_leaves': 44, 'learning_rate': 0.5770549128248189, 'n_estimators': 2600, 'colsample_bytree': 0.5813161628136433, 'colsample_bynode': 0.6371620061621653, 'reg_lambda': 0.7360399810817204, 'reg_alpha': 0.3155240507373013, 'min_child_weight': 12, 'min_child_samples': 42}. Best is trial 124 with value: 0.8480672268907563.\u001b[0m\n",
      "\u001b[32m[I 2023-02-04 22:39:42,535]\u001b[0m Trial 188 finished with value: 0.8421848739495799 and parameters: {'max_depth': 322, 'num_leaves': 56, 'learning_rate': 0.7449663044420382, 'n_estimators': 2200, 'colsample_bytree': 0.8053012016083886, 'colsample_bynode': 0.584617794704549, 'reg_lambda': 0.7590441926638047, 'reg_alpha': 0.2765076742582664, 'min_child_weight': 4, 'min_child_samples': 50}. Best is trial 124 with value: 0.8480672268907563.\u001b[0m\n",
      "\u001b[32m[I 2023-02-04 22:39:43,294]\u001b[0m Trial 189 finished with value: 0.8421848739495799 and parameters: {'max_depth': 405, 'num_leaves': 38, 'learning_rate': 0.8905507372829262, 'n_estimators': 2300, 'colsample_bytree': 0.7848411014802689, 'colsample_bynode': 0.6798615601918605, 'reg_lambda': 0.7142933070596627, 'reg_alpha': 0.54128252661536, 'min_child_weight': 13, 'min_child_samples': 54}. Best is trial 124 with value: 0.8480672268907563.\u001b[0m\n",
      "\u001b[32m[I 2023-02-04 22:39:44,190]\u001b[0m Trial 190 finished with value: 0.8421848739495799 and parameters: {'max_depth': 315, 'num_leaves': 47, 'learning_rate': 0.8423477408660265, 'n_estimators': 2500, 'colsample_bytree': 0.7247930074681982, 'colsample_bynode': 0.569262783724643, 'reg_lambda': 0.8842018827604267, 'reg_alpha': 0.4984426905933515, 'min_child_weight': 2, 'min_child_samples': 45}. Best is trial 124 with value: 0.8480672268907563.\u001b[0m\n",
      "\u001b[32m[I 2023-02-04 22:39:44,647]\u001b[0m Trial 191 finished with value: 0.8421848739495799 and parameters: {'max_depth': 441, 'num_leaves': 491, 'learning_rate': 0.8710544136147021, 'n_estimators': 900, 'colsample_bytree': 0.7155819121078951, 'colsample_bynode': 0.6281189053074527, 'reg_lambda': 0.6616893033164624, 'reg_alpha': 0.4363383275050956, 'min_child_weight': 10, 'min_child_samples': 52}. Best is trial 124 with value: 0.8480672268907563.\u001b[0m\n"
     ]
    },
    {
     "name": "stdout",
     "output_type": "stream",
     "text": [
      "\u001b[32m[I 2023-02-04 22:39:45,159]\u001b[0m Trial 192 finished with value: 0.8421848739495799 and parameters: {'max_depth': 466, 'num_leaves': 586, 'learning_rate': 0.9507441086763605, 'n_estimators': 1000, 'colsample_bytree': 0.7648518096578999, 'colsample_bynode': 0.5987600993005288, 'reg_lambda': 0.5320153437623085, 'reg_alpha': 0.4075910601344149, 'min_child_weight': 11, 'min_child_samples': 54}. Best is trial 124 with value: 0.8480672268907563.\u001b[0m\n",
      "\u001b[32m[I 2023-02-04 22:39:45,769]\u001b[0m Trial 193 finished with value: 0.8421848739495799 and parameters: {'max_depth': 334, 'num_leaves': 975, 'learning_rate': 0.8706898438253912, 'n_estimators': 1000, 'colsample_bytree': 0.7133967694130985, 'colsample_bynode': 0.6165026346813757, 'reg_lambda': 0.5942381415947128, 'reg_alpha': 0.473452076714278, 'min_child_weight': 11, 'min_child_samples': 46}. Best is trial 124 with value: 0.8480672268907563.\u001b[0m\n",
      "\u001b[32m[I 2023-02-04 22:39:46,313]\u001b[0m Trial 194 finished with value: 0.8421848739495799 and parameters: {'max_depth': 296, 'num_leaves': 908, 'learning_rate': 0.9173416860070747, 'n_estimators': 900, 'colsample_bytree': 0.6923829848746307, 'colsample_bynode': 0.6292870536736169, 'reg_lambda': 0.5557775337749267, 'reg_alpha': 0.7809258298793648, 'min_child_weight': 11, 'min_child_samples': 50}. Best is trial 124 with value: 0.8480672268907563.\u001b[0m\n",
      "\u001b[32m[I 2023-02-04 22:39:47,593]\u001b[0m Trial 195 finished with value: 0.8421848739495799 and parameters: {'max_depth': 279, 'num_leaves': 890, 'learning_rate': 0.8032576781200899, 'n_estimators': 2900, 'colsample_bytree': 0.6856400426755525, 'colsample_bynode': 0.5875625040248765, 'reg_lambda': 0.470332482184175, 'reg_alpha': 0.8621583102819784, 'min_child_weight': 10, 'min_child_samples': 48}. Best is trial 124 with value: 0.8480672268907563.\u001b[0m\n",
      "\u001b[32m[I 2023-02-04 22:39:48,753]\u001b[0m Trial 196 finished with value: 0.8305882352941177 and parameters: {'max_depth': 427, 'num_leaves': 547, 'learning_rate': 0.8356001643467759, 'n_estimators': 2100, 'colsample_bytree': 0.8353686277539191, 'colsample_bynode': 0.5233248454255524, 'reg_lambda': 0.8553637664765258, 'reg_alpha': 0.0356935895224174, 'min_child_weight': 10, 'min_child_samples': 5}. Best is trial 124 with value: 0.8480672268907563.\u001b[0m\n",
      "\u001b[32m[I 2023-02-04 22:39:49,261]\u001b[0m Trial 197 finished with value: 0.8421848739495799 and parameters: {'max_depth': 460, 'num_leaves': 643, 'learning_rate': 0.000231981329628257, 'n_estimators': 800, 'colsample_bytree': 0.7437413176314804, 'colsample_bynode': 0.6837859622160601, 'reg_lambda': 0.9192937425401094, 'reg_alpha': 0.3635650397417101, 'min_child_weight': 9, 'min_child_samples': 39}. Best is trial 124 with value: 0.8480672268907563.\u001b[0m\n",
      "\u001b[32m[I 2023-02-04 22:39:49,915]\u001b[0m Trial 198 finished with value: 0.8421848739495799 and parameters: {'max_depth': 265, 'num_leaves': 783, 'learning_rate': 0.8503774000795771, 'n_estimators': 1000, 'colsample_bytree': 0.6979899426904077, 'colsample_bynode': 0.6950702134736347, 'reg_lambda': 0.7332401561062356, 'reg_alpha': 0.6480023909052107, 'min_child_weight': 11, 'min_child_samples': 14}. Best is trial 124 with value: 0.8480672268907563.\u001b[0m\n",
      "\u001b[32m[I 2023-02-04 22:39:50,512]\u001b[0m Trial 199 finished with value: 0.8363025210084034 and parameters: {'max_depth': 481, 'num_leaves': 784, 'learning_rate': 0.8640970933013326, 'n_estimators': 900, 'colsample_bytree': 0.7539759613668361, 'colsample_bynode': 0.5403512347546369, 'reg_lambda': 0.3500791437757058, 'reg_alpha': 0.04409289152783085, 'min_child_weight': 10, 'min_child_samples': 36}. Best is trial 124 with value: 0.8480672268907563.\u001b[0m\n"
     ]
    }
   ],
   "source": [
    "study_list = []\n",
    "code_line = [['A_31', 'T100304'], ['A_31', 'T050307'], ['A_31', 'T010306'], ['A_31', 'T010305'], ['T_31', 'T100304'], ['T_31', 'T100306']]\n",
    "\n",
    "for cl, train_df in zip(code_line, [train_A1, train_A2, train_A3, train_A4, train_T1, train_T2]):\n",
    "    # split\n",
    "    x_train = train_df.drop(columns=['Y_Class', 'Y_Quality'])\n",
    "    y_class = train_df['Y_Class']\n",
    "    y_quality = train_df['Y_Quality']\n",
    "\n",
    "#     stdscaler = StandardScaler().fit(x_train[x_train.columns[3:]])\n",
    "#     x_train[x_train.columns[3:]] = stdscaler.transform(x_train[x_train.columns[3:]])\n",
    "    \n",
    "    # optuna\n",
    "    study = optuna.create_study(direction='maximize')\n",
    "    study.optimize(lgbm_objective, n_trials=200, show_progress_bar=True)\n",
    "\n",
    "    clear_output(wait=True)\n",
    "    study_list.append(study)"
   ]
  },
  {
   "cell_type": "code",
   "execution_count": 94,
   "id": "bcb3813d",
   "metadata": {
    "scrolled": true
   },
   "outputs": [
    {
     "name": "stderr",
     "output_type": "stream",
     "text": [
      "\u001b[32m[I 2023-02-04 22:39:50,586]\u001b[0m A new study created in memory with name: no-name-a203ccb6-c1d2-491a-9161-0baba7ebc57d\u001b[0m\n"
     ]
    },
    {
     "data": {
      "application/json": {
       "ascii": false,
       "bar_format": null,
       "colour": null,
       "elapsed": 0.012001514434814453,
       "initial": 0,
       "n": 0,
       "ncols": null,
       "nrows": null,
       "postfix": null,
       "prefix": "",
       "rate": null,
       "total": 50,
       "unit": "it",
       "unit_divisor": 1000,
       "unit_scale": false
      },
      "application/vnd.jupyter.widget-view+json": {
       "model_id": "60f07ef65a3244e284357d8c5fb1f29d",
       "version_major": 2,
       "version_minor": 0
      },
      "text/plain": [
       "  0%|          | 0/50 [00:00<?, ?it/s]"
      ]
     },
     "metadata": {},
     "output_type": "display_data"
    },
    {
     "name": "stdout",
     "output_type": "stream",
     "text": [
      "\u001b[32m[I 2023-02-04 22:39:50,640]\u001b[0m Trial 0 finished with value: 0.6666666666666666 and parameters: {'max_depth': 456, 'num_leaves': 2, 'learning_rate': 0.9154807512341436, 'n_estimators': 1800, 'colsample_bytree': 0.9297690716648455, 'colsample_bynode': 0.627159493204221, 'reg_lambda': 0.07898526607097386, 'reg_alpha': 0.037238279201186095, 'min_child_weight': 5, 'min_child_samples': 49}. Best is trial 0 with value: 0.6666666666666666.\u001b[0m\n",
      "\u001b[32m[I 2023-02-04 22:39:50,671]\u001b[0m Trial 1 finished with value: 0.6666666666666666 and parameters: {'max_depth': 326, 'num_leaves': 52, 'learning_rate': 0.6095716904606273, 'n_estimators': 800, 'colsample_bytree': 0.6592323921368524, 'colsample_bynode': 0.5985865768398595, 'reg_lambda': 0.7985848870580277, 'reg_alpha': 0.552203196259856, 'min_child_weight': 12, 'min_child_samples': 32}. Best is trial 0 with value: 0.6666666666666666.\u001b[0m\n",
      "\u001b[32m[I 2023-02-04 22:39:50,732]\u001b[0m Trial 2 finished with value: 0.6666666666666666 and parameters: {'max_depth': 255, 'num_leaves': 403, 'learning_rate': 0.6308648724125488, 'n_estimators': 2800, 'colsample_bytree': 0.8070380570082822, 'colsample_bynode': 0.7303554596473838, 'reg_lambda': 0.8931536709334399, 'reg_alpha': 0.07794693933320139, 'min_child_weight': 9, 'min_child_samples': 44}. Best is trial 0 with value: 0.6666666666666666.\u001b[0m\n",
      "\u001b[32m[I 2023-02-04 22:39:50,788]\u001b[0m Trial 3 finished with value: 0.6666666666666666 and parameters: {'max_depth': 43, 'num_leaves': 668, 'learning_rate': 0.5593696360144581, 'n_estimators': 2000, 'colsample_bytree': 0.8570267526738196, 'colsample_bynode': 0.5106447005679473, 'reg_lambda': 0.040020008599324135, 'reg_alpha': 0.031237155109268177, 'min_child_weight': 7, 'min_child_samples': 12}. Best is trial 0 with value: 0.6666666666666666.\u001b[0m\n",
      "\u001b[32m[I 2023-02-04 22:39:50,828]\u001b[0m Trial 4 finished with value: 0.6666666666666666 and parameters: {'max_depth': 488, 'num_leaves': 365, 'learning_rate': 0.5543983114970287, 'n_estimators': 1200, 'colsample_bytree': 0.6625956813744552, 'colsample_bynode': 0.9760144515882119, 'reg_lambda': 0.04374689307662282, 'reg_alpha': 0.7923850685282989, 'min_child_weight': 12, 'min_child_samples': 38}. Best is trial 0 with value: 0.6666666666666666.\u001b[0m\n",
      "\u001b[32m[I 2023-02-04 22:39:50,862]\u001b[0m Trial 5 finished with value: 0.6666666666666666 and parameters: {'max_depth': 206, 'num_leaves': 5, 'learning_rate': 0.767358501231458, 'n_estimators': 700, 'colsample_bytree': 0.674506088415584, 'colsample_bynode': 0.8454096341474325, 'reg_lambda': 0.28139766712226655, 'reg_alpha': 0.12521649460699202, 'min_child_weight': 9, 'min_child_samples': 22}. Best is trial 0 with value: 0.6666666666666666.\u001b[0m\n",
      "\u001b[32m[I 2023-02-04 22:39:50,895]\u001b[0m Trial 6 finished with value: 0.6666666666666666 and parameters: {'max_depth': 418, 'num_leaves': 408, 'learning_rate': 0.6090245527661683, 'n_estimators': 700, 'colsample_bytree': 0.565656641015545, 'colsample_bynode': 0.7861897851635119, 'reg_lambda': 0.015829327178216578, 'reg_alpha': 0.011133052796077694, 'min_child_weight': 4, 'min_child_samples': 64}. Best is trial 0 with value: 0.6666666666666666.\u001b[0m\n",
      "\u001b[32m[I 2023-02-04 22:39:50,930]\u001b[0m Trial 7 finished with value: 0.6666666666666666 and parameters: {'max_depth': 100, 'num_leaves': 89, 'learning_rate': 0.11854973367548932, 'n_estimators': 1200, 'colsample_bytree': 0.5003260771012654, 'colsample_bynode': 0.9906200466632569, 'reg_lambda': 0.12875707614648194, 'reg_alpha': 0.03635374743058508, 'min_child_weight': 9, 'min_child_samples': 52}. Best is trial 0 with value: 0.6666666666666666.\u001b[0m\n",
      "\u001b[32m[I 2023-02-04 22:39:50,954]\u001b[0m Trial 8 finished with value: 0.6666666666666666 and parameters: {'max_depth': 318, 'num_leaves': 665, 'learning_rate': 0.8122341528082807, 'n_estimators': 100, 'colsample_bytree': 0.8380871048125522, 'colsample_bynode': 0.8727175686968048, 'reg_lambda': 0.023016439985759616, 'reg_alpha': 0.022491009722020627, 'min_child_weight': 8, 'min_child_samples': 18}. Best is trial 0 with value: 0.6666666666666666.\u001b[0m\n",
      "\u001b[32m[I 2023-02-04 22:39:50,977]\u001b[0m Trial 9 finished with value: 0.6666666666666666 and parameters: {'max_depth': 389, 'num_leaves': 41, 'learning_rate': 0.5590674627272609, 'n_estimators': 100, 'colsample_bytree': 0.7059356376909331, 'colsample_bynode': 0.7900542342453524, 'reg_lambda': 0.04010716834283138, 'reg_alpha': 0.5072536867090432, 'min_child_weight': 13, 'min_child_samples': 85}. Best is trial 0 with value: 0.6666666666666666.\u001b[0m\n",
      "\u001b[32m[I 2023-02-04 22:39:51,028]\u001b[0m Trial 10 finished with value: 0.6666666666666666 and parameters: {'max_depth': 502, 'num_leaves': 2, 'learning_rate': 0.970796052528167, 'n_estimators': 2200, 'colsample_bytree': 0.9938806778343074, 'colsample_bynode': 0.6356899117517885, 'reg_lambda': 0.1490121961392678, 'reg_alpha': 0.18477356901272315, 'min_child_weight': 2, 'min_child_samples': 73}. Best is trial 0 with value: 0.6666666666666666.\u001b[0m\n",
      "\u001b[32m[I 2023-02-04 22:39:51,071]\u001b[0m Trial 11 finished with value: 0.6666666666666666 and parameters: {'max_depth': 362, 'num_leaves': 11, 'learning_rate': 0.27312078070942636, 'n_estimators': 1800, 'colsample_bytree': 0.9934128725016678, 'colsample_bynode': 0.5958894367022479, 'reg_lambda': 0.669113242574523, 'reg_alpha': 0.2998998016736839, 'min_child_weight': 5, 'min_child_samples': 33}. Best is trial 0 with value: 0.6666666666666666.\u001b[0m\n",
      "\u001b[32m[I 2023-02-04 22:39:51,133]\u001b[0m Trial 12 finished with value: 0.6666666666666666 and parameters: {'max_depth': 204, 'num_leaves': 16, 'learning_rate': 0.32256431539346053, 'n_estimators': 2600, 'colsample_bytree': 0.9055769045306488, 'colsample_bynode': 0.6360009403746197, 'reg_lambda': 0.36269444947371404, 'reg_alpha': 0.06312483368282654, 'min_child_weight': 15, 'min_child_samples': 61}. Best is trial 0 with value: 0.6666666666666666.\u001b[0m\n",
      "\u001b[32m[I 2023-02-04 22:39:51,178]\u001b[0m Trial 13 finished with value: 0.6666666666666666 and parameters: {'max_depth': 432, 'num_leaves': 86, 'learning_rate': 0.8477495397358099, 'n_estimators': 1400, 'colsample_bytree': 0.6066478344010083, 'colsample_bynode': 0.5411572999609454, 'reg_lambda': 0.08178596730393774, 'reg_alpha': 0.22411891436808462, 'min_child_weight': 12, 'min_child_samples': 30}. Best is trial 0 with value: 0.6666666666666666.\u001b[0m\n",
      "\u001b[32m[I 2023-02-04 22:39:51,214]\u001b[0m Trial 14 finished with value: 0.6666666666666666 and parameters: {'max_depth': 311, 'num_leaves': 2, 'learning_rate': 0.9593427058675049, 'n_estimators': 800, 'colsample_bytree': 0.756106117162626, 'colsample_bynode': 0.6841997690210119, 'reg_lambda': 0.264132507387158, 'reg_alpha': 0.011972774993283404, 'min_child_weight': 6, 'min_child_samples': 95}. Best is trial 0 with value: 0.6666666666666666.\u001b[0m\n",
      "\u001b[32m[I 2023-02-04 22:39:51,266]\u001b[0m Trial 15 finished with value: 0.6666666666666666 and parameters: {'max_depth': 440, 'num_leaves': 126, 'learning_rate': 0.38508423715089146, 'n_estimators': 2300, 'colsample_bytree': 0.9163012187668211, 'colsample_bynode': 0.5749487966600344, 'reg_lambda': 0.010194367379832278, 'reg_alpha': 0.806495699473221, 'min_child_weight': 2, 'min_child_samples': 6}. Best is trial 0 with value: 0.6666666666666666.\u001b[0m\n",
      "\u001b[32m[I 2023-02-04 22:39:51,315]\u001b[0m Trial 16 finished with value: 0.6666666666666666 and parameters: {'max_depth': 326, 'num_leaves': 28, 'learning_rate': 0.7095550553069085, 'n_estimators': 1700, 'colsample_bytree': 0.7664996046553209, 'colsample_bynode': 0.6931694078663397, 'reg_lambda': 0.08243284224138253, 'reg_alpha': 0.05282264210081426, 'min_child_weight': 11, 'min_child_samples': 47}. Best is trial 0 with value: 0.6666666666666666.\u001b[0m\n",
      "\u001b[32m[I 2023-02-04 22:39:51,353]\u001b[0m Trial 17 finished with value: 0.6666666666666666 and parameters: {'max_depth': 151, 'num_leaves': 2, 'learning_rate': 0.9819290031519649, 'n_estimators': 1000, 'colsample_bytree': 0.7373542527561987, 'colsample_bynode': 0.6679374204034002, 'reg_lambda': 0.2082143648394031, 'reg_alpha': 0.011177647667863668, 'min_child_weight': 5, 'min_child_samples': 99}. Best is trial 0 with value: 0.6666666666666666.\u001b[0m\n",
      "\u001b[32m[I 2023-02-04 22:39:51,411]\u001b[0m Trial 18 finished with value: 0.6666666666666666 and parameters: {'max_depth': 443, 'num_leaves': 144, 'learning_rate': 0.4224911126464896, 'n_estimators': 2300, 'colsample_bytree': 0.9224756172328424, 'colsample_bynode': 0.5781213607213392, 'reg_lambda': 0.010485491026464773, 'reg_alpha': 0.11280993769894694, 'min_child_weight': 3, 'min_child_samples': 8}. Best is trial 0 with value: 0.6666666666666666.\u001b[0m\n",
      "\u001b[32m[I 2023-02-04 22:39:51,457]\u001b[0m Trial 19 finished with value: 0.6666666666666666 and parameters: {'max_depth': 248, 'num_leaves': 16, 'learning_rate': 0.7246974875362459, 'n_estimators': 1700, 'colsample_bytree': 0.7986798750120067, 'colsample_bynode': 0.7239174839428255, 'reg_lambda': 0.07085979959200829, 'reg_alpha': 0.0479605742655774, 'min_child_weight': 11, 'min_child_samples': 50}. Best is trial 0 with value: 0.6666666666666666.\u001b[0m\n",
      "\u001b[32m[I 2023-02-04 22:39:51,496]\u001b[0m Trial 20 finished with value: 0.6666666666666666 and parameters: {'max_depth': 128, 'num_leaves': 4, 'learning_rate': 0.9113127010719602, 'n_estimators': 1100, 'colsample_bytree': 0.7166359571242039, 'colsample_bynode': 0.6497228796214382, 'reg_lambda': 0.1846824724119098, 'reg_alpha': 0.018453097007978644, 'min_child_weight': 5, 'min_child_samples': 99}. Best is trial 0 with value: 0.6666666666666666.\u001b[0m\n",
      "\u001b[32m[I 2023-02-04 22:39:51,547]\u001b[0m Trial 21 finished with value: 0.6666666666666666 and parameters: {'max_depth': 154, 'num_leaves': 5, 'learning_rate': 0.16323629264598882, 'n_estimators': 2400, 'colsample_bytree': 0.916538425599152, 'colsample_bynode': 0.561902652917964, 'reg_lambda': 0.016972734695936444, 'reg_alpha': 0.11568196372450736, 'min_child_weight': 3, 'min_child_samples': 76}. Best is trial 0 with value: 0.6666666666666666.\u001b[0m\n"
     ]
    },
    {
     "name": "stdout",
     "output_type": "stream",
     "text": [
      "\u001b[32m[I 2023-02-04 22:39:51,614]\u001b[0m Trial 22 finished with value: 0.6666666666666666 and parameters: {'max_depth': 252, 'num_leaves': 175, 'learning_rate': 0.4771244383469413, 'n_estimators': 3000, 'colsample_bytree': 0.9548331647037835, 'colsample_bynode': 0.752530417692396, 'reg_lambda': 0.05181348023700132, 'reg_alpha': 0.045851710902262754, 'min_child_weight': 3, 'min_child_samples': 61}. Best is trial 0 with value: 0.6666666666666666.\u001b[0m\n",
      "\u001b[32m[I 2023-02-04 22:39:51,657]\u001b[0m Trial 23 finished with value: 0.6666666666666666 and parameters: {'max_depth': 23, 'num_leaves': 5, 'learning_rate': 0.8743601851911692, 'n_estimators': 1600, 'colsample_bytree': 0.80360395482049, 'colsample_bynode': 0.7284493212199528, 'reg_lambda': 0.06657349772698297, 'reg_alpha': 0.020726214318223052, 'min_child_weight': 7, 'min_child_samples': 56}. Best is trial 0 with value: 0.6666666666666666.\u001b[0m\n",
      "\u001b[32m[I 2023-02-04 22:39:51,710]\u001b[0m Trial 24 finished with value: 0.6666666666666666 and parameters: {'max_depth': 116, 'num_leaves': 4, 'learning_rate': 0.09112151308309174, 'n_estimators': 2600, 'colsample_bytree': 0.8699749447945783, 'colsample_bynode': 0.5282614719216192, 'reg_lambda': 0.02217781313527038, 'reg_alpha': 0.018746278987868212, 'min_child_weight': 4, 'min_child_samples': 78}. Best is trial 0 with value: 0.6666666666666666.\u001b[0m\n",
      "\u001b[32m[I 2023-02-04 22:39:51,768]\u001b[0m Trial 25 finished with value: 0.6666666666666666 and parameters: {'max_depth': 191, 'num_leaves': 9, 'learning_rate': 0.04011163577580873, 'n_estimators': 3000, 'colsample_bytree': 0.9561031147356139, 'colsample_bynode': 0.7908856784598024, 'reg_lambda': 0.02373786350663518, 'reg_alpha': 0.07955885159225531, 'min_child_weight': 3, 'min_child_samples': 69}. Best is trial 0 with value: 0.6666666666666666.\u001b[0m\n",
      "\u001b[32m[I 2023-02-04 22:39:51,814]\u001b[0m Trial 26 finished with value: 0.6666666666666666 and parameters: {'max_depth': 8, 'num_leaves': 214, 'learning_rate': 0.8715899826621055, 'n_estimators': 1500, 'colsample_bytree': 0.951958405202424, 'colsample_bynode': 0.8465230602436983, 'reg_lambda': 0.05713396587309773, 'reg_alpha': 0.03415722897991049, 'min_child_weight': 7, 'min_child_samples': 58}. Best is trial 0 with value: 0.6666666666666666.\u001b[0m\n",
      "\u001b[32m[I 2023-02-04 22:39:51,863]\u001b[0m Trial 27 finished with value: 0.6666666666666666 and parameters: {'max_depth': 61, 'num_leaves': 3, 'learning_rate': 0.20517313643177426, 'n_estimators': 2000, 'colsample_bytree': 0.8550274978579914, 'colsample_bynode': 0.5095853638863721, 'reg_lambda': 0.029573804709506362, 'reg_alpha': 0.0187168102706937, 'min_child_weight': 7, 'min_child_samples': 78}. Best is trial 0 with value: 0.6666666666666666.\u001b[0m\n",
      "\u001b[32m[I 2023-02-04 22:39:51,919]\u001b[0m Trial 28 finished with value: 0.6666666666666666 and parameters: {'max_depth': 182, 'num_leaves': 8, 'learning_rate': 0.050394095795915375, 'n_estimators': 2700, 'colsample_bytree': 0.8808820736201002, 'colsample_bynode': 0.9460789465095352, 'reg_lambda': 0.026533918469135352, 'reg_alpha': 0.027823411051221762, 'min_child_weight': 4, 'min_child_samples': 68}. Best is trial 0 with value: 0.6666666666666666.\u001b[0m\n",
      "\u001b[32m[I 2023-02-04 22:39:51,960]\u001b[0m Trial 29 finished with value: 0.6666666666666666 and parameters: {'max_depth': 74, 'num_leaves': 27, 'learning_rate': 0.6726053109510187, 'n_estimators': 1400, 'colsample_bytree': 0.9553291519648897, 'colsample_bynode': 0.8240849860193946, 'reg_lambda': 0.11212590913274859, 'reg_alpha': 0.07440536201132758, 'min_child_weight': 6, 'min_child_samples': 87}. Best is trial 0 with value: 0.6666666666666666.\u001b[0m\n",
      "\u001b[32m[I 2023-02-04 22:39:52,008]\u001b[0m Trial 30 finished with value: 0.6666666666666666 and parameters: {'max_depth': 56, 'num_leaves': 3, 'learning_rate': 0.2415489210049031, 'n_estimators': 2000, 'colsample_bytree': 0.8515049418349081, 'colsample_bynode': 0.9221101180941197, 'reg_lambda': 0.034491546439677605, 'reg_alpha': 0.015571363461138769, 'min_child_weight': 7, 'min_child_samples': 40}. Best is trial 0 with value: 0.6666666666666666.\u001b[0m\n",
      "\u001b[32m[I 2023-02-04 22:39:52,057]\u001b[0m Trial 31 finished with value: 0.6666666666666666 and parameters: {'max_depth': 6, 'num_leaves': 7, 'learning_rate': 0.007548643179923556, 'n_estimators': 2000, 'colsample_bytree': 0.886529158073898, 'colsample_bynode': 0.9143260943983725, 'reg_lambda': 0.029958228009593618, 'reg_alpha': 0.02870983071622145, 'min_child_weight': 6, 'min_child_samples': 67}. Best is trial 0 with value: 0.6666666666666666.\u001b[0m\n",
      "\u001b[32m[I 2023-02-04 22:39:52,099]\u001b[0m Trial 32 finished with value: 0.6666666666666666 and parameters: {'max_depth': 74, 'num_leaves': 26, 'learning_rate': 0.2064856020111865, 'n_estimators': 1400, 'colsample_bytree': 0.8257263266086151, 'colsample_bynode': 0.9329829967121148, 'reg_lambda': 0.11455499629059118, 'reg_alpha': 0.02534673032048458, 'min_child_weight': 6, 'min_child_samples': 86}. Best is trial 0 with value: 0.6666666666666666.\u001b[0m\n",
      "\u001b[32m[I 2023-02-04 22:39:52,145]\u001b[0m Trial 33 finished with value: 0.6666666666666666 and parameters: {'max_depth': 73, 'num_leaves': 3, 'learning_rate': 0.27808812499683816, 'n_estimators': 1900, 'colsample_bytree': 0.8910824678576613, 'colsample_bynode': 0.932884754089885, 'reg_lambda': 0.087338219173899, 'reg_alpha': 0.014886029109702742, 'min_child_weight': 8, 'min_child_samples': 40}. Best is trial 0 with value: 0.6666666666666666.\u001b[0m\n",
      "\u001b[32m[I 2023-02-04 22:39:52,195]\u001b[0m Trial 34 finished with value: 0.6666666666666666 and parameters: {'max_depth': 33, 'num_leaves': 7, 'learning_rate': 0.6732223759456188, 'n_estimators': 2000, 'colsample_bytree': 0.9466040982597598, 'colsample_bynode': 0.8822351516975102, 'reg_lambda': 0.03625222289883894, 'reg_alpha': 0.03756587289956763, 'min_child_weight': 6, 'min_child_samples': 87}. Best is trial 0 with value: 0.6666666666666666.\u001b[0m\n",
      "\u001b[32m[I 2023-02-04 22:39:52,227]\u001b[0m Trial 35 finished with value: 0.6666666666666666 and parameters: {'max_depth': 151, 'num_leaves': 15, 'learning_rate': 0.7636862294097657, 'n_estimators': 400, 'colsample_bytree': 0.8000671282726041, 'colsample_bynode': 0.6239583150648096, 'reg_lambda': 0.16430172596824735, 'reg_alpha': 0.13742676883665772, 'min_child_weight': 10, 'min_child_samples': 49}. Best is trial 0 with value: 0.6666666666666666.\u001b[0m\n",
      "\u001b[32m[I 2023-02-04 22:39:52,317]\u001b[0m Trial 36 finished with value: 0.6666666666666666 and parameters: {'max_depth': 263, 'num_leaves': 992, 'learning_rate': 0.4649115741153294, 'n_estimators': 3000, 'colsample_bytree': 0.6326629660010579, 'colsample_bynode': 0.7584842902682498, 'reg_lambda': 0.05177594709287381, 'reg_alpha': 0.04900875437025064, 'min_child_weight': 3, 'min_child_samples': 95}. Best is trial 0 with value: 0.6666666666666666.\u001b[0m\n",
      "\u001b[32m[I 2023-02-04 22:39:52,371]\u001b[0m Trial 37 finished with value: 0.6666666666666666 and parameters: {'max_depth': 279, 'num_leaves': 62, 'learning_rate': 0.9216739631036092, 'n_estimators': 2400, 'colsample_bytree': 0.7020265443454874, 'colsample_bynode': 0.5554655425004706, 'reg_lambda': 0.536536319477661, 'reg_alpha': 0.09099692288264047, 'min_child_weight': 2, 'min_child_samples': 77}. Best is trial 0 with value: 0.6666666666666666.\u001b[0m\n",
      "\u001b[32m[I 2023-02-04 22:39:52,425]\u001b[0m Trial 38 finished with value: 0.6666666666666666 and parameters: {'max_depth': 236, 'num_leaves': 5, 'learning_rate': 0.4976432381117594, 'n_estimators': 2800, 'colsample_bytree': 0.9819230207392851, 'colsample_bynode': 0.7150898067724769, 'reg_lambda': 0.01753096594743666, 'reg_alpha': 0.04427143805694751, 'min_child_weight': 4, 'min_child_samples': 60}. Best is trial 0 with value: 0.6666666666666666.\u001b[0m\n",
      "\u001b[32m[I 2023-02-04 22:39:52,484]\u001b[0m Trial 39 finished with value: 0.6666666666666666 and parameters: {'max_depth': 228, 'num_leaves': 258, 'learning_rate': 0.8271852547698587, 'n_estimators': 2400, 'colsample_bytree': 0.9257020434223724, 'colsample_bynode': 0.7520629668480306, 'reg_lambda': 0.05915898973895042, 'reg_alpha': 0.15429903278639517, 'min_child_weight': 3, 'min_child_samples': 59}. Best is trial 0 with value: 0.6666666666666666.\u001b[0m\n",
      "\u001b[32m[I 2023-02-04 22:39:52,537]\u001b[0m Trial 40 finished with value: 0.6666666666666666 and parameters: {'max_depth': 107, 'num_leaves': 4, 'learning_rate': 0.6044125241186371, 'n_estimators': 2800, 'colsample_bytree': 0.7823189327798159, 'colsample_bynode': 0.5312933131913224, 'reg_lambda': 0.045919630844899105, 'reg_alpha': 0.021819083754918308, 'min_child_weight': 4, 'min_child_samples': 56}. Best is trial 0 with value: 0.6666666666666666.\u001b[0m\n",
      "\u001b[32m[I 2023-02-04 22:39:52,596]\u001b[0m Trial 41 finished with value: 0.6666666666666666 and parameters: {'max_depth': 197, 'num_leaves': 8, 'learning_rate': 0.09858941149904873, 'n_estimators': 3000, 'colsample_bytree': 0.9626495656176206, 'colsample_bynode': 0.789931289202052, 'reg_lambda': 0.020797514037967407, 'reg_alpha': 0.06602223065371246, 'min_child_weight': 5, 'min_child_samples': 69}. Best is trial 0 with value: 0.6666666666666666.\u001b[0m\n",
      "\u001b[32m[I 2023-02-04 22:39:52,639]\u001b[0m Trial 42 finished with value: 0.6666666666666666 and parameters: {'max_depth': 8, 'num_leaves': 10, 'learning_rate': 0.8793511827104328, 'n_estimators': 1600, 'colsample_bytree': 0.8248013710195207, 'colsample_bynode': 0.8243442067897426, 'reg_lambda': 0.07216401778654642, 'reg_alpha': 0.03724531716699759, 'min_child_weight': 8, 'min_child_samples': 55}. Best is trial 0 with value: 0.6666666666666666.\u001b[0m\n",
      "\u001b[32m[I 2023-02-04 22:39:52,682]\u001b[0m Trial 43 finished with value: 0.6666666666666666 and parameters: {'max_depth': 32, 'num_leaves': 3, 'learning_rate': 0.8014340302345122, 'n_estimators': 1300, 'colsample_bytree': 0.8801543295225561, 'colsample_bynode': 0.8611720143917828, 'reg_lambda': 0.013535025570561054, 'reg_alpha': 0.03488623210242135, 'min_child_weight': 7, 'min_child_samples': 45}. Best is trial 0 with value: 0.6666666666666666.\u001b[0m\n",
      "\u001b[32m[I 2023-02-04 22:39:52,735]\u001b[0m Trial 44 finished with value: 0.6666666666666666 and parameters: {'max_depth': 100, 'num_leaves': 2, 'learning_rate': 0.11292323476090743, 'n_estimators': 2600, 'colsample_bytree': 0.8681519809572555, 'colsample_bynode': 0.5167486871160059, 'reg_lambda': 0.025291223466404337, 'reg_alpha': 0.016657090320292042, 'min_child_weight': 5, 'min_child_samples': 79}. Best is trial 0 with value: 0.6666666666666666.\u001b[0m\n"
     ]
    },
    {
     "name": "stdout",
     "output_type": "stream",
     "text": [
      "\u001b[32m[I 2023-02-04 22:39:52,786]\u001b[0m Trial 45 finished with value: 0.6666666666666666 and parameters: {'max_depth': 109, 'num_leaves': 3, 'learning_rate': 0.001415922055069789, 'n_estimators': 2200, 'colsample_bytree': 0.9380630855937934, 'colsample_bynode': 0.5039863852438827, 'reg_lambda': 0.03133400560218227, 'reg_alpha': 0.09031779113540886, 'min_child_weight': 4, 'min_child_samples': 80}. Best is trial 0 with value: 0.6666666666666666.\u001b[0m\n",
      "\u001b[32m[I 2023-02-04 22:39:52,842]\u001b[0m Trial 46 finished with value: 0.6666666666666666 and parameters: {'max_depth': 183, 'num_leaves': 13, 'learning_rate': 0.03971761743306268, 'n_estimators': 2700, 'colsample_bytree': 0.9743121607581188, 'colsample_bynode': 0.9562139524741684, 'reg_lambda': 0.02669581953073014, 'reg_alpha': 0.027556340331637952, 'min_child_weight': 9, 'min_child_samples': 69}. Best is trial 0 with value: 0.6666666666666666.\u001b[0m\n",
      "\u001b[32m[I 2023-02-04 22:39:52,889]\u001b[0m Trial 47 finished with value: 0.6666666666666666 and parameters: {'max_depth': 477, 'num_leaves': 22, 'learning_rate': 0.1612690383239235, 'n_estimators': 1800, 'colsample_bytree': 0.8942098637702338, 'colsample_bynode': 0.8162347923258767, 'reg_lambda': 0.04008405635799223, 'reg_alpha': 0.030802846633104838, 'min_child_weight': 7, 'min_child_samples': 67}. Best is trial 0 with value: 0.6666666666666666.\u001b[0m\n",
      "\u001b[32m[I 2023-02-04 22:39:52,937]\u001b[0m Trial 48 finished with value: 0.6666666666666666 and parameters: {'max_depth': 63, 'num_leaves': 340, 'learning_rate': 0.773874034577533, 'n_estimators': 1400, 'colsample_bytree': 0.9943984026778285, 'colsample_bynode': 0.8922693216674187, 'reg_lambda': 0.09918561349842157, 'reg_alpha': 0.06141611713853272, 'min_child_weight': 6, 'min_child_samples': 90}. Best is trial 0 with value: 0.6666666666666666.\u001b[0m\n",
      "\u001b[32m[I 2023-02-04 22:39:52,977]\u001b[0m Trial 49 finished with value: 0.6666666666666666 and parameters: {'max_depth': 374, 'num_leaves': 40, 'learning_rate': 0.6468996445558484, 'n_estimators': 1000, 'colsample_bytree': 0.8385020178761522, 'colsample_bynode': 0.9966067081133357, 'reg_lambda': 0.12718168332652557, 'reg_alpha': 0.014004438132336663, 'min_child_weight': 8, 'min_child_samples': 82}. Best is trial 0 with value: 0.6666666666666666.\u001b[0m\n"
     ]
    }
   ],
   "source": [
    "def lgbm_objective_O_31(trial):\n",
    "\n",
    "    params = {\n",
    "            \"objective\": \"regression\",\n",
    "            \"n_jobs\": 4,\n",
    "            \"max_depth\": trial.suggest_int(\"max_depth\", 4, 512),\n",
    "            'num_leaves': trial.suggest_int('num_leaves', 2, 1024, step=1, log=True), \n",
    "            \"learning_rate\": trial.suggest_uniform('learning_rate', 0.0001, 0.99),\n",
    "            'n_estimators': trial.suggest_int(\"n_estimators\", 100, 3000, step=100),\n",
    "            \"colsample_bytree\": trial.suggest_float(\"colsample_bytree\", 0.5, 1.0),\n",
    "            \"colsample_bynode\": trial.suggest_float(\"colsample_bynode\", 0.5, 1.0),\n",
    "            \"reg_lambda\": trial.suggest_loguniform(\"reg_lambda\", 1e-2, 1),\n",
    "            \"reg_alpha\": trial.suggest_loguniform(\"reg_alpha\", 1e-2, 1), \n",
    "            'min_child_weight': trial.suggest_int('min_child_weight', 2, 15),\n",
    "            'min_child_samples': trial.suggest_int('min_child_samples', 5, 100),\n",
    "        }\n",
    "\n",
    "    reg = lightgbm.LGBMRegressor(**params)\n",
    "    reg.fit(x_train, y_quality)\n",
    "    pred_quality = reg.predict(x_train)\n",
    "\n",
    "    pred_class = []\n",
    "    for q in pred_quality:\n",
    "        if q >= 0.5349: pred_class.append(2)\n",
    "        elif q <= 0.525075: pred_class.append(0)\n",
    "        else: pred_class.append(1)\n",
    "\n",
    "    return f1_score(pred_class, y_class, average='micro')\n",
    "\n",
    "x_train = train_O1.drop(columns=['Y_Class', 'Y_Quality'])\n",
    "y_class = train_O1['Y_Class']\n",
    "y_quality = train_O1['Y_Quality']\n",
    "\n",
    "# stdscaler = StandardScaler().fit(x_train[x_train.columns[3:]])\n",
    "# x_train[x_train.columns[3:]] = stdscaler.transform(x_train[x_train.columns[3:]])\n",
    "\n",
    "study = optuna.create_study(direction='maximize')\n",
    "study.optimize(lgbm_objective_O_31, n_trials=50, show_progress_bar=True)\n",
    "\n",
    "clear_output(wait=True)\n",
    "study_list.append(study)"
   ]
  },
  {
   "cell_type": "code",
   "execution_count": 59,
   "id": "7ad57801",
   "metadata": {},
   "outputs": [
    {
     "name": "stdout",
     "output_type": "stream",
     "text": [
      "\n",
      "  f1_score : 0.7566666666666667\n",
      "  f1_score : 0.8555555555555555\n",
      "  f1_score : 0.8\n",
      "  f1_score : 0.6454545454545455\n",
      "  f1_score : 0.8722689075630251\n",
      "  f1_score : 0.8596638655462184\n",
      "  f1_score : 0.6666666666666666\n",
      "\n",
      "mean_f1 : 0.7794680296360968\n"
     ]
    }
   ],
   "source": [
    "print()\n",
    "f1_list = []\n",
    "\n",
    "for study in study_list:\n",
    "    trial = study.best_trial\n",
    "\n",
    "    print(\"  f1_score : {}\".format(trial.value))\n",
    "    f1_list.append(trial.value)\n",
    "\n",
    "print()\n",
    "print(f'mean_f1 : {np.mean(f1_list)}')"
   ]
  },
  {
   "cell_type": "code",
   "execution_count": 60,
   "id": "2e90d963",
   "metadata": {},
   "outputs": [
    {
     "name": "stdout",
     "output_type": "stream",
     "text": [
      "{'max_depth': 143, 'num_leaves': 84, 'learning_rate': 0.0593287744995169, 'n_estimators': 3000, 'colsample_bytree': 0.6481473556737528, 'colsample_bynode': 0.5587356166512139, 'reg_lambda': 0.20373038320236878, 'reg_alpha': 0.01424349521096161, 'min_child_weight': 2, 'min_child_samples': 5}\n",
      "\n",
      "{'max_depth': 16, 'num_leaves': 3, 'learning_rate': 0.5340420859870473, 'n_estimators': 700, 'colsample_bytree': 0.6308032467020607, 'colsample_bynode': 0.7006358511688878, 'reg_lambda': 0.17203495570584879, 'reg_alpha': 0.038017872176906456, 'min_child_weight': 5, 'min_child_samples': 13}\n",
      "\n",
      "{'max_depth': 306, 'num_leaves': 305, 'learning_rate': 0.42645618678025043, 'n_estimators': 1900, 'colsample_bytree': 0.9181662919245883, 'colsample_bynode': 0.5008708707529731, 'reg_lambda': 0.02407246846100114, 'reg_alpha': 0.011840160191549544, 'min_child_weight': 15, 'min_child_samples': 18}\n",
      "\n",
      "{'max_depth': 38, 'num_leaves': 326, 'learning_rate': 0.8579397128596566, 'n_estimators': 1900, 'colsample_bytree': 0.5608274507767566, 'colsample_bynode': 0.6235219031482112, 'reg_lambda': 0.048208902923218035, 'reg_alpha': 0.04522728071018937, 'min_child_weight': 4, 'min_child_samples': 6}\n",
      "\n",
      "{'max_depth': 446, 'num_leaves': 6, 'learning_rate': 0.16350672939037442, 'n_estimators': 2100, 'colsample_bytree': 0.6704404283084299, 'colsample_bynode': 0.9904489792774438, 'reg_lambda': 0.09335918206679743, 'reg_alpha': 0.014046756362859457, 'min_child_weight': 3, 'min_child_samples': 21}\n",
      "\n",
      "{'max_depth': 410, 'num_leaves': 723, 'learning_rate': 0.0871305742536724, 'n_estimators': 1600, 'colsample_bytree': 0.8393732341818303, 'colsample_bynode': 0.7152824511290682, 'reg_lambda': 0.01917880337755568, 'reg_alpha': 0.021938460462639506, 'min_child_weight': 9, 'min_child_samples': 48}\n",
      "\n",
      "{'max_depth': 173, 'num_leaves': 248, 'learning_rate': 0.49585904175152296, 'n_estimators': 1800, 'colsample_bytree': 0.8968348417828564, 'colsample_bynode': 0.8363208633740116, 'reg_lambda': 0.14625074196532342, 'reg_alpha': 0.037326392989675806, 'min_child_weight': 6, 'min_child_samples': 73}\n",
      "\n"
     ]
    }
   ],
   "source": [
    "for study in study_list:\n",
    "    print(study.best_params)\n",
    "    print()"
   ]
  },
  {
   "cell_type": "code",
   "execution_count": 61,
   "id": "649065b5",
   "metadata": {},
   "outputs": [],
   "source": [
    "code_line += ['O_31']\n",
    "for cl, train_df, study in zip(code_line, [train_A1, train_A2, train_A3, train_A4, train_T1, train_T2, train_O1], study_list):\n",
    "\n",
    "    x_train = train_df.drop(columns=['Y_Class', 'Y_Quality'])\n",
    "    y_class = train_df['Y_Class']\n",
    "    y_quality = train_df['Y_Quality']\n",
    "    \n",
    "    if cl[0] == 'O_31': test_cl = test[test['PRODUCT_CODE'] == cl[0]]\n",
    "    else: test_cl = test[(test['PRODUCT_CODE'] == cl[0]) & (test['LINE'] == cl[1])]\n",
    "\n",
    "    if len(test_cl) == 0: continue\n",
    "    test_cl = test_cl[x_train.columns]\n",
    "    \n",
    "#     stdscaler = StandardScaler().fit(x_train[x_train.columns[3:]])\n",
    "#     x_train[x_train.columns[3:]] = stdscaler.transform(x_train[x_train.columns[3:]])\n",
    "#     test_cl[test_cl.columns[3:]] = stdscaler.transform(test_cl[test_cl.columns[3:]])\n",
    "    \n",
    "    # lightgbm\n",
    "    reg = lightgbm.LGBMRegressor(**study.best_params)\n",
    "    reg.fit(x_train, y_quality, verbose=0)\n",
    "    pred_quality = reg.predict(test_cl)\n",
    "    \n",
    "    pred_class = []\n",
    "    for q in pred_quality:\n",
    "        if q >= 0.5349: pred_class.append(2)\n",
    "        elif q <= 0.525075: pred_class.append(0)\n",
    "        else: pred_class.append(1)\n",
    "    \n",
    "    for i, idx in enumerate(test_cl.index):\n",
    "        subm['Y_Class'][idx] = pred_class[i]"
   ]
  },
  {
   "cell_type": "code",
   "execution_count": 62,
   "id": "7e6713bb",
   "metadata": {
    "scrolled": true
   },
   "outputs": [
    {
     "data": {
      "text/plain": [
       "1    274\n",
       "0     31\n",
       "2      5\n",
       "Name: Y_Class, dtype: int64"
      ]
     },
     "execution_count": 62,
     "metadata": {},
     "output_type": "execute_result"
    }
   ],
   "source": [
    "subm.Y_Class.value_counts()"
   ]
  },
  {
   "cell_type": "code",
   "execution_count": 63,
   "id": "d5413dd2",
   "metadata": {},
   "outputs": [],
   "source": [
    "#subm.to_csv('submission/submission13.csv', index=False) # optuna200_lgbmr_micro_cl_devision_yquality"
   ]
  }
 ],
 "metadata": {
  "kernelspec": {
   "display_name": "Python 3 (ipykernel)",
   "language": "python",
   "name": "python3"
  },
  "language_info": {
   "codemirror_mode": {
    "name": "ipython",
    "version": 3
   },
   "file_extension": ".py",
   "mimetype": "text/x-python",
   "name": "python",
   "nbconvert_exporter": "python",
   "pygments_lexer": "ipython3",
   "version": "3.9.12"
  }
 },
 "nbformat": 4,
 "nbformat_minor": 5
}
