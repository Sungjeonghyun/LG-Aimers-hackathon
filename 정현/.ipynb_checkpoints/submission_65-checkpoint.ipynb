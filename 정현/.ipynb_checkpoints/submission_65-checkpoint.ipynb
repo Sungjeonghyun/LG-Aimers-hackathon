{
 "cells": [
  {
   "cell_type": "markdown",
   "id": "ca5fe9b3",
   "metadata": {},
   "source": [
    "* 환경 : Windows 10 이상, python 3.9 ( 아마 python 3.7 이상이면 동작할 거에요. ) \n",
    "* PC에 엔비디아 그래픽카드가 없다면 Catboost 실행이 안될 거에요. 그땐, Catboost 파라미터 중 task_tpye='GPU'를 지워주시면 돼요.\n",
    "* GPU를 사용하지 않으면, PC의 CPU 자원을 모두 활용하기 때문에, PC가 멈출 수 있어요(렉이 심해지거나).\n",
    "* 그럴 때는 thread_count=(모델이 활용하길 바라는 CPU 개수) ex) thread_count=5 (기본값은 thread_count=-1 로, -1은 모두 사용이란 의미입니다.)\n"
   ]
  },
  {
   "cell_type": "code",
   "execution_count": null,
   "id": "7f839ec0",
   "metadata": {},
   "outputs": [],
   "source": [
    "# # 라이브러리 설치이니 아래 코드들을 주석을 지운 뒤 실행시켜 주시면 돼요. (기존에 설치되어 있는 패키지는 스킵하고 설치됩니다.)\n",
    "# # 주석을 한번에 지우는 방법 ----> 지우고 싶은 줄들을 드래그 하고, ctrl + '/' 를 누르면 한번에 지워져요.\n",
    "\n",
    "# !pip install pandas\n",
    "# !pip install numpy\n",
    "# !pip install scikit-learn\n",
    "# !pip install imblearn\n",
    "# !pip install eli5\n",
    "# !pip install matplotlib\n",
    "# !pip install seaborn\n",
    "# !pip install missingno\n",
    "# !pip install catboost\n",
    "# !pip install optuna"
   ]
  },
  {
   "cell_type": "code",
   "execution_count": 1,
   "id": "fa7efeb5",
   "metadata": {},
   "outputs": [],
   "source": [
    "# Ignore Warning message\n",
    "import warnings\n",
    "warnings.filterwarnings('ignore')\n",
    "\n",
    "# Random seed fix\n",
    "import os\n",
    "import random\n",
    "\n",
    "# progress bar in repeated code\n",
    "from tqdm import tqdm\n",
    "import pandas as pd\n",
    "import numpy as np\n",
    "\n",
    "# Imputer\n",
    "from sklearn.experimental import enable_iterative_imputer\n",
    "from sklearn.impute import IterativeImputer\n",
    "\n",
    "# Data Scaling\n",
    "from imblearn.over_sampling import BorderlineSMOTE, ADASYN, RandomOverSampler\n",
    "from imblearn.combine import SMOTEENN, SMOTETomek\n",
    "\n",
    "# Permutation Importance\n",
    "import eli5\n",
    "from eli5.sklearn import PermutationImportance\n",
    "\n",
    "# Visualization\n",
    "import matplotlib.pyplot as plt\n",
    "from pylab import rcParams\n",
    "plt.style.use('fivethirtyeight')\n",
    "plt.rc(\"font\", family=\"Malgun Gothic\")\n",
    "plt.rcParams['axes.unicode_minus'] = False\n",
    "%matplotlib inline\n",
    "\n",
    "import seaborn as sns\n",
    "import missingno as msno\n",
    "\n",
    "# Validation\n",
    "from sklearn.model_selection import RepeatedStratifiedKFold\n",
    "from sklearn.model_selection import train_test_split\n",
    "\n",
    "# Scoring\n",
    "from sklearn.metrics import f1_score\n",
    "\n",
    "# Model & AutoML\n",
    "import catboost\n",
    "import optuna"
   ]
  },
  {
   "cell_type": "code",
   "execution_count": 2,
   "id": "7ee207fa",
   "metadata": {},
   "outputs": [],
   "source": [
    "def seed_everything(seed):\n",
    "    random.seed(seed)\n",
    "    os.environ['PYTHONHASHSEED'] = str(seed)\n",
    "    np.random.seed(seed)\n",
    "seed_everything(37) # Seed 고정"
   ]
  },
  {
   "cell_type": "code",
   "execution_count": 3,
   "id": "f2bb4982",
   "metadata": {},
   "outputs": [],
   "source": [
    "train = pd.read_csv('./train.csv')\n",
    "test = pd.read_csv('./test.csv')\n",
    "subm = pd.read_csv('./sample_submission.csv')"
   ]
  },
  {
   "cell_type": "code",
   "execution_count": 4,
   "id": "87a392cc",
   "metadata": {},
   "outputs": [
    {
     "data": {
      "text/html": [
       "<div>\n",
       "<style scoped>\n",
       "    .dataframe tbody tr th:only-of-type {\n",
       "        vertical-align: middle;\n",
       "    }\n",
       "\n",
       "    .dataframe tbody tr th {\n",
       "        vertical-align: top;\n",
       "    }\n",
       "\n",
       "    .dataframe thead th {\n",
       "        text-align: right;\n",
       "    }\n",
       "</style>\n",
       "<table border=\"1\" class=\"dataframe\">\n",
       "  <thead>\n",
       "    <tr style=\"text-align: right;\">\n",
       "      <th></th>\n",
       "      <th>PRODUCT_ID</th>\n",
       "      <th>Y_Class</th>\n",
       "      <th>Y_Quality</th>\n",
       "      <th>TIMESTAMP</th>\n",
       "      <th>LINE</th>\n",
       "      <th>PRODUCT_CODE</th>\n",
       "      <th>X_1</th>\n",
       "      <th>X_2</th>\n",
       "      <th>X_3</th>\n",
       "      <th>X_4</th>\n",
       "      <th>...</th>\n",
       "      <th>X_2866</th>\n",
       "      <th>X_2867</th>\n",
       "      <th>X_2868</th>\n",
       "      <th>X_2869</th>\n",
       "      <th>X_2870</th>\n",
       "      <th>X_2871</th>\n",
       "      <th>X_2872</th>\n",
       "      <th>X_2873</th>\n",
       "      <th>X_2874</th>\n",
       "      <th>X_2875</th>\n",
       "    </tr>\n",
       "  </thead>\n",
       "  <tbody>\n",
       "    <tr>\n",
       "      <th>0</th>\n",
       "      <td>TRAIN_000</td>\n",
       "      <td>1</td>\n",
       "      <td>0.533433</td>\n",
       "      <td>2022-06-13 5:14</td>\n",
       "      <td>T050304</td>\n",
       "      <td>A_31</td>\n",
       "      <td>NaN</td>\n",
       "      <td>NaN</td>\n",
       "      <td>NaN</td>\n",
       "      <td>NaN</td>\n",
       "      <td>...</td>\n",
       "      <td>39.34</td>\n",
       "      <td>40.89</td>\n",
       "      <td>32.56</td>\n",
       "      <td>34.09</td>\n",
       "      <td>77.77</td>\n",
       "      <td>NaN</td>\n",
       "      <td>NaN</td>\n",
       "      <td>NaN</td>\n",
       "      <td>NaN</td>\n",
       "      <td>NaN</td>\n",
       "    </tr>\n",
       "    <tr>\n",
       "      <th>1</th>\n",
       "      <td>TRAIN_001</td>\n",
       "      <td>2</td>\n",
       "      <td>0.541819</td>\n",
       "      <td>2022-06-13 5:22</td>\n",
       "      <td>T050307</td>\n",
       "      <td>A_31</td>\n",
       "      <td>NaN</td>\n",
       "      <td>NaN</td>\n",
       "      <td>NaN</td>\n",
       "      <td>NaN</td>\n",
       "      <td>...</td>\n",
       "      <td>38.89</td>\n",
       "      <td>42.82</td>\n",
       "      <td>43.92</td>\n",
       "      <td>35.34</td>\n",
       "      <td>72.55</td>\n",
       "      <td>NaN</td>\n",
       "      <td>NaN</td>\n",
       "      <td>NaN</td>\n",
       "      <td>NaN</td>\n",
       "      <td>NaN</td>\n",
       "    </tr>\n",
       "    <tr>\n",
       "      <th>2</th>\n",
       "      <td>TRAIN_002</td>\n",
       "      <td>1</td>\n",
       "      <td>0.531267</td>\n",
       "      <td>2022-06-13 5:30</td>\n",
       "      <td>T050304</td>\n",
       "      <td>A_31</td>\n",
       "      <td>NaN</td>\n",
       "      <td>NaN</td>\n",
       "      <td>NaN</td>\n",
       "      <td>NaN</td>\n",
       "      <td>...</td>\n",
       "      <td>39.19</td>\n",
       "      <td>36.65</td>\n",
       "      <td>42.47</td>\n",
       "      <td>36.53</td>\n",
       "      <td>78.35</td>\n",
       "      <td>NaN</td>\n",
       "      <td>NaN</td>\n",
       "      <td>NaN</td>\n",
       "      <td>NaN</td>\n",
       "      <td>NaN</td>\n",
       "    </tr>\n",
       "    <tr>\n",
       "      <th>3</th>\n",
       "      <td>TRAIN_003</td>\n",
       "      <td>2</td>\n",
       "      <td>0.537325</td>\n",
       "      <td>2022-06-13 5:39</td>\n",
       "      <td>T050307</td>\n",
       "      <td>A_31</td>\n",
       "      <td>NaN</td>\n",
       "      <td>NaN</td>\n",
       "      <td>NaN</td>\n",
       "      <td>NaN</td>\n",
       "      <td>...</td>\n",
       "      <td>37.74</td>\n",
       "      <td>39.17</td>\n",
       "      <td>52.17</td>\n",
       "      <td>30.58</td>\n",
       "      <td>71.78</td>\n",
       "      <td>NaN</td>\n",
       "      <td>NaN</td>\n",
       "      <td>NaN</td>\n",
       "      <td>NaN</td>\n",
       "      <td>NaN</td>\n",
       "    </tr>\n",
       "    <tr>\n",
       "      <th>4</th>\n",
       "      <td>TRAIN_004</td>\n",
       "      <td>1</td>\n",
       "      <td>0.531590</td>\n",
       "      <td>2022-06-13 5:47</td>\n",
       "      <td>T050304</td>\n",
       "      <td>A_31</td>\n",
       "      <td>NaN</td>\n",
       "      <td>NaN</td>\n",
       "      <td>NaN</td>\n",
       "      <td>NaN</td>\n",
       "      <td>...</td>\n",
       "      <td>38.70</td>\n",
       "      <td>41.89</td>\n",
       "      <td>46.93</td>\n",
       "      <td>33.09</td>\n",
       "      <td>76.97</td>\n",
       "      <td>NaN</td>\n",
       "      <td>NaN</td>\n",
       "      <td>NaN</td>\n",
       "      <td>NaN</td>\n",
       "      <td>NaN</td>\n",
       "    </tr>\n",
       "  </tbody>\n",
       "</table>\n",
       "<p>5 rows × 2881 columns</p>\n",
       "</div>"
      ],
      "text/plain": [
       "  PRODUCT_ID  Y_Class  Y_Quality        TIMESTAMP     LINE PRODUCT_CODE  X_1  \\\n",
       "0  TRAIN_000        1   0.533433  2022-06-13 5:14  T050304         A_31  NaN   \n",
       "1  TRAIN_001        2   0.541819  2022-06-13 5:22  T050307         A_31  NaN   \n",
       "2  TRAIN_002        1   0.531267  2022-06-13 5:30  T050304         A_31  NaN   \n",
       "3  TRAIN_003        2   0.537325  2022-06-13 5:39  T050307         A_31  NaN   \n",
       "4  TRAIN_004        1   0.531590  2022-06-13 5:47  T050304         A_31  NaN   \n",
       "\n",
       "   X_2  X_3  X_4  ...  X_2866  X_2867  X_2868  X_2869  X_2870  X_2871  X_2872  \\\n",
       "0  NaN  NaN  NaN  ...   39.34   40.89   32.56   34.09   77.77     NaN     NaN   \n",
       "1  NaN  NaN  NaN  ...   38.89   42.82   43.92   35.34   72.55     NaN     NaN   \n",
       "2  NaN  NaN  NaN  ...   39.19   36.65   42.47   36.53   78.35     NaN     NaN   \n",
       "3  NaN  NaN  NaN  ...   37.74   39.17   52.17   30.58   71.78     NaN     NaN   \n",
       "4  NaN  NaN  NaN  ...   38.70   41.89   46.93   33.09   76.97     NaN     NaN   \n",
       "\n",
       "   X_2873  X_2874  X_2875  \n",
       "0     NaN     NaN     NaN  \n",
       "1     NaN     NaN     NaN  \n",
       "2     NaN     NaN     NaN  \n",
       "3     NaN     NaN     NaN  \n",
       "4     NaN     NaN     NaN  \n",
       "\n",
       "[5 rows x 2881 columns]"
      ]
     },
     "execution_count": 4,
     "metadata": {},
     "output_type": "execute_result"
    }
   ],
   "source": [
    "train.head()"
   ]
  },
  {
   "cell_type": "code",
   "execution_count": 5,
   "id": "a79dca04",
   "metadata": {},
   "outputs": [],
   "source": [
    "train['PRODUCT_CODE'] = train['PRODUCT_CODE'].astype('category')\n",
    "train['LINE'] = train['LINE'].astype('category')\n",
    "\n",
    "test['PRODUCT_CODE'] = test['PRODUCT_CODE'].astype('category')\n",
    "test['LINE'] = test['LINE'].astype('category')"
   ]
  },
  {
   "cell_type": "code",
   "execution_count": 6,
   "id": "0a8bfe74",
   "metadata": {},
   "outputs": [],
   "source": [
    "# train에서 열의 유일한 값이 nan이거나 모두 같은 값인 경우 해당 열을 제외\n",
    "def remove_col(train_df):\n",
    "    for x in train_df.columns[6:]:\n",
    "        if train_df[x].nunique()==0 or len(train_df[x].unique())==1: # nan 이거나 모두 같은 값인 경우\n",
    "            train_df.drop(columns=[x], inplace=True)\n",
    "    return train_df\n",
    "\n",
    "train = remove_col(train)"
   ]
  },
  {
   "cell_type": "code",
   "execution_count": 7,
   "id": "9b596197",
   "metadata": {},
   "outputs": [],
   "source": [
    "train_x, train_y = train.drop(columns=['Y_Class', 'PRODUCT_ID', 'TIMESTAMP', 'Y_Quality']), train['Y_Class']\n",
    "test = test[train_x.columns]"
   ]
  },
  {
   "cell_type": "code",
   "execution_count": 8,
   "id": "6689b7bd",
   "metadata": {},
   "outputs": [
    {
     "data": {
      "text/html": [
       "<div>\n",
       "<style scoped>\n",
       "    .dataframe tbody tr th:only-of-type {\n",
       "        vertical-align: middle;\n",
       "    }\n",
       "\n",
       "    .dataframe tbody tr th {\n",
       "        vertical-align: top;\n",
       "    }\n",
       "\n",
       "    .dataframe thead th {\n",
       "        text-align: right;\n",
       "    }\n",
       "</style>\n",
       "<table border=\"1\" class=\"dataframe\">\n",
       "  <thead>\n",
       "    <tr style=\"text-align: right;\">\n",
       "      <th></th>\n",
       "      <th>LINE</th>\n",
       "      <th>PRODUCT_CODE</th>\n",
       "      <th>X_1</th>\n",
       "      <th>X_2</th>\n",
       "      <th>X_3</th>\n",
       "      <th>X_4</th>\n",
       "      <th>X_5</th>\n",
       "      <th>X_6</th>\n",
       "      <th>X_7</th>\n",
       "      <th>X_8</th>\n",
       "      <th>...</th>\n",
       "      <th>X_2862</th>\n",
       "      <th>X_2863</th>\n",
       "      <th>X_2864</th>\n",
       "      <th>X_2865</th>\n",
       "      <th>X_2866</th>\n",
       "      <th>X_2867</th>\n",
       "      <th>X_2868</th>\n",
       "      <th>X_2869</th>\n",
       "      <th>X_2870</th>\n",
       "      <th>X_2871</th>\n",
       "    </tr>\n",
       "  </thead>\n",
       "  <tbody>\n",
       "    <tr>\n",
       "      <th>0</th>\n",
       "      <td>T050304</td>\n",
       "      <td>A_31</td>\n",
       "      <td>NaN</td>\n",
       "      <td>NaN</td>\n",
       "      <td>NaN</td>\n",
       "      <td>NaN</td>\n",
       "      <td>NaN</td>\n",
       "      <td>NaN</td>\n",
       "      <td>NaN</td>\n",
       "      <td>NaN</td>\n",
       "      <td>...</td>\n",
       "      <td>189.0</td>\n",
       "      <td>383.0</td>\n",
       "      <td>368.296296</td>\n",
       "      <td>353.0</td>\n",
       "      <td>39.34</td>\n",
       "      <td>40.89</td>\n",
       "      <td>32.56</td>\n",
       "      <td>34.09</td>\n",
       "      <td>77.77</td>\n",
       "      <td>NaN</td>\n",
       "    </tr>\n",
       "    <tr>\n",
       "      <th>1</th>\n",
       "      <td>T050307</td>\n",
       "      <td>A_31</td>\n",
       "      <td>NaN</td>\n",
       "      <td>NaN</td>\n",
       "      <td>NaN</td>\n",
       "      <td>NaN</td>\n",
       "      <td>NaN</td>\n",
       "      <td>NaN</td>\n",
       "      <td>NaN</td>\n",
       "      <td>NaN</td>\n",
       "      <td>...</td>\n",
       "      <td>185.6</td>\n",
       "      <td>383.0</td>\n",
       "      <td>367.735849</td>\n",
       "      <td>353.0</td>\n",
       "      <td>38.89</td>\n",
       "      <td>42.82</td>\n",
       "      <td>43.92</td>\n",
       "      <td>35.34</td>\n",
       "      <td>72.55</td>\n",
       "      <td>NaN</td>\n",
       "    </tr>\n",
       "    <tr>\n",
       "      <th>2</th>\n",
       "      <td>T050304</td>\n",
       "      <td>A_31</td>\n",
       "      <td>NaN</td>\n",
       "      <td>NaN</td>\n",
       "      <td>NaN</td>\n",
       "      <td>NaN</td>\n",
       "      <td>NaN</td>\n",
       "      <td>NaN</td>\n",
       "      <td>NaN</td>\n",
       "      <td>NaN</td>\n",
       "      <td>...</td>\n",
       "      <td>165.5</td>\n",
       "      <td>383.0</td>\n",
       "      <td>367.320755</td>\n",
       "      <td>353.0</td>\n",
       "      <td>39.19</td>\n",
       "      <td>36.65</td>\n",
       "      <td>42.47</td>\n",
       "      <td>36.53</td>\n",
       "      <td>78.35</td>\n",
       "      <td>NaN</td>\n",
       "    </tr>\n",
       "    <tr>\n",
       "      <th>3</th>\n",
       "      <td>T050307</td>\n",
       "      <td>A_31</td>\n",
       "      <td>NaN</td>\n",
       "      <td>NaN</td>\n",
       "      <td>NaN</td>\n",
       "      <td>NaN</td>\n",
       "      <td>NaN</td>\n",
       "      <td>NaN</td>\n",
       "      <td>NaN</td>\n",
       "      <td>NaN</td>\n",
       "      <td>...</td>\n",
       "      <td>165.8</td>\n",
       "      <td>384.0</td>\n",
       "      <td>369.188679</td>\n",
       "      <td>353.0</td>\n",
       "      <td>37.74</td>\n",
       "      <td>39.17</td>\n",
       "      <td>52.17</td>\n",
       "      <td>30.58</td>\n",
       "      <td>71.78</td>\n",
       "      <td>NaN</td>\n",
       "    </tr>\n",
       "    <tr>\n",
       "      <th>4</th>\n",
       "      <td>T050304</td>\n",
       "      <td>A_31</td>\n",
       "      <td>NaN</td>\n",
       "      <td>NaN</td>\n",
       "      <td>NaN</td>\n",
       "      <td>NaN</td>\n",
       "      <td>NaN</td>\n",
       "      <td>NaN</td>\n",
       "      <td>NaN</td>\n",
       "      <td>NaN</td>\n",
       "      <td>...</td>\n",
       "      <td>182.6</td>\n",
       "      <td>383.0</td>\n",
       "      <td>367.351852</td>\n",
       "      <td>352.0</td>\n",
       "      <td>38.70</td>\n",
       "      <td>41.89</td>\n",
       "      <td>46.93</td>\n",
       "      <td>33.09</td>\n",
       "      <td>76.97</td>\n",
       "      <td>NaN</td>\n",
       "    </tr>\n",
       "  </tbody>\n",
       "</table>\n",
       "<p>5 rows × 2795 columns</p>\n",
       "</div>"
      ],
      "text/plain": [
       "      LINE PRODUCT_CODE  X_1  X_2  X_3  X_4  X_5  X_6  X_7  X_8  ...  X_2862  \\\n",
       "0  T050304         A_31  NaN  NaN  NaN  NaN  NaN  NaN  NaN  NaN  ...   189.0   \n",
       "1  T050307         A_31  NaN  NaN  NaN  NaN  NaN  NaN  NaN  NaN  ...   185.6   \n",
       "2  T050304         A_31  NaN  NaN  NaN  NaN  NaN  NaN  NaN  NaN  ...   165.5   \n",
       "3  T050307         A_31  NaN  NaN  NaN  NaN  NaN  NaN  NaN  NaN  ...   165.8   \n",
       "4  T050304         A_31  NaN  NaN  NaN  NaN  NaN  NaN  NaN  NaN  ...   182.6   \n",
       "\n",
       "   X_2863      X_2864  X_2865  X_2866  X_2867  X_2868  X_2869  X_2870  X_2871  \n",
       "0   383.0  368.296296   353.0   39.34   40.89   32.56   34.09   77.77     NaN  \n",
       "1   383.0  367.735849   353.0   38.89   42.82   43.92   35.34   72.55     NaN  \n",
       "2   383.0  367.320755   353.0   39.19   36.65   42.47   36.53   78.35     NaN  \n",
       "3   384.0  369.188679   353.0   37.74   39.17   52.17   30.58   71.78     NaN  \n",
       "4   383.0  367.351852   352.0   38.70   41.89   46.93   33.09   76.97     NaN  \n",
       "\n",
       "[5 rows x 2795 columns]"
      ]
     },
     "execution_count": 8,
     "metadata": {},
     "output_type": "execute_result"
    }
   ],
   "source": [
    "train_x.head()"
   ]
  },
  {
   "cell_type": "markdown",
   "id": "39b2555d",
   "metadata": {},
   "source": [
    "### catboost cv"
   ]
  },
  {
   "cell_type": "code",
   "execution_count": 9,
   "id": "1a908d32",
   "metadata": {},
   "outputs": [
    {
     "data": {
      "text/plain": [
       "1    407\n",
       "2    103\n",
       "0     88\n",
       "Name: Y_Class, dtype: int64"
      ]
     },
     "execution_count": 9,
     "metadata": {},
     "output_type": "execute_result"
    }
   ],
   "source": [
    "train_y.value_counts()"
   ]
  },
  {
   "cell_type": "markdown",
   "id": "513a719e",
   "metadata": {},
   "source": [
    "* RepeatedStratifiedKFold를 활용하면 추후 test set의 결과를 추정할 수 있다.\n",
    "* rskfold를 활용한 결과를 개선해나가는 것이 목표"
   ]
  },
  {
   "cell_type": "code",
   "execution_count": 11,
   "id": "5b9c4025",
   "metadata": {
    "scrolled": true
   },
   "outputs": [
    {
     "name": "stderr",
     "output_type": "stream",
     "text": [
      "14it [05:13, 22.41s/it]"
     ]
    },
    {
     "name": "stdout",
     "output_type": "stream",
     "text": [
      "0.5092731829573934 ~ 0.7709365721997301\n",
      "mean : 0.6723316586148718\n"
     ]
    },
    {
     "name": "stderr",
     "output_type": "stream",
     "text": [
      "\n"
     ]
    }
   ],
   "source": [
    "rskfold = RepeatedStratifiedKFold(n_splits=7, n_repeats=2)\n",
    "\n",
    "f1_list = []\n",
    "for fold, (train_index, val_index) in enumerate(tqdm(rskfold.split(train_x, train_y))):\n",
    "    x_trn, x_val, y_trn, y_val = train_x.loc[train_index], train_x.loc[val_index], train_y.loc[train_index], train_y.loc[val_index]\n",
    "\n",
    "    clf = catboost.CatBoostClassifier(verbose=0, task_type='GPU') # cpu -> thread_count=5\n",
    "    clf.fit(x_trn, y_trn, early_stopping_rounds=100, cat_features=['PRODUCT_CODE', 'LINE'])\n",
    "    f1_list.append(f1_score(clf.predict(x_val), y_val, average='macro'))\n",
    "    \n",
    "print(f'{min(f1_list)} ~ {max(f1_list)}')\n",
    "print('mean :', np.mean(f1_list))"
   ]
  },
  {
   "cell_type": "markdown",
   "id": "92008858",
   "metadata": {},
   "source": [
    "### 결측치 대체"
   ]
  },
  {
   "cell_type": "markdown",
   "id": "d2682dc5",
   "metadata": {},
   "source": [
    "#### Missingno"
   ]
  },
  {
   "cell_type": "code",
   "execution_count": 10,
   "id": "4231d6bb",
   "metadata": {},
   "outputs": [
    {
     "data": {
      "text/plain": [
       "<AxesSubplot:>"
      ]
     },
     "execution_count": 10,
     "metadata": {},
     "output_type": "execute_result"
    },
    {
     "data": {
      "image/png": "[encoded data removed]",
      "text/plain": [
       "<Figure size 1800x720 with 2 Axes>"
      ]
     },
     "metadata": {
      "needs_background": "light"
     },
     "output_type": "display_data"
    }
   ],
   "source": [
    "# 20개의 열만 뽑아 확인해 보았는데도 결측치가 굉장히 많다.\n",
    "msno.matrix(train_x[train_x.columns[130:150]])"
   ]
  },
  {
   "cell_type": "markdown",
   "id": "abad362d",
   "metadata": {},
   "source": [
    "#### fillna(0)"
   ]
  },
  {
   "cell_type": "markdown",
   "id": "6c206ad4",
   "metadata": {},
   "source": [
    "* Catboost는 nan을 'string' 타입으로 치환하여 학습을 진행할 수 있다. 따라서 fillna(0)와 유사한 성능이 나타난다.\n",
    "* MiceImputer, SimpleImputer 등 다양한 방법들을 활용해 보았지만, 성능향상에 도움이 되지 않았다."
   ]
  },
  {
   "cell_type": "code",
   "execution_count": 9,
   "id": "10d54956",
   "metadata": {
    "scrolled": true
   },
   "outputs": [],
   "source": [
    "train_x[train_x.columns[2:]] = train_x[train_x.columns[2:]].fillna(0)\n",
    "test[test.columns[2:]] = test[test.columns[2:]].fillna(0)"
   ]
  },
  {
   "cell_type": "markdown",
   "id": "6f6de3cb",
   "metadata": {},
   "source": [
    "### Feature importance"
   ]
  },
  {
   "cell_type": "markdown",
   "id": "56cca278",
   "metadata": {},
   "source": [
    "* Feature Importance는 학습된 모델에서 주로 사용된 컬럼들을 나타내기 때문에, 학습에 도움이 되지 않은 컬럼을 지워준다고 해도 \n",
    "test predict에 영향력이 적다. 또한, 줄어든 컬럼으로 학습 방식이 바뀌고, overfit을 완화하여 더 나은 결과를 유도할 수 있다.\n",
    "\n",
    "* Permutation Importance는 train_x에서 분할된 validation_set을 학습한 모델에서의 영향력을 보여주는 지표이다.\n",
    " validation set은 train으로부터 분리된 영역이므로 train에서의 영향력을 나타내는 지표이다.\n",
    " train에서는 여러 값이 존재하는 컬럼이 test에서는 nan만 존재하는 컬럼일 수 있다. 따라서 test set에서의 영향력을 판단하기 어렵다.\n",
    " 그래서 permutation importance는 활용하지 않기로 한다.\n",
    "\n"
   ]
  },
  {
   "cell_type": "code",
   "execution_count": 10,
   "id": "8c06f211",
   "metadata": {
    "scrolled": false
   },
   "outputs": [
    {
     "data": {
      "image/png": "[encoded data removed]",
      "text/plain": [
       "<Figure size 720x1080 with 1 Axes>"
      ]
     },
     "metadata": {
      "needs_background": "light"
     },
     "output_type": "display_data"
    }
   ],
   "source": [
    "feat_list = []\n",
    "clf = catboost.CatBoostClassifier(verbose=0, task_type='GPU')\n",
    "clf.fit(train_x, train_y, early_stopping_rounds=100, cat_features=['PRODUCT_CODE', 'LINE'])\n",
    "\n",
    "feat_list.append(clf.feature_importances_)\n",
    "\n",
    "feat_list = np.array(feat_list)\n",
    "feat_max = np.array([max(feat_list[:, i]) for i in range(len(feat_list[0]))])\n",
    "feature_imp = pd.Series(feat_max, index=train_x.columns).sort_values(ascending=False)[:20].sort_values()\n",
    "train_x = train_x[train_x.columns[feat_max>0]]\n",
    "test = test[train_x.columns]\n",
    "\n",
    "# Visualization\n",
    "plt.rcParams[\"figure.figsize\"] = (10, 15)\n",
    "\n",
    "plt.barh(feature_imp.index, feature_imp)\n",
    "plt.title('Feature_importance')\n",
    "plt.show()"
   ]
  },
  {
   "cell_type": "code",
   "execution_count": 11,
   "id": "bd3888ed",
   "metadata": {},
   "outputs": [
    {
     "data": {
      "text/html": [
       "<div>\n",
       "<style scoped>\n",
       "    .dataframe tbody tr th:only-of-type {\n",
       "        vertical-align: middle;\n",
       "    }\n",
       "\n",
       "    .dataframe tbody tr th {\n",
       "        vertical-align: top;\n",
       "    }\n",
       "\n",
       "    .dataframe thead th {\n",
       "        text-align: right;\n",
       "    }\n",
       "</style>\n",
       "<table border=\"1\" class=\"dataframe\">\n",
       "  <thead>\n",
       "    <tr style=\"text-align: right;\">\n",
       "      <th></th>\n",
       "      <th>X_1</th>\n",
       "      <th>X_2</th>\n",
       "      <th>X_7</th>\n",
       "      <th>X_8</th>\n",
       "      <th>X_11</th>\n",
       "      <th>X_12</th>\n",
       "      <th>X_13</th>\n",
       "      <th>X_17</th>\n",
       "      <th>X_20</th>\n",
       "      <th>X_21</th>\n",
       "      <th>...</th>\n",
       "      <th>X_2841</th>\n",
       "      <th>X_2846</th>\n",
       "      <th>X_2852</th>\n",
       "      <th>X_2853</th>\n",
       "      <th>X_2855</th>\n",
       "      <th>X_2857</th>\n",
       "      <th>X_2860</th>\n",
       "      <th>X_2862</th>\n",
       "      <th>X_2864</th>\n",
       "      <th>X_2865</th>\n",
       "    </tr>\n",
       "  </thead>\n",
       "  <tbody>\n",
       "    <tr>\n",
       "      <th>0</th>\n",
       "      <td>0.0</td>\n",
       "      <td>0.0</td>\n",
       "      <td>0.0</td>\n",
       "      <td>0.0</td>\n",
       "      <td>0.0</td>\n",
       "      <td>0.0</td>\n",
       "      <td>0.0</td>\n",
       "      <td>0.0</td>\n",
       "      <td>0.0</td>\n",
       "      <td>0.0</td>\n",
       "      <td>...</td>\n",
       "      <td>40.06</td>\n",
       "      <td>47.094444</td>\n",
       "      <td>175.903333</td>\n",
       "      <td>164.9</td>\n",
       "      <td>191.800000</td>\n",
       "      <td>139.6</td>\n",
       "      <td>209.0</td>\n",
       "      <td>189.0</td>\n",
       "      <td>368.296296</td>\n",
       "      <td>353.0</td>\n",
       "    </tr>\n",
       "    <tr>\n",
       "      <th>1</th>\n",
       "      <td>0.0</td>\n",
       "      <td>0.0</td>\n",
       "      <td>0.0</td>\n",
       "      <td>0.0</td>\n",
       "      <td>0.0</td>\n",
       "      <td>0.0</td>\n",
       "      <td>0.0</td>\n",
       "      <td>0.0</td>\n",
       "      <td>0.0</td>\n",
       "      <td>0.0</td>\n",
       "      <td>...</td>\n",
       "      <td>36.54</td>\n",
       "      <td>47.084906</td>\n",
       "      <td>168.417241</td>\n",
       "      <td>151.2</td>\n",
       "      <td>188.755172</td>\n",
       "      <td>145.5</td>\n",
       "      <td>198.0</td>\n",
       "      <td>185.6</td>\n",
       "      <td>367.735849</td>\n",
       "      <td>353.0</td>\n",
       "    </tr>\n",
       "    <tr>\n",
       "      <th>2</th>\n",
       "      <td>0.0</td>\n",
       "      <td>0.0</td>\n",
       "      <td>0.0</td>\n",
       "      <td>0.0</td>\n",
       "      <td>0.0</td>\n",
       "      <td>0.0</td>\n",
       "      <td>0.0</td>\n",
       "      <td>0.0</td>\n",
       "      <td>0.0</td>\n",
       "      <td>0.0</td>\n",
       "      <td>...</td>\n",
       "      <td>40.05</td>\n",
       "      <td>47.088679</td>\n",
       "      <td>176.137931</td>\n",
       "      <td>167.4</td>\n",
       "      <td>187.310345</td>\n",
       "      <td>128.0</td>\n",
       "      <td>193.4</td>\n",
       "      <td>165.5</td>\n",
       "      <td>367.320755</td>\n",
       "      <td>353.0</td>\n",
       "    </tr>\n",
       "    <tr>\n",
       "      <th>3</th>\n",
       "      <td>0.0</td>\n",
       "      <td>0.0</td>\n",
       "      <td>0.0</td>\n",
       "      <td>0.0</td>\n",
       "      <td>0.0</td>\n",
       "      <td>0.0</td>\n",
       "      <td>0.0</td>\n",
       "      <td>0.0</td>\n",
       "      <td>0.0</td>\n",
       "      <td>0.0</td>\n",
       "      <td>...</td>\n",
       "      <td>40.03</td>\n",
       "      <td>47.105660</td>\n",
       "      <td>173.637931</td>\n",
       "      <td>166.7</td>\n",
       "      <td>187.203448</td>\n",
       "      <td>126.2</td>\n",
       "      <td>190.3</td>\n",
       "      <td>165.8</td>\n",
       "      <td>369.188679</td>\n",
       "      <td>353.0</td>\n",
       "    </tr>\n",
       "    <tr>\n",
       "      <th>4</th>\n",
       "      <td>0.0</td>\n",
       "      <td>0.0</td>\n",
       "      <td>0.0</td>\n",
       "      <td>0.0</td>\n",
       "      <td>0.0</td>\n",
       "      <td>0.0</td>\n",
       "      <td>0.0</td>\n",
       "      <td>0.0</td>\n",
       "      <td>0.0</td>\n",
       "      <td>0.0</td>\n",
       "      <td>...</td>\n",
       "      <td>40.07</td>\n",
       "      <td>47.107407</td>\n",
       "      <td>175.366667</td>\n",
       "      <td>167.6</td>\n",
       "      <td>194.546667</td>\n",
       "      <td>152.1</td>\n",
       "      <td>208.6</td>\n",
       "      <td>182.6</td>\n",
       "      <td>367.351852</td>\n",
       "      <td>352.0</td>\n",
       "    </tr>\n",
       "    <tr>\n",
       "      <th>...</th>\n",
       "      <td>...</td>\n",
       "      <td>...</td>\n",
       "      <td>...</td>\n",
       "      <td>...</td>\n",
       "      <td>...</td>\n",
       "      <td>...</td>\n",
       "      <td>...</td>\n",
       "      <td>...</td>\n",
       "      <td>...</td>\n",
       "      <td>...</td>\n",
       "      <td>...</td>\n",
       "      <td>...</td>\n",
       "      <td>...</td>\n",
       "      <td>...</td>\n",
       "      <td>...</td>\n",
       "      <td>...</td>\n",
       "      <td>...</td>\n",
       "      <td>...</td>\n",
       "      <td>...</td>\n",
       "      <td>...</td>\n",
       "      <td>...</td>\n",
       "    </tr>\n",
       "    <tr>\n",
       "      <th>593</th>\n",
       "      <td>2.0</td>\n",
       "      <td>95.0</td>\n",
       "      <td>50.0</td>\n",
       "      <td>10.0</td>\n",
       "      <td>468.9</td>\n",
       "      <td>473.9</td>\n",
       "      <td>459.2</td>\n",
       "      <td>248.0</td>\n",
       "      <td>527.0</td>\n",
       "      <td>538.0</td>\n",
       "      <td>...</td>\n",
       "      <td>0.00</td>\n",
       "      <td>0.000000</td>\n",
       "      <td>0.000000</td>\n",
       "      <td>0.0</td>\n",
       "      <td>0.000000</td>\n",
       "      <td>0.0</td>\n",
       "      <td>0.0</td>\n",
       "      <td>0.0</td>\n",
       "      <td>0.000000</td>\n",
       "      <td>0.0</td>\n",
       "    </tr>\n",
       "    <tr>\n",
       "      <th>594</th>\n",
       "      <td>0.0</td>\n",
       "      <td>0.0</td>\n",
       "      <td>0.0</td>\n",
       "      <td>0.0</td>\n",
       "      <td>0.0</td>\n",
       "      <td>0.0</td>\n",
       "      <td>0.0</td>\n",
       "      <td>0.0</td>\n",
       "      <td>0.0</td>\n",
       "      <td>0.0</td>\n",
       "      <td>...</td>\n",
       "      <td>40.59</td>\n",
       "      <td>47.254717</td>\n",
       "      <td>186.248276</td>\n",
       "      <td>179.5</td>\n",
       "      <td>183.893103</td>\n",
       "      <td>185.1</td>\n",
       "      <td>198.3</td>\n",
       "      <td>168.7</td>\n",
       "      <td>369.811321</td>\n",
       "      <td>353.0</td>\n",
       "    </tr>\n",
       "    <tr>\n",
       "      <th>595</th>\n",
       "      <td>0.0</td>\n",
       "      <td>0.0</td>\n",
       "      <td>0.0</td>\n",
       "      <td>0.0</td>\n",
       "      <td>0.0</td>\n",
       "      <td>0.0</td>\n",
       "      <td>0.0</td>\n",
       "      <td>0.0</td>\n",
       "      <td>0.0</td>\n",
       "      <td>0.0</td>\n",
       "      <td>...</td>\n",
       "      <td>40.54</td>\n",
       "      <td>47.220755</td>\n",
       "      <td>193.424138</td>\n",
       "      <td>182.5</td>\n",
       "      <td>176.975862</td>\n",
       "      <td>187.6</td>\n",
       "      <td>186.5</td>\n",
       "      <td>156.6</td>\n",
       "      <td>367.018868</td>\n",
       "      <td>352.0</td>\n",
       "    </tr>\n",
       "    <tr>\n",
       "      <th>596</th>\n",
       "      <td>40.0</td>\n",
       "      <td>94.0</td>\n",
       "      <td>45.0</td>\n",
       "      <td>10.0</td>\n",
       "      <td>505.8</td>\n",
       "      <td>510.9</td>\n",
       "      <td>497.1</td>\n",
       "      <td>248.1</td>\n",
       "      <td>489.0</td>\n",
       "      <td>498.0</td>\n",
       "      <td>...</td>\n",
       "      <td>0.00</td>\n",
       "      <td>0.000000</td>\n",
       "      <td>0.000000</td>\n",
       "      <td>0.0</td>\n",
       "      <td>0.000000</td>\n",
       "      <td>0.0</td>\n",
       "      <td>0.0</td>\n",
       "      <td>0.0</td>\n",
       "      <td>0.000000</td>\n",
       "      <td>0.0</td>\n",
       "    </tr>\n",
       "    <tr>\n",
       "      <th>597</th>\n",
       "      <td>21.0</td>\n",
       "      <td>87.0</td>\n",
       "      <td>61.0</td>\n",
       "      <td>10.0</td>\n",
       "      <td>470.6</td>\n",
       "      <td>474.9</td>\n",
       "      <td>462.9</td>\n",
       "      <td>248.0</td>\n",
       "      <td>525.0</td>\n",
       "      <td>534.0</td>\n",
       "      <td>...</td>\n",
       "      <td>0.00</td>\n",
       "      <td>0.000000</td>\n",
       "      <td>0.000000</td>\n",
       "      <td>0.0</td>\n",
       "      <td>0.000000</td>\n",
       "      <td>0.0</td>\n",
       "      <td>0.0</td>\n",
       "      <td>0.0</td>\n",
       "      <td>0.000000</td>\n",
       "      <td>0.0</td>\n",
       "    </tr>\n",
       "  </tbody>\n",
       "</table>\n",
       "<p>598 rows × 987 columns</p>\n",
       "</div>"
      ],
      "text/plain": [
       "      X_1   X_2   X_7   X_8   X_11   X_12   X_13   X_17   X_20   X_21  ...  \\\n",
       "0     0.0   0.0   0.0   0.0    0.0    0.0    0.0    0.0    0.0    0.0  ...   \n",
       "1     0.0   0.0   0.0   0.0    0.0    0.0    0.0    0.0    0.0    0.0  ...   \n",
       "2     0.0   0.0   0.0   0.0    0.0    0.0    0.0    0.0    0.0    0.0  ...   \n",
       "3     0.0   0.0   0.0   0.0    0.0    0.0    0.0    0.0    0.0    0.0  ...   \n",
       "4     0.0   0.0   0.0   0.0    0.0    0.0    0.0    0.0    0.0    0.0  ...   \n",
       "..    ...   ...   ...   ...    ...    ...    ...    ...    ...    ...  ...   \n",
       "593   2.0  95.0  50.0  10.0  468.9  473.9  459.2  248.0  527.0  538.0  ...   \n",
       "594   0.0   0.0   0.0   0.0    0.0    0.0    0.0    0.0    0.0    0.0  ...   \n",
       "595   0.0   0.0   0.0   0.0    0.0    0.0    0.0    0.0    0.0    0.0  ...   \n",
       "596  40.0  94.0  45.0  10.0  505.8  510.9  497.1  248.1  489.0  498.0  ...   \n",
       "597  21.0  87.0  61.0  10.0  470.6  474.9  462.9  248.0  525.0  534.0  ...   \n",
       "\n",
       "     X_2841     X_2846      X_2852  X_2853      X_2855  X_2857  X_2860  \\\n",
       "0     40.06  47.094444  175.903333   164.9  191.800000   139.6   209.0   \n",
       "1     36.54  47.084906  168.417241   151.2  188.755172   145.5   198.0   \n",
       "2     40.05  47.088679  176.137931   167.4  187.310345   128.0   193.4   \n",
       "3     40.03  47.105660  173.637931   166.7  187.203448   126.2   190.3   \n",
       "4     40.07  47.107407  175.366667   167.6  194.546667   152.1   208.6   \n",
       "..      ...        ...         ...     ...         ...     ...     ...   \n",
       "593    0.00   0.000000    0.000000     0.0    0.000000     0.0     0.0   \n",
       "594   40.59  47.254717  186.248276   179.5  183.893103   185.1   198.3   \n",
       "595   40.54  47.220755  193.424138   182.5  176.975862   187.6   186.5   \n",
       "596    0.00   0.000000    0.000000     0.0    0.000000     0.0     0.0   \n",
       "597    0.00   0.000000    0.000000     0.0    0.000000     0.0     0.0   \n",
       "\n",
       "     X_2862      X_2864  X_2865  \n",
       "0     189.0  368.296296   353.0  \n",
       "1     185.6  367.735849   353.0  \n",
       "2     165.5  367.320755   353.0  \n",
       "3     165.8  369.188679   353.0  \n",
       "4     182.6  367.351852   352.0  \n",
       "..      ...         ...     ...  \n",
       "593     0.0    0.000000     0.0  \n",
       "594   168.7  369.811321   353.0  \n",
       "595   156.6  367.018868   352.0  \n",
       "596     0.0    0.000000     0.0  \n",
       "597     0.0    0.000000     0.0  \n",
       "\n",
       "[598 rows x 987 columns]"
      ]
     },
     "execution_count": 11,
     "metadata": {},
     "output_type": "execute_result"
    }
   ],
   "source": [
    "train_x"
   ]
  },
  {
   "cell_type": "code",
   "execution_count": 12,
   "id": "f653a792",
   "metadata": {
    "scrolled": true
   },
   "outputs": [
    {
     "name": "stdout",
     "output_type": "stream",
     "text": [
      "\"X_1\", \"X_2\", \"X_7\", \"X_8\", \"X_11\", \"X_12\", \"X_13\", \"X_17\", \"X_20\", \"X_21\", \"X_22\", \"X_39\", \"X_43\", \"X_45\", \"X_49\", \"X_56\", \"X_58\", \"X_60\", \"X_61\", \"X_62\", \"X_73\", \"X_90\", \"X_97\", \"X_98\", \"X_101\", \"X_102\", \"X_103\", \"X_105\", \"X_106\", \"X_107\", \"X_109\", \"X_110\", \"X_111\", \"X_113\", \"X_117\", \"X_118\", \"X_119\", \"X_120\", \"X_121\", \"X_123\", \"X_124\", \"X_125\", \"X_126\", \"X_127\", \"X_130\", \"X_131\", \"X_136\", \"X_137\", \"X_139\", \"X_140\", \"X_141\", \"X_149\", \"X_189\", \"X_201\", \"X_217\", \"X_221\", \"X_223\", \"X_228\", \"X_240\", \"X_242\", \"X_243\", \"X_247\", \"X_248\", \"X_256\", \"X_257\", \"X_258\", \"X_262\", \"X_265\", \"X_266\", \"X_267\", \"X_285\", \"X_286\", \"X_287\", \"X_289\", \"X_292\", \"X_293\", \"X_294\", \"X_300\", \"X_303\", \"X_307\", \"X_309\", \"X_318\", \"X_335\", \"X_338\", \"X_339\", \"X_344\", \"X_345\", \"X_346\", \"X_350\", \"X_354\", \"X_356\", \"X_364\", \"X_367\", \"X_368\", \"X_370\", \"X_372\", \"X_373\", \"X_374\", \"X_379\", \"X_380\", \"X_385\", \"X_387\", \"X_388\", \"X_389\", \"X_394\", \"X_396\", \"X_397\", \"X_398\", \"X_399\", \"X_400\", \"X_401\", \"X_402\", \"X_403\", \"X_404\", \"X_405\", \"X_406\", \"X_407\", \"X_408\", \"X_412\", \"X_413\", \"X_417\", \"X_419\", \"X_420\", \"X_421\", \"X_422\", \"X_423\", \"X_428\", \"X_435\", \"X_437\", \"X_438\", \"X_439\", \"X_440\", \"X_441\", \"X_442\", \"X_443\", \"X_445\", \"X_446\", \"X_447\", \"X_448\", \"X_449\", \"X_451\", \"X_452\", \"X_453\", \"X_454\", \"X_455\", \"X_456\", \"X_457\", \"X_458\", \"X_459\", \"X_460\", \"X_461\", \"X_462\", \"X_463\", \"X_464\", \"X_468\", \"X_470\", \"X_471\", \"X_472\", \"X_473\", \"X_474\", \"X_475\", \"X_476\", \"X_477\", \"X_478\", \"X_483\", \"X_484\", \"X_485\", \"X_486\", \"X_489\", \"X_490\", \"X_491\", \"X_492\", \"X_493\", \"X_494\", \"X_495\", \"X_496\", \"X_497\", \"X_498\", \"X_500\", \"X_501\", \"X_502\", \"X_507\", \"X_510\", \"X_512\", \"X_513\", \"X_514\", \"X_515\", \"X_516\", \"X_517\", \"X_520\", \"X_521\", \"X_523\", \"X_524\", \"X_525\", \"X_527\", \"X_528\", \"X_530\", \"X_531\", \"X_533\", \"X_534\", \"X_535\", \"X_536\", \"X_537\", \"X_539\", \"X_543\", \"X_544\", \"X_545\", \"X_546\", \"X_547\", \"X_548\", \"X_549\", \"X_550\", \"X_552\", \"X_553\", \"X_554\", \"X_555\", \"X_556\", \"X_557\", \"X_560\", \"X_562\", \"X_564\", \"X_565\", \"X_566\", \"X_568\", \"X_570\", \"X_571\", \"X_572\", \"X_573\", \"X_574\", \"X_576\", \"X_577\", \"X_580\", \"X_581\", \"X_582\", \"X_585\", \"X_587\", \"X_589\", \"X_590\", \"X_592\", \"X_594\", \"X_595\", \"X_596\", \"X_599\", \"X_601\", \"X_603\", \"X_604\", \"X_607\", \"X_608\", \"X_609\", \"X_611\", \"X_613\", \"X_614\", \"X_616\", \"X_618\", \"X_619\", \"X_622\", \"X_623\", \"X_624\", \"X_626\", \"X_627\", \"X_643\", \"X_644\", \"X_646\", \"X_647\", \"X_648\", \"X_649\", \"X_651\", \"X_652\", \"X_655\", \"X_657\", \"X_658\", \"X_659\", \"X_660\", \"X_661\", \"X_662\", \"X_663\", \"X_664\", \"X_665\", \"X_667\", \"X_668\", \"X_670\", \"X_671\", \"X_674\", \"X_677\", \"X_678\", \"X_679\", \"X_681\", \"X_682\", \"X_683\", \"X_686\", \"X_687\", \"X_688\", \"X_690\", \"X_694\", \"X_696\", \"X_697\", \"X_698\", \"X_700\", \"X_702\", \"X_704\", \"X_705\", \"X_706\", \"X_708\", \"X_709\", \"X_710\", \"X_711\", \"X_712\", \"X_713\", \"X_714\", \"X_716\", \"X_718\", \"X_720\", \"X_721\", \"X_722\", \"X_725\", \"X_726\", \"X_727\", \"X_731\", \"X_733\", \"X_734\", \"X_735\", \"X_736\", \"X_741\", \"X_742\", \"X_744\", \"X_745\", \"X_747\", \"X_748\", \"X_751\", \"X_753\", \"X_754\", \"X_757\", \"X_758\", \"X_762\", \"X_763\", \"X_766\", \"X_769\", \"X_771\", \"X_772\", \"X_773\", \"X_774\", \"X_775\", \"X_780\", \"X_781\", \"X_783\", \"X_785\", \"X_786\", \"X_788\", \"X_789\", \"X_790\", \"X_792\", \"X_793\", \"X_795\", \"X_796\", \"X_799\", \"X_800\", \"X_801\", \"X_802\", \"X_804\", \"X_810\", \"X_813\", \"X_814\", \"X_815\", \"X_816\", \"X_817\", \"X_818\", \"X_820\", \"X_824\", \"X_825\", \"X_827\", \"X_830\", \"X_831\", \"X_832\", \"X_833\", \"X_834\", \"X_835\", \"X_838\", \"X_840\", \"X_841\", \"X_846\", \"X_848\", \"X_852\", \"X_853\", \"X_854\", \"X_855\", \"X_856\", \"X_861\", \"X_863\", \"X_864\", \"X_866\", \"X_867\", \"X_871\", \"X_875\", \"X_876\", \"X_877\", \"X_878\", \"X_882\", \"X_883\", \"X_890\", \"X_891\", \"X_892\", \"X_893\", \"X_894\", \"X_895\", \"X_896\", \"X_897\", \"X_898\", \"X_899\", \"X_901\", \"X_907\", \"X_909\", \"X_911\", \"X_914\", \"X_916\", \"X_917\", \"X_918\", \"X_919\", \"X_921\", \"X_922\", \"X_923\", \"X_924\", \"X_925\", \"X_926\", \"X_927\", \"X_929\", \"X_931\", \"X_932\", \"X_941\", \"X_943\", \"X_945\", \"X_947\", \"X_948\", \"X_949\", \"X_953\", \"X_954\", \"X_955\", \"X_956\", \"X_957\", \"X_958\", \"X_959\", \"X_961\", \"X_963\", \"X_965\", \"X_966\", \"X_967\", \"X_968\", \"X_972\", \"X_973\", \"X_975\", \"X_976\", \"X_977\", \"X_979\", \"X_981\", \"X_982\", \"X_983\", \"X_984\", \"X_986\", \"X_991\", \"X_993\", \"X_994\", \"X_995\", \"X_996\", \"X_997\", \"X_999\", \"X_1001\", \"X_1002\", \"X_1010\", \"X_1012\", \"X_1014\", \"X_1015\", \"X_1016\", \"X_1017\", \"X_1018\", \"X_1019\", \"X_1026\", \"X_1028\", \"X_1029\", \"X_1030\", \"X_1033\", \"X_1034\", \"X_1036\", \"X_1037\", \"X_1038\", \"X_1040\", \"X_1043\", \"X_1044\", \"X_1045\", \"X_1046\", \"X_1047\", \"X_1048\", \"X_1049\", \"X_1053\", \"X_1054\", \"X_1055\", \"X_1056\", \"X_1058\", \"X_1059\", \"X_1063\", \"X_1064\", \"X_1065\", \"X_1067\", \"X_1072\", \"X_1073\", \"X_1074\", \"X_1076\", \"X_1078\", \"X_1080\", \"X_1081\", \"X_1082\", \"X_1084\", \"X_1086\", \"X_1088\", \"X_1089\", \"X_1091\", \"X_1097\", \"X_1099\", \"X_1100\", \"X_1101\", \"X_1105\", \"X_1106\", \"X_1107\", \"X_1108\", \"X_1109\", \"X_1110\", \"X_1111\", \"X_1112\", \"X_1114\", \"X_1115\", \"X_1116\", \"X_1117\", \"X_1118\", \"X_1120\", \"X_1121\", \"X_1122\", \"X_1123\", \"X_1124\", \"X_1125\", \"X_1126\", \"X_1127\", \"X_1129\", \"X_1133\", \"X_1135\", \"X_1138\", \"X_1143\", \"X_1147\", \"X_1151\", \"X_1152\", \"X_1154\", \"X_1155\", \"X_1156\", \"X_1158\", \"X_1159\", \"X_1160\", \"X_1161\", \"X_1162\", \"X_1163\", \"X_1165\", \"X_1166\", \"X_1172\", \"X_1175\", \"X_1176\", \"X_1178\", \"X_1179\", \"X_1182\", \"X_1183\", \"X_1184\", \"X_1186\", \"X_1189\", \"X_1190\", \"X_1192\", \"X_1194\", \"X_1196\", \"X_1197\", \"X_1198\", \"X_1199\", \"X_1202\", \"X_1203\", \"X_1207\", \"X_1208\", \"X_1210\", \"X_1211\", \"X_1213\", \"X_1214\", \"X_1218\", \"X_1220\", \"X_1223\", \"X_1225\", \"X_1226\", \"X_1227\", \"X_1228\", \"X_1229\", \"X_1231\", \"X_1232\", \"X_1239\", \"X_1240\", \"X_1243\", \"X_1244\", \"X_1245\", \"X_1256\", \"X_1257\", \"X_1258\", \"X_1260\", \"X_1262\", \"X_1263\", \"X_1265\", \"X_1271\", \"X_1274\", \"X_1275\", \"X_1276\", \"X_1279\", \"X_1280\", \"X_1281\", \"X_1285\", \"X_1286\", \"X_1287\", \"X_1288\", \"X_1289\", \"X_1291\", \"X_1297\", \"X_1300\", \"X_1301\", \"X_1304\", \"X_1306\", \"X_1310\", \"X_1313\", \"X_1315\", \"X_1321\", \"X_1322\", \"X_1324\", \"X_1325\", \"X_1326\", \"X_1327\", \"X_1330\", \"X_1331\", \"X_1332\", \"X_1333\", \"X_1335\", \"X_1336\", \"X_1337\", \"X_1338\", \"X_1340\", \"X_1341\", \"X_1343\", \"X_1345\", \"X_1346\", \"X_1347\", \"X_1348\", \"X_1350\", \"X_1352\", \"X_1353\", \"X_1354\", \"X_1356\", \"X_1357\", \"X_1359\", \"X_1365\", \"X_1366\", \"X_1369\", \"X_1371\", \"X_1373\", \"X_1374\", \"X_1375\", \"X_1376\", \"X_1378\", \"X_1379\", \"X_1380\", \"X_1381\", \"X_1382\", \"X_1388\", \"X_1389\", \"X_1391\", \"X_1401\", \"X_1405\", \"X_1406\", \"X_1408\", \"X_1409\", \"X_1410\", \"X_1416\", \"X_1418\", \"X_1419\", \"X_1420\", \"X_1422\", \"X_1423\", \"X_1424\", \"X_1425\", \"X_1427\", \"X_1428\", \"X_1429\", \"X_1430\", \"X_1433\", \"X_1437\", \"X_1439\", \"X_1441\", \"X_1442\", \"X_1445\", \"X_1455\", \"X_1459\", \"X_1463\", \"X_1464\", \"X_1469\", \"X_1470\", \"X_1473\", \"X_1476\", \"X_1477\", \"X_1479\", \"X_1485\", \"X_1489\", \"X_1492\", \"X_1494\", \"X_1495\", \"X_1498\", \"X_1499\", \"X_1500\", \"X_1507\", \"X_1512\", \"X_1515\", \"X_1516\", \"X_1518\", \"X_1520\", \"X_1521\", \"X_1526\", \"X_1527\", \"X_1528\", \"X_1530\", \"X_1532\", \"X_1534\", \"X_1536\", \"X_1539\", \"X_1541\", \"X_1542\", \"X_1543\", \"X_1545\", \"X_1546\", \"X_1548\", \"X_1550\", \"X_1552\", \"X_1553\", \"X_1554\", \"X_1557\", \"X_1558\", \"X_1560\", \"X_1562\", \"X_1563\", \"X_1564\", \"X_1566\", \"X_1567\", \"X_1569\", \"X_1570\", \"X_1588\", \"X_1595\", \"X_1601\", \"X_1608\", \"X_1611\", \"X_1612\", \"X_1616\", \"X_1617\", \"X_1618\", \"X_1621\", \"X_1625\", \"X_1626\", \"X_1630\", \"X_1633\", \"X_1634\", \"X_1635\", \"X_1639\", \"X_1642\", \"X_1646\", \"X_1647\", \"X_1649\", \"X_1651\", \"X_1652\", \"X_1658\", \"X_1665\", \"X_1669\", \"X_1671\", \"X_1679\", \"X_1694\", \"X_1697\", \"X_1703\", \"X_1704\", \"X_1706\", \"X_1714\", \"X_1715\", \"X_1716\", \"X_1718\", \"X_1725\", \"X_1734\", \"X_1740\", \"X_1743\", \"X_1744\", \"X_1745\", \"X_1746\", \"X_1748\", \"X_1750\", \"X_1751\", \"X_1756\", \"X_1758\", \"X_1762\", \"X_1768\", \"X_1770\", \"X_1774\", \"X_1776\", \"X_1786\", \"X_1787\", \"X_1793\", \"X_1794\", \"X_1800\", \"X_1804\", \"X_1806\", \"X_1810\", \"X_1812\", \"X_1817\", \"X_1818\", \"X_1824\", \"X_1826\", \"X_1832\", \"X_1834\", \"X_1849\", \"X_1856\", \"X_1858\", \"X_1866\", \"X_1874\", \"X_1877\", \"X_1880\", \"X_1884\", \"X_1886\", \"X_1888\", \"X_1894\", \"X_1916\", \"X_1917\", \"X_1919\", \"X_1924\", \"X_1926\", \"X_1930\", \"X_1931\", \"X_1934\", \"X_1940\", \"X_1942\", \"X_1945\", \"X_1946\", \"X_1948\", \"X_1949\", \"X_1951\", \"X_1953\", \"X_1954\", \"X_1955\", \"X_1956\", \"X_1958\", \"X_1959\", \"X_1961\", \"X_1965\", \"X_1966\", \"X_1969\", \"X_1972\", \"X_2000\", \"X_2012\", \"X_2013\", \"X_2017\", \"X_2018\", \"X_2019\", \"X_2022\", \"X_2026\", \"X_2027\", \"X_2028\", \"X_2041\", \"X_2044\", \"X_2047\", \"X_2048\", \"X_2049\", \"X_2050\", \"X_2051\", \"X_2057\", \"X_2058\", \"X_2062\", \"X_2063\", \"X_2066\", \"X_2069\", \"X_2070\", \"X_2072\", \"X_2075\", \"X_2077\", \"X_2080\", \"X_2082\", \"X_2084\", \"X_2085\", \"X_2086\", \"X_2087\", \"X_2090\", \"X_2093\", \"X_2094\", \"X_2095\", \"X_2096\", \"X_2099\", \"X_2100\", \"X_2103\", \"X_2105\", \"X_2122\", \"X_2154\", \"X_2168\", \"X_2190\", \"X_2191\", \"X_2203\", \"X_2240\", \"X_2257\", \"X_2258\", \"X_2261\", \"X_2274\", \"X_2282\", \"X_2315\", \"X_2316\", \"X_2336\", \"X_2347\", \"X_2348\", \"X_2387\", \"X_2408\", \"X_2409\", \"X_2411\", \"X_2412\", \"X_2415\", \"X_2421\", \"X_2422\", \"X_2423\", \"X_2428\", \"X_2429\", \"X_2430\", \"X_2431\", \"X_2434\", \"X_2449\", \"X_2455\", \"X_2466\", \"X_2470\", \"X_2471\", \"X_2472\", \"X_2480\", \"X_2515\", \"X_2529\", \"X_2535\", \"X_2541\", \"X_2542\", \"X_2552\", \"X_2553\", \"X_2554\", \"X_2555\", \"X_2577\", \"X_2608\", \"X_2700\", \"X_2701\", \"X_2705\", \"X_2707\", \"X_2710\", \"X_2714\", \"X_2715\", \"X_2716\", \"X_2717\", \"X_2721\", \"X_2724\", \"X_2725\", \"X_2728\", \"X_2731\", \"X_2735\", \"X_2736\", \"X_2743\", \"X_2744\", \"X_2747\", \"X_2756\", \"X_2761\", \"X_2779\", \"X_2780\", \"X_2782\", \"X_2788\", \"X_2790\", \"X_2793\", \"X_2797\", \"X_2800\", \"X_2801\", \"X_2808\", \"X_2810\", \"X_2839\", \"X_2841\", \"X_2846\", \"X_2852\", \"X_2853\", \"X_2855\", \"X_2857\", \"X_2860\", \"X_2862\", \"X_2864\", \"X_2865\", "
     ]
    }
   ],
   "source": [
    "# 영향력이 있는 모든 컬럼\n",
    "for c in train_x.columns:\n",
    "    print(f'\"{c}\"', end=', ')"
   ]
  },
  {
   "cell_type": "code",
   "execution_count": 9,
   "id": "241225aa",
   "metadata": {},
   "outputs": [],
   "source": [
    "# # 시도할 때마다 컬럼 수의 차이가 있다. 따라서 이 곳에 저장한 컬럼을 활용한다.\n",
    "# feat_max = [\"X_1\", \"X_2\", \"X_7\", \"X_8\", \"X_11\", \"X_12\", \"X_13\", \"X_17\", \"X_20\", \"X_21\", \"X_22\", \"X_39\", \"X_43\", \"X_45\", \"X_49\", \"X_56\", \"X_58\", \"X_60\", \"X_61\", \"X_62\", \"X_73\", \"X_90\", \"X_97\", \"X_98\", \"X_101\", \"X_102\", \"X_103\", \"X_105\", \"X_106\", \"X_107\", \"X_109\", \"X_110\", \"X_111\", \"X_113\", \"X_117\", \"X_118\", \"X_119\", \"X_120\", \"X_121\", \"X_123\", \"X_124\", \"X_125\", \"X_126\", \"X_127\", \"X_130\", \"X_131\", \"X_136\", \"X_137\", \"X_139\", \"X_140\", \"X_141\", \"X_149\", \"X_189\", \"X_201\", \"X_217\", \"X_221\", \"X_223\", \"X_228\", \"X_240\", \"X_242\", \"X_243\", \"X_247\", \"X_248\", \"X_256\", \"X_257\", \"X_258\", \"X_262\", \"X_265\", \"X_266\", \"X_267\", \"X_285\", \"X_286\", \"X_287\", \"X_289\", \"X_292\", \"X_293\", \"X_294\", \"X_300\", \"X_303\", \"X_307\", \"X_309\", \"X_318\", \"X_335\", \"X_338\", \"X_339\", \"X_344\", \"X_345\", \"X_346\", \"X_350\", \"X_354\", \"X_356\", \"X_364\", \"X_367\", \"X_368\", \"X_370\", \"X_372\", \"X_373\", \"X_374\", \"X_379\", \"X_380\", \"X_385\", \"X_387\", \"X_388\", \"X_389\", \"X_394\", \"X_396\", \"X_397\", \"X_398\", \"X_399\", \"X_400\", \"X_401\", \"X_402\", \"X_403\", \"X_404\", \"X_405\", \"X_406\", \"X_407\", \"X_408\", \"X_412\", \"X_413\", \"X_417\", \"X_419\", \"X_420\", \"X_421\", \"X_422\", \"X_423\", \"X_428\", \"X_435\", \"X_437\", \"X_438\", \"X_439\", \"X_440\", \"X_441\", \"X_442\", \"X_443\", \"X_445\", \"X_446\", \"X_447\", \"X_448\", \"X_449\", \"X_451\", \"X_452\", \"X_453\", \"X_454\", \"X_455\", \"X_456\", \"X_457\", \"X_458\", \"X_459\", \"X_460\", \"X_461\", \"X_462\", \"X_463\", \"X_464\", \"X_468\", \"X_470\", \"X_471\", \"X_472\", \"X_473\", \"X_474\", \"X_475\", \"X_476\", \"X_477\", \"X_478\", \"X_483\", \"X_484\", \"X_485\", \"X_486\", \"X_489\", \"X_490\", \"X_491\", \"X_492\", \"X_493\", \"X_494\", \"X_495\", \"X_496\", \"X_497\", \"X_498\", \"X_500\", \"X_501\", \"X_502\", \"X_507\", \"X_510\", \"X_512\", \"X_513\", \"X_514\", \"X_515\", \"X_516\", \"X_517\", \"X_520\", \"X_521\", \"X_523\", \"X_524\", \"X_525\", \"X_527\", \"X_528\", \"X_530\", \"X_531\", \"X_533\", \"X_534\", \"X_535\", \"X_536\", \"X_537\", \"X_539\", \"X_543\", \"X_544\", \"X_545\", \"X_546\", \"X_547\", \"X_548\", \"X_549\", \"X_550\", \"X_552\", \"X_553\", \"X_554\", \"X_555\", \"X_556\", \"X_557\", \"X_560\", \"X_562\", \"X_564\", \"X_565\", \"X_566\", \"X_568\", \"X_570\", \"X_571\", \"X_572\", \"X_573\", \"X_574\", \"X_576\", \"X_577\", \"X_580\", \"X_581\", \"X_582\", \"X_585\", \"X_587\", \"X_589\", \"X_590\", \"X_592\", \"X_594\", \"X_595\", \"X_596\", \"X_599\", \"X_601\", \"X_603\", \"X_604\", \"X_607\", \"X_608\", \"X_609\", \"X_611\", \"X_613\", \"X_614\", \"X_616\", \"X_618\", \"X_619\", \"X_622\", \"X_623\", \"X_624\", \"X_626\", \"X_627\", \"X_643\", \"X_644\", \"X_646\", \"X_647\", \"X_648\", \"X_649\", \"X_651\", \"X_652\", \"X_655\", \"X_657\", \"X_658\", \"X_659\", \"X_660\", \"X_661\", \"X_662\", \"X_663\", \"X_664\", \"X_665\", \"X_667\", \"X_668\", \"X_670\", \"X_671\", \"X_674\", \"X_677\", \"X_678\", \"X_679\", \"X_681\", \"X_682\", \"X_683\", \"X_686\", \"X_687\", \"X_688\", \"X_690\", \"X_694\", \"X_696\", \"X_697\", \"X_698\", \"X_700\", \"X_702\", \"X_704\", \"X_705\", \"X_706\", \"X_708\", \"X_709\", \"X_710\", \"X_711\", \"X_712\", \"X_713\", \"X_714\", \"X_716\", \"X_718\", \"X_720\", \"X_721\", \"X_722\", \"X_725\", \"X_726\", \"X_727\", \"X_731\", \"X_733\", \"X_734\", \"X_735\", \"X_736\", \"X_741\", \"X_742\", \"X_744\", \"X_745\", \"X_747\", \"X_748\", \"X_751\", \"X_753\", \"X_754\", \"X_757\", \"X_758\", \"X_762\", \"X_763\", \"X_766\", \"X_769\", \"X_771\", \"X_772\", \"X_773\", \"X_774\", \"X_775\", \"X_780\", \"X_781\", \"X_783\", \"X_785\", \"X_786\", \"X_788\", \"X_789\", \"X_790\", \"X_792\", \"X_793\", \"X_795\", \"X_796\", \"X_799\", \"X_800\", \"X_801\", \"X_802\", \"X_804\", \"X_810\", \"X_813\", \"X_814\", \"X_815\", \"X_816\", \"X_817\", \"X_818\", \"X_820\", \"X_824\", \"X_825\", \"X_827\", \"X_830\", \"X_831\", \"X_832\", \"X_833\", \"X_834\", \"X_835\", \"X_838\", \"X_840\", \"X_841\", \"X_846\", \"X_848\", \"X_852\", \"X_853\", \"X_854\", \"X_855\", \"X_856\", \"X_861\", \"X_863\", \"X_864\", \"X_866\", \"X_867\", \"X_871\", \"X_875\", \"X_876\", \"X_877\", \"X_878\", \"X_882\", \"X_883\", \"X_890\", \"X_891\", \"X_892\", \"X_893\", \"X_894\", \"X_895\", \"X_896\", \"X_897\", \"X_898\", \"X_899\", \"X_901\", \"X_907\", \"X_909\", \"X_911\", \"X_914\", \"X_916\", \"X_917\", \"X_918\", \"X_919\", \"X_921\", \"X_922\", \"X_923\", \"X_924\", \"X_925\", \"X_926\", \"X_927\", \"X_929\", \"X_931\", \"X_932\", \"X_941\", \"X_943\", \"X_945\", \"X_947\", \"X_948\", \"X_949\", \"X_953\", \"X_954\", \"X_955\", \"X_956\", \"X_957\", \"X_958\", \"X_959\", \"X_961\", \"X_963\", \"X_965\", \"X_966\", \"X_967\", \"X_968\", \"X_972\", \"X_973\", \"X_975\", \"X_976\", \"X_977\", \"X_979\", \"X_981\", \"X_982\", \"X_983\", \"X_984\", \"X_986\", \"X_991\", \"X_993\", \"X_994\", \"X_995\", \"X_996\", \"X_997\", \"X_999\", \"X_1001\", \"X_1002\", \"X_1010\", \"X_1012\", \"X_1014\", \"X_1015\", \"X_1016\", \"X_1017\", \"X_1018\", \"X_1019\", \"X_1026\", \"X_1028\", \"X_1029\", \"X_1030\", \"X_1033\", \"X_1034\", \"X_1036\", \"X_1037\", \"X_1038\", \"X_1040\", \"X_1043\", \"X_1044\", \"X_1045\", \"X_1046\", \"X_1047\", \"X_1048\", \"X_1049\", \"X_1053\", \"X_1054\", \"X_1055\", \"X_1056\", \"X_1058\", \"X_1059\", \"X_1063\", \"X_1064\", \"X_1065\", \"X_1067\", \"X_1072\", \"X_1073\", \"X_1074\", \"X_1076\", \"X_1078\", \"X_1080\", \"X_1081\", \"X_1082\", \"X_1084\", \"X_1086\", \"X_1088\", \"X_1089\", \"X_1091\", \"X_1097\", \"X_1099\", \"X_1100\", \"X_1101\", \"X_1105\", \"X_1106\", \"X_1107\", \"X_1108\", \"X_1109\", \"X_1110\", \"X_1111\", \"X_1112\", \"X_1114\", \"X_1115\", \"X_1116\", \"X_1117\", \"X_1118\", \"X_1120\", \"X_1121\", \"X_1122\", \"X_1123\", \"X_1124\", \"X_1125\", \"X_1126\", \"X_1127\", \"X_1129\", \"X_1133\", \"X_1135\", \"X_1138\", \"X_1143\", \"X_1147\", \"X_1151\", \"X_1152\", \"X_1154\", \"X_1155\", \"X_1156\", \"X_1158\", \"X_1159\", \"X_1160\", \"X_1161\", \"X_1162\", \"X_1163\", \"X_1165\", \"X_1166\", \"X_1172\", \"X_1175\", \"X_1176\", \"X_1178\", \"X_1179\", \"X_1182\", \"X_1183\", \"X_1184\", \"X_1186\", \"X_1189\", \"X_1190\", \"X_1192\", \"X_1194\", \"X_1196\", \"X_1197\", \"X_1198\", \"X_1199\", \"X_1202\", \"X_1203\", \"X_1207\", \"X_1208\", \"X_1210\", \"X_1211\", \"X_1213\", \"X_1214\", \"X_1218\", \"X_1220\", \"X_1223\", \"X_1225\", \"X_1226\", \"X_1227\", \"X_1228\", \"X_1229\", \"X_1231\", \"X_1232\", \"X_1239\", \"X_1240\", \"X_1243\", \"X_1244\", \"X_1245\", \"X_1256\", \"X_1257\", \"X_1258\", \"X_1260\", \"X_1262\", \"X_1263\", \"X_1265\", \"X_1271\", \"X_1274\", \"X_1275\", \"X_1276\", \"X_1279\", \"X_1280\", \"X_1281\", \"X_1285\", \"X_1286\", \"X_1287\", \"X_1288\", \"X_1289\", \"X_1291\", \"X_1297\", \"X_1300\", \"X_1301\", \"X_1304\", \"X_1306\", \"X_1310\", \"X_1313\", \"X_1315\", \"X_1321\", \"X_1322\", \"X_1324\", \"X_1325\", \"X_1326\", \"X_1327\", \"X_1330\", \"X_1331\", \"X_1332\", \"X_1333\", \"X_1335\", \"X_1336\", \"X_1337\", \"X_1338\", \"X_1340\", \"X_1341\", \"X_1343\", \"X_1345\", \"X_1346\", \"X_1347\", \"X_1348\", \"X_1350\", \"X_1352\", \"X_1353\", \"X_1354\", \"X_1356\", \"X_1357\", \"X_1359\", \"X_1365\", \"X_1366\", \"X_1369\", \"X_1371\", \"X_1373\", \"X_1374\", \"X_1375\", \"X_1376\", \"X_1378\", \"X_1379\", \"X_1380\", \"X_1381\", \"X_1382\", \"X_1388\", \"X_1389\", \"X_1391\", \"X_1401\", \"X_1405\", \"X_1406\", \"X_1408\", \"X_1409\", \"X_1410\", \"X_1416\", \"X_1418\", \"X_1419\", \"X_1420\", \"X_1422\", \"X_1423\", \"X_1424\", \"X_1425\", \"X_1427\", \"X_1428\", \"X_1429\", \"X_1430\", \"X_1433\", \"X_1437\", \"X_1439\", \"X_1441\", \"X_1442\", \"X_1445\", \"X_1455\", \"X_1459\", \"X_1463\", \"X_1464\", \"X_1469\", \"X_1470\", \"X_1473\", \"X_1476\", \"X_1477\", \"X_1479\", \"X_1485\", \"X_1489\", \"X_1492\", \"X_1494\", \"X_1495\", \"X_1498\", \"X_1499\", \"X_1500\", \"X_1507\", \"X_1512\", \"X_1515\", \"X_1516\", \"X_1518\", \"X_1520\", \"X_1521\", \"X_1526\", \"X_1527\", \"X_1528\", \"X_1530\", \"X_1532\", \"X_1534\", \"X_1536\", \"X_1539\", \"X_1541\", \"X_1542\", \"X_1543\", \"X_1545\", \"X_1546\", \"X_1548\", \"X_1550\", \"X_1552\", \"X_1553\", \"X_1554\", \"X_1557\", \"X_1558\", \"X_1560\", \"X_1562\", \"X_1563\", \"X_1564\", \"X_1566\", \"X_1567\", \"X_1569\", \"X_1570\", \"X_1588\", \"X_1595\", \"X_1601\", \"X_1608\", \"X_1611\", \"X_1612\", \"X_1616\", \"X_1617\", \"X_1618\", \"X_1621\", \"X_1625\", \"X_1626\", \"X_1630\", \"X_1633\", \"X_1634\", \"X_1635\", \"X_1639\", \"X_1642\", \"X_1646\", \"X_1647\", \"X_1649\", \"X_1651\", \"X_1652\", \"X_1658\", \"X_1665\", \"X_1669\", \"X_1671\", \"X_1679\", \"X_1694\", \"X_1697\", \"X_1703\", \"X_1704\", \"X_1706\", \"X_1714\", \"X_1715\", \"X_1716\", \"X_1718\", \"X_1725\", \"X_1734\", \"X_1740\", \"X_1743\", \"X_1744\", \"X_1745\", \"X_1746\", \"X_1748\", \"X_1750\", \"X_1751\", \"X_1756\", \"X_1758\", \"X_1762\", \"X_1768\", \"X_1770\", \"X_1774\", \"X_1776\", \"X_1786\", \"X_1787\", \"X_1793\", \"X_1794\", \"X_1800\", \"X_1804\", \"X_1806\", \"X_1810\", \"X_1812\", \"X_1817\", \"X_1818\", \"X_1824\", \"X_1826\", \"X_1832\", \"X_1834\", \"X_1849\", \"X_1856\", \"X_1858\", \"X_1866\", \"X_1874\", \"X_1877\", \"X_1880\", \"X_1884\", \"X_1886\", \"X_1888\", \"X_1894\", \"X_1916\", \"X_1917\", \"X_1919\", \"X_1924\", \"X_1926\", \"X_1930\", \"X_1931\", \"X_1934\", \"X_1940\", \"X_1942\", \"X_1945\", \"X_1946\", \"X_1948\", \"X_1949\", \"X_1951\", \"X_1953\", \"X_1954\", \"X_1955\", \"X_1956\", \"X_1958\", \"X_1959\", \"X_1961\", \"X_1965\", \"X_1966\", \"X_1969\", \"X_1972\", \"X_2000\", \"X_2012\", \"X_2013\", \"X_2017\", \"X_2018\", \"X_2019\", \"X_2022\", \"X_2026\", \"X_2027\", \"X_2028\", \"X_2041\", \"X_2044\", \"X_2047\", \"X_2048\", \"X_2049\", \"X_2050\", \"X_2051\", \"X_2057\", \"X_2058\", \"X_2062\", \"X_2063\", \"X_2066\", \"X_2069\", \"X_2070\", \"X_2072\", \"X_2075\", \"X_2077\", \"X_2080\", \"X_2082\", \"X_2084\", \"X_2085\", \"X_2086\", \"X_2087\", \"X_2090\", \"X_2093\", \"X_2094\", \"X_2095\", \"X_2096\", \"X_2099\", \"X_2100\", \"X_2103\", \"X_2105\", \"X_2122\", \"X_2154\", \"X_2168\", \"X_2190\", \"X_2191\", \"X_2203\", \"X_2240\", \"X_2257\", \"X_2258\", \"X_2261\", \"X_2274\", \"X_2282\", \"X_2315\", \"X_2316\", \"X_2336\", \"X_2347\", \"X_2348\", \"X_2387\", \"X_2408\", \"X_2409\", \"X_2411\", \"X_2412\", \"X_2415\", \"X_2421\", \"X_2422\", \"X_2423\", \"X_2428\", \"X_2429\", \"X_2430\", \"X_2431\", \"X_2434\", \"X_2449\", \"X_2455\", \"X_2466\", \"X_2470\", \"X_2471\", \"X_2472\", \"X_2480\", \"X_2515\", \"X_2529\", \"X_2535\", \"X_2541\", \"X_2542\", \"X_2552\", \"X_2553\", \"X_2554\", \"X_2555\", \"X_2577\", \"X_2608\", \"X_2700\", \"X_2701\", \"X_2705\", \"X_2707\", \"X_2710\", \"X_2714\", \"X_2715\", \"X_2716\", \"X_2717\", \"X_2721\", \"X_2724\", \"X_2725\", \"X_2728\", \"X_2731\", \"X_2735\", \"X_2736\", \"X_2743\", \"X_2744\", \"X_2747\", \"X_2756\", \"X_2761\", \"X_2779\", \"X_2780\", \"X_2782\", \"X_2788\", \"X_2790\", \"X_2793\", \"X_2797\", \"X_2800\", \"X_2801\", \"X_2808\", \"X_2810\", \"X_2839\", \"X_2841\", \"X_2846\", \"X_2852\", \"X_2853\", \"X_2855\", \"X_2857\", \"X_2860\", \"X_2862\", \"X_2864\", \"X_2865\"]\n",
    "# train_x = train_x[feat_max]\n",
    "# test = test[feat_max]"
   ]
  },
  {
   "cell_type": "code",
   "execution_count": 30,
   "id": "9ff93cd7",
   "metadata": {},
   "outputs": [
    {
     "name": "stdout",
     "output_type": "stream",
     "text": [
      "36 2 0\n",
      "39 1 0\n",
      "40 1 0\n",
      "61 0 1\n",
      "129 1 0\n",
      "132 1 0\n",
      "151 1 2\n",
      "163 1 2\n",
      "283 0 1\n",
      "286 2 1\n",
      "292 2 0\n"
     ]
    }
   ],
   "source": [
    "for i, (a, b) in enumerate(zip(result, pd.read_csv('submission_36_feat_del.csv').Y_Class)):\n",
    "    if a != b:\n",
    "        print(i, a, b)"
   ]
  },
  {
   "cell_type": "code",
   "execution_count": 25,
   "id": "a96785b2",
   "metadata": {},
   "outputs": [
    {
     "data": {
      "text/plain": [
       "1    267\n",
       "0     35\n",
       "2      8\n",
       "Name: Y_Class, dtype: int64"
      ]
     },
     "execution_count": 25,
     "metadata": {},
     "output_type": "execute_result"
    }
   ],
   "source": [
    "subm.Y_Class.value_counts()"
   ]
  },
  {
   "cell_type": "code",
   "execution_count": 45,
   "id": "680aa72d",
   "metadata": {},
   "outputs": [],
   "source": [
    "subm.to_csv('./submission_64.csv', index=False)"
   ]
  },
  {
   "cell_type": "code",
   "execution_count": null,
   "id": "e062073b",
   "metadata": {},
   "outputs": [],
   "source": []
  },
  {
   "cell_type": "code",
   "execution_count": 44,
   "id": "7a9ea110",
   "metadata": {},
   "outputs": [
    {
     "data": {
      "text/plain": [
       "1    263\n",
       "0     40\n",
       "2      7\n",
       "Name: Y_Class, dtype: int64"
      ]
     },
     "execution_count": 44,
     "metadata": {},
     "output_type": "execute_result"
    }
   ],
   "source": []
  },
  {
   "cell_type": "code",
   "execution_count": null,
   "id": "3854edc6",
   "metadata": {},
   "outputs": [],
   "source": [
    "clf = catboost.CatBoostClassifier(verbose=0, task_type=\"GPU\").fit(train_x, train_y)\n",
    "pred = clf.predict(test)"
   ]
  },
  {
   "cell_type": "code",
   "execution_count": null,
   "id": "b5938dfe",
   "metadata": {},
   "outputs": [],
   "source": []
  },
  {
   "cell_type": "code",
   "execution_count": null,
   "id": "78c7a43a",
   "metadata": {},
   "outputs": [],
   "source": [
    "for i, (a, b) in enumerate(zip(pred, pd.read_csv('submission_36_feat_del.csv').Y_Class)):\n",
    "    if a != b:\n",
    "        print(i, a, b)"
   ]
  },
  {
   "cell_type": "code",
   "execution_count": null,
   "id": "45000efc",
   "metadata": {},
   "outputs": [],
   "source": []
  },
  {
   "cell_type": "code",
   "execution_count": null,
   "id": "a040dd8d",
   "metadata": {},
   "outputs": [],
   "source": []
  },
  {
   "cell_type": "code",
   "execution_count": null,
   "id": "99bcabe7",
   "metadata": {},
   "outputs": [],
   "source": []
  },
  {
   "cell_type": "code",
   "execution_count": null,
   "id": "4700470c",
   "metadata": {},
   "outputs": [],
   "source": []
  },
  {
   "cell_type": "code",
   "execution_count": null,
   "id": "9d6facd5",
   "metadata": {},
   "outputs": [],
   "source": []
  },
  {
   "cell_type": "code",
   "execution_count": null,
   "id": "ff811bbf",
   "metadata": {},
   "outputs": [],
   "source": []
  },
  {
   "cell_type": "code",
   "execution_count": null,
   "id": "e923d4c8",
   "metadata": {},
   "outputs": [],
   "source": []
  },
  {
   "cell_type": "code",
   "execution_count": null,
   "id": "59d37b25",
   "metadata": {},
   "outputs": [],
   "source": [
    "train_X, test_X, train_Y, test_Y = train_test_split(train_x, train_y, test_size=0.15)\n",
    "train_X.reset_index(drop=True, inplace=True)\n",
    "train_Y.reset_index(drop=True, inplace=True)\n",
    "test_X.reset_index(drop=True, inplace=True)\n",
    "test_Y.reset_index(drop=True, inplace=True)\n",
    "\n",
    "rskfold = RepeatedStratifiedKFold(n_splits=7, n_repeats=2)\n",
    "clf = catboost.CatBoostClassifier(verbose=0, task_type=\"GPU\")\n",
    "\n",
    "f1_list = []\n",
    "for fold, (train_index, val_index) in enumerate(tqdm(rskfold.split(train_X, train_Y))):\n",
    "    x_trn, x_val, y_trn, y_val = train_X.loc[train_index], train_X.loc[val_index], train_Y.loc[train_index], train_Y.loc[val_index]\n",
    "\n",
    "    clf.fit(x_trn, y_trn, eval_set=(x_val, y_val))\n",
    "    f1_list.append(f1_score(clf.predict(test_X), test_Y, average='macro'))\n",
    "    \n",
    "print(f'{min(f1_list)} ~ {max(f1_list)}')\n",
    "print('mean :', np.mean(f1_list))"
   ]
  },
  {
   "cell_type": "code",
   "execution_count": 93,
   "id": "d10ab193",
   "metadata": {},
   "outputs": [
    {
     "name": "stderr",
     "output_type": "stream",
     "text": [
      "21it [06:21, 18.18s/it]"
     ]
    },
    {
     "name": "stdout",
     "output_type": "stream",
     "text": [
      "0.513655462184874 ~ 0.6405800611546729\n",
      "mean : 0.5777792587441427\n"
     ]
    },
    {
     "name": "stderr",
     "output_type": "stream",
     "text": [
      "\n"
     ]
    }
   ],
   "source": [
    "clf = catboost.CatBoostClassifier(verbose=0, task_type=\"GPU\")\n",
    "\n",
    "f1_list = []\n",
    "for fold, (train_index, val_index) in enumerate(tqdm(rskfold.split(train_X, train_Y))):\n",
    "    x_trn, x_val, y_trn, y_val = train_X.loc[train_index], train_X.loc[val_index], train_Y.loc[train_index], train_Y.loc[val_index]\n",
    "\n",
    "    clf.fit(x_trn, y_trn, eval_set=(x_val, y_val))\n",
    "    f1_list.append(f1_score(clf.predict(test_X), test_Y, average='macro'))\n",
    "    \n",
    "print(f'{min(f1_list)} ~ {max(f1_list)}')\n",
    "print('mean :', np.mean(f1_list))"
   ]
  },
  {
   "cell_type": "code",
   "execution_count": null,
   "id": "a3515bdd",
   "metadata": {},
   "outputs": [],
   "source": []
  },
  {
   "cell_type": "code",
   "execution_count": null,
   "id": "e542547c",
   "metadata": {},
   "outputs": [],
   "source": [
    "# model = CatBoostClassifier()      # parameters not required.\n",
    "# model.load_model('catb_1.cbm', format='cbm')"
   ]
  },
  {
   "cell_type": "code",
   "execution_count": 88,
   "id": "29b918d3",
   "metadata": {},
   "outputs": [
    {
     "name": "stderr",
     "output_type": "stream",
     "text": [
      "21it [06:41, 19.10s/it]\n"
     ]
    }
   ],
   "source": [
    "rskfold = RepeatedStratifiedKFold(n_splits=7, n_repeats=3)\n",
    "\n",
    "pred_list, proba_list = [], []\n",
    "for fold, (train_index, val_index) in enumerate(tqdm(rskfold.split(train_x, train_y))):\n",
    "    x_trn, x_val, y_trn, y_val = train_x.loc[train_index], train_x.loc[val_index], train_y.loc[train_index], train_y.loc[val_index]\n",
    "\n",
    "    clf.fit(x_trn, y_trn, eval_set=(x_val, y_val))\n",
    "    clf.save_model('catb_'+str(fold)+'.cbm', format='cbm')\n",
    "    pred_list.append(clf.predict(test))\n",
    "    proba_list.append(clf.predict_proba(test))"
   ]
  },
  {
   "cell_type": "code",
   "execution_count": 89,
   "id": "83b6d29f",
   "metadata": {},
   "outputs": [],
   "source": [
    "proba_list = np.array(proba_list)\n",
    "pred_list = np.array(pred_list)\n",
    "\n",
    "result = []\n",
    "\n",
    "for i in range(len(pred_list[0])):\n",
    "    proba = np.array([(list(proba).index(max(proba)), max(proba)) for proba in proba_list[:, i]])\n",
    "    pred = [list(pred_list[:, i]).count(j) for j in range(3)]\n",
    "\n",
    "    maxidx = pred.index(max(pred)) # 최다 투표 받은 Class\n",
    "    if (maxidx==0 and abs(pred[0]-max(pred[1], pred[2]))<3) or (maxidx==1 and abs(pred[1]-max(pred[0], pred[2]))<3) or (maxidx==2 and abs(pred[2]-max(pred[0], pred[1]))<3): # 최다 투표수(1순위)가 2순위와 3개미만 차이일 때,\n",
    "        tmp = np.array([p for p in proba if p[0]==1 or p[0]==2])\n",
    "        result.append(int(tmp[list(tmp[:, 1]).index(max(tmp[:, 1])), 0])) # 높은 득표를 받은 두 Class 중 가장 높은 확률을 보인 Class를 선택\n",
    "    else:\n",
    "        result.append(pred.index(max(pred))) # 최다 투표 받은 Class를 선택"
   ]
  },
  {
   "cell_type": "code",
   "execution_count": 43,
   "id": "2c014fda",
   "metadata": {
    "scrolled": true
   },
   "outputs": [
    {
     "name": "stdout",
     "output_type": "stream",
     "text": [
      "7 0 0.8303698032907039\n",
      "\n",
      "8 0 0.777869499688066\n",
      "\n",
      "39 0 0.8741632077370453\n",
      "\n",
      "42 0 0.8084629537977241\n",
      "\n",
      "52 0 0.794117938571142\n",
      "\n",
      "53 0 0.6236945639684288\n",
      "\n",
      "88 0 0.9797343651896133\n",
      "\n",
      "109 2 0.7003404368060292\n",
      "\n",
      "129 0 0.6470798134208753\n",
      "\n",
      "130 0 0.7821121560771398\n",
      "\n",
      "254 0 0.5715191303414694\n",
      "\n",
      "255 2 0.5561715834702224\n",
      "\n",
      "280 0 0.6856698369717686\n",
      "\n",
      "281 2 0.526115258246921\n",
      "\n",
      "283 1 0.5328785159771803\n",
      "\n",
      "284 0 0.6726347817291203\n",
      "\n",
      "286 1 0.5559003166660638\n",
      "\n",
      "292 2 0.4772029299670563\n",
      "\n"
     ]
    }
   ],
   "source": [
    "proba_list = np.array(proba_list)\n",
    "pred_list = np.array(pred_list)\n",
    "\n",
    "pred = []\n",
    "for i in range(len(pred_list[0])):\n",
    "    proba = np.array([(list(proba).index(max(proba)), max(proba)) for proba in proba_list[:, i]])\n",
    "    p = [list(pred_list[:, i]).count(j) for j in range(3)]\n",
    "    \n",
    "    if len(np.unique(proba[:, 0])) != 1:\n",
    "        if abs(p[0]-p[1])<4 or abs(p[0]-p[1])<4 or abs(p[1]-p[2])<4:\n",
    "            pred.append(int(proba[list(proba[:, 1]).index(max(proba[:, 1])), 0]))\n",
    "            print(i, int(proba[list(proba[:, 1]).index(max(proba[:, 1])), 0]), max(proba[:, 1]), end='\\n\\n')\n",
    "        else:\n",
    "            pred.append(p.index(max(p)))\n",
    "            #print(i, p, end='\\n\\n')\n",
    "\n",
    "    else:\n",
    "        pred.append(int(proba[0, 0]))"
   ]
  },
  {
   "cell_type": "code",
   "execution_count": 45,
   "id": "dbd8197e",
   "metadata": {},
   "outputs": [
    {
     "data": {
      "text/plain": [
       "1    265\n",
       "0     33\n",
       "2     12\n",
       "Name: Y_Class, dtype: int64"
      ]
     },
     "execution_count": 45,
     "metadata": {},
     "output_type": "execute_result"
    }
   ],
   "source": [
    "subm['Y_Class'] = pred\n",
    "subm['Y_Class'].value_countscounts()"
   ]
  },
  {
   "cell_type": "code",
   "execution_count": 46,
   "id": "36e47639",
   "metadata": {},
   "outputs": [],
   "source": [
    "subm.to_csv('./submission_54.csv', index=False)"
   ]
  },
  {
   "cell_type": "code",
   "execution_count": null,
   "id": "11b253a2",
   "metadata": {},
   "outputs": [],
   "source": []
  },
  {
   "cell_type": "code",
   "execution_count": 91,
   "id": "d3d01341",
   "metadata": {},
   "outputs": [
    {
     "name": "stdout",
     "output_type": "stream",
     "text": [
      "36 2 0\n",
      "54 1 0\n",
      "129 1 0\n",
      "132 1 0\n",
      "151 1 2\n",
      "255 1 0\n",
      "282 1 0\n",
      "283 2 1\n",
      "292 1 0\n"
     ]
    }
   ],
   "source": [
    "for i, (a, b) in enumerate(zip(result, pd.read_csv('submission_36_feat_del.csv').Y_Class)):\n",
    "    if a != b:\n",
    "        print(i, a, b)"
   ]
  },
  {
   "cell_type": "code",
   "execution_count": null,
   "id": "6644f1e8",
   "metadata": {},
   "outputs": [],
   "source": []
  }
 ],
 "metadata": {
  "kernelspec": {
   "display_name": "Python 3 (ipykernel)",
   "language": "python",
   "name": "python3"
  },
  "language_info": {
   "codemirror_mode": {
    "name": "ipython",
    "version": 3
   },
   "file_extension": ".py",
   "mimetype": "text/x-python",
   "name": "python",
   "nbconvert_exporter": "python",
   "pygments_lexer": "ipython3",
   "version": "3.9.12"
  }
 },
 "nbformat": 4,
 "nbformat_minor": 5
}
