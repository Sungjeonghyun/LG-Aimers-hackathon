{
 "cells": [
  {
   "cell_type": "markdown",
   "id": "ca5fe9b3",
   "metadata": {},
   "source": [
    "* 환경 : Windows 10 이상, python 3.9 ( 아마 python 3.7 이상이면 동작할 거에요. ) \n",
    "* PC에 엔비디아 그래픽카드가 없다면 Catboost 실행이 안될 거에요. 그땐, Catboost 파라미터 중 task_tpye='GPU'를 지워주시면 돼요.\n",
    "* GPU를 사용하지 않으면, PC의 CPU 자원을 모두 활용하기 때문에, PC가 멈출 수 있어요(렉이 심해지거나).\n",
    "* 그럴 때는 thread_count=(모델이 활용하길 바라는 CPU 개수) ex) thread_count=5 (기본값은 thread_count=-1 로, -1은 모두 사용이란 의미입니다.)\n"
   ]
  },
  {
   "cell_type": "code",
   "execution_count": null,
   "id": "7f839ec0",
   "metadata": {},
   "outputs": [],
   "source": [
    "# # 라이브러리 설치이니 아래 코드들을 주석을 지운 뒤 실행시켜 주시면 돼요. (기존에 설치되어 있는 패키지는 스킵하고 설치됩니다.)\n",
    "# # 주석을 한번에 지우는 방법 ----> 지우고 싶은 줄들을 드래그 하고, ctrl + '/' 를 누르면 한번에 지워져요.\n",
    "\n",
    "# !pip install pandas\n",
    "# !pip install numpy\n",
    "# !pip install scikit-learn\n",
    "# !pip install imblearn\n",
    "# !pip install eli5\n",
    "# !pip install matplotlib\n",
    "# !pip install seaborn\n",
    "# !pip install missingno\n",
    "# !pip install catboost\n",
    "# !pip install optuna"
   ]
  },
  {
   "cell_type": "code",
   "execution_count": 40,
   "id": "fa7efeb5",
   "metadata": {},
   "outputs": [],
   "source": [
    "# Ignore Warning message\n",
    "import warnings\n",
    "warnings.filterwarnings('ignore')\n",
    "\n",
    "# Random seed fix\n",
    "import os\n",
    "import random\n",
    "\n",
    "# progress bar in repeated code\n",
    "from tqdm import tqdm\n",
    "import pandas as pd\n",
    "import numpy as np\n",
    "\n",
    "# Imputer\n",
    "from sklearn.experimental import enable_iterative_imputer\n",
    "from sklearn.impute import IterativeImputer\n",
    "\n",
    "# Data Scaling\n",
    "from imblearn.over_sampling import BorderlineSMOTE, ADASYN, RandomOverSampler\n",
    "from imblearn.combine import SMOTEENN, SMOTETomek\n",
    "\n",
    "# Permutation Importance\n",
    "import eli5\n",
    "from eli5.sklearn import PermutationImportance\n",
    "\n",
    "# Visualization\n",
    "import matplotlib.pyplot as plt\n",
    "from pylab import rcParams\n",
    "plt.style.use('fivethirtyeight')\n",
    "plt.rc(\"font\", family=\"Malgun Gothic\")\n",
    "plt.rcParams['axes.unicode_minus'] = False\n",
    "%matplotlib inline\n",
    "\n",
    "import seaborn as sns\n",
    "import missingno as msno\n",
    "\n",
    "# Validation\n",
    "from sklearn.model_selection import RepeatedStratifiedKFold\n",
    "from sklearn.model_selection import train_test_split\n",
    "\n",
    "# Scoring\n",
    "from sklearn.metrics import f1_score\n",
    "\n",
    "# Model & AutoML\n",
    "import catboost\n",
    "import optuna"
   ]
  },
  {
   "cell_type": "code",
   "execution_count": 41,
   "id": "7ee207fa",
   "metadata": {},
   "outputs": [],
   "source": [
    "def seed_everything(seed):\n",
    "    random.seed(seed)\n",
    "    os.environ['PYTHONHASHSEED'] = str(seed)\n",
    "    np.random.seed(seed)\n",
    "seed_everything(37) # Seed 고정"
   ]
  },
  {
   "cell_type": "code",
   "execution_count": 42,
   "id": "f2bb4982",
   "metadata": {},
   "outputs": [],
   "source": [
    "train = pd.read_csv('./train.csv')\n",
    "test = pd.read_csv('./test.csv')\n",
    "subm = pd.read_csv('./sample_submission.csv')"
   ]
  },
  {
   "cell_type": "code",
   "execution_count": 43,
   "id": "87a392cc",
   "metadata": {},
   "outputs": [
    {
     "data": {
      "text/html": [
       "<div>\n",
       "<style scoped>\n",
       "    .dataframe tbody tr th:only-of-type {\n",
       "        vertical-align: middle;\n",
       "    }\n",
       "\n",
       "    .dataframe tbody tr th {\n",
       "        vertical-align: top;\n",
       "    }\n",
       "\n",
       "    .dataframe thead th {\n",
       "        text-align: right;\n",
       "    }\n",
       "</style>\n",
       "<table border=\"1\" class=\"dataframe\">\n",
       "  <thead>\n",
       "    <tr style=\"text-align: right;\">\n",
       "      <th></th>\n",
       "      <th>PRODUCT_ID</th>\n",
       "      <th>Y_Class</th>\n",
       "      <th>Y_Quality</th>\n",
       "      <th>TIMESTAMP</th>\n",
       "      <th>LINE</th>\n",
       "      <th>PRODUCT_CODE</th>\n",
       "      <th>X_1</th>\n",
       "      <th>X_2</th>\n",
       "      <th>X_3</th>\n",
       "      <th>X_4</th>\n",
       "      <th>...</th>\n",
       "      <th>X_2866</th>\n",
       "      <th>X_2867</th>\n",
       "      <th>X_2868</th>\n",
       "      <th>X_2869</th>\n",
       "      <th>X_2870</th>\n",
       "      <th>X_2871</th>\n",
       "      <th>X_2872</th>\n",
       "      <th>X_2873</th>\n",
       "      <th>X_2874</th>\n",
       "      <th>X_2875</th>\n",
       "    </tr>\n",
       "  </thead>\n",
       "  <tbody>\n",
       "    <tr>\n",
       "      <th>0</th>\n",
       "      <td>TRAIN_000</td>\n",
       "      <td>1</td>\n",
       "      <td>0.533433</td>\n",
       "      <td>2022-06-13 5:14</td>\n",
       "      <td>T050304</td>\n",
       "      <td>A_31</td>\n",
       "      <td>NaN</td>\n",
       "      <td>NaN</td>\n",
       "      <td>NaN</td>\n",
       "      <td>NaN</td>\n",
       "      <td>...</td>\n",
       "      <td>39.34</td>\n",
       "      <td>40.89</td>\n",
       "      <td>32.56</td>\n",
       "      <td>34.09</td>\n",
       "      <td>77.77</td>\n",
       "      <td>NaN</td>\n",
       "      <td>NaN</td>\n",
       "      <td>NaN</td>\n",
       "      <td>NaN</td>\n",
       "      <td>NaN</td>\n",
       "    </tr>\n",
       "    <tr>\n",
       "      <th>1</th>\n",
       "      <td>TRAIN_001</td>\n",
       "      <td>2</td>\n",
       "      <td>0.541819</td>\n",
       "      <td>2022-06-13 5:22</td>\n",
       "      <td>T050307</td>\n",
       "      <td>A_31</td>\n",
       "      <td>NaN</td>\n",
       "      <td>NaN</td>\n",
       "      <td>NaN</td>\n",
       "      <td>NaN</td>\n",
       "      <td>...</td>\n",
       "      <td>38.89</td>\n",
       "      <td>42.82</td>\n",
       "      <td>43.92</td>\n",
       "      <td>35.34</td>\n",
       "      <td>72.55</td>\n",
       "      <td>NaN</td>\n",
       "      <td>NaN</td>\n",
       "      <td>NaN</td>\n",
       "      <td>NaN</td>\n",
       "      <td>NaN</td>\n",
       "    </tr>\n",
       "    <tr>\n",
       "      <th>2</th>\n",
       "      <td>TRAIN_002</td>\n",
       "      <td>1</td>\n",
       "      <td>0.531267</td>\n",
       "      <td>2022-06-13 5:30</td>\n",
       "      <td>T050304</td>\n",
       "      <td>A_31</td>\n",
       "      <td>NaN</td>\n",
       "      <td>NaN</td>\n",
       "      <td>NaN</td>\n",
       "      <td>NaN</td>\n",
       "      <td>...</td>\n",
       "      <td>39.19</td>\n",
       "      <td>36.65</td>\n",
       "      <td>42.47</td>\n",
       "      <td>36.53</td>\n",
       "      <td>78.35</td>\n",
       "      <td>NaN</td>\n",
       "      <td>NaN</td>\n",
       "      <td>NaN</td>\n",
       "      <td>NaN</td>\n",
       "      <td>NaN</td>\n",
       "    </tr>\n",
       "    <tr>\n",
       "      <th>3</th>\n",
       "      <td>TRAIN_003</td>\n",
       "      <td>2</td>\n",
       "      <td>0.537325</td>\n",
       "      <td>2022-06-13 5:39</td>\n",
       "      <td>T050307</td>\n",
       "      <td>A_31</td>\n",
       "      <td>NaN</td>\n",
       "      <td>NaN</td>\n",
       "      <td>NaN</td>\n",
       "      <td>NaN</td>\n",
       "      <td>...</td>\n",
       "      <td>37.74</td>\n",
       "      <td>39.17</td>\n",
       "      <td>52.17</td>\n",
       "      <td>30.58</td>\n",
       "      <td>71.78</td>\n",
       "      <td>NaN</td>\n",
       "      <td>NaN</td>\n",
       "      <td>NaN</td>\n",
       "      <td>NaN</td>\n",
       "      <td>NaN</td>\n",
       "    </tr>\n",
       "    <tr>\n",
       "      <th>4</th>\n",
       "      <td>TRAIN_004</td>\n",
       "      <td>1</td>\n",
       "      <td>0.531590</td>\n",
       "      <td>2022-06-13 5:47</td>\n",
       "      <td>T050304</td>\n",
       "      <td>A_31</td>\n",
       "      <td>NaN</td>\n",
       "      <td>NaN</td>\n",
       "      <td>NaN</td>\n",
       "      <td>NaN</td>\n",
       "      <td>...</td>\n",
       "      <td>38.70</td>\n",
       "      <td>41.89</td>\n",
       "      <td>46.93</td>\n",
       "      <td>33.09</td>\n",
       "      <td>76.97</td>\n",
       "      <td>NaN</td>\n",
       "      <td>NaN</td>\n",
       "      <td>NaN</td>\n",
       "      <td>NaN</td>\n",
       "      <td>NaN</td>\n",
       "    </tr>\n",
       "  </tbody>\n",
       "</table>\n",
       "<p>5 rows × 2881 columns</p>\n",
       "</div>"
      ],
      "text/plain": [
       "  PRODUCT_ID  Y_Class  Y_Quality        TIMESTAMP     LINE PRODUCT_CODE  X_1  \\\n",
       "0  TRAIN_000        1   0.533433  2022-06-13 5:14  T050304         A_31  NaN   \n",
       "1  TRAIN_001        2   0.541819  2022-06-13 5:22  T050307         A_31  NaN   \n",
       "2  TRAIN_002        1   0.531267  2022-06-13 5:30  T050304         A_31  NaN   \n",
       "3  TRAIN_003        2   0.537325  2022-06-13 5:39  T050307         A_31  NaN   \n",
       "4  TRAIN_004        1   0.531590  2022-06-13 5:47  T050304         A_31  NaN   \n",
       "\n",
       "   X_2  X_3  X_4  ...  X_2866  X_2867  X_2868  X_2869  X_2870  X_2871  X_2872  \\\n",
       "0  NaN  NaN  NaN  ...   39.34   40.89   32.56   34.09   77.77     NaN     NaN   \n",
       "1  NaN  NaN  NaN  ...   38.89   42.82   43.92   35.34   72.55     NaN     NaN   \n",
       "2  NaN  NaN  NaN  ...   39.19   36.65   42.47   36.53   78.35     NaN     NaN   \n",
       "3  NaN  NaN  NaN  ...   37.74   39.17   52.17   30.58   71.78     NaN     NaN   \n",
       "4  NaN  NaN  NaN  ...   38.70   41.89   46.93   33.09   76.97     NaN     NaN   \n",
       "\n",
       "   X_2873  X_2874  X_2875  \n",
       "0     NaN     NaN     NaN  \n",
       "1     NaN     NaN     NaN  \n",
       "2     NaN     NaN     NaN  \n",
       "3     NaN     NaN     NaN  \n",
       "4     NaN     NaN     NaN  \n",
       "\n",
       "[5 rows x 2881 columns]"
      ]
     },
     "execution_count": 43,
     "metadata": {},
     "output_type": "execute_result"
    }
   ],
   "source": [
    "train.head()"
   ]
  },
  {
   "cell_type": "code",
   "execution_count": 44,
   "id": "a79dca04",
   "metadata": {},
   "outputs": [],
   "source": [
    "train['PRODUCT_CODE'] = train['PRODUCT_CODE'].astype('category')\n",
    "train['LINE'] = train['LINE'].astype('category')\n",
    "\n",
    "test['PRODUCT_CODE'] = test['PRODUCT_CODE'].astype('category')\n",
    "test['LINE'] = test['LINE'].astype('category')"
   ]
  },
  {
   "cell_type": "code",
   "execution_count": 45,
   "id": "0a8bfe74",
   "metadata": {},
   "outputs": [],
   "source": [
    "# train에서 열의 유일한 값이 nan이거나 모두 같은 값인 경우 해당 열을 제외\n",
    "def remove_col(train_df):\n",
    "    for x in train_df.columns[6:]:\n",
    "        if train_df[x].nunique()==0 or len(train_df[x].unique())==1: # nan 이거나 모두 같은 값인 경우\n",
    "            train_df.drop(columns=[x], inplace=True)\n",
    "    return train_df\n",
    "\n",
    "train = remove_col(train)"
   ]
  },
  {
   "cell_type": "code",
   "execution_count": 46,
   "id": "9b596197",
   "metadata": {},
   "outputs": [],
   "source": [
    "train_x, train_y = train.drop(columns=['Y_Class', 'PRODUCT_ID', 'TIMESTAMP', 'Y_Quality']), train['Y_Class']\n",
    "test = test[train_x.columns]"
   ]
  },
  {
   "cell_type": "code",
   "execution_count": 47,
   "id": "6689b7bd",
   "metadata": {},
   "outputs": [
    {
     "data": {
      "text/html": [
       "<div>\n",
       "<style scoped>\n",
       "    .dataframe tbody tr th:only-of-type {\n",
       "        vertical-align: middle;\n",
       "    }\n",
       "\n",
       "    .dataframe tbody tr th {\n",
       "        vertical-align: top;\n",
       "    }\n",
       "\n",
       "    .dataframe thead th {\n",
       "        text-align: right;\n",
       "    }\n",
       "</style>\n",
       "<table border=\"1\" class=\"dataframe\">\n",
       "  <thead>\n",
       "    <tr style=\"text-align: right;\">\n",
       "      <th></th>\n",
       "      <th>LINE</th>\n",
       "      <th>PRODUCT_CODE</th>\n",
       "      <th>X_1</th>\n",
       "      <th>X_2</th>\n",
       "      <th>X_3</th>\n",
       "      <th>X_4</th>\n",
       "      <th>X_5</th>\n",
       "      <th>X_6</th>\n",
       "      <th>X_7</th>\n",
       "      <th>X_8</th>\n",
       "      <th>...</th>\n",
       "      <th>X_2862</th>\n",
       "      <th>X_2863</th>\n",
       "      <th>X_2864</th>\n",
       "      <th>X_2865</th>\n",
       "      <th>X_2866</th>\n",
       "      <th>X_2867</th>\n",
       "      <th>X_2868</th>\n",
       "      <th>X_2869</th>\n",
       "      <th>X_2870</th>\n",
       "      <th>X_2871</th>\n",
       "    </tr>\n",
       "  </thead>\n",
       "  <tbody>\n",
       "    <tr>\n",
       "      <th>0</th>\n",
       "      <td>T050304</td>\n",
       "      <td>A_31</td>\n",
       "      <td>NaN</td>\n",
       "      <td>NaN</td>\n",
       "      <td>NaN</td>\n",
       "      <td>NaN</td>\n",
       "      <td>NaN</td>\n",
       "      <td>NaN</td>\n",
       "      <td>NaN</td>\n",
       "      <td>NaN</td>\n",
       "      <td>...</td>\n",
       "      <td>189.0</td>\n",
       "      <td>383.0</td>\n",
       "      <td>368.296296</td>\n",
       "      <td>353.0</td>\n",
       "      <td>39.34</td>\n",
       "      <td>40.89</td>\n",
       "      <td>32.56</td>\n",
       "      <td>34.09</td>\n",
       "      <td>77.77</td>\n",
       "      <td>NaN</td>\n",
       "    </tr>\n",
       "    <tr>\n",
       "      <th>1</th>\n",
       "      <td>T050307</td>\n",
       "      <td>A_31</td>\n",
       "      <td>NaN</td>\n",
       "      <td>NaN</td>\n",
       "      <td>NaN</td>\n",
       "      <td>NaN</td>\n",
       "      <td>NaN</td>\n",
       "      <td>NaN</td>\n",
       "      <td>NaN</td>\n",
       "      <td>NaN</td>\n",
       "      <td>...</td>\n",
       "      <td>185.6</td>\n",
       "      <td>383.0</td>\n",
       "      <td>367.735849</td>\n",
       "      <td>353.0</td>\n",
       "      <td>38.89</td>\n",
       "      <td>42.82</td>\n",
       "      <td>43.92</td>\n",
       "      <td>35.34</td>\n",
       "      <td>72.55</td>\n",
       "      <td>NaN</td>\n",
       "    </tr>\n",
       "    <tr>\n",
       "      <th>2</th>\n",
       "      <td>T050304</td>\n",
       "      <td>A_31</td>\n",
       "      <td>NaN</td>\n",
       "      <td>NaN</td>\n",
       "      <td>NaN</td>\n",
       "      <td>NaN</td>\n",
       "      <td>NaN</td>\n",
       "      <td>NaN</td>\n",
       "      <td>NaN</td>\n",
       "      <td>NaN</td>\n",
       "      <td>...</td>\n",
       "      <td>165.5</td>\n",
       "      <td>383.0</td>\n",
       "      <td>367.320755</td>\n",
       "      <td>353.0</td>\n",
       "      <td>39.19</td>\n",
       "      <td>36.65</td>\n",
       "      <td>42.47</td>\n",
       "      <td>36.53</td>\n",
       "      <td>78.35</td>\n",
       "      <td>NaN</td>\n",
       "    </tr>\n",
       "    <tr>\n",
       "      <th>3</th>\n",
       "      <td>T050307</td>\n",
       "      <td>A_31</td>\n",
       "      <td>NaN</td>\n",
       "      <td>NaN</td>\n",
       "      <td>NaN</td>\n",
       "      <td>NaN</td>\n",
       "      <td>NaN</td>\n",
       "      <td>NaN</td>\n",
       "      <td>NaN</td>\n",
       "      <td>NaN</td>\n",
       "      <td>...</td>\n",
       "      <td>165.8</td>\n",
       "      <td>384.0</td>\n",
       "      <td>369.188679</td>\n",
       "      <td>353.0</td>\n",
       "      <td>37.74</td>\n",
       "      <td>39.17</td>\n",
       "      <td>52.17</td>\n",
       "      <td>30.58</td>\n",
       "      <td>71.78</td>\n",
       "      <td>NaN</td>\n",
       "    </tr>\n",
       "    <tr>\n",
       "      <th>4</th>\n",
       "      <td>T050304</td>\n",
       "      <td>A_31</td>\n",
       "      <td>NaN</td>\n",
       "      <td>NaN</td>\n",
       "      <td>NaN</td>\n",
       "      <td>NaN</td>\n",
       "      <td>NaN</td>\n",
       "      <td>NaN</td>\n",
       "      <td>NaN</td>\n",
       "      <td>NaN</td>\n",
       "      <td>...</td>\n",
       "      <td>182.6</td>\n",
       "      <td>383.0</td>\n",
       "      <td>367.351852</td>\n",
       "      <td>352.0</td>\n",
       "      <td>38.70</td>\n",
       "      <td>41.89</td>\n",
       "      <td>46.93</td>\n",
       "      <td>33.09</td>\n",
       "      <td>76.97</td>\n",
       "      <td>NaN</td>\n",
       "    </tr>\n",
       "  </tbody>\n",
       "</table>\n",
       "<p>5 rows × 2795 columns</p>\n",
       "</div>"
      ],
      "text/plain": [
       "      LINE PRODUCT_CODE  X_1  X_2  X_3  X_4  X_5  X_6  X_7  X_8  ...  X_2862  \\\n",
       "0  T050304         A_31  NaN  NaN  NaN  NaN  NaN  NaN  NaN  NaN  ...   189.0   \n",
       "1  T050307         A_31  NaN  NaN  NaN  NaN  NaN  NaN  NaN  NaN  ...   185.6   \n",
       "2  T050304         A_31  NaN  NaN  NaN  NaN  NaN  NaN  NaN  NaN  ...   165.5   \n",
       "3  T050307         A_31  NaN  NaN  NaN  NaN  NaN  NaN  NaN  NaN  ...   165.8   \n",
       "4  T050304         A_31  NaN  NaN  NaN  NaN  NaN  NaN  NaN  NaN  ...   182.6   \n",
       "\n",
       "   X_2863      X_2864  X_2865  X_2866  X_2867  X_2868  X_2869  X_2870  X_2871  \n",
       "0   383.0  368.296296   353.0   39.34   40.89   32.56   34.09   77.77     NaN  \n",
       "1   383.0  367.735849   353.0   38.89   42.82   43.92   35.34   72.55     NaN  \n",
       "2   383.0  367.320755   353.0   39.19   36.65   42.47   36.53   78.35     NaN  \n",
       "3   384.0  369.188679   353.0   37.74   39.17   52.17   30.58   71.78     NaN  \n",
       "4   383.0  367.351852   352.0   38.70   41.89   46.93   33.09   76.97     NaN  \n",
       "\n",
       "[5 rows x 2795 columns]"
      ]
     },
     "execution_count": 47,
     "metadata": {},
     "output_type": "execute_result"
    }
   ],
   "source": [
    "train_x.head()"
   ]
  },
  {
   "cell_type": "markdown",
   "id": "39b2555d",
   "metadata": {},
   "source": [
    "### catboost cv"
   ]
  },
  {
   "cell_type": "code",
   "execution_count": 9,
   "id": "1a908d32",
   "metadata": {},
   "outputs": [
    {
     "data": {
      "text/plain": [
       "1    407\n",
       "2    103\n",
       "0     88\n",
       "Name: Y_Class, dtype: int64"
      ]
     },
     "execution_count": 9,
     "metadata": {},
     "output_type": "execute_result"
    }
   ],
   "source": [
    "train_y.value_counts()"
   ]
  },
  {
   "cell_type": "markdown",
   "id": "513a719e",
   "metadata": {},
   "source": [
    "* RepeatedStratifiedKFold를 활용하면 추후 test set의 결과를 추정할 수 있다.\n",
    "* rskfold를 활용한 결과를 개선해나가는 것이 목표"
   ]
  },
  {
   "cell_type": "code",
   "execution_count": 11,
   "id": "5b9c4025",
   "metadata": {
    "scrolled": true
   },
   "outputs": [
    {
     "name": "stderr",
     "output_type": "stream",
     "text": [
      "14it [05:13, 22.41s/it]"
     ]
    },
    {
     "name": "stdout",
     "output_type": "stream",
     "text": [
      "0.5092731829573934 ~ 0.7709365721997301\n",
      "mean : 0.6723316586148718\n"
     ]
    },
    {
     "name": "stderr",
     "output_type": "stream",
     "text": [
      "\n"
     ]
    }
   ],
   "source": [
    "rskfold = RepeatedStratifiedKFold(n_splits=7, n_repeats=2)\n",
    "\n",
    "f1_list = []\n",
    "for fold, (train_index, val_index) in enumerate(tqdm(rskfold.split(train_x, train_y))):\n",
    "    x_trn, x_val, y_trn, y_val = train_x.loc[train_index], train_x.loc[val_index], train_y.loc[train_index], train_y.loc[val_index]\n",
    "\n",
    "    clf = catboost.CatBoostClassifier(verbose=0, task_type='GPU') # cpu -> thread_count=5\n",
    "    clf.fit(x_trn, y_trn, early_stopping_rounds=100, cat_features=['PRODUCT_CODE', 'LINE'])\n",
    "    f1_list.append(f1_score(clf.predict(x_val), y_val, average='macro'))\n",
    "    \n",
    "print(f'{min(f1_list)} ~ {max(f1_list)}')\n",
    "print('mean :', np.mean(f1_list))"
   ]
  },
  {
   "cell_type": "markdown",
   "id": "92008858",
   "metadata": {},
   "source": [
    "### 결측치 대체"
   ]
  },
  {
   "cell_type": "markdown",
   "id": "d2682dc5",
   "metadata": {},
   "source": [
    "#### Missingno"
   ]
  },
  {
   "cell_type": "code",
   "execution_count": 10,
   "id": "4231d6bb",
   "metadata": {},
   "outputs": [
    {
     "data": {
      "text/plain": [
       "<AxesSubplot:>"
      ]
     },
     "execution_count": 10,
     "metadata": {},
     "output_type": "execute_result"
    },
    {
     "data": {
      "image/png": "[encoded data removed]",
      "text/plain": [
       "<Figure size 1800x720 with 2 Axes>"
      ]
     },
     "metadata": {
      "needs_background": "light"
     },
     "output_type": "display_data"
    }
   ],
   "source": [
    "# 20개의 열만 뽑아 확인해 보았는데도 결측치가 굉장히 많다.\n",
    "msno.matrix(train_x[train_x.columns[130:150]])"
   ]
  },
  {
   "cell_type": "markdown",
   "id": "abad362d",
   "metadata": {},
   "source": [
    "#### fillna(0)"
   ]
  },
  {
   "cell_type": "markdown",
   "id": "6c206ad4",
   "metadata": {},
   "source": [
    "* Catboost는 nan을 'string' 타입으로 치환하여 학습을 진행할 수 있다. 따라서 fillna(0)와 유사한 성능이 나타난다.\n",
    "* MiceImputer, SimpleImputer 등 다양한 방법들을 활용해 보았지만, 성능향상에 도움이 되지 않았다."
   ]
  },
  {
   "cell_type": "code",
   "execution_count": 48,
   "id": "10d54956",
   "metadata": {
    "scrolled": true
   },
   "outputs": [],
   "source": [
    "train_x[train_x.columns[2:]] = train_x[train_x.columns[2:]].fillna(0)\n",
    "test[test.columns[2:]] = test[test.columns[2:]].fillna(0)"
   ]
  },
  {
   "cell_type": "markdown",
   "id": "6f6de3cb",
   "metadata": {},
   "source": [
    "### Feature importance"
   ]
  },
  {
   "cell_type": "markdown",
   "id": "56cca278",
   "metadata": {},
   "source": [
    "* Feature Importance는 학습된 모델에서 주로 사용된 컬럼들을 나타내기 때문에, 학습에 도움이 되지 않은 컬럼을 지워준다고 해도 \n",
    "test predict에 영향력이 적다. 또한, 줄어든 컬럼으로 학습 방식이 바뀌고, overfit을 완화하여 더 나은 결과를 유도할 수 있다.\n",
    "\n",
    "* Permutation Importance는 train_x에서 분할된 validation_set을 학습한 모델에서의 영향력을 보여주는 지표이다.\n",
    " validation set은 train으로부터 분리된 영역이므로 train에서의 영향력을 나타내는 지표이다.\n",
    " train에서는 여러 값이 존재하는 컬럼이 test에서는 nan만 존재하는 컬럼일 수 있다. 따라서 test set에서의 영향력을 판단하기 어렵다.\n",
    " 그래서 permutation importance는 활용하지 않기로 한다.\n",
    "\n"
   ]
  },
  {
   "cell_type": "code",
   "execution_count": 49,
   "id": "8c06f211",
   "metadata": {
    "scrolled": false
   },
   "outputs": [
    {
     "data": {
      "image/png": "[encoded data removed]",
      "text/plain": [
       "<Figure size 720x1080 with 1 Axes>"
      ]
     },
     "metadata": {
      "needs_background": "light"
     },
     "output_type": "display_data"
    }
   ],
   "source": [
    "feat_list = []\n",
    "for _ in range(10):\n",
    "    clf = catboost.CatBoostClassifier(verbose=0, task_type='GPU')\n",
    "    clf.fit(train_x, train_y, early_stopping_rounds=100, cat_features=['PRODUCT_CODE', 'LINE'])\n",
    "\n",
    "    feat_list.append(clf.feature_importances_)\n",
    "\n",
    "feat_list = np.array(feat_list)\n",
    "feat_max = np.array([max(feat_list[:, i]) for i in range(len(feat_list[0]))])\n",
    "feature_imp = pd.Series(feat_max, index=train_x.columns).sort_values(ascending=False)[:20].sort_values()\n",
    "train_x = train_x[train_x.columns[feat_max>0]]\n",
    "test = test[train_x.columns]\n",
    "\n",
    "# Visualization\n",
    "plt.rcParams[\"figure.figsize\"] = (10, 15)\n",
    "\n",
    "plt.barh(feature_imp.index, feature_imp)\n",
    "plt.title('Feature_importance')\n",
    "plt.show()"
   ]
  },
  {
   "cell_type": "code",
   "execution_count": 62,
   "id": "bd3888ed",
   "metadata": {},
   "outputs": [
    {
     "data": {
      "text/html": [
       "<div>\n",
       "<style scoped>\n",
       "    .dataframe tbody tr th:only-of-type {\n",
       "        vertical-align: middle;\n",
       "    }\n",
       "\n",
       "    .dataframe tbody tr th {\n",
       "        vertical-align: top;\n",
       "    }\n",
       "\n",
       "    .dataframe thead th {\n",
       "        text-align: right;\n",
       "    }\n",
       "</style>\n",
       "<table border=\"1\" class=\"dataframe\">\n",
       "  <thead>\n",
       "    <tr style=\"text-align: right;\">\n",
       "      <th></th>\n",
       "      <th>X_1</th>\n",
       "      <th>X_2</th>\n",
       "      <th>X_7</th>\n",
       "      <th>X_8</th>\n",
       "      <th>X_11</th>\n",
       "      <th>X_12</th>\n",
       "      <th>X_13</th>\n",
       "      <th>X_17</th>\n",
       "      <th>X_20</th>\n",
       "      <th>X_21</th>\n",
       "      <th>...</th>\n",
       "      <th>X_2858</th>\n",
       "      <th>X_2859</th>\n",
       "      <th>X_2860</th>\n",
       "      <th>X_2861</th>\n",
       "      <th>X_2862</th>\n",
       "      <th>X_2863</th>\n",
       "      <th>X_2864</th>\n",
       "      <th>X_2865</th>\n",
       "      <th>X_2866</th>\n",
       "      <th>X_2868</th>\n",
       "    </tr>\n",
       "  </thead>\n",
       "  <tbody>\n",
       "    <tr>\n",
       "      <th>0</th>\n",
       "      <td>0.0</td>\n",
       "      <td>0.0</td>\n",
       "      <td>0.0</td>\n",
       "      <td>0.0</td>\n",
       "      <td>0.0</td>\n",
       "      <td>0.0</td>\n",
       "      <td>0.0</td>\n",
       "      <td>0.0</td>\n",
       "      <td>0.0</td>\n",
       "      <td>0.0</td>\n",
       "      <td>...</td>\n",
       "      <td>131.646667</td>\n",
       "      <td>115.4</td>\n",
       "      <td>209.0</td>\n",
       "      <td>197.286667</td>\n",
       "      <td>189.0</td>\n",
       "      <td>383.0</td>\n",
       "      <td>368.296296</td>\n",
       "      <td>353.0</td>\n",
       "      <td>39.34</td>\n",
       "      <td>32.56</td>\n",
       "    </tr>\n",
       "    <tr>\n",
       "      <th>1</th>\n",
       "      <td>0.0</td>\n",
       "      <td>0.0</td>\n",
       "      <td>0.0</td>\n",
       "      <td>0.0</td>\n",
       "      <td>0.0</td>\n",
       "      <td>0.0</td>\n",
       "      <td>0.0</td>\n",
       "      <td>0.0</td>\n",
       "      <td>0.0</td>\n",
       "      <td>0.0</td>\n",
       "      <td>...</td>\n",
       "      <td>128.748276</td>\n",
       "      <td>119.7</td>\n",
       "      <td>198.0</td>\n",
       "      <td>193.296552</td>\n",
       "      <td>185.6</td>\n",
       "      <td>383.0</td>\n",
       "      <td>367.735849</td>\n",
       "      <td>353.0</td>\n",
       "      <td>38.89</td>\n",
       "      <td>43.92</td>\n",
       "    </tr>\n",
       "    <tr>\n",
       "      <th>2</th>\n",
       "      <td>0.0</td>\n",
       "      <td>0.0</td>\n",
       "      <td>0.0</td>\n",
       "      <td>0.0</td>\n",
       "      <td>0.0</td>\n",
       "      <td>0.0</td>\n",
       "      <td>0.0</td>\n",
       "      <td>0.0</td>\n",
       "      <td>0.0</td>\n",
       "      <td>0.0</td>\n",
       "      <td>...</td>\n",
       "      <td>115.365517</td>\n",
       "      <td>104.0</td>\n",
       "      <td>193.4</td>\n",
       "      <td>179.820690</td>\n",
       "      <td>165.5</td>\n",
       "      <td>383.0</td>\n",
       "      <td>367.320755</td>\n",
       "      <td>353.0</td>\n",
       "      <td>39.19</td>\n",
       "      <td>42.47</td>\n",
       "    </tr>\n",
       "    <tr>\n",
       "      <th>3</th>\n",
       "      <td>0.0</td>\n",
       "      <td>0.0</td>\n",
       "      <td>0.0</td>\n",
       "      <td>0.0</td>\n",
       "      <td>0.0</td>\n",
       "      <td>0.0</td>\n",
       "      <td>0.0</td>\n",
       "      <td>0.0</td>\n",
       "      <td>0.0</td>\n",
       "      <td>0.0</td>\n",
       "      <td>...</td>\n",
       "      <td>112.082759</td>\n",
       "      <td>94.5</td>\n",
       "      <td>190.3</td>\n",
       "      <td>181.920690</td>\n",
       "      <td>165.8</td>\n",
       "      <td>384.0</td>\n",
       "      <td>369.188679</td>\n",
       "      <td>353.0</td>\n",
       "      <td>37.74</td>\n",
       "      <td>52.17</td>\n",
       "    </tr>\n",
       "    <tr>\n",
       "      <th>4</th>\n",
       "      <td>0.0</td>\n",
       "      <td>0.0</td>\n",
       "      <td>0.0</td>\n",
       "      <td>0.0</td>\n",
       "      <td>0.0</td>\n",
       "      <td>0.0</td>\n",
       "      <td>0.0</td>\n",
       "      <td>0.0</td>\n",
       "      <td>0.0</td>\n",
       "      <td>0.0</td>\n",
       "      <td>...</td>\n",
       "      <td>138.066667</td>\n",
       "      <td>109.7</td>\n",
       "      <td>208.6</td>\n",
       "      <td>196.393333</td>\n",
       "      <td>182.6</td>\n",
       "      <td>383.0</td>\n",
       "      <td>367.351852</td>\n",
       "      <td>352.0</td>\n",
       "      <td>38.70</td>\n",
       "      <td>46.93</td>\n",
       "    </tr>\n",
       "    <tr>\n",
       "      <th>...</th>\n",
       "      <td>...</td>\n",
       "      <td>...</td>\n",
       "      <td>...</td>\n",
       "      <td>...</td>\n",
       "      <td>...</td>\n",
       "      <td>...</td>\n",
       "      <td>...</td>\n",
       "      <td>...</td>\n",
       "      <td>...</td>\n",
       "      <td>...</td>\n",
       "      <td>...</td>\n",
       "      <td>...</td>\n",
       "      <td>...</td>\n",
       "      <td>...</td>\n",
       "      <td>...</td>\n",
       "      <td>...</td>\n",
       "      <td>...</td>\n",
       "      <td>...</td>\n",
       "      <td>...</td>\n",
       "      <td>...</td>\n",
       "      <td>...</td>\n",
       "    </tr>\n",
       "    <tr>\n",
       "      <th>593</th>\n",
       "      <td>2.0</td>\n",
       "      <td>95.0</td>\n",
       "      <td>50.0</td>\n",
       "      <td>10.0</td>\n",
       "      <td>468.9</td>\n",
       "      <td>473.9</td>\n",
       "      <td>459.2</td>\n",
       "      <td>248.0</td>\n",
       "      <td>527.0</td>\n",
       "      <td>538.0</td>\n",
       "      <td>...</td>\n",
       "      <td>0.000000</td>\n",
       "      <td>0.0</td>\n",
       "      <td>0.0</td>\n",
       "      <td>0.000000</td>\n",
       "      <td>0.0</td>\n",
       "      <td>0.0</td>\n",
       "      <td>0.000000</td>\n",
       "      <td>0.0</td>\n",
       "      <td>0.00</td>\n",
       "      <td>0.00</td>\n",
       "    </tr>\n",
       "    <tr>\n",
       "      <th>594</th>\n",
       "      <td>0.0</td>\n",
       "      <td>0.0</td>\n",
       "      <td>0.0</td>\n",
       "      <td>0.0</td>\n",
       "      <td>0.0</td>\n",
       "      <td>0.0</td>\n",
       "      <td>0.0</td>\n",
       "      <td>0.0</td>\n",
       "      <td>0.0</td>\n",
       "      <td>0.0</td>\n",
       "      <td>...</td>\n",
       "      <td>159.527586</td>\n",
       "      <td>144.2</td>\n",
       "      <td>198.3</td>\n",
       "      <td>180.810345</td>\n",
       "      <td>168.7</td>\n",
       "      <td>384.0</td>\n",
       "      <td>369.811321</td>\n",
       "      <td>353.0</td>\n",
       "      <td>49.47</td>\n",
       "      <td>50.89</td>\n",
       "    </tr>\n",
       "    <tr>\n",
       "      <th>595</th>\n",
       "      <td>0.0</td>\n",
       "      <td>0.0</td>\n",
       "      <td>0.0</td>\n",
       "      <td>0.0</td>\n",
       "      <td>0.0</td>\n",
       "      <td>0.0</td>\n",
       "      <td>0.0</td>\n",
       "      <td>0.0</td>\n",
       "      <td>0.0</td>\n",
       "      <td>0.0</td>\n",
       "      <td>...</td>\n",
       "      <td>178.248276</td>\n",
       "      <td>159.6</td>\n",
       "      <td>186.5</td>\n",
       "      <td>176.486207</td>\n",
       "      <td>156.6</td>\n",
       "      <td>383.0</td>\n",
       "      <td>367.018868</td>\n",
       "      <td>352.0</td>\n",
       "      <td>0.00</td>\n",
       "      <td>0.00</td>\n",
       "    </tr>\n",
       "    <tr>\n",
       "      <th>596</th>\n",
       "      <td>40.0</td>\n",
       "      <td>94.0</td>\n",
       "      <td>45.0</td>\n",
       "      <td>10.0</td>\n",
       "      <td>505.8</td>\n",
       "      <td>510.9</td>\n",
       "      <td>497.1</td>\n",
       "      <td>248.1</td>\n",
       "      <td>489.0</td>\n",
       "      <td>498.0</td>\n",
       "      <td>...</td>\n",
       "      <td>0.000000</td>\n",
       "      <td>0.0</td>\n",
       "      <td>0.0</td>\n",
       "      <td>0.000000</td>\n",
       "      <td>0.0</td>\n",
       "      <td>0.0</td>\n",
       "      <td>0.000000</td>\n",
       "      <td>0.0</td>\n",
       "      <td>0.00</td>\n",
       "      <td>0.00</td>\n",
       "    </tr>\n",
       "    <tr>\n",
       "      <th>597</th>\n",
       "      <td>21.0</td>\n",
       "      <td>87.0</td>\n",
       "      <td>61.0</td>\n",
       "      <td>10.0</td>\n",
       "      <td>470.6</td>\n",
       "      <td>474.9</td>\n",
       "      <td>462.9</td>\n",
       "      <td>248.0</td>\n",
       "      <td>525.0</td>\n",
       "      <td>534.0</td>\n",
       "      <td>...</td>\n",
       "      <td>0.000000</td>\n",
       "      <td>0.0</td>\n",
       "      <td>0.0</td>\n",
       "      <td>0.000000</td>\n",
       "      <td>0.0</td>\n",
       "      <td>0.0</td>\n",
       "      <td>0.000000</td>\n",
       "      <td>0.0</td>\n",
       "      <td>0.00</td>\n",
       "      <td>0.00</td>\n",
       "    </tr>\n",
       "  </tbody>\n",
       "</table>\n",
       "<p>598 rows × 1370 columns</p>\n",
       "</div>"
      ],
      "text/plain": [
       "      X_1   X_2   X_7   X_8   X_11   X_12   X_13   X_17   X_20   X_21  ...  \\\n",
       "0     0.0   0.0   0.0   0.0    0.0    0.0    0.0    0.0    0.0    0.0  ...   \n",
       "1     0.0   0.0   0.0   0.0    0.0    0.0    0.0    0.0    0.0    0.0  ...   \n",
       "2     0.0   0.0   0.0   0.0    0.0    0.0    0.0    0.0    0.0    0.0  ...   \n",
       "3     0.0   0.0   0.0   0.0    0.0    0.0    0.0    0.0    0.0    0.0  ...   \n",
       "4     0.0   0.0   0.0   0.0    0.0    0.0    0.0    0.0    0.0    0.0  ...   \n",
       "..    ...   ...   ...   ...    ...    ...    ...    ...    ...    ...  ...   \n",
       "593   2.0  95.0  50.0  10.0  468.9  473.9  459.2  248.0  527.0  538.0  ...   \n",
       "594   0.0   0.0   0.0   0.0    0.0    0.0    0.0    0.0    0.0    0.0  ...   \n",
       "595   0.0   0.0   0.0   0.0    0.0    0.0    0.0    0.0    0.0    0.0  ...   \n",
       "596  40.0  94.0  45.0  10.0  505.8  510.9  497.1  248.1  489.0  498.0  ...   \n",
       "597  21.0  87.0  61.0  10.0  470.6  474.9  462.9  248.0  525.0  534.0  ...   \n",
       "\n",
       "         X_2858  X_2859  X_2860      X_2861  X_2862  X_2863      X_2864  \\\n",
       "0    131.646667   115.4   209.0  197.286667   189.0   383.0  368.296296   \n",
       "1    128.748276   119.7   198.0  193.296552   185.6   383.0  367.735849   \n",
       "2    115.365517   104.0   193.4  179.820690   165.5   383.0  367.320755   \n",
       "3    112.082759    94.5   190.3  181.920690   165.8   384.0  369.188679   \n",
       "4    138.066667   109.7   208.6  196.393333   182.6   383.0  367.351852   \n",
       "..          ...     ...     ...         ...     ...     ...         ...   \n",
       "593    0.000000     0.0     0.0    0.000000     0.0     0.0    0.000000   \n",
       "594  159.527586   144.2   198.3  180.810345   168.7   384.0  369.811321   \n",
       "595  178.248276   159.6   186.5  176.486207   156.6   383.0  367.018868   \n",
       "596    0.000000     0.0     0.0    0.000000     0.0     0.0    0.000000   \n",
       "597    0.000000     0.0     0.0    0.000000     0.0     0.0    0.000000   \n",
       "\n",
       "     X_2865  X_2866  X_2868  \n",
       "0     353.0   39.34   32.56  \n",
       "1     353.0   38.89   43.92  \n",
       "2     353.0   39.19   42.47  \n",
       "3     353.0   37.74   52.17  \n",
       "4     352.0   38.70   46.93  \n",
       "..      ...     ...     ...  \n",
       "593     0.0    0.00    0.00  \n",
       "594   353.0   49.47   50.89  \n",
       "595   352.0    0.00    0.00  \n",
       "596     0.0    0.00    0.00  \n",
       "597     0.0    0.00    0.00  \n",
       "\n",
       "[598 rows x 1370 columns]"
      ]
     },
     "execution_count": 62,
     "metadata": {},
     "output_type": "execute_result"
    }
   ],
   "source": [
    "train_x"
   ]
  },
  {
   "cell_type": "code",
   "execution_count": 63,
   "id": "f653a792",
   "metadata": {
    "scrolled": true
   },
   "outputs": [
    {
     "name": "stdout",
     "output_type": "stream",
     "text": [
      "\"X_1\", \"X_2\", \"X_7\", \"X_8\", \"X_11\", \"X_12\", \"X_13\", \"X_17\", \"X_20\", \"X_21\", \"X_22\", \"X_24\", \"X_38\", \"X_39\", \"X_40\", \"X_41\", \"X_42\", \"X_43\", \"X_44\", \"X_45\", \"X_48\", \"X_49\", \"X_54\", \"X_55\", \"X_56\", \"X_58\", \"X_60\", \"X_61\", \"X_62\", \"X_63\", \"X_73\", \"X_90\", \"X_97\", \"X_98\", \"X_99\", \"X_101\", \"X_102\", \"X_103\", \"X_105\", \"X_106\", \"X_107\", \"X_109\", \"X_110\", \"X_111\", \"X_113\", \"X_114\", \"X_117\", \"X_118\", \"X_119\", \"X_120\", \"X_121\", \"X_123\", \"X_124\", \"X_125\", \"X_126\", \"X_127\", \"X_128\", \"X_129\", \"X_130\", \"X_131\", \"X_136\", \"X_137\", \"X_138\", \"X_139\", \"X_140\", \"X_141\", \"X_146\", \"X_149\", \"X_150\", \"X_152\", \"X_156\", \"X_176\", \"X_189\", \"X_201\", \"X_214\", \"X_217\", \"X_218\", \"X_221\", \"X_240\", \"X_242\", \"X_243\", \"X_247\", \"X_248\", \"X_250\", \"X_251\", \"X_256\", \"X_257\", \"X_258\", \"X_261\", \"X_262\", \"X_263\", \"X_265\", \"X_266\", \"X_267\", \"X_285\", \"X_286\", \"X_287\", \"X_289\", \"X_291\", \"X_292\", \"X_293\", \"X_294\", \"X_295\", \"X_300\", \"X_301\", \"X_303\", \"X_304\", \"X_306\", \"X_307\", \"X_308\", \"X_309\", \"X_310\", \"X_311\", \"X_318\", \"X_335\", \"X_337\", \"X_338\", \"X_339\", \"X_344\", \"X_345\", \"X_346\", \"X_348\", \"X_350\", \"X_352\", \"X_353\", \"X_354\", \"X_356\", \"X_358\", \"X_364\", \"X_366\", \"X_367\", \"X_368\", \"X_370\", \"X_371\", \"X_372\", \"X_373\", \"X_374\", \"X_379\", \"X_380\", \"X_384\", \"X_385\", \"X_386\", \"X_387\", \"X_388\", \"X_389\", \"X_394\", \"X_395\", \"X_396\", \"X_397\", \"X_398\", \"X_399\", \"X_400\", \"X_401\", \"X_402\", \"X_403\", \"X_404\", \"X_405\", \"X_406\", \"X_407\", \"X_408\", \"X_412\", \"X_413\", \"X_415\", \"X_416\", \"X_417\", \"X_418\", \"X_419\", \"X_420\", \"X_421\", \"X_422\", \"X_423\", \"X_428\", \"X_435\", \"X_436\", \"X_437\", \"X_438\", \"X_439\", \"X_440\", \"X_441\", \"X_442\", \"X_443\", \"X_444\", \"X_445\", \"X_446\", \"X_447\", \"X_448\", \"X_449\", \"X_451\", \"X_452\", \"X_453\", \"X_454\", \"X_455\", \"X_456\", \"X_457\", \"X_458\", \"X_459\", \"X_460\", \"X_461\", \"X_462\", \"X_463\", \"X_464\", \"X_468\", \"X_469\", \"X_470\", \"X_471\", \"X_472\", \"X_473\", \"X_474\", \"X_475\", \"X_476\", \"X_477\", \"X_478\", \"X_482\", \"X_483\", \"X_484\", \"X_485\", \"X_486\", \"X_489\", \"X_490\", \"X_491\", \"X_492\", \"X_493\", \"X_494\", \"X_495\", \"X_496\", \"X_497\", \"X_498\", \"X_499\", \"X_500\", \"X_501\", \"X_502\", \"X_504\", \"X_506\", \"X_507\", \"X_510\", \"X_511\", \"X_512\", \"X_513\", \"X_514\", \"X_515\", \"X_516\", \"X_517\", \"X_520\", \"X_521\", \"X_523\", \"X_524\", \"X_525\", \"X_527\", \"X_528\", \"X_530\", \"X_531\", \"X_533\", \"X_534\", \"X_535\", \"X_536\", \"X_537\", \"X_538\", \"X_539\", \"X_540\", \"X_541\", \"X_543\", \"X_544\", \"X_545\", \"X_546\", \"X_547\", \"X_548\", \"X_549\", \"X_550\", \"X_552\", \"X_553\", \"X_554\", \"X_555\", \"X_556\", \"X_557\", \"X_560\", \"X_562\", \"X_563\", \"X_564\", \"X_565\", \"X_566\", \"X_568\", \"X_569\", \"X_570\", \"X_571\", \"X_572\", \"X_573\", \"X_574\", \"X_576\", \"X_577\", \"X_578\", \"X_580\", \"X_581\", \"X_582\", \"X_584\", \"X_585\", \"X_587\", \"X_588\", \"X_589\", \"X_590\", \"X_592\", \"X_594\", \"X_595\", \"X_596\", \"X_599\", \"X_601\", \"X_603\", \"X_604\", \"X_605\", \"X_606\", \"X_607\", \"X_608\", \"X_609\", \"X_611\", \"X_613\", \"X_614\", \"X_615\", \"X_616\", \"X_618\", \"X_619\", \"X_621\", \"X_622\", \"X_623\", \"X_624\", \"X_626\", \"X_627\", \"X_630\", \"X_632\", \"X_635\", \"X_637\", \"X_643\", \"X_644\", \"X_645\", \"X_646\", \"X_647\", \"X_648\", \"X_649\", \"X_651\", \"X_652\", \"X_653\", \"X_654\", \"X_655\", \"X_656\", \"X_657\", \"X_658\", \"X_659\", \"X_660\", \"X_661\", \"X_662\", \"X_663\", \"X_664\", \"X_665\", \"X_667\", \"X_668\", \"X_669\", \"X_670\", \"X_671\", \"X_674\", \"X_675\", \"X_677\", \"X_678\", \"X_679\", \"X_680\", \"X_681\", \"X_682\", \"X_683\", \"X_686\", \"X_687\", \"X_688\", \"X_690\", \"X_694\", \"X_696\", \"X_697\", \"X_698\", \"X_700\", \"X_701\", \"X_702\", \"X_703\", \"X_704\", \"X_705\", \"X_706\", \"X_707\", \"X_708\", \"X_709\", \"X_710\", \"X_711\", \"X_712\", \"X_713\", \"X_714\", \"X_716\", \"X_717\", \"X_718\", \"X_719\", \"X_720\", \"X_721\", \"X_722\", \"X_724\", \"X_725\", \"X_726\", \"X_727\", \"X_728\", \"X_731\", \"X_733\", \"X_734\", \"X_735\", \"X_736\", \"X_737\", \"X_739\", \"X_740\", \"X_741\", \"X_742\", \"X_744\", \"X_745\", \"X_747\", \"X_748\", \"X_751\", \"X_753\", \"X_754\", \"X_756\", \"X_757\", \"X_758\", \"X_762\", \"X_763\", \"X_766\", \"X_767\", \"X_769\", \"X_771\", \"X_772\", \"X_773\", \"X_774\", \"X_775\", \"X_780\", \"X_781\", \"X_783\", \"X_785\", \"X_786\", \"X_788\", \"X_789\", \"X_790\", \"X_791\", \"X_792\", \"X_793\", \"X_794\", \"X_795\", \"X_796\", \"X_798\", \"X_799\", \"X_800\", \"X_801\", \"X_802\", \"X_804\", \"X_806\", \"X_807\", \"X_809\", \"X_810\", \"X_811\", \"X_812\", \"X_813\", \"X_814\", \"X_815\", \"X_816\", \"X_817\", \"X_818\", \"X_819\", \"X_820\", \"X_821\", \"X_822\", \"X_823\", \"X_824\", \"X_825\", \"X_827\", \"X_828\", \"X_829\", \"X_830\", \"X_831\", \"X_833\", \"X_834\", \"X_835\", \"X_838\", \"X_840\", \"X_841\", \"X_842\", \"X_845\", \"X_846\", \"X_848\", \"X_852\", \"X_853\", \"X_854\", \"X_855\", \"X_856\", \"X_861\", \"X_863\", \"X_864\", \"X_866\", \"X_867\", \"X_870\", \"X_871\", \"X_875\", \"X_876\", \"X_877\", \"X_878\", \"X_882\", \"X_883\", \"X_884\", \"X_885\", \"X_890\", \"X_891\", \"X_892\", \"X_893\", \"X_894\", \"X_895\", \"X_896\", \"X_897\", \"X_898\", \"X_899\", \"X_900\", \"X_901\", \"X_905\", \"X_907\", \"X_908\", \"X_909\", \"X_911\", \"X_914\", \"X_916\", \"X_917\", \"X_918\", \"X_919\", \"X_921\", \"X_922\", \"X_923\", \"X_924\", \"X_925\", \"X_926\", \"X_927\", \"X_929\", \"X_930\", \"X_931\", \"X_932\", \"X_938\", \"X_939\", \"X_940\", \"X_941\", \"X_942\", \"X_943\", \"X_944\", \"X_945\", \"X_947\", \"X_948\", \"X_949\", \"X_953\", \"X_954\", \"X_955\", \"X_956\", \"X_957\", \"X_958\", \"X_959\", \"X_961\", \"X_962\", \"X_963\", \"X_964\", \"X_965\", \"X_966\", \"X_967\", \"X_968\", \"X_972\", \"X_973\", \"X_975\", \"X_976\", \"X_977\", \"X_979\", \"X_980\", \"X_981\", \"X_982\", \"X_983\", \"X_984\", \"X_985\", \"X_986\", \"X_991\", \"X_993\", \"X_994\", \"X_995\", \"X_996\", \"X_997\", \"X_999\", \"X_1000\", \"X_1001\", \"X_1002\", \"X_1010\", \"X_1012\", \"X_1013\", \"X_1014\", \"X_1015\", \"X_1016\", \"X_1017\", \"X_1018\", \"X_1019\", \"X_1026\", \"X_1027\", \"X_1028\", \"X_1029\", \"X_1030\", \"X_1031\", \"X_1032\", \"X_1033\", \"X_1034\", \"X_1037\", \"X_1038\", \"X_1040\", \"X_1042\", \"X_1043\", \"X_1044\", \"X_1045\", \"X_1046\", \"X_1047\", \"X_1048\", \"X_1049\", \"X_1050\", \"X_1052\", \"X_1053\", \"X_1054\", \"X_1055\", \"X_1056\", \"X_1057\", \"X_1058\", \"X_1059\", \"X_1060\", \"X_1063\", \"X_1064\", \"X_1065\", \"X_1067\", \"X_1071\", \"X_1072\", \"X_1073\", \"X_1074\", \"X_1075\", \"X_1076\", \"X_1077\", \"X_1078\", \"X_1080\", \"X_1081\", \"X_1082\", \"X_1083\", \"X_1084\", \"X_1086\", \"X_1088\", \"X_1089\", \"X_1091\", \"X_1094\", \"X_1095\", \"X_1097\", \"X_1098\", \"X_1099\", \"X_1100\", \"X_1101\", \"X_1102\", \"X_1105\", \"X_1106\", \"X_1107\", \"X_1108\", \"X_1109\", \"X_1110\", \"X_1111\", \"X_1112\", \"X_1113\", \"X_1114\", \"X_1115\", \"X_1116\", \"X_1117\", \"X_1118\", \"X_1120\", \"X_1121\", \"X_1122\", \"X_1123\", \"X_1124\", \"X_1125\", \"X_1126\", \"X_1127\", \"X_1128\", \"X_1129\", \"X_1132\", \"X_1133\", \"X_1134\", \"X_1135\", \"X_1138\", \"X_1140\", \"X_1142\", \"X_1143\", \"X_1145\", \"X_1147\", \"X_1149\", \"X_1151\", \"X_1152\", \"X_1153\", \"X_1154\", \"X_1155\", \"X_1156\", \"X_1158\", \"X_1159\", \"X_1160\", \"X_1161\", \"X_1162\", \"X_1163\", \"X_1164\", \"X_1165\", \"X_1166\", \"X_1168\", \"X_1172\", \"X_1173\", \"X_1174\", \"X_1175\", \"X_1176\", \"X_1177\", \"X_1178\", \"X_1179\", \"X_1180\", \"X_1181\", \"X_1182\", \"X_1183\", \"X_1184\", \"X_1186\", \"X_1187\", \"X_1189\", \"X_1190\", \"X_1191\", \"X_1192\", \"X_1194\", \"X_1196\", \"X_1197\", \"X_1198\", \"X_1199\", \"X_1201\", \"X_1202\", \"X_1203\", \"X_1204\", \"X_1205\", \"X_1207\", \"X_1208\", \"X_1210\", \"X_1211\", \"X_1212\", \"X_1213\", \"X_1214\", \"X_1215\", \"X_1217\", \"X_1218\", \"X_1220\", \"X_1223\", \"X_1224\", \"X_1226\", \"X_1227\", \"X_1228\", \"X_1229\", \"X_1230\", \"X_1231\", \"X_1232\", \"X_1235\", \"X_1236\", \"X_1237\", \"X_1238\", \"X_1239\", \"X_1240\", \"X_1243\", \"X_1244\", \"X_1245\", \"X_1254\", \"X_1256\", \"X_1257\", \"X_1258\", \"X_1260\", \"X_1261\", \"X_1262\", \"X_1263\", \"X_1264\", \"X_1265\", \"X_1266\", \"X_1268\", \"X_1271\", \"X_1273\", \"X_1274\", \"X_1275\", \"X_1276\", \"X_1277\", \"X_1279\", \"X_1280\", \"X_1281\", \"X_1282\", \"X_1283\", \"X_1284\", \"X_1285\", \"X_1286\", \"X_1287\", \"X_1288\", \"X_1289\", \"X_1291\", \"X_1292\", \"X_1295\", \"X_1297\", \"X_1299\", \"X_1300\", \"X_1301\", \"X_1304\", \"X_1305\", \"X_1306\", \"X_1310\", \"X_1313\", \"X_1315\", \"X_1321\", \"X_1322\", \"X_1324\", \"X_1325\", \"X_1326\", \"X_1327\", \"X_1329\", \"X_1330\", \"X_1332\", \"X_1333\", \"X_1334\", \"X_1335\", \"X_1336\", \"X_1337\", \"X_1338\", \"X_1339\", \"X_1340\", \"X_1341\", \"X_1342\", \"X_1343\", \"X_1344\", \"X_1345\", \"X_1346\", \"X_1347\", \"X_1348\", \"X_1349\", \"X_1350\", \"X_1351\", \"X_1352\", \"X_1353\", \"X_1354\", \"X_1355\", \"X_1356\", \"X_1357\", \"X_1358\", \"X_1359\", \"X_1365\", \"X_1366\", \"X_1369\", \"X_1370\", \"X_1371\", \"X_1372\", \"X_1373\", \"X_1374\", \"X_1375\", \"X_1376\", \"X_1378\", \"X_1379\", \"X_1380\", \"X_1381\", \"X_1382\", \"X_1384\", \"X_1387\", \"X_1388\", \"X_1389\", \"X_1390\", \"X_1391\", \"X_1398\", \"X_1401\", \"X_1403\", \"X_1404\", \"X_1405\", \"X_1406\", \"X_1408\", \"X_1409\", \"X_1410\", \"X_1411\", \"X_1413\", \"X_1414\", \"X_1416\", \"X_1418\", \"X_1419\", \"X_1420\", \"X_1421\", \"X_1422\", \"X_1423\", \"X_1424\", \"X_1425\", \"X_1427\", \"X_1428\", \"X_1429\", \"X_1430\", \"X_1433\", \"X_1434\", \"X_1437\", \"X_1439\", \"X_1440\", \"X_1441\", \"X_1442\", \"X_1444\", \"X_1445\", \"X_1447\", \"X_1455\", \"X_1459\", \"X_1460\", \"X_1463\", \"X_1464\", \"X_1466\", \"X_1469\", \"X_1470\", \"X_1473\", \"X_1477\", \"X_1478\", \"X_1481\", \"X_1482\", \"X_1483\", \"X_1484\", \"X_1485\", \"X_1486\", \"X_1489\", \"X_1492\", \"X_1493\", \"X_1495\", \"X_1497\", \"X_1498\", \"X_1499\", \"X_1500\", \"X_1506\", \"X_1507\", \"X_1512\", \"X_1515\", \"X_1516\", \"X_1517\", \"X_1518\", \"X_1520\", \"X_1521\", \"X_1526\", \"X_1527\", \"X_1528\", \"X_1529\", \"X_1530\", \"X_1532\", \"X_1533\", \"X_1534\", \"X_1535\", \"X_1536\", \"X_1538\", \"X_1539\", \"X_1541\", \"X_1542\", \"X_1543\", \"X_1544\", \"X_1545\", \"X_1546\", \"X_1547\", \"X_1548\", \"X_1549\", \"X_1551\", \"X_1552\", \"X_1553\", \"X_1554\", \"X_1556\", \"X_1557\", \"X_1558\", \"X_1560\", \"X_1561\", \"X_1562\", \"X_1563\", \"X_1564\", \"X_1565\", \"X_1566\", \"X_1567\", \"X_1569\", \"X_1570\", \"X_1584\", \"X_1586\", \"X_1587\", \"X_1589\", \"X_1590\", \"X_1595\", \"X_1598\", \"X_1601\", \"X_1603\", \"X_1607\", \"X_1609\", \"X_1610\", \"X_1611\", \"X_1612\", \"X_1613\", \"X_1615\", \"X_1616\", \"X_1617\", \"X_1618\", \"X_1619\", \"X_1620\", \"X_1621\", \"X_1622\", \"X_1625\", \"X_1626\", \"X_1628\", \"X_1630\", \"X_1632\", \"X_1633\", \"X_1634\", \"X_1635\", \"X_1636\", \"X_1637\", \"X_1638\", \"X_1639\", \"X_1642\", \"X_1646\", \"X_1647\", \"X_1649\", \"X_1651\", \"X_1652\", \"X_1653\", \"X_1657\", \"X_1658\", \"X_1665\", \"X_1666\", \"X_1667\", \"X_1668\", \"X_1669\", \"X_1670\", \"X_1671\", \"X_1672\", \"X_1678\", \"X_1679\", \"X_1686\", \"X_1694\", \"X_1696\", \"X_1697\", \"X_1703\", \"X_1704\", \"X_1705\", \"X_1708\", \"X_1712\", \"X_1713\", \"X_1714\", \"X_1715\", \"X_1716\", \"X_1718\", \"X_1720\", \"X_1725\", \"X_1726\", \"X_1732\", \"X_1734\", \"X_1735\", \"X_1736\", \"X_1738\", \"X_1740\", \"X_1743\", \"X_1744\", \"X_1745\", \"X_1746\", \"X_1747\", \"X_1748\", \"X_1750\", \"X_1751\", \"X_1756\", \"X_1758\", \"X_1762\", \"X_1763\", \"X_1768\", \"X_1769\", \"X_1770\", \"X_1774\", \"X_1775\", \"X_1776\", \"X_1781\", \"X_1786\", \"X_1787\", \"X_1788\", \"X_1792\", \"X_1793\", \"X_1794\", \"X_1798\", \"X_1799\", \"X_1800\", \"X_1804\", \"X_1806\", \"X_1810\", \"X_1812\", \"X_1813\", \"X_1815\", \"X_1816\", \"X_1817\", \"X_1818\", \"X_1820\", \"X_1821\", \"X_1824\", \"X_1826\", \"X_1830\", \"X_1832\", \"X_1834\", \"X_1849\", \"X_1850\", \"X_1854\", \"X_1856\", \"X_1858\", \"X_1860\", \"X_1862\", \"X_1864\", \"X_1866\", \"X_1874\", \"X_1875\", \"X_1877\", \"X_1880\", \"X_1884\", \"X_1886\", \"X_1888\", \"X_1892\", \"X_1894\", \"X_1906\", \"X_1916\", \"X_1917\", \"X_1918\", \"X_1919\", \"X_1923\", \"X_1924\", \"X_1926\", \"X_1930\", \"X_1931\", \"X_1933\", \"X_1934\", \"X_1936\", \"X_1938\", \"X_1940\", \"X_1942\", \"X_1945\", \"X_1946\", \"X_1947\", \"X_1948\", \"X_1949\", \"X_1950\", \"X_1951\", \"X_1953\", \"X_1954\", \"X_1955\", \"X_1956\", \"X_1957\", \"X_1958\", \"X_1959\", \"X_1963\", \"X_1964\", \"X_1965\", \"X_1966\", \"X_1974\", \"X_1992\", \"X_2004\", \"X_2007\", \"X_2010\", \"X_2012\", \"X_2013\", \"X_2017\", \"X_2018\", \"X_2019\", \"X_2020\", \"X_2021\", \"X_2022\", \"X_2024\", \"X_2025\", \"X_2026\", \"X_2027\", \"X_2028\", \"X_2034\", \"X_2037\", \"X_2041\", \"X_2043\", \"X_2044\", \"X_2045\", \"X_2046\", \"X_2047\", \"X_2048\", \"X_2049\", \"X_2050\", \"X_2051\", \"X_2057\", \"X_2058\", \"X_2062\", \"X_2063\", \"X_2064\", \"X_2065\", \"X_2066\", \"X_2068\", \"X_2069\", \"X_2070\", \"X_2071\", \"X_2072\", \"X_2073\", \"X_2075\", \"X_2077\", \"X_2079\", \"X_2080\", \"X_2081\", \"X_2082\", \"X_2083\", \"X_2084\", \"X_2085\", \"X_2086\", \"X_2087\", \"X_2088\", \"X_2089\", \"X_2090\", \"X_2092\", \"X_2093\", \"X_2094\", \"X_2095\", \"X_2096\", \"X_2097\", \"X_2098\", \"X_2099\", \"X_2100\", \"X_2101\", \"X_2103\", \"X_2104\", \"X_2105\", \"X_2106\", \"X_2107\", \"X_2109\", \"X_2110\", \"X_2111\", \"X_2114\", \"X_2122\", \"X_2123\", \"X_2125\", \"X_2130\", \"X_2152\", \"X_2154\", \"X_2164\", \"X_2168\", \"X_2170\", \"X_2187\", \"X_2190\", \"X_2191\", \"X_2203\", \"X_2205\", \"X_2240\", \"X_2257\", \"X_2258\", \"X_2261\", \"X_2268\", \"X_2274\", \"X_2282\", \"X_2315\", \"X_2316\", \"X_2317\", \"X_2336\", \"X_2347\", \"X_2348\", \"X_2387\", \"X_2408\", \"X_2409\", \"X_2411\", \"X_2412\", \"X_2415\", \"X_2418\", \"X_2421\", \"X_2422\", \"X_2423\", \"X_2427\", \"X_2428\", \"X_2429\", \"X_2430\", \"X_2431\", \"X_2434\", \"X_2437\", \"X_2438\", \"X_2440\", \"X_2443\", \"X_2446\", \"X_2449\", \"X_2452\", \"X_2455\", \"X_2458\", \"X_2466\", \"X_2467\", \"X_2470\", \"X_2471\", \"X_2472\", \"X_2473\", \"X_2480\", \"X_2494\", \"X_2527\", \"X_2529\", \"X_2535\", \"X_2541\", \"X_2542\", \"X_2552\", \"X_2553\", \"X_2554\", \"X_2555\", \"X_2558\", \"X_2577\", \"X_2700\", \"X_2701\", \"X_2703\", \"X_2705\", \"X_2706\", \"X_2707\", \"X_2708\", \"X_2709\", \"X_2710\", \"X_2711\", \"X_2713\", \"X_2714\", \"X_2715\", \"X_2716\", \"X_2717\", \"X_2719\", \"X_2721\", \"X_2722\", \"X_2724\", \"X_2725\", \"X_2728\", \"X_2731\", \"X_2734\", \"X_2735\", \"X_2736\", \"X_2739\", \"X_2743\", \"X_2744\", \"X_2747\", \"X_2753\", \"X_2756\", \"X_2759\", \"X_2761\", \"X_2762\", \"X_2765\", \"X_2768\", \"X_2779\", \"X_2780\", \"X_2781\", \"X_2783\", \"X_2785\", \"X_2788\", \"X_2789\", \"X_2790\", \"X_2791\", \"X_2793\", \"X_2794\", \"X_2796\", \"X_2797\", \"X_2798\", \"X_2800\", \"X_2801\", \"X_2804\", \"X_2807\", \"X_2808\", \"X_2810\", \"X_2824\", \"X_2839\", \"X_2840\", \"X_2841\", \"X_2843\", \"X_2845\", \"X_2846\", \"X_2848\", \"X_2851\", \"X_2852\", \"X_2853\", \"X_2854\", \"X_2855\", \"X_2856\", \"X_2857\", \"X_2858\", \"X_2859\", \"X_2860\", \"X_2861\", \"X_2862\", \"X_2863\", \"X_2864\", \"X_2865\", \"X_2866\", \"X_2868\", "
     ]
    }
   ],
   "source": [
    "# 영향력이 있는 모든 컬럼\n",
    "for c in train_x.columns:\n",
    "    print(f'\"{c}\"', end=', ')"
   ]
  },
  {
   "cell_type": "code",
   "execution_count": 9,
   "id": "241225aa",
   "metadata": {},
   "outputs": [],
   "source": [
    "# # 시도할 때마다 컬럼 수의 차이가 있다. 따라서 이 곳에 저장한 컬럼을 활용한다.\n",
    "# feat_max = [\"X_1\", \"X_2\", \"X_7\", \"X_8\", \"X_11\", \"X_12\", \"X_13\", \"X_17\", \"X_20\", \"X_21\", \"X_22\", \"X_39\", \"X_43\", \"X_45\", \"X_49\", \"X_56\", \"X_58\", \"X_60\", \"X_61\", \"X_62\", \"X_73\", \"X_90\", \"X_97\", \"X_98\", \"X_101\", \"X_102\", \"X_103\", \"X_105\", \"X_106\", \"X_107\", \"X_109\", \"X_110\", \"X_111\", \"X_113\", \"X_117\", \"X_118\", \"X_119\", \"X_120\", \"X_121\", \"X_123\", \"X_124\", \"X_125\", \"X_126\", \"X_127\", \"X_130\", \"X_131\", \"X_136\", \"X_137\", \"X_139\", \"X_140\", \"X_141\", \"X_149\", \"X_189\", \"X_201\", \"X_217\", \"X_221\", \"X_223\", \"X_228\", \"X_240\", \"X_242\", \"X_243\", \"X_247\", \"X_248\", \"X_256\", \"X_257\", \"X_258\", \"X_262\", \"X_265\", \"X_266\", \"X_267\", \"X_285\", \"X_286\", \"X_287\", \"X_289\", \"X_292\", \"X_293\", \"X_294\", \"X_300\", \"X_303\", \"X_307\", \"X_309\", \"X_318\", \"X_335\", \"X_338\", \"X_339\", \"X_344\", \"X_345\", \"X_346\", \"X_350\", \"X_354\", \"X_356\", \"X_364\", \"X_367\", \"X_368\", \"X_370\", \"X_372\", \"X_373\", \"X_374\", \"X_379\", \"X_380\", \"X_385\", \"X_387\", \"X_388\", \"X_389\", \"X_394\", \"X_396\", \"X_397\", \"X_398\", \"X_399\", \"X_400\", \"X_401\", \"X_402\", \"X_403\", \"X_404\", \"X_405\", \"X_406\", \"X_407\", \"X_408\", \"X_412\", \"X_413\", \"X_417\", \"X_419\", \"X_420\", \"X_421\", \"X_422\", \"X_423\", \"X_428\", \"X_435\", \"X_437\", \"X_438\", \"X_439\", \"X_440\", \"X_441\", \"X_442\", \"X_443\", \"X_445\", \"X_446\", \"X_447\", \"X_448\", \"X_449\", \"X_451\", \"X_452\", \"X_453\", \"X_454\", \"X_455\", \"X_456\", \"X_457\", \"X_458\", \"X_459\", \"X_460\", \"X_461\", \"X_462\", \"X_463\", \"X_464\", \"X_468\", \"X_470\", \"X_471\", \"X_472\", \"X_473\", \"X_474\", \"X_475\", \"X_476\", \"X_477\", \"X_478\", \"X_483\", \"X_484\", \"X_485\", \"X_486\", \"X_489\", \"X_490\", \"X_491\", \"X_492\", \"X_493\", \"X_494\", \"X_495\", \"X_496\", \"X_497\", \"X_498\", \"X_500\", \"X_501\", \"X_502\", \"X_507\", \"X_510\", \"X_512\", \"X_513\", \"X_514\", \"X_515\", \"X_516\", \"X_517\", \"X_520\", \"X_521\", \"X_523\", \"X_524\", \"X_525\", \"X_527\", \"X_528\", \"X_530\", \"X_531\", \"X_533\", \"X_534\", \"X_535\", \"X_536\", \"X_537\", \"X_539\", \"X_543\", \"X_544\", \"X_545\", \"X_546\", \"X_547\", \"X_548\", \"X_549\", \"X_550\", \"X_552\", \"X_553\", \"X_554\", \"X_555\", \"X_556\", \"X_557\", \"X_560\", \"X_562\", \"X_564\", \"X_565\", \"X_566\", \"X_568\", \"X_570\", \"X_571\", \"X_572\", \"X_573\", \"X_574\", \"X_576\", \"X_577\", \"X_580\", \"X_581\", \"X_582\", \"X_585\", \"X_587\", \"X_589\", \"X_590\", \"X_592\", \"X_594\", \"X_595\", \"X_596\", \"X_599\", \"X_601\", \"X_603\", \"X_604\", \"X_607\", \"X_608\", \"X_609\", \"X_611\", \"X_613\", \"X_614\", \"X_616\", \"X_618\", \"X_619\", \"X_622\", \"X_623\", \"X_624\", \"X_626\", \"X_627\", \"X_643\", \"X_644\", \"X_646\", \"X_647\", \"X_648\", \"X_649\", \"X_651\", \"X_652\", \"X_655\", \"X_657\", \"X_658\", \"X_659\", \"X_660\", \"X_661\", \"X_662\", \"X_663\", \"X_664\", \"X_665\", \"X_667\", \"X_668\", \"X_670\", \"X_671\", \"X_674\", \"X_677\", \"X_678\", \"X_679\", \"X_681\", \"X_682\", \"X_683\", \"X_686\", \"X_687\", \"X_688\", \"X_690\", \"X_694\", \"X_696\", \"X_697\", \"X_698\", \"X_700\", \"X_702\", \"X_704\", \"X_705\", \"X_706\", \"X_708\", \"X_709\", \"X_710\", \"X_711\", \"X_712\", \"X_713\", \"X_714\", \"X_716\", \"X_718\", \"X_720\", \"X_721\", \"X_722\", \"X_725\", \"X_726\", \"X_727\", \"X_731\", \"X_733\", \"X_734\", \"X_735\", \"X_736\", \"X_741\", \"X_742\", \"X_744\", \"X_745\", \"X_747\", \"X_748\", \"X_751\", \"X_753\", \"X_754\", \"X_757\", \"X_758\", \"X_762\", \"X_763\", \"X_766\", \"X_769\", \"X_771\", \"X_772\", \"X_773\", \"X_774\", \"X_775\", \"X_780\", \"X_781\", \"X_783\", \"X_785\", \"X_786\", \"X_788\", \"X_789\", \"X_790\", \"X_792\", \"X_793\", \"X_795\", \"X_796\", \"X_799\", \"X_800\", \"X_801\", \"X_802\", \"X_804\", \"X_810\", \"X_813\", \"X_814\", \"X_815\", \"X_816\", \"X_817\", \"X_818\", \"X_820\", \"X_824\", \"X_825\", \"X_827\", \"X_830\", \"X_831\", \"X_832\", \"X_833\", \"X_834\", \"X_835\", \"X_838\", \"X_840\", \"X_841\", \"X_846\", \"X_848\", \"X_852\", \"X_853\", \"X_854\", \"X_855\", \"X_856\", \"X_861\", \"X_863\", \"X_864\", \"X_866\", \"X_867\", \"X_871\", \"X_875\", \"X_876\", \"X_877\", \"X_878\", \"X_882\", \"X_883\", \"X_890\", \"X_891\", \"X_892\", \"X_893\", \"X_894\", \"X_895\", \"X_896\", \"X_897\", \"X_898\", \"X_899\", \"X_901\", \"X_907\", \"X_909\", \"X_911\", \"X_914\", \"X_916\", \"X_917\", \"X_918\", \"X_919\", \"X_921\", \"X_922\", \"X_923\", \"X_924\", \"X_925\", \"X_926\", \"X_927\", \"X_929\", \"X_931\", \"X_932\", \"X_941\", \"X_943\", \"X_945\", \"X_947\", \"X_948\", \"X_949\", \"X_953\", \"X_954\", \"X_955\", \"X_956\", \"X_957\", \"X_958\", \"X_959\", \"X_961\", \"X_963\", \"X_965\", \"X_966\", \"X_967\", \"X_968\", \"X_972\", \"X_973\", \"X_975\", \"X_976\", \"X_977\", \"X_979\", \"X_981\", \"X_982\", \"X_983\", \"X_984\", \"X_986\", \"X_991\", \"X_993\", \"X_994\", \"X_995\", \"X_996\", \"X_997\", \"X_999\", \"X_1001\", \"X_1002\", \"X_1010\", \"X_1012\", \"X_1014\", \"X_1015\", \"X_1016\", \"X_1017\", \"X_1018\", \"X_1019\", \"X_1026\", \"X_1028\", \"X_1029\", \"X_1030\", \"X_1033\", \"X_1034\", \"X_1036\", \"X_1037\", \"X_1038\", \"X_1040\", \"X_1043\", \"X_1044\", \"X_1045\", \"X_1046\", \"X_1047\", \"X_1048\", \"X_1049\", \"X_1053\", \"X_1054\", \"X_1055\", \"X_1056\", \"X_1058\", \"X_1059\", \"X_1063\", \"X_1064\", \"X_1065\", \"X_1067\", \"X_1072\", \"X_1073\", \"X_1074\", \"X_1076\", \"X_1078\", \"X_1080\", \"X_1081\", \"X_1082\", \"X_1084\", \"X_1086\", \"X_1088\", \"X_1089\", \"X_1091\", \"X_1097\", \"X_1099\", \"X_1100\", \"X_1101\", \"X_1105\", \"X_1106\", \"X_1107\", \"X_1108\", \"X_1109\", \"X_1110\", \"X_1111\", \"X_1112\", \"X_1114\", \"X_1115\", \"X_1116\", \"X_1117\", \"X_1118\", \"X_1120\", \"X_1121\", \"X_1122\", \"X_1123\", \"X_1124\", \"X_1125\", \"X_1126\", \"X_1127\", \"X_1129\", \"X_1133\", \"X_1135\", \"X_1138\", \"X_1143\", \"X_1147\", \"X_1151\", \"X_1152\", \"X_1154\", \"X_1155\", \"X_1156\", \"X_1158\", \"X_1159\", \"X_1160\", \"X_1161\", \"X_1162\", \"X_1163\", \"X_1165\", \"X_1166\", \"X_1172\", \"X_1175\", \"X_1176\", \"X_1178\", \"X_1179\", \"X_1182\", \"X_1183\", \"X_1184\", \"X_1186\", \"X_1189\", \"X_1190\", \"X_1192\", \"X_1194\", \"X_1196\", \"X_1197\", \"X_1198\", \"X_1199\", \"X_1202\", \"X_1203\", \"X_1207\", \"X_1208\", \"X_1210\", \"X_1211\", \"X_1213\", \"X_1214\", \"X_1218\", \"X_1220\", \"X_1223\", \"X_1225\", \"X_1226\", \"X_1227\", \"X_1228\", \"X_1229\", \"X_1231\", \"X_1232\", \"X_1239\", \"X_1240\", \"X_1243\", \"X_1244\", \"X_1245\", \"X_1256\", \"X_1257\", \"X_1258\", \"X_1260\", \"X_1262\", \"X_1263\", \"X_1265\", \"X_1271\", \"X_1274\", \"X_1275\", \"X_1276\", \"X_1279\", \"X_1280\", \"X_1281\", \"X_1285\", \"X_1286\", \"X_1287\", \"X_1288\", \"X_1289\", \"X_1291\", \"X_1297\", \"X_1300\", \"X_1301\", \"X_1304\", \"X_1306\", \"X_1310\", \"X_1313\", \"X_1315\", \"X_1321\", \"X_1322\", \"X_1324\", \"X_1325\", \"X_1326\", \"X_1327\", \"X_1330\", \"X_1331\", \"X_1332\", \"X_1333\", \"X_1335\", \"X_1336\", \"X_1337\", \"X_1338\", \"X_1340\", \"X_1341\", \"X_1343\", \"X_1345\", \"X_1346\", \"X_1347\", \"X_1348\", \"X_1350\", \"X_1352\", \"X_1353\", \"X_1354\", \"X_1356\", \"X_1357\", \"X_1359\", \"X_1365\", \"X_1366\", \"X_1369\", \"X_1371\", \"X_1373\", \"X_1374\", \"X_1375\", \"X_1376\", \"X_1378\", \"X_1379\", \"X_1380\", \"X_1381\", \"X_1382\", \"X_1388\", \"X_1389\", \"X_1391\", \"X_1401\", \"X_1405\", \"X_1406\", \"X_1408\", \"X_1409\", \"X_1410\", \"X_1416\", \"X_1418\", \"X_1419\", \"X_1420\", \"X_1422\", \"X_1423\", \"X_1424\", \"X_1425\", \"X_1427\", \"X_1428\", \"X_1429\", \"X_1430\", \"X_1433\", \"X_1437\", \"X_1439\", \"X_1441\", \"X_1442\", \"X_1445\", \"X_1455\", \"X_1459\", \"X_1463\", \"X_1464\", \"X_1469\", \"X_1470\", \"X_1473\", \"X_1476\", \"X_1477\", \"X_1479\", \"X_1485\", \"X_1489\", \"X_1492\", \"X_1494\", \"X_1495\", \"X_1498\", \"X_1499\", \"X_1500\", \"X_1507\", \"X_1512\", \"X_1515\", \"X_1516\", \"X_1518\", \"X_1520\", \"X_1521\", \"X_1526\", \"X_1527\", \"X_1528\", \"X_1530\", \"X_1532\", \"X_1534\", \"X_1536\", \"X_1539\", \"X_1541\", \"X_1542\", \"X_1543\", \"X_1545\", \"X_1546\", \"X_1548\", \"X_1550\", \"X_1552\", \"X_1553\", \"X_1554\", \"X_1557\", \"X_1558\", \"X_1560\", \"X_1562\", \"X_1563\", \"X_1564\", \"X_1566\", \"X_1567\", \"X_1569\", \"X_1570\", \"X_1588\", \"X_1595\", \"X_1601\", \"X_1608\", \"X_1611\", \"X_1612\", \"X_1616\", \"X_1617\", \"X_1618\", \"X_1621\", \"X_1625\", \"X_1626\", \"X_1630\", \"X_1633\", \"X_1634\", \"X_1635\", \"X_1639\", \"X_1642\", \"X_1646\", \"X_1647\", \"X_1649\", \"X_1651\", \"X_1652\", \"X_1658\", \"X_1665\", \"X_1669\", \"X_1671\", \"X_1679\", \"X_1694\", \"X_1697\", \"X_1703\", \"X_1704\", \"X_1706\", \"X_1714\", \"X_1715\", \"X_1716\", \"X_1718\", \"X_1725\", \"X_1734\", \"X_1740\", \"X_1743\", \"X_1744\", \"X_1745\", \"X_1746\", \"X_1748\", \"X_1750\", \"X_1751\", \"X_1756\", \"X_1758\", \"X_1762\", \"X_1768\", \"X_1770\", \"X_1774\", \"X_1776\", \"X_1786\", \"X_1787\", \"X_1793\", \"X_1794\", \"X_1800\", \"X_1804\", \"X_1806\", \"X_1810\", \"X_1812\", \"X_1817\", \"X_1818\", \"X_1824\", \"X_1826\", \"X_1832\", \"X_1834\", \"X_1849\", \"X_1856\", \"X_1858\", \"X_1866\", \"X_1874\", \"X_1877\", \"X_1880\", \"X_1884\", \"X_1886\", \"X_1888\", \"X_1894\", \"X_1916\", \"X_1917\", \"X_1919\", \"X_1924\", \"X_1926\", \"X_1930\", \"X_1931\", \"X_1934\", \"X_1940\", \"X_1942\", \"X_1945\", \"X_1946\", \"X_1948\", \"X_1949\", \"X_1951\", \"X_1953\", \"X_1954\", \"X_1955\", \"X_1956\", \"X_1958\", \"X_1959\", \"X_1961\", \"X_1965\", \"X_1966\", \"X_1969\", \"X_1972\", \"X_2000\", \"X_2012\", \"X_2013\", \"X_2017\", \"X_2018\", \"X_2019\", \"X_2022\", \"X_2026\", \"X_2027\", \"X_2028\", \"X_2041\", \"X_2044\", \"X_2047\", \"X_2048\", \"X_2049\", \"X_2050\", \"X_2051\", \"X_2057\", \"X_2058\", \"X_2062\", \"X_2063\", \"X_2066\", \"X_2069\", \"X_2070\", \"X_2072\", \"X_2075\", \"X_2077\", \"X_2080\", \"X_2082\", \"X_2084\", \"X_2085\", \"X_2086\", \"X_2087\", \"X_2090\", \"X_2093\", \"X_2094\", \"X_2095\", \"X_2096\", \"X_2099\", \"X_2100\", \"X_2103\", \"X_2105\", \"X_2122\", \"X_2154\", \"X_2168\", \"X_2190\", \"X_2191\", \"X_2203\", \"X_2240\", \"X_2257\", \"X_2258\", \"X_2261\", \"X_2274\", \"X_2282\", \"X_2315\", \"X_2316\", \"X_2336\", \"X_2347\", \"X_2348\", \"X_2387\", \"X_2408\", \"X_2409\", \"X_2411\", \"X_2412\", \"X_2415\", \"X_2421\", \"X_2422\", \"X_2423\", \"X_2428\", \"X_2429\", \"X_2430\", \"X_2431\", \"X_2434\", \"X_2449\", \"X_2455\", \"X_2466\", \"X_2470\", \"X_2471\", \"X_2472\", \"X_2480\", \"X_2515\", \"X_2529\", \"X_2535\", \"X_2541\", \"X_2542\", \"X_2552\", \"X_2553\", \"X_2554\", \"X_2555\", \"X_2577\", \"X_2608\", \"X_2700\", \"X_2701\", \"X_2705\", \"X_2707\", \"X_2710\", \"X_2714\", \"X_2715\", \"X_2716\", \"X_2717\", \"X_2721\", \"X_2724\", \"X_2725\", \"X_2728\", \"X_2731\", \"X_2735\", \"X_2736\", \"X_2743\", \"X_2744\", \"X_2747\", \"X_2756\", \"X_2761\", \"X_2779\", \"X_2780\", \"X_2782\", \"X_2788\", \"X_2790\", \"X_2793\", \"X_2797\", \"X_2800\", \"X_2801\", \"X_2808\", \"X_2810\", \"X_2839\", \"X_2841\", \"X_2846\", \"X_2852\", \"X_2853\", \"X_2855\", \"X_2857\", \"X_2860\", \"X_2862\", \"X_2864\", \"X_2865\"]\n",
    "# train_x = train_x[feat_max]\n",
    "# test = test[feat_max]"
   ]
  },
  {
   "cell_type": "code",
   "execution_count": 52,
   "id": "e2e40b9c",
   "metadata": {},
   "outputs": [],
   "source": [
    "test_y = pd.read_csv('submission_36_feat_del.csv').Y_Class"
   ]
  },
  {
   "cell_type": "code",
   "execution_count": 53,
   "id": "759f0aa3",
   "metadata": {},
   "outputs": [],
   "source": [
    "def cb_objective(trial):\n",
    "\n",
    "    params = {\n",
    "            'bootstrap_type':trial.suggest_categorical('bootstrap_type', ['Bayesian', 'Bernoulli']),\n",
    "            'od_wait':trial.suggest_int('od_wait', 500, 1000),\n",
    "            'learning_rate' : trial.suggest_uniform('learning_rate',0.01,0.1),\n",
    "            'reg_lambda': trial.suggest_uniform('reg_lambda',1e-5,100),\n",
    "            'random_strength': trial.suggest_uniform('random_strength',1e-8,10),\n",
    "            'depth': trial.suggest_int('depth',3,12),\n",
    "            'min_data_in_leaf': trial.suggest_int('min_data_in_leaf',1,20),\n",
    "            'leaf_estimation_iterations': trial.suggest_int('leaf_estimation_iterations',1,15),\n",
    "            'verbose': False,\n",
    "            \"eval_metric\": 'TotalF1',\n",
    "            \"one_hot_max_size\": trial.suggest_int(\"one_hot_max_size\",1,3),\n",
    "            'task_type': 'GPU',\n",
    "        }\n",
    "\n",
    "    if params['bootstrap_type'] == 'Bayesian':\n",
    "        params['bagging_temperature'] = trial.suggest_float('bagging_temperature',0,10)\n",
    "    elif params['bootstrap_type'] == 'Bernoulli':\n",
    "        params['subsample'] = trial.suggest_float('subsample',0.1,1)\n",
    "    \n",
    "    \n",
    "    clf = catboost.CatBoostClassifier(**params)\n",
    "    clf.fit(train_x, train_y)\n",
    "    pred = clf.predict(test)\n",
    "\n",
    "    return f1_score(pred, test_y, average='macro')"
   ]
  },
  {
   "cell_type": "code",
   "execution_count": 54,
   "id": "680aa72d",
   "metadata": {},
   "outputs": [
    {
     "name": "stderr",
     "output_type": "stream",
     "text": [
      "\u001b[32m[I 2023-03-02 21:15:50,377]\u001b[0m A new study created in memory with name: no-name-004c6b5d-f4e5-4dd5-8278-c252ad413a06\u001b[0m\n"
     ]
    },
    {
     "data": {
      "application/json": {
       "ascii": false,
       "bar_format": null,
       "colour": null,
       "elapsed": 0.01200246810913086,
       "initial": 0,
       "n": 0,
       "ncols": null,
       "nrows": null,
       "postfix": null,
       "prefix": "",
       "rate": null,
       "total": 100,
       "unit": "it",
       "unit_divisor": 1000,
       "unit_scale": false
      },
      "application/vnd.jupyter.widget-view+json": {
       "model_id": "1321081d75f749068708eab1a1c85b24",
       "version_major": 2,
       "version_minor": 0
      },
      "text/plain": [
       "  0%|          | 0/100 [00:00<?, ?it/s]"
      ]
     },
     "metadata": {},
     "output_type": "display_data"
    },
    {
     "name": "stdout",
     "output_type": "stream",
     "text": [
      "\u001b[32m[I 2023-03-02 21:16:11,752]\u001b[0m Trial 0 finished with value: 0.7516773694529887 and parameters: {'bootstrap_type': 'Bayesian', 'od_wait': 524, 'learning_rate': 0.04608478312257003, 'reg_lambda': 21.852305194804728, 'random_strength': 7.963941636861126, 'depth': 3, 'min_data_in_leaf': 9, 'leaf_estimation_iterations': 12, 'one_hot_max_size': 2, 'bagging_temperature': 0.5665105656940983}. Best is trial 0 with value: 0.7516773694529887.\u001b[0m\n",
      "\u001b[32m[I 2023-03-02 21:18:25,161]\u001b[0m Trial 1 finished with value: 0.7687097184324542 and parameters: {'bootstrap_type': 'Bernoulli', 'od_wait': 531, 'learning_rate': 0.0743499319765141, 'reg_lambda': 21.186915319226447, 'random_strength': 5.54653879829537, 'depth': 10, 'min_data_in_leaf': 4, 'leaf_estimation_iterations': 1, 'one_hot_max_size': 1, 'subsample': 0.8774376339056253}. Best is trial 1 with value: 0.7687097184324542.\u001b[0m\n",
      "\u001b[32m[I 2023-03-02 21:18:44,226]\u001b[0m Trial 2 finished with value: 0.6996276717411747 and parameters: {'bootstrap_type': 'Bayesian', 'od_wait': 542, 'learning_rate': 0.035003411450901877, 'reg_lambda': 40.69896219081721, 'random_strength': 5.5244825826448185, 'depth': 6, 'min_data_in_leaf': 16, 'leaf_estimation_iterations': 1, 'one_hot_max_size': 1, 'bagging_temperature': 2.594395464409657}. Best is trial 1 with value: 0.7687097184324542.\u001b[0m\n",
      "\u001b[32m[I 2023-03-02 21:19:06,721]\u001b[0m Trial 3 finished with value: 0.8167447585213367 and parameters: {'bootstrap_type': 'Bernoulli', 'od_wait': 714, 'learning_rate': 0.06997473852849034, 'reg_lambda': 3.075341425407227, 'random_strength': 9.797418946820763, 'depth': 6, 'min_data_in_leaf': 7, 'leaf_estimation_iterations': 3, 'one_hot_max_size': 3, 'subsample': 0.9943119413888033}. Best is trial 3 with value: 0.8167447585213367.\u001b[0m\n",
      "\u001b[32m[I 2023-03-02 21:19:46,559]\u001b[0m Trial 4 finished with value: 0.7803762036960685 and parameters: {'bootstrap_type': 'Bernoulli', 'od_wait': 860, 'learning_rate': 0.07760241795277341, 'reg_lambda': 34.75285511414065, 'random_strength': 8.907232671405092, 'depth': 7, 'min_data_in_leaf': 2, 'leaf_estimation_iterations': 9, 'one_hot_max_size': 3, 'subsample': 0.44301215678393613}. Best is trial 3 with value: 0.8167447585213367.\u001b[0m\n",
      "\u001b[32m[I 2023-03-02 21:19:56,928]\u001b[0m Trial 5 finished with value: 0.5627046411309183 and parameters: {'bootstrap_type': 'Bayesian', 'od_wait': 559, 'learning_rate': 0.038922548665544385, 'reg_lambda': 98.55667162934469, 'random_strength': 5.0674449919411, 'depth': 3, 'min_data_in_leaf': 8, 'leaf_estimation_iterations': 2, 'one_hot_max_size': 3, 'bagging_temperature': 6.763700952328264}. Best is trial 3 with value: 0.8167447585213367.\u001b[0m\n",
      "\u001b[32m[I 2023-03-02 21:20:11,497]\u001b[0m Trial 6 finished with value: 0.8757818096999382 and parameters: {'bootstrap_type': 'Bayesian', 'od_wait': 923, 'learning_rate': 0.09597633772381775, 'reg_lambda': 16.463920411537558, 'random_strength': 1.875541305886251, 'depth': 4, 'min_data_in_leaf': 8, 'leaf_estimation_iterations': 4, 'one_hot_max_size': 1, 'bagging_temperature': 1.1581939810878272}. Best is trial 6 with value: 0.8757818096999382.\u001b[0m\n",
      "\u001b[32m[I 2023-03-02 21:20:30,713]\u001b[0m Trial 7 finished with value: 0.6682758849688321 and parameters: {'bootstrap_type': 'Bayesian', 'od_wait': 612, 'learning_rate': 0.07701242922949639, 'reg_lambda': 6.291192154671916, 'random_strength': 2.8493465286776587, 'depth': 6, 'min_data_in_leaf': 20, 'leaf_estimation_iterations': 1, 'one_hot_max_size': 2, 'bagging_temperature': 7.191281139273903}. Best is trial 6 with value: 0.8757818096999382.\u001b[0m\n",
      "\u001b[32m[I 2023-03-02 21:20:49,910]\u001b[0m Trial 8 finished with value: 0.5770693202043317 and parameters: {'bootstrap_type': 'Bayesian', 'od_wait': 785, 'learning_rate': 0.018257897030316585, 'reg_lambda': 36.47772264958165, 'random_strength': 8.239485310036189, 'depth': 6, 'min_data_in_leaf': 19, 'leaf_estimation_iterations': 1, 'one_hot_max_size': 3, 'bagging_temperature': 4.9189229896170215}. Best is trial 6 with value: 0.8757818096999382.\u001b[0m\n",
      "\u001b[32m[I 2023-03-02 21:24:23,532]\u001b[0m Trial 9 finished with value: 0.5093515803193223 and parameters: {'bootstrap_type': 'Bernoulli', 'od_wait': 890, 'learning_rate': 0.02145958661090646, 'reg_lambda': 36.13712502143381, 'random_strength': 2.9863488974115273, 'depth': 11, 'min_data_in_leaf': 6, 'leaf_estimation_iterations': 1, 'one_hot_max_size': 2, 'subsample': 0.7691260236356651}. Best is trial 6 with value: 0.8757818096999382.\u001b[0m\n",
      "\u001b[32m[I 2023-03-02 21:25:41,450]\u001b[0m Trial 10 finished with value: 0.6444031391986783 and parameters: {'bootstrap_type': 'Bayesian', 'od_wait': 988, 'learning_rate': 0.09847674769323532, 'reg_lambda': 75.2481070511109, 'random_strength': 0.34277995830308683, 'depth': 9, 'min_data_in_leaf': 11, 'leaf_estimation_iterations': 6, 'one_hot_max_size': 1, 'bagging_temperature': 9.9186153475886}. Best is trial 6 with value: 0.8757818096999382.\u001b[0m\n",
      "\u001b[32m[I 2023-03-02 21:25:57,448]\u001b[0m Trial 11 finished with value: 0.7807148933796354 and parameters: {'bootstrap_type': 'Bernoulli', 'od_wait': 679, 'learning_rate': 0.09898814602655251, 'reg_lambda': 2.336904047247414, 'random_strength': 0.1997811403854548, 'depth': 4, 'min_data_in_leaf': 12, 'leaf_estimation_iterations': 5, 'one_hot_max_size': 2, 'subsample': 0.11937976493596048}. Best is trial 6 with value: 0.8757818096999382.\u001b[0m\n",
      "\u001b[32m[I 2023-03-02 21:26:16,523]\u001b[0m Trial 12 finished with value: 0.8014842300556587 and parameters: {'bootstrap_type': 'Bernoulli', 'od_wait': 736, 'learning_rate': 0.06217559239695754, 'reg_lambda': 61.74344526395895, 'random_strength': 2.6005691794190255, 'depth': 5, 'min_data_in_leaf': 14, 'leaf_estimation_iterations': 5, 'one_hot_max_size': 3, 'subsample': 0.9430201261018627}. Best is trial 6 with value: 0.8757818096999382.\u001b[0m\n",
      "\u001b[32m[I 2023-03-02 21:27:12,575]\u001b[0m Trial 13 finished with value: 0.6382687276201702 and parameters: {'bootstrap_type': 'Bernoulli', 'od_wait': 956, 'learning_rate': 0.0894930758642219, 'reg_lambda': 16.59513692415093, 'random_strength': 9.609797969425301, 'depth': 8, 'min_data_in_leaf': 6, 'leaf_estimation_iterations': 7, 'one_hot_max_size': 1, 'subsample': 0.5983734146314776}. Best is trial 6 with value: 0.8757818096999382.\u001b[0m\n",
      "\u001b[32m[I 2023-03-02 21:27:27,533]\u001b[0m Trial 14 finished with value: 0.7335684891240447 and parameters: {'bootstrap_type': 'Bernoulli', 'od_wait': 804, 'learning_rate': 0.063374641049257, 'reg_lambda': 2.0622548187425638, 'random_strength': 6.979662789733915, 'depth': 4, 'min_data_in_leaf': 2, 'leaf_estimation_iterations': 4, 'one_hot_max_size': 2, 'subsample': 0.3890910185456262}. Best is trial 6 with value: 0.8757818096999382.\u001b[0m\n",
      "\u001b[32m[I 2023-03-02 21:35:39,919]\u001b[0m Trial 15 finished with value: 0.6624061847525534 and parameters: {'bootstrap_type': 'Bayesian', 'od_wait': 695, 'learning_rate': 0.08773508352422316, 'reg_lambda': 15.48063875195465, 'random_strength': 1.8754416860038103, 'depth': 12, 'min_data_in_leaf': 8, 'leaf_estimation_iterations': 9, 'one_hot_max_size': 1, 'bagging_temperature': 0.2687450577343897}. Best is trial 6 with value: 0.8757818096999382.\u001b[0m\n",
      "\u001b[32m[I 2023-03-02 21:36:08,775]\u001b[0m Trial 16 finished with value: 0.8233929674043744 and parameters: {'bootstrap_type': 'Bayesian', 'od_wait': 885, 'learning_rate': 0.05654190750494805, 'reg_lambda': 57.133338769623194, 'random_strength': 6.77423374173827, 'depth': 5, 'min_data_in_leaf': 5, 'leaf_estimation_iterations': 15, 'one_hot_max_size': 3, 'bagging_temperature': 3.0869481142199504}. Best is trial 6 with value: 0.8757818096999382.\u001b[0m\n",
      "\u001b[32m[I 2023-03-02 21:36:35,626]\u001b[0m Trial 17 finished with value: 0.8643341943130611 and parameters: {'bootstrap_type': 'Bayesian', 'od_wait': 912, 'learning_rate': 0.05521081632225032, 'reg_lambda': 60.04858539583952, 'random_strength': 6.4580908531477, 'depth': 4, 'min_data_in_leaf': 4, 'leaf_estimation_iterations': 15, 'one_hot_max_size': 2, 'bagging_temperature': 2.8504209877244744}. Best is trial 6 with value: 0.8757818096999382.\u001b[0m\n",
      "\u001b[32m[I 2023-03-02 21:37:02,201]\u001b[0m Trial 18 finished with value: 0.8247111159996822 and parameters: {'bootstrap_type': 'Bayesian', 'od_wait': 952, 'learning_rate': 0.047932374841552876, 'reg_lambda': 66.9928523501572, 'random_strength': 3.836850414968715, 'depth': 4, 'min_data_in_leaf': 1, 'leaf_estimation_iterations': 15, 'one_hot_max_size': 1, 'bagging_temperature': 2.676851552070482}. Best is trial 6 with value: 0.8757818096999382.\u001b[0m\n"
     ]
    },
    {
     "name": "stdout",
     "output_type": "stream",
     "text": [
      "\u001b[32m[I 2023-03-02 21:38:00,024]\u001b[0m Trial 19 finished with value: 0.8386079069308883 and parameters: {'bootstrap_type': 'Bayesian', 'od_wait': 835, 'learning_rate': 0.028590277518267135, 'reg_lambda': 81.0740285459043, 'random_strength': 4.399323074142472, 'depth': 8, 'min_data_in_leaf': 4, 'leaf_estimation_iterations': 12, 'one_hot_max_size': 2, 'bagging_temperature': 1.607719763564846}. Best is trial 6 with value: 0.8757818096999382.\u001b[0m\n",
      "\u001b[32m[I 2023-03-02 21:38:21,479]\u001b[0m Trial 20 finished with value: 0.6867479518689196 and parameters: {'bootstrap_type': 'Bayesian', 'od_wait': 925, 'learning_rate': 0.08661377654168073, 'reg_lambda': 47.444561146517174, 'random_strength': 1.1963146969909046, 'depth': 3, 'min_data_in_leaf': 10, 'leaf_estimation_iterations': 12, 'one_hot_max_size': 1, 'bagging_temperature': 3.8984184104592146}. Best is trial 6 with value: 0.8757818096999382.\u001b[0m\n",
      "\u001b[32m[I 2023-03-02 21:39:20,142]\u001b[0m Trial 21 finished with value: 0.6848760783239763 and parameters: {'bootstrap_type': 'Bayesian', 'od_wait': 841, 'learning_rate': 0.011030100479157211, 'reg_lambda': 86.3451470286811, 'random_strength': 4.347549864666926, 'depth': 8, 'min_data_in_leaf': 4, 'leaf_estimation_iterations': 13, 'one_hot_max_size': 2, 'bagging_temperature': 1.345235964538046}. Best is trial 6 with value: 0.8757818096999382.\u001b[0m\n",
      "\u001b[32m[I 2023-03-02 21:40:50,644]\u001b[0m Trial 22 finished with value: 0.7485118808433122 and parameters: {'bootstrap_type': 'Bayesian', 'od_wait': 812, 'learning_rate': 0.03244400509228613, 'reg_lambda': 75.49325274993235, 'random_strength': 6.673479092071199, 'depth': 9, 'min_data_in_leaf': 3, 'leaf_estimation_iterations': 13, 'one_hot_max_size': 2, 'bagging_temperature': 1.7786273836933493}. Best is trial 6 with value: 0.8757818096999382.\u001b[0m\n",
      "\u001b[32m[I 2023-03-02 21:41:29,501]\u001b[0m Trial 23 finished with value: 0.8211640211640212 and parameters: {'bootstrap_type': 'Bayesian', 'od_wait': 914, 'learning_rate': 0.0266821111203122, 'reg_lambda': 84.62542404993428, 'random_strength': 4.441704870670287, 'depth': 7, 'min_data_in_leaf': 5, 'leaf_estimation_iterations': 10, 'one_hot_max_size': 2, 'bagging_temperature': 1.3493663947416374}. Best is trial 6 with value: 0.8757818096999382.\u001b[0m\n",
      "\u001b[32m[I 2023-03-02 21:41:57,295]\u001b[0m Trial 24 finished with value: 0.7881248923836308 and parameters: {'bootstrap_type': 'Bayesian', 'od_wait': 984, 'learning_rate': 0.04702400568532214, 'reg_lambda': 51.17270273951438, 'random_strength': 3.6319249405330627, 'depth': 5, 'min_data_in_leaf': 1, 'leaf_estimation_iterations': 14, 'one_hot_max_size': 2, 'bagging_temperature': 4.008726853941918}. Best is trial 6 with value: 0.8757818096999382.\u001b[0m\n",
      "\u001b[32m[I 2023-03-02 21:43:25,523]\u001b[0m Trial 25 finished with value: 0.6878823774439614 and parameters: {'bootstrap_type': 'Bayesian', 'od_wait': 775, 'learning_rate': 0.010029224741881566, 'reg_lambda': 70.37874524925877, 'random_strength': 6.05154595774618, 'depth': 9, 'min_data_in_leaf': 7, 'leaf_estimation_iterations': 11, 'one_hot_max_size': 2, 'bagging_temperature': 0.0038274522597476768}. Best is trial 6 with value: 0.8757818096999382.\u001b[0m\n",
      "\u001b[32m[I 2023-03-02 21:44:01,786]\u001b[0m Trial 26 finished with value: 0.8675809291615875 and parameters: {'bootstrap_type': 'Bayesian', 'od_wait': 844, 'learning_rate': 0.05249950501437854, 'reg_lambda': 87.97385497704988, 'random_strength': 1.5385242784015971, 'depth': 7, 'min_data_in_leaf': 13, 'leaf_estimation_iterations': 7, 'one_hot_max_size': 1, 'bagging_temperature': 1.802183735642628}. Best is trial 6 with value: 0.8757818096999382.\u001b[0m\n",
      "\u001b[32m[I 2023-03-02 21:44:19,706]\u001b[0m Trial 27 finished with value: 0.7550480661748268 and parameters: {'bootstrap_type': 'Bayesian', 'od_wait': 873, 'learning_rate': 0.05459684233388242, 'reg_lambda': 99.34904074212915, 'random_strength': 0.9708628659093109, 'depth': 4, 'min_data_in_leaf': 13, 'leaf_estimation_iterations': 7, 'one_hot_max_size': 1, 'bagging_temperature': 3.8511795002662033}. Best is trial 6 with value: 0.8757818096999382.\u001b[0m\n",
      "\u001b[32m[I 2023-03-02 21:44:41,072]\u001b[0m Trial 28 finished with value: 0.9003674391045208 and parameters: {'bootstrap_type': 'Bayesian', 'od_wait': 940, 'learning_rate': 0.04112590492636284, 'reg_lambda': 90.96016220354429, 'random_strength': 1.3095209260371536, 'depth': 5, 'min_data_in_leaf': 15, 'leaf_estimation_iterations': 8, 'one_hot_max_size': 1, 'bagging_temperature': 2.2792304073787784}. Best is trial 28 with value: 0.9003674391045208.\u001b[0m\n",
      "\u001b[32m[I 2023-03-02 21:45:17,726]\u001b[0m Trial 29 finished with value: 0.8810839934836366 and parameters: {'bootstrap_type': 'Bayesian', 'od_wait': 962, 'learning_rate': 0.040172779124240054, 'reg_lambda': 93.42847817222689, 'random_strength': 1.818207157293077, 'depth': 7, 'min_data_in_leaf': 16, 'leaf_estimation_iterations': 8, 'one_hot_max_size': 1, 'bagging_temperature': 2.03055053380132}. Best is trial 28 with value: 0.9003674391045208.\u001b[0m\n",
      "\u001b[32m[I 2023-03-02 21:45:38,745]\u001b[0m Trial 30 finished with value: 0.709014943122993 and parameters: {'bootstrap_type': 'Bayesian', 'od_wait': 999, 'learning_rate': 0.0408024022443836, 'reg_lambda': 92.10161629178994, 'random_strength': 2.129149292062037, 'depth': 5, 'min_data_in_leaf': 17, 'leaf_estimation_iterations': 8, 'one_hot_max_size': 1, 'bagging_temperature': 6.318604011990656}. Best is trial 28 with value: 0.9003674391045208.\u001b[0m\n",
      "\u001b[32m[I 2023-03-02 21:46:12,984]\u001b[0m Trial 31 finished with value: 0.9074486470782679 and parameters: {'bootstrap_type': 'Bayesian', 'od_wait': 952, 'learning_rate': 0.04140385150535461, 'reg_lambda': 91.63310952316147, 'random_strength': 1.4218353860501618, 'depth': 7, 'min_data_in_leaf': 15, 'leaf_estimation_iterations': 7, 'one_hot_max_size': 1, 'bagging_temperature': 2.0870977079098583}. Best is trial 31 with value: 0.9074486470782679.\u001b[0m\n",
      "\u001b[32m[I 2023-03-02 21:46:51,179]\u001b[0m Trial 32 finished with value: 0.8148148148148148 and parameters: {'bootstrap_type': 'Bayesian', 'od_wait': 948, 'learning_rate': 0.04214821105222092, 'reg_lambda': 92.64586020741856, 'random_strength': 0.5796918449947486, 'depth': 7, 'min_data_in_leaf': 16, 'leaf_estimation_iterations': 8, 'one_hot_max_size': 1, 'bagging_temperature': 0.9298504936965724}. Best is trial 31 with value: 0.9074486470782679.\u001b[0m\n",
      "\u001b[32m[I 2023-03-02 21:47:16,299]\u001b[0m Trial 33 finished with value: 0.871707856138236 and parameters: {'bootstrap_type': 'Bayesian', 'od_wait': 962, 'learning_rate': 0.03733989636092967, 'reg_lambda': 79.27948118486684, 'random_strength': 2.214332238588404, 'depth': 6, 'min_data_in_leaf': 15, 'leaf_estimation_iterations': 6, 'one_hot_max_size': 1, 'bagging_temperature': 2.178553570595864}. Best is trial 31 with value: 0.9074486470782679.\u001b[0m\n",
      "\u001b[32m[I 2023-03-02 21:47:28,888]\u001b[0m Trial 34 finished with value: 0.6862873134328358 and parameters: {'bootstrap_type': 'Bayesian', 'od_wait': 925, 'learning_rate': 0.045942725554159354, 'reg_lambda': 94.12765033484214, 'random_strength': 1.198440351245212, 'depth': 3, 'min_data_in_leaf': 18, 'leaf_estimation_iterations': 4, 'one_hot_max_size': 1, 'bagging_temperature': 3.19395314954704}. Best is trial 31 with value: 0.9074486470782679.\u001b[0m\n",
      "\u001b[32m[I 2023-03-02 21:47:50,944]\u001b[0m Trial 35 finished with value: 0.775696382943084 and parameters: {'bootstrap_type': 'Bayesian', 'od_wait': 970, 'learning_rate': 0.0300738480076654, 'reg_lambda': 26.010125556982157, 'random_strength': 3.084498375415121, 'depth': 5, 'min_data_in_leaf': 15, 'leaf_estimation_iterations': 9, 'one_hot_max_size': 1, 'bagging_temperature': 4.776020410125115}. Best is trial 31 with value: 0.9074486470782679.\u001b[0m\n",
      "\u001b[32m[I 2023-03-02 21:50:26,223]\u001b[0m Trial 36 finished with value: 0.7762410171365396 and parameters: {'bootstrap_type': 'Bayesian', 'od_wait': 894, 'learning_rate': 0.03489142791668065, 'reg_lambda': 99.96469715517959, 'random_strength': 0.016331038933466102, 'depth': 10, 'min_data_in_leaf': 17, 'leaf_estimation_iterations': 10, 'one_hot_max_size': 1, 'bagging_temperature': 0.6901169784357912}. Best is trial 31 with value: 0.9074486470782679.\u001b[0m\n",
      "\u001b[32m[I 2023-03-02 21:50:58,029]\u001b[0m Trial 37 finished with value: 0.7612382635869178 and parameters: {'bootstrap_type': 'Bayesian', 'od_wait': 931, 'learning_rate': 0.06997789917048701, 'reg_lambda': 89.32559607124597, 'random_strength': 1.698635692438005, 'depth': 7, 'min_data_in_leaf': 10, 'leaf_estimation_iterations': 3, 'one_hot_max_size': 1, 'bagging_temperature': 0.9813891476199632}. Best is trial 31 with value: 0.9074486470782679.\u001b[0m\n"
     ]
    },
    {
     "name": "stdout",
     "output_type": "stream",
     "text": [
      "\u001b[32m[I 2023-03-02 21:51:21,667]\u001b[0m Trial 38 finished with value: 0.8621067002730518 and parameters: {'bootstrap_type': 'Bayesian', 'od_wait': 509, 'learning_rate': 0.023378679241638996, 'reg_lambda': 81.63030541019424, 'random_strength': 2.4562621402179765, 'depth': 6, 'min_data_in_leaf': 12, 'leaf_estimation_iterations': 6, 'one_hot_max_size': 1, 'bagging_temperature': 2.2260087710510934}. Best is trial 31 with value: 0.9074486470782679.\u001b[0m\n",
      "\u001b[32m[I 2023-03-02 21:51:47,682]\u001b[0m Trial 39 finished with value: 0.7309380474597865 and parameters: {'bootstrap_type': 'Bayesian', 'od_wait': 1000, 'learning_rate': 0.06211035891173876, 'reg_lambda': 25.597132660891045, 'random_strength': 0.6468520498035768, 'depth': 6, 'min_data_in_leaf': 19, 'leaf_estimation_iterations': 9, 'one_hot_max_size': 1, 'bagging_temperature': 3.575786740455621}. Best is trial 31 with value: 0.9074486470782679.\u001b[0m\n",
      "\u001b[32m[I 2023-03-02 21:52:03,832]\u001b[0m Trial 40 finished with value: 0.7215013958004612 and parameters: {'bootstrap_type': 'Bernoulli', 'od_wait': 896, 'learning_rate': 0.04962730102428708, 'reg_lambda': 68.16464279894191, 'random_strength': 3.151155716568762, 'depth': 3, 'min_data_in_leaf': 15, 'leaf_estimation_iterations': 8, 'one_hot_max_size': 1, 'subsample': 0.10794513020441043}. Best is trial 31 with value: 0.9074486470782679.\u001b[0m\n",
      "\u001b[32m[I 2023-03-02 21:52:27,449]\u001b[0m Trial 41 finished with value: 0.897979797979798 and parameters: {'bootstrap_type': 'Bayesian', 'od_wait': 969, 'learning_rate': 0.037859030037068926, 'reg_lambda': 78.31093796564635, 'random_strength': 2.106078162499877, 'depth': 6, 'min_data_in_leaf': 15, 'leaf_estimation_iterations': 6, 'one_hot_max_size': 1, 'bagging_temperature': 2.2764508609779055}. Best is trial 31 with value: 0.9074486470782679.\u001b[0m\n",
      "\u001b[32m[I 2023-03-02 21:52:50,883]\u001b[0m Trial 42 finished with value: 0.8978305878116842 and parameters: {'bootstrap_type': 'Bayesian', 'od_wait': 938, 'learning_rate': 0.03845538173943114, 'reg_lambda': 95.2109489085424, 'random_strength': 1.511459949462578, 'depth': 6, 'min_data_in_leaf': 16, 'leaf_estimation_iterations': 5, 'one_hot_max_size': 1, 'bagging_temperature': 2.3408607182959513}. Best is trial 31 with value: 0.9074486470782679.\u001b[0m\n",
      "\u001b[32m[I 2023-03-02 21:53:14,369]\u001b[0m Trial 43 finished with value: 0.9127104834329169 and parameters: {'bootstrap_type': 'Bayesian', 'od_wait': 639, 'learning_rate': 0.04410823491610694, 'reg_lambda': 95.66755648358604, 'random_strength': 1.342937397344499, 'depth': 6, 'min_data_in_leaf': 16, 'leaf_estimation_iterations': 5, 'one_hot_max_size': 1, 'bagging_temperature': 2.34114210644434}. Best is trial 43 with value: 0.9127104834329169.\u001b[0m\n",
      "\u001b[32m[I 2023-03-02 21:53:36,610]\u001b[0m Trial 44 finished with value: 0.82978396073205 and parameters: {'bootstrap_type': 'Bayesian', 'od_wait': 661, 'learning_rate': 0.0433871330270387, 'reg_lambda': 96.22931025671866, 'random_strength': 0.9728447990729735, 'depth': 6, 'min_data_in_leaf': 14, 'leaf_estimation_iterations': 5, 'one_hot_max_size': 1, 'bagging_temperature': 2.510627720025382}. Best is trial 43 with value: 0.9127104834329169.\u001b[0m\n",
      "\u001b[32m[I 2023-03-02 21:53:55,835]\u001b[0m Trial 45 finished with value: 0.8761414968639304 and parameters: {'bootstrap_type': 'Bayesian', 'od_wait': 641, 'learning_rate': 0.033911762821232004, 'reg_lambda': 77.2317608705582, 'random_strength': 1.2088520542928376, 'depth': 5, 'min_data_in_leaf': 17, 'leaf_estimation_iterations': 6, 'one_hot_max_size': 1, 'bagging_temperature': 3.2841654176118737}. Best is trial 43 with value: 0.9127104834329169.\u001b[0m\n",
      "\u001b[32m[I 2023-03-02 21:54:17,996]\u001b[0m Trial 46 finished with value: 0.6863847087310774 and parameters: {'bootstrap_type': 'Bayesian', 'od_wait': 636, 'learning_rate': 0.03761675139888979, 'reg_lambda': 83.46169333861121, 'random_strength': 0.6534419404510925, 'depth': 6, 'min_data_in_leaf': 18, 'leaf_estimation_iterations': 3, 'one_hot_max_size': 1, 'bagging_temperature': 4.580086521401731}. Best is trial 43 with value: 0.9127104834329169.\u001b[0m\n",
      "\u001b[32m[I 2023-03-02 21:54:43,305]\u001b[0m Trial 47 finished with value: 0.7348377816259403 and parameters: {'bootstrap_type': 'Bernoulli', 'od_wait': 574, 'learning_rate': 0.0439668720519423, 'reg_lambda': 88.90804689389205, 'random_strength': 2.470554634360557, 'depth': 6, 'min_data_in_leaf': 20, 'leaf_estimation_iterations': 5, 'one_hot_max_size': 1, 'subsample': 0.648545621885879}. Best is trial 43 with value: 0.9127104834329169.\u001b[0m\n",
      "\u001b[32m[I 2023-03-02 21:55:35,387]\u001b[0m Trial 48 finished with value: 0.9084916966272898 and parameters: {'bootstrap_type': 'Bayesian', 'od_wait': 567, 'learning_rate': 0.05028356863215976, 'reg_lambda': 73.79686696528881, 'random_strength': 1.6152304616166173, 'depth': 8, 'min_data_in_leaf': 14, 'leaf_estimation_iterations': 7, 'one_hot_max_size': 1, 'bagging_temperature': 2.282172759942458}. Best is trial 43 with value: 0.9127104834329169.\u001b[0m\n",
      "\u001b[32m[I 2023-03-02 21:56:25,225]\u001b[0m Trial 49 finished with value: 0.7172104170320049 and parameters: {'bootstrap_type': 'Bayesian', 'od_wait': 589, 'learning_rate': 0.058779745943885846, 'reg_lambda': 72.26810114500461, 'random_strength': 3.618633865502204, 'depth': 8, 'min_data_in_leaf': 14, 'leaf_estimation_iterations': 7, 'one_hot_max_size': 1, 'bagging_temperature': 5.763737948119312}. Best is trial 43 with value: 0.9127104834329169.\u001b[0m\n",
      "\u001b[32m[I 2023-03-02 21:57:59,290]\u001b[0m Trial 50 finished with value: 0.660279848122627 and parameters: {'bootstrap_type': 'Bernoulli', 'od_wait': 537, 'learning_rate': 0.05006077901821536, 'reg_lambda': 73.48525832841833, 'random_strength': 2.76918711851249, 'depth': 9, 'min_data_in_leaf': 12, 'leaf_estimation_iterations': 7, 'one_hot_max_size': 1, 'subsample': 0.3019038206508967}. Best is trial 43 with value: 0.9127104834329169.\u001b[0m\n",
      "\u001b[32m[I 2023-03-02 21:58:30,647]\u001b[0m Trial 51 finished with value: 0.937401746236593 and parameters: {'bootstrap_type': 'Bayesian', 'od_wait': 607, 'learning_rate': 0.03772107889794138, 'reg_lambda': 96.16014450826218, 'random_strength': 1.4611987852555062, 'depth': 7, 'min_data_in_leaf': 15, 'leaf_estimation_iterations': 4, 'one_hot_max_size': 1, 'bagging_temperature': 2.659984978003235}. Best is trial 51 with value: 0.937401746236593.\u001b[0m\n",
      "\u001b[32m[I 2023-03-02 21:59:16,798]\u001b[0m Trial 52 finished with value: 0.8522797207715707 and parameters: {'bootstrap_type': 'Bayesian', 'od_wait': 610, 'learning_rate': 0.051259421994036596, 'reg_lambda': 90.01701411783057, 'random_strength': 2.1287897211750666, 'depth': 8, 'min_data_in_leaf': 13, 'leaf_estimation_iterations': 4, 'one_hot_max_size': 1, 'bagging_temperature': 2.7527554041696454}. Best is trial 51 with value: 0.937401746236593.\u001b[0m\n",
      "\u001b[32m[I 2023-03-02 21:59:50,984]\u001b[0m Trial 53 finished with value: 0.676715972464586 and parameters: {'bootstrap_type': 'Bayesian', 'od_wait': 556, 'learning_rate': 0.044815097185100586, 'reg_lambda': 84.92447971146717, 'random_strength': 0.5022833731993921, 'depth': 7, 'min_data_in_leaf': 15, 'leaf_estimation_iterations': 6, 'one_hot_max_size': 1, 'bagging_temperature': 8.879362310283446}. Best is trial 51 with value: 0.937401746236593.\u001b[0m\n",
      "\u001b[32m[I 2023-03-02 22:00:20,217]\u001b[0m Trial 54 finished with value: 0.6176190476190476 and parameters: {'bootstrap_type': 'Bayesian', 'od_wait': 718, 'learning_rate': 0.03122158817861021, 'reg_lambda': 96.6592475210166, 'random_strength': 1.454250961771927, 'depth': 7, 'min_data_in_leaf': 14, 'leaf_estimation_iterations': 2, 'one_hot_max_size': 1, 'bagging_temperature': 0.5355386359026457}. Best is trial 51 with value: 0.937401746236593.\u001b[0m\n",
      "\u001b[32m[I 2023-03-02 22:01:08,884]\u001b[0m Trial 55 finished with value: 0.7946917735598813 and parameters: {'bootstrap_type': 'Bayesian', 'od_wait': 608, 'learning_rate': 0.026846133355196984, 'reg_lambda': 65.65908931255457, 'random_strength': 0.8312380794602887, 'depth': 8, 'min_data_in_leaf': 11, 'leaf_estimation_iterations': 6, 'one_hot_max_size': 1, 'bagging_temperature': 4.301997792193292}. Best is trial 51 with value: 0.937401746236593.\u001b[0m\n",
      "\u001b[32m[I 2023-03-02 22:01:25,423]\u001b[0m Trial 56 finished with value: 0.6457218242482065 and parameters: {'bootstrap_type': 'Bayesian', 'od_wait': 515, 'learning_rate': 0.022772963345155117, 'reg_lambda': 79.7874375716603, 'random_strength': 2.0888123794811255, 'depth': 5, 'min_data_in_leaf': 17, 'leaf_estimation_iterations': 3, 'one_hot_max_size': 1, 'bagging_temperature': 3.3766689608488623}. Best is trial 51 with value: 0.937401746236593.\u001b[0m\n"
     ]
    },
    {
     "name": "stdout",
     "output_type": "stream",
     "text": [
      "\u001b[32m[I 2023-03-02 22:01:59,978]\u001b[0m Trial 57 finished with value: 0.7980568945670834 and parameters: {'bootstrap_type': 'Bayesian', 'od_wait': 562, 'learning_rate': 0.036380465736379715, 'reg_lambda': 85.30987580954798, 'random_strength': 0.21058844707617208, 'depth': 7, 'min_data_in_leaf': 18, 'leaf_estimation_iterations': 7, 'one_hot_max_size': 1, 'bagging_temperature': 2.7803327647448084}. Best is trial 51 with value: 0.937401746236593.\u001b[0m\n",
      "\u001b[32m[I 2023-03-02 22:03:10,068]\u001b[0m Trial 58 finished with value: 0.8363425925925926 and parameters: {'bootstrap_type': 'Bayesian', 'od_wait': 632, 'learning_rate': 0.0577945353761076, 'reg_lambda': 90.9404250702514, 'random_strength': 1.2677120785950384, 'depth': 9, 'min_data_in_leaf': 16, 'leaf_estimation_iterations': 2, 'one_hot_max_size': 1, 'bagging_temperature': 1.5675819872043633}. Best is trial 51 with value: 0.937401746236593.\u001b[0m\n",
      "\u001b[32m[I 2023-03-02 22:03:57,602]\u001b[0m Trial 59 finished with value: 0.5436782312508923 and parameters: {'bootstrap_type': 'Bernoulli', 'od_wait': 680, 'learning_rate': 0.01776726741861129, 'reg_lambda': 77.52646180108637, 'random_strength': 3.278004063981328, 'depth': 8, 'min_data_in_leaf': 14, 'leaf_estimation_iterations': 4, 'one_hot_max_size': 1, 'subsample': 0.754144719865685}. Best is trial 51 with value: 0.937401746236593.\u001b[0m\n",
      "\u001b[32m[I 2023-03-02 22:06:03,925]\u001b[0m Trial 60 finished with value: 0.7650448227929513 and parameters: {'bootstrap_type': 'Bayesian', 'od_wait': 600, 'learning_rate': 0.04729590971260318, 'reg_lambda': 63.52599727737163, 'random_strength': 5.073466495224901, 'depth': 10, 'min_data_in_leaf': 19, 'leaf_estimation_iterations': 5, 'one_hot_max_size': 3, 'bagging_temperature': 1.9908217417730758}. Best is trial 51 with value: 0.937401746236593.\u001b[0m\n",
      "\u001b[32m[I 2023-03-02 22:06:27,643]\u001b[0m Trial 61 finished with value: 0.8998424588312228 and parameters: {'bootstrap_type': 'Bayesian', 'od_wait': 939, 'learning_rate': 0.04052993727654364, 'reg_lambda': 95.51865248365483, 'random_strength': 1.5778066792781256, 'depth': 6, 'min_data_in_leaf': 16, 'leaf_estimation_iterations': 5, 'one_hot_max_size': 1, 'bagging_temperature': 2.482071558714574}. Best is trial 51 with value: 0.937401746236593.\u001b[0m\n",
      "\u001b[32m[I 2023-03-02 22:06:52,340]\u001b[0m Trial 62 finished with value: 0.8795319282364762 and parameters: {'bootstrap_type': 'Bayesian', 'od_wait': 978, 'learning_rate': 0.04112719899211437, 'reg_lambda': 97.40720196857761, 'random_strength': 1.8597013462144314, 'depth': 6, 'min_data_in_leaf': 15, 'leaf_estimation_iterations': 6, 'one_hot_max_size': 1, 'bagging_temperature': 2.9051159768043853}. Best is trial 51 with value: 0.937401746236593.\u001b[0m\n",
      "\u001b[32m[I 2023-03-02 22:07:09,749]\u001b[0m Trial 63 finished with value: 0.9073375262054507 and parameters: {'bootstrap_type': 'Bayesian', 'od_wait': 909, 'learning_rate': 0.033596509049772204, 'reg_lambda': 55.454444387564735, 'random_strength': 2.448045706579088, 'depth': 5, 'min_data_in_leaf': 13, 'leaf_estimation_iterations': 4, 'one_hot_max_size': 1, 'bagging_temperature': 2.4866329993665586}. Best is trial 51 with value: 0.937401746236593.\u001b[0m\n",
      "\u001b[32m[I 2023-03-02 22:07:26,514]\u001b[0m Trial 64 finished with value: 0.9152530953035473 and parameters: {'bootstrap_type': 'Bayesian', 'od_wait': 865, 'learning_rate': 0.03361774384659605, 'reg_lambda': 57.61841719482612, 'random_strength': 2.6281935625699804, 'depth': 5, 'min_data_in_leaf': 13, 'leaf_estimation_iterations': 3, 'one_hot_max_size': 1, 'bagging_temperature': 1.5436452251864292}. Best is trial 51 with value: 0.937401746236593.\u001b[0m\n",
      "\u001b[32m[I 2023-03-02 22:07:44,847]\u001b[0m Trial 65 finished with value: 0.8233077039047187 and parameters: {'bootstrap_type': 'Bayesian', 'od_wait': 869, 'learning_rate': 0.03382978189854881, 'reg_lambda': 53.24382421154009, 'random_strength': 2.678038172906591, 'depth': 5, 'min_data_in_leaf': 13, 'leaf_estimation_iterations': 4, 'one_hot_max_size': 1, 'bagging_temperature': 1.2001571026881819}. Best is trial 51 with value: 0.937401746236593.\u001b[0m\n",
      "\u001b[32m[I 2023-03-02 22:07:58,458]\u001b[0m Trial 66 finished with value: 0.8192604817917767 and parameters: {'bootstrap_type': 'Bayesian', 'od_wait': 778, 'learning_rate': 0.02955422469148116, 'reg_lambda': 45.09075827136627, 'random_strength': 0.959137453904832, 'depth': 4, 'min_data_in_leaf': 12, 'leaf_estimation_iterations': 3, 'one_hot_max_size': 1, 'bagging_temperature': 1.6021409669929516}. Best is trial 51 with value: 0.937401746236593.\u001b[0m\n",
      "\u001b[32m[I 2023-03-02 22:08:14,477]\u001b[0m Trial 67 finished with value: 0.8030636292223096 and parameters: {'bootstrap_type': 'Bayesian', 'od_wait': 905, 'learning_rate': 0.05368142279590212, 'reg_lambda': 56.57897557954057, 'random_strength': 2.2755308249164146, 'depth': 5, 'min_data_in_leaf': 11, 'leaf_estimation_iterations': 2, 'one_hot_max_size': 1, 'bagging_temperature': 1.4691908043001822}. Best is trial 51 with value: 0.937401746236593.\u001b[0m\n",
      "\u001b[32m[I 2023-03-02 22:08:28,011]\u001b[0m Trial 68 finished with value: 0.8043491239752921 and parameters: {'bootstrap_type': 'Bayesian', 'od_wait': 762, 'learning_rate': 0.024580042302121057, 'reg_lambda': 39.5988642796545, 'random_strength': 8.620008001922098, 'depth': 4, 'min_data_in_leaf': 13, 'leaf_estimation_iterations': 3, 'one_hot_max_size': 1, 'bagging_temperature': 1.8618116072647968}. Best is trial 51 with value: 0.937401746236593.\u001b[0m\n",
      "\u001b[32m[I 2023-03-02 22:08:38,586]\u001b[0m Trial 69 finished with value: 0.619413668616955 and parameters: {'bootstrap_type': 'Bayesian', 'od_wait': 735, 'learning_rate': 0.016651619770485866, 'reg_lambda': 58.700469540452254, 'random_strength': 7.35406032492721, 'depth': 4, 'min_data_in_leaf': 9, 'leaf_estimation_iterations': 1, 'one_hot_max_size': 1, 'bagging_temperature': 3.6006994376551553}. Best is trial 51 with value: 0.937401746236593.\u001b[0m\n",
      "\u001b[32m[I 2023-03-02 22:09:01,789]\u001b[0m Trial 70 finished with value: 0.7193958026650038 and parameters: {'bootstrap_type': 'Bayesian', 'od_wait': 854, 'learning_rate': 0.032639461107650085, 'reg_lambda': 63.400487817375875, 'random_strength': 4.024237799941166, 'depth': 5, 'min_data_in_leaf': 14, 'leaf_estimation_iterations': 10, 'one_hot_max_size': 2, 'bagging_temperature': 7.8954434537622324}. Best is trial 51 with value: 0.937401746236593.\u001b[0m\n",
      "\u001b[32m[I 2023-03-02 22:09:33,304]\u001b[0m Trial 71 finished with value: 0.9077048155096935 and parameters: {'bootstrap_type': 'Bayesian', 'od_wait': 943, 'learning_rate': 0.04078247950499527, 'reg_lambda': 54.93724485321083, 'random_strength': 1.5777956460001474, 'depth': 7, 'min_data_in_leaf': 16, 'leaf_estimation_iterations': 4, 'one_hot_max_size': 1, 'bagging_temperature': 2.639045991563351}. Best is trial 51 with value: 0.937401746236593.\u001b[0m\n",
      "\u001b[32m[I 2023-03-02 22:10:05,524]\u001b[0m Trial 72 finished with value: 0.8699523952195479 and parameters: {'bootstrap_type': 'Bayesian', 'od_wait': 878, 'learning_rate': 0.048610129006892294, 'reg_lambda': 54.16797882497592, 'random_strength': 1.8185136955773877, 'depth': 7, 'min_data_in_leaf': 16, 'leaf_estimation_iterations': 4, 'one_hot_max_size': 1, 'bagging_temperature': 3.0003363390292583}. Best is trial 51 with value: 0.937401746236593.\u001b[0m\n",
      "\u001b[32m[I 2023-03-02 22:10:35,041]\u001b[0m Trial 73 finished with value: 0.8870440251572326 and parameters: {'bootstrap_type': 'Bayesian', 'od_wait': 913, 'learning_rate': 0.042871548496231746, 'reg_lambda': 48.15808930803078, 'random_strength': 1.3017799543973414, 'depth': 7, 'min_data_in_leaf': 13, 'leaf_estimation_iterations': 2, 'one_hot_max_size': 1, 'bagging_temperature': 1.8940477976836432}. Best is trial 51 with value: 0.937401746236593.\u001b[0m\n",
      "\u001b[32m[I 2023-03-02 22:11:27,950]\u001b[0m Trial 74 finished with value: 0.8251887001887003 and parameters: {'bootstrap_type': 'Bayesian', 'od_wait': 808, 'learning_rate': 0.044846303248997924, 'reg_lambda': 50.33918878220847, 'random_strength': 0.34317760616215454, 'depth': 8, 'min_data_in_leaf': 15, 'leaf_estimation_iterations': 9, 'one_hot_max_size': 1, 'bagging_temperature': 5.250595508887738}. Best is trial 51 with value: 0.937401746236593.\u001b[0m\n",
      "\u001b[32m[I 2023-03-02 22:11:59,693]\u001b[0m Trial 75 finished with value: 0.8774856683828093 and parameters: {'bootstrap_type': 'Bayesian', 'od_wait': 581, 'learning_rate': 0.036454479406167514, 'reg_lambda': 60.60004950851234, 'random_strength': 2.8635839898835913, 'depth': 7, 'min_data_in_leaf': 17, 'leaf_estimation_iterations': 4, 'one_hot_max_size': 1, 'bagging_temperature': 2.543831781674923}. Best is trial 51 with value: 0.937401746236593.\u001b[0m\n"
     ]
    },
    {
     "name": "stdout",
     "output_type": "stream",
     "text": [
      "\u001b[32m[I 2023-03-02 22:12:16,538]\u001b[0m Trial 76 finished with value: 0.8422592917764119 and parameters: {'bootstrap_type': 'Bayesian', 'od_wait': 950, 'learning_rate': 0.027542544572686196, 'reg_lambda': 45.27275620339827, 'random_strength': 3.383978021055963, 'depth': 5, 'min_data_in_leaf': 14, 'leaf_estimation_iterations': 3, 'one_hot_max_size': 1, 'bagging_temperature': 1.1437927409953867}. Best is trial 51 with value: 0.937401746236593.\u001b[0m\n",
      "\u001b[32m[I 2023-03-02 22:12:44,678]\u001b[0m Trial 77 finished with value: 0.7391087861346861 and parameters: {'bootstrap_type': 'Bernoulli', 'od_wait': 525, 'learning_rate': 0.03927209824365754, 'reg_lambda': 87.81110537793386, 'random_strength': 2.4313657387364302, 'depth': 6, 'min_data_in_leaf': 12, 'leaf_estimation_iterations': 8, 'one_hot_max_size': 1, 'subsample': 0.25175474995526065}. Best is trial 51 with value: 0.937401746236593.\u001b[0m\n",
      "\u001b[32m[I 2023-03-02 22:13:20,351]\u001b[0m Trial 78 finished with value: 0.756469278978504 and parameters: {'bootstrap_type': 'Bayesian', 'od_wait': 900, 'learning_rate': 0.046909223264349494, 'reg_lambda': 69.21636113211662, 'random_strength': 0.8888767746757356, 'depth': 7, 'min_data_in_leaf': 16, 'leaf_estimation_iterations': 5, 'one_hot_max_size': 2, 'bagging_temperature': 0.6309159990138311}. Best is trial 51 with value: 0.937401746236593.\u001b[0m\n",
      "\u001b[32m[I 2023-03-02 22:14:11,827]\u001b[0m Trial 79 finished with value: 0.842121920973204 and parameters: {'bootstrap_type': 'Bayesian', 'od_wait': 654, 'learning_rate': 0.035396501560122764, 'reg_lambda': 53.882324069907185, 'random_strength': 1.626103256218671, 'depth': 8, 'min_data_in_leaf': 15, 'leaf_estimation_iterations': 7, 'one_hot_max_size': 1, 'bagging_temperature': 2.1729203747968313}. Best is trial 51 with value: 0.937401746236593.\u001b[0m\n",
      "\u001b[32m[I 2023-03-02 22:14:33,158]\u001b[0m Trial 80 finished with value: 0.8177847658979734 and parameters: {'bootstrap_type': 'Bayesian', 'od_wait': 926, 'learning_rate': 0.032039489296064386, 'reg_lambda': 92.99958954113262, 'random_strength': 1.878048986792395, 'depth': 5, 'min_data_in_leaf': 18, 'leaf_estimation_iterations': 8, 'one_hot_max_size': 1, 'bagging_temperature': 3.063562151836283}. Best is trial 51 with value: 0.937401746236593.\u001b[0m\n",
      "\u001b[32m[I 2023-03-02 22:14:56,486]\u001b[0m Trial 81 finished with value: 0.8870440251572326 and parameters: {'bootstrap_type': 'Bayesian', 'od_wait': 944, 'learning_rate': 0.04028944250610737, 'reg_lambda': 98.21947139782259, 'random_strength': 1.4191160715262678, 'depth': 6, 'min_data_in_leaf': 16, 'leaf_estimation_iterations': 4, 'one_hot_max_size': 1, 'bagging_temperature': 2.543657949236909}. Best is trial 51 with value: 0.937401746236593.\u001b[0m\n",
      "\u001b[32m[I 2023-03-02 22:15:20,311]\u001b[0m Trial 82 finished with value: 0.8611804653949866 and parameters: {'bootstrap_type': 'Bayesian', 'od_wait': 935, 'learning_rate': 0.04187527022188319, 'reg_lambda': 93.4124614531569, 'random_strength': 1.1051610284585145, 'depth': 6, 'min_data_in_leaf': 17, 'leaf_estimation_iterations': 5, 'one_hot_max_size': 1, 'bagging_temperature': 2.3585332583331953}. Best is trial 51 with value: 0.937401746236593.\u001b[0m\n",
      "\u001b[32m[I 2023-03-02 22:15:54,110]\u001b[0m Trial 83 finished with value: 0.7770356627499484 and parameters: {'bootstrap_type': 'Bayesian', 'od_wait': 985, 'learning_rate': 0.03867412852447274, 'reg_lambda': 87.43782682263739, 'random_strength': 1.6288568770622152, 'depth': 7, 'min_data_in_leaf': 14, 'leaf_estimation_iterations': 5, 'one_hot_max_size': 1, 'bagging_temperature': 1.671786990051439}. Best is trial 51 with value: 0.937401746236593.\u001b[0m\n",
      "\u001b[32m[I 2023-03-02 22:16:11,735]\u001b[0m Trial 84 finished with value: 0.8953349282296651 and parameters: {'bootstrap_type': 'Bayesian', 'od_wait': 918, 'learning_rate': 0.05085188987674127, 'reg_lambda': 82.31509584608575, 'random_strength': 1.8809005370624896, 'depth': 5, 'min_data_in_leaf': 15, 'leaf_estimation_iterations': 4, 'one_hot_max_size': 1, 'bagging_temperature': 2.6628747847581287}. Best is trial 51 with value: 0.937401746236593.\u001b[0m\n",
      "\u001b[32m[I 2023-03-02 22:16:35,987]\u001b[0m Trial 85 finished with value: 0.9404826815050726 and parameters: {'bootstrap_type': 'Bayesian', 'od_wait': 960, 'learning_rate': 0.043672520659143496, 'reg_lambda': 32.6179645900546, 'random_strength': 0.7638160206504581, 'depth': 6, 'min_data_in_leaf': 16, 'leaf_estimation_iterations': 5, 'one_hot_max_size': 1, 'bagging_temperature': 2.075802277050364}. Best is trial 85 with value: 0.9404826815050726.\u001b[0m\n",
      "\u001b[32m[I 2023-03-02 22:16:49,315]\u001b[0m Trial 86 finished with value: 0.8335334713595582 and parameters: {'bootstrap_type': 'Bayesian', 'od_wait': 961, 'learning_rate': 0.044860062105091976, 'reg_lambda': 9.045336949320813, 'random_strength': 0.10480144381563794, 'depth': 4, 'min_data_in_leaf': 14, 'leaf_estimation_iterations': 3, 'one_hot_max_size': 1, 'bagging_temperature': 1.9902493225391464}. Best is trial 85 with value: 0.9404826815050726.\u001b[0m\n",
      "\u001b[32m[I 2023-03-02 22:18:09,070]\u001b[0m Trial 87 finished with value: 0.8848799480856586 and parameters: {'bootstrap_type': 'Bayesian', 'od_wait': 823, 'learning_rate': 0.04259211319180464, 'reg_lambda': 57.020163944619924, 'random_strength': 0.6313652097724729, 'depth': 9, 'min_data_in_leaf': 13, 'leaf_estimation_iterations': 6, 'one_hot_max_size': 1, 'bagging_temperature': 1.3594989834576605}. Best is trial 85 with value: 0.9404826815050726.\u001b[0m\n",
      "\u001b[32m[I 2023-03-02 22:18:37,844]\u001b[0m Trial 88 finished with value: 0.7310152318166997 and parameters: {'bootstrap_type': 'Bayesian', 'od_wait': 976, 'learning_rate': 0.05272397498589032, 'reg_lambda': 39.443229321262805, 'random_strength': 0.7715643945011064, 'depth': 6, 'min_data_in_leaf': 16, 'leaf_estimation_iterations': 9, 'one_hot_max_size': 1, 'bagging_temperature': 3.636794490903474}. Best is trial 85 with value: 0.9404826815050726.\u001b[0m\n",
      "\u001b[32m[I 2023-03-02 22:19:29,066]\u001b[0m Trial 89 finished with value: 0.7962566844919786 and parameters: {'bootstrap_type': 'Bernoulli', 'od_wait': 889, 'learning_rate': 0.04824443915966785, 'reg_lambda': 19.1084703416287, 'random_strength': 0.34191808194792617, 'depth': 8, 'min_data_in_leaf': 15, 'leaf_estimation_iterations': 3, 'one_hot_max_size': 1, 'subsample': 0.4919630711727736}. Best is trial 85 with value: 0.9404826815050726.\u001b[0m\n",
      "\u001b[32m[I 2023-03-02 22:27:05,448]\u001b[0m Trial 90 finished with value: 0.6975412387177093 and parameters: {'bootstrap_type': 'Bayesian', 'od_wait': 626, 'learning_rate': 0.05587598289583316, 'reg_lambda': 43.604482662937315, 'random_strength': 1.020526474879282, 'depth': 12, 'min_data_in_leaf': 17, 'leaf_estimation_iterations': 7, 'one_hot_max_size': 1, 'bagging_temperature': 0.9537998909324357}. Best is trial 85 with value: 0.9404826815050726.\u001b[0m\n",
      "\u001b[32m[I 2023-03-02 22:27:30,756]\u001b[0m Trial 91 finished with value: 0.864791331548563 and parameters: {'bootstrap_type': 'Bayesian', 'od_wait': 549, 'learning_rate': 0.035540625522188084, 'reg_lambda': 32.30517292592704, 'random_strength': 1.4756221699837322, 'depth': 6, 'min_data_in_leaf': 16, 'leaf_estimation_iterations': 5, 'one_hot_max_size': 1, 'bagging_temperature': 2.3377368885110106}. Best is trial 85 with value: 0.9404826815050726.\u001b[0m\n",
      "\u001b[32m[I 2023-03-02 22:28:02,925]\u001b[0m Trial 92 finished with value: 0.7922217356752461 and parameters: {'bootstrap_type': 'Bayesian', 'od_wait': 941, 'learning_rate': 0.039750396533807006, 'reg_lambda': 99.97057828329757, 'random_strength': 2.326783803319297, 'depth': 7, 'min_data_in_leaf': 15, 'leaf_estimation_iterations': 4, 'one_hot_max_size': 1, 'bagging_temperature': 3.2922308712940396}. Best is trial 85 with value: 0.9404826815050726.\u001b[0m\n",
      "\u001b[32m[I 2023-03-02 22:28:25,374]\u001b[0m Trial 93 finished with value: 0.8175386882829772 and parameters: {'bootstrap_type': 'Bayesian', 'od_wait': 570, 'learning_rate': 0.030745842341562746, 'reg_lambda': 32.456285743413204, 'random_strength': 1.2494010939186557, 'depth': 6, 'min_data_in_leaf': 16, 'leaf_estimation_iterations': 5, 'one_hot_max_size': 1, 'bagging_temperature': 2.77141592894378}. Best is trial 85 with value: 0.9404826815050726.\u001b[0m\n",
      "\u001b[32m[I 2023-03-02 22:28:42,839]\u001b[0m Trial 94 finished with value: 0.8848376149531395 and parameters: {'bootstrap_type': 'Bayesian', 'od_wait': 960, 'learning_rate': 0.045909724892088034, 'reg_lambda': 94.9502672463058, 'random_strength': 2.5798572374883797, 'depth': 5, 'min_data_in_leaf': 18, 'leaf_estimation_iterations': 5, 'one_hot_max_size': 1, 'bagging_temperature': 2.0030258113111143}. Best is trial 85 with value: 0.9404826815050726.\u001b[0m\n"
     ]
    },
    {
     "name": "stdout",
     "output_type": "stream",
     "text": [
      "\u001b[32m[I 2023-03-02 22:29:03,895]\u001b[0m Trial 95 finished with value: 0.9077488359151875 and parameters: {'bootstrap_type': 'Bayesian', 'od_wait': 593, 'learning_rate': 0.04133072326117567, 'reg_lambda': 91.42043088968327, 'random_strength': 2.0302760889823994, 'depth': 6, 'min_data_in_leaf': 17, 'leaf_estimation_iterations': 4, 'one_hot_max_size': 1, 'bagging_temperature': 2.4481952028079776}. Best is trial 85 with value: 0.9404826815050726.\u001b[0m\n",
      "\u001b[32m[I 2023-03-02 22:29:33,284]\u001b[0m Trial 96 finished with value: 0.9033160993326163 and parameters: {'bootstrap_type': 'Bayesian', 'od_wait': 589, 'learning_rate': 0.033841371450981775, 'reg_lambda': 89.84263831047691, 'random_strength': 2.00572076138836, 'depth': 7, 'min_data_in_leaf': 17, 'leaf_estimation_iterations': 4, 'one_hot_max_size': 1, 'bagging_temperature': 1.726083428979025}. Best is trial 85 with value: 0.9404826815050726.\u001b[0m\n",
      "\u001b[32m[I 2023-03-02 22:30:03,546]\u001b[0m Trial 97 finished with value: 0.6866666666666666 and parameters: {'bootstrap_type': 'Bayesian', 'od_wait': 599, 'learning_rate': 0.03364723316496085, 'reg_lambda': 73.43503171000043, 'random_strength': 1.889213468160978, 'depth': 7, 'min_data_in_leaf': 17, 'leaf_estimation_iterations': 4, 'one_hot_max_size': 1, 'bagging_temperature': 0.18726327185722447}. Best is trial 85 with value: 0.9404826815050726.\u001b[0m\n",
      "\u001b[32m[I 2023-03-02 22:30:32,260]\u001b[0m Trial 98 finished with value: 0.8604477611940299 and parameters: {'bootstrap_type': 'Bayesian', 'od_wait': 653, 'learning_rate': 0.025185249347342373, 'reg_lambda': 64.91226881514874, 'random_strength': 3.005403607431309, 'depth': 7, 'min_data_in_leaf': 19, 'leaf_estimation_iterations': 4, 'one_hot_max_size': 1, 'bagging_temperature': 1.7469124230402668}. Best is trial 85 with value: 0.9404826815050726.\u001b[0m\n",
      "\u001b[32m[I 2023-03-02 22:31:13,482]\u001b[0m Trial 99 finished with value: 0.7769030212743848 and parameters: {'bootstrap_type': 'Bayesian', 'od_wait': 625, 'learning_rate': 0.08197395555460953, 'reg_lambda': 91.42436488929417, 'random_strength': 2.185259435875945, 'depth': 8, 'min_data_in_leaf': 18, 'leaf_estimation_iterations': 3, 'one_hot_max_size': 1, 'bagging_temperature': 2.118485458157875}. Best is trial 85 with value: 0.9404826815050726.\u001b[0m\n"
     ]
    }
   ],
   "source": [
    "study = optuna.create_study(direction='maximize')\n",
    "study.optimize(cb_objective, n_trials=100, show_progress_bar=True)"
   ]
  },
  {
   "cell_type": "code",
   "execution_count": 55,
   "id": "e004f7bb",
   "metadata": {},
   "outputs": [
    {
     "data": {
      "application/vnd.plotly.v1+json": {
       "config": {
        "plotlyServerURL": "https://plot.ly"
       },
       "data": [
        {
         "mode": "markers",
         "name": "Objective Value",
         "type": "scatter",
         "x": [
          0,
          1,
          2,
          3,
          4,
          5,
          6,
          7,
          8,
          9,
          10,
          11,
          12,
          13,
          14,
          15,
          16,
          17,
          18,
          19,
          20,
          21,
          22,
          23,
          24,
          25,
          26,
          27,
          28,
          29,
          30,
          31,
          32,
          33,
          34,
          35,
          36,
          37,
          38,
          39,
          40,
          41,
          42,
          43,
          44,
          45,
          46,
          47,
          48,
          49,
          50,
          51,
          52,
          53,
          54,
          55,
          56,
          57,
          58,
          59,
          60,
          61,
          62,
          63,
          64,
          65,
          66,
          67,
          68,
          69,
          70,
          71,
          72,
          73,
          74,
          75,
          76,
          77,
          78,
          79,
          80,
          81,
          82,
          83,
          84,
          85,
          86,
          87,
          88,
          89,
          90,
          91,
          92,
          93,
          94,
          95,
          96,
          97,
          98,
          99
         ],
         "y": [
          0.7516773694529887,
          0.7687097184324542,
          0.6996276717411747,
          0.8167447585213367,
          0.7803762036960685,
          0.5627046411309183,
          0.8757818096999382,
          0.6682758849688321,
          0.5770693202043317,
          0.5093515803193223,
          0.6444031391986783,
          0.7807148933796354,
          0.8014842300556587,
          0.6382687276201702,
          0.7335684891240447,
          0.6624061847525534,
          0.8233929674043744,
          0.8643341943130611,
          0.8247111159996822,
          0.8386079069308883,
          0.6867479518689196,
          0.6848760783239763,
          0.7485118808433122,
          0.8211640211640212,
          0.7881248923836308,
          0.6878823774439614,
          0.8675809291615875,
          0.7550480661748268,
          0.9003674391045208,
          0.8810839934836366,
          0.709014943122993,
          0.9074486470782679,
          0.8148148148148148,
          0.871707856138236,
          0.6862873134328358,
          0.775696382943084,
          0.7762410171365396,
          0.7612382635869178,
          0.8621067002730518,
          0.7309380474597865,
          0.7215013958004612,
          0.897979797979798,
          0.8978305878116842,
          0.9127104834329169,
          0.82978396073205,
          0.8761414968639304,
          0.6863847087310774,
          0.7348377816259403,
          0.9084916966272898,
          0.7172104170320049,
          0.660279848122627,
          0.937401746236593,
          0.8522797207715707,
          0.676715972464586,
          0.6176190476190476,
          0.7946917735598813,
          0.6457218242482065,
          0.7980568945670834,
          0.8363425925925926,
          0.5436782312508923,
          0.7650448227929513,
          0.8998424588312228,
          0.8795319282364762,
          0.9073375262054507,
          0.9152530953035473,
          0.8233077039047187,
          0.8192604817917767,
          0.8030636292223096,
          0.8043491239752921,
          0.619413668616955,
          0.7193958026650038,
          0.9077048155096935,
          0.8699523952195479,
          0.8870440251572326,
          0.8251887001887003,
          0.8774856683828093,
          0.8422592917764119,
          0.7391087861346861,
          0.756469278978504,
          0.842121920973204,
          0.8177847658979734,
          0.8870440251572326,
          0.8611804653949866,
          0.7770356627499484,
          0.8953349282296651,
          0.9404826815050726,
          0.8335334713595582,
          0.8848799480856586,
          0.7310152318166997,
          0.7962566844919786,
          0.6975412387177093,
          0.864791331548563,
          0.7922217356752461,
          0.8175386882829772,
          0.8848376149531395,
          0.9077488359151875,
          0.9033160993326163,
          0.6866666666666666,
          0.8604477611940299,
          0.7769030212743848
         ]
        },
        {
         "name": "Best Value",
         "type": "scatter",
         "x": [
          0,
          1,
          2,
          3,
          4,
          5,
          6,
          7,
          8,
          9,
          10,
          11,
          12,
          13,
          14,
          15,
          16,
          17,
          18,
          19,
          20,
          21,
          22,
          23,
          24,
          25,
          26,
          27,
          28,
          29,
          30,
          31,
          32,
          33,
          34,
          35,
          36,
          37,
          38,
          39,
          40,
          41,
          42,
          43,
          44,
          45,
          46,
          47,
          48,
          49,
          50,
          51,
          52,
          53,
          54,
          55,
          56,
          57,
          58,
          59,
          60,
          61,
          62,
          63,
          64,
          65,
          66,
          67,
          68,
          69,
          70,
          71,
          72,
          73,
          74,
          75,
          76,
          77,
          78,
          79,
          80,
          81,
          82,
          83,
          84,
          85,
          86,
          87,
          88,
          89,
          90,
          91,
          92,
          93,
          94,
          95,
          96,
          97,
          98,
          99
         ],
         "y": [
          0.7516773694529887,
          0.7687097184324542,
          0.7687097184324542,
          0.8167447585213367,
          0.8167447585213367,
          0.8167447585213367,
          0.8757818096999382,
          0.8757818096999382,
          0.8757818096999382,
          0.8757818096999382,
          0.8757818096999382,
          0.8757818096999382,
          0.8757818096999382,
          0.8757818096999382,
          0.8757818096999382,
          0.8757818096999382,
          0.8757818096999382,
          0.8757818096999382,
          0.8757818096999382,
          0.8757818096999382,
          0.8757818096999382,
          0.8757818096999382,
          0.8757818096999382,
          0.8757818096999382,
          0.8757818096999382,
          0.8757818096999382,
          0.8757818096999382,
          0.8757818096999382,
          0.9003674391045208,
          0.9003674391045208,
          0.9003674391045208,
          0.9074486470782679,
          0.9074486470782679,
          0.9074486470782679,
          0.9074486470782679,
          0.9074486470782679,
          0.9074486470782679,
          0.9074486470782679,
          0.9074486470782679,
          0.9074486470782679,
          0.9074486470782679,
          0.9074486470782679,
          0.9074486470782679,
          0.9127104834329169,
          0.9127104834329169,
          0.9127104834329169,
          0.9127104834329169,
          0.9127104834329169,
          0.9127104834329169,
          0.9127104834329169,
          0.9127104834329169,
          0.937401746236593,
          0.937401746236593,
          0.937401746236593,
          0.937401746236593,
          0.937401746236593,
          0.937401746236593,
          0.937401746236593,
          0.937401746236593,
          0.937401746236593,
          0.937401746236593,
          0.937401746236593,
          0.937401746236593,
          0.937401746236593,
          0.937401746236593,
          0.937401746236593,
          0.937401746236593,
          0.937401746236593,
          0.937401746236593,
          0.937401746236593,
          0.937401746236593,
          0.937401746236593,
          0.937401746236593,
          0.937401746236593,
          0.937401746236593,
          0.937401746236593,
          0.937401746236593,
          0.937401746236593,
          0.937401746236593,
          0.937401746236593,
          0.937401746236593,
          0.937401746236593,
          0.937401746236593,
          0.937401746236593,
          0.937401746236593,
          0.9404826815050726,
          0.9404826815050726,
          0.9404826815050726,
          0.9404826815050726,
          0.9404826815050726,
          0.9404826815050726,
          0.9404826815050726,
          0.9404826815050726,
          0.9404826815050726,
          0.9404826815050726,
          0.9404826815050726,
          0.9404826815050726,
          0.9404826815050726,
          0.9404826815050726,
          0.9404826815050726
         ]
        }
       ],
       "layout": {
        "template": {
         "data": {
          "bar": [
           {
            "error_x": {
             "color": "#2a3f5f"
            },
            "error_y": {
             "color": "#2a3f5f"
            },
            "marker": {
             "line": {
              "color": "#E5ECF6",
              "width": 0.5
             },
             "pattern": {
              "fillmode": "overlay",
              "size": 10,
              "solidity": 0.2
             }
            },
            "type": "bar"
           }
          ],
          "barpolar": [
           {
            "marker": {
             "line": {
              "color": "#E5ECF6",
              "width": 0.5
             },
             "pattern": {
              "fillmode": "overlay",
              "size": 10,
              "solidity": 0.2
             }
            },
            "type": "barpolar"
           }
          ],
          "carpet": [
           {
            "aaxis": {
             "endlinecolor": "#2a3f5f",
             "gridcolor": "white",
             "linecolor": "white",
             "minorgridcolor": "white",
             "startlinecolor": "#2a3f5f"
            },
            "baxis": {
             "endlinecolor": "#2a3f5f",
             "gridcolor": "white",
             "linecolor": "white",
             "minorgridcolor": "white",
             "startlinecolor": "#2a3f5f"
            },
            "type": "carpet"
           }
          ],
          "choropleth": [
           {
            "colorbar": {
             "outlinewidth": 0,
             "ticks": ""
            },
            "type": "choropleth"
           }
          ],
          "contour": [
           {
            "colorbar": {
             "outlinewidth": 0,
             "ticks": ""
            },
            "colorscale": [
             [
              0,
              "#0d0887"
             ],
             [
              0.1111111111111111,
              "#46039f"
             ],
             [
              0.2222222222222222,
              "#7201a8"
             ],
             [
              0.3333333333333333,
              "#9c179e"
             ],
             [
              0.4444444444444444,
              "#bd3786"
             ],
             [
              0.5555555555555556,
              "#d8576b"
             ],
             [
              0.6666666666666666,
              "#ed7953"
             ],
             [
              0.7777777777777778,
              "#fb9f3a"
             ],
             [
              0.8888888888888888,
              "#fdca26"
             ],
             [
              1,
              "#f0f921"
             ]
            ],
            "type": "contour"
           }
          ],
          "contourcarpet": [
           {
            "colorbar": {
             "outlinewidth": 0,
             "ticks": ""
            },
            "type": "contourcarpet"
           }
          ],
          "heatmap": [
           {
            "colorbar": {
             "outlinewidth": 0,
             "ticks": ""
            },
            "colorscale": [
             [
              0,
              "#0d0887"
             ],
             [
              0.1111111111111111,
              "#46039f"
             ],
             [
              0.2222222222222222,
              "#7201a8"
             ],
             [
              0.3333333333333333,
              "#9c179e"
             ],
             [
              0.4444444444444444,
              "#bd3786"
             ],
             [
              0.5555555555555556,
              "#d8576b"
             ],
             [
              0.6666666666666666,
              "#ed7953"
             ],
             [
              0.7777777777777778,
              "#fb9f3a"
             ],
             [
              0.8888888888888888,
              "#fdca26"
             ],
             [
              1,
              "#f0f921"
             ]
            ],
            "type": "heatmap"
           }
          ],
          "heatmapgl": [
           {
            "colorbar": {
             "outlinewidth": 0,
             "ticks": ""
            },
            "colorscale": [
             [
              0,
              "#0d0887"
             ],
             [
              0.1111111111111111,
              "#46039f"
             ],
             [
              0.2222222222222222,
              "#7201a8"
             ],
             [
              0.3333333333333333,
              "#9c179e"
             ],
             [
              0.4444444444444444,
              "#bd3786"
             ],
             [
              0.5555555555555556,
              "#d8576b"
             ],
             [
              0.6666666666666666,
              "#ed7953"
             ],
             [
              0.7777777777777778,
              "#fb9f3a"
             ],
             [
              0.8888888888888888,
              "#fdca26"
             ],
             [
              1,
              "#f0f921"
             ]
            ],
            "type": "heatmapgl"
           }
          ],
          "histogram": [
           {
            "marker": {
             "pattern": {
              "fillmode": "overlay",
              "size": 10,
              "solidity": 0.2
             }
            },
            "type": "histogram"
           }
          ],
          "histogram2d": [
           {
            "colorbar": {
             "outlinewidth": 0,
             "ticks": ""
            },
            "colorscale": [
             [
              0,
              "#0d0887"
             ],
             [
              0.1111111111111111,
              "#46039f"
             ],
             [
              0.2222222222222222,
              "#7201a8"
             ],
             [
              0.3333333333333333,
              "#9c179e"
             ],
             [
              0.4444444444444444,
              "#bd3786"
             ],
             [
              0.5555555555555556,
              "#d8576b"
             ],
             [
              0.6666666666666666,
              "#ed7953"
             ],
             [
              0.7777777777777778,
              "#fb9f3a"
             ],
             [
              0.8888888888888888,
              "#fdca26"
             ],
             [
              1,
              "#f0f921"
             ]
            ],
            "type": "histogram2d"
           }
          ],
          "histogram2dcontour": [
           {
            "colorbar": {
             "outlinewidth": 0,
             "ticks": ""
            },
            "colorscale": [
             [
              0,
              "#0d0887"
             ],
             [
              0.1111111111111111,
              "#46039f"
             ],
             [
              0.2222222222222222,
              "#7201a8"
             ],
             [
              0.3333333333333333,
              "#9c179e"
             ],
             [
              0.4444444444444444,
              "#bd3786"
             ],
             [
              0.5555555555555556,
              "#d8576b"
             ],
             [
              0.6666666666666666,
              "#ed7953"
             ],
             [
              0.7777777777777778,
              "#fb9f3a"
             ],
             [
              0.8888888888888888,
              "#fdca26"
             ],
             [
              1,
              "#f0f921"
             ]
            ],
            "type": "histogram2dcontour"
           }
          ],
          "mesh3d": [
           {
            "colorbar": {
             "outlinewidth": 0,
             "ticks": ""
            },
            "type": "mesh3d"
           }
          ],
          "parcoords": [
           {
            "line": {
             "colorbar": {
              "outlinewidth": 0,
              "ticks": ""
             }
            },
            "type": "parcoords"
           }
          ],
          "pie": [
           {
            "automargin": true,
            "type": "pie"
           }
          ],
          "scatter": [
           {
            "fillpattern": {
             "fillmode": "overlay",
             "size": 10,
             "solidity": 0.2
            },
            "type": "scatter"
           }
          ],
          "scatter3d": [
           {
            "line": {
             "colorbar": {
              "outlinewidth": 0,
              "ticks": ""
             }
            },
            "marker": {
             "colorbar": {
              "outlinewidth": 0,
              "ticks": ""
             }
            },
            "type": "scatter3d"
           }
          ],
          "scattercarpet": [
           {
            "marker": {
             "colorbar": {
              "outlinewidth": 0,
              "ticks": ""
             }
            },
            "type": "scattercarpet"
           }
          ],
          "scattergeo": [
           {
            "marker": {
             "colorbar": {
              "outlinewidth": 0,
              "ticks": ""
             }
            },
            "type": "scattergeo"
           }
          ],
          "scattergl": [
           {
            "marker": {
             "colorbar": {
              "outlinewidth": 0,
              "ticks": ""
             }
            },
            "type": "scattergl"
           }
          ],
          "scattermapbox": [
           {
            "marker": {
             "colorbar": {
              "outlinewidth": 0,
              "ticks": ""
             }
            },
            "type": "scattermapbox"
           }
          ],
          "scatterpolar": [
           {
            "marker": {
             "colorbar": {
              "outlinewidth": 0,
              "ticks": ""
             }
            },
            "type": "scatterpolar"
           }
          ],
          "scatterpolargl": [
           {
            "marker": {
             "colorbar": {
              "outlinewidth": 0,
              "ticks": ""
             }
            },
            "type": "scatterpolargl"
           }
          ],
          "scatterternary": [
           {
            "marker": {
             "colorbar": {
              "outlinewidth": 0,
              "ticks": ""
             }
            },
            "type": "scatterternary"
           }
          ],
          "surface": [
           {
            "colorbar": {
             "outlinewidth": 0,
             "ticks": ""
            },
            "colorscale": [
             [
              0,
              "#0d0887"
             ],
             [
              0.1111111111111111,
              "#46039f"
             ],
             [
              0.2222222222222222,
              "#7201a8"
             ],
             [
              0.3333333333333333,
              "#9c179e"
             ],
             [
              0.4444444444444444,
              "#bd3786"
             ],
             [
              0.5555555555555556,
              "#d8576b"
             ],
             [
              0.6666666666666666,
              "#ed7953"
             ],
             [
              0.7777777777777778,
              "#fb9f3a"
             ],
             [
              0.8888888888888888,
              "#fdca26"
             ],
             [
              1,
              "#f0f921"
             ]
            ],
            "type": "surface"
           }
          ],
          "table": [
           {
            "cells": {
             "fill": {
              "color": "#EBF0F8"
             },
             "line": {
              "color": "white"
             }
            },
            "header": {
             "fill": {
              "color": "#C8D4E3"
             },
             "line": {
              "color": "white"
             }
            },
            "type": "table"
           }
          ]
         },
         "layout": {
          "annotationdefaults": {
           "arrowcolor": "#2a3f5f",
           "arrowhead": 0,
           "arrowwidth": 1
          },
          "autotypenumbers": "strict",
          "coloraxis": {
           "colorbar": {
            "outlinewidth": 0,
            "ticks": ""
           }
          },
          "colorscale": {
           "diverging": [
            [
             0,
             "#8e0152"
            ],
            [
             0.1,
             "#c51b7d"
            ],
            [
             0.2,
             "#de77ae"
            ],
            [
             0.3,
             "#f1b6da"
            ],
            [
             0.4,
             "#fde0ef"
            ],
            [
             0.5,
             "#f7f7f7"
            ],
            [
             0.6,
             "#e6f5d0"
            ],
            [
             0.7,
             "#b8e186"
            ],
            [
             0.8,
             "#7fbc41"
            ],
            [
             0.9,
             "#4d9221"
            ],
            [
             1,
             "#276419"
            ]
           ],
           "sequential": [
            [
             0,
             "#0d0887"
            ],
            [
             0.1111111111111111,
             "#46039f"
            ],
            [
             0.2222222222222222,
             "#7201a8"
            ],
            [
             0.3333333333333333,
             "#9c179e"
            ],
            [
             0.4444444444444444,
             "#bd3786"
            ],
            [
             0.5555555555555556,
             "#d8576b"
            ],
            [
             0.6666666666666666,
             "#ed7953"
            ],
            [
             0.7777777777777778,
             "#fb9f3a"
            ],
            [
             0.8888888888888888,
             "#fdca26"
            ],
            [
             1,
             "#f0f921"
            ]
           ],
           "sequentialminus": [
            [
             0,
             "#0d0887"
            ],
            [
             0.1111111111111111,
             "#46039f"
            ],
            [
             0.2222222222222222,
             "#7201a8"
            ],
            [
             0.3333333333333333,
             "#9c179e"
            ],
            [
             0.4444444444444444,
             "#bd3786"
            ],
            [
             0.5555555555555556,
             "#d8576b"
            ],
            [
             0.6666666666666666,
             "#ed7953"
            ],
            [
             0.7777777777777778,
             "#fb9f3a"
            ],
            [
             0.8888888888888888,
             "#fdca26"
            ],
            [
             1,
             "#f0f921"
            ]
           ]
          },
          "colorway": [
           "#636efa",
           "#EF553B",
           "#00cc96",
           "#ab63fa",
           "#FFA15A",
           "#19d3f3",
           "#FF6692",
           "#B6E880",
           "#FF97FF",
           "#FECB52"
          ],
          "font": {
           "color": "#2a3f5f"
          },
          "geo": {
           "bgcolor": "white",
           "lakecolor": "white",
           "landcolor": "#E5ECF6",
           "showlakes": true,
           "showland": true,
           "subunitcolor": "white"
          },
          "hoverlabel": {
           "align": "left"
          },
          "hovermode": "closest",
          "mapbox": {
           "style": "light"
          },
          "paper_bgcolor": "white",
          "plot_bgcolor": "#E5ECF6",
          "polar": {
           "angularaxis": {
            "gridcolor": "white",
            "linecolor": "white",
            "ticks": ""
           },
           "bgcolor": "#E5ECF6",
           "radialaxis": {
            "gridcolor": "white",
            "linecolor": "white",
            "ticks": ""
           }
          },
          "scene": {
           "xaxis": {
            "backgroundcolor": "#E5ECF6",
            "gridcolor": "white",
            "gridwidth": 2,
            "linecolor": "white",
            "showbackground": true,
            "ticks": "",
            "zerolinecolor": "white"
           },
           "yaxis": {
            "backgroundcolor": "#E5ECF6",
            "gridcolor": "white",
            "gridwidth": 2,
            "linecolor": "white",
            "showbackground": true,
            "ticks": "",
            "zerolinecolor": "white"
           },
           "zaxis": {
            "backgroundcolor": "#E5ECF6",
            "gridcolor": "white",
            "gridwidth": 2,
            "linecolor": "white",
            "showbackground": true,
            "ticks": "",
            "zerolinecolor": "white"
           }
          },
          "shapedefaults": {
           "line": {
            "color": "#2a3f5f"
           }
          },
          "ternary": {
           "aaxis": {
            "gridcolor": "white",
            "linecolor": "white",
            "ticks": ""
           },
           "baxis": {
            "gridcolor": "white",
            "linecolor": "white",
            "ticks": ""
           },
           "bgcolor": "#E5ECF6",
           "caxis": {
            "gridcolor": "white",
            "linecolor": "white",
            "ticks": ""
           }
          },
          "title": {
           "x": 0.05
          },
          "xaxis": {
           "automargin": true,
           "gridcolor": "white",
           "linecolor": "white",
           "ticks": "",
           "title": {
            "standoff": 15
           },
           "zerolinecolor": "white",
           "zerolinewidth": 2
          },
          "yaxis": {
           "automargin": true,
           "gridcolor": "white",
           "linecolor": "white",
           "ticks": "",
           "title": {
            "standoff": 15
           },
           "zerolinecolor": "white",
           "zerolinewidth": 2
          }
         }
        },
        "title": {
         "text": "Optimization History Plot"
        },
        "xaxis": {
         "title": {
          "text": "#Trials"
         }
        },
        "yaxis": {
         "title": {
          "text": "Objective Value"
         }
        }
       }
      },
      "text/html": [
       "<div>                            <div id=\"cbb42d07-f8bd-4122-b98a-762de33aa534\" class=\"plotly-graph-div\" style=\"height:525px; width:100%;\"></div>            <script type=\"text/javascript\">                require([\"plotly\"], function(Plotly) {                    window.PLOTLYENV=window.PLOTLYENV || {};                                    if (document.getElementById(\"cbb42d07-f8bd-4122-b98a-762de33aa534\")) {                    Plotly.newPlot(                        \"cbb42d07-f8bd-4122-b98a-762de33aa534\",                        [{\"mode\":\"markers\",\"name\":\"Objective Value\",\"x\":[0,1,2,3,4,5,6,7,8,9,10,11,12,13,14,15,16,17,18,19,20,21,22,23,24,25,26,27,28,29,30,31,32,33,34,35,36,37,38,39,40,41,42,43,44,45,46,47,48,49,50,51,52,53,54,55,56,57,58,59,60,61,62,63,64,65,66,67,68,69,70,71,72,73,74,75,76,77,78,79,80,81,82,83,84,85,86,87,88,89,90,91,92,93,94,95,96,97,98,99],\"y\":[0.7516773694529887,0.7687097184324542,0.6996276717411747,0.8167447585213367,0.7803762036960685,0.5627046411309183,0.8757818096999382,0.6682758849688321,0.5770693202043317,0.5093515803193223,0.6444031391986783,0.7807148933796354,0.8014842300556587,0.6382687276201702,0.7335684891240447,0.6624061847525534,0.8233929674043744,0.8643341943130611,0.8247111159996822,0.8386079069308883,0.6867479518689196,0.6848760783239763,0.7485118808433122,0.8211640211640212,0.7881248923836308,0.6878823774439614,0.8675809291615875,0.7550480661748268,0.9003674391045208,0.8810839934836366,0.709014943122993,0.9074486470782679,0.8148148148148148,0.871707856138236,0.6862873134328358,0.775696382943084,0.7762410171365396,0.7612382635869178,0.8621067002730518,0.7309380474597865,0.7215013958004612,0.897979797979798,0.8978305878116842,0.9127104834329169,0.82978396073205,0.8761414968639304,0.6863847087310774,0.7348377816259403,0.9084916966272898,0.7172104170320049,0.660279848122627,0.937401746236593,0.8522797207715707,0.676715972464586,0.6176190476190476,0.7946917735598813,0.6457218242482065,0.7980568945670834,0.8363425925925926,0.5436782312508923,0.7650448227929513,0.8998424588312228,0.8795319282364762,0.9073375262054507,0.9152530953035473,0.8233077039047187,0.8192604817917767,0.8030636292223096,0.8043491239752921,0.619413668616955,0.7193958026650038,0.9077048155096935,0.8699523952195479,0.8870440251572326,0.8251887001887003,0.8774856683828093,0.8422592917764119,0.7391087861346861,0.756469278978504,0.842121920973204,0.8177847658979734,0.8870440251572326,0.8611804653949866,0.7770356627499484,0.8953349282296651,0.9404826815050726,0.8335334713595582,0.8848799480856586,0.7310152318166997,0.7962566844919786,0.6975412387177093,0.864791331548563,0.7922217356752461,0.8175386882829772,0.8848376149531395,0.9077488359151875,0.9033160993326163,0.6866666666666666,0.8604477611940299,0.7769030212743848],\"type\":\"scatter\"},{\"name\":\"Best Value\",\"x\":[0,1,2,3,4,5,6,7,8,9,10,11,12,13,14,15,16,17,18,19,20,21,22,23,24,25,26,27,28,29,30,31,32,33,34,35,36,37,38,39,40,41,42,43,44,45,46,47,48,49,50,51,52,53,54,55,56,57,58,59,60,61,62,63,64,65,66,67,68,69,70,71,72,73,74,75,76,77,78,79,80,81,82,83,84,85,86,87,88,89,90,91,92,93,94,95,96,97,98,99],\"y\":[0.7516773694529887,0.7687097184324542,0.7687097184324542,0.8167447585213367,0.8167447585213367,0.8167447585213367,0.8757818096999382,0.8757818096999382,0.8757818096999382,0.8757818096999382,0.8757818096999382,0.8757818096999382,0.8757818096999382,0.8757818096999382,0.8757818096999382,0.8757818096999382,0.8757818096999382,0.8757818096999382,0.8757818096999382,0.8757818096999382,0.8757818096999382,0.8757818096999382,0.8757818096999382,0.8757818096999382,0.8757818096999382,0.8757818096999382,0.8757818096999382,0.8757818096999382,0.9003674391045208,0.9003674391045208,0.9003674391045208,0.9074486470782679,0.9074486470782679,0.9074486470782679,0.9074486470782679,0.9074486470782679,0.9074486470782679,0.9074486470782679,0.9074486470782679,0.9074486470782679,0.9074486470782679,0.9074486470782679,0.9074486470782679,0.9127104834329169,0.9127104834329169,0.9127104834329169,0.9127104834329169,0.9127104834329169,0.9127104834329169,0.9127104834329169,0.9127104834329169,0.937401746236593,0.937401746236593,0.937401746236593,0.937401746236593,0.937401746236593,0.937401746236593,0.937401746236593,0.937401746236593,0.937401746236593,0.937401746236593,0.937401746236593,0.937401746236593,0.937401746236593,0.937401746236593,0.937401746236593,0.937401746236593,0.937401746236593,0.937401746236593,0.937401746236593,0.937401746236593,0.937401746236593,0.937401746236593,0.937401746236593,0.937401746236593,0.937401746236593,0.937401746236593,0.937401746236593,0.937401746236593,0.937401746236593,0.937401746236593,0.937401746236593,0.937401746236593,0.937401746236593,0.937401746236593,0.9404826815050726,0.9404826815050726,0.9404826815050726,0.9404826815050726,0.9404826815050726,0.9404826815050726,0.9404826815050726,0.9404826815050726,0.9404826815050726,0.9404826815050726,0.9404826815050726,0.9404826815050726,0.9404826815050726,0.9404826815050726,0.9404826815050726],\"type\":\"scatter\"}],                        {\"title\":{\"text\":\"Optimization History Plot\"},\"xaxis\":{\"title\":{\"text\":\"#Trials\"}},\"yaxis\":{\"title\":{\"text\":\"Objective Value\"}},\"template\":{\"data\":{\"histogram2dcontour\":[{\"type\":\"histogram2dcontour\",\"colorbar\":{\"outlinewidth\":0,\"ticks\":\"\"},\"colorscale\":[[0.0,\"#0d0887\"],[0.1111111111111111,\"#46039f\"],[0.2222222222222222,\"#7201a8\"],[0.3333333333333333,\"#9c179e\"],[0.4444444444444444,\"#bd3786\"],[0.5555555555555556,\"#d8576b\"],[0.6666666666666666,\"#ed7953\"],[0.7777777777777778,\"#fb9f3a\"],[0.8888888888888888,\"#fdca26\"],[1.0,\"#f0f921\"]]}],\"choropleth\":[{\"type\":\"choropleth\",\"colorbar\":{\"outlinewidth\":0,\"ticks\":\"\"}}],\"histogram2d\":[{\"type\":\"histogram2d\",\"colorbar\":{\"outlinewidth\":0,\"ticks\":\"\"},\"colorscale\":[[0.0,\"#0d0887\"],[0.1111111111111111,\"#46039f\"],[0.2222222222222222,\"#7201a8\"],[0.3333333333333333,\"#9c179e\"],[0.4444444444444444,\"#bd3786\"],[0.5555555555555556,\"#d8576b\"],[0.6666666666666666,\"#ed7953\"],[0.7777777777777778,\"#fb9f3a\"],[0.8888888888888888,\"#fdca26\"],[1.0,\"#f0f921\"]]}],\"heatmap\":[{\"type\":\"heatmap\",\"colorbar\":{\"outlinewidth\":0,\"ticks\":\"\"},\"colorscale\":[[0.0,\"#0d0887\"],[0.1111111111111111,\"#46039f\"],[0.2222222222222222,\"#7201a8\"],[0.3333333333333333,\"#9c179e\"],[0.4444444444444444,\"#bd3786\"],[0.5555555555555556,\"#d8576b\"],[0.6666666666666666,\"#ed7953\"],[0.7777777777777778,\"#fb9f3a\"],[0.8888888888888888,\"#fdca26\"],[1.0,\"#f0f921\"]]}],\"heatmapgl\":[{\"type\":\"heatmapgl\",\"colorbar\":{\"outlinewidth\":0,\"ticks\":\"\"},\"colorscale\":[[0.0,\"#0d0887\"],[0.1111111111111111,\"#46039f\"],[0.2222222222222222,\"#7201a8\"],[0.3333333333333333,\"#9c179e\"],[0.4444444444444444,\"#bd3786\"],[0.5555555555555556,\"#d8576b\"],[0.6666666666666666,\"#ed7953\"],[0.7777777777777778,\"#fb9f3a\"],[0.8888888888888888,\"#fdca26\"],[1.0,\"#f0f921\"]]}],\"contourcarpet\":[{\"type\":\"contourcarpet\",\"colorbar\":{\"outlinewidth\":0,\"ticks\":\"\"}}],\"contour\":[{\"type\":\"contour\",\"colorbar\":{\"outlinewidth\":0,\"ticks\":\"\"},\"colorscale\":[[0.0,\"#0d0887\"],[0.1111111111111111,\"#46039f\"],[0.2222222222222222,\"#7201a8\"],[0.3333333333333333,\"#9c179e\"],[0.4444444444444444,\"#bd3786\"],[0.5555555555555556,\"#d8576b\"],[0.6666666666666666,\"#ed7953\"],[0.7777777777777778,\"#fb9f3a\"],[0.8888888888888888,\"#fdca26\"],[1.0,\"#f0f921\"]]}],\"surface\":[{\"type\":\"surface\",\"colorbar\":{\"outlinewidth\":0,\"ticks\":\"\"},\"colorscale\":[[0.0,\"#0d0887\"],[0.1111111111111111,\"#46039f\"],[0.2222222222222222,\"#7201a8\"],[0.3333333333333333,\"#9c179e\"],[0.4444444444444444,\"#bd3786\"],[0.5555555555555556,\"#d8576b\"],[0.6666666666666666,\"#ed7953\"],[0.7777777777777778,\"#fb9f3a\"],[0.8888888888888888,\"#fdca26\"],[1.0,\"#f0f921\"]]}],\"mesh3d\":[{\"type\":\"mesh3d\",\"colorbar\":{\"outlinewidth\":0,\"ticks\":\"\"}}],\"scatter\":[{\"fillpattern\":{\"fillmode\":\"overlay\",\"size\":10,\"solidity\":0.2},\"type\":\"scatter\"}],\"parcoords\":[{\"type\":\"parcoords\",\"line\":{\"colorbar\":{\"outlinewidth\":0,\"ticks\":\"\"}}}],\"scatterpolargl\":[{\"type\":\"scatterpolargl\",\"marker\":{\"colorbar\":{\"outlinewidth\":0,\"ticks\":\"\"}}}],\"bar\":[{\"error_x\":{\"color\":\"#2a3f5f\"},\"error_y\":{\"color\":\"#2a3f5f\"},\"marker\":{\"line\":{\"color\":\"#E5ECF6\",\"width\":0.5},\"pattern\":{\"fillmode\":\"overlay\",\"size\":10,\"solidity\":0.2}},\"type\":\"bar\"}],\"scattergeo\":[{\"type\":\"scattergeo\",\"marker\":{\"colorbar\":{\"outlinewidth\":0,\"ticks\":\"\"}}}],\"scatterpolar\":[{\"type\":\"scatterpolar\",\"marker\":{\"colorbar\":{\"outlinewidth\":0,\"ticks\":\"\"}}}],\"histogram\":[{\"marker\":{\"pattern\":{\"fillmode\":\"overlay\",\"size\":10,\"solidity\":0.2}},\"type\":\"histogram\"}],\"scattergl\":[{\"type\":\"scattergl\",\"marker\":{\"colorbar\":{\"outlinewidth\":0,\"ticks\":\"\"}}}],\"scatter3d\":[{\"type\":\"scatter3d\",\"line\":{\"colorbar\":{\"outlinewidth\":0,\"ticks\":\"\"}},\"marker\":{\"colorbar\":{\"outlinewidth\":0,\"ticks\":\"\"}}}],\"scattermapbox\":[{\"type\":\"scattermapbox\",\"marker\":{\"colorbar\":{\"outlinewidth\":0,\"ticks\":\"\"}}}],\"scatterternary\":[{\"type\":\"scatterternary\",\"marker\":{\"colorbar\":{\"outlinewidth\":0,\"ticks\":\"\"}}}],\"scattercarpet\":[{\"type\":\"scattercarpet\",\"marker\":{\"colorbar\":{\"outlinewidth\":0,\"ticks\":\"\"}}}],\"carpet\":[{\"aaxis\":{\"endlinecolor\":\"#2a3f5f\",\"gridcolor\":\"white\",\"linecolor\":\"white\",\"minorgridcolor\":\"white\",\"startlinecolor\":\"#2a3f5f\"},\"baxis\":{\"endlinecolor\":\"#2a3f5f\",\"gridcolor\":\"white\",\"linecolor\":\"white\",\"minorgridcolor\":\"white\",\"startlinecolor\":\"#2a3f5f\"},\"type\":\"carpet\"}],\"table\":[{\"cells\":{\"fill\":{\"color\":\"#EBF0F8\"},\"line\":{\"color\":\"white\"}},\"header\":{\"fill\":{\"color\":\"#C8D4E3\"},\"line\":{\"color\":\"white\"}},\"type\":\"table\"}],\"barpolar\":[{\"marker\":{\"line\":{\"color\":\"#E5ECF6\",\"width\":0.5},\"pattern\":{\"fillmode\":\"overlay\",\"size\":10,\"solidity\":0.2}},\"type\":\"barpolar\"}],\"pie\":[{\"automargin\":true,\"type\":\"pie\"}]},\"layout\":{\"autotypenumbers\":\"strict\",\"colorway\":[\"#636efa\",\"#EF553B\",\"#00cc96\",\"#ab63fa\",\"#FFA15A\",\"#19d3f3\",\"#FF6692\",\"#B6E880\",\"#FF97FF\",\"#FECB52\"],\"font\":{\"color\":\"#2a3f5f\"},\"hovermode\":\"closest\",\"hoverlabel\":{\"align\":\"left\"},\"paper_bgcolor\":\"white\",\"plot_bgcolor\":\"#E5ECF6\",\"polar\":{\"bgcolor\":\"#E5ECF6\",\"angularaxis\":{\"gridcolor\":\"white\",\"linecolor\":\"white\",\"ticks\":\"\"},\"radialaxis\":{\"gridcolor\":\"white\",\"linecolor\":\"white\",\"ticks\":\"\"}},\"ternary\":{\"bgcolor\":\"#E5ECF6\",\"aaxis\":{\"gridcolor\":\"white\",\"linecolor\":\"white\",\"ticks\":\"\"},\"baxis\":{\"gridcolor\":\"white\",\"linecolor\":\"white\",\"ticks\":\"\"},\"caxis\":{\"gridcolor\":\"white\",\"linecolor\":\"white\",\"ticks\":\"\"}},\"coloraxis\":{\"colorbar\":{\"outlinewidth\":0,\"ticks\":\"\"}},\"colorscale\":{\"sequential\":[[0.0,\"#0d0887\"],[0.1111111111111111,\"#46039f\"],[0.2222222222222222,\"#7201a8\"],[0.3333333333333333,\"#9c179e\"],[0.4444444444444444,\"#bd3786\"],[0.5555555555555556,\"#d8576b\"],[0.6666666666666666,\"#ed7953\"],[0.7777777777777778,\"#fb9f3a\"],[0.8888888888888888,\"#fdca26\"],[1.0,\"#f0f921\"]],\"sequentialminus\":[[0.0,\"#0d0887\"],[0.1111111111111111,\"#46039f\"],[0.2222222222222222,\"#7201a8\"],[0.3333333333333333,\"#9c179e\"],[0.4444444444444444,\"#bd3786\"],[0.5555555555555556,\"#d8576b\"],[0.6666666666666666,\"#ed7953\"],[0.7777777777777778,\"#fb9f3a\"],[0.8888888888888888,\"#fdca26\"],[1.0,\"#f0f921\"]],\"diverging\":[[0,\"#8e0152\"],[0.1,\"#c51b7d\"],[0.2,\"#de77ae\"],[0.3,\"#f1b6da\"],[0.4,\"#fde0ef\"],[0.5,\"#f7f7f7\"],[0.6,\"#e6f5d0\"],[0.7,\"#b8e186\"],[0.8,\"#7fbc41\"],[0.9,\"#4d9221\"],[1,\"#276419\"]]},\"xaxis\":{\"gridcolor\":\"white\",\"linecolor\":\"white\",\"ticks\":\"\",\"title\":{\"standoff\":15},\"zerolinecolor\":\"white\",\"automargin\":true,\"zerolinewidth\":2},\"yaxis\":{\"gridcolor\":\"white\",\"linecolor\":\"white\",\"ticks\":\"\",\"title\":{\"standoff\":15},\"zerolinecolor\":\"white\",\"automargin\":true,\"zerolinewidth\":2},\"scene\":{\"xaxis\":{\"backgroundcolor\":\"#E5ECF6\",\"gridcolor\":\"white\",\"linecolor\":\"white\",\"showbackground\":true,\"ticks\":\"\",\"zerolinecolor\":\"white\",\"gridwidth\":2},\"yaxis\":{\"backgroundcolor\":\"#E5ECF6\",\"gridcolor\":\"white\",\"linecolor\":\"white\",\"showbackground\":true,\"ticks\":\"\",\"zerolinecolor\":\"white\",\"gridwidth\":2},\"zaxis\":{\"backgroundcolor\":\"#E5ECF6\",\"gridcolor\":\"white\",\"linecolor\":\"white\",\"showbackground\":true,\"ticks\":\"\",\"zerolinecolor\":\"white\",\"gridwidth\":2}},\"shapedefaults\":{\"line\":{\"color\":\"#2a3f5f\"}},\"annotationdefaults\":{\"arrowcolor\":\"#2a3f5f\",\"arrowhead\":0,\"arrowwidth\":1},\"geo\":{\"bgcolor\":\"white\",\"landcolor\":\"#E5ECF6\",\"subunitcolor\":\"white\",\"showland\":true,\"showlakes\":true,\"lakecolor\":\"white\"},\"title\":{\"x\":0.05},\"mapbox\":{\"style\":\"light\"}}}},                        {\"responsive\": true}                    ).then(function(){\n",
       "                            \n",
       "var gd = document.getElementById('cbb42d07-f8bd-4122-b98a-762de33aa534');\n",
       "var x = new MutationObserver(function (mutations, observer) {{\n",
       "        var display = window.getComputedStyle(gd).display;\n",
       "        if (!display || display === 'none') {{\n",
       "            console.log([gd, 'removed!']);\n",
       "            Plotly.purge(gd);\n",
       "            observer.disconnect();\n",
       "        }}\n",
       "}});\n",
       "\n",
       "// Listen for the removal of the full notebook cells\n",
       "var notebookContainer = gd.closest('#notebook-container');\n",
       "if (notebookContainer) {{\n",
       "    x.observe(notebookContainer, {childList: true});\n",
       "}}\n",
       "\n",
       "// Listen for the clearing of the current output cell\n",
       "var outputEl = gd.closest('.output');\n",
       "if (outputEl) {{\n",
       "    x.observe(outputEl, {childList: true});\n",
       "}}\n",
       "\n",
       "                        })                };                });            </script>        </div>"
      ]
     },
     "metadata": {},
     "output_type": "display_data"
    }
   ],
   "source": [
    "# 결과값 비교\n",
    "fig = optuna.visualization.plot_optimization_history(study)\n",
    "fig.show()"
   ]
  },
  {
   "cell_type": "code",
   "execution_count": 56,
   "id": "c60fc9fc",
   "metadata": {},
   "outputs": [
    {
     "data": {
      "application/vnd.plotly.v1+json": {
       "config": {
        "plotlyServerURL": "https://plot.ly"
       },
       "data": [
        {
         "dimensions": [
          {
           "label": "Objective Value",
           "range": [
            0.5093515803193223,
            0.9404826815050726
           ],
           "values": [
            0.7516773694529887,
            0.7687097184324542,
            0.6996276717411747,
            0.8167447585213367,
            0.7803762036960685,
            0.5627046411309183,
            0.8757818096999382,
            0.6682758849688321,
            0.5770693202043317,
            0.5093515803193223,
            0.6444031391986783,
            0.7807148933796354,
            0.8014842300556587,
            0.6382687276201702,
            0.7335684891240447,
            0.6624061847525534,
            0.8233929674043744,
            0.8643341943130611,
            0.8247111159996822,
            0.8386079069308883,
            0.6867479518689196,
            0.6848760783239763,
            0.7485118808433122,
            0.8211640211640212,
            0.7881248923836308,
            0.6878823774439614,
            0.8675809291615875,
            0.7550480661748268,
            0.9003674391045208,
            0.8810839934836366,
            0.709014943122993,
            0.9074486470782679,
            0.8148148148148148,
            0.871707856138236,
            0.6862873134328358,
            0.775696382943084,
            0.7762410171365396,
            0.7612382635869178,
            0.8621067002730518,
            0.7309380474597865,
            0.7215013958004612,
            0.897979797979798,
            0.8978305878116842,
            0.9127104834329169,
            0.82978396073205,
            0.8761414968639304,
            0.6863847087310774,
            0.7348377816259403,
            0.9084916966272898,
            0.7172104170320049,
            0.660279848122627,
            0.937401746236593,
            0.8522797207715707,
            0.676715972464586,
            0.6176190476190476,
            0.7946917735598813,
            0.6457218242482065,
            0.7980568945670834,
            0.8363425925925926,
            0.5436782312508923,
            0.7650448227929513,
            0.8998424588312228,
            0.8795319282364762,
            0.9073375262054507,
            0.9152530953035473,
            0.8233077039047187,
            0.8192604817917767,
            0.8030636292223096,
            0.8043491239752921,
            0.619413668616955,
            0.7193958026650038,
            0.9077048155096935,
            0.8699523952195479,
            0.8870440251572326,
            0.8251887001887003,
            0.8774856683828093,
            0.8422592917764119,
            0.7391087861346861,
            0.756469278978504,
            0.842121920973204,
            0.8177847658979734,
            0.8870440251572326,
            0.8611804653949866,
            0.7770356627499484,
            0.8953349282296651,
            0.9404826815050726,
            0.8335334713595582,
            0.8848799480856586,
            0.7310152318166997,
            0.7962566844919786,
            0.6975412387177093,
            0.864791331548563,
            0.7922217356752461,
            0.8175386882829772,
            0.8848376149531395,
            0.9077488359151875,
            0.9033160993326163,
            0.6866666666666666,
            0.8604477611940299,
            0.7769030212743848
           ]
          },
          {
           "label": "bagging_temperature",
           "range": [
            0.0038274522597476768,
            9.9186153475886
           ],
           "values": [
            0.5665105656940983,
            2.594395464409657,
            6.763700952328264,
            1.1581939810878272,
            7.191281139273903,
            4.9189229896170215,
            9.9186153475886,
            0.2687450577343897,
            3.0869481142199504,
            2.8504209877244744,
            2.676851552070482,
            1.607719763564846,
            3.8984184104592146,
            1.345235964538046,
            1.7786273836933493,
            1.3493663947416374,
            4.008726853941918,
            0.0038274522597476768,
            1.802183735642628,
            3.8511795002662033,
            2.2792304073787784,
            2.03055053380132,
            6.318604011990656,
            2.0870977079098583,
            0.9298504936965724,
            2.178553570595864,
            3.19395314954704,
            4.776020410125115,
            0.6901169784357912,
            0.9813891476199632,
            2.2260087710510934,
            3.575786740455621,
            2.2764508609779055,
            2.3408607182959513,
            2.34114210644434,
            2.510627720025382,
            3.2841654176118737,
            4.580086521401731,
            2.282172759942458,
            5.763737948119312,
            2.659984978003235,
            2.7527554041696454,
            8.879362310283446,
            0.5355386359026457,
            4.301997792193292,
            3.3766689608488623,
            2.7803327647448084,
            1.5675819872043633,
            1.9908217417730758,
            2.482071558714574,
            2.9051159768043853,
            2.4866329993665586,
            1.5436452251864292,
            1.2001571026881819,
            1.6021409669929516,
            1.4691908043001822,
            1.8618116072647968,
            3.6006994376551553,
            7.8954434537622324,
            2.639045991563351,
            3.0003363390292583,
            1.8940477976836432,
            5.250595508887738,
            2.543831781674923,
            1.1437927409953867,
            0.6309159990138311,
            2.1729203747968313,
            3.063562151836283,
            2.543657949236909,
            2.3585332583331953,
            1.671786990051439,
            2.6628747847581287,
            2.075802277050364,
            1.9902493225391464,
            1.3594989834576605,
            3.636794490903474,
            0.9537998909324357,
            2.3377368885110106,
            3.2922308712940396,
            2.77141592894378,
            2.0030258113111143,
            2.4481952028079776,
            1.726083428979025,
            0.18726327185722447,
            1.7469124230402668,
            2.118485458157875
           ]
          },
          {
           "label": "bootstrap_type",
           "range": [
            0,
            1
           ],
           "ticktext": [
            "Bayesian",
            "Bernoulli"
           ],
           "tickvals": [
            0,
            1
           ],
           "values": [
            0,
            1,
            0,
            1,
            1,
            0,
            0,
            0,
            0,
            1,
            0,
            1,
            1,
            1,
            1,
            0,
            0,
            0,
            0,
            0,
            0,
            0,
            0,
            0,
            0,
            0,
            0,
            0,
            0,
            0,
            0,
            0,
            0,
            0,
            0,
            0,
            0,
            0,
            0,
            0,
            1,
            0,
            0,
            0,
            0,
            0,
            0,
            1,
            0,
            0,
            1,
            0,
            0,
            0,
            0,
            0,
            0,
            0,
            0,
            1,
            0,
            0,
            0,
            0,
            0,
            0,
            0,
            0,
            0,
            0,
            0,
            0,
            0,
            0,
            0,
            0,
            0,
            1,
            0,
            0,
            0,
            0,
            0,
            0,
            0,
            0,
            0,
            0,
            0,
            1,
            0,
            0,
            0,
            0,
            0,
            0,
            0,
            0,
            0,
            0
           ]
          },
          {
           "label": "depth",
           "range": [
            3,
            12
           ],
           "values": [
            3,
            10,
            6,
            6,
            7,
            3,
            4,
            6,
            6,
            11,
            9,
            4,
            5,
            8,
            4,
            12,
            5,
            4,
            4,
            8,
            3,
            8,
            9,
            7,
            5,
            9,
            7,
            4,
            5,
            7,
            5,
            7,
            7,
            6,
            3,
            5,
            10,
            7,
            6,
            6,
            3,
            6,
            6,
            6,
            6,
            5,
            6,
            6,
            8,
            8,
            9,
            7,
            8,
            7,
            7,
            8,
            5,
            7,
            9,
            8,
            10,
            6,
            6,
            5,
            5,
            5,
            4,
            5,
            4,
            4,
            5,
            7,
            7,
            7,
            8,
            7,
            5,
            6,
            7,
            8,
            5,
            6,
            6,
            7,
            5,
            6,
            4,
            9,
            6,
            8,
            12,
            6,
            7,
            6,
            5,
            6,
            7,
            7,
            7,
            8
           ]
          },
          {
           "label": "leaf_estimation_i...",
           "range": [
            1,
            15
           ],
           "values": [
            12,
            1,
            1,
            3,
            9,
            2,
            4,
            1,
            1,
            1,
            6,
            5,
            5,
            7,
            4,
            9,
            15,
            15,
            15,
            12,
            12,
            13,
            13,
            10,
            14,
            11,
            7,
            7,
            8,
            8,
            8,
            7,
            8,
            6,
            4,
            9,
            10,
            3,
            6,
            9,
            8,
            6,
            5,
            5,
            5,
            6,
            3,
            5,
            7,
            7,
            7,
            4,
            4,
            6,
            2,
            6,
            3,
            7,
            2,
            4,
            5,
            5,
            6,
            4,
            3,
            4,
            3,
            2,
            3,
            1,
            10,
            4,
            4,
            2,
            9,
            4,
            3,
            8,
            5,
            7,
            8,
            4,
            5,
            5,
            4,
            5,
            3,
            6,
            9,
            3,
            7,
            5,
            4,
            5,
            5,
            4,
            4,
            4,
            4,
            3
           ]
          },
          {
           "label": "learning_rate",
           "range": [
            0.010029224741881566,
            0.09898814602655251
           ],
           "values": [
            0.04608478312257003,
            0.0743499319765141,
            0.035003411450901877,
            0.06997473852849034,
            0.07760241795277341,
            0.038922548665544385,
            0.09597633772381775,
            0.07701242922949639,
            0.018257897030316585,
            0.02145958661090646,
            0.09847674769323532,
            0.09898814602655251,
            0.06217559239695754,
            0.0894930758642219,
            0.063374641049257,
            0.08773508352422316,
            0.05654190750494805,
            0.05521081632225032,
            0.047932374841552876,
            0.028590277518267135,
            0.08661377654168073,
            0.011030100479157211,
            0.03244400509228613,
            0.0266821111203122,
            0.04702400568532214,
            0.010029224741881566,
            0.05249950501437854,
            0.05459684233388242,
            0.04112590492636284,
            0.040172779124240054,
            0.0408024022443836,
            0.04140385150535461,
            0.04214821105222092,
            0.03733989636092967,
            0.045942725554159354,
            0.0300738480076654,
            0.03489142791668065,
            0.06997789917048701,
            0.023378679241638996,
            0.06211035891173876,
            0.04962730102428708,
            0.037859030037068926,
            0.03845538173943114,
            0.04410823491610694,
            0.0433871330270387,
            0.033911762821232004,
            0.03761675139888979,
            0.0439668720519423,
            0.05028356863215976,
            0.058779745943885846,
            0.05006077901821536,
            0.03772107889794138,
            0.051259421994036596,
            0.044815097185100586,
            0.03122158817861021,
            0.026846133355196984,
            0.022772963345155117,
            0.036380465736379715,
            0.0577945353761076,
            0.01776726741861129,
            0.04729590971260318,
            0.04052993727654364,
            0.04112719899211437,
            0.033596509049772204,
            0.03361774384659605,
            0.03382978189854881,
            0.02955422469148116,
            0.05368142279590212,
            0.024580042302121057,
            0.016651619770485866,
            0.032639461107650085,
            0.04078247950499527,
            0.048610129006892294,
            0.042871548496231746,
            0.044846303248997924,
            0.036454479406167514,
            0.027542544572686196,
            0.03927209824365754,
            0.046909223264349494,
            0.035396501560122764,
            0.032039489296064386,
            0.04028944250610737,
            0.04187527022188319,
            0.03867412852447274,
            0.05085188987674127,
            0.043672520659143496,
            0.044860062105091976,
            0.04259211319180464,
            0.05272397498589032,
            0.04824443915966785,
            0.05587598289583316,
            0.035540625522188084,
            0.039750396533807006,
            0.030745842341562746,
            0.045909724892088034,
            0.04133072326117567,
            0.033841371450981775,
            0.03364723316496085,
            0.025185249347342373,
            0.08197395555460953
           ]
          },
          {
           "label": "min_data_in_leaf",
           "range": [
            1,
            20
           ],
           "values": [
            9,
            4,
            16,
            7,
            2,
            8,
            8,
            20,
            19,
            6,
            11,
            12,
            14,
            6,
            2,
            8,
            5,
            4,
            1,
            4,
            10,
            4,
            3,
            5,
            1,
            7,
            13,
            13,
            15,
            16,
            17,
            15,
            16,
            15,
            18,
            15,
            17,
            10,
            12,
            19,
            15,
            15,
            16,
            16,
            14,
            17,
            18,
            20,
            14,
            14,
            12,
            15,
            13,
            15,
            14,
            11,
            17,
            18,
            16,
            14,
            19,
            16,
            15,
            13,
            13,
            13,
            12,
            11,
            13,
            9,
            14,
            16,
            16,
            13,
            15,
            17,
            14,
            12,
            16,
            15,
            18,
            16,
            17,
            14,
            15,
            16,
            14,
            13,
            16,
            15,
            17,
            16,
            15,
            16,
            18,
            17,
            17,
            17,
            19,
            18
           ]
          },
          {
           "label": "od_wait",
           "range": [
            509,
            1000
           ],
           "values": [
            524,
            531,
            542,
            714,
            860,
            559,
            923,
            612,
            785,
            890,
            988,
            679,
            736,
            956,
            804,
            695,
            885,
            912,
            952,
            835,
            925,
            841,
            812,
            914,
            984,
            775,
            844,
            873,
            940,
            962,
            999,
            952,
            948,
            962,
            925,
            970,
            894,
            931,
            509,
            1000,
            896,
            969,
            938,
            639,
            661,
            641,
            636,
            574,
            567,
            589,
            537,
            607,
            610,
            556,
            718,
            608,
            515,
            562,
            632,
            680,
            600,
            939,
            978,
            909,
            865,
            869,
            778,
            905,
            762,
            735,
            854,
            943,
            878,
            913,
            808,
            581,
            950,
            525,
            900,
            654,
            926,
            944,
            935,
            985,
            918,
            960,
            961,
            823,
            976,
            889,
            626,
            549,
            941,
            570,
            960,
            593,
            589,
            599,
            653,
            625
           ]
          },
          {
           "label": "one_hot_max_size",
           "range": [
            1,
            3
           ],
           "values": [
            2,
            1,
            1,
            3,
            3,
            3,
            1,
            2,
            3,
            2,
            1,
            2,
            3,
            1,
            2,
            1,
            3,
            2,
            1,
            2,
            1,
            2,
            2,
            2,
            2,
            2,
            1,
            1,
            1,
            1,
            1,
            1,
            1,
            1,
            1,
            1,
            1,
            1,
            1,
            1,
            1,
            1,
            1,
            1,
            1,
            1,
            1,
            1,
            1,
            1,
            1,
            1,
            1,
            1,
            1,
            1,
            1,
            1,
            1,
            1,
            3,
            1,
            1,
            1,
            1,
            1,
            1,
            1,
            1,
            1,
            2,
            1,
            1,
            1,
            1,
            1,
            1,
            1,
            2,
            1,
            1,
            1,
            1,
            1,
            1,
            1,
            1,
            1,
            1,
            1,
            1,
            1,
            1,
            1,
            1,
            1,
            1,
            1,
            1,
            1
           ]
          },
          {
           "label": "random_strength",
           "range": [
            0.016331038933466102,
            9.797418946820763
           ],
           "values": [
            7.963941636861126,
            5.54653879829537,
            5.5244825826448185,
            9.797418946820763,
            8.907232671405092,
            5.0674449919411,
            1.875541305886251,
            2.8493465286776587,
            8.239485310036189,
            2.9863488974115273,
            0.34277995830308683,
            0.1997811403854548,
            2.6005691794190255,
            9.609797969425301,
            6.979662789733915,
            1.8754416860038103,
            6.77423374173827,
            6.4580908531477,
            3.836850414968715,
            4.399323074142472,
            1.1963146969909046,
            4.347549864666926,
            6.673479092071199,
            4.441704870670287,
            3.6319249405330627,
            6.05154595774618,
            1.5385242784015971,
            0.9708628659093109,
            1.3095209260371536,
            1.818207157293077,
            2.129149292062037,
            1.4218353860501618,
            0.5796918449947486,
            2.214332238588404,
            1.198440351245212,
            3.084498375415121,
            0.016331038933466102,
            1.698635692438005,
            2.4562621402179765,
            0.6468520498035768,
            3.151155716568762,
            2.106078162499877,
            1.511459949462578,
            1.342937397344499,
            0.9728447990729735,
            1.2088520542928376,
            0.6534419404510925,
            2.470554634360557,
            1.6152304616166173,
            3.618633865502204,
            2.76918711851249,
            1.4611987852555062,
            2.1287897211750666,
            0.5022833731993921,
            1.454250961771927,
            0.8312380794602887,
            2.0888123794811255,
            0.21058844707617208,
            1.2677120785950384,
            3.278004063981328,
            5.073466495224901,
            1.5778066792781256,
            1.8597013462144314,
            2.448045706579088,
            2.6281935625699804,
            2.678038172906591,
            0.959137453904832,
            2.2755308249164146,
            8.620008001922098,
            7.35406032492721,
            4.024237799941166,
            1.5777956460001474,
            1.8185136955773877,
            1.3017799543973414,
            0.34317760616215454,
            2.8635839898835913,
            3.383978021055963,
            2.4313657387364302,
            0.8888767746757356,
            1.626103256218671,
            1.878048986792395,
            1.4191160715262678,
            1.1051610284585145,
            1.6288568770622152,
            1.8809005370624896,
            0.7638160206504581,
            0.10480144381563794,
            0.6313652097724729,
            0.7715643945011064,
            0.34191808194792617,
            1.020526474879282,
            1.4756221699837322,
            2.326783803319297,
            1.2494010939186557,
            2.5798572374883797,
            2.0302760889823994,
            2.00572076138836,
            1.889213468160978,
            3.005403607431309,
            2.185259435875945
           ]
          },
          {
           "label": "reg_lambda",
           "range": [
            2.0622548187425638,
            99.97057828329757
           ],
           "values": [
            21.852305194804728,
            21.186915319226447,
            40.69896219081721,
            3.075341425407227,
            34.75285511414065,
            98.55667162934469,
            16.463920411537558,
            6.291192154671916,
            36.47772264958165,
            36.13712502143381,
            75.2481070511109,
            2.336904047247414,
            61.74344526395895,
            16.59513692415093,
            2.0622548187425638,
            15.48063875195465,
            57.133338769623194,
            60.04858539583952,
            66.9928523501572,
            81.0740285459043,
            47.444561146517174,
            86.3451470286811,
            75.49325274993235,
            84.62542404993428,
            51.17270273951438,
            70.37874524925877,
            87.97385497704988,
            99.34904074212915,
            90.96016220354429,
            93.42847817222689,
            92.10161629178994,
            91.63310952316147,
            92.64586020741856,
            79.27948118486684,
            94.12765033484214,
            26.010125556982157,
            99.96469715517959,
            89.32559607124597,
            81.63030541019424,
            25.597132660891045,
            68.16464279894191,
            78.31093796564635,
            95.2109489085424,
            95.66755648358604,
            96.22931025671866,
            77.2317608705582,
            83.46169333861121,
            88.90804689389205,
            73.79686696528881,
            72.26810114500461,
            73.48525832841833,
            96.16014450826218,
            90.01701411783057,
            84.92447971146717,
            96.6592475210166,
            65.65908931255457,
            79.7874375716603,
            85.30987580954798,
            90.9404250702514,
            77.52646180108637,
            63.52599727737163,
            95.51865248365483,
            97.40720196857761,
            55.454444387564735,
            57.61841719482612,
            53.24382421154009,
            45.09075827136627,
            56.57897557954057,
            39.5988642796545,
            58.700469540452254,
            63.400487817375875,
            54.93724485321083,
            54.16797882497592,
            48.15808930803078,
            50.33918878220847,
            60.60004950851234,
            45.27275620339827,
            87.81110537793386,
            69.21636113211662,
            53.882324069907185,
            92.99958954113262,
            98.21947139782259,
            93.4124614531569,
            87.43782682263739,
            82.31509584608575,
            32.6179645900546,
            9.045336949320813,
            57.020163944619924,
            39.443229321262805,
            19.1084703416287,
            43.604482662937315,
            32.30517292592704,
            99.97057828329757,
            32.456285743413204,
            94.9502672463058,
            91.42043088968327,
            89.84263831047691,
            73.43503171000043,
            64.91226881514874,
            91.42436488929417
           ]
          },
          {
           "label": "subsample",
           "range": [
            0.10794513020441043,
            0.9943119413888033
           ],
           "values": [
            0.8774376339056253,
            0.9943119413888033,
            0.44301215678393613,
            0.7691260236356651,
            0.11937976493596048,
            0.9430201261018627,
            0.5983734146314776,
            0.3890910185456262,
            0.10794513020441043,
            0.648545621885879,
            0.3019038206508967,
            0.754144719865685,
            0.25175474995526065,
            0.4919630711727736
           ]
          }
         ],
         "labelangle": 30,
         "labelside": "bottom",
         "line": {
          "color": [
           0.7516773694529887,
           0.7687097184324542,
           0.6996276717411747,
           0.8167447585213367,
           0.7803762036960685,
           0.5627046411309183,
           0.8757818096999382,
           0.6682758849688321,
           0.5770693202043317,
           0.5093515803193223,
           0.6444031391986783,
           0.7807148933796354,
           0.8014842300556587,
           0.6382687276201702,
           0.7335684891240447,
           0.6624061847525534,
           0.8233929674043744,
           0.8643341943130611,
           0.8247111159996822,
           0.8386079069308883,
           0.6867479518689196,
           0.6848760783239763,
           0.7485118808433122,
           0.8211640211640212,
           0.7881248923836308,
           0.6878823774439614,
           0.8675809291615875,
           0.7550480661748268,
           0.9003674391045208,
           0.8810839934836366,
           0.709014943122993,
           0.9074486470782679,
           0.8148148148148148,
           0.871707856138236,
           0.6862873134328358,
           0.775696382943084,
           0.7762410171365396,
           0.7612382635869178,
           0.8621067002730518,
           0.7309380474597865,
           0.7215013958004612,
           0.897979797979798,
           0.8978305878116842,
           0.9127104834329169,
           0.82978396073205,
           0.8761414968639304,
           0.6863847087310774,
           0.7348377816259403,
           0.9084916966272898,
           0.7172104170320049,
           0.660279848122627,
           0.937401746236593,
           0.8522797207715707,
           0.676715972464586,
           0.6176190476190476,
           0.7946917735598813,
           0.6457218242482065,
           0.7980568945670834,
           0.8363425925925926,
           0.5436782312508923,
           0.7650448227929513,
           0.8998424588312228,
           0.8795319282364762,
           0.9073375262054507,
           0.9152530953035473,
           0.8233077039047187,
           0.8192604817917767,
           0.8030636292223096,
           0.8043491239752921,
           0.619413668616955,
           0.7193958026650038,
           0.9077048155096935,
           0.8699523952195479,
           0.8870440251572326,
           0.8251887001887003,
           0.8774856683828093,
           0.8422592917764119,
           0.7391087861346861,
           0.756469278978504,
           0.842121920973204,
           0.8177847658979734,
           0.8870440251572326,
           0.8611804653949866,
           0.7770356627499484,
           0.8953349282296651,
           0.9404826815050726,
           0.8335334713595582,
           0.8848799480856586,
           0.7310152318166997,
           0.7962566844919786,
           0.6975412387177093,
           0.864791331548563,
           0.7922217356752461,
           0.8175386882829772,
           0.8848376149531395,
           0.9077488359151875,
           0.9033160993326163,
           0.6866666666666666,
           0.8604477611940299,
           0.7769030212743848
          ],
          "colorbar": {
           "title": {
            "text": "Objective Value"
           }
          },
          "colorscale": [
           [
            0,
            "rgb(247,251,255)"
           ],
           [
            0.125,
            "rgb(222,235,247)"
           ],
           [
            0.25,
            "rgb(198,219,239)"
           ],
           [
            0.375,
            "rgb(158,202,225)"
           ],
           [
            0.5,
            "rgb(107,174,214)"
           ],
           [
            0.625,
            "rgb(66,146,198)"
           ],
           [
            0.75,
            "rgb(33,113,181)"
           ],
           [
            0.875,
            "rgb(8,81,156)"
           ],
           [
            1,
            "rgb(8,48,107)"
           ]
          ],
          "reversescale": false,
          "showscale": true
         },
         "type": "parcoords"
        }
       ],
       "layout": {
        "template": {
         "data": {
          "bar": [
           {
            "error_x": {
             "color": "#2a3f5f"
            },
            "error_y": {
             "color": "#2a3f5f"
            },
            "marker": {
             "line": {
              "color": "#E5ECF6",
              "width": 0.5
             },
             "pattern": {
              "fillmode": "overlay",
              "size": 10,
              "solidity": 0.2
             }
            },
            "type": "bar"
           }
          ],
          "barpolar": [
           {
            "marker": {
             "line": {
              "color": "#E5ECF6",
              "width": 0.5
             },
             "pattern": {
              "fillmode": "overlay",
              "size": 10,
              "solidity": 0.2
             }
            },
            "type": "barpolar"
           }
          ],
          "carpet": [
           {
            "aaxis": {
             "endlinecolor": "#2a3f5f",
             "gridcolor": "white",
             "linecolor": "white",
             "minorgridcolor": "white",
             "startlinecolor": "#2a3f5f"
            },
            "baxis": {
             "endlinecolor": "#2a3f5f",
             "gridcolor": "white",
             "linecolor": "white",
             "minorgridcolor": "white",
             "startlinecolor": "#2a3f5f"
            },
            "type": "carpet"
           }
          ],
          "choropleth": [
           {
            "colorbar": {
             "outlinewidth": 0,
             "ticks": ""
            },
            "type": "choropleth"
           }
          ],
          "contour": [
           {
            "colorbar": {
             "outlinewidth": 0,
             "ticks": ""
            },
            "colorscale": [
             [
              0,
              "#0d0887"
             ],
             [
              0.1111111111111111,
              "#46039f"
             ],
             [
              0.2222222222222222,
              "#7201a8"
             ],
             [
              0.3333333333333333,
              "#9c179e"
             ],
             [
              0.4444444444444444,
              "#bd3786"
             ],
             [
              0.5555555555555556,
              "#d8576b"
             ],
             [
              0.6666666666666666,
              "#ed7953"
             ],
             [
              0.7777777777777778,
              "#fb9f3a"
             ],
             [
              0.8888888888888888,
              "#fdca26"
             ],
             [
              1,
              "#f0f921"
             ]
            ],
            "type": "contour"
           }
          ],
          "contourcarpet": [
           {
            "colorbar": {
             "outlinewidth": 0,
             "ticks": ""
            },
            "type": "contourcarpet"
           }
          ],
          "heatmap": [
           {
            "colorbar": {
             "outlinewidth": 0,
             "ticks": ""
            },
            "colorscale": [
             [
              0,
              "#0d0887"
             ],
             [
              0.1111111111111111,
              "#46039f"
             ],
             [
              0.2222222222222222,
              "#7201a8"
             ],
             [
              0.3333333333333333,
              "#9c179e"
             ],
             [
              0.4444444444444444,
              "#bd3786"
             ],
             [
              0.5555555555555556,
              "#d8576b"
             ],
             [
              0.6666666666666666,
              "#ed7953"
             ],
             [
              0.7777777777777778,
              "#fb9f3a"
             ],
             [
              0.8888888888888888,
              "#fdca26"
             ],
             [
              1,
              "#f0f921"
             ]
            ],
            "type": "heatmap"
           }
          ],
          "heatmapgl": [
           {
            "colorbar": {
             "outlinewidth": 0,
             "ticks": ""
            },
            "colorscale": [
             [
              0,
              "#0d0887"
             ],
             [
              0.1111111111111111,
              "#46039f"
             ],
             [
              0.2222222222222222,
              "#7201a8"
             ],
             [
              0.3333333333333333,
              "#9c179e"
             ],
             [
              0.4444444444444444,
              "#bd3786"
             ],
             [
              0.5555555555555556,
              "#d8576b"
             ],
             [
              0.6666666666666666,
              "#ed7953"
             ],
             [
              0.7777777777777778,
              "#fb9f3a"
             ],
             [
              0.8888888888888888,
              "#fdca26"
             ],
             [
              1,
              "#f0f921"
             ]
            ],
            "type": "heatmapgl"
           }
          ],
          "histogram": [
           {
            "marker": {
             "pattern": {
              "fillmode": "overlay",
              "size": 10,
              "solidity": 0.2
             }
            },
            "type": "histogram"
           }
          ],
          "histogram2d": [
           {
            "colorbar": {
             "outlinewidth": 0,
             "ticks": ""
            },
            "colorscale": [
             [
              0,
              "#0d0887"
             ],
             [
              0.1111111111111111,
              "#46039f"
             ],
             [
              0.2222222222222222,
              "#7201a8"
             ],
             [
              0.3333333333333333,
              "#9c179e"
             ],
             [
              0.4444444444444444,
              "#bd3786"
             ],
             [
              0.5555555555555556,
              "#d8576b"
             ],
             [
              0.6666666666666666,
              "#ed7953"
             ],
             [
              0.7777777777777778,
              "#fb9f3a"
             ],
             [
              0.8888888888888888,
              "#fdca26"
             ],
             [
              1,
              "#f0f921"
             ]
            ],
            "type": "histogram2d"
           }
          ],
          "histogram2dcontour": [
           {
            "colorbar": {
             "outlinewidth": 0,
             "ticks": ""
            },
            "colorscale": [
             [
              0,
              "#0d0887"
             ],
             [
              0.1111111111111111,
              "#46039f"
             ],
             [
              0.2222222222222222,
              "#7201a8"
             ],
             [
              0.3333333333333333,
              "#9c179e"
             ],
             [
              0.4444444444444444,
              "#bd3786"
             ],
             [
              0.5555555555555556,
              "#d8576b"
             ],
             [
              0.6666666666666666,
              "#ed7953"
             ],
             [
              0.7777777777777778,
              "#fb9f3a"
             ],
             [
              0.8888888888888888,
              "#fdca26"
             ],
             [
              1,
              "#f0f921"
             ]
            ],
            "type": "histogram2dcontour"
           }
          ],
          "mesh3d": [
           {
            "colorbar": {
             "outlinewidth": 0,
             "ticks": ""
            },
            "type": "mesh3d"
           }
          ],
          "parcoords": [
           {
            "line": {
             "colorbar": {
              "outlinewidth": 0,
              "ticks": ""
             }
            },
            "type": "parcoords"
           }
          ],
          "pie": [
           {
            "automargin": true,
            "type": "pie"
           }
          ],
          "scatter": [
           {
            "fillpattern": {
             "fillmode": "overlay",
             "size": 10,
             "solidity": 0.2
            },
            "type": "scatter"
           }
          ],
          "scatter3d": [
           {
            "line": {
             "colorbar": {
              "outlinewidth": 0,
              "ticks": ""
             }
            },
            "marker": {
             "colorbar": {
              "outlinewidth": 0,
              "ticks": ""
             }
            },
            "type": "scatter3d"
           }
          ],
          "scattercarpet": [
           {
            "marker": {
             "colorbar": {
              "outlinewidth": 0,
              "ticks": ""
             }
            },
            "type": "scattercarpet"
           }
          ],
          "scattergeo": [
           {
            "marker": {
             "colorbar": {
              "outlinewidth": 0,
              "ticks": ""
             }
            },
            "type": "scattergeo"
           }
          ],
          "scattergl": [
           {
            "marker": {
             "colorbar": {
              "outlinewidth": 0,
              "ticks": ""
             }
            },
            "type": "scattergl"
           }
          ],
          "scattermapbox": [
           {
            "marker": {
             "colorbar": {
              "outlinewidth": 0,
              "ticks": ""
             }
            },
            "type": "scattermapbox"
           }
          ],
          "scatterpolar": [
           {
            "marker": {
             "colorbar": {
              "outlinewidth": 0,
              "ticks": ""
             }
            },
            "type": "scatterpolar"
           }
          ],
          "scatterpolargl": [
           {
            "marker": {
             "colorbar": {
              "outlinewidth": 0,
              "ticks": ""
             }
            },
            "type": "scatterpolargl"
           }
          ],
          "scatterternary": [
           {
            "marker": {
             "colorbar": {
              "outlinewidth": 0,
              "ticks": ""
             }
            },
            "type": "scatterternary"
           }
          ],
          "surface": [
           {
            "colorbar": {
             "outlinewidth": 0,
             "ticks": ""
            },
            "colorscale": [
             [
              0,
              "#0d0887"
             ],
             [
              0.1111111111111111,
              "#46039f"
             ],
             [
              0.2222222222222222,
              "#7201a8"
             ],
             [
              0.3333333333333333,
              "#9c179e"
             ],
             [
              0.4444444444444444,
              "#bd3786"
             ],
             [
              0.5555555555555556,
              "#d8576b"
             ],
             [
              0.6666666666666666,
              "#ed7953"
             ],
             [
              0.7777777777777778,
              "#fb9f3a"
             ],
             [
              0.8888888888888888,
              "#fdca26"
             ],
             [
              1,
              "#f0f921"
             ]
            ],
            "type": "surface"
           }
          ],
          "table": [
           {
            "cells": {
             "fill": {
              "color": "#EBF0F8"
             },
             "line": {
              "color": "white"
             }
            },
            "header": {
             "fill": {
              "color": "#C8D4E3"
             },
             "line": {
              "color": "white"
             }
            },
            "type": "table"
           }
          ]
         },
         "layout": {
          "annotationdefaults": {
           "arrowcolor": "#2a3f5f",
           "arrowhead": 0,
           "arrowwidth": 1
          },
          "autotypenumbers": "strict",
          "coloraxis": {
           "colorbar": {
            "outlinewidth": 0,
            "ticks": ""
           }
          },
          "colorscale": {
           "diverging": [
            [
             0,
             "#8e0152"
            ],
            [
             0.1,
             "#c51b7d"
            ],
            [
             0.2,
             "#de77ae"
            ],
            [
             0.3,
             "#f1b6da"
            ],
            [
             0.4,
             "#fde0ef"
            ],
            [
             0.5,
             "#f7f7f7"
            ],
            [
             0.6,
             "#e6f5d0"
            ],
            [
             0.7,
             "#b8e186"
            ],
            [
             0.8,
             "#7fbc41"
            ],
            [
             0.9,
             "#4d9221"
            ],
            [
             1,
             "#276419"
            ]
           ],
           "sequential": [
            [
             0,
             "#0d0887"
            ],
            [
             0.1111111111111111,
             "#46039f"
            ],
            [
             0.2222222222222222,
             "#7201a8"
            ],
            [
             0.3333333333333333,
             "#9c179e"
            ],
            [
             0.4444444444444444,
             "#bd3786"
            ],
            [
             0.5555555555555556,
             "#d8576b"
            ],
            [
             0.6666666666666666,
             "#ed7953"
            ],
            [
             0.7777777777777778,
             "#fb9f3a"
            ],
            [
             0.8888888888888888,
             "#fdca26"
            ],
            [
             1,
             "#f0f921"
            ]
           ],
           "sequentialminus": [
            [
             0,
             "#0d0887"
            ],
            [
             0.1111111111111111,
             "#46039f"
            ],
            [
             0.2222222222222222,
             "#7201a8"
            ],
            [
             0.3333333333333333,
             "#9c179e"
            ],
            [
             0.4444444444444444,
             "#bd3786"
            ],
            [
             0.5555555555555556,
             "#d8576b"
            ],
            [
             0.6666666666666666,
             "#ed7953"
            ],
            [
             0.7777777777777778,
             "#fb9f3a"
            ],
            [
             0.8888888888888888,
             "#fdca26"
            ],
            [
             1,
             "#f0f921"
            ]
           ]
          },
          "colorway": [
           "#636efa",
           "#EF553B",
           "#00cc96",
           "#ab63fa",
           "#FFA15A",
           "#19d3f3",
           "#FF6692",
           "#B6E880",
           "#FF97FF",
           "#FECB52"
          ],
          "font": {
           "color": "#2a3f5f"
          },
          "geo": {
           "bgcolor": "white",
           "lakecolor": "white",
           "landcolor": "#E5ECF6",
           "showlakes": true,
           "showland": true,
           "subunitcolor": "white"
          },
          "hoverlabel": {
           "align": "left"
          },
          "hovermode": "closest",
          "mapbox": {
           "style": "light"
          },
          "paper_bgcolor": "white",
          "plot_bgcolor": "#E5ECF6",
          "polar": {
           "angularaxis": {
            "gridcolor": "white",
            "linecolor": "white",
            "ticks": ""
           },
           "bgcolor": "#E5ECF6",
           "radialaxis": {
            "gridcolor": "white",
            "linecolor": "white",
            "ticks": ""
           }
          },
          "scene": {
           "xaxis": {
            "backgroundcolor": "#E5ECF6",
            "gridcolor": "white",
            "gridwidth": 2,
            "linecolor": "white",
            "showbackground": true,
            "ticks": "",
            "zerolinecolor": "white"
           },
           "yaxis": {
            "backgroundcolor": "#E5ECF6",
            "gridcolor": "white",
            "gridwidth": 2,
            "linecolor": "white",
            "showbackground": true,
            "ticks": "",
            "zerolinecolor": "white"
           },
           "zaxis": {
            "backgroundcolor": "#E5ECF6",
            "gridcolor": "white",
            "gridwidth": 2,
            "linecolor": "white",
            "showbackground": true,
            "ticks": "",
            "zerolinecolor": "white"
           }
          },
          "shapedefaults": {
           "line": {
            "color": "#2a3f5f"
           }
          },
          "ternary": {
           "aaxis": {
            "gridcolor": "white",
            "linecolor": "white",
            "ticks": ""
           },
           "baxis": {
            "gridcolor": "white",
            "linecolor": "white",
            "ticks": ""
           },
           "bgcolor": "#E5ECF6",
           "caxis": {
            "gridcolor": "white",
            "linecolor": "white",
            "ticks": ""
           }
          },
          "title": {
           "x": 0.05
          },
          "xaxis": {
           "automargin": true,
           "gridcolor": "white",
           "linecolor": "white",
           "ticks": "",
           "title": {
            "standoff": 15
           },
           "zerolinecolor": "white",
           "zerolinewidth": 2
          },
          "yaxis": {
           "automargin": true,
           "gridcolor": "white",
           "linecolor": "white",
           "ticks": "",
           "title": {
            "standoff": 15
           },
           "zerolinecolor": "white",
           "zerolinewidth": 2
          }
         }
        },
        "title": {
         "text": "Parallel Coordinate Plot"
        }
       }
      },
      "text/html": [
       "<div>                            <div id=\"cb569e7b-3929-4fb6-b881-8876b78735e0\" class=\"plotly-graph-div\" style=\"height:525px; width:100%;\"></div>            <script type=\"text/javascript\">                require([\"plotly\"], function(Plotly) {                    window.PLOTLYENV=window.PLOTLYENV || {};                                    if (document.getElementById(\"cb569e7b-3929-4fb6-b881-8876b78735e0\")) {                    Plotly.newPlot(                        \"cb569e7b-3929-4fb6-b881-8876b78735e0\",                        [{\"dimensions\":[{\"label\":\"Objective Value\",\"range\":[0.5093515803193223,0.9404826815050726],\"values\":[0.7516773694529887,0.7687097184324542,0.6996276717411747,0.8167447585213367,0.7803762036960685,0.5627046411309183,0.8757818096999382,0.6682758849688321,0.5770693202043317,0.5093515803193223,0.6444031391986783,0.7807148933796354,0.8014842300556587,0.6382687276201702,0.7335684891240447,0.6624061847525534,0.8233929674043744,0.8643341943130611,0.8247111159996822,0.8386079069308883,0.6867479518689196,0.6848760783239763,0.7485118808433122,0.8211640211640212,0.7881248923836308,0.6878823774439614,0.8675809291615875,0.7550480661748268,0.9003674391045208,0.8810839934836366,0.709014943122993,0.9074486470782679,0.8148148148148148,0.871707856138236,0.6862873134328358,0.775696382943084,0.7762410171365396,0.7612382635869178,0.8621067002730518,0.7309380474597865,0.7215013958004612,0.897979797979798,0.8978305878116842,0.9127104834329169,0.82978396073205,0.8761414968639304,0.6863847087310774,0.7348377816259403,0.9084916966272898,0.7172104170320049,0.660279848122627,0.937401746236593,0.8522797207715707,0.676715972464586,0.6176190476190476,0.7946917735598813,0.6457218242482065,0.7980568945670834,0.8363425925925926,0.5436782312508923,0.7650448227929513,0.8998424588312228,0.8795319282364762,0.9073375262054507,0.9152530953035473,0.8233077039047187,0.8192604817917767,0.8030636292223096,0.8043491239752921,0.619413668616955,0.7193958026650038,0.9077048155096935,0.8699523952195479,0.8870440251572326,0.8251887001887003,0.8774856683828093,0.8422592917764119,0.7391087861346861,0.756469278978504,0.842121920973204,0.8177847658979734,0.8870440251572326,0.8611804653949866,0.7770356627499484,0.8953349282296651,0.9404826815050726,0.8335334713595582,0.8848799480856586,0.7310152318166997,0.7962566844919786,0.6975412387177093,0.864791331548563,0.7922217356752461,0.8175386882829772,0.8848376149531395,0.9077488359151875,0.9033160993326163,0.6866666666666666,0.8604477611940299,0.7769030212743848]},{\"label\":\"bagging_temperature\",\"range\":[0.0038274522597476768,9.9186153475886],\"values\":[0.5665105656940983,2.594395464409657,6.763700952328264,1.1581939810878272,7.191281139273903,4.9189229896170215,9.9186153475886,0.2687450577343897,3.0869481142199504,2.8504209877244744,2.676851552070482,1.607719763564846,3.8984184104592146,1.345235964538046,1.7786273836933493,1.3493663947416374,4.008726853941918,0.0038274522597476768,1.802183735642628,3.8511795002662033,2.2792304073787784,2.03055053380132,6.318604011990656,2.0870977079098583,0.9298504936965724,2.178553570595864,3.19395314954704,4.776020410125115,0.6901169784357912,0.9813891476199632,2.2260087710510934,3.575786740455621,2.2764508609779055,2.3408607182959513,2.34114210644434,2.510627720025382,3.2841654176118737,4.580086521401731,2.282172759942458,5.763737948119312,2.659984978003235,2.7527554041696454,8.879362310283446,0.5355386359026457,4.301997792193292,3.3766689608488623,2.7803327647448084,1.5675819872043633,1.9908217417730758,2.482071558714574,2.9051159768043853,2.4866329993665586,1.5436452251864292,1.2001571026881819,1.6021409669929516,1.4691908043001822,1.8618116072647968,3.6006994376551553,7.8954434537622324,2.639045991563351,3.0003363390292583,1.8940477976836432,5.250595508887738,2.543831781674923,1.1437927409953867,0.6309159990138311,2.1729203747968313,3.063562151836283,2.543657949236909,2.3585332583331953,1.671786990051439,2.6628747847581287,2.075802277050364,1.9902493225391464,1.3594989834576605,3.636794490903474,0.9537998909324357,2.3377368885110106,3.2922308712940396,2.77141592894378,2.0030258113111143,2.4481952028079776,1.726083428979025,0.18726327185722447,1.7469124230402668,2.118485458157875]},{\"label\":\"bootstrap_type\",\"range\":[0,1],\"ticktext\":[\"Bayesian\",\"Bernoulli\"],\"tickvals\":[0,1],\"values\":[0,1,0,1,1,0,0,0,0,1,0,1,1,1,1,0,0,0,0,0,0,0,0,0,0,0,0,0,0,0,0,0,0,0,0,0,0,0,0,0,1,0,0,0,0,0,0,1,0,0,1,0,0,0,0,0,0,0,0,1,0,0,0,0,0,0,0,0,0,0,0,0,0,0,0,0,0,1,0,0,0,0,0,0,0,0,0,0,0,1,0,0,0,0,0,0,0,0,0,0]},{\"label\":\"depth\",\"range\":[3,12],\"values\":[3,10,6,6,7,3,4,6,6,11,9,4,5,8,4,12,5,4,4,8,3,8,9,7,5,9,7,4,5,7,5,7,7,6,3,5,10,7,6,6,3,6,6,6,6,5,6,6,8,8,9,7,8,7,7,8,5,7,9,8,10,6,6,5,5,5,4,5,4,4,5,7,7,7,8,7,5,6,7,8,5,6,6,7,5,6,4,9,6,8,12,6,7,6,5,6,7,7,7,8]},{\"label\":\"leaf_estimation_i...\",\"range\":[1,15],\"values\":[12,1,1,3,9,2,4,1,1,1,6,5,5,7,4,9,15,15,15,12,12,13,13,10,14,11,7,7,8,8,8,7,8,6,4,9,10,3,6,9,8,6,5,5,5,6,3,5,7,7,7,4,4,6,2,6,3,7,2,4,5,5,6,4,3,4,3,2,3,1,10,4,4,2,9,4,3,8,5,7,8,4,5,5,4,5,3,6,9,3,7,5,4,5,5,4,4,4,4,3]},{\"label\":\"learning_rate\",\"range\":[0.010029224741881566,0.09898814602655251],\"values\":[0.04608478312257003,0.0743499319765141,0.035003411450901877,0.06997473852849034,0.07760241795277341,0.038922548665544385,0.09597633772381775,0.07701242922949639,0.018257897030316585,0.02145958661090646,0.09847674769323532,0.09898814602655251,0.06217559239695754,0.0894930758642219,0.063374641049257,0.08773508352422316,0.05654190750494805,0.05521081632225032,0.047932374841552876,0.028590277518267135,0.08661377654168073,0.011030100479157211,0.03244400509228613,0.0266821111203122,0.04702400568532214,0.010029224741881566,0.05249950501437854,0.05459684233388242,0.04112590492636284,0.040172779124240054,0.0408024022443836,0.04140385150535461,0.04214821105222092,0.03733989636092967,0.045942725554159354,0.0300738480076654,0.03489142791668065,0.06997789917048701,0.023378679241638996,0.06211035891173876,0.04962730102428708,0.037859030037068926,0.03845538173943114,0.04410823491610694,0.0433871330270387,0.033911762821232004,0.03761675139888979,0.0439668720519423,0.05028356863215976,0.058779745943885846,0.05006077901821536,0.03772107889794138,0.051259421994036596,0.044815097185100586,0.03122158817861021,0.026846133355196984,0.022772963345155117,0.036380465736379715,0.0577945353761076,0.01776726741861129,0.04729590971260318,0.04052993727654364,0.04112719899211437,0.033596509049772204,0.03361774384659605,0.03382978189854881,0.02955422469148116,0.05368142279590212,0.024580042302121057,0.016651619770485866,0.032639461107650085,0.04078247950499527,0.048610129006892294,0.042871548496231746,0.044846303248997924,0.036454479406167514,0.027542544572686196,0.03927209824365754,0.046909223264349494,0.035396501560122764,0.032039489296064386,0.04028944250610737,0.04187527022188319,0.03867412852447274,0.05085188987674127,0.043672520659143496,0.044860062105091976,0.04259211319180464,0.05272397498589032,0.04824443915966785,0.05587598289583316,0.035540625522188084,0.039750396533807006,0.030745842341562746,0.045909724892088034,0.04133072326117567,0.033841371450981775,0.03364723316496085,0.025185249347342373,0.08197395555460953]},{\"label\":\"min_data_in_leaf\",\"range\":[1,20],\"values\":[9,4,16,7,2,8,8,20,19,6,11,12,14,6,2,8,5,4,1,4,10,4,3,5,1,7,13,13,15,16,17,15,16,15,18,15,17,10,12,19,15,15,16,16,14,17,18,20,14,14,12,15,13,15,14,11,17,18,16,14,19,16,15,13,13,13,12,11,13,9,14,16,16,13,15,17,14,12,16,15,18,16,17,14,15,16,14,13,16,15,17,16,15,16,18,17,17,17,19,18]},{\"label\":\"od_wait\",\"range\":[509,1000],\"values\":[524,531,542,714,860,559,923,612,785,890,988,679,736,956,804,695,885,912,952,835,925,841,812,914,984,775,844,873,940,962,999,952,948,962,925,970,894,931,509,1000,896,969,938,639,661,641,636,574,567,589,537,607,610,556,718,608,515,562,632,680,600,939,978,909,865,869,778,905,762,735,854,943,878,913,808,581,950,525,900,654,926,944,935,985,918,960,961,823,976,889,626,549,941,570,960,593,589,599,653,625]},{\"label\":\"one_hot_max_size\",\"range\":[1,3],\"values\":[2,1,1,3,3,3,1,2,3,2,1,2,3,1,2,1,3,2,1,2,1,2,2,2,2,2,1,1,1,1,1,1,1,1,1,1,1,1,1,1,1,1,1,1,1,1,1,1,1,1,1,1,1,1,1,1,1,1,1,1,3,1,1,1,1,1,1,1,1,1,2,1,1,1,1,1,1,1,2,1,1,1,1,1,1,1,1,1,1,1,1,1,1,1,1,1,1,1,1,1]},{\"label\":\"random_strength\",\"range\":[0.016331038933466102,9.797418946820763],\"values\":[7.963941636861126,5.54653879829537,5.5244825826448185,9.797418946820763,8.907232671405092,5.0674449919411,1.875541305886251,2.8493465286776587,8.239485310036189,2.9863488974115273,0.34277995830308683,0.1997811403854548,2.6005691794190255,9.609797969425301,6.979662789733915,1.8754416860038103,6.77423374173827,6.4580908531477,3.836850414968715,4.399323074142472,1.1963146969909046,4.347549864666926,6.673479092071199,4.441704870670287,3.6319249405330627,6.05154595774618,1.5385242784015971,0.9708628659093109,1.3095209260371536,1.818207157293077,2.129149292062037,1.4218353860501618,0.5796918449947486,2.214332238588404,1.198440351245212,3.084498375415121,0.016331038933466102,1.698635692438005,2.4562621402179765,0.6468520498035768,3.151155716568762,2.106078162499877,1.511459949462578,1.342937397344499,0.9728447990729735,1.2088520542928376,0.6534419404510925,2.470554634360557,1.6152304616166173,3.618633865502204,2.76918711851249,1.4611987852555062,2.1287897211750666,0.5022833731993921,1.454250961771927,0.8312380794602887,2.0888123794811255,0.21058844707617208,1.2677120785950384,3.278004063981328,5.073466495224901,1.5778066792781256,1.8597013462144314,2.448045706579088,2.6281935625699804,2.678038172906591,0.959137453904832,2.2755308249164146,8.620008001922098,7.35406032492721,4.024237799941166,1.5777956460001474,1.8185136955773877,1.3017799543973414,0.34317760616215454,2.8635839898835913,3.383978021055963,2.4313657387364302,0.8888767746757356,1.626103256218671,1.878048986792395,1.4191160715262678,1.1051610284585145,1.6288568770622152,1.8809005370624896,0.7638160206504581,0.10480144381563794,0.6313652097724729,0.7715643945011064,0.34191808194792617,1.020526474879282,1.4756221699837322,2.326783803319297,1.2494010939186557,2.5798572374883797,2.0302760889823994,2.00572076138836,1.889213468160978,3.005403607431309,2.185259435875945]},{\"label\":\"reg_lambda\",\"range\":[2.0622548187425638,99.97057828329757],\"values\":[21.852305194804728,21.186915319226447,40.69896219081721,3.075341425407227,34.75285511414065,98.55667162934469,16.463920411537558,6.291192154671916,36.47772264958165,36.13712502143381,75.2481070511109,2.336904047247414,61.74344526395895,16.59513692415093,2.0622548187425638,15.48063875195465,57.133338769623194,60.04858539583952,66.9928523501572,81.0740285459043,47.444561146517174,86.3451470286811,75.49325274993235,84.62542404993428,51.17270273951438,70.37874524925877,87.97385497704988,99.34904074212915,90.96016220354429,93.42847817222689,92.10161629178994,91.63310952316147,92.64586020741856,79.27948118486684,94.12765033484214,26.010125556982157,99.96469715517959,89.32559607124597,81.63030541019424,25.597132660891045,68.16464279894191,78.31093796564635,95.2109489085424,95.66755648358604,96.22931025671866,77.2317608705582,83.46169333861121,88.90804689389205,73.79686696528881,72.26810114500461,73.48525832841833,96.16014450826218,90.01701411783057,84.92447971146717,96.6592475210166,65.65908931255457,79.7874375716603,85.30987580954798,90.9404250702514,77.52646180108637,63.52599727737163,95.51865248365483,97.40720196857761,55.454444387564735,57.61841719482612,53.24382421154009,45.09075827136627,56.57897557954057,39.5988642796545,58.700469540452254,63.400487817375875,54.93724485321083,54.16797882497592,48.15808930803078,50.33918878220847,60.60004950851234,45.27275620339827,87.81110537793386,69.21636113211662,53.882324069907185,92.99958954113262,98.21947139782259,93.4124614531569,87.43782682263739,82.31509584608575,32.6179645900546,9.045336949320813,57.020163944619924,39.443229321262805,19.1084703416287,43.604482662937315,32.30517292592704,99.97057828329757,32.456285743413204,94.9502672463058,91.42043088968327,89.84263831047691,73.43503171000043,64.91226881514874,91.42436488929417]},{\"label\":\"subsample\",\"range\":[0.10794513020441043,0.9943119413888033],\"values\":[0.8774376339056253,0.9943119413888033,0.44301215678393613,0.7691260236356651,0.11937976493596048,0.9430201261018627,0.5983734146314776,0.3890910185456262,0.10794513020441043,0.648545621885879,0.3019038206508967,0.754144719865685,0.25175474995526065,0.4919630711727736]}],\"labelangle\":30,\"labelside\":\"bottom\",\"line\":{\"color\":[0.7516773694529887,0.7687097184324542,0.6996276717411747,0.8167447585213367,0.7803762036960685,0.5627046411309183,0.8757818096999382,0.6682758849688321,0.5770693202043317,0.5093515803193223,0.6444031391986783,0.7807148933796354,0.8014842300556587,0.6382687276201702,0.7335684891240447,0.6624061847525534,0.8233929674043744,0.8643341943130611,0.8247111159996822,0.8386079069308883,0.6867479518689196,0.6848760783239763,0.7485118808433122,0.8211640211640212,0.7881248923836308,0.6878823774439614,0.8675809291615875,0.7550480661748268,0.9003674391045208,0.8810839934836366,0.709014943122993,0.9074486470782679,0.8148148148148148,0.871707856138236,0.6862873134328358,0.775696382943084,0.7762410171365396,0.7612382635869178,0.8621067002730518,0.7309380474597865,0.7215013958004612,0.897979797979798,0.8978305878116842,0.9127104834329169,0.82978396073205,0.8761414968639304,0.6863847087310774,0.7348377816259403,0.9084916966272898,0.7172104170320049,0.660279848122627,0.937401746236593,0.8522797207715707,0.676715972464586,0.6176190476190476,0.7946917735598813,0.6457218242482065,0.7980568945670834,0.8363425925925926,0.5436782312508923,0.7650448227929513,0.8998424588312228,0.8795319282364762,0.9073375262054507,0.9152530953035473,0.8233077039047187,0.8192604817917767,0.8030636292223096,0.8043491239752921,0.619413668616955,0.7193958026650038,0.9077048155096935,0.8699523952195479,0.8870440251572326,0.8251887001887003,0.8774856683828093,0.8422592917764119,0.7391087861346861,0.756469278978504,0.842121920973204,0.8177847658979734,0.8870440251572326,0.8611804653949866,0.7770356627499484,0.8953349282296651,0.9404826815050726,0.8335334713595582,0.8848799480856586,0.7310152318166997,0.7962566844919786,0.6975412387177093,0.864791331548563,0.7922217356752461,0.8175386882829772,0.8848376149531395,0.9077488359151875,0.9033160993326163,0.6866666666666666,0.8604477611940299,0.7769030212743848],\"colorbar\":{\"title\":{\"text\":\"Objective Value\"}},\"colorscale\":[[0.0,\"rgb(247,251,255)\"],[0.125,\"rgb(222,235,247)\"],[0.25,\"rgb(198,219,239)\"],[0.375,\"rgb(158,202,225)\"],[0.5,\"rgb(107,174,214)\"],[0.625,\"rgb(66,146,198)\"],[0.75,\"rgb(33,113,181)\"],[0.875,\"rgb(8,81,156)\"],[1.0,\"rgb(8,48,107)\"]],\"reversescale\":false,\"showscale\":true},\"type\":\"parcoords\"}],                        {\"title\":{\"text\":\"Parallel Coordinate Plot\"},\"template\":{\"data\":{\"histogram2dcontour\":[{\"type\":\"histogram2dcontour\",\"colorbar\":{\"outlinewidth\":0,\"ticks\":\"\"},\"colorscale\":[[0.0,\"#0d0887\"],[0.1111111111111111,\"#46039f\"],[0.2222222222222222,\"#7201a8\"],[0.3333333333333333,\"#9c179e\"],[0.4444444444444444,\"#bd3786\"],[0.5555555555555556,\"#d8576b\"],[0.6666666666666666,\"#ed7953\"],[0.7777777777777778,\"#fb9f3a\"],[0.8888888888888888,\"#fdca26\"],[1.0,\"#f0f921\"]]}],\"choropleth\":[{\"type\":\"choropleth\",\"colorbar\":{\"outlinewidth\":0,\"ticks\":\"\"}}],\"histogram2d\":[{\"type\":\"histogram2d\",\"colorbar\":{\"outlinewidth\":0,\"ticks\":\"\"},\"colorscale\":[[0.0,\"#0d0887\"],[0.1111111111111111,\"#46039f\"],[0.2222222222222222,\"#7201a8\"],[0.3333333333333333,\"#9c179e\"],[0.4444444444444444,\"#bd3786\"],[0.5555555555555556,\"#d8576b\"],[0.6666666666666666,\"#ed7953\"],[0.7777777777777778,\"#fb9f3a\"],[0.8888888888888888,\"#fdca26\"],[1.0,\"#f0f921\"]]}],\"heatmap\":[{\"type\":\"heatmap\",\"colorbar\":{\"outlinewidth\":0,\"ticks\":\"\"},\"colorscale\":[[0.0,\"#0d0887\"],[0.1111111111111111,\"#46039f\"],[0.2222222222222222,\"#7201a8\"],[0.3333333333333333,\"#9c179e\"],[0.4444444444444444,\"#bd3786\"],[0.5555555555555556,\"#d8576b\"],[0.6666666666666666,\"#ed7953\"],[0.7777777777777778,\"#fb9f3a\"],[0.8888888888888888,\"#fdca26\"],[1.0,\"#f0f921\"]]}],\"heatmapgl\":[{\"type\":\"heatmapgl\",\"colorbar\":{\"outlinewidth\":0,\"ticks\":\"\"},\"colorscale\":[[0.0,\"#0d0887\"],[0.1111111111111111,\"#46039f\"],[0.2222222222222222,\"#7201a8\"],[0.3333333333333333,\"#9c179e\"],[0.4444444444444444,\"#bd3786\"],[0.5555555555555556,\"#d8576b\"],[0.6666666666666666,\"#ed7953\"],[0.7777777777777778,\"#fb9f3a\"],[0.8888888888888888,\"#fdca26\"],[1.0,\"#f0f921\"]]}],\"contourcarpet\":[{\"type\":\"contourcarpet\",\"colorbar\":{\"outlinewidth\":0,\"ticks\":\"\"}}],\"contour\":[{\"type\":\"contour\",\"colorbar\":{\"outlinewidth\":0,\"ticks\":\"\"},\"colorscale\":[[0.0,\"#0d0887\"],[0.1111111111111111,\"#46039f\"],[0.2222222222222222,\"#7201a8\"],[0.3333333333333333,\"#9c179e\"],[0.4444444444444444,\"#bd3786\"],[0.5555555555555556,\"#d8576b\"],[0.6666666666666666,\"#ed7953\"],[0.7777777777777778,\"#fb9f3a\"],[0.8888888888888888,\"#fdca26\"],[1.0,\"#f0f921\"]]}],\"surface\":[{\"type\":\"surface\",\"colorbar\":{\"outlinewidth\":0,\"ticks\":\"\"},\"colorscale\":[[0.0,\"#0d0887\"],[0.1111111111111111,\"#46039f\"],[0.2222222222222222,\"#7201a8\"],[0.3333333333333333,\"#9c179e\"],[0.4444444444444444,\"#bd3786\"],[0.5555555555555556,\"#d8576b\"],[0.6666666666666666,\"#ed7953\"],[0.7777777777777778,\"#fb9f3a\"],[0.8888888888888888,\"#fdca26\"],[1.0,\"#f0f921\"]]}],\"mesh3d\":[{\"type\":\"mesh3d\",\"colorbar\":{\"outlinewidth\":0,\"ticks\":\"\"}}],\"scatter\":[{\"fillpattern\":{\"fillmode\":\"overlay\",\"size\":10,\"solidity\":0.2},\"type\":\"scatter\"}],\"parcoords\":[{\"type\":\"parcoords\",\"line\":{\"colorbar\":{\"outlinewidth\":0,\"ticks\":\"\"}}}],\"scatterpolargl\":[{\"type\":\"scatterpolargl\",\"marker\":{\"colorbar\":{\"outlinewidth\":0,\"ticks\":\"\"}}}],\"bar\":[{\"error_x\":{\"color\":\"#2a3f5f\"},\"error_y\":{\"color\":\"#2a3f5f\"},\"marker\":{\"line\":{\"color\":\"#E5ECF6\",\"width\":0.5},\"pattern\":{\"fillmode\":\"overlay\",\"size\":10,\"solidity\":0.2}},\"type\":\"bar\"}],\"scattergeo\":[{\"type\":\"scattergeo\",\"marker\":{\"colorbar\":{\"outlinewidth\":0,\"ticks\":\"\"}}}],\"scatterpolar\":[{\"type\":\"scatterpolar\",\"marker\":{\"colorbar\":{\"outlinewidth\":0,\"ticks\":\"\"}}}],\"histogram\":[{\"marker\":{\"pattern\":{\"fillmode\":\"overlay\",\"size\":10,\"solidity\":0.2}},\"type\":\"histogram\"}],\"scattergl\":[{\"type\":\"scattergl\",\"marker\":{\"colorbar\":{\"outlinewidth\":0,\"ticks\":\"\"}}}],\"scatter3d\":[{\"type\":\"scatter3d\",\"line\":{\"colorbar\":{\"outlinewidth\":0,\"ticks\":\"\"}},\"marker\":{\"colorbar\":{\"outlinewidth\":0,\"ticks\":\"\"}}}],\"scattermapbox\":[{\"type\":\"scattermapbox\",\"marker\":{\"colorbar\":{\"outlinewidth\":0,\"ticks\":\"\"}}}],\"scatterternary\":[{\"type\":\"scatterternary\",\"marker\":{\"colorbar\":{\"outlinewidth\":0,\"ticks\":\"\"}}}],\"scattercarpet\":[{\"type\":\"scattercarpet\",\"marker\":{\"colorbar\":{\"outlinewidth\":0,\"ticks\":\"\"}}}],\"carpet\":[{\"aaxis\":{\"endlinecolor\":\"#2a3f5f\",\"gridcolor\":\"white\",\"linecolor\":\"white\",\"minorgridcolor\":\"white\",\"startlinecolor\":\"#2a3f5f\"},\"baxis\":{\"endlinecolor\":\"#2a3f5f\",\"gridcolor\":\"white\",\"linecolor\":\"white\",\"minorgridcolor\":\"white\",\"startlinecolor\":\"#2a3f5f\"},\"type\":\"carpet\"}],\"table\":[{\"cells\":{\"fill\":{\"color\":\"#EBF0F8\"},\"line\":{\"color\":\"white\"}},\"header\":{\"fill\":{\"color\":\"#C8D4E3\"},\"line\":{\"color\":\"white\"}},\"type\":\"table\"}],\"barpolar\":[{\"marker\":{\"line\":{\"color\":\"#E5ECF6\",\"width\":0.5},\"pattern\":{\"fillmode\":\"overlay\",\"size\":10,\"solidity\":0.2}},\"type\":\"barpolar\"}],\"pie\":[{\"automargin\":true,\"type\":\"pie\"}]},\"layout\":{\"autotypenumbers\":\"strict\",\"colorway\":[\"#636efa\",\"#EF553B\",\"#00cc96\",\"#ab63fa\",\"#FFA15A\",\"#19d3f3\",\"#FF6692\",\"#B6E880\",\"#FF97FF\",\"#FECB52\"],\"font\":{\"color\":\"#2a3f5f\"},\"hovermode\":\"closest\",\"hoverlabel\":{\"align\":\"left\"},\"paper_bgcolor\":\"white\",\"plot_bgcolor\":\"#E5ECF6\",\"polar\":{\"bgcolor\":\"#E5ECF6\",\"angularaxis\":{\"gridcolor\":\"white\",\"linecolor\":\"white\",\"ticks\":\"\"},\"radialaxis\":{\"gridcolor\":\"white\",\"linecolor\":\"white\",\"ticks\":\"\"}},\"ternary\":{\"bgcolor\":\"#E5ECF6\",\"aaxis\":{\"gridcolor\":\"white\",\"linecolor\":\"white\",\"ticks\":\"\"},\"baxis\":{\"gridcolor\":\"white\",\"linecolor\":\"white\",\"ticks\":\"\"},\"caxis\":{\"gridcolor\":\"white\",\"linecolor\":\"white\",\"ticks\":\"\"}},\"coloraxis\":{\"colorbar\":{\"outlinewidth\":0,\"ticks\":\"\"}},\"colorscale\":{\"sequential\":[[0.0,\"#0d0887\"],[0.1111111111111111,\"#46039f\"],[0.2222222222222222,\"#7201a8\"],[0.3333333333333333,\"#9c179e\"],[0.4444444444444444,\"#bd3786\"],[0.5555555555555556,\"#d8576b\"],[0.6666666666666666,\"#ed7953\"],[0.7777777777777778,\"#fb9f3a\"],[0.8888888888888888,\"#fdca26\"],[1.0,\"#f0f921\"]],\"sequentialminus\":[[0.0,\"#0d0887\"],[0.1111111111111111,\"#46039f\"],[0.2222222222222222,\"#7201a8\"],[0.3333333333333333,\"#9c179e\"],[0.4444444444444444,\"#bd3786\"],[0.5555555555555556,\"#d8576b\"],[0.6666666666666666,\"#ed7953\"],[0.7777777777777778,\"#fb9f3a\"],[0.8888888888888888,\"#fdca26\"],[1.0,\"#f0f921\"]],\"diverging\":[[0,\"#8e0152\"],[0.1,\"#c51b7d\"],[0.2,\"#de77ae\"],[0.3,\"#f1b6da\"],[0.4,\"#fde0ef\"],[0.5,\"#f7f7f7\"],[0.6,\"#e6f5d0\"],[0.7,\"#b8e186\"],[0.8,\"#7fbc41\"],[0.9,\"#4d9221\"],[1,\"#276419\"]]},\"xaxis\":{\"gridcolor\":\"white\",\"linecolor\":\"white\",\"ticks\":\"\",\"title\":{\"standoff\":15},\"zerolinecolor\":\"white\",\"automargin\":true,\"zerolinewidth\":2},\"yaxis\":{\"gridcolor\":\"white\",\"linecolor\":\"white\",\"ticks\":\"\",\"title\":{\"standoff\":15},\"zerolinecolor\":\"white\",\"automargin\":true,\"zerolinewidth\":2},\"scene\":{\"xaxis\":{\"backgroundcolor\":\"#E5ECF6\",\"gridcolor\":\"white\",\"linecolor\":\"white\",\"showbackground\":true,\"ticks\":\"\",\"zerolinecolor\":\"white\",\"gridwidth\":2},\"yaxis\":{\"backgroundcolor\":\"#E5ECF6\",\"gridcolor\":\"white\",\"linecolor\":\"white\",\"showbackground\":true,\"ticks\":\"\",\"zerolinecolor\":\"white\",\"gridwidth\":2},\"zaxis\":{\"backgroundcolor\":\"#E5ECF6\",\"gridcolor\":\"white\",\"linecolor\":\"white\",\"showbackground\":true,\"ticks\":\"\",\"zerolinecolor\":\"white\",\"gridwidth\":2}},\"shapedefaults\":{\"line\":{\"color\":\"#2a3f5f\"}},\"annotationdefaults\":{\"arrowcolor\":\"#2a3f5f\",\"arrowhead\":0,\"arrowwidth\":1},\"geo\":{\"bgcolor\":\"white\",\"landcolor\":\"#E5ECF6\",\"subunitcolor\":\"white\",\"showland\":true,\"showlakes\":true,\"lakecolor\":\"white\"},\"title\":{\"x\":0.05},\"mapbox\":{\"style\":\"light\"}}}},                        {\"responsive\": true}                    ).then(function(){\n",
       "                            \n",
       "var gd = document.getElementById('cb569e7b-3929-4fb6-b881-8876b78735e0');\n",
       "var x = new MutationObserver(function (mutations, observer) {{\n",
       "        var display = window.getComputedStyle(gd).display;\n",
       "        if (!display || display === 'none') {{\n",
       "            console.log([gd, 'removed!']);\n",
       "            Plotly.purge(gd);\n",
       "            observer.disconnect();\n",
       "        }}\n",
       "}});\n",
       "\n",
       "// Listen for the removal of the full notebook cells\n",
       "var notebookContainer = gd.closest('#notebook-container');\n",
       "if (notebookContainer) {{\n",
       "    x.observe(notebookContainer, {childList: true});\n",
       "}}\n",
       "\n",
       "// Listen for the clearing of the current output cell\n",
       "var outputEl = gd.closest('.output');\n",
       "if (outputEl) {{\n",
       "    x.observe(outputEl, {childList: true});\n",
       "}}\n",
       "\n",
       "                        })                };                });            </script>        </div>"
      ]
     },
     "metadata": {},
     "output_type": "display_data"
    }
   ],
   "source": [
    "# 선택된 파라미터 조합 비교\n",
    "fig = optuna.visualization.plot_parallel_coordinate(study)\n",
    "fig.show()"
   ]
  },
  {
   "cell_type": "code",
   "execution_count": 57,
   "id": "1217f24f",
   "metadata": {},
   "outputs": [
    {
     "data": {
      "application/vnd.plotly.v1+json": {
       "config": {
        "plotlyServerURL": "https://plot.ly"
       },
       "data": [
        {
         "cliponaxis": false,
         "hovertemplate": [
          "one_hot_max_size (IntUniformDistribution): 0.007551418448747895<extra></extra>",
          "bootstrap_type (CategoricalDistribution): 0.028998893032750488<extra></extra>",
          "random_strength (UniformDistribution): 0.029090246908931982<extra></extra>",
          "min_data_in_leaf (IntUniformDistribution): 0.03482995190749526<extra></extra>",
          "reg_lambda (UniformDistribution): 0.03775195809020964<extra></extra>",
          "depth (IntUniformDistribution): 0.055170364084278986<extra></extra>",
          "od_wait (IntUniformDistribution): 0.06503443285034828<extra></extra>",
          "leaf_estimation_iterations (IntUniformDistribution): 0.07785324492648428<extra></extra>",
          "learning_rate (UniformDistribution): 0.6637194897507533<extra></extra>"
         ],
         "marker": {
          "color": "rgb(66,146,198)"
         },
         "orientation": "h",
         "text": [
          "0.007551418448747895",
          "0.028998893032750488",
          "0.029090246908931982",
          "0.03482995190749526",
          "0.03775195809020964",
          "0.055170364084278986",
          "0.06503443285034828",
          "0.07785324492648428",
          "0.6637194897507533"
         ],
         "textposition": "outside",
         "texttemplate": "%{text:.2f}",
         "type": "bar",
         "x": [
          0.007551418448747895,
          0.028998893032750488,
          0.029090246908931982,
          0.03482995190749526,
          0.03775195809020964,
          0.055170364084278986,
          0.06503443285034828,
          0.07785324492648428,
          0.6637194897507533
         ],
         "y": [
          "one_hot_max_size",
          "bootstrap_type",
          "random_strength",
          "min_data_in_leaf",
          "reg_lambda",
          "depth",
          "od_wait",
          "leaf_estimation_iterations",
          "learning_rate"
         ]
        }
       ],
       "layout": {
        "showlegend": false,
        "template": {
         "data": {
          "bar": [
           {
            "error_x": {
             "color": "#2a3f5f"
            },
            "error_y": {
             "color": "#2a3f5f"
            },
            "marker": {
             "line": {
              "color": "#E5ECF6",
              "width": 0.5
             },
             "pattern": {
              "fillmode": "overlay",
              "size": 10,
              "solidity": 0.2
             }
            },
            "type": "bar"
           }
          ],
          "barpolar": [
           {
            "marker": {
             "line": {
              "color": "#E5ECF6",
              "width": 0.5
             },
             "pattern": {
              "fillmode": "overlay",
              "size": 10,
              "solidity": 0.2
             }
            },
            "type": "barpolar"
           }
          ],
          "carpet": [
           {
            "aaxis": {
             "endlinecolor": "#2a3f5f",
             "gridcolor": "white",
             "linecolor": "white",
             "minorgridcolor": "white",
             "startlinecolor": "#2a3f5f"
            },
            "baxis": {
             "endlinecolor": "#2a3f5f",
             "gridcolor": "white",
             "linecolor": "white",
             "minorgridcolor": "white",
             "startlinecolor": "#2a3f5f"
            },
            "type": "carpet"
           }
          ],
          "choropleth": [
           {
            "colorbar": {
             "outlinewidth": 0,
             "ticks": ""
            },
            "type": "choropleth"
           }
          ],
          "contour": [
           {
            "colorbar": {
             "outlinewidth": 0,
             "ticks": ""
            },
            "colorscale": [
             [
              0,
              "#0d0887"
             ],
             [
              0.1111111111111111,
              "#46039f"
             ],
             [
              0.2222222222222222,
              "#7201a8"
             ],
             [
              0.3333333333333333,
              "#9c179e"
             ],
             [
              0.4444444444444444,
              "#bd3786"
             ],
             [
              0.5555555555555556,
              "#d8576b"
             ],
             [
              0.6666666666666666,
              "#ed7953"
             ],
             [
              0.7777777777777778,
              "#fb9f3a"
             ],
             [
              0.8888888888888888,
              "#fdca26"
             ],
             [
              1,
              "#f0f921"
             ]
            ],
            "type": "contour"
           }
          ],
          "contourcarpet": [
           {
            "colorbar": {
             "outlinewidth": 0,
             "ticks": ""
            },
            "type": "contourcarpet"
           }
          ],
          "heatmap": [
           {
            "colorbar": {
             "outlinewidth": 0,
             "ticks": ""
            },
            "colorscale": [
             [
              0,
              "#0d0887"
             ],
             [
              0.1111111111111111,
              "#46039f"
             ],
             [
              0.2222222222222222,
              "#7201a8"
             ],
             [
              0.3333333333333333,
              "#9c179e"
             ],
             [
              0.4444444444444444,
              "#bd3786"
             ],
             [
              0.5555555555555556,
              "#d8576b"
             ],
             [
              0.6666666666666666,
              "#ed7953"
             ],
             [
              0.7777777777777778,
              "#fb9f3a"
             ],
             [
              0.8888888888888888,
              "#fdca26"
             ],
             [
              1,
              "#f0f921"
             ]
            ],
            "type": "heatmap"
           }
          ],
          "heatmapgl": [
           {
            "colorbar": {
             "outlinewidth": 0,
             "ticks": ""
            },
            "colorscale": [
             [
              0,
              "#0d0887"
             ],
             [
              0.1111111111111111,
              "#46039f"
             ],
             [
              0.2222222222222222,
              "#7201a8"
             ],
             [
              0.3333333333333333,
              "#9c179e"
             ],
             [
              0.4444444444444444,
              "#bd3786"
             ],
             [
              0.5555555555555556,
              "#d8576b"
             ],
             [
              0.6666666666666666,
              "#ed7953"
             ],
             [
              0.7777777777777778,
              "#fb9f3a"
             ],
             [
              0.8888888888888888,
              "#fdca26"
             ],
             [
              1,
              "#f0f921"
             ]
            ],
            "type": "heatmapgl"
           }
          ],
          "histogram": [
           {
            "marker": {
             "pattern": {
              "fillmode": "overlay",
              "size": 10,
              "solidity": 0.2
             }
            },
            "type": "histogram"
           }
          ],
          "histogram2d": [
           {
            "colorbar": {
             "outlinewidth": 0,
             "ticks": ""
            },
            "colorscale": [
             [
              0,
              "#0d0887"
             ],
             [
              0.1111111111111111,
              "#46039f"
             ],
             [
              0.2222222222222222,
              "#7201a8"
             ],
             [
              0.3333333333333333,
              "#9c179e"
             ],
             [
              0.4444444444444444,
              "#bd3786"
             ],
             [
              0.5555555555555556,
              "#d8576b"
             ],
             [
              0.6666666666666666,
              "#ed7953"
             ],
             [
              0.7777777777777778,
              "#fb9f3a"
             ],
             [
              0.8888888888888888,
              "#fdca26"
             ],
             [
              1,
              "#f0f921"
             ]
            ],
            "type": "histogram2d"
           }
          ],
          "histogram2dcontour": [
           {
            "colorbar": {
             "outlinewidth": 0,
             "ticks": ""
            },
            "colorscale": [
             [
              0,
              "#0d0887"
             ],
             [
              0.1111111111111111,
              "#46039f"
             ],
             [
              0.2222222222222222,
              "#7201a8"
             ],
             [
              0.3333333333333333,
              "#9c179e"
             ],
             [
              0.4444444444444444,
              "#bd3786"
             ],
             [
              0.5555555555555556,
              "#d8576b"
             ],
             [
              0.6666666666666666,
              "#ed7953"
             ],
             [
              0.7777777777777778,
              "#fb9f3a"
             ],
             [
              0.8888888888888888,
              "#fdca26"
             ],
             [
              1,
              "#f0f921"
             ]
            ],
            "type": "histogram2dcontour"
           }
          ],
          "mesh3d": [
           {
            "colorbar": {
             "outlinewidth": 0,
             "ticks": ""
            },
            "type": "mesh3d"
           }
          ],
          "parcoords": [
           {
            "line": {
             "colorbar": {
              "outlinewidth": 0,
              "ticks": ""
             }
            },
            "type": "parcoords"
           }
          ],
          "pie": [
           {
            "automargin": true,
            "type": "pie"
           }
          ],
          "scatter": [
           {
            "fillpattern": {
             "fillmode": "overlay",
             "size": 10,
             "solidity": 0.2
            },
            "type": "scatter"
           }
          ],
          "scatter3d": [
           {
            "line": {
             "colorbar": {
              "outlinewidth": 0,
              "ticks": ""
             }
            },
            "marker": {
             "colorbar": {
              "outlinewidth": 0,
              "ticks": ""
             }
            },
            "type": "scatter3d"
           }
          ],
          "scattercarpet": [
           {
            "marker": {
             "colorbar": {
              "outlinewidth": 0,
              "ticks": ""
             }
            },
            "type": "scattercarpet"
           }
          ],
          "scattergeo": [
           {
            "marker": {
             "colorbar": {
              "outlinewidth": 0,
              "ticks": ""
             }
            },
            "type": "scattergeo"
           }
          ],
          "scattergl": [
           {
            "marker": {
             "colorbar": {
              "outlinewidth": 0,
              "ticks": ""
             }
            },
            "type": "scattergl"
           }
          ],
          "scattermapbox": [
           {
            "marker": {
             "colorbar": {
              "outlinewidth": 0,
              "ticks": ""
             }
            },
            "type": "scattermapbox"
           }
          ],
          "scatterpolar": [
           {
            "marker": {
             "colorbar": {
              "outlinewidth": 0,
              "ticks": ""
             }
            },
            "type": "scatterpolar"
           }
          ],
          "scatterpolargl": [
           {
            "marker": {
             "colorbar": {
              "outlinewidth": 0,
              "ticks": ""
             }
            },
            "type": "scatterpolargl"
           }
          ],
          "scatterternary": [
           {
            "marker": {
             "colorbar": {
              "outlinewidth": 0,
              "ticks": ""
             }
            },
            "type": "scatterternary"
           }
          ],
          "surface": [
           {
            "colorbar": {
             "outlinewidth": 0,
             "ticks": ""
            },
            "colorscale": [
             [
              0,
              "#0d0887"
             ],
             [
              0.1111111111111111,
              "#46039f"
             ],
             [
              0.2222222222222222,
              "#7201a8"
             ],
             [
              0.3333333333333333,
              "#9c179e"
             ],
             [
              0.4444444444444444,
              "#bd3786"
             ],
             [
              0.5555555555555556,
              "#d8576b"
             ],
             [
              0.6666666666666666,
              "#ed7953"
             ],
             [
              0.7777777777777778,
              "#fb9f3a"
             ],
             [
              0.8888888888888888,
              "#fdca26"
             ],
             [
              1,
              "#f0f921"
             ]
            ],
            "type": "surface"
           }
          ],
          "table": [
           {
            "cells": {
             "fill": {
              "color": "#EBF0F8"
             },
             "line": {
              "color": "white"
             }
            },
            "header": {
             "fill": {
              "color": "#C8D4E3"
             },
             "line": {
              "color": "white"
             }
            },
            "type": "table"
           }
          ]
         },
         "layout": {
          "annotationdefaults": {
           "arrowcolor": "#2a3f5f",
           "arrowhead": 0,
           "arrowwidth": 1
          },
          "autotypenumbers": "strict",
          "coloraxis": {
           "colorbar": {
            "outlinewidth": 0,
            "ticks": ""
           }
          },
          "colorscale": {
           "diverging": [
            [
             0,
             "#8e0152"
            ],
            [
             0.1,
             "#c51b7d"
            ],
            [
             0.2,
             "#de77ae"
            ],
            [
             0.3,
             "#f1b6da"
            ],
            [
             0.4,
             "#fde0ef"
            ],
            [
             0.5,
             "#f7f7f7"
            ],
            [
             0.6,
             "#e6f5d0"
            ],
            [
             0.7,
             "#b8e186"
            ],
            [
             0.8,
             "#7fbc41"
            ],
            [
             0.9,
             "#4d9221"
            ],
            [
             1,
             "#276419"
            ]
           ],
           "sequential": [
            [
             0,
             "#0d0887"
            ],
            [
             0.1111111111111111,
             "#46039f"
            ],
            [
             0.2222222222222222,
             "#7201a8"
            ],
            [
             0.3333333333333333,
             "#9c179e"
            ],
            [
             0.4444444444444444,
             "#bd3786"
            ],
            [
             0.5555555555555556,
             "#d8576b"
            ],
            [
             0.6666666666666666,
             "#ed7953"
            ],
            [
             0.7777777777777778,
             "#fb9f3a"
            ],
            [
             0.8888888888888888,
             "#fdca26"
            ],
            [
             1,
             "#f0f921"
            ]
           ],
           "sequentialminus": [
            [
             0,
             "#0d0887"
            ],
            [
             0.1111111111111111,
             "#46039f"
            ],
            [
             0.2222222222222222,
             "#7201a8"
            ],
            [
             0.3333333333333333,
             "#9c179e"
            ],
            [
             0.4444444444444444,
             "#bd3786"
            ],
            [
             0.5555555555555556,
             "#d8576b"
            ],
            [
             0.6666666666666666,
             "#ed7953"
            ],
            [
             0.7777777777777778,
             "#fb9f3a"
            ],
            [
             0.8888888888888888,
             "#fdca26"
            ],
            [
             1,
             "#f0f921"
            ]
           ]
          },
          "colorway": [
           "#636efa",
           "#EF553B",
           "#00cc96",
           "#ab63fa",
           "#FFA15A",
           "#19d3f3",
           "#FF6692",
           "#B6E880",
           "#FF97FF",
           "#FECB52"
          ],
          "font": {
           "color": "#2a3f5f"
          },
          "geo": {
           "bgcolor": "white",
           "lakecolor": "white",
           "landcolor": "#E5ECF6",
           "showlakes": true,
           "showland": true,
           "subunitcolor": "white"
          },
          "hoverlabel": {
           "align": "left"
          },
          "hovermode": "closest",
          "mapbox": {
           "style": "light"
          },
          "paper_bgcolor": "white",
          "plot_bgcolor": "#E5ECF6",
          "polar": {
           "angularaxis": {
            "gridcolor": "white",
            "linecolor": "white",
            "ticks": ""
           },
           "bgcolor": "#E5ECF6",
           "radialaxis": {
            "gridcolor": "white",
            "linecolor": "white",
            "ticks": ""
           }
          },
          "scene": {
           "xaxis": {
            "backgroundcolor": "#E5ECF6",
            "gridcolor": "white",
            "gridwidth": 2,
            "linecolor": "white",
            "showbackground": true,
            "ticks": "",
            "zerolinecolor": "white"
           },
           "yaxis": {
            "backgroundcolor": "#E5ECF6",
            "gridcolor": "white",
            "gridwidth": 2,
            "linecolor": "white",
            "showbackground": true,
            "ticks": "",
            "zerolinecolor": "white"
           },
           "zaxis": {
            "backgroundcolor": "#E5ECF6",
            "gridcolor": "white",
            "gridwidth": 2,
            "linecolor": "white",
            "showbackground": true,
            "ticks": "",
            "zerolinecolor": "white"
           }
          },
          "shapedefaults": {
           "line": {
            "color": "#2a3f5f"
           }
          },
          "ternary": {
           "aaxis": {
            "gridcolor": "white",
            "linecolor": "white",
            "ticks": ""
           },
           "baxis": {
            "gridcolor": "white",
            "linecolor": "white",
            "ticks": ""
           },
           "bgcolor": "#E5ECF6",
           "caxis": {
            "gridcolor": "white",
            "linecolor": "white",
            "ticks": ""
           }
          },
          "title": {
           "x": 0.05
          },
          "xaxis": {
           "automargin": true,
           "gridcolor": "white",
           "linecolor": "white",
           "ticks": "",
           "title": {
            "standoff": 15
           },
           "zerolinecolor": "white",
           "zerolinewidth": 2
          },
          "yaxis": {
           "automargin": true,
           "gridcolor": "white",
           "linecolor": "white",
           "ticks": "",
           "title": {
            "standoff": 15
           },
           "zerolinecolor": "white",
           "zerolinewidth": 2
          }
         }
        },
        "title": {
         "text": "Hyperparameter Importances"
        },
        "xaxis": {
         "title": {
          "text": "Importance for Objective Value"
         }
        },
        "yaxis": {
         "title": {
          "text": "Hyperparameter"
         }
        }
       }
      },
      "text/html": [
       "<div>                            <div id=\"f2673205-9221-4a11-bd9c-4db8d52f9e04\" class=\"plotly-graph-div\" style=\"height:525px; width:100%;\"></div>            <script type=\"text/javascript\">                require([\"plotly\"], function(Plotly) {                    window.PLOTLYENV=window.PLOTLYENV || {};                                    if (document.getElementById(\"f2673205-9221-4a11-bd9c-4db8d52f9e04\")) {                    Plotly.newPlot(                        \"f2673205-9221-4a11-bd9c-4db8d52f9e04\",                        [{\"cliponaxis\":false,\"hovertemplate\":[\"one_hot_max_size (IntUniformDistribution): 0.007551418448747895<extra></extra>\",\"bootstrap_type (CategoricalDistribution): 0.028998893032750488<extra></extra>\",\"random_strength (UniformDistribution): 0.029090246908931982<extra></extra>\",\"min_data_in_leaf (IntUniformDistribution): 0.03482995190749526<extra></extra>\",\"reg_lambda (UniformDistribution): 0.03775195809020964<extra></extra>\",\"depth (IntUniformDistribution): 0.055170364084278986<extra></extra>\",\"od_wait (IntUniformDistribution): 0.06503443285034828<extra></extra>\",\"leaf_estimation_iterations (IntUniformDistribution): 0.07785324492648428<extra></extra>\",\"learning_rate (UniformDistribution): 0.6637194897507533<extra></extra>\"],\"marker\":{\"color\":\"rgb(66,146,198)\"},\"orientation\":\"h\",\"text\":[\"0.007551418448747895\",\"0.028998893032750488\",\"0.029090246908931982\",\"0.03482995190749526\",\"0.03775195809020964\",\"0.055170364084278986\",\"0.06503443285034828\",\"0.07785324492648428\",\"0.6637194897507533\"],\"textposition\":\"outside\",\"texttemplate\":\"%{text:.2f}\",\"x\":[0.007551418448747895,0.028998893032750488,0.029090246908931982,0.03482995190749526,0.03775195809020964,0.055170364084278986,0.06503443285034828,0.07785324492648428,0.6637194897507533],\"y\":[\"one_hot_max_size\",\"bootstrap_type\",\"random_strength\",\"min_data_in_leaf\",\"reg_lambda\",\"depth\",\"od_wait\",\"leaf_estimation_iterations\",\"learning_rate\"],\"type\":\"bar\"}],                        {\"showlegend\":false,\"title\":{\"text\":\"Hyperparameter Importances\"},\"xaxis\":{\"title\":{\"text\":\"Importance for Objective Value\"}},\"yaxis\":{\"title\":{\"text\":\"Hyperparameter\"}},\"template\":{\"data\":{\"histogram2dcontour\":[{\"type\":\"histogram2dcontour\",\"colorbar\":{\"outlinewidth\":0,\"ticks\":\"\"},\"colorscale\":[[0.0,\"#0d0887\"],[0.1111111111111111,\"#46039f\"],[0.2222222222222222,\"#7201a8\"],[0.3333333333333333,\"#9c179e\"],[0.4444444444444444,\"#bd3786\"],[0.5555555555555556,\"#d8576b\"],[0.6666666666666666,\"#ed7953\"],[0.7777777777777778,\"#fb9f3a\"],[0.8888888888888888,\"#fdca26\"],[1.0,\"#f0f921\"]]}],\"choropleth\":[{\"type\":\"choropleth\",\"colorbar\":{\"outlinewidth\":0,\"ticks\":\"\"}}],\"histogram2d\":[{\"type\":\"histogram2d\",\"colorbar\":{\"outlinewidth\":0,\"ticks\":\"\"},\"colorscale\":[[0.0,\"#0d0887\"],[0.1111111111111111,\"#46039f\"],[0.2222222222222222,\"#7201a8\"],[0.3333333333333333,\"#9c179e\"],[0.4444444444444444,\"#bd3786\"],[0.5555555555555556,\"#d8576b\"],[0.6666666666666666,\"#ed7953\"],[0.7777777777777778,\"#fb9f3a\"],[0.8888888888888888,\"#fdca26\"],[1.0,\"#f0f921\"]]}],\"heatmap\":[{\"type\":\"heatmap\",\"colorbar\":{\"outlinewidth\":0,\"ticks\":\"\"},\"colorscale\":[[0.0,\"#0d0887\"],[0.1111111111111111,\"#46039f\"],[0.2222222222222222,\"#7201a8\"],[0.3333333333333333,\"#9c179e\"],[0.4444444444444444,\"#bd3786\"],[0.5555555555555556,\"#d8576b\"],[0.6666666666666666,\"#ed7953\"],[0.7777777777777778,\"#fb9f3a\"],[0.8888888888888888,\"#fdca26\"],[1.0,\"#f0f921\"]]}],\"heatmapgl\":[{\"type\":\"heatmapgl\",\"colorbar\":{\"outlinewidth\":0,\"ticks\":\"\"},\"colorscale\":[[0.0,\"#0d0887\"],[0.1111111111111111,\"#46039f\"],[0.2222222222222222,\"#7201a8\"],[0.3333333333333333,\"#9c179e\"],[0.4444444444444444,\"#bd3786\"],[0.5555555555555556,\"#d8576b\"],[0.6666666666666666,\"#ed7953\"],[0.7777777777777778,\"#fb9f3a\"],[0.8888888888888888,\"#fdca26\"],[1.0,\"#f0f921\"]]}],\"contourcarpet\":[{\"type\":\"contourcarpet\",\"colorbar\":{\"outlinewidth\":0,\"ticks\":\"\"}}],\"contour\":[{\"type\":\"contour\",\"colorbar\":{\"outlinewidth\":0,\"ticks\":\"\"},\"colorscale\":[[0.0,\"#0d0887\"],[0.1111111111111111,\"#46039f\"],[0.2222222222222222,\"#7201a8\"],[0.3333333333333333,\"#9c179e\"],[0.4444444444444444,\"#bd3786\"],[0.5555555555555556,\"#d8576b\"],[0.6666666666666666,\"#ed7953\"],[0.7777777777777778,\"#fb9f3a\"],[0.8888888888888888,\"#fdca26\"],[1.0,\"#f0f921\"]]}],\"surface\":[{\"type\":\"surface\",\"colorbar\":{\"outlinewidth\":0,\"ticks\":\"\"},\"colorscale\":[[0.0,\"#0d0887\"],[0.1111111111111111,\"#46039f\"],[0.2222222222222222,\"#7201a8\"],[0.3333333333333333,\"#9c179e\"],[0.4444444444444444,\"#bd3786\"],[0.5555555555555556,\"#d8576b\"],[0.6666666666666666,\"#ed7953\"],[0.7777777777777778,\"#fb9f3a\"],[0.8888888888888888,\"#fdca26\"],[1.0,\"#f0f921\"]]}],\"mesh3d\":[{\"type\":\"mesh3d\",\"colorbar\":{\"outlinewidth\":0,\"ticks\":\"\"}}],\"scatter\":[{\"fillpattern\":{\"fillmode\":\"overlay\",\"size\":10,\"solidity\":0.2},\"type\":\"scatter\"}],\"parcoords\":[{\"type\":\"parcoords\",\"line\":{\"colorbar\":{\"outlinewidth\":0,\"ticks\":\"\"}}}],\"scatterpolargl\":[{\"type\":\"scatterpolargl\",\"marker\":{\"colorbar\":{\"outlinewidth\":0,\"ticks\":\"\"}}}],\"bar\":[{\"error_x\":{\"color\":\"#2a3f5f\"},\"error_y\":{\"color\":\"#2a3f5f\"},\"marker\":{\"line\":{\"color\":\"#E5ECF6\",\"width\":0.5},\"pattern\":{\"fillmode\":\"overlay\",\"size\":10,\"solidity\":0.2}},\"type\":\"bar\"}],\"scattergeo\":[{\"type\":\"scattergeo\",\"marker\":{\"colorbar\":{\"outlinewidth\":0,\"ticks\":\"\"}}}],\"scatterpolar\":[{\"type\":\"scatterpolar\",\"marker\":{\"colorbar\":{\"outlinewidth\":0,\"ticks\":\"\"}}}],\"histogram\":[{\"marker\":{\"pattern\":{\"fillmode\":\"overlay\",\"size\":10,\"solidity\":0.2}},\"type\":\"histogram\"}],\"scattergl\":[{\"type\":\"scattergl\",\"marker\":{\"colorbar\":{\"outlinewidth\":0,\"ticks\":\"\"}}}],\"scatter3d\":[{\"type\":\"scatter3d\",\"line\":{\"colorbar\":{\"outlinewidth\":0,\"ticks\":\"\"}},\"marker\":{\"colorbar\":{\"outlinewidth\":0,\"ticks\":\"\"}}}],\"scattermapbox\":[{\"type\":\"scattermapbox\",\"marker\":{\"colorbar\":{\"outlinewidth\":0,\"ticks\":\"\"}}}],\"scatterternary\":[{\"type\":\"scatterternary\",\"marker\":{\"colorbar\":{\"outlinewidth\":0,\"ticks\":\"\"}}}],\"scattercarpet\":[{\"type\":\"scattercarpet\",\"marker\":{\"colorbar\":{\"outlinewidth\":0,\"ticks\":\"\"}}}],\"carpet\":[{\"aaxis\":{\"endlinecolor\":\"#2a3f5f\",\"gridcolor\":\"white\",\"linecolor\":\"white\",\"minorgridcolor\":\"white\",\"startlinecolor\":\"#2a3f5f\"},\"baxis\":{\"endlinecolor\":\"#2a3f5f\",\"gridcolor\":\"white\",\"linecolor\":\"white\",\"minorgridcolor\":\"white\",\"startlinecolor\":\"#2a3f5f\"},\"type\":\"carpet\"}],\"table\":[{\"cells\":{\"fill\":{\"color\":\"#EBF0F8\"},\"line\":{\"color\":\"white\"}},\"header\":{\"fill\":{\"color\":\"#C8D4E3\"},\"line\":{\"color\":\"white\"}},\"type\":\"table\"}],\"barpolar\":[{\"marker\":{\"line\":{\"color\":\"#E5ECF6\",\"width\":0.5},\"pattern\":{\"fillmode\":\"overlay\",\"size\":10,\"solidity\":0.2}},\"type\":\"barpolar\"}],\"pie\":[{\"automargin\":true,\"type\":\"pie\"}]},\"layout\":{\"autotypenumbers\":\"strict\",\"colorway\":[\"#636efa\",\"#EF553B\",\"#00cc96\",\"#ab63fa\",\"#FFA15A\",\"#19d3f3\",\"#FF6692\",\"#B6E880\",\"#FF97FF\",\"#FECB52\"],\"font\":{\"color\":\"#2a3f5f\"},\"hovermode\":\"closest\",\"hoverlabel\":{\"align\":\"left\"},\"paper_bgcolor\":\"white\",\"plot_bgcolor\":\"#E5ECF6\",\"polar\":{\"bgcolor\":\"#E5ECF6\",\"angularaxis\":{\"gridcolor\":\"white\",\"linecolor\":\"white\",\"ticks\":\"\"},\"radialaxis\":{\"gridcolor\":\"white\",\"linecolor\":\"white\",\"ticks\":\"\"}},\"ternary\":{\"bgcolor\":\"#E5ECF6\",\"aaxis\":{\"gridcolor\":\"white\",\"linecolor\":\"white\",\"ticks\":\"\"},\"baxis\":{\"gridcolor\":\"white\",\"linecolor\":\"white\",\"ticks\":\"\"},\"caxis\":{\"gridcolor\":\"white\",\"linecolor\":\"white\",\"ticks\":\"\"}},\"coloraxis\":{\"colorbar\":{\"outlinewidth\":0,\"ticks\":\"\"}},\"colorscale\":{\"sequential\":[[0.0,\"#0d0887\"],[0.1111111111111111,\"#46039f\"],[0.2222222222222222,\"#7201a8\"],[0.3333333333333333,\"#9c179e\"],[0.4444444444444444,\"#bd3786\"],[0.5555555555555556,\"#d8576b\"],[0.6666666666666666,\"#ed7953\"],[0.7777777777777778,\"#fb9f3a\"],[0.8888888888888888,\"#fdca26\"],[1.0,\"#f0f921\"]],\"sequentialminus\":[[0.0,\"#0d0887\"],[0.1111111111111111,\"#46039f\"],[0.2222222222222222,\"#7201a8\"],[0.3333333333333333,\"#9c179e\"],[0.4444444444444444,\"#bd3786\"],[0.5555555555555556,\"#d8576b\"],[0.6666666666666666,\"#ed7953\"],[0.7777777777777778,\"#fb9f3a\"],[0.8888888888888888,\"#fdca26\"],[1.0,\"#f0f921\"]],\"diverging\":[[0,\"#8e0152\"],[0.1,\"#c51b7d\"],[0.2,\"#de77ae\"],[0.3,\"#f1b6da\"],[0.4,\"#fde0ef\"],[0.5,\"#f7f7f7\"],[0.6,\"#e6f5d0\"],[0.7,\"#b8e186\"],[0.8,\"#7fbc41\"],[0.9,\"#4d9221\"],[1,\"#276419\"]]},\"xaxis\":{\"gridcolor\":\"white\",\"linecolor\":\"white\",\"ticks\":\"\",\"title\":{\"standoff\":15},\"zerolinecolor\":\"white\",\"automargin\":true,\"zerolinewidth\":2},\"yaxis\":{\"gridcolor\":\"white\",\"linecolor\":\"white\",\"ticks\":\"\",\"title\":{\"standoff\":15},\"zerolinecolor\":\"white\",\"automargin\":true,\"zerolinewidth\":2},\"scene\":{\"xaxis\":{\"backgroundcolor\":\"#E5ECF6\",\"gridcolor\":\"white\",\"linecolor\":\"white\",\"showbackground\":true,\"ticks\":\"\",\"zerolinecolor\":\"white\",\"gridwidth\":2},\"yaxis\":{\"backgroundcolor\":\"#E5ECF6\",\"gridcolor\":\"white\",\"linecolor\":\"white\",\"showbackground\":true,\"ticks\":\"\",\"zerolinecolor\":\"white\",\"gridwidth\":2},\"zaxis\":{\"backgroundcolor\":\"#E5ECF6\",\"gridcolor\":\"white\",\"linecolor\":\"white\",\"showbackground\":true,\"ticks\":\"\",\"zerolinecolor\":\"white\",\"gridwidth\":2}},\"shapedefaults\":{\"line\":{\"color\":\"#2a3f5f\"}},\"annotationdefaults\":{\"arrowcolor\":\"#2a3f5f\",\"arrowhead\":0,\"arrowwidth\":1},\"geo\":{\"bgcolor\":\"white\",\"landcolor\":\"#E5ECF6\",\"subunitcolor\":\"white\",\"showland\":true,\"showlakes\":true,\"lakecolor\":\"white\"},\"title\":{\"x\":0.05},\"mapbox\":{\"style\":\"light\"}}}},                        {\"responsive\": true}                    ).then(function(){\n",
       "                            \n",
       "var gd = document.getElementById('f2673205-9221-4a11-bd9c-4db8d52f9e04');\n",
       "var x = new MutationObserver(function (mutations, observer) {{\n",
       "        var display = window.getComputedStyle(gd).display;\n",
       "        if (!display || display === 'none') {{\n",
       "            console.log([gd, 'removed!']);\n",
       "            Plotly.purge(gd);\n",
       "            observer.disconnect();\n",
       "        }}\n",
       "}});\n",
       "\n",
       "// Listen for the removal of the full notebook cells\n",
       "var notebookContainer = gd.closest('#notebook-container');\n",
       "if (notebookContainer) {{\n",
       "    x.observe(notebookContainer, {childList: true});\n",
       "}}\n",
       "\n",
       "// Listen for the clearing of the current output cell\n",
       "var outputEl = gd.closest('.output');\n",
       "if (outputEl) {{\n",
       "    x.observe(outputEl, {childList: true});\n",
       "}}\n",
       "\n",
       "                        })                };                });            </script>        </div>"
      ]
     },
     "metadata": {},
     "output_type": "display_data"
    }
   ],
   "source": [
    "# 가장 영향력이 큰 파라미터\n",
    "fig = optuna.visualization.plot_param_importances(study)\n",
    "fig.show()"
   ]
  },
  {
   "cell_type": "code",
   "execution_count": 58,
   "id": "a38dccaa",
   "metadata": {},
   "outputs": [],
   "source": [
    "clf = catboost.CatBoostClassifier(**study.best_params, verbose=0, task_type=\"GPU\").fit(train_x, train_y, early_stopping_rounds=100)\n",
    "pred = clf.predict(test)"
   ]
  },
  {
   "cell_type": "code",
   "execution_count": 59,
   "id": "ce8b3a2d",
   "metadata": {},
   "outputs": [
    {
     "data": {
      "text/plain": [
       "1    265\n",
       "0     38\n",
       "2      7\n",
       "Name: Y_Class, dtype: int64"
      ]
     },
     "execution_count": 59,
     "metadata": {},
     "output_type": "execute_result"
    }
   ],
   "source": [
    "subm['Y_Class'] = pred\n",
    "subm.Y_Class.value_counts()"
   ]
  },
  {
   "cell_type": "code",
   "execution_count": null,
   "id": "c65ed737",
   "metadata": {},
   "outputs": [],
   "source": [
    "subm.to_csv('./submission_65.csv', index=False)"
   ]
  },
  {
   "cell_type": "code",
   "execution_count": 60,
   "id": "dd151d8e",
   "metadata": {},
   "outputs": [
    {
     "data": {
      "text/plain": [
       "0.9362433407802029"
      ]
     },
     "execution_count": 60,
     "metadata": {},
     "output_type": "execute_result"
    }
   ],
   "source": [
    "f1_score(pred, test_y, average='macro')"
   ]
  },
  {
   "cell_type": "code",
   "execution_count": 61,
   "id": "78c7a43a",
   "metadata": {},
   "outputs": [
    {
     "name": "stdout",
     "output_type": "stream",
     "text": [
      "1 2 1\n",
      "61 0 1\n",
      "132 1 0\n",
      "151 1 2\n",
      "282 1 0\n"
     ]
    }
   ],
   "source": [
    "for i, (a, b) in enumerate(zip(pred, pd.read_csv('submission_36_feat_del.csv').Y_Class)):\n",
    "    if a[0] != b:\n",
    "        print(i, a[0], b)"
   ]
  },
  {
   "cell_type": "code",
   "execution_count": 65,
   "id": "a040dd8d",
   "metadata": {},
   "outputs": [],
   "source": [
    "clf.save_model('submission_65.cbm', format='cbm')"
   ]
  },
  {
   "cell_type": "code",
   "execution_count": 66,
   "id": "99bcabe7",
   "metadata": {},
   "outputs": [],
   "source": [
    "clf = catboost.CatBoostClassifier()\n",
    "clf.load_model('submission_65.cbm')\n",
    "clf.fit(train_x, train_y)\n",
    "pred = clf.predict(test)"
   ]
  },
  {
   "cell_type": "code",
   "execution_count": 67,
   "id": "4700470c",
   "metadata": {},
   "outputs": [
    {
     "data": {
      "text/plain": [
       "0.9443071106587174"
      ]
     },
     "execution_count": 67,
     "metadata": {},
     "output_type": "execute_result"
    }
   ],
   "source": [
    "f1_score(pred, test_y, average='macro')"
   ]
  },
  {
   "cell_type": "code",
   "execution_count": 68,
   "id": "9d6facd5",
   "metadata": {},
   "outputs": [
    {
     "name": "stdout",
     "output_type": "stream",
     "text": [
      "54 1 0\n",
      "61 0 1\n",
      "132 1 0\n",
      "151 1 2\n",
      "282 1 0\n",
      "283 0 1\n",
      "286 0 1\n"
     ]
    }
   ],
   "source": [
    "for i, (a, b) in enumerate(zip(pred, pd.read_csv('submission_36_feat_del.csv').Y_Class)):\n",
    "    if a[0] != b:\n",
    "        print(i, a[0], b)"
   ]
  }
 ],
 "metadata": {
  "kernelspec": {
   "display_name": "Python 3 (ipykernel)",
   "language": "python",
   "name": "python3"
  },
  "language_info": {
   "codemirror_mode": {
    "name": "ipython",
    "version": 3
   },
   "file_extension": ".py",
   "mimetype": "text/x-python",
   "name": "python",
   "nbconvert_exporter": "python",
   "pygments_lexer": "ipython3",
   "version": "3.9.12"
  }
 },
 "nbformat": 4,
 "nbformat_minor": 5
}
