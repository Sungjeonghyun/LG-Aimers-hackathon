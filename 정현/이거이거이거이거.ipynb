{
 "cells": [
  {
   "cell_type": "markdown",
   "id": "ca5fe9b3",
   "metadata": {},
   "source": [
    "* 환경 : Windows 10 이상, python 3.9 ( 아마 python 3.7 이상이면 동작할 거에요. ) \n",
    "* PC에 엔비디아 그래픽카드가 없다면 Catboost 실행이 안될 거에요. 그땐, Catboost 파라미터 중 task_tpye='GPU'를 지워주시면 돼요.\n",
    "* GPU를 사용하지 않으면, PC의 CPU 자원을 모두 활용하기 때문에, PC가 멈출 수 있어요(렉이 심해지거나).\n",
    "* 그럴 때는 thread_count=(모델이 활용하길 바라는 CPU 개수) ex) thread_count=5 (기본값은 thread_count=-1 로, -1은 모두 사용이란 의미입니다.)\n"
   ]
  },
  {
   "cell_type": "code",
   "execution_count": null,
   "id": "7f839ec0",
   "metadata": {},
   "outputs": [],
   "source": [
    "# # 라이브러리 설치이니 아래 코드들을 주석을 지운 뒤 실행시켜 주시면 돼요. (기존에 설치되어 있는 패키지는 스킵하고 설치됩니다.)\n",
    "# # 주석을 한번에 지우는 방법 ----> 지우고 싶은 줄들을 드래그 하고, ctrl + '/' 를 누르면 한번에 지워져요.\n",
    "\n",
    "# !pip install pandas\n",
    "# !pip install numpy\n",
    "# !pip install scikit-learn\n",
    "# !pip install imblearn\n",
    "# !pip install matplotlib\n",
    "# !pip install seaborn\n",
    "# !pip install missingno\n",
    "# !pip install catboost\n",
    "# !pip install optuna"
   ]
  },
  {
   "cell_type": "code",
   "execution_count": 126,
   "id": "fa7efeb5",
   "metadata": {},
   "outputs": [],
   "source": [
    "# Ignore Warning message\n",
    "import warnings\n",
    "warnings.filterwarnings('ignore')\n",
    "\n",
    "# Random seed fix\n",
    "import os\n",
    "import random\n",
    "\n",
    "# progress bar in repeated code\n",
    "from tqdm import tqdm\n",
    "import pandas as pd\n",
    "import numpy as np\n",
    "\n",
    "# Imputer\n",
    "from sklearn.experimental import enable_iterative_imputer\n",
    "from sklearn.impute import IterativeImputer\n",
    "\n",
    "# Data Scaling\n",
    "from imblearn.over_sampling import BorderlineSMOTE, ADASYN, RandomOverSampler\n",
    "from imblearn.combine import SMOTEENN, SMOTETomek\n",
    "\n",
    "# Permutation Importance\n",
    "import eli5\n",
    "from eli5.sklearn import PermutationImportance\n",
    "\n",
    "# Visualization\n",
    "import matplotlib.pyplot as plt\n",
    "from pylab import rcParams\n",
    "plt.style.use('fivethirtyeight')\n",
    "plt.rc(\"font\", family=\"Malgun Gothic\")\n",
    "plt.rcParams['axes.unicode_minus'] = False\n",
    "%matplotlib inline\n",
    "\n",
    "import seaborn as sns\n",
    "import missingno as msno\n",
    "\n",
    "# Validation\n",
    "from sklearn.model_selection import RepeatedStratifiedKFold\n",
    "from sklearn.model_selection import train_test_split\n",
    "\n",
    "# Scoring\n",
    "from sklearn.metrics import f1_score\n",
    "\n",
    "# Model & AutoML\n",
    "import catboost\n",
    "import optuna"
   ]
  },
  {
   "cell_type": "code",
   "execution_count": 111,
   "id": "7ee207fa",
   "metadata": {},
   "outputs": [],
   "source": [
    "def seed_everything(seed):\n",
    "    random.seed(seed)\n",
    "    os.environ['PYTHONHASHSEED'] = str(seed)\n",
    "    np.random.seed(seed)\n",
    "seed_everything(37) # Seed 고정"
   ]
  },
  {
   "cell_type": "code",
   "execution_count": 112,
   "id": "f2bb4982",
   "metadata": {},
   "outputs": [],
   "source": [
    "train = pd.read_csv('./train.csv')\n",
    "test = pd.read_csv('./test.csv')\n",
    "subm = pd.read_csv('./sample_submission.csv')"
   ]
  },
  {
   "cell_type": "code",
   "execution_count": 113,
   "id": "87a392cc",
   "metadata": {},
   "outputs": [
    {
     "data": {
      "text/html": [
       "<div>\n",
       "<style scoped>\n",
       "    .dataframe tbody tr th:only-of-type {\n",
       "        vertical-align: middle;\n",
       "    }\n",
       "\n",
       "    .dataframe tbody tr th {\n",
       "        vertical-align: top;\n",
       "    }\n",
       "\n",
       "    .dataframe thead th {\n",
       "        text-align: right;\n",
       "    }\n",
       "</style>\n",
       "<table border=\"1\" class=\"dataframe\">\n",
       "  <thead>\n",
       "    <tr style=\"text-align: right;\">\n",
       "      <th></th>\n",
       "      <th>PRODUCT_ID</th>\n",
       "      <th>Y_Class</th>\n",
       "      <th>Y_Quality</th>\n",
       "      <th>TIMESTAMP</th>\n",
       "      <th>LINE</th>\n",
       "      <th>PRODUCT_CODE</th>\n",
       "      <th>X_1</th>\n",
       "      <th>X_2</th>\n",
       "      <th>X_3</th>\n",
       "      <th>X_4</th>\n",
       "      <th>...</th>\n",
       "      <th>X_2866</th>\n",
       "      <th>X_2867</th>\n",
       "      <th>X_2868</th>\n",
       "      <th>X_2869</th>\n",
       "      <th>X_2870</th>\n",
       "      <th>X_2871</th>\n",
       "      <th>X_2872</th>\n",
       "      <th>X_2873</th>\n",
       "      <th>X_2874</th>\n",
       "      <th>X_2875</th>\n",
       "    </tr>\n",
       "  </thead>\n",
       "  <tbody>\n",
       "    <tr>\n",
       "      <th>0</th>\n",
       "      <td>TRAIN_000</td>\n",
       "      <td>1</td>\n",
       "      <td>0.533433</td>\n",
       "      <td>2022-06-13 5:14</td>\n",
       "      <td>T050304</td>\n",
       "      <td>A_31</td>\n",
       "      <td>NaN</td>\n",
       "      <td>NaN</td>\n",
       "      <td>NaN</td>\n",
       "      <td>NaN</td>\n",
       "      <td>...</td>\n",
       "      <td>39.34</td>\n",
       "      <td>40.89</td>\n",
       "      <td>32.56</td>\n",
       "      <td>34.09</td>\n",
       "      <td>77.77</td>\n",
       "      <td>NaN</td>\n",
       "      <td>NaN</td>\n",
       "      <td>NaN</td>\n",
       "      <td>NaN</td>\n",
       "      <td>NaN</td>\n",
       "    </tr>\n",
       "    <tr>\n",
       "      <th>1</th>\n",
       "      <td>TRAIN_001</td>\n",
       "      <td>2</td>\n",
       "      <td>0.541819</td>\n",
       "      <td>2022-06-13 5:22</td>\n",
       "      <td>T050307</td>\n",
       "      <td>A_31</td>\n",
       "      <td>NaN</td>\n",
       "      <td>NaN</td>\n",
       "      <td>NaN</td>\n",
       "      <td>NaN</td>\n",
       "      <td>...</td>\n",
       "      <td>38.89</td>\n",
       "      <td>42.82</td>\n",
       "      <td>43.92</td>\n",
       "      <td>35.34</td>\n",
       "      <td>72.55</td>\n",
       "      <td>NaN</td>\n",
       "      <td>NaN</td>\n",
       "      <td>NaN</td>\n",
       "      <td>NaN</td>\n",
       "      <td>NaN</td>\n",
       "    </tr>\n",
       "    <tr>\n",
       "      <th>2</th>\n",
       "      <td>TRAIN_002</td>\n",
       "      <td>1</td>\n",
       "      <td>0.531267</td>\n",
       "      <td>2022-06-13 5:30</td>\n",
       "      <td>T050304</td>\n",
       "      <td>A_31</td>\n",
       "      <td>NaN</td>\n",
       "      <td>NaN</td>\n",
       "      <td>NaN</td>\n",
       "      <td>NaN</td>\n",
       "      <td>...</td>\n",
       "      <td>39.19</td>\n",
       "      <td>36.65</td>\n",
       "      <td>42.47</td>\n",
       "      <td>36.53</td>\n",
       "      <td>78.35</td>\n",
       "      <td>NaN</td>\n",
       "      <td>NaN</td>\n",
       "      <td>NaN</td>\n",
       "      <td>NaN</td>\n",
       "      <td>NaN</td>\n",
       "    </tr>\n",
       "    <tr>\n",
       "      <th>3</th>\n",
       "      <td>TRAIN_003</td>\n",
       "      <td>2</td>\n",
       "      <td>0.537325</td>\n",
       "      <td>2022-06-13 5:39</td>\n",
       "      <td>T050307</td>\n",
       "      <td>A_31</td>\n",
       "      <td>NaN</td>\n",
       "      <td>NaN</td>\n",
       "      <td>NaN</td>\n",
       "      <td>NaN</td>\n",
       "      <td>...</td>\n",
       "      <td>37.74</td>\n",
       "      <td>39.17</td>\n",
       "      <td>52.17</td>\n",
       "      <td>30.58</td>\n",
       "      <td>71.78</td>\n",
       "      <td>NaN</td>\n",
       "      <td>NaN</td>\n",
       "      <td>NaN</td>\n",
       "      <td>NaN</td>\n",
       "      <td>NaN</td>\n",
       "    </tr>\n",
       "    <tr>\n",
       "      <th>4</th>\n",
       "      <td>TRAIN_004</td>\n",
       "      <td>1</td>\n",
       "      <td>0.531590</td>\n",
       "      <td>2022-06-13 5:47</td>\n",
       "      <td>T050304</td>\n",
       "      <td>A_31</td>\n",
       "      <td>NaN</td>\n",
       "      <td>NaN</td>\n",
       "      <td>NaN</td>\n",
       "      <td>NaN</td>\n",
       "      <td>...</td>\n",
       "      <td>38.70</td>\n",
       "      <td>41.89</td>\n",
       "      <td>46.93</td>\n",
       "      <td>33.09</td>\n",
       "      <td>76.97</td>\n",
       "      <td>NaN</td>\n",
       "      <td>NaN</td>\n",
       "      <td>NaN</td>\n",
       "      <td>NaN</td>\n",
       "      <td>NaN</td>\n",
       "    </tr>\n",
       "  </tbody>\n",
       "</table>\n",
       "<p>5 rows × 2881 columns</p>\n",
       "</div>"
      ],
      "text/plain": [
       "  PRODUCT_ID  Y_Class  Y_Quality        TIMESTAMP     LINE PRODUCT_CODE  X_1  \\\n",
       "0  TRAIN_000        1   0.533433  2022-06-13 5:14  T050304         A_31  NaN   \n",
       "1  TRAIN_001        2   0.541819  2022-06-13 5:22  T050307         A_31  NaN   \n",
       "2  TRAIN_002        1   0.531267  2022-06-13 5:30  T050304         A_31  NaN   \n",
       "3  TRAIN_003        2   0.537325  2022-06-13 5:39  T050307         A_31  NaN   \n",
       "4  TRAIN_004        1   0.531590  2022-06-13 5:47  T050304         A_31  NaN   \n",
       "\n",
       "   X_2  X_3  X_4  ...  X_2866  X_2867  X_2868  X_2869  X_2870  X_2871  X_2872  \\\n",
       "0  NaN  NaN  NaN  ...   39.34   40.89   32.56   34.09   77.77     NaN     NaN   \n",
       "1  NaN  NaN  NaN  ...   38.89   42.82   43.92   35.34   72.55     NaN     NaN   \n",
       "2  NaN  NaN  NaN  ...   39.19   36.65   42.47   36.53   78.35     NaN     NaN   \n",
       "3  NaN  NaN  NaN  ...   37.74   39.17   52.17   30.58   71.78     NaN     NaN   \n",
       "4  NaN  NaN  NaN  ...   38.70   41.89   46.93   33.09   76.97     NaN     NaN   \n",
       "\n",
       "   X_2873  X_2874  X_2875  \n",
       "0     NaN     NaN     NaN  \n",
       "1     NaN     NaN     NaN  \n",
       "2     NaN     NaN     NaN  \n",
       "3     NaN     NaN     NaN  \n",
       "4     NaN     NaN     NaN  \n",
       "\n",
       "[5 rows x 2881 columns]"
      ]
     },
     "execution_count": 113,
     "metadata": {},
     "output_type": "execute_result"
    }
   ],
   "source": [
    "train.head()"
   ]
  },
  {
   "cell_type": "code",
   "execution_count": 114,
   "id": "a79dca04",
   "metadata": {},
   "outputs": [],
   "source": [
    "train['PRODUCT_CODE'] = train['PRODUCT_CODE'].astype('category')\n",
    "train['LINE'] = train['LINE'].astype('category')\n",
    "\n",
    "test['PRODUCT_CODE'] = test['PRODUCT_CODE'].astype('category')\n",
    "test['LINE'] = test['LINE'].astype('category')"
   ]
  },
  {
   "cell_type": "code",
   "execution_count": 115,
   "id": "0a8bfe74",
   "metadata": {},
   "outputs": [],
   "source": [
    "# train에서 열의 유일한 값이 nan이거나 모두 같은 값인 경우 해당 열을 제외\n",
    "def remove_col(train_df, test_df):\n",
    "    for x in train_df.columns[6:]:\n",
    "        if train_df[x].nunique()==0 or (train_df[x].nunique()==1 and len(train_df[x].unique())==1): # nan 이거나 모두 같은 값인 경우\n",
    "            train_df.drop(columns=[x], inplace=True)\n",
    "            test_df.drop(columns=[x], inplace=True)\n",
    "    return train_df, test_df"
   ]
  },
  {
   "cell_type": "code",
   "execution_count": 116,
   "id": "30fd903b",
   "metadata": {},
   "outputs": [],
   "source": [
    "train, test = remove_col(train, test)"
   ]
  },
  {
   "cell_type": "code",
   "execution_count": null,
   "id": "b6fe0cd8",
   "metadata": {},
   "outputs": [],
   "source": []
  },
  {
   "cell_type": "code",
   "execution_count": 117,
   "id": "9b596197",
   "metadata": {},
   "outputs": [],
   "source": [
    "train.drop(columns=['PRODUCT_ID', 'TIMESTAMP', 'Y_Quality'], inplace=True)\n",
    "\n",
    "test = test[train.columns[1:]]"
   ]
  },
  {
   "cell_type": "code",
   "execution_count": 118,
   "id": "a62fbbb8",
   "metadata": {},
   "outputs": [],
   "source": [
    "train_x, train_y = train.drop(columns=['Y_Class']), train['Y_Class']"
   ]
  },
  {
   "cell_type": "code",
   "execution_count": 119,
   "id": "6689b7bd",
   "metadata": {},
   "outputs": [
    {
     "data": {
      "text/html": [
       "<div>\n",
       "<style scoped>\n",
       "    .dataframe tbody tr th:only-of-type {\n",
       "        vertical-align: middle;\n",
       "    }\n",
       "\n",
       "    .dataframe tbody tr th {\n",
       "        vertical-align: top;\n",
       "    }\n",
       "\n",
       "    .dataframe thead th {\n",
       "        text-align: right;\n",
       "    }\n",
       "</style>\n",
       "<table border=\"1\" class=\"dataframe\">\n",
       "  <thead>\n",
       "    <tr style=\"text-align: right;\">\n",
       "      <th></th>\n",
       "      <th>LINE</th>\n",
       "      <th>PRODUCT_CODE</th>\n",
       "      <th>X_1</th>\n",
       "      <th>X_2</th>\n",
       "      <th>X_3</th>\n",
       "      <th>X_4</th>\n",
       "      <th>X_5</th>\n",
       "      <th>X_6</th>\n",
       "      <th>X_7</th>\n",
       "      <th>X_8</th>\n",
       "      <th>...</th>\n",
       "      <th>X_2862</th>\n",
       "      <th>X_2863</th>\n",
       "      <th>X_2864</th>\n",
       "      <th>X_2865</th>\n",
       "      <th>X_2866</th>\n",
       "      <th>X_2867</th>\n",
       "      <th>X_2868</th>\n",
       "      <th>X_2869</th>\n",
       "      <th>X_2870</th>\n",
       "      <th>X_2871</th>\n",
       "    </tr>\n",
       "  </thead>\n",
       "  <tbody>\n",
       "    <tr>\n",
       "      <th>0</th>\n",
       "      <td>T050304</td>\n",
       "      <td>A_31</td>\n",
       "      <td>NaN</td>\n",
       "      <td>NaN</td>\n",
       "      <td>NaN</td>\n",
       "      <td>NaN</td>\n",
       "      <td>NaN</td>\n",
       "      <td>NaN</td>\n",
       "      <td>NaN</td>\n",
       "      <td>NaN</td>\n",
       "      <td>...</td>\n",
       "      <td>189.0</td>\n",
       "      <td>383.0</td>\n",
       "      <td>368.296296</td>\n",
       "      <td>353.0</td>\n",
       "      <td>39.34</td>\n",
       "      <td>40.89</td>\n",
       "      <td>32.56</td>\n",
       "      <td>34.09</td>\n",
       "      <td>77.77</td>\n",
       "      <td>NaN</td>\n",
       "    </tr>\n",
       "    <tr>\n",
       "      <th>1</th>\n",
       "      <td>T050307</td>\n",
       "      <td>A_31</td>\n",
       "      <td>NaN</td>\n",
       "      <td>NaN</td>\n",
       "      <td>NaN</td>\n",
       "      <td>NaN</td>\n",
       "      <td>NaN</td>\n",
       "      <td>NaN</td>\n",
       "      <td>NaN</td>\n",
       "      <td>NaN</td>\n",
       "      <td>...</td>\n",
       "      <td>185.6</td>\n",
       "      <td>383.0</td>\n",
       "      <td>367.735849</td>\n",
       "      <td>353.0</td>\n",
       "      <td>38.89</td>\n",
       "      <td>42.82</td>\n",
       "      <td>43.92</td>\n",
       "      <td>35.34</td>\n",
       "      <td>72.55</td>\n",
       "      <td>NaN</td>\n",
       "    </tr>\n",
       "    <tr>\n",
       "      <th>2</th>\n",
       "      <td>T050304</td>\n",
       "      <td>A_31</td>\n",
       "      <td>NaN</td>\n",
       "      <td>NaN</td>\n",
       "      <td>NaN</td>\n",
       "      <td>NaN</td>\n",
       "      <td>NaN</td>\n",
       "      <td>NaN</td>\n",
       "      <td>NaN</td>\n",
       "      <td>NaN</td>\n",
       "      <td>...</td>\n",
       "      <td>165.5</td>\n",
       "      <td>383.0</td>\n",
       "      <td>367.320755</td>\n",
       "      <td>353.0</td>\n",
       "      <td>39.19</td>\n",
       "      <td>36.65</td>\n",
       "      <td>42.47</td>\n",
       "      <td>36.53</td>\n",
       "      <td>78.35</td>\n",
       "      <td>NaN</td>\n",
       "    </tr>\n",
       "    <tr>\n",
       "      <th>3</th>\n",
       "      <td>T050307</td>\n",
       "      <td>A_31</td>\n",
       "      <td>NaN</td>\n",
       "      <td>NaN</td>\n",
       "      <td>NaN</td>\n",
       "      <td>NaN</td>\n",
       "      <td>NaN</td>\n",
       "      <td>NaN</td>\n",
       "      <td>NaN</td>\n",
       "      <td>NaN</td>\n",
       "      <td>...</td>\n",
       "      <td>165.8</td>\n",
       "      <td>384.0</td>\n",
       "      <td>369.188679</td>\n",
       "      <td>353.0</td>\n",
       "      <td>37.74</td>\n",
       "      <td>39.17</td>\n",
       "      <td>52.17</td>\n",
       "      <td>30.58</td>\n",
       "      <td>71.78</td>\n",
       "      <td>NaN</td>\n",
       "    </tr>\n",
       "    <tr>\n",
       "      <th>4</th>\n",
       "      <td>T050304</td>\n",
       "      <td>A_31</td>\n",
       "      <td>NaN</td>\n",
       "      <td>NaN</td>\n",
       "      <td>NaN</td>\n",
       "      <td>NaN</td>\n",
       "      <td>NaN</td>\n",
       "      <td>NaN</td>\n",
       "      <td>NaN</td>\n",
       "      <td>NaN</td>\n",
       "      <td>...</td>\n",
       "      <td>182.6</td>\n",
       "      <td>383.0</td>\n",
       "      <td>367.351852</td>\n",
       "      <td>352.0</td>\n",
       "      <td>38.70</td>\n",
       "      <td>41.89</td>\n",
       "      <td>46.93</td>\n",
       "      <td>33.09</td>\n",
       "      <td>76.97</td>\n",
       "      <td>NaN</td>\n",
       "    </tr>\n",
       "  </tbody>\n",
       "</table>\n",
       "<p>5 rows × 2795 columns</p>\n",
       "</div>"
      ],
      "text/plain": [
       "      LINE PRODUCT_CODE  X_1  X_2  X_3  X_4  X_5  X_6  X_7  X_8  ...  X_2862  \\\n",
       "0  T050304         A_31  NaN  NaN  NaN  NaN  NaN  NaN  NaN  NaN  ...   189.0   \n",
       "1  T050307         A_31  NaN  NaN  NaN  NaN  NaN  NaN  NaN  NaN  ...   185.6   \n",
       "2  T050304         A_31  NaN  NaN  NaN  NaN  NaN  NaN  NaN  NaN  ...   165.5   \n",
       "3  T050307         A_31  NaN  NaN  NaN  NaN  NaN  NaN  NaN  NaN  ...   165.8   \n",
       "4  T050304         A_31  NaN  NaN  NaN  NaN  NaN  NaN  NaN  NaN  ...   182.6   \n",
       "\n",
       "   X_2863      X_2864  X_2865  X_2866  X_2867  X_2868  X_2869  X_2870  X_2871  \n",
       "0   383.0  368.296296   353.0   39.34   40.89   32.56   34.09   77.77     NaN  \n",
       "1   383.0  367.735849   353.0   38.89   42.82   43.92   35.34   72.55     NaN  \n",
       "2   383.0  367.320755   353.0   39.19   36.65   42.47   36.53   78.35     NaN  \n",
       "3   384.0  369.188679   353.0   37.74   39.17   52.17   30.58   71.78     NaN  \n",
       "4   383.0  367.351852   352.0   38.70   41.89   46.93   33.09   76.97     NaN  \n",
       "\n",
       "[5 rows x 2795 columns]"
      ]
     },
     "execution_count": 119,
     "metadata": {},
     "output_type": "execute_result"
    }
   ],
   "source": [
    "train_x.head()"
   ]
  },
  {
   "cell_type": "markdown",
   "id": "39b2555d",
   "metadata": {},
   "source": [
    "### catboost cv"
   ]
  },
  {
   "cell_type": "code",
   "execution_count": 120,
   "id": "1a908d32",
   "metadata": {},
   "outputs": [
    {
     "data": {
      "text/plain": [
       "1    407\n",
       "2    103\n",
       "0     88\n",
       "Name: Y_Class, dtype: int64"
      ]
     },
     "execution_count": 120,
     "metadata": {},
     "output_type": "execute_result"
    }
   ],
   "source": [
    "train_y.value_counts()"
   ]
  },
  {
   "cell_type": "markdown",
   "id": "513a719e",
   "metadata": {},
   "source": [
    "* RepeatedStratifiedKFold를 활용하면 추후 test set의 결과를 추정할 수 있다.\n",
    "* rskfold를 활용한 결과를 개선해나가는 것이 목표"
   ]
  },
  {
   "cell_type": "code",
   "execution_count": 15,
   "id": "5b9c4025",
   "metadata": {
    "scrolled": true
   },
   "outputs": [
    {
     "name": "stderr",
     "output_type": "stream",
     "text": [
      "15it [05:47, 23.17s/it]"
     ]
    },
    {
     "name": "stdout",
     "output_type": "stream",
     "text": [
      "0.5762430939226518 ~ 0.7513497039359108\n",
      "mean : 0.6719199919417582\n"
     ]
    },
    {
     "name": "stderr",
     "output_type": "stream",
     "text": [
      "\n"
     ]
    }
   ],
   "source": [
    "rskfold = RepeatedStratifiedKFold(n_splits=5, n_repeats=3)\n",
    "\n",
    "f1_list = []\n",
    "for fold, (train_index, val_index) in enumerate(tqdm(rskfold.split(train_x, train_y))):\n",
    "    x_trn, x_val, y_trn, y_val = train_x.loc[train_index], train_x.loc[val_index], train_y.loc[train_index], train_y.loc[val_index]\n",
    "\n",
    "    clf = catboost.CatBoostClassifier(verbose=0, task_type='GPU') # cpu -> thread_count=5\n",
    "    clf.fit(x_trn, y_trn, early_stopping_rounds=100, cat_features=['PRODUCT_CODE', 'LINE'])\n",
    "    f1_list.append(f1_score(clf.predict(x_val), y_val, average='macro'))\n",
    "    \n",
    "print(f'{min(f1_list)} ~ {max(f1_list)}')\n",
    "print('mean :', np.mean(f1_list))"
   ]
  },
  {
   "cell_type": "markdown",
   "id": "6f6de3cb",
   "metadata": {},
   "source": [
    "### Feature importance"
   ]
  },
  {
   "cell_type": "markdown",
   "id": "56cca278",
   "metadata": {},
   "source": [
    "* Permutation Importance를 사용하지 않은 이유는, train_x를 학습한 모델에서의 영향력을 보여주는 지표이기 때문\n",
    "* train에서 영향력이 큰 컬럼일지라도, test에서 같은 컬럼이 value가 nan인 경우만 있을 수 있기 때문에 함부로 제거해서는 안된다.\n",
    "* 따라서, Permutation Importance 에서 해당 컬럼이 영향력이 조금이라도 존재하는 경우 사용하기로 했다.\n",
    "\n",
    "* Feature Importance는 학습된 모델에서 주로 사용된 컬럼들을 나타내기 때문에, 학습에 도움이 되지 않은 컬럼을 지워준다고 해도\n",
    "* test predict에 영향력이 적다. 또한, 줄어든 컬럼으로 학습 방식이 바뀌고, overfit을 완화하여 더 나은 결과를 유도할 수 있다."
   ]
  },
  {
   "cell_type": "code",
   "execution_count": 11,
   "id": "8c06f211",
   "metadata": {},
   "outputs": [
    {
     "data": {
      "image/png": "[encoded data removed]",
      "text/plain": [
       "<Figure size 720x1080 with 1 Axes>"
      ]
     },
     "metadata": {
      "needs_background": "light"
     },
     "output_type": "display_data"
    }
   ],
   "source": [
    "clf = catboost.CatBoostClassifier(verbose=0, task_type='GPU')\n",
    "clf.fit(train_x, train_y, early_stopping_rounds=100, cat_features=['PRODUCT_CODE', 'LINE'])\n",
    "\n",
    "feat = clf.feature_importances_\n",
    "feature_imp = pd.Series(feat, index=train_x.columns).sort_values(ascending=False)[:20].sort_values()\n",
    "\n",
    "plt.rcParams[\"figure.figsize\"] = (10, 15)\n",
    "plt.barh(feature_imp.index, feature_imp)\n",
    "plt.title('Feature_importance')\n",
    "plt.show()"
   ]
  },
  {
   "cell_type": "code",
   "execution_count": 12,
   "id": "2b9d6a22",
   "metadata": {
    "scrolled": false
   },
   "outputs": [
    {
     "data": {
      "text/html": [
       "<div>\n",
       "<style scoped>\n",
       "    .dataframe tbody tr th:only-of-type {\n",
       "        vertical-align: middle;\n",
       "    }\n",
       "\n",
       "    .dataframe tbody tr th {\n",
       "        vertical-align: top;\n",
       "    }\n",
       "\n",
       "    .dataframe thead th {\n",
       "        text-align: right;\n",
       "    }\n",
       "</style>\n",
       "<table border=\"1\" class=\"dataframe\">\n",
       "  <thead>\n",
       "    <tr style=\"text-align: right;\">\n",
       "      <th></th>\n",
       "      <th>X_932</th>\n",
       "      <th>X_121</th>\n",
       "      <th>X_73</th>\n",
       "      <th>X_258</th>\n",
       "      <th>X_318</th>\n",
       "      <th>X_256</th>\n",
       "      <th>X_907</th>\n",
       "      <th>X_189</th>\n",
       "      <th>X_248</th>\n",
       "      <th>X_835</th>\n",
       "      <th>...</th>\n",
       "      <th>X_2068</th>\n",
       "      <th>X_1922</th>\n",
       "      <th>X_2865</th>\n",
       "      <th>X_2040</th>\n",
       "      <th>X_2412</th>\n",
       "      <th>X_931</th>\n",
       "      <th>X_1762</th>\n",
       "      <th>X_1930</th>\n",
       "      <th>X_564</th>\n",
       "      <th>X_981</th>\n",
       "    </tr>\n",
       "  </thead>\n",
       "  <tbody>\n",
       "    <tr>\n",
       "      <th>0</th>\n",
       "      <td>NaN</td>\n",
       "      <td>NaN</td>\n",
       "      <td>NaN</td>\n",
       "      <td>NaN</td>\n",
       "      <td>NaN</td>\n",
       "      <td>NaN</td>\n",
       "      <td>NaN</td>\n",
       "      <td>8.23</td>\n",
       "      <td>NaN</td>\n",
       "      <td>NaN</td>\n",
       "      <td>...</td>\n",
       "      <td>0.000008</td>\n",
       "      <td>0.000000</td>\n",
       "      <td>353.0</td>\n",
       "      <td>0.000022</td>\n",
       "      <td>1.1</td>\n",
       "      <td>NaN</td>\n",
       "      <td>0.036773</td>\n",
       "      <td>0.000000</td>\n",
       "      <td>NaN</td>\n",
       "      <td>13.8</td>\n",
       "    </tr>\n",
       "    <tr>\n",
       "      <th>1</th>\n",
       "      <td>NaN</td>\n",
       "      <td>NaN</td>\n",
       "      <td>NaN</td>\n",
       "      <td>NaN</td>\n",
       "      <td>NaN</td>\n",
       "      <td>NaN</td>\n",
       "      <td>NaN</td>\n",
       "      <td>8.00</td>\n",
       "      <td>NaN</td>\n",
       "      <td>NaN</td>\n",
       "      <td>...</td>\n",
       "      <td>0.000003</td>\n",
       "      <td>0.453569</td>\n",
       "      <td>353.0</td>\n",
       "      <td>0.000004</td>\n",
       "      <td>1.1</td>\n",
       "      <td>NaN</td>\n",
       "      <td>0.062509</td>\n",
       "      <td>0.036011</td>\n",
       "      <td>NaN</td>\n",
       "      <td>13.8</td>\n",
       "    </tr>\n",
       "    <tr>\n",
       "      <th>2</th>\n",
       "      <td>NaN</td>\n",
       "      <td>NaN</td>\n",
       "      <td>NaN</td>\n",
       "      <td>NaN</td>\n",
       "      <td>NaN</td>\n",
       "      <td>NaN</td>\n",
       "      <td>NaN</td>\n",
       "      <td>8.23</td>\n",
       "      <td>NaN</td>\n",
       "      <td>NaN</td>\n",
       "      <td>...</td>\n",
       "      <td>0.000009</td>\n",
       "      <td>0.000000</td>\n",
       "      <td>353.0</td>\n",
       "      <td>0.000021</td>\n",
       "      <td>1.1</td>\n",
       "      <td>NaN</td>\n",
       "      <td>0.030454</td>\n",
       "      <td>0.000000</td>\n",
       "      <td>NaN</td>\n",
       "      <td>13.8</td>\n",
       "    </tr>\n",
       "    <tr>\n",
       "      <th>3</th>\n",
       "      <td>NaN</td>\n",
       "      <td>NaN</td>\n",
       "      <td>NaN</td>\n",
       "      <td>NaN</td>\n",
       "      <td>NaN</td>\n",
       "      <td>NaN</td>\n",
       "      <td>NaN</td>\n",
       "      <td>8.00</td>\n",
       "      <td>NaN</td>\n",
       "      <td>NaN</td>\n",
       "      <td>...</td>\n",
       "      <td>0.000002</td>\n",
       "      <td>0.000000</td>\n",
       "      <td>353.0</td>\n",
       "      <td>0.000003</td>\n",
       "      <td>1.1</td>\n",
       "      <td>NaN</td>\n",
       "      <td>0.064830</td>\n",
       "      <td>0.000000</td>\n",
       "      <td>NaN</td>\n",
       "      <td>13.7</td>\n",
       "    </tr>\n",
       "    <tr>\n",
       "      <th>4</th>\n",
       "      <td>NaN</td>\n",
       "      <td>NaN</td>\n",
       "      <td>NaN</td>\n",
       "      <td>NaN</td>\n",
       "      <td>NaN</td>\n",
       "      <td>NaN</td>\n",
       "      <td>NaN</td>\n",
       "      <td>8.23</td>\n",
       "      <td>NaN</td>\n",
       "      <td>NaN</td>\n",
       "      <td>...</td>\n",
       "      <td>0.000008</td>\n",
       "      <td>0.000000</td>\n",
       "      <td>352.0</td>\n",
       "      <td>0.000020</td>\n",
       "      <td>1.1</td>\n",
       "      <td>NaN</td>\n",
       "      <td>0.029483</td>\n",
       "      <td>0.000000</td>\n",
       "      <td>NaN</td>\n",
       "      <td>13.8</td>\n",
       "    </tr>\n",
       "    <tr>\n",
       "      <th>...</th>\n",
       "      <td>...</td>\n",
       "      <td>...</td>\n",
       "      <td>...</td>\n",
       "      <td>...</td>\n",
       "      <td>...</td>\n",
       "      <td>...</td>\n",
       "      <td>...</td>\n",
       "      <td>...</td>\n",
       "      <td>...</td>\n",
       "      <td>...</td>\n",
       "      <td>...</td>\n",
       "      <td>...</td>\n",
       "      <td>...</td>\n",
       "      <td>...</td>\n",
       "      <td>...</td>\n",
       "      <td>...</td>\n",
       "      <td>...</td>\n",
       "      <td>...</td>\n",
       "      <td>...</td>\n",
       "      <td>...</td>\n",
       "      <td>...</td>\n",
       "    </tr>\n",
       "    <tr>\n",
       "      <th>593</th>\n",
       "      <td>13.351613</td>\n",
       "      <td>34.1</td>\n",
       "      <td>10.09</td>\n",
       "      <td>NaN</td>\n",
       "      <td>NaN</td>\n",
       "      <td>NaN</td>\n",
       "      <td>17.276452</td>\n",
       "      <td>NaN</td>\n",
       "      <td>NaN</td>\n",
       "      <td>9.096774</td>\n",
       "      <td>...</td>\n",
       "      <td>NaN</td>\n",
       "      <td>NaN</td>\n",
       "      <td>NaN</td>\n",
       "      <td>NaN</td>\n",
       "      <td>NaN</td>\n",
       "      <td>13.6</td>\n",
       "      <td>NaN</td>\n",
       "      <td>NaN</td>\n",
       "      <td>15.0</td>\n",
       "      <td>NaN</td>\n",
       "    </tr>\n",
       "    <tr>\n",
       "      <th>594</th>\n",
       "      <td>NaN</td>\n",
       "      <td>NaN</td>\n",
       "      <td>NaN</td>\n",
       "      <td>NaN</td>\n",
       "      <td>NaN</td>\n",
       "      <td>NaN</td>\n",
       "      <td>NaN</td>\n",
       "      <td>8.06</td>\n",
       "      <td>NaN</td>\n",
       "      <td>NaN</td>\n",
       "      <td>...</td>\n",
       "      <td>NaN</td>\n",
       "      <td>0.000000</td>\n",
       "      <td>353.0</td>\n",
       "      <td>NaN</td>\n",
       "      <td>1.1</td>\n",
       "      <td>NaN</td>\n",
       "      <td>0.019844</td>\n",
       "      <td>0.000000</td>\n",
       "      <td>NaN</td>\n",
       "      <td>13.8</td>\n",
       "    </tr>\n",
       "    <tr>\n",
       "      <th>595</th>\n",
       "      <td>NaN</td>\n",
       "      <td>NaN</td>\n",
       "      <td>NaN</td>\n",
       "      <td>NaN</td>\n",
       "      <td>NaN</td>\n",
       "      <td>NaN</td>\n",
       "      <td>NaN</td>\n",
       "      <td>8.06</td>\n",
       "      <td>NaN</td>\n",
       "      <td>NaN</td>\n",
       "      <td>...</td>\n",
       "      <td>NaN</td>\n",
       "      <td>0.000000</td>\n",
       "      <td>352.0</td>\n",
       "      <td>NaN</td>\n",
       "      <td>1.1</td>\n",
       "      <td>NaN</td>\n",
       "      <td>0.027558</td>\n",
       "      <td>0.000000</td>\n",
       "      <td>NaN</td>\n",
       "      <td>13.8</td>\n",
       "    </tr>\n",
       "    <tr>\n",
       "      <th>596</th>\n",
       "      <td>13.406667</td>\n",
       "      <td>33.7</td>\n",
       "      <td>10.22</td>\n",
       "      <td>NaN</td>\n",
       "      <td>NaN</td>\n",
       "      <td>NaN</td>\n",
       "      <td>17.277000</td>\n",
       "      <td>NaN</td>\n",
       "      <td>NaN</td>\n",
       "      <td>9.533333</td>\n",
       "      <td>...</td>\n",
       "      <td>NaN</td>\n",
       "      <td>NaN</td>\n",
       "      <td>NaN</td>\n",
       "      <td>NaN</td>\n",
       "      <td>NaN</td>\n",
       "      <td>13.6</td>\n",
       "      <td>NaN</td>\n",
       "      <td>NaN</td>\n",
       "      <td>15.0</td>\n",
       "      <td>NaN</td>\n",
       "    </tr>\n",
       "    <tr>\n",
       "      <th>597</th>\n",
       "      <td>13.380000</td>\n",
       "      <td>34.1</td>\n",
       "      <td>10.09</td>\n",
       "      <td>NaN</td>\n",
       "      <td>NaN</td>\n",
       "      <td>NaN</td>\n",
       "      <td>17.278667</td>\n",
       "      <td>NaN</td>\n",
       "      <td>NaN</td>\n",
       "      <td>9.033333</td>\n",
       "      <td>...</td>\n",
       "      <td>NaN</td>\n",
       "      <td>NaN</td>\n",
       "      <td>NaN</td>\n",
       "      <td>NaN</td>\n",
       "      <td>NaN</td>\n",
       "      <td>13.6</td>\n",
       "      <td>NaN</td>\n",
       "      <td>NaN</td>\n",
       "      <td>14.0</td>\n",
       "      <td>NaN</td>\n",
       "    </tr>\n",
       "  </tbody>\n",
       "</table>\n",
       "<p>598 rows × 969 columns</p>\n",
       "</div>"
      ],
      "text/plain": [
       "         X_932  X_121   X_73  X_258  X_318  X_256      X_907  X_189  X_248  \\\n",
       "0          NaN    NaN    NaN    NaN    NaN    NaN        NaN   8.23    NaN   \n",
       "1          NaN    NaN    NaN    NaN    NaN    NaN        NaN   8.00    NaN   \n",
       "2          NaN    NaN    NaN    NaN    NaN    NaN        NaN   8.23    NaN   \n",
       "3          NaN    NaN    NaN    NaN    NaN    NaN        NaN   8.00    NaN   \n",
       "4          NaN    NaN    NaN    NaN    NaN    NaN        NaN   8.23    NaN   \n",
       "..         ...    ...    ...    ...    ...    ...        ...    ...    ...   \n",
       "593  13.351613   34.1  10.09    NaN    NaN    NaN  17.276452    NaN    NaN   \n",
       "594        NaN    NaN    NaN    NaN    NaN    NaN        NaN   8.06    NaN   \n",
       "595        NaN    NaN    NaN    NaN    NaN    NaN        NaN   8.06    NaN   \n",
       "596  13.406667   33.7  10.22    NaN    NaN    NaN  17.277000    NaN    NaN   \n",
       "597  13.380000   34.1  10.09    NaN    NaN    NaN  17.278667    NaN    NaN   \n",
       "\n",
       "        X_835  ...    X_2068    X_1922  X_2865    X_2040  X_2412  X_931  \\\n",
       "0         NaN  ...  0.000008  0.000000   353.0  0.000022     1.1    NaN   \n",
       "1         NaN  ...  0.000003  0.453569   353.0  0.000004     1.1    NaN   \n",
       "2         NaN  ...  0.000009  0.000000   353.0  0.000021     1.1    NaN   \n",
       "3         NaN  ...  0.000002  0.000000   353.0  0.000003     1.1    NaN   \n",
       "4         NaN  ...  0.000008  0.000000   352.0  0.000020     1.1    NaN   \n",
       "..        ...  ...       ...       ...     ...       ...     ...    ...   \n",
       "593  9.096774  ...       NaN       NaN     NaN       NaN     NaN   13.6   \n",
       "594       NaN  ...       NaN  0.000000   353.0       NaN     1.1    NaN   \n",
       "595       NaN  ...       NaN  0.000000   352.0       NaN     1.1    NaN   \n",
       "596  9.533333  ...       NaN       NaN     NaN       NaN     NaN   13.6   \n",
       "597  9.033333  ...       NaN       NaN     NaN       NaN     NaN   13.6   \n",
       "\n",
       "       X_1762    X_1930  X_564  X_981  \n",
       "0    0.036773  0.000000    NaN   13.8  \n",
       "1    0.062509  0.036011    NaN   13.8  \n",
       "2    0.030454  0.000000    NaN   13.8  \n",
       "3    0.064830  0.000000    NaN   13.7  \n",
       "4    0.029483  0.000000    NaN   13.8  \n",
       "..        ...       ...    ...    ...  \n",
       "593       NaN       NaN   15.0    NaN  \n",
       "594  0.019844  0.000000    NaN   13.8  \n",
       "595  0.027558  0.000000    NaN   13.8  \n",
       "596       NaN       NaN   15.0    NaN  \n",
       "597       NaN       NaN   14.0    NaN  \n",
       "\n",
       "[598 rows x 969 columns]"
      ]
     },
     "execution_count": 12,
     "metadata": {},
     "output_type": "execute_result"
    }
   ],
   "source": [
    "# # feature_importance > 0 인 컬럼만 선택\n",
    "# tmp = pd.Series(feat[feat > 0], index=train_x.columns[feat > 0]).sort_values(ascending=False)[:]\n",
    "# train_x = train_x[tmp.index]\n",
    "# test = test[train_x.columns]\n",
    "# train_x"
   ]
  },
  {
   "cell_type": "code",
   "execution_count": null,
   "id": "04500ff2",
   "metadata": {},
   "outputs": [],
   "source": []
  },
  {
   "cell_type": "code",
   "execution_count": 129,
   "id": "9a7982b9",
   "metadata": {},
   "outputs": [
    {
     "name": "stderr",
     "output_type": "stream",
     "text": [
      "0it [00:00, ?it/s]Exception ignored in: <generator object tqdm.__iter__ at 0x000001ECF4E0D190>\n",
      "Traceback (most recent call last):\n",
      "  File \"C:\\Users\\sajah\\anaconda3\\envs\\py39\\lib\\site-packages\\tqdm\\std.py\", line 1210, in __iter__\n",
      "    self.close()\n",
      "  File \"C:\\Users\\sajah\\anaconda3\\envs\\py39\\lib\\site-packages\\tqdm\\std.py\", line 1304, in close\n",
      "    fp_write('')\n",
      "  File \"C:\\Users\\sajah\\anaconda3\\envs\\py39\\lib\\site-packages\\tqdm\\std.py\", line 1301, in fp_write\n",
      "    self.fp.write(_unicode(s))\n",
      "  File \"C:\\Users\\sajah\\anaconda3\\envs\\py39\\lib\\site-packages\\tqdm\\utils.py\", line 145, in inner\n",
      "    return func(*args, **kwargs)\n",
      "  File \"C:\\Users\\sajah\\anaconda3\\envs\\py39\\lib\\site-packages\\ipykernel\\iostream.py\", line 531, in write\n",
      "    self.pub_thread.schedule(lambda: self._buffer.write(string))\n",
      "  File \"C:\\Users\\sajah\\anaconda3\\envs\\py39\\lib\\site-packages\\ipykernel\\iostream.py\", line 216, in schedule\n",
      "    self._event_pipe.send(b'')\n",
      "  File \"C:\\Users\\sajah\\anaconda3\\envs\\py39\\lib\\site-packages\\zmq\\sugar\\socket.py\", line 618, in send\n",
      "    return super().send(data, flags=flags, copy=copy, track=track)\n",
      "  File \"zmq\\backend\\cython\\socket.pyx\", line 740, in zmq.backend.cython.socket.Socket.send\n",
      "  File \"zmq\\backend\\cython\\socket.pyx\", line 787, in zmq.backend.cython.socket.Socket.send\n",
      "  File \"zmq\\backend\\cython\\socket.pyx\", line 244, in zmq.backend.cython.socket._send_copy\n",
      "  File \"zmq\\backend\\cython\\checkrc.pxd\", line 13, in zmq.backend.cython.checkrc._check_rc\n",
      "KeyboardInterrupt: \n",
      "\n",
      "KeyboardInterrupt\n",
      "\n"
     ]
    }
   ],
   "source": [
    "rskfold = RepeatedStratifiedKFold(n_splits=5, n_repeats=1)\n",
    "\n",
    "clf = catboost.CatBoostClassifier(verbose=0, task_type='GPU') # cpu -> thread_count=5\n",
    "\n",
    "perm_list = []\n",
    "for fold, (train_index, val_index) in enumerate(tqdm(rskfold.split(train_x, train_y))):\n",
    "    x_trn, x_val, y_trn, y_val = train_x.loc[train_index], train_x.loc[val_index], train_y.loc[train_index], train_y.loc[val_index]\n",
    "    clf.fit(x_trn, y_trn, early_stopping_rounds=100, cat_features=['PRODUCT_CODE', 'LINE'])\n",
    "\n",
    "    perm = PermutationImportance(clf).fit(x_val, y_val)\n",
    "    perm_list.append(perm)"
   ]
  },
  {
   "cell_type": "code",
   "execution_count": null,
   "id": "637aab3f",
   "metadata": {},
   "outputs": [],
   "source": [
    "eli5.show_weights(perm, feature_names = x_valid.columns.tolist(), top=20)"
   ]
  },
  {
   "cell_type": "code",
   "execution_count": null,
   "id": "4578cf0f",
   "metadata": {},
   "outputs": [],
   "source": [
    "perm_list = np.array(perm_list)\n",
    "perm_mean = [np.mean(perm_list[:, i]) for i in perm_list]\n",
    "\n",
    "train_x = train_x[train_x.columns[(feat > 0) & (perm_mean > 0)]]\n",
    "test = test[train_x.columns]\n",
    "\n",
    "train_x"
   ]
  },
  {
   "cell_type": "code",
   "execution_count": 18,
   "id": "d1da4d5e",
   "metadata": {},
   "outputs": [
    {
     "name": "stderr",
     "output_type": "stream",
     "text": [
      "15it [03:33, 14.21s/it]"
     ]
    },
    {
     "name": "stdout",
     "output_type": "stream",
     "text": [
      "0.5957223001402524 ~ 0.7854452515469464\n",
      "mean : 0.6866430811854247\n"
     ]
    },
    {
     "name": "stderr",
     "output_type": "stream",
     "text": [
      "\n"
     ]
    }
   ],
   "source": [
    "rskfold = RepeatedStratifiedKFold(n_splits=5, n_repeats=3)\n",
    "\n",
    "f1_list = []\n",
    "class_rate = []\n",
    "for fold, (train_index, val_index) in enumerate(tqdm(rskfold.split(train_x, train_y))):\n",
    "    x_trn, x_val, y_trn, y_val = train_x.loc[train_index], train_x.loc[val_index], train_y.loc[train_index], train_y.loc[val_index]\n",
    "\n",
    "    clf = catboost.CatBoostClassifier(verbose=0, task_type=\"GPU\") # cpu -> thread_count=5, gpu -> task_type=\"GPU\"\n",
    "    clf.fit(x_trn, y_trn, early_stopping_rounds=100)\n",
    "    f1_list.append(f1_score(clf.predict(x_val), y_val, average='macro'))\n",
    "    class_rate.append(np.array([len(y_val[y_val==0]), len(y_val[y_val==1]), len(y_val[y_val==1])]) / len(y_val))\n",
    "    \n",
    "print(f'{min(f1_list)} ~ {max(f1_list)}')\n",
    "print('mean :', np.mean(f1_list))"
   ]
  },
  {
   "cell_type": "markdown",
   "id": "92008858",
   "metadata": {},
   "source": [
    "### 결측치 대체"
   ]
  },
  {
   "cell_type": "markdown",
   "id": "d2682dc5",
   "metadata": {},
   "source": [
    "#### Missingno"
   ]
  },
  {
   "cell_type": "code",
   "execution_count": 19,
   "id": "4231d6bb",
   "metadata": {},
   "outputs": [
    {
     "data": {
      "text/plain": [
       "<AxesSubplot:>"
      ]
     },
     "execution_count": 19,
     "metadata": {},
     "output_type": "execute_result"
    },
    {
     "data": {
      "image/png": "[encoded data removed]",
      "text/plain": [
       "<Figure size 1800x720 with 2 Axes>"
      ]
     },
     "metadata": {
      "needs_background": "light"
     },
     "output_type": "display_data"
    }
   ],
   "source": [
    "# 20개의 열만 뽑아 확인해 보았는데도 결측치가 굉장히 많다.\n",
    "msno.matrix(train_x[train_x.columns[130:150]])"
   ]
  },
  {
   "cell_type": "markdown",
   "id": "abad362d",
   "metadata": {},
   "source": [
    "#### fillna(0)"
   ]
  },
  {
   "cell_type": "markdown",
   "id": "6c206ad4",
   "metadata": {},
   "source": [
    "* Catboost는 nan을 'string' 타입으로 치환하여 학습을 진행할 수 있다. 따라서 fillna(0)와 유사한 성능이 나타난다.\n",
    "* MiceImputer, SimpleImputer 등 다양한 방법들을 활용해 보았지만, 성능향상에 도움이 되지 않았다."
   ]
  },
  {
   "cell_type": "code",
   "execution_count": 13,
   "id": "10d54956",
   "metadata": {
    "scrolled": true
   },
   "outputs": [],
   "source": [
    "train_x.fillna(0, inplace=True)\n",
    "test.fillna(0, inplace=True)"
   ]
  },
  {
   "cell_type": "code",
   "execution_count": 94,
   "id": "df292fbf",
   "metadata": {},
   "outputs": [
    {
     "name": "stderr",
     "output_type": "stream",
     "text": [
      "15it [03:46, 15.12s/it]"
     ]
    },
    {
     "name": "stdout",
     "output_type": "stream",
     "text": [
      "0.5659667497076618 ~ 0.7441655356465552\n",
      "mean : 0.6769210081447632\n"
     ]
    },
    {
     "name": "stderr",
     "output_type": "stream",
     "text": [
      "\n"
     ]
    }
   ],
   "source": [
    "rskfold = RepeatedStratifiedKFold(n_splits=5, n_repeats=3)\n",
    "clf = catboost.CatBoostClassifier(verbose=0, task_type=\"GPU\") # cpu -> thread_count=5\n",
    "\n",
    "f1_list = []\n",
    "for fold, (train_index, val_index) in enumerate(tqdm(rskfold.split(train_x, train_y))):\n",
    "    x_trn, x_val, y_trn, y_val = train_x.loc[train_index], train_x.loc[val_index], train_y.loc[train_index], train_y.loc[val_index]\n",
    "\n",
    "    clf.fit(x_trn, y_trn, early_stopping_rounds=100)\n",
    "    f1_list.append(f1_score(clf.predict(x_val), y_val, average='macro'))\n",
    "    \n",
    "print(f'{min(f1_list)} ~ {max(f1_list)}')\n",
    "print('mean :', np.mean(f1_list))"
   ]
  },
  {
   "cell_type": "markdown",
   "id": "0a75c296",
   "metadata": {},
   "source": [
    "### Data Scaling"
   ]
  },
  {
   "cell_type": "markdown",
   "id": "b1ca322f",
   "metadata": {},
   "source": [
    "* 데이터의 적은 수를 극복하고자 오버샘플링을 통한 성능향상을 기대했지만 오히려 성능이 나빠졌다.\n",
    "* 이는 컬럼 수가 너무 많고, 결측치를 0으로 바꾸었기 때문.\n",
    "* 다른 컬럼과의 관계를 이용하지 않고, 단순히 데이터를 늘리는 랜덤오버샘플링도 성능이 향상되진 않았다."
   ]
  },
  {
   "cell_type": "code",
   "execution_count": 22,
   "id": "6d8790e2",
   "metadata": {},
   "outputs": [],
   "source": [
    "def Randomoversampler(train_x_df, train_y_df):\n",
    "    x_ros, y_ros = RandomOverSampler().fit_resample(train_x_df, train_y_df)\n",
    "    return x_ros, y_ros"
   ]
  },
  {
   "cell_type": "code",
   "execution_count": 23,
   "id": "720865d5",
   "metadata": {},
   "outputs": [],
   "source": [
    "def SMOTE_Tomek(train_x_df, train_y_df):\n",
    "    x_smoteenn, y_smoteenn = SMOTETomek().fit_resample(train_x_df, train_y_df)\n",
    "    return x_smoteenn, y_smoteenn"
   ]
  },
  {
   "cell_type": "code",
   "execution_count": 24,
   "id": "c3fd930e",
   "metadata": {},
   "outputs": [],
   "source": [
    "def SMOTE_ENN(train_x_df, train_y_df):\n",
    "    x_smoteenn, y_smoteenn = SMOTEENN().fit_resample(train_x_df, train_y_df)\n",
    "    return x_smoteenn, y_smoteenn"
   ]
  },
  {
   "cell_type": "code",
   "execution_count": 25,
   "id": "7bed1a8f",
   "metadata": {},
   "outputs": [],
   "source": [
    "def ADASYN_(train_x_df, train_y_df):\n",
    "    x_adasyn, y_adasyn = ADASYN(sampling_strategy='minority').fit_resample(train_x_df, train_y_df)\n",
    "    return x_adasyn, y_adasyn"
   ]
  },
  {
   "cell_type": "code",
   "execution_count": 26,
   "id": "cecbf559",
   "metadata": {},
   "outputs": [],
   "source": [
    "def Borderline_SMOTE(train_x_df, train_y_df):\n",
    "    x_b_smote, y_b_smote = BorderlineSMOTE().fit_resample(train_x_df, train_y_df)\n",
    "    return x_b_smote, y_b_smote"
   ]
  },
  {
   "cell_type": "markdown",
   "id": "70ed6e18",
   "metadata": {},
   "source": [
    "#### RandomOverSampling"
   ]
  },
  {
   "cell_type": "code",
   "execution_count": 27,
   "id": "1cb776b3",
   "metadata": {},
   "outputs": [
    {
     "name": "stderr",
     "output_type": "stream",
     "text": [
      "15it [04:00, 16.06s/it]"
     ]
    },
    {
     "name": "stdout",
     "output_type": "stream",
     "text": [
      "0.5352011494252874 ~ 0.7306722689075631\n",
      "mean : 0.6521097147005214\n"
     ]
    },
    {
     "name": "stderr",
     "output_type": "stream",
     "text": [
      "\n"
     ]
    }
   ],
   "source": [
    "rskfold = RepeatedStratifiedKFold(n_splits=5, n_repeats=3)\n",
    "\n",
    "f1_list = []\n",
    "for fold, (train_index, val_index) in enumerate(tqdm(rskfold.split(train_x, train_y))):\n",
    "    x_trn, x_val, y_trn, y_val = train_x.loc[train_index], train_x.loc[val_index], train_y.loc[train_index], train_y.loc[val_index]\n",
    "    x_trn, y_trn = Randomoversampler(x_trn, y_trn)\n",
    "    \n",
    "    clf = catboost.CatBoostClassifier(verbose=0, task_type=\"GPU\") # cpu -> thread_count=5\n",
    "    clf.fit(x_trn, y_trn, early_stopping_rounds=100)\n",
    "    f1_list.append(f1_score(clf.predict(x_val), y_val, average='macro'))\n",
    "    \n",
    "print(f'{min(f1_list)} ~ {max(f1_list)}')\n",
    "print('mean :', np.mean(f1_list))"
   ]
  },
  {
   "cell_type": "markdown",
   "id": "9e71820a",
   "metadata": {},
   "source": [
    "* SMOTE ENN : 0.5908302192371786\n",
    "* SMOTE Tomek : 0.641878141042391\n",
    "* ADASYN : 0.6551906565507466\n",
    "* Borderline SMOTE : 0.6455799000034791"
   ]
  },
  {
   "cell_type": "markdown",
   "id": "13c639bb",
   "metadata": {},
   "source": [
    "### OPTUNA"
   ]
  },
  {
   "cell_type": "markdown",
   "id": "c56244dd",
   "metadata": {},
   "source": [
    "#### OPTUNA"
   ]
  },
  {
   "cell_type": "code",
   "execution_count": 87,
   "id": "badcdbb7",
   "metadata": {},
   "outputs": [],
   "source": [
    "def cb_objective(trial):\n",
    "\n",
    "    params = {\n",
    "            'bootstrap_type':trial.suggest_categorical('bootstrap_type', ['Bayesian', 'Bernoulli']),\n",
    "            'od_wait':trial.suggest_int('od_wait', 500, 1000),\n",
    "            'learning_rate' : trial.suggest_uniform('learning_rate',0.01,0.1),\n",
    "            'reg_lambda': trial.suggest_uniform('reg_lambda',1e-5,100),\n",
    "            'random_strength': trial.suggest_uniform('random_strength',0,100),\n",
    "            #'depth': trial.suggest_int('depth',2,15),\n",
    "            'min_data_in_leaf': trial.suggest_int('min_data_in_leaf',1,20),\n",
    "            'leaf_estimation_iterations': trial.suggest_int('leaf_estimation_iterations',1,15),\n",
    "            'verbose': False,\n",
    "            #\"eval_metric\": 'TotalF1',\n",
    "            \"one_hot_max_size\": trial.suggest_int(\"one_hot_max_size\", 1, 5),\n",
    "            'task_type': 'GPU',\n",
    "        }\n",
    "\n",
    "#     if params['bootstrap_type'] == 'Bayesian':\n",
    "#         params['bagging_temperature'] = trial.suggest_float('bagging_temperature', 0, 10)\n",
    "#     elif params['bootstrap_type'] == 'Bernoulli':\n",
    "#         params['subsample'] = trial.suggest_float('subsample', 0.1, 1)\n",
    "    \n",
    "    clf = catboost.CatBoostClassifier(**params)\n",
    "\n",
    "    rskfold = RepeatedStratifiedKFold(n_splits=5, n_repeats=1)\n",
    "\n",
    "    f1_list = []\n",
    "    for fold, (train_index, val_index) in enumerate(rskfold.split(train_x, train_y)):\n",
    "        x_trn, x_val, y_trn, y_val = train_x.loc[train_index], train_x.loc[val_index], train_y.loc[train_index], train_y.loc[val_index]\n",
    "\n",
    "        clf.fit(x_trn, y_trn, early_stopping_rounds=30)\n",
    "        f1_list.append(f1_score(clf.predict(x_val), y_val, average='macro'))\n",
    "    \n",
    "    return np.mean(f1_list)"
   ]
  },
  {
   "cell_type": "code",
   "execution_count": 88,
   "id": "35d785ac",
   "metadata": {},
   "outputs": [
    {
     "name": "stderr",
     "output_type": "stream",
     "text": [
      "\u001b[32m[I 2023-02-21 00:13:09,412]\u001b[0m A new study created in memory with name: no-name-748cea92-2c85-4dfd-b754-2b969fb84307\u001b[0m\n"
     ]
    },
    {
     "data": {
      "application/json": {
       "ascii": false,
       "bar_format": null,
       "colour": null,
       "elapsed": 0.011443376541137695,
       "initial": 0,
       "n": 0,
       "ncols": null,
       "nrows": null,
       "postfix": null,
       "prefix": "",
       "rate": null,
       "total": 20,
       "unit": "it",
       "unit_divisor": 1000,
       "unit_scale": false
      },
      "application/vnd.jupyter.widget-view+json": {
       "model_id": "6df7aa2913c64f5289ecef6d96acecdb",
       "version_major": 2,
       "version_minor": 0
      },
      "text/plain": [
       "  0%|          | 0/20 [00:00<?, ?it/s]"
      ]
     },
     "metadata": {},
     "output_type": "display_data"
    },
    {
     "name": "stdout",
     "output_type": "stream",
     "text": [
      "\u001b[32m[I 2023-02-21 00:14:48,419]\u001b[0m Trial 0 finished with value: 0.6557833196093718 and parameters: {'bootstrap_type': 'Bayesian', 'od_wait': 975, 'learning_rate': 0.06973855169227149, 'reg_lambda': 66.69835922895335, 'random_strength': 14.901388702644757, 'min_data_in_leaf': 15, 'leaf_estimation_iterations': 6, 'one_hot_max_size': 1}. Best is trial 0 with value: 0.6557833196093718.\u001b[0m\n",
      "\u001b[32m[I 2023-02-21 00:16:29,150]\u001b[0m Trial 1 finished with value: 0.6814900277771321 and parameters: {'bootstrap_type': 'Bayesian', 'od_wait': 583, 'learning_rate': 0.04997268252509746, 'reg_lambda': 49.579821111612645, 'random_strength': 41.78291247647151, 'min_data_in_leaf': 13, 'leaf_estimation_iterations': 6, 'one_hot_max_size': 1}. Best is trial 1 with value: 0.6814900277771321.\u001b[0m\n",
      "\u001b[32m[I 2023-02-21 00:18:05,921]\u001b[0m Trial 2 finished with value: 0.6885480371387417 and parameters: {'bootstrap_type': 'Bayesian', 'od_wait': 790, 'learning_rate': 0.0985164291554969, 'reg_lambda': 31.072697883916103, 'random_strength': 68.73170388715734, 'min_data_in_leaf': 20, 'leaf_estimation_iterations': 5, 'one_hot_max_size': 1}. Best is trial 2 with value: 0.6885480371387417.\u001b[0m\n",
      "\u001b[32m[I 2023-02-21 00:20:00,833]\u001b[0m Trial 3 finished with value: 0.6701588108292436 and parameters: {'bootstrap_type': 'Bernoulli', 'od_wait': 642, 'learning_rate': 0.030652694622922985, 'reg_lambda': 23.32260338527859, 'random_strength': 64.92087098783608, 'min_data_in_leaf': 8, 'leaf_estimation_iterations': 9, 'one_hot_max_size': 1}. Best is trial 2 with value: 0.6885480371387417.\u001b[0m\n",
      "\u001b[32m[I 2023-02-21 00:22:21,944]\u001b[0m Trial 4 finished with value: 0.6920492296494043 and parameters: {'bootstrap_type': 'Bayesian', 'od_wait': 565, 'learning_rate': 0.07445407519583642, 'reg_lambda': 60.70612208572327, 'random_strength': 40.12094223151325, 'min_data_in_leaf': 14, 'leaf_estimation_iterations': 15, 'one_hot_max_size': 2}. Best is trial 4 with value: 0.6920492296494043.\u001b[0m\n",
      "\u001b[32m[I 2023-02-21 00:24:18,711]\u001b[0m Trial 5 finished with value: 0.6832357028106874 and parameters: {'bootstrap_type': 'Bayesian', 'od_wait': 847, 'learning_rate': 0.06619788822057343, 'reg_lambda': 37.639504521133134, 'random_strength': 3.178740686755799, 'min_data_in_leaf': 18, 'leaf_estimation_iterations': 9, 'one_hot_max_size': 4}. Best is trial 4 with value: 0.6920492296494043.\u001b[0m\n",
      "\u001b[32m[I 2023-02-21 00:25:52,247]\u001b[0m Trial 6 finished with value: 0.6725909672475003 and parameters: {'bootstrap_type': 'Bayesian', 'od_wait': 897, 'learning_rate': 0.050341862585407134, 'reg_lambda': 34.371264942231484, 'random_strength': 6.755097980331692, 'min_data_in_leaf': 12, 'leaf_estimation_iterations': 4, 'one_hot_max_size': 1}. Best is trial 4 with value: 0.6920492296494043.\u001b[0m\n",
      "\u001b[32m[I 2023-02-21 00:27:23,133]\u001b[0m Trial 7 finished with value: 0.6386659772803082 and parameters: {'bootstrap_type': 'Bernoulli', 'od_wait': 785, 'learning_rate': 0.019130995795831586, 'reg_lambda': 19.928226727332184, 'random_strength': 15.123791612501059, 'min_data_in_leaf': 13, 'leaf_estimation_iterations': 3, 'one_hot_max_size': 5}. Best is trial 4 with value: 0.6920492296494043.\u001b[0m\n",
      "\u001b[32m[I 2023-02-21 00:29:23,505]\u001b[0m Trial 8 finished with value: 0.6603656636577879 and parameters: {'bootstrap_type': 'Bayesian', 'od_wait': 790, 'learning_rate': 0.06999580947659723, 'reg_lambda': 26.43971346133375, 'random_strength': 58.82844958007812, 'min_data_in_leaf': 2, 'leaf_estimation_iterations': 10, 'one_hot_max_size': 4}. Best is trial 4 with value: 0.6920492296494043.\u001b[0m\n",
      "\u001b[32m[I 2023-02-21 00:31:51,898]\u001b[0m Trial 9 finished with value: 0.6631495580828173 and parameters: {'bootstrap_type': 'Bernoulli', 'od_wait': 989, 'learning_rate': 0.08212463325613924, 'reg_lambda': 56.34218355868326, 'random_strength': 37.73561695684137, 'min_data_in_leaf': 9, 'leaf_estimation_iterations': 15, 'one_hot_max_size': 4}. Best is trial 4 with value: 0.6920492296494043.\u001b[0m\n",
      "\u001b[32m[I 2023-02-21 00:34:10,183]\u001b[0m Trial 10 finished with value: 0.6553406035802961 and parameters: {'bootstrap_type': 'Bayesian', 'od_wait': 500, 'learning_rate': 0.0969522602412336, 'reg_lambda': 97.09495993003857, 'random_strength': 95.20366530003116, 'min_data_in_leaf': 6, 'leaf_estimation_iterations': 15, 'one_hot_max_size': 2}. Best is trial 4 with value: 0.6920492296494043.\u001b[0m\n",
      "\u001b[32m[I 2023-02-21 00:35:22,437]\u001b[0m Trial 11 finished with value: 0.6825476903836813 and parameters: {'bootstrap_type': 'Bayesian', 'od_wait': 684, 'learning_rate': 0.09768444889431506, 'reg_lambda': 3.6061298753494597, 'random_strength': 81.90561724762905, 'min_data_in_leaf': 20, 'leaf_estimation_iterations': 1, 'one_hot_max_size': 2}. Best is trial 4 with value: 0.6920492296494043.\u001b[0m\n",
      "\u001b[32m[I 2023-02-21 00:37:29,106]\u001b[0m Trial 12 finished with value: 0.6878965661981795 and parameters: {'bootstrap_type': 'Bayesian', 'od_wait': 708, 'learning_rate': 0.08560604434096022, 'reg_lambda': 77.4128061905831, 'random_strength': 75.2253735796682, 'min_data_in_leaf': 17, 'leaf_estimation_iterations': 12, 'one_hot_max_size': 2}. Best is trial 4 with value: 0.6920492296494043.\u001b[0m\n",
      "\u001b[32m[I 2023-02-21 00:39:38,307]\u001b[0m Trial 13 finished with value: 0.6611508649821332 and parameters: {'bootstrap_type': 'Bayesian', 'od_wait': 572, 'learning_rate': 0.08458816177565193, 'reg_lambda': 75.70655969002198, 'random_strength': 30.659133295507267, 'min_data_in_leaf': 20, 'leaf_estimation_iterations': 12, 'one_hot_max_size': 3}. Best is trial 4 with value: 0.6920492296494043.\u001b[0m\n",
      "\u001b[32m[I 2023-02-21 00:41:22,345]\u001b[0m Trial 14 finished with value: 0.7042181856341482 and parameters: {'bootstrap_type': 'Bayesian', 'od_wait': 875, 'learning_rate': 0.09866950875286389, 'reg_lambda': 45.06727243734563, 'random_strength': 47.5952279747401, 'min_data_in_leaf': 16, 'leaf_estimation_iterations': 6, 'one_hot_max_size': 2}. Best is trial 14 with value: 0.7042181856341482.\u001b[0m\n",
      "\u001b[32m[I 2023-02-21 00:43:13,114]\u001b[0m Trial 15 finished with value: 0.642789766130119 and parameters: {'bootstrap_type': 'Bernoulli', 'od_wait': 899, 'learning_rate': 0.039025649417331026, 'reg_lambda': 49.44361030975654, 'random_strength': 47.27648981428484, 'min_data_in_leaf': 16, 'leaf_estimation_iterations': 7, 'one_hot_max_size': 3}. Best is trial 14 with value: 0.7042181856341482.\u001b[0m\n",
      "\u001b[32m[I 2023-02-21 00:45:13,522]\u001b[0m Trial 16 finished with value: 0.6660923251354752 and parameters: {'bootstrap_type': 'Bayesian', 'od_wait': 870, 'learning_rate': 0.06179126528874331, 'reg_lambda': 95.60451491180103, 'random_strength': 25.87874143044461, 'min_data_in_leaf': 15, 'leaf_estimation_iterations': 12, 'one_hot_max_size': 2}. Best is trial 14 with value: 0.7042181856341482.\u001b[0m\n",
      "\u001b[32m[I 2023-02-21 00:46:24,004]\u001b[0m Trial 17 finished with value: 0.6522441166737489 and parameters: {'bootstrap_type': 'Bayesian', 'od_wait': 501, 'learning_rate': 0.07997670997507687, 'reg_lambda': 64.01673518436486, 'random_strength': 53.563713514413365, 'min_data_in_leaf': 11, 'leaf_estimation_iterations': 1, 'one_hot_max_size': 3}. Best is trial 14 with value: 0.7042181856341482.\u001b[0m\n",
      "\u001b[32m[I 2023-02-21 00:48:29,270]\u001b[0m Trial 18 finished with value: 0.6721489505730307 and parameters: {'bootstrap_type': 'Bernoulli', 'od_wait': 936, 'learning_rate': 0.07600373309783286, 'reg_lambda': 43.016137216057665, 'random_strength': 30.81578614702707, 'min_data_in_leaf': 5, 'leaf_estimation_iterations': 13, 'one_hot_max_size': 3}. Best is trial 14 with value: 0.7042181856341482.\u001b[0m\n",
      "\u001b[32m[I 2023-02-21 00:50:10,350]\u001b[0m Trial 19 finished with value: 0.7183237061487739 and parameters: {'bootstrap_type': 'Bayesian', 'od_wait': 611, 'learning_rate': 0.08954166018036998, 'reg_lambda': 12.119124357119482, 'random_strength': 53.99747941125182, 'min_data_in_leaf': 14, 'leaf_estimation_iterations': 8, 'one_hot_max_size': 2}. Best is trial 19 with value: 0.7183237061487739.\u001b[0m\n"
     ]
    }
   ],
   "source": [
    "study = optuna.create_study(direction='maximize')\n",
    "study.optimize(cb_objective, n_trials=20, show_progress_bar=True)"
   ]
  },
  {
   "cell_type": "code",
   "execution_count": 89,
   "id": "8b6d6d63",
   "metadata": {},
   "outputs": [
    {
     "data": {
      "application/vnd.plotly.v1+json": {
       "config": {
        "plotlyServerURL": "https://plot.ly"
       },
       "data": [
        {
         "mode": "markers",
         "name": "Objective Value",
         "type": "scatter",
         "x": [
          0,
          1,
          2,
          3,
          4,
          5,
          6,
          7,
          8,
          9,
          10,
          11,
          12,
          13,
          14,
          15,
          16,
          17,
          18,
          19
         ],
         "y": [
          0.6557833196093718,
          0.6814900277771321,
          0.6885480371387417,
          0.6701588108292436,
          0.6920492296494043,
          0.6832357028106874,
          0.6725909672475003,
          0.6386659772803082,
          0.6603656636577879,
          0.6631495580828173,
          0.6553406035802961,
          0.6825476903836813,
          0.6878965661981795,
          0.6611508649821332,
          0.7042181856341482,
          0.642789766130119,
          0.6660923251354752,
          0.6522441166737489,
          0.6721489505730307,
          0.7183237061487739
         ]
        },
        {
         "name": "Best Value",
         "type": "scatter",
         "x": [
          0,
          1,
          2,
          3,
          4,
          5,
          6,
          7,
          8,
          9,
          10,
          11,
          12,
          13,
          14,
          15,
          16,
          17,
          18,
          19
         ],
         "y": [
          0.6557833196093718,
          0.6814900277771321,
          0.6885480371387417,
          0.6885480371387417,
          0.6920492296494043,
          0.6920492296494043,
          0.6920492296494043,
          0.6920492296494043,
          0.6920492296494043,
          0.6920492296494043,
          0.6920492296494043,
          0.6920492296494043,
          0.6920492296494043,
          0.6920492296494043,
          0.7042181856341482,
          0.7042181856341482,
          0.7042181856341482,
          0.7042181856341482,
          0.7042181856341482,
          0.7183237061487739
         ]
        }
       ],
       "layout": {
        "template": {
         "data": {
          "bar": [
           {
            "error_x": {
             "color": "#2a3f5f"
            },
            "error_y": {
             "color": "#2a3f5f"
            },
            "marker": {
             "line": {
              "color": "#E5ECF6",
              "width": 0.5
             },
             "pattern": {
              "fillmode": "overlay",
              "size": 10,
              "solidity": 0.2
             }
            },
            "type": "bar"
           }
          ],
          "barpolar": [
           {
            "marker": {
             "line": {
              "color": "#E5ECF6",
              "width": 0.5
             },
             "pattern": {
              "fillmode": "overlay",
              "size": 10,
              "solidity": 0.2
             }
            },
            "type": "barpolar"
           }
          ],
          "carpet": [
           {
            "aaxis": {
             "endlinecolor": "#2a3f5f",
             "gridcolor": "white",
             "linecolor": "white",
             "minorgridcolor": "white",
             "startlinecolor": "#2a3f5f"
            },
            "baxis": {
             "endlinecolor": "#2a3f5f",
             "gridcolor": "white",
             "linecolor": "white",
             "minorgridcolor": "white",
             "startlinecolor": "#2a3f5f"
            },
            "type": "carpet"
           }
          ],
          "choropleth": [
           {
            "colorbar": {
             "outlinewidth": 0,
             "ticks": ""
            },
            "type": "choropleth"
           }
          ],
          "contour": [
           {
            "colorbar": {
             "outlinewidth": 0,
             "ticks": ""
            },
            "colorscale": [
             [
              0,
              "#0d0887"
             ],
             [
              0.1111111111111111,
              "#46039f"
             ],
             [
              0.2222222222222222,
              "#7201a8"
             ],
             [
              0.3333333333333333,
              "#9c179e"
             ],
             [
              0.4444444444444444,
              "#bd3786"
             ],
             [
              0.5555555555555556,
              "#d8576b"
             ],
             [
              0.6666666666666666,
              "#ed7953"
             ],
             [
              0.7777777777777778,
              "#fb9f3a"
             ],
             [
              0.8888888888888888,
              "#fdca26"
             ],
             [
              1,
              "#f0f921"
             ]
            ],
            "type": "contour"
           }
          ],
          "contourcarpet": [
           {
            "colorbar": {
             "outlinewidth": 0,
             "ticks": ""
            },
            "type": "contourcarpet"
           }
          ],
          "heatmap": [
           {
            "colorbar": {
             "outlinewidth": 0,
             "ticks": ""
            },
            "colorscale": [
             [
              0,
              "#0d0887"
             ],
             [
              0.1111111111111111,
              "#46039f"
             ],
             [
              0.2222222222222222,
              "#7201a8"
             ],
             [
              0.3333333333333333,
              "#9c179e"
             ],
             [
              0.4444444444444444,
              "#bd3786"
             ],
             [
              0.5555555555555556,
              "#d8576b"
             ],
             [
              0.6666666666666666,
              "#ed7953"
             ],
             [
              0.7777777777777778,
              "#fb9f3a"
             ],
             [
              0.8888888888888888,
              "#fdca26"
             ],
             [
              1,
              "#f0f921"
             ]
            ],
            "type": "heatmap"
           }
          ],
          "heatmapgl": [
           {
            "colorbar": {
             "outlinewidth": 0,
             "ticks": ""
            },
            "colorscale": [
             [
              0,
              "#0d0887"
             ],
             [
              0.1111111111111111,
              "#46039f"
             ],
             [
              0.2222222222222222,
              "#7201a8"
             ],
             [
              0.3333333333333333,
              "#9c179e"
             ],
             [
              0.4444444444444444,
              "#bd3786"
             ],
             [
              0.5555555555555556,
              "#d8576b"
             ],
             [
              0.6666666666666666,
              "#ed7953"
             ],
             [
              0.7777777777777778,
              "#fb9f3a"
             ],
             [
              0.8888888888888888,
              "#fdca26"
             ],
             [
              1,
              "#f0f921"
             ]
            ],
            "type": "heatmapgl"
           }
          ],
          "histogram": [
           {
            "marker": {
             "pattern": {
              "fillmode": "overlay",
              "size": 10,
              "solidity": 0.2
             }
            },
            "type": "histogram"
           }
          ],
          "histogram2d": [
           {
            "colorbar": {
             "outlinewidth": 0,
             "ticks": ""
            },
            "colorscale": [
             [
              0,
              "#0d0887"
             ],
             [
              0.1111111111111111,
              "#46039f"
             ],
             [
              0.2222222222222222,
              "#7201a8"
             ],
             [
              0.3333333333333333,
              "#9c179e"
             ],
             [
              0.4444444444444444,
              "#bd3786"
             ],
             [
              0.5555555555555556,
              "#d8576b"
             ],
             [
              0.6666666666666666,
              "#ed7953"
             ],
             [
              0.7777777777777778,
              "#fb9f3a"
             ],
             [
              0.8888888888888888,
              "#fdca26"
             ],
             [
              1,
              "#f0f921"
             ]
            ],
            "type": "histogram2d"
           }
          ],
          "histogram2dcontour": [
           {
            "colorbar": {
             "outlinewidth": 0,
             "ticks": ""
            },
            "colorscale": [
             [
              0,
              "#0d0887"
             ],
             [
              0.1111111111111111,
              "#46039f"
             ],
             [
              0.2222222222222222,
              "#7201a8"
             ],
             [
              0.3333333333333333,
              "#9c179e"
             ],
             [
              0.4444444444444444,
              "#bd3786"
             ],
             [
              0.5555555555555556,
              "#d8576b"
             ],
             [
              0.6666666666666666,
              "#ed7953"
             ],
             [
              0.7777777777777778,
              "#fb9f3a"
             ],
             [
              0.8888888888888888,
              "#fdca26"
             ],
             [
              1,
              "#f0f921"
             ]
            ],
            "type": "histogram2dcontour"
           }
          ],
          "mesh3d": [
           {
            "colorbar": {
             "outlinewidth": 0,
             "ticks": ""
            },
            "type": "mesh3d"
           }
          ],
          "parcoords": [
           {
            "line": {
             "colorbar": {
              "outlinewidth": 0,
              "ticks": ""
             }
            },
            "type": "parcoords"
           }
          ],
          "pie": [
           {
            "automargin": true,
            "type": "pie"
           }
          ],
          "scatter": [
           {
            "fillpattern": {
             "fillmode": "overlay",
             "size": 10,
             "solidity": 0.2
            },
            "type": "scatter"
           }
          ],
          "scatter3d": [
           {
            "line": {
             "colorbar": {
              "outlinewidth": 0,
              "ticks": ""
             }
            },
            "marker": {
             "colorbar": {
              "outlinewidth": 0,
              "ticks": ""
             }
            },
            "type": "scatter3d"
           }
          ],
          "scattercarpet": [
           {
            "marker": {
             "colorbar": {
              "outlinewidth": 0,
              "ticks": ""
             }
            },
            "type": "scattercarpet"
           }
          ],
          "scattergeo": [
           {
            "marker": {
             "colorbar": {
              "outlinewidth": 0,
              "ticks": ""
             }
            },
            "type": "scattergeo"
           }
          ],
          "scattergl": [
           {
            "marker": {
             "colorbar": {
              "outlinewidth": 0,
              "ticks": ""
             }
            },
            "type": "scattergl"
           }
          ],
          "scattermapbox": [
           {
            "marker": {
             "colorbar": {
              "outlinewidth": 0,
              "ticks": ""
             }
            },
            "type": "scattermapbox"
           }
          ],
          "scatterpolar": [
           {
            "marker": {
             "colorbar": {
              "outlinewidth": 0,
              "ticks": ""
             }
            },
            "type": "scatterpolar"
           }
          ],
          "scatterpolargl": [
           {
            "marker": {
             "colorbar": {
              "outlinewidth": 0,
              "ticks": ""
             }
            },
            "type": "scatterpolargl"
           }
          ],
          "scatterternary": [
           {
            "marker": {
             "colorbar": {
              "outlinewidth": 0,
              "ticks": ""
             }
            },
            "type": "scatterternary"
           }
          ],
          "surface": [
           {
            "colorbar": {
             "outlinewidth": 0,
             "ticks": ""
            },
            "colorscale": [
             [
              0,
              "#0d0887"
             ],
             [
              0.1111111111111111,
              "#46039f"
             ],
             [
              0.2222222222222222,
              "#7201a8"
             ],
             [
              0.3333333333333333,
              "#9c179e"
             ],
             [
              0.4444444444444444,
              "#bd3786"
             ],
             [
              0.5555555555555556,
              "#d8576b"
             ],
             [
              0.6666666666666666,
              "#ed7953"
             ],
             [
              0.7777777777777778,
              "#fb9f3a"
             ],
             [
              0.8888888888888888,
              "#fdca26"
             ],
             [
              1,
              "#f0f921"
             ]
            ],
            "type": "surface"
           }
          ],
          "table": [
           {
            "cells": {
             "fill": {
              "color": "#EBF0F8"
             },
             "line": {
              "color": "white"
             }
            },
            "header": {
             "fill": {
              "color": "#C8D4E3"
             },
             "line": {
              "color": "white"
             }
            },
            "type": "table"
           }
          ]
         },
         "layout": {
          "annotationdefaults": {
           "arrowcolor": "#2a3f5f",
           "arrowhead": 0,
           "arrowwidth": 1
          },
          "autotypenumbers": "strict",
          "coloraxis": {
           "colorbar": {
            "outlinewidth": 0,
            "ticks": ""
           }
          },
          "colorscale": {
           "diverging": [
            [
             0,
             "#8e0152"
            ],
            [
             0.1,
             "#c51b7d"
            ],
            [
             0.2,
             "#de77ae"
            ],
            [
             0.3,
             "#f1b6da"
            ],
            [
             0.4,
             "#fde0ef"
            ],
            [
             0.5,
             "#f7f7f7"
            ],
            [
             0.6,
             "#e6f5d0"
            ],
            [
             0.7,
             "#b8e186"
            ],
            [
             0.8,
             "#7fbc41"
            ],
            [
             0.9,
             "#4d9221"
            ],
            [
             1,
             "#276419"
            ]
           ],
           "sequential": [
            [
             0,
             "#0d0887"
            ],
            [
             0.1111111111111111,
             "#46039f"
            ],
            [
             0.2222222222222222,
             "#7201a8"
            ],
            [
             0.3333333333333333,
             "#9c179e"
            ],
            [
             0.4444444444444444,
             "#bd3786"
            ],
            [
             0.5555555555555556,
             "#d8576b"
            ],
            [
             0.6666666666666666,
             "#ed7953"
            ],
            [
             0.7777777777777778,
             "#fb9f3a"
            ],
            [
             0.8888888888888888,
             "#fdca26"
            ],
            [
             1,
             "#f0f921"
            ]
           ],
           "sequentialminus": [
            [
             0,
             "#0d0887"
            ],
            [
             0.1111111111111111,
             "#46039f"
            ],
            [
             0.2222222222222222,
             "#7201a8"
            ],
            [
             0.3333333333333333,
             "#9c179e"
            ],
            [
             0.4444444444444444,
             "#bd3786"
            ],
            [
             0.5555555555555556,
             "#d8576b"
            ],
            [
             0.6666666666666666,
             "#ed7953"
            ],
            [
             0.7777777777777778,
             "#fb9f3a"
            ],
            [
             0.8888888888888888,
             "#fdca26"
            ],
            [
             1,
             "#f0f921"
            ]
           ]
          },
          "colorway": [
           "#636efa",
           "#EF553B",
           "#00cc96",
           "#ab63fa",
           "#FFA15A",
           "#19d3f3",
           "#FF6692",
           "#B6E880",
           "#FF97FF",
           "#FECB52"
          ],
          "font": {
           "color": "#2a3f5f"
          },
          "geo": {
           "bgcolor": "white",
           "lakecolor": "white",
           "landcolor": "#E5ECF6",
           "showlakes": true,
           "showland": true,
           "subunitcolor": "white"
          },
          "hoverlabel": {
           "align": "left"
          },
          "hovermode": "closest",
          "mapbox": {
           "style": "light"
          },
          "paper_bgcolor": "white",
          "plot_bgcolor": "#E5ECF6",
          "polar": {
           "angularaxis": {
            "gridcolor": "white",
            "linecolor": "white",
            "ticks": ""
           },
           "bgcolor": "#E5ECF6",
           "radialaxis": {
            "gridcolor": "white",
            "linecolor": "white",
            "ticks": ""
           }
          },
          "scene": {
           "xaxis": {
            "backgroundcolor": "#E5ECF6",
            "gridcolor": "white",
            "gridwidth": 2,
            "linecolor": "white",
            "showbackground": true,
            "ticks": "",
            "zerolinecolor": "white"
           },
           "yaxis": {
            "backgroundcolor": "#E5ECF6",
            "gridcolor": "white",
            "gridwidth": 2,
            "linecolor": "white",
            "showbackground": true,
            "ticks": "",
            "zerolinecolor": "white"
           },
           "zaxis": {
            "backgroundcolor": "#E5ECF6",
            "gridcolor": "white",
            "gridwidth": 2,
            "linecolor": "white",
            "showbackground": true,
            "ticks": "",
            "zerolinecolor": "white"
           }
          },
          "shapedefaults": {
           "line": {
            "color": "#2a3f5f"
           }
          },
          "ternary": {
           "aaxis": {
            "gridcolor": "white",
            "linecolor": "white",
            "ticks": ""
           },
           "baxis": {
            "gridcolor": "white",
            "linecolor": "white",
            "ticks": ""
           },
           "bgcolor": "#E5ECF6",
           "caxis": {
            "gridcolor": "white",
            "linecolor": "white",
            "ticks": ""
           }
          },
          "title": {
           "x": 0.05
          },
          "xaxis": {
           "automargin": true,
           "gridcolor": "white",
           "linecolor": "white",
           "ticks": "",
           "title": {
            "standoff": 15
           },
           "zerolinecolor": "white",
           "zerolinewidth": 2
          },
          "yaxis": {
           "automargin": true,
           "gridcolor": "white",
           "linecolor": "white",
           "ticks": "",
           "title": {
            "standoff": 15
           },
           "zerolinecolor": "white",
           "zerolinewidth": 2
          }
         }
        },
        "title": {
         "text": "Optimization History Plot"
        },
        "xaxis": {
         "title": {
          "text": "#Trials"
         }
        },
        "yaxis": {
         "title": {
          "text": "Objective Value"
         }
        }
       }
      },
      "text/html": [
       "<div>                            <div id=\"7f193777-cceb-4c71-8d76-f3a4a1a04988\" class=\"plotly-graph-div\" style=\"height:525px; width:100%;\"></div>            <script type=\"text/javascript\">                require([\"plotly\"], function(Plotly) {                    window.PLOTLYENV=window.PLOTLYENV || {};                                    if (document.getElementById(\"7f193777-cceb-4c71-8d76-f3a4a1a04988\")) {                    Plotly.newPlot(                        \"7f193777-cceb-4c71-8d76-f3a4a1a04988\",                        [{\"mode\":\"markers\",\"name\":\"Objective Value\",\"x\":[0,1,2,3,4,5,6,7,8,9,10,11,12,13,14,15,16,17,18,19],\"y\":[0.6557833196093718,0.6814900277771321,0.6885480371387417,0.6701588108292436,0.6920492296494043,0.6832357028106874,0.6725909672475003,0.6386659772803082,0.6603656636577879,0.6631495580828173,0.6553406035802961,0.6825476903836813,0.6878965661981795,0.6611508649821332,0.7042181856341482,0.642789766130119,0.6660923251354752,0.6522441166737489,0.6721489505730307,0.7183237061487739],\"type\":\"scatter\"},{\"name\":\"Best Value\",\"x\":[0,1,2,3,4,5,6,7,8,9,10,11,12,13,14,15,16,17,18,19],\"y\":[0.6557833196093718,0.6814900277771321,0.6885480371387417,0.6885480371387417,0.6920492296494043,0.6920492296494043,0.6920492296494043,0.6920492296494043,0.6920492296494043,0.6920492296494043,0.6920492296494043,0.6920492296494043,0.6920492296494043,0.6920492296494043,0.7042181856341482,0.7042181856341482,0.7042181856341482,0.7042181856341482,0.7042181856341482,0.7183237061487739],\"type\":\"scatter\"}],                        {\"title\":{\"text\":\"Optimization History Plot\"},\"xaxis\":{\"title\":{\"text\":\"#Trials\"}},\"yaxis\":{\"title\":{\"text\":\"Objective Value\"}},\"template\":{\"data\":{\"histogram2dcontour\":[{\"type\":\"histogram2dcontour\",\"colorbar\":{\"outlinewidth\":0,\"ticks\":\"\"},\"colorscale\":[[0.0,\"#0d0887\"],[0.1111111111111111,\"#46039f\"],[0.2222222222222222,\"#7201a8\"],[0.3333333333333333,\"#9c179e\"],[0.4444444444444444,\"#bd3786\"],[0.5555555555555556,\"#d8576b\"],[0.6666666666666666,\"#ed7953\"],[0.7777777777777778,\"#fb9f3a\"],[0.8888888888888888,\"#fdca26\"],[1.0,\"#f0f921\"]]}],\"choropleth\":[{\"type\":\"choropleth\",\"colorbar\":{\"outlinewidth\":0,\"ticks\":\"\"}}],\"histogram2d\":[{\"type\":\"histogram2d\",\"colorbar\":{\"outlinewidth\":0,\"ticks\":\"\"},\"colorscale\":[[0.0,\"#0d0887\"],[0.1111111111111111,\"#46039f\"],[0.2222222222222222,\"#7201a8\"],[0.3333333333333333,\"#9c179e\"],[0.4444444444444444,\"#bd3786\"],[0.5555555555555556,\"#d8576b\"],[0.6666666666666666,\"#ed7953\"],[0.7777777777777778,\"#fb9f3a\"],[0.8888888888888888,\"#fdca26\"],[1.0,\"#f0f921\"]]}],\"heatmap\":[{\"type\":\"heatmap\",\"colorbar\":{\"outlinewidth\":0,\"ticks\":\"\"},\"colorscale\":[[0.0,\"#0d0887\"],[0.1111111111111111,\"#46039f\"],[0.2222222222222222,\"#7201a8\"],[0.3333333333333333,\"#9c179e\"],[0.4444444444444444,\"#bd3786\"],[0.5555555555555556,\"#d8576b\"],[0.6666666666666666,\"#ed7953\"],[0.7777777777777778,\"#fb9f3a\"],[0.8888888888888888,\"#fdca26\"],[1.0,\"#f0f921\"]]}],\"heatmapgl\":[{\"type\":\"heatmapgl\",\"colorbar\":{\"outlinewidth\":0,\"ticks\":\"\"},\"colorscale\":[[0.0,\"#0d0887\"],[0.1111111111111111,\"#46039f\"],[0.2222222222222222,\"#7201a8\"],[0.3333333333333333,\"#9c179e\"],[0.4444444444444444,\"#bd3786\"],[0.5555555555555556,\"#d8576b\"],[0.6666666666666666,\"#ed7953\"],[0.7777777777777778,\"#fb9f3a\"],[0.8888888888888888,\"#fdca26\"],[1.0,\"#f0f921\"]]}],\"contourcarpet\":[{\"type\":\"contourcarpet\",\"colorbar\":{\"outlinewidth\":0,\"ticks\":\"\"}}],\"contour\":[{\"type\":\"contour\",\"colorbar\":{\"outlinewidth\":0,\"ticks\":\"\"},\"colorscale\":[[0.0,\"#0d0887\"],[0.1111111111111111,\"#46039f\"],[0.2222222222222222,\"#7201a8\"],[0.3333333333333333,\"#9c179e\"],[0.4444444444444444,\"#bd3786\"],[0.5555555555555556,\"#d8576b\"],[0.6666666666666666,\"#ed7953\"],[0.7777777777777778,\"#fb9f3a\"],[0.8888888888888888,\"#fdca26\"],[1.0,\"#f0f921\"]]}],\"surface\":[{\"type\":\"surface\",\"colorbar\":{\"outlinewidth\":0,\"ticks\":\"\"},\"colorscale\":[[0.0,\"#0d0887\"],[0.1111111111111111,\"#46039f\"],[0.2222222222222222,\"#7201a8\"],[0.3333333333333333,\"#9c179e\"],[0.4444444444444444,\"#bd3786\"],[0.5555555555555556,\"#d8576b\"],[0.6666666666666666,\"#ed7953\"],[0.7777777777777778,\"#fb9f3a\"],[0.8888888888888888,\"#fdca26\"],[1.0,\"#f0f921\"]]}],\"mesh3d\":[{\"type\":\"mesh3d\",\"colorbar\":{\"outlinewidth\":0,\"ticks\":\"\"}}],\"scatter\":[{\"fillpattern\":{\"fillmode\":\"overlay\",\"size\":10,\"solidity\":0.2},\"type\":\"scatter\"}],\"parcoords\":[{\"type\":\"parcoords\",\"line\":{\"colorbar\":{\"outlinewidth\":0,\"ticks\":\"\"}}}],\"scatterpolargl\":[{\"type\":\"scatterpolargl\",\"marker\":{\"colorbar\":{\"outlinewidth\":0,\"ticks\":\"\"}}}],\"bar\":[{\"error_x\":{\"color\":\"#2a3f5f\"},\"error_y\":{\"color\":\"#2a3f5f\"},\"marker\":{\"line\":{\"color\":\"#E5ECF6\",\"width\":0.5},\"pattern\":{\"fillmode\":\"overlay\",\"size\":10,\"solidity\":0.2}},\"type\":\"bar\"}],\"scattergeo\":[{\"type\":\"scattergeo\",\"marker\":{\"colorbar\":{\"outlinewidth\":0,\"ticks\":\"\"}}}],\"scatterpolar\":[{\"type\":\"scatterpolar\",\"marker\":{\"colorbar\":{\"outlinewidth\":0,\"ticks\":\"\"}}}],\"histogram\":[{\"marker\":{\"pattern\":{\"fillmode\":\"overlay\",\"size\":10,\"solidity\":0.2}},\"type\":\"histogram\"}],\"scattergl\":[{\"type\":\"scattergl\",\"marker\":{\"colorbar\":{\"outlinewidth\":0,\"ticks\":\"\"}}}],\"scatter3d\":[{\"type\":\"scatter3d\",\"line\":{\"colorbar\":{\"outlinewidth\":0,\"ticks\":\"\"}},\"marker\":{\"colorbar\":{\"outlinewidth\":0,\"ticks\":\"\"}}}],\"scattermapbox\":[{\"type\":\"scattermapbox\",\"marker\":{\"colorbar\":{\"outlinewidth\":0,\"ticks\":\"\"}}}],\"scatterternary\":[{\"type\":\"scatterternary\",\"marker\":{\"colorbar\":{\"outlinewidth\":0,\"ticks\":\"\"}}}],\"scattercarpet\":[{\"type\":\"scattercarpet\",\"marker\":{\"colorbar\":{\"outlinewidth\":0,\"ticks\":\"\"}}}],\"carpet\":[{\"aaxis\":{\"endlinecolor\":\"#2a3f5f\",\"gridcolor\":\"white\",\"linecolor\":\"white\",\"minorgridcolor\":\"white\",\"startlinecolor\":\"#2a3f5f\"},\"baxis\":{\"endlinecolor\":\"#2a3f5f\",\"gridcolor\":\"white\",\"linecolor\":\"white\",\"minorgridcolor\":\"white\",\"startlinecolor\":\"#2a3f5f\"},\"type\":\"carpet\"}],\"table\":[{\"cells\":{\"fill\":{\"color\":\"#EBF0F8\"},\"line\":{\"color\":\"white\"}},\"header\":{\"fill\":{\"color\":\"#C8D4E3\"},\"line\":{\"color\":\"white\"}},\"type\":\"table\"}],\"barpolar\":[{\"marker\":{\"line\":{\"color\":\"#E5ECF6\",\"width\":0.5},\"pattern\":{\"fillmode\":\"overlay\",\"size\":10,\"solidity\":0.2}},\"type\":\"barpolar\"}],\"pie\":[{\"automargin\":true,\"type\":\"pie\"}]},\"layout\":{\"autotypenumbers\":\"strict\",\"colorway\":[\"#636efa\",\"#EF553B\",\"#00cc96\",\"#ab63fa\",\"#FFA15A\",\"#19d3f3\",\"#FF6692\",\"#B6E880\",\"#FF97FF\",\"#FECB52\"],\"font\":{\"color\":\"#2a3f5f\"},\"hovermode\":\"closest\",\"hoverlabel\":{\"align\":\"left\"},\"paper_bgcolor\":\"white\",\"plot_bgcolor\":\"#E5ECF6\",\"polar\":{\"bgcolor\":\"#E5ECF6\",\"angularaxis\":{\"gridcolor\":\"white\",\"linecolor\":\"white\",\"ticks\":\"\"},\"radialaxis\":{\"gridcolor\":\"white\",\"linecolor\":\"white\",\"ticks\":\"\"}},\"ternary\":{\"bgcolor\":\"#E5ECF6\",\"aaxis\":{\"gridcolor\":\"white\",\"linecolor\":\"white\",\"ticks\":\"\"},\"baxis\":{\"gridcolor\":\"white\",\"linecolor\":\"white\",\"ticks\":\"\"},\"caxis\":{\"gridcolor\":\"white\",\"linecolor\":\"white\",\"ticks\":\"\"}},\"coloraxis\":{\"colorbar\":{\"outlinewidth\":0,\"ticks\":\"\"}},\"colorscale\":{\"sequential\":[[0.0,\"#0d0887\"],[0.1111111111111111,\"#46039f\"],[0.2222222222222222,\"#7201a8\"],[0.3333333333333333,\"#9c179e\"],[0.4444444444444444,\"#bd3786\"],[0.5555555555555556,\"#d8576b\"],[0.6666666666666666,\"#ed7953\"],[0.7777777777777778,\"#fb9f3a\"],[0.8888888888888888,\"#fdca26\"],[1.0,\"#f0f921\"]],\"sequentialminus\":[[0.0,\"#0d0887\"],[0.1111111111111111,\"#46039f\"],[0.2222222222222222,\"#7201a8\"],[0.3333333333333333,\"#9c179e\"],[0.4444444444444444,\"#bd3786\"],[0.5555555555555556,\"#d8576b\"],[0.6666666666666666,\"#ed7953\"],[0.7777777777777778,\"#fb9f3a\"],[0.8888888888888888,\"#fdca26\"],[1.0,\"#f0f921\"]],\"diverging\":[[0,\"#8e0152\"],[0.1,\"#c51b7d\"],[0.2,\"#de77ae\"],[0.3,\"#f1b6da\"],[0.4,\"#fde0ef\"],[0.5,\"#f7f7f7\"],[0.6,\"#e6f5d0\"],[0.7,\"#b8e186\"],[0.8,\"#7fbc41\"],[0.9,\"#4d9221\"],[1,\"#276419\"]]},\"xaxis\":{\"gridcolor\":\"white\",\"linecolor\":\"white\",\"ticks\":\"\",\"title\":{\"standoff\":15},\"zerolinecolor\":\"white\",\"automargin\":true,\"zerolinewidth\":2},\"yaxis\":{\"gridcolor\":\"white\",\"linecolor\":\"white\",\"ticks\":\"\",\"title\":{\"standoff\":15},\"zerolinecolor\":\"white\",\"automargin\":true,\"zerolinewidth\":2},\"scene\":{\"xaxis\":{\"backgroundcolor\":\"#E5ECF6\",\"gridcolor\":\"white\",\"linecolor\":\"white\",\"showbackground\":true,\"ticks\":\"\",\"zerolinecolor\":\"white\",\"gridwidth\":2},\"yaxis\":{\"backgroundcolor\":\"#E5ECF6\",\"gridcolor\":\"white\",\"linecolor\":\"white\",\"showbackground\":true,\"ticks\":\"\",\"zerolinecolor\":\"white\",\"gridwidth\":2},\"zaxis\":{\"backgroundcolor\":\"#E5ECF6\",\"gridcolor\":\"white\",\"linecolor\":\"white\",\"showbackground\":true,\"ticks\":\"\",\"zerolinecolor\":\"white\",\"gridwidth\":2}},\"shapedefaults\":{\"line\":{\"color\":\"#2a3f5f\"}},\"annotationdefaults\":{\"arrowcolor\":\"#2a3f5f\",\"arrowhead\":0,\"arrowwidth\":1},\"geo\":{\"bgcolor\":\"white\",\"landcolor\":\"#E5ECF6\",\"subunitcolor\":\"white\",\"showland\":true,\"showlakes\":true,\"lakecolor\":\"white\"},\"title\":{\"x\":0.05},\"mapbox\":{\"style\":\"light\"}}}},                        {\"responsive\": true}                    ).then(function(){\n",
       "                            \n",
       "var gd = document.getElementById('7f193777-cceb-4c71-8d76-f3a4a1a04988');\n",
       "var x = new MutationObserver(function (mutations, observer) {{\n",
       "        var display = window.getComputedStyle(gd).display;\n",
       "        if (!display || display === 'none') {{\n",
       "            console.log([gd, 'removed!']);\n",
       "            Plotly.purge(gd);\n",
       "            observer.disconnect();\n",
       "        }}\n",
       "}});\n",
       "\n",
       "// Listen for the removal of the full notebook cells\n",
       "var notebookContainer = gd.closest('#notebook-container');\n",
       "if (notebookContainer) {{\n",
       "    x.observe(notebookContainer, {childList: true});\n",
       "}}\n",
       "\n",
       "// Listen for the clearing of the current output cell\n",
       "var outputEl = gd.closest('.output');\n",
       "if (outputEl) {{\n",
       "    x.observe(outputEl, {childList: true});\n",
       "}}\n",
       "\n",
       "                        })                };                });            </script>        </div>"
      ]
     },
     "metadata": {},
     "output_type": "display_data"
    }
   ],
   "source": [
    "# 결과값 비교\n",
    "fig = optuna.visualization.plot_optimization_history(study)\n",
    "fig.show()"
   ]
  },
  {
   "cell_type": "code",
   "execution_count": 90,
   "id": "b4896978",
   "metadata": {},
   "outputs": [
    {
     "data": {
      "application/vnd.plotly.v1+json": {
       "config": {
        "plotlyServerURL": "https://plot.ly"
       },
       "data": [
        {
         "dimensions": [
          {
           "label": "Objective Value",
           "range": [
            0.6386659772803082,
            0.7183237061487739
           ],
           "values": [
            0.6557833196093718,
            0.6814900277771321,
            0.6885480371387417,
            0.6701588108292436,
            0.6920492296494043,
            0.6832357028106874,
            0.6725909672475003,
            0.6386659772803082,
            0.6603656636577879,
            0.6631495580828173,
            0.6553406035802961,
            0.6825476903836813,
            0.6878965661981795,
            0.6611508649821332,
            0.7042181856341482,
            0.642789766130119,
            0.6660923251354752,
            0.6522441166737489,
            0.6721489505730307,
            0.7183237061487739
           ]
          },
          {
           "label": "bootstrap_type",
           "range": [
            0,
            1
           ],
           "ticktext": [
            "Bayesian",
            "Bernoulli"
           ],
           "tickvals": [
            0,
            1
           ],
           "values": [
            0,
            0,
            0,
            1,
            0,
            0,
            0,
            1,
            0,
            1,
            0,
            0,
            0,
            0,
            0,
            1,
            0,
            0,
            1,
            0
           ]
          },
          {
           "label": "leaf_estimation_i...",
           "range": [
            1,
            15
           ],
           "values": [
            6,
            6,
            5,
            9,
            15,
            9,
            4,
            3,
            10,
            15,
            15,
            1,
            12,
            12,
            6,
            7,
            12,
            1,
            13,
            8
           ]
          },
          {
           "label": "learning_rate",
           "range": [
            0.019130995795831586,
            0.09866950875286389
           ],
           "values": [
            0.06973855169227149,
            0.04997268252509746,
            0.0985164291554969,
            0.030652694622922985,
            0.07445407519583642,
            0.06619788822057343,
            0.050341862585407134,
            0.019130995795831586,
            0.06999580947659723,
            0.08212463325613924,
            0.0969522602412336,
            0.09768444889431506,
            0.08560604434096022,
            0.08458816177565193,
            0.09866950875286389,
            0.039025649417331026,
            0.06179126528874331,
            0.07997670997507687,
            0.07600373309783286,
            0.08954166018036998
           ]
          },
          {
           "label": "min_data_in_leaf",
           "range": [
            2,
            20
           ],
           "values": [
            15,
            13,
            20,
            8,
            14,
            18,
            12,
            13,
            2,
            9,
            6,
            20,
            17,
            20,
            16,
            16,
            15,
            11,
            5,
            14
           ]
          },
          {
           "label": "od_wait",
           "range": [
            500,
            989
           ],
           "values": [
            975,
            583,
            790,
            642,
            565,
            847,
            897,
            785,
            790,
            989,
            500,
            684,
            708,
            572,
            875,
            899,
            870,
            501,
            936,
            611
           ]
          },
          {
           "label": "one_hot_max_size",
           "range": [
            1,
            5
           ],
           "values": [
            1,
            1,
            1,
            1,
            2,
            4,
            1,
            5,
            4,
            4,
            2,
            2,
            2,
            3,
            2,
            3,
            2,
            3,
            3,
            2
           ]
          },
          {
           "label": "random_strength",
           "range": [
            3.178740686755799,
            95.20366530003116
           ],
           "values": [
            14.901388702644757,
            41.78291247647151,
            68.73170388715734,
            64.92087098783608,
            40.12094223151325,
            3.178740686755799,
            6.755097980331692,
            15.123791612501059,
            58.82844958007812,
            37.73561695684137,
            95.20366530003116,
            81.90561724762905,
            75.2253735796682,
            30.659133295507267,
            47.5952279747401,
            47.27648981428484,
            25.87874143044461,
            53.563713514413365,
            30.81578614702707,
            53.99747941125182
           ]
          },
          {
           "label": "reg_lambda",
           "range": [
            3.6061298753494597,
            97.09495993003857
           ],
           "values": [
            66.69835922895335,
            49.579821111612645,
            31.072697883916103,
            23.32260338527859,
            60.70612208572327,
            37.639504521133134,
            34.371264942231484,
            19.928226727332184,
            26.43971346133375,
            56.34218355868326,
            97.09495993003857,
            3.6061298753494597,
            77.4128061905831,
            75.70655969002198,
            45.06727243734563,
            49.44361030975654,
            95.60451491180103,
            64.01673518436486,
            43.016137216057665,
            12.119124357119482
           ]
          }
         ],
         "labelangle": 30,
         "labelside": "bottom",
         "line": {
          "color": [
           0.6557833196093718,
           0.6814900277771321,
           0.6885480371387417,
           0.6701588108292436,
           0.6920492296494043,
           0.6832357028106874,
           0.6725909672475003,
           0.6386659772803082,
           0.6603656636577879,
           0.6631495580828173,
           0.6553406035802961,
           0.6825476903836813,
           0.6878965661981795,
           0.6611508649821332,
           0.7042181856341482,
           0.642789766130119,
           0.6660923251354752,
           0.6522441166737489,
           0.6721489505730307,
           0.7183237061487739
          ],
          "colorbar": {
           "title": {
            "text": "Objective Value"
           }
          },
          "colorscale": [
           [
            0,
            "rgb(247,251,255)"
           ],
           [
            0.125,
            "rgb(222,235,247)"
           ],
           [
            0.25,
            "rgb(198,219,239)"
           ],
           [
            0.375,
            "rgb(158,202,225)"
           ],
           [
            0.5,
            "rgb(107,174,214)"
           ],
           [
            0.625,
            "rgb(66,146,198)"
           ],
           [
            0.75,
            "rgb(33,113,181)"
           ],
           [
            0.875,
            "rgb(8,81,156)"
           ],
           [
            1,
            "rgb(8,48,107)"
           ]
          ],
          "reversescale": false,
          "showscale": true
         },
         "type": "parcoords"
        }
       ],
       "layout": {
        "template": {
         "data": {
          "bar": [
           {
            "error_x": {
             "color": "#2a3f5f"
            },
            "error_y": {
             "color": "#2a3f5f"
            },
            "marker": {
             "line": {
              "color": "#E5ECF6",
              "width": 0.5
             },
             "pattern": {
              "fillmode": "overlay",
              "size": 10,
              "solidity": 0.2
             }
            },
            "type": "bar"
           }
          ],
          "barpolar": [
           {
            "marker": {
             "line": {
              "color": "#E5ECF6",
              "width": 0.5
             },
             "pattern": {
              "fillmode": "overlay",
              "size": 10,
              "solidity": 0.2
             }
            },
            "type": "barpolar"
           }
          ],
          "carpet": [
           {
            "aaxis": {
             "endlinecolor": "#2a3f5f",
             "gridcolor": "white",
             "linecolor": "white",
             "minorgridcolor": "white",
             "startlinecolor": "#2a3f5f"
            },
            "baxis": {
             "endlinecolor": "#2a3f5f",
             "gridcolor": "white",
             "linecolor": "white",
             "minorgridcolor": "white",
             "startlinecolor": "#2a3f5f"
            },
            "type": "carpet"
           }
          ],
          "choropleth": [
           {
            "colorbar": {
             "outlinewidth": 0,
             "ticks": ""
            },
            "type": "choropleth"
           }
          ],
          "contour": [
           {
            "colorbar": {
             "outlinewidth": 0,
             "ticks": ""
            },
            "colorscale": [
             [
              0,
              "#0d0887"
             ],
             [
              0.1111111111111111,
              "#46039f"
             ],
             [
              0.2222222222222222,
              "#7201a8"
             ],
             [
              0.3333333333333333,
              "#9c179e"
             ],
             [
              0.4444444444444444,
              "#bd3786"
             ],
             [
              0.5555555555555556,
              "#d8576b"
             ],
             [
              0.6666666666666666,
              "#ed7953"
             ],
             [
              0.7777777777777778,
              "#fb9f3a"
             ],
             [
              0.8888888888888888,
              "#fdca26"
             ],
             [
              1,
              "#f0f921"
             ]
            ],
            "type": "contour"
           }
          ],
          "contourcarpet": [
           {
            "colorbar": {
             "outlinewidth": 0,
             "ticks": ""
            },
            "type": "contourcarpet"
           }
          ],
          "heatmap": [
           {
            "colorbar": {
             "outlinewidth": 0,
             "ticks": ""
            },
            "colorscale": [
             [
              0,
              "#0d0887"
             ],
             [
              0.1111111111111111,
              "#46039f"
             ],
             [
              0.2222222222222222,
              "#7201a8"
             ],
             [
              0.3333333333333333,
              "#9c179e"
             ],
             [
              0.4444444444444444,
              "#bd3786"
             ],
             [
              0.5555555555555556,
              "#d8576b"
             ],
             [
              0.6666666666666666,
              "#ed7953"
             ],
             [
              0.7777777777777778,
              "#fb9f3a"
             ],
             [
              0.8888888888888888,
              "#fdca26"
             ],
             [
              1,
              "#f0f921"
             ]
            ],
            "type": "heatmap"
           }
          ],
          "heatmapgl": [
           {
            "colorbar": {
             "outlinewidth": 0,
             "ticks": ""
            },
            "colorscale": [
             [
              0,
              "#0d0887"
             ],
             [
              0.1111111111111111,
              "#46039f"
             ],
             [
              0.2222222222222222,
              "#7201a8"
             ],
             [
              0.3333333333333333,
              "#9c179e"
             ],
             [
              0.4444444444444444,
              "#bd3786"
             ],
             [
              0.5555555555555556,
              "#d8576b"
             ],
             [
              0.6666666666666666,
              "#ed7953"
             ],
             [
              0.7777777777777778,
              "#fb9f3a"
             ],
             [
              0.8888888888888888,
              "#fdca26"
             ],
             [
              1,
              "#f0f921"
             ]
            ],
            "type": "heatmapgl"
           }
          ],
          "histogram": [
           {
            "marker": {
             "pattern": {
              "fillmode": "overlay",
              "size": 10,
              "solidity": 0.2
             }
            },
            "type": "histogram"
           }
          ],
          "histogram2d": [
           {
            "colorbar": {
             "outlinewidth": 0,
             "ticks": ""
            },
            "colorscale": [
             [
              0,
              "#0d0887"
             ],
             [
              0.1111111111111111,
              "#46039f"
             ],
             [
              0.2222222222222222,
              "#7201a8"
             ],
             [
              0.3333333333333333,
              "#9c179e"
             ],
             [
              0.4444444444444444,
              "#bd3786"
             ],
             [
              0.5555555555555556,
              "#d8576b"
             ],
             [
              0.6666666666666666,
              "#ed7953"
             ],
             [
              0.7777777777777778,
              "#fb9f3a"
             ],
             [
              0.8888888888888888,
              "#fdca26"
             ],
             [
              1,
              "#f0f921"
             ]
            ],
            "type": "histogram2d"
           }
          ],
          "histogram2dcontour": [
           {
            "colorbar": {
             "outlinewidth": 0,
             "ticks": ""
            },
            "colorscale": [
             [
              0,
              "#0d0887"
             ],
             [
              0.1111111111111111,
              "#46039f"
             ],
             [
              0.2222222222222222,
              "#7201a8"
             ],
             [
              0.3333333333333333,
              "#9c179e"
             ],
             [
              0.4444444444444444,
              "#bd3786"
             ],
             [
              0.5555555555555556,
              "#d8576b"
             ],
             [
              0.6666666666666666,
              "#ed7953"
             ],
             [
              0.7777777777777778,
              "#fb9f3a"
             ],
             [
              0.8888888888888888,
              "#fdca26"
             ],
             [
              1,
              "#f0f921"
             ]
            ],
            "type": "histogram2dcontour"
           }
          ],
          "mesh3d": [
           {
            "colorbar": {
             "outlinewidth": 0,
             "ticks": ""
            },
            "type": "mesh3d"
           }
          ],
          "parcoords": [
           {
            "line": {
             "colorbar": {
              "outlinewidth": 0,
              "ticks": ""
             }
            },
            "type": "parcoords"
           }
          ],
          "pie": [
           {
            "automargin": true,
            "type": "pie"
           }
          ],
          "scatter": [
           {
            "fillpattern": {
             "fillmode": "overlay",
             "size": 10,
             "solidity": 0.2
            },
            "type": "scatter"
           }
          ],
          "scatter3d": [
           {
            "line": {
             "colorbar": {
              "outlinewidth": 0,
              "ticks": ""
             }
            },
            "marker": {
             "colorbar": {
              "outlinewidth": 0,
              "ticks": ""
             }
            },
            "type": "scatter3d"
           }
          ],
          "scattercarpet": [
           {
            "marker": {
             "colorbar": {
              "outlinewidth": 0,
              "ticks": ""
             }
            },
            "type": "scattercarpet"
           }
          ],
          "scattergeo": [
           {
            "marker": {
             "colorbar": {
              "outlinewidth": 0,
              "ticks": ""
             }
            },
            "type": "scattergeo"
           }
          ],
          "scattergl": [
           {
            "marker": {
             "colorbar": {
              "outlinewidth": 0,
              "ticks": ""
             }
            },
            "type": "scattergl"
           }
          ],
          "scattermapbox": [
           {
            "marker": {
             "colorbar": {
              "outlinewidth": 0,
              "ticks": ""
             }
            },
            "type": "scattermapbox"
           }
          ],
          "scatterpolar": [
           {
            "marker": {
             "colorbar": {
              "outlinewidth": 0,
              "ticks": ""
             }
            },
            "type": "scatterpolar"
           }
          ],
          "scatterpolargl": [
           {
            "marker": {
             "colorbar": {
              "outlinewidth": 0,
              "ticks": ""
             }
            },
            "type": "scatterpolargl"
           }
          ],
          "scatterternary": [
           {
            "marker": {
             "colorbar": {
              "outlinewidth": 0,
              "ticks": ""
             }
            },
            "type": "scatterternary"
           }
          ],
          "surface": [
           {
            "colorbar": {
             "outlinewidth": 0,
             "ticks": ""
            },
            "colorscale": [
             [
              0,
              "#0d0887"
             ],
             [
              0.1111111111111111,
              "#46039f"
             ],
             [
              0.2222222222222222,
              "#7201a8"
             ],
             [
              0.3333333333333333,
              "#9c179e"
             ],
             [
              0.4444444444444444,
              "#bd3786"
             ],
             [
              0.5555555555555556,
              "#d8576b"
             ],
             [
              0.6666666666666666,
              "#ed7953"
             ],
             [
              0.7777777777777778,
              "#fb9f3a"
             ],
             [
              0.8888888888888888,
              "#fdca26"
             ],
             [
              1,
              "#f0f921"
             ]
            ],
            "type": "surface"
           }
          ],
          "table": [
           {
            "cells": {
             "fill": {
              "color": "#EBF0F8"
             },
             "line": {
              "color": "white"
             }
            },
            "header": {
             "fill": {
              "color": "#C8D4E3"
             },
             "line": {
              "color": "white"
             }
            },
            "type": "table"
           }
          ]
         },
         "layout": {
          "annotationdefaults": {
           "arrowcolor": "#2a3f5f",
           "arrowhead": 0,
           "arrowwidth": 1
          },
          "autotypenumbers": "strict",
          "coloraxis": {
           "colorbar": {
            "outlinewidth": 0,
            "ticks": ""
           }
          },
          "colorscale": {
           "diverging": [
            [
             0,
             "#8e0152"
            ],
            [
             0.1,
             "#c51b7d"
            ],
            [
             0.2,
             "#de77ae"
            ],
            [
             0.3,
             "#f1b6da"
            ],
            [
             0.4,
             "#fde0ef"
            ],
            [
             0.5,
             "#f7f7f7"
            ],
            [
             0.6,
             "#e6f5d0"
            ],
            [
             0.7,
             "#b8e186"
            ],
            [
             0.8,
             "#7fbc41"
            ],
            [
             0.9,
             "#4d9221"
            ],
            [
             1,
             "#276419"
            ]
           ],
           "sequential": [
            [
             0,
             "#0d0887"
            ],
            [
             0.1111111111111111,
             "#46039f"
            ],
            [
             0.2222222222222222,
             "#7201a8"
            ],
            [
             0.3333333333333333,
             "#9c179e"
            ],
            [
             0.4444444444444444,
             "#bd3786"
            ],
            [
             0.5555555555555556,
             "#d8576b"
            ],
            [
             0.6666666666666666,
             "#ed7953"
            ],
            [
             0.7777777777777778,
             "#fb9f3a"
            ],
            [
             0.8888888888888888,
             "#fdca26"
            ],
            [
             1,
             "#f0f921"
            ]
           ],
           "sequentialminus": [
            [
             0,
             "#0d0887"
            ],
            [
             0.1111111111111111,
             "#46039f"
            ],
            [
             0.2222222222222222,
             "#7201a8"
            ],
            [
             0.3333333333333333,
             "#9c179e"
            ],
            [
             0.4444444444444444,
             "#bd3786"
            ],
            [
             0.5555555555555556,
             "#d8576b"
            ],
            [
             0.6666666666666666,
             "#ed7953"
            ],
            [
             0.7777777777777778,
             "#fb9f3a"
            ],
            [
             0.8888888888888888,
             "#fdca26"
            ],
            [
             1,
             "#f0f921"
            ]
           ]
          },
          "colorway": [
           "#636efa",
           "#EF553B",
           "#00cc96",
           "#ab63fa",
           "#FFA15A",
           "#19d3f3",
           "#FF6692",
           "#B6E880",
           "#FF97FF",
           "#FECB52"
          ],
          "font": {
           "color": "#2a3f5f"
          },
          "geo": {
           "bgcolor": "white",
           "lakecolor": "white",
           "landcolor": "#E5ECF6",
           "showlakes": true,
           "showland": true,
           "subunitcolor": "white"
          },
          "hoverlabel": {
           "align": "left"
          },
          "hovermode": "closest",
          "mapbox": {
           "style": "light"
          },
          "paper_bgcolor": "white",
          "plot_bgcolor": "#E5ECF6",
          "polar": {
           "angularaxis": {
            "gridcolor": "white",
            "linecolor": "white",
            "ticks": ""
           },
           "bgcolor": "#E5ECF6",
           "radialaxis": {
            "gridcolor": "white",
            "linecolor": "white",
            "ticks": ""
           }
          },
          "scene": {
           "xaxis": {
            "backgroundcolor": "#E5ECF6",
            "gridcolor": "white",
            "gridwidth": 2,
            "linecolor": "white",
            "showbackground": true,
            "ticks": "",
            "zerolinecolor": "white"
           },
           "yaxis": {
            "backgroundcolor": "#E5ECF6",
            "gridcolor": "white",
            "gridwidth": 2,
            "linecolor": "white",
            "showbackground": true,
            "ticks": "",
            "zerolinecolor": "white"
           },
           "zaxis": {
            "backgroundcolor": "#E5ECF6",
            "gridcolor": "white",
            "gridwidth": 2,
            "linecolor": "white",
            "showbackground": true,
            "ticks": "",
            "zerolinecolor": "white"
           }
          },
          "shapedefaults": {
           "line": {
            "color": "#2a3f5f"
           }
          },
          "ternary": {
           "aaxis": {
            "gridcolor": "white",
            "linecolor": "white",
            "ticks": ""
           },
           "baxis": {
            "gridcolor": "white",
            "linecolor": "white",
            "ticks": ""
           },
           "bgcolor": "#E5ECF6",
           "caxis": {
            "gridcolor": "white",
            "linecolor": "white",
            "ticks": ""
           }
          },
          "title": {
           "x": 0.05
          },
          "xaxis": {
           "automargin": true,
           "gridcolor": "white",
           "linecolor": "white",
           "ticks": "",
           "title": {
            "standoff": 15
           },
           "zerolinecolor": "white",
           "zerolinewidth": 2
          },
          "yaxis": {
           "automargin": true,
           "gridcolor": "white",
           "linecolor": "white",
           "ticks": "",
           "title": {
            "standoff": 15
           },
           "zerolinecolor": "white",
           "zerolinewidth": 2
          }
         }
        },
        "title": {
         "text": "Parallel Coordinate Plot"
        }
       }
      },
      "text/html": [
       "<div>                            <div id=\"0aa1ac48-5d68-4186-a8fd-4ffdc1b8138a\" class=\"plotly-graph-div\" style=\"height:525px; width:100%;\"></div>            <script type=\"text/javascript\">                require([\"plotly\"], function(Plotly) {                    window.PLOTLYENV=window.PLOTLYENV || {};                                    if (document.getElementById(\"0aa1ac48-5d68-4186-a8fd-4ffdc1b8138a\")) {                    Plotly.newPlot(                        \"0aa1ac48-5d68-4186-a8fd-4ffdc1b8138a\",                        [{\"dimensions\":[{\"label\":\"Objective Value\",\"range\":[0.6386659772803082,0.7183237061487739],\"values\":[0.6557833196093718,0.6814900277771321,0.6885480371387417,0.6701588108292436,0.6920492296494043,0.6832357028106874,0.6725909672475003,0.6386659772803082,0.6603656636577879,0.6631495580828173,0.6553406035802961,0.6825476903836813,0.6878965661981795,0.6611508649821332,0.7042181856341482,0.642789766130119,0.6660923251354752,0.6522441166737489,0.6721489505730307,0.7183237061487739]},{\"label\":\"bootstrap_type\",\"range\":[0,1],\"ticktext\":[\"Bayesian\",\"Bernoulli\"],\"tickvals\":[0,1],\"values\":[0,0,0,1,0,0,0,1,0,1,0,0,0,0,0,1,0,0,1,0]},{\"label\":\"leaf_estimation_i...\",\"range\":[1,15],\"values\":[6,6,5,9,15,9,4,3,10,15,15,1,12,12,6,7,12,1,13,8]},{\"label\":\"learning_rate\",\"range\":[0.019130995795831586,0.09866950875286389],\"values\":[0.06973855169227149,0.04997268252509746,0.0985164291554969,0.030652694622922985,0.07445407519583642,0.06619788822057343,0.050341862585407134,0.019130995795831586,0.06999580947659723,0.08212463325613924,0.0969522602412336,0.09768444889431506,0.08560604434096022,0.08458816177565193,0.09866950875286389,0.039025649417331026,0.06179126528874331,0.07997670997507687,0.07600373309783286,0.08954166018036998]},{\"label\":\"min_data_in_leaf\",\"range\":[2,20],\"values\":[15,13,20,8,14,18,12,13,2,9,6,20,17,20,16,16,15,11,5,14]},{\"label\":\"od_wait\",\"range\":[500,989],\"values\":[975,583,790,642,565,847,897,785,790,989,500,684,708,572,875,899,870,501,936,611]},{\"label\":\"one_hot_max_size\",\"range\":[1,5],\"values\":[1,1,1,1,2,4,1,5,4,4,2,2,2,3,2,3,2,3,3,2]},{\"label\":\"random_strength\",\"range\":[3.178740686755799,95.20366530003116],\"values\":[14.901388702644757,41.78291247647151,68.73170388715734,64.92087098783608,40.12094223151325,3.178740686755799,6.755097980331692,15.123791612501059,58.82844958007812,37.73561695684137,95.20366530003116,81.90561724762905,75.2253735796682,30.659133295507267,47.5952279747401,47.27648981428484,25.87874143044461,53.563713514413365,30.81578614702707,53.99747941125182]},{\"label\":\"reg_lambda\",\"range\":[3.6061298753494597,97.09495993003857],\"values\":[66.69835922895335,49.579821111612645,31.072697883916103,23.32260338527859,60.70612208572327,37.639504521133134,34.371264942231484,19.928226727332184,26.43971346133375,56.34218355868326,97.09495993003857,3.6061298753494597,77.4128061905831,75.70655969002198,45.06727243734563,49.44361030975654,95.60451491180103,64.01673518436486,43.016137216057665,12.119124357119482]}],\"labelangle\":30,\"labelside\":\"bottom\",\"line\":{\"color\":[0.6557833196093718,0.6814900277771321,0.6885480371387417,0.6701588108292436,0.6920492296494043,0.6832357028106874,0.6725909672475003,0.6386659772803082,0.6603656636577879,0.6631495580828173,0.6553406035802961,0.6825476903836813,0.6878965661981795,0.6611508649821332,0.7042181856341482,0.642789766130119,0.6660923251354752,0.6522441166737489,0.6721489505730307,0.7183237061487739],\"colorbar\":{\"title\":{\"text\":\"Objective Value\"}},\"colorscale\":[[0.0,\"rgb(247,251,255)\"],[0.125,\"rgb(222,235,247)\"],[0.25,\"rgb(198,219,239)\"],[0.375,\"rgb(158,202,225)\"],[0.5,\"rgb(107,174,214)\"],[0.625,\"rgb(66,146,198)\"],[0.75,\"rgb(33,113,181)\"],[0.875,\"rgb(8,81,156)\"],[1.0,\"rgb(8,48,107)\"]],\"reversescale\":false,\"showscale\":true},\"type\":\"parcoords\"}],                        {\"title\":{\"text\":\"Parallel Coordinate Plot\"},\"template\":{\"data\":{\"histogram2dcontour\":[{\"type\":\"histogram2dcontour\",\"colorbar\":{\"outlinewidth\":0,\"ticks\":\"\"},\"colorscale\":[[0.0,\"#0d0887\"],[0.1111111111111111,\"#46039f\"],[0.2222222222222222,\"#7201a8\"],[0.3333333333333333,\"#9c179e\"],[0.4444444444444444,\"#bd3786\"],[0.5555555555555556,\"#d8576b\"],[0.6666666666666666,\"#ed7953\"],[0.7777777777777778,\"#fb9f3a\"],[0.8888888888888888,\"#fdca26\"],[1.0,\"#f0f921\"]]}],\"choropleth\":[{\"type\":\"choropleth\",\"colorbar\":{\"outlinewidth\":0,\"ticks\":\"\"}}],\"histogram2d\":[{\"type\":\"histogram2d\",\"colorbar\":{\"outlinewidth\":0,\"ticks\":\"\"},\"colorscale\":[[0.0,\"#0d0887\"],[0.1111111111111111,\"#46039f\"],[0.2222222222222222,\"#7201a8\"],[0.3333333333333333,\"#9c179e\"],[0.4444444444444444,\"#bd3786\"],[0.5555555555555556,\"#d8576b\"],[0.6666666666666666,\"#ed7953\"],[0.7777777777777778,\"#fb9f3a\"],[0.8888888888888888,\"#fdca26\"],[1.0,\"#f0f921\"]]}],\"heatmap\":[{\"type\":\"heatmap\",\"colorbar\":{\"outlinewidth\":0,\"ticks\":\"\"},\"colorscale\":[[0.0,\"#0d0887\"],[0.1111111111111111,\"#46039f\"],[0.2222222222222222,\"#7201a8\"],[0.3333333333333333,\"#9c179e\"],[0.4444444444444444,\"#bd3786\"],[0.5555555555555556,\"#d8576b\"],[0.6666666666666666,\"#ed7953\"],[0.7777777777777778,\"#fb9f3a\"],[0.8888888888888888,\"#fdca26\"],[1.0,\"#f0f921\"]]}],\"heatmapgl\":[{\"type\":\"heatmapgl\",\"colorbar\":{\"outlinewidth\":0,\"ticks\":\"\"},\"colorscale\":[[0.0,\"#0d0887\"],[0.1111111111111111,\"#46039f\"],[0.2222222222222222,\"#7201a8\"],[0.3333333333333333,\"#9c179e\"],[0.4444444444444444,\"#bd3786\"],[0.5555555555555556,\"#d8576b\"],[0.6666666666666666,\"#ed7953\"],[0.7777777777777778,\"#fb9f3a\"],[0.8888888888888888,\"#fdca26\"],[1.0,\"#f0f921\"]]}],\"contourcarpet\":[{\"type\":\"contourcarpet\",\"colorbar\":{\"outlinewidth\":0,\"ticks\":\"\"}}],\"contour\":[{\"type\":\"contour\",\"colorbar\":{\"outlinewidth\":0,\"ticks\":\"\"},\"colorscale\":[[0.0,\"#0d0887\"],[0.1111111111111111,\"#46039f\"],[0.2222222222222222,\"#7201a8\"],[0.3333333333333333,\"#9c179e\"],[0.4444444444444444,\"#bd3786\"],[0.5555555555555556,\"#d8576b\"],[0.6666666666666666,\"#ed7953\"],[0.7777777777777778,\"#fb9f3a\"],[0.8888888888888888,\"#fdca26\"],[1.0,\"#f0f921\"]]}],\"surface\":[{\"type\":\"surface\",\"colorbar\":{\"outlinewidth\":0,\"ticks\":\"\"},\"colorscale\":[[0.0,\"#0d0887\"],[0.1111111111111111,\"#46039f\"],[0.2222222222222222,\"#7201a8\"],[0.3333333333333333,\"#9c179e\"],[0.4444444444444444,\"#bd3786\"],[0.5555555555555556,\"#d8576b\"],[0.6666666666666666,\"#ed7953\"],[0.7777777777777778,\"#fb9f3a\"],[0.8888888888888888,\"#fdca26\"],[1.0,\"#f0f921\"]]}],\"mesh3d\":[{\"type\":\"mesh3d\",\"colorbar\":{\"outlinewidth\":0,\"ticks\":\"\"}}],\"scatter\":[{\"fillpattern\":{\"fillmode\":\"overlay\",\"size\":10,\"solidity\":0.2},\"type\":\"scatter\"}],\"parcoords\":[{\"type\":\"parcoords\",\"line\":{\"colorbar\":{\"outlinewidth\":0,\"ticks\":\"\"}}}],\"scatterpolargl\":[{\"type\":\"scatterpolargl\",\"marker\":{\"colorbar\":{\"outlinewidth\":0,\"ticks\":\"\"}}}],\"bar\":[{\"error_x\":{\"color\":\"#2a3f5f\"},\"error_y\":{\"color\":\"#2a3f5f\"},\"marker\":{\"line\":{\"color\":\"#E5ECF6\",\"width\":0.5},\"pattern\":{\"fillmode\":\"overlay\",\"size\":10,\"solidity\":0.2}},\"type\":\"bar\"}],\"scattergeo\":[{\"type\":\"scattergeo\",\"marker\":{\"colorbar\":{\"outlinewidth\":0,\"ticks\":\"\"}}}],\"scatterpolar\":[{\"type\":\"scatterpolar\",\"marker\":{\"colorbar\":{\"outlinewidth\":0,\"ticks\":\"\"}}}],\"histogram\":[{\"marker\":{\"pattern\":{\"fillmode\":\"overlay\",\"size\":10,\"solidity\":0.2}},\"type\":\"histogram\"}],\"scattergl\":[{\"type\":\"scattergl\",\"marker\":{\"colorbar\":{\"outlinewidth\":0,\"ticks\":\"\"}}}],\"scatter3d\":[{\"type\":\"scatter3d\",\"line\":{\"colorbar\":{\"outlinewidth\":0,\"ticks\":\"\"}},\"marker\":{\"colorbar\":{\"outlinewidth\":0,\"ticks\":\"\"}}}],\"scattermapbox\":[{\"type\":\"scattermapbox\",\"marker\":{\"colorbar\":{\"outlinewidth\":0,\"ticks\":\"\"}}}],\"scatterternary\":[{\"type\":\"scatterternary\",\"marker\":{\"colorbar\":{\"outlinewidth\":0,\"ticks\":\"\"}}}],\"scattercarpet\":[{\"type\":\"scattercarpet\",\"marker\":{\"colorbar\":{\"outlinewidth\":0,\"ticks\":\"\"}}}],\"carpet\":[{\"aaxis\":{\"endlinecolor\":\"#2a3f5f\",\"gridcolor\":\"white\",\"linecolor\":\"white\",\"minorgridcolor\":\"white\",\"startlinecolor\":\"#2a3f5f\"},\"baxis\":{\"endlinecolor\":\"#2a3f5f\",\"gridcolor\":\"white\",\"linecolor\":\"white\",\"minorgridcolor\":\"white\",\"startlinecolor\":\"#2a3f5f\"},\"type\":\"carpet\"}],\"table\":[{\"cells\":{\"fill\":{\"color\":\"#EBF0F8\"},\"line\":{\"color\":\"white\"}},\"header\":{\"fill\":{\"color\":\"#C8D4E3\"},\"line\":{\"color\":\"white\"}},\"type\":\"table\"}],\"barpolar\":[{\"marker\":{\"line\":{\"color\":\"#E5ECF6\",\"width\":0.5},\"pattern\":{\"fillmode\":\"overlay\",\"size\":10,\"solidity\":0.2}},\"type\":\"barpolar\"}],\"pie\":[{\"automargin\":true,\"type\":\"pie\"}]},\"layout\":{\"autotypenumbers\":\"strict\",\"colorway\":[\"#636efa\",\"#EF553B\",\"#00cc96\",\"#ab63fa\",\"#FFA15A\",\"#19d3f3\",\"#FF6692\",\"#B6E880\",\"#FF97FF\",\"#FECB52\"],\"font\":{\"color\":\"#2a3f5f\"},\"hovermode\":\"closest\",\"hoverlabel\":{\"align\":\"left\"},\"paper_bgcolor\":\"white\",\"plot_bgcolor\":\"#E5ECF6\",\"polar\":{\"bgcolor\":\"#E5ECF6\",\"angularaxis\":{\"gridcolor\":\"white\",\"linecolor\":\"white\",\"ticks\":\"\"},\"radialaxis\":{\"gridcolor\":\"white\",\"linecolor\":\"white\",\"ticks\":\"\"}},\"ternary\":{\"bgcolor\":\"#E5ECF6\",\"aaxis\":{\"gridcolor\":\"white\",\"linecolor\":\"white\",\"ticks\":\"\"},\"baxis\":{\"gridcolor\":\"white\",\"linecolor\":\"white\",\"ticks\":\"\"},\"caxis\":{\"gridcolor\":\"white\",\"linecolor\":\"white\",\"ticks\":\"\"}},\"coloraxis\":{\"colorbar\":{\"outlinewidth\":0,\"ticks\":\"\"}},\"colorscale\":{\"sequential\":[[0.0,\"#0d0887\"],[0.1111111111111111,\"#46039f\"],[0.2222222222222222,\"#7201a8\"],[0.3333333333333333,\"#9c179e\"],[0.4444444444444444,\"#bd3786\"],[0.5555555555555556,\"#d8576b\"],[0.6666666666666666,\"#ed7953\"],[0.7777777777777778,\"#fb9f3a\"],[0.8888888888888888,\"#fdca26\"],[1.0,\"#f0f921\"]],\"sequentialminus\":[[0.0,\"#0d0887\"],[0.1111111111111111,\"#46039f\"],[0.2222222222222222,\"#7201a8\"],[0.3333333333333333,\"#9c179e\"],[0.4444444444444444,\"#bd3786\"],[0.5555555555555556,\"#d8576b\"],[0.6666666666666666,\"#ed7953\"],[0.7777777777777778,\"#fb9f3a\"],[0.8888888888888888,\"#fdca26\"],[1.0,\"#f0f921\"]],\"diverging\":[[0,\"#8e0152\"],[0.1,\"#c51b7d\"],[0.2,\"#de77ae\"],[0.3,\"#f1b6da\"],[0.4,\"#fde0ef\"],[0.5,\"#f7f7f7\"],[0.6,\"#e6f5d0\"],[0.7,\"#b8e186\"],[0.8,\"#7fbc41\"],[0.9,\"#4d9221\"],[1,\"#276419\"]]},\"xaxis\":{\"gridcolor\":\"white\",\"linecolor\":\"white\",\"ticks\":\"\",\"title\":{\"standoff\":15},\"zerolinecolor\":\"white\",\"automargin\":true,\"zerolinewidth\":2},\"yaxis\":{\"gridcolor\":\"white\",\"linecolor\":\"white\",\"ticks\":\"\",\"title\":{\"standoff\":15},\"zerolinecolor\":\"white\",\"automargin\":true,\"zerolinewidth\":2},\"scene\":{\"xaxis\":{\"backgroundcolor\":\"#E5ECF6\",\"gridcolor\":\"white\",\"linecolor\":\"white\",\"showbackground\":true,\"ticks\":\"\",\"zerolinecolor\":\"white\",\"gridwidth\":2},\"yaxis\":{\"backgroundcolor\":\"#E5ECF6\",\"gridcolor\":\"white\",\"linecolor\":\"white\",\"showbackground\":true,\"ticks\":\"\",\"zerolinecolor\":\"white\",\"gridwidth\":2},\"zaxis\":{\"backgroundcolor\":\"#E5ECF6\",\"gridcolor\":\"white\",\"linecolor\":\"white\",\"showbackground\":true,\"ticks\":\"\",\"zerolinecolor\":\"white\",\"gridwidth\":2}},\"shapedefaults\":{\"line\":{\"color\":\"#2a3f5f\"}},\"annotationdefaults\":{\"arrowcolor\":\"#2a3f5f\",\"arrowhead\":0,\"arrowwidth\":1},\"geo\":{\"bgcolor\":\"white\",\"landcolor\":\"#E5ECF6\",\"subunitcolor\":\"white\",\"showland\":true,\"showlakes\":true,\"lakecolor\":\"white\"},\"title\":{\"x\":0.05},\"mapbox\":{\"style\":\"light\"}}}},                        {\"responsive\": true}                    ).then(function(){\n",
       "                            \n",
       "var gd = document.getElementById('0aa1ac48-5d68-4186-a8fd-4ffdc1b8138a');\n",
       "var x = new MutationObserver(function (mutations, observer) {{\n",
       "        var display = window.getComputedStyle(gd).display;\n",
       "        if (!display || display === 'none') {{\n",
       "            console.log([gd, 'removed!']);\n",
       "            Plotly.purge(gd);\n",
       "            observer.disconnect();\n",
       "        }}\n",
       "}});\n",
       "\n",
       "// Listen for the removal of the full notebook cells\n",
       "var notebookContainer = gd.closest('#notebook-container');\n",
       "if (notebookContainer) {{\n",
       "    x.observe(notebookContainer, {childList: true});\n",
       "}}\n",
       "\n",
       "// Listen for the clearing of the current output cell\n",
       "var outputEl = gd.closest('.output');\n",
       "if (outputEl) {{\n",
       "    x.observe(outputEl, {childList: true});\n",
       "}}\n",
       "\n",
       "                        })                };                });            </script>        </div>"
      ]
     },
     "metadata": {},
     "output_type": "display_data"
    }
   ],
   "source": [
    "# 선택된 파라미터 조합 비교\n",
    "fig = optuna.visualization.plot_parallel_coordinate(study)\n",
    "fig.show()"
   ]
  },
  {
   "cell_type": "code",
   "execution_count": 91,
   "id": "33931e05",
   "metadata": {},
   "outputs": [
    {
     "data": {
      "application/vnd.plotly.v1+json": {
       "config": {
        "plotlyServerURL": "https://plot.ly"
       },
       "data": [
        {
         "cliponaxis": false,
         "hovertemplate": [
          "bootstrap_type (CategoricalDistribution): 0.008763776354685022<extra></extra>",
          "od_wait (IntUniformDistribution): 0.0470948329466362<extra></extra>",
          "random_strength (UniformDistribution): 0.047646394546220404<extra></extra>",
          "leaf_estimation_iterations (IntUniformDistribution): 0.09139350965448843<extra></extra>",
          "one_hot_max_size (IntUniformDistribution): 0.1428701086553253<extra></extra>",
          "reg_lambda (UniformDistribution): 0.15487856481277273<extra></extra>",
          "min_data_in_leaf (IntUniformDistribution): 0.1998002374535922<extra></extra>",
          "learning_rate (UniformDistribution): 0.3075525755762797<extra></extra>"
         ],
         "marker": {
          "color": "rgb(66,146,198)"
         },
         "orientation": "h",
         "text": [
          "0.008763776354685022",
          "0.0470948329466362",
          "0.047646394546220404",
          "0.09139350965448843",
          "0.1428701086553253",
          "0.15487856481277273",
          "0.1998002374535922",
          "0.3075525755762797"
         ],
         "textposition": "outside",
         "texttemplate": "%{text:.2f}",
         "type": "bar",
         "x": [
          0.008763776354685022,
          0.0470948329466362,
          0.047646394546220404,
          0.09139350965448843,
          0.1428701086553253,
          0.15487856481277273,
          0.1998002374535922,
          0.3075525755762797
         ],
         "y": [
          "bootstrap_type",
          "od_wait",
          "random_strength",
          "leaf_estimation_iterations",
          "one_hot_max_size",
          "reg_lambda",
          "min_data_in_leaf",
          "learning_rate"
         ]
        }
       ],
       "layout": {
        "showlegend": false,
        "template": {
         "data": {
          "bar": [
           {
            "error_x": {
             "color": "#2a3f5f"
            },
            "error_y": {
             "color": "#2a3f5f"
            },
            "marker": {
             "line": {
              "color": "#E5ECF6",
              "width": 0.5
             },
             "pattern": {
              "fillmode": "overlay",
              "size": 10,
              "solidity": 0.2
             }
            },
            "type": "bar"
           }
          ],
          "barpolar": [
           {
            "marker": {
             "line": {
              "color": "#E5ECF6",
              "width": 0.5
             },
             "pattern": {
              "fillmode": "overlay",
              "size": 10,
              "solidity": 0.2
             }
            },
            "type": "barpolar"
           }
          ],
          "carpet": [
           {
            "aaxis": {
             "endlinecolor": "#2a3f5f",
             "gridcolor": "white",
             "linecolor": "white",
             "minorgridcolor": "white",
             "startlinecolor": "#2a3f5f"
            },
            "baxis": {
             "endlinecolor": "#2a3f5f",
             "gridcolor": "white",
             "linecolor": "white",
             "minorgridcolor": "white",
             "startlinecolor": "#2a3f5f"
            },
            "type": "carpet"
           }
          ],
          "choropleth": [
           {
            "colorbar": {
             "outlinewidth": 0,
             "ticks": ""
            },
            "type": "choropleth"
           }
          ],
          "contour": [
           {
            "colorbar": {
             "outlinewidth": 0,
             "ticks": ""
            },
            "colorscale": [
             [
              0,
              "#0d0887"
             ],
             [
              0.1111111111111111,
              "#46039f"
             ],
             [
              0.2222222222222222,
              "#7201a8"
             ],
             [
              0.3333333333333333,
              "#9c179e"
             ],
             [
              0.4444444444444444,
              "#bd3786"
             ],
             [
              0.5555555555555556,
              "#d8576b"
             ],
             [
              0.6666666666666666,
              "#ed7953"
             ],
             [
              0.7777777777777778,
              "#fb9f3a"
             ],
             [
              0.8888888888888888,
              "#fdca26"
             ],
             [
              1,
              "#f0f921"
             ]
            ],
            "type": "contour"
           }
          ],
          "contourcarpet": [
           {
            "colorbar": {
             "outlinewidth": 0,
             "ticks": ""
            },
            "type": "contourcarpet"
           }
          ],
          "heatmap": [
           {
            "colorbar": {
             "outlinewidth": 0,
             "ticks": ""
            },
            "colorscale": [
             [
              0,
              "#0d0887"
             ],
             [
              0.1111111111111111,
              "#46039f"
             ],
             [
              0.2222222222222222,
              "#7201a8"
             ],
             [
              0.3333333333333333,
              "#9c179e"
             ],
             [
              0.4444444444444444,
              "#bd3786"
             ],
             [
              0.5555555555555556,
              "#d8576b"
             ],
             [
              0.6666666666666666,
              "#ed7953"
             ],
             [
              0.7777777777777778,
              "#fb9f3a"
             ],
             [
              0.8888888888888888,
              "#fdca26"
             ],
             [
              1,
              "#f0f921"
             ]
            ],
            "type": "heatmap"
           }
          ],
          "heatmapgl": [
           {
            "colorbar": {
             "outlinewidth": 0,
             "ticks": ""
            },
            "colorscale": [
             [
              0,
              "#0d0887"
             ],
             [
              0.1111111111111111,
              "#46039f"
             ],
             [
              0.2222222222222222,
              "#7201a8"
             ],
             [
              0.3333333333333333,
              "#9c179e"
             ],
             [
              0.4444444444444444,
              "#bd3786"
             ],
             [
              0.5555555555555556,
              "#d8576b"
             ],
             [
              0.6666666666666666,
              "#ed7953"
             ],
             [
              0.7777777777777778,
              "#fb9f3a"
             ],
             [
              0.8888888888888888,
              "#fdca26"
             ],
             [
              1,
              "#f0f921"
             ]
            ],
            "type": "heatmapgl"
           }
          ],
          "histogram": [
           {
            "marker": {
             "pattern": {
              "fillmode": "overlay",
              "size": 10,
              "solidity": 0.2
             }
            },
            "type": "histogram"
           }
          ],
          "histogram2d": [
           {
            "colorbar": {
             "outlinewidth": 0,
             "ticks": ""
            },
            "colorscale": [
             [
              0,
              "#0d0887"
             ],
             [
              0.1111111111111111,
              "#46039f"
             ],
             [
              0.2222222222222222,
              "#7201a8"
             ],
             [
              0.3333333333333333,
              "#9c179e"
             ],
             [
              0.4444444444444444,
              "#bd3786"
             ],
             [
              0.5555555555555556,
              "#d8576b"
             ],
             [
              0.6666666666666666,
              "#ed7953"
             ],
             [
              0.7777777777777778,
              "#fb9f3a"
             ],
             [
              0.8888888888888888,
              "#fdca26"
             ],
             [
              1,
              "#f0f921"
             ]
            ],
            "type": "histogram2d"
           }
          ],
          "histogram2dcontour": [
           {
            "colorbar": {
             "outlinewidth": 0,
             "ticks": ""
            },
            "colorscale": [
             [
              0,
              "#0d0887"
             ],
             [
              0.1111111111111111,
              "#46039f"
             ],
             [
              0.2222222222222222,
              "#7201a8"
             ],
             [
              0.3333333333333333,
              "#9c179e"
             ],
             [
              0.4444444444444444,
              "#bd3786"
             ],
             [
              0.5555555555555556,
              "#d8576b"
             ],
             [
              0.6666666666666666,
              "#ed7953"
             ],
             [
              0.7777777777777778,
              "#fb9f3a"
             ],
             [
              0.8888888888888888,
              "#fdca26"
             ],
             [
              1,
              "#f0f921"
             ]
            ],
            "type": "histogram2dcontour"
           }
          ],
          "mesh3d": [
           {
            "colorbar": {
             "outlinewidth": 0,
             "ticks": ""
            },
            "type": "mesh3d"
           }
          ],
          "parcoords": [
           {
            "line": {
             "colorbar": {
              "outlinewidth": 0,
              "ticks": ""
             }
            },
            "type": "parcoords"
           }
          ],
          "pie": [
           {
            "automargin": true,
            "type": "pie"
           }
          ],
          "scatter": [
           {
            "fillpattern": {
             "fillmode": "overlay",
             "size": 10,
             "solidity": 0.2
            },
            "type": "scatter"
           }
          ],
          "scatter3d": [
           {
            "line": {
             "colorbar": {
              "outlinewidth": 0,
              "ticks": ""
             }
            },
            "marker": {
             "colorbar": {
              "outlinewidth": 0,
              "ticks": ""
             }
            },
            "type": "scatter3d"
           }
          ],
          "scattercarpet": [
           {
            "marker": {
             "colorbar": {
              "outlinewidth": 0,
              "ticks": ""
             }
            },
            "type": "scattercarpet"
           }
          ],
          "scattergeo": [
           {
            "marker": {
             "colorbar": {
              "outlinewidth": 0,
              "ticks": ""
             }
            },
            "type": "scattergeo"
           }
          ],
          "scattergl": [
           {
            "marker": {
             "colorbar": {
              "outlinewidth": 0,
              "ticks": ""
             }
            },
            "type": "scattergl"
           }
          ],
          "scattermapbox": [
           {
            "marker": {
             "colorbar": {
              "outlinewidth": 0,
              "ticks": ""
             }
            },
            "type": "scattermapbox"
           }
          ],
          "scatterpolar": [
           {
            "marker": {
             "colorbar": {
              "outlinewidth": 0,
              "ticks": ""
             }
            },
            "type": "scatterpolar"
           }
          ],
          "scatterpolargl": [
           {
            "marker": {
             "colorbar": {
              "outlinewidth": 0,
              "ticks": ""
             }
            },
            "type": "scatterpolargl"
           }
          ],
          "scatterternary": [
           {
            "marker": {
             "colorbar": {
              "outlinewidth": 0,
              "ticks": ""
             }
            },
            "type": "scatterternary"
           }
          ],
          "surface": [
           {
            "colorbar": {
             "outlinewidth": 0,
             "ticks": ""
            },
            "colorscale": [
             [
              0,
              "#0d0887"
             ],
             [
              0.1111111111111111,
              "#46039f"
             ],
             [
              0.2222222222222222,
              "#7201a8"
             ],
             [
              0.3333333333333333,
              "#9c179e"
             ],
             [
              0.4444444444444444,
              "#bd3786"
             ],
             [
              0.5555555555555556,
              "#d8576b"
             ],
             [
              0.6666666666666666,
              "#ed7953"
             ],
             [
              0.7777777777777778,
              "#fb9f3a"
             ],
             [
              0.8888888888888888,
              "#fdca26"
             ],
             [
              1,
              "#f0f921"
             ]
            ],
            "type": "surface"
           }
          ],
          "table": [
           {
            "cells": {
             "fill": {
              "color": "#EBF0F8"
             },
             "line": {
              "color": "white"
             }
            },
            "header": {
             "fill": {
              "color": "#C8D4E3"
             },
             "line": {
              "color": "white"
             }
            },
            "type": "table"
           }
          ]
         },
         "layout": {
          "annotationdefaults": {
           "arrowcolor": "#2a3f5f",
           "arrowhead": 0,
           "arrowwidth": 1
          },
          "autotypenumbers": "strict",
          "coloraxis": {
           "colorbar": {
            "outlinewidth": 0,
            "ticks": ""
           }
          },
          "colorscale": {
           "diverging": [
            [
             0,
             "#8e0152"
            ],
            [
             0.1,
             "#c51b7d"
            ],
            [
             0.2,
             "#de77ae"
            ],
            [
             0.3,
             "#f1b6da"
            ],
            [
             0.4,
             "#fde0ef"
            ],
            [
             0.5,
             "#f7f7f7"
            ],
            [
             0.6,
             "#e6f5d0"
            ],
            [
             0.7,
             "#b8e186"
            ],
            [
             0.8,
             "#7fbc41"
            ],
            [
             0.9,
             "#4d9221"
            ],
            [
             1,
             "#276419"
            ]
           ],
           "sequential": [
            [
             0,
             "#0d0887"
            ],
            [
             0.1111111111111111,
             "#46039f"
            ],
            [
             0.2222222222222222,
             "#7201a8"
            ],
            [
             0.3333333333333333,
             "#9c179e"
            ],
            [
             0.4444444444444444,
             "#bd3786"
            ],
            [
             0.5555555555555556,
             "#d8576b"
            ],
            [
             0.6666666666666666,
             "#ed7953"
            ],
            [
             0.7777777777777778,
             "#fb9f3a"
            ],
            [
             0.8888888888888888,
             "#fdca26"
            ],
            [
             1,
             "#f0f921"
            ]
           ],
           "sequentialminus": [
            [
             0,
             "#0d0887"
            ],
            [
             0.1111111111111111,
             "#46039f"
            ],
            [
             0.2222222222222222,
             "#7201a8"
            ],
            [
             0.3333333333333333,
             "#9c179e"
            ],
            [
             0.4444444444444444,
             "#bd3786"
            ],
            [
             0.5555555555555556,
             "#d8576b"
            ],
            [
             0.6666666666666666,
             "#ed7953"
            ],
            [
             0.7777777777777778,
             "#fb9f3a"
            ],
            [
             0.8888888888888888,
             "#fdca26"
            ],
            [
             1,
             "#f0f921"
            ]
           ]
          },
          "colorway": [
           "#636efa",
           "#EF553B",
           "#00cc96",
           "#ab63fa",
           "#FFA15A",
           "#19d3f3",
           "#FF6692",
           "#B6E880",
           "#FF97FF",
           "#FECB52"
          ],
          "font": {
           "color": "#2a3f5f"
          },
          "geo": {
           "bgcolor": "white",
           "lakecolor": "white",
           "landcolor": "#E5ECF6",
           "showlakes": true,
           "showland": true,
           "subunitcolor": "white"
          },
          "hoverlabel": {
           "align": "left"
          },
          "hovermode": "closest",
          "mapbox": {
           "style": "light"
          },
          "paper_bgcolor": "white",
          "plot_bgcolor": "#E5ECF6",
          "polar": {
           "angularaxis": {
            "gridcolor": "white",
            "linecolor": "white",
            "ticks": ""
           },
           "bgcolor": "#E5ECF6",
           "radialaxis": {
            "gridcolor": "white",
            "linecolor": "white",
            "ticks": ""
           }
          },
          "scene": {
           "xaxis": {
            "backgroundcolor": "#E5ECF6",
            "gridcolor": "white",
            "gridwidth": 2,
            "linecolor": "white",
            "showbackground": true,
            "ticks": "",
            "zerolinecolor": "white"
           },
           "yaxis": {
            "backgroundcolor": "#E5ECF6",
            "gridcolor": "white",
            "gridwidth": 2,
            "linecolor": "white",
            "showbackground": true,
            "ticks": "",
            "zerolinecolor": "white"
           },
           "zaxis": {
            "backgroundcolor": "#E5ECF6",
            "gridcolor": "white",
            "gridwidth": 2,
            "linecolor": "white",
            "showbackground": true,
            "ticks": "",
            "zerolinecolor": "white"
           }
          },
          "shapedefaults": {
           "line": {
            "color": "#2a3f5f"
           }
          },
          "ternary": {
           "aaxis": {
            "gridcolor": "white",
            "linecolor": "white",
            "ticks": ""
           },
           "baxis": {
            "gridcolor": "white",
            "linecolor": "white",
            "ticks": ""
           },
           "bgcolor": "#E5ECF6",
           "caxis": {
            "gridcolor": "white",
            "linecolor": "white",
            "ticks": ""
           }
          },
          "title": {
           "x": 0.05
          },
          "xaxis": {
           "automargin": true,
           "gridcolor": "white",
           "linecolor": "white",
           "ticks": "",
           "title": {
            "standoff": 15
           },
           "zerolinecolor": "white",
           "zerolinewidth": 2
          },
          "yaxis": {
           "automargin": true,
           "gridcolor": "white",
           "linecolor": "white",
           "ticks": "",
           "title": {
            "standoff": 15
           },
           "zerolinecolor": "white",
           "zerolinewidth": 2
          }
         }
        },
        "title": {
         "text": "Hyperparameter Importances"
        },
        "xaxis": {
         "title": {
          "text": "Importance for Objective Value"
         }
        },
        "yaxis": {
         "title": {
          "text": "Hyperparameter"
         }
        }
       }
      },
      "text/html": [
       "<div>                            <div id=\"fba0c925-898b-4b5d-925e-00f7ee36cf50\" class=\"plotly-graph-div\" style=\"height:525px; width:100%;\"></div>            <script type=\"text/javascript\">                require([\"plotly\"], function(Plotly) {                    window.PLOTLYENV=window.PLOTLYENV || {};                                    if (document.getElementById(\"fba0c925-898b-4b5d-925e-00f7ee36cf50\")) {                    Plotly.newPlot(                        \"fba0c925-898b-4b5d-925e-00f7ee36cf50\",                        [{\"cliponaxis\":false,\"hovertemplate\":[\"bootstrap_type (CategoricalDistribution): 0.008763776354685022<extra></extra>\",\"od_wait (IntUniformDistribution): 0.0470948329466362<extra></extra>\",\"random_strength (UniformDistribution): 0.047646394546220404<extra></extra>\",\"leaf_estimation_iterations (IntUniformDistribution): 0.09139350965448843<extra></extra>\",\"one_hot_max_size (IntUniformDistribution): 0.1428701086553253<extra></extra>\",\"reg_lambda (UniformDistribution): 0.15487856481277273<extra></extra>\",\"min_data_in_leaf (IntUniformDistribution): 0.1998002374535922<extra></extra>\",\"learning_rate (UniformDistribution): 0.3075525755762797<extra></extra>\"],\"marker\":{\"color\":\"rgb(66,146,198)\"},\"orientation\":\"h\",\"text\":[\"0.008763776354685022\",\"0.0470948329466362\",\"0.047646394546220404\",\"0.09139350965448843\",\"0.1428701086553253\",\"0.15487856481277273\",\"0.1998002374535922\",\"0.3075525755762797\"],\"textposition\":\"outside\",\"texttemplate\":\"%{text:.2f}\",\"x\":[0.008763776354685022,0.0470948329466362,0.047646394546220404,0.09139350965448843,0.1428701086553253,0.15487856481277273,0.1998002374535922,0.3075525755762797],\"y\":[\"bootstrap_type\",\"od_wait\",\"random_strength\",\"leaf_estimation_iterations\",\"one_hot_max_size\",\"reg_lambda\",\"min_data_in_leaf\",\"learning_rate\"],\"type\":\"bar\"}],                        {\"showlegend\":false,\"title\":{\"text\":\"Hyperparameter Importances\"},\"xaxis\":{\"title\":{\"text\":\"Importance for Objective Value\"}},\"yaxis\":{\"title\":{\"text\":\"Hyperparameter\"}},\"template\":{\"data\":{\"histogram2dcontour\":[{\"type\":\"histogram2dcontour\",\"colorbar\":{\"outlinewidth\":0,\"ticks\":\"\"},\"colorscale\":[[0.0,\"#0d0887\"],[0.1111111111111111,\"#46039f\"],[0.2222222222222222,\"#7201a8\"],[0.3333333333333333,\"#9c179e\"],[0.4444444444444444,\"#bd3786\"],[0.5555555555555556,\"#d8576b\"],[0.6666666666666666,\"#ed7953\"],[0.7777777777777778,\"#fb9f3a\"],[0.8888888888888888,\"#fdca26\"],[1.0,\"#f0f921\"]]}],\"choropleth\":[{\"type\":\"choropleth\",\"colorbar\":{\"outlinewidth\":0,\"ticks\":\"\"}}],\"histogram2d\":[{\"type\":\"histogram2d\",\"colorbar\":{\"outlinewidth\":0,\"ticks\":\"\"},\"colorscale\":[[0.0,\"#0d0887\"],[0.1111111111111111,\"#46039f\"],[0.2222222222222222,\"#7201a8\"],[0.3333333333333333,\"#9c179e\"],[0.4444444444444444,\"#bd3786\"],[0.5555555555555556,\"#d8576b\"],[0.6666666666666666,\"#ed7953\"],[0.7777777777777778,\"#fb9f3a\"],[0.8888888888888888,\"#fdca26\"],[1.0,\"#f0f921\"]]}],\"heatmap\":[{\"type\":\"heatmap\",\"colorbar\":{\"outlinewidth\":0,\"ticks\":\"\"},\"colorscale\":[[0.0,\"#0d0887\"],[0.1111111111111111,\"#46039f\"],[0.2222222222222222,\"#7201a8\"],[0.3333333333333333,\"#9c179e\"],[0.4444444444444444,\"#bd3786\"],[0.5555555555555556,\"#d8576b\"],[0.6666666666666666,\"#ed7953\"],[0.7777777777777778,\"#fb9f3a\"],[0.8888888888888888,\"#fdca26\"],[1.0,\"#f0f921\"]]}],\"heatmapgl\":[{\"type\":\"heatmapgl\",\"colorbar\":{\"outlinewidth\":0,\"ticks\":\"\"},\"colorscale\":[[0.0,\"#0d0887\"],[0.1111111111111111,\"#46039f\"],[0.2222222222222222,\"#7201a8\"],[0.3333333333333333,\"#9c179e\"],[0.4444444444444444,\"#bd3786\"],[0.5555555555555556,\"#d8576b\"],[0.6666666666666666,\"#ed7953\"],[0.7777777777777778,\"#fb9f3a\"],[0.8888888888888888,\"#fdca26\"],[1.0,\"#f0f921\"]]}],\"contourcarpet\":[{\"type\":\"contourcarpet\",\"colorbar\":{\"outlinewidth\":0,\"ticks\":\"\"}}],\"contour\":[{\"type\":\"contour\",\"colorbar\":{\"outlinewidth\":0,\"ticks\":\"\"},\"colorscale\":[[0.0,\"#0d0887\"],[0.1111111111111111,\"#46039f\"],[0.2222222222222222,\"#7201a8\"],[0.3333333333333333,\"#9c179e\"],[0.4444444444444444,\"#bd3786\"],[0.5555555555555556,\"#d8576b\"],[0.6666666666666666,\"#ed7953\"],[0.7777777777777778,\"#fb9f3a\"],[0.8888888888888888,\"#fdca26\"],[1.0,\"#f0f921\"]]}],\"surface\":[{\"type\":\"surface\",\"colorbar\":{\"outlinewidth\":0,\"ticks\":\"\"},\"colorscale\":[[0.0,\"#0d0887\"],[0.1111111111111111,\"#46039f\"],[0.2222222222222222,\"#7201a8\"],[0.3333333333333333,\"#9c179e\"],[0.4444444444444444,\"#bd3786\"],[0.5555555555555556,\"#d8576b\"],[0.6666666666666666,\"#ed7953\"],[0.7777777777777778,\"#fb9f3a\"],[0.8888888888888888,\"#fdca26\"],[1.0,\"#f0f921\"]]}],\"mesh3d\":[{\"type\":\"mesh3d\",\"colorbar\":{\"outlinewidth\":0,\"ticks\":\"\"}}],\"scatter\":[{\"fillpattern\":{\"fillmode\":\"overlay\",\"size\":10,\"solidity\":0.2},\"type\":\"scatter\"}],\"parcoords\":[{\"type\":\"parcoords\",\"line\":{\"colorbar\":{\"outlinewidth\":0,\"ticks\":\"\"}}}],\"scatterpolargl\":[{\"type\":\"scatterpolargl\",\"marker\":{\"colorbar\":{\"outlinewidth\":0,\"ticks\":\"\"}}}],\"bar\":[{\"error_x\":{\"color\":\"#2a3f5f\"},\"error_y\":{\"color\":\"#2a3f5f\"},\"marker\":{\"line\":{\"color\":\"#E5ECF6\",\"width\":0.5},\"pattern\":{\"fillmode\":\"overlay\",\"size\":10,\"solidity\":0.2}},\"type\":\"bar\"}],\"scattergeo\":[{\"type\":\"scattergeo\",\"marker\":{\"colorbar\":{\"outlinewidth\":0,\"ticks\":\"\"}}}],\"scatterpolar\":[{\"type\":\"scatterpolar\",\"marker\":{\"colorbar\":{\"outlinewidth\":0,\"ticks\":\"\"}}}],\"histogram\":[{\"marker\":{\"pattern\":{\"fillmode\":\"overlay\",\"size\":10,\"solidity\":0.2}},\"type\":\"histogram\"}],\"scattergl\":[{\"type\":\"scattergl\",\"marker\":{\"colorbar\":{\"outlinewidth\":0,\"ticks\":\"\"}}}],\"scatter3d\":[{\"type\":\"scatter3d\",\"line\":{\"colorbar\":{\"outlinewidth\":0,\"ticks\":\"\"}},\"marker\":{\"colorbar\":{\"outlinewidth\":0,\"ticks\":\"\"}}}],\"scattermapbox\":[{\"type\":\"scattermapbox\",\"marker\":{\"colorbar\":{\"outlinewidth\":0,\"ticks\":\"\"}}}],\"scatterternary\":[{\"type\":\"scatterternary\",\"marker\":{\"colorbar\":{\"outlinewidth\":0,\"ticks\":\"\"}}}],\"scattercarpet\":[{\"type\":\"scattercarpet\",\"marker\":{\"colorbar\":{\"outlinewidth\":0,\"ticks\":\"\"}}}],\"carpet\":[{\"aaxis\":{\"endlinecolor\":\"#2a3f5f\",\"gridcolor\":\"white\",\"linecolor\":\"white\",\"minorgridcolor\":\"white\",\"startlinecolor\":\"#2a3f5f\"},\"baxis\":{\"endlinecolor\":\"#2a3f5f\",\"gridcolor\":\"white\",\"linecolor\":\"white\",\"minorgridcolor\":\"white\",\"startlinecolor\":\"#2a3f5f\"},\"type\":\"carpet\"}],\"table\":[{\"cells\":{\"fill\":{\"color\":\"#EBF0F8\"},\"line\":{\"color\":\"white\"}},\"header\":{\"fill\":{\"color\":\"#C8D4E3\"},\"line\":{\"color\":\"white\"}},\"type\":\"table\"}],\"barpolar\":[{\"marker\":{\"line\":{\"color\":\"#E5ECF6\",\"width\":0.5},\"pattern\":{\"fillmode\":\"overlay\",\"size\":10,\"solidity\":0.2}},\"type\":\"barpolar\"}],\"pie\":[{\"automargin\":true,\"type\":\"pie\"}]},\"layout\":{\"autotypenumbers\":\"strict\",\"colorway\":[\"#636efa\",\"#EF553B\",\"#00cc96\",\"#ab63fa\",\"#FFA15A\",\"#19d3f3\",\"#FF6692\",\"#B6E880\",\"#FF97FF\",\"#FECB52\"],\"font\":{\"color\":\"#2a3f5f\"},\"hovermode\":\"closest\",\"hoverlabel\":{\"align\":\"left\"},\"paper_bgcolor\":\"white\",\"plot_bgcolor\":\"#E5ECF6\",\"polar\":{\"bgcolor\":\"#E5ECF6\",\"angularaxis\":{\"gridcolor\":\"white\",\"linecolor\":\"white\",\"ticks\":\"\"},\"radialaxis\":{\"gridcolor\":\"white\",\"linecolor\":\"white\",\"ticks\":\"\"}},\"ternary\":{\"bgcolor\":\"#E5ECF6\",\"aaxis\":{\"gridcolor\":\"white\",\"linecolor\":\"white\",\"ticks\":\"\"},\"baxis\":{\"gridcolor\":\"white\",\"linecolor\":\"white\",\"ticks\":\"\"},\"caxis\":{\"gridcolor\":\"white\",\"linecolor\":\"white\",\"ticks\":\"\"}},\"coloraxis\":{\"colorbar\":{\"outlinewidth\":0,\"ticks\":\"\"}},\"colorscale\":{\"sequential\":[[0.0,\"#0d0887\"],[0.1111111111111111,\"#46039f\"],[0.2222222222222222,\"#7201a8\"],[0.3333333333333333,\"#9c179e\"],[0.4444444444444444,\"#bd3786\"],[0.5555555555555556,\"#d8576b\"],[0.6666666666666666,\"#ed7953\"],[0.7777777777777778,\"#fb9f3a\"],[0.8888888888888888,\"#fdca26\"],[1.0,\"#f0f921\"]],\"sequentialminus\":[[0.0,\"#0d0887\"],[0.1111111111111111,\"#46039f\"],[0.2222222222222222,\"#7201a8\"],[0.3333333333333333,\"#9c179e\"],[0.4444444444444444,\"#bd3786\"],[0.5555555555555556,\"#d8576b\"],[0.6666666666666666,\"#ed7953\"],[0.7777777777777778,\"#fb9f3a\"],[0.8888888888888888,\"#fdca26\"],[1.0,\"#f0f921\"]],\"diverging\":[[0,\"#8e0152\"],[0.1,\"#c51b7d\"],[0.2,\"#de77ae\"],[0.3,\"#f1b6da\"],[0.4,\"#fde0ef\"],[0.5,\"#f7f7f7\"],[0.6,\"#e6f5d0\"],[0.7,\"#b8e186\"],[0.8,\"#7fbc41\"],[0.9,\"#4d9221\"],[1,\"#276419\"]]},\"xaxis\":{\"gridcolor\":\"white\",\"linecolor\":\"white\",\"ticks\":\"\",\"title\":{\"standoff\":15},\"zerolinecolor\":\"white\",\"automargin\":true,\"zerolinewidth\":2},\"yaxis\":{\"gridcolor\":\"white\",\"linecolor\":\"white\",\"ticks\":\"\",\"title\":{\"standoff\":15},\"zerolinecolor\":\"white\",\"automargin\":true,\"zerolinewidth\":2},\"scene\":{\"xaxis\":{\"backgroundcolor\":\"#E5ECF6\",\"gridcolor\":\"white\",\"linecolor\":\"white\",\"showbackground\":true,\"ticks\":\"\",\"zerolinecolor\":\"white\",\"gridwidth\":2},\"yaxis\":{\"backgroundcolor\":\"#E5ECF6\",\"gridcolor\":\"white\",\"linecolor\":\"white\",\"showbackground\":true,\"ticks\":\"\",\"zerolinecolor\":\"white\",\"gridwidth\":2},\"zaxis\":{\"backgroundcolor\":\"#E5ECF6\",\"gridcolor\":\"white\",\"linecolor\":\"white\",\"showbackground\":true,\"ticks\":\"\",\"zerolinecolor\":\"white\",\"gridwidth\":2}},\"shapedefaults\":{\"line\":{\"color\":\"#2a3f5f\"}},\"annotationdefaults\":{\"arrowcolor\":\"#2a3f5f\",\"arrowhead\":0,\"arrowwidth\":1},\"geo\":{\"bgcolor\":\"white\",\"landcolor\":\"#E5ECF6\",\"subunitcolor\":\"white\",\"showland\":true,\"showlakes\":true,\"lakecolor\":\"white\"},\"title\":{\"x\":0.05},\"mapbox\":{\"style\":\"light\"}}}},                        {\"responsive\": true}                    ).then(function(){\n",
       "                            \n",
       "var gd = document.getElementById('fba0c925-898b-4b5d-925e-00f7ee36cf50');\n",
       "var x = new MutationObserver(function (mutations, observer) {{\n",
       "        var display = window.getComputedStyle(gd).display;\n",
       "        if (!display || display === 'none') {{\n",
       "            console.log([gd, 'removed!']);\n",
       "            Plotly.purge(gd);\n",
       "            observer.disconnect();\n",
       "        }}\n",
       "}});\n",
       "\n",
       "// Listen for the removal of the full notebook cells\n",
       "var notebookContainer = gd.closest('#notebook-container');\n",
       "if (notebookContainer) {{\n",
       "    x.observe(notebookContainer, {childList: true});\n",
       "}}\n",
       "\n",
       "// Listen for the clearing of the current output cell\n",
       "var outputEl = gd.closest('.output');\n",
       "if (outputEl) {{\n",
       "    x.observe(outputEl, {childList: true});\n",
       "}}\n",
       "\n",
       "                        })                };                });            </script>        </div>"
      ]
     },
     "metadata": {},
     "output_type": "display_data"
    }
   ],
   "source": [
    "# 가장 영향력이 큰 파라미터\n",
    "fig = optuna.visualization.plot_param_importances(study)\n",
    "fig.show()"
   ]
  },
  {
   "cell_type": "code",
   "execution_count": 92,
   "id": "69fdc5eb",
   "metadata": {},
   "outputs": [
    {
     "name": "stdout",
     "output_type": "stream",
     "text": [
      "0.7183237061487739\n",
      "\n",
      "{'bootstrap_type': 'Bayesian', 'od_wait': 611, 'learning_rate': 0.08954166018036998, 'reg_lambda': 12.119124357119482, 'random_strength': 53.99747941125182, 'min_data_in_leaf': 14, 'leaf_estimation_iterations': 8, 'one_hot_max_size': 2}\n"
     ]
    }
   ],
   "source": [
    "print(study.best_trial.value, end='\\n\\n')\n",
    "print(study.best_params)"
   ]
  },
  {
   "cell_type": "code",
   "execution_count": 93,
   "id": "b8bcf000",
   "metadata": {},
   "outputs": [
    {
     "name": "stderr",
     "output_type": "stream",
     "text": [
      "15it [05:24, 21.64s/it]"
     ]
    },
    {
     "name": "stdout",
     "output_type": "stream",
     "text": [
      "0.6091954022988505 ~ 0.7829192021636241\n",
      "mean : 0.7045518820207224\n"
     ]
    },
    {
     "name": "stderr",
     "output_type": "stream",
     "text": [
      "\n"
     ]
    }
   ],
   "source": [
    "rskfold = RepeatedStratifiedKFold(n_splits=5, n_repeats=3)\n",
    "clf = catboost.CatBoostClassifier(**study.best_params, verbose=0, task_type=\"GPU\")\n",
    "\n",
    "f1_list = []\n",
    "for fold, (train_index, val_index) in enumerate(tqdm(rskfold.split(train_x, train_y))):\n",
    "    x_trn, x_val, y_trn, y_val = train_x.loc[train_index], train_x.loc[val_index], train_y.loc[train_index], train_y.loc[val_index]\n",
    "\n",
    "    clf.fit(x_trn, y_trn, early_stopping_rounds=100)\n",
    "    f1_list.append(f1_score(clf.predict(x_val), y_val, average='macro'))\n",
    "    \n",
    "print(f'{min(f1_list)} ~ {max(f1_list)}')\n",
    "print('mean :', np.mean(f1_list))"
   ]
  },
  {
   "cell_type": "markdown",
   "id": "dfd14679",
   "metadata": {},
   "source": [
    "#### threshold(임계값) 변경"
   ]
  },
  {
   "cell_type": "code",
   "execution_count": 40,
   "id": "139e02a2",
   "metadata": {},
   "outputs": [],
   "source": [
    "def cb_objective(trial):\n",
    "\n",
    "    params = {\n",
    "            'bootstrap_type':trial.suggest_categorical('bootstrap_type', ['Bayesian', 'Bernoulli']),\n",
    "            'od_wait':trial.suggest_int('od_wait', 500, 1000),\n",
    "            'learning_rate' : trial.suggest_uniform('learning_rate',0.01,0.1),\n",
    "            'reg_lambda': trial.suggest_uniform('reg_lambda',1e-5,100),\n",
    "            'random_strength': trial.suggest_uniform('random_strength',0,100),\n",
    "            #'depth': trial.suggest_int('depth',2,15),\n",
    "            'min_data_in_leaf': trial.suggest_int('min_data_in_leaf',1,20),\n",
    "            'leaf_estimation_iterations': trial.suggest_int('leaf_estimation_iterations',1,15),\n",
    "            'verbose': False,\n",
    "            #\"eval_metric\": 'TotalF1',\n",
    "            \"one_hot_max_size\": trial.suggest_int(\"one_hot_max_size\", 1, 5),\n",
    "            'task_type': 'GPU',\n",
    "        }\n",
    "    \n",
    "    clf = catboost.CatBoostClassifier(**params)\n",
    "\n",
    "    rskfold = RepeatedStratifiedKFold(n_splits=5, n_repeats=1)\n",
    "\n",
    "    f1_list = []\n",
    "    for fold, (train_index, val_index) in enumerate(rskfold.split(train_x, train_y)):\n",
    "        x_trn, x_val, y_trn, y_val = train_x.loc[train_index], train_x.loc[val_index], train_y.loc[train_index], train_y.loc[val_index]\n",
    "        clf.fit(x_trn, y_trn, early_stopping_rounds=30)\n",
    "        \n",
    "        # Y_Class = 1 이라고 예측했지만, 그 확률이 threshold 미만인 경우, 다른 Y_Class로 변경하도록 했다.\n",
    "        pred = []\n",
    "        for proba in clf.predict_proba(x_val):\n",
    "            if list(proba).index(max(proba)) == 1 and max(proba) <= threshold:\n",
    "                if proba[0] > proba[2]: \n",
    "                    pred.append(0)\n",
    "                elif proba[0] < proba[2]:\n",
    "                    pred.append(2)\n",
    "                else:\n",
    "                    pred.append(1)\n",
    "            else:\n",
    "                pred.append(list(proba).index(max(proba)))\n",
    "                \n",
    "        f1_list.append(f1_score(pred, y_val, average='macro'))\n",
    "    \n",
    "    return np.mean(f1_list)        "
   ]
  },
  {
   "cell_type": "code",
   "execution_count": 42,
   "id": "84d1c835",
   "metadata": {
    "scrolled": true
   },
   "outputs": [
    {
     "name": "stderr",
     "output_type": "stream",
     "text": [
      "\u001b[32m[I 2023-02-20 23:23:44,396]\u001b[0m A new study created in memory with name: no-name-cf778fef-4343-46aa-ac0b-c4b65f335c84\u001b[0m\n"
     ]
    },
    {
     "data": {
      "application/json": {
       "ascii": false,
       "bar_format": null,
       "colour": null,
       "elapsed": 0.014002799987792969,
       "initial": 0,
       "n": 0,
       "ncols": null,
       "nrows": null,
       "postfix": null,
       "prefix": "",
       "rate": null,
       "total": 20,
       "unit": "it",
       "unit_divisor": 1000,
       "unit_scale": false
      },
      "application/vnd.jupyter.widget-view+json": {
       "model_id": "9866f0950b3440ab8b7bbe7a03a55cc1",
       "version_major": 2,
       "version_minor": 0
      },
      "text/plain": [
       "  0%|          | 0/20 [00:00<?, ?it/s]"
      ]
     },
     "metadata": {},
     "output_type": "display_data"
    },
    {
     "name": "stdout",
     "output_type": "stream",
     "text": [
      "\u001b[32m[I 2023-02-20 23:24:02,502]\u001b[0m Trial 0 finished with value: 0.7353458721879775 and parameters: {'bootstrap_type': 'Bayesian', 'od_wait': 848, 'learning_rate': 0.08034255016675118, 'reg_lambda': 93.80544015696368, 'random_strength': 72.76667361284203, 'min_data_in_leaf': 4, 'leaf_estimation_iterations': 3, 'one_hot_max_size': 4}. Best is trial 0 with value: 0.7353458721879775.\u001b[0m\n",
      "\u001b[32m[I 2023-02-20 23:24:30,587]\u001b[0m Trial 1 finished with value: 0.711369517778604 and parameters: {'bootstrap_type': 'Bernoulli', 'od_wait': 930, 'learning_rate': 0.09282932281353609, 'reg_lambda': 28.35888660081522, 'random_strength': 3.266627905658659, 'min_data_in_leaf': 8, 'leaf_estimation_iterations': 14, 'one_hot_max_size': 5}. Best is trial 0 with value: 0.7353458721879775.\u001b[0m\n",
      "\u001b[32m[I 2023-02-20 23:24:48,877]\u001b[0m Trial 2 finished with value: 0.6882868089764642 and parameters: {'bootstrap_type': 'Bayesian', 'od_wait': 622, 'learning_rate': 0.06535607276025894, 'reg_lambda': 0.1644735382383352, 'random_strength': 53.777954586613895, 'min_data_in_leaf': 20, 'leaf_estimation_iterations': 4, 'one_hot_max_size': 1}. Best is trial 0 with value: 0.7353458721879775.\u001b[0m\n",
      "\u001b[32m[I 2023-02-20 23:25:17,465]\u001b[0m Trial 3 finished with value: 0.6897546897546899 and parameters: {'bootstrap_type': 'Bernoulli', 'od_wait': 972, 'learning_rate': 0.01569491014487344, 'reg_lambda': 59.788384034098605, 'random_strength': 98.21745947731331, 'min_data_in_leaf': 6, 'leaf_estimation_iterations': 15, 'one_hot_max_size': 3}. Best is trial 0 with value: 0.7353458721879775.\u001b[0m\n",
      "\u001b[32m[I 2023-02-20 23:25:37,078]\u001b[0m Trial 4 finished with value: 0.7005772005772005 and parameters: {'bootstrap_type': 'Bernoulli', 'od_wait': 541, 'learning_rate': 0.06883865317286625, 'reg_lambda': 95.50558022054412, 'random_strength': 49.77825014146918, 'min_data_in_leaf': 1, 'leaf_estimation_iterations': 3, 'one_hot_max_size': 3}. Best is trial 0 with value: 0.7353458721879775.\u001b[0m\n",
      "\u001b[32m[I 2023-02-20 23:26:05,457]\u001b[0m Trial 5 finished with value: 0.7270760894440383 and parameters: {'bootstrap_type': 'Bayesian', 'od_wait': 881, 'learning_rate': 0.03605399075450615, 'reg_lambda': 14.417434862756739, 'random_strength': 35.01331813687257, 'min_data_in_leaf': 13, 'leaf_estimation_iterations': 15, 'one_hot_max_size': 4}. Best is trial 0 with value: 0.7353458721879775.\u001b[0m\n",
      "\u001b[32m[I 2023-02-20 23:26:21,528]\u001b[0m Trial 6 finished with value: 0.6264182012552589 and parameters: {'bootstrap_type': 'Bayesian', 'od_wait': 967, 'learning_rate': 0.013105439930530273, 'reg_lambda': 24.88052330372872, 'random_strength': 92.99667492521239, 'min_data_in_leaf': 8, 'leaf_estimation_iterations': 2, 'one_hot_max_size': 4}. Best is trial 0 with value: 0.7353458721879775.\u001b[0m\n",
      "\u001b[32m[I 2023-02-20 23:26:48,778]\u001b[0m Trial 7 finished with value: 0.6520979020979021 and parameters: {'bootstrap_type': 'Bernoulli', 'od_wait': 741, 'learning_rate': 0.09024506266578308, 'reg_lambda': 87.64468431459547, 'random_strength': 36.79955843672996, 'min_data_in_leaf': 18, 'leaf_estimation_iterations': 13, 'one_hot_max_size': 2}. Best is trial 0 with value: 0.7353458721879775.\u001b[0m\n",
      "\u001b[32m[I 2023-02-20 23:27:09,288]\u001b[0m Trial 8 finished with value: 0.7034391947686744 and parameters: {'bootstrap_type': 'Bayesian', 'od_wait': 504, 'learning_rate': 0.09366223707398527, 'reg_lambda': 78.18173372065253, 'random_strength': 70.79452343919496, 'min_data_in_leaf': 10, 'leaf_estimation_iterations': 7, 'one_hot_max_size': 3}. Best is trial 0 with value: 0.7353458721879775.\u001b[0m\n",
      "\u001b[32m[I 2023-02-20 23:27:36,474]\u001b[0m Trial 9 finished with value: 0.7024446142093201 and parameters: {'bootstrap_type': 'Bayesian', 'od_wait': 800, 'learning_rate': 0.026862106163473967, 'reg_lambda': 91.32754501529338, 'random_strength': 16.64397983772129, 'min_data_in_leaf': 10, 'leaf_estimation_iterations': 15, 'one_hot_max_size': 1}. Best is trial 0 with value: 0.7353458721879775.\u001b[0m\n",
      "\u001b[32m[I 2023-02-20 23:27:56,833]\u001b[0m Trial 10 finished with value: 0.7270760894440383 and parameters: {'bootstrap_type': 'Bayesian', 'od_wait': 745, 'learning_rate': 0.07345076813286527, 'reg_lambda': 60.43981707772477, 'random_strength': 76.0520285601823, 'min_data_in_leaf': 1, 'leaf_estimation_iterations': 7, 'one_hot_max_size': 5}. Best is trial 0 with value: 0.7353458721879775.\u001b[0m\n",
      "\u001b[32m[I 2023-02-20 23:28:19,794]\u001b[0m Trial 11 finished with value: 0.7270760894440383 and parameters: {'bootstrap_type': 'Bayesian', 'od_wait': 859, 'learning_rate': 0.0421071429056029, 'reg_lambda': 28.701855468761266, 'random_strength': 30.269866067875018, 'min_data_in_leaf': 15, 'leaf_estimation_iterations': 10, 'one_hot_max_size': 4}. Best is trial 0 with value: 0.7353458721879775.\u001b[0m\n",
      "\u001b[32m[I 2023-02-20 23:28:43,109]\u001b[0m Trial 12 finished with value: 0.7270760894440383 and parameters: {'bootstrap_type': 'Bayesian', 'od_wait': 858, 'learning_rate': 0.048532133100455704, 'reg_lambda': 2.7055049432179086, 'random_strength': 64.6339638424613, 'min_data_in_leaf': 14, 'leaf_estimation_iterations': 10, 'one_hot_max_size': 4}. Best is trial 0 with value: 0.7353458721879775.\u001b[0m\n",
      "\u001b[32m[I 2023-02-20 23:29:01,882]\u001b[0m Trial 13 finished with value: 0.7270760894440383 and parameters: {'bootstrap_type': 'Bayesian', 'od_wait': 875, 'learning_rate': 0.035336347190727604, 'reg_lambda': 42.05055564183344, 'random_strength': 41.17163075763314, 'min_data_in_leaf': 4, 'leaf_estimation_iterations': 5, 'one_hot_max_size': 4}. Best is trial 0 with value: 0.7353458721879775.\u001b[0m\n",
      "\u001b[32m[I 2023-02-20 23:29:16,329]\u001b[0m Trial 14 finished with value: 0.724031007751938 and parameters: {'bootstrap_type': 'Bayesian', 'od_wait': 682, 'learning_rate': 0.05774004562037174, 'reg_lambda': 68.23806645619516, 'random_strength': 83.16858810945723, 'min_data_in_leaf': 14, 'leaf_estimation_iterations': 1, 'one_hot_max_size': 5}. Best is trial 0 with value: 0.7353458721879775.\u001b[0m\n",
      "\u001b[32m[I 2023-02-20 23:29:40,329]\u001b[0m Trial 15 finished with value: 0.6930109740855531 and parameters: {'bootstrap_type': 'Bayesian', 'od_wait': 810, 'learning_rate': 0.07987408471139221, 'reg_lambda': 44.47978741946356, 'random_strength': 58.60981860560594, 'min_data_in_leaf': 4, 'leaf_estimation_iterations': 11, 'one_hot_max_size': 2}. Best is trial 0 with value: 0.7353458721879775.\u001b[0m\n",
      "\u001b[32m[I 2023-02-20 23:30:00,252]\u001b[0m Trial 16 finished with value: 0.7270760894440383 and parameters: {'bootstrap_type': 'Bayesian', 'od_wait': 907, 'learning_rate': 0.02992622559975935, 'reg_lambda': 14.594368971524252, 'random_strength': 27.079601408420125, 'min_data_in_leaf': 13, 'leaf_estimation_iterations': 6, 'one_hot_max_size': 4}. Best is trial 0 with value: 0.7353458721879775.\u001b[0m\n",
      "\u001b[32m[I 2023-02-20 23:30:18,921]\u001b[0m Trial 17 finished with value: 0.7270760894440383 and parameters: {'bootstrap_type': 'Bayesian', 'od_wait': 814, 'learning_rate': 0.054249714048413354, 'reg_lambda': 44.66448809693698, 'random_strength': 45.77028048167337, 'min_data_in_leaf': 4, 'leaf_estimation_iterations': 5, 'one_hot_max_size': 2}. Best is trial 0 with value: 0.7353458721879775.\u001b[0m\n",
      "\u001b[32m[I 2023-02-20 23:30:38,883]\u001b[0m Trial 18 finished with value: 0.7144500822661741 and parameters: {'bootstrap_type': 'Bernoulli', 'od_wait': 689, 'learning_rate': 0.08384270795847612, 'reg_lambda': 75.11944829387421, 'random_strength': 78.69285850571615, 'min_data_in_leaf': 4, 'leaf_estimation_iterations': 4, 'one_hot_max_size': 3}. Best is trial 0 with value: 0.7353458721879775.\u001b[0m\n"
     ]
    },
    {
     "name": "stderr",
     "output_type": "stream",
     "text": [
      "\u001b[32m[I 2023-02-20 23:31:00,345]\u001b[0m A new study created in memory with name: no-name-2a0cd530-2021-4959-8d1c-8a190413d66c\u001b[0m\n"
     ]
    },
    {
     "name": "stdout",
     "output_type": "stream",
     "text": [
      "\u001b[32m[I 2023-02-20 23:31:00,343]\u001b[0m Trial 19 finished with value: 0.6848385331143952 and parameters: {'bootstrap_type': 'Bayesian', 'od_wait': 925, 'learning_rate': 0.02453246886176077, 'reg_lambda': 57.33920780739922, 'random_strength': 24.392807044232516, 'min_data_in_leaf': 12, 'leaf_estimation_iterations': 8, 'one_hot_max_size': 5}. Best is trial 0 with value: 0.7353458721879775.\u001b[0m\n"
     ]
    },
    {
     "data": {
      "application/json": {
       "ascii": false,
       "bar_format": null,
       "colour": null,
       "elapsed": 0.012003421783447266,
       "initial": 0,
       "n": 0,
       "ncols": null,
       "nrows": null,
       "postfix": null,
       "prefix": "",
       "rate": null,
       "total": 20,
       "unit": "it",
       "unit_divisor": 1000,
       "unit_scale": false
      },
      "application/vnd.jupyter.widget-view+json": {
       "model_id": "1c635c9348694ea5ad3d7995e5f28f5c",
       "version_major": 2,
       "version_minor": 0
      },
      "text/plain": [
       "  0%|          | 0/20 [00:00<?, ?it/s]"
      ]
     },
     "metadata": {},
     "output_type": "display_data"
    },
    {
     "name": "stdout",
     "output_type": "stream",
     "text": [
      "\u001b[32m[I 2023-02-20 23:31:15,467]\u001b[0m Trial 0 finished with value: 0.6249893896952721 and parameters: {'bootstrap_type': 'Bernoulli', 'od_wait': 705, 'learning_rate': 0.04403892846689716, 'reg_lambda': 96.53289359975707, 'random_strength': 48.071020436499055, 'min_data_in_leaf': 18, 'leaf_estimation_iterations': 1, 'one_hot_max_size': 1}. Best is trial 0 with value: 0.6249893896952721.\u001b[0m\n",
      "\u001b[32m[I 2023-02-20 23:31:33,357]\u001b[0m Trial 1 finished with value: 0.7198754488249275 and parameters: {'bootstrap_type': 'Bayesian', 'od_wait': 732, 'learning_rate': 0.05732678280619778, 'reg_lambda': 13.364259216947003, 'random_strength': 19.557080227828482, 'min_data_in_leaf': 6, 'leaf_estimation_iterations': 4, 'one_hot_max_size': 1}. Best is trial 1 with value: 0.7198754488249275.\u001b[0m\n",
      "\u001b[32m[I 2023-02-20 23:31:52,018]\u001b[0m Trial 2 finished with value: 0.7462145969498911 and parameters: {'bootstrap_type': 'Bernoulli', 'od_wait': 587, 'learning_rate': 0.05763468055887792, 'reg_lambda': 34.68824254617613, 'random_strength': 54.89415179893832, 'min_data_in_leaf': 14, 'leaf_estimation_iterations': 4, 'one_hot_max_size': 2}. Best is trial 2 with value: 0.7462145969498911.\u001b[0m\n",
      "\u001b[32m[I 2023-02-20 23:32:15,069]\u001b[0m Trial 3 finished with value: 0.7270760894440383 and parameters: {'bootstrap_type': 'Bayesian', 'od_wait': 957, 'learning_rate': 0.043536374787600814, 'reg_lambda': 62.16792822736211, 'random_strength': 30.63917231708291, 'min_data_in_leaf': 19, 'leaf_estimation_iterations': 9, 'one_hot_max_size': 1}. Best is trial 2 with value: 0.7462145969498911.\u001b[0m\n",
      "\u001b[32m[I 2023-02-20 23:32:36,038]\u001b[0m Trial 4 finished with value: 0.682995803685459 and parameters: {'bootstrap_type': 'Bernoulli', 'od_wait': 894, 'learning_rate': 0.058806615066157336, 'reg_lambda': 26.48184540811565, 'random_strength': 73.41202079856878, 'min_data_in_leaf': 16, 'leaf_estimation_iterations': 6, 'one_hot_max_size': 4}. Best is trial 2 with value: 0.7462145969498911.\u001b[0m\n",
      "\u001b[32m[I 2023-02-20 23:32:58,427]\u001b[0m Trial 5 finished with value: 0.6614271710103776 and parameters: {'bootstrap_type': 'Bernoulli', 'od_wait': 721, 'learning_rate': 0.0950855143794108, 'reg_lambda': 85.45570428612476, 'random_strength': 85.64071591964756, 'min_data_in_leaf': 13, 'leaf_estimation_iterations': 7, 'one_hot_max_size': 1}. Best is trial 2 with value: 0.7462145969498911.\u001b[0m\n",
      "\u001b[32m[I 2023-02-20 23:33:24,638]\u001b[0m Trial 6 finished with value: 0.7046754566134411 and parameters: {'bootstrap_type': 'Bernoulli', 'od_wait': 791, 'learning_rate': 0.02918015247992825, 'reg_lambda': 28.830272313652408, 'random_strength': 2.6630677319365303, 'min_data_in_leaf': 19, 'leaf_estimation_iterations': 13, 'one_hot_max_size': 5}. Best is trial 2 with value: 0.7462145969498911.\u001b[0m\n",
      "\u001b[32m[I 2023-02-20 23:33:42,031]\u001b[0m Trial 7 finished with value: 0.742976930778942 and parameters: {'bootstrap_type': 'Bayesian', 'od_wait': 809, 'learning_rate': 0.07298948962962945, 'reg_lambda': 85.75666354812822, 'random_strength': 80.53238918323736, 'min_data_in_leaf': 17, 'leaf_estimation_iterations': 3, 'one_hot_max_size': 4}. Best is trial 2 with value: 0.7462145969498911.\u001b[0m\n",
      "\u001b[32m[I 2023-02-20 23:33:58,172]\u001b[0m Trial 8 finished with value: 0.6506283937642319 and parameters: {'bootstrap_type': 'Bernoulli', 'od_wait': 634, 'learning_rate': 0.024134054021127123, 'reg_lambda': 88.4103894201927, 'random_strength': 87.70480847499425, 'min_data_in_leaf': 3, 'leaf_estimation_iterations': 2, 'one_hot_max_size': 2}. Best is trial 2 with value: 0.7462145969498911.\u001b[0m\n",
      "\u001b[32m[I 2023-02-20 23:34:12,775]\u001b[0m Trial 9 finished with value: 0.7271125791357006 and parameters: {'bootstrap_type': 'Bayesian', 'od_wait': 948, 'learning_rate': 0.0760807680217896, 'reg_lambda': 7.635763925928646, 'random_strength': 2.866082980553619, 'min_data_in_leaf': 20, 'leaf_estimation_iterations': 1, 'one_hot_max_size': 3}. Best is trial 2 with value: 0.7462145969498911.\u001b[0m\n",
      "\u001b[32m[I 2023-02-20 23:34:37,276]\u001b[0m Trial 10 finished with value: 0.6839275608375779 and parameters: {'bootstrap_type': 'Bernoulli', 'od_wait': 510, 'learning_rate': 0.012775734360777405, 'reg_lambda': 53.449879346749604, 'random_strength': 59.1573287549452, 'min_data_in_leaf': 10, 'leaf_estimation_iterations': 11, 'one_hot_max_size': 3}. Best is trial 2 with value: 0.7462145969498911.\u001b[0m\n",
      "\u001b[32m[I 2023-02-20 23:34:56,157]\u001b[0m Trial 11 finished with value: 0.7425495262704566 and parameters: {'bootstrap_type': 'Bayesian', 'od_wait': 541, 'learning_rate': 0.07693110217555185, 'reg_lambda': 68.39183006558144, 'random_strength': 99.43792330566927, 'min_data_in_leaf': 13, 'leaf_estimation_iterations': 4, 'one_hot_max_size': 4}. Best is trial 2 with value: 0.7462145969498911.\u001b[0m\n",
      "\u001b[32m[I 2023-02-20 23:35:14,421]\u001b[0m Trial 12 finished with value: 0.7201550387596901 and parameters: {'bootstrap_type': 'Bayesian', 'od_wait': 831, 'learning_rate': 0.07205006842620391, 'reg_lambda': 45.218859909529776, 'random_strength': 58.60797202539437, 'min_data_in_leaf': 15, 'leaf_estimation_iterations': 4, 'one_hot_max_size': 4}. Best is trial 2 with value: 0.7462145969498911.\u001b[0m\n",
      "\u001b[32m[I 2023-02-20 23:35:33,186]\u001b[0m Trial 13 finished with value: 0.7034391947686744 and parameters: {'bootstrap_type': 'Bayesian', 'od_wait': 590, 'learning_rate': 0.09176680294131179, 'reg_lambda': 37.91735079903173, 'random_strength': 42.78728451479237, 'min_data_in_leaf': 9, 'leaf_estimation_iterations': 5, 'one_hot_max_size': 2}. Best is trial 2 with value: 0.7462145969498911.\u001b[0m\n",
      "\u001b[32m[I 2023-02-20 23:36:01,088]\u001b[0m Trial 14 finished with value: 0.7092250144881723 and parameters: {'bootstrap_type': 'Bayesian', 'od_wait': 654, 'learning_rate': 0.06702802553734206, 'reg_lambda': 72.57470322945892, 'random_strength': 68.18415034190198, 'min_data_in_leaf': 13, 'leaf_estimation_iterations': 15, 'one_hot_max_size': 5}. Best is trial 2 with value: 0.7462145969498911.\u001b[0m\n",
      "\u001b[32m[I 2023-02-20 23:36:24,287]\u001b[0m Trial 15 finished with value: 0.7129125495731666 and parameters: {'bootstrap_type': 'Bernoulli', 'od_wait': 841, 'learning_rate': 0.08348247291153903, 'reg_lambda': 24.22141965928856, 'random_strength': 71.72448729237301, 'min_data_in_leaf': 16, 'leaf_estimation_iterations': 9, 'one_hot_max_size': 2}. Best is trial 2 with value: 0.7462145969498911.\u001b[0m\n",
      "\u001b[32m[I 2023-02-20 23:36:41,883]\u001b[0m Trial 16 finished with value: 0.7164513350559863 and parameters: {'bootstrap_type': 'Bernoulli', 'od_wait': 666, 'learning_rate': 0.04012591510081269, 'reg_lambda': 54.66818806819724, 'random_strength': 37.512840513943225, 'min_data_in_leaf': 8, 'leaf_estimation_iterations': 3, 'one_hot_max_size': 3}. Best is trial 2 with value: 0.7462145969498911.\u001b[0m\n",
      "\u001b[32m[I 2023-02-20 23:37:01,922]\u001b[0m Trial 17 finished with value: 0.7047040063783138 and parameters: {'bootstrap_type': 'Bayesian', 'od_wait': 783, 'learning_rate': 0.06319490034830386, 'reg_lambda': 75.51050202270915, 'random_strength': 86.03764930389367, 'min_data_in_leaf': 12, 'leaf_estimation_iterations': 6, 'one_hot_max_size': 4}. Best is trial 2 with value: 0.7462145969498911.\u001b[0m\n",
      "\u001b[32m[I 2023-02-20 23:37:24,410]\u001b[0m Trial 18 finished with value: 0.6815676122034503 and parameters: {'bootstrap_type': 'Bernoulli', 'od_wait': 583, 'learning_rate': 0.05159144655992378, 'reg_lambda': 1.3863547057731793, 'random_strength': 59.480586135229245, 'min_data_in_leaf': 1, 'leaf_estimation_iterations': 8, 'one_hot_max_size': 2}. Best is trial 2 with value: 0.7462145969498911.\u001b[0m\n"
     ]
    },
    {
     "name": "stderr",
     "output_type": "stream",
     "text": [
      "\u001b[32m[I 2023-02-20 23:37:41,040]\u001b[0m A new study created in memory with name: no-name-a9aaf4f8-3e62-4a2b-abf5-873a041ce788\u001b[0m\n"
     ]
    },
    {
     "name": "stdout",
     "output_type": "stream",
     "text": [
      "\u001b[32m[I 2023-02-20 23:37:41,038]\u001b[0m Trial 19 finished with value: 0.7270760894440383 and parameters: {'bootstrap_type': 'Bayesian', 'od_wait': 895, 'learning_rate': 0.08521538271283519, 'reg_lambda': 39.69171916312459, 'random_strength': 23.4979770958956, 'min_data_in_leaf': 17, 'leaf_estimation_iterations': 2, 'one_hot_max_size': 5}. Best is trial 2 with value: 0.7462145969498911.\u001b[0m\n"
     ]
    },
    {
     "data": {
      "application/json": {
       "ascii": false,
       "bar_format": null,
       "colour": null,
       "elapsed": 0.011002063751220703,
       "initial": 0,
       "n": 0,
       "ncols": null,
       "nrows": null,
       "postfix": null,
       "prefix": "",
       "rate": null,
       "total": 20,
       "unit": "it",
       "unit_divisor": 1000,
       "unit_scale": false
      },
      "application/vnd.jupyter.widget-view+json": {
       "model_id": "25ab82186ca24e77aff52ca80fd7e113",
       "version_major": 2,
       "version_minor": 0
      },
      "text/plain": [
       "  0%|          | 0/20 [00:00<?, ?it/s]"
      ]
     },
     "metadata": {},
     "output_type": "display_data"
    },
    {
     "name": "stdout",
     "output_type": "stream",
     "text": [
      "\u001b[32m[I 2023-02-20 23:38:07,982]\u001b[0m Trial 0 finished with value: 0.6761081295965017 and parameters: {'bootstrap_type': 'Bernoulli', 'od_wait': 976, 'learning_rate': 0.09135414722848871, 'reg_lambda': 50.796488615786366, 'random_strength': 73.19185773844954, 'min_data_in_leaf': 7, 'leaf_estimation_iterations': 13, 'one_hot_max_size': 1}. Best is trial 0 with value: 0.6761081295965017.\u001b[0m\n",
      "\u001b[32m[I 2023-02-20 23:38:23,042]\u001b[0m Trial 1 finished with value: 0.7146909315584015 and parameters: {'bootstrap_type': 'Bernoulli', 'od_wait': 897, 'learning_rate': 0.026240965478532413, 'reg_lambda': 31.138117645732002, 'random_strength': 47.00282554145655, 'min_data_in_leaf': 20, 'leaf_estimation_iterations': 1, 'one_hot_max_size': 3}. Best is trial 1 with value: 0.7146909315584015.\u001b[0m\n",
      "\u001b[32m[I 2023-02-20 23:38:47,754]\u001b[0m Trial 2 finished with value: 0.731748726655348 and parameters: {'bootstrap_type': 'Bayesian', 'od_wait': 988, 'learning_rate': 0.03347894755539437, 'reg_lambda': 12.021480172570802, 'random_strength': 98.03818923764706, 'min_data_in_leaf': 9, 'leaf_estimation_iterations': 11, 'one_hot_max_size': 1}. Best is trial 2 with value: 0.731748726655348.\u001b[0m\n",
      "\u001b[32m[I 2023-02-20 23:39:05,977]\u001b[0m Trial 3 finished with value: 0.7146909315584015 and parameters: {'bootstrap_type': 'Bayesian', 'od_wait': 502, 'learning_rate': 0.06299418758726118, 'reg_lambda': 99.15053058458278, 'random_strength': 31.119253946245827, 'min_data_in_leaf': 18, 'leaf_estimation_iterations': 4, 'one_hot_max_size': 1}. Best is trial 2 with value: 0.731748726655348.\u001b[0m\n",
      "\u001b[32m[I 2023-02-20 23:39:29,788]\u001b[0m Trial 4 finished with value: 0.6789710306595004 and parameters: {'bootstrap_type': 'Bernoulli', 'od_wait': 993, 'learning_rate': 0.060138747759772036, 'reg_lambda': 37.52072555615994, 'random_strength': 44.38684240699955, 'min_data_in_leaf': 7, 'leaf_estimation_iterations': 10, 'one_hot_max_size': 1}. Best is trial 2 with value: 0.731748726655348.\u001b[0m\n",
      "\u001b[32m[I 2023-02-20 23:39:52,746]\u001b[0m Trial 5 finished with value: 0.7082713545188191 and parameters: {'bootstrap_type': 'Bernoulli', 'od_wait': 858, 'learning_rate': 0.03798634316144694, 'reg_lambda': 4.670817224330158, 'random_strength': 85.979170305065, 'min_data_in_leaf': 13, 'leaf_estimation_iterations': 9, 'one_hot_max_size': 5}. Best is trial 2 with value: 0.731748726655348.\u001b[0m\n",
      "\u001b[32m[I 2023-02-20 23:40:14,048]\u001b[0m Trial 6 finished with value: 0.731748726655348 and parameters: {'bootstrap_type': 'Bayesian', 'od_wait': 780, 'learning_rate': 0.02800437604057905, 'reg_lambda': 43.827865548105876, 'random_strength': 50.44016663096842, 'min_data_in_leaf': 4, 'leaf_estimation_iterations': 7, 'one_hot_max_size': 4}. Best is trial 2 with value: 0.731748726655348.\u001b[0m\n",
      "\u001b[32m[I 2023-02-20 23:40:35,929]\u001b[0m Trial 7 finished with value: 0.6594353266679244 and parameters: {'bootstrap_type': 'Bayesian', 'od_wait': 721, 'learning_rate': 0.010069787096044494, 'reg_lambda': 71.67014047523995, 'random_strength': 69.83632660856382, 'min_data_in_leaf': 17, 'leaf_estimation_iterations': 8, 'one_hot_max_size': 2}. Best is trial 2 with value: 0.731748726655348.\u001b[0m\n",
      "\u001b[32m[I 2023-02-20 23:40:54,352]\u001b[0m Trial 8 finished with value: 0.6922410576256729 and parameters: {'bootstrap_type': 'Bayesian', 'od_wait': 614, 'learning_rate': 0.017214545105926887, 'reg_lambda': 13.76217138306465, 'random_strength': 66.96394829080619, 'min_data_in_leaf': 19, 'leaf_estimation_iterations': 4, 'one_hot_max_size': 4}. Best is trial 2 with value: 0.731748726655348.\u001b[0m\n",
      "\u001b[32m[I 2023-02-20 23:41:17,185]\u001b[0m Trial 9 finished with value: 0.7270760894440383 and parameters: {'bootstrap_type': 'Bayesian', 'od_wait': 675, 'learning_rate': 0.08813972674781156, 'reg_lambda': 18.701701521919652, 'random_strength': 93.92161830570613, 'min_data_in_leaf': 4, 'leaf_estimation_iterations': 9, 'one_hot_max_size': 3}. Best is trial 2 with value: 0.731748726655348.\u001b[0m\n",
      "\u001b[32m[I 2023-02-20 23:41:45,450]\u001b[0m Trial 10 finished with value: 0.7392445076655604 and parameters: {'bootstrap_type': 'Bayesian', 'od_wait': 841, 'learning_rate': 0.04610432466684947, 'reg_lambda': 63.8968061758215, 'random_strength': 2.4254838230694276, 'min_data_in_leaf': 12, 'leaf_estimation_iterations': 15, 'one_hot_max_size': 2}. Best is trial 10 with value: 0.7392445076655604.\u001b[0m\n",
      "\u001b[32m[I 2023-02-20 23:42:13,519]\u001b[0m Trial 11 finished with value: 0.728440774740585 and parameters: {'bootstrap_type': 'Bayesian', 'od_wait': 862, 'learning_rate': 0.04511634607074002, 'reg_lambda': 67.26468771459248, 'random_strength': 1.9106028279570366, 'min_data_in_leaf': 12, 'leaf_estimation_iterations': 15, 'one_hot_max_size': 2}. Best is trial 10 with value: 0.7392445076655604.\u001b[0m\n",
      "\u001b[32m[I 2023-02-20 23:42:39,688]\u001b[0m Trial 12 finished with value: 0.6860254083484573 and parameters: {'bootstrap_type': 'Bayesian', 'od_wait': 919, 'learning_rate': 0.05278435640144566, 'reg_lambda': 64.7081895791157, 'random_strength': 4.15745240727037, 'min_data_in_leaf': 10, 'leaf_estimation_iterations': 13, 'one_hot_max_size': 2}. Best is trial 10 with value: 0.7392445076655604.\u001b[0m\n",
      "\u001b[32m[I 2023-02-20 23:43:08,109]\u001b[0m Trial 13 finished with value: 0.7198754488249275 and parameters: {'bootstrap_type': 'Bayesian', 'od_wait': 810, 'learning_rate': 0.06956660389669345, 'reg_lambda': 81.9505535692285, 'random_strength': 20.63326390150826, 'min_data_in_leaf': 15, 'leaf_estimation_iterations': 15, 'one_hot_max_size': 2}. Best is trial 10 with value: 0.7392445076655604.\u001b[0m\n",
      "\u001b[32m[I 2023-02-20 23:43:33,584]\u001b[0m Trial 14 finished with value: 0.7270760894440383 and parameters: {'bootstrap_type': 'Bayesian', 'od_wait': 950, 'learning_rate': 0.03806312710293206, 'reg_lambda': 56.743474486670685, 'random_strength': 99.38694063277269, 'min_data_in_leaf': 9, 'leaf_estimation_iterations': 12, 'one_hot_max_size': 1}. Best is trial 10 with value: 0.7392445076655604.\u001b[0m\n",
      "\u001b[32m[I 2023-02-20 23:43:58,137]\u001b[0m Trial 15 finished with value: 0.7164513350559863 and parameters: {'bootstrap_type': 'Bayesian', 'od_wait': 830, 'learning_rate': 0.07929636944083998, 'reg_lambda': 25.224976976834334, 'random_strength': 21.208813603364387, 'min_data_in_leaf': 14, 'leaf_estimation_iterations': 11, 'one_hot_max_size': 2}. Best is trial 10 with value: 0.7392445076655604.\u001b[0m\n",
      "\u001b[32m[I 2023-02-20 23:44:25,319]\u001b[0m Trial 16 finished with value: 0.7198754488249275 and parameters: {'bootstrap_type': 'Bayesian', 'od_wait': 728, 'learning_rate': 0.048887660178461724, 'reg_lambda': 85.55836116786408, 'random_strength': 36.321952950099, 'min_data_in_leaf': 1, 'leaf_estimation_iterations': 14, 'one_hot_max_size': 1}. Best is trial 10 with value: 0.7392445076655604.\u001b[0m\n",
      "\u001b[32m[I 2023-02-20 23:44:45,526]\u001b[0m Trial 17 finished with value: 0.7245192061131339 and parameters: {'bootstrap_type': 'Bayesian', 'od_wait': 899, 'learning_rate': 0.029603567448988555, 'reg_lambda': 53.24003123621217, 'random_strength': 61.123240867350354, 'min_data_in_leaf': 8, 'leaf_estimation_iterations': 6, 'one_hot_max_size': 3}. Best is trial 10 with value: 0.7392445076655604.\u001b[0m\n",
      "\u001b[32m[I 2023-02-20 23:45:10,454]\u001b[0m Trial 18 finished with value: 0.7204470742932282 and parameters: {'bootstrap_type': 'Bernoulli', 'od_wait': 637, 'learning_rate': 0.04014690074738349, 'reg_lambda': 0.14534951225982695, 'random_strength': 82.91830565793927, 'min_data_in_leaf': 11, 'leaf_estimation_iterations': 11, 'one_hot_max_size': 2}. Best is trial 10 with value: 0.7392445076655604.\u001b[0m\n"
     ]
    },
    {
     "name": "stderr",
     "output_type": "stream",
     "text": [
      "\u001b[32m[I 2023-02-20 23:45:36,602]\u001b[0m A new study created in memory with name: no-name-21bd1fad-de22-4807-9e9a-7d6eff1396e0\u001b[0m\n"
     ]
    },
    {
     "name": "stdout",
     "output_type": "stream",
     "text": [
      "\u001b[32m[I 2023-02-20 23:45:36,600]\u001b[0m Trial 19 finished with value: 0.7270760894440383 and parameters: {'bootstrap_type': 'Bayesian', 'od_wait': 928, 'learning_rate': 0.07329809925593823, 'reg_lambda': 36.43767332750203, 'random_strength': 13.97955227261751, 'min_data_in_leaf': 16, 'leaf_estimation_iterations': 13, 'one_hot_max_size': 4}. Best is trial 10 with value: 0.7392445076655604.\u001b[0m\n"
     ]
    },
    {
     "data": {
      "application/json": {
       "ascii": false,
       "bar_format": null,
       "colour": null,
       "elapsed": 0.012003660202026367,
       "initial": 0,
       "n": 0,
       "ncols": null,
       "nrows": null,
       "postfix": null,
       "prefix": "",
       "rate": null,
       "total": 20,
       "unit": "it",
       "unit_divisor": 1000,
       "unit_scale": false
      },
      "application/vnd.jupyter.widget-view+json": {
       "model_id": "c7900270744a4a4083362659f0c36cf5",
       "version_major": 2,
       "version_minor": 0
      },
      "text/plain": [
       "  0%|          | 0/20 [00:00<?, ?it/s]"
      ]
     },
     "metadata": {},
     "output_type": "display_data"
    },
    {
     "name": "stdout",
     "output_type": "stream",
     "text": [
      "\u001b[32m[I 2023-02-20 23:46:01,394]\u001b[0m Trial 0 finished with value: 0.7270760894440383 and parameters: {'bootstrap_type': 'Bayesian', 'od_wait': 699, 'learning_rate': 0.038702445970359885, 'reg_lambda': 64.01777384518846, 'random_strength': 61.852853046494246, 'min_data_in_leaf': 16, 'leaf_estimation_iterations': 12, 'one_hot_max_size': 5}. Best is trial 0 with value: 0.7270760894440383.\u001b[0m\n",
      "\u001b[32m[I 2023-02-20 23:46:27,274]\u001b[0m Trial 1 finished with value: 0.7093315726592467 and parameters: {'bootstrap_type': 'Bayesian', 'od_wait': 988, 'learning_rate': 0.02202203916666181, 'reg_lambda': 29.749558603815803, 'random_strength': 87.37517003554856, 'min_data_in_leaf': 17, 'leaf_estimation_iterations': 13, 'one_hot_max_size': 3}. Best is trial 0 with value: 0.7270760894440383.\u001b[0m\n",
      "\u001b[32m[I 2023-02-20 23:46:52,959]\u001b[0m Trial 2 finished with value: 0.7175267812593136 and parameters: {'bootstrap_type': 'Bayesian', 'od_wait': 556, 'learning_rate': 0.023993548035654025, 'reg_lambda': 27.339619856872556, 'random_strength': 72.2173971187435, 'min_data_in_leaf': 9, 'leaf_estimation_iterations': 12, 'one_hot_max_size': 4}. Best is trial 0 with value: 0.7270760894440383.\u001b[0m\n",
      "\u001b[32m[I 2023-02-20 23:47:13,074]\u001b[0m Trial 3 finished with value: 0.6826669242160839 and parameters: {'bootstrap_type': 'Bernoulli', 'od_wait': 651, 'learning_rate': 0.0413227984904075, 'reg_lambda': 67.79023687884929, 'random_strength': 73.42136289035189, 'min_data_in_leaf': 15, 'leaf_estimation_iterations': 5, 'one_hot_max_size': 2}. Best is trial 0 with value: 0.7270760894440383.\u001b[0m\n",
      "\u001b[32m[I 2023-02-20 23:47:36,928]\u001b[0m Trial 4 finished with value: 0.6636363636363637 and parameters: {'bootstrap_type': 'Bayesian', 'od_wait': 759, 'learning_rate': 0.010466422064080631, 'reg_lambda': 97.70153562455194, 'random_strength': 11.311899370726463, 'min_data_in_leaf': 5, 'leaf_estimation_iterations': 11, 'one_hot_max_size': 3}. Best is trial 0 with value: 0.7270760894440383.\u001b[0m\n",
      "\u001b[32m[I 2023-02-20 23:47:59,095]\u001b[0m Trial 5 finished with value: 0.731748726655348 and parameters: {'bootstrap_type': 'Bayesian', 'od_wait': 603, 'learning_rate': 0.03256796082791247, 'reg_lambda': 41.15033422488203, 'random_strength': 83.90518538826728, 'min_data_in_leaf': 16, 'leaf_estimation_iterations': 8, 'one_hot_max_size': 2}. Best is trial 5 with value: 0.731748726655348.\u001b[0m\n",
      "\u001b[32m[I 2023-02-20 23:48:15,912]\u001b[0m Trial 6 finished with value: 0.7353458721879775 and parameters: {'bootstrap_type': 'Bayesian', 'od_wait': 718, 'learning_rate': 0.060595708597891255, 'reg_lambda': 1.3348806089218481, 'random_strength': 83.77208289933182, 'min_data_in_leaf': 12, 'leaf_estimation_iterations': 2, 'one_hot_max_size': 4}. Best is trial 6 with value: 0.7353458721879775.\u001b[0m\n",
      "\u001b[32m[I 2023-02-20 23:48:36,024]\u001b[0m Trial 7 finished with value: 0.6809817633347045 and parameters: {'bootstrap_type': 'Bayesian', 'od_wait': 516, 'learning_rate': 0.01458069934231146, 'reg_lambda': 90.03616359556877, 'random_strength': 66.43411933705804, 'min_data_in_leaf': 10, 'leaf_estimation_iterations': 6, 'one_hot_max_size': 5}. Best is trial 6 with value: 0.7353458721879775.\u001b[0m\n",
      "\u001b[32m[I 2023-02-20 23:49:02,662]\u001b[0m Trial 8 finished with value: 0.7022359821121431 and parameters: {'bootstrap_type': 'Bayesian', 'od_wait': 512, 'learning_rate': 0.04583559111979169, 'reg_lambda': 86.38954944737362, 'random_strength': 84.01105596959727, 'min_data_in_leaf': 10, 'leaf_estimation_iterations': 13, 'one_hot_max_size': 1}. Best is trial 6 with value: 0.7353458721879775.\u001b[0m\n",
      "\u001b[32m[I 2023-02-20 23:49:23,607]\u001b[0m Trial 9 finished with value: 0.6571815718157182 and parameters: {'bootstrap_type': 'Bernoulli', 'od_wait': 745, 'learning_rate': 0.023877998186734556, 'reg_lambda': 80.83519596509072, 'random_strength': 78.29032171113349, 'min_data_in_leaf': 15, 'leaf_estimation_iterations': 6, 'one_hot_max_size': 3}. Best is trial 6 with value: 0.7353458721879775.\u001b[0m\n",
      "\u001b[32m[I 2023-02-20 23:49:39,189]\u001b[0m Trial 10 finished with value: 0.6936567017212178 and parameters: {'bootstrap_type': 'Bernoulli', 'od_wait': 843, 'learning_rate': 0.07676892142607153, 'reg_lambda': 0.8193474783181145, 'random_strength': 32.67722133154593, 'min_data_in_leaf': 2, 'leaf_estimation_iterations': 1, 'one_hot_max_size': 4}. Best is trial 6 with value: 0.7353458721879775.\u001b[0m\n",
      "\u001b[32m[I 2023-02-20 23:49:54,454]\u001b[0m Trial 11 finished with value: 0.7093315726592467 and parameters: {'bootstrap_type': 'Bayesian', 'od_wait': 621, 'learning_rate': 0.06749476180828243, 'reg_lambda': 2.193354554992773, 'random_strength': 95.02089437318921, 'min_data_in_leaf': 19, 'leaf_estimation_iterations': 1, 'one_hot_max_size': 1}. Best is trial 6 with value: 0.7353458721879775.\u001b[0m\n",
      "\u001b[32m[I 2023-02-20 23:50:17,334]\u001b[0m Trial 12 finished with value: 0.7092250144881723 and parameters: {'bootstrap_type': 'Bayesian', 'od_wait': 853, 'learning_rate': 0.09987090740535501, 'reg_lambda': 33.694080776462265, 'random_strength': 49.56880178290517, 'min_data_in_leaf': 14, 'leaf_estimation_iterations': 9, 'one_hot_max_size': 2}. Best is trial 6 with value: 0.7353458721879775.\u001b[0m\n",
      "\u001b[32m[I 2023-02-20 23:50:35,613]\u001b[0m Trial 13 finished with value: 0.7245192061131339 and parameters: {'bootstrap_type': 'Bayesian', 'od_wait': 602, 'learning_rate': 0.06211276328779819, 'reg_lambda': 44.54156321170148, 'random_strength': 97.7133293052444, 'min_data_in_leaf': 20, 'leaf_estimation_iterations': 3, 'one_hot_max_size': 2}. Best is trial 6 with value: 0.7353458721879775.\u001b[0m\n",
      "\u001b[32m[I 2023-02-20 23:51:03,521]\u001b[0m Trial 14 finished with value: 0.7270760894440383 and parameters: {'bootstrap_type': 'Bayesian', 'od_wait': 804, 'learning_rate': 0.08002205097628413, 'reg_lambda': 15.597450700662549, 'random_strength': 50.469948569071136, 'min_data_in_leaf': 12, 'leaf_estimation_iterations': 15, 'one_hot_max_size': 4}. Best is trial 6 with value: 0.7353458721879775.\u001b[0m\n",
      "\u001b[32m[I 2023-02-20 23:51:27,231]\u001b[0m Trial 15 finished with value: 0.6734892787524367 and parameters: {'bootstrap_type': 'Bernoulli', 'od_wait': 686, 'learning_rate': 0.0505440385220409, 'reg_lambda': 52.27882905235186, 'random_strength': 52.90205356807847, 'min_data_in_leaf': 6, 'leaf_estimation_iterations': 9, 'one_hot_max_size': 2}. Best is trial 6 with value: 0.7353458721879775.\u001b[0m\n",
      "\u001b[32m[I 2023-02-20 23:51:46,288]\u001b[0m Trial 16 finished with value: 0.7164513350559863 and parameters: {'bootstrap_type': 'Bayesian', 'od_wait': 908, 'learning_rate': 0.03326415649228275, 'reg_lambda': 15.301763754605997, 'random_strength': 14.593662726643366, 'min_data_in_leaf': 13, 'leaf_estimation_iterations': 4, 'one_hot_max_size': 4}. Best is trial 6 with value: 0.7353458721879775.\u001b[0m\n",
      "\u001b[32m[I 2023-02-20 23:52:08,985]\u001b[0m Trial 17 finished with value: 0.7198754488249275 and parameters: {'bootstrap_type': 'Bayesian', 'od_wait': 586, 'learning_rate': 0.0589309004202057, 'reg_lambda': 45.43580816339826, 'random_strength': 26.399927418335672, 'min_data_in_leaf': 18, 'leaf_estimation_iterations': 8, 'one_hot_max_size': 5}. Best is trial 6 with value: 0.7353458721879775.\u001b[0m\n",
      "\u001b[32m[I 2023-02-20 23:52:27,530]\u001b[0m Trial 18 finished with value: 0.7142038488192335 and parameters: {'bootstrap_type': 'Bernoulli', 'od_wait': 717, 'learning_rate': 0.07415197649253287, 'reg_lambda': 20.14796850208625, 'random_strength': 85.79221768546343, 'min_data_in_leaf': 7, 'leaf_estimation_iterations': 3, 'one_hot_max_size': 1}. Best is trial 6 with value: 0.7353458721879775.\u001b[0m\n"
     ]
    },
    {
     "name": "stderr",
     "output_type": "stream",
     "text": [
      "\u001b[32m[I 2023-02-20 23:52:48,421]\u001b[0m A new study created in memory with name: no-name-8441d7db-315a-4f8b-81f4-c5f9eee6899c\u001b[0m\n"
     ]
    },
    {
     "name": "stdout",
     "output_type": "stream",
     "text": [
      "\u001b[32m[I 2023-02-20 23:52:48,419]\u001b[0m Trial 19 finished with value: 0.6864871882251756 and parameters: {'bootstrap_type': 'Bayesian', 'od_wait': 658, 'learning_rate': 0.09074491549650848, 'reg_lambda': 59.42575014521574, 'random_strength': 37.137493094381284, 'min_data_in_leaf': 12, 'leaf_estimation_iterations': 7, 'one_hot_max_size': 3}. Best is trial 6 with value: 0.7353458721879775.\u001b[0m\n"
     ]
    },
    {
     "data": {
      "application/json": {
       "ascii": false,
       "bar_format": null,
       "colour": null,
       "elapsed": 0.013001441955566406,
       "initial": 0,
       "n": 0,
       "ncols": null,
       "nrows": null,
       "postfix": null,
       "prefix": "",
       "rate": null,
       "total": 20,
       "unit": "it",
       "unit_divisor": 1000,
       "unit_scale": false
      },
      "application/vnd.jupyter.widget-view+json": {
       "model_id": "170f3ac60b784ef785bce0ccc91f14f4",
       "version_major": 2,
       "version_minor": 0
      },
      "text/plain": [
       "  0%|          | 0/20 [00:00<?, ?it/s]"
      ]
     },
     "metadata": {},
     "output_type": "display_data"
    },
    {
     "name": "stderr",
     "output_type": "stream",
     "text": [
      "\n",
      "KeyboardInterrupt\n",
      "\n"
     ]
    }
   ],
   "source": [
    "study_list = []\n",
    "for th in [0.45, 0.475, 0.5, 0.525, 0.55, 0.575, 0.6]:\n",
    "    threshold = th\n",
    "    study2 = optuna.create_study(direction='maximize')\n",
    "    study2.optimize(cb_objective, n_trials=20, show_progress_bar=True)\n",
    "    study_list.append(study2)"
   ]
  },
  {
   "cell_type": "code",
   "execution_count": 82,
   "id": "b8acf075",
   "metadata": {
    "scrolled": false
   },
   "outputs": [
    {
     "data": {
      "image/png": "[encoded data removed]",
      "text/plain": [
       "<Figure size 1080x504 with 1 Axes>"
      ]
     },
     "metadata": {
      "needs_background": "light"
     },
     "output_type": "display_data"
    }
   ],
   "source": [
    "history = pd.Series([sdy.best_trial.value for sdy in study_list], index=[0.45, 0.475, 0.5, 0.525])\n",
    "\n",
    "plt.rcParams[\"figure.figsize\"] = (15, 7)\n",
    "plt.plot(history)\n",
    "plt.xticks([0.45, 0.475, 0.5, 0.525])\n",
    "plt.show()"
   ]
  },
  {
   "cell_type": "code",
   "execution_count": null,
   "id": "b4bd3120",
   "metadata": {},
   "outputs": [],
   "source": [
    "clf = catboost.CatBoostClassifier(**study_list[history.index(max(history))].best_params, verbose=0).fit(train_x, train_y)\n",
    "\n",
    "pred = []\n",
    "for proba in clf.predict_proba(test):\n",
    "    if list(proba).index(max(proba)) == 1 and max(proba) <= 0.475:\n",
    "        if proba[0] > proba[2]: \n",
    "            pred.append(0)\n",
    "        elif proba[0] < proba[2]:\n",
    "            pred.append(2)\n",
    "        else:\n",
    "            pred.append(1)\n",
    "    else:\n",
    "        pred.append(list(proba).index(max(proba)))\n",
    "\n",
    "#pred = clf.predict(test)\n",
    "subm['Y_Class'] = pred"
   ]
  },
  {
   "cell_type": "code",
   "execution_count": null,
   "id": "862c7be8",
   "metadata": {},
   "outputs": [],
   "source": []
  },
  {
   "cell_type": "code",
   "execution_count": 106,
   "id": "fa7b737e",
   "metadata": {},
   "outputs": [],
   "source": [
    "clf = catboost.CatBoostClassifier(task_type='GPU', verbose=0).fit(train_x, train_y)\n",
    "pred = clf.predict(test)\n",
    "subm['Y_Class'] = pred"
   ]
  },
  {
   "cell_type": "code",
   "execution_count": 107,
   "id": "455f0e74",
   "metadata": {},
   "outputs": [
    {
     "data": {
      "text/plain": [
       "1    259\n",
       "0     36\n",
       "2     15\n",
       "Name: Y_Class, dtype: int64"
      ]
     },
     "execution_count": 107,
     "metadata": {},
     "output_type": "execute_result"
    }
   ],
   "source": [
    "subm.Y_Class.value_counts()"
   ]
  },
  {
   "cell_type": "code",
   "execution_count": 108,
   "id": "0dfb0f3a",
   "metadata": {},
   "outputs": [
    {
     "name": "stdout",
     "output_type": "stream",
     "text": [
      "2 0\n",
      "1 0\n",
      "1 2\n",
      "1 2\n",
      "2 1\n",
      "2 1\n",
      "2 1\n",
      "0 1\n",
      "2 1\n",
      "2 0\n",
      "2 1\n",
      "2 1\n",
      "2 0\n",
      "2 1\n"
     ]
    }
   ],
   "source": [
    "for a, b in zip(subm.Y_Class, pd.read_csv('./submission_36_feat_del.csv').Y_Class):\n",
    "    if a != b:\n",
    "        print(a, b)"
   ]
  },
  {
   "cell_type": "code",
   "execution_count": null,
   "id": "55c64a1a",
   "metadata": {},
   "outputs": [],
   "source": []
  },
  {
   "cell_type": "code",
   "execution_count": null,
   "id": "cba88f92",
   "metadata": {},
   "outputs": [],
   "source": []
  },
  {
   "cell_type": "code",
   "execution_count": 102,
   "id": "f303d53d",
   "metadata": {},
   "outputs": [],
   "source": [
    "clf = catboost.CatBoostClassifier(**study.best_params, verbose=0).fit(train_x, train_y)\n",
    "pred = clf.predict(test)\n",
    "subm['Y_Class'] = pred"
   ]
  },
  {
   "cell_type": "code",
   "execution_count": 103,
   "id": "a96785b2",
   "metadata": {},
   "outputs": [
    {
     "data": {
      "text/plain": [
       "1    263\n",
       "0     36\n",
       "2     11\n",
       "Name: Y_Class, dtype: int64"
      ]
     },
     "execution_count": 103,
     "metadata": {},
     "output_type": "execute_result"
    }
   ],
   "source": [
    "subm.Y_Class.value_counts()"
   ]
  },
  {
   "cell_type": "code",
   "execution_count": 104,
   "id": "5361c3f2",
   "metadata": {},
   "outputs": [
    {
     "name": "stdout",
     "output_type": "stream",
     "text": [
      "0 1\n",
      "1 0\n",
      "1 0\n",
      "0 1\n",
      "1 2\n",
      "2 1\n",
      "2 1\n",
      "1 0\n",
      "1 0\n",
      "2 1\n",
      "2 1\n",
      "2 1\n",
      "0 1\n",
      "1 0\n",
      "1 0\n"
     ]
    }
   ],
   "source": [
    "for a, b in zip(subm.Y_Class, pd.read_csv('./submission_36_feat_del.csv').Y_Class):\n",
    "    if a != b:\n",
    "        print(a, b)"
   ]
  },
  {
   "cell_type": "code",
   "execution_count": null,
   "id": "25a47749",
   "metadata": {},
   "outputs": [],
   "source": []
  },
  {
   "cell_type": "code",
   "execution_count": null,
   "id": "ae28d672",
   "metadata": {},
   "outputs": [],
   "source": []
  },
  {
   "cell_type": "code",
   "execution_count": null,
   "id": "77b0921f",
   "metadata": {},
   "outputs": [],
   "source": []
  },
  {
   "cell_type": "code",
   "execution_count": null,
   "id": "32eff9f9",
   "metadata": {},
   "outputs": [],
   "source": [
    "clf = catboost.CatBoostClassifier(**study_list[history.index(max(history))].best_params, verbose=0).fit(train_x, train_y)\n",
    "pred = clf.predict(test)\n",
    "subm['Y_Class'] = pred"
   ]
  },
  {
   "cell_type": "code",
   "execution_count": 55,
   "id": "cafef374",
   "metadata": {
    "scrolled": true
   },
   "outputs": [
    {
     "data": {
      "text/plain": [
       "1    262\n",
       "0     40\n",
       "2      8\n",
       "Name: Y_Class, dtype: int64"
      ]
     },
     "execution_count": 55,
     "metadata": {},
     "output_type": "execute_result"
    }
   ],
   "source": [
    "subm.Y_Class.value_counts()"
   ]
  },
  {
   "cell_type": "code",
   "execution_count": 109,
   "id": "680aa72d",
   "metadata": {},
   "outputs": [],
   "source": [
    "subm.to_csv('./submission_43_default.csv', index=False)"
   ]
  },
  {
   "cell_type": "code",
   "execution_count": null,
   "id": "d406f31b",
   "metadata": {},
   "outputs": [],
   "source": [
    "### 기존, optuna, threshold 3개 제출"
   ]
  }
 ],
 "metadata": {
  "kernelspec": {
   "display_name": "Python 3 (ipykernel)",
   "language": "python",
   "name": "python3"
  },
  "language_info": {
   "codemirror_mode": {
    "name": "ipython",
    "version": 3
   },
   "file_extension": ".py",
   "mimetype": "text/x-python",
   "name": "python",
   "nbconvert_exporter": "python",
   "pygments_lexer": "ipython3",
   "version": "3.9.12"
  }
 },
 "nbformat": 4,
 "nbformat_minor": 5
}
