{
 "cells": [
  {
   "cell_type": "markdown",
   "id": "35ef7991",
   "metadata": {},
   "source": [
    "## Dataset Info.\n",
    "\n",
    "### train.csv [파일]\n",
    "PRODUCT_ID : 제품의 고유 ID  \n",
    "Y_Class : 제품 품질 상태(Target)   \n",
    "0 : 적정 기준 미달 (부적합)  \n",
    "1 : 적합  \n",
    "2 : 적정 기준 초과 (부적합)  \n",
    "Y_Quality : 제품 품질 관련 정량적 수치  \n",
    "TIMESTAMP : 제품이 공정에 들어간 시각  \n",
    "LINE : 제품이 들어간 공정 LINE 종류 ('T050304', 'T050307', 'T100304', 'T100306', 'T010306', 'T010305' 존재)  \n",
    "PRODUCT_CODE : 제품의 CODE 번호 ('A_31', 'T_31', 'O_31' 존재)  \n",
    "X_1 ~ X_2875 : 공정 과정에서 추출되어 비식별화된 변수  \n",
    "\n",
    "\n",
    "### test.csv [파일]\n",
    "PRODUCT_ID : 제품의 고유 ID  \n",
    "TIMESTAMP : 제품이 공정에 들어간 시각  \n",
    "LINE : 제품이 들어간 공정 LINE 종류 ('T050304', 'T050307', 'T100304', 'T100306', 'T010306', 'T010305' 존재)  \n",
    "PRODUCT_CODE : 제품의 CODE 번호 ('A_31', 'T_31', 'O_31' 존재)  \n",
    "X_1 ~ X_2875 : 공정 과정에서 추출되어 비식별화된 변수  \n",
    "\n",
    "\n",
    "### sample_submission.csv [파일] - 제출 양식\n",
    "PRODUCT_ID : 제품의 고유 ID  \n",
    "Y_Class : 예측한 제품 품질 상태  \n",
    "0 : 적정 기준 미달 (부적합)  \n",
    "1 : 적합  \n",
    "2 : 적정 기준 초과 (부적합)  \n",
    "\n",
    "실제 공정 과정에서의 데이터로, 보안상의 이유로 일부 변수가 비식별화 처리 되었습니다. (X변수)  \n",
    "'LINE', 'PRODUCT_CODE'는 Train / Test 모두 동일한 종류가 존재합니다.  "
   ]
  },
  {
   "cell_type": "markdown",
   "id": "80b9d536",
   "metadata": {},
   "source": [
    "# Import"
   ]
  },
  {
   "cell_type": "code",
   "execution_count": 31,
   "id": "eec9694b",
   "metadata": {},
   "outputs": [],
   "source": [
    "import pandas as pd\n",
    "import random\n",
    "import os\n",
    "import numpy as np\n",
    "\n",
    "from sklearn.preprocessing import LabelEncoder\n",
    "from sklearn.ensemble import RandomForestClassifier"
   ]
  },
  {
   "cell_type": "code",
   "execution_count": 32,
   "id": "b203b28b",
   "metadata": {},
   "outputs": [],
   "source": [
    "def seed_everything(seed):\n",
    "    random.seed(seed)\n",
    "    os.environ['PYTHONHASHSEED'] = str(seed)\n",
    "    np.random.seed(seed)\n",
    "seed_everything(37) # Seed 고정"
   ]
  },
  {
   "cell_type": "markdown",
   "id": "b4620bdf",
   "metadata": {},
   "source": [
    "# Data Load"
   ]
  },
  {
   "cell_type": "code",
   "execution_count": 33,
   "id": "e6fbacbb",
   "metadata": {},
   "outputs": [
    {
     "ename": "FileNotFoundError",
     "evalue": "[Errno 2] No such file or directory: './dataset/train.csv'",
     "output_type": "error",
     "traceback": [
      "\u001b[1;31m---------------------------------------------------------------------------\u001b[0m",
      "\u001b[1;31mFileNotFoundError\u001b[0m                         Traceback (most recent call last)",
      "Input \u001b[1;32mIn [33]\u001b[0m, in \u001b[0;36m<cell line: 1>\u001b[1;34m()\u001b[0m\n\u001b[1;32m----> 1\u001b[0m train_df \u001b[38;5;241m=\u001b[39m \u001b[43mpd\u001b[49m\u001b[38;5;241;43m.\u001b[39;49m\u001b[43mread_csv\u001b[49m\u001b[43m(\u001b[49m\u001b[38;5;124;43m'\u001b[39;49m\u001b[38;5;124;43m./dataset/train.csv\u001b[39;49m\u001b[38;5;124;43m'\u001b[39;49m\u001b[43m)\u001b[49m\n\u001b[0;32m      2\u001b[0m test_df \u001b[38;5;241m=\u001b[39m pd\u001b[38;5;241m.\u001b[39mread_csv(\u001b[38;5;124m'\u001b[39m\u001b[38;5;124m./dataset/test.csv\u001b[39m\u001b[38;5;124m'\u001b[39m)\n",
      "File \u001b[1;32m~\\anaconda3\\envs\\py39\\lib\\site-packages\\pandas\\util\\_decorators.py:311\u001b[0m, in \u001b[0;36mdeprecate_nonkeyword_arguments.<locals>.decorate.<locals>.wrapper\u001b[1;34m(*args, **kwargs)\u001b[0m\n\u001b[0;32m    305\u001b[0m \u001b[38;5;28;01mif\u001b[39;00m \u001b[38;5;28mlen\u001b[39m(args) \u001b[38;5;241m>\u001b[39m num_allow_args:\n\u001b[0;32m    306\u001b[0m     warnings\u001b[38;5;241m.\u001b[39mwarn(\n\u001b[0;32m    307\u001b[0m         msg\u001b[38;5;241m.\u001b[39mformat(arguments\u001b[38;5;241m=\u001b[39marguments),\n\u001b[0;32m    308\u001b[0m         \u001b[38;5;167;01mFutureWarning\u001b[39;00m,\n\u001b[0;32m    309\u001b[0m         stacklevel\u001b[38;5;241m=\u001b[39mstacklevel,\n\u001b[0;32m    310\u001b[0m     )\n\u001b[1;32m--> 311\u001b[0m \u001b[38;5;28;01mreturn\u001b[39;00m func(\u001b[38;5;241m*\u001b[39margs, \u001b[38;5;241m*\u001b[39m\u001b[38;5;241m*\u001b[39mkwargs)\n",
      "File \u001b[1;32m~\\anaconda3\\envs\\py39\\lib\\site-packages\\pandas\\io\\parsers\\readers.py:680\u001b[0m, in \u001b[0;36mread_csv\u001b[1;34m(filepath_or_buffer, sep, delimiter, header, names, index_col, usecols, squeeze, prefix, mangle_dupe_cols, dtype, engine, converters, true_values, false_values, skipinitialspace, skiprows, skipfooter, nrows, na_values, keep_default_na, na_filter, verbose, skip_blank_lines, parse_dates, infer_datetime_format, keep_date_col, date_parser, dayfirst, cache_dates, iterator, chunksize, compression, thousands, decimal, lineterminator, quotechar, quoting, doublequote, escapechar, comment, encoding, encoding_errors, dialect, error_bad_lines, warn_bad_lines, on_bad_lines, delim_whitespace, low_memory, memory_map, float_precision, storage_options)\u001b[0m\n\u001b[0;32m    665\u001b[0m kwds_defaults \u001b[38;5;241m=\u001b[39m _refine_defaults_read(\n\u001b[0;32m    666\u001b[0m     dialect,\n\u001b[0;32m    667\u001b[0m     delimiter,\n\u001b[1;32m   (...)\u001b[0m\n\u001b[0;32m    676\u001b[0m     defaults\u001b[38;5;241m=\u001b[39m{\u001b[38;5;124m\"\u001b[39m\u001b[38;5;124mdelimiter\u001b[39m\u001b[38;5;124m\"\u001b[39m: \u001b[38;5;124m\"\u001b[39m\u001b[38;5;124m,\u001b[39m\u001b[38;5;124m\"\u001b[39m},\n\u001b[0;32m    677\u001b[0m )\n\u001b[0;32m    678\u001b[0m kwds\u001b[38;5;241m.\u001b[39mupdate(kwds_defaults)\n\u001b[1;32m--> 680\u001b[0m \u001b[38;5;28;01mreturn\u001b[39;00m \u001b[43m_read\u001b[49m\u001b[43m(\u001b[49m\u001b[43mfilepath_or_buffer\u001b[49m\u001b[43m,\u001b[49m\u001b[43m \u001b[49m\u001b[43mkwds\u001b[49m\u001b[43m)\u001b[49m\n",
      "File \u001b[1;32m~\\anaconda3\\envs\\py39\\lib\\site-packages\\pandas\\io\\parsers\\readers.py:575\u001b[0m, in \u001b[0;36m_read\u001b[1;34m(filepath_or_buffer, kwds)\u001b[0m\n\u001b[0;32m    572\u001b[0m _validate_names(kwds\u001b[38;5;241m.\u001b[39mget(\u001b[38;5;124m\"\u001b[39m\u001b[38;5;124mnames\u001b[39m\u001b[38;5;124m\"\u001b[39m, \u001b[38;5;28;01mNone\u001b[39;00m))\n\u001b[0;32m    574\u001b[0m \u001b[38;5;66;03m# Create the parser.\u001b[39;00m\n\u001b[1;32m--> 575\u001b[0m parser \u001b[38;5;241m=\u001b[39m TextFileReader(filepath_or_buffer, \u001b[38;5;241m*\u001b[39m\u001b[38;5;241m*\u001b[39mkwds)\n\u001b[0;32m    577\u001b[0m \u001b[38;5;28;01mif\u001b[39;00m chunksize \u001b[38;5;129;01mor\u001b[39;00m iterator:\n\u001b[0;32m    578\u001b[0m     \u001b[38;5;28;01mreturn\u001b[39;00m parser\n",
      "File \u001b[1;32m~\\anaconda3\\envs\\py39\\lib\\site-packages\\pandas\\io\\parsers\\readers.py:934\u001b[0m, in \u001b[0;36mTextFileReader.__init__\u001b[1;34m(self, f, engine, **kwds)\u001b[0m\n\u001b[0;32m    931\u001b[0m     \u001b[38;5;28mself\u001b[39m\u001b[38;5;241m.\u001b[39moptions[\u001b[38;5;124m\"\u001b[39m\u001b[38;5;124mhas_index_names\u001b[39m\u001b[38;5;124m\"\u001b[39m] \u001b[38;5;241m=\u001b[39m kwds[\u001b[38;5;124m\"\u001b[39m\u001b[38;5;124mhas_index_names\u001b[39m\u001b[38;5;124m\"\u001b[39m]\n\u001b[0;32m    933\u001b[0m \u001b[38;5;28mself\u001b[39m\u001b[38;5;241m.\u001b[39mhandles: IOHandles \u001b[38;5;241m|\u001b[39m \u001b[38;5;28;01mNone\u001b[39;00m \u001b[38;5;241m=\u001b[39m \u001b[38;5;28;01mNone\u001b[39;00m\n\u001b[1;32m--> 934\u001b[0m \u001b[38;5;28mself\u001b[39m\u001b[38;5;241m.\u001b[39m_engine \u001b[38;5;241m=\u001b[39m \u001b[38;5;28;43mself\u001b[39;49m\u001b[38;5;241;43m.\u001b[39;49m\u001b[43m_make_engine\u001b[49m\u001b[43m(\u001b[49m\u001b[43mf\u001b[49m\u001b[43m,\u001b[49m\u001b[43m \u001b[49m\u001b[38;5;28;43mself\u001b[39;49m\u001b[38;5;241;43m.\u001b[39;49m\u001b[43mengine\u001b[49m\u001b[43m)\u001b[49m\n",
      "File \u001b[1;32m~\\anaconda3\\envs\\py39\\lib\\site-packages\\pandas\\io\\parsers\\readers.py:1218\u001b[0m, in \u001b[0;36mTextFileReader._make_engine\u001b[1;34m(self, f, engine)\u001b[0m\n\u001b[0;32m   1214\u001b[0m     mode \u001b[38;5;241m=\u001b[39m \u001b[38;5;124m\"\u001b[39m\u001b[38;5;124mrb\u001b[39m\u001b[38;5;124m\"\u001b[39m\n\u001b[0;32m   1215\u001b[0m \u001b[38;5;66;03m# error: No overload variant of \"get_handle\" matches argument types\u001b[39;00m\n\u001b[0;32m   1216\u001b[0m \u001b[38;5;66;03m# \"Union[str, PathLike[str], ReadCsvBuffer[bytes], ReadCsvBuffer[str]]\"\u001b[39;00m\n\u001b[0;32m   1217\u001b[0m \u001b[38;5;66;03m# , \"str\", \"bool\", \"Any\", \"Any\", \"Any\", \"Any\", \"Any\"\u001b[39;00m\n\u001b[1;32m-> 1218\u001b[0m \u001b[38;5;28mself\u001b[39m\u001b[38;5;241m.\u001b[39mhandles \u001b[38;5;241m=\u001b[39m \u001b[43mget_handle\u001b[49m\u001b[43m(\u001b[49m\u001b[43m  \u001b[49m\u001b[38;5;66;43;03m# type: ignore[call-overload]\u001b[39;49;00m\n\u001b[0;32m   1219\u001b[0m \u001b[43m    \u001b[49m\u001b[43mf\u001b[49m\u001b[43m,\u001b[49m\n\u001b[0;32m   1220\u001b[0m \u001b[43m    \u001b[49m\u001b[43mmode\u001b[49m\u001b[43m,\u001b[49m\n\u001b[0;32m   1221\u001b[0m \u001b[43m    \u001b[49m\u001b[43mencoding\u001b[49m\u001b[38;5;241;43m=\u001b[39;49m\u001b[38;5;28;43mself\u001b[39;49m\u001b[38;5;241;43m.\u001b[39;49m\u001b[43moptions\u001b[49m\u001b[38;5;241;43m.\u001b[39;49m\u001b[43mget\u001b[49m\u001b[43m(\u001b[49m\u001b[38;5;124;43m\"\u001b[39;49m\u001b[38;5;124;43mencoding\u001b[39;49m\u001b[38;5;124;43m\"\u001b[39;49m\u001b[43m,\u001b[49m\u001b[43m \u001b[49m\u001b[38;5;28;43;01mNone\u001b[39;49;00m\u001b[43m)\u001b[49m\u001b[43m,\u001b[49m\n\u001b[0;32m   1222\u001b[0m \u001b[43m    \u001b[49m\u001b[43mcompression\u001b[49m\u001b[38;5;241;43m=\u001b[39;49m\u001b[38;5;28;43mself\u001b[39;49m\u001b[38;5;241;43m.\u001b[39;49m\u001b[43moptions\u001b[49m\u001b[38;5;241;43m.\u001b[39;49m\u001b[43mget\u001b[49m\u001b[43m(\u001b[49m\u001b[38;5;124;43m\"\u001b[39;49m\u001b[38;5;124;43mcompression\u001b[39;49m\u001b[38;5;124;43m\"\u001b[39;49m\u001b[43m,\u001b[49m\u001b[43m \u001b[49m\u001b[38;5;28;43;01mNone\u001b[39;49;00m\u001b[43m)\u001b[49m\u001b[43m,\u001b[49m\n\u001b[0;32m   1223\u001b[0m \u001b[43m    \u001b[49m\u001b[43mmemory_map\u001b[49m\u001b[38;5;241;43m=\u001b[39;49m\u001b[38;5;28;43mself\u001b[39;49m\u001b[38;5;241;43m.\u001b[39;49m\u001b[43moptions\u001b[49m\u001b[38;5;241;43m.\u001b[39;49m\u001b[43mget\u001b[49m\u001b[43m(\u001b[49m\u001b[38;5;124;43m\"\u001b[39;49m\u001b[38;5;124;43mmemory_map\u001b[39;49m\u001b[38;5;124;43m\"\u001b[39;49m\u001b[43m,\u001b[49m\u001b[43m \u001b[49m\u001b[38;5;28;43;01mFalse\u001b[39;49;00m\u001b[43m)\u001b[49m\u001b[43m,\u001b[49m\n\u001b[0;32m   1224\u001b[0m \u001b[43m    \u001b[49m\u001b[43mis_text\u001b[49m\u001b[38;5;241;43m=\u001b[39;49m\u001b[43mis_text\u001b[49m\u001b[43m,\u001b[49m\n\u001b[0;32m   1225\u001b[0m \u001b[43m    \u001b[49m\u001b[43merrors\u001b[49m\u001b[38;5;241;43m=\u001b[39;49m\u001b[38;5;28;43mself\u001b[39;49m\u001b[38;5;241;43m.\u001b[39;49m\u001b[43moptions\u001b[49m\u001b[38;5;241;43m.\u001b[39;49m\u001b[43mget\u001b[49m\u001b[43m(\u001b[49m\u001b[38;5;124;43m\"\u001b[39;49m\u001b[38;5;124;43mencoding_errors\u001b[39;49m\u001b[38;5;124;43m\"\u001b[39;49m\u001b[43m,\u001b[49m\u001b[43m \u001b[49m\u001b[38;5;124;43m\"\u001b[39;49m\u001b[38;5;124;43mstrict\u001b[39;49m\u001b[38;5;124;43m\"\u001b[39;49m\u001b[43m)\u001b[49m\u001b[43m,\u001b[49m\n\u001b[0;32m   1226\u001b[0m \u001b[43m    \u001b[49m\u001b[43mstorage_options\u001b[49m\u001b[38;5;241;43m=\u001b[39;49m\u001b[38;5;28;43mself\u001b[39;49m\u001b[38;5;241;43m.\u001b[39;49m\u001b[43moptions\u001b[49m\u001b[38;5;241;43m.\u001b[39;49m\u001b[43mget\u001b[49m\u001b[43m(\u001b[49m\u001b[38;5;124;43m\"\u001b[39;49m\u001b[38;5;124;43mstorage_options\u001b[39;49m\u001b[38;5;124;43m\"\u001b[39;49m\u001b[43m,\u001b[49m\u001b[43m \u001b[49m\u001b[38;5;28;43;01mNone\u001b[39;49;00m\u001b[43m)\u001b[49m\u001b[43m,\u001b[49m\n\u001b[0;32m   1227\u001b[0m \u001b[43m\u001b[49m\u001b[43m)\u001b[49m\n\u001b[0;32m   1228\u001b[0m \u001b[38;5;28;01massert\u001b[39;00m \u001b[38;5;28mself\u001b[39m\u001b[38;5;241m.\u001b[39mhandles \u001b[38;5;129;01mis\u001b[39;00m \u001b[38;5;129;01mnot\u001b[39;00m \u001b[38;5;28;01mNone\u001b[39;00m\n\u001b[0;32m   1229\u001b[0m f \u001b[38;5;241m=\u001b[39m \u001b[38;5;28mself\u001b[39m\u001b[38;5;241m.\u001b[39mhandles\u001b[38;5;241m.\u001b[39mhandle\n",
      "File \u001b[1;32m~\\anaconda3\\envs\\py39\\lib\\site-packages\\pandas\\io\\common.py:786\u001b[0m, in \u001b[0;36mget_handle\u001b[1;34m(path_or_buf, mode, encoding, compression, memory_map, is_text, errors, storage_options)\u001b[0m\n\u001b[0;32m    781\u001b[0m \u001b[38;5;28;01melif\u001b[39;00m \u001b[38;5;28misinstance\u001b[39m(handle, \u001b[38;5;28mstr\u001b[39m):\n\u001b[0;32m    782\u001b[0m     \u001b[38;5;66;03m# Check whether the filename is to be opened in binary mode.\u001b[39;00m\n\u001b[0;32m    783\u001b[0m     \u001b[38;5;66;03m# Binary mode does not support 'encoding' and 'newline'.\u001b[39;00m\n\u001b[0;32m    784\u001b[0m     \u001b[38;5;28;01mif\u001b[39;00m ioargs\u001b[38;5;241m.\u001b[39mencoding \u001b[38;5;129;01mand\u001b[39;00m \u001b[38;5;124m\"\u001b[39m\u001b[38;5;124mb\u001b[39m\u001b[38;5;124m\"\u001b[39m \u001b[38;5;129;01mnot\u001b[39;00m \u001b[38;5;129;01min\u001b[39;00m ioargs\u001b[38;5;241m.\u001b[39mmode:\n\u001b[0;32m    785\u001b[0m         \u001b[38;5;66;03m# Encoding\u001b[39;00m\n\u001b[1;32m--> 786\u001b[0m         handle \u001b[38;5;241m=\u001b[39m \u001b[38;5;28;43mopen\u001b[39;49m\u001b[43m(\u001b[49m\n\u001b[0;32m    787\u001b[0m \u001b[43m            \u001b[49m\u001b[43mhandle\u001b[49m\u001b[43m,\u001b[49m\n\u001b[0;32m    788\u001b[0m \u001b[43m            \u001b[49m\u001b[43mioargs\u001b[49m\u001b[38;5;241;43m.\u001b[39;49m\u001b[43mmode\u001b[49m\u001b[43m,\u001b[49m\n\u001b[0;32m    789\u001b[0m \u001b[43m            \u001b[49m\u001b[43mencoding\u001b[49m\u001b[38;5;241;43m=\u001b[39;49m\u001b[43mioargs\u001b[49m\u001b[38;5;241;43m.\u001b[39;49m\u001b[43mencoding\u001b[49m\u001b[43m,\u001b[49m\n\u001b[0;32m    790\u001b[0m \u001b[43m            \u001b[49m\u001b[43merrors\u001b[49m\u001b[38;5;241;43m=\u001b[39;49m\u001b[43merrors\u001b[49m\u001b[43m,\u001b[49m\n\u001b[0;32m    791\u001b[0m \u001b[43m            \u001b[49m\u001b[43mnewline\u001b[49m\u001b[38;5;241;43m=\u001b[39;49m\u001b[38;5;124;43m\"\u001b[39;49m\u001b[38;5;124;43m\"\u001b[39;49m\u001b[43m,\u001b[49m\n\u001b[0;32m    792\u001b[0m \u001b[43m        \u001b[49m\u001b[43m)\u001b[49m\n\u001b[0;32m    793\u001b[0m     \u001b[38;5;28;01melse\u001b[39;00m:\n\u001b[0;32m    794\u001b[0m         \u001b[38;5;66;03m# Binary mode\u001b[39;00m\n\u001b[0;32m    795\u001b[0m         handle \u001b[38;5;241m=\u001b[39m \u001b[38;5;28mopen\u001b[39m(handle, ioargs\u001b[38;5;241m.\u001b[39mmode)\n",
      "\u001b[1;31mFileNotFoundError\u001b[0m: [Errno 2] No such file or directory: './dataset/train.csv'"
     ]
    }
   ],
   "source": [
    "train_df = pd.read_csv('./dataset/train.csv')\n",
    "test_df = pd.read_csv('./dataset/test.csv')"
   ]
  },
  {
   "cell_type": "code",
   "execution_count": null,
   "id": "8fe800b2",
   "metadata": {},
   "outputs": [],
   "source": [
    "train_df.columns"
   ]
  },
  {
   "cell_type": "code",
   "execution_count": null,
   "id": "f4eeaa19",
   "metadata": {},
   "outputs": [],
   "source": [
    "# 결측치 파악\n",
    "\n",
    "train_df.isnull().sum()"
   ]
  },
  {
   "cell_type": "code",
   "execution_count": null,
   "id": "e17237e0",
   "metadata": {},
   "outputs": [],
   "source": [
    "train = train_df.drop(columns = ['PRODUCT_ID', 'TIMESTAMP', 'Y_Quality'])\n",
    "train = train.fillna(0)\n",
    "\n",
    "test = test_df.drop(columns = ['PRODUCT_ID', 'TIMESTAMP'])\n",
    "test = test.fillna(0)"
   ]
  },
  {
   "cell_type": "code",
   "execution_count": null,
   "id": "966e6719",
   "metadata": {},
   "outputs": [],
   "source": [
    "# qualitative to quantitative\n",
    "qual_col = ['LINE', 'PRODUCT_CODE']\n",
    "\n",
    "for i in qual_col:\n",
    "    le = LabelEncoder()\n",
    "    le = le.fit(train[i])\n",
    "    train[i] = le.transform(train[i])\n",
    "    \n",
    "    for label in np.unique(test[i]): \n",
    "        if label not in le.classes_: \n",
    "            le.classes_ = np.append(le.classes_, label)\n",
    "    test[i] = le.transform(test[i]) \n",
    "print('Done.')"
   ]
  },
  {
   "cell_type": "code",
   "execution_count": null,
   "id": "4540414a",
   "metadata": {
    "scrolled": false
   },
   "outputs": [],
   "source": [
    "train"
   ]
  },
  {
   "cell_type": "code",
   "execution_count": null,
   "id": "723613ac",
   "metadata": {},
   "outputs": [],
   "source": [
    "test"
   ]
  },
  {
   "cell_type": "code",
   "execution_count": null,
   "id": "0b715832",
   "metadata": {},
   "outputs": [],
   "source": [
    "train_data = train.iloc[:,1:]\n",
    "train_data = train_data.to_numpy()\n",
    "\n",
    "train_label = train['Y_Class']\n",
    "train_label = train_label.to_numpy()"
   ]
  },
  {
   "cell_type": "code",
   "execution_count": null,
   "id": "66bd8ad3",
   "metadata": {},
   "outputs": [],
   "source": [
    "train_data"
   ]
  },
  {
   "cell_type": "code",
   "execution_count": null,
   "id": "799e10b0",
   "metadata": {},
   "outputs": [],
   "source": [
    "from sklearn.model_selection import train_test_split\n",
    "\n",
    "X_train, X_val, y_train, y_val = train_test_split(train_data, train_label, test_size = 0.2, random_state=0)"
   ]
  },
  {
   "cell_type": "code",
   "execution_count": null,
   "id": "3dce0293",
   "metadata": {},
   "outputs": [],
   "source": [
    "from keras.utils.np_utils import to_categorical\n",
    "\n",
    "one_hot_train_labels = to_categorical(y_train, num_classes=3)\n",
    "one_hot_val_labels = to_categorical(y_val, num_classes=3)"
   ]
  },
  {
   "cell_type": "code",
   "execution_count": 34,
   "id": "3d72dd2e",
   "metadata": {},
   "outputs": [
    {
     "data": {
      "text/plain": [
       "(478, 2877)"
      ]
     },
     "execution_count": 34,
     "metadata": {},
     "output_type": "execute_result"
    }
   ],
   "source": [
    "X_train.shape"
   ]
  },
  {
   "cell_type": "code",
   "execution_count": 61,
   "id": "04e6182e",
   "metadata": {},
   "outputs": [],
   "source": [
    "from keras import models, layers, metrics\n",
    "import tensorflow as tf\n",
    "model = models.Sequential()\n",
    "model.add(layers.Dense(32, activation='relu')) # input_shape은 지정하지 않아도 자동으로 선택\n",
    "model.add(layers.Dense(32, activation='relu'))\n",
    "model.add(layers.Dense(3, activation='softmax'))\n",
    "\n",
    "# 다중 분류를 활용해야함. 일반적인 categorical은 one-hot-vector 형식을 받는다고 하네요.\n",
    "model.compile(optimizer='adam', loss='sparse_categorical_crossentropy', metrics=[tf.keras.metrics.SparseCategoricalAccuracy()])"
   ]
  },
  {
   "cell_type": "code",
   "execution_count": 62,
   "id": "937be723",
   "metadata": {
    "scrolled": true
   },
   "outputs": [
    {
     "name": "stdout",
     "output_type": "stream",
     "text": [
      "Epoch 1/100\n",
      "15/15 [==============================] - 0s 8ms/step - loss: 29866006528.0000 - sparse_categorical_accuracy: 0.5439 - val_loss: 14115778560.0000 - val_sparse_categorical_accuracy: 0.7000\n",
      "Epoch 2/100\n",
      "15/15 [==============================] - 0s 2ms/step - loss: 7737291264.0000 - sparse_categorical_accuracy: 0.5774 - val_loss: 5737332736.0000 - val_sparse_categorical_accuracy: 0.5750\n",
      "Epoch 3/100\n",
      "15/15 [==============================] - 0s 2ms/step - loss: 6202596864.0000 - sparse_categorical_accuracy: 0.5816 - val_loss: 6328950784.0000 - val_sparse_categorical_accuracy: 0.6750\n",
      "Epoch 4/100\n",
      "15/15 [==============================] - 0s 2ms/step - loss: 3946024448.0000 - sparse_categorical_accuracy: 0.6151 - val_loss: 8788384768.0000 - val_sparse_categorical_accuracy: 0.4417\n",
      "Epoch 5/100\n",
      "15/15 [==============================] - 0s 2ms/step - loss: 4378396160.0000 - sparse_categorical_accuracy: 0.5858 - val_loss: 3111947008.0000 - val_sparse_categorical_accuracy: 0.6833\n",
      "Epoch 6/100\n",
      "15/15 [==============================] - 0s 2ms/step - loss: 3392144640.0000 - sparse_categorical_accuracy: 0.5900 - val_loss: 2667559424.0000 - val_sparse_categorical_accuracy: 0.6500\n",
      "Epoch 7/100\n",
      "15/15 [==============================] - 0s 2ms/step - loss: 2109544576.0000 - sparse_categorical_accuracy: 0.5774 - val_loss: 1422357632.0000 - val_sparse_categorical_accuracy: 0.6083\n",
      "Epoch 8/100\n",
      "15/15 [==============================] - 0s 2ms/step - loss: 3226239488.0000 - sparse_categorical_accuracy: 0.6151 - val_loss: 1082647168.0000 - val_sparse_categorical_accuracy: 0.5833\n",
      "Epoch 9/100\n",
      "15/15 [==============================] - 0s 2ms/step - loss: 1798664064.0000 - sparse_categorical_accuracy: 0.6025 - val_loss: 3830228480.0000 - val_sparse_categorical_accuracy: 0.5500\n",
      "Epoch 10/100\n",
      "15/15 [==============================] - 0s 2ms/step - loss: 2783411712.0000 - sparse_categorical_accuracy: 0.5523 - val_loss: 5032709120.0000 - val_sparse_categorical_accuracy: 0.6500\n",
      "Epoch 11/100\n",
      "15/15 [==============================] - 0s 3ms/step - loss: 4684776448.0000 - sparse_categorical_accuracy: 0.5921 - val_loss: 7480066048.0000 - val_sparse_categorical_accuracy: 0.4167\n",
      "Epoch 12/100\n",
      "15/15 [==============================] - 0s 2ms/step - loss: 3822779648.0000 - sparse_categorical_accuracy: 0.5837 - val_loss: 1180573952.0000 - val_sparse_categorical_accuracy: 0.4500\n",
      "Epoch 13/100\n",
      "15/15 [==============================] - 0s 2ms/step - loss: 2527759360.0000 - sparse_categorical_accuracy: 0.5774 - val_loss: 1072265088.0000 - val_sparse_categorical_accuracy: 0.5583\n",
      "Epoch 14/100\n",
      "15/15 [==============================] - 0s 2ms/step - loss: 2152224768.0000 - sparse_categorical_accuracy: 0.6130 - val_loss: 1974652160.0000 - val_sparse_categorical_accuracy: 0.6833\n",
      "Epoch 15/100\n",
      "15/15 [==============================] - 0s 2ms/step - loss: 2925062912.0000 - sparse_categorical_accuracy: 0.5879 - val_loss: 2303871232.0000 - val_sparse_categorical_accuracy: 0.4667\n",
      "Epoch 16/100\n",
      "15/15 [==============================] - 0s 2ms/step - loss: 2779544576.0000 - sparse_categorical_accuracy: 0.5649 - val_loss: 2767842304.0000 - val_sparse_categorical_accuracy: 0.5750\n",
      "Epoch 17/100\n",
      "15/15 [==============================] - 0s 2ms/step - loss: 5168565760.0000 - sparse_categorical_accuracy: 0.6151 - val_loss: 4435377664.0000 - val_sparse_categorical_accuracy: 0.5917\n",
      "Epoch 18/100\n",
      "15/15 [==============================] - 0s 2ms/step - loss: 3832165888.0000 - sparse_categorical_accuracy: 0.5858 - val_loss: 2515993088.0000 - val_sparse_categorical_accuracy: 0.6333\n",
      "Epoch 19/100\n",
      "15/15 [==============================] - 0s 2ms/step - loss: 2846464512.0000 - sparse_categorical_accuracy: 0.6172 - val_loss: 4423817216.0000 - val_sparse_categorical_accuracy: 0.6583\n",
      "Epoch 20/100\n",
      "15/15 [==============================] - 0s 3ms/step - loss: 4938678784.0000 - sparse_categorical_accuracy: 0.6172 - val_loss: 6758389248.0000 - val_sparse_categorical_accuracy: 0.4417\n",
      "Epoch 21/100\n",
      "15/15 [==============================] - 0s 3ms/step - loss: 4400149504.0000 - sparse_categorical_accuracy: 0.6025 - val_loss: 3435346432.0000 - val_sparse_categorical_accuracy: 0.6667\n",
      "Epoch 22/100\n",
      "15/15 [==============================] - 0s 3ms/step - loss: 4507695104.0000 - sparse_categorical_accuracy: 0.6297 - val_loss: 1653317632.0000 - val_sparse_categorical_accuracy: 0.7167\n",
      "Epoch 23/100\n",
      "15/15 [==============================] - 0s 2ms/step - loss: 2335168512.0000 - sparse_categorical_accuracy: 0.6255 - val_loss: 611949696.0000 - val_sparse_categorical_accuracy: 0.6000\n",
      "Epoch 24/100\n",
      "15/15 [==============================] - 0s 2ms/step - loss: 1633602560.0000 - sparse_categorical_accuracy: 0.5983 - val_loss: 2545925888.0000 - val_sparse_categorical_accuracy: 0.6333\n",
      "Epoch 25/100\n",
      "15/15 [==============================] - 0s 2ms/step - loss: 2146427648.0000 - sparse_categorical_accuracy: 0.6151 - val_loss: 1497822464.0000 - val_sparse_categorical_accuracy: 0.5000\n",
      "Epoch 26/100\n",
      "15/15 [==============================] - 0s 2ms/step - loss: 2262084096.0000 - sparse_categorical_accuracy: 0.6318 - val_loss: 2871156992.0000 - val_sparse_categorical_accuracy: 0.5917\n",
      "Epoch 27/100\n",
      "15/15 [==============================] - 0s 2ms/step - loss: 2238652160.0000 - sparse_categorical_accuracy: 0.6067 - val_loss: 2886429440.0000 - val_sparse_categorical_accuracy: 0.6583\n",
      "Epoch 28/100\n",
      "15/15 [==============================] - 0s 2ms/step - loss: 3153808896.0000 - sparse_categorical_accuracy: 0.6297 - val_loss: 1367522560.0000 - val_sparse_categorical_accuracy: 0.6250\n",
      "Epoch 29/100\n",
      "15/15 [==============================] - 0s 2ms/step - loss: 1897593600.0000 - sparse_categorical_accuracy: 0.5941 - val_loss: 2310345728.0000 - val_sparse_categorical_accuracy: 0.6250\n",
      "Epoch 30/100\n",
      "15/15 [==============================] - 0s 2ms/step - loss: 3439496192.0000 - sparse_categorical_accuracy: 0.6360 - val_loss: 1191974528.0000 - val_sparse_categorical_accuracy: 0.6750\n",
      "Epoch 31/100\n",
      "15/15 [==============================] - 0s 2ms/step - loss: 3064498944.0000 - sparse_categorical_accuracy: 0.5753 - val_loss: 1613814144.0000 - val_sparse_categorical_accuracy: 0.6667\n",
      "Epoch 32/100\n",
      "15/15 [==============================] - 0s 2ms/step - loss: 1921504512.0000 - sparse_categorical_accuracy: 0.6088 - val_loss: 2654530816.0000 - val_sparse_categorical_accuracy: 0.5750\n",
      "Epoch 33/100\n",
      "15/15 [==============================] - 0s 2ms/step - loss: 2047583488.0000 - sparse_categorical_accuracy: 0.6004 - val_loss: 1686616576.0000 - val_sparse_categorical_accuracy: 0.3250\n",
      "Epoch 34/100\n",
      "15/15 [==============================] - 0s 2ms/step - loss: 1892340608.0000 - sparse_categorical_accuracy: 0.5858 - val_loss: 3868856064.0000 - val_sparse_categorical_accuracy: 0.6583\n",
      "Epoch 35/100\n",
      "15/15 [==============================] - 0s 2ms/step - loss: 2088300416.0000 - sparse_categorical_accuracy: 0.6423 - val_loss: 2733469184.0000 - val_sparse_categorical_accuracy: 0.5583\n",
      "Epoch 36/100\n",
      "15/15 [==============================] - 0s 2ms/step - loss: 3232935680.0000 - sparse_categorical_accuracy: 0.5795 - val_loss: 3008643072.0000 - val_sparse_categorical_accuracy: 0.6417\n",
      "Epoch 37/100\n",
      "15/15 [==============================] - 0s 2ms/step - loss: 1976036992.0000 - sparse_categorical_accuracy: 0.6234 - val_loss: 3704795136.0000 - val_sparse_categorical_accuracy: 0.3583\n",
      "Epoch 38/100\n",
      "15/15 [==============================] - 0s 3ms/step - loss: 3799836416.0000 - sparse_categorical_accuracy: 0.5711 - val_loss: 1170721408.0000 - val_sparse_categorical_accuracy: 0.6083\n",
      "Epoch 39/100\n",
      "15/15 [==============================] - 0s 2ms/step - loss: 1319568896.0000 - sparse_categorical_accuracy: 0.6172 - val_loss: 3114032128.0000 - val_sparse_categorical_accuracy: 0.4500\n",
      "Epoch 40/100\n",
      "15/15 [==============================] - 0s 2ms/step - loss: 1424810240.0000 - sparse_categorical_accuracy: 0.5858 - val_loss: 1424019584.0000 - val_sparse_categorical_accuracy: 0.5583\n",
      "Epoch 41/100\n",
      "15/15 [==============================] - 0s 2ms/step - loss: 1897500032.0000 - sparse_categorical_accuracy: 0.6067 - val_loss: 1446311040.0000 - val_sparse_categorical_accuracy: 0.6500\n",
      "Epoch 42/100\n"
     ]
    },
    {
     "name": "stdout",
     "output_type": "stream",
     "text": [
      "15/15 [==============================] - 0s 2ms/step - loss: 1861834752.0000 - sparse_categorical_accuracy: 0.6318 - val_loss: 1295919232.0000 - val_sparse_categorical_accuracy: 0.6250\n",
      "Epoch 43/100\n",
      "15/15 [==============================] - 0s 2ms/step - loss: 1982479488.0000 - sparse_categorical_accuracy: 0.6004 - val_loss: 1152233600.0000 - val_sparse_categorical_accuracy: 0.6250\n",
      "Epoch 44/100\n",
      "15/15 [==============================] - 0s 2ms/step - loss: 1589886208.0000 - sparse_categorical_accuracy: 0.6046 - val_loss: 2545023744.0000 - val_sparse_categorical_accuracy: 0.5917\n",
      "Epoch 45/100\n",
      "15/15 [==============================] - 0s 2ms/step - loss: 2343209216.0000 - sparse_categorical_accuracy: 0.6046 - val_loss: 3354547968.0000 - val_sparse_categorical_accuracy: 0.5833\n",
      "Epoch 46/100\n",
      "15/15 [==============================] - 0s 2ms/step - loss: 2163398400.0000 - sparse_categorical_accuracy: 0.5816 - val_loss: 4680363520.0000 - val_sparse_categorical_accuracy: 0.5500\n",
      "Epoch 47/100\n",
      "15/15 [==============================] - 0s 2ms/step - loss: 2447532288.0000 - sparse_categorical_accuracy: 0.6109 - val_loss: 1602496000.0000 - val_sparse_categorical_accuracy: 0.6417\n",
      "Epoch 48/100\n",
      "15/15 [==============================] - 0s 2ms/step - loss: 1619904256.0000 - sparse_categorical_accuracy: 0.5962 - val_loss: 805231680.0000 - val_sparse_categorical_accuracy: 0.6583\n",
      "Epoch 49/100\n",
      "15/15 [==============================] - 0s 2ms/step - loss: 1417713152.0000 - sparse_categorical_accuracy: 0.6213 - val_loss: 1742605440.0000 - val_sparse_categorical_accuracy: 0.5833\n",
      "Epoch 50/100\n",
      "15/15 [==============================] - 0s 2ms/step - loss: 1776611840.0000 - sparse_categorical_accuracy: 0.6109 - val_loss: 975254912.0000 - val_sparse_categorical_accuracy: 0.5917\n",
      "Epoch 51/100\n",
      "15/15 [==============================] - 0s 2ms/step - loss: 1455030528.0000 - sparse_categorical_accuracy: 0.5962 - val_loss: 1472993152.0000 - val_sparse_categorical_accuracy: 0.6750\n",
      "Epoch 52/100\n",
      "15/15 [==============================] - 0s 2ms/step - loss: 922530432.0000 - sparse_categorical_accuracy: 0.6381 - val_loss: 764721024.0000 - val_sparse_categorical_accuracy: 0.6667\n",
      "Epoch 53/100\n",
      "15/15 [==============================] - 0s 2ms/step - loss: 1765167488.0000 - sparse_categorical_accuracy: 0.6130 - val_loss: 2523189760.0000 - val_sparse_categorical_accuracy: 0.5917\n",
      "Epoch 54/100\n",
      "15/15 [==============================] - 0s 2ms/step - loss: 1879992832.0000 - sparse_categorical_accuracy: 0.5879 - val_loss: 685466560.0000 - val_sparse_categorical_accuracy: 0.7000\n",
      "Epoch 55/100\n",
      "15/15 [==============================] - 0s 2ms/step - loss: 1967719168.0000 - sparse_categorical_accuracy: 0.6088 - val_loss: 2210402048.0000 - val_sparse_categorical_accuracy: 0.6250\n",
      "Epoch 56/100\n",
      "15/15 [==============================] - 0s 2ms/step - loss: 2287661312.0000 - sparse_categorical_accuracy: 0.6276 - val_loss: 1668815488.0000 - val_sparse_categorical_accuracy: 0.6083\n",
      "Epoch 57/100\n",
      "15/15 [==============================] - 0s 2ms/step - loss: 2978634496.0000 - sparse_categorical_accuracy: 0.6067 - val_loss: 4157399040.0000 - val_sparse_categorical_accuracy: 0.6250\n",
      "Epoch 58/100\n",
      "15/15 [==============================] - 0s 2ms/step - loss: 2356588032.0000 - sparse_categorical_accuracy: 0.5962 - val_loss: 2734874112.0000 - val_sparse_categorical_accuracy: 0.5333\n",
      "Epoch 59/100\n",
      "15/15 [==============================] - 0s 2ms/step - loss: 1397357312.0000 - sparse_categorical_accuracy: 0.6318 - val_loss: 1086025088.0000 - val_sparse_categorical_accuracy: 0.3917\n",
      "Epoch 60/100\n",
      "15/15 [==============================] - 0s 2ms/step - loss: 2144419072.0000 - sparse_categorical_accuracy: 0.6234 - val_loss: 2207083520.0000 - val_sparse_categorical_accuracy: 0.4417\n",
      "Epoch 61/100\n",
      "15/15 [==============================] - 0s 2ms/step - loss: 1910166016.0000 - sparse_categorical_accuracy: 0.5837 - val_loss: 1902658304.0000 - val_sparse_categorical_accuracy: 0.6833\n",
      "Epoch 62/100\n",
      "15/15 [==============================] - 0s 2ms/step - loss: 2488299008.0000 - sparse_categorical_accuracy: 0.6318 - val_loss: 2599553536.0000 - val_sparse_categorical_accuracy: 0.4500\n",
      "Epoch 63/100\n",
      "15/15 [==============================] - 0s 2ms/step - loss: 2510425344.0000 - sparse_categorical_accuracy: 0.6046 - val_loss: 1404331392.0000 - val_sparse_categorical_accuracy: 0.5833\n",
      "Epoch 64/100\n",
      "15/15 [==============================] - 0s 2ms/step - loss: 2066727424.0000 - sparse_categorical_accuracy: 0.6464 - val_loss: 1170581376.0000 - val_sparse_categorical_accuracy: 0.3583\n",
      "Epoch 65/100\n",
      "15/15 [==============================] - 0s 2ms/step - loss: 1928192512.0000 - sparse_categorical_accuracy: 0.6192 - val_loss: 2010175872.0000 - val_sparse_categorical_accuracy: 0.4250\n",
      "Epoch 66/100\n",
      "15/15 [==============================] - 0s 2ms/step - loss: 2137718912.0000 - sparse_categorical_accuracy: 0.6255 - val_loss: 1863625216.0000 - val_sparse_categorical_accuracy: 0.6083\n",
      "Epoch 67/100\n",
      "15/15 [==============================] - 0s 2ms/step - loss: 2333157888.0000 - sparse_categorical_accuracy: 0.6172 - val_loss: 2305847040.0000 - val_sparse_categorical_accuracy: 0.4917\n",
      "Epoch 68/100\n",
      "15/15 [==============================] - 0s 2ms/step - loss: 2236418304.0000 - sparse_categorical_accuracy: 0.5900 - val_loss: 2498179328.0000 - val_sparse_categorical_accuracy: 0.6167\n",
      "Epoch 69/100\n",
      "15/15 [==============================] - 0s 2ms/step - loss: 1845815680.0000 - sparse_categorical_accuracy: 0.6485 - val_loss: 1567993472.0000 - val_sparse_categorical_accuracy: 0.4917\n",
      "Epoch 70/100\n",
      "15/15 [==============================] - 0s 2ms/step - loss: 1862580736.0000 - sparse_categorical_accuracy: 0.6339 - val_loss: 976128832.0000 - val_sparse_categorical_accuracy: 0.5167\n",
      "Epoch 71/100\n",
      "15/15 [==============================] - 0s 2ms/step - loss: 1202874624.0000 - sparse_categorical_accuracy: 0.6276 - val_loss: 796180608.0000 - val_sparse_categorical_accuracy: 0.5083\n",
      "Epoch 72/100\n",
      "15/15 [==============================] - 0s 2ms/step - loss: 2298224640.0000 - sparse_categorical_accuracy: 0.6025 - val_loss: 1509198592.0000 - val_sparse_categorical_accuracy: 0.6333\n",
      "Epoch 73/100\n",
      "15/15 [==============================] - 0s 2ms/step - loss: 1483080448.0000 - sparse_categorical_accuracy: 0.6046 - val_loss: 2255715584.0000 - val_sparse_categorical_accuracy: 0.5167\n",
      "Epoch 74/100\n",
      "15/15 [==============================] - 0s 2ms/step - loss: 1839145088.0000 - sparse_categorical_accuracy: 0.6213 - val_loss: 1272759936.0000 - val_sparse_categorical_accuracy: 0.6583\n",
      "Epoch 75/100\n",
      "15/15 [==============================] - 0s 2ms/step - loss: 2068737536.0000 - sparse_categorical_accuracy: 0.6276 - val_loss: 1085279744.0000 - val_sparse_categorical_accuracy: 0.6417\n",
      "Epoch 76/100\n",
      "15/15 [==============================] - 0s 2ms/step - loss: 1770364416.0000 - sparse_categorical_accuracy: 0.6444 - val_loss: 2071499904.0000 - val_sparse_categorical_accuracy: 0.5500\n",
      "Epoch 77/100\n",
      "15/15 [==============================] - 0s 2ms/step - loss: 1334713984.0000 - sparse_categorical_accuracy: 0.5669 - val_loss: 1161071744.0000 - val_sparse_categorical_accuracy: 0.6000\n",
      "Epoch 78/100\n",
      "15/15 [==============================] - 0s 2ms/step - loss: 1796448640.0000 - sparse_categorical_accuracy: 0.6423 - val_loss: 918573376.0000 - val_sparse_categorical_accuracy: 0.5833\n",
      "Epoch 79/100\n",
      "15/15 [==============================] - 0s 2ms/step - loss: 1430939264.0000 - sparse_categorical_accuracy: 0.6234 - val_loss: 1207566080.0000 - val_sparse_categorical_accuracy: 0.4917\n",
      "Epoch 80/100\n",
      "15/15 [==============================] - 0s 2ms/step - loss: 1496522752.0000 - sparse_categorical_accuracy: 0.6715 - val_loss: 1092739456.0000 - val_sparse_categorical_accuracy: 0.5083\n",
      "Epoch 81/100\n",
      "15/15 [==============================] - 0s 2ms/step - loss: 1170776704.0000 - sparse_categorical_accuracy: 0.6276 - val_loss: 666695872.0000 - val_sparse_categorical_accuracy: 0.6000\n",
      "Epoch 82/100\n",
      "15/15 [==============================] - 0s 2ms/step - loss: 857530816.0000 - sparse_categorical_accuracy: 0.5941 - val_loss: 383298368.0000 - val_sparse_categorical_accuracy: 0.6583\n",
      "Epoch 83/100\n"
     ]
    },
    {
     "name": "stdout",
     "output_type": "stream",
     "text": [
      "15/15 [==============================] - 0s 2ms/step - loss: 708468864.0000 - sparse_categorical_accuracy: 0.6046 - val_loss: 543046784.0000 - val_sparse_categorical_accuracy: 0.5667\n",
      "Epoch 84/100\n",
      "15/15 [==============================] - 0s 2ms/step - loss: 1126884352.0000 - sparse_categorical_accuracy: 0.5983 - val_loss: 844862528.0000 - val_sparse_categorical_accuracy: 0.5750\n",
      "Epoch 85/100\n",
      "15/15 [==============================] - 0s 2ms/step - loss: 1360381952.0000 - sparse_categorical_accuracy: 0.6234 - val_loss: 1747308160.0000 - val_sparse_categorical_accuracy: 0.5083\n",
      "Epoch 86/100\n",
      "15/15 [==============================] - 0s 2ms/step - loss: 1491845888.0000 - sparse_categorical_accuracy: 0.6172 - val_loss: 1744387584.0000 - val_sparse_categorical_accuracy: 0.5917\n",
      "Epoch 87/100\n",
      "15/15 [==============================] - 0s 2ms/step - loss: 2966601216.0000 - sparse_categorical_accuracy: 0.6130 - val_loss: 1914067072.0000 - val_sparse_categorical_accuracy: 0.5083\n",
      "Epoch 88/100\n",
      "15/15 [==============================] - 0s 2ms/step - loss: 2043667456.0000 - sparse_categorical_accuracy: 0.6402 - val_loss: 1417445632.0000 - val_sparse_categorical_accuracy: 0.6583\n",
      "Epoch 89/100\n",
      "15/15 [==============================] - 0s 2ms/step - loss: 1313214336.0000 - sparse_categorical_accuracy: 0.6234 - val_loss: 757661120.0000 - val_sparse_categorical_accuracy: 0.6417\n",
      "Epoch 90/100\n",
      "15/15 [==============================] - 0s 2ms/step - loss: 1153578368.0000 - sparse_categorical_accuracy: 0.6381 - val_loss: 910631808.0000 - val_sparse_categorical_accuracy: 0.6917\n",
      "Epoch 91/100\n",
      "15/15 [==============================] - 0s 2ms/step - loss: 1261604608.0000 - sparse_categorical_accuracy: 0.6213 - val_loss: 1687090688.0000 - val_sparse_categorical_accuracy: 0.5167\n",
      "Epoch 92/100\n",
      "15/15 [==============================] - 0s 2ms/step - loss: 949506432.0000 - sparse_categorical_accuracy: 0.6506 - val_loss: 582704768.0000 - val_sparse_categorical_accuracy: 0.4667\n",
      "Epoch 93/100\n",
      "15/15 [==============================] - 0s 2ms/step - loss: 1202844928.0000 - sparse_categorical_accuracy: 0.5816 - val_loss: 1257254144.0000 - val_sparse_categorical_accuracy: 0.7000\n",
      "Epoch 94/100\n",
      "15/15 [==============================] - 0s 2ms/step - loss: 1582287488.0000 - sparse_categorical_accuracy: 0.6464 - val_loss: 818006656.0000 - val_sparse_categorical_accuracy: 0.5833\n",
      "Epoch 95/100\n",
      "15/15 [==============================] - 0s 2ms/step - loss: 1210259456.0000 - sparse_categorical_accuracy: 0.6109 - val_loss: 1203558656.0000 - val_sparse_categorical_accuracy: 0.6417\n",
      "Epoch 96/100\n",
      "15/15 [==============================] - 0s 3ms/step - loss: 1376020608.0000 - sparse_categorical_accuracy: 0.6569 - val_loss: 1123645184.0000 - val_sparse_categorical_accuracy: 0.6833\n",
      "Epoch 97/100\n",
      "15/15 [==============================] - 0s 2ms/step - loss: 943575232.0000 - sparse_categorical_accuracy: 0.6255 - val_loss: 1212295680.0000 - val_sparse_categorical_accuracy: 0.6167\n",
      "Epoch 98/100\n",
      "15/15 [==============================] - 0s 2ms/step - loss: 2420056832.0000 - sparse_categorical_accuracy: 0.6653 - val_loss: 1890451968.0000 - val_sparse_categorical_accuracy: 0.6750\n",
      "Epoch 99/100\n",
      "15/15 [==============================] - 0s 2ms/step - loss: 1915137536.0000 - sparse_categorical_accuracy: 0.6485 - val_loss: 1042671488.0000 - val_sparse_categorical_accuracy: 0.6583\n",
      "Epoch 100/100\n",
      "15/15 [==============================] - 0s 2ms/step - loss: 1014096768.0000 - sparse_categorical_accuracy: 0.6485 - val_loss: 801063872.0000 - val_sparse_categorical_accuracy: 0.6250\n"
     ]
    }
   ],
   "source": [
    "history = model.fit(X_train, y_train, epochs=100, batch_size = 32, validation_data=(X_val, y_val)) # 배치 사이즈는 작을수록 유리해요.\n",
    "# flat minimum이라고 해서 학습에 시간이 더 걸리지만, test set과의 오차를 줄이는데 유리"
   ]
  },
  {
   "cell_type": "code",
   "execution_count": 63,
   "id": "7fda8415",
   "metadata": {},
   "outputs": [
    {
     "data": {
      "text/plain": [
       "dict_keys(['loss', 'sparse_categorical_accuracy', 'val_loss', 'val_sparse_categorical_accuracy'])"
      ]
     },
     "execution_count": 63,
     "metadata": {},
     "output_type": "execute_result"
    }
   ],
   "source": [
    "history_dic = history.history\n",
    "history_dic.keys()"
   ]
  },
  {
   "cell_type": "code",
   "execution_count": 64,
   "id": "8b89937c",
   "metadata": {},
   "outputs": [
    {
     "data": {
      "text/plain": [
       "dict_keys(['loss', 'accuracy', 'val_loss', 'val_accuracy'])"
      ]
     },
     "execution_count": 64,
     "metadata": {},
     "output_type": "execute_result"
    }
   ],
   "source": [
    "new_keys = ['loss', 'accuracy', 'val_loss', 'val_accuracy']\n",
    "history_dic = dict((new_key, val) for new_key, val in zip(new_keys, history_dic.values()))\n",
    "history_dic.keys()"
   ]
  },
  {
   "cell_type": "code",
   "execution_count": 65,
   "id": "fa18b25c",
   "metadata": {},
   "outputs": [
    {
     "data": {
      "text/plain": [
       "dict_keys(['loss', 'accuracy', 'val_loss', 'val_accuracy'])"
      ]
     },
     "execution_count": 65,
     "metadata": {},
     "output_type": "execute_result"
    }
   ],
   "source": [
    "history_dic.keys()"
   ]
  },
  {
   "cell_type": "code",
   "execution_count": 66,
   "id": "b32f8bf6",
   "metadata": {},
   "outputs": [
    {
     "data": {
      "image/png": "[encoded data removed]",
      "text/plain": [
       "<Figure size 432x288 with 1 Axes>"
      ]
     },
     "metadata": {
      "needs_background": "light"
     },
     "output_type": "display_data"
    },
    {
     "data": {
      "image/png": "[encoded data removed]",
      "text/plain": [
       "<Figure size 432x288 with 1 Axes>"
      ]
     },
     "metadata": {
      "needs_background": "light"
     },
     "output_type": "display_data"
    }
   ],
   "source": [
    "import matplotlib.pyplot as plt\n",
    "loss = history_dic['loss']\n",
    "val_loss = history_dic['val_loss']\n",
    "plt.clf()\n",
    "\n",
    "epochs = range(1, len(loss)+1)\n",
    "\n",
    "plt.plot(epochs, loss, 'bo', label = 'Training loss')\n",
    "plt.plot(epochs, val_loss, 'b', label = 'validation loss')\n",
    "plt.title('training and validation loss')\n",
    "plt.xlabel('Epochs')\n",
    "plt.ylabel('loss')\n",
    "plt.legend()\n",
    "plt.show()\n",
    "\n",
    "plt.clf()\n",
    "acc= history_dic['accuracy']\n",
    "val_acc = history_dic['val_accuracy']\n",
    "plt.plot(epochs, acc, 'bo', label='Training acc')\n",
    "plt.plot(epochs, val_acc, 'b', label = 'validation acc')\n",
    "plt.title('training and validation Accuracy')\n",
    "plt.xlabel('Epochs')\n",
    "plt.ylabel('loss')\n",
    "plt.legend()\n",
    "plt.show()"
   ]
  },
  {
   "cell_type": "code",
   "execution_count": 67,
   "id": "d6a2104c",
   "metadata": {},
   "outputs": [
    {
     "name": "stdout",
     "output_type": "stream",
     "text": [
      "10/10 [==============================] - 0s 889us/step\n"
     ]
    }
   ],
   "source": [
    "predictions = model.predict(test)"
   ]
  },
  {
   "cell_type": "code",
   "execution_count": 68,
   "id": "be3c1634",
   "metadata": {},
   "outputs": [
    {
     "data": {
      "text/plain": [
       "Counter({1: 26, 0: 111, 2: 173})"
      ]
     },
     "execution_count": 68,
     "metadata": {},
     "output_type": "execute_result"
    }
   ],
   "source": [
    "tmp = []\n",
    "for p in predictions:\n",
    "    tmp.append(list(p).index(max(p)))\n",
    "from collections import Counter\n",
    "Counter(tmp)"
   ]
  },
  {
   "cell_type": "code",
   "execution_count": 69,
   "id": "43903d56",
   "metadata": {},
   "outputs": [
    {
     "data": {
      "text/html": [
       "<div>\n",
       "<style scoped>\n",
       "    .dataframe tbody tr th:only-of-type {\n",
       "        vertical-align: middle;\n",
       "    }\n",
       "\n",
       "    .dataframe tbody tr th {\n",
       "        vertical-align: top;\n",
       "    }\n",
       "\n",
       "    .dataframe thead th {\n",
       "        text-align: right;\n",
       "    }\n",
       "</style>\n",
       "<table border=\"1\" class=\"dataframe\">\n",
       "  <thead>\n",
       "    <tr style=\"text-align: right;\">\n",
       "      <th></th>\n",
       "      <th>LINE</th>\n",
       "      <th>PRODUCT_CODE</th>\n",
       "      <th>X_1</th>\n",
       "      <th>X_2</th>\n",
       "      <th>X_3</th>\n",
       "      <th>X_4</th>\n",
       "      <th>X_5</th>\n",
       "      <th>X_6</th>\n",
       "      <th>X_7</th>\n",
       "      <th>X_8</th>\n",
       "      <th>...</th>\n",
       "      <th>X_2866</th>\n",
       "      <th>X_2867</th>\n",
       "      <th>X_2868</th>\n",
       "      <th>X_2869</th>\n",
       "      <th>X_2870</th>\n",
       "      <th>X_2871</th>\n",
       "      <th>X_2872</th>\n",
       "      <th>X_2873</th>\n",
       "      <th>X_2874</th>\n",
       "      <th>X_2875</th>\n",
       "    </tr>\n",
       "  </thead>\n",
       "  <tbody>\n",
       "    <tr>\n",
       "      <th>0</th>\n",
       "      <td>5</td>\n",
       "      <td>2</td>\n",
       "      <td>2.0</td>\n",
       "      <td>94.0</td>\n",
       "      <td>0.0</td>\n",
       "      <td>45.0</td>\n",
       "      <td>10.0</td>\n",
       "      <td>0.0</td>\n",
       "      <td>51.0</td>\n",
       "      <td>10.0</td>\n",
       "      <td>...</td>\n",
       "      <td>0.0</td>\n",
       "      <td>0.0</td>\n",
       "      <td>0.0</td>\n",
       "      <td>0.0</td>\n",
       "      <td>0.0</td>\n",
       "      <td>0.0</td>\n",
       "      <td>0.0</td>\n",
       "      <td>0.0</td>\n",
       "      <td>0.0</td>\n",
       "      <td>0.0</td>\n",
       "    </tr>\n",
       "    <tr>\n",
       "      <th>1</th>\n",
       "      <td>4</td>\n",
       "      <td>2</td>\n",
       "      <td>2.0</td>\n",
       "      <td>93.0</td>\n",
       "      <td>0.0</td>\n",
       "      <td>45.0</td>\n",
       "      <td>11.0</td>\n",
       "      <td>0.0</td>\n",
       "      <td>45.0</td>\n",
       "      <td>10.0</td>\n",
       "      <td>...</td>\n",
       "      <td>0.0</td>\n",
       "      <td>0.0</td>\n",
       "      <td>0.0</td>\n",
       "      <td>0.0</td>\n",
       "      <td>0.0</td>\n",
       "      <td>0.0</td>\n",
       "      <td>0.0</td>\n",
       "      <td>0.0</td>\n",
       "      <td>0.0</td>\n",
       "      <td>0.0</td>\n",
       "    </tr>\n",
       "    <tr>\n",
       "      <th>2</th>\n",
       "      <td>4</td>\n",
       "      <td>2</td>\n",
       "      <td>2.0</td>\n",
       "      <td>95.0</td>\n",
       "      <td>0.0</td>\n",
       "      <td>45.0</td>\n",
       "      <td>11.0</td>\n",
       "      <td>0.0</td>\n",
       "      <td>45.0</td>\n",
       "      <td>10.0</td>\n",
       "      <td>...</td>\n",
       "      <td>0.0</td>\n",
       "      <td>0.0</td>\n",
       "      <td>0.0</td>\n",
       "      <td>0.0</td>\n",
       "      <td>0.0</td>\n",
       "      <td>0.0</td>\n",
       "      <td>0.0</td>\n",
       "      <td>0.0</td>\n",
       "      <td>0.0</td>\n",
       "      <td>0.0</td>\n",
       "    </tr>\n",
       "    <tr>\n",
       "      <th>3</th>\n",
       "      <td>0</td>\n",
       "      <td>0</td>\n",
       "      <td>0.0</td>\n",
       "      <td>0.0</td>\n",
       "      <td>0.0</td>\n",
       "      <td>0.0</td>\n",
       "      <td>0.0</td>\n",
       "      <td>0.0</td>\n",
       "      <td>0.0</td>\n",
       "      <td>0.0</td>\n",
       "      <td>...</td>\n",
       "      <td>0.0</td>\n",
       "      <td>0.0</td>\n",
       "      <td>0.0</td>\n",
       "      <td>0.0</td>\n",
       "      <td>0.0</td>\n",
       "      <td>0.0</td>\n",
       "      <td>0.0</td>\n",
       "      <td>0.0</td>\n",
       "      <td>0.0</td>\n",
       "      <td>0.0</td>\n",
       "    </tr>\n",
       "    <tr>\n",
       "      <th>4</th>\n",
       "      <td>1</td>\n",
       "      <td>0</td>\n",
       "      <td>0.0</td>\n",
       "      <td>0.0</td>\n",
       "      <td>0.0</td>\n",
       "      <td>0.0</td>\n",
       "      <td>0.0</td>\n",
       "      <td>0.0</td>\n",
       "      <td>0.0</td>\n",
       "      <td>0.0</td>\n",
       "      <td>...</td>\n",
       "      <td>0.0</td>\n",
       "      <td>0.0</td>\n",
       "      <td>0.0</td>\n",
       "      <td>0.0</td>\n",
       "      <td>0.0</td>\n",
       "      <td>0.0</td>\n",
       "      <td>0.0</td>\n",
       "      <td>0.0</td>\n",
       "      <td>0.0</td>\n",
       "      <td>0.0</td>\n",
       "    </tr>\n",
       "    <tr>\n",
       "      <th>...</th>\n",
       "      <td>...</td>\n",
       "      <td>...</td>\n",
       "      <td>...</td>\n",
       "      <td>...</td>\n",
       "      <td>...</td>\n",
       "      <td>...</td>\n",
       "      <td>...</td>\n",
       "      <td>...</td>\n",
       "      <td>...</td>\n",
       "      <td>...</td>\n",
       "      <td>...</td>\n",
       "      <td>...</td>\n",
       "      <td>...</td>\n",
       "      <td>...</td>\n",
       "      <td>...</td>\n",
       "      <td>...</td>\n",
       "      <td>...</td>\n",
       "      <td>...</td>\n",
       "      <td>...</td>\n",
       "      <td>...</td>\n",
       "      <td>...</td>\n",
       "    </tr>\n",
       "    <tr>\n",
       "      <th>305</th>\n",
       "      <td>5</td>\n",
       "      <td>2</td>\n",
       "      <td>2.0</td>\n",
       "      <td>91.0</td>\n",
       "      <td>0.0</td>\n",
       "      <td>45.0</td>\n",
       "      <td>10.0</td>\n",
       "      <td>0.0</td>\n",
       "      <td>51.0</td>\n",
       "      <td>10.0</td>\n",
       "      <td>...</td>\n",
       "      <td>0.0</td>\n",
       "      <td>0.0</td>\n",
       "      <td>0.0</td>\n",
       "      <td>0.0</td>\n",
       "      <td>0.0</td>\n",
       "      <td>0.0</td>\n",
       "      <td>0.0</td>\n",
       "      <td>0.0</td>\n",
       "      <td>0.0</td>\n",
       "      <td>0.0</td>\n",
       "    </tr>\n",
       "    <tr>\n",
       "      <th>306</th>\n",
       "      <td>4</td>\n",
       "      <td>2</td>\n",
       "      <td>2.0</td>\n",
       "      <td>96.0</td>\n",
       "      <td>0.0</td>\n",
       "      <td>45.0</td>\n",
       "      <td>11.0</td>\n",
       "      <td>0.0</td>\n",
       "      <td>45.0</td>\n",
       "      <td>10.0</td>\n",
       "      <td>...</td>\n",
       "      <td>0.0</td>\n",
       "      <td>0.0</td>\n",
       "      <td>0.0</td>\n",
       "      <td>0.0</td>\n",
       "      <td>0.0</td>\n",
       "      <td>0.0</td>\n",
       "      <td>0.0</td>\n",
       "      <td>0.0</td>\n",
       "      <td>0.0</td>\n",
       "      <td>0.0</td>\n",
       "    </tr>\n",
       "    <tr>\n",
       "      <th>307</th>\n",
       "      <td>5</td>\n",
       "      <td>2</td>\n",
       "      <td>2.0</td>\n",
       "      <td>91.0</td>\n",
       "      <td>0.0</td>\n",
       "      <td>45.0</td>\n",
       "      <td>10.0</td>\n",
       "      <td>0.0</td>\n",
       "      <td>50.0</td>\n",
       "      <td>10.0</td>\n",
       "      <td>...</td>\n",
       "      <td>0.0</td>\n",
       "      <td>0.0</td>\n",
       "      <td>0.0</td>\n",
       "      <td>0.0</td>\n",
       "      <td>0.0</td>\n",
       "      <td>0.0</td>\n",
       "      <td>0.0</td>\n",
       "      <td>0.0</td>\n",
       "      <td>0.0</td>\n",
       "      <td>0.0</td>\n",
       "    </tr>\n",
       "    <tr>\n",
       "      <th>308</th>\n",
       "      <td>5</td>\n",
       "      <td>2</td>\n",
       "      <td>2.0</td>\n",
       "      <td>95.0</td>\n",
       "      <td>0.0</td>\n",
       "      <td>45.0</td>\n",
       "      <td>10.0</td>\n",
       "      <td>0.0</td>\n",
       "      <td>51.0</td>\n",
       "      <td>10.0</td>\n",
       "      <td>...</td>\n",
       "      <td>0.0</td>\n",
       "      <td>0.0</td>\n",
       "      <td>0.0</td>\n",
       "      <td>0.0</td>\n",
       "      <td>0.0</td>\n",
       "      <td>0.0</td>\n",
       "      <td>0.0</td>\n",
       "      <td>0.0</td>\n",
       "      <td>0.0</td>\n",
       "      <td>0.0</td>\n",
       "    </tr>\n",
       "    <tr>\n",
       "      <th>309</th>\n",
       "      <td>5</td>\n",
       "      <td>2</td>\n",
       "      <td>2.0</td>\n",
       "      <td>87.0</td>\n",
       "      <td>0.0</td>\n",
       "      <td>45.0</td>\n",
       "      <td>10.0</td>\n",
       "      <td>0.0</td>\n",
       "      <td>51.0</td>\n",
       "      <td>10.0</td>\n",
       "      <td>...</td>\n",
       "      <td>0.0</td>\n",
       "      <td>0.0</td>\n",
       "      <td>0.0</td>\n",
       "      <td>0.0</td>\n",
       "      <td>0.0</td>\n",
       "      <td>0.0</td>\n",
       "      <td>0.0</td>\n",
       "      <td>0.0</td>\n",
       "      <td>0.0</td>\n",
       "      <td>0.0</td>\n",
       "    </tr>\n",
       "  </tbody>\n",
       "</table>\n",
       "<p>310 rows × 2877 columns</p>\n",
       "</div>"
      ],
      "text/plain": [
       "     LINE  PRODUCT_CODE  X_1   X_2  X_3   X_4   X_5  X_6   X_7   X_8  ...  \\\n",
       "0       5             2  2.0  94.0  0.0  45.0  10.0  0.0  51.0  10.0  ...   \n",
       "1       4             2  2.0  93.0  0.0  45.0  11.0  0.0  45.0  10.0  ...   \n",
       "2       4             2  2.0  95.0  0.0  45.0  11.0  0.0  45.0  10.0  ...   \n",
       "3       0             0  0.0   0.0  0.0   0.0   0.0  0.0   0.0   0.0  ...   \n",
       "4       1             0  0.0   0.0  0.0   0.0   0.0  0.0   0.0   0.0  ...   \n",
       "..    ...           ...  ...   ...  ...   ...   ...  ...   ...   ...  ...   \n",
       "305     5             2  2.0  91.0  0.0  45.0  10.0  0.0  51.0  10.0  ...   \n",
       "306     4             2  2.0  96.0  0.0  45.0  11.0  0.0  45.0  10.0  ...   \n",
       "307     5             2  2.0  91.0  0.0  45.0  10.0  0.0  50.0  10.0  ...   \n",
       "308     5             2  2.0  95.0  0.0  45.0  10.0  0.0  51.0  10.0  ...   \n",
       "309     5             2  2.0  87.0  0.0  45.0  10.0  0.0  51.0  10.0  ...   \n",
       "\n",
       "     X_2866  X_2867  X_2868  X_2869  X_2870  X_2871  X_2872  X_2873  X_2874  \\\n",
       "0       0.0     0.0     0.0     0.0     0.0     0.0     0.0     0.0     0.0   \n",
       "1       0.0     0.0     0.0     0.0     0.0     0.0     0.0     0.0     0.0   \n",
       "2       0.0     0.0     0.0     0.0     0.0     0.0     0.0     0.0     0.0   \n",
       "3       0.0     0.0     0.0     0.0     0.0     0.0     0.0     0.0     0.0   \n",
       "4       0.0     0.0     0.0     0.0     0.0     0.0     0.0     0.0     0.0   \n",
       "..      ...     ...     ...     ...     ...     ...     ...     ...     ...   \n",
       "305     0.0     0.0     0.0     0.0     0.0     0.0     0.0     0.0     0.0   \n",
       "306     0.0     0.0     0.0     0.0     0.0     0.0     0.0     0.0     0.0   \n",
       "307     0.0     0.0     0.0     0.0     0.0     0.0     0.0     0.0     0.0   \n",
       "308     0.0     0.0     0.0     0.0     0.0     0.0     0.0     0.0     0.0   \n",
       "309     0.0     0.0     0.0     0.0     0.0     0.0     0.0     0.0     0.0   \n",
       "\n",
       "     X_2875  \n",
       "0       0.0  \n",
       "1       0.0  \n",
       "2       0.0  \n",
       "3       0.0  \n",
       "4       0.0  \n",
       "..      ...  \n",
       "305     0.0  \n",
       "306     0.0  \n",
       "307     0.0  \n",
       "308     0.0  \n",
       "309     0.0  \n",
       "\n",
       "[310 rows x 2877 columns]"
      ]
     },
     "execution_count": 69,
     "metadata": {},
     "output_type": "execute_result"
    }
   ],
   "source": [
    "test"
   ]
  }
 ],
 "metadata": {
  "kernelspec": {
   "display_name": "Python 3 (ipykernel)",
   "language": "python",
   "name": "python3"
  },
  "language_info": {
   "codemirror_mode": {
    "name": "ipython",
    "version": 3
   },
   "file_extension": ".py",
   "mimetype": "text/x-python",
   "name": "python",
   "nbconvert_exporter": "python",
   "pygments_lexer": "ipython3",
   "version": "3.9.12"
  }
 },
 "nbformat": 4,
 "nbformat_minor": 5
}
